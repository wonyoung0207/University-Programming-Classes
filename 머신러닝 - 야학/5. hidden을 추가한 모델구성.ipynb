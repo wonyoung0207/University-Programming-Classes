{
  "nbformat": 4,
  "nbformat_minor": 0,
  "metadata": {
    "colab": {
      "name": "Untitled7.ipynb",
      "provenance": []
    },
    "kernelspec": {
      "name": "python3",
      "display_name": "Python 3"
    }
  },
  "cells": [
    {
      "cell_type": "code",
      "metadata": {
        "id": "OpyOcTjAGKy2",
        "colab_type": "code",
        "colab": {}
      },
      "source": [
        "#라이브러리 생성\n",
        "import tensorflow as tf\n",
        "import pandas as pd\n"
      ],
      "execution_count": 1,
      "outputs": []
    },
    {
      "cell_type": "code",
      "metadata": {
        "id": "tecAJeqEHuuA",
        "colab_type": "code",
        "colab": {
          "base_uri": "https://localhost:8080/",
          "height": 258
        },
        "outputId": "f8edc494-f9fb-47cd-f1c3-ee11ef72a5e5"
      },
      "source": [
        "#과거 데이터 준비\n",
        "파일경로 = 'https://raw.githubusercontent.com/blackdew/tensorflow1/master/csv/boston.csv'\n",
        "보스턴 = pd.read_csv(파일경로)\n",
        "print(보스턴.columns)\n",
        "보스턴.head()\n"
      ],
      "execution_count": 5,
      "outputs": [
        {
          "output_type": "stream",
          "text": [
            "Index(['crim', 'zn', 'indus', 'chas', 'nox', 'rm', 'age', 'dis', 'rad', 'tax',\n",
            "       'ptratio', 'b', 'lstat', 'medv'],\n",
            "      dtype='object')\n"
          ],
          "name": "stdout"
        },
        {
          "output_type": "execute_result",
          "data": {
            "text/html": [
              "<div>\n",
              "<style scoped>\n",
              "    .dataframe tbody tr th:only-of-type {\n",
              "        vertical-align: middle;\n",
              "    }\n",
              "\n",
              "    .dataframe tbody tr th {\n",
              "        vertical-align: top;\n",
              "    }\n",
              "\n",
              "    .dataframe thead th {\n",
              "        text-align: right;\n",
              "    }\n",
              "</style>\n",
              "<table border=\"1\" class=\"dataframe\">\n",
              "  <thead>\n",
              "    <tr style=\"text-align: right;\">\n",
              "      <th></th>\n",
              "      <th>crim</th>\n",
              "      <th>zn</th>\n",
              "      <th>indus</th>\n",
              "      <th>chas</th>\n",
              "      <th>nox</th>\n",
              "      <th>rm</th>\n",
              "      <th>age</th>\n",
              "      <th>dis</th>\n",
              "      <th>rad</th>\n",
              "      <th>tax</th>\n",
              "      <th>ptratio</th>\n",
              "      <th>b</th>\n",
              "      <th>lstat</th>\n",
              "      <th>medv</th>\n",
              "    </tr>\n",
              "  </thead>\n",
              "  <tbody>\n",
              "    <tr>\n",
              "      <th>0</th>\n",
              "      <td>0.00632</td>\n",
              "      <td>18.0</td>\n",
              "      <td>2.31</td>\n",
              "      <td>0</td>\n",
              "      <td>0.538</td>\n",
              "      <td>6.575</td>\n",
              "      <td>65.2</td>\n",
              "      <td>4.0900</td>\n",
              "      <td>1</td>\n",
              "      <td>296</td>\n",
              "      <td>15.3</td>\n",
              "      <td>396.90</td>\n",
              "      <td>4.98</td>\n",
              "      <td>24.0</td>\n",
              "    </tr>\n",
              "    <tr>\n",
              "      <th>1</th>\n",
              "      <td>0.02731</td>\n",
              "      <td>0.0</td>\n",
              "      <td>7.07</td>\n",
              "      <td>0</td>\n",
              "      <td>0.469</td>\n",
              "      <td>6.421</td>\n",
              "      <td>78.9</td>\n",
              "      <td>4.9671</td>\n",
              "      <td>2</td>\n",
              "      <td>242</td>\n",
              "      <td>17.8</td>\n",
              "      <td>396.90</td>\n",
              "      <td>9.14</td>\n",
              "      <td>21.6</td>\n",
              "    </tr>\n",
              "    <tr>\n",
              "      <th>2</th>\n",
              "      <td>0.02729</td>\n",
              "      <td>0.0</td>\n",
              "      <td>7.07</td>\n",
              "      <td>0</td>\n",
              "      <td>0.469</td>\n",
              "      <td>7.185</td>\n",
              "      <td>61.1</td>\n",
              "      <td>4.9671</td>\n",
              "      <td>2</td>\n",
              "      <td>242</td>\n",
              "      <td>17.8</td>\n",
              "      <td>392.83</td>\n",
              "      <td>4.03</td>\n",
              "      <td>34.7</td>\n",
              "    </tr>\n",
              "    <tr>\n",
              "      <th>3</th>\n",
              "      <td>0.03237</td>\n",
              "      <td>0.0</td>\n",
              "      <td>2.18</td>\n",
              "      <td>0</td>\n",
              "      <td>0.458</td>\n",
              "      <td>6.998</td>\n",
              "      <td>45.8</td>\n",
              "      <td>6.0622</td>\n",
              "      <td>3</td>\n",
              "      <td>222</td>\n",
              "      <td>18.7</td>\n",
              "      <td>394.63</td>\n",
              "      <td>2.94</td>\n",
              "      <td>33.4</td>\n",
              "    </tr>\n",
              "    <tr>\n",
              "      <th>4</th>\n",
              "      <td>0.06905</td>\n",
              "      <td>0.0</td>\n",
              "      <td>2.18</td>\n",
              "      <td>0</td>\n",
              "      <td>0.458</td>\n",
              "      <td>7.147</td>\n",
              "      <td>54.2</td>\n",
              "      <td>6.0622</td>\n",
              "      <td>3</td>\n",
              "      <td>222</td>\n",
              "      <td>18.7</td>\n",
              "      <td>396.90</td>\n",
              "      <td>5.33</td>\n",
              "      <td>36.2</td>\n",
              "    </tr>\n",
              "  </tbody>\n",
              "</table>\n",
              "</div>"
            ],
            "text/plain": [
              "      crim    zn  indus  chas    nox  ...  tax  ptratio       b  lstat  medv\n",
              "0  0.00632  18.0   2.31     0  0.538  ...  296     15.3  396.90   4.98  24.0\n",
              "1  0.02731   0.0   7.07     0  0.469  ...  242     17.8  396.90   9.14  21.6\n",
              "2  0.02729   0.0   7.07     0  0.469  ...  242     17.8  392.83   4.03  34.7\n",
              "3  0.03237   0.0   2.18     0  0.458  ...  222     18.7  394.63   2.94  33.4\n",
              "4  0.06905   0.0   2.18     0  0.458  ...  222     18.7  396.90   5.33  36.2\n",
              "\n",
              "[5 rows x 14 columns]"
            ]
          },
          "metadata": {
            "tags": []
          },
          "execution_count": 5
        }
      ]
    },
    {
      "cell_type": "code",
      "metadata": {
        "id": "ScssMYtPH-a0",
        "colab_type": "code",
        "colab": {
          "base_uri": "https://localhost:8080/",
          "height": 35
        },
        "outputId": "34dc4eab-95f3-44b9-ec4e-1b8df3439ecb"
      },
      "source": [
        "#종속변수, 독립변수 나누기\n",
        "\n",
        "종속 = 보스턴[['medv']]\n",
        "독립 = 보스턴[['crim', 'zn', 'indus', 'chas', 'nox', 'rm', 'age', 'dis', 'rad', 'tax',\n",
        "       'ptratio', 'b', 'lstat']]\n",
        "print(종속.shape,독립.shape)"
      ],
      "execution_count": 9,
      "outputs": [
        {
          "output_type": "stream",
          "text": [
            "(506, 1) (506, 13)\n"
          ],
          "name": "stdout"
        }
      ]
    },
    {
      "cell_type": "code",
      "metadata": {
        "id": "Ic4VS-nmIZXQ",
        "colab_type": "code",
        "colab": {}
      },
      "source": [
        "#모델 만들기\n",
        "\n",
        "x = tf.keras.layers.Input(shape=[13])\n",
        "#hidden layer 를 추가한다. \n",
        "h = tf.keras.layers.Dense(10,activation='swish')(x)\n",
        "#마지막 output값에 입력되는 것은 hidden layer 이다.\n",
        "y = tf.keras.layers.Dense(1)(h)\n",
        "\n",
        "model = tf.keras.models.Model(x,y)\n",
        "model.compile(loss='mse')\n"
      ],
      "execution_count": 10,
      "outputs": []
    },
    {
      "cell_type": "code",
      "metadata": {
        "id": "cLxAltajJtrc",
        "colab_type": "code",
        "colab": {
          "base_uri": "https://localhost:8080/",
          "height": 269
        },
        "outputId": "ac95be3f-091a-4dc6-de4a-01b986457451"
      },
      "source": [
        "#모델이 원하는 구조로로 만들어졌는지 확인하기\n",
        "#13개의 input과 하나의 bias가 hidden 10개로 만들어진다.\n",
        "#(13+1) * 10 = 140\n",
        "\n",
        "model.summary()"
      ],
      "execution_count": 12,
      "outputs": [
        {
          "output_type": "stream",
          "text": [
            "Model: \"functional_1\"\n",
            "_________________________________________________________________\n",
            "Layer (type)                 Output Shape              Param #   \n",
            "=================================================================\n",
            "input_1 (InputLayer)         [(None, 13)]              0         \n",
            "_________________________________________________________________\n",
            "dense (Dense)                (None, 10)                140       \n",
            "_________________________________________________________________\n",
            "dense_1 (Dense)              (None, 1)                 11        \n",
            "=================================================================\n",
            "Total params: 151\n",
            "Trainable params: 151\n",
            "Non-trainable params: 0\n",
            "_________________________________________________________________\n"
          ],
          "name": "stdout"
        }
      ]
    },
    {
      "cell_type": "code",
      "metadata": {
        "id": "JSJc02REJwjp",
        "colab_type": "code",
        "colab": {
          "base_uri": "https://localhost:8080/",
          "height": 395
        },
        "outputId": "b73e1f4b-632b-4da4-8da9-092b63ea2f07"
      },
      "source": [
        "#모델을 학습시킨다.\n",
        "\n",
        "model.fit(독립,종속,epochs=1000,verbose=0)\n",
        "model.fit(독립,종속,epochs=10)\n",
        "\n"
      ],
      "execution_count": 13,
      "outputs": [
        {
          "output_type": "stream",
          "text": [
            "Epoch 1/10\n",
            "16/16 [==============================] - 0s 1ms/step - loss: 24.7395\n",
            "Epoch 2/10\n",
            "16/16 [==============================] - 0s 942us/step - loss: 25.0100\n",
            "Epoch 3/10\n",
            "16/16 [==============================] - 0s 856us/step - loss: 25.7368\n",
            "Epoch 4/10\n",
            "16/16 [==============================] - 0s 1ms/step - loss: 24.2546\n",
            "Epoch 5/10\n",
            "16/16 [==============================] - 0s 1ms/step - loss: 25.9481\n",
            "Epoch 6/10\n",
            "16/16 [==============================] - 0s 1000us/step - loss: 22.8239\n",
            "Epoch 7/10\n",
            "16/16 [==============================] - 0s 1ms/step - loss: 27.2706\n",
            "Epoch 8/10\n",
            "16/16 [==============================] - 0s 967us/step - loss: 23.8995\n",
            "Epoch 9/10\n",
            "16/16 [==============================] - 0s 1ms/step - loss: 26.3193\n",
            "Epoch 10/10\n",
            "16/16 [==============================] - 0s 917us/step - loss: 25.8653\n"
          ],
          "name": "stdout"
        },
        {
          "output_type": "execute_result",
          "data": {
            "text/plain": [
              "<tensorflow.python.keras.callbacks.History at 0x7faa3fb18320>"
            ]
          },
          "metadata": {
            "tags": []
          },
          "execution_count": 13
        }
      ]
    },
    {
      "cell_type": "code",
      "metadata": {
        "id": "0Hf6TCU0Kg1W",
        "colab_type": "code",
        "colab": {
          "base_uri": "https://localhost:8080/",
          "height": 215
        },
        "outputId": "687bc261-b93d-40aa-b9cb-daa32171be39"
      },
      "source": [
        "#모델을 이용해 독립값(원인)으로 종속(결과)값 구하기\n",
        "\n",
        "print(model.predict(독립[:5]))#0부터5까지 \n",
        "print(종속[:5])\n"
      ],
      "execution_count": 15,
      "outputs": [
        {
          "output_type": "stream",
          "text": [
            "[[30.352526]\n",
            " [23.435894]\n",
            " [30.115477]\n",
            " [29.890715]\n",
            " [28.245613]]\n",
            "   medv\n",
            "0  24.0\n",
            "1  21.6\n",
            "2  34.7\n",
            "3  33.4\n",
            "4  36.2\n"
          ],
          "name": "stdout"
        }
      ]
    },
    {
      "cell_type": "code",
      "metadata": {
        "id": "U9zaDmTKK3MF",
        "colab_type": "code",
        "colab": {
          "base_uri": "https://localhost:8080/",
          "height": 1000
        },
        "outputId": "5a524881-46e5-4a02-8d92-6858a01eb687"
      },
      "source": [
        "# 모델의 수식 확인\n",
        "print(model.get_weights())"
      ],
      "execution_count": 17,
      "outputs": [
        {
          "output_type": "stream",
          "text": [
            "[array([[-4.00487870e-01, -3.63638103e-01,  2.79752016e-02,\n",
            "        -4.22367394e-01,  3.27648818e-01, -2.18535185e-01,\n",
            "        -2.92952675e-02,  5.10829449e-01, -4.80344236e-01,\n",
            "        -2.72272348e-01],\n",
            "       [-1.13110065e-01, -2.05138087e-01, -1.24679357e-01,\n",
            "         3.40672731e-02,  1.47967681e-01, -2.80647993e-01,\n",
            "        -8.90704617e-02, -2.82201767e-01, -4.66496795e-01,\n",
            "        -1.62586346e-02],\n",
            "       [-4.61693518e-02, -4.88062203e-01,  3.53293478e-01,\n",
            "        -3.25649381e-01,  4.77157570e-02,  7.88855329e-02,\n",
            "        -2.51284033e-01,  2.52733260e-01,  2.14519858e-01,\n",
            "        -8.16490129e-02],\n",
            "       [ 1.78823984e+00,  3.87284815e-01, -4.64903623e-01,\n",
            "        -6.40642941e-02,  1.21706879e+00,  1.28005898e+00,\n",
            "         1.36014283e+00, -7.87925541e-01, -3.75430763e-01,\n",
            "        -1.17200267e+00],\n",
            "       [-1.40357554e-01,  2.74593741e-01, -2.69523740e-01,\n",
            "        -4.59846377e-01, -3.14885408e-01, -8.18355158e-02,\n",
            "         1.11151777e-01, -1.88737169e-01,  2.66104817e-01,\n",
            "         1.18574038e-01],\n",
            "       [ 1.72938657e+00, -5.66887140e-01,  1.49856567e-01,\n",
            "         1.29228175e-01,  1.10044312e+00,  7.99440086e-01,\n",
            "        -4.62368224e-03, -1.15542185e+00,  2.61334360e-01,\n",
            "        -8.66633356e-01],\n",
            "       [-5.29675424e-01, -3.28720778e-01,  3.14289629e-01,\n",
            "        -7.21721947e-02, -3.05128664e-01,  2.33870119e-01,\n",
            "         1.97928250e-01, -2.14320779e-01,  1.90354824e-01,\n",
            "        -2.87599742e-01],\n",
            "       [-1.17678094e+00, -5.79090953e-01,  3.76488984e-01,\n",
            "         1.33095086e-01, -4.89866763e-01, -2.63149682e-02,\n",
            "         1.11054815e-01,  3.49754214e-01, -2.65236706e-01,\n",
            "         2.04207644e-01],\n",
            "       [ 8.36393058e-01,  7.86560122e-03, -3.16023827e-04,\n",
            "        -1.07800722e-01,  4.18682039e-01,  5.83508760e-02,\n",
            "         5.67087485e-03,  2.44003847e-01,  2.11334646e-01,\n",
            "         1.78363174e-01],\n",
            "       [-1.11204451e-02,  2.15900969e-02, -4.78627592e-01,\n",
            "        -2.89515495e-01,  3.46127331e-01,  3.10939789e-01,\n",
            "        -8.38829018e-03,  5.88940203e-01, -2.24622518e-01,\n",
            "         1.10095583e-01],\n",
            "       [-9.25622284e-01, -3.49358439e-01,  1.58396542e-01,\n",
            "        -2.91409075e-01,  1.01881161e-01,  7.86798149e-02,\n",
            "        -3.71894747e-01,  7.13552833e-01,  5.61604500e-02,\n",
            "         5.25533818e-02],\n",
            "       [ 2.06256926e-01, -3.26551080e-01, -5.23495674e-02,\n",
            "        -2.32920885e-01,  1.97991684e-01,  2.74564624e-01,\n",
            "        -4.29555513e-02,  4.40620154e-01, -4.11257654e-01,\n",
            "         5.00522777e-02],\n",
            "       [-1.36976326e+00,  2.76454091e-01,  2.25061297e-01,\n",
            "         4.89666402e-01, -3.38239461e-01, -8.49978179e-02,\n",
            "        -1.42857209e-01,  2.70072073e-01, -3.76587093e-01,\n",
            "        -7.63334408e-02]], dtype=float32), array([ 1.5422413e-01, -1.4852813e-01,  1.9998965e-18,  0.0000000e+00,\n",
            "        2.7520287e-01,  2.7549875e-01, -1.7371878e-01, -2.9501206e-01,\n",
            "        0.0000000e+00, -2.8293556e-01], dtype=float32), array([[ 0.42214975],\n",
            "       [ 0.1783755 ],\n",
            "       [-0.6898061 ],\n",
            "       [ 0.32141775],\n",
            "       [ 0.5648636 ],\n",
            "       [ 0.57972246],\n",
            "       [ 2.4475553 ],\n",
            "       [-0.56491494],\n",
            "       [-0.55547464],\n",
            "       [-0.47459993]], dtype=float32), array([0.28516924], dtype=float32)]\n"
          ],
          "name": "stdout"
        }
      ]
    },
    {
      "cell_type": "code",
      "metadata": {
        "id": "M-sV08R9K8sq",
        "colab_type": "code",
        "colab": {}
      },
      "source": [
        "#아이리스 품종 분류 -> 종속이 범주(이름)로 되어있어 원핫인코딩 필요\n",
        "\n",
        "파일경로 = 'https://raw.githubusercontent.com/blackdew/tensorflow1/master/csv/iris.csv'\n",
        "아이리스 = pd.read_csv(파일경로)\n"
      ],
      "execution_count": 18,
      "outputs": []
    },
    {
      "cell_type": "code",
      "metadata": {
        "id": "TMO94wWXLK-E",
        "colab_type": "code",
        "colab": {
          "base_uri": "https://localhost:8080/",
          "height": 258
        },
        "outputId": "337469e8-e9e1-41fd-819f-1a2896329cdc"
      },
      "source": [
        "#원핫인코딩을 이용해 종속값에 있는 이름을 숫자형으로 변환\n",
        "\n",
        "아이리스 = pd.get_dummies(아이리스)\n",
        "print(아이리스.columns)\n",
        "아이리스.head()\n"
      ],
      "execution_count": 23,
      "outputs": [
        {
          "output_type": "stream",
          "text": [
            "Index(['꽃잎길이', '꽃잎폭', '꽃받침길이', '꽃받침폭', '품종_setosa', '품종_versicolor',\n",
            "       '품종_virginica'],\n",
            "      dtype='object')\n"
          ],
          "name": "stdout"
        },
        {
          "output_type": "execute_result",
          "data": {
            "text/html": [
              "<div>\n",
              "<style scoped>\n",
              "    .dataframe tbody tr th:only-of-type {\n",
              "        vertical-align: middle;\n",
              "    }\n",
              "\n",
              "    .dataframe tbody tr th {\n",
              "        vertical-align: top;\n",
              "    }\n",
              "\n",
              "    .dataframe thead th {\n",
              "        text-align: right;\n",
              "    }\n",
              "</style>\n",
              "<table border=\"1\" class=\"dataframe\">\n",
              "  <thead>\n",
              "    <tr style=\"text-align: right;\">\n",
              "      <th></th>\n",
              "      <th>꽃잎길이</th>\n",
              "      <th>꽃잎폭</th>\n",
              "      <th>꽃받침길이</th>\n",
              "      <th>꽃받침폭</th>\n",
              "      <th>품종_setosa</th>\n",
              "      <th>품종_versicolor</th>\n",
              "      <th>품종_virginica</th>\n",
              "    </tr>\n",
              "  </thead>\n",
              "  <tbody>\n",
              "    <tr>\n",
              "      <th>0</th>\n",
              "      <td>5.1</td>\n",
              "      <td>3.5</td>\n",
              "      <td>1.4</td>\n",
              "      <td>0.2</td>\n",
              "      <td>1</td>\n",
              "      <td>0</td>\n",
              "      <td>0</td>\n",
              "    </tr>\n",
              "    <tr>\n",
              "      <th>1</th>\n",
              "      <td>4.9</td>\n",
              "      <td>3.0</td>\n",
              "      <td>1.4</td>\n",
              "      <td>0.2</td>\n",
              "      <td>1</td>\n",
              "      <td>0</td>\n",
              "      <td>0</td>\n",
              "    </tr>\n",
              "    <tr>\n",
              "      <th>2</th>\n",
              "      <td>4.7</td>\n",
              "      <td>3.2</td>\n",
              "      <td>1.3</td>\n",
              "      <td>0.2</td>\n",
              "      <td>1</td>\n",
              "      <td>0</td>\n",
              "      <td>0</td>\n",
              "    </tr>\n",
              "    <tr>\n",
              "      <th>3</th>\n",
              "      <td>4.6</td>\n",
              "      <td>3.1</td>\n",
              "      <td>1.5</td>\n",
              "      <td>0.2</td>\n",
              "      <td>1</td>\n",
              "      <td>0</td>\n",
              "      <td>0</td>\n",
              "    </tr>\n",
              "    <tr>\n",
              "      <th>4</th>\n",
              "      <td>5.0</td>\n",
              "      <td>3.6</td>\n",
              "      <td>1.4</td>\n",
              "      <td>0.2</td>\n",
              "      <td>1</td>\n",
              "      <td>0</td>\n",
              "      <td>0</td>\n",
              "    </tr>\n",
              "  </tbody>\n",
              "</table>\n",
              "</div>"
            ],
            "text/plain": [
              "   꽃잎길이  꽃잎폭  꽃받침길이  꽃받침폭  품종_setosa  품종_versicolor  품종_virginica\n",
              "0   5.1  3.5    1.4   0.2          1              0             0\n",
              "1   4.9  3.0    1.4   0.2          1              0             0\n",
              "2   4.7  3.2    1.3   0.2          1              0             0\n",
              "3   4.6  3.1    1.5   0.2          1              0             0\n",
              "4   5.0  3.6    1.4   0.2          1              0             0"
            ]
          },
          "metadata": {
            "tags": []
          },
          "execution_count": 23
        }
      ]
    },
    {
      "cell_type": "code",
      "metadata": {
        "id": "ePFGNBbLLUTf",
        "colab_type": "code",
        "colab": {
          "base_uri": "https://localhost:8080/",
          "height": 35
        },
        "outputId": "1d18d90f-9c5c-4c87-85c3-e2b823b20ba5"
      },
      "source": [
        "#종속변수, 독립변수 나눠주가\n",
        "\n",
        "독립 = 아이리스[['꽃잎길이', '꽃잎폭', '꽃받침길이', '꽃받침폭']]\n",
        "종속 = 아이리스[['품종_setosa', '품종_versicolor','품종_virginica']]\n",
        "\n",
        "print(독립.shape,종속.shape)"
      ],
      "execution_count": 25,
      "outputs": [
        {
          "output_type": "stream",
          "text": [
            "(150, 4) (150, 3)\n"
          ],
          "name": "stdout"
        }
      ]
    },
    {
      "cell_type": "code",
      "metadata": {
        "id": "e94i6E18LvF0",
        "colab_type": "code",
        "colab": {}
      },
      "source": [
        "#hidden layer를 포함한 모델 구조 설계\n",
        "#output에 꼭!! softmax적용시켜줘야함.\n",
        "\n",
        "x = tf.keras.layers.Input(shape = 4)\n",
        "h = tf.keras.layers.Dense(8,activation='swish')(x)\n",
        "h = tf.keras.layers.Dense(8,activation='swish')(h)\n",
        "h = tf.keras.layers.Dense(8,activation='swish')(h)\n",
        "y = tf.keras.layers.Dense(3,activation='softmax')(h)\n",
        "\n",
        "model = tf.keras.models.Model(x,y)\n",
        "#종속변수가 범주형이기 때문에 loss를 msc가 아닌 entropy 써주고, 정확도를 보기위해 accuracy를 설정해준다.\n",
        "model.compile(loss='categorical_crossentropy',metrics='accuracy')\n"
      ],
      "execution_count": 44,
      "outputs": []
    },
    {
      "cell_type": "code",
      "metadata": {
        "id": "8W6LElJlNcne",
        "colab_type": "code",
        "colab": {
          "base_uri": "https://localhost:8080/",
          "height": 341
        },
        "outputId": "a4dfb623-cc8b-44c5-8601-c6b4e8d606df"
      },
      "source": [
        "model.summary()"
      ],
      "execution_count": 45,
      "outputs": [
        {
          "output_type": "stream",
          "text": [
            "Model: \"functional_7\"\n",
            "_________________________________________________________________\n",
            "Layer (type)                 Output Shape              Param #   \n",
            "=================================================================\n",
            "input_4 (InputLayer)         [(None, 4)]               0         \n",
            "_________________________________________________________________\n",
            "dense_10 (Dense)             (None, 8)                 40        \n",
            "_________________________________________________________________\n",
            "dense_11 (Dense)             (None, 8)                 72        \n",
            "_________________________________________________________________\n",
            "dense_12 (Dense)             (None, 8)                 72        \n",
            "_________________________________________________________________\n",
            "dense_13 (Dense)             (None, 3)                 27        \n",
            "=================================================================\n",
            "Total params: 211\n",
            "Trainable params: 211\n",
            "Non-trainable params: 0\n",
            "_________________________________________________________________\n"
          ],
          "name": "stdout"
        }
      ]
    },
    {
      "cell_type": "code",
      "metadata": {
        "id": "ArC5ZcDoNGUC",
        "colab_type": "code",
        "colab": {
          "base_uri": "https://localhost:8080/",
          "height": 395
        },
        "outputId": "f964d374-8633-42bb-be94-96a19c523a02"
      },
      "source": [
        "#모델을 학습시킨다.\n",
        "\n",
        "model.fit(독립,종속,epochs=1000,verbose = 0)\n",
        "model.fit(독립,종속,epochs=10)\n"
      ],
      "execution_count": 46,
      "outputs": [
        {
          "output_type": "stream",
          "text": [
            "Epoch 1/10\n",
            "5/5 [==============================] - 0s 2ms/step - loss: 0.0423 - accuracy: 0.9800\n",
            "Epoch 2/10\n",
            "5/5 [==============================] - 0s 1ms/step - loss: 0.0461 - accuracy: 0.9800\n",
            "Epoch 3/10\n",
            "5/5 [==============================] - 0s 1ms/step - loss: 0.0468 - accuracy: 0.9733\n",
            "Epoch 4/10\n",
            "5/5 [==============================] - 0s 1ms/step - loss: 0.0527 - accuracy: 0.9733\n",
            "Epoch 5/10\n",
            "5/5 [==============================] - 0s 2ms/step - loss: 0.0441 - accuracy: 0.9800\n",
            "Epoch 6/10\n",
            "5/5 [==============================] - 0s 2ms/step - loss: 0.0472 - accuracy: 0.9800\n",
            "Epoch 7/10\n",
            "5/5 [==============================] - 0s 2ms/step - loss: 0.0597 - accuracy: 0.9733\n",
            "Epoch 8/10\n",
            "5/5 [==============================] - 0s 2ms/step - loss: 0.0501 - accuracy: 0.9800\n",
            "Epoch 9/10\n",
            "5/5 [==============================] - 0s 1ms/step - loss: 0.0460 - accuracy: 0.9867\n",
            "Epoch 10/10\n",
            "5/5 [==============================] - 0s 1ms/step - loss: 0.0526 - accuracy: 0.9800\n"
          ],
          "name": "stdout"
        },
        {
          "output_type": "execute_result",
          "data": {
            "text/plain": [
              "<tensorflow.python.keras.callbacks.History at 0x7faa3bfd3a58>"
            ]
          },
          "metadata": {
            "tags": []
          },
          "execution_count": 46
        }
      ]
    },
    {
      "cell_type": "code",
      "metadata": {
        "id": "IraFhPZoNTlz",
        "colab_type": "code",
        "colab": {
          "base_uri": "https://localhost:8080/",
          "height": 215
        },
        "outputId": "f9ab7742-cd1e-4f54-d484-81a3c5743b00"
      },
      "source": [
        "#모델을 이용해 학습잘 되었나 확인하기\n",
        "\n",
        "print(종속[:5])#나와야 하는 결과\n",
        "model.predict(독립[:5])\n"
      ],
      "execution_count": 47,
      "outputs": [
        {
          "output_type": "stream",
          "text": [
            "   품종_setosa  품종_versicolor  품종_virginica\n",
            "0          1              0             0\n",
            "1          1              0             0\n",
            "2          1              0             0\n",
            "3          1              0             0\n",
            "4          1              0             0\n"
          ],
          "name": "stdout"
        },
        {
          "output_type": "execute_result",
          "data": {
            "text/plain": [
              "array([[9.9999976e-01, 2.5849573e-07, 7.8532742e-18],\n",
              "       [9.9999857e-01, 1.4154043e-06, 3.9078733e-16],\n",
              "       [9.9999905e-01, 9.6927010e-07, 1.7680009e-16],\n",
              "       [9.9999499e-01, 4.9779169e-06, 2.7148795e-15],\n",
              "       [9.9999976e-01, 2.7986567e-07, 7.8168394e-18]], dtype=float32)"
            ]
          },
          "metadata": {
            "tags": []
          },
          "execution_count": 47
        }
      ]
    },
    {
      "cell_type": "code",
      "metadata": {
        "id": "qZX-6TmjN7Ay",
        "colab_type": "code",
        "colab": {}
      },
      "source": [
        ""
      ],
      "execution_count": 47,
      "outputs": []
    }
  ]
}