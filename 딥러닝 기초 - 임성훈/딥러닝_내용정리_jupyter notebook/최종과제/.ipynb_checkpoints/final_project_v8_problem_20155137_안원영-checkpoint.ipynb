{
 "cells": [
  {
   "cell_type": "markdown",
   "metadata": {
    "colab_type": "text",
    "id": "ld6AGwRdpv5B"
   },
   "source": [
    "# 서약\n",
    "* 당연한 것을 아래와 같이 한번 다지고 가도록 하겠습니다. 아래 보고서는 **본인의 힘만으로 작성**해야하며, 다른 수강생에게 직접적인 질문, 복사 하는 행위는 모두 금지합니다 \n",
    "  * 예를 들어서, 본 프로젝트의 코드 셀을 완성하는데 직접적인 질문 또는 복사하는 경우는 모두 금지합니다\n",
    "  * 수업에서 제공한 코드, 노트북은 모두 재활용가능하며, 카피로 규정하지 않습니다\n",
    "  * 수업 자료 이외에 참고자료가 있다면, 출처와 사용 부분에 모두 표시해하는 경우는 모두 합당한 자료로 인정하겠습니다\n",
    "  \n",
    "* 위에 대해서 모두 이해하고 동의했다면, 아래 `서약글`에 다음을 작성해주세요:\n",
    "\n",
    "\"본인은 위 서약글을 이해하고 동의하며, 프로젝트를 수행하는데 있어서 반칙을 할 경우 (제공자 포함) 본 프로젝트에 대한 점수가 반영되지 않는다는 것에 동의 합니다.\""
   ]
  },
  {
   "cell_type": "markdown",
   "metadata": {
    "colab_type": "text",
    "id": "pxBqRt9Apv5C"
   },
   "source": [
    "**서약서**\n",
    "\n",
    "이름: 안원영\n",
    "\n",
    "학번: 20155137\n",
    "\n",
    "서약글: 본인은 위 서약글을 이해하고 동의하며, 프로젝트를 수행하는데 있어서 반칙을 할 경우 (제공자 포함) 본 프로젝트에 대한 점수가 반영되지 않는다는 것에 동의 합니다"
   ]
  },
  {
   "cell_type": "markdown",
   "metadata": {
    "colab_type": "text",
    "id": "iy5za_3-pv5C"
   },
   "source": [
    "# Final Project \n",
    "\n",
    "## Project: 강아지 품종을 분류하는 앱 제작\n",
    "\n",
    "## Due date: 6월 22일\n",
    "\n",
    "---\n",
    "\n",
    "* 프로젝트를 수행하는데 있어서, 본 설명서를 자세하게 읽고, 요구하는 바를 충실하게 수행하시기 바랍니다\n",
    "* 본 notebook에서는 부분적으로 코드와 설명이 들어 있습니다\n",
    "* 아래 여러 셀에서 코드를 완성하는 부분을 수행하고, 설명을 요구하는 부분은 markdown으로 설명을 최대한 자세하게 적어주세요. 기준은 본인이 이해하고 있다는 것을 표현할 수 있는 부분을 모두 적으시면 됩니다.\n",
    "  * 답을 작성하는 원칙은 **보고서**를 작성한다고 생각하시면 됩니다\n",
    "  * 내가 알고 있는 부분을 충실하게 **글로 표현** 하는 것 또한 중요한 연습입니다 \n",
    "  * 코드 작성은 **주석**으로 설명하시기 바랍니다\n",
    "  \n",
    "* 설명서에서 **'[답 작성]'** 라는 테그가 붙어 있는 부분은 모두 코드 작성을 요구하는 부분입니다\n",
    "* 각 작성을 요구하는 부분에 대해서 설명을 자세하게 읽고 답변하시기 바랍니다.\n",
    "\n",
    "\n",
    "\n",
    "> **제출방법**: \n",
    "모든 작성을 완료한 이후에는 다음 두가지를 제출합니다:\n",
    "\n",
    "1. 본 notebook을 최종 실행하여, 모든 셀의 결과가 표출된 형태로 `html`또는 `pdf` 파일로 저장하여 제출 (html, pdf 파일 저장은 아래의 부록 3에 설명되어 있습니다.)\n",
    "2. 완성된 notebook과 제공되지 않은 (새로 만들거나 사용한) 모든 자료를 압축하여 압축파일로 제출\n",
    "\n",
    "* 본 보고서에서는 코드 작성이외에도, 각 코드를 작성하는 방법론과 설명을 작성해야하는 **서술형 문제**도 포함되어 있습니다.\n",
    "* 서술형 문제는 채점하는 중요한 기준이 됩니다. 성실하게 작성해주세요.\n",
    "* 서술형 문제에 대한 답변은 'markdown' 형태로 셀에 포함하여 작성하면 됩니다. \n",
    "* Markdown 셀의 경우는 더블클릭으로 편집 할 수 있습니다\n",
    "\n",
    "\n",
    "\n",
    "\n",
    "---\n",
    "### 목표: 앱을 위한 인공지능 알고리즘 개발~\n",
    "\n",
    "* 본 보고서에서는 모바일/웹앱을 위한 인공지능 알고리즘을 개발하라는 업무를 부여받았다고 가정합니다\n",
    "* 프로젝트가 완성본은, 사용자가 제공하는 image를 받아서:\n",
    "1. 만약 image속에 개가 감지된다면, 프로그램은 개의 종(種)을 예측합니다\n",
    "2. 만약 사람의 image가 감지된다면, 프로그램은 그 사람과 가장 비슷하다고 생각하는 개의 종을 알려줍니다 \n",
    "3. 아래는 사진을 받았을 때에 프로그램 출력 예제입니다:\n",
    "\n",
    "![Sample Dog Output](https://drive.google.com/uc?export=view&id=1AjaH0XW1UtCTnqdWCDKZU2lg_ANIeQT7)\n",
    "\n",
    "위의 과제를 수행하기 위해서는 한개의 machine learning 모델로 구현하기 어렵습니다. \n",
    "아래 여러 단계적으로 구성을하여 완성하도록 합니다:\n",
    "\n",
    "### 프로젝트 완성하기 위한 단계\n",
    "\n",
    "아래 여러 단계로 진행합니다:\n",
    "\n",
    "* [Step 0](#step0): Dataset 준비하기\n",
    "* [Step 1](#step1): Detect Humans (human image 탐지)\n",
    "* [Step 2](#step2): Detect Dogs (dog image 탐지)\n",
    "* [Step 3](#step3): Create a CNN to Classify Dog Breeds (dog 종 예측 프로그램)\n",
    "* [Step 4](#step4): Create a CNN to Classify Dog Breeds (dog 종 예측 프로그램 2)\n",
    "* [Step 5](#step5): Make Dog Identification App\n",
    "* [Step 6](#step6): Test Dog Identification App"
   ]
  },
  {
   "cell_type": "code",
   "execution_count": 1,
   "metadata": {
    "colab": {},
    "colab_type": "code",
    "id": "dcOXX68wpv5D"
   },
   "outputs": [],
   "source": [
    "import numpy as np\n",
    "from glob import glob\n",
    "import random\n",
    "import cv2                \n",
    "import os\n",
    "from pathlib import Path\n",
    "from tqdm import tqdm\n",
    "import torchvision\n",
    "from torchvision import datasets\n",
    "import torch\n",
    "from torch.utils.data.sampler import SubsetRandomSampler\n",
    "import torchvision.models as models\n",
    "import torchvision.transforms as transforms\n",
    "from torch.autograd import Variable\n",
    "import torch.nn as nn\n",
    "import torch.nn.functional as F\n",
    "import torch.optim as optimizer\n",
    "from PIL import ImageFile\n",
    "from PIL import Image\n",
    "import IPython\n",
    "import matplotlib.pyplot as plt\n",
    "%matplotlib inline\n",
    "%config InlineBackend.figure_format = 'retina'"
   ]
  },
  {
   "cell_type": "markdown",
   "metadata": {
    "colab_type": "text",
    "id": "ri0drixxpv5F"
   },
   "source": [
    "---\n",
    "<a id='step0'></a>\n",
    "## Step 0: Dataset 준비하기\n",
    "\n",
    "\n",
    "1. 아래 코드 셀은 google drive를 통해서 final project의 data를 받습니다.\n",
    "2. __haarcascades 폴더__는 이후 Step 1의 Detect Humans 부분에서 OpenCV에서 제공하는 얼굴인식 알고리즘파일이 존재하는 폴더입니다. \n",
    "3. __images 폴더__는 dataset인 human과 dog dataset으로 구성되어 있으며 해당 dataset이 존재하는 폴더입니다.\n",
    "4. __models 폴더__는 학습된 모델을 저장하기 위한 폴더 입니다.\n",
    "5. __myImg 폴더__는 만들어진 App을 테스트 할때 사용할 이미지를 넣는 폴더입니다.\n",
    "6. 코드 셀을 통해 다운로드가 정상적으로 되지 않을 경우 아래 링크에서 직접 다운로드 받을 수 있습니다\n",
    "\n",
    "\n",
    "- Download the [final project data](https://drive.google.com/file/d/1vU_kIUMRIKg58HvZkPT367BMWPa5pWFH/view?usp=sharing).  프로젝트 notebook이 들어있는 경로에 `/haarcascades`, `/images`, `models`, `myImg` 폴더를 압축 풀기\n",
    "\n",
    "* 아래 셀을 실행해서 dataset을 준비합니다."
   ]
  },
  {
   "cell_type": "code",
   "execution_count": 2,
   "metadata": {
    "colab": {
     "base_uri": "https://localhost:8080/",
     "height": 35
    },
    "colab_type": "code",
    "id": "hHWQImsmpv5G",
    "outputId": "1d9b5655-5cf8-4c96-bbc3-f47a563c76bc"
   },
   "outputs": [
    {
     "name": "stdout",
     "output_type": "stream",
     "text": [
      "Requirement already satisfied: googledrivedownloader in /usr/local/lib/python3.6/dist-packages (0.4)\n"
     ]
    }
   ],
   "source": [
    "# 해당 모듈이 필요합니다! 셀을 실행하여 설치하세요.\n",
    "!pip install googledrivedownloader"
   ]
  },
  {
   "cell_type": "code",
   "execution_count": 3,
   "metadata": {
    "colab": {
     "base_uri": "https://localhost:8080/",
     "height": 35
    },
    "colab_type": "code",
    "id": "vhkU8aufpv5I",
    "outputId": "c5ce48e7-6dc6-41ed-85e4-fa84af67e29e"
   },
   "outputs": [
    {
     "name": "stdout",
     "output_type": "stream",
     "text": [
      "Downloading 1BIYPxeq6gIi1sRsIplPgGGdlrJPUqES2 into ./final_project_data.zip... Done.\n"
     ]
    }
   ],
   "source": [
    "import os\n",
    "from zipfile import ZipFile\n",
    "from google_drive_downloader import GoogleDriveDownloader as gdd\n",
    "\n",
    "\n",
    "gdd.download_file_from_google_drive(file_id='1BIYPxeq6gIi1sRsIplPgGGdlrJPUqES2', dest_path='./final_project_data.zip')\n",
    "with ZipFile('./final_project_data.zip', 'r') as f:\n",
    "    f.extractall()\n",
    "os.remove('./final_project_data.zip')"
   ]
  },
  {
   "cell_type": "markdown",
   "metadata": {
    "colab_type": "text",
    "id": "cUMCBw4jpv5K"
   },
   "source": [
    "아래 셀을 실행하여, dataset이 잘 준비되었는지 확인합니다:\n",
    "```\n",
    "총 13233 개의 human images가 있습니다.\n",
    "총 8351 개의 dog images가 있습니다. \n",
    "```"
   ]
  },
  {
   "cell_type": "code",
   "execution_count": 4,
   "metadata": {
    "colab": {
     "base_uri": "https://localhost:8080/",
     "height": 53
    },
    "colab_type": "code",
    "id": "HuMrebQApv5K",
    "outputId": "f73bd33b-465f-4db9-a354-172f66d38484"
   },
   "outputs": [
    {
     "name": "stdout",
     "output_type": "stream",
     "text": [
      "총 13233 개의 human images가 있습니다.\n",
      "총 8351 개의 dog images가 있습니다.\n"
     ]
    }
   ],
   "source": [
    "import random\n",
    "import numpy as np\n",
    "from glob import glob\n",
    "\n",
    "# load filenames for human and dog images\n",
    "human_files = np.array(glob(\"images/lfw/*/*\"))\n",
    "dog_files = np.array(glob(\"images/dogImages/*/*/*\"))\n",
    "\n",
    "random.shuffle(human_files)\n",
    "random.shuffle(dog_files)\n",
    "\n",
    "# print number of images in each dataset\n",
    "print('총 %d 개의 human images가 있습니다.' % len(human_files))\n",
    "print('총 %d 개의 dog images가 있습니다.' % len(dog_files))\n"
   ]
  },
  {
   "cell_type": "markdown",
   "metadata": {
    "colab_type": "text",
    "id": "V6BL2FGTpv5M"
   },
   "source": [
    "'human_files'와 'dog_files'를 확인하세요"
   ]
  },
  {
   "cell_type": "code",
   "execution_count": 5,
   "metadata": {
    "colab": {
     "base_uri": "https://localhost:8080/",
     "height": 125
    },
    "colab_type": "code",
    "id": "V5VqYAYepv5M",
    "outputId": "baa35a58-eba2-4ce8-ee96-0eb7e5df94cb"
   },
   "outputs": [
    {
     "data": {
      "text/plain": [
       "array(['images/lfw/Reyyan_Uzuner/Reyyan_Uzuner_0001.jpg',\n",
       "       'images/lfw/Vicki_Zhao_Wei/Vicki_Zhao_Wei_0001.jpg',\n",
       "       'images/lfw/Kieran_Prendergast/Kieran_Prendergast_0002.jpg', ...,\n",
       "       'images/lfw/Laura_Bush/Laura_Bush_0003.jpg',\n",
       "       'images/lfw/Marina_Anissina/Marina_Anissina_0001.jpg',\n",
       "       'images/lfw/Jacques_Rogge/Jacques_Rogge_0004.jpg'], dtype='<U91')"
      ]
     },
     "execution_count": 5,
     "metadata": {
      "tags": []
     },
     "output_type": "execute_result"
    }
   ],
   "source": [
    "human_files"
   ]
  },
  {
   "cell_type": "markdown",
   "metadata": {
    "colab_type": "text",
    "id": "b_Oe4RPypv5O"
   },
   "source": [
    "<a id='step1'></a>\n",
    "## Step 1: Detect Humans\n",
    "\n",
    "* 본 step 1에서는, openCV에서 제공하는 [Haar feature-based cascade classifiers](http://docs.opencv.org/trunk/d7/d8b/tutorial_py_face_detection.html)을 이용하여 사람의 얼굴을 인식하는 프로그램을 작성합니다\n",
    "\n",
    "* OpenCV는 다양한 image processing tool을 제공하는 python package 입니다. \n",
    "* 우리가 활용할 얼굴인식 알고리즘은 XML 파일로 저장되어 있으며, [github](https://github.com/opencv/opencv/tree/master/data/haarcascades)에서 다운 받을 수 있지만, 편의를 위해서 해당 XML 파일은 위의 Step 0: Dateset 준비하기 에서 다운로드 하였습니다.\n"
   ]
  },
  {
   "cell_type": "code",
   "execution_count": 6,
   "metadata": {
    "colab": {
     "base_uri": "https://localhost:8080/",
     "height": 286
    },
    "colab_type": "code",
    "id": "FkKfGQM-pv5P",
    "outputId": "c91dd9fe-bcbd-468b-8bc5-16960f851dfa"
   },
   "outputs": [
    {
     "name": "stdout",
     "output_type": "stream",
     "text": [
      "Number of faces detected: 1\n"
     ]
    },
    {
     "data": {
      "image/png": "[encoded data removed]",
      "text/plain": [
       "<Figure size 432x288 with 1 Axes>"
      ]
     },
     "metadata": {
      "image/png": {
       "height": 251,
       "width": 258
      },
      "needs_background": "light",
      "tags": []
     },
     "output_type": "display_data"
    }
   ],
   "source": [
    "import cv2\n",
    "import matplotlib.pyplot as plt\n",
    "%matplotlib inline\n",
    "\n",
    "# image에서 얼굴 detection 하는 XML 파일 적용\n",
    "face_cascade = cv2.CascadeClassifier('haarcascades/haarcascade_frontalface_alt.xml')\n",
    "\n",
    "# 색 (BGR) image 읽기 (경로를 받아서 image 읽기)\n",
    "img = cv2.imread(human_files[0])\n",
    "\n",
    "# BGR image 흑백 전환 (openCV haarcascade 적용을 위한 흑백 전환)\n",
    "gray = cv2.cvtColor(img, cv2.COLOR_BGR2GRAY)\n",
    "\n",
    "# 읽은 흑백 image에 얼굴탐지 알고리즘 적용\n",
    "faces = face_cascade.detectMultiScale(gray)\n",
    "\n",
    "\n",
    "# image에서 인식한 얼굴의 수를 확인\n",
    "print('Number of faces detected:', len(faces))\n",
    "\n",
    "# 인식한 얼굴에 사각 영역 표시하기\n",
    "for (x,y,w,h) in faces:\n",
    "    # add bounding box to color image\n",
    "    cv2.rectangle(img,(x,y),(x+w,y+h),(255,0,0),2)\n",
    "    \n",
    "# 표출을 위해서 BGR image를 RGB로 전환하기\n",
    "cv_rgb = cv2.cvtColor(img, cv2.COLOR_BGR2RGB)\n",
    "\n",
    "# display the image, along with bounding box\n",
    "plt.imshow(cv_rgb)\n",
    "plt.show()\n"
   ]
  },
  {
   "cell_type": "markdown",
   "metadata": {
    "colab_type": "text",
    "id": "mBFVzU1Apv5R"
   },
   "source": [
    "\n",
    "* 일반적으로 얼굴인식 알고리즘은 흑백으로 image를 전환하여 수행합니다\n",
    "* `detectMultiScale`함수는 `face_cascade`으로 받아온 얼굴인식 프로그램을 실행하며, 흑백 이미지를 input으로 받습니다\n",
    "\n",
    "* 위에서 `faces`는 인식한 얼굴을 기록한 numpy array입니다\n",
    "  * numpy array의 row는 각 인식한 얼굴의 좌표를 저장합니다\n",
    "  * 첫 2개 좌표는 (위에서 `x`와 `y`로 받은) 인식한 얼굴의 왼쪽 위 꼭지점의 좌표를\n",
    "  * 뒤 2개 좌표는 (위에서 `w`와 `h`로 받은) 인식한 얼굴의 넓이와 높이를 말해줍니다 (pixel 수)\n",
    "  \n",
    "  \n",
    "## **[문제 1]** 얼굴 인식 모듈\n",
    "\n",
    "위에서 사용된 코드로 직접 얼굴 인식 모듈을 구현하세요.\n",
    "\n",
    "* function name : `face_detector`\n",
    "  * input: `img_path`\n",
    "    * `img_path` : image가 저장되어 있는 경로 string\n",
    "  * output: `boolean`\n",
    "    * 사람 얼굴이 인식되었으면 `True` \n",
    "    * 사람 얼굴이 인식되지 않았으면 `False` \n",
    "    * [힌트] `face_cascade`의 결과 값의 길이가 0보다 큰지 확인하는 함수 작성\n"
   ]
  },
  {
   "cell_type": "markdown",
   "metadata": {
    "colab_type": "text",
    "id": "-xqqMC9gEfgl"
   },
   "source": [
    "**[답 작성]**"
   ]
  },
  {
   "cell_type": "code",
   "execution_count": 7,
   "metadata": {
    "colab": {
     "base_uri": "https://localhost:8080/",
     "height": 53
    },
    "colab_type": "code",
    "id": "jiQEVZpApv5R",
    "outputId": "04de18fc-0d2a-4332-d3a1-74ba3f415853"
   },
   "outputs": [
    {
     "name": "stdout",
     "output_type": "stream",
     "text": [
      "[[ 70  68 108 108]]\n",
      "<CascadeClassifier 0x7ff0cdb93d50>\n"
     ]
    }
   ],
   "source": [
    "# 문제 1 답 작성\n",
    "# img_path\n",
    "print(faces)\n",
    "print(face_cascade)\n",
    "\n",
    "def face_detector(img_path):\n",
    "  face_cascade = cv2.CascadeClassifier('haarcascades/haarcascade_frontalface_alt.xml')\n",
    "  img = cv2.imread(img_path)\n",
    "  gray = cv2.cvtColor(img, cv2.COLOR_BGR2GRAY)\n",
    "  faces = face_cascade.detectMultiScale(gray)\n",
    "\n",
    "  if len(faces) > 0:\n",
    "    return True\n",
    "  else:\n",
    "     return False\n",
    "    ### 답 작성 부분 ###"
   ]
  },
  {
   "cell_type": "markdown",
   "metadata": {
    "colab_type": "text",
    "id": "IlHZ9JFHpv5T"
   },
   "source": [
    "### 얼굴 인식 모듈 성능평가\n",
    "\n",
    "아래 코드 셀에 위에서 작성한 `face_detector` 함수의 성능을 확인해보세요 (결과는 아래 코드에서 출력합니다).\n",
    "\n",
    "1. 100개의 `human_files` image 중에서 사람얼굴을 인식한 경우는 몇% 인가요? \n",
    "2. 100개의 `dog_files` image 중에서 (잘못하여) 사람얼굴을 인식한 경우는 몇% 인가요?\n",
    "\n",
    "물론 이상적으로는 human images에 대해서는 100% 와 dog images는 0%의 사람얼굴 인식 의 결과가 나와야 하지만, 본 알고리즘은 완벽하지 않다는 것을 확인할 수 있습니다.\n",
    "\n",
    "아래 셀에서 각 항목별로 100개의 image를 추출하여 `human_files_short`와 `dog_files_short`로 준비하였습니다"
   ]
  },
  {
   "cell_type": "code",
   "execution_count": 8,
   "metadata": {
    "colab": {
     "base_uri": "https://localhost:8080/",
     "height": 143
    },
    "colab_type": "code",
    "id": "x5noyqGcpv5T",
    "outputId": "2726d2c8-48a0-4291-ccbc-2a61eed48644"
   },
   "outputs": [
    {
     "name": "stdout",
     "output_type": "stream",
     "text": [
      "['images/lfw/Reyyan_Uzuner/Reyyan_Uzuner_0001.jpg'\n",
      " 'images/lfw/Vicki_Zhao_Wei/Vicki_Zhao_Wei_0001.jpg'\n",
      " 'images/lfw/Kieran_Prendergast/Kieran_Prendergast_0002.jpg'\n",
      " 'images/lfw/Joshua_Gracin/Joshua_Gracin_0001.jpg'\n",
      " 'images/lfw/Hugo_Chavez/Hugo_Chavez_0017.jpg']\n",
      "human file에 대한 사람 얼굴인식률: 97.0%\n",
      "dog file에 대한 사람 얼굴 인식률: 18.0%\n"
     ]
    }
   ],
   "source": [
    "human_files_short = human_files[:100]\n",
    "print(human_files_short[:5])\n",
    "dog_files_short = dog_files[:100]\n",
    "\n",
    "## human_files_short와 dog_files_short에 face_detector algorithm의 성능을 확인하세요\n",
    "human_file = [face_detector(file) for file in human_files_short]\n",
    "dog_file = [face_detector(file) for file in dog_files_short]\n",
    "\n",
    "human_percentage = human_file.count(True) / len(human_file) * 100\n",
    "human_in_dog_percentange = dog_file.count(True) / len(dog_file) * 100\n",
    "\n",
    "##################################################\n",
    "\n",
    "print(\"human file에 대한 사람 얼굴인식률: {}%\".format(human_percentage))\n",
    "print(\"dog file에 대한 사람 얼굴 인식률: {}%\".format(human_in_dog_percentange))"
   ]
  },
  {
   "cell_type": "markdown",
   "metadata": {
    "colab_type": "text",
    "id": "nWUGp9l6pv5V"
   },
   "source": [
    "---\n",
    "<a id='step2'></a>\n",
    "## Step 2: Detect Dogs\n",
    "\n",
    "위에서 사람 얼굴 인식 모듈은 OpenCV를 통해서 구현했습니다.\n",
    "이번에는 dog detection 관련 모듈을 pytorch에서 [pre-trained model](http://pytorch.org/docs/master/torchvision/models.html)가져와서 구현하도록 합니다. Imagenet을 위한 구현 모델은 1000개의 class 분류를 하는데 있어서 dog의 종의 분류하는 class가 여러개 포함되어 있습니다!\n",
    "\n",
    "### Pre-trained VGG-16 Model 불러오기\n",
    "\n",
    "* 아래 코드는 [ImageNet](http://www.image-net.org/)의 방대한 자료를 통해서 미리 학습된 VGG-16 model 모델을 가져옵니다\n",
    "* ImageNet에서 분류하는 [1000 categories](https://gist.github.com/yrevar/942d3a0ac09ec9e5eb3a)를 링크에서 확인해보세요  "
   ]
  },
  {
   "cell_type": "code",
   "execution_count": 9,
   "metadata": {
    "colab": {
     "base_uri": "https://localhost:8080/",
     "height": 85,
     "referenced_widgets": [
      "101ca99009b94f11a08fd532e3f6cd0e",
      "f4bcc2faf2ef476191648276412fe9b3",
      "598c2f396fe04978bd4aaa321414695f",
      "a69a70f61b884cff9e954ff8ef7326e5",
      "f2e640f3ccaa4ceaba5be6b8f94deec2",
      "be677c423f6c4e7690f839e2e2d12d51",
      "3d2787b75a0345668fbeea35f76d8aa3",
      "275b1a24e75443d7a8a14fbb1dd307d3"
     ]
    },
    "colab_type": "code",
    "id": "cDpOYq0epv5V",
    "outputId": "da7826dc-3f0d-45cb-a626-7a4d393d7d00"
   },
   "outputs": [
    {
     "name": "stderr",
     "output_type": "stream",
     "text": [
      "Downloading: \"https://download.pytorch.org/models/vgg16-397923af.pth\" to /root/.cache/torch/checkpoints/vgg16-397923af.pth\n"
     ]
    },
    {
     "data": {
      "application/vnd.jupyter.widget-view+json": {
       "model_id": "101ca99009b94f11a08fd532e3f6cd0e",
       "version_major": 2,
       "version_minor": 0
      },
      "text/plain": [
       "HBox(children=(FloatProgress(value=0.0, max=553433881.0), HTML(value='')))"
      ]
     },
     "metadata": {
      "tags": []
     },
     "output_type": "display_data"
    },
    {
     "name": "stdout",
     "output_type": "stream",
     "text": [
      "\n"
     ]
    }
   ],
   "source": [
    "# define VGG16 model\n",
    "VGG16 = models.vgg16(pretrained=True)\n",
    "\n",
    "# check if CUDA is available\n",
    "use_cuda = torch.cuda.is_available()\n",
    "\n",
    "# move model to GPU if CUDA is available\n",
    "if use_cuda:\n",
    "    VGG16 = VGG16.cuda()"
   ]
  },
  {
   "cell_type": "markdown",
   "metadata": {
    "colab_type": "text",
    "id": "2m4QOjy9xYJH"
   },
   "source": [
    "* 아래 셀을 통해서 VGG16의 구조를 확인합니다."
   ]
  },
  {
   "cell_type": "code",
   "execution_count": 10,
   "metadata": {
    "colab": {
     "base_uri": "https://localhost:8080/",
     "height": 827
    },
    "colab_type": "code",
    "id": "axkSCRB-pv5W",
    "outputId": "3797bdd7-a4a1-4318-a33e-4dd422712ac1"
   },
   "outputs": [
    {
     "data": {
      "text/plain": [
       "VGG(\n",
       "  (features): Sequential(\n",
       "    (0): Conv2d(3, 64, kernel_size=(3, 3), stride=(1, 1), padding=(1, 1))\n",
       "    (1): ReLU(inplace=True)\n",
       "    (2): Conv2d(64, 64, kernel_size=(3, 3), stride=(1, 1), padding=(1, 1))\n",
       "    (3): ReLU(inplace=True)\n",
       "    (4): MaxPool2d(kernel_size=2, stride=2, padding=0, dilation=1, ceil_mode=False)\n",
       "    (5): Conv2d(64, 128, kernel_size=(3, 3), stride=(1, 1), padding=(1, 1))\n",
       "    (6): ReLU(inplace=True)\n",
       "    (7): Conv2d(128, 128, kernel_size=(3, 3), stride=(1, 1), padding=(1, 1))\n",
       "    (8): ReLU(inplace=True)\n",
       "    (9): MaxPool2d(kernel_size=2, stride=2, padding=0, dilation=1, ceil_mode=False)\n",
       "    (10): Conv2d(128, 256, kernel_size=(3, 3), stride=(1, 1), padding=(1, 1))\n",
       "    (11): ReLU(inplace=True)\n",
       "    (12): Conv2d(256, 256, kernel_size=(3, 3), stride=(1, 1), padding=(1, 1))\n",
       "    (13): ReLU(inplace=True)\n",
       "    (14): Conv2d(256, 256, kernel_size=(3, 3), stride=(1, 1), padding=(1, 1))\n",
       "    (15): ReLU(inplace=True)\n",
       "    (16): MaxPool2d(kernel_size=2, stride=2, padding=0, dilation=1, ceil_mode=False)\n",
       "    (17): Conv2d(256, 512, kernel_size=(3, 3), stride=(1, 1), padding=(1, 1))\n",
       "    (18): ReLU(inplace=True)\n",
       "    (19): Conv2d(512, 512, kernel_size=(3, 3), stride=(1, 1), padding=(1, 1))\n",
       "    (20): ReLU(inplace=True)\n",
       "    (21): Conv2d(512, 512, kernel_size=(3, 3), stride=(1, 1), padding=(1, 1))\n",
       "    (22): ReLU(inplace=True)\n",
       "    (23): MaxPool2d(kernel_size=2, stride=2, padding=0, dilation=1, ceil_mode=False)\n",
       "    (24): Conv2d(512, 512, kernel_size=(3, 3), stride=(1, 1), padding=(1, 1))\n",
       "    (25): ReLU(inplace=True)\n",
       "    (26): Conv2d(512, 512, kernel_size=(3, 3), stride=(1, 1), padding=(1, 1))\n",
       "    (27): ReLU(inplace=True)\n",
       "    (28): Conv2d(512, 512, kernel_size=(3, 3), stride=(1, 1), padding=(1, 1))\n",
       "    (29): ReLU(inplace=True)\n",
       "    (30): MaxPool2d(kernel_size=2, stride=2, padding=0, dilation=1, ceil_mode=False)\n",
       "  )\n",
       "  (avgpool): AdaptiveAvgPool2d(output_size=(7, 7))\n",
       "  (classifier): Sequential(\n",
       "    (0): Linear(in_features=25088, out_features=4096, bias=True)\n",
       "    (1): ReLU(inplace=True)\n",
       "    (2): Dropout(p=0.5, inplace=False)\n",
       "    (3): Linear(in_features=4096, out_features=4096, bias=True)\n",
       "    (4): ReLU(inplace=True)\n",
       "    (5): Dropout(p=0.5, inplace=False)\n",
       "    (6): Linear(in_features=4096, out_features=1000, bias=True)\n",
       "  )\n",
       ")"
      ]
     },
     "execution_count": 10,
     "metadata": {
      "tags": []
     },
     "output_type": "execute_result"
    }
   ],
   "source": [
    "VGG16"
   ]
  },
  {
   "cell_type": "markdown",
   "metadata": {
    "colab_type": "text",
    "id": "msmKqBilpkQX"
   },
   "source": [
    "## **[문제 2]**  VGG-16 Model 에 대한 설명\n",
    "\n",
    "위 VGG16 모델을 보고, 모델에 대해서 설명하세요 (아래 사항 중심으로). \n",
    "- input과 output의 구성과 관계 \n",
    "- 최종 layer에서 출력하는 output의 의미\n",
    "- output을 통해서 최종 class로 분류하는 방법 설명 [0~999]"
   ]
  },
  {
   "cell_type": "markdown",
   "metadata": {
    "colab_type": "text",
    "id": "_atmPZdzrjYp"
   },
   "source": [
    "**[답 작성]** \n",
    "VGG16 모델은 크게 2가지로 나뉘어저 있다. 앞부분인 Convolutional Neural Networks(CNN)와 뒷 부분인 Fully Conneted layer 로 나뉜다. 먼저 앞부분인 CNN은 image를 input으로 받을 때 유용한 네트워크로 더 복잡한 특징이 있을 때 주로 사용하는 네트워크이다. CNN의 형태는 13개의 convolutional layer 로 되어있고 초기conv2d는 3개의 채널을 64개의 채널로 늘려준다. 이때 크기변형이 일어나지 않도록 (N-F)/stride + 1 공식을 이용해 알맞는 padding과 필터,stride를 찾아준다. padding 은 크기를 유지하게 해주며, stride는 해상도를 조절하게 해준다. 또한 Maxpooling을 이용해 영향력이 큰 값들만 빼준다. 여기서 Maxpooling은 픽셀수를 줄이는 것으로 채널수는 유지하되 파라미터수를 감소시킴으로써 데이터 사이즈를 줄여 연산속도를 높여준다. 각각에 Relu 를 적용시켜 학습률을 높여준다. Relu는 기울기가 0이 되는 포화영역을 반으로 줄인 함수로써 sigmod보다 좋은 성능을 가진다. 최종적으로 Convolution layer는 3개의 채널을 512개의 채널로 늘려 특징을 추출한 후 다음 부분인 Conneted layer로 벡터7*7*512(채널수)의 형태로 넘겨준다. 여기서 사진의 크기를 알 수 있다. maxpooling 이 5번 일어났으므로 7 -> 14 -> 28 -> 56 -> 112 -> 224 이다. conneted layer는 추출한 특징을 확률로 변경시켜주는 역할을 한다. dropout은 중간을 랜덤하게 끊어 각각의 중요도를 분산시키는 역할을 한다(어느 한가지 특징만 중요하지 않게 하기 위해서). 최종적으로 3번의 Linear를 지나 1000개의 output이 나오며 이것은 각각 1000개의 클래스에 대한 예측 확률값이라고 할 수 있다."
   ]
  },
  {
   "cell_type": "markdown",
   "metadata": {
    "colab_type": "text",
    "id": "Ic8n9MPVpv5Z"
   },
   "source": [
    "## **[문제 3]** Pre-trained Model(VGG-16)을 활용한 개 품종 분류기\n",
    "\n",
    "아래 셀에서 다음을 구현하세요:\n",
    "\n",
    "* function name : `VGG16_predict`\n",
    "    * input : `img_path`\n",
    "        * `img_path` : image가 저장되어 있는 경로 string\n",
    "        * 예) `'dogImages/train/001.Affenpinscher/Affenpinscher_00001.jpg'`\n",
    "\n",
    "    * output : `index`\n",
    "        * VGG16 모델을 통해서 분류된 ImageNet class index\n",
    "        * VGG16의 분류 인덱스는 0에서 999 사이 입니다\n",
    "\n",
    "* gpu를 활용하세요.\n",
    "\n",
    "* VGG16 모델의 최종 출력 layer이 `linear` layer이라는 것을 인지해주세요 (logit 출력, 즉 softmax activation이 없는 채로 출력합니다!)\n",
    "\n",
    "* 입력 image를 244x244 크기로 하세요 (transform, Resize)\n",
    "\n",
    "* [중요] 아래 제공하는 `image_loader` 함수가 유용할 것입니다\n",
    "\n",
    "* [힌트] 그 아래 `VGG16` 출력값 확인 과정을 나열하였습니다"
   ]
  },
  {
   "cell_type": "markdown",
   "metadata": {
    "colab_type": "text",
    "id": "ga6EeWjspv5d"
   },
   "source": [
    "### Image loader 함수 제공\n",
    "\n",
    "* img_path에서 img를 어떻게 받는지 살펴보세요. 유용할 수 있습니다"
   ]
  },
  {
   "cell_type": "markdown",
   "metadata": {
    "colab_type": "text",
    "id": "r1CsohwEpv5v"
   },
   "source": [
    "본 문제에서는 VGG-16 모델을 개 인식 모듈의 네트워크로 사용하지만, 다른 Pre-trained 네트워크(예: [Inception-v3](http://pytorch.org/docs/master/torchvision/models.html#inception-v3), [ResNet-50](http://pytorch.org/docs/master/torchvision/models.html#id3) 등)를 자유롭게 사용하여 프로젝트를 진행할 수 있습니다. 만약 다른 Pre-trained 네트워크로 개 인식 모듈을 구현하기로 한 경우 아래 vgg16에 해당하는 설명을 본인이 선택한 모델로 변경하여 설명하시면 됩니다"
   ]
  },
  {
   "cell_type": "code",
   "execution_count": 11,
   "metadata": {
    "colab": {},
    "colab_type": "code",
    "id": "PDtLLG3Hpv5d"
   },
   "outputs": [],
   "source": [
    "def image_loader(img_path, transform, use_cuda):\n",
    "    image = Image.open(img_path).convert('RGB')\n",
    "    img = transform(image)[:3,:,:].unsqueeze(0)\n",
    "    if use_cuda:\n",
    "        img = img.cuda()\n",
    "    return img"
   ]
  },
  {
   "cell_type": "markdown",
   "metadata": {
    "colab_type": "text",
    "id": "Q7ja22-Fpv5f"
   },
   "source": [
    "__[사용법]__"
   ]
  },
  {
   "cell_type": "code",
   "execution_count": 12,
   "metadata": {
    "colab": {
     "base_uri": "https://localhost:8080/",
     "height": 449
    },
    "colab_type": "code",
    "id": "Sz157xUwpv5f",
    "outputId": "1da6f298-ce9e-41c6-81eb-b8bff9f911cf"
   },
   "outputs": [
    {
     "data": {
      "text/plain": [
       "tensor([[[[0.3216, 0.1490, 0.3098,  ..., 0.1843, 0.1216, 0.2078],\n",
       "          [0.3608, 0.2431, 0.1961,  ..., 0.1020, 0.1137, 0.2353],\n",
       "          [0.3804, 0.3961, 0.2549,  ..., 0.0980, 0.1608, 0.2588],\n",
       "          ...,\n",
       "          [0.9059, 0.8902, 0.8588,  ..., 0.8941, 0.8745, 0.8549],\n",
       "          [0.9294, 0.9059, 0.8667,  ..., 0.8392, 0.8863, 0.8706],\n",
       "          [0.9255, 0.9020, 0.8784,  ..., 0.7569, 0.8431, 0.8275]],\n",
       "\n",
       "         [[0.3647, 0.1961, 0.3608,  ..., 0.2235, 0.1294, 0.1961],\n",
       "          [0.4118, 0.2980, 0.2510,  ..., 0.1451, 0.1294, 0.2314],\n",
       "          [0.4392, 0.4588, 0.3216,  ..., 0.1451, 0.1804, 0.2549],\n",
       "          ...,\n",
       "          [0.7373, 0.7216, 0.7059,  ..., 0.7961, 0.7843, 0.7725],\n",
       "          [0.7569, 0.7373, 0.7137,  ..., 0.7412, 0.8039, 0.7922],\n",
       "          [0.7529, 0.7333, 0.7216,  ..., 0.6627, 0.7569, 0.7490]],\n",
       "\n",
       "         [[0.2039, 0.0824, 0.2196,  ..., 0.1961, 0.0941, 0.1451],\n",
       "          [0.2627, 0.1529, 0.1098,  ..., 0.1137, 0.0863, 0.1725],\n",
       "          [0.3020, 0.3176, 0.1725,  ..., 0.1098, 0.1294, 0.1922],\n",
       "          ...,\n",
       "          [0.7020, 0.6863, 0.6667,  ..., 0.7804, 0.7647, 0.7529],\n",
       "          [0.7216, 0.7020, 0.6745,  ..., 0.7255, 0.7843, 0.7725],\n",
       "          [0.7176, 0.6980, 0.6824,  ..., 0.6471, 0.7373, 0.7294]]]],\n",
       "       device='cuda:0')"
      ]
     },
     "execution_count": 12,
     "metadata": {
      "tags": []
     },
     "output_type": "execute_result"
    }
   ],
   "source": [
    "imgFile = 'images/dogImages/train/001.Affenpinscher/Affenpinscher_00001.jpg'\n",
    "\n",
    "transform = transforms.Compose([\n",
    "                    transforms.Resize(size=(244, 244)),\n",
    "                    transforms.ToTensor()])\n",
    "\n",
    "img = image_loader(imgFile, transform, use_cuda)\n",
    "img"
   ]
  },
  {
   "cell_type": "markdown",
   "metadata": {
    "colab_type": "text",
    "id": "VDJ3WkBn0yYX"
   },
   "source": [
    "__[유용한 연습코드]__  VGG16(img)의 출력값 확인 과정"
   ]
  },
  {
   "cell_type": "code",
   "execution_count": 13,
   "metadata": {
    "colab": {},
    "colab_type": "code",
    "id": "dZOe4EvYpv5i"
   },
   "outputs": [],
   "source": [
    "logit = VGG16(img)"
   ]
  },
  {
   "cell_type": "code",
   "execution_count": 14,
   "metadata": {
    "colab": {
     "base_uri": "https://localhost:8080/",
     "height": 35
    },
    "colab_type": "code",
    "id": "p9oGpxUExPmR",
    "outputId": "b308377c-a272-4394-d7e9-31bef01007f6"
   },
   "outputs": [
    {
     "data": {
      "text/plain": [
       "torch.Size([1, 1000])"
      ]
     },
     "execution_count": 14,
     "metadata": {
      "tags": []
     },
     "output_type": "execute_result"
    }
   ],
   "source": [
    "logit.shape"
   ]
  },
  {
   "cell_type": "code",
   "execution_count": 15,
   "metadata": {
    "colab": {
     "base_uri": "https://localhost:8080/",
     "height": 35
    },
    "colab_type": "code",
    "id": "FjRjocD3xCkr",
    "outputId": "4eb4e14f-eed9-4dcb-ff1f-afc99cb2eab1"
   },
   "outputs": [
    {
     "data": {
      "text/plain": [
       "torch.return_types.max(values=tensor([18.9550], device='cuda:0', grad_fn=<MaxBackward0>), indices=tensor([252], device='cuda:0'))"
      ]
     },
     "execution_count": 15,
     "metadata": {
      "tags": []
     },
     "output_type": "execute_result"
    }
   ],
   "source": [
    "torch.max(logit,1)"
   ]
  },
  {
   "cell_type": "code",
   "execution_count": 16,
   "metadata": {
    "colab": {
     "base_uri": "https://localhost:8080/",
     "height": 35
    },
    "colab_type": "code",
    "id": "zTtREbHZpv5k",
    "outputId": "f560ee48-cc83-4da4-db24-89a0d6668bad"
   },
   "outputs": [
    {
     "data": {
      "text/plain": [
       "tensor([252], device='cuda:0')"
      ]
     },
     "execution_count": 16,
     "metadata": {
      "tags": []
     },
     "output_type": "execute_result"
    }
   ],
   "source": [
    "torch.max(logit,1)[1]"
   ]
  },
  {
   "cell_type": "code",
   "execution_count": 17,
   "metadata": {
    "colab": {
     "base_uri": "https://localhost:8080/",
     "height": 35
    },
    "colab_type": "code",
    "id": "sIVC_se2pv5m",
    "outputId": "79867d3b-3aeb-49e4-fb77-e589145b78a7"
   },
   "outputs": [
    {
     "data": {
      "text/plain": [
       "252"
      ]
     },
     "execution_count": 17,
     "metadata": {
      "tags": []
     },
     "output_type": "execute_result"
    }
   ],
   "source": [
    "torch.max(logit,1)[1].item()"
   ]
  },
  {
   "cell_type": "code",
   "execution_count": 18,
   "metadata": {
    "colab": {
     "base_uri": "https://localhost:8080/",
     "height": 35
    },
    "colab_type": "code",
    "id": "4FOgwlH7pv5h",
    "outputId": "01ffac0b-ea2d-43e8-bbe4-0a1d461b827a"
   },
   "outputs": [
    {
     "data": {
      "text/plain": [
       "252"
      ]
     },
     "execution_count": 18,
     "metadata": {
      "tags": []
     },
     "output_type": "execute_result"
    }
   ],
   "source": [
    "index = torch.max(logit, 1)[1].item()\n",
    "index"
   ]
  },
  {
   "cell_type": "markdown",
   "metadata": {
    "colab_type": "text",
    "id": "FmMGgddmpv5d"
   },
   "source": [
    "VGG16_predict를 완성하세요"
   ]
  },
  {
   "cell_type": "code",
   "execution_count": 19,
   "metadata": {
    "colab": {},
    "colab_type": "code",
    "id": "f70xQnVQpv5Z"
   },
   "outputs": [],
   "source": [
    "# 문제 3 답 작성\n",
    "def VGG16_predict(img_path):\n",
    "    ### 답 작성 부분 ###\n",
    "    transform = transforms.Compose([\n",
    "                    transforms.Resize(size=(244, 244)),\n",
    "                    transforms.ToTensor()])\n",
    "    img = image_loader(imgFile, transform, use_cuda)\n",
    "    logit = VGG16(img)\n",
    "    index = torch.max(logit, 1)[1].item()\n",
    "\n",
    "    return index"
   ]
  },
  {
   "cell_type": "markdown",
   "metadata": {
    "colab_type": "text",
    "id": "1WnME4ZLpv5b"
   },
   "source": [
    "아래의 코드를 통해 위에서 구현한 함수를 테스트해 보세요.\n",
    "\n",
    "예제 출력\n",
    "```\n",
    "Index: 252\n",
    "```"
   ]
  },
  {
   "cell_type": "code",
   "execution_count": 20,
   "metadata": {
    "colab": {
     "base_uri": "https://localhost:8080/",
     "height": 35
    },
    "colab_type": "code",
    "id": "5UwgdXr8pv5b",
    "outputId": "937f3f05-2bc8-4f79-dd61-3b6030a2b19a"
   },
   "outputs": [
    {
     "name": "stdout",
     "output_type": "stream",
     "text": [
      "Index: 252\n"
     ]
    }
   ],
   "source": [
    "imgFile = 'images/dogImages/train/001.Affenpinscher/Affenpinscher_00001.jpg'\n",
    "# imgFile = 'images/lfw/Patty_Duke/Patty_Duke_0001.jpg'\n",
    "\n",
    "print(\"Index:\", VGG16_predict(imgFile))"
   ]
  },
  {
   "cell_type": "markdown",
   "metadata": {
    "colab_type": "text",
    "id": "Eh5sFO-Hpv5n"
   },
   "source": [
    "## **[문제 4]** 개 인식 모듈 제작\n",
    "\n",
    "__Dog detector (개 인식)__<br>\n",
    "위 VGG-16 에서 분류하는 [class](https://gist.github.com/yrevar/942d3a0ac09ec9e5eb3a)를 살펴보면<br>\n",
    "151 - 268번은 `'Chihuahua'`에서 `'Mexican hairless'`까지 개의 종을 분류하는 인덱스라는 것을 알 수 있습니다.<br>\n",
    "이외에 인덱스는 다양한 다른 종을 분류합니다.<br>\n",
    "> 예를 들어서 1번은 '금붕어' 2번은 '백상아리' 등이죠.<br>\n",
    "\n",
    "위 분류는 ImageNet에 분류 기준이어서 Vgg-16 뿐 아니라 Resnet등도 모두 같은 분류 기준을 사용합니다.\n",
    "\n",
    "따라서, dog detector 모듈의 경우<br>\n",
    "VGG16을 통해서 분류(`VGG16_predict(img_path)`)된 우리의 image가 151에서 268번 사이에 들어가는지<br>\n",
    "`True`와 `False`를 알려주는 간단한 모듈을 만들면 됩니다.<br>\n",
    "\n",
    "위의 방법이 말이 되는지 생각해보세요, 다른 방법이 있다면 다른 방법으로 구현해도 좋습니다.\n",
    "\n",
    "* function name : `dog_detector`\n",
    "    * input : `img_path`\n",
    "        * `img_path` : image가 저장되어 있는 경로 string\n",
    "        \n",
    "    * output : `boolean`\n",
    "        * 개가 인식되면 `True`\n",
    "        * 아니면 `False`"
   ]
  },
  {
   "cell_type": "markdown",
   "metadata": {
    "colab_type": "text",
    "id": "vie6myceIBC1"
   },
   "source": [
    "**[답 작성]**"
   ]
  },
  {
   "cell_type": "code",
   "execution_count": 21,
   "metadata": {
    "colab": {},
    "colab_type": "code",
    "id": "baYecCjFpv5n"
   },
   "outputs": [],
   "source": [
    "# 문제 4 답 작성\n",
    "def dog_detector(img_path):\n",
    "    ### 답 작성 부분 ###\n",
    "    transform = transforms.Compose([\n",
    "                    transforms.Resize(size=(244, 244)),\n",
    "                    transforms.ToTensor()])\n",
    "    img = image_loader(img_path, transform, use_cuda)\n",
    "    logit = VGG16(img)\n",
    "    index = torch.max(logit, 1)[1].item()\n",
    "\n",
    "    if index >= 151 and index <= 268:\n",
    "      return True\n",
    "    else:\n",
    "      return False\n",
    "    # return result"
   ]
  },
  {
   "cell_type": "markdown",
   "metadata": {
    "colab_type": "text",
    "id": "WFN89GZcpv5p"
   },
   "source": [
    "### 개 인식 모듈 평가\n",
    "\n",
    "아래 코드 셀에 위에서 작성한 `dog_detector` 함수의 성능을 확인해보세요.\n",
    "\n",
    "- `human_files_short` image 중에서 (잘못하여) 개를 인식한 경우는 몇% 인가요?\n",
    "- `dog_files_short` image 중에서 개를 인식한 경우는 몇% 인가요?\n",
    "\n",
    "output 예제\n",
    "```\n",
    "human file에 대한 개인식률: 1.0%\n",
    "dog file에 대한 개인식률: 95.0%\n",
    "```"
   ]
  },
  {
   "cell_type": "code",
   "execution_count": 22,
   "metadata": {
    "colab": {
     "base_uri": "https://localhost:8080/",
     "height": 53
    },
    "colab_type": "code",
    "id": "MmAQW3Vrpv5p",
    "outputId": "85ceea5c-6881-4a41-fe5a-b91f3e972ec2"
   },
   "outputs": [
    {
     "name": "stdout",
     "output_type": "stream",
     "text": [
      "human file에 대한 개인식률: 0.0%\n",
      "dog file에 대한 개인식률: 96.0%\n"
     ]
    }
   ],
   "source": [
    "# human_files_short = human_files[:100]\n",
    "human_dogs = [dog_detector(i) for i in human_files_short]\n",
    "dogs = [dog_detector(j) for j in dog_files_short]\n",
    "\n",
    "human = str(float(sum(human_dogs)) / len(human_files_short) * 100)\n",
    "dog = str(float(sum(dogs)) / len(dog_files_short) * 100)\n",
    "\n",
    "##################################################\n",
    "\n",
    "print(\"human file에 대한 개인식률: {}%\".format(human))\n",
    "print(\"dog file에 대한 개인식률: {}%\".format(dog))\n"
   ]
  },
  {
   "cell_type": "markdown",
   "metadata": {
    "colab_type": "text",
    "id": "boltXOnCpv5v"
   },
   "source": [
    "---\n",
    "<a id='step3'></a>\n",
    "## Step 3: Create a CNN to Classify Dog Breeds (from Scratch)\n",
    "\n",
    "앞의 Step1, 2를 통해 이미지에서 사람과 개를 인식하는 모듈을 구현하였습니다.<br>\n",
    "이번 Step에서는 개의 이미지에서 개의 종을 예측할 수 있는 모듈을 구현할 것입니다.<br>\n",
    "따라서, 개 품종을 분류하는 CNN을 만들고, 이 과정은 네트워크를 처음부터 각자 코드로 작성하여 네트워크를 구성하도록 합니다.<br>\n",
    "최종 테스트 정확도는 10 % 이상을 권장합니다.<br>\n",
    "(해당 프로젝트의 Step 4 에서는 Pre-trianed 네트워크를 이용해 transfer learning을 통하여 정확도를 크게 향상시키는 CNN도 만들 것입니다.)\n",
    "\n",
    "참고로, 개 이미지에서 개에 품종을 예측하는 좋은 성능의 네트워크를 처음부터 끝까지 구성하는 일은 쉽지 않습니다 (코딩이 어려운 것이 아니라, 네트워크를 학습시키기 쉽지 않습니다).<br>\n",
    "심지어 사람조차도 Brittany와 Welsh Springer Spaniel를 구별하는데 어렵기 때문이죠.\n",
    "\n",
    "Brittany | Welsh Springer Spaniel\n",
    "- | - \n",
    "<img src=\"https://drive.google.com/uc?export=view&id=1EFcAIA_vjVdQZQ3C6RaHi0FbrP5VusN7\" width=\"100\"> | <img src=\"https://drive.google.com/uc?export=view&id=1EXu-8pgzBxQoRu42CdZcmOYcZU1k1ysq\" width=\"200\">\n",
    "\n",
    "클래스 간 차이가 별로 없는 아래와 같은 예도 있습니다 (예 : Curly-Coated Retrievers 및 American Water Spaniels).\n",
    "\n",
    "Curly-Coated Retriever | American Water Spaniel\n",
    "- | -\n",
    "<img src=\"https://drive.google.com/uc?export=view&id=15VG_cj-L-HN_ysipi-Q4s_4j5dcqbuyf\" width=\"200\"> | <img src=\"https://drive.google.com/uc?export=view&id=1fcLLK6x2_bZN8_17O9SDYBE80jIA-4Qp\" width=\"200\">\n",
    "\n",
    "\n",
    "어려움에 대한 예로, 모두 labradors 품종인데 yellow, chocolate, 및 black 으로 다양한 털 색이 있는 종도 있습니다. 모두 같은 품종으로 예측해야하는 어려운 문제죠.\n",
    "\n",
    "Yellow Labrador | Chocolate Labrador | Black Labrador\n",
    "- | - | -\n",
    "<img src=\"https://drive.google.com/uc?export=view&id=171DW8SsBtFvjy-TQqyZOpne1y3_6g-lf\" width=\"150\"> | <img src=\"https://drive.google.com/uc?export=view&id=1bBvcQTyeC6umNeX3jpqXes52eqXGFAmm\" width=\"240\"> | <img src=\"https://drive.google.com/uc?export=view&id=18er4UGbiTtuDoHwjNrv8AEqLeJafnkLg\" width=\"220\">\n",
    "\n",
    "\n",
    "\n",
    "## **[문제 5]** Dataset 에 대한 Data Loaders 구성\n",
    "\n",
    "아래의 코드를 사용하여 개 이미지의 training, validation, 및 test data set (각각 `images/dogImages/train`, `images/dogImages/valid`, `images/dogImages/test`에 위치)에 대해 각 [data loaders](http://pytorch.org/docs/stable/data.html#torch.utils.data.DataLoader)를 작성하십시오.<br>\n",
    "수업에서 참고했던 [torchvision datasets](http://pytorch.org/docs/stable/torchvision/datasets.html)를 참고할 수 있습니다.<br>\n",
    "training/validation 성능을 개선하기 위해서 다양한 [transforms](http://pytorch.org/docs/stable/torchvision/transforms.html?highlight=transform)을 활용하실 수 있습니다. <br>\n",
    "\n",
    "__[코드 구성]__\n",
    "- - -\n",
    "* MEANS, DEVIATIONS\n",
    "    * transform에서 정규화에 사용할 평균 및 표준편차 값 설정\n",
    "    * MEANS: RGB 평균 \n",
    "    * DEVIATIONS: RGB 표준편차 \n",
    "- - -\n",
    "* 데이터 위치\n",
    "    * train_path : `images/dogImages/train`\n",
    "    * valid_path : `images/dogImages/valid`\n",
    "    * test_path : `images/dogImages/test`\n",
    "- - -\n",
    "* Transform\n",
    "    * `train_transform` : train 에 사용될 Transform\n",
    "    * `test_transform` : validation, test 에 사용될 Transform\n",
    "- - -\n",
    "* ImageFolder\n",
    "    * `training` : training에 사용될 이미지 폴더의 데이터 셋\n",
    "    * `validation` : validation에 사용될 이미지 폴더의 데이터 셋\n",
    "    * `testing` : testing에 사용될 이미지 폴더의 데이터 셋\n",
    "- - -\n",
    "* DataLoader & DataLoader Dictionary\n",
    "    * `train_batches` : training 데이터 셋의 데이터 로더\n",
    "    * `valid_batches` : validation 데이터 셋의 데이터 로더\n",
    "    * `test_batches` : testing 데이터 셋의 데이터 로더\n",
    "\n"
   ]
  },
  {
   "cell_type": "markdown",
   "metadata": {
    "colab_type": "text",
    "id": "ljKO0LUAH9y_"
   },
   "source": [
    "**[답 작성]**"
   ]
  },
  {
   "cell_type": "code",
   "execution_count": 30,
   "metadata": {
    "colab": {},
    "colab_type": "code",
    "id": "yHlKjWvJOrNG"
   },
   "outputs": [],
   "source": [
    "# np.mean(224*224,axis=0)"
   ]
  },
  {
   "cell_type": "code",
   "execution_count": 23,
   "metadata": {
    "colab": {},
    "colab_type": "code",
    "id": "ftI5DCZVpv5w"
   },
   "outputs": [],
   "source": [
    "newpath = Path(\"images/dogImages\").expanduser()#강아지 이미지까지 경로를 쉽게 쓰기 위해서 만든 변수\n",
    "train_path = str(newpath.joinpath(\"train\"))#강아지 이미지에 안에 있는 train data에 대한 경로지정\n",
    "valid_path = str(newpath.joinpath(\"valid\"))#강아지 이미지에 안에 있는 valid data에 대한 경로지정\n",
    "test_path = str(newpath.joinpath(\"test\"))#강아지 이미지에 안에 있는 test data에 대한 경로지정\n",
    "\n",
    "IMAGE_SIZE = 224#이미지의 크기를 224로 한다. \n",
    "\n",
    "# 문제 5 답 작성\n",
    "#mean (평균)= 기울기를 0에 가까워지도록 RGB 채널별로 바꿔준다.\n",
    "MEANS = [0.485, 0.456, 0.406]\n",
    "#var (분산)= 펴저있는 데이터들을 0에 수렴하도록 RGB 채널별로 적용해준다.\n",
    "DEVIATIONS = [0.229, 0.224, 0.225]\n",
    "\n",
    "# transforms\n",
    "#이미지 가져올때 이미지의 형태를 지정해 주는 것으로, 사용자가 원하는 형태로 변형해서 가져올 수 있다. \n",
    "#randomRotation과 resizecrop, HorizonralFlip등으로 데이터의 다양성을 늘려 학습할 수 있게 해준다, -> 데이터 없을 때 사용\n",
    "train_transform = transforms.Compose([\n",
    "                                      #  transforms.RandomRotation(30),##랜덤하게 사진을 30도 돌림\n",
    "                                      #  transforms.RandomResizedCrop(IMAGE_SIZE),#랜덤하게 확대 또는 축수 해서 224로자름\n",
    "                                      #  transforms.RandomHorizontalFlip(),#랜덤하게 flip(미러-> 거울에 비친거)하는 과정\n",
    "                                       transforms.Resize(IMAGE_SIZE),#사진의 크기를 224*224 로 바꿔준다.\n",
    "                                       transforms.CenterCrop(IMAGE_SIZE),#가운데를 중심으로 224로 확대,축소 해준다. \n",
    "                                      #resize는 사진이 손실될 수 있고, centercorp은 사진이 손실되지 않는다. \n",
    "                                       transforms.ToTensor(),#이미지를 tensor형으로 바꿔서 가져옴\n",
    "                                       transforms.Normalize(MEANS,DEVIATIONS)])#정규화 => mean = 0, 표준편차 =1 로 만드는 것\n",
    "                                       #transforms.Normalize는 image의 값을 정규화하는 과정->성능을 개선하게 하는 중요한 단계이다. 없으면 거의 training 실패함\n",
    "\n",
    "\n",
    "#학습이 잘됐는지 확인할때 사용하는 data 형태로, test와 valid 에 쓰인다. 사진의 크기를 맞추는것은 가능하지만 변형시키면 안된다.\n",
    "test_transform = transforms.Compose([transforms.Resize(IMAGE_SIZE),\n",
    "                                      transforms.CenterCrop(IMAGE_SIZE),#확대 축소\n",
    "                                      transforms.ToTensor(),#tensor로 바꾸는 작업\n",
    "                                      transforms.Normalize(MEANS,DEVIATIONS)])\n",
    "\n",
    "# Image folder\n",
    "#앞에서 정의했던 경로((train,valid,test)_path)가지고 transform에서 정의한 형태대로 이미지를 가져와서 저장한다.\n",
    "training = datasets.ImageFolder(train_path, transform=train_transform)\n",
    "validation = datasets.ImageFolder(valid_path, transform=test_transform)\n",
    "testing = datasets.ImageFolder(test_path, transform=test_transform)#test와 같은형태의 데이터 써야함\n",
    "# print(training[0]) -> 데이터 형태 어떻게 나오는지 확인\n",
    "# print(training.classes)#->라벨 어떻게 나오는지 확인\n",
    "\n",
    "\n",
    "# DataLoader\n",
    "#32개의 그림을 한번에 받아서 trainloader에 저장한다.\n",
    "#batch size = sample데이터 중 한번에 네트워크에 넘겨주는 데이터의 수\n",
    "#만약 데이터가 1000개 있으면 20개씩 50개 그룹화(1 iteration = 20개의 데이터에 대해 학습)\n",
    "#해서 1개 epoch 돔 (epoch = 3일때 ->전체 데이터를 3번에 걸처 학습)\n",
    "#training이 잘 되지 않는다면 batch_size를 낮춰주면 된다.-> 32개로 하면 속도 더 빨라짐\n",
    "train_batches = torch.utils.data.DataLoader(training, batch_size=10)#,shuffle = True -> 섞어서 가져옴\n",
    "valid_batches = torch.utils.data.DataLoader(validation, batch_size=10)\n",
    "test_batches = torch.utils.data.DataLoader(testing, batch_size=10)\n"
   ]
  },
  {
   "cell_type": "markdown",
   "metadata": {
    "colab_type": "text",
    "id": "7lp76fM7pv5x"
   },
   "source": [
    "## **[문제 6]** 데이터 전처리에 대한 설명\n",
    "\n",
    "위 작성한 코드에 대해서 아래 내용을 설명하세요\n",
    "- data의 구성과 각 dataloader의 역할을 설명하세요\n",
    "- `ImageFolder`는 image data와 class label을 어떻게 불러오나요?\n",
    "- 이미지의 size를 어떻게 조정하나요? (무엇을 이용해 크기를 조정하는지?)\n",
    "- training을 위한 transform을 사용하였다면, 어떻게 /왜 사용하였나요? (normalization, 변형 등을 자세하게!)"
   ]
  },
  {
   "cell_type": "markdown",
   "metadata": {
    "colab_type": "text",
    "id": "BmDAuF58pv5x"
   },
   "source": [
    "**[답 작성]**\n",
    "1. data 의 구성은 dogimages 파일 안에 test,train,valid 로 각각 나눠 저장되고 있다. 딥러닝의 궁극적인 목표는 새로운 데이터를 받아 분류할 수 있는지 없는지이다. 따라서 이것이 잘 이루어 지는지를 최종적으로 테스트 해야한다. 이때 사용하는 데이터가 test데이터로, train data와는 달리 자료를 변형해서는 안된다. train data는 목표를 이루기 위해 model을 학습할때 사용하는 data로 여러가지 변형을 통해 데이터의 갯수를 늘릴 수 있다. 마지막으로 valid data는 train data로 학습된 것들 중 가장 잘 학습된 data를 찾는것으로 데이터를 변형시켜서는 안된다.\n",
    "\n",
    "2. imageFolder는 각각의 경로에 들어있는 data들을 transform의 형태로 바꿔서 가져온다. 따라서 224형태로 자른 이미지를 tenser형태로 바꿔서 저장한다. label은 '001.Affenpinscher'의 형태로 사진의 이름과 숫자로 저장된다. *.classes 로 확인할 수 있다.\n",
    "\n",
    "3. 이미지의 size는 transform에서의 resize, centercrop 등으로 사용자가 원하는 크기로 변경할 수 있다. resize는 사진을 잘라서 가져오기 때문에 사진이 소실되는 반면, centercrop은 사진을 확대, 축소해서 가져오는 방법으로 사진의 손실이 없다. \n",
    "\n",
    "4. transform을 사용한 이유는 가져오는 사진의 크기가 다 다르고 편향된 사진이기 때문이다. 같은 형태의 크기로 맞춰줘야 벡터연산이 가능하고 정확히 나오게 된다. \n",
    "따라서 이 과정은 이미지 통일성을 주기 위한 과정이다.  먼저 resize로 사진을 잘라서 가져오고, centercrop 해준다. 그다음 데이터를 벡터연산하기 위한 tensor 형태로 변형해주고, nomalize를 통해 RGB채널별로 정규화 시켜준다. 정규화란 데이터의 범위를 사용자가 원하는 범위로 제한하는 것으로, mean을 빼는 작업은 data를 0을 중심으로 두는 변형을 하고, std를 나누는 것은 값들을 -1에서 1사이로 좁히는 작업을 수행하는 것이다. \n",
    "\n",
    "\n"
   ]
  },
  {
   "cell_type": "markdown",
   "metadata": {
    "colab_type": "text",
    "id": "SNMiGy9Mpv5y"
   },
   "source": [
    "## **[문제 7]** 개 품종 분류 CNN 구성\n",
    "\n",
    "개의 품종을 분류하는 CNN을 만드세요.<br>\n",
    "구조는 학생마다 다르게 구성할 수 있는 부분입니다. 최대한 좋은 성능을 갖도록 구성해보세요<br>\n",
    "`BREEDS`는 실제 training 시 나와야 하는 classes의 개수입니다."
   ]
  },
  {
   "cell_type": "code",
   "execution_count": 28,
   "metadata": {
    "colab": {
     "base_uri": "https://localhost:8080/",
     "height": 53
    },
    "colab_type": "code",
    "id": "CNLNP9DLpv5y",
    "outputId": "91977178-8fbc-41cd-a732-9638754cdc56"
   },
   "outputs": [
    {
     "name": "stdout",
     "output_type": "stream",
     "text": [
      "133\n",
      "002.Afghan_hound\n"
     ]
    }
   ],
   "source": [
    "# 문제 7 답 작성 : define the CNN architecture\n",
    "\n",
    "BREEDS = len(training.classes)\n",
    "print(BREEDS)\n",
    "print(training.classes[1])\n",
    "\n",
    "#네트워크에 값을 넣어서 model을 만든다. 네트워크의 init에는 파라미터(h와 W )가 자동으로 만들어지며 \n",
    "#forward를 통해 relu와 softmax적용된 x가 나온다.\n",
    "class Net(nn.Module):\n",
    "    def __init__(self):\n",
    "        ### 답 작성 부분 ###\n",
    "        super(Net,self).__init__()\n",
    "\n",
    "        #224*224*3의 이미지로 시작 -> 224 는 필터=3, padding=1 에서 크기 유지\n",
    "        #결과 = 112*112*12\n",
    "        self.conv1 = nn.Conv2d(3,12,3,padding=1)\n",
    "        #앞에 3 = input채널 수 , 16 = output 채널 수 , 뒤에 3 = 필터 크기 , padding = zero pad로 edge를 0으로 채움.\n",
    "        #padding 쓰는 이유 = 결과 이미지크기가 줄어들지 않게 하기 위해서\n",
    "        #따라서 3개의 채널을 3*3의 필터 16개 적용해서 conv2를 만든다. \n",
    "\n",
    "        self.conv2 = nn.Conv2d(12,24,3,padding=1)#결과 = 56*56*12\n",
    "        self.conv3 = nn.Conv2d(24,48,3,padding=1)#결과 = 28*28*48\n",
    "        self.pool = nn.MaxPool2d(2,2)\n",
    "        #maxpool = 가장 큰 값(영향력이 큰것만 빼준다)을 뽑아 채널을 놔두고 사이즈만 줄이는 방법\n",
    "        self.fc1 = nn.Linear(48*28*28,15000)#37632,15000\n",
    "        self.fc2 = nn.Linear(15000,7000)\n",
    "        self.fc3 = nn.Linear(7000,113)\n",
    "        self.dropout = nn.Dropout(0.2)\n",
    "\n",
    "    \n",
    "    def forward(self, x):\n",
    "        ### 답 작성 부분 ###\n",
    "        x = self.pool(F.relu(self.conv1(x)))#-> 결과값 = 112*112*12\n",
    "        x = self.pool(F.relu(self.conv2(x)))#-> 결과값 = 56*56*24\n",
    "        x = self.pool(F.relu(self.conv3(x)))#-> 결과값 = 28*28*48\n",
    "        x = x.view(-1,48*28*28)#벡터형태로 바꿔줌\n",
    "        x = self.dropout(x)\n",
    "        # overfitting(trinning 데이터에 너무 학습이 되어서 test 데이터에서 결과가 작아지는 현상)\n",
    "        # 을 막기위해몇개의 노드를 죽이고 남은 노드들을 통해서만 훈련을 하는 것\n",
    "        x = F.relu(self.fc1(x))\n",
    "        x = self.dropout(x)\n",
    "        x = F.relu(self.fc2(x))\n",
    "        x = self.dropout(x)\n",
    "        x = F.log_softmax(self.fc3(x),dim=1)\n",
    "        # log_softmax = 확률을 분포로 나타내기 위해서\n",
    "\n",
    "        return x\n",
    "\n",
    "\n"
   ]
  },
  {
   "cell_type": "code",
   "execution_count": 29,
   "metadata": {
    "colab": {
     "base_uri": "https://localhost:8080/",
     "height": 197
    },
    "colab_type": "code",
    "id": "auE6rZ5DPqaK",
    "outputId": "a46bd827-d257-4566-a1dc-27f5d915e39b"
   },
   "outputs": [
    {
     "name": "stdout",
     "output_type": "stream",
     "text": [
      "Net(\n",
      "  (conv1): Conv2d(3, 12, kernel_size=(3, 3), stride=(1, 1), padding=(1, 1))\n",
      "  (conv2): Conv2d(12, 24, kernel_size=(3, 3), stride=(1, 1), padding=(1, 1))\n",
      "  (conv3): Conv2d(24, 48, kernel_size=(3, 3), stride=(1, 1), padding=(1, 1))\n",
      "  (pool): MaxPool2d(kernel_size=2, stride=2, padding=0, dilation=1, ceil_mode=False)\n",
      "  (fc1): Linear(in_features=37632, out_features=15000, bias=True)\n",
      "  (fc2): Linear(in_features=15000, out_features=7000, bias=True)\n",
      "  (fc3): Linear(in_features=7000, out_features=113, bias=True)\n",
      "  (dropout): Dropout(p=0.2, inplace=False)\n",
      ")\n"
     ]
    }
   ],
   "source": [
    "#  CNN instance 생성\n",
    "model_scratch = Net()\n",
    "print(model_scratch)\n",
    "# GPU 활용\n",
    "if use_cuda:\n",
    "    model_scratch.cuda()"
   ]
  },
  {
   "cell_type": "markdown",
   "metadata": {
    "colab_type": "text",
    "id": "dkpYKT6rpv52"
   },
   "source": [
    "## **[문제 8]** 설계한 CNN 모델 설명\n",
    "\n",
    "위의 코드와 같이 네트워크를 구성한 방법과 이유를 각 단계별로 설명하세요. \n",
    "아래 내용도 포함하여 설명하시고, 이외에 중요하다고 생각하는 모든 설명을 하시면 됩니다.\n",
    "\n",
    "* 차원 분석, 채널 수, 커널 크기, linear layer neuron 수\n",
    "* activation function과 선정 이유\n",
    "* 특별히, 최종 layer에서 사용한 activation function이 무엇인지 왜 사용하였는지를 상세 설명 \n",
    "* CNN 모델이 무엇을 입력받고 출력하나요?\n",
    "  * input과 출력의 관계\n",
    "  * Output 값의 의미"
   ]
  },
  {
   "cell_type": "markdown",
   "metadata": {
    "colab_type": "text",
    "id": "2NrSaE7ipv52"
   },
   "source": [
    "**[답 작성]** \n",
    "1. 차원분석에서 fiter크기와 padding 적용한 이유는 다음으로 넘어갈 때 이미지의 크기를 보존하기 위해서 입니다. (N-F)/stride + 1 의 공식을 이용해[(226 (paddig=1이기때문에 2더해줌) - 3(필터크기))/stride(1) + 1 ]= 224 가 나오는 것을 확인하였습니다. maxpooling은 사이즈를 줄이기 위한 것으로 채널수는 그대로 두며 파라미터 수만 감소시킵니다. 영향력이 큰 값들만 나오기 때문에 학습에 도움이 됩니다. linear layer 수는 3개로 하였습니다. 왜냐하면 늘리면 늘릴수록 시간도 많이걸리고 연산 복잡도가 올라가 overfitting이 일어날 수 있기 때문입니다. overfiting을 줄이기위해 dropout을 사용하였습니다. dropout이란, 중간에 랜덤하게 activation 들을 끊어 성능을 높이는 것으로, 각각의 중요도를 분산시켜 어느 한 가지 특징만 중요하지 않게 만들어 줍니다. \n",
    "\n",
    "2. activation funtion은 relu를 사용하였습니다. relu는 0 이하 영역의 기울기를 0으로 만든 active 함수로 포화영역을 1개(음수부분)로 줄인 함수입니다. gradient(기울기가 0과 비슷한 부분 = 포화영역)가 많으면 학습이 잘 되지 않기 때문에 sigmoid(포화영역이 2두군데) 보다 학습이 잘되서 relu를 선택하였습니다. \n",
    "\n",
    "3. 최종 layer에서는 softmax를 사용하였습니다. softmax는 출력값들을 정규화해주는 함수로, 확률 분포로 나타나게 됩니다.  exp연산으로 작은값은 더 작게, 큰값은 더 크게 만들어 주게 됩니다.따라서 softmax의 합은 언제나 1이되고 결과를 분류할때 더 좋은 분류를 할 수 있도록 도와주는 함수입니다.\n",
    "\n",
    "4. output의 크기는 133으로 하였습니다. 왜냐하면 분류할 강아지 종의 수가 133종으로 train안에는 133종의 파일이 있기 때문입니다. 파일 안에는 강아지 사진들이 총 8351장이 들어있습니다. CNN모델은 복잡한 특징이 있을때 사용하는 모델로,우리 뇌와 비슷한 형태로 동작하게 됩니다. 여러개의 필터 적용하여 어떤 필터 사용했을 때 최대로 활성화 되는지 찾아줍니다.  input으로 image를 받습니다. 입력된 image는 각 이미지에서 특정 특징을 활성화하는 convolutional layer 필터 집합을 통과합니다.통과 하면서 relu를 만나게 됩니다. relu는 음수 값을 0에 매핑하고 양수 값을 유지하여 더 빠르고 효과적인 학습을 가능하게 합니다. 이때 활성화된 특징만 다음 계층으로 전달됩니다.pooling은 네트워크에서 학습해야 하는 매개 변수 수를 줄여서 출력을 간소화합니다. 이렇게 출력된 out은 fully conneted 함수로 특징들을 전달해 줍니다. \n",
    "\n",
    "\n"
   ]
  },
  {
   "cell_type": "markdown",
   "metadata": {
    "colab_type": "text",
    "id": "jgQYQC5upv52"
   },
   "source": [
    "## **[문제 9]** Cost (Loss) Function 과 Optimizer 선택\n",
    "\n",
    "[loss function](http://pytorch.org/docs/stable/nn.html#loss-functions) 및 [optimizer](http://pytorch.org/docs/stable/optim.html)를 선택하여 코드를 완성하세요. 선택한 cost function을 `criterion_scratch`로 저장하고 optimizer를 아래 `optimizer_scratch`로 저장하세요.\n",
    "\n",
    "Optimizer와 Cost 함수를 선정하는데 중요하다고 생각하는 내용을 모두 작성합니다. \n",
    "아래 내용은 최소한 포함하여 설명합니다.\n",
    "\n",
    "* Optimizer는 무엇을 선정하였는지 설명\n",
    "* Cost (loss) function을 무엇으로 선택하고, 왜 선택하였는지 설명\n",
    "  * Cost function이 본 문제에 왜 사용하였는가?\n",
    "  * 분류 문제에서 사용하는 cost 함수의 의미를 설명하세요"
   ]
  },
  {
   "cell_type": "code",
   "execution_count": null,
   "metadata": {
    "colab": {},
    "colab_type": "code",
    "id": "1nWonVKXq_qi"
   },
   "outputs": [],
   "source": []
  },
  {
   "cell_type": "markdown",
   "metadata": {
    "colab_type": "text",
    "id": "soZ-JzZaJDdI"
   },
   "source": [
    "**[답 작성]**"
   ]
  },
  {
   "cell_type": "code",
   "execution_count": 30,
   "metadata": {
    "colab": {},
    "colab_type": "code",
    "id": "cV3CYU5kpv53"
   },
   "outputs": [],
   "source": [
    "# 문제 9 답 작성: loss function and optimizer\n",
    "criterion_scratch = nn.NLLLoss()#NLLLoss()쓴다. ->negative log likelihood loss\n",
    "optimizer_scratch = optimizer.Adam(model_scratch.parameters(), lr=0.1,weight_decay=1e-7)#무엇을 최적화 할 것인지 써주는것\n"
   ]
  },
  {
   "cell_type": "markdown",
   "metadata": {
    "colab_type": "text",
    "id": "fRsCCiIZ70SZ"
   },
   "source": [
    "**[답 작성]**\n",
    "1. optimizer로는 adam을 선택했습니다. optimizer 종류에는 adam,SGD, SGD-Momentum 등이 있습니다. adam은 momentum 과 RMSProp 합한것으로, momentum은 과거 gradient의 방향을 계속 곱해주는 것이고, RMSProp은 AdaGrad 를 개선한 것입니다. 따라서 Adam은 관성을 이용해 덜 비틀거리게 함과 동시에 상황을 봐가면서 세밀하게 학습하여 최적값에 더 부드럽게 가까워지게 합니다. optimizer의 파라미터로는 learning rate과 weight_decay를 설정했습니다. lr은 학습비율을 뜻하며 적절한 크기를 잡는것이 중요합니다. 너무 크게 잡는다면 더이상 성능이 좋아지지 않아 최저값을 못찾을 것이고, 너무 작게 잡는다면 시간이 많이 걸리고 overfiting이 일어날 수 있다. 따라서 최적점에서 멀리 있을 때는 lr을 크게 하고, 점차 최소점에 나아갈수록 lr을 작게 만드는 것이 좋습니다.이때 사용하는 것이 weight_decay로,  weight_decay는 lr이 평평해지면(학습이 잘 안되면) lr을 떨어뜨립니다.이 기능을 사용해 더 빠르게 최적점을 찾아갈 수 있게 합니다. 초기에는 값을 크게 가게 하고, 평평해지면 lr비율을 떨어뜨려 최적점을 더 잘 찾게 해줍니다.\n",
    "\n",
    "2. loss function 은 손실함수로써, model이 data를 얼마나 잘 처리하는지에 대한 것을 나타내주는 함수이다. NLLLoss를 사용한 이유는 네트워크를 만들 때 log_softmax를 해줌으로써 나중에 연산을 편하게 하기 위해서 사용한다. "
   ]
  },
  {
   "cell_type": "markdown",
   "metadata": {
    "colab_type": "text",
    "id": "HQE0Gm7Cpv54"
   },
   "source": [
    "## **[문제 10]** 구성한 모델에 대한 Train and Validate 진행\n",
    "\n",
    "위에서 구성한 모델을 `Train and validate` 하는 모듈을 작성합니다.<br>\n",
    "[최종 training된 parameter들을](http://pytorch.org/docs/master/notes/serialization.html) 파일 경로 `'models/model_scratch.pt'`에 저장하는 코드를 작성합니다.\n",
    "\n",
    "`Train and validate` 전에 train 이라는 함수를 작성하여 `Train and validate`를 진행하세요. 가능하면 training되는 과정을 출력하도록 하세요:\n",
    "\n",
    "예제:\n",
    "```\n",
    "Started Training...\n",
    "Epoch: 1 \tTraining Loss: 3.317162 \tValidation Loss: 4.162958\n",
    "Validation loss decreased (inf --> 4.162958).  Saving model ...\n",
    "Epoch: 2 \tTraining Loss: 2.420140 \tValidation Loss: 4.182362\n",
    "Finished training\n",
    "<All keys matched successfully>\n",
    "\n",
    "```\n",
    "\n",
    "\n",
    "* 코드 전체를 주석으로 설명하세요\n",
    "* function name : train\n",
    "    * input : `n_epochs`, `train_batches`, `valid_batches`, `model`, `optimizer`, `criterion`, `use_cuda`, `save_path`\n",
    "        * `n_epochs` : epochs 의 수 \n",
    "        * `train_batches` : training data loader\n",
    "        * `valid_batches` : validation data loader\n",
    "        * `model` : 구성한 모델\n",
    "        * `optimizer` : 선택한 optimizer\n",
    "        * `criterion` : 선택한 loss function\n",
    "        * `use_cuda` : 쿠다 사용 여부\n",
    "        * `save_path` : 학습된 모델을 저장할 위치\n",
    "        \n",
    "    * output : `model`, `train_losses`, `valid_losses`\n",
    "        * `model`: 학습이 완료된 모델을 반환\n",
    "        * `train_losses`, `valid_losses`: epoch 별 training loss와 validation loss (자료형 list)\n",
    "* 본 과정을 설명하는데 필요하다고 생각하는 추가 `output` 이 있다면, `output` 종류를 더 만드셔도 좋습니다\n",
    "        "
   ]
  },
  {
   "cell_type": "markdown",
   "metadata": {
    "colab_type": "text",
    "id": "3M-HE_wbJSMs"
   },
   "source": [
    "**[답 작성]**"
   ]
  },
  {
   "cell_type": "code",
   "execution_count": 34,
   "metadata": {
    "colab": {},
    "colab_type": "code",
    "id": "BmQwqe17pv54"
   },
   "outputs": [],
   "source": [
    "ImageFile.LOAD_TRUNCATED_IMAGES = True\n",
    "# 문제 10 답 작성\n",
    "\n",
    "def train(epochs, train_loader, valid_loader, model, optimizer, criterion, use_cuda, save_path):\n",
    "    ### 답 작성 부분 ###\n",
    "\n",
    "    validation_losses_min = np.Inf # 무한대를 표현하기 위해서 np.inf사용\n",
    "\n",
    "    for e in range(epochs):\n",
    "\n",
    "      train_losses = 0\n",
    "      valid_losses = 0\n",
    "\n",
    "      model_scratch.train()\n",
    "      \n",
    "      for images, labels in train_batches:\n",
    "\n",
    "      # for idx, (images, labels) in enumerate(train_batches):\n",
    "      #   if idx == 2:\n",
    "      #     break\n",
    "\n",
    "          #앞의 model.to와 같이 input값과 label 값들도 gpu로 계산하기 위해서 cuda형식으로 바꿔서 계산\n",
    "          #GPU를 쓰기위해 data 와 target을 cuda형식으로 바꿔줌\n",
    "          if use_cuda:\n",
    "            images, labels = images.cuda(), labels.cuda()\n",
    "          optimizer_scratch.zero_grad()#여기서 다시 grad 켜준다.\n",
    "          log_ps = model_scratch(images)\n",
    "          loss = criterion_scratch(log_ps, labels)#앞 네트워크에서 작업한 self와 x 의 인수로 들어감\n",
    "          loss.backward()\n",
    "          #update하는 과정, 파라미터 바꿔줌\n",
    "          optimizer_scratch.step()\n",
    "\n",
    "          train_losses += loss.item()*images.size(0)\n",
    "          #data.size 곱해주는 이유 = loss.item은 전체 데이터 셋을 나눈 값이기 때문에 나중에 평균 내려면\n",
    "          #20으로 나누기 전 값이 train_loss에 각각 더해저 나중에 dataset의 크기로 나눠 평균을 구할 수 있다.\n",
    "    \n",
    "      #validation 값들을 출력해줄 변수\n",
    "      accuracy = 0\n",
    "      # Gradient를 계산할 필요 없으니 비활성화\n",
    "      # with torch.no_grad():\n",
    "\n",
    "\n",
    "      #validation 과정에서는 dropout을 비활성화 ->droupout 확률이 0으로 동작\n",
    "      model.eval()#꺼주고->#validation 학습 안하게 함\n",
    "      #traing 다 끝나고 돌린다. validation 하는 부분\n",
    "      for images, labels in valid_batches:\n",
    "        if use_cuda:\n",
    "          images, labels = images.cuda(), labels.cuda()\n",
    "        log_ps = model_scratch(images)\n",
    "        loss = criterion_scratch(log_ps, labels)\n",
    "        valid_losses += loss.item()*images.size(0)\n",
    "        ps = torch.exp(log_ps)\n",
    "        top_p, top_class = ps.topk(1,dim=1)\n",
    "\n",
    "        equals = top_class == labels.view(*top_class.shape)\n",
    "\n",
    "        accuracy += torch.mean(equals.type(torch.FloatTensor))\n",
    "\n",
    "      train_losses = train_losses/len(train_batches)\n",
    "      valid_losses = valid_losses/len(valid_batches)\n",
    "\n",
    "      print('Epoch: {} \\tTraining Loss: {:.6f} \\tValidation Loss: {:.6f}'.format(e, train_losses, valid_losses))\n",
    "      if valid_losses <= validation_losses_min:\n",
    "        print('Validation loss decreased ({:.6f} --> {:.6f}).  Saving model ...'.format(validation_losses_min, valid_losses))\n",
    "        torch.save(model.state_dict(), save_path)#model_scratch.pt 의 이름으로 저장해라\n",
    "        #이전단계와 계속 비교해야 하니까 최소값을 저장된 validation(더낮은)것으로 저장해줌\n",
    "        validation_losses_min = valid_losses\n",
    "\n",
    "\n",
    "    return model_scratch, train_losses, valid_losses"
   ]
  },
  {
   "cell_type": "code",
   "execution_count": 35,
   "metadata": {
    "colab": {
     "base_uri": "https://localhost:8080/",
     "height": 828
    },
    "colab_type": "code",
    "id": "vfbSApc349mo",
    "outputId": "db10e660-3752-437b-cf46-1c1a9dde26e8"
   },
   "outputs": [
    {
     "ename": "RuntimeError",
     "evalue": "ignored",
     "output_type": "error",
     "traceback": [
      "\u001b[0;31m---------------------------------------------------------------------------\u001b[0m",
      "\u001b[0;31mRuntimeError\u001b[0m                              Traceback (most recent call last)",
      "\u001b[0;32m<ipython-input-35-e501b947e286>\u001b[0m in \u001b[0;36m<module>\u001b[0;34m()\u001b[0m\n\u001b[1;32m      8\u001b[0m \u001b[0;34m\u001b[0m\u001b[0m\n\u001b[1;32m      9\u001b[0m \u001b[0;31m# model_scratch 학습하기\u001b[0m\u001b[0;34m\u001b[0m\u001b[0;34m\u001b[0m\u001b[0;34m\u001b[0m\u001b[0m\n\u001b[0;32m---> 10\u001b[0;31m \u001b[0mmodel_scratch\u001b[0m\u001b[0;34m,\u001b[0m \u001b[0mtrain_losses\u001b[0m\u001b[0;34m,\u001b[0m \u001b[0mvalid_losses\u001b[0m \u001b[0;34m=\u001b[0m \u001b[0mtrain\u001b[0m\u001b[0;34m(\u001b[0m\u001b[0mepochs\u001b[0m\u001b[0;34m,\u001b[0m \u001b[0mtrain_batches\u001b[0m\u001b[0;34m,\u001b[0m \u001b[0mvalid_batches\u001b[0m\u001b[0;34m,\u001b[0m \u001b[0mmodel_scratch\u001b[0m\u001b[0;34m,\u001b[0m \u001b[0moptimizer_scratch\u001b[0m\u001b[0;34m,\u001b[0m \u001b[0mcriterion_scratch\u001b[0m\u001b[0;34m,\u001b[0m \u001b[0muse_cuda\u001b[0m\u001b[0;34m,\u001b[0m \u001b[0msave_path\u001b[0m\u001b[0;34m)\u001b[0m\u001b[0;34m\u001b[0m\u001b[0;34m\u001b[0m\u001b[0m\n\u001b[0m\u001b[1;32m     11\u001b[0m \u001b[0;34m\u001b[0m\u001b[0m\n\u001b[1;32m     12\u001b[0m \u001b[0;31m# validation이 가장 좋았던 모델 parameter 불러와서 저장하기\u001b[0m\u001b[0;34m\u001b[0m\u001b[0;34m\u001b[0m\u001b[0;34m\u001b[0m\u001b[0m\n",
      "\u001b[0;32m<ipython-input-34-615dc99b586c>\u001b[0m in \u001b[0;36mtrain\u001b[0;34m(epochs, train_loader, valid_loader, model, optimizer, criterion, use_cuda, save_path)\u001b[0m\n\u001b[1;32m     27\u001b[0m           \u001b[0mlog_ps\u001b[0m \u001b[0;34m=\u001b[0m \u001b[0mmodel_scratch\u001b[0m\u001b[0;34m(\u001b[0m\u001b[0mimages\u001b[0m\u001b[0;34m)\u001b[0m\u001b[0;34m\u001b[0m\u001b[0;34m\u001b[0m\u001b[0m\n\u001b[1;32m     28\u001b[0m           \u001b[0mloss\u001b[0m \u001b[0;34m=\u001b[0m \u001b[0mcriterion_scratch\u001b[0m\u001b[0;34m(\u001b[0m\u001b[0mlog_ps\u001b[0m\u001b[0;34m,\u001b[0m \u001b[0mlabels\u001b[0m\u001b[0;34m)\u001b[0m\u001b[0;31m#앞 네트워크에서 작업한 self와 x 의 인수로 들어감\u001b[0m\u001b[0;34m\u001b[0m\u001b[0;34m\u001b[0m\u001b[0m\n\u001b[0;32m---> 29\u001b[0;31m           \u001b[0mloss\u001b[0m\u001b[0;34m.\u001b[0m\u001b[0mbackward\u001b[0m\u001b[0;34m(\u001b[0m\u001b[0;34m)\u001b[0m\u001b[0;34m\u001b[0m\u001b[0;34m\u001b[0m\u001b[0m\n\u001b[0m\u001b[1;32m     30\u001b[0m           \u001b[0;31m#update하는 과정, 파라미터 바꿔줌\u001b[0m\u001b[0;34m\u001b[0m\u001b[0;34m\u001b[0m\u001b[0;34m\u001b[0m\u001b[0m\n\u001b[1;32m     31\u001b[0m           \u001b[0moptimizer_scratch\u001b[0m\u001b[0;34m.\u001b[0m\u001b[0mstep\u001b[0m\u001b[0;34m(\u001b[0m\u001b[0;34m)\u001b[0m\u001b[0;34m\u001b[0m\u001b[0;34m\u001b[0m\u001b[0m\n",
      "\u001b[0;32m/usr/local/lib/python3.6/dist-packages/torch/tensor.py\u001b[0m in \u001b[0;36mbackward\u001b[0;34m(self, gradient, retain_graph, create_graph)\u001b[0m\n\u001b[1;32m    196\u001b[0m                 \u001b[0mproducts\u001b[0m\u001b[0;34m.\u001b[0m \u001b[0mDefaults\u001b[0m \u001b[0mto\u001b[0m\u001b[0;31m \u001b[0m\u001b[0;31m`\u001b[0m\u001b[0;31m`\u001b[0m\u001b[0;32mFalse\u001b[0m\u001b[0;31m`\u001b[0m\u001b[0;31m`\u001b[0m\u001b[0;34m.\u001b[0m\u001b[0;34m\u001b[0m\u001b[0;34m\u001b[0m\u001b[0m\n\u001b[1;32m    197\u001b[0m         \"\"\"\n\u001b[0;32m--> 198\u001b[0;31m         \u001b[0mtorch\u001b[0m\u001b[0;34m.\u001b[0m\u001b[0mautograd\u001b[0m\u001b[0;34m.\u001b[0m\u001b[0mbackward\u001b[0m\u001b[0;34m(\u001b[0m\u001b[0mself\u001b[0m\u001b[0;34m,\u001b[0m \u001b[0mgradient\u001b[0m\u001b[0;34m,\u001b[0m \u001b[0mretain_graph\u001b[0m\u001b[0;34m,\u001b[0m \u001b[0mcreate_graph\u001b[0m\u001b[0;34m)\u001b[0m\u001b[0;34m\u001b[0m\u001b[0;34m\u001b[0m\u001b[0m\n\u001b[0m\u001b[1;32m    199\u001b[0m \u001b[0;34m\u001b[0m\u001b[0m\n\u001b[1;32m    200\u001b[0m     \u001b[0;32mdef\u001b[0m \u001b[0mregister_hook\u001b[0m\u001b[0;34m(\u001b[0m\u001b[0mself\u001b[0m\u001b[0;34m,\u001b[0m \u001b[0mhook\u001b[0m\u001b[0;34m)\u001b[0m\u001b[0;34m:\u001b[0m\u001b[0;34m\u001b[0m\u001b[0;34m\u001b[0m\u001b[0m\n",
      "\u001b[0;32m/usr/local/lib/python3.6/dist-packages/torch/autograd/__init__.py\u001b[0m in \u001b[0;36mbackward\u001b[0;34m(tensors, grad_tensors, retain_graph, create_graph, grad_variables)\u001b[0m\n\u001b[1;32m     98\u001b[0m     Variable._execution_engine.run_backward(\n\u001b[1;32m     99\u001b[0m         \u001b[0mtensors\u001b[0m\u001b[0;34m,\u001b[0m \u001b[0mgrad_tensors\u001b[0m\u001b[0;34m,\u001b[0m \u001b[0mretain_graph\u001b[0m\u001b[0;34m,\u001b[0m \u001b[0mcreate_graph\u001b[0m\u001b[0;34m,\u001b[0m\u001b[0;34m\u001b[0m\u001b[0;34m\u001b[0m\u001b[0m\n\u001b[0;32m--> 100\u001b[0;31m         allow_unreachable=True)  # allow_unreachable flag\n\u001b[0m\u001b[1;32m    101\u001b[0m \u001b[0;34m\u001b[0m\u001b[0m\n\u001b[1;32m    102\u001b[0m \u001b[0;34m\u001b[0m\u001b[0m\n",
      "\u001b[0;31mRuntimeError\u001b[0m: CUDA out of memory. Tried to allocate 2.10 GiB (GPU 0; 11.17 GiB total capacity; 7.82 GiB already allocated; 1.35 GiB free; 9.45 GiB reserved in total by PyTorch) (malloc at /pytorch/c10/cuda/CUDACachingAllocator.cpp:289)\nframe #0: c10::Error::Error(c10::SourceLocation, std::string const&) + 0x46 (0x7ff0ce2e8536 in /usr/local/lib/python3.6/dist-packages/torch/lib/libc10.so)\nframe #1: <unknown function> + 0x1cf1e (0x7ff0ce531f1e in /usr/local/lib/python3.6/dist-packages/torch/lib/libc10_cuda.so)\nframe #2: <unknown function> + 0x1df9e (0x7ff0ce532f9e in /usr/local/lib/python3.6/dist-packages/torch/lib/libc10_cuda.so)\nframe #3: THCStorage_resize + 0x96 (0x7ff0cf7d1c26 in /usr/local/lib/python3.6/dist-packages/torch/lib/libtorch_cuda.so)\nframe #4: at::native::(anonymous namespace)::resize_cuda_(at::Tensor&, c10::ArrayRef<long>, c10::optional<c10::MemoryFormat>) + 0x9aa (0x7ff0d0fe869a in /usr/local/lib/python3.6/dist-packages/torch/lib/libtorch_cuda.so)\nframe #5: <unknown function> + 0x28a5633 (0x7ff0d0fe9633 in /usr/local/lib/python3.6/dist-packages/torch/lib/libtorch_cuda.so)\nframe #6: <unknown function> + 0xf3a832 (0x7ff0cf67e832 in /usr/local/lib/python3.6/dist-packages/torch/lib/libtorch_cuda.so)\nframe #7: <unknown function> + 0x106c436 (0x7ff0cf7b0436 in /usr/local/lib/python3.6/dist-packages/torch/lib/libtorch_cuda.so)\nframe #8: <unknown function> + 0xf8f868 (0x7ff0cf6d3868 in /usr/local/lib/python3.6/dist-packages/torch/lib/libtorch_cuda.so)\nframe #9: <unknown function> + 0x10c3ec0 (0x7ff1070b9ec0 in /usr/local/lib/python3.6/dist-packages/torch/lib/libtorch_cpu.so)\nframe #10: <unknown function> + 0x2c9b6fe (0x7ff108c916fe in /usr/local/lib/python3.6/dist-packages/torch/lib/libtorch_cpu.so)\nframe #11: <unknown function> + 0x10c3ec0 (0x7ff1070b9ec0 in /usr/local/lib/python3.6/dist-packages/torch/lib/libtorch_cpu.so)\nframe #12: at::Tensor::mm(at::Tensor const&) const + 0xf0 (0x7ff106c7db70 in /usr/local/lib/python3.6/dist-packages/torch/lib/libtorch_cpu.so)\nframe #13: <unknown function> + 0x28e6b6c (0x7ff1088dcb6c in /usr/local/lib/python3.6/dist-packages/torch/lib/libtorch_cpu.so)\nframe #14: torch::autograd::generated::AddmmBackward::apply(std::vector<at::Tensor, std::allocator<at::Tensor> >&&) + 0x1b0 (0x7ff1088dd080 in /usr/local/lib/python3.6/dist-packages/torch/lib/libtorch_cpu.so)\nframe #15: <unknown function> + 0x2d89c05 (0x7ff108d7fc05 in /usr/local/lib/python3.6/dist-packages/torch/lib/libtorch_cpu.so)\nframe #16: torch::autograd::Engine::evaluate_function(std::shared_ptr<torch::autograd::GraphTask>&, torch::autograd::Node*, torch::autograd::InputBuffer&) + 0x16f3 (0x7ff108d7cf03 in /usr/local/lib/python3.6/dist-packages/torch/lib/libtorch_cpu.so)\nframe #17: torch::autograd::Engine::thread_main(std::shared_ptr<torch::autograd::GraphTask> const&, bool) + 0x3d2 (0x7ff108d7dce2 in /usr/local/lib/python3.6/dist-packages/torch/lib/libtorch_cpu.so)\nframe #18: torch::autograd::Engine::thread_init(int) + 0x39 (0x7ff108d76359 in /usr/local/lib/python3.6/dist-packages/torch/lib/libtorch_cpu.so)\nframe #19: torch::autograd::python::PythonEngine::thread_init(int) + 0x38 (0x7ff1154b5378 in /usr/local/lib/python3.6/dist-packages/torch/lib/libtorch_python.so)\nframe #20: <unknown function> + 0xbd6df (0x7ff1425996df in /usr/lib/x86_64-linux-gnu/libstdc++.so.6)\nframe #21: <unknown function> + 0x76db (0x7ff14367b6db in /lib/x86_64-linux-gnu/libpthread.so.0)\nframe #22: clone + 0x3f (0x7ff1439b488f in /lib/x86_64-linux-gnu/libc.so.6)\n"
     ]
    }
   ],
   "source": [
    "# 아래 코드 줄은 자른 이미지에 대해서 동작하도록 설정하는 부분이며, 주어지는 코드로 사용하세요\n",
    "# PIL image가 truncated 된 경우 사용할 수 있도록 설정\n",
    "ImageFile.LOAD_TRUNCATED_IMAGES = True\n",
    "\n",
    "epochs = 10\n",
    "model_path = Path(\"models\").expanduser()\n",
    "save_path = model_path.joinpath(\"model_scratch.pt\")\n",
    "\n",
    "# model_scratch 학습하기\n",
    "model_scratch, train_losses, valid_losses = train(epochs, train_batches, valid_batches, model_scratch, optimizer_scratch, criterion_scratch, use_cuda, save_path)\n",
    "\n",
    "# validation이 가장 좋았던 모델 parameter 불러와서 저장하기\n",
    "model_scratch.load_state_dict(torch.load(save_path))"
   ]
  },
  {
   "cell_type": "code",
   "execution_count": null,
   "metadata": {
    "colab": {},
    "colab_type": "code",
    "id": "MXk_mqac4J-O"
   },
   "outputs": [],
   "source": [
    "# 성능 분석에 활용하기 위한 결과 plot 하는 방법\n",
    "plt.plot(train_losses, label='Training loss')\n",
    "plt.plot(valid_losses, label='Validation loss')\n",
    "plt.legend(frameon=False)\n",
    "\n",
    "plt.grid(True)"
   ]
  },
  {
   "cell_type": "markdown",
   "metadata": {
    "colab_type": "text",
    "id": "mmYp5xboJ0qG"
   },
   "source": [
    "## **[문제 11]** CNN model training/validation 분석\n",
    "\n",
    "* 위에서 수행한 training + validation 과정을 설명하세요\n",
    "* validation 과정을 분석하고, 학습을 개선시킨 방법을 validation 결과와 함께 분석하세요\n",
    "\n",
    "  * tranining loss와 validation loss 그래프를 통해서 분석\n",
    "  * hyper-parameter, model을 변경하면서 성능 개선한 과정을 최대한 설명하세요\n",
    "  * dropout, regularization, normalizationearly stopping 등 사용한 방법 설명\n",
    "  * overfitting, underfitting 분석"
   ]
  },
  {
   "cell_type": "markdown",
   "metadata": {
    "colab_type": "text",
    "id": "g9bu9u3LOwQU"
   },
   "source": [
    "**[답 작성]**\n",
    "1. 만약 validation 그래프가 train 데이터와 비슷하다면 underfiting된 것으로 학습을 더해 성능이 좋아질 수 있다는 것을 말한다. valid 그래프가 train 그래프에 비해 계속해서 줄어들고 있다면 그건 overfitting 난 것으로 정규화나 dropout,regularzation으로 극복해 나가야 한다.\n",
    "\n",
    "2. 성능을 개선하기 위해서 normalize하는 부분의 mean값과 var 부분을 변경하였다. dropout을 이용해 데이터가 overfiting 되는 것을 방지했다. 데이터의 양을 늘리기 위해서 transform 부분의 데이터 형태들을 랜덤하게 rotation, resizecrop 해주었다.lr를 조절하여 overfiting을 방지하였다.batch_size를 줄여 더 많은 학습을 가능하게 했다. \n",
    "\n",
    "3. dropout은 중간에 랜덤하게 activation 들을 끊어 성능을 높이는 것이다. 각각의 중요도를 분산시켜 어느 한 가지 특징만 중요하지 않게 만든다. regularization은 overfiting을 막기위한 것으로 lr을 조정하여 관성법칙(과거 gradient를 곱해주는 것)더 부드럽고 빨리 최적값에 가까워지게 한다. 최적화 하기 위해서 backword를 이용했다. gradient 구하기 위해 사용하는 것으로 backpropagation 과정이 함축되 있다. 계속 기울기 줄여서 최소되는 기울기 찾는 과정으로, 뒤에서 앞으로 계산해 나간다. (앞단계에서 흘러들어온 미분 값) * (로컬 미분값) 대개 forward pass 계산될 때 backward 도 함께 수행되서 저장된다. 연산을 빠르게 하기 위해서 gpu에 올려 연산을 수행하였다. \n",
    "\n",
    "4. overfitting이란 train data(내가 제공한 데이타)에 너무 타이트하게 학습된것을 말한다. underfiting은 데이터 부족으로 인해 발생하는 문제로 복잡도가 너무 낮아 데이터에 대해 학습이 잘 이루어지지 않은 것을 말한다. "
   ]
  },
  {
   "cell_type": "markdown",
   "metadata": {
    "colab_type": "text",
    "id": "e3D1lrtypv56"
   },
   "source": [
    "## **[문제 12]** 학습한 모델에 대한 Test 과정\n",
    "\n",
    "위에서 학습한 모델을 이용하여 개 이미지의 test dataset에서의 예측결과를 확인하세요.<br>\n",
    "test loss 와 test accuracy를 계산하고 출력하세요.<br>\n",
    "test accuracy를 확인합니다 (9%이상 목표로 해보세요).<br>\n",
    "\n",
    "`test` 전에 test라는 함수를 작성하여 `test`를 진행하세요.\n",
    "* test 결과가 출력되도록 작성합니다\n",
    "\n",
    "* function name : test\n",
    "    * input : `test_batches`, `model`, `criterion`, `use_cuda`\n",
    "        * `test_batches` : test dataset loader\n",
    "        * `model` : 학습된 모델\n",
    "        * `criterion` : 선택한 loss function\n",
    "        * `use_cuda` : 쿠다 사용 여부\n",
    "        \n",
    "    * output : 없음.\n",
    "\n",
    "\n",
    "Test 모듈 실행 결과 예시\n",
    "```\n",
    "Test Loss: 3.924572\n",
    "\n",
    "\n",
    "Test Accuracy: 11% (98/836)\n",
    "```"
   ]
  },
  {
   "cell_type": "code",
   "execution_count": null,
   "metadata": {
    "colab": {},
    "colab_type": "code",
    "id": "eUN2IQlKpv56"
   },
   "outputs": [],
   "source": [
    "# 문제 12 답 작성\n",
    "\n",
    "# print(training.classes[1])\n",
    "def test(test_loader, model, criterion, use_cuda):\n",
    "\n",
    "    ### 답 작성 부분 ###\n",
    "\n",
    "    test_loss = 0.0\n",
    "    class_correct = list(0. for i in range(BREEDS))#133개의 0으로 된 list 만듬\n",
    "    class_total = list(0. for i in range(BREEDS))\n",
    "\n",
    "    model_scratch.eval()#test 여서 학습 안하게 함\n",
    "\n",
    "    for images, labels in test_batches:\n",
    "\n",
    "        if use_cuda:\n",
    "            images, labels = images.cuda(), labels.cuda()\n",
    "        \n",
    "\n",
    "        output = model(images)\n",
    "        loss = criterion_scratch(output, labels)\n",
    "        test_loss += loss.item()*images.size(0)\n",
    "    \n",
    "        #이중에서 확률이 가장 높은 것을 pred에다가 넣어줘라. ->1차원으로 봐야함\n",
    "        _, pred = torch.max(output, 1)\n",
    "    \n",
    "        #pred와 같은지 비교하는 부분 -> labels date의 형태를 pred 와 같이 변경시켜줘라\n",
    "        correct_tensor = pred.eq(labels.data.view_as(pred))\n",
    "\n",
    "        #만약 GPU가 아니면 그냥 numpy 해주고 GPU에서 사용했으면 cpu로 넘겨줘서 numpy 해줘라\n",
    "        #numpy 연산은 gpu에서 안되기 때문에 cpu로 넘겨주는 과정\n",
    "        correct = np.squeeze(correct_tensor.numpy()) if not use_cuda else np.squeeze(correct_tensor.cpu().numpy())\n",
    "    \n",
    "        #몇개 맞췄는지 개산 \n",
    "        for i in range(batch_size):#batch size = sample데이터 중 한번에 네트워크에 넘겨주는 데이터의 수\n",
    "            label = labels.data[i]\n",
    "            class_correct[label] += correct[i].item()\n",
    "            class_total[label] += 1\n",
    "\n",
    "\n",
    "    test_loss = test_loss/len(test_batches.dataset)\n",
    "    print('Test Loss: {:.6f}\\n'.format(test_loss))\n",
    "\n",
    "    for i in range(133):\n",
    "        if class_total[i] > 0:\n",
    "            #몇개 틀리고 맞았는지 알려주는 과정\n",
    "            print('Test Accuracy of %5s: %2d%% (%2d/%2d)' % (\n",
    "                training.classes[i], 100 * class_correct[i] / class_total[i],\n",
    "                np.sum(class_correct[i]), np.sum(class_total[i])))\n",
    "        else:\n",
    "            print('Test Accuracy of %5s: N/A (no training examples)' % (training.classes[i]))\n",
    "\n",
    "    print('\\nTest Accuracy (Overall): %2d%% (%2d/%2d)' % (\n",
    "        100. * np.sum(class_correct) / np.sum(class_total),\n",
    "        np.sum(class_correct), np.sum(class_total)))"
   ]
  },
  {
   "cell_type": "code",
   "execution_count": null,
   "metadata": {
    "colab": {},
    "colab_type": "code",
    "id": "upjNmcVybQQk"
   },
   "outputs": [],
   "source": [
    "# call test function    \n",
    "test(test_batches, model_scratch, criterion_scratch, use_cuda)"
   ]
  },
  {
   "cell_type": "markdown",
   "metadata": {
    "colab_type": "text",
    "id": "dm9jwwnQpv57"
   },
   "source": [
    "---\n",
    "<a id='step4'></a>\n",
    "# Step 4: Transfer learning을 활용한 개 품종 분류 네트워크 구성\n",
    "\n",
    "이제 transfer learning을 사용하여 이미지에서 개 품종을 식별 할 수있는 CNN을 만듭니다.<br>\n",
    "CNN은 test set에서 60 % 이상의 정확도를 권장합니다.\n"
   ]
  },
  {
   "cell_type": "markdown",
   "metadata": {
    "colab_type": "text",
    "id": "UmyoIUHapv59"
   },
   "source": [
    "## **[문제 13]** 개 품종 분류 CNN 구성\n",
    "\n",
    "[transfer learning](https://pytorch.org/docs/0.3.0/torchvision/models.html#torchvision-models)을 사용하여 개 품종을 분류하는 CNN을 만들도록 하겠습니다.<br>\n",
    "미리 학습된 모델을 사용하여 학습 시간을 줄이고 정확도를 높이며, 출력의 분류 layer들을 우리 목적에 맞게 변경하도록 합니다. (Transfer learning 실습 참고하세요).<br>\n",
    "* Pretrained 된 모델을 변수 `model_transfer`로 저장하십시오.<br>\n",
    "* `Torchvision`에서 Imagenet으로 학습된 모델을 위 링크에서 찾아서 다양하게 적용해보시고, 가장 적합하다고 판단되는 것을 선정해서 변경하시면 됩니다.\n",
    "* 모델별로 다르겠지만, classification을 위한 Fully connected layer (FCN) 부분을 우리 분류 목적에 맞게 변경하기 위해서 FCN 부분의 입력 길이를 파악학고, 최종단의 출력을 우리 목적에 맞게 변경하시면 됩니다\n",
    "\n",
    "* 우리 분류 개수는 위 `BREEDS`라는 자료에 저장되어 있습니다\n",
    "* `pretrained=True` 설정을 잊지 마세요"
   ]
  },
  {
   "cell_type": "code",
   "execution_count": 61,
   "metadata": {
    "colab": {
     "base_uri": "https://localhost:8080/",
     "height": 35
    },
    "colab_type": "code",
    "id": "_fHxD2yHEvt_",
    "outputId": "4075181a-2bfb-4590-d358-c5cec7fbec6c"
   },
   "outputs": [
    {
     "data": {
      "text/plain": [
       "133"
      ]
     },
     "execution_count": 61,
     "metadata": {
      "tags": []
     },
     "output_type": "execute_result"
    }
   ],
   "source": [
    "BREEDS"
   ]
  },
  {
   "cell_type": "markdown",
   "metadata": {
    "colab_type": "text",
    "id": "qj8baXiVYt9M"
   },
   "source": [
    "**[답 작성]**"
   ]
  },
  {
   "cell_type": "code",
   "execution_count": 62,
   "metadata": {
    "colab": {
     "base_uri": "https://localhost:8080/",
     "height": 85,
     "referenced_widgets": [
      "cfd7f3ee0536400d9a4ef73e6bc141fa",
      "f13ca13b2c1d47c49dce04275cca60d1",
      "36d084ad9df049b19b0d6d75b83fc93c",
      "f08669b2647549dcbdd6b1932e4bf910",
      "15a57c798f9f4433b0dee4b4885ee9ff",
      "e76a2d4376dc43c880aa0a4260a79bf4",
      "35c4027bc1db4b87bee2be3c24b573d5",
      "366b9b49b0eb4311b2152bde0e84510e"
     ]
    },
    "colab_type": "code",
    "id": "ZRVm6ieupv59",
    "outputId": "84ff9219-a1f2-4e20-dfea-38d24ef969a3"
   },
   "outputs": [
    {
     "name": "stderr",
     "output_type": "stream",
     "text": [
      "Downloading: \"https://download.pytorch.org/models/densenet161-8d451a50.pth\" to /root/.cache/torch/checkpoints/densenet161-8d451a50.pth\n"
     ]
    },
    {
     "data": {
      "application/vnd.jupyter.widget-view+json": {
       "model_id": "cfd7f3ee0536400d9a4ef73e6bc141fa",
       "version_major": 2,
       "version_minor": 0
      },
      "text/plain": [
       "HBox(children=(FloatProgress(value=0.0, max=115730790.0), HTML(value='')))"
      ]
     },
     "metadata": {
      "tags": []
     },
     "output_type": "display_data"
    },
    {
     "name": "stdout",
     "output_type": "stream",
     "text": [
      "\n"
     ]
    }
   ],
   "source": [
    "# 문제 13 답 작성 : Pretrained 모델을 불러오세요.\n",
    "model_transfer = models.densenet161(pretrained=True)"
   ]
  },
  {
   "cell_type": "markdown",
   "metadata": {
    "colab_type": "text",
    "id": "YBR3bBICcMFF"
   },
   "source": [
    "불러온 모델의 구조를 확인합니다"
   ]
  },
  {
   "cell_type": "code",
   "execution_count": 63,
   "metadata": {
    "colab": {
     "base_uri": "https://localhost:8080/",
     "height": 1000
    },
    "colab_type": "code",
    "id": "ANoZyA0-pv5_",
    "outputId": "ff1ac917-fe6a-414b-a0e7-297d0d2ac7df"
   },
   "outputs": [
    {
     "data": {
      "text/plain": [
       "DenseNet(\n",
       "  (features): Sequential(\n",
       "    (conv0): Conv2d(3, 96, kernel_size=(7, 7), stride=(2, 2), padding=(3, 3), bias=False)\n",
       "    (norm0): BatchNorm2d(96, eps=1e-05, momentum=0.1, affine=True, track_running_stats=True)\n",
       "    (relu0): ReLU(inplace=True)\n",
       "    (pool0): MaxPool2d(kernel_size=3, stride=2, padding=1, dilation=1, ceil_mode=False)\n",
       "    (denseblock1): _DenseBlock(\n",
       "      (denselayer1): _DenseLayer(\n",
       "        (norm1): BatchNorm2d(96, eps=1e-05, momentum=0.1, affine=True, track_running_stats=True)\n",
       "        (relu1): ReLU(inplace=True)\n",
       "        (conv1): Conv2d(96, 192, kernel_size=(1, 1), stride=(1, 1), bias=False)\n",
       "        (norm2): BatchNorm2d(192, eps=1e-05, momentum=0.1, affine=True, track_running_stats=True)\n",
       "        (relu2): ReLU(inplace=True)\n",
       "        (conv2): Conv2d(192, 48, kernel_size=(3, 3), stride=(1, 1), padding=(1, 1), bias=False)\n",
       "      )\n",
       "      (denselayer2): _DenseLayer(\n",
       "        (norm1): BatchNorm2d(144, eps=1e-05, momentum=0.1, affine=True, track_running_stats=True)\n",
       "        (relu1): ReLU(inplace=True)\n",
       "        (conv1): Conv2d(144, 192, kernel_size=(1, 1), stride=(1, 1), bias=False)\n",
       "        (norm2): BatchNorm2d(192, eps=1e-05, momentum=0.1, affine=True, track_running_stats=True)\n",
       "        (relu2): ReLU(inplace=True)\n",
       "        (conv2): Conv2d(192, 48, kernel_size=(3, 3), stride=(1, 1), padding=(1, 1), bias=False)\n",
       "      )\n",
       "      (denselayer3): _DenseLayer(\n",
       "        (norm1): BatchNorm2d(192, eps=1e-05, momentum=0.1, affine=True, track_running_stats=True)\n",
       "        (relu1): ReLU(inplace=True)\n",
       "        (conv1): Conv2d(192, 192, kernel_size=(1, 1), stride=(1, 1), bias=False)\n",
       "        (norm2): BatchNorm2d(192, eps=1e-05, momentum=0.1, affine=True, track_running_stats=True)\n",
       "        (relu2): ReLU(inplace=True)\n",
       "        (conv2): Conv2d(192, 48, kernel_size=(3, 3), stride=(1, 1), padding=(1, 1), bias=False)\n",
       "      )\n",
       "      (denselayer4): _DenseLayer(\n",
       "        (norm1): BatchNorm2d(240, eps=1e-05, momentum=0.1, affine=True, track_running_stats=True)\n",
       "        (relu1): ReLU(inplace=True)\n",
       "        (conv1): Conv2d(240, 192, kernel_size=(1, 1), stride=(1, 1), bias=False)\n",
       "        (norm2): BatchNorm2d(192, eps=1e-05, momentum=0.1, affine=True, track_running_stats=True)\n",
       "        (relu2): ReLU(inplace=True)\n",
       "        (conv2): Conv2d(192, 48, kernel_size=(3, 3), stride=(1, 1), padding=(1, 1), bias=False)\n",
       "      )\n",
       "      (denselayer5): _DenseLayer(\n",
       "        (norm1): BatchNorm2d(288, eps=1e-05, momentum=0.1, affine=True, track_running_stats=True)\n",
       "        (relu1): ReLU(inplace=True)\n",
       "        (conv1): Conv2d(288, 192, kernel_size=(1, 1), stride=(1, 1), bias=False)\n",
       "        (norm2): BatchNorm2d(192, eps=1e-05, momentum=0.1, affine=True, track_running_stats=True)\n",
       "        (relu2): ReLU(inplace=True)\n",
       "        (conv2): Conv2d(192, 48, kernel_size=(3, 3), stride=(1, 1), padding=(1, 1), bias=False)\n",
       "      )\n",
       "      (denselayer6): _DenseLayer(\n",
       "        (norm1): BatchNorm2d(336, eps=1e-05, momentum=0.1, affine=True, track_running_stats=True)\n",
       "        (relu1): ReLU(inplace=True)\n",
       "        (conv1): Conv2d(336, 192, kernel_size=(1, 1), stride=(1, 1), bias=False)\n",
       "        (norm2): BatchNorm2d(192, eps=1e-05, momentum=0.1, affine=True, track_running_stats=True)\n",
       "        (relu2): ReLU(inplace=True)\n",
       "        (conv2): Conv2d(192, 48, kernel_size=(3, 3), stride=(1, 1), padding=(1, 1), bias=False)\n",
       "      )\n",
       "    )\n",
       "    (transition1): _Transition(\n",
       "      (norm): BatchNorm2d(384, eps=1e-05, momentum=0.1, affine=True, track_running_stats=True)\n",
       "      (relu): ReLU(inplace=True)\n",
       "      (conv): Conv2d(384, 192, kernel_size=(1, 1), stride=(1, 1), bias=False)\n",
       "      (pool): AvgPool2d(kernel_size=2, stride=2, padding=0)\n",
       "    )\n",
       "    (denseblock2): _DenseBlock(\n",
       "      (denselayer1): _DenseLayer(\n",
       "        (norm1): BatchNorm2d(192, eps=1e-05, momentum=0.1, affine=True, track_running_stats=True)\n",
       "        (relu1): ReLU(inplace=True)\n",
       "        (conv1): Conv2d(192, 192, kernel_size=(1, 1), stride=(1, 1), bias=False)\n",
       "        (norm2): BatchNorm2d(192, eps=1e-05, momentum=0.1, affine=True, track_running_stats=True)\n",
       "        (relu2): ReLU(inplace=True)\n",
       "        (conv2): Conv2d(192, 48, kernel_size=(3, 3), stride=(1, 1), padding=(1, 1), bias=False)\n",
       "      )\n",
       "      (denselayer2): _DenseLayer(\n",
       "        (norm1): BatchNorm2d(240, eps=1e-05, momentum=0.1, affine=True, track_running_stats=True)\n",
       "        (relu1): ReLU(inplace=True)\n",
       "        (conv1): Conv2d(240, 192, kernel_size=(1, 1), stride=(1, 1), bias=False)\n",
       "        (norm2): BatchNorm2d(192, eps=1e-05, momentum=0.1, affine=True, track_running_stats=True)\n",
       "        (relu2): ReLU(inplace=True)\n",
       "        (conv2): Conv2d(192, 48, kernel_size=(3, 3), stride=(1, 1), padding=(1, 1), bias=False)\n",
       "      )\n",
       "      (denselayer3): _DenseLayer(\n",
       "        (norm1): BatchNorm2d(288, eps=1e-05, momentum=0.1, affine=True, track_running_stats=True)\n",
       "        (relu1): ReLU(inplace=True)\n",
       "        (conv1): Conv2d(288, 192, kernel_size=(1, 1), stride=(1, 1), bias=False)\n",
       "        (norm2): BatchNorm2d(192, eps=1e-05, momentum=0.1, affine=True, track_running_stats=True)\n",
       "        (relu2): ReLU(inplace=True)\n",
       "        (conv2): Conv2d(192, 48, kernel_size=(3, 3), stride=(1, 1), padding=(1, 1), bias=False)\n",
       "      )\n",
       "      (denselayer4): _DenseLayer(\n",
       "        (norm1): BatchNorm2d(336, eps=1e-05, momentum=0.1, affine=True, track_running_stats=True)\n",
       "        (relu1): ReLU(inplace=True)\n",
       "        (conv1): Conv2d(336, 192, kernel_size=(1, 1), stride=(1, 1), bias=False)\n",
       "        (norm2): BatchNorm2d(192, eps=1e-05, momentum=0.1, affine=True, track_running_stats=True)\n",
       "        (relu2): ReLU(inplace=True)\n",
       "        (conv2): Conv2d(192, 48, kernel_size=(3, 3), stride=(1, 1), padding=(1, 1), bias=False)\n",
       "      )\n",
       "      (denselayer5): _DenseLayer(\n",
       "        (norm1): BatchNorm2d(384, eps=1e-05, momentum=0.1, affine=True, track_running_stats=True)\n",
       "        (relu1): ReLU(inplace=True)\n",
       "        (conv1): Conv2d(384, 192, kernel_size=(1, 1), stride=(1, 1), bias=False)\n",
       "        (norm2): BatchNorm2d(192, eps=1e-05, momentum=0.1, affine=True, track_running_stats=True)\n",
       "        (relu2): ReLU(inplace=True)\n",
       "        (conv2): Conv2d(192, 48, kernel_size=(3, 3), stride=(1, 1), padding=(1, 1), bias=False)\n",
       "      )\n",
       "      (denselayer6): _DenseLayer(\n",
       "        (norm1): BatchNorm2d(432, eps=1e-05, momentum=0.1, affine=True, track_running_stats=True)\n",
       "        (relu1): ReLU(inplace=True)\n",
       "        (conv1): Conv2d(432, 192, kernel_size=(1, 1), stride=(1, 1), bias=False)\n",
       "        (norm2): BatchNorm2d(192, eps=1e-05, momentum=0.1, affine=True, track_running_stats=True)\n",
       "        (relu2): ReLU(inplace=True)\n",
       "        (conv2): Conv2d(192, 48, kernel_size=(3, 3), stride=(1, 1), padding=(1, 1), bias=False)\n",
       "      )\n",
       "      (denselayer7): _DenseLayer(\n",
       "        (norm1): BatchNorm2d(480, eps=1e-05, momentum=0.1, affine=True, track_running_stats=True)\n",
       "        (relu1): ReLU(inplace=True)\n",
       "        (conv1): Conv2d(480, 192, kernel_size=(1, 1), stride=(1, 1), bias=False)\n",
       "        (norm2): BatchNorm2d(192, eps=1e-05, momentum=0.1, affine=True, track_running_stats=True)\n",
       "        (relu2): ReLU(inplace=True)\n",
       "        (conv2): Conv2d(192, 48, kernel_size=(3, 3), stride=(1, 1), padding=(1, 1), bias=False)\n",
       "      )\n",
       "      (denselayer8): _DenseLayer(\n",
       "        (norm1): BatchNorm2d(528, eps=1e-05, momentum=0.1, affine=True, track_running_stats=True)\n",
       "        (relu1): ReLU(inplace=True)\n",
       "        (conv1): Conv2d(528, 192, kernel_size=(1, 1), stride=(1, 1), bias=False)\n",
       "        (norm2): BatchNorm2d(192, eps=1e-05, momentum=0.1, affine=True, track_running_stats=True)\n",
       "        (relu2): ReLU(inplace=True)\n",
       "        (conv2): Conv2d(192, 48, kernel_size=(3, 3), stride=(1, 1), padding=(1, 1), bias=False)\n",
       "      )\n",
       "      (denselayer9): _DenseLayer(\n",
       "        (norm1): BatchNorm2d(576, eps=1e-05, momentum=0.1, affine=True, track_running_stats=True)\n",
       "        (relu1): ReLU(inplace=True)\n",
       "        (conv1): Conv2d(576, 192, kernel_size=(1, 1), stride=(1, 1), bias=False)\n",
       "        (norm2): BatchNorm2d(192, eps=1e-05, momentum=0.1, affine=True, track_running_stats=True)\n",
       "        (relu2): ReLU(inplace=True)\n",
       "        (conv2): Conv2d(192, 48, kernel_size=(3, 3), stride=(1, 1), padding=(1, 1), bias=False)\n",
       "      )\n",
       "      (denselayer10): _DenseLayer(\n",
       "        (norm1): BatchNorm2d(624, eps=1e-05, momentum=0.1, affine=True, track_running_stats=True)\n",
       "        (relu1): ReLU(inplace=True)\n",
       "        (conv1): Conv2d(624, 192, kernel_size=(1, 1), stride=(1, 1), bias=False)\n",
       "        (norm2): BatchNorm2d(192, eps=1e-05, momentum=0.1, affine=True, track_running_stats=True)\n",
       "        (relu2): ReLU(inplace=True)\n",
       "        (conv2): Conv2d(192, 48, kernel_size=(3, 3), stride=(1, 1), padding=(1, 1), bias=False)\n",
       "      )\n",
       "      (denselayer11): _DenseLayer(\n",
       "        (norm1): BatchNorm2d(672, eps=1e-05, momentum=0.1, affine=True, track_running_stats=True)\n",
       "        (relu1): ReLU(inplace=True)\n",
       "        (conv1): Conv2d(672, 192, kernel_size=(1, 1), stride=(1, 1), bias=False)\n",
       "        (norm2): BatchNorm2d(192, eps=1e-05, momentum=0.1, affine=True, track_running_stats=True)\n",
       "        (relu2): ReLU(inplace=True)\n",
       "        (conv2): Conv2d(192, 48, kernel_size=(3, 3), stride=(1, 1), padding=(1, 1), bias=False)\n",
       "      )\n",
       "      (denselayer12): _DenseLayer(\n",
       "        (norm1): BatchNorm2d(720, eps=1e-05, momentum=0.1, affine=True, track_running_stats=True)\n",
       "        (relu1): ReLU(inplace=True)\n",
       "        (conv1): Conv2d(720, 192, kernel_size=(1, 1), stride=(1, 1), bias=False)\n",
       "        (norm2): BatchNorm2d(192, eps=1e-05, momentum=0.1, affine=True, track_running_stats=True)\n",
       "        (relu2): ReLU(inplace=True)\n",
       "        (conv2): Conv2d(192, 48, kernel_size=(3, 3), stride=(1, 1), padding=(1, 1), bias=False)\n",
       "      )\n",
       "    )\n",
       "    (transition2): _Transition(\n",
       "      (norm): BatchNorm2d(768, eps=1e-05, momentum=0.1, affine=True, track_running_stats=True)\n",
       "      (relu): ReLU(inplace=True)\n",
       "      (conv): Conv2d(768, 384, kernel_size=(1, 1), stride=(1, 1), bias=False)\n",
       "      (pool): AvgPool2d(kernel_size=2, stride=2, padding=0)\n",
       "    )\n",
       "    (denseblock3): _DenseBlock(\n",
       "      (denselayer1): _DenseLayer(\n",
       "        (norm1): BatchNorm2d(384, eps=1e-05, momentum=0.1, affine=True, track_running_stats=True)\n",
       "        (relu1): ReLU(inplace=True)\n",
       "        (conv1): Conv2d(384, 192, kernel_size=(1, 1), stride=(1, 1), bias=False)\n",
       "        (norm2): BatchNorm2d(192, eps=1e-05, momentum=0.1, affine=True, track_running_stats=True)\n",
       "        (relu2): ReLU(inplace=True)\n",
       "        (conv2): Conv2d(192, 48, kernel_size=(3, 3), stride=(1, 1), padding=(1, 1), bias=False)\n",
       "      )\n",
       "      (denselayer2): _DenseLayer(\n",
       "        (norm1): BatchNorm2d(432, eps=1e-05, momentum=0.1, affine=True, track_running_stats=True)\n",
       "        (relu1): ReLU(inplace=True)\n",
       "        (conv1): Conv2d(432, 192, kernel_size=(1, 1), stride=(1, 1), bias=False)\n",
       "        (norm2): BatchNorm2d(192, eps=1e-05, momentum=0.1, affine=True, track_running_stats=True)\n",
       "        (relu2): ReLU(inplace=True)\n",
       "        (conv2): Conv2d(192, 48, kernel_size=(3, 3), stride=(1, 1), padding=(1, 1), bias=False)\n",
       "      )\n",
       "      (denselayer3): _DenseLayer(\n",
       "        (norm1): BatchNorm2d(480, eps=1e-05, momentum=0.1, affine=True, track_running_stats=True)\n",
       "        (relu1): ReLU(inplace=True)\n",
       "        (conv1): Conv2d(480, 192, kernel_size=(1, 1), stride=(1, 1), bias=False)\n",
       "        (norm2): BatchNorm2d(192, eps=1e-05, momentum=0.1, affine=True, track_running_stats=True)\n",
       "        (relu2): ReLU(inplace=True)\n",
       "        (conv2): Conv2d(192, 48, kernel_size=(3, 3), stride=(1, 1), padding=(1, 1), bias=False)\n",
       "      )\n",
       "      (denselayer4): _DenseLayer(\n",
       "        (norm1): BatchNorm2d(528, eps=1e-05, momentum=0.1, affine=True, track_running_stats=True)\n",
       "        (relu1): ReLU(inplace=True)\n",
       "        (conv1): Conv2d(528, 192, kernel_size=(1, 1), stride=(1, 1), bias=False)\n",
       "        (norm2): BatchNorm2d(192, eps=1e-05, momentum=0.1, affine=True, track_running_stats=True)\n",
       "        (relu2): ReLU(inplace=True)\n",
       "        (conv2): Conv2d(192, 48, kernel_size=(3, 3), stride=(1, 1), padding=(1, 1), bias=False)\n",
       "      )\n",
       "      (denselayer5): _DenseLayer(\n",
       "        (norm1): BatchNorm2d(576, eps=1e-05, momentum=0.1, affine=True, track_running_stats=True)\n",
       "        (relu1): ReLU(inplace=True)\n",
       "        (conv1): Conv2d(576, 192, kernel_size=(1, 1), stride=(1, 1), bias=False)\n",
       "        (norm2): BatchNorm2d(192, eps=1e-05, momentum=0.1, affine=True, track_running_stats=True)\n",
       "        (relu2): ReLU(inplace=True)\n",
       "        (conv2): Conv2d(192, 48, kernel_size=(3, 3), stride=(1, 1), padding=(1, 1), bias=False)\n",
       "      )\n",
       "      (denselayer6): _DenseLayer(\n",
       "        (norm1): BatchNorm2d(624, eps=1e-05, momentum=0.1, affine=True, track_running_stats=True)\n",
       "        (relu1): ReLU(inplace=True)\n",
       "        (conv1): Conv2d(624, 192, kernel_size=(1, 1), stride=(1, 1), bias=False)\n",
       "        (norm2): BatchNorm2d(192, eps=1e-05, momentum=0.1, affine=True, track_running_stats=True)\n",
       "        (relu2): ReLU(inplace=True)\n",
       "        (conv2): Conv2d(192, 48, kernel_size=(3, 3), stride=(1, 1), padding=(1, 1), bias=False)\n",
       "      )\n",
       "      (denselayer7): _DenseLayer(\n",
       "        (norm1): BatchNorm2d(672, eps=1e-05, momentum=0.1, affine=True, track_running_stats=True)\n",
       "        (relu1): ReLU(inplace=True)\n",
       "        (conv1): Conv2d(672, 192, kernel_size=(1, 1), stride=(1, 1), bias=False)\n",
       "        (norm2): BatchNorm2d(192, eps=1e-05, momentum=0.1, affine=True, track_running_stats=True)\n",
       "        (relu2): ReLU(inplace=True)\n",
       "        (conv2): Conv2d(192, 48, kernel_size=(3, 3), stride=(1, 1), padding=(1, 1), bias=False)\n",
       "      )\n",
       "      (denselayer8): _DenseLayer(\n",
       "        (norm1): BatchNorm2d(720, eps=1e-05, momentum=0.1, affine=True, track_running_stats=True)\n",
       "        (relu1): ReLU(inplace=True)\n",
       "        (conv1): Conv2d(720, 192, kernel_size=(1, 1), stride=(1, 1), bias=False)\n",
       "        (norm2): BatchNorm2d(192, eps=1e-05, momentum=0.1, affine=True, track_running_stats=True)\n",
       "        (relu2): ReLU(inplace=True)\n",
       "        (conv2): Conv2d(192, 48, kernel_size=(3, 3), stride=(1, 1), padding=(1, 1), bias=False)\n",
       "      )\n",
       "      (denselayer9): _DenseLayer(\n",
       "        (norm1): BatchNorm2d(768, eps=1e-05, momentum=0.1, affine=True, track_running_stats=True)\n",
       "        (relu1): ReLU(inplace=True)\n",
       "        (conv1): Conv2d(768, 192, kernel_size=(1, 1), stride=(1, 1), bias=False)\n",
       "        (norm2): BatchNorm2d(192, eps=1e-05, momentum=0.1, affine=True, track_running_stats=True)\n",
       "        (relu2): ReLU(inplace=True)\n",
       "        (conv2): Conv2d(192, 48, kernel_size=(3, 3), stride=(1, 1), padding=(1, 1), bias=False)\n",
       "      )\n",
       "      (denselayer10): _DenseLayer(\n",
       "        (norm1): BatchNorm2d(816, eps=1e-05, momentum=0.1, affine=True, track_running_stats=True)\n",
       "        (relu1): ReLU(inplace=True)\n",
       "        (conv1): Conv2d(816, 192, kernel_size=(1, 1), stride=(1, 1), bias=False)\n",
       "        (norm2): BatchNorm2d(192, eps=1e-05, momentum=0.1, affine=True, track_running_stats=True)\n",
       "        (relu2): ReLU(inplace=True)\n",
       "        (conv2): Conv2d(192, 48, kernel_size=(3, 3), stride=(1, 1), padding=(1, 1), bias=False)\n",
       "      )\n",
       "      (denselayer11): _DenseLayer(\n",
       "        (norm1): BatchNorm2d(864, eps=1e-05, momentum=0.1, affine=True, track_running_stats=True)\n",
       "        (relu1): ReLU(inplace=True)\n",
       "        (conv1): Conv2d(864, 192, kernel_size=(1, 1), stride=(1, 1), bias=False)\n",
       "        (norm2): BatchNorm2d(192, eps=1e-05, momentum=0.1, affine=True, track_running_stats=True)\n",
       "        (relu2): ReLU(inplace=True)\n",
       "        (conv2): Conv2d(192, 48, kernel_size=(3, 3), stride=(1, 1), padding=(1, 1), bias=False)\n",
       "      )\n",
       "      (denselayer12): _DenseLayer(\n",
       "        (norm1): BatchNorm2d(912, eps=1e-05, momentum=0.1, affine=True, track_running_stats=True)\n",
       "        (relu1): ReLU(inplace=True)\n",
       "        (conv1): Conv2d(912, 192, kernel_size=(1, 1), stride=(1, 1), bias=False)\n",
       "        (norm2): BatchNorm2d(192, eps=1e-05, momentum=0.1, affine=True, track_running_stats=True)\n",
       "        (relu2): ReLU(inplace=True)\n",
       "        (conv2): Conv2d(192, 48, kernel_size=(3, 3), stride=(1, 1), padding=(1, 1), bias=False)\n",
       "      )\n",
       "      (denselayer13): _DenseLayer(\n",
       "        (norm1): BatchNorm2d(960, eps=1e-05, momentum=0.1, affine=True, track_running_stats=True)\n",
       "        (relu1): ReLU(inplace=True)\n",
       "        (conv1): Conv2d(960, 192, kernel_size=(1, 1), stride=(1, 1), bias=False)\n",
       "        (norm2): BatchNorm2d(192, eps=1e-05, momentum=0.1, affine=True, track_running_stats=True)\n",
       "        (relu2): ReLU(inplace=True)\n",
       "        (conv2): Conv2d(192, 48, kernel_size=(3, 3), stride=(1, 1), padding=(1, 1), bias=False)\n",
       "      )\n",
       "      (denselayer14): _DenseLayer(\n",
       "        (norm1): BatchNorm2d(1008, eps=1e-05, momentum=0.1, affine=True, track_running_stats=True)\n",
       "        (relu1): ReLU(inplace=True)\n",
       "        (conv1): Conv2d(1008, 192, kernel_size=(1, 1), stride=(1, 1), bias=False)\n",
       "        (norm2): BatchNorm2d(192, eps=1e-05, momentum=0.1, affine=True, track_running_stats=True)\n",
       "        (relu2): ReLU(inplace=True)\n",
       "        (conv2): Conv2d(192, 48, kernel_size=(3, 3), stride=(1, 1), padding=(1, 1), bias=False)\n",
       "      )\n",
       "      (denselayer15): _DenseLayer(\n",
       "        (norm1): BatchNorm2d(1056, eps=1e-05, momentum=0.1, affine=True, track_running_stats=True)\n",
       "        (relu1): ReLU(inplace=True)\n",
       "        (conv1): Conv2d(1056, 192, kernel_size=(1, 1), stride=(1, 1), bias=False)\n",
       "        (norm2): BatchNorm2d(192, eps=1e-05, momentum=0.1, affine=True, track_running_stats=True)\n",
       "        (relu2): ReLU(inplace=True)\n",
       "        (conv2): Conv2d(192, 48, kernel_size=(3, 3), stride=(1, 1), padding=(1, 1), bias=False)\n",
       "      )\n",
       "      (denselayer16): _DenseLayer(\n",
       "        (norm1): BatchNorm2d(1104, eps=1e-05, momentum=0.1, affine=True, track_running_stats=True)\n",
       "        (relu1): ReLU(inplace=True)\n",
       "        (conv1): Conv2d(1104, 192, kernel_size=(1, 1), stride=(1, 1), bias=False)\n",
       "        (norm2): BatchNorm2d(192, eps=1e-05, momentum=0.1, affine=True, track_running_stats=True)\n",
       "        (relu2): ReLU(inplace=True)\n",
       "        (conv2): Conv2d(192, 48, kernel_size=(3, 3), stride=(1, 1), padding=(1, 1), bias=False)\n",
       "      )\n",
       "      (denselayer17): _DenseLayer(\n",
       "        (norm1): BatchNorm2d(1152, eps=1e-05, momentum=0.1, affine=True, track_running_stats=True)\n",
       "        (relu1): ReLU(inplace=True)\n",
       "        (conv1): Conv2d(1152, 192, kernel_size=(1, 1), stride=(1, 1), bias=False)\n",
       "        (norm2): BatchNorm2d(192, eps=1e-05, momentum=0.1, affine=True, track_running_stats=True)\n",
       "        (relu2): ReLU(inplace=True)\n",
       "        (conv2): Conv2d(192, 48, kernel_size=(3, 3), stride=(1, 1), padding=(1, 1), bias=False)\n",
       "      )\n",
       "      (denselayer18): _DenseLayer(\n",
       "        (norm1): BatchNorm2d(1200, eps=1e-05, momentum=0.1, affine=True, track_running_stats=True)\n",
       "        (relu1): ReLU(inplace=True)\n",
       "        (conv1): Conv2d(1200, 192, kernel_size=(1, 1), stride=(1, 1), bias=False)\n",
       "        (norm2): BatchNorm2d(192, eps=1e-05, momentum=0.1, affine=True, track_running_stats=True)\n",
       "        (relu2): ReLU(inplace=True)\n",
       "        (conv2): Conv2d(192, 48, kernel_size=(3, 3), stride=(1, 1), padding=(1, 1), bias=False)\n",
       "      )\n",
       "      (denselayer19): _DenseLayer(\n",
       "        (norm1): BatchNorm2d(1248, eps=1e-05, momentum=0.1, affine=True, track_running_stats=True)\n",
       "        (relu1): ReLU(inplace=True)\n",
       "        (conv1): Conv2d(1248, 192, kernel_size=(1, 1), stride=(1, 1), bias=False)\n",
       "        (norm2): BatchNorm2d(192, eps=1e-05, momentum=0.1, affine=True, track_running_stats=True)\n",
       "        (relu2): ReLU(inplace=True)\n",
       "        (conv2): Conv2d(192, 48, kernel_size=(3, 3), stride=(1, 1), padding=(1, 1), bias=False)\n",
       "      )\n",
       "      (denselayer20): _DenseLayer(\n",
       "        (norm1): BatchNorm2d(1296, eps=1e-05, momentum=0.1, affine=True, track_running_stats=True)\n",
       "        (relu1): ReLU(inplace=True)\n",
       "        (conv1): Conv2d(1296, 192, kernel_size=(1, 1), stride=(1, 1), bias=False)\n",
       "        (norm2): BatchNorm2d(192, eps=1e-05, momentum=0.1, affine=True, track_running_stats=True)\n",
       "        (relu2): ReLU(inplace=True)\n",
       "        (conv2): Conv2d(192, 48, kernel_size=(3, 3), stride=(1, 1), padding=(1, 1), bias=False)\n",
       "      )\n",
       "      (denselayer21): _DenseLayer(\n",
       "        (norm1): BatchNorm2d(1344, eps=1e-05, momentum=0.1, affine=True, track_running_stats=True)\n",
       "        (relu1): ReLU(inplace=True)\n",
       "        (conv1): Conv2d(1344, 192, kernel_size=(1, 1), stride=(1, 1), bias=False)\n",
       "        (norm2): BatchNorm2d(192, eps=1e-05, momentum=0.1, affine=True, track_running_stats=True)\n",
       "        (relu2): ReLU(inplace=True)\n",
       "        (conv2): Conv2d(192, 48, kernel_size=(3, 3), stride=(1, 1), padding=(1, 1), bias=False)\n",
       "      )\n",
       "      (denselayer22): _DenseLayer(\n",
       "        (norm1): BatchNorm2d(1392, eps=1e-05, momentum=0.1, affine=True, track_running_stats=True)\n",
       "        (relu1): ReLU(inplace=True)\n",
       "        (conv1): Conv2d(1392, 192, kernel_size=(1, 1), stride=(1, 1), bias=False)\n",
       "        (norm2): BatchNorm2d(192, eps=1e-05, momentum=0.1, affine=True, track_running_stats=True)\n",
       "        (relu2): ReLU(inplace=True)\n",
       "        (conv2): Conv2d(192, 48, kernel_size=(3, 3), stride=(1, 1), padding=(1, 1), bias=False)\n",
       "      )\n",
       "      (denselayer23): _DenseLayer(\n",
       "        (norm1): BatchNorm2d(1440, eps=1e-05, momentum=0.1, affine=True, track_running_stats=True)\n",
       "        (relu1): ReLU(inplace=True)\n",
       "        (conv1): Conv2d(1440, 192, kernel_size=(1, 1), stride=(1, 1), bias=False)\n",
       "        (norm2): BatchNorm2d(192, eps=1e-05, momentum=0.1, affine=True, track_running_stats=True)\n",
       "        (relu2): ReLU(inplace=True)\n",
       "        (conv2): Conv2d(192, 48, kernel_size=(3, 3), stride=(1, 1), padding=(1, 1), bias=False)\n",
       "      )\n",
       "      (denselayer24): _DenseLayer(\n",
       "        (norm1): BatchNorm2d(1488, eps=1e-05, momentum=0.1, affine=True, track_running_stats=True)\n",
       "        (relu1): ReLU(inplace=True)\n",
       "        (conv1): Conv2d(1488, 192, kernel_size=(1, 1), stride=(1, 1), bias=False)\n",
       "        (norm2): BatchNorm2d(192, eps=1e-05, momentum=0.1, affine=True, track_running_stats=True)\n",
       "        (relu2): ReLU(inplace=True)\n",
       "        (conv2): Conv2d(192, 48, kernel_size=(3, 3), stride=(1, 1), padding=(1, 1), bias=False)\n",
       "      )\n",
       "      (denselayer25): _DenseLayer(\n",
       "        (norm1): BatchNorm2d(1536, eps=1e-05, momentum=0.1, affine=True, track_running_stats=True)\n",
       "        (relu1): ReLU(inplace=True)\n",
       "        (conv1): Conv2d(1536, 192, kernel_size=(1, 1), stride=(1, 1), bias=False)\n",
       "        (norm2): BatchNorm2d(192, eps=1e-05, momentum=0.1, affine=True, track_running_stats=True)\n",
       "        (relu2): ReLU(inplace=True)\n",
       "        (conv2): Conv2d(192, 48, kernel_size=(3, 3), stride=(1, 1), padding=(1, 1), bias=False)\n",
       "      )\n",
       "      (denselayer26): _DenseLayer(\n",
       "        (norm1): BatchNorm2d(1584, eps=1e-05, momentum=0.1, affine=True, track_running_stats=True)\n",
       "        (relu1): ReLU(inplace=True)\n",
       "        (conv1): Conv2d(1584, 192, kernel_size=(1, 1), stride=(1, 1), bias=False)\n",
       "        (norm2): BatchNorm2d(192, eps=1e-05, momentum=0.1, affine=True, track_running_stats=True)\n",
       "        (relu2): ReLU(inplace=True)\n",
       "        (conv2): Conv2d(192, 48, kernel_size=(3, 3), stride=(1, 1), padding=(1, 1), bias=False)\n",
       "      )\n",
       "      (denselayer27): _DenseLayer(\n",
       "        (norm1): BatchNorm2d(1632, eps=1e-05, momentum=0.1, affine=True, track_running_stats=True)\n",
       "        (relu1): ReLU(inplace=True)\n",
       "        (conv1): Conv2d(1632, 192, kernel_size=(1, 1), stride=(1, 1), bias=False)\n",
       "        (norm2): BatchNorm2d(192, eps=1e-05, momentum=0.1, affine=True, track_running_stats=True)\n",
       "        (relu2): ReLU(inplace=True)\n",
       "        (conv2): Conv2d(192, 48, kernel_size=(3, 3), stride=(1, 1), padding=(1, 1), bias=False)\n",
       "      )\n",
       "      (denselayer28): _DenseLayer(\n",
       "        (norm1): BatchNorm2d(1680, eps=1e-05, momentum=0.1, affine=True, track_running_stats=True)\n",
       "        (relu1): ReLU(inplace=True)\n",
       "        (conv1): Conv2d(1680, 192, kernel_size=(1, 1), stride=(1, 1), bias=False)\n",
       "        (norm2): BatchNorm2d(192, eps=1e-05, momentum=0.1, affine=True, track_running_stats=True)\n",
       "        (relu2): ReLU(inplace=True)\n",
       "        (conv2): Conv2d(192, 48, kernel_size=(3, 3), stride=(1, 1), padding=(1, 1), bias=False)\n",
       "      )\n",
       "      (denselayer29): _DenseLayer(\n",
       "        (norm1): BatchNorm2d(1728, eps=1e-05, momentum=0.1, affine=True, track_running_stats=True)\n",
       "        (relu1): ReLU(inplace=True)\n",
       "        (conv1): Conv2d(1728, 192, kernel_size=(1, 1), stride=(1, 1), bias=False)\n",
       "        (norm2): BatchNorm2d(192, eps=1e-05, momentum=0.1, affine=True, track_running_stats=True)\n",
       "        (relu2): ReLU(inplace=True)\n",
       "        (conv2): Conv2d(192, 48, kernel_size=(3, 3), stride=(1, 1), padding=(1, 1), bias=False)\n",
       "      )\n",
       "      (denselayer30): _DenseLayer(\n",
       "        (norm1): BatchNorm2d(1776, eps=1e-05, momentum=0.1, affine=True, track_running_stats=True)\n",
       "        (relu1): ReLU(inplace=True)\n",
       "        (conv1): Conv2d(1776, 192, kernel_size=(1, 1), stride=(1, 1), bias=False)\n",
       "        (norm2): BatchNorm2d(192, eps=1e-05, momentum=0.1, affine=True, track_running_stats=True)\n",
       "        (relu2): ReLU(inplace=True)\n",
       "        (conv2): Conv2d(192, 48, kernel_size=(3, 3), stride=(1, 1), padding=(1, 1), bias=False)\n",
       "      )\n",
       "      (denselayer31): _DenseLayer(\n",
       "        (norm1): BatchNorm2d(1824, eps=1e-05, momentum=0.1, affine=True, track_running_stats=True)\n",
       "        (relu1): ReLU(inplace=True)\n",
       "        (conv1): Conv2d(1824, 192, kernel_size=(1, 1), stride=(1, 1), bias=False)\n",
       "        (norm2): BatchNorm2d(192, eps=1e-05, momentum=0.1, affine=True, track_running_stats=True)\n",
       "        (relu2): ReLU(inplace=True)\n",
       "        (conv2): Conv2d(192, 48, kernel_size=(3, 3), stride=(1, 1), padding=(1, 1), bias=False)\n",
       "      )\n",
       "      (denselayer32): _DenseLayer(\n",
       "        (norm1): BatchNorm2d(1872, eps=1e-05, momentum=0.1, affine=True, track_running_stats=True)\n",
       "        (relu1): ReLU(inplace=True)\n",
       "        (conv1): Conv2d(1872, 192, kernel_size=(1, 1), stride=(1, 1), bias=False)\n",
       "        (norm2): BatchNorm2d(192, eps=1e-05, momentum=0.1, affine=True, track_running_stats=True)\n",
       "        (relu2): ReLU(inplace=True)\n",
       "        (conv2): Conv2d(192, 48, kernel_size=(3, 3), stride=(1, 1), padding=(1, 1), bias=False)\n",
       "      )\n",
       "      (denselayer33): _DenseLayer(\n",
       "        (norm1): BatchNorm2d(1920, eps=1e-05, momentum=0.1, affine=True, track_running_stats=True)\n",
       "        (relu1): ReLU(inplace=True)\n",
       "        (conv1): Conv2d(1920, 192, kernel_size=(1, 1), stride=(1, 1), bias=False)\n",
       "        (norm2): BatchNorm2d(192, eps=1e-05, momentum=0.1, affine=True, track_running_stats=True)\n",
       "        (relu2): ReLU(inplace=True)\n",
       "        (conv2): Conv2d(192, 48, kernel_size=(3, 3), stride=(1, 1), padding=(1, 1), bias=False)\n",
       "      )\n",
       "      (denselayer34): _DenseLayer(\n",
       "        (norm1): BatchNorm2d(1968, eps=1e-05, momentum=0.1, affine=True, track_running_stats=True)\n",
       "        (relu1): ReLU(inplace=True)\n",
       "        (conv1): Conv2d(1968, 192, kernel_size=(1, 1), stride=(1, 1), bias=False)\n",
       "        (norm2): BatchNorm2d(192, eps=1e-05, momentum=0.1, affine=True, track_running_stats=True)\n",
       "        (relu2): ReLU(inplace=True)\n",
       "        (conv2): Conv2d(192, 48, kernel_size=(3, 3), stride=(1, 1), padding=(1, 1), bias=False)\n",
       "      )\n",
       "      (denselayer35): _DenseLayer(\n",
       "        (norm1): BatchNorm2d(2016, eps=1e-05, momentum=0.1, affine=True, track_running_stats=True)\n",
       "        (relu1): ReLU(inplace=True)\n",
       "        (conv1): Conv2d(2016, 192, kernel_size=(1, 1), stride=(1, 1), bias=False)\n",
       "        (norm2): BatchNorm2d(192, eps=1e-05, momentum=0.1, affine=True, track_running_stats=True)\n",
       "        (relu2): ReLU(inplace=True)\n",
       "        (conv2): Conv2d(192, 48, kernel_size=(3, 3), stride=(1, 1), padding=(1, 1), bias=False)\n",
       "      )\n",
       "      (denselayer36): _DenseLayer(\n",
       "        (norm1): BatchNorm2d(2064, eps=1e-05, momentum=0.1, affine=True, track_running_stats=True)\n",
       "        (relu1): ReLU(inplace=True)\n",
       "        (conv1): Conv2d(2064, 192, kernel_size=(1, 1), stride=(1, 1), bias=False)\n",
       "        (norm2): BatchNorm2d(192, eps=1e-05, momentum=0.1, affine=True, track_running_stats=True)\n",
       "        (relu2): ReLU(inplace=True)\n",
       "        (conv2): Conv2d(192, 48, kernel_size=(3, 3), stride=(1, 1), padding=(1, 1), bias=False)\n",
       "      )\n",
       "    )\n",
       "    (transition3): _Transition(\n",
       "      (norm): BatchNorm2d(2112, eps=1e-05, momentum=0.1, affine=True, track_running_stats=True)\n",
       "      (relu): ReLU(inplace=True)\n",
       "      (conv): Conv2d(2112, 1056, kernel_size=(1, 1), stride=(1, 1), bias=False)\n",
       "      (pool): AvgPool2d(kernel_size=2, stride=2, padding=0)\n",
       "    )\n",
       "    (denseblock4): _DenseBlock(\n",
       "      (denselayer1): _DenseLayer(\n",
       "        (norm1): BatchNorm2d(1056, eps=1e-05, momentum=0.1, affine=True, track_running_stats=True)\n",
       "        (relu1): ReLU(inplace=True)\n",
       "        (conv1): Conv2d(1056, 192, kernel_size=(1, 1), stride=(1, 1), bias=False)\n",
       "        (norm2): BatchNorm2d(192, eps=1e-05, momentum=0.1, affine=True, track_running_stats=True)\n",
       "        (relu2): ReLU(inplace=True)\n",
       "        (conv2): Conv2d(192, 48, kernel_size=(3, 3), stride=(1, 1), padding=(1, 1), bias=False)\n",
       "      )\n",
       "      (denselayer2): _DenseLayer(\n",
       "        (norm1): BatchNorm2d(1104, eps=1e-05, momentum=0.1, affine=True, track_running_stats=True)\n",
       "        (relu1): ReLU(inplace=True)\n",
       "        (conv1): Conv2d(1104, 192, kernel_size=(1, 1), stride=(1, 1), bias=False)\n",
       "        (norm2): BatchNorm2d(192, eps=1e-05, momentum=0.1, affine=True, track_running_stats=True)\n",
       "        (relu2): ReLU(inplace=True)\n",
       "        (conv2): Conv2d(192, 48, kernel_size=(3, 3), stride=(1, 1), padding=(1, 1), bias=False)\n",
       "      )\n",
       "      (denselayer3): _DenseLayer(\n",
       "        (norm1): BatchNorm2d(1152, eps=1e-05, momentum=0.1, affine=True, track_running_stats=True)\n",
       "        (relu1): ReLU(inplace=True)\n",
       "        (conv1): Conv2d(1152, 192, kernel_size=(1, 1), stride=(1, 1), bias=False)\n",
       "        (norm2): BatchNorm2d(192, eps=1e-05, momentum=0.1, affine=True, track_running_stats=True)\n",
       "        (relu2): ReLU(inplace=True)\n",
       "        (conv2): Conv2d(192, 48, kernel_size=(3, 3), stride=(1, 1), padding=(1, 1), bias=False)\n",
       "      )\n",
       "      (denselayer4): _DenseLayer(\n",
       "        (norm1): BatchNorm2d(1200, eps=1e-05, momentum=0.1, affine=True, track_running_stats=True)\n",
       "        (relu1): ReLU(inplace=True)\n",
       "        (conv1): Conv2d(1200, 192, kernel_size=(1, 1), stride=(1, 1), bias=False)\n",
       "        (norm2): BatchNorm2d(192, eps=1e-05, momentum=0.1, affine=True, track_running_stats=True)\n",
       "        (relu2): ReLU(inplace=True)\n",
       "        (conv2): Conv2d(192, 48, kernel_size=(3, 3), stride=(1, 1), padding=(1, 1), bias=False)\n",
       "      )\n",
       "      (denselayer5): _DenseLayer(\n",
       "        (norm1): BatchNorm2d(1248, eps=1e-05, momentum=0.1, affine=True, track_running_stats=True)\n",
       "        (relu1): ReLU(inplace=True)\n",
       "        (conv1): Conv2d(1248, 192, kernel_size=(1, 1), stride=(1, 1), bias=False)\n",
       "        (norm2): BatchNorm2d(192, eps=1e-05, momentum=0.1, affine=True, track_running_stats=True)\n",
       "        (relu2): ReLU(inplace=True)\n",
       "        (conv2): Conv2d(192, 48, kernel_size=(3, 3), stride=(1, 1), padding=(1, 1), bias=False)\n",
       "      )\n",
       "      (denselayer6): _DenseLayer(\n",
       "        (norm1): BatchNorm2d(1296, eps=1e-05, momentum=0.1, affine=True, track_running_stats=True)\n",
       "        (relu1): ReLU(inplace=True)\n",
       "        (conv1): Conv2d(1296, 192, kernel_size=(1, 1), stride=(1, 1), bias=False)\n",
       "        (norm2): BatchNorm2d(192, eps=1e-05, momentum=0.1, affine=True, track_running_stats=True)\n",
       "        (relu2): ReLU(inplace=True)\n",
       "        (conv2): Conv2d(192, 48, kernel_size=(3, 3), stride=(1, 1), padding=(1, 1), bias=False)\n",
       "      )\n",
       "      (denselayer7): _DenseLayer(\n",
       "        (norm1): BatchNorm2d(1344, eps=1e-05, momentum=0.1, affine=True, track_running_stats=True)\n",
       "        (relu1): ReLU(inplace=True)\n",
       "        (conv1): Conv2d(1344, 192, kernel_size=(1, 1), stride=(1, 1), bias=False)\n",
       "        (norm2): BatchNorm2d(192, eps=1e-05, momentum=0.1, affine=True, track_running_stats=True)\n",
       "        (relu2): ReLU(inplace=True)\n",
       "        (conv2): Conv2d(192, 48, kernel_size=(3, 3), stride=(1, 1), padding=(1, 1), bias=False)\n",
       "      )\n",
       "      (denselayer8): _DenseLayer(\n",
       "        (norm1): BatchNorm2d(1392, eps=1e-05, momentum=0.1, affine=True, track_running_stats=True)\n",
       "        (relu1): ReLU(inplace=True)\n",
       "        (conv1): Conv2d(1392, 192, kernel_size=(1, 1), stride=(1, 1), bias=False)\n",
       "        (norm2): BatchNorm2d(192, eps=1e-05, momentum=0.1, affine=True, track_running_stats=True)\n",
       "        (relu2): ReLU(inplace=True)\n",
       "        (conv2): Conv2d(192, 48, kernel_size=(3, 3), stride=(1, 1), padding=(1, 1), bias=False)\n",
       "      )\n",
       "      (denselayer9): _DenseLayer(\n",
       "        (norm1): BatchNorm2d(1440, eps=1e-05, momentum=0.1, affine=True, track_running_stats=True)\n",
       "        (relu1): ReLU(inplace=True)\n",
       "        (conv1): Conv2d(1440, 192, kernel_size=(1, 1), stride=(1, 1), bias=False)\n",
       "        (norm2): BatchNorm2d(192, eps=1e-05, momentum=0.1, affine=True, track_running_stats=True)\n",
       "        (relu2): ReLU(inplace=True)\n",
       "        (conv2): Conv2d(192, 48, kernel_size=(3, 3), stride=(1, 1), padding=(1, 1), bias=False)\n",
       "      )\n",
       "      (denselayer10): _DenseLayer(\n",
       "        (norm1): BatchNorm2d(1488, eps=1e-05, momentum=0.1, affine=True, track_running_stats=True)\n",
       "        (relu1): ReLU(inplace=True)\n",
       "        (conv1): Conv2d(1488, 192, kernel_size=(1, 1), stride=(1, 1), bias=False)\n",
       "        (norm2): BatchNorm2d(192, eps=1e-05, momentum=0.1, affine=True, track_running_stats=True)\n",
       "        (relu2): ReLU(inplace=True)\n",
       "        (conv2): Conv2d(192, 48, kernel_size=(3, 3), stride=(1, 1), padding=(1, 1), bias=False)\n",
       "      )\n",
       "      (denselayer11): _DenseLayer(\n",
       "        (norm1): BatchNorm2d(1536, eps=1e-05, momentum=0.1, affine=True, track_running_stats=True)\n",
       "        (relu1): ReLU(inplace=True)\n",
       "        (conv1): Conv2d(1536, 192, kernel_size=(1, 1), stride=(1, 1), bias=False)\n",
       "        (norm2): BatchNorm2d(192, eps=1e-05, momentum=0.1, affine=True, track_running_stats=True)\n",
       "        (relu2): ReLU(inplace=True)\n",
       "        (conv2): Conv2d(192, 48, kernel_size=(3, 3), stride=(1, 1), padding=(1, 1), bias=False)\n",
       "      )\n",
       "      (denselayer12): _DenseLayer(\n",
       "        (norm1): BatchNorm2d(1584, eps=1e-05, momentum=0.1, affine=True, track_running_stats=True)\n",
       "        (relu1): ReLU(inplace=True)\n",
       "        (conv1): Conv2d(1584, 192, kernel_size=(1, 1), stride=(1, 1), bias=False)\n",
       "        (norm2): BatchNorm2d(192, eps=1e-05, momentum=0.1, affine=True, track_running_stats=True)\n",
       "        (relu2): ReLU(inplace=True)\n",
       "        (conv2): Conv2d(192, 48, kernel_size=(3, 3), stride=(1, 1), padding=(1, 1), bias=False)\n",
       "      )\n",
       "      (denselayer13): _DenseLayer(\n",
       "        (norm1): BatchNorm2d(1632, eps=1e-05, momentum=0.1, affine=True, track_running_stats=True)\n",
       "        (relu1): ReLU(inplace=True)\n",
       "        (conv1): Conv2d(1632, 192, kernel_size=(1, 1), stride=(1, 1), bias=False)\n",
       "        (norm2): BatchNorm2d(192, eps=1e-05, momentum=0.1, affine=True, track_running_stats=True)\n",
       "        (relu2): ReLU(inplace=True)\n",
       "        (conv2): Conv2d(192, 48, kernel_size=(3, 3), stride=(1, 1), padding=(1, 1), bias=False)\n",
       "      )\n",
       "      (denselayer14): _DenseLayer(\n",
       "        (norm1): BatchNorm2d(1680, eps=1e-05, momentum=0.1, affine=True, track_running_stats=True)\n",
       "        (relu1): ReLU(inplace=True)\n",
       "        (conv1): Conv2d(1680, 192, kernel_size=(1, 1), stride=(1, 1), bias=False)\n",
       "        (norm2): BatchNorm2d(192, eps=1e-05, momentum=0.1, affine=True, track_running_stats=True)\n",
       "        (relu2): ReLU(inplace=True)\n",
       "        (conv2): Conv2d(192, 48, kernel_size=(3, 3), stride=(1, 1), padding=(1, 1), bias=False)\n",
       "      )\n",
       "      (denselayer15): _DenseLayer(\n",
       "        (norm1): BatchNorm2d(1728, eps=1e-05, momentum=0.1, affine=True, track_running_stats=True)\n",
       "        (relu1): ReLU(inplace=True)\n",
       "        (conv1): Conv2d(1728, 192, kernel_size=(1, 1), stride=(1, 1), bias=False)\n",
       "        (norm2): BatchNorm2d(192, eps=1e-05, momentum=0.1, affine=True, track_running_stats=True)\n",
       "        (relu2): ReLU(inplace=True)\n",
       "        (conv2): Conv2d(192, 48, kernel_size=(3, 3), stride=(1, 1), padding=(1, 1), bias=False)\n",
       "      )\n",
       "      (denselayer16): _DenseLayer(\n",
       "        (norm1): BatchNorm2d(1776, eps=1e-05, momentum=0.1, affine=True, track_running_stats=True)\n",
       "        (relu1): ReLU(inplace=True)\n",
       "        (conv1): Conv2d(1776, 192, kernel_size=(1, 1), stride=(1, 1), bias=False)\n",
       "        (norm2): BatchNorm2d(192, eps=1e-05, momentum=0.1, affine=True, track_running_stats=True)\n",
       "        (relu2): ReLU(inplace=True)\n",
       "        (conv2): Conv2d(192, 48, kernel_size=(3, 3), stride=(1, 1), padding=(1, 1), bias=False)\n",
       "      )\n",
       "      (denselayer17): _DenseLayer(\n",
       "        (norm1): BatchNorm2d(1824, eps=1e-05, momentum=0.1, affine=True, track_running_stats=True)\n",
       "        (relu1): ReLU(inplace=True)\n",
       "        (conv1): Conv2d(1824, 192, kernel_size=(1, 1), stride=(1, 1), bias=False)\n",
       "        (norm2): BatchNorm2d(192, eps=1e-05, momentum=0.1, affine=True, track_running_stats=True)\n",
       "        (relu2): ReLU(inplace=True)\n",
       "        (conv2): Conv2d(192, 48, kernel_size=(3, 3), stride=(1, 1), padding=(1, 1), bias=False)\n",
       "      )\n",
       "      (denselayer18): _DenseLayer(\n",
       "        (norm1): BatchNorm2d(1872, eps=1e-05, momentum=0.1, affine=True, track_running_stats=True)\n",
       "        (relu1): ReLU(inplace=True)\n",
       "        (conv1): Conv2d(1872, 192, kernel_size=(1, 1), stride=(1, 1), bias=False)\n",
       "        (norm2): BatchNorm2d(192, eps=1e-05, momentum=0.1, affine=True, track_running_stats=True)\n",
       "        (relu2): ReLU(inplace=True)\n",
       "        (conv2): Conv2d(192, 48, kernel_size=(3, 3), stride=(1, 1), padding=(1, 1), bias=False)\n",
       "      )\n",
       "      (denselayer19): _DenseLayer(\n",
       "        (norm1): BatchNorm2d(1920, eps=1e-05, momentum=0.1, affine=True, track_running_stats=True)\n",
       "        (relu1): ReLU(inplace=True)\n",
       "        (conv1): Conv2d(1920, 192, kernel_size=(1, 1), stride=(1, 1), bias=False)\n",
       "        (norm2): BatchNorm2d(192, eps=1e-05, momentum=0.1, affine=True, track_running_stats=True)\n",
       "        (relu2): ReLU(inplace=True)\n",
       "        (conv2): Conv2d(192, 48, kernel_size=(3, 3), stride=(1, 1), padding=(1, 1), bias=False)\n",
       "      )\n",
       "      (denselayer20): _DenseLayer(\n",
       "        (norm1): BatchNorm2d(1968, eps=1e-05, momentum=0.1, affine=True, track_running_stats=True)\n",
       "        (relu1): ReLU(inplace=True)\n",
       "        (conv1): Conv2d(1968, 192, kernel_size=(1, 1), stride=(1, 1), bias=False)\n",
       "        (norm2): BatchNorm2d(192, eps=1e-05, momentum=0.1, affine=True, track_running_stats=True)\n",
       "        (relu2): ReLU(inplace=True)\n",
       "        (conv2): Conv2d(192, 48, kernel_size=(3, 3), stride=(1, 1), padding=(1, 1), bias=False)\n",
       "      )\n",
       "      (denselayer21): _DenseLayer(\n",
       "        (norm1): BatchNorm2d(2016, eps=1e-05, momentum=0.1, affine=True, track_running_stats=True)\n",
       "        (relu1): ReLU(inplace=True)\n",
       "        (conv1): Conv2d(2016, 192, kernel_size=(1, 1), stride=(1, 1), bias=False)\n",
       "        (norm2): BatchNorm2d(192, eps=1e-05, momentum=0.1, affine=True, track_running_stats=True)\n",
       "        (relu2): ReLU(inplace=True)\n",
       "        (conv2): Conv2d(192, 48, kernel_size=(3, 3), stride=(1, 1), padding=(1, 1), bias=False)\n",
       "      )\n",
       "      (denselayer22): _DenseLayer(\n",
       "        (norm1): BatchNorm2d(2064, eps=1e-05, momentum=0.1, affine=True, track_running_stats=True)\n",
       "        (relu1): ReLU(inplace=True)\n",
       "        (conv1): Conv2d(2064, 192, kernel_size=(1, 1), stride=(1, 1), bias=False)\n",
       "        (norm2): BatchNorm2d(192, eps=1e-05, momentum=0.1, affine=True, track_running_stats=True)\n",
       "        (relu2): ReLU(inplace=True)\n",
       "        (conv2): Conv2d(192, 48, kernel_size=(3, 3), stride=(1, 1), padding=(1, 1), bias=False)\n",
       "      )\n",
       "      (denselayer23): _DenseLayer(\n",
       "        (norm1): BatchNorm2d(2112, eps=1e-05, momentum=0.1, affine=True, track_running_stats=True)\n",
       "        (relu1): ReLU(inplace=True)\n",
       "        (conv1): Conv2d(2112, 192, kernel_size=(1, 1), stride=(1, 1), bias=False)\n",
       "        (norm2): BatchNorm2d(192, eps=1e-05, momentum=0.1, affine=True, track_running_stats=True)\n",
       "        (relu2): ReLU(inplace=True)\n",
       "        (conv2): Conv2d(192, 48, kernel_size=(3, 3), stride=(1, 1), padding=(1, 1), bias=False)\n",
       "      )\n",
       "      (denselayer24): _DenseLayer(\n",
       "        (norm1): BatchNorm2d(2160, eps=1e-05, momentum=0.1, affine=True, track_running_stats=True)\n",
       "        (relu1): ReLU(inplace=True)\n",
       "        (conv1): Conv2d(2160, 192, kernel_size=(1, 1), stride=(1, 1), bias=False)\n",
       "        (norm2): BatchNorm2d(192, eps=1e-05, momentum=0.1, affine=True, track_running_stats=True)\n",
       "        (relu2): ReLU(inplace=True)\n",
       "        (conv2): Conv2d(192, 48, kernel_size=(3, 3), stride=(1, 1), padding=(1, 1), bias=False)\n",
       "      )\n",
       "    )\n",
       "    (norm5): BatchNorm2d(2208, eps=1e-05, momentum=0.1, affine=True, track_running_stats=True)\n",
       "  )\n",
       "  (classifier): Linear(in_features=2208, out_features=1000, bias=True)\n",
       ")"
      ]
     },
     "execution_count": 63,
     "metadata": {
      "tags": []
     },
     "output_type": "execute_result"
    }
   ],
   "source": [
    "model_transfer"
   ]
  },
  {
   "cell_type": "markdown",
   "metadata": {
    "colab_type": "text",
    "id": "_lYA_qP2pv6B"
   },
   "source": [
    "Transfer learning을 위해서 133개의 class로 분류하는 FCN을 불러온 model_transfer 에 맞게 적용 하세요.\n",
    "\n",
    "* Feature extraction (CNN) 부분은 재학습하지 않습니다 (parameter 동결)\n",
    "* 새로 구성한 FCN 부분을 재 학습 할 수 있도록 gradient 연산을 살려둡니다 "
   ]
  },
  {
   "cell_type": "markdown",
   "metadata": {
    "colab_type": "text",
    "id": "UCLnXLYEaiz5"
   },
   "source": [
    "**[답 작성]**"
   ]
  },
  {
   "cell_type": "code",
   "execution_count": 64,
   "metadata": {
    "colab": {
     "base_uri": "https://localhost:8080/",
     "height": 1000
    },
    "colab_type": "code",
    "id": "qBAh2mOOpv6B",
    "outputId": "e08ce2c9-2df1-4b00-80a0-cfe8aa0488ac"
   },
   "outputs": [
    {
     "data": {
      "text/plain": [
       "DenseNet(\n",
       "  (features): Sequential(\n",
       "    (conv0): Conv2d(3, 96, kernel_size=(7, 7), stride=(2, 2), padding=(3, 3), bias=False)\n",
       "    (norm0): BatchNorm2d(96, eps=1e-05, momentum=0.1, affine=True, track_running_stats=True)\n",
       "    (relu0): ReLU(inplace=True)\n",
       "    (pool0): MaxPool2d(kernel_size=3, stride=2, padding=1, dilation=1, ceil_mode=False)\n",
       "    (denseblock1): _DenseBlock(\n",
       "      (denselayer1): _DenseLayer(\n",
       "        (norm1): BatchNorm2d(96, eps=1e-05, momentum=0.1, affine=True, track_running_stats=True)\n",
       "        (relu1): ReLU(inplace=True)\n",
       "        (conv1): Conv2d(96, 192, kernel_size=(1, 1), stride=(1, 1), bias=False)\n",
       "        (norm2): BatchNorm2d(192, eps=1e-05, momentum=0.1, affine=True, track_running_stats=True)\n",
       "        (relu2): ReLU(inplace=True)\n",
       "        (conv2): Conv2d(192, 48, kernel_size=(3, 3), stride=(1, 1), padding=(1, 1), bias=False)\n",
       "      )\n",
       "      (denselayer2): _DenseLayer(\n",
       "        (norm1): BatchNorm2d(144, eps=1e-05, momentum=0.1, affine=True, track_running_stats=True)\n",
       "        (relu1): ReLU(inplace=True)\n",
       "        (conv1): Conv2d(144, 192, kernel_size=(1, 1), stride=(1, 1), bias=False)\n",
       "        (norm2): BatchNorm2d(192, eps=1e-05, momentum=0.1, affine=True, track_running_stats=True)\n",
       "        (relu2): ReLU(inplace=True)\n",
       "        (conv2): Conv2d(192, 48, kernel_size=(3, 3), stride=(1, 1), padding=(1, 1), bias=False)\n",
       "      )\n",
       "      (denselayer3): _DenseLayer(\n",
       "        (norm1): BatchNorm2d(192, eps=1e-05, momentum=0.1, affine=True, track_running_stats=True)\n",
       "        (relu1): ReLU(inplace=True)\n",
       "        (conv1): Conv2d(192, 192, kernel_size=(1, 1), stride=(1, 1), bias=False)\n",
       "        (norm2): BatchNorm2d(192, eps=1e-05, momentum=0.1, affine=True, track_running_stats=True)\n",
       "        (relu2): ReLU(inplace=True)\n",
       "        (conv2): Conv2d(192, 48, kernel_size=(3, 3), stride=(1, 1), padding=(1, 1), bias=False)\n",
       "      )\n",
       "      (denselayer4): _DenseLayer(\n",
       "        (norm1): BatchNorm2d(240, eps=1e-05, momentum=0.1, affine=True, track_running_stats=True)\n",
       "        (relu1): ReLU(inplace=True)\n",
       "        (conv1): Conv2d(240, 192, kernel_size=(1, 1), stride=(1, 1), bias=False)\n",
       "        (norm2): BatchNorm2d(192, eps=1e-05, momentum=0.1, affine=True, track_running_stats=True)\n",
       "        (relu2): ReLU(inplace=True)\n",
       "        (conv2): Conv2d(192, 48, kernel_size=(3, 3), stride=(1, 1), padding=(1, 1), bias=False)\n",
       "      )\n",
       "      (denselayer5): _DenseLayer(\n",
       "        (norm1): BatchNorm2d(288, eps=1e-05, momentum=0.1, affine=True, track_running_stats=True)\n",
       "        (relu1): ReLU(inplace=True)\n",
       "        (conv1): Conv2d(288, 192, kernel_size=(1, 1), stride=(1, 1), bias=False)\n",
       "        (norm2): BatchNorm2d(192, eps=1e-05, momentum=0.1, affine=True, track_running_stats=True)\n",
       "        (relu2): ReLU(inplace=True)\n",
       "        (conv2): Conv2d(192, 48, kernel_size=(3, 3), stride=(1, 1), padding=(1, 1), bias=False)\n",
       "      )\n",
       "      (denselayer6): _DenseLayer(\n",
       "        (norm1): BatchNorm2d(336, eps=1e-05, momentum=0.1, affine=True, track_running_stats=True)\n",
       "        (relu1): ReLU(inplace=True)\n",
       "        (conv1): Conv2d(336, 192, kernel_size=(1, 1), stride=(1, 1), bias=False)\n",
       "        (norm2): BatchNorm2d(192, eps=1e-05, momentum=0.1, affine=True, track_running_stats=True)\n",
       "        (relu2): ReLU(inplace=True)\n",
       "        (conv2): Conv2d(192, 48, kernel_size=(3, 3), stride=(1, 1), padding=(1, 1), bias=False)\n",
       "      )\n",
       "    )\n",
       "    (transition1): _Transition(\n",
       "      (norm): BatchNorm2d(384, eps=1e-05, momentum=0.1, affine=True, track_running_stats=True)\n",
       "      (relu): ReLU(inplace=True)\n",
       "      (conv): Conv2d(384, 192, kernel_size=(1, 1), stride=(1, 1), bias=False)\n",
       "      (pool): AvgPool2d(kernel_size=2, stride=2, padding=0)\n",
       "    )\n",
       "    (denseblock2): _DenseBlock(\n",
       "      (denselayer1): _DenseLayer(\n",
       "        (norm1): BatchNorm2d(192, eps=1e-05, momentum=0.1, affine=True, track_running_stats=True)\n",
       "        (relu1): ReLU(inplace=True)\n",
       "        (conv1): Conv2d(192, 192, kernel_size=(1, 1), stride=(1, 1), bias=False)\n",
       "        (norm2): BatchNorm2d(192, eps=1e-05, momentum=0.1, affine=True, track_running_stats=True)\n",
       "        (relu2): ReLU(inplace=True)\n",
       "        (conv2): Conv2d(192, 48, kernel_size=(3, 3), stride=(1, 1), padding=(1, 1), bias=False)\n",
       "      )\n",
       "      (denselayer2): _DenseLayer(\n",
       "        (norm1): BatchNorm2d(240, eps=1e-05, momentum=0.1, affine=True, track_running_stats=True)\n",
       "        (relu1): ReLU(inplace=True)\n",
       "        (conv1): Conv2d(240, 192, kernel_size=(1, 1), stride=(1, 1), bias=False)\n",
       "        (norm2): BatchNorm2d(192, eps=1e-05, momentum=0.1, affine=True, track_running_stats=True)\n",
       "        (relu2): ReLU(inplace=True)\n",
       "        (conv2): Conv2d(192, 48, kernel_size=(3, 3), stride=(1, 1), padding=(1, 1), bias=False)\n",
       "      )\n",
       "      (denselayer3): _DenseLayer(\n",
       "        (norm1): BatchNorm2d(288, eps=1e-05, momentum=0.1, affine=True, track_running_stats=True)\n",
       "        (relu1): ReLU(inplace=True)\n",
       "        (conv1): Conv2d(288, 192, kernel_size=(1, 1), stride=(1, 1), bias=False)\n",
       "        (norm2): BatchNorm2d(192, eps=1e-05, momentum=0.1, affine=True, track_running_stats=True)\n",
       "        (relu2): ReLU(inplace=True)\n",
       "        (conv2): Conv2d(192, 48, kernel_size=(3, 3), stride=(1, 1), padding=(1, 1), bias=False)\n",
       "      )\n",
       "      (denselayer4): _DenseLayer(\n",
       "        (norm1): BatchNorm2d(336, eps=1e-05, momentum=0.1, affine=True, track_running_stats=True)\n",
       "        (relu1): ReLU(inplace=True)\n",
       "        (conv1): Conv2d(336, 192, kernel_size=(1, 1), stride=(1, 1), bias=False)\n",
       "        (norm2): BatchNorm2d(192, eps=1e-05, momentum=0.1, affine=True, track_running_stats=True)\n",
       "        (relu2): ReLU(inplace=True)\n",
       "        (conv2): Conv2d(192, 48, kernel_size=(3, 3), stride=(1, 1), padding=(1, 1), bias=False)\n",
       "      )\n",
       "      (denselayer5): _DenseLayer(\n",
       "        (norm1): BatchNorm2d(384, eps=1e-05, momentum=0.1, affine=True, track_running_stats=True)\n",
       "        (relu1): ReLU(inplace=True)\n",
       "        (conv1): Conv2d(384, 192, kernel_size=(1, 1), stride=(1, 1), bias=False)\n",
       "        (norm2): BatchNorm2d(192, eps=1e-05, momentum=0.1, affine=True, track_running_stats=True)\n",
       "        (relu2): ReLU(inplace=True)\n",
       "        (conv2): Conv2d(192, 48, kernel_size=(3, 3), stride=(1, 1), padding=(1, 1), bias=False)\n",
       "      )\n",
       "      (denselayer6): _DenseLayer(\n",
       "        (norm1): BatchNorm2d(432, eps=1e-05, momentum=0.1, affine=True, track_running_stats=True)\n",
       "        (relu1): ReLU(inplace=True)\n",
       "        (conv1): Conv2d(432, 192, kernel_size=(1, 1), stride=(1, 1), bias=False)\n",
       "        (norm2): BatchNorm2d(192, eps=1e-05, momentum=0.1, affine=True, track_running_stats=True)\n",
       "        (relu2): ReLU(inplace=True)\n",
       "        (conv2): Conv2d(192, 48, kernel_size=(3, 3), stride=(1, 1), padding=(1, 1), bias=False)\n",
       "      )\n",
       "      (denselayer7): _DenseLayer(\n",
       "        (norm1): BatchNorm2d(480, eps=1e-05, momentum=0.1, affine=True, track_running_stats=True)\n",
       "        (relu1): ReLU(inplace=True)\n",
       "        (conv1): Conv2d(480, 192, kernel_size=(1, 1), stride=(1, 1), bias=False)\n",
       "        (norm2): BatchNorm2d(192, eps=1e-05, momentum=0.1, affine=True, track_running_stats=True)\n",
       "        (relu2): ReLU(inplace=True)\n",
       "        (conv2): Conv2d(192, 48, kernel_size=(3, 3), stride=(1, 1), padding=(1, 1), bias=False)\n",
       "      )\n",
       "      (denselayer8): _DenseLayer(\n",
       "        (norm1): BatchNorm2d(528, eps=1e-05, momentum=0.1, affine=True, track_running_stats=True)\n",
       "        (relu1): ReLU(inplace=True)\n",
       "        (conv1): Conv2d(528, 192, kernel_size=(1, 1), stride=(1, 1), bias=False)\n",
       "        (norm2): BatchNorm2d(192, eps=1e-05, momentum=0.1, affine=True, track_running_stats=True)\n",
       "        (relu2): ReLU(inplace=True)\n",
       "        (conv2): Conv2d(192, 48, kernel_size=(3, 3), stride=(1, 1), padding=(1, 1), bias=False)\n",
       "      )\n",
       "      (denselayer9): _DenseLayer(\n",
       "        (norm1): BatchNorm2d(576, eps=1e-05, momentum=0.1, affine=True, track_running_stats=True)\n",
       "        (relu1): ReLU(inplace=True)\n",
       "        (conv1): Conv2d(576, 192, kernel_size=(1, 1), stride=(1, 1), bias=False)\n",
       "        (norm2): BatchNorm2d(192, eps=1e-05, momentum=0.1, affine=True, track_running_stats=True)\n",
       "        (relu2): ReLU(inplace=True)\n",
       "        (conv2): Conv2d(192, 48, kernel_size=(3, 3), stride=(1, 1), padding=(1, 1), bias=False)\n",
       "      )\n",
       "      (denselayer10): _DenseLayer(\n",
       "        (norm1): BatchNorm2d(624, eps=1e-05, momentum=0.1, affine=True, track_running_stats=True)\n",
       "        (relu1): ReLU(inplace=True)\n",
       "        (conv1): Conv2d(624, 192, kernel_size=(1, 1), stride=(1, 1), bias=False)\n",
       "        (norm2): BatchNorm2d(192, eps=1e-05, momentum=0.1, affine=True, track_running_stats=True)\n",
       "        (relu2): ReLU(inplace=True)\n",
       "        (conv2): Conv2d(192, 48, kernel_size=(3, 3), stride=(1, 1), padding=(1, 1), bias=False)\n",
       "      )\n",
       "      (denselayer11): _DenseLayer(\n",
       "        (norm1): BatchNorm2d(672, eps=1e-05, momentum=0.1, affine=True, track_running_stats=True)\n",
       "        (relu1): ReLU(inplace=True)\n",
       "        (conv1): Conv2d(672, 192, kernel_size=(1, 1), stride=(1, 1), bias=False)\n",
       "        (norm2): BatchNorm2d(192, eps=1e-05, momentum=0.1, affine=True, track_running_stats=True)\n",
       "        (relu2): ReLU(inplace=True)\n",
       "        (conv2): Conv2d(192, 48, kernel_size=(3, 3), stride=(1, 1), padding=(1, 1), bias=False)\n",
       "      )\n",
       "      (denselayer12): _DenseLayer(\n",
       "        (norm1): BatchNorm2d(720, eps=1e-05, momentum=0.1, affine=True, track_running_stats=True)\n",
       "        (relu1): ReLU(inplace=True)\n",
       "        (conv1): Conv2d(720, 192, kernel_size=(1, 1), stride=(1, 1), bias=False)\n",
       "        (norm2): BatchNorm2d(192, eps=1e-05, momentum=0.1, affine=True, track_running_stats=True)\n",
       "        (relu2): ReLU(inplace=True)\n",
       "        (conv2): Conv2d(192, 48, kernel_size=(3, 3), stride=(1, 1), padding=(1, 1), bias=False)\n",
       "      )\n",
       "    )\n",
       "    (transition2): _Transition(\n",
       "      (norm): BatchNorm2d(768, eps=1e-05, momentum=0.1, affine=True, track_running_stats=True)\n",
       "      (relu): ReLU(inplace=True)\n",
       "      (conv): Conv2d(768, 384, kernel_size=(1, 1), stride=(1, 1), bias=False)\n",
       "      (pool): AvgPool2d(kernel_size=2, stride=2, padding=0)\n",
       "    )\n",
       "    (denseblock3): _DenseBlock(\n",
       "      (denselayer1): _DenseLayer(\n",
       "        (norm1): BatchNorm2d(384, eps=1e-05, momentum=0.1, affine=True, track_running_stats=True)\n",
       "        (relu1): ReLU(inplace=True)\n",
       "        (conv1): Conv2d(384, 192, kernel_size=(1, 1), stride=(1, 1), bias=False)\n",
       "        (norm2): BatchNorm2d(192, eps=1e-05, momentum=0.1, affine=True, track_running_stats=True)\n",
       "        (relu2): ReLU(inplace=True)\n",
       "        (conv2): Conv2d(192, 48, kernel_size=(3, 3), stride=(1, 1), padding=(1, 1), bias=False)\n",
       "      )\n",
       "      (denselayer2): _DenseLayer(\n",
       "        (norm1): BatchNorm2d(432, eps=1e-05, momentum=0.1, affine=True, track_running_stats=True)\n",
       "        (relu1): ReLU(inplace=True)\n",
       "        (conv1): Conv2d(432, 192, kernel_size=(1, 1), stride=(1, 1), bias=False)\n",
       "        (norm2): BatchNorm2d(192, eps=1e-05, momentum=0.1, affine=True, track_running_stats=True)\n",
       "        (relu2): ReLU(inplace=True)\n",
       "        (conv2): Conv2d(192, 48, kernel_size=(3, 3), stride=(1, 1), padding=(1, 1), bias=False)\n",
       "      )\n",
       "      (denselayer3): _DenseLayer(\n",
       "        (norm1): BatchNorm2d(480, eps=1e-05, momentum=0.1, affine=True, track_running_stats=True)\n",
       "        (relu1): ReLU(inplace=True)\n",
       "        (conv1): Conv2d(480, 192, kernel_size=(1, 1), stride=(1, 1), bias=False)\n",
       "        (norm2): BatchNorm2d(192, eps=1e-05, momentum=0.1, affine=True, track_running_stats=True)\n",
       "        (relu2): ReLU(inplace=True)\n",
       "        (conv2): Conv2d(192, 48, kernel_size=(3, 3), stride=(1, 1), padding=(1, 1), bias=False)\n",
       "      )\n",
       "      (denselayer4): _DenseLayer(\n",
       "        (norm1): BatchNorm2d(528, eps=1e-05, momentum=0.1, affine=True, track_running_stats=True)\n",
       "        (relu1): ReLU(inplace=True)\n",
       "        (conv1): Conv2d(528, 192, kernel_size=(1, 1), stride=(1, 1), bias=False)\n",
       "        (norm2): BatchNorm2d(192, eps=1e-05, momentum=0.1, affine=True, track_running_stats=True)\n",
       "        (relu2): ReLU(inplace=True)\n",
       "        (conv2): Conv2d(192, 48, kernel_size=(3, 3), stride=(1, 1), padding=(1, 1), bias=False)\n",
       "      )\n",
       "      (denselayer5): _DenseLayer(\n",
       "        (norm1): BatchNorm2d(576, eps=1e-05, momentum=0.1, affine=True, track_running_stats=True)\n",
       "        (relu1): ReLU(inplace=True)\n",
       "        (conv1): Conv2d(576, 192, kernel_size=(1, 1), stride=(1, 1), bias=False)\n",
       "        (norm2): BatchNorm2d(192, eps=1e-05, momentum=0.1, affine=True, track_running_stats=True)\n",
       "        (relu2): ReLU(inplace=True)\n",
       "        (conv2): Conv2d(192, 48, kernel_size=(3, 3), stride=(1, 1), padding=(1, 1), bias=False)\n",
       "      )\n",
       "      (denselayer6): _DenseLayer(\n",
       "        (norm1): BatchNorm2d(624, eps=1e-05, momentum=0.1, affine=True, track_running_stats=True)\n",
       "        (relu1): ReLU(inplace=True)\n",
       "        (conv1): Conv2d(624, 192, kernel_size=(1, 1), stride=(1, 1), bias=False)\n",
       "        (norm2): BatchNorm2d(192, eps=1e-05, momentum=0.1, affine=True, track_running_stats=True)\n",
       "        (relu2): ReLU(inplace=True)\n",
       "        (conv2): Conv2d(192, 48, kernel_size=(3, 3), stride=(1, 1), padding=(1, 1), bias=False)\n",
       "      )\n",
       "      (denselayer7): _DenseLayer(\n",
       "        (norm1): BatchNorm2d(672, eps=1e-05, momentum=0.1, affine=True, track_running_stats=True)\n",
       "        (relu1): ReLU(inplace=True)\n",
       "        (conv1): Conv2d(672, 192, kernel_size=(1, 1), stride=(1, 1), bias=False)\n",
       "        (norm2): BatchNorm2d(192, eps=1e-05, momentum=0.1, affine=True, track_running_stats=True)\n",
       "        (relu2): ReLU(inplace=True)\n",
       "        (conv2): Conv2d(192, 48, kernel_size=(3, 3), stride=(1, 1), padding=(1, 1), bias=False)\n",
       "      )\n",
       "      (denselayer8): _DenseLayer(\n",
       "        (norm1): BatchNorm2d(720, eps=1e-05, momentum=0.1, affine=True, track_running_stats=True)\n",
       "        (relu1): ReLU(inplace=True)\n",
       "        (conv1): Conv2d(720, 192, kernel_size=(1, 1), stride=(1, 1), bias=False)\n",
       "        (norm2): BatchNorm2d(192, eps=1e-05, momentum=0.1, affine=True, track_running_stats=True)\n",
       "        (relu2): ReLU(inplace=True)\n",
       "        (conv2): Conv2d(192, 48, kernel_size=(3, 3), stride=(1, 1), padding=(1, 1), bias=False)\n",
       "      )\n",
       "      (denselayer9): _DenseLayer(\n",
       "        (norm1): BatchNorm2d(768, eps=1e-05, momentum=0.1, affine=True, track_running_stats=True)\n",
       "        (relu1): ReLU(inplace=True)\n",
       "        (conv1): Conv2d(768, 192, kernel_size=(1, 1), stride=(1, 1), bias=False)\n",
       "        (norm2): BatchNorm2d(192, eps=1e-05, momentum=0.1, affine=True, track_running_stats=True)\n",
       "        (relu2): ReLU(inplace=True)\n",
       "        (conv2): Conv2d(192, 48, kernel_size=(3, 3), stride=(1, 1), padding=(1, 1), bias=False)\n",
       "      )\n",
       "      (denselayer10): _DenseLayer(\n",
       "        (norm1): BatchNorm2d(816, eps=1e-05, momentum=0.1, affine=True, track_running_stats=True)\n",
       "        (relu1): ReLU(inplace=True)\n",
       "        (conv1): Conv2d(816, 192, kernel_size=(1, 1), stride=(1, 1), bias=False)\n",
       "        (norm2): BatchNorm2d(192, eps=1e-05, momentum=0.1, affine=True, track_running_stats=True)\n",
       "        (relu2): ReLU(inplace=True)\n",
       "        (conv2): Conv2d(192, 48, kernel_size=(3, 3), stride=(1, 1), padding=(1, 1), bias=False)\n",
       "      )\n",
       "      (denselayer11): _DenseLayer(\n",
       "        (norm1): BatchNorm2d(864, eps=1e-05, momentum=0.1, affine=True, track_running_stats=True)\n",
       "        (relu1): ReLU(inplace=True)\n",
       "        (conv1): Conv2d(864, 192, kernel_size=(1, 1), stride=(1, 1), bias=False)\n",
       "        (norm2): BatchNorm2d(192, eps=1e-05, momentum=0.1, affine=True, track_running_stats=True)\n",
       "        (relu2): ReLU(inplace=True)\n",
       "        (conv2): Conv2d(192, 48, kernel_size=(3, 3), stride=(1, 1), padding=(1, 1), bias=False)\n",
       "      )\n",
       "      (denselayer12): _DenseLayer(\n",
       "        (norm1): BatchNorm2d(912, eps=1e-05, momentum=0.1, affine=True, track_running_stats=True)\n",
       "        (relu1): ReLU(inplace=True)\n",
       "        (conv1): Conv2d(912, 192, kernel_size=(1, 1), stride=(1, 1), bias=False)\n",
       "        (norm2): BatchNorm2d(192, eps=1e-05, momentum=0.1, affine=True, track_running_stats=True)\n",
       "        (relu2): ReLU(inplace=True)\n",
       "        (conv2): Conv2d(192, 48, kernel_size=(3, 3), stride=(1, 1), padding=(1, 1), bias=False)\n",
       "      )\n",
       "      (denselayer13): _DenseLayer(\n",
       "        (norm1): BatchNorm2d(960, eps=1e-05, momentum=0.1, affine=True, track_running_stats=True)\n",
       "        (relu1): ReLU(inplace=True)\n",
       "        (conv1): Conv2d(960, 192, kernel_size=(1, 1), stride=(1, 1), bias=False)\n",
       "        (norm2): BatchNorm2d(192, eps=1e-05, momentum=0.1, affine=True, track_running_stats=True)\n",
       "        (relu2): ReLU(inplace=True)\n",
       "        (conv2): Conv2d(192, 48, kernel_size=(3, 3), stride=(1, 1), padding=(1, 1), bias=False)\n",
       "      )\n",
       "      (denselayer14): _DenseLayer(\n",
       "        (norm1): BatchNorm2d(1008, eps=1e-05, momentum=0.1, affine=True, track_running_stats=True)\n",
       "        (relu1): ReLU(inplace=True)\n",
       "        (conv1): Conv2d(1008, 192, kernel_size=(1, 1), stride=(1, 1), bias=False)\n",
       "        (norm2): BatchNorm2d(192, eps=1e-05, momentum=0.1, affine=True, track_running_stats=True)\n",
       "        (relu2): ReLU(inplace=True)\n",
       "        (conv2): Conv2d(192, 48, kernel_size=(3, 3), stride=(1, 1), padding=(1, 1), bias=False)\n",
       "      )\n",
       "      (denselayer15): _DenseLayer(\n",
       "        (norm1): BatchNorm2d(1056, eps=1e-05, momentum=0.1, affine=True, track_running_stats=True)\n",
       "        (relu1): ReLU(inplace=True)\n",
       "        (conv1): Conv2d(1056, 192, kernel_size=(1, 1), stride=(1, 1), bias=False)\n",
       "        (norm2): BatchNorm2d(192, eps=1e-05, momentum=0.1, affine=True, track_running_stats=True)\n",
       "        (relu2): ReLU(inplace=True)\n",
       "        (conv2): Conv2d(192, 48, kernel_size=(3, 3), stride=(1, 1), padding=(1, 1), bias=False)\n",
       "      )\n",
       "      (denselayer16): _DenseLayer(\n",
       "        (norm1): BatchNorm2d(1104, eps=1e-05, momentum=0.1, affine=True, track_running_stats=True)\n",
       "        (relu1): ReLU(inplace=True)\n",
       "        (conv1): Conv2d(1104, 192, kernel_size=(1, 1), stride=(1, 1), bias=False)\n",
       "        (norm2): BatchNorm2d(192, eps=1e-05, momentum=0.1, affine=True, track_running_stats=True)\n",
       "        (relu2): ReLU(inplace=True)\n",
       "        (conv2): Conv2d(192, 48, kernel_size=(3, 3), stride=(1, 1), padding=(1, 1), bias=False)\n",
       "      )\n",
       "      (denselayer17): _DenseLayer(\n",
       "        (norm1): BatchNorm2d(1152, eps=1e-05, momentum=0.1, affine=True, track_running_stats=True)\n",
       "        (relu1): ReLU(inplace=True)\n",
       "        (conv1): Conv2d(1152, 192, kernel_size=(1, 1), stride=(1, 1), bias=False)\n",
       "        (norm2): BatchNorm2d(192, eps=1e-05, momentum=0.1, affine=True, track_running_stats=True)\n",
       "        (relu2): ReLU(inplace=True)\n",
       "        (conv2): Conv2d(192, 48, kernel_size=(3, 3), stride=(1, 1), padding=(1, 1), bias=False)\n",
       "      )\n",
       "      (denselayer18): _DenseLayer(\n",
       "        (norm1): BatchNorm2d(1200, eps=1e-05, momentum=0.1, affine=True, track_running_stats=True)\n",
       "        (relu1): ReLU(inplace=True)\n",
       "        (conv1): Conv2d(1200, 192, kernel_size=(1, 1), stride=(1, 1), bias=False)\n",
       "        (norm2): BatchNorm2d(192, eps=1e-05, momentum=0.1, affine=True, track_running_stats=True)\n",
       "        (relu2): ReLU(inplace=True)\n",
       "        (conv2): Conv2d(192, 48, kernel_size=(3, 3), stride=(1, 1), padding=(1, 1), bias=False)\n",
       "      )\n",
       "      (denselayer19): _DenseLayer(\n",
       "        (norm1): BatchNorm2d(1248, eps=1e-05, momentum=0.1, affine=True, track_running_stats=True)\n",
       "        (relu1): ReLU(inplace=True)\n",
       "        (conv1): Conv2d(1248, 192, kernel_size=(1, 1), stride=(1, 1), bias=False)\n",
       "        (norm2): BatchNorm2d(192, eps=1e-05, momentum=0.1, affine=True, track_running_stats=True)\n",
       "        (relu2): ReLU(inplace=True)\n",
       "        (conv2): Conv2d(192, 48, kernel_size=(3, 3), stride=(1, 1), padding=(1, 1), bias=False)\n",
       "      )\n",
       "      (denselayer20): _DenseLayer(\n",
       "        (norm1): BatchNorm2d(1296, eps=1e-05, momentum=0.1, affine=True, track_running_stats=True)\n",
       "        (relu1): ReLU(inplace=True)\n",
       "        (conv1): Conv2d(1296, 192, kernel_size=(1, 1), stride=(1, 1), bias=False)\n",
       "        (norm2): BatchNorm2d(192, eps=1e-05, momentum=0.1, affine=True, track_running_stats=True)\n",
       "        (relu2): ReLU(inplace=True)\n",
       "        (conv2): Conv2d(192, 48, kernel_size=(3, 3), stride=(1, 1), padding=(1, 1), bias=False)\n",
       "      )\n",
       "      (denselayer21): _DenseLayer(\n",
       "        (norm1): BatchNorm2d(1344, eps=1e-05, momentum=0.1, affine=True, track_running_stats=True)\n",
       "        (relu1): ReLU(inplace=True)\n",
       "        (conv1): Conv2d(1344, 192, kernel_size=(1, 1), stride=(1, 1), bias=False)\n",
       "        (norm2): BatchNorm2d(192, eps=1e-05, momentum=0.1, affine=True, track_running_stats=True)\n",
       "        (relu2): ReLU(inplace=True)\n",
       "        (conv2): Conv2d(192, 48, kernel_size=(3, 3), stride=(1, 1), padding=(1, 1), bias=False)\n",
       "      )\n",
       "      (denselayer22): _DenseLayer(\n",
       "        (norm1): BatchNorm2d(1392, eps=1e-05, momentum=0.1, affine=True, track_running_stats=True)\n",
       "        (relu1): ReLU(inplace=True)\n",
       "        (conv1): Conv2d(1392, 192, kernel_size=(1, 1), stride=(1, 1), bias=False)\n",
       "        (norm2): BatchNorm2d(192, eps=1e-05, momentum=0.1, affine=True, track_running_stats=True)\n",
       "        (relu2): ReLU(inplace=True)\n",
       "        (conv2): Conv2d(192, 48, kernel_size=(3, 3), stride=(1, 1), padding=(1, 1), bias=False)\n",
       "      )\n",
       "      (denselayer23): _DenseLayer(\n",
       "        (norm1): BatchNorm2d(1440, eps=1e-05, momentum=0.1, affine=True, track_running_stats=True)\n",
       "        (relu1): ReLU(inplace=True)\n",
       "        (conv1): Conv2d(1440, 192, kernel_size=(1, 1), stride=(1, 1), bias=False)\n",
       "        (norm2): BatchNorm2d(192, eps=1e-05, momentum=0.1, affine=True, track_running_stats=True)\n",
       "        (relu2): ReLU(inplace=True)\n",
       "        (conv2): Conv2d(192, 48, kernel_size=(3, 3), stride=(1, 1), padding=(1, 1), bias=False)\n",
       "      )\n",
       "      (denselayer24): _DenseLayer(\n",
       "        (norm1): BatchNorm2d(1488, eps=1e-05, momentum=0.1, affine=True, track_running_stats=True)\n",
       "        (relu1): ReLU(inplace=True)\n",
       "        (conv1): Conv2d(1488, 192, kernel_size=(1, 1), stride=(1, 1), bias=False)\n",
       "        (norm2): BatchNorm2d(192, eps=1e-05, momentum=0.1, affine=True, track_running_stats=True)\n",
       "        (relu2): ReLU(inplace=True)\n",
       "        (conv2): Conv2d(192, 48, kernel_size=(3, 3), stride=(1, 1), padding=(1, 1), bias=False)\n",
       "      )\n",
       "      (denselayer25): _DenseLayer(\n",
       "        (norm1): BatchNorm2d(1536, eps=1e-05, momentum=0.1, affine=True, track_running_stats=True)\n",
       "        (relu1): ReLU(inplace=True)\n",
       "        (conv1): Conv2d(1536, 192, kernel_size=(1, 1), stride=(1, 1), bias=False)\n",
       "        (norm2): BatchNorm2d(192, eps=1e-05, momentum=0.1, affine=True, track_running_stats=True)\n",
       "        (relu2): ReLU(inplace=True)\n",
       "        (conv2): Conv2d(192, 48, kernel_size=(3, 3), stride=(1, 1), padding=(1, 1), bias=False)\n",
       "      )\n",
       "      (denselayer26): _DenseLayer(\n",
       "        (norm1): BatchNorm2d(1584, eps=1e-05, momentum=0.1, affine=True, track_running_stats=True)\n",
       "        (relu1): ReLU(inplace=True)\n",
       "        (conv1): Conv2d(1584, 192, kernel_size=(1, 1), stride=(1, 1), bias=False)\n",
       "        (norm2): BatchNorm2d(192, eps=1e-05, momentum=0.1, affine=True, track_running_stats=True)\n",
       "        (relu2): ReLU(inplace=True)\n",
       "        (conv2): Conv2d(192, 48, kernel_size=(3, 3), stride=(1, 1), padding=(1, 1), bias=False)\n",
       "      )\n",
       "      (denselayer27): _DenseLayer(\n",
       "        (norm1): BatchNorm2d(1632, eps=1e-05, momentum=0.1, affine=True, track_running_stats=True)\n",
       "        (relu1): ReLU(inplace=True)\n",
       "        (conv1): Conv2d(1632, 192, kernel_size=(1, 1), stride=(1, 1), bias=False)\n",
       "        (norm2): BatchNorm2d(192, eps=1e-05, momentum=0.1, affine=True, track_running_stats=True)\n",
       "        (relu2): ReLU(inplace=True)\n",
       "        (conv2): Conv2d(192, 48, kernel_size=(3, 3), stride=(1, 1), padding=(1, 1), bias=False)\n",
       "      )\n",
       "      (denselayer28): _DenseLayer(\n",
       "        (norm1): BatchNorm2d(1680, eps=1e-05, momentum=0.1, affine=True, track_running_stats=True)\n",
       "        (relu1): ReLU(inplace=True)\n",
       "        (conv1): Conv2d(1680, 192, kernel_size=(1, 1), stride=(1, 1), bias=False)\n",
       "        (norm2): BatchNorm2d(192, eps=1e-05, momentum=0.1, affine=True, track_running_stats=True)\n",
       "        (relu2): ReLU(inplace=True)\n",
       "        (conv2): Conv2d(192, 48, kernel_size=(3, 3), stride=(1, 1), padding=(1, 1), bias=False)\n",
       "      )\n",
       "      (denselayer29): _DenseLayer(\n",
       "        (norm1): BatchNorm2d(1728, eps=1e-05, momentum=0.1, affine=True, track_running_stats=True)\n",
       "        (relu1): ReLU(inplace=True)\n",
       "        (conv1): Conv2d(1728, 192, kernel_size=(1, 1), stride=(1, 1), bias=False)\n",
       "        (norm2): BatchNorm2d(192, eps=1e-05, momentum=0.1, affine=True, track_running_stats=True)\n",
       "        (relu2): ReLU(inplace=True)\n",
       "        (conv2): Conv2d(192, 48, kernel_size=(3, 3), stride=(1, 1), padding=(1, 1), bias=False)\n",
       "      )\n",
       "      (denselayer30): _DenseLayer(\n",
       "        (norm1): BatchNorm2d(1776, eps=1e-05, momentum=0.1, affine=True, track_running_stats=True)\n",
       "        (relu1): ReLU(inplace=True)\n",
       "        (conv1): Conv2d(1776, 192, kernel_size=(1, 1), stride=(1, 1), bias=False)\n",
       "        (norm2): BatchNorm2d(192, eps=1e-05, momentum=0.1, affine=True, track_running_stats=True)\n",
       "        (relu2): ReLU(inplace=True)\n",
       "        (conv2): Conv2d(192, 48, kernel_size=(3, 3), stride=(1, 1), padding=(1, 1), bias=False)\n",
       "      )\n",
       "      (denselayer31): _DenseLayer(\n",
       "        (norm1): BatchNorm2d(1824, eps=1e-05, momentum=0.1, affine=True, track_running_stats=True)\n",
       "        (relu1): ReLU(inplace=True)\n",
       "        (conv1): Conv2d(1824, 192, kernel_size=(1, 1), stride=(1, 1), bias=False)\n",
       "        (norm2): BatchNorm2d(192, eps=1e-05, momentum=0.1, affine=True, track_running_stats=True)\n",
       "        (relu2): ReLU(inplace=True)\n",
       "        (conv2): Conv2d(192, 48, kernel_size=(3, 3), stride=(1, 1), padding=(1, 1), bias=False)\n",
       "      )\n",
       "      (denselayer32): _DenseLayer(\n",
       "        (norm1): BatchNorm2d(1872, eps=1e-05, momentum=0.1, affine=True, track_running_stats=True)\n",
       "        (relu1): ReLU(inplace=True)\n",
       "        (conv1): Conv2d(1872, 192, kernel_size=(1, 1), stride=(1, 1), bias=False)\n",
       "        (norm2): BatchNorm2d(192, eps=1e-05, momentum=0.1, affine=True, track_running_stats=True)\n",
       "        (relu2): ReLU(inplace=True)\n",
       "        (conv2): Conv2d(192, 48, kernel_size=(3, 3), stride=(1, 1), padding=(1, 1), bias=False)\n",
       "      )\n",
       "      (denselayer33): _DenseLayer(\n",
       "        (norm1): BatchNorm2d(1920, eps=1e-05, momentum=0.1, affine=True, track_running_stats=True)\n",
       "        (relu1): ReLU(inplace=True)\n",
       "        (conv1): Conv2d(1920, 192, kernel_size=(1, 1), stride=(1, 1), bias=False)\n",
       "        (norm2): BatchNorm2d(192, eps=1e-05, momentum=0.1, affine=True, track_running_stats=True)\n",
       "        (relu2): ReLU(inplace=True)\n",
       "        (conv2): Conv2d(192, 48, kernel_size=(3, 3), stride=(1, 1), padding=(1, 1), bias=False)\n",
       "      )\n",
       "      (denselayer34): _DenseLayer(\n",
       "        (norm1): BatchNorm2d(1968, eps=1e-05, momentum=0.1, affine=True, track_running_stats=True)\n",
       "        (relu1): ReLU(inplace=True)\n",
       "        (conv1): Conv2d(1968, 192, kernel_size=(1, 1), stride=(1, 1), bias=False)\n",
       "        (norm2): BatchNorm2d(192, eps=1e-05, momentum=0.1, affine=True, track_running_stats=True)\n",
       "        (relu2): ReLU(inplace=True)\n",
       "        (conv2): Conv2d(192, 48, kernel_size=(3, 3), stride=(1, 1), padding=(1, 1), bias=False)\n",
       "      )\n",
       "      (denselayer35): _DenseLayer(\n",
       "        (norm1): BatchNorm2d(2016, eps=1e-05, momentum=0.1, affine=True, track_running_stats=True)\n",
       "        (relu1): ReLU(inplace=True)\n",
       "        (conv1): Conv2d(2016, 192, kernel_size=(1, 1), stride=(1, 1), bias=False)\n",
       "        (norm2): BatchNorm2d(192, eps=1e-05, momentum=0.1, affine=True, track_running_stats=True)\n",
       "        (relu2): ReLU(inplace=True)\n",
       "        (conv2): Conv2d(192, 48, kernel_size=(3, 3), stride=(1, 1), padding=(1, 1), bias=False)\n",
       "      )\n",
       "      (denselayer36): _DenseLayer(\n",
       "        (norm1): BatchNorm2d(2064, eps=1e-05, momentum=0.1, affine=True, track_running_stats=True)\n",
       "        (relu1): ReLU(inplace=True)\n",
       "        (conv1): Conv2d(2064, 192, kernel_size=(1, 1), stride=(1, 1), bias=False)\n",
       "        (norm2): BatchNorm2d(192, eps=1e-05, momentum=0.1, affine=True, track_running_stats=True)\n",
       "        (relu2): ReLU(inplace=True)\n",
       "        (conv2): Conv2d(192, 48, kernel_size=(3, 3), stride=(1, 1), padding=(1, 1), bias=False)\n",
       "      )\n",
       "    )\n",
       "    (transition3): _Transition(\n",
       "      (norm): BatchNorm2d(2112, eps=1e-05, momentum=0.1, affine=True, track_running_stats=True)\n",
       "      (relu): ReLU(inplace=True)\n",
       "      (conv): Conv2d(2112, 1056, kernel_size=(1, 1), stride=(1, 1), bias=False)\n",
       "      (pool): AvgPool2d(kernel_size=2, stride=2, padding=0)\n",
       "    )\n",
       "    (denseblock4): _DenseBlock(\n",
       "      (denselayer1): _DenseLayer(\n",
       "        (norm1): BatchNorm2d(1056, eps=1e-05, momentum=0.1, affine=True, track_running_stats=True)\n",
       "        (relu1): ReLU(inplace=True)\n",
       "        (conv1): Conv2d(1056, 192, kernel_size=(1, 1), stride=(1, 1), bias=False)\n",
       "        (norm2): BatchNorm2d(192, eps=1e-05, momentum=0.1, affine=True, track_running_stats=True)\n",
       "        (relu2): ReLU(inplace=True)\n",
       "        (conv2): Conv2d(192, 48, kernel_size=(3, 3), stride=(1, 1), padding=(1, 1), bias=False)\n",
       "      )\n",
       "      (denselayer2): _DenseLayer(\n",
       "        (norm1): BatchNorm2d(1104, eps=1e-05, momentum=0.1, affine=True, track_running_stats=True)\n",
       "        (relu1): ReLU(inplace=True)\n",
       "        (conv1): Conv2d(1104, 192, kernel_size=(1, 1), stride=(1, 1), bias=False)\n",
       "        (norm2): BatchNorm2d(192, eps=1e-05, momentum=0.1, affine=True, track_running_stats=True)\n",
       "        (relu2): ReLU(inplace=True)\n",
       "        (conv2): Conv2d(192, 48, kernel_size=(3, 3), stride=(1, 1), padding=(1, 1), bias=False)\n",
       "      )\n",
       "      (denselayer3): _DenseLayer(\n",
       "        (norm1): BatchNorm2d(1152, eps=1e-05, momentum=0.1, affine=True, track_running_stats=True)\n",
       "        (relu1): ReLU(inplace=True)\n",
       "        (conv1): Conv2d(1152, 192, kernel_size=(1, 1), stride=(1, 1), bias=False)\n",
       "        (norm2): BatchNorm2d(192, eps=1e-05, momentum=0.1, affine=True, track_running_stats=True)\n",
       "        (relu2): ReLU(inplace=True)\n",
       "        (conv2): Conv2d(192, 48, kernel_size=(3, 3), stride=(1, 1), padding=(1, 1), bias=False)\n",
       "      )\n",
       "      (denselayer4): _DenseLayer(\n",
       "        (norm1): BatchNorm2d(1200, eps=1e-05, momentum=0.1, affine=True, track_running_stats=True)\n",
       "        (relu1): ReLU(inplace=True)\n",
       "        (conv1): Conv2d(1200, 192, kernel_size=(1, 1), stride=(1, 1), bias=False)\n",
       "        (norm2): BatchNorm2d(192, eps=1e-05, momentum=0.1, affine=True, track_running_stats=True)\n",
       "        (relu2): ReLU(inplace=True)\n",
       "        (conv2): Conv2d(192, 48, kernel_size=(3, 3), stride=(1, 1), padding=(1, 1), bias=False)\n",
       "      )\n",
       "      (denselayer5): _DenseLayer(\n",
       "        (norm1): BatchNorm2d(1248, eps=1e-05, momentum=0.1, affine=True, track_running_stats=True)\n",
       "        (relu1): ReLU(inplace=True)\n",
       "        (conv1): Conv2d(1248, 192, kernel_size=(1, 1), stride=(1, 1), bias=False)\n",
       "        (norm2): BatchNorm2d(192, eps=1e-05, momentum=0.1, affine=True, track_running_stats=True)\n",
       "        (relu2): ReLU(inplace=True)\n",
       "        (conv2): Conv2d(192, 48, kernel_size=(3, 3), stride=(1, 1), padding=(1, 1), bias=False)\n",
       "      )\n",
       "      (denselayer6): _DenseLayer(\n",
       "        (norm1): BatchNorm2d(1296, eps=1e-05, momentum=0.1, affine=True, track_running_stats=True)\n",
       "        (relu1): ReLU(inplace=True)\n",
       "        (conv1): Conv2d(1296, 192, kernel_size=(1, 1), stride=(1, 1), bias=False)\n",
       "        (norm2): BatchNorm2d(192, eps=1e-05, momentum=0.1, affine=True, track_running_stats=True)\n",
       "        (relu2): ReLU(inplace=True)\n",
       "        (conv2): Conv2d(192, 48, kernel_size=(3, 3), stride=(1, 1), padding=(1, 1), bias=False)\n",
       "      )\n",
       "      (denselayer7): _DenseLayer(\n",
       "        (norm1): BatchNorm2d(1344, eps=1e-05, momentum=0.1, affine=True, track_running_stats=True)\n",
       "        (relu1): ReLU(inplace=True)\n",
       "        (conv1): Conv2d(1344, 192, kernel_size=(1, 1), stride=(1, 1), bias=False)\n",
       "        (norm2): BatchNorm2d(192, eps=1e-05, momentum=0.1, affine=True, track_running_stats=True)\n",
       "        (relu2): ReLU(inplace=True)\n",
       "        (conv2): Conv2d(192, 48, kernel_size=(3, 3), stride=(1, 1), padding=(1, 1), bias=False)\n",
       "      )\n",
       "      (denselayer8): _DenseLayer(\n",
       "        (norm1): BatchNorm2d(1392, eps=1e-05, momentum=0.1, affine=True, track_running_stats=True)\n",
       "        (relu1): ReLU(inplace=True)\n",
       "        (conv1): Conv2d(1392, 192, kernel_size=(1, 1), stride=(1, 1), bias=False)\n",
       "        (norm2): BatchNorm2d(192, eps=1e-05, momentum=0.1, affine=True, track_running_stats=True)\n",
       "        (relu2): ReLU(inplace=True)\n",
       "        (conv2): Conv2d(192, 48, kernel_size=(3, 3), stride=(1, 1), padding=(1, 1), bias=False)\n",
       "      )\n",
       "      (denselayer9): _DenseLayer(\n",
       "        (norm1): BatchNorm2d(1440, eps=1e-05, momentum=0.1, affine=True, track_running_stats=True)\n",
       "        (relu1): ReLU(inplace=True)\n",
       "        (conv1): Conv2d(1440, 192, kernel_size=(1, 1), stride=(1, 1), bias=False)\n",
       "        (norm2): BatchNorm2d(192, eps=1e-05, momentum=0.1, affine=True, track_running_stats=True)\n",
       "        (relu2): ReLU(inplace=True)\n",
       "        (conv2): Conv2d(192, 48, kernel_size=(3, 3), stride=(1, 1), padding=(1, 1), bias=False)\n",
       "      )\n",
       "      (denselayer10): _DenseLayer(\n",
       "        (norm1): BatchNorm2d(1488, eps=1e-05, momentum=0.1, affine=True, track_running_stats=True)\n",
       "        (relu1): ReLU(inplace=True)\n",
       "        (conv1): Conv2d(1488, 192, kernel_size=(1, 1), stride=(1, 1), bias=False)\n",
       "        (norm2): BatchNorm2d(192, eps=1e-05, momentum=0.1, affine=True, track_running_stats=True)\n",
       "        (relu2): ReLU(inplace=True)\n",
       "        (conv2): Conv2d(192, 48, kernel_size=(3, 3), stride=(1, 1), padding=(1, 1), bias=False)\n",
       "      )\n",
       "      (denselayer11): _DenseLayer(\n",
       "        (norm1): BatchNorm2d(1536, eps=1e-05, momentum=0.1, affine=True, track_running_stats=True)\n",
       "        (relu1): ReLU(inplace=True)\n",
       "        (conv1): Conv2d(1536, 192, kernel_size=(1, 1), stride=(1, 1), bias=False)\n",
       "        (norm2): BatchNorm2d(192, eps=1e-05, momentum=0.1, affine=True, track_running_stats=True)\n",
       "        (relu2): ReLU(inplace=True)\n",
       "        (conv2): Conv2d(192, 48, kernel_size=(3, 3), stride=(1, 1), padding=(1, 1), bias=False)\n",
       "      )\n",
       "      (denselayer12): _DenseLayer(\n",
       "        (norm1): BatchNorm2d(1584, eps=1e-05, momentum=0.1, affine=True, track_running_stats=True)\n",
       "        (relu1): ReLU(inplace=True)\n",
       "        (conv1): Conv2d(1584, 192, kernel_size=(1, 1), stride=(1, 1), bias=False)\n",
       "        (norm2): BatchNorm2d(192, eps=1e-05, momentum=0.1, affine=True, track_running_stats=True)\n",
       "        (relu2): ReLU(inplace=True)\n",
       "        (conv2): Conv2d(192, 48, kernel_size=(3, 3), stride=(1, 1), padding=(1, 1), bias=False)\n",
       "      )\n",
       "      (denselayer13): _DenseLayer(\n",
       "        (norm1): BatchNorm2d(1632, eps=1e-05, momentum=0.1, affine=True, track_running_stats=True)\n",
       "        (relu1): ReLU(inplace=True)\n",
       "        (conv1): Conv2d(1632, 192, kernel_size=(1, 1), stride=(1, 1), bias=False)\n",
       "        (norm2): BatchNorm2d(192, eps=1e-05, momentum=0.1, affine=True, track_running_stats=True)\n",
       "        (relu2): ReLU(inplace=True)\n",
       "        (conv2): Conv2d(192, 48, kernel_size=(3, 3), stride=(1, 1), padding=(1, 1), bias=False)\n",
       "      )\n",
       "      (denselayer14): _DenseLayer(\n",
       "        (norm1): BatchNorm2d(1680, eps=1e-05, momentum=0.1, affine=True, track_running_stats=True)\n",
       "        (relu1): ReLU(inplace=True)\n",
       "        (conv1): Conv2d(1680, 192, kernel_size=(1, 1), stride=(1, 1), bias=False)\n",
       "        (norm2): BatchNorm2d(192, eps=1e-05, momentum=0.1, affine=True, track_running_stats=True)\n",
       "        (relu2): ReLU(inplace=True)\n",
       "        (conv2): Conv2d(192, 48, kernel_size=(3, 3), stride=(1, 1), padding=(1, 1), bias=False)\n",
       "      )\n",
       "      (denselayer15): _DenseLayer(\n",
       "        (norm1): BatchNorm2d(1728, eps=1e-05, momentum=0.1, affine=True, track_running_stats=True)\n",
       "        (relu1): ReLU(inplace=True)\n",
       "        (conv1): Conv2d(1728, 192, kernel_size=(1, 1), stride=(1, 1), bias=False)\n",
       "        (norm2): BatchNorm2d(192, eps=1e-05, momentum=0.1, affine=True, track_running_stats=True)\n",
       "        (relu2): ReLU(inplace=True)\n",
       "        (conv2): Conv2d(192, 48, kernel_size=(3, 3), stride=(1, 1), padding=(1, 1), bias=False)\n",
       "      )\n",
       "      (denselayer16): _DenseLayer(\n",
       "        (norm1): BatchNorm2d(1776, eps=1e-05, momentum=0.1, affine=True, track_running_stats=True)\n",
       "        (relu1): ReLU(inplace=True)\n",
       "        (conv1): Conv2d(1776, 192, kernel_size=(1, 1), stride=(1, 1), bias=False)\n",
       "        (norm2): BatchNorm2d(192, eps=1e-05, momentum=0.1, affine=True, track_running_stats=True)\n",
       "        (relu2): ReLU(inplace=True)\n",
       "        (conv2): Conv2d(192, 48, kernel_size=(3, 3), stride=(1, 1), padding=(1, 1), bias=False)\n",
       "      )\n",
       "      (denselayer17): _DenseLayer(\n",
       "        (norm1): BatchNorm2d(1824, eps=1e-05, momentum=0.1, affine=True, track_running_stats=True)\n",
       "        (relu1): ReLU(inplace=True)\n",
       "        (conv1): Conv2d(1824, 192, kernel_size=(1, 1), stride=(1, 1), bias=False)\n",
       "        (norm2): BatchNorm2d(192, eps=1e-05, momentum=0.1, affine=True, track_running_stats=True)\n",
       "        (relu2): ReLU(inplace=True)\n",
       "        (conv2): Conv2d(192, 48, kernel_size=(3, 3), stride=(1, 1), padding=(1, 1), bias=False)\n",
       "      )\n",
       "      (denselayer18): _DenseLayer(\n",
       "        (norm1): BatchNorm2d(1872, eps=1e-05, momentum=0.1, affine=True, track_running_stats=True)\n",
       "        (relu1): ReLU(inplace=True)\n",
       "        (conv1): Conv2d(1872, 192, kernel_size=(1, 1), stride=(1, 1), bias=False)\n",
       "        (norm2): BatchNorm2d(192, eps=1e-05, momentum=0.1, affine=True, track_running_stats=True)\n",
       "        (relu2): ReLU(inplace=True)\n",
       "        (conv2): Conv2d(192, 48, kernel_size=(3, 3), stride=(1, 1), padding=(1, 1), bias=False)\n",
       "      )\n",
       "      (denselayer19): _DenseLayer(\n",
       "        (norm1): BatchNorm2d(1920, eps=1e-05, momentum=0.1, affine=True, track_running_stats=True)\n",
       "        (relu1): ReLU(inplace=True)\n",
       "        (conv1): Conv2d(1920, 192, kernel_size=(1, 1), stride=(1, 1), bias=False)\n",
       "        (norm2): BatchNorm2d(192, eps=1e-05, momentum=0.1, affine=True, track_running_stats=True)\n",
       "        (relu2): ReLU(inplace=True)\n",
       "        (conv2): Conv2d(192, 48, kernel_size=(3, 3), stride=(1, 1), padding=(1, 1), bias=False)\n",
       "      )\n",
       "      (denselayer20): _DenseLayer(\n",
       "        (norm1): BatchNorm2d(1968, eps=1e-05, momentum=0.1, affine=True, track_running_stats=True)\n",
       "        (relu1): ReLU(inplace=True)\n",
       "        (conv1): Conv2d(1968, 192, kernel_size=(1, 1), stride=(1, 1), bias=False)\n",
       "        (norm2): BatchNorm2d(192, eps=1e-05, momentum=0.1, affine=True, track_running_stats=True)\n",
       "        (relu2): ReLU(inplace=True)\n",
       "        (conv2): Conv2d(192, 48, kernel_size=(3, 3), stride=(1, 1), padding=(1, 1), bias=False)\n",
       "      )\n",
       "      (denselayer21): _DenseLayer(\n",
       "        (norm1): BatchNorm2d(2016, eps=1e-05, momentum=0.1, affine=True, track_running_stats=True)\n",
       "        (relu1): ReLU(inplace=True)\n",
       "        (conv1): Conv2d(2016, 192, kernel_size=(1, 1), stride=(1, 1), bias=False)\n",
       "        (norm2): BatchNorm2d(192, eps=1e-05, momentum=0.1, affine=True, track_running_stats=True)\n",
       "        (relu2): ReLU(inplace=True)\n",
       "        (conv2): Conv2d(192, 48, kernel_size=(3, 3), stride=(1, 1), padding=(1, 1), bias=False)\n",
       "      )\n",
       "      (denselayer22): _DenseLayer(\n",
       "        (norm1): BatchNorm2d(2064, eps=1e-05, momentum=0.1, affine=True, track_running_stats=True)\n",
       "        (relu1): ReLU(inplace=True)\n",
       "        (conv1): Conv2d(2064, 192, kernel_size=(1, 1), stride=(1, 1), bias=False)\n",
       "        (norm2): BatchNorm2d(192, eps=1e-05, momentum=0.1, affine=True, track_running_stats=True)\n",
       "        (relu2): ReLU(inplace=True)\n",
       "        (conv2): Conv2d(192, 48, kernel_size=(3, 3), stride=(1, 1), padding=(1, 1), bias=False)\n",
       "      )\n",
       "      (denselayer23): _DenseLayer(\n",
       "        (norm1): BatchNorm2d(2112, eps=1e-05, momentum=0.1, affine=True, track_running_stats=True)\n",
       "        (relu1): ReLU(inplace=True)\n",
       "        (conv1): Conv2d(2112, 192, kernel_size=(1, 1), stride=(1, 1), bias=False)\n",
       "        (norm2): BatchNorm2d(192, eps=1e-05, momentum=0.1, affine=True, track_running_stats=True)\n",
       "        (relu2): ReLU(inplace=True)\n",
       "        (conv2): Conv2d(192, 48, kernel_size=(3, 3), stride=(1, 1), padding=(1, 1), bias=False)\n",
       "      )\n",
       "      (denselayer24): _DenseLayer(\n",
       "        (norm1): BatchNorm2d(2160, eps=1e-05, momentum=0.1, affine=True, track_running_stats=True)\n",
       "        (relu1): ReLU(inplace=True)\n",
       "        (conv1): Conv2d(2160, 192, kernel_size=(1, 1), stride=(1, 1), bias=False)\n",
       "        (norm2): BatchNorm2d(192, eps=1e-05, momentum=0.1, affine=True, track_running_stats=True)\n",
       "        (relu2): ReLU(inplace=True)\n",
       "        (conv2): Conv2d(192, 48, kernel_size=(3, 3), stride=(1, 1), padding=(1, 1), bias=False)\n",
       "      )\n",
       "    )\n",
       "    (norm5): BatchNorm2d(2208, eps=1e-05, momentum=0.1, affine=True, track_running_stats=True)\n",
       "  )\n",
       "  (classifier): Sequential(\n",
       "    (fc1): Linear(in_features=2208, out_features=1000, bias=True)\n",
       "    (relu): ReLU()\n",
       "    (fc2): Linear(in_features=1000, out_features=133, bias=True)\n",
       "    (output): LogSoftmax()\n",
       "  )\n",
       ")"
      ]
     },
     "execution_count": 64,
     "metadata": {
      "tags": []
     },
     "output_type": "execute_result"
    }
   ],
   "source": [
    "## 문제 13 코드 답 작성\n",
    "### 답 작성 부분 ###\n",
    "train_transforms = transforms.Compose([transforms.RandomRotation(30),\n",
    "                                       transforms.RandomResizedCrop(224),\n",
    "                                       transforms.RandomHorizontalFlip(),\n",
    "                                       transforms.ToTensor(),\n",
    "                                       transforms.Normalize([0.485, 0.456, 0.406],\n",
    "                                                            [0.229, 0.224, 0.225])])\n",
    "\n",
    "test_transforms = transforms.Compose([transforms.Resize(255),\n",
    "                                      transforms.CenterCrop(224),\n",
    "                                      transforms.ToTensor(),\n",
    "                                      transforms.Normalize([0.485, 0.456, 0.406],\n",
    "                                                           [0.229, 0.224, 0.225])])\n",
    "\n",
    "# Pass transforms in here, then run the next cell to see how the transforms look\n",
    "training = datasets.ImageFolder(train_path, transform=train_transforms)\n",
    "testing = datasets.ImageFolder(test_path, transform=test_transform)#test와 같은형태의 데이터 써야함\n",
    "\n",
    "train_batches = torch.utils.data.DataLoader(training, batch_size=64)#,shuffle = True -> 섞어서 가져옴\n",
    "test_batches = torch.utils.data.DataLoader(testing, batch_size=64)\n",
    "\n",
    "# Backprop을 수행하지 않도록 parameter들을 동결시킴\n",
    "for param in model_transfer.parameters():\n",
    "    param.requires_grad = False\n",
    "\n",
    "from collections import OrderedDict\n",
    "classifier = nn.Sequential(OrderedDict([\n",
    "                          ('fc1', nn.Linear(2208, 1000)),\n",
    "                          ('relu', nn.ReLU()),\n",
    "                          ('fc2', nn.Linear(1000, 133)),\n",
    "                          ('output', nn.LogSoftmax(dim=1))\n",
    "                          ]))\n",
    "    \n",
    "model_transfer.classifier = classifier\n",
    "\n",
    "####\n",
    "device = torch.device(\"cuda:0\" if torch.cuda.is_available() else \"cpu\")\n",
    "model_transfer.to(device)\n",
    "\n",
    "if use_cuda:\n",
    "    model_transfer = model_transfer.cuda()\n",
    "model_transfer"
   ]
  },
  {
   "cell_type": "markdown",
   "metadata": {
    "colab_type": "text",
    "id": "GkvHy1Fspv6D"
   },
   "source": [
    "## **[문제 14]** 위의 네트워크를 구성한 이유에 대한 설명\n",
    "\n",
    "Transfer learning을 위해서 설정한 네트워크의 구조를 설명하고, 아래 내용을 포함하여 어떻게 변경하고 왜 그렇게 변경하였는지 구체적으로 설명하세요.\n",
    "\n",
    "* 새롭게 학습을 하고자 하는 layer는 무엇이며, 어떻게 구성하였는가?\n",
    "* Pre-train 된 layer들은 어떤 것이며, 어떻게 하여 학습을 안하도록 설정하였는가?"
   ]
  },
  {
   "cell_type": "markdown",
   "metadata": {
    "colab_type": "text",
    "id": "lu77Wz3Spv6D"
   },
   "source": [
    "**[답 작성]**\n",
    "1. dense-161모델은 마지막 output layer가 1000로 되어있습니다. 이것은 1000개의 분류를 수행할 수 있다는 것입니다. 따라서 우리가 원하는 강아지 분류를 하기 위해 133개의 강아지 종에 맞춰 2208(최종 in_features) -> 1000 -> 133 으로 output을 조정해 줬습니다.\n",
    "\n",
    "2. 모델의 파라미터들을 동결시키기 위해 모든 파라미터들을 requires_grad = False 이용하여 학습을 하지 않도록 했습니다. "
   ]
  },
  {
   "cell_type": "markdown",
   "metadata": {
    "colab_type": "text",
    "id": "6oVPqCSfpv6E"
   },
   "source": [
    "## **[문제 15]** Loss Function 과 Optimizer 선택\n",
    "\n",
    "[loss function](http://pytorch.org/docs/stable/nn.html#loss-functions) 및 [optimizer](http://pytorch.org/docs/stable/optim.html)를 선택하여 코드를 완성하세요. 선택한 loss function을 `criterion_transfer`로 저장하고 optimizer를 아래 `optimizer_transfer`로 저장하세요.\n",
    "\n",
    "Optimizer와 Cost 함수를 선정하는데 중요하다고 생각하는 내용을 모두 작성합니다. \n",
    "아래 내용은 최소한 포함하여 설명합니다.\n",
    "\n",
    "* Optimizer는 무엇을 선정하였는지 설명\n",
    "* Cost (loss) function을 무엇으로 선택하고, 왜 선택하였는지 설명\n",
    "  * Cost function이 본 문제에 왜 사용하였는가?\n",
    "  * 분류 문제에서 사용하는 cost 함수의 의미를 설명하세요"
   ]
  },
  {
   "cell_type": "markdown",
   "metadata": {
    "colab_type": "text",
    "id": "e6nqugpfasCO"
   },
   "source": [
    "**[답 작성]**"
   ]
  },
  {
   "cell_type": "code",
   "execution_count": 65,
   "metadata": {
    "colab": {},
    "colab_type": "code",
    "id": "f5Xl9tzmpv6E"
   },
   "outputs": [],
   "source": [
    "# 문제 15 답 작성\n",
    "criterion_transfer = nn.NLLLoss()#NLLLoss()쓴다. ->negative log likelihood loss\n",
    "optimizer_transfer = optimizer.Adam(model_transfer.parameters(), lr=0.001,weight_decay=1e-7)#무엇을 최적화 할 것인지 써주는것"
   ]
  },
  {
   "cell_type": "markdown",
   "metadata": {
    "colab_type": "text",
    "id": "yKoaN_-lSLtc"
   },
   "source": [
    "**[답 작성]**\n",
    "1. optimizer로는 adam을 선택했습니다. optimizer 종류에는 adam,SGD, SGD-Momentum 등이 있습니다. adam은 momentum 과 RMSProp 합한것으로, momentum은 과거 gradient의 방향을 계속 곱해주는 것이고, RMSProp은 AdaGrad 를 개선한 것이다. 따라서 Adam은 관성을 이용해 덜 비틀거리게 함과 동시에 상황을 봐가면서 세밀하게 학습하여 최적값에 더 부드럽게 가까워지게 한다. optimizer의 파라미터로는 learning rate과 weight_decay가 있다. lr은 학습비율을 뜻하며 적절한 크기를 잡는것이 중요하다. 너무 크게 잡는다면 더이상 성능이 좋아지지 않아 최저값을 못찾을 것이고, 너무 작게 잡는다면 시간이 많이 걸리고 overfiting이 일어날 수 있다. 따라서 최적점에서 멀리 있을 때는 lr을 크게 하고, 점차 최소점에 나아갈수록 lr을 작게 만드는 것이 좋다. 이때 사용하는 것이 weight_decay이다. weight_decay는 lr이 평평해지면(학습이 잘 안되면) lr을 떨어뜨리는 것으로 더 빠르게 최적점을 찾아갈 수 있게 한다.\n",
    "\n",
    "2. loss function 은 손실함수로써, model이 data를 얼마나 잘 처리하는지에 대한 것을 나타내주는 함수이다. NLLLoss를 사용한 이유는 네트워크를 만들 때 log_softmax를 해줌으로써 나중에 연산을 편하게 하기 위해서 사용한다. "
   ]
  },
  {
   "cell_type": "markdown",
   "metadata": {
    "colab_type": "text",
    "id": "HXE6Hsp7pv6H"
   },
   "source": [
    "## **[문제 16]** 구성한 모델에 대한 Train and Validate 진행\n",
    "\n",
    "위에서 구성한 모델을 `Train and validate` 하세요.<br>\n",
    "[Training을 통해서 학습한 최종 model을](http://pytorch.org/docs/master/notes/serialization.html) 파일 경로 `'models/model_transfer.pt'`에 저장하십시오.\n",
    "\n",
    "- 해당 코드에서 `Train and validate` 은 위에서 구현했던 `train` 함수를 통해 진행하세요.\n",
    "- 최종적으로 가장 성능이 좋았던 저장 모델 `model_trasfer.pt`를 model에 적용하세요"
   ]
  },
  {
   "cell_type": "code",
   "execution_count": null,
   "metadata": {
    "colab": {
     "base_uri": "https://localhost:8080/",
     "height": 161
    },
    "colab_type": "code",
    "id": "aaUAOL2wpv6H",
    "outputId": "11d5e8b3-2b7d-4cd2-a9d2-a2eafbe17091",
    "scrolled": true
   },
   "outputs": [
    {
     "name": "stdout",
     "output_type": "stream",
     "text": [
      "Epoch: 0 \tTraining Loss: 0.000000 \tValidation Loss: 48.632503\n",
      "Validation loss decreased (inf --> 48.632503).  Saving model ...\n",
      "Epoch: 1 \tTraining Loss: 0.000000 \tValidation Loss: 48.632503\n",
      "Validation loss decreased (48.632503 --> 48.632503).  Saving model ...\n",
      "Epoch: 2 \tTraining Loss: 0.000000 \tValidation Loss: 48.632503\n",
      "Validation loss decreased (48.632503 --> 48.632503).  Saving model ...\n",
      "Epoch: 3 \tTraining Loss: 0.000000 \tValidation Loss: 48.632503\n",
      "Validation loss decreased (48.632503 --> 48.632503).  Saving model ...\n"
     ]
    }
   ],
   "source": [
    "epochs = 5\n",
    "save_transfer = model_path.joinpath('model_transfer.pt')\n",
    "\n",
    "# 문제 16 답 작성\n",
    "\n",
    "# 모델 training\n",
    "### 답 작성 부분 ###\n",
    "\n",
    "def train(n_epochs, train_loader, valid_loader, model, optimizer, criterion, use_cuda, save_path):\n",
    "    ### 답 작성 부분 ###\n",
    "\n",
    "    validation_losses_min = np.Inf # 무한대를 표현하기 위해서 np.inf사용\n",
    "\n",
    "    for e in range(n_epochs):\n",
    "\n",
    "      train_losses = 0\n",
    "      valid_losses = 0\n",
    "\n",
    "      model_transfer.train()\n",
    "      # for images, labels in train_batches:\n",
    "\n",
    "      for idx, (images, labels) in enumerate(train_batches):\n",
    "        if idx == 2:\n",
    "          break\n",
    "\n",
    "          #앞의 model.to와 같이 input값과 label 값들도 gpu로 계산하기 위해서 cuda형식으로 바꿔서 계산\n",
    "          #GPU를 쓰기위해 data 와 target을 cuda형식으로 바꿔줌\n",
    "          if use_cuda:\n",
    "            images, labels = images.cuda(), labels.cuda()\n",
    "          optimizer_transfer.zero_grad()#여기서 다시 grad 켜준다.\n",
    "          log_ps = model_transfer(images)\n",
    "          loss = criterion_transfer(log_ps, labels)#앞 네트워크에서 작업한 self와 x 의 인수로 들어감\n",
    "          loss.backward()\n",
    "          #update하는 과정, 파라미터 바꿔줌\n",
    "          optimizer_transfer.step()\n",
    "\n",
    "          train_losses += loss.item()*images.size(0)\n",
    "          #data.size 곱해주는 이유 = loss.item은 전체 데이터 셋을 나눈 값이기 때문에 나중에 평균 내려면\n",
    "          #20으로 나누기 전 값이 train_loss에 각각 더해저 나중에 dataset의 크기로 나눠 평균을 구할 수 있다.\n",
    "    \n",
    "      #validation 값들을 출력해줄 변수\n",
    "      accuracy = 0\n",
    "      # Gradient를 계산할 필요 없으니 비활성화\n",
    "      # with torch.no_grad():\n",
    "\n",
    "\n",
    "      #validation 과정에서는 dropout을 비활성화 ->droupout 확률이 0으로 동작\n",
    "      model.eval()#꺼주고->#validation 학습 안하게 함\n",
    "      #traing 다 끝나고 돌린다. validation 하는 부분\n",
    "      for images, labels in valid_batches:\n",
    "        if use_cuda:\n",
    "          images, labels = images.cuda(), labels.cuda()\n",
    "        log_ps = model_transfer(images)\n",
    "        loss = criterion_transfer(log_ps, labels)\n",
    "        valid_losses += loss.item()*images.size(0)\n",
    "        ps = torch.exp(log_ps)\n",
    "        top_p, top_class = ps.topk(1,dim=1)\n",
    "\n",
    "        equals = top_class == labels.view(*top_class.shape)\n",
    "\n",
    "        accuracy += torch.mean(equals.type(torch.FloatTensor))\n",
    "\n",
    "      train_losses = train_losses/len(train_batches)\n",
    "      valid_losses = valid_losses/len(valid_batches)\n",
    "\n",
    "      print('Epoch: {} \\tTraining Loss: {:.6f} \\tValidation Loss: {:.6f}'.format(e, train_losses, valid_losses))\n",
    "      if valid_losses <= validation_losses_min:\n",
    "        print('Validation loss decreased ({:.6f} --> {:.6f}).  Saving model ...'.format(validation_losses_min, valid_losses))\n",
    "        torch.save(model.state_dict(), save_transfer)#model_scratch.pt 의 이름으로 저장해라\n",
    "        #이전단계와 계속 비교해야 하니까 최소값을 저장된 validation(더낮은)것으로 저장해줌\n",
    "        validation_losses_min = valid_losses\n",
    "\n",
    "\n",
    "    return model_transfer, train_losses, valid_losses\n",
    "\n",
    "model_transfer, train_losses, valid_losses = train(epochs, train_batches, valid_batches, model_transfer, optimizer_transfer, criterion_transfer, use_cuda, save_transfer)\n",
    "# 저장했던 최적 parameter 적용하기, load(save_transfer)\n",
    "### 답 작성 부분 ###\n",
    "model_scratch.load_state_dict(torch.load(save_transfer))"
   ]
  },
  {
   "cell_type": "code",
   "execution_count": null,
   "metadata": {
    "colab": {},
    "colab_type": "code",
    "id": "GLVt-X_tQF2d"
   },
   "outputs": [],
   "source": [
    "# 성능 분석에 활용하기 위한 결과 plot 하는 방법\n",
    "plt.plot(train_losses, label='Training loss')\n",
    "plt.plot(valid_losses, label='Validation loss')\n",
    "plt.legend(frameon=False)\n",
    "plt.grid(True)"
   ]
  },
  {
   "cell_type": "markdown",
   "metadata": {
    "colab_type": "text",
    "id": "xSRZgJFgUbao"
   },
   "source": [
    "## **[문제 17]** Transfer learning model training/validation 분석\n",
    "\n",
    "* validation 과정을 분석하고, 학습을 개선시킨 방법을 validation 결과와 함께 분석하세요\n",
    "\n",
    "  * tranining loss와 validation loss 그래프를 통해서 분석 권장\n",
    "  * hyper-parameter, model을 변경하면서 성능 개선한 과정을 최대한 설명하세요\n",
    "  * Transfer model의 성능 개선을 위해서 사용한 방법을 설명"
   ]
  },
  {
   "cell_type": "markdown",
   "metadata": {
    "colab_type": "text",
    "id": "1uOpO-lSZrvt"
   },
   "source": [
    "**[답 작성]**\n",
    "1. 만약 validation 그래프가 train 데이터와 비슷하다면 underfiting된 것으로 학습을 더해 성능이 좋아질 수 있다는 것을 말한다. valid 그래프가 train 그래프에 비해 계속해서 줄어들고 있다면 그건 overfitting 난 것으로 정규화나 dropout,regularzation으로 극복해 나가야 한다.\n",
    " \n",
    "2. 성능을 개선하기 위해서 normalize하는 부분의 mean값과 var 부분을 변경하였다. dropout을 이용해 데이터가 overfiting 되는 것을 방지했다. 데이터의 양을 늘리기 위해서 transform 부분의 데이터 형태들을 랜덤하게 rotation, resizecrop 해주었다.lr를 조절하여 overfiting을 방지하였다.\n",
    "\n",
    "3. dropout은 중간에 랜덤하게 activation 들을 끊어 성능을 높이는 것이다. 각각의 중요도를 분산시켜 어느 한 가지 특징만 중요하지 않게 만든다. regularization은 overfiting을 막기위한 것으로 lr을 조정하여 관성법칙(과거 gradient를 곱해주는 것)더 부드럽고 빨리 최적값에 가까워지게 한다. 최적화 하기 위해서 backword를 이용했다. gradient 구하기 위해 사용하는 것으로 backpropagation 과정이 함축되 있다. 계속 기울기 줄여서 최소되는 기울기 찾는 과정으로, 뒤에서 앞으로 계산해 나간다. (앞단계에서 흘러들어온 미분 값) * (로컬 미분값) 대개 forward pass 계산될 때 backward 도 함께 수행되서 저장된다. 연산을 빠르게 하기 위해서 gpu에 올려 연산을 수행하였다. \n",
    "\n",
    "4. overfitting이란 train data(내가 제공한 데이타)에 너무 타이트하게 학습된것을 말한다. underfiting은 데이터 부족으로 인해 발생하는 문제로 복잡도가 너무 낮아 데이터에 대해 학습이 잘 이루어지지 않은 것을 말한다."
   ]
  },
  {
   "cell_type": "markdown",
   "metadata": {
    "colab_type": "text",
    "id": "TIJcRYFxpv6J"
   },
   "source": [
    "## **[문제 18]** 학습한 모델에 대한 성능 Test\n",
    "\n",
    "위에서 학습한 모델을 이용하여 개 이미지의 test dataset에서의 예측결과를 확인하세요.<br>\n",
    "test loss 와 test accuracy를 계산하고 출력하세요.<br>\n",
    "test accuracy를 확인하세요 (60 % 이상 권장).<br>\n",
    "\n",
    "해당 `test` 는 위에 구현했던 `test` 함수를 통해 진행하세요."
   ]
  },
  {
   "cell_type": "markdown",
   "metadata": {
    "colab_type": "text",
    "id": "3S5mNNqCbUzo"
   },
   "source": [
    "**[답 작성]**"
   ]
  },
  {
   "cell_type": "code",
   "execution_count": null,
   "metadata": {
    "colab": {},
    "colab_type": "code",
    "id": "juD4VG8fpv6J"
   },
   "outputs": [],
   "source": [
    "# 문제 18 답 작성\n",
    "### 답 작성 부분 ###\n",
    "def test(test_loader, model, criterion, use_cuda):\n",
    "\n",
    "    ### 답 작성 부분 ###\n",
    "\n",
    "    test_loss = 0.0\n",
    "    class_correct = list(0. for i in range(133))#2개의 0으로 된 list 만듬\n",
    "    class_total = list(0. for i in range(133))\n",
    "\n",
    "    model_transfer.eval()#test 여서 학습 안하게 함\n",
    "\n",
    "    for images, labels in test_batches:\n",
    "\n",
    "        if train_on_gpu:\n",
    "            images, labels = images.cuda(), labels.cuda()\n",
    "        \n",
    "\n",
    "        output = model(images)\n",
    "        loss = criterion_transfer(output, labels)\n",
    "        test_loss += loss.item()*images.size(0)\n",
    "    \n",
    "        #이중에서 확률이 가장 높은 것을 pred에다가 넣어줘라. ->1차원으로 봐야함\n",
    "        _, pred = torch.max(output, 1)\n",
    "    \n",
    "        #pred와 같은지 비교하는 부분 -> labels date의 형태를 pred 와 같이 변경시켜줘라\n",
    "        correct_tensor = pred.eq(labels.data.view_as(pred))\n",
    "\n",
    "        #만약 GPU가 아니면 그냥 numpy 해주고 GPU에서 사용했으면 cpu로 넘겨줘서 numpy 해줘라\n",
    "        #numpy 연산은 gpu에서 안되기 때문에 cpu로 넘겨주는 과정\n",
    "        correct = np.squeeze(correct_tensor.numpy()) if not use_cuda else np.squeeze(correct_tensor.cpu().numpy())\n",
    "    \n",
    "        #몇개 맞췄는지 개산 \n",
    "        for i in range(batch_size):#batch size = sample데이터 중 한번에 네트워크에 넘겨주는 데이터의 수\n",
    "            label = labels.data[i]\n",
    "            class_correct[label] += correct[i].item()\n",
    "            class_total[label] += 1\n",
    "\n",
    "\n",
    "    test_loss = test_loss/len(test_batches.dataset)\n",
    "    print('Test Loss: {:.6f}\\n'.format(test_loss))\n",
    "\n",
    "    for i in range(2):\n",
    "        if class_total[i] > 0:\n",
    "            #몇개 틀리고 맞았는지 알려주는 과정\n",
    "            print('Test Accuracy of %5s: %2d%% (%2d/%2d)' % (\n",
    "                classes[i], 100 * class_correct[i] / class_total[i],\n",
    "                np.sum(class_correct[i]), np.sum(class_total[i])))\n",
    "        else:\n",
    "            print('Test Accuracy of %5s: N/A (no training examples)' % (classes[i]))\n",
    "\n",
    "    print('\\nTest Accuracy (Overall): %2d%% (%2d/%2d)' % (\n",
    "        100. * np.sum(class_correct) / np.sum(class_total),\n",
    "        np.sum(class_correct), np.sum(class_total)))"
   ]
  },
  {
   "cell_type": "markdown",
   "metadata": {
    "colab_type": "text",
    "id": "pifd12hEpv6L"
   },
   "source": [
    "## **[문제 19]** 모델을 이용한 개 품종 반환 모듈\n",
    "\n",
    "이미지 경로를 input으로 하는 predict_breed_transfer(model, class_names, img_path) 함수 작성<br>\n",
    "본 함수는 model에서 예측한 개의 품종(`Affenpinscher`, `Afghan hound` 등)을 반환하는 함수를 구현합니다.\n",
    "\n",
    "* function name : `predict_breed_transfer`\n",
    "    * input : `model`, `class_names`, `img_path`\n",
    "        * `model` : 학습된 모델\n",
    "        * `class_names` : 개의 품종에 대한 이름을 저장한 dictionary (제공함)\n",
    "        * `img_path` : image가 저장되어 있는 경로 string\n",
    "    \n",
    "    * output : `String`\n",
    "        * model에서 예측한 개의 품종\n",
    "\n",
    "* 입력 값중 `class_names`는 아래 제공하는 셀 코드를 활용하시면 됩니다\n",
    "* 경로의 image를 불러오기 위에서 제공한 image_loader 를 활용하세요 (직접 하셔도 문제없습니다)\n",
    "  * 본 함수에서 사용할 transformation 구성하여 image_loader에 경로와 함께 입력\n",
    "* cuda 설정 주의해서 구성\n",
    "* model의 출력 값의 max index (가장 높은 확률 인덱스) 활용"
   ]
  },
  {
   "cell_type": "code",
   "execution_count": null,
   "metadata": {
    "colab": {},
    "colab_type": "code",
    "id": "zXbp_E1Ipv6L"
   },
   "outputs": [],
   "source": [
    "class_names = [item[4:].replace(\"_\", \" \") for item in train_batches.dataset.classes]"
   ]
  },
  {
   "cell_type": "code",
   "execution_count": null,
   "metadata": {
    "colab": {},
    "colab_type": "code",
    "id": "j2g5MOOwWRzy"
   },
   "outputs": [],
   "source": [
    "train_batches.dataset.classes[:10]"
   ]
  },
  {
   "cell_type": "code",
   "execution_count": null,
   "metadata": {
    "colab": {},
    "colab_type": "code",
    "id": "7JzmhLkLpv6N"
   },
   "outputs": [],
   "source": [
    "class_names[:10]"
   ]
  },
  {
   "cell_type": "code",
   "execution_count": null,
   "metadata": {
    "colab": {},
    "colab_type": "code",
    "id": "-3Kf4gpmpv6O",
    "scrolled": true
   },
   "outputs": [],
   "source": [
    "# 문제 19: predict_breed_transfer 구현\n",
    "\n",
    "def predict_breed_transfer(model, class_names, img_path):\n",
    "  \n",
    "  ### 답 작성 부분 ###\n",
    "       \n",
    "    return class_names[idx]\n",
    "\n",
    "\n",
    "\n"
   ]
  },
  {
   "cell_type": "markdown",
   "metadata": {
    "colab_type": "text",
    "id": "61wje3n0pv6Q"
   },
   "source": [
    "아래의 코드를 통해 만든 함수를 테스트해 보세요."
   ]
  },
  {
   "cell_type": "code",
   "execution_count": null,
   "metadata": {
    "colab": {},
    "colab_type": "code",
    "id": "HZWnVA2Xpv6Q"
   },
   "outputs": [],
   "source": [
    "dirs = os.listdir('myImg')\n",
    "\n",
    "for img_file in dirs:\n",
    "    img_path = os.path.join('myImg', img_file)\n",
    "    predition = predict_breed_transfer(model_transfer, class_names, img_path)\n",
    "    print(\"image_file_name: {0}, \\t predition breed: {1}\".format(img_path, predition))\n",
    "    img = Image.open(img_path).convert('RGB')\n",
    "    plt.imshow(img)\n",
    "    plt.show()"
   ]
  },
  {
   "cell_type": "markdown",
   "metadata": {
    "colab_type": "text",
    "id": "x4x-XFx2pv6S"
   },
   "source": [
    "---\n",
    "<a id='step5'></a>\n",
    "# Step 5: Make Dog Identification App\n",
    "\n",
    "## 실제 app에 이용할 함수 구현\n",
    "\n",
    "이미지에 대한 파일 경로를 통해 이미지에 대해서 먼저 사람, 개가 포함되어 있는지 아닌지를 결정하는 함수를 작성하세요.\n",
    "- 이미지에서 __개__가 감지되면 예측 된 __품종__을 반환하십시오.\n",
    "- 이미지에서 __사람__이 감지되면 __유사한 개 품종__을 반환하십시오.\n",
    "- 이미지에서 __둘 다__ 아니라면 __오류__를 출력하십시오.\n",
    "\n",
    "이미지에서 사람과 개를 감지하기 위한 함수를 작성할 수 있습니다.<br>\n",
    "또한, 위에서 개발한 `face_detector` 및 `dog_detector` 함수를 자유롭게 사용하셔도 됩니다.<br>\n",
    "개 품종을 예측하는 경우에는 Step 4 의 CNN을 사용해야합니다.\n",
    "\n",
    "![Sample Human Output](https://drive.google.com/uc?export=view&id=1K7S1YJ4VflBCVKiioe2SkNkEEihUp-uI)"
   ]
  },
  {
   "cell_type": "code",
   "execution_count": null,
   "metadata": {
    "colab": {},
    "colab_type": "code",
    "id": "ZgHiIsIopv6S"
   },
   "outputs": [],
   "source": [
    "def run_app(img_path):\n",
    "    img = Image.open(img_path).convert('RGB')\n",
    "    plt.imshow(img)\n",
    "    plt.show()\n",
    "    if dog_detector(img_path) is True:\n",
    "        prediction = predict_breed_transfer(model_transfer,class_names,img_path)\n",
    "        print(\"Dog detected \\n It looks like a {0}\".format(prediction))  \n",
    "    elif face_detector(img_path) > 0:\n",
    "        prediction = predict_breed_transfer(model_transfer,class_names,img_path)\n",
    "        print(\"Human detected \\n It looks like a {0}\".format(prediction))\n",
    "    else:\n",
    "        print(\"Nothing detected\")\n"
   ]
  },
  {
   "cell_type": "markdown",
   "metadata": {
    "colab_type": "text",
    "id": "08NAN6k2pv6T"
   },
   "source": [
    "---\n",
    "<a id='step6'></a>\n",
    "# Step 6: 완성본 실험\n",
    "\n",
    "이전 단계에서 구현한 app을 이용하여 해당 app을 사용하고 놀아봅니다.<br>\n",
    "여러 이미지를 app을 통해 결과를 확인해보세요.<br>\n",
    "- 여러분의 이미지를 직접 업로드하고 어떤 종류의 개가 닮았다고 출력되나요?<br>\n",
    "- 개의 이미지를 직접 업로드하고 개 품종을 정확하게 예측하나요? \n",
    "- 고양이의 이미지를 직접 업로드하고 고양이를 개라고 예측하나요? 예측한다면 어떻게 예측하나요?\n",
    "- 원하시면 본인 사진으로 테스트해보세요\n",
    "\n",
    "## 구현한 Dog Identification App Test\n",
    "위의 확인해야 하는 이미지의 결과를 확인하고,<br>\n",
    "6개 이상의 다른 이미지를 넣어 결과를 확인하세요.<br>\n",
    "원하는 이미지를 자유롭게 사용하십시오.<br>\n",
    "단, 사람과 강아지의 이미지는 두 개 이상의 이미지를 사용하세요."
   ]
  },
  {
   "cell_type": "code",
   "execution_count": null,
   "metadata": {
    "colab": {},
    "colab_type": "code",
    "id": "SPdvb_9jpv6T",
    "scrolled": true
   },
   "outputs": [],
   "source": [
    "dirs = os.listdir('myImg')\n",
    "\n",
    "for img_file in dirs:\n",
    "    img_path = os.path.join('myImg', img_file)\n",
    "    predition = predict_breed_transfer(model_transfer, class_names, img_path)\n",
    "    print(\"image_file_name: {0}, \\t predition breed: {1}\".format(img_path, predition))\n",
    "    img = Image.open(img_path).convert('RGB')\n",
    "    plt.imshow(img)\n",
    "    plt.show()"
   ]
  },
  {
   "cell_type": "markdown",
   "metadata": {
    "colab_type": "text",
    "id": "iBy_Jdmnpv6V"
   },
   "source": [
    "## **[문제 20]** 프로젝트를 마무리 하면서...\n",
    "\n",
    "위의 프로젝트에 대한 자체 평가와 총평을 적어주세요 [점수가 들어가는 문제는 아닙니다]"
   ]
  },
  {
   "cell_type": "markdown",
   "metadata": {
    "colab_type": "text",
    "id": "pcxrPw9wpv6V"
   },
   "source": [
    "__[답 작성]__"
   ]
  },
  {
   "cell_type": "markdown",
   "metadata": {
    "colab_type": "text",
    "id": "NNLkcDLtdEVM"
   },
   "source": [
    "# 참고자료 목차\n",
    "\n",
    "- [1] xxx"
   ]
  },
  {
   "cell_type": "markdown",
   "metadata": {
    "colab_type": "text",
    "id": "vo_8FjEw89JJ"
   },
   "source": [
    "# 부록 1: Latex 수식 예제\n",
    "\n",
    "- 글 중간에 수식은 `$` 수식 `$`의 형태로 작성하며, $x^{(i)}_j$, $\\max\\{z, v\\}$, $\\log(1+x)$, $f(x)=\\frac{1}{1+e^{-x}}$ 등과 같이 사용합니다.\n",
    "- 큰 한줄 수식은 \n",
    "```\n",
    "$$\n",
    "\\sigma(x) = \\frac{1}{1+\\exp(-x)}\n",
    "$$\n",
    "```\n",
    "$$\n",
    "\\sigma(x) = \\frac{1}{1+\\exp(-x)}\n",
    "$$\n",
    "와 같이 사용가능하며, 여러 줄의 경우는\n",
    "```\n",
    "\\begin{align}\n",
    "p(y=j|x; \\theta) &=\\textrm{Softmax}(\\theta_j^Tx)\\\\\n",
    "&= \\frac{e^{\\theta_j^T x}}{\\sum_{i=1}^n e^{\\theta_i^T x}} \n",
    "\\end{align}\n",
    "```\n",
    "를 사용하면 아래와 같이 표시합니다.\n",
    "\\begin{align}\n",
    "p(y=j|x; \\theta) &=\\textrm{Softmax}(\\theta_j^Tx)\\\\\n",
    "&= \\frac{e^{\\theta_j^T x}}{\\sum_{i=1}^n e^{\\theta_i^T x}} \n",
    "\\end{align}\n",
    "\n",
    "여기서 `&` 기호에 맞춰서 줄을 맞춰서 표시합니다. 여기 예제에서는 `=` 표시에 줄을 맞춰서 표시하죠. `\\\\` 는 줄바꿔줄때 사용하는 명령입니다\n",
    "\n",
    "* 행렬의 경우는\n",
    "\n",
    "$$\n",
    "A_{m,n} =\n",
    " \\begin{pmatrix}\n",
    "  a_{1,1} & a_{1,2} & \\cdots & a_{1,n} \\\\\n",
    "  a_{2,1} & a_{2,2} & \\cdots & a_{2,n} \\\\\n",
    "  \\vdots  & \\vdots  & \\ddots & \\vdots  \\\\\n",
    "  a_{m,1} & a_{m,2} & \\cdots & a_{m,n}\n",
    " \\end{pmatrix}\n",
    " $$\n",
    "\n",
    "등을 사용할 수 있습니다.\n",
    "\n",
    "[다른 예제](http://tomoyo.ivyro.net/123/wiki.php/TeX_%EB%B0%8F_LaTeX_%EC%88%98%EC%8B%9D_%EB%AC%B8%EB%B2%95)\n"
   ]
  },
  {
   "cell_type": "markdown",
   "metadata": {
    "colab_type": "text",
    "id": "RYw8Rk_vqObF"
   },
   "source": [
    "# 부록 2: Markdown에 이미지 추가하기"
   ]
  },
  {
   "cell_type": "markdown",
   "metadata": {
    "colab_type": "text",
    "id": "DsppPrOOEG58"
   },
   "source": [
    "```markdown\n",
    "![대체 텍스트](이미지 경로)\n",
    "```\n",
    "위의 코드를 이용해 Markdown에 이미지를 추가할 수 있습니다.<br>\n",
    "이미지의 경우 해당 이미지를 파일로 저장하여 이미지 경로를 직접 적어 추가 할 수 \n",
    "있습니다.<br>\n",
    "\n",
    "단, 이미지의 경로는 드라이브에 업로드한 파일의 경로를 적어야합니다.\n",
    "\n",
    "1. [Google Drive](https://drive.google.com/drive) 에 접속하여 폴더를 하나 만든다.\n",
    "2. 만든 폴더에 추가할 이미지를 업로드 한다.\n",
    "3. 업로드 된 이미지를 우클릭하여 공유를 누른다.\n",
    "\n",
    "4. [링크 보기] 에서 한림대학교에서 모든사용자로 바꾼다.\n",
    "5. 링크에서 파일 ID를 가져온다. [ ex) http: ~ /d/**[파일 ID]**/view?usp=sharing ]\n",
    "6. 위의 방법으로 가져온 파일 ID 를 http://drive.google.com/uc?export=view&id=[파일_ID] 에 입력하여 이미지 경로를 만들고 만든 경로를 이미지 경로 입력 부분에 입력한다.\n",
    "\n",
    "- 대체 텍스트의 경우 이미지가 보이지 않으면 출력되는 텍스트이다."
   ]
  },
  {
   "cell_type": "markdown",
   "metadata": {
    "colab_type": "text",
    "id": "tM0oXfMIlOwe"
   },
   "source": [
    "# 부록 3: PDF 파일 & html 파일로 저장 하기\n",
    "\n",
    "1. PDF 파일로 저장하는 방법(colab에서 최종 프로젝트를 진행하는 경우 해당 방법이 더 편합니다.)\n",
    "- 브라우저는 크롬을 이용한다.\n",
    "- colab의 위쪽 메뉴에 `[파일]` 을 클릭 후 `[인쇄]` 클릭\n",
    "- 대상 `[PDF로 저장]`, 페이지 `[전체]`, 레이아웃 `[세로방향]` 선택\n",
    "- 설정 더보기 클릭 후, 용지크기 `[A4]`, 시트당 페이지 수 `[1]`, 여백 `[기본값]`, 배율 `[맞춤설정, 70]`, 옵션 `[모두체크해제]` 선택\n",
    "- `[저장]` 클릭\n",
    "\n",
    "![예시이미지](http://drive.google.com/uc?export=view&id=1VFraRT_wKDu6qydWIWXcsHZ93Lfe0cM3)\n",
    "\n",
    "2. html 파일로 저장하는 방법(로컬 컴퓨터에서 최종 프로젝트를 진행하는 경우 해당 방법이 더 편합니다.)\n",
    "- 사용하는 브라우저는 상관없습니다.\n",
    "- 프로젝트 jupyter notebook을 엽니다.\n",
    "- 해당 페이지의 위쪽 메뉴에 [File]을 클릭\n",
    "- [Download as]라는 메뉴 하위 메뉴에 HTML(.html) 메뉴를 클릭\n",
    "\n",
    "위의 두가지 방법 모두 Markdown의 이미지, 코드의 출력결과를 포함하여 저장되었는지 확인하고 제출해주세요!\n"
   ]
  }
 ],
 "metadata": {
  "accelerator": "GPU",
  "colab": {
   "collapsed_sections": [],
   "name": "final_project_v8_problem_20155137_안원영.ipynb",
   "provenance": [],
   "toc_visible": true
  },
  "kernelspec": {
   "display_name": "Python 3",
   "language": "python",
   "name": "python3"
  },
  "language_info": {
   "codemirror_mode": {
    "name": "ipython",
    "version": 3
   },
   "file_extension": ".py",
   "mimetype": "text/x-python",
   "name": "python",
   "nbconvert_exporter": "python",
   "pygments_lexer": "ipython3",
   "version": "3.7.6"
  },
  "widgets": {
   "application/vnd.jupyter.widget-state+json": {
    "101ca99009b94f11a08fd532e3f6cd0e": {
     "model_module": "@jupyter-widgets/controls",
     "model_name": "HBoxModel",
     "state": {
      "_dom_classes": [],
      "_model_module": "@jupyter-widgets/controls",
      "_model_module_version": "1.5.0",
      "_model_name": "HBoxModel",
      "_view_count": null,
      "_view_module": "@jupyter-widgets/controls",
      "_view_module_version": "1.5.0",
      "_view_name": "HBoxView",
      "box_style": "",
      "children": [
       "IPY_MODEL_598c2f396fe04978bd4aaa321414695f",
       "IPY_MODEL_a69a70f61b884cff9e954ff8ef7326e5"
      ],
      "layout": "IPY_MODEL_f4bcc2faf2ef476191648276412fe9b3"
     }
    },
    "15a57c798f9f4433b0dee4b4885ee9ff": {
     "model_module": "@jupyter-widgets/controls",
     "model_name": "ProgressStyleModel",
     "state": {
      "_model_module": "@jupyter-widgets/controls",
      "_model_module_version": "1.5.0",
      "_model_name": "ProgressStyleModel",
      "_view_count": null,
      "_view_module": "@jupyter-widgets/base",
      "_view_module_version": "1.2.0",
      "_view_name": "StyleView",
      "bar_color": null,
      "description_width": "initial"
     }
    },
    "275b1a24e75443d7a8a14fbb1dd307d3": {
     "model_module": "@jupyter-widgets/base",
     "model_name": "LayoutModel",
     "state": {
      "_model_module": "@jupyter-widgets/base",
      "_model_module_version": "1.2.0",
      "_model_name": "LayoutModel",
      "_view_count": null,
      "_view_module": "@jupyter-widgets/base",
      "_view_module_version": "1.2.0",
      "_view_name": "LayoutView",
      "align_content": null,
      "align_items": null,
      "align_self": null,
      "border": null,
      "bottom": null,
      "display": null,
      "flex": null,
      "flex_flow": null,
      "grid_area": null,
      "grid_auto_columns": null,
      "grid_auto_flow": null,
      "grid_auto_rows": null,
      "grid_column": null,
      "grid_gap": null,
      "grid_row": null,
      "grid_template_areas": null,
      "grid_template_columns": null,
      "grid_template_rows": null,
      "height": null,
      "justify_content": null,
      "justify_items": null,
      "left": null,
      "margin": null,
      "max_height": null,
      "max_width": null,
      "min_height": null,
      "min_width": null,
      "object_fit": null,
      "object_position": null,
      "order": null,
      "overflow": null,
      "overflow_x": null,
      "overflow_y": null,
      "padding": null,
      "right": null,
      "top": null,
      "visibility": null,
      "width": null
     }
    },
    "35c4027bc1db4b87bee2be3c24b573d5": {
     "model_module": "@jupyter-widgets/controls",
     "model_name": "DescriptionStyleModel",
     "state": {
      "_model_module": "@jupyter-widgets/controls",
      "_model_module_version": "1.5.0",
      "_model_name": "DescriptionStyleModel",
      "_view_count": null,
      "_view_module": "@jupyter-widgets/base",
      "_view_module_version": "1.2.0",
      "_view_name": "StyleView",
      "description_width": ""
     }
    },
    "366b9b49b0eb4311b2152bde0e84510e": {
     "model_module": "@jupyter-widgets/base",
     "model_name": "LayoutModel",
     "state": {
      "_model_module": "@jupyter-widgets/base",
      "_model_module_version": "1.2.0",
      "_model_name": "LayoutModel",
      "_view_count": null,
      "_view_module": "@jupyter-widgets/base",
      "_view_module_version": "1.2.0",
      "_view_name": "LayoutView",
      "align_content": null,
      "align_items": null,
      "align_self": null,
      "border": null,
      "bottom": null,
      "display": null,
      "flex": null,
      "flex_flow": null,
      "grid_area": null,
      "grid_auto_columns": null,
      "grid_auto_flow": null,
      "grid_auto_rows": null,
      "grid_column": null,
      "grid_gap": null,
      "grid_row": null,
      "grid_template_areas": null,
      "grid_template_columns": null,
      "grid_template_rows": null,
      "height": null,
      "justify_content": null,
      "justify_items": null,
      "left": null,
      "margin": null,
      "max_height": null,
      "max_width": null,
      "min_height": null,
      "min_width": null,
      "object_fit": null,
      "object_position": null,
      "order": null,
      "overflow": null,
      "overflow_x": null,
      "overflow_y": null,
      "padding": null,
      "right": null,
      "top": null,
      "visibility": null,
      "width": null
     }
    },
    "36d084ad9df049b19b0d6d75b83fc93c": {
     "model_module": "@jupyter-widgets/controls",
     "model_name": "FloatProgressModel",
     "state": {
      "_dom_classes": [],
      "_model_module": "@jupyter-widgets/controls",
      "_model_module_version": "1.5.0",
      "_model_name": "FloatProgressModel",
      "_view_count": null,
      "_view_module": "@jupyter-widgets/controls",
      "_view_module_version": "1.5.0",
      "_view_name": "ProgressView",
      "bar_style": "success",
      "description": "100%",
      "description_tooltip": null,
      "layout": "IPY_MODEL_e76a2d4376dc43c880aa0a4260a79bf4",
      "max": 115730790,
      "min": 0,
      "orientation": "horizontal",
      "style": "IPY_MODEL_15a57c798f9f4433b0dee4b4885ee9ff",
      "value": 115730790
     }
    },
    "3d2787b75a0345668fbeea35f76d8aa3": {
     "model_module": "@jupyter-widgets/controls",
     "model_name": "DescriptionStyleModel",
     "state": {
      "_model_module": "@jupyter-widgets/controls",
      "_model_module_version": "1.5.0",
      "_model_name": "DescriptionStyleModel",
      "_view_count": null,
      "_view_module": "@jupyter-widgets/base",
      "_view_module_version": "1.2.0",
      "_view_name": "StyleView",
      "description_width": ""
     }
    },
    "598c2f396fe04978bd4aaa321414695f": {
     "model_module": "@jupyter-widgets/controls",
     "model_name": "FloatProgressModel",
     "state": {
      "_dom_classes": [],
      "_model_module": "@jupyter-widgets/controls",
      "_model_module_version": "1.5.0",
      "_model_name": "FloatProgressModel",
      "_view_count": null,
      "_view_module": "@jupyter-widgets/controls",
      "_view_module_version": "1.5.0",
      "_view_name": "ProgressView",
      "bar_style": "success",
      "description": "100%",
      "description_tooltip": null,
      "layout": "IPY_MODEL_be677c423f6c4e7690f839e2e2d12d51",
      "max": 553433881,
      "min": 0,
      "orientation": "horizontal",
      "style": "IPY_MODEL_f2e640f3ccaa4ceaba5be6b8f94deec2",
      "value": 553433881
     }
    },
    "a69a70f61b884cff9e954ff8ef7326e5": {
     "model_module": "@jupyter-widgets/controls",
     "model_name": "HTMLModel",
     "state": {
      "_dom_classes": [],
      "_model_module": "@jupyter-widgets/controls",
      "_model_module_version": "1.5.0",
      "_model_name": "HTMLModel",
      "_view_count": null,
      "_view_module": "@jupyter-widgets/controls",
      "_view_module_version": "1.5.0",
      "_view_name": "HTMLView",
      "description": "",
      "description_tooltip": null,
      "layout": "IPY_MODEL_275b1a24e75443d7a8a14fbb1dd307d3",
      "placeholder": "​",
      "style": "IPY_MODEL_3d2787b75a0345668fbeea35f76d8aa3",
      "value": " 528M/528M [00:35&lt;00:00, 15.7MB/s]"
     }
    },
    "be677c423f6c4e7690f839e2e2d12d51": {
     "model_module": "@jupyter-widgets/base",
     "model_name": "LayoutModel",
     "state": {
      "_model_module": "@jupyter-widgets/base",
      "_model_module_version": "1.2.0",
      "_model_name": "LayoutModel",
      "_view_count": null,
      "_view_module": "@jupyter-widgets/base",
      "_view_module_version": "1.2.0",
      "_view_name": "LayoutView",
      "align_content": null,
      "align_items": null,
      "align_self": null,
      "border": null,
      "bottom": null,
      "display": null,
      "flex": null,
      "flex_flow": null,
      "grid_area": null,
      "grid_auto_columns": null,
      "grid_auto_flow": null,
      "grid_auto_rows": null,
      "grid_column": null,
      "grid_gap": null,
      "grid_row": null,
      "grid_template_areas": null,
      "grid_template_columns": null,
      "grid_template_rows": null,
      "height": null,
      "justify_content": null,
      "justify_items": null,
      "left": null,
      "margin": null,
      "max_height": null,
      "max_width": null,
      "min_height": null,
      "min_width": null,
      "object_fit": null,
      "object_position": null,
      "order": null,
      "overflow": null,
      "overflow_x": null,
      "overflow_y": null,
      "padding": null,
      "right": null,
      "top": null,
      "visibility": null,
      "width": null
     }
    },
    "cfd7f3ee0536400d9a4ef73e6bc141fa": {
     "model_module": "@jupyter-widgets/controls",
     "model_name": "HBoxModel",
     "state": {
      "_dom_classes": [],
      "_model_module": "@jupyter-widgets/controls",
      "_model_module_version": "1.5.0",
      "_model_name": "HBoxModel",
      "_view_count": null,
      "_view_module": "@jupyter-widgets/controls",
      "_view_module_version": "1.5.0",
      "_view_name": "HBoxView",
      "box_style": "",
      "children": [
       "IPY_MODEL_36d084ad9df049b19b0d6d75b83fc93c",
       "IPY_MODEL_f08669b2647549dcbdd6b1932e4bf910"
      ],
      "layout": "IPY_MODEL_f13ca13b2c1d47c49dce04275cca60d1"
     }
    },
    "e76a2d4376dc43c880aa0a4260a79bf4": {
     "model_module": "@jupyter-widgets/base",
     "model_name": "LayoutModel",
     "state": {
      "_model_module": "@jupyter-widgets/base",
      "_model_module_version": "1.2.0",
      "_model_name": "LayoutModel",
      "_view_count": null,
      "_view_module": "@jupyter-widgets/base",
      "_view_module_version": "1.2.0",
      "_view_name": "LayoutView",
      "align_content": null,
      "align_items": null,
      "align_self": null,
      "border": null,
      "bottom": null,
      "display": null,
      "flex": null,
      "flex_flow": null,
      "grid_area": null,
      "grid_auto_columns": null,
      "grid_auto_flow": null,
      "grid_auto_rows": null,
      "grid_column": null,
      "grid_gap": null,
      "grid_row": null,
      "grid_template_areas": null,
      "grid_template_columns": null,
      "grid_template_rows": null,
      "height": null,
      "justify_content": null,
      "justify_items": null,
      "left": null,
      "margin": null,
      "max_height": null,
      "max_width": null,
      "min_height": null,
      "min_width": null,
      "object_fit": null,
      "object_position": null,
      "order": null,
      "overflow": null,
      "overflow_x": null,
      "overflow_y": null,
      "padding": null,
      "right": null,
      "top": null,
      "visibility": null,
      "width": null
     }
    },
    "f08669b2647549dcbdd6b1932e4bf910": {
     "model_module": "@jupyter-widgets/controls",
     "model_name": "HTMLModel",
     "state": {
      "_dom_classes": [],
      "_model_module": "@jupyter-widgets/controls",
      "_model_module_version": "1.5.0",
      "_model_name": "HTMLModel",
      "_view_count": null,
      "_view_module": "@jupyter-widgets/controls",
      "_view_module_version": "1.5.0",
      "_view_name": "HTMLView",
      "description": "",
      "description_tooltip": null,
      "layout": "IPY_MODEL_366b9b49b0eb4311b2152bde0e84510e",
      "placeholder": "​",
      "style": "IPY_MODEL_35c4027bc1db4b87bee2be3c24b573d5",
      "value": " 110M/110M [00:01&lt;00:00, 86.8MB/s]"
     }
    },
    "f13ca13b2c1d47c49dce04275cca60d1": {
     "model_module": "@jupyter-widgets/base",
     "model_name": "LayoutModel",
     "state": {
      "_model_module": "@jupyter-widgets/base",
      "_model_module_version": "1.2.0",
      "_model_name": "LayoutModel",
      "_view_count": null,
      "_view_module": "@jupyter-widgets/base",
      "_view_module_version": "1.2.0",
      "_view_name": "LayoutView",
      "align_content": null,
      "align_items": null,
      "align_self": null,
      "border": null,
      "bottom": null,
      "display": null,
      "flex": null,
      "flex_flow": null,
      "grid_area": null,
      "grid_auto_columns": null,
      "grid_auto_flow": null,
      "grid_auto_rows": null,
      "grid_column": null,
      "grid_gap": null,
      "grid_row": null,
      "grid_template_areas": null,
      "grid_template_columns": null,
      "grid_template_rows": null,
      "height": null,
      "justify_content": null,
      "justify_items": null,
      "left": null,
      "margin": null,
      "max_height": null,
      "max_width": null,
      "min_height": null,
      "min_width": null,
      "object_fit": null,
      "object_position": null,
      "order": null,
      "overflow": null,
      "overflow_x": null,
      "overflow_y": null,
      "padding": null,
      "right": null,
      "top": null,
      "visibility": null,
      "width": null
     }
    },
    "f2e640f3ccaa4ceaba5be6b8f94deec2": {
     "model_module": "@jupyter-widgets/controls",
     "model_name": "ProgressStyleModel",
     "state": {
      "_model_module": "@jupyter-widgets/controls",
      "_model_module_version": "1.5.0",
      "_model_name": "ProgressStyleModel",
      "_view_count": null,
      "_view_module": "@jupyter-widgets/base",
      "_view_module_version": "1.2.0",
      "_view_name": "StyleView",
      "bar_color": null,
      "description_width": "initial"
     }
    },
    "f4bcc2faf2ef476191648276412fe9b3": {
     "model_module": "@jupyter-widgets/base",
     "model_name": "LayoutModel",
     "state": {
      "_model_module": "@jupyter-widgets/base",
      "_model_module_version": "1.2.0",
      "_model_name": "LayoutModel",
      "_view_count": null,
      "_view_module": "@jupyter-widgets/base",
      "_view_module_version": "1.2.0",
      "_view_name": "LayoutView",
      "align_content": null,
      "align_items": null,
      "align_self": null,
      "border": null,
      "bottom": null,
      "display": null,
      "flex": null,
      "flex_flow": null,
      "grid_area": null,
      "grid_auto_columns": null,
      "grid_auto_flow": null,
      "grid_auto_rows": null,
      "grid_column": null,
      "grid_gap": null,
      "grid_row": null,
      "grid_template_areas": null,
      "grid_template_columns": null,
      "grid_template_rows": null,
      "height": null,
      "justify_content": null,
      "justify_items": null,
      "left": null,
      "margin": null,
      "max_height": null,
      "max_width": null,
      "min_height": null,
      "min_width": null,
      "object_fit": null,
      "object_position": null,
      "order": null,
      "overflow": null,
      "overflow_x": null,
      "overflow_y": null,
      "padding": null,
      "right": null,
      "top": null,
      "visibility": null,
      "width": null
     }
    }
   }
  }
 },
 "nbformat": 4,
 "nbformat_minor": 1
}
