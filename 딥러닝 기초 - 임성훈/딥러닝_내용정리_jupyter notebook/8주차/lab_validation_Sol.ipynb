{
 "cells": [
  {
   "cell_type": "markdown",
   "metadata": {},
   "source": [
    "# Part 1: Classifying Fashion-MNIST\n",
    "\n",
    "* 이번 실습에서는 지난 시간과 거의 유사한 작업을 Fashion-MNIST dataset에 대해서 수행하겠습니다\n",
    "\n",
    "* Fashion-MNIST 는 28x28 흑백으로 된 의류 image입니다\n",
    "* 숫자를 표현한 MNIST 보다는 더 복잡한 image가 되어, NN의 성능을 시험해보기 조금 더 난해한 dataset 입니다 (물론 지금 시대에는 여전히 쉬운 작업입니다)\n",
    "\n",
    "* dataset에 대한 그림은 아래와 같습니다\n",
    "\n",
    "<img src='assets/fashion-mnist-sprite.png' width=500px>\n",
    "\n",
    "* 작업은 여러분이 처음부터 끝까지 코딩을 하시면 됩니다\n",
    "* 전체적인 흐름은 지난 주 숙제와 동일하기 때문에 (결국 10개의 의상 종류로 분류합니다) 지난 주 숙제 solution이나 본인이 짠 부분을 대부분 가져와서 해보시면 됩니다.\n",
    "\n",
    "* 아래는 dataset을 준비하는 과정입니다"
   ]
  },
  {
   "cell_type": "code",
   "execution_count": 1,
   "metadata": {},
   "outputs": [],
   "source": [
    "import torch\n",
    "from torchvision import datasets, transforms\n",
    "import helper\n",
    "\n",
    "# Define a transform to normalize the data\n",
    "transform = transforms.Compose([transforms.ToTensor(),\n",
    "                                transforms.Normalize((0.5,), (0.5,))])\n",
    "# Download and load the training data\n",
    "trainset = datasets.FashionMNIST('~/.pytorch/F_MNIST_data/', download=True, train=True, transform=transform)\n",
    "trainloader = torch.utils.data.DataLoader(trainset, batch_size=64, shuffle=True)\n",
    "\n",
    "# Download and load the test data\n",
    "testset = datasets.FashionMNIST('~/.pytorch/F_MNIST_data/', download=True, train=False, transform=transform)\n",
    "testloader = torch.utils.data.DataLoader(testset, batch_size=64, shuffle=True)"
   ]
  },
  {
   "cell_type": "markdown",
   "metadata": {},
   "source": [
    "* 아래 명령으로 이미지 중에 한개를 살펴봐서 준비가 되었는지 확인해 봅시다"
   ]
  },
  {
   "cell_type": "code",
   "execution_count": 2,
   "metadata": {
    "scrolled": true
   },
   "outputs": [
    {
     "data": {
      "image/png": "[encoded data removed]",
      "text/plain": [
       "<Figure size 432x288 with 1 Axes>"
      ]
     },
     "metadata": {
      "needs_background": "light"
     },
     "output_type": "display_data"
    }
   ],
   "source": [
    "image, label = next(iter(trainloader))\n",
    "helper.imshow(image[0,:]);"
   ]
  },
  {
   "cell_type": "markdown",
   "metadata": {},
   "source": [
    "### Exercise 1\n",
    "\n",
    "* 이미지가 28x28인 점을 고려하여 지난주에 벡터로 변환하는 작업을 수행하고\n",
    "* fc1,...,fc4 까지 linear layer를 만드시고\n",
    "* 최종 output layer fc4는 10개 분류 작업을 할 수 있도록 구성\n",
    "  * [주의] 여기서 최종적으로 아래 코드를 통해서 분류 결과를 표출을 통일하기 위해서 네트워크 최종단에 즉 fc4 layer에 F.log_softmax 처리를 하여 출력\n",
    "  * 나머지 layer는 F.relu가 잘 동작합니다 (다른 activation사용해도 무방함)\n",
    "* 각 hidden layer의 노드 수는 (width)는 각자 정하시면 됩니다 \n",
    "\n",
    "* Cost function도 정하시고, 출력이 log_softmax 임을 고려하여 작성\n",
    "* autograd, optimizer를 사용하여 training 수행 \n",
    "* fc1 는 256의 크기로 구성\n",
    "* fc2 는 128의 크기로 구성\n",
    "* fc3 는 64의 크기로 구성\n",
    "* epoch수는 5"
   ]
  },
  {
   "cell_type": "code",
   "execution_count": 3,
   "metadata": {},
   "outputs": [],
   "source": [
    "from torch import nn, optim\n",
    "import torch.nn.functional as F\n",
    "#네트워크에 값을 넣어서 model을 만든다. 네트워크의 init에는 파라미터(h와 W )가 자동으로 만들어지며 \n",
    "#forward를 통해 relu와 softmax적용된 x가 나온다.\n",
    "class Classifi:\n",
    "    # TODO: 네트워크를 완성하세요 (forward 함수 정의하는것 잊지 마시고요)\n",
    "    def __init__(self):\n",
    "        super().__init__()\n",
    "        \n",
    "        self.fc1 = nn.Linear(784, 256)\n",
    "        self.fc2 = nn.Linear(256, 128)\n",
    "        self.fc3 = nn.Linear(128, 64)\n",
    "        self.fc4 = nn.Linear(64, 10)\n",
    "        \n",
    "    def forward(self, x):\n",
    "        x = x.view(x.shape[0], -1)#여기서 28x28 을 784의 벡터 형태로 바꿔줌\n",
    "        \n",
    "        x = F.relu(self.fc1(x))\n",
    "        x = F.relu(self.fc2(x))\n",
    "        x = F.relu(self.fc3(x))\n",
    "        x = F.log_softmax(self.fc4(x), dim=1)\n",
    "        \n",
    "        return x\n",
    "    ###############"
   ]
  },
  {
   "cell_type": "code",
   "execution_count": 4,
   "metadata": {},
   "outputs": [
    {
     "ename": "AttributeError",
     "evalue": "'Classifier' object has no attribute 'parameters'",
     "output_type": "error",
     "traceback": [
      "\u001b[1;31m---------------------------------------------------------------------------\u001b[0m",
      "\u001b[1;31mAttributeError\u001b[0m                            Traceback (most recent call last)",
      "\u001b[1;32m<ipython-input-4-eaec366b0b78>\u001b[0m in \u001b[0;36m<module>\u001b[1;34m\u001b[0m\n\u001b[0;32m      3\u001b[0m \u001b[0mmodel\u001b[0m \u001b[1;33m=\u001b[0m \u001b[0mClassifier\u001b[0m\u001b[1;33m(\u001b[0m\u001b[1;33m)\u001b[0m\u001b[1;33m\u001b[0m\u001b[1;33m\u001b[0m\u001b[0m\n\u001b[0;32m      4\u001b[0m \u001b[0mcriterion\u001b[0m \u001b[1;33m=\u001b[0m \u001b[0mnn\u001b[0m\u001b[1;33m.\u001b[0m\u001b[0mNLLLoss\u001b[0m\u001b[1;33m(\u001b[0m\u001b[1;33m)\u001b[0m\u001b[1;31m#cross antropy 말고 Nlloss()쓴다. => cross 는 softmax안취해 주기 때문에\u001b[0m\u001b[1;33m\u001b[0m\u001b[1;33m\u001b[0m\u001b[0m\n\u001b[1;32m----> 5\u001b[1;33m \u001b[0moptimizer\u001b[0m \u001b[1;33m=\u001b[0m \u001b[0moptim\u001b[0m\u001b[1;33m.\u001b[0m\u001b[0mAdam\u001b[0m\u001b[1;33m(\u001b[0m\u001b[0mmodel\u001b[0m\u001b[1;33m.\u001b[0m\u001b[0mparameters\u001b[0m\u001b[1;33m(\u001b[0m\u001b[1;33m)\u001b[0m\u001b[1;33m,\u001b[0m \u001b[0mlr\u001b[0m\u001b[1;33m=\u001b[0m\u001b[1;36m0.003\u001b[0m\u001b[1;33m)\u001b[0m\u001b[1;31m#무엇을 최적화 할 것인지 써주는것\u001b[0m\u001b[1;33m\u001b[0m\u001b[1;33m\u001b[0m\u001b[0m\n\u001b[0m\u001b[0;32m      6\u001b[0m \u001b[1;33m\u001b[0m\u001b[0m\n\u001b[0;32m      7\u001b[0m \u001b[0mepochs\u001b[0m \u001b[1;33m=\u001b[0m \u001b[1;36m5\u001b[0m\u001b[1;33m\u001b[0m\u001b[1;33m\u001b[0m\u001b[0m\n",
      "\u001b[1;31mAttributeError\u001b[0m: 'Classifier' object has no attribute 'parameters'"
     ]
    }
   ],
   "source": [
    "# TODO: 네트워크를 training 하세요 (epoch는 5번으로 하죠)\n",
    "\n",
    "model = Classifier()\n",
    "criterion = nn.NLLLoss()#cross antropy 말고 Nlloss()쓴다. => cross 는 softmax안취해 주기 때문에\n",
    "optimizer = optim.Adam(model.parameters(), lr=0.003)#무엇을 최적화 할 것인지 써주는것\n",
    "\n",
    "epochs = 5\n",
    "\n",
    "for e in range(epochs):\n",
    "    running_loss = 0\n",
    "    for images, labels in trainloader:\n",
    "        \n",
    "        #### 답 작성\n",
    "        log_ps = model(images)\n",
    "        loss = criterion(log_ps, labels)\n",
    "        \n",
    "        optimizer.zero_grad()#epochs 돌때마다 한번 초기화 한다.\n",
    "        loss.backward()#미분값 구하고\n",
    "        optimizer.step()#업데이트 한다.\n",
    "        \n",
    "        #### \n",
    "        \n",
    "        running_loss += loss.item()\n",
    "    else:\n",
    "        # 다 더해준 값을 trainloder 만큼 나눠준다 -> 평균을 구하는 것임.\n",
    "        print(f\"Training loss: {running_loss/len(trainloader)}\")"
   ]
  },
  {
   "cell_type": "code",
   "execution_count": 6,
   "metadata": {},
   "outputs": [
    {
     "data": {
      "image/png": "[encoded data removed]",
      "text/plain": [
       "<Figure size 432x648 with 2 Axes>"
      ]
     },
     "metadata": {
      "image/png": {
       "height": 216,
       "width": 424
      },
      "needs_background": "light"
     },
     "output_type": "display_data"
    }
   ],
   "source": [
    "%matplotlib inline\n",
    "%config InlineBackend.figure_format = 'retina'\n",
    "\n",
    "import helper\n",
    "\n",
    "# Test out your network!\n",
    "\n",
    "dataiter = iter(testloader)\n",
    "images, labels = dataiter.next()\n",
    "img = images[1]\n",
    "\n",
    "# log softmax 값을 softmax로 변환하여 확률값을 저장\n",
    "ps = torch.exp(model(img))#log 값으로 되어 있기 때문에 exp로 풀어서 봄.\n",
    "\n",
    "# Plot the image and probabilities\n",
    "helper.view_classify(img, ps, version='Fashion')"
   ]
  },
  {
   "cell_type": "markdown",
   "metadata": {},
   "source": [
    "# Part 2: Inference and Validation\n",
    "\n",
    "* 지금까지는 network를 training하는 방법에 대해서 알아보았습니다\n",
    "* Training 된 network를 활용하여 예측 (prediction)을 하는 것을 ML 용어로 inference라고 합니다\n",
    "* Training된 network를 새로운 데이터에 대해서도 좋은 성능을 갖게하는 것을 generalization 이라고 합니다 \n",
    "* 하지만, neural network (또는 모든 ML)은  training 된 데이터에 너무 최적화되어, 새로운 데이터에대해서 성능이 떨어지는 (generalization 이 안되는) 문제가 발생합니다. 이런 현상을  **overfitting** 이라고 합니다\n",
    "* **Generalization** 이 잘되어서 **overfitting** 안일어났는지 확인하는 작업을 **validation** set으로 data를 분리하여 수행합니다\n",
    "* Overfitting이 일어나지 않도록 처리하는 여러 기법을 **regulariztion** 이라고 하며, 대표적으로 **dropout**과 같은것이 있습니다\n",
    "* 이번 실습에서는 **validation**에 대해서 알아보겠습니다\n",
    "\n",
    "* dataset 은 torchvision을 통해서 load하겠습니다\n",
    "* Torchvision에 대한 자세한 기능은 차차 배우기로 학고, 우선은 테스트 세트를 load하기 위해서 `train=False` 로 설정합니다\n",
    "\n",
    "```python\n",
    "testset = datasets.FashionMNIST('~/.pytorch/F_MNIST_data/', download=True, train=False, transform=transform)\n",
    "```\n",
    "\n",
    "* test set은 trainging set과 비슷한 구조를 갖습니다\n",
    "* 보통 전체 data의 10-20%를 테스트를 위해서 남겨둡니다"
   ]
  },
  {
   "cell_type": "markdown",
   "metadata": {},
   "source": [
    "* 본 작업에 목적은 training set에 포함하지 않은 data에 대해서 성능을 측정하는 것입니다\n",
    "* 여기서 성능은 개발자에 의해서 용도에 맞게 설정합니다 \n",
    "* 본 과제에서는 정확도 관점에서 성능을 측정학겠습니다\n",
    "  - 즉 분류를 성공과 실패로 보고 성공의 비율을 측정합니다\n",
    "* 기타 성능 측정을 위한 방법은 [precision and recall](https://en.wikipedia.org/wiki/Precision_and_recall#Definition_(classification_context)) 과 top-5 error rate 등이 있습니다\n",
    "* 시작으로, 한개에 batch에 대한 forward pass를 실행합니다"
   ]
  },
  {
   "cell_type": "code",
   "execution_count": 51,
   "metadata": {},
   "outputs": [
    {
     "name": "stdout",
     "output_type": "stream",
     "text": [
      "torch.Size([64, 10])\n"
     ]
    }
   ],
   "source": [
    "model = Classifier()\n",
    "# generalization = 새로운 데이터에 대해서 좋은 성능을 갖게 하는 것\n",
    "# overfitting = training 데이터에 너무 최적화 되어서 새로운 데이터에 대해 성능이 떨어지는 현상\n",
    "# validation = generalization 이 잘되 overfiting 이 안일어 나는지 확인하는 작업\n",
    "# regulariztion = overfitting 이 일어나지 않도록 처리하는 기법, dropout 이 있음.\n",
    "\n",
    "images, labels = next(iter(testloader))\n",
    "# Get the class probabilities\n",
    "log_ps = model(images)\n",
    "ps = torch.exp(log_ps)# log값 풀어줌\n",
    "# Make sure the shape is appropriate, we should get 10 class probabilities for 64 examples\n",
    "print(ps.shape)"
   ]
  },
  {
   "cell_type": "markdown",
   "metadata": {},
   "source": [
    "* 출력은 각 classification 항목에 대한 확률 분포로 출력됩니다\n",
    "* `ps.topk` method로 $k$개의 활률 값이 가장 높은 value와 index를 tuple로 받습니다\n",
    "* 가장 높은 가능성으로 분류를 하고자하니, `ps.topk(1)`를 사용합니다\n",
    "* 예를 들어서 가장 높은 value가 5번째이면 index 4를 받습니다"
   ]
  },
  {
   "cell_type": "code",
   "execution_count": 1,
   "metadata": {},
   "outputs": [
    {
     "ename": "NameError",
     "evalue": "name 'ps' is not defined",
     "output_type": "error",
     "traceback": [
      "\u001b[1;31m---------------------------------------------------------------------------\u001b[0m",
      "\u001b[1;31mNameError\u001b[0m                                 Traceback (most recent call last)",
      "\u001b[1;32m<ipython-input-1-5a5329a2f65d>\u001b[0m in \u001b[0;36m<module>\u001b[1;34m\u001b[0m\n\u001b[1;32m----> 1\u001b[1;33m \u001b[0mtop_p\u001b[0m\u001b[1;33m,\u001b[0m \u001b[0mtop_class\u001b[0m \u001b[1;33m=\u001b[0m \u001b[0mps\u001b[0m\u001b[1;33m.\u001b[0m\u001b[0mtopk\u001b[0m\u001b[1;33m(\u001b[0m\u001b[1;36m1\u001b[0m\u001b[1;33m,\u001b[0m \u001b[0mdim\u001b[0m\u001b[1;33m=\u001b[0m\u001b[1;36m1\u001b[0m\u001b[1;33m)\u001b[0m\u001b[1;33m\u001b[0m\u001b[1;33m\u001b[0m\u001b[0m\n\u001b[0m\u001b[0;32m      2\u001b[0m \u001b[1;31m##topk => 각각 높은 성능을 가진 value의 index를 리턴해준다.\u001b[0m\u001b[1;33m\u001b[0m\u001b[1;33m\u001b[0m\u001b[1;33m\u001b[0m\u001b[0m\n\u001b[0;32m      3\u001b[0m \u001b[1;31m# Look at the most likely classes for the first 10 examples\u001b[0m\u001b[1;33m\u001b[0m\u001b[1;33m\u001b[0m\u001b[1;33m\u001b[0m\u001b[0m\n\u001b[0;32m      4\u001b[0m \u001b[0mprint\u001b[0m\u001b[1;33m(\u001b[0m\u001b[0mtop_class\u001b[0m\u001b[1;33m[\u001b[0m\u001b[1;33m:\u001b[0m\u001b[1;36m10\u001b[0m\u001b[1;33m,\u001b[0m\u001b[1;33m:\u001b[0m\u001b[1;33m]\u001b[0m\u001b[1;33m)\u001b[0m\u001b[1;33m\u001b[0m\u001b[1;33m\u001b[0m\u001b[0m\n\u001b[0;32m      5\u001b[0m \u001b[0mtop_class\u001b[0m\u001b[1;33m.\u001b[0m\u001b[0mshape\u001b[0m\u001b[1;33m\u001b[0m\u001b[1;33m\u001b[0m\u001b[0m\n",
      "\u001b[1;31mNameError\u001b[0m: name 'ps' is not defined"
     ]
    }
   ],
   "source": [
    "top_p, top_class = ps.topk(1, dim=1)\n",
    "##topk => 각각 높은 성능을 가진 value의 index를 리턴해준다. \n",
    "# Look at the most likely classes for the first 10 examples\n",
    "print(top_class[:10,:])\n",
    "top_class.shape"
   ]
  },
  {
   "cell_type": "markdown",
   "metadata": {},
   "source": [
    "* 지금까지 네트워크에서 출력한 확률분포에서 가장 높은 확률값의 index를 64개 찾았습니다\n",
    "* 이제 `top_class`와 `labels`를 비교하여 몇개를 맞췄는지 확인을 해야합니다\n",
    "* 차원이 맞는 tensor 간에 `==`를 해서 비교합니다 (테스트 해보세요!)\n",
    "* 다음을 실행하면 원하는 답이 나오지 않습니다\n",
    "* `top_class`와 `labels`의 shape를 비교 해보고 싶은 생각이 드셔야합니다\n",
    "```python\n",
    "equals = top_class == labels\n",
    "```\n",
    "* (참고) broadcasting으로 `==` 연산이 일어난것이며, 우리가 원하는 연산은 아닙니다 "
   ]
  },
  {
   "cell_type": "code",
   "execution_count": 10,
   "metadata": {},
   "outputs": [
    {
     "data": {
      "text/plain": [
       "torch.Size([64, 1])"
      ]
     },
     "execution_count": 10,
     "metadata": {},
     "output_type": "execute_result"
    }
   ],
   "source": [
    "equals = top_class == labels.view(top_class.shape)\n",
    "#top_class와 labels를 비교하여 몇개를 맞췄는지 확인\n",
    "top_class.shape"
   ]
  },
  {
   "cell_type": "markdown",
   "metadata": {},
   "source": [
    "* 이제 분류가 성공한 비율을 찾기위해서 전체를 더하고 총수로 나누는 (평균)을 내면됩니다\n",
    "* `torch.mean`이 유용한데 \n",
    "* `torch.mean(equals)`를 실행하면\n",
    "\n",
    "```\n",
    "RuntimeError: mean is not implemented for type torch.ByteTensor\n",
    "```\n",
    "* `equals`를 float tensor로 변환하여 적용합니다\n"
   ]
  },
  {
   "cell_type": "code",
   "execution_count": 11,
   "metadata": {},
   "outputs": [
    {
     "name": "stdout",
     "output_type": "stream",
     "text": [
      "Accuracy: 9.375%\n"
     ]
    }
   ],
   "source": [
    "accuracy = torch.mean(equals.type(torch.FloatTensor))#성공한 비율을 찾기위해 평균을 내줌\n",
    "print(f'Accuracy: {accuracy*100}%')"
   ]
  },
  {
   "cell_type": "markdown",
   "metadata": {},
   "source": [
    "* 당연히 네트워크가 training이 안되었기 때문에 값이 랜덤하게 나옵니다\n",
    "* 저는 15% 정도 나오네요\n",
    "* 이제 전체 test data (validation set)에 대한 loop를 완성하려 합니다 (위는 한 batch)\n",
    "* 아래 Exercise를 수행하는데 중요한 코드가 있습니다\n",
    "* `torch.no_grad():`는 tensor에 gradient 정보 없이 작업을 할때 사용합니다. 당연히 training이 없으니 network parameter를 업데이트할 필요가 없고, gradient 정보를 저장하는데 쓸데 없는 연산과 메모리 사용을 방지할 수 있습니다. Validation과정에서는 필수입니다! \n",
    "\n",
    "```python\n",
    "# turn off gradients\n",
    "with torch.no_grad():\n",
    "    # validation pass here\n",
    "    for images, labels in testloader:\n",
    "        ...\n",
    "```\n"
   ]
  },
  {
   "cell_type": "markdown",
   "metadata": {},
   "source": [
    "**Exercise 2 [5 points]:** \n",
    "- 아래 validation loop를 완성하세요\n",
    "  - 위에서 배운 것과 같이 testdata (testloader loop)에서 \n",
    "    1. 해당 output (log_ps)를 확률값 ps 로 변환\n",
    "    2. ps.topk 명령어를 사용하여 top_class 받고\n",
    "    3. equals에 top_class와 label를 비교 (주의할 점은 top_class와 label의 size를 맞춰줘야합니다\n",
    "    4. accuracy에 equals의 `평균값`을 `+=`를 사용하여 계속 더하세요 \n",
    "      - equals는 한개의 batch의 `성공`, `실패`를 담고있죠 (64개의 성공과 실패)\n",
    "      - 이것을 평균 (`torch.mean`) 내면 (해당 batch의 성공률이 나옵니다)\n",
    "      - 최종적으로 batch별 성공률을 모두 더해서 총 batch의 갯수로 (`len(testloader)`) 나눠서 전체 데이터에 대한 성공률을 계산하기 위한 작업입니다 "
   ]
  },
  {
   "cell_type": "code",
   "execution_count": 12,
   "metadata": {
    "scrolled": true
   },
   "outputs": [
    {
     "name": "stdout",
     "output_type": "stream",
     "text": [
      "Epoch: 1/30..  Training Loss: 0.519..  Test Loss: 0.457..  Test Accuracy: 0.833\n",
      "Epoch: 2/30..  Training Loss: 0.387..  Test Loss: 0.416..  Test Accuracy: 0.853\n",
      "Epoch: 3/30..  Training Loss: 0.353..  Test Loss: 0.397..  Test Accuracy: 0.854\n",
      "Epoch: 4/30..  Training Loss: 0.332..  Test Loss: 0.410..  Test Accuracy: 0.854\n",
      "Epoch: 5/30..  Training Loss: 0.314..  Test Loss: 0.369..  Test Accuracy: 0.870\n",
      "Epoch: 6/30..  Training Loss: 0.304..  Test Loss: 0.385..  Test Accuracy: 0.866\n",
      "Epoch: 7/30..  Training Loss: 0.294..  Test Loss: 0.377..  Test Accuracy: 0.872\n",
      "Epoch: 8/30..  Training Loss: 0.285..  Test Loss: 0.370..  Test Accuracy: 0.870\n",
      "Epoch: 9/30..  Training Loss: 0.274..  Test Loss: 0.393..  Test Accuracy: 0.872\n",
      "Epoch: 10/30..  Training Loss: 0.269..  Test Loss: 0.355..  Test Accuracy: 0.876\n",
      "Epoch: 11/30..  Training Loss: 0.261..  Test Loss: 0.377..  Test Accuracy: 0.870\n",
      "Epoch: 12/30..  Training Loss: 0.250..  Test Loss: 0.368..  Test Accuracy: 0.875\n",
      "Epoch: 13/30..  Training Loss: 0.243..  Test Loss: 0.378..  Test Accuracy: 0.872\n",
      "Epoch: 14/30..  Training Loss: 0.238..  Test Loss: 0.383..  Test Accuracy: 0.878\n",
      "Epoch: 15/30..  Training Loss: 0.239..  Test Loss: 0.382..  Test Accuracy: 0.876\n",
      "Epoch: 16/30..  Training Loss: 0.233..  Test Loss: 0.391..  Test Accuracy: 0.876\n",
      "Epoch: 17/30..  Training Loss: 0.231..  Test Loss: 0.398..  Test Accuracy: 0.877\n",
      "Epoch: 18/30..  Training Loss: 0.221..  Test Loss: 0.407..  Test Accuracy: 0.876\n",
      "Epoch: 19/30..  Training Loss: 0.218..  Test Loss: 0.392..  Test Accuracy: 0.879\n",
      "Epoch: 20/30..  Training Loss: 0.209..  Test Loss: 0.411..  Test Accuracy: 0.885\n",
      "Epoch: 21/30..  Training Loss: 0.215..  Test Loss: 0.430..  Test Accuracy: 0.879\n",
      "Epoch: 22/30..  Training Loss: 0.211..  Test Loss: 0.386..  Test Accuracy: 0.881\n",
      "Epoch: 23/30..  Training Loss: 0.206..  Test Loss: 0.404..  Test Accuracy: 0.878\n",
      "Epoch: 24/30..  Training Loss: 0.199..  Test Loss: 0.405..  Test Accuracy: 0.878\n",
      "Epoch: 25/30..  Training Loss: 0.192..  Test Loss: 0.414..  Test Accuracy: 0.882\n",
      "Epoch: 26/30..  Training Loss: 0.197..  Test Loss: 0.415..  Test Accuracy: 0.877\n",
      "Epoch: 27/30..  Training Loss: 0.198..  Test Loss: 0.416..  Test Accuracy: 0.880\n",
      "Epoch: 28/30..  Training Loss: 0.187..  Test Loss: 0.405..  Test Accuracy: 0.882\n",
      "Epoch: 29/30..  Training Loss: 0.188..  Test Loss: 0.408..  Test Accuracy: 0.883\n",
      "Epoch: 30/30..  Training Loss: 0.182..  Test Loss: 0.417..  Test Accuracy: 0.883\n"
     ]
    }
   ],
   "source": [
    "\n",
    "model = Classifier()\n",
    "criterion = nn.NLLLoss()\n",
    "optimizer = optim.Adam(model.parameters(), lr=0.003)\n",
    "\n",
    "epochs = 30\n",
    "steps = 0\n",
    "\n",
    "train_losses, test_losses = [], []\n",
    "for e in range(epochs):\n",
    "    running_loss = 0\n",
    "    for images, labels in trainloader:\n",
    "        \n",
    "\n",
    "        # 답작성: Training 코드 \n",
    "        optimizer.zero_grad()\n",
    "        \n",
    "        log_ps = model(images)\n",
    "        loss = criterion(log_ps, labels)\n",
    "        loss.backward()\n",
    "        optimizer.step()\n",
    "        \n",
    "        #######################\n",
    "        running_loss += loss.item()\n",
    "        \n",
    "         #traing 다 끝나고 else 돌린다. else는 validation 하는 부분\n",
    "    else:\n",
    "        test_loss = 0\n",
    "        accuracy = 0\n",
    "        \n",
    "\n",
    "        with torch.no_grad():\n",
    "            for images, labels in testloader:\n",
    "                log_ps = model(images)\n",
    "                test_loss += criterion(log_ps, labels)\n",
    "        \n",
    "                # 답작성 (Epoch 마다 천체 testdata에 대해서 accuracy를 구합니다)\n",
    "                # 최종 값은 `accuracy` 라는 이름으로 받아야 아래 print문에 출력됩니다\n",
    "                \n",
    "                ps = torch.exp(log_ps)#log값 풀어주기 위해서 \n",
    "                top_p, top_class = ps.topk(1, dim=1)#각각 row에 대해 제일 큰값의 인덱스를 리턴해준다.\n",
    "                \n",
    "                #eqals에다가 비교한값을 넣어준다. 이때 label의 형태를 top_class와 맞춰준다.\n",
    "                #equals에는 각 batch의 성공과 실패를 담고있다. \n",
    "                #top_class와 label를 비교 = 전체 데이터에 대한 성공률을 계산\n",
    "                equals = top_class == labels.view(top_class.shape)\n",
    "                \n",
    "                #equals의 타입을 float로 바꿔주고 torch.mean으로 평균을 내주면 해당 batch의 성공률이 나온다.\n",
    "                accuracy += torch.mean(equals.type(torch.FloatTensor))\n",
    "                \n",
    "                #######################\n",
    "                \n",
    "        train_losses.append(running_loss/len(trainloader))\n",
    "        test_losses.append(test_loss/len(testloader))\n",
    "        \n",
    "\n",
    "        print(\"Epoch: {}/{}.. \".format(e+1, epochs),\n",
    "              \"Training Loss: {:.3f}.. \".format(running_loss/len(trainloader)),\n",
    "              \"Test Loss: {:.3f}.. \".format(test_loss/len(testloader)),\n",
    "              \"Test Accuracy: {:.3f}\".format(accuracy/len(testloader)))"
   ]
  },
  {
   "cell_type": "code",
   "execution_count": 13,
   "metadata": {},
   "outputs": [],
   "source": [
    "%matplotlib inline\n",
    "%config InlineBackend.figure_format = 'retina'\n",
    "\n",
    "import matplotlib.pyplot as plt"
   ]
  },
  {
   "cell_type": "code",
   "execution_count": 14,
   "metadata": {},
   "outputs": [
    {
     "data": {
      "text/plain": [
       "<matplotlib.legend.Legend at 0x232d0999a08>"
      ]
     },
     "execution_count": 14,
     "metadata": {},
     "output_type": "execute_result"
    },
    {
     "data": {
      "image/png": "[encoded data removed]",
      "text/plain": [
       "<Figure size 432x288 with 1 Axes>"
      ]
     },
     "metadata": {
      "image/png": {
       "height": 248,
       "width": 380
      },
      "needs_background": "light"
     },
     "output_type": "display_data"
    }
   ],
   "source": [
    "plt.plot(train_losses, label='Training loss')\n",
    "plt.plot(test_losses, label='Validation loss')\n",
    "plt.legend(frameon=False)"
   ]
  },
  {
   "cell_type": "markdown",
   "metadata": {},
   "source": [
    "## Overfitting\n",
    "\n",
    "* 위에서 수행한 결과를 살펴보면 overfitting 현상을 확인할 수 있습니다\n",
    "* 같지는 않지만, 아래와 같은 현상:\n",
    "\n",
    "<img src='assets/overfitting.png' width=450px>\n",
    "\n",
    "- Training loss는 점점 줄어드는 반면, validation loss는 일정 줄어들다가 다시 늘어나는 현상을 확인 할 수 있습니다. \n",
    "- 궁극적인 목적은 새로운 data에 대해서 잘 동작하는 것이기 때문에 가장 낮은 validation loss를 갖도록 하는것이 목표 입니다\n",
    "- 그래프에서 착안 할 수 있는 방법중 하나는 가장 낮아지는 epoch를 찾아서 멈추는 방법입니다. 이런 방법을 *early-stopping*이라고 합니다 \n",
    "- 실제 적용하는 practice에서는 많은 training을 수행하며, 그 중에서 가장 좋은 성능(lowest validation error)의 network을 선택합니다\n",
    "- Early stopping 이외에 매우 자주 사용되는 regularization 방법은 *dropout* 입니다\n",
    "- Dropout은 네트워크의 연결을 랜덤하게 일정 비율로 끊어버리는 방법입니다\n",
    "- Dropout이 왜 효과가 있는지는 이론 수업에서 다루도록 하겠습니다\n",
    "- Pytorch에서 dropout을 수행하는 방법은 [`nn.Dropout`](https://pytorch.org/docs/stable/nn.html#torch.nn.Dropout) module 통해서 합니다\n",
    "\n",
    "```python\n",
    "class Classifier(nn.Module):\n",
    "    def __init__(self):\n",
    "        super().__init__()\n",
    "        self.fc1 = None\n",
    "        self.fc2 = None\n",
    "        self.fc3 = None\n",
    "        self.fc4 = None\n",
    "        \n",
    "        # Dropout module with 0.2 drop probability\n",
    "        self.dropout = nn.Dropout(p=0.2)\n",
    "        \n",
    "    def forward(self, x):\n",
    "        # make sure input tensor is flattened\n",
    "        x = x.view(x.shape[0], -1)\n",
    "        \n",
    "        # Now with dropout\n",
    "        x = self.dropout(F.relu(self.fc1(x)))\n",
    "        x = self.dropout(F.relu(self.fc2(x)))\n",
    "        x = self.dropout(F.relu(self.fc3(x)))\n",
    "        \n",
    "        # output so no dropout here\n",
    "        x = F.log_softmax(self.fc4(x), dim=1)\n",
    "        \n",
    "        return x\n",
    "```\n",
    "\n",
    "* 여기서 Dropout은 training 단계에서만 사용하고, validation에서는 전체 네트워크를 사용해야 합니다 (Why?)\n",
    "* 즉, validation 과정에서는 dropout을 비활성화 해야하죠\n",
    "  - 이를 위해서 `model.eval()`을 사용합니다\n",
    "  - 즉, `model.eval()` 모드 하에서는 droupout 확률이 0으로 동작합니다   \n",
    "  - 다시 dropout를 수행할때는 `model.train()`으로 활성화 합니다\n",
    "  - 일반적으로 아래와 같이 동작하죠\n",
    "    1. Validation loop에서 gradient를 끄고, model을 evaluation mode로 설정\n",
    "    2. validation loss를 계산하고 \n",
    "    3. 다시 train mode로 변경 \n",
    "    \n",
    "```python\n",
    "# turn off gradients\n",
    "with torch.no_grad():\n",
    "    \n",
    "    # set model to evaluation mode\n",
    "    model.eval()\n",
    "    \n",
    "    # validation pass here\n",
    "    for images, labels in testloader:\n",
    "        ...\n",
    "\n",
    "# set model back to train mode\n",
    "model.train()\n",
    "```"
   ]
  },
  {
   "cell_type": "markdown",
   "metadata": {},
   "source": [
    "**Exercise 3 [5 points]:** \n",
    "\n",
    "- 아래 코드에서 dropout를 사용하기 위한 필요한 곳을 수정/채워 주세요\n",
    "- model 에 dropout 적용, model.eval, model.train 등\n",
    "- 아래 코드는 위에 적용했던 코드 Exercise 1 부분 제외한 모음입니다\n",
    "- Template이라고 생각학고 적용하시면 됩니다"
   ]
  },
  {
   "cell_type": "code",
   "execution_count": 15,
   "metadata": {},
   "outputs": [],
   "source": [
    "class Classifier(nn.Module):\n",
    "    \n",
    "    # 앞 문제에서 작성한 network에 dropout 적용\n",
    "    def __init__(self):\n",
    "        super().__init__()\n",
    "        self.fc1 = nn.Linear(784, 256)\n",
    "        self.fc2 = nn.Linear(256, 128)\n",
    "        self.fc3 = nn.Linear(128, 64)\n",
    "        self.fc4 = nn.Linear(64, 10)\n",
    "\n",
    "        # Dropout module with 0.2 drop probability\n",
    "        #Dropout = overfitting 일어났을때 사용, batch(hidden) 한번 돌 때 선을 0.2 확률로 끊고 update\n",
    "        #Dropout은 네트워크의 연결을 랜덤하게 일정 비율로 끊어버리는 방법\n",
    "\n",
    "        #traing 과 test 에서는 사용하면 안되므로 껏다 켜주는 걸 반복 해야함 \n",
    "        self.dropout = nn.Dropout(p=0.2)\n",
    "\n",
    "    def forward(self, x):\n",
    "        x = x.view(x.shape[0], -1)\n",
    "\n",
    "        # Now with dropout\n",
    "        x = self.dropout(F.relu(self.fc1(x)))\n",
    "        x = self.dropout(F.relu(self.fc2(x)))\n",
    "        x = self.dropout(F.relu(self.fc3(x)))\n",
    "\n",
    "        # output so no dropout here\n",
    "        x = F.log_softmax(self.fc4(x), dim=1)\n",
    "\n",
    "        return x\n",
    "    ##############################"
   ]
  },
  {
   "cell_type": "code",
   "execution_count": 16,
   "metadata": {},
   "outputs": [
    {
     "name": "stdout",
     "output_type": "stream",
     "text": [
      "Epoch: 1/30..  Training Loss: 0.602..  Test Loss: 0.499..  Test Accuracy: 0.815\n",
      "Epoch: 2/30..  Training Loss: 0.484..  Test Loss: 0.445..  Test Accuracy: 0.841\n",
      "Epoch: 3/30..  Training Loss: 0.449..  Test Loss: 0.415..  Test Accuracy: 0.853\n",
      "Epoch: 4/30..  Training Loss: 0.435..  Test Loss: 0.437..  Test Accuracy: 0.837\n",
      "Epoch: 5/30..  Training Loss: 0.424..  Test Loss: 0.405..  Test Accuracy: 0.855\n",
      "Epoch: 6/30..  Training Loss: 0.412..  Test Loss: 0.387..  Test Accuracy: 0.858\n",
      "Epoch: 7/30..  Training Loss: 0.403..  Test Loss: 0.402..  Test Accuracy: 0.854\n",
      "Epoch: 8/30..  Training Loss: 0.396..  Test Loss: 0.376..  Test Accuracy: 0.868\n",
      "Epoch: 9/30..  Training Loss: 0.396..  Test Loss: 0.397..  Test Accuracy: 0.861\n",
      "Epoch: 10/30..  Training Loss: 0.388..  Test Loss: 0.399..  Test Accuracy: 0.863\n",
      "Epoch: 11/30..  Training Loss: 0.383..  Test Loss: 0.395..  Test Accuracy: 0.861\n",
      "Epoch: 12/30..  Training Loss: 0.382..  Test Loss: 0.384..  Test Accuracy: 0.865\n",
      "Epoch: 13/30..  Training Loss: 0.382..  Test Loss: 0.375..  Test Accuracy: 0.865\n",
      "Epoch: 14/30..  Training Loss: 0.374..  Test Loss: 0.393..  Test Accuracy: 0.864\n",
      "Epoch: 15/30..  Training Loss: 0.368..  Test Loss: 0.395..  Test Accuracy: 0.873\n",
      "Epoch: 16/30..  Training Loss: 0.370..  Test Loss: 0.388..  Test Accuracy: 0.862\n",
      "Epoch: 17/30..  Training Loss: 0.370..  Test Loss: 0.390..  Test Accuracy: 0.861\n",
      "Epoch: 18/30..  Training Loss: 0.370..  Test Loss: 0.388..  Test Accuracy: 0.864\n",
      "Epoch: 19/30..  Training Loss: 0.363..  Test Loss: 0.368..  Test Accuracy: 0.874\n",
      "Epoch: 20/30..  Training Loss: 0.355..  Test Loss: 0.382..  Test Accuracy: 0.870\n",
      "Epoch: 21/30..  Training Loss: 0.355..  Test Loss: 0.373..  Test Accuracy: 0.871\n",
      "Epoch: 22/30..  Training Loss: 0.363..  Test Loss: 0.380..  Test Accuracy: 0.870\n",
      "Epoch: 23/30..  Training Loss: 0.356..  Test Loss: 0.379..  Test Accuracy: 0.870\n",
      "Epoch: 24/30..  Training Loss: 0.353..  Test Loss: 0.393..  Test Accuracy: 0.861\n",
      "Epoch: 25/30..  Training Loss: 0.347..  Test Loss: 0.383..  Test Accuracy: 0.871\n",
      "Epoch: 26/30..  Training Loss: 0.352..  Test Loss: 0.388..  Test Accuracy: 0.867\n",
      "Epoch: 27/30..  Training Loss: 0.347..  Test Loss: 0.382..  Test Accuracy: 0.872\n",
      "Epoch: 28/30..  Training Loss: 0.347..  Test Loss: 0.383..  Test Accuracy: 0.871\n",
      "Epoch: 29/30..  Training Loss: 0.348..  Test Loss: 0.385..  Test Accuracy: 0.871\n",
      "Epoch: 30/30..  Training Loss: 0.348..  Test Loss: 0.396..  Test Accuracy: 0.856\n"
     ]
    }
   ],
   "source": [
    "model = Classifier()\n",
    "criterion = nn.NLLLoss()\n",
    "optimizer = optim.Adam(model.parameters(), lr=0.003)\n",
    "\n",
    "epochs = 30\n",
    "steps = 0\n",
    "\n",
    "train_losses, test_losses = [], []\n",
    "for e in range(epochs):\n",
    "    running_loss = 0\n",
    "    for images, labels in trainloader:\n",
    "        \n",
    "        \n",
    "        # training 답 작성 \n",
    "        optimizer.zero_grad()\n",
    "        \n",
    "        log_ps = model(images)\n",
    "        loss = criterion(log_ps, labels)\n",
    "        loss.backward()\n",
    "        optimizer.step()\n",
    "        \n",
    "        \n",
    "        #######################\n",
    "        running_loss += loss.item()\n",
    "        \n",
    "    else:\n",
    "        test_loss = 0\n",
    "        accuracy = 0\n",
    "        \n",
    "        # Gradient를 계산할 필요 없으니 비활성화 \n",
    "        with torch.no_grad():\n",
    "            model.eval()#validation 과정에서는 dropout을 비활성화 ->droupout 확률이 0으로 동작\n",
    "            for images, labels in testloader:\n",
    "                log_ps = model(images)\n",
    "                test_loss += criterion(log_ps, labels)\n",
    "                \n",
    "                # 숙제 2번과 동일한 과정이니, 여기에 복사하여 붙이면 되겠죠?\n",
    "                ps = torch.exp(log_ps)\n",
    "                top_p, top_class = ps.topk(1, dim=1)\n",
    "                equals = top_class == labels.view(*top_class.shape)\n",
    "                accuracy += torch.mean(equals.type(torch.FloatTensor))\n",
    "                ##################\n",
    "        model.train()#켜는거\n",
    "        \n",
    "        train_losses.append(running_loss/len(trainloader))\n",
    "        test_losses.append(test_loss/len(testloader))\n",
    "\n",
    "        print(\"Epoch: {}/{}.. \".format(e+1, epochs),\n",
    "              \"Training Loss: {:.3f}.. \".format(train_losses[-1]),\n",
    "              \"Test Loss: {:.3f}.. \".format(test_losses[-1]),\n",
    "              \"Test Accuracy: {:.3f}\".format(accuracy/len(testloader)))"
   ]
  },
  {
   "cell_type": "code",
   "execution_count": 17,
   "metadata": {},
   "outputs": [],
   "source": [
    "%matplotlib inline\n",
    "%config InlineBackend.figure_format = 'retina'\n",
    "\n",
    "import matplotlib.pyplot as plt"
   ]
  },
  {
   "cell_type": "code",
   "execution_count": 18,
   "metadata": {},
   "outputs": [
    {
     "data": {
      "text/plain": [
       "<matplotlib.legend.Legend at 0x232d0999cc8>"
      ]
     },
     "execution_count": 18,
     "metadata": {},
     "output_type": "execute_result"
    },
    {
     "data": {
      "image/png": "[encoded data removed]",
      "text/plain": [
       "<Figure size 432x288 with 1 Axes>"
      ]
     },
     "metadata": {
      "image/png": {
       "height": 248,
       "width": 380
      },
      "needs_background": "light"
     },
     "output_type": "display_data"
    }
   ],
   "source": [
    "plt.plot(train_losses, label='Training loss')\n",
    "plt.plot(test_losses, label='Validation loss')\n",
    "plt.legend(frameon=False)"
   ]
  },
  {
   "cell_type": "markdown",
   "metadata": {},
   "source": [
    "## Inference\n",
    "\n",
    "* 이제 실제 적용하는 예입니다 (inference)\n",
    "* 내가 분류작업을 한다고 생각학고 traning이 끝난 네트워크에 적용합니다\n",
    "* 당연히 model.eval()과 gradient는 비활성화합니다"
   ]
  },
  {
   "cell_type": "code",
   "execution_count": 19,
   "metadata": {},
   "outputs": [
    {
     "data": {
      "image/png": "[encoded data removed]",
      "text/plain": [
       "<Figure size 432x648 with 2 Axes>"
      ]
     },
     "metadata": {
      "image/png": {
       "height": 216,
       "width": 424
      },
      "needs_background": "light"
     },
     "output_type": "display_data"
    }
   ],
   "source": [
    "# Import helper module (should be in the repo)\n",
    "import helper\n",
    "\n",
    "# Test out your network!\n",
    "\n",
    "model.eval()\n",
    "\n",
    "dataiter = iter(testloader)\n",
    "images, labels = dataiter.next()\n",
    "img = images[0]\n",
    "# Convert 2D image to 1D vector\n",
    "img = img.view(1, 784)\n",
    "\n",
    "# Calculate the class probabilities (softmax) for img\n",
    "with torch.no_grad():\n",
    "    output = model.forward(img)\n",
    "\n",
    "ps = torch.exp(output)\n",
    "\n",
    "# Plot the image and probabilities\n",
    "helper.view_classify(img.view(1, 28, 28), ps, version='Fashion')"
   ]
  }
 ],
 "metadata": {
  "kernelspec": {
   "display_name": "Python 3",
   "language": "python",
   "name": "python3"
  },
  "language_info": {
   "codemirror_mode": {
    "name": "ipython",
    "version": 3
   },
   "file_extension": ".py",
   "mimetype": "text/x-python",
   "name": "python",
   "nbconvert_exporter": "python",
   "pygments_lexer": "ipython3",
   "version": "3.7.6"
  },
  "toc": {
   "base_numbering": 1,
   "nav_menu": {},
   "number_sections": true,
   "sideBar": true,
   "skip_h1_title": false,
   "title_cell": "Table of Contents",
   "title_sidebar": "Contents",
   "toc_cell": false,
   "toc_position": {},
   "toc_section_display": true,
   "toc_window_display": false
  }
 },
 "nbformat": 4,
 "nbformat_minor": 2
}
