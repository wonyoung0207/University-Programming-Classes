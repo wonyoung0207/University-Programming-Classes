{
  "nbformat": 4,
  "nbformat_minor": 0,
  "metadata": {
    "colab": {
      "name": "lab4.ipynb",
      "provenance": [],
      "collapsed_sections": [
        "nWc1OkJMOOpL",
        "-JT-e47Yu5nd",
        "QvJeTokHhogT",
        "rV6esnV6k_O7",
        "pJf7pOXfq07E"
      ]
    },
    "kernelspec": {
      "name": "ir",
      "display_name": "R"
    }
  },
  "cells": [
    {
      "cell_type": "markdown",
      "metadata": {
        "id": "NqwIc2xhQqLu",
        "colab_type": "text"
      },
      "source": [
        "# *빅데이터 개론 4주차 실습!*\n",
        "\n",
        "- - -\n",
        "\n",
        "## ``dpylr`` package"
      ]
    },
    {
      "cell_type": "markdown",
      "metadata": {
        "id": "nWc1OkJMOOpL",
        "colab_type": "text"
      },
      "source": [
        "##1. dplyr(``%>%, select, filter, groupby, summarize``)\n",
        "\n",
        "- - -\n",
        "\n",
        "dplyr 패키지는 Hadley Wickham가 작성한 데이터 처리에 특화된 R 패키지입니다. 이 분이 지금까지 작성한 유명한 R 패키지로는 ggplot2, plyr, reshape2등이 있으며 이미 많은 분들이 사용하고 있으리라 생각합니다.\n",
        "\n",
        "데이터 처리에 특화된 유용한 패키지로는 역시 Hadley Wickham이 만든 plyr이라는 패키지가 있었습니다. 그러나 ``plyr은 편리하긴 했지만 모든 함수가 R로 작성되어서 처리 속도가 느리다는 단점``이 있었습니다. 이에 반해 ``dplyr은 C++로 작성되어 불필요한 함수를 불러오지 않기 때문에 매우 빠른 처리 속도를 자랑``합니다.\n",
        "\n",
        "dplyr 패키지는 데이터 프레임을 처리하는 함수군으로 구성되어 있습니다. 하지만 그 밖에도 다음 형식의 데이터를 이용할 수 있습니다.\n",
        "\n",
        "* data.table : data.table 패키지와 사용\n",
        "* 각종 데이터베이스 : 현재 MySQL, PostgreSQL, SQLite, BigQuery를 지원\n",
        "* 데이터 큐브 : dplyr 패키지 내부에 실험적으로 내장됨"
      ]
    },
    {
      "cell_type": "code",
      "metadata": {
        "id": "9IJu91upOV_v",
        "colab_type": "code",
        "colab": {
          "base_uri": "https://localhost:8080/",
          "height": 161
        },
        "outputId": "efc1c865-f8f4-44b9-d377-3b0f926684c1"
      },
      "source": [
        "#dplyr 사용하기 위해 패키지 가져오기\n",
        "\n",
        "install.packages(\"data.table\")\n",
        "install.packages(\"tidyverse\")\n",
        "\n",
        "library(tidyverse) # or library(dplyr)\n",
        "library(data.table)"
      ],
      "execution_count": 37,
      "outputs": [
        {
          "output_type": "stream",
          "text": [
            "Installing package into ‘/usr/local/lib/R/site-library’\n",
            "(as ‘lib’ is unspecified)\n",
            "\n",
            "Warning message in install.packages(\"data.table\"):\n",
            "“installation of package ‘data.table’ had non-zero exit status”\n",
            "Installing package into ‘/usr/local/lib/R/site-library’\n",
            "(as ‘lib’ is unspecified)\n",
            "\n"
          ],
          "name": "stderr"
        }
      ]
    },
    {
      "cell_type": "code",
      "metadata": {
        "id": "FQAGRujvYZD9",
        "colab_type": "code",
        "colab": {}
      },
      "source": [
        "#https://gomguard.tistory.com/243\n",
        "#파일 읽어오기\n",
        "DF <- fread(\"ftp://210.115.229.94/2020_datascience/6th_data/Pre_Season_Batter.csv\", header = T, encoding = \"UTF-8\") %>%\n",
        "  as_tibble()"
      ],
      "execution_count": 38,
      "outputs": []
    },
    {
      "cell_type": "markdown",
      "metadata": {
        "id": "z1o0mV3dYWIO",
        "colab_type": "text"
      },
      "source": [
        "* select"
      ]
    },
    {
      "cell_type": "code",
      "metadata": {
        "id": "nEwNYt1IZNcq",
        "colab_type": "code",
        "colab": {
          "base_uri": "https://localhost:8080/",
          "height": 269
        },
        "outputId": "b42f2ae6-ccb4-4801-9cfb-5d8339f0d0df"
      },
      "source": [
        "# base R 을 이용한 데이터 가져오기\n",
        "# 모든 행에서 batter_name 과 team 열의 데이터만 가져와라\n",
        "DF[, c(\"batter_name\", \"team\")] %>% show()"
      ],
      "execution_count": 39,
      "outputs": [
        {
          "output_type": "stream",
          "text": [
            "\u001b[90m# A tibble: 1,393 x 2\u001b[39m\n",
            "   batter_name team \n",
            "   \u001b[3m\u001b[90m<chr>\u001b[39m\u001b[23m       \u001b[3m\u001b[90m<chr>\u001b[39m\u001b[23m\n",
            "\u001b[90m 1\u001b[39m 가르시아    LG   \n",
            "\u001b[90m 2\u001b[39m 강경학      한화 \n",
            "\u001b[90m 3\u001b[39m 강경학      한화 \n",
            "\u001b[90m 4\u001b[39m 강경학      한화 \n",
            "\u001b[90m 5\u001b[39m 강경학      한화 \n",
            "\u001b[90m 6\u001b[39m 강경학      한화 \n",
            "\u001b[90m 7\u001b[39m 강구성      NC   \n",
            "\u001b[90m 8\u001b[39m 강구성      NC   \n",
            "\u001b[90m 9\u001b[39m 강구성      NC   \n",
            "\u001b[90m10\u001b[39m 김태완      한화 \n",
            "\u001b[90m# … with 1,383 more rows\u001b[39m\n"
          ],
          "name": "stdout"
        }
      ]
    },
    {
      "cell_type": "code",
      "metadata": {
        "id": "1i7XycuFad7M",
        "colab_type": "code",
        "colab": {
          "base_uri": "https://localhost:8080/",
          "height": 269
        },
        "outputId": "ca14c9ce-a27b-49d1-cbbf-1f17e1800c8e"
      },
      "source": [
        "# dplyr\n",
        "# 파이프 연산(%>%) 을 이용하면 읽고 쓰기가 쉬워진다.\n",
        "# 왼쪽에서 오른쪽으로 읽어갈 수 있다.\n",
        "# DF의 데이터 프레임에서,  batter_name 과 team 열의 데이터만 가져와라\n",
        "# select는 사용하고자 하는 열을 추출한다. select(사용할df, 가져올 열)\n",
        "DF %>% select(., batter_name, team) %>% show()"
      ],
      "execution_count": 4,
      "outputs": [
        {
          "output_type": "stream",
          "text": [
            "\u001b[90m# A tibble: 1,393 x 2\u001b[39m\n",
            "   batter_name team \n",
            "   \u001b[3m\u001b[90m<chr>\u001b[39m\u001b[23m       \u001b[3m\u001b[90m<chr>\u001b[39m\u001b[23m\n",
            "\u001b[90m 1\u001b[39m 가르시아    LG   \n",
            "\u001b[90m 2\u001b[39m 강경학      한화 \n",
            "\u001b[90m 3\u001b[39m 강경학      한화 \n",
            "\u001b[90m 4\u001b[39m 강경학      한화 \n",
            "\u001b[90m 5\u001b[39m 강경학      한화 \n",
            "\u001b[90m 6\u001b[39m 강경학      한화 \n",
            "\u001b[90m 7\u001b[39m 강구성      NC   \n",
            "\u001b[90m 8\u001b[39m 강구성      NC   \n",
            "\u001b[90m 9\u001b[39m 강구성      NC   \n",
            "\u001b[90m10\u001b[39m 김태완      한화 \n",
            "\u001b[90m# … with 1,383 more rows\u001b[39m\n"
          ],
          "name": "stdout"
        }
      ]
    },
    {
      "cell_type": "code",
      "metadata": {
        "id": "qwAt20hJccRV",
        "colab_type": "code",
        "colab": {
          "base_uri": "https://localhost:8080/",
          "height": 323
        },
        "outputId": "3921b744-c837-44c2-e017-02c2dd03e68e"
      },
      "source": [
        "# DF 에서 batter_name 과 team 열의 데이터만 빼고 가져와라\n",
        "DF %>% select(., -batter_name, -team) %>% show()"
      ],
      "execution_count": 5,
      "outputs": [
        {
          "output_type": "stream",
          "text": [
            "\u001b[90m# A tibble: 1,393 x 27\u001b[39m\n",
            "   batter_id  year avg       G    AB     R     H  `2B`  `3B`    HR    TB   RBI\n",
            "       \u001b[3m\u001b[90m<int>\u001b[39m\u001b[23m \u001b[3m\u001b[90m<int>\u001b[39m\u001b[23m \u001b[3m\u001b[90m<chr>\u001b[39m\u001b[23m \u001b[3m\u001b[90m<int>\u001b[39m\u001b[23m \u001b[3m\u001b[90m<int>\u001b[39m\u001b[23m \u001b[3m\u001b[90m<int>\u001b[39m\u001b[23m \u001b[3m\u001b[90m<int>\u001b[39m\u001b[23m \u001b[3m\u001b[90m<int>\u001b[39m\u001b[23m \u001b[3m\u001b[90m<int>\u001b[39m\u001b[23m \u001b[3m\u001b[90m<int>\u001b[39m\u001b[23m \u001b[3m\u001b[90m<int>\u001b[39m\u001b[23m \u001b[3m\u001b[90m<int>\u001b[39m\u001b[23m\n",
            "\u001b[90m 1\u001b[39m         0  \u001b[4m2\u001b[24m018 0.350     7    20     1     7     1     0     1    11     5\n",
            "\u001b[90m 2\u001b[39m         1  \u001b[4m2\u001b[24m011 0.000     4     2     2     0     0     0     0     0     1\n",
            "\u001b[90m 3\u001b[39m         1  \u001b[4m2\u001b[24m014 -         4     0     2     0     0     0     0     0     0\n",
            "\u001b[90m 4\u001b[39m         1  \u001b[4m2\u001b[24m015 0.130    10    23     3     3     0     0     0     3     1\n",
            "\u001b[90m 5\u001b[39m         1  \u001b[4m2\u001b[24m016 0.188    14    32     4     6     1     1     0     9     2\n",
            "\u001b[90m 6\u001b[39m         1  \u001b[4m2\u001b[24m017 0.222    11    36    10     8     0     0     2    14     4\n",
            "\u001b[90m 7\u001b[39m         2  \u001b[4m2\u001b[24m013 0.000     3     4     0     0     0     0     0     0     0\n",
            "\u001b[90m 8\u001b[39m         2  \u001b[4m2\u001b[24m016 0.000     3     1     0     0     0     0     0     0     0\n",
            "\u001b[90m 9\u001b[39m         2  \u001b[4m2\u001b[24m017 1.000     2     1     0     1     0     0     0     1     0\n",
            "\u001b[90m10\u001b[39m        69  \u001b[4m2\u001b[24m006 0.200    10    15     0     3     0     0     0     3     3\n",
            "\u001b[90m# … with 1,383 more rows, and 15 more variables: SB \u001b[3m\u001b[90m<int>\u001b[90m\u001b[23m, CS \u001b[3m\u001b[90m<int>\u001b[90m\u001b[23m, BB \u001b[3m\u001b[90m<int>\u001b[90m\u001b[23m,\u001b[39m\n",
            "\u001b[90m#   HBP \u001b[3m\u001b[90m<int>\u001b[90m\u001b[23m, SO \u001b[3m\u001b[90m<int>\u001b[90m\u001b[23m, GDP \u001b[3m\u001b[90m<int>\u001b[90m\u001b[23m, SLG \u001b[3m\u001b[90m<dbl>\u001b[90m\u001b[23m, OBP \u001b[3m\u001b[90m<dbl>\u001b[90m\u001b[23m, E \u001b[3m\u001b[90m<int>\u001b[90m\u001b[23m,\u001b[39m\n",
            "\u001b[90m#   `height/weight` \u001b[3m\u001b[90m<chr>\u001b[90m\u001b[23m, year_born \u001b[3m\u001b[90m<chr>\u001b[90m\u001b[23m, position \u001b[3m\u001b[90m<chr>\u001b[90m\u001b[23m, career \u001b[3m\u001b[90m<chr>\u001b[90m\u001b[23m,\u001b[39m\n",
            "\u001b[90m#   starting_salary \u001b[3m\u001b[90m<chr>\u001b[90m\u001b[23m, OPS \u001b[3m\u001b[90m<dbl>\u001b[90m\u001b[23m\u001b[39m\n"
          ],
          "name": "stdout"
        }
      ]
    },
    {
      "cell_type": "code",
      "metadata": {
        "id": "F7NFRVs2amN2",
        "colab_type": "code",
        "colab": {
          "base_uri": "https://localhost:8080/",
          "height": 269
        },
        "outputId": "db3eaaf7-232b-476d-95bc-d089f548567b"
      },
      "source": [
        "# 열의 이름을 바꿔서 가져올 수 도 있다. \n",
        "DF %>% select(., 이름 = batter_name, 팀 = team) %>% show()"
      ],
      "execution_count": 6,
      "outputs": [
        {
          "output_type": "stream",
          "text": [
            "\u001b[90m# A tibble: 1,393 x 2\u001b[39m\n",
            "   이름     팀   \n",
            "   \u001b[3m\u001b[90m<chr>\u001b[39m\u001b[23m    \u001b[3m\u001b[90m<chr>\u001b[39m\u001b[23m\n",
            "\u001b[90m 1\u001b[39m 가르시아 LG   \n",
            "\u001b[90m 2\u001b[39m 강경학   한화 \n",
            "\u001b[90m 3\u001b[39m 강경학   한화 \n",
            "\u001b[90m 4\u001b[39m 강경학   한화 \n",
            "\u001b[90m 5\u001b[39m 강경학   한화 \n",
            "\u001b[90m 6\u001b[39m 강경학   한화 \n",
            "\u001b[90m 7\u001b[39m 강구성   NC   \n",
            "\u001b[90m 8\u001b[39m 강구성   NC   \n",
            "\u001b[90m 9\u001b[39m 강구성   NC   \n",
            "\u001b[90m10\u001b[39m 김태완   한화 \n",
            "\u001b[90m# … with 1,383 more rows\u001b[39m\n"
          ],
          "name": "stdout"
        }
      ]
    },
    {
      "cell_type": "markdown",
      "metadata": {
        "id": "crvXVsrMdRuJ",
        "colab_type": "text"
      },
      "source": [
        "* filter --> `Extract rows that meet logical\n",
        "criteria`"
      ]
    },
    {
      "cell_type": "code",
      "metadata": {
        "id": "CbueMBl7cFx4",
        "colab_type": "code",
        "colab": {
          "base_uri": "https://localhost:8080/",
          "height": 323
        },
        "outputId": "31f2a738-44fb-4b0c-c96a-15634c95aed1"
      },
      "source": [
        "# base R\n",
        "# team이 한화인 행 값만 가져와라\n",
        "DF[DF$team == \"한화\", ] %>% show()"
      ],
      "execution_count": 7,
      "outputs": [
        {
          "output_type": "stream",
          "text": [
            "\u001b[90m# A tibble: 131 x 29\u001b[39m\n",
            "   batter_id batter_name  year team  avg       G    AB     R     H  `2B`  `3B`\n",
            "       \u001b[3m\u001b[90m<int>\u001b[39m\u001b[23m \u001b[3m\u001b[90m<chr>\u001b[39m\u001b[23m       \u001b[3m\u001b[90m<int>\u001b[39m\u001b[23m \u001b[3m\u001b[90m<chr>\u001b[39m\u001b[23m \u001b[3m\u001b[90m<chr>\u001b[39m\u001b[23m \u001b[3m\u001b[90m<int>\u001b[39m\u001b[23m \u001b[3m\u001b[90m<int>\u001b[39m\u001b[23m \u001b[3m\u001b[90m<int>\u001b[39m\u001b[23m \u001b[3m\u001b[90m<int>\u001b[39m\u001b[23m \u001b[3m\u001b[90m<int>\u001b[39m\u001b[23m \u001b[3m\u001b[90m<int>\u001b[39m\u001b[23m\n",
            "\u001b[90m 1\u001b[39m         1 강경학       \u001b[4m2\u001b[24m011 한화  0.000     4     2     2     0     0     0\n",
            "\u001b[90m 2\u001b[39m         1 강경학       \u001b[4m2\u001b[24m014 한화  -         4     0     2     0     0     0\n",
            "\u001b[90m 3\u001b[39m         1 강경학       \u001b[4m2\u001b[24m015 한화  0.130    10    23     3     3     0     0\n",
            "\u001b[90m 4\u001b[39m         1 강경학       \u001b[4m2\u001b[24m016 한화  0.188    14    32     4     6     1     1\n",
            "\u001b[90m 5\u001b[39m         1 강경학       \u001b[4m2\u001b[24m017 한화  0.222    11    36    10     8     0     0\n",
            "\u001b[90m 6\u001b[39m        69 김태완       \u001b[4m2\u001b[24m006 한화  0.200    10    15     0     3     0     0\n",
            "\u001b[90m 7\u001b[39m        69 김태완       \u001b[4m2\u001b[24m007 한화  0.318     8    22     4     7     3     0\n",
            "\u001b[90m 8\u001b[39m        69 김태완       \u001b[4m2\u001b[24m008 한화  0.375    10    24     3     9     1     0\n",
            "\u001b[90m 9\u001b[39m        69 김태완       \u001b[4m2\u001b[24m009 한화  0.320    10    25     5     8     3     0\n",
            "\u001b[90m10\u001b[39m        69 김태완       \u001b[4m2\u001b[24m010 한화  0.400     2     5     2     2     0     1\n",
            "\u001b[90m# … with 121 more rows, and 18 more variables: HR \u001b[3m\u001b[90m<int>\u001b[90m\u001b[23m, TB \u001b[3m\u001b[90m<int>\u001b[90m\u001b[23m, RBI \u001b[3m\u001b[90m<int>\u001b[90m\u001b[23m,\u001b[39m\n",
            "\u001b[90m#   SB \u001b[3m\u001b[90m<int>\u001b[90m\u001b[23m, CS \u001b[3m\u001b[90m<int>\u001b[90m\u001b[23m, BB \u001b[3m\u001b[90m<int>\u001b[90m\u001b[23m, HBP \u001b[3m\u001b[90m<int>\u001b[90m\u001b[23m, SO \u001b[3m\u001b[90m<int>\u001b[90m\u001b[23m, GDP \u001b[3m\u001b[90m<int>\u001b[90m\u001b[23m, SLG \u001b[3m\u001b[90m<dbl>\u001b[90m\u001b[23m,\u001b[39m\n",
            "\u001b[90m#   OBP \u001b[3m\u001b[90m<dbl>\u001b[90m\u001b[23m, E \u001b[3m\u001b[90m<int>\u001b[90m\u001b[23m, `height/weight` \u001b[3m\u001b[90m<chr>\u001b[90m\u001b[23m, year_born \u001b[3m\u001b[90m<chr>\u001b[90m\u001b[23m, position \u001b[3m\u001b[90m<chr>\u001b[90m\u001b[23m,\u001b[39m\n",
            "\u001b[90m#   career \u001b[3m\u001b[90m<chr>\u001b[90m\u001b[23m, starting_salary \u001b[3m\u001b[90m<chr>\u001b[90m\u001b[23m, OPS \u001b[3m\u001b[90m<dbl>\u001b[90m\u001b[23m\u001b[39m\n"
          ],
          "name": "stdout"
        }
      ]
    },
    {
      "cell_type": "code",
      "metadata": {
        "id": "R2mAQ1NnkMmH",
        "colab_type": "code",
        "colab": {
          "base_uri": "https://localhost:8080/",
          "height": 323
        },
        "outputId": "331b5486-3cab-4289-9111-cd7169d24775"
      },
      "source": [
        "# dplyr filter\n",
        "# filter는 조건에 따라 행을 추출해준다. filter(사용할df, 조건)\n",
        "DF %>% filter(., team == \"한화\") %>% show()"
      ],
      "execution_count": 8,
      "outputs": [
        {
          "output_type": "stream",
          "text": [
            "\u001b[90m# A tibble: 131 x 29\u001b[39m\n",
            "   batter_id batter_name  year team  avg       G    AB     R     H  `2B`  `3B`\n",
            "       \u001b[3m\u001b[90m<int>\u001b[39m\u001b[23m \u001b[3m\u001b[90m<chr>\u001b[39m\u001b[23m       \u001b[3m\u001b[90m<int>\u001b[39m\u001b[23m \u001b[3m\u001b[90m<chr>\u001b[39m\u001b[23m \u001b[3m\u001b[90m<chr>\u001b[39m\u001b[23m \u001b[3m\u001b[90m<int>\u001b[39m\u001b[23m \u001b[3m\u001b[90m<int>\u001b[39m\u001b[23m \u001b[3m\u001b[90m<int>\u001b[39m\u001b[23m \u001b[3m\u001b[90m<int>\u001b[39m\u001b[23m \u001b[3m\u001b[90m<int>\u001b[39m\u001b[23m \u001b[3m\u001b[90m<int>\u001b[39m\u001b[23m\n",
            "\u001b[90m 1\u001b[39m         1 강경학       \u001b[4m2\u001b[24m011 한화  0.000     4     2     2     0     0     0\n",
            "\u001b[90m 2\u001b[39m         1 강경학       \u001b[4m2\u001b[24m014 한화  -         4     0     2     0     0     0\n",
            "\u001b[90m 3\u001b[39m         1 강경학       \u001b[4m2\u001b[24m015 한화  0.130    10    23     3     3     0     0\n",
            "\u001b[90m 4\u001b[39m         1 강경학       \u001b[4m2\u001b[24m016 한화  0.188    14    32     4     6     1     1\n",
            "\u001b[90m 5\u001b[39m         1 강경학       \u001b[4m2\u001b[24m017 한화  0.222    11    36    10     8     0     0\n",
            "\u001b[90m 6\u001b[39m        69 김태완       \u001b[4m2\u001b[24m006 한화  0.200    10    15     0     3     0     0\n",
            "\u001b[90m 7\u001b[39m        69 김태완       \u001b[4m2\u001b[24m007 한화  0.318     8    22     4     7     3     0\n",
            "\u001b[90m 8\u001b[39m        69 김태완       \u001b[4m2\u001b[24m008 한화  0.375    10    24     3     9     1     0\n",
            "\u001b[90m 9\u001b[39m        69 김태완       \u001b[4m2\u001b[24m009 한화  0.320    10    25     5     8     3     0\n",
            "\u001b[90m10\u001b[39m        69 김태완       \u001b[4m2\u001b[24m010 한화  0.400     2     5     2     2     0     1\n",
            "\u001b[90m# … with 121 more rows, and 18 more variables: HR \u001b[3m\u001b[90m<int>\u001b[90m\u001b[23m, TB \u001b[3m\u001b[90m<int>\u001b[90m\u001b[23m, RBI \u001b[3m\u001b[90m<int>\u001b[90m\u001b[23m,\u001b[39m\n",
            "\u001b[90m#   SB \u001b[3m\u001b[90m<int>\u001b[90m\u001b[23m, CS \u001b[3m\u001b[90m<int>\u001b[90m\u001b[23m, BB \u001b[3m\u001b[90m<int>\u001b[90m\u001b[23m, HBP \u001b[3m\u001b[90m<int>\u001b[90m\u001b[23m, SO \u001b[3m\u001b[90m<int>\u001b[90m\u001b[23m, GDP \u001b[3m\u001b[90m<int>\u001b[90m\u001b[23m, SLG \u001b[3m\u001b[90m<dbl>\u001b[90m\u001b[23m,\u001b[39m\n",
            "\u001b[90m#   OBP \u001b[3m\u001b[90m<dbl>\u001b[90m\u001b[23m, E \u001b[3m\u001b[90m<int>\u001b[90m\u001b[23m, `height/weight` \u001b[3m\u001b[90m<chr>\u001b[90m\u001b[23m, year_born \u001b[3m\u001b[90m<chr>\u001b[90m\u001b[23m, position \u001b[3m\u001b[90m<chr>\u001b[90m\u001b[23m,\u001b[39m\n",
            "\u001b[90m#   career \u001b[3m\u001b[90m<chr>\u001b[90m\u001b[23m, starting_salary \u001b[3m\u001b[90m<chr>\u001b[90m\u001b[23m, OPS \u001b[3m\u001b[90m<dbl>\u001b[90m\u001b[23m\u001b[39m\n"
          ],
          "name": "stdout"
        }
      ]
    },
    {
      "cell_type": "code",
      "metadata": {
        "id": "AyPFNMeckWJw",
        "colab_type": "code",
        "colab": {}
      },
      "source": [
        ""
      ],
      "execution_count": 9,
      "outputs": []
    },
    {
      "cell_type": "code",
      "metadata": {
        "id": "EyjxakwjegnA",
        "colab_type": "code",
        "colab": {
          "base_uri": "https://localhost:8080/",
          "height": 269
        },
        "outputId": "076dbb8b-288a-4193-b813-59d49b669760"
      },
      "source": [
        "# base R\n",
        "DF[DF$team == \"한화\" & DF$G >= 5, c(\"team\",\"batter_name\", \"G\", \"AB\")] %>% show()"
      ],
      "execution_count": 10,
      "outputs": [
        {
          "output_type": "stream",
          "text": [
            "\u001b[90m# A tibble: 104 x 4\u001b[39m\n",
            "   team  batter_name     G    AB\n",
            "   \u001b[3m\u001b[90m<chr>\u001b[39m\u001b[23m \u001b[3m\u001b[90m<chr>\u001b[39m\u001b[23m       \u001b[3m\u001b[90m<int>\u001b[39m\u001b[23m \u001b[3m\u001b[90m<int>\u001b[39m\u001b[23m\n",
            "\u001b[90m 1\u001b[39m 한화  강경학         10    23\n",
            "\u001b[90m 2\u001b[39m 한화  강경학         14    32\n",
            "\u001b[90m 3\u001b[39m 한화  강경학         11    36\n",
            "\u001b[90m 4\u001b[39m 한화  김태완         10    15\n",
            "\u001b[90m 5\u001b[39m 한화  김태완          8    22\n",
            "\u001b[90m 6\u001b[39m 한화  김태완         10    24\n",
            "\u001b[90m 7\u001b[39m 한화  김태완         10    25\n",
            "\u001b[90m 8\u001b[39m 한화  김태완          9    28\n",
            "\u001b[90m 9\u001b[39m 한화  김태완         10    16\n",
            "\u001b[90m10\u001b[39m 한화  강상원          6     0\n",
            "\u001b[90m# … with 94 more rows\u001b[39m\n"
          ],
          "name": "stdout"
        }
      ]
    },
    {
      "cell_type": "code",
      "metadata": {
        "id": "nzfmJALdglbO",
        "colab_type": "code",
        "colab": {
          "base_uri": "https://localhost:8080/",
          "height": 269
        },
        "outputId": "c9a71804-7569-45ea-ee01-c2a5cf1c375b"
      },
      "source": [
        "DF %>% filter(., team == \"한화\" & G >=5) %>% \n",
        " select(., team, batter_name, G, AB) %>% show()"
      ],
      "execution_count": 11,
      "outputs": [
        {
          "output_type": "stream",
          "text": [
            "\u001b[90m# A tibble: 104 x 4\u001b[39m\n",
            "   team  batter_name     G    AB\n",
            "   \u001b[3m\u001b[90m<chr>\u001b[39m\u001b[23m \u001b[3m\u001b[90m<chr>\u001b[39m\u001b[23m       \u001b[3m\u001b[90m<int>\u001b[39m\u001b[23m \u001b[3m\u001b[90m<int>\u001b[39m\u001b[23m\n",
            "\u001b[90m 1\u001b[39m 한화  강경학         10    23\n",
            "\u001b[90m 2\u001b[39m 한화  강경학         14    32\n",
            "\u001b[90m 3\u001b[39m 한화  강경학         11    36\n",
            "\u001b[90m 4\u001b[39m 한화  김태완         10    15\n",
            "\u001b[90m 5\u001b[39m 한화  김태완          8    22\n",
            "\u001b[90m 6\u001b[39m 한화  김태완         10    24\n",
            "\u001b[90m 7\u001b[39m 한화  김태완         10    25\n",
            "\u001b[90m 8\u001b[39m 한화  김태완          9    28\n",
            "\u001b[90m 9\u001b[39m 한화  김태완         10    16\n",
            "\u001b[90m10\u001b[39m 한화  강상원          6     0\n",
            "\u001b[90m# … with 94 more rows\u001b[39m\n"
          ],
          "name": "stdout"
        }
      ]
    },
    {
      "cell_type": "code",
      "metadata": {
        "id": "6JkH_jWKnsSt",
        "colab_type": "code",
        "colab": {}
      },
      "source": [
        ""
      ],
      "execution_count": 12,
      "outputs": []
    },
    {
      "cell_type": "markdown",
      "metadata": {
        "id": "Uf3747YDxKbq",
        "colab_type": "text"
      },
      "source": [
        "\n",
        "* groupby, summarise\n",
        "\n",
        "``https://dplyr.tidyverse.org/reference/group_by.html``\n",
        "\n",
        "``https://datascienceschool.net/view-notebook/e288a67ff8f9425b8cd511c7078a7b1b/``\n",
        "\n",
        "![대체 텍스트](https://img1.daumcdn.net/thumb/R800x0/?scode=mtistory2&fname=https%3A%2F%2Ft1.daumcdn.net%2Fcfile%2Ftistory%2F9978503F5B8264490F))"
      ]
    },
    {
      "cell_type": "code",
      "metadata": {
        "id": "oERtM4qwxL9-",
        "colab_type": "code",
        "colab": {
          "base_uri": "https://localhost:8080/",
          "height": 341
        },
        "outputId": "ade55a9c-d455-44ab-928c-51715666129b"
      },
      "source": [
        "# 그룹연산(group_by) => 보통 summarize함수와 함께 이용되어, 그룹별로 함수연산을 가능하게 해준다.\n",
        "# 1단계 : splite(원하는 그룹을 생성) =>\n",
        "# 2단계 : apply(각 그룹별로 함수 적용) => \n",
        "# 3단계 : combine(각 그룹별로 계산된 value로 지정한 데이터가 생성된다.)\n",
        "\n",
        "# team별로 그룹화 된다.\n",
        "DF %>% group_by(team) %>% show()"
      ],
      "execution_count": 40,
      "outputs": [
        {
          "output_type": "stream",
          "text": [
            "\u001b[90m# A tibble: 1,393 x 29\u001b[39m\n",
            "\u001b[90m# Groups:   team [13]\u001b[39m\n",
            "   batter_id batter_name  year team  avg       G    AB     R     H  `2B`  `3B`\n",
            "       \u001b[3m\u001b[90m<int>\u001b[39m\u001b[23m \u001b[3m\u001b[90m<chr>\u001b[39m\u001b[23m       \u001b[3m\u001b[90m<int>\u001b[39m\u001b[23m \u001b[3m\u001b[90m<chr>\u001b[39m\u001b[23m \u001b[3m\u001b[90m<chr>\u001b[39m\u001b[23m \u001b[3m\u001b[90m<int>\u001b[39m\u001b[23m \u001b[3m\u001b[90m<int>\u001b[39m\u001b[23m \u001b[3m\u001b[90m<int>\u001b[39m\u001b[23m \u001b[3m\u001b[90m<int>\u001b[39m\u001b[23m \u001b[3m\u001b[90m<int>\u001b[39m\u001b[23m \u001b[3m\u001b[90m<int>\u001b[39m\u001b[23m\n",
            "\u001b[90m 1\u001b[39m         0 가르시아     \u001b[4m2\u001b[24m018 LG    0.350     7    20     1     7     1     0\n",
            "\u001b[90m 2\u001b[39m         1 강경학       \u001b[4m2\u001b[24m011 한화  0.000     4     2     2     0     0     0\n",
            "\u001b[90m 3\u001b[39m         1 강경학       \u001b[4m2\u001b[24m014 한화  -         4     0     2     0     0     0\n",
            "\u001b[90m 4\u001b[39m         1 강경학       \u001b[4m2\u001b[24m015 한화  0.130    10    23     3     3     0     0\n",
            "\u001b[90m 5\u001b[39m         1 강경학       \u001b[4m2\u001b[24m016 한화  0.188    14    32     4     6     1     1\n",
            "\u001b[90m 6\u001b[39m         1 강경학       \u001b[4m2\u001b[24m017 한화  0.222    11    36    10     8     0     0\n",
            "\u001b[90m 7\u001b[39m         2 강구성       \u001b[4m2\u001b[24m013 NC    0.000     3     4     0     0     0     0\n",
            "\u001b[90m 8\u001b[39m         2 강구성       \u001b[4m2\u001b[24m016 NC    0.000     3     1     0     0     0     0\n",
            "\u001b[90m 9\u001b[39m         2 강구성       \u001b[4m2\u001b[24m017 NC    1.000     2     1     0     1     0     0\n",
            "\u001b[90m10\u001b[39m        69 김태완       \u001b[4m2\u001b[24m006 한화  0.200    10    15     0     3     0     0\n",
            "\u001b[90m# … with 1,383 more rows, and 18 more variables: HR \u001b[3m\u001b[90m<int>\u001b[90m\u001b[23m, TB \u001b[3m\u001b[90m<int>\u001b[90m\u001b[23m, RBI \u001b[3m\u001b[90m<int>\u001b[90m\u001b[23m,\u001b[39m\n",
            "\u001b[90m#   SB \u001b[3m\u001b[90m<int>\u001b[90m\u001b[23m, CS \u001b[3m\u001b[90m<int>\u001b[90m\u001b[23m, BB \u001b[3m\u001b[90m<int>\u001b[90m\u001b[23m, HBP \u001b[3m\u001b[90m<int>\u001b[90m\u001b[23m, SO \u001b[3m\u001b[90m<int>\u001b[90m\u001b[23m, GDP \u001b[3m\u001b[90m<int>\u001b[90m\u001b[23m, SLG \u001b[3m\u001b[90m<dbl>\u001b[90m\u001b[23m,\u001b[39m\n",
            "\u001b[90m#   OBP \u001b[3m\u001b[90m<dbl>\u001b[90m\u001b[23m, E \u001b[3m\u001b[90m<int>\u001b[90m\u001b[23m, `height/weight` \u001b[3m\u001b[90m<chr>\u001b[90m\u001b[23m, year_born \u001b[3m\u001b[90m<chr>\u001b[90m\u001b[23m, position \u001b[3m\u001b[90m<chr>\u001b[90m\u001b[23m,\u001b[39m\n",
            "\u001b[90m#   career \u001b[3m\u001b[90m<chr>\u001b[90m\u001b[23m, starting_salary \u001b[3m\u001b[90m<chr>\u001b[90m\u001b[23m, OPS \u001b[3m\u001b[90m<dbl>\u001b[90m\u001b[23m\u001b[39m\n"
          ],
          "name": "stdout"
        }
      ]
    },
    {
      "cell_type": "code",
      "metadata": {
        "id": "BsT0gH8f0waO",
        "colab_type": "code",
        "colab": {
          "base_uri": "https://localhost:8080/",
          "height": 341
        },
        "outputId": "dbdd72e1-87bc-4c5c-b97c-aee5c560f2cd"
      },
      "source": [
        "# 팀별로 G,AB,R 의 연산이 진행된다. \n",
        "DF %>% group_by(team) %>% summarise(., G_AVG = mean(G), AB_A = mean(AB), R_SUM = sum(R)) %>% show()"
      ],
      "execution_count": 41,
      "outputs": [
        {
          "output_type": "stream",
          "text": [
            "`summarise()` ungrouping output (override with `.groups` argument)\n",
            "\n"
          ],
          "name": "stderr"
        },
        {
          "output_type": "stream",
          "text": [
            "\u001b[90m# A tibble: 13 x 4\u001b[39m\n",
            "   team     G_AVG  AB_A R_SUM\n",
            "   \u001b[3m\u001b[90m<chr>\u001b[39m\u001b[23m    \u001b[3m\u001b[90m<dbl>\u001b[39m\u001b[23m \u001b[3m\u001b[90m<dbl>\u001b[39m\u001b[23m \u001b[3m\u001b[90m<int>\u001b[39m\u001b[23m\n",
            "\u001b[90m 1\u001b[39m KIA       7.87  16.8   321\n",
            "\u001b[90m 2\u001b[39m KT        7.63  16.3   143\n",
            "\u001b[90m 3\u001b[39m LG        8.74  20.3   500\n",
            "\u001b[90m 4\u001b[39m NC        8.49  17     195\n",
            "\u001b[90m 5\u001b[39m SK        8.37  19.9   426\n",
            "\u001b[90m 6\u001b[39m 넥센      9.10  19.0   315\n",
            "\u001b[90m 7\u001b[39m 두산     10.7   22.1   601\n",
            "\u001b[90m 8\u001b[39m 롯데      8.21  17.7   424\n",
            "\u001b[90m 9\u001b[39m 삼성      8.79  20.1   416\n",
            "\u001b[90m10\u001b[39m 우리      7.33  17.3    10\n",
            "\u001b[90m11\u001b[39m 한화      7.76  18.2   335\n",
            "\u001b[90m12\u001b[39m 현대     10.1   25.3    42\n",
            "\u001b[90m13\u001b[39m 히어로즈  8.2   15.6     5\n"
          ],
          "name": "stdout"
        }
      ]
    },
    {
      "cell_type": "code",
      "metadata": {
        "id": "ojEPWRVU3r8f",
        "colab_type": "code",
        "colab": {
          "base_uri": "https://localhost:8080/",
          "height": 1000
        },
        "outputId": "e1b57f5c-d909-499d-d2da-17c838a933fd"
      },
      "source": [
        "DF %>% group_by(team, batter_name) %>% summarise(., G_AVG = mean(G), AB_AVG = mean(AB), R_AVG = mean(R))"
      ],
      "execution_count": 42,
      "outputs": [
        {
          "output_type": "stream",
          "text": [
            "`summarise()` regrouping output by 'team' (override with `.groups` argument)\n",
            "\n"
          ],
          "name": "stderr"
        },
        {
          "output_type": "display_data",
          "data": {
            "text/plain": [
              "    team     batter_name G_AVG     AB_AVG    R_AVG     \n",
              "1   KIA      강한울       7.500000 19.500000  3.5000000\n",
              "2   KIA      김민식       7.500000 12.000000  1.5000000\n",
              "3   KIA      김선빈      10.000000 22.333333  3.2222222\n",
              "4   KIA      김주찬       8.000000 19.000000  2.5000000\n",
              "5   KIA      김주형       7.727273 17.545455  1.9090909\n",
              "6   KIA      나지완       9.900000 27.700000  3.9000000\n",
              "7   KIA      노수광       2.500000  3.000000  0.0000000\n",
              "8   KIA      박준태      12.000000 18.500000  3.5000000\n",
              "9   KIA      백용환       6.600000 11.800000  1.4000000\n",
              "10  KIA      버나디나     6.500000 17.500000  3.5000000\n",
              "11  KIA      서동욱       6.333333 10.166667  1.5000000\n",
              "12  KIA      신범수       5.500000  9.500000  1.0000000\n",
              "13  KIA      신종길       8.833333 21.833333  4.0000000\n",
              "14  KIA      안치홍       8.375000 24.625000  2.7500000\n",
              "15  KIA      유민상       2.000000  3.000000  0.0000000\n",
              "16  KIA      유재신       5.000000  3.000000  2.0000000\n",
              "17  KIA      윤정우      12.500000 19.000000  4.0000000\n",
              "18  KIA      이대형      11.000000 28.000000 11.0000000\n",
              "19  KIA      이명기       7.500000 21.500000  2.5000000\n",
              "20  KIA      이범호       7.000000 15.500000  1.5000000\n",
              "21  KIA      이성우       7.571429  9.142857  1.2857143\n",
              "22  KIA      이영욱       5.000000  7.000000  3.0000000\n",
              "23  KIA      이용규       7.555556 24.888889  3.0000000\n",
              "24  KIA      이인행       9.000000 15.000000  1.0000000\n",
              "25  KIA      이준호       7.000000  7.750000  1.5000000\n",
              "26  KIA      이호신       9.200000  9.200000  2.2000000\n",
              "27  KIA      정성훈       8.500000 18.500000  3.5000000\n",
              "28  KIA      최원준       6.000000 13.000000  1.6666667\n",
              "29  KIA      최형우       5.500000 14.000000  3.0000000\n",
              "30  KIA      한승택       5.666667  6.000000  0.6666667\n",
              "⋮   ⋮        ⋮           ⋮         ⋮         ⋮         \n",
              "307 한화     오선진       7.000000 12.222222 1.3333333 \n",
              "308 한화     이대수       9.500000 24.500000 3.5000000 \n",
              "309 한화     이동훈       6.666667  4.000000 2.6666667 \n",
              "310 한화     이범호       9.625000 29.000000 4.7500000 \n",
              "311 한화     이성열       8.750000 20.250000 2.7500000 \n",
              "312 한화     이용규       7.500000 22.000000 4.0000000 \n",
              "313 한화     이준수       2.000000  0.500000 0.0000000 \n",
              "314 한화     장민석      12.000000 37.000000 6.0000000 \n",
              "315 한화     장진혁       3.000000  2.000000 0.0000000 \n",
              "316 한화     정경운       6.000000  7.000000 1.0000000 \n",
              "317 한화     정근우       9.000000 28.666667 3.0000000 \n",
              "318 한화     정범모       6.000000  8.000000 0.6666667 \n",
              "319 한화     지성준       8.000000 17.000000 2.0000000 \n",
              "320 한화     최윤석       5.333333  7.666667 1.0000000 \n",
              "321 한화     최재훈       8.000000 15.000000 3.0000000 \n",
              "322 한화     최진행       8.153846 22.230769 2.1538462 \n",
              "323 한화     하주석       6.200000 14.800000 1.8000000 \n",
              "324 한화     한승택      10.000000 15.000000 0.0000000 \n",
              "325 한화     허도환       7.500000 10.000000 1.5000000 \n",
              "326 한화     호잉         6.000000 16.000000 3.0000000 \n",
              "327 현대     유한준      11.000000 26.666667 2.0000000 \n",
              "328 현대     이택근      10.600000 24.400000 2.2000000 \n",
              "329 현대     정성훈      11.600000 38.000000 3.4000000 \n",
              "330 현대     조평호      10.000000 15.000000 0.0000000 \n",
              "331 현대     지석훈       6.750000 12.250000 2.0000000 \n",
              "332 히어로즈 오재일      12.000000 33.000000 1.0000000 \n",
              "333 히어로즈 유재신       8.000000  4.000000 0.0000000 \n",
              "334 히어로즈 이택근       1.000000  3.000000 0.0000000 \n",
              "335 히어로즈 장영석       9.000000  7.000000 0.0000000 \n",
              "336 히어로즈 황재균      11.000000 31.000000 4.0000000 "
            ],
            "text/latex": "A grouped\\_df: 336 × 5\n\\begin{tabular}{lllll}\n team & batter\\_name & G\\_AVG & AB\\_AVG & R\\_AVG\\\\\n <chr> & <chr> & <dbl> & <dbl> & <dbl>\\\\\n\\hline\n\t KIA & 강한울   &  7.500000 & 19.500000 &  3.5000000\\\\\n\t KIA & 김민식   &  7.500000 & 12.000000 &  1.5000000\\\\\n\t KIA & 김선빈   & 10.000000 & 22.333333 &  3.2222222\\\\\n\t KIA & 김주찬   &  8.000000 & 19.000000 &  2.5000000\\\\\n\t KIA & 김주형   &  7.727273 & 17.545455 &  1.9090909\\\\\n\t KIA & 나지완   &  9.900000 & 27.700000 &  3.9000000\\\\\n\t KIA & 노수광   &  2.500000 &  3.000000 &  0.0000000\\\\\n\t KIA & 박준태   & 12.000000 & 18.500000 &  3.5000000\\\\\n\t KIA & 백용환   &  6.600000 & 11.800000 &  1.4000000\\\\\n\t KIA & 버나디나 &  6.500000 & 17.500000 &  3.5000000\\\\\n\t KIA & 서동욱   &  6.333333 & 10.166667 &  1.5000000\\\\\n\t KIA & 신범수   &  5.500000 &  9.500000 &  1.0000000\\\\\n\t KIA & 신종길   &  8.833333 & 21.833333 &  4.0000000\\\\\n\t KIA & 안치홍   &  8.375000 & 24.625000 &  2.7500000\\\\\n\t KIA & 유민상   &  2.000000 &  3.000000 &  0.0000000\\\\\n\t KIA & 유재신   &  5.000000 &  3.000000 &  2.0000000\\\\\n\t KIA & 윤정우   & 12.500000 & 19.000000 &  4.0000000\\\\\n\t KIA & 이대형   & 11.000000 & 28.000000 & 11.0000000\\\\\n\t KIA & 이명기   &  7.500000 & 21.500000 &  2.5000000\\\\\n\t KIA & 이범호   &  7.000000 & 15.500000 &  1.5000000\\\\\n\t KIA & 이성우   &  7.571429 &  9.142857 &  1.2857143\\\\\n\t KIA & 이영욱   &  5.000000 &  7.000000 &  3.0000000\\\\\n\t KIA & 이용규   &  7.555556 & 24.888889 &  3.0000000\\\\\n\t KIA & 이인행   &  9.000000 & 15.000000 &  1.0000000\\\\\n\t KIA & 이준호   &  7.000000 &  7.750000 &  1.5000000\\\\\n\t KIA & 이호신   &  9.200000 &  9.200000 &  2.2000000\\\\\n\t KIA & 정성훈   &  8.500000 & 18.500000 &  3.5000000\\\\\n\t KIA & 최원준   &  6.000000 & 13.000000 &  1.6666667\\\\\n\t KIA & 최형우   &  5.500000 & 14.000000 &  3.0000000\\\\\n\t KIA & 한승택   &  5.666667 &  6.000000 &  0.6666667\\\\\n\t ⋮ & ⋮ & ⋮ & ⋮ & ⋮\\\\\n\t 한화     & 오선진 &  7.000000 & 12.222222 & 1.3333333\\\\\n\t 한화     & 이대수 &  9.500000 & 24.500000 & 3.5000000\\\\\n\t 한화     & 이동훈 &  6.666667 &  4.000000 & 2.6666667\\\\\n\t 한화     & 이범호 &  9.625000 & 29.000000 & 4.7500000\\\\\n\t 한화     & 이성열 &  8.750000 & 20.250000 & 2.7500000\\\\\n\t 한화     & 이용규 &  7.500000 & 22.000000 & 4.0000000\\\\\n\t 한화     & 이준수 &  2.000000 &  0.500000 & 0.0000000\\\\\n\t 한화     & 장민석 & 12.000000 & 37.000000 & 6.0000000\\\\\n\t 한화     & 장진혁 &  3.000000 &  2.000000 & 0.0000000\\\\\n\t 한화     & 정경운 &  6.000000 &  7.000000 & 1.0000000\\\\\n\t 한화     & 정근우 &  9.000000 & 28.666667 & 3.0000000\\\\\n\t 한화     & 정범모 &  6.000000 &  8.000000 & 0.6666667\\\\\n\t 한화     & 지성준 &  8.000000 & 17.000000 & 2.0000000\\\\\n\t 한화     & 최윤석 &  5.333333 &  7.666667 & 1.0000000\\\\\n\t 한화     & 최재훈 &  8.000000 & 15.000000 & 3.0000000\\\\\n\t 한화     & 최진행 &  8.153846 & 22.230769 & 2.1538462\\\\\n\t 한화     & 하주석 &  6.200000 & 14.800000 & 1.8000000\\\\\n\t 한화     & 한승택 & 10.000000 & 15.000000 & 0.0000000\\\\\n\t 한화     & 허도환 &  7.500000 & 10.000000 & 1.5000000\\\\\n\t 한화     & 호잉   &  6.000000 & 16.000000 & 3.0000000\\\\\n\t 현대     & 유한준 & 11.000000 & 26.666667 & 2.0000000\\\\\n\t 현대     & 이택근 & 10.600000 & 24.400000 & 2.2000000\\\\\n\t 현대     & 정성훈 & 11.600000 & 38.000000 & 3.4000000\\\\\n\t 현대     & 조평호 & 10.000000 & 15.000000 & 0.0000000\\\\\n\t 현대     & 지석훈 &  6.750000 & 12.250000 & 2.0000000\\\\\n\t 히어로즈 & 오재일 & 12.000000 & 33.000000 & 1.0000000\\\\\n\t 히어로즈 & 유재신 &  8.000000 &  4.000000 & 0.0000000\\\\\n\t 히어로즈 & 이택근 &  1.000000 &  3.000000 & 0.0000000\\\\\n\t 히어로즈 & 장영석 &  9.000000 &  7.000000 & 0.0000000\\\\\n\t 히어로즈 & 황재균 & 11.000000 & 31.000000 & 4.0000000\\\\\n\\end{tabular}\n",
            "text/markdown": "\nA grouped_df: 336 × 5\n\n| team &lt;chr&gt; | batter_name &lt;chr&gt; | G_AVG &lt;dbl&gt; | AB_AVG &lt;dbl&gt; | R_AVG &lt;dbl&gt; |\n|---|---|---|---|---|\n| KIA | 강한울   |  7.500000 | 19.500000 |  3.5000000 |\n| KIA | 김민식   |  7.500000 | 12.000000 |  1.5000000 |\n| KIA | 김선빈   | 10.000000 | 22.333333 |  3.2222222 |\n| KIA | 김주찬   |  8.000000 | 19.000000 |  2.5000000 |\n| KIA | 김주형   |  7.727273 | 17.545455 |  1.9090909 |\n| KIA | 나지완   |  9.900000 | 27.700000 |  3.9000000 |\n| KIA | 노수광   |  2.500000 |  3.000000 |  0.0000000 |\n| KIA | 박준태   | 12.000000 | 18.500000 |  3.5000000 |\n| KIA | 백용환   |  6.600000 | 11.800000 |  1.4000000 |\n| KIA | 버나디나 |  6.500000 | 17.500000 |  3.5000000 |\n| KIA | 서동욱   |  6.333333 | 10.166667 |  1.5000000 |\n| KIA | 신범수   |  5.500000 |  9.500000 |  1.0000000 |\n| KIA | 신종길   |  8.833333 | 21.833333 |  4.0000000 |\n| KIA | 안치홍   |  8.375000 | 24.625000 |  2.7500000 |\n| KIA | 유민상   |  2.000000 |  3.000000 |  0.0000000 |\n| KIA | 유재신   |  5.000000 |  3.000000 |  2.0000000 |\n| KIA | 윤정우   | 12.500000 | 19.000000 |  4.0000000 |\n| KIA | 이대형   | 11.000000 | 28.000000 | 11.0000000 |\n| KIA | 이명기   |  7.500000 | 21.500000 |  2.5000000 |\n| KIA | 이범호   |  7.000000 | 15.500000 |  1.5000000 |\n| KIA | 이성우   |  7.571429 |  9.142857 |  1.2857143 |\n| KIA | 이영욱   |  5.000000 |  7.000000 |  3.0000000 |\n| KIA | 이용규   |  7.555556 | 24.888889 |  3.0000000 |\n| KIA | 이인행   |  9.000000 | 15.000000 |  1.0000000 |\n| KIA | 이준호   |  7.000000 |  7.750000 |  1.5000000 |\n| KIA | 이호신   |  9.200000 |  9.200000 |  2.2000000 |\n| KIA | 정성훈   |  8.500000 | 18.500000 |  3.5000000 |\n| KIA | 최원준   |  6.000000 | 13.000000 |  1.6666667 |\n| KIA | 최형우   |  5.500000 | 14.000000 |  3.0000000 |\n| KIA | 한승택   |  5.666667 |  6.000000 |  0.6666667 |\n| ⋮ | ⋮ | ⋮ | ⋮ | ⋮ |\n| 한화     | 오선진 |  7.000000 | 12.222222 | 1.3333333 |\n| 한화     | 이대수 |  9.500000 | 24.500000 | 3.5000000 |\n| 한화     | 이동훈 |  6.666667 |  4.000000 | 2.6666667 |\n| 한화     | 이범호 |  9.625000 | 29.000000 | 4.7500000 |\n| 한화     | 이성열 |  8.750000 | 20.250000 | 2.7500000 |\n| 한화     | 이용규 |  7.500000 | 22.000000 | 4.0000000 |\n| 한화     | 이준수 |  2.000000 |  0.500000 | 0.0000000 |\n| 한화     | 장민석 | 12.000000 | 37.000000 | 6.0000000 |\n| 한화     | 장진혁 |  3.000000 |  2.000000 | 0.0000000 |\n| 한화     | 정경운 |  6.000000 |  7.000000 | 1.0000000 |\n| 한화     | 정근우 |  9.000000 | 28.666667 | 3.0000000 |\n| 한화     | 정범모 |  6.000000 |  8.000000 | 0.6666667 |\n| 한화     | 지성준 |  8.000000 | 17.000000 | 2.0000000 |\n| 한화     | 최윤석 |  5.333333 |  7.666667 | 1.0000000 |\n| 한화     | 최재훈 |  8.000000 | 15.000000 | 3.0000000 |\n| 한화     | 최진행 |  8.153846 | 22.230769 | 2.1538462 |\n| 한화     | 하주석 |  6.200000 | 14.800000 | 1.8000000 |\n| 한화     | 한승택 | 10.000000 | 15.000000 | 0.0000000 |\n| 한화     | 허도환 |  7.500000 | 10.000000 | 1.5000000 |\n| 한화     | 호잉   |  6.000000 | 16.000000 | 3.0000000 |\n| 현대     | 유한준 | 11.000000 | 26.666667 | 2.0000000 |\n| 현대     | 이택근 | 10.600000 | 24.400000 | 2.2000000 |\n| 현대     | 정성훈 | 11.600000 | 38.000000 | 3.4000000 |\n| 현대     | 조평호 | 10.000000 | 15.000000 | 0.0000000 |\n| 현대     | 지석훈 |  6.750000 | 12.250000 | 2.0000000 |\n| 히어로즈 | 오재일 | 12.000000 | 33.000000 | 1.0000000 |\n| 히어로즈 | 유재신 |  8.000000 |  4.000000 | 0.0000000 |\n| 히어로즈 | 이택근 |  1.000000 |  3.000000 | 0.0000000 |\n| 히어로즈 | 장영석 |  9.000000 |  7.000000 | 0.0000000 |\n| 히어로즈 | 황재균 | 11.000000 | 31.000000 | 4.0000000 |\n\n",
            "text/html": [
              "<table>\n",
              "<caption>A grouped_df: 336 × 5</caption>\n",
              "<thead>\n",
              "\t<tr><th scope=col>team</th><th scope=col>batter_name</th><th scope=col>G_AVG</th><th scope=col>AB_AVG</th><th scope=col>R_AVG</th></tr>\n",
              "\t<tr><th scope=col>&lt;chr&gt;</th><th scope=col>&lt;chr&gt;</th><th scope=col>&lt;dbl&gt;</th><th scope=col>&lt;dbl&gt;</th><th scope=col>&lt;dbl&gt;</th></tr>\n",
              "</thead>\n",
              "<tbody>\n",
              "\t<tr><td>KIA</td><td>강한울  </td><td> 7.500000</td><td>19.500000</td><td> 3.5000000</td></tr>\n",
              "\t<tr><td>KIA</td><td>김민식  </td><td> 7.500000</td><td>12.000000</td><td> 1.5000000</td></tr>\n",
              "\t<tr><td>KIA</td><td>김선빈  </td><td>10.000000</td><td>22.333333</td><td> 3.2222222</td></tr>\n",
              "\t<tr><td>KIA</td><td>김주찬  </td><td> 8.000000</td><td>19.000000</td><td> 2.5000000</td></tr>\n",
              "\t<tr><td>KIA</td><td>김주형  </td><td> 7.727273</td><td>17.545455</td><td> 1.9090909</td></tr>\n",
              "\t<tr><td>KIA</td><td>나지완  </td><td> 9.900000</td><td>27.700000</td><td> 3.9000000</td></tr>\n",
              "\t<tr><td>KIA</td><td>노수광  </td><td> 2.500000</td><td> 3.000000</td><td> 0.0000000</td></tr>\n",
              "\t<tr><td>KIA</td><td>박준태  </td><td>12.000000</td><td>18.500000</td><td> 3.5000000</td></tr>\n",
              "\t<tr><td>KIA</td><td>백용환  </td><td> 6.600000</td><td>11.800000</td><td> 1.4000000</td></tr>\n",
              "\t<tr><td>KIA</td><td>버나디나</td><td> 6.500000</td><td>17.500000</td><td> 3.5000000</td></tr>\n",
              "\t<tr><td>KIA</td><td>서동욱  </td><td> 6.333333</td><td>10.166667</td><td> 1.5000000</td></tr>\n",
              "\t<tr><td>KIA</td><td>신범수  </td><td> 5.500000</td><td> 9.500000</td><td> 1.0000000</td></tr>\n",
              "\t<tr><td>KIA</td><td>신종길  </td><td> 8.833333</td><td>21.833333</td><td> 4.0000000</td></tr>\n",
              "\t<tr><td>KIA</td><td>안치홍  </td><td> 8.375000</td><td>24.625000</td><td> 2.7500000</td></tr>\n",
              "\t<tr><td>KIA</td><td>유민상  </td><td> 2.000000</td><td> 3.000000</td><td> 0.0000000</td></tr>\n",
              "\t<tr><td>KIA</td><td>유재신  </td><td> 5.000000</td><td> 3.000000</td><td> 2.0000000</td></tr>\n",
              "\t<tr><td>KIA</td><td>윤정우  </td><td>12.500000</td><td>19.000000</td><td> 4.0000000</td></tr>\n",
              "\t<tr><td>KIA</td><td>이대형  </td><td>11.000000</td><td>28.000000</td><td>11.0000000</td></tr>\n",
              "\t<tr><td>KIA</td><td>이명기  </td><td> 7.500000</td><td>21.500000</td><td> 2.5000000</td></tr>\n",
              "\t<tr><td>KIA</td><td>이범호  </td><td> 7.000000</td><td>15.500000</td><td> 1.5000000</td></tr>\n",
              "\t<tr><td>KIA</td><td>이성우  </td><td> 7.571429</td><td> 9.142857</td><td> 1.2857143</td></tr>\n",
              "\t<tr><td>KIA</td><td>이영욱  </td><td> 5.000000</td><td> 7.000000</td><td> 3.0000000</td></tr>\n",
              "\t<tr><td>KIA</td><td>이용규  </td><td> 7.555556</td><td>24.888889</td><td> 3.0000000</td></tr>\n",
              "\t<tr><td>KIA</td><td>이인행  </td><td> 9.000000</td><td>15.000000</td><td> 1.0000000</td></tr>\n",
              "\t<tr><td>KIA</td><td>이준호  </td><td> 7.000000</td><td> 7.750000</td><td> 1.5000000</td></tr>\n",
              "\t<tr><td>KIA</td><td>이호신  </td><td> 9.200000</td><td> 9.200000</td><td> 2.2000000</td></tr>\n",
              "\t<tr><td>KIA</td><td>정성훈  </td><td> 8.500000</td><td>18.500000</td><td> 3.5000000</td></tr>\n",
              "\t<tr><td>KIA</td><td>최원준  </td><td> 6.000000</td><td>13.000000</td><td> 1.6666667</td></tr>\n",
              "\t<tr><td>KIA</td><td>최형우  </td><td> 5.500000</td><td>14.000000</td><td> 3.0000000</td></tr>\n",
              "\t<tr><td>KIA</td><td>한승택  </td><td> 5.666667</td><td> 6.000000</td><td> 0.6666667</td></tr>\n",
              "\t<tr><td>⋮</td><td>⋮</td><td>⋮</td><td>⋮</td><td>⋮</td></tr>\n",
              "\t<tr><td>한화    </td><td>오선진</td><td> 7.000000</td><td>12.222222</td><td>1.3333333</td></tr>\n",
              "\t<tr><td>한화    </td><td>이대수</td><td> 9.500000</td><td>24.500000</td><td>3.5000000</td></tr>\n",
              "\t<tr><td>한화    </td><td>이동훈</td><td> 6.666667</td><td> 4.000000</td><td>2.6666667</td></tr>\n",
              "\t<tr><td>한화    </td><td>이범호</td><td> 9.625000</td><td>29.000000</td><td>4.7500000</td></tr>\n",
              "\t<tr><td>한화    </td><td>이성열</td><td> 8.750000</td><td>20.250000</td><td>2.7500000</td></tr>\n",
              "\t<tr><td>한화    </td><td>이용규</td><td> 7.500000</td><td>22.000000</td><td>4.0000000</td></tr>\n",
              "\t<tr><td>한화    </td><td>이준수</td><td> 2.000000</td><td> 0.500000</td><td>0.0000000</td></tr>\n",
              "\t<tr><td>한화    </td><td>장민석</td><td>12.000000</td><td>37.000000</td><td>6.0000000</td></tr>\n",
              "\t<tr><td>한화    </td><td>장진혁</td><td> 3.000000</td><td> 2.000000</td><td>0.0000000</td></tr>\n",
              "\t<tr><td>한화    </td><td>정경운</td><td> 6.000000</td><td> 7.000000</td><td>1.0000000</td></tr>\n",
              "\t<tr><td>한화    </td><td>정근우</td><td> 9.000000</td><td>28.666667</td><td>3.0000000</td></tr>\n",
              "\t<tr><td>한화    </td><td>정범모</td><td> 6.000000</td><td> 8.000000</td><td>0.6666667</td></tr>\n",
              "\t<tr><td>한화    </td><td>지성준</td><td> 8.000000</td><td>17.000000</td><td>2.0000000</td></tr>\n",
              "\t<tr><td>한화    </td><td>최윤석</td><td> 5.333333</td><td> 7.666667</td><td>1.0000000</td></tr>\n",
              "\t<tr><td>한화    </td><td>최재훈</td><td> 8.000000</td><td>15.000000</td><td>3.0000000</td></tr>\n",
              "\t<tr><td>한화    </td><td>최진행</td><td> 8.153846</td><td>22.230769</td><td>2.1538462</td></tr>\n",
              "\t<tr><td>한화    </td><td>하주석</td><td> 6.200000</td><td>14.800000</td><td>1.8000000</td></tr>\n",
              "\t<tr><td>한화    </td><td>한승택</td><td>10.000000</td><td>15.000000</td><td>0.0000000</td></tr>\n",
              "\t<tr><td>한화    </td><td>허도환</td><td> 7.500000</td><td>10.000000</td><td>1.5000000</td></tr>\n",
              "\t<tr><td>한화    </td><td>호잉  </td><td> 6.000000</td><td>16.000000</td><td>3.0000000</td></tr>\n",
              "\t<tr><td>현대    </td><td>유한준</td><td>11.000000</td><td>26.666667</td><td>2.0000000</td></tr>\n",
              "\t<tr><td>현대    </td><td>이택근</td><td>10.600000</td><td>24.400000</td><td>2.2000000</td></tr>\n",
              "\t<tr><td>현대    </td><td>정성훈</td><td>11.600000</td><td>38.000000</td><td>3.4000000</td></tr>\n",
              "\t<tr><td>현대    </td><td>조평호</td><td>10.000000</td><td>15.000000</td><td>0.0000000</td></tr>\n",
              "\t<tr><td>현대    </td><td>지석훈</td><td> 6.750000</td><td>12.250000</td><td>2.0000000</td></tr>\n",
              "\t<tr><td>히어로즈</td><td>오재일</td><td>12.000000</td><td>33.000000</td><td>1.0000000</td></tr>\n",
              "\t<tr><td>히어로즈</td><td>유재신</td><td> 8.000000</td><td> 4.000000</td><td>0.0000000</td></tr>\n",
              "\t<tr><td>히어로즈</td><td>이택근</td><td> 1.000000</td><td> 3.000000</td><td>0.0000000</td></tr>\n",
              "\t<tr><td>히어로즈</td><td>장영석</td><td> 9.000000</td><td> 7.000000</td><td>0.0000000</td></tr>\n",
              "\t<tr><td>히어로즈</td><td>황재균</td><td>11.000000</td><td>31.000000</td><td>4.0000000</td></tr>\n",
              "</tbody>\n",
              "</table>\n"
            ]
          },
          "metadata": {
            "tags": []
          }
        }
      ]
    },
    {
      "cell_type": "markdown",
      "metadata": {
        "colab_type": "text",
        "id": "-JT-e47Yu5nd"
      },
      "source": [
        "##2. dplyr(``arrange,rename,mutate,sample_frac/n ``)"
      ]
    },
    {
      "cell_type": "markdown",
      "metadata": {
        "colab_type": "text",
        "id": "oqteJub_u5nz"
      },
      "source": [
        "* ``arrange``\n",
        "  1. 지정한 열을 기준으로 작은 값으로부터 큰 값의 순(오름차순)으로 데이터를 정렬.    역순 정렬(내림차순) ``desc()``"
      ]
    },
    {
      "cell_type": "code",
      "metadata": {
        "id": "ypYYIm2LVmhn",
        "colab_type": "code",
        "colab": {
          "base_uri": "https://localhost:8080/",
          "height": 323
        },
        "outputId": "a40b1ebf-dcfe-4565-e51c-b78814aa6dfe"
      },
      "source": [
        "DF %>% show()"
      ],
      "execution_count": 43,
      "outputs": [
        {
          "output_type": "stream",
          "text": [
            "\u001b[90m# A tibble: 1,393 x 29\u001b[39m\n",
            "   batter_id batter_name  year team  avg       G    AB     R     H  `2B`  `3B`\n",
            "       \u001b[3m\u001b[90m<int>\u001b[39m\u001b[23m \u001b[3m\u001b[90m<chr>\u001b[39m\u001b[23m       \u001b[3m\u001b[90m<int>\u001b[39m\u001b[23m \u001b[3m\u001b[90m<chr>\u001b[39m\u001b[23m \u001b[3m\u001b[90m<chr>\u001b[39m\u001b[23m \u001b[3m\u001b[90m<int>\u001b[39m\u001b[23m \u001b[3m\u001b[90m<int>\u001b[39m\u001b[23m \u001b[3m\u001b[90m<int>\u001b[39m\u001b[23m \u001b[3m\u001b[90m<int>\u001b[39m\u001b[23m \u001b[3m\u001b[90m<int>\u001b[39m\u001b[23m \u001b[3m\u001b[90m<int>\u001b[39m\u001b[23m\n",
            "\u001b[90m 1\u001b[39m         0 가르시아     \u001b[4m2\u001b[24m018 LG    0.350     7    20     1     7     1     0\n",
            "\u001b[90m 2\u001b[39m         1 강경학       \u001b[4m2\u001b[24m011 한화  0.000     4     2     2     0     0     0\n",
            "\u001b[90m 3\u001b[39m         1 강경학       \u001b[4m2\u001b[24m014 한화  -         4     0     2     0     0     0\n",
            "\u001b[90m 4\u001b[39m         1 강경학       \u001b[4m2\u001b[24m015 한화  0.130    10    23     3     3     0     0\n",
            "\u001b[90m 5\u001b[39m         1 강경학       \u001b[4m2\u001b[24m016 한화  0.188    14    32     4     6     1     1\n",
            "\u001b[90m 6\u001b[39m         1 강경학       \u001b[4m2\u001b[24m017 한화  0.222    11    36    10     8     0     0\n",
            "\u001b[90m 7\u001b[39m         2 강구성       \u001b[4m2\u001b[24m013 NC    0.000     3     4     0     0     0     0\n",
            "\u001b[90m 8\u001b[39m         2 강구성       \u001b[4m2\u001b[24m016 NC    0.000     3     1     0     0     0     0\n",
            "\u001b[90m 9\u001b[39m         2 강구성       \u001b[4m2\u001b[24m017 NC    1.000     2     1     0     1     0     0\n",
            "\u001b[90m10\u001b[39m        69 김태완       \u001b[4m2\u001b[24m006 한화  0.200    10    15     0     3     0     0\n",
            "\u001b[90m# … with 1,383 more rows, and 18 more variables: HR \u001b[3m\u001b[90m<int>\u001b[90m\u001b[23m, TB \u001b[3m\u001b[90m<int>\u001b[90m\u001b[23m, RBI \u001b[3m\u001b[90m<int>\u001b[90m\u001b[23m,\u001b[39m\n",
            "\u001b[90m#   SB \u001b[3m\u001b[90m<int>\u001b[90m\u001b[23m, CS \u001b[3m\u001b[90m<int>\u001b[90m\u001b[23m, BB \u001b[3m\u001b[90m<int>\u001b[90m\u001b[23m, HBP \u001b[3m\u001b[90m<int>\u001b[90m\u001b[23m, SO \u001b[3m\u001b[90m<int>\u001b[90m\u001b[23m, GDP \u001b[3m\u001b[90m<int>\u001b[90m\u001b[23m, SLG \u001b[3m\u001b[90m<dbl>\u001b[90m\u001b[23m,\u001b[39m\n",
            "\u001b[90m#   OBP \u001b[3m\u001b[90m<dbl>\u001b[90m\u001b[23m, E \u001b[3m\u001b[90m<int>\u001b[90m\u001b[23m, `height/weight` \u001b[3m\u001b[90m<chr>\u001b[90m\u001b[23m, year_born \u001b[3m\u001b[90m<chr>\u001b[90m\u001b[23m, position \u001b[3m\u001b[90m<chr>\u001b[90m\u001b[23m,\u001b[39m\n",
            "\u001b[90m#   career \u001b[3m\u001b[90m<chr>\u001b[90m\u001b[23m, starting_salary \u001b[3m\u001b[90m<chr>\u001b[90m\u001b[23m, OPS \u001b[3m\u001b[90m<dbl>\u001b[90m\u001b[23m\u001b[39m\n"
          ],
          "name": "stdout"
        }
      ]
    },
    {
      "cell_type": "code",
      "metadata": {
        "colab_type": "code",
        "id": "K6-38JE4u5n0",
        "colab": {
          "base_uri": "https://localhost:8080/",
          "height": 1000
        },
        "outputId": "e800e607-92eb-4fc9-8802-f4b3c016c2c4"
      },
      "source": [
        "# year기준으로 오름차순 정렬된다.\n",
        "DF %>% arrange(year)"
      ],
      "execution_count": 44,
      "outputs": [
        {
          "output_type": "display_data",
          "data": {
            "text/plain": [
              "     batter_id batter_name year team avg   G   AB  R  H  2B ⋯ GDP SLG   OBP   E\n",
              "1     62       김주찬      2002 롯데 0.107  9  28  2   3 0  ⋯ 1   0.107 0.167 1\n",
              "2     67       김태균      2002 한화 0.235 11  34  7   8 5  ⋯ 0   0.471 0.333 2\n",
              "3    109       박기혁      2002 롯데 0.000  8   5  1   0 0  ⋯ 0   0.000 0.000 0\n",
              "4    119       박용택      2002 LG   -      1   0  0   0 0  ⋯ 0      NA    NA 0\n",
              "5    131       박한이      2002 삼성 0.319 11  47  7  15 3  ⋯ 1   0.447 0.360 0\n",
              "6    202       이대호      2002 롯데 0.359 11  39  4  14 3  ⋯ 1   0.513 0.375 1\n",
              "7    207       이범호      2002 한화 0.167  7   6  2   1 1  ⋯ 0   0.333 0.167 0\n",
              "8    283       조동찬      2002 삼성 0.000  4   1  0   0 0  ⋯ 0   0.000 0.000 0\n",
              "9    234       이진영      2002 SK   0.297 11  37  5  11 2  ⋯ 0   0.514 0.381 0\n",
              "10   269       정상호      2002 SK   0.158 13  19  3   3 1  ⋯ 0   0.368 0.304 5\n",
              "11   270       정성훈      2002 KIA  0.267 12  30  5   8 4  ⋯ 1   0.400 0.258 0\n",
              "12   319       최형우      2002 삼성 0.000  5   5  1   0 0  ⋯ 0   0.000 0.167 0\n",
              "13    24       김강민      2003 SK   -      3   0  1   0 0  ⋯ 0      NA    NA 0\n",
              "14    62       김주찬      2003 롯데 0.175 11  40  8   7 0  ⋯ 0   0.325 0.233 0\n",
              "15    67       김태균      2003 한화 0.115 10  26  2   3 1  ⋯ 0   0.154 0.303 1\n",
              "16    83       나주환      2003 두산 0.111 11   9  3   1 0  ⋯ 1   0.111 0.200 0\n",
              "17   105       박경수      2003 LG   0.067 12  15  1   1 0  ⋯ 0   0.067 0.222 0\n",
              "18   109       박기혁      2003 롯데 0.190 13  42  2   8 1  ⋯ 1   0.262 0.277 1\n",
              "19   119       박용택      2003 LG   0.256 13  43  7  11 3  ⋯ 0   0.395 0.313 0\n",
              "20   131       박한이      2003 삼성 0.212 12  33  3   7 1  ⋯ 0   0.242 0.308 1\n",
              "21   145       서동욱      2003 KIA  0.300  9  20  2   6 1  ⋯ 0   0.450 0.300 0\n",
              "22   163       신종길      2003 롯데 0.250  7   8  0   2 1  ⋯ 0   0.375 0.250 0\n",
              "23   201       이대형      2003 LG   0.167 13   6  4   1 1  ⋯ 0   0.333 0.286 0\n",
              "24   207       이범호      2003 한화 0.297 13  37  7  11 2  ⋯ 0   0.568 0.438 3\n",
              "25   211       이성열      2003 LG   0.000  2   1  0   0 0  ⋯ 0   0.000 0.000 0\n",
              "26   283       조동찬      2003 삼성 0.182  7  11  1   2 1  ⋯ 0   0.545 0.182 1\n",
              "27   234       이진영      2003 SK   0.171 13  41  3   7 1  ⋯ 1   0.268 0.209 0\n",
              "28   238       이택근      2003 현대 0.192 12  26  3   5 1  ⋯ 0   0.231 0.276 1\n",
              "29   269       정상호      2003 SK   0.150 12  20  1   3 0  ⋯ 1   0.150 0.227 2\n",
              "30   270       정성훈      2003 현대 0.068 13  44  2   3 1  ⋯ 1   0.091 0.146 2\n",
              "⋮    ⋮         ⋮           ⋮    ⋮    ⋮     ⋮   ⋮   ⋮  ⋮  ⋮  ⋱ ⋮   ⋮     ⋮     ⋮\n",
              "1364 282       정훈        2018 롯데 0.167   5   6  1  1 0  ⋯ 0   0.167 0.500 0\n",
              "1365 286       조수행      2018 두산 0.279 119 183 35 51 6  ⋯ 4   0.372 0.311 1\n",
              "1366 292       조홍석      2018 롯데 0.000   3   1  2  0 0  ⋯ 0   0.000 0.500 0\n",
              "1367 293       주효상      2018 넥센 0.375   5   8  1  3 2  ⋯ 1   0.625 0.375 0\n",
              "1368 294       지석훈      2018 NC   0.000   3   6  0  0 0  ⋯ 0   0.000 0.000 0\n",
              "1369 295       지성준      2018 한화 0.125   4   8  1  1 0  ⋯ 1   0.125 0.125 0\n",
              "1370 300       채은성      2018 LG   0.357   7  28  5 10 0  ⋯ 1   0.643 0.379 0\n",
              "1371 301       채태인      2018 롯데 0.286   4   7  2  2 0  ⋯ 0   0.286 0.400 0\n",
              "1372 302       초이스      2018 넥센 0.278   6  18  4  5 1  ⋯ 0   0.667 0.381 0\n",
              "1373 307       최승준      2018 SK   0.273   6  11  1  3 0  ⋯ 0   0.273 0.500 0\n",
              "1374 308       최영진      2018 삼성 0.429   6  14  1  6 1  ⋯ 0   0.500 0.400 0\n",
              "1375 310       최원준      2018 KIA  0.167   3   6  1  1 0  ⋯ 0   0.167 0.167 0\n",
              "1376 311       최윤석      2018 한화 0.000   2   1  0  0 0  ⋯ 0   0.000 0.500 0\n",
              "1377 312       최재훈      2018 한화 0.200   5  10  0  2 0  ⋯ 0   0.200 0.200 1\n",
              "1378 313       최정        2018 SK   0.125   6  16  3  2 0  ⋯ 0   0.125 0.333 2\n",
              "1379 315       최주환      2018 두산 0.583   6  12  4  7 1  ⋯ 0   0.917 0.643 0\n",
              "1380 316       최준석      2018 NC   0.400   5   5  0  2 0  ⋯ 0   0.400 0.500 0\n",
              "1381 317       최진행      2018 한화 0.105   6  19  1  2 0  ⋯ 0   0.105 0.227 1\n",
              "1382 318       최항        2018 SK   0.111   6   9  3  1 0  ⋯ 0   0.444 0.250 0\n",
              "1383 319       최형우      2018 KIA  0.500   4  14  3  7 1  ⋯ 0   1.000 0.500 0\n",
              "1384 324       하주석      2018 한화 0.222   6  18  3  4 0  ⋯ 0   0.556 0.300 2\n",
              "1385 326       한동민      2018 SK   0.316   6  19  2  6 2  ⋯ 1   0.579 0.350 0\n",
              "1386 327       한동희      2018 롯데 0.375   5  16  4  6 2  ⋯ 0   0.500 0.375 0\n",
              "1387 329       한승택      2018 KIA  0.000   4   1  0  0 0  ⋯ 0   0.000 0.667 0\n",
              "1388 331       허경민      2018 두산 0.600   6  15  3  9 3  ⋯ 0   0.800 0.684 0\n",
              "1389 332       허도환      2018 SK   0.000   4   4  0  0 0  ⋯ 1   0.000 0.000 0\n",
              "1390 334       호잉        2018 한화 0.250   6  16  3  4 0  ⋯ 0   0.688 0.278 0\n",
              "1391 337       홍재호      2018 KIA  0.333   1   3  0  1 0  ⋯ 0   0.333 0.333 0\n",
              "1392 341       황윤호      2018 KIA  0.000   5   2  1  0 0  ⋯ 0   0.000 0.000 0\n",
              "1393 342       황재균      2018 KT   0.250   6  16  3  4 1  ⋯ 0   0.500 0.333 3\n",
              "     height/weight year_born        position        \n",
              "1    183cm/94kg    1981년 03월 25일 내야수(우투우타)\n",
              "2    185cm/110kg   1982년 05월 29일 내야수(우투우타)\n",
              "3    179cm/77kg    1981년 06월 04일 내야수(우투우타)\n",
              "4    185cm/90kg    1979년 04월 21일 외야수(우투좌타)\n",
              "5    182cm/91kg    1979년 01월 28일 외야수(좌투좌타)\n",
              "6    194cm/130kg   1982년 06월 21일 내야수(우투우타)\n",
              "7    183cm/96kg    1981년 11월 25일 내야수(우투우타)\n",
              "8    180cm/80kg    1983년 07월 27일 내야수(우투우타)\n",
              "9    185cm/90kg    1980년 06월 15일 외야수(좌투좌타)\n",
              "10   187cm/100kg   1982년 12월 24일 포수(우투우타)  \n",
              "11   182cm/83kg    1980년 06월 27일 내야수(우투우타)\n",
              "12   180cm/106kg   1983년 12월 16일 외야수(우투좌타)\n",
              "13   182cm/85kg    1982년 09월 13일 외야수(우투우타)\n",
              "14   183cm/94kg    1981년 03월 25일 내야수(우투우타)\n",
              "15   185cm/110kg   1982년 05월 29일 내야수(우투우타)\n",
              "16   180cm/84kg    1984년 06월 14일 내야수(우투우타)\n",
              "17   178cm/80kg    1984년 03월 31일 내야수(우투우타)\n",
              "18   179cm/77kg    1981년 06월 04일 내야수(우투우타)\n",
              "19   185cm/90kg    1979년 04월 21일 외야수(우투좌타)\n",
              "20   182cm/91kg    1979년 01월 28일 외야수(좌투좌타)\n",
              "21   188cm/99kg    1984년 03월 21일 내야수(우투좌타)\n",
              "22   183cm/87kg    1983년 12월 31일 외야수(우투좌타)\n",
              "23   184cm/78kg    1983년 07월 19일 외야수(좌투좌타)\n",
              "24   183cm/96kg    1981년 11월 25일 내야수(우투우타)\n",
              "25   185cm/102kg   1984년 07월 13일 외야수(우투좌타)\n",
              "26   180cm/80kg    1983년 07월 27일 내야수(우투우타)\n",
              "27   185cm/90kg    1980년 06월 15일 외야수(좌투좌타)\n",
              "28   183cm/89kg    1980년 07월 10일 외야수(우투우타)\n",
              "29   187cm/100kg   1982년 12월 24일 포수(우투우타)  \n",
              "30   182cm/83kg    1980년 06월 27일 내야수(우투우타)\n",
              "⋮    ⋮             ⋮                ⋮               \n",
              "1364 180cm/85kg    1987년 07월 18일 내야수(우투우타)\n",
              "1365 178cm/73kg    1993년 08월 30일 외야수(우투좌타)\n",
              "1366 175cm/78kg    1990년 02월 23일 외야수(우투좌타)\n",
              "1367 182cm/85kg    1997년 11월 11일 포수(우투좌타)  \n",
              "1368 181cm/74kg    1984년 03월 17일 내야수(우투우타)\n",
              "1369 180cm/92kg    1994년 04월 10일 포수(우투우타)  \n",
              "1370 186cm/92kg    1990년 02월 06일 외야수(우투우타)\n",
              "1371 187cm/94kg    1982년 10월 11일 내야수(좌투좌타)\n",
              "1372 183cm/98kg    1989년 11월 10일 외야수(우투우타)\n",
              "1373 188cm/88kg    1988년 01월 11일 내야수(우투우타)\n",
              "1374 185cm/87kg    1988년 05월 10일 내야수(우투우타)\n",
              "1375 178cm/85kg    1997년 03월 23일 내야수(우투좌타)\n",
              "1376 175cm/75kg    1987년 03월 28일 내야수(우투우타)\n",
              "1377 178cm/76kg    1989년 08월 27일 포수(우투우타)  \n",
              "1378 180cm/90kg    1987년 02월 28일 내야수(우투우타)\n",
              "1379 178cm/73kg    1988년 02월 28일 내야수(우투좌타)\n",
              "1380 187cm/130kg   1983년 02월 15일 내야수(우투우타)\n",
              "1381 188cm/100kg   1985년 08월 17일 외야수(우투우타)\n",
              "1382 183cm/88kg    1994년 01월 03일 내야수(우투좌타)\n",
              "1383 180cm/106kg   1983년 12월 16일 외야수(우투좌타)\n",
              "1384 184cm/84kg    1994년 02월 25일 내야수(우투좌타)\n",
              "1385 190cm/95kg    1989년 08월 09일 외야수(우투좌타)\n",
              "1386 181cm/99kg    1999년 06월 01일 내야수(우투우타)\n",
              "1387 174cm/83kg    1994년 06월 21일 포수(우투우타)  \n",
              "1388 176cm/69kg    1990년 08월 26일 내야수(우투우타)\n",
              "1389 176cm/87kg    1984년 07월 31일 포수(우투우타)  \n",
              "1390 190cm/92kg    1989년 05월 18일 외야수(우투좌타)\n",
              "1391 180cm/79kg    1987년 05월 10일 내야수(우투우타)\n",
              "1392 177cm/78kg    1993년 09월 22일 내야수(우투우타)\n",
              "1393 183cm/96kg    1987년 07월 28일 내야수(우투우타)\n",
              "     career                                                        \n",
              "1    충암초(장충리틀)-충암중-충암고-삼성-롯데                      \n",
              "2    천안남산초-천안북중-북일고-(대전대)                           \n",
              "3    대구수창초-성광중-대구상고-롯데                               \n",
              "4    고명초-휘문중-휘문고-고려대                                   \n",
              "5    초량초-부산중-부산고-동국대                                   \n",
              "6    부산수영초-대동중-경남고-(영남사이버대)-롯데-시애틀           \n",
              "7    대구수창초-경운중-대구고-한화                                 \n",
              "8    공주중동초-공주중-공주고                                      \n",
              "9    군산초-군산남중-군산상고-쌍방울-SK-LG                         \n",
              "10   석천초-동인천중-동산고-SK-상무-SK                             \n",
              "11   송정동초-무등중-광주제일고-해태-KIA-현대-우리-LG              \n",
              "12   진북초-전주동중-전주고-삼성-경찰-삼성                         \n",
              "13   본리초-대구중-경북고                                          \n",
              "14   충암초(장충리틀)-충암중-충암고-삼성-롯데                      \n",
              "15   천안남산초-천안북중-북일고-(대전대)                           \n",
              "16   성동초(월드리틀)-휘문중-북일고-두산                           \n",
              "17   미성초-성남중-성남고-LG                                       \n",
              "18   대구수창초-성광중-대구상고-롯데                               \n",
              "19   고명초-휘문중-휘문고-고려대                                   \n",
              "20   초량초-부산중-부산고-동국대                                   \n",
              "21   서울학동초-휘문중-경기고-(전남과학대)-KIA-상무-LG-넥센        \n",
              "22   광주대성초-무등중-광주제일고-(동신대)-롯데-한화               \n",
              "23   광주서림초-무등중-광주제일고-LG-KIA                           \n",
              "24   대구수창초-경운중-대구고-한화                                 \n",
              "25   순천북초-이수중-효천고-LG-두산-넥센                           \n",
              "26   공주중동초-공주중-공주고                                      \n",
              "27   군산초-군산남중-군산상고-쌍방울-SK-LG                         \n",
              "28   배정초-대천중-경남상고-고려대-현대-우리-히어로즈-LG           \n",
              "29   석천초-동인천중-동산고-SK-상무-SK                             \n",
              "30   송정동초-무등중-광주제일고-해태-KIA-현대-우리-LG              \n",
              "⋮    ⋮                                                             \n",
              "1364 양덕초-마산동중-용마고                                        \n",
              "1365 노암초-경포중-강릉고-건국대                                   \n",
              "1366 광주화정초-영남중-배명고-원광대                               \n",
              "1367 역북초-강남중-서울고                                          \n",
              "1368 가동초-휘문중-휘문고-현대-우리-상무-넥센                      \n",
              "1369 청주우암초-청주중-청주고                                      \n",
              "1370 순천북초-순천이수중-효천고                                    \n",
              "1371 대신초-대동중-부산상고-삼성-넥센                              \n",
              "1372 미국 Texas at Arlington(대)                                   \n",
              "1373 인천서림초-동산중-동산고-LG                                   \n",
              "1374 영랑초-설악중-속초상고-한일장신대-LG-두산                     \n",
              "1375 연현초-서울경원중-서울고                                      \n",
              "1376 화곡초-덕수중-성남고-홍익대-SK-한화-경찰                      \n",
              "1377 화곡초-덕수중-덕수고-(방송통신대)-두산-경찰-두산              \n",
              "1378 대일초-평촌중-유신고                                          \n",
              "1379 학강초-광주동성중-광주동성고-두산-상무                        \n",
              "1380 칠성초-포철중-포철공고-(영남사이버대)-롯데-두산-롯데          \n",
              "1381 서울동원초-청량중-덕수정보고-(우송대)-한화-경찰               \n",
              "1382 대일초-매송중-유신고                                          \n",
              "1383 진북초-전주동중-전주고-삼성-경찰-삼성                         \n",
              "1384 강남초-덕수중-신일고-한화-상무                                \n",
              "1385 중앙초(해운대리틀)-대천중-경남고-경성대-SK-상무               \n",
              "1386 대연초-경남중-경남고                                          \n",
              "1387 잠전초(남양주리틀)-잠신중-덕수고-한화-경찰                    \n",
              "1388 송정동초-충장중-광주제일고-두산-경찰                          \n",
              "1389 서울학동초-이수중-서울고-단국대-두산-넥센-한화                \n",
              "1390 미국 Fort Loramie(고)-미국 Toledo(대)                         \n",
              "1391 부산대연초-대천중-부산고-고려대-KIA-경찰                      \n",
              "1392 수주초-신월중-장충고-NC-경찰-NC                               \n",
              "1393 사당초-이수중-경기고-현대-우리-히어로즈-넥센-롯데-샌프란시스코\n",
              "     starting_salary OPS  \n",
              "1    18000만원       0.274\n",
              "2    16000만원       0.804\n",
              "3    8000만원        0.000\n",
              "4    30000만원          NA\n",
              "5    30000만원       0.807\n",
              "6    21000만원       0.888\n",
              "7    11000만원       0.500\n",
              "8    12000만원       0.000\n",
              "9    10000만원       0.895\n",
              "10   45000만원       0.672\n",
              "11   15000만원       0.658\n",
              "12   5000만원        0.167\n",
              "13   11000만원          NA\n",
              "14   18000만원       0.558\n",
              "15   16000만원       0.457\n",
              "16   10000만원       0.311\n",
              "17   43000만원       0.289\n",
              "18   8000만원        0.539\n",
              "19   30000만원       0.708\n",
              "20   30000만원       0.550\n",
              "21   18000만원       0.750\n",
              "22   5000만원        0.625\n",
              "23   10000만원       0.619\n",
              "24   11000만원       1.006\n",
              "25   27000만원       0.000\n",
              "26   12000만원       0.727\n",
              "27   10000만원       0.477\n",
              "28   25000만원       0.507\n",
              "29   45000만원       0.377\n",
              "30   15000만원       0.237\n",
              "⋮    ⋮               ⋮    \n",
              "1364                 0.667\n",
              "1365 14000만원       0.683\n",
              "1366 7000만원        0.500\n",
              "1367 20000만원       1.000\n",
              "1368 25000만원       0.000\n",
              "1369                 0.250\n",
              "1370                 1.022\n",
              "1371 10000만원       0.686\n",
              "1372                 1.048\n",
              "1373 5000만원        0.773\n",
              "1374                 0.900\n",
              "1375 15000만원       0.334\n",
              "1376 6000만원        0.500\n",
              "1377                 0.400\n",
              "1378 30000만원       0.458\n",
              "1379 6000만원        1.560\n",
              "1380 3000만원        0.900\n",
              "1381 10000만원       0.332\n",
              "1382                 0.694\n",
              "1383 5000만원        1.500\n",
              "1384 30000만원       0.856\n",
              "1385 3000만원        0.929\n",
              "1386 18000만원       0.875\n",
              "1387 9000만원        0.667\n",
              "1388 13000만원       1.484\n",
              "1389                 0.000\n",
              "1390 300000달러      0.966\n",
              "1391 4000만원        0.666\n",
              "1392 3000만원        0.000\n",
              "1393 6000만원        0.833"
            ],
            "text/latex": "A tibble: 1393 × 29\n\\begin{tabular}{lllllllllllllllllllll}\n batter\\_id & batter\\_name & year & team & avg & G & AB & R & H & 2B & ⋯ & GDP & SLG & OBP & E & height/weight & year\\_born & position & career & starting\\_salary & OPS\\\\\n <int> & <chr> & <int> & <chr> & <chr> & <int> & <int> & <int> & <int> & <int> & ⋯ & <int> & <dbl> & <dbl> & <int> & <chr> & <chr> & <chr> & <chr> & <chr> & <dbl>\\\\\n\\hline\n\t  62 & 김주찬 & 2002 & 롯데 & 0.107 &  9 & 28 & 2 &  3 & 0 & ⋯ & 1 & 0.107 & 0.167 & 1 & 183cm/94kg  & 1981년 03월 25일 & 내야수(우투우타) & 충암초(장충리틀)-충암중-충암고-삼성-롯데               & 18000만원 & 0.274\\\\\n\t  67 & 김태균 & 2002 & 한화 & 0.235 & 11 & 34 & 7 &  8 & 5 & ⋯ & 0 & 0.471 & 0.333 & 2 & 185cm/110kg & 1982년 05월 29일 & 내야수(우투우타) & 천안남산초-천안북중-북일고-(대전대)                    & 16000만원 & 0.804\\\\\n\t 109 & 박기혁 & 2002 & 롯데 & 0.000 &  8 &  5 & 1 &  0 & 0 & ⋯ & 0 & 0.000 & 0.000 & 0 & 179cm/77kg  & 1981년 06월 04일 & 내야수(우투우타) & 대구수창초-성광중-대구상고-롯데                        & 8000만원  & 0.000\\\\\n\t 119 & 박용택 & 2002 & LG   & -     &  1 &  0 & 0 &  0 & 0 & ⋯ & 0 &    NA &    NA & 0 & 185cm/90kg  & 1979년 04월 21일 & 외야수(우투좌타) & 고명초-휘문중-휘문고-고려대                            & 30000만원 &    NA\\\\\n\t 131 & 박한이 & 2002 & 삼성 & 0.319 & 11 & 47 & 7 & 15 & 3 & ⋯ & 1 & 0.447 & 0.360 & 0 & 182cm/91kg  & 1979년 01월 28일 & 외야수(좌투좌타) & 초량초-부산중-부산고-동국대                            & 30000만원 & 0.807\\\\\n\t 202 & 이대호 & 2002 & 롯데 & 0.359 & 11 & 39 & 4 & 14 & 3 & ⋯ & 1 & 0.513 & 0.375 & 1 & 194cm/130kg & 1982년 06월 21일 & 내야수(우투우타) & 부산수영초-대동중-경남고-(영남사이버대)-롯데-시애틀    & 21000만원 & 0.888\\\\\n\t 207 & 이범호 & 2002 & 한화 & 0.167 &  7 &  6 & 2 &  1 & 1 & ⋯ & 0 & 0.333 & 0.167 & 0 & 183cm/96kg  & 1981년 11월 25일 & 내야수(우투우타) & 대구수창초-경운중-대구고-한화                          & 11000만원 & 0.500\\\\\n\t 283 & 조동찬 & 2002 & 삼성 & 0.000 &  4 &  1 & 0 &  0 & 0 & ⋯ & 0 & 0.000 & 0.000 & 0 & 180cm/80kg  & 1983년 07월 27일 & 내야수(우투우타) & 공주중동초-공주중-공주고                               & 12000만원 & 0.000\\\\\n\t 234 & 이진영 & 2002 & SK   & 0.297 & 11 & 37 & 5 & 11 & 2 & ⋯ & 0 & 0.514 & 0.381 & 0 & 185cm/90kg  & 1980년 06월 15일 & 외야수(좌투좌타) & 군산초-군산남중-군산상고-쌍방울-SK-LG                  & 10000만원 & 0.895\\\\\n\t 269 & 정상호 & 2002 & SK   & 0.158 & 13 & 19 & 3 &  3 & 1 & ⋯ & 0 & 0.368 & 0.304 & 5 & 187cm/100kg & 1982년 12월 24일 & 포수(우투우타)   & 석천초-동인천중-동산고-SK-상무-SK                      & 45000만원 & 0.672\\\\\n\t 270 & 정성훈 & 2002 & KIA  & 0.267 & 12 & 30 & 5 &  8 & 4 & ⋯ & 1 & 0.400 & 0.258 & 0 & 182cm/83kg  & 1980년 06월 27일 & 내야수(우투우타) & 송정동초-무등중-광주제일고-해태-KIA-현대-우리-LG       & 15000만원 & 0.658\\\\\n\t 319 & 최형우 & 2002 & 삼성 & 0.000 &  5 &  5 & 1 &  0 & 0 & ⋯ & 0 & 0.000 & 0.167 & 0 & 180cm/106kg & 1983년 12월 16일 & 외야수(우투좌타) & 진북초-전주동중-전주고-삼성-경찰-삼성                  & 5000만원  & 0.167\\\\\n\t  24 & 김강민 & 2003 & SK   & -     &  3 &  0 & 1 &  0 & 0 & ⋯ & 0 &    NA &    NA & 0 & 182cm/85kg  & 1982년 09월 13일 & 외야수(우투우타) & 본리초-대구중-경북고                                   & 11000만원 &    NA\\\\\n\t  62 & 김주찬 & 2003 & 롯데 & 0.175 & 11 & 40 & 8 &  7 & 0 & ⋯ & 0 & 0.325 & 0.233 & 0 & 183cm/94kg  & 1981년 03월 25일 & 내야수(우투우타) & 충암초(장충리틀)-충암중-충암고-삼성-롯데               & 18000만원 & 0.558\\\\\n\t  67 & 김태균 & 2003 & 한화 & 0.115 & 10 & 26 & 2 &  3 & 1 & ⋯ & 0 & 0.154 & 0.303 & 1 & 185cm/110kg & 1982년 05월 29일 & 내야수(우투우타) & 천안남산초-천안북중-북일고-(대전대)                    & 16000만원 & 0.457\\\\\n\t  83 & 나주환 & 2003 & 두산 & 0.111 & 11 &  9 & 3 &  1 & 0 & ⋯ & 1 & 0.111 & 0.200 & 0 & 180cm/84kg  & 1984년 06월 14일 & 내야수(우투우타) & 성동초(월드리틀)-휘문중-북일고-두산                    & 10000만원 & 0.311\\\\\n\t 105 & 박경수 & 2003 & LG   & 0.067 & 12 & 15 & 1 &  1 & 0 & ⋯ & 0 & 0.067 & 0.222 & 0 & 178cm/80kg  & 1984년 03월 31일 & 내야수(우투우타) & 미성초-성남중-성남고-LG                                & 43000만원 & 0.289\\\\\n\t 109 & 박기혁 & 2003 & 롯데 & 0.190 & 13 & 42 & 2 &  8 & 1 & ⋯ & 1 & 0.262 & 0.277 & 1 & 179cm/77kg  & 1981년 06월 04일 & 내야수(우투우타) & 대구수창초-성광중-대구상고-롯데                        & 8000만원  & 0.539\\\\\n\t 119 & 박용택 & 2003 & LG   & 0.256 & 13 & 43 & 7 & 11 & 3 & ⋯ & 0 & 0.395 & 0.313 & 0 & 185cm/90kg  & 1979년 04월 21일 & 외야수(우투좌타) & 고명초-휘문중-휘문고-고려대                            & 30000만원 & 0.708\\\\\n\t 131 & 박한이 & 2003 & 삼성 & 0.212 & 12 & 33 & 3 &  7 & 1 & ⋯ & 0 & 0.242 & 0.308 & 1 & 182cm/91kg  & 1979년 01월 28일 & 외야수(좌투좌타) & 초량초-부산중-부산고-동국대                            & 30000만원 & 0.550\\\\\n\t 145 & 서동욱 & 2003 & KIA  & 0.300 &  9 & 20 & 2 &  6 & 1 & ⋯ & 0 & 0.450 & 0.300 & 0 & 188cm/99kg  & 1984년 03월 21일 & 내야수(우투좌타) & 서울학동초-휘문중-경기고-(전남과학대)-KIA-상무-LG-넥센 & 18000만원 & 0.750\\\\\n\t 163 & 신종길 & 2003 & 롯데 & 0.250 &  7 &  8 & 0 &  2 & 1 & ⋯ & 0 & 0.375 & 0.250 & 0 & 183cm/87kg  & 1983년 12월 31일 & 외야수(우투좌타) & 광주대성초-무등중-광주제일고-(동신대)-롯데-한화        & 5000만원  & 0.625\\\\\n\t 201 & 이대형 & 2003 & LG   & 0.167 & 13 &  6 & 4 &  1 & 1 & ⋯ & 0 & 0.333 & 0.286 & 0 & 184cm/78kg  & 1983년 07월 19일 & 외야수(좌투좌타) & 광주서림초-무등중-광주제일고-LG-KIA                    & 10000만원 & 0.619\\\\\n\t 207 & 이범호 & 2003 & 한화 & 0.297 & 13 & 37 & 7 & 11 & 2 & ⋯ & 0 & 0.568 & 0.438 & 3 & 183cm/96kg  & 1981년 11월 25일 & 내야수(우투우타) & 대구수창초-경운중-대구고-한화                          & 11000만원 & 1.006\\\\\n\t 211 & 이성열 & 2003 & LG   & 0.000 &  2 &  1 & 0 &  0 & 0 & ⋯ & 0 & 0.000 & 0.000 & 0 & 185cm/102kg & 1984년 07월 13일 & 외야수(우투좌타) & 순천북초-이수중-효천고-LG-두산-넥센                    & 27000만원 & 0.000\\\\\n\t 283 & 조동찬 & 2003 & 삼성 & 0.182 &  7 & 11 & 1 &  2 & 1 & ⋯ & 0 & 0.545 & 0.182 & 1 & 180cm/80kg  & 1983년 07월 27일 & 내야수(우투우타) & 공주중동초-공주중-공주고                               & 12000만원 & 0.727\\\\\n\t 234 & 이진영 & 2003 & SK   & 0.171 & 13 & 41 & 3 &  7 & 1 & ⋯ & 1 & 0.268 & 0.209 & 0 & 185cm/90kg  & 1980년 06월 15일 & 외야수(좌투좌타) & 군산초-군산남중-군산상고-쌍방울-SK-LG                  & 10000만원 & 0.477\\\\\n\t 238 & 이택근 & 2003 & 현대 & 0.192 & 12 & 26 & 3 &  5 & 1 & ⋯ & 0 & 0.231 & 0.276 & 1 & 183cm/89kg  & 1980년 07월 10일 & 외야수(우투우타) & 배정초-대천중-경남상고-고려대-현대-우리-히어로즈-LG    & 25000만원 & 0.507\\\\\n\t 269 & 정상호 & 2003 & SK   & 0.150 & 12 & 20 & 1 &  3 & 0 & ⋯ & 1 & 0.150 & 0.227 & 2 & 187cm/100kg & 1982년 12월 24일 & 포수(우투우타)   & 석천초-동인천중-동산고-SK-상무-SK                      & 45000만원 & 0.377\\\\\n\t 270 & 정성훈 & 2003 & 현대 & 0.068 & 13 & 44 & 2 &  3 & 1 & ⋯ & 1 & 0.091 & 0.146 & 2 & 182cm/83kg  & 1980년 06월 27일 & 내야수(우투우타) & 송정동초-무등중-광주제일고-해태-KIA-현대-우리-LG       & 15000만원 & 0.237\\\\\n\t ⋮ & ⋮ & ⋮ & ⋮ & ⋮ & ⋮ & ⋮ & ⋮ & ⋮ & ⋮ & ⋱ & ⋮ & ⋮ & ⋮ & ⋮ & ⋮ & ⋮ & ⋮ & ⋮ & ⋮ & ⋮\\\\\n\t 282 & 정훈   & 2018 & 롯데 & 0.167 &   5 &   6 &  1 &  1 & 0 & ⋯ & 0 & 0.167 & 0.500 & 0 & 180cm/85kg  & 1987년 07월 18일 & 내야수(우투우타) & 양덕초-마산동중-용마고                                         &            & 0.667\\\\\n\t 286 & 조수행 & 2018 & 두산 & 0.279 & 119 & 183 & 35 & 51 & 6 & ⋯ & 4 & 0.372 & 0.311 & 1 & 178cm/73kg  & 1993년 08월 30일 & 외야수(우투좌타) & 노암초-경포중-강릉고-건국대                                    & 14000만원  & 0.683\\\\\n\t 292 & 조홍석 & 2018 & 롯데 & 0.000 &   3 &   1 &  2 &  0 & 0 & ⋯ & 0 & 0.000 & 0.500 & 0 & 175cm/78kg  & 1990년 02월 23일 & 외야수(우투좌타) & 광주화정초-영남중-배명고-원광대                                & 7000만원   & 0.500\\\\\n\t 293 & 주효상 & 2018 & 넥센 & 0.375 &   5 &   8 &  1 &  3 & 2 & ⋯ & 1 & 0.625 & 0.375 & 0 & 182cm/85kg  & 1997년 11월 11일 & 포수(우투좌타)   & 역북초-강남중-서울고                                           & 20000만원  & 1.000\\\\\n\t 294 & 지석훈 & 2018 & NC   & 0.000 &   3 &   6 &  0 &  0 & 0 & ⋯ & 0 & 0.000 & 0.000 & 0 & 181cm/74kg  & 1984년 03월 17일 & 내야수(우투우타) & 가동초-휘문중-휘문고-현대-우리-상무-넥센                       & 25000만원  & 0.000\\\\\n\t 295 & 지성준 & 2018 & 한화 & 0.125 &   4 &   8 &  1 &  1 & 0 & ⋯ & 1 & 0.125 & 0.125 & 0 & 180cm/92kg  & 1994년 04월 10일 & 포수(우투우타)   & 청주우암초-청주중-청주고                                       &            & 0.250\\\\\n\t 300 & 채은성 & 2018 & LG   & 0.357 &   7 &  28 &  5 & 10 & 0 & ⋯ & 1 & 0.643 & 0.379 & 0 & 186cm/92kg  & 1990년 02월 06일 & 외야수(우투우타) & 순천북초-순천이수중-효천고                                     &            & 1.022\\\\\n\t 301 & 채태인 & 2018 & 롯데 & 0.286 &   4 &   7 &  2 &  2 & 0 & ⋯ & 0 & 0.286 & 0.400 & 0 & 187cm/94kg  & 1982년 10월 11일 & 내야수(좌투좌타) & 대신초-대동중-부산상고-삼성-넥센                               & 10000만원  & 0.686\\\\\n\t 302 & 초이스 & 2018 & 넥센 & 0.278 &   6 &  18 &  4 &  5 & 1 & ⋯ & 0 & 0.667 & 0.381 & 0 & 183cm/98kg  & 1989년 11월 10일 & 외야수(우투우타) & 미국 Texas at Arlington(대)                                    &            & 1.048\\\\\n\t 307 & 최승준 & 2018 & SK   & 0.273 &   6 &  11 &  1 &  3 & 0 & ⋯ & 0 & 0.273 & 0.500 & 0 & 188cm/88kg  & 1988년 01월 11일 & 내야수(우투우타) & 인천서림초-동산중-동산고-LG                                    & 5000만원   & 0.773\\\\\n\t 308 & 최영진 & 2018 & 삼성 & 0.429 &   6 &  14 &  1 &  6 & 1 & ⋯ & 0 & 0.500 & 0.400 & 0 & 185cm/87kg  & 1988년 05월 10일 & 내야수(우투우타) & 영랑초-설악중-속초상고-한일장신대-LG-두산                      &            & 0.900\\\\\n\t 310 & 최원준 & 2018 & KIA  & 0.167 &   3 &   6 &  1 &  1 & 0 & ⋯ & 0 & 0.167 & 0.167 & 0 & 178cm/85kg  & 1997년 03월 23일 & 내야수(우투좌타) & 연현초-서울경원중-서울고                                       & 15000만원  & 0.334\\\\\n\t 311 & 최윤석 & 2018 & 한화 & 0.000 &   2 &   1 &  0 &  0 & 0 & ⋯ & 0 & 0.000 & 0.500 & 0 & 175cm/75kg  & 1987년 03월 28일 & 내야수(우투우타) & 화곡초-덕수중-성남고-홍익대-SK-한화-경찰                       & 6000만원   & 0.500\\\\\n\t 312 & 최재훈 & 2018 & 한화 & 0.200 &   5 &  10 &  0 &  2 & 0 & ⋯ & 0 & 0.200 & 0.200 & 1 & 178cm/76kg  & 1989년 08월 27일 & 포수(우투우타)   & 화곡초-덕수중-덕수고-(방송통신대)-두산-경찰-두산               &            & 0.400\\\\\n\t 313 & 최정   & 2018 & SK   & 0.125 &   6 &  16 &  3 &  2 & 0 & ⋯ & 0 & 0.125 & 0.333 & 2 & 180cm/90kg  & 1987년 02월 28일 & 내야수(우투우타) & 대일초-평촌중-유신고                                           & 30000만원  & 0.458\\\\\n\t 315 & 최주환 & 2018 & 두산 & 0.583 &   6 &  12 &  4 &  7 & 1 & ⋯ & 0 & 0.917 & 0.643 & 0 & 178cm/73kg  & 1988년 02월 28일 & 내야수(우투좌타) & 학강초-광주동성중-광주동성고-두산-상무                         & 6000만원   & 1.560\\\\\n\t 316 & 최준석 & 2018 & NC   & 0.400 &   5 &   5 &  0 &  2 & 0 & ⋯ & 0 & 0.400 & 0.500 & 0 & 187cm/130kg & 1983년 02월 15일 & 내야수(우투우타) & 칠성초-포철중-포철공고-(영남사이버대)-롯데-두산-롯데           & 3000만원   & 0.900\\\\\n\t 317 & 최진행 & 2018 & 한화 & 0.105 &   6 &  19 &  1 &  2 & 0 & ⋯ & 0 & 0.105 & 0.227 & 1 & 188cm/100kg & 1985년 08월 17일 & 외야수(우투우타) & 서울동원초-청량중-덕수정보고-(우송대)-한화-경찰                & 10000만원  & 0.332\\\\\n\t 318 & 최항   & 2018 & SK   & 0.111 &   6 &   9 &  3 &  1 & 0 & ⋯ & 0 & 0.444 & 0.250 & 0 & 183cm/88kg  & 1994년 01월 03일 & 내야수(우투좌타) & 대일초-매송중-유신고                                           &            & 0.694\\\\\n\t 319 & 최형우 & 2018 & KIA  & 0.500 &   4 &  14 &  3 &  7 & 1 & ⋯ & 0 & 1.000 & 0.500 & 0 & 180cm/106kg & 1983년 12월 16일 & 외야수(우투좌타) & 진북초-전주동중-전주고-삼성-경찰-삼성                          & 5000만원   & 1.500\\\\\n\t 324 & 하주석 & 2018 & 한화 & 0.222 &   6 &  18 &  3 &  4 & 0 & ⋯ & 0 & 0.556 & 0.300 & 2 & 184cm/84kg  & 1994년 02월 25일 & 내야수(우투좌타) & 강남초-덕수중-신일고-한화-상무                                 & 30000만원  & 0.856\\\\\n\t 326 & 한동민 & 2018 & SK   & 0.316 &   6 &  19 &  2 &  6 & 2 & ⋯ & 1 & 0.579 & 0.350 & 0 & 190cm/95kg  & 1989년 08월 09일 & 외야수(우투좌타) & 중앙초(해운대리틀)-대천중-경남고-경성대-SK-상무                & 3000만원   & 0.929\\\\\n\t 327 & 한동희 & 2018 & 롯데 & 0.375 &   5 &  16 &  4 &  6 & 2 & ⋯ & 0 & 0.500 & 0.375 & 0 & 181cm/99kg  & 1999년 06월 01일 & 내야수(우투우타) & 대연초-경남중-경남고                                           & 18000만원  & 0.875\\\\\n\t 329 & 한승택 & 2018 & KIA  & 0.000 &   4 &   1 &  0 &  0 & 0 & ⋯ & 0 & 0.000 & 0.667 & 0 & 174cm/83kg  & 1994년 06월 21일 & 포수(우투우타)   & 잠전초(남양주리틀)-잠신중-덕수고-한화-경찰                     & 9000만원   & 0.667\\\\\n\t 331 & 허경민 & 2018 & 두산 & 0.600 &   6 &  15 &  3 &  9 & 3 & ⋯ & 0 & 0.800 & 0.684 & 0 & 176cm/69kg  & 1990년 08월 26일 & 내야수(우투우타) & 송정동초-충장중-광주제일고-두산-경찰                           & 13000만원  & 1.484\\\\\n\t 332 & 허도환 & 2018 & SK   & 0.000 &   4 &   4 &  0 &  0 & 0 & ⋯ & 1 & 0.000 & 0.000 & 0 & 176cm/87kg  & 1984년 07월 31일 & 포수(우투우타)   & 서울학동초-이수중-서울고-단국대-두산-넥센-한화                 &            & 0.000\\\\\n\t 334 & 호잉   & 2018 & 한화 & 0.250 &   6 &  16 &  3 &  4 & 0 & ⋯ & 0 & 0.688 & 0.278 & 0 & 190cm/92kg  & 1989년 05월 18일 & 외야수(우투좌타) & 미국 Fort Loramie(고)-미국 Toledo(대)                          & 300000달러 & 0.966\\\\\n\t 337 & 홍재호 & 2018 & KIA  & 0.333 &   1 &   3 &  0 &  1 & 0 & ⋯ & 0 & 0.333 & 0.333 & 0 & 180cm/79kg  & 1987년 05월 10일 & 내야수(우투우타) & 부산대연초-대천중-부산고-고려대-KIA-경찰                       & 4000만원   & 0.666\\\\\n\t 341 & 황윤호 & 2018 & KIA  & 0.000 &   5 &   2 &  1 &  0 & 0 & ⋯ & 0 & 0.000 & 0.000 & 0 & 177cm/78kg  & 1993년 09월 22일 & 내야수(우투우타) & 수주초-신월중-장충고-NC-경찰-NC                                & 3000만원   & 0.000\\\\\n\t 342 & 황재균 & 2018 & KT   & 0.250 &   6 &  16 &  3 &  4 & 1 & ⋯ & 0 & 0.500 & 0.333 & 3 & 183cm/96kg  & 1987년 07월 28일 & 내야수(우투우타) & 사당초-이수중-경기고-현대-우리-히어로즈-넥센-롯데-샌프란시스코 & 6000만원   & 0.833\\\\\n\\end{tabular}\n",
            "text/markdown": "\nA tibble: 1393 × 29\n\n| batter_id &lt;int&gt; | batter_name &lt;chr&gt; | year &lt;int&gt; | team &lt;chr&gt; | avg &lt;chr&gt; | G &lt;int&gt; | AB &lt;int&gt; | R &lt;int&gt; | H &lt;int&gt; | 2B &lt;int&gt; | ⋯ ⋯ | GDP &lt;int&gt; | SLG &lt;dbl&gt; | OBP &lt;dbl&gt; | E &lt;int&gt; | height/weight &lt;chr&gt; | year_born &lt;chr&gt; | position &lt;chr&gt; | career &lt;chr&gt; | starting_salary &lt;chr&gt; | OPS &lt;dbl&gt; |\n|---|---|---|---|---|---|---|---|---|---|---|---|---|---|---|---|---|---|---|---|---|\n|  62 | 김주찬 | 2002 | 롯데 | 0.107 |  9 | 28 | 2 |  3 | 0 | ⋯ | 1 | 0.107 | 0.167 | 1 | 183cm/94kg  | 1981년 03월 25일 | 내야수(우투우타) | 충암초(장충리틀)-충암중-충암고-삼성-롯데               | 18000만원 | 0.274 |\n|  67 | 김태균 | 2002 | 한화 | 0.235 | 11 | 34 | 7 |  8 | 5 | ⋯ | 0 | 0.471 | 0.333 | 2 | 185cm/110kg | 1982년 05월 29일 | 내야수(우투우타) | 천안남산초-천안북중-북일고-(대전대)                    | 16000만원 | 0.804 |\n| 109 | 박기혁 | 2002 | 롯데 | 0.000 |  8 |  5 | 1 |  0 | 0 | ⋯ | 0 | 0.000 | 0.000 | 0 | 179cm/77kg  | 1981년 06월 04일 | 내야수(우투우타) | 대구수창초-성광중-대구상고-롯데                        | 8000만원  | 0.000 |\n| 119 | 박용택 | 2002 | LG   | -     |  1 |  0 | 0 |  0 | 0 | ⋯ | 0 |    NA |    NA | 0 | 185cm/90kg  | 1979년 04월 21일 | 외야수(우투좌타) | 고명초-휘문중-휘문고-고려대                            | 30000만원 |    NA |\n| 131 | 박한이 | 2002 | 삼성 | 0.319 | 11 | 47 | 7 | 15 | 3 | ⋯ | 1 | 0.447 | 0.360 | 0 | 182cm/91kg  | 1979년 01월 28일 | 외야수(좌투좌타) | 초량초-부산중-부산고-동국대                            | 30000만원 | 0.807 |\n| 202 | 이대호 | 2002 | 롯데 | 0.359 | 11 | 39 | 4 | 14 | 3 | ⋯ | 1 | 0.513 | 0.375 | 1 | 194cm/130kg | 1982년 06월 21일 | 내야수(우투우타) | 부산수영초-대동중-경남고-(영남사이버대)-롯데-시애틀    | 21000만원 | 0.888 |\n| 207 | 이범호 | 2002 | 한화 | 0.167 |  7 |  6 | 2 |  1 | 1 | ⋯ | 0 | 0.333 | 0.167 | 0 | 183cm/96kg  | 1981년 11월 25일 | 내야수(우투우타) | 대구수창초-경운중-대구고-한화                          | 11000만원 | 0.500 |\n| 283 | 조동찬 | 2002 | 삼성 | 0.000 |  4 |  1 | 0 |  0 | 0 | ⋯ | 0 | 0.000 | 0.000 | 0 | 180cm/80kg  | 1983년 07월 27일 | 내야수(우투우타) | 공주중동초-공주중-공주고                               | 12000만원 | 0.000 |\n| 234 | 이진영 | 2002 | SK   | 0.297 | 11 | 37 | 5 | 11 | 2 | ⋯ | 0 | 0.514 | 0.381 | 0 | 185cm/90kg  | 1980년 06월 15일 | 외야수(좌투좌타) | 군산초-군산남중-군산상고-쌍방울-SK-LG                  | 10000만원 | 0.895 |\n| 269 | 정상호 | 2002 | SK   | 0.158 | 13 | 19 | 3 |  3 | 1 | ⋯ | 0 | 0.368 | 0.304 | 5 | 187cm/100kg | 1982년 12월 24일 | 포수(우투우타)   | 석천초-동인천중-동산고-SK-상무-SK                      | 45000만원 | 0.672 |\n| 270 | 정성훈 | 2002 | KIA  | 0.267 | 12 | 30 | 5 |  8 | 4 | ⋯ | 1 | 0.400 | 0.258 | 0 | 182cm/83kg  | 1980년 06월 27일 | 내야수(우투우타) | 송정동초-무등중-광주제일고-해태-KIA-현대-우리-LG       | 15000만원 | 0.658 |\n| 319 | 최형우 | 2002 | 삼성 | 0.000 |  5 |  5 | 1 |  0 | 0 | ⋯ | 0 | 0.000 | 0.167 | 0 | 180cm/106kg | 1983년 12월 16일 | 외야수(우투좌타) | 진북초-전주동중-전주고-삼성-경찰-삼성                  | 5000만원  | 0.167 |\n|  24 | 김강민 | 2003 | SK   | -     |  3 |  0 | 1 |  0 | 0 | ⋯ | 0 |    NA |    NA | 0 | 182cm/85kg  | 1982년 09월 13일 | 외야수(우투우타) | 본리초-대구중-경북고                                   | 11000만원 |    NA |\n|  62 | 김주찬 | 2003 | 롯데 | 0.175 | 11 | 40 | 8 |  7 | 0 | ⋯ | 0 | 0.325 | 0.233 | 0 | 183cm/94kg  | 1981년 03월 25일 | 내야수(우투우타) | 충암초(장충리틀)-충암중-충암고-삼성-롯데               | 18000만원 | 0.558 |\n|  67 | 김태균 | 2003 | 한화 | 0.115 | 10 | 26 | 2 |  3 | 1 | ⋯ | 0 | 0.154 | 0.303 | 1 | 185cm/110kg | 1982년 05월 29일 | 내야수(우투우타) | 천안남산초-천안북중-북일고-(대전대)                    | 16000만원 | 0.457 |\n|  83 | 나주환 | 2003 | 두산 | 0.111 | 11 |  9 | 3 |  1 | 0 | ⋯ | 1 | 0.111 | 0.200 | 0 | 180cm/84kg  | 1984년 06월 14일 | 내야수(우투우타) | 성동초(월드리틀)-휘문중-북일고-두산                    | 10000만원 | 0.311 |\n| 105 | 박경수 | 2003 | LG   | 0.067 | 12 | 15 | 1 |  1 | 0 | ⋯ | 0 | 0.067 | 0.222 | 0 | 178cm/80kg  | 1984년 03월 31일 | 내야수(우투우타) | 미성초-성남중-성남고-LG                                | 43000만원 | 0.289 |\n| 109 | 박기혁 | 2003 | 롯데 | 0.190 | 13 | 42 | 2 |  8 | 1 | ⋯ | 1 | 0.262 | 0.277 | 1 | 179cm/77kg  | 1981년 06월 04일 | 내야수(우투우타) | 대구수창초-성광중-대구상고-롯데                        | 8000만원  | 0.539 |\n| 119 | 박용택 | 2003 | LG   | 0.256 | 13 | 43 | 7 | 11 | 3 | ⋯ | 0 | 0.395 | 0.313 | 0 | 185cm/90kg  | 1979년 04월 21일 | 외야수(우투좌타) | 고명초-휘문중-휘문고-고려대                            | 30000만원 | 0.708 |\n| 131 | 박한이 | 2003 | 삼성 | 0.212 | 12 | 33 | 3 |  7 | 1 | ⋯ | 0 | 0.242 | 0.308 | 1 | 182cm/91kg  | 1979년 01월 28일 | 외야수(좌투좌타) | 초량초-부산중-부산고-동국대                            | 30000만원 | 0.550 |\n| 145 | 서동욱 | 2003 | KIA  | 0.300 |  9 | 20 | 2 |  6 | 1 | ⋯ | 0 | 0.450 | 0.300 | 0 | 188cm/99kg  | 1984년 03월 21일 | 내야수(우투좌타) | 서울학동초-휘문중-경기고-(전남과학대)-KIA-상무-LG-넥센 | 18000만원 | 0.750 |\n| 163 | 신종길 | 2003 | 롯데 | 0.250 |  7 |  8 | 0 |  2 | 1 | ⋯ | 0 | 0.375 | 0.250 | 0 | 183cm/87kg  | 1983년 12월 31일 | 외야수(우투좌타) | 광주대성초-무등중-광주제일고-(동신대)-롯데-한화        | 5000만원  | 0.625 |\n| 201 | 이대형 | 2003 | LG   | 0.167 | 13 |  6 | 4 |  1 | 1 | ⋯ | 0 | 0.333 | 0.286 | 0 | 184cm/78kg  | 1983년 07월 19일 | 외야수(좌투좌타) | 광주서림초-무등중-광주제일고-LG-KIA                    | 10000만원 | 0.619 |\n| 207 | 이범호 | 2003 | 한화 | 0.297 | 13 | 37 | 7 | 11 | 2 | ⋯ | 0 | 0.568 | 0.438 | 3 | 183cm/96kg  | 1981년 11월 25일 | 내야수(우투우타) | 대구수창초-경운중-대구고-한화                          | 11000만원 | 1.006 |\n| 211 | 이성열 | 2003 | LG   | 0.000 |  2 |  1 | 0 |  0 | 0 | ⋯ | 0 | 0.000 | 0.000 | 0 | 185cm/102kg | 1984년 07월 13일 | 외야수(우투좌타) | 순천북초-이수중-효천고-LG-두산-넥센                    | 27000만원 | 0.000 |\n| 283 | 조동찬 | 2003 | 삼성 | 0.182 |  7 | 11 | 1 |  2 | 1 | ⋯ | 0 | 0.545 | 0.182 | 1 | 180cm/80kg  | 1983년 07월 27일 | 내야수(우투우타) | 공주중동초-공주중-공주고                               | 12000만원 | 0.727 |\n| 234 | 이진영 | 2003 | SK   | 0.171 | 13 | 41 | 3 |  7 | 1 | ⋯ | 1 | 0.268 | 0.209 | 0 | 185cm/90kg  | 1980년 06월 15일 | 외야수(좌투좌타) | 군산초-군산남중-군산상고-쌍방울-SK-LG                  | 10000만원 | 0.477 |\n| 238 | 이택근 | 2003 | 현대 | 0.192 | 12 | 26 | 3 |  5 | 1 | ⋯ | 0 | 0.231 | 0.276 | 1 | 183cm/89kg  | 1980년 07월 10일 | 외야수(우투우타) | 배정초-대천중-경남상고-고려대-현대-우리-히어로즈-LG    | 25000만원 | 0.507 |\n| 269 | 정상호 | 2003 | SK   | 0.150 | 12 | 20 | 1 |  3 | 0 | ⋯ | 1 | 0.150 | 0.227 | 2 | 187cm/100kg | 1982년 12월 24일 | 포수(우투우타)   | 석천초-동인천중-동산고-SK-상무-SK                      | 45000만원 | 0.377 |\n| 270 | 정성훈 | 2003 | 현대 | 0.068 | 13 | 44 | 2 |  3 | 1 | ⋯ | 1 | 0.091 | 0.146 | 2 | 182cm/83kg  | 1980년 06월 27일 | 내야수(우투우타) | 송정동초-무등중-광주제일고-해태-KIA-현대-우리-LG       | 15000만원 | 0.237 |\n| ⋮ | ⋮ | ⋮ | ⋮ | ⋮ | ⋮ | ⋮ | ⋮ | ⋮ | ⋮ | ⋱ | ⋮ | ⋮ | ⋮ | ⋮ | ⋮ | ⋮ | ⋮ | ⋮ | ⋮ | ⋮ |\n| 282 | 정훈   | 2018 | 롯데 | 0.167 |   5 |   6 |  1 |  1 | 0 | ⋯ | 0 | 0.167 | 0.500 | 0 | 180cm/85kg  | 1987년 07월 18일 | 내야수(우투우타) | 양덕초-마산동중-용마고                                         | <!----> | 0.667 |\n| 286 | 조수행 | 2018 | 두산 | 0.279 | 119 | 183 | 35 | 51 | 6 | ⋯ | 4 | 0.372 | 0.311 | 1 | 178cm/73kg  | 1993년 08월 30일 | 외야수(우투좌타) | 노암초-경포중-강릉고-건국대                                    | 14000만원  | 0.683 |\n| 292 | 조홍석 | 2018 | 롯데 | 0.000 |   3 |   1 |  2 |  0 | 0 | ⋯ | 0 | 0.000 | 0.500 | 0 | 175cm/78kg  | 1990년 02월 23일 | 외야수(우투좌타) | 광주화정초-영남중-배명고-원광대                                | 7000만원   | 0.500 |\n| 293 | 주효상 | 2018 | 넥센 | 0.375 |   5 |   8 |  1 |  3 | 2 | ⋯ | 1 | 0.625 | 0.375 | 0 | 182cm/85kg  | 1997년 11월 11일 | 포수(우투좌타)   | 역북초-강남중-서울고                                           | 20000만원  | 1.000 |\n| 294 | 지석훈 | 2018 | NC   | 0.000 |   3 |   6 |  0 |  0 | 0 | ⋯ | 0 | 0.000 | 0.000 | 0 | 181cm/74kg  | 1984년 03월 17일 | 내야수(우투우타) | 가동초-휘문중-휘문고-현대-우리-상무-넥센                       | 25000만원  | 0.000 |\n| 295 | 지성준 | 2018 | 한화 | 0.125 |   4 |   8 |  1 |  1 | 0 | ⋯ | 1 | 0.125 | 0.125 | 0 | 180cm/92kg  | 1994년 04월 10일 | 포수(우투우타)   | 청주우암초-청주중-청주고                                       | <!----> | 0.250 |\n| 300 | 채은성 | 2018 | LG   | 0.357 |   7 |  28 |  5 | 10 | 0 | ⋯ | 1 | 0.643 | 0.379 | 0 | 186cm/92kg  | 1990년 02월 06일 | 외야수(우투우타) | 순천북초-순천이수중-효천고                                     | <!----> | 1.022 |\n| 301 | 채태인 | 2018 | 롯데 | 0.286 |   4 |   7 |  2 |  2 | 0 | ⋯ | 0 | 0.286 | 0.400 | 0 | 187cm/94kg  | 1982년 10월 11일 | 내야수(좌투좌타) | 대신초-대동중-부산상고-삼성-넥센                               | 10000만원  | 0.686 |\n| 302 | 초이스 | 2018 | 넥센 | 0.278 |   6 |  18 |  4 |  5 | 1 | ⋯ | 0 | 0.667 | 0.381 | 0 | 183cm/98kg  | 1989년 11월 10일 | 외야수(우투우타) | 미국 Texas at Arlington(대)                                    | <!----> | 1.048 |\n| 307 | 최승준 | 2018 | SK   | 0.273 |   6 |  11 |  1 |  3 | 0 | ⋯ | 0 | 0.273 | 0.500 | 0 | 188cm/88kg  | 1988년 01월 11일 | 내야수(우투우타) | 인천서림초-동산중-동산고-LG                                    | 5000만원   | 0.773 |\n| 308 | 최영진 | 2018 | 삼성 | 0.429 |   6 |  14 |  1 |  6 | 1 | ⋯ | 0 | 0.500 | 0.400 | 0 | 185cm/87kg  | 1988년 05월 10일 | 내야수(우투우타) | 영랑초-설악중-속초상고-한일장신대-LG-두산                      | <!----> | 0.900 |\n| 310 | 최원준 | 2018 | KIA  | 0.167 |   3 |   6 |  1 |  1 | 0 | ⋯ | 0 | 0.167 | 0.167 | 0 | 178cm/85kg  | 1997년 03월 23일 | 내야수(우투좌타) | 연현초-서울경원중-서울고                                       | 15000만원  | 0.334 |\n| 311 | 최윤석 | 2018 | 한화 | 0.000 |   2 |   1 |  0 |  0 | 0 | ⋯ | 0 | 0.000 | 0.500 | 0 | 175cm/75kg  | 1987년 03월 28일 | 내야수(우투우타) | 화곡초-덕수중-성남고-홍익대-SK-한화-경찰                       | 6000만원   | 0.500 |\n| 312 | 최재훈 | 2018 | 한화 | 0.200 |   5 |  10 |  0 |  2 | 0 | ⋯ | 0 | 0.200 | 0.200 | 1 | 178cm/76kg  | 1989년 08월 27일 | 포수(우투우타)   | 화곡초-덕수중-덕수고-(방송통신대)-두산-경찰-두산               | <!----> | 0.400 |\n| 313 | 최정   | 2018 | SK   | 0.125 |   6 |  16 |  3 |  2 | 0 | ⋯ | 0 | 0.125 | 0.333 | 2 | 180cm/90kg  | 1987년 02월 28일 | 내야수(우투우타) | 대일초-평촌중-유신고                                           | 30000만원  | 0.458 |\n| 315 | 최주환 | 2018 | 두산 | 0.583 |   6 |  12 |  4 |  7 | 1 | ⋯ | 0 | 0.917 | 0.643 | 0 | 178cm/73kg  | 1988년 02월 28일 | 내야수(우투좌타) | 학강초-광주동성중-광주동성고-두산-상무                         | 6000만원   | 1.560 |\n| 316 | 최준석 | 2018 | NC   | 0.400 |   5 |   5 |  0 |  2 | 0 | ⋯ | 0 | 0.400 | 0.500 | 0 | 187cm/130kg | 1983년 02월 15일 | 내야수(우투우타) | 칠성초-포철중-포철공고-(영남사이버대)-롯데-두산-롯데           | 3000만원   | 0.900 |\n| 317 | 최진행 | 2018 | 한화 | 0.105 |   6 |  19 |  1 |  2 | 0 | ⋯ | 0 | 0.105 | 0.227 | 1 | 188cm/100kg | 1985년 08월 17일 | 외야수(우투우타) | 서울동원초-청량중-덕수정보고-(우송대)-한화-경찰                | 10000만원  | 0.332 |\n| 318 | 최항   | 2018 | SK   | 0.111 |   6 |   9 |  3 |  1 | 0 | ⋯ | 0 | 0.444 | 0.250 | 0 | 183cm/88kg  | 1994년 01월 03일 | 내야수(우투좌타) | 대일초-매송중-유신고                                           | <!----> | 0.694 |\n| 319 | 최형우 | 2018 | KIA  | 0.500 |   4 |  14 |  3 |  7 | 1 | ⋯ | 0 | 1.000 | 0.500 | 0 | 180cm/106kg | 1983년 12월 16일 | 외야수(우투좌타) | 진북초-전주동중-전주고-삼성-경찰-삼성                          | 5000만원   | 1.500 |\n| 324 | 하주석 | 2018 | 한화 | 0.222 |   6 |  18 |  3 |  4 | 0 | ⋯ | 0 | 0.556 | 0.300 | 2 | 184cm/84kg  | 1994년 02월 25일 | 내야수(우투좌타) | 강남초-덕수중-신일고-한화-상무                                 | 30000만원  | 0.856 |\n| 326 | 한동민 | 2018 | SK   | 0.316 |   6 |  19 |  2 |  6 | 2 | ⋯ | 1 | 0.579 | 0.350 | 0 | 190cm/95kg  | 1989년 08월 09일 | 외야수(우투좌타) | 중앙초(해운대리틀)-대천중-경남고-경성대-SK-상무                | 3000만원   | 0.929 |\n| 327 | 한동희 | 2018 | 롯데 | 0.375 |   5 |  16 |  4 |  6 | 2 | ⋯ | 0 | 0.500 | 0.375 | 0 | 181cm/99kg  | 1999년 06월 01일 | 내야수(우투우타) | 대연초-경남중-경남고                                           | 18000만원  | 0.875 |\n| 329 | 한승택 | 2018 | KIA  | 0.000 |   4 |   1 |  0 |  0 | 0 | ⋯ | 0 | 0.000 | 0.667 | 0 | 174cm/83kg  | 1994년 06월 21일 | 포수(우투우타)   | 잠전초(남양주리틀)-잠신중-덕수고-한화-경찰                     | 9000만원   | 0.667 |\n| 331 | 허경민 | 2018 | 두산 | 0.600 |   6 |  15 |  3 |  9 | 3 | ⋯ | 0 | 0.800 | 0.684 | 0 | 176cm/69kg  | 1990년 08월 26일 | 내야수(우투우타) | 송정동초-충장중-광주제일고-두산-경찰                           | 13000만원  | 1.484 |\n| 332 | 허도환 | 2018 | SK   | 0.000 |   4 |   4 |  0 |  0 | 0 | ⋯ | 1 | 0.000 | 0.000 | 0 | 176cm/87kg  | 1984년 07월 31일 | 포수(우투우타)   | 서울학동초-이수중-서울고-단국대-두산-넥센-한화                 | <!----> | 0.000 |\n| 334 | 호잉   | 2018 | 한화 | 0.250 |   6 |  16 |  3 |  4 | 0 | ⋯ | 0 | 0.688 | 0.278 | 0 | 190cm/92kg  | 1989년 05월 18일 | 외야수(우투좌타) | 미국 Fort Loramie(고)-미국 Toledo(대)                          | 300000달러 | 0.966 |\n| 337 | 홍재호 | 2018 | KIA  | 0.333 |   1 |   3 |  0 |  1 | 0 | ⋯ | 0 | 0.333 | 0.333 | 0 | 180cm/79kg  | 1987년 05월 10일 | 내야수(우투우타) | 부산대연초-대천중-부산고-고려대-KIA-경찰                       | 4000만원   | 0.666 |\n| 341 | 황윤호 | 2018 | KIA  | 0.000 |   5 |   2 |  1 |  0 | 0 | ⋯ | 0 | 0.000 | 0.000 | 0 | 177cm/78kg  | 1993년 09월 22일 | 내야수(우투우타) | 수주초-신월중-장충고-NC-경찰-NC                                | 3000만원   | 0.000 |\n| 342 | 황재균 | 2018 | KT   | 0.250 |   6 |  16 |  3 |  4 | 1 | ⋯ | 0 | 0.500 | 0.333 | 3 | 183cm/96kg  | 1987년 07월 28일 | 내야수(우투우타) | 사당초-이수중-경기고-현대-우리-히어로즈-넥센-롯데-샌프란시스코 | 6000만원   | 0.833 |\n\n",
            "text/html": [
              "<table>\n",
              "<caption>A tibble: 1393 × 29</caption>\n",
              "<thead>\n",
              "\t<tr><th scope=col>batter_id</th><th scope=col>batter_name</th><th scope=col>year</th><th scope=col>team</th><th scope=col>avg</th><th scope=col>G</th><th scope=col>AB</th><th scope=col>R</th><th scope=col>H</th><th scope=col>2B</th><th scope=col>⋯</th><th scope=col>GDP</th><th scope=col>SLG</th><th scope=col>OBP</th><th scope=col>E</th><th scope=col>height/weight</th><th scope=col>year_born</th><th scope=col>position</th><th scope=col>career</th><th scope=col>starting_salary</th><th scope=col>OPS</th></tr>\n",
              "\t<tr><th scope=col>&lt;int&gt;</th><th scope=col>&lt;chr&gt;</th><th scope=col>&lt;int&gt;</th><th scope=col>&lt;chr&gt;</th><th scope=col>&lt;chr&gt;</th><th scope=col>&lt;int&gt;</th><th scope=col>&lt;int&gt;</th><th scope=col>&lt;int&gt;</th><th scope=col>&lt;int&gt;</th><th scope=col>&lt;int&gt;</th><th scope=col>⋯</th><th scope=col>&lt;int&gt;</th><th scope=col>&lt;dbl&gt;</th><th scope=col>&lt;dbl&gt;</th><th scope=col>&lt;int&gt;</th><th scope=col>&lt;chr&gt;</th><th scope=col>&lt;chr&gt;</th><th scope=col>&lt;chr&gt;</th><th scope=col>&lt;chr&gt;</th><th scope=col>&lt;chr&gt;</th><th scope=col>&lt;dbl&gt;</th></tr>\n",
              "</thead>\n",
              "<tbody>\n",
              "\t<tr><td> 62</td><td>김주찬</td><td>2002</td><td>롯데</td><td>0.107</td><td> 9</td><td>28</td><td>2</td><td> 3</td><td>0</td><td>⋯</td><td>1</td><td>0.107</td><td>0.167</td><td>1</td><td>183cm/94kg </td><td>1981년 03월 25일</td><td>내야수(우투우타)</td><td>충암초(장충리틀)-충암중-충암고-삼성-롯데              </td><td>18000만원</td><td>0.274</td></tr>\n",
              "\t<tr><td> 67</td><td>김태균</td><td>2002</td><td>한화</td><td>0.235</td><td>11</td><td>34</td><td>7</td><td> 8</td><td>5</td><td>⋯</td><td>0</td><td>0.471</td><td>0.333</td><td>2</td><td>185cm/110kg</td><td>1982년 05월 29일</td><td>내야수(우투우타)</td><td>천안남산초-천안북중-북일고-(대전대)                   </td><td>16000만원</td><td>0.804</td></tr>\n",
              "\t<tr><td>109</td><td>박기혁</td><td>2002</td><td>롯데</td><td>0.000</td><td> 8</td><td> 5</td><td>1</td><td> 0</td><td>0</td><td>⋯</td><td>0</td><td>0.000</td><td>0.000</td><td>0</td><td>179cm/77kg </td><td>1981년 06월 04일</td><td>내야수(우투우타)</td><td>대구수창초-성광중-대구상고-롯데                       </td><td>8000만원 </td><td>0.000</td></tr>\n",
              "\t<tr><td>119</td><td>박용택</td><td>2002</td><td>LG  </td><td>-    </td><td> 1</td><td> 0</td><td>0</td><td> 0</td><td>0</td><td>⋯</td><td>0</td><td>   NA</td><td>   NA</td><td>0</td><td>185cm/90kg </td><td>1979년 04월 21일</td><td>외야수(우투좌타)</td><td>고명초-휘문중-휘문고-고려대                           </td><td>30000만원</td><td>   NA</td></tr>\n",
              "\t<tr><td>131</td><td>박한이</td><td>2002</td><td>삼성</td><td>0.319</td><td>11</td><td>47</td><td>7</td><td>15</td><td>3</td><td>⋯</td><td>1</td><td>0.447</td><td>0.360</td><td>0</td><td>182cm/91kg </td><td>1979년 01월 28일</td><td>외야수(좌투좌타)</td><td>초량초-부산중-부산고-동국대                           </td><td>30000만원</td><td>0.807</td></tr>\n",
              "\t<tr><td>202</td><td>이대호</td><td>2002</td><td>롯데</td><td>0.359</td><td>11</td><td>39</td><td>4</td><td>14</td><td>3</td><td>⋯</td><td>1</td><td>0.513</td><td>0.375</td><td>1</td><td>194cm/130kg</td><td>1982년 06월 21일</td><td>내야수(우투우타)</td><td>부산수영초-대동중-경남고-(영남사이버대)-롯데-시애틀   </td><td>21000만원</td><td>0.888</td></tr>\n",
              "\t<tr><td>207</td><td>이범호</td><td>2002</td><td>한화</td><td>0.167</td><td> 7</td><td> 6</td><td>2</td><td> 1</td><td>1</td><td>⋯</td><td>0</td><td>0.333</td><td>0.167</td><td>0</td><td>183cm/96kg </td><td>1981년 11월 25일</td><td>내야수(우투우타)</td><td>대구수창초-경운중-대구고-한화                         </td><td>11000만원</td><td>0.500</td></tr>\n",
              "\t<tr><td>283</td><td>조동찬</td><td>2002</td><td>삼성</td><td>0.000</td><td> 4</td><td> 1</td><td>0</td><td> 0</td><td>0</td><td>⋯</td><td>0</td><td>0.000</td><td>0.000</td><td>0</td><td>180cm/80kg </td><td>1983년 07월 27일</td><td>내야수(우투우타)</td><td>공주중동초-공주중-공주고                              </td><td>12000만원</td><td>0.000</td></tr>\n",
              "\t<tr><td>234</td><td>이진영</td><td>2002</td><td>SK  </td><td>0.297</td><td>11</td><td>37</td><td>5</td><td>11</td><td>2</td><td>⋯</td><td>0</td><td>0.514</td><td>0.381</td><td>0</td><td>185cm/90kg </td><td>1980년 06월 15일</td><td>외야수(좌투좌타)</td><td>군산초-군산남중-군산상고-쌍방울-SK-LG                 </td><td>10000만원</td><td>0.895</td></tr>\n",
              "\t<tr><td>269</td><td>정상호</td><td>2002</td><td>SK  </td><td>0.158</td><td>13</td><td>19</td><td>3</td><td> 3</td><td>1</td><td>⋯</td><td>0</td><td>0.368</td><td>0.304</td><td>5</td><td>187cm/100kg</td><td>1982년 12월 24일</td><td>포수(우투우타)  </td><td>석천초-동인천중-동산고-SK-상무-SK                     </td><td>45000만원</td><td>0.672</td></tr>\n",
              "\t<tr><td>270</td><td>정성훈</td><td>2002</td><td>KIA </td><td>0.267</td><td>12</td><td>30</td><td>5</td><td> 8</td><td>4</td><td>⋯</td><td>1</td><td>0.400</td><td>0.258</td><td>0</td><td>182cm/83kg </td><td>1980년 06월 27일</td><td>내야수(우투우타)</td><td>송정동초-무등중-광주제일고-해태-KIA-현대-우리-LG      </td><td>15000만원</td><td>0.658</td></tr>\n",
              "\t<tr><td>319</td><td>최형우</td><td>2002</td><td>삼성</td><td>0.000</td><td> 5</td><td> 5</td><td>1</td><td> 0</td><td>0</td><td>⋯</td><td>0</td><td>0.000</td><td>0.167</td><td>0</td><td>180cm/106kg</td><td>1983년 12월 16일</td><td>외야수(우투좌타)</td><td>진북초-전주동중-전주고-삼성-경찰-삼성                 </td><td>5000만원 </td><td>0.167</td></tr>\n",
              "\t<tr><td> 24</td><td>김강민</td><td>2003</td><td>SK  </td><td>-    </td><td> 3</td><td> 0</td><td>1</td><td> 0</td><td>0</td><td>⋯</td><td>0</td><td>   NA</td><td>   NA</td><td>0</td><td>182cm/85kg </td><td>1982년 09월 13일</td><td>외야수(우투우타)</td><td>본리초-대구중-경북고                                  </td><td>11000만원</td><td>   NA</td></tr>\n",
              "\t<tr><td> 62</td><td>김주찬</td><td>2003</td><td>롯데</td><td>0.175</td><td>11</td><td>40</td><td>8</td><td> 7</td><td>0</td><td>⋯</td><td>0</td><td>0.325</td><td>0.233</td><td>0</td><td>183cm/94kg </td><td>1981년 03월 25일</td><td>내야수(우투우타)</td><td>충암초(장충리틀)-충암중-충암고-삼성-롯데              </td><td>18000만원</td><td>0.558</td></tr>\n",
              "\t<tr><td> 67</td><td>김태균</td><td>2003</td><td>한화</td><td>0.115</td><td>10</td><td>26</td><td>2</td><td> 3</td><td>1</td><td>⋯</td><td>0</td><td>0.154</td><td>0.303</td><td>1</td><td>185cm/110kg</td><td>1982년 05월 29일</td><td>내야수(우투우타)</td><td>천안남산초-천안북중-북일고-(대전대)                   </td><td>16000만원</td><td>0.457</td></tr>\n",
              "\t<tr><td> 83</td><td>나주환</td><td>2003</td><td>두산</td><td>0.111</td><td>11</td><td> 9</td><td>3</td><td> 1</td><td>0</td><td>⋯</td><td>1</td><td>0.111</td><td>0.200</td><td>0</td><td>180cm/84kg </td><td>1984년 06월 14일</td><td>내야수(우투우타)</td><td>성동초(월드리틀)-휘문중-북일고-두산                   </td><td>10000만원</td><td>0.311</td></tr>\n",
              "\t<tr><td>105</td><td>박경수</td><td>2003</td><td>LG  </td><td>0.067</td><td>12</td><td>15</td><td>1</td><td> 1</td><td>0</td><td>⋯</td><td>0</td><td>0.067</td><td>0.222</td><td>0</td><td>178cm/80kg </td><td>1984년 03월 31일</td><td>내야수(우투우타)</td><td>미성초-성남중-성남고-LG                               </td><td>43000만원</td><td>0.289</td></tr>\n",
              "\t<tr><td>109</td><td>박기혁</td><td>2003</td><td>롯데</td><td>0.190</td><td>13</td><td>42</td><td>2</td><td> 8</td><td>1</td><td>⋯</td><td>1</td><td>0.262</td><td>0.277</td><td>1</td><td>179cm/77kg </td><td>1981년 06월 04일</td><td>내야수(우투우타)</td><td>대구수창초-성광중-대구상고-롯데                       </td><td>8000만원 </td><td>0.539</td></tr>\n",
              "\t<tr><td>119</td><td>박용택</td><td>2003</td><td>LG  </td><td>0.256</td><td>13</td><td>43</td><td>7</td><td>11</td><td>3</td><td>⋯</td><td>0</td><td>0.395</td><td>0.313</td><td>0</td><td>185cm/90kg </td><td>1979년 04월 21일</td><td>외야수(우투좌타)</td><td>고명초-휘문중-휘문고-고려대                           </td><td>30000만원</td><td>0.708</td></tr>\n",
              "\t<tr><td>131</td><td>박한이</td><td>2003</td><td>삼성</td><td>0.212</td><td>12</td><td>33</td><td>3</td><td> 7</td><td>1</td><td>⋯</td><td>0</td><td>0.242</td><td>0.308</td><td>1</td><td>182cm/91kg </td><td>1979년 01월 28일</td><td>외야수(좌투좌타)</td><td>초량초-부산중-부산고-동국대                           </td><td>30000만원</td><td>0.550</td></tr>\n",
              "\t<tr><td>145</td><td>서동욱</td><td>2003</td><td>KIA </td><td>0.300</td><td> 9</td><td>20</td><td>2</td><td> 6</td><td>1</td><td>⋯</td><td>0</td><td>0.450</td><td>0.300</td><td>0</td><td>188cm/99kg </td><td>1984년 03월 21일</td><td>내야수(우투좌타)</td><td>서울학동초-휘문중-경기고-(전남과학대)-KIA-상무-LG-넥센</td><td>18000만원</td><td>0.750</td></tr>\n",
              "\t<tr><td>163</td><td>신종길</td><td>2003</td><td>롯데</td><td>0.250</td><td> 7</td><td> 8</td><td>0</td><td> 2</td><td>1</td><td>⋯</td><td>0</td><td>0.375</td><td>0.250</td><td>0</td><td>183cm/87kg </td><td>1983년 12월 31일</td><td>외야수(우투좌타)</td><td>광주대성초-무등중-광주제일고-(동신대)-롯데-한화       </td><td>5000만원 </td><td>0.625</td></tr>\n",
              "\t<tr><td>201</td><td>이대형</td><td>2003</td><td>LG  </td><td>0.167</td><td>13</td><td> 6</td><td>4</td><td> 1</td><td>1</td><td>⋯</td><td>0</td><td>0.333</td><td>0.286</td><td>0</td><td>184cm/78kg </td><td>1983년 07월 19일</td><td>외야수(좌투좌타)</td><td>광주서림초-무등중-광주제일고-LG-KIA                   </td><td>10000만원</td><td>0.619</td></tr>\n",
              "\t<tr><td>207</td><td>이범호</td><td>2003</td><td>한화</td><td>0.297</td><td>13</td><td>37</td><td>7</td><td>11</td><td>2</td><td>⋯</td><td>0</td><td>0.568</td><td>0.438</td><td>3</td><td>183cm/96kg </td><td>1981년 11월 25일</td><td>내야수(우투우타)</td><td>대구수창초-경운중-대구고-한화                         </td><td>11000만원</td><td>1.006</td></tr>\n",
              "\t<tr><td>211</td><td>이성열</td><td>2003</td><td>LG  </td><td>0.000</td><td> 2</td><td> 1</td><td>0</td><td> 0</td><td>0</td><td>⋯</td><td>0</td><td>0.000</td><td>0.000</td><td>0</td><td>185cm/102kg</td><td>1984년 07월 13일</td><td>외야수(우투좌타)</td><td>순천북초-이수중-효천고-LG-두산-넥센                   </td><td>27000만원</td><td>0.000</td></tr>\n",
              "\t<tr><td>283</td><td>조동찬</td><td>2003</td><td>삼성</td><td>0.182</td><td> 7</td><td>11</td><td>1</td><td> 2</td><td>1</td><td>⋯</td><td>0</td><td>0.545</td><td>0.182</td><td>1</td><td>180cm/80kg </td><td>1983년 07월 27일</td><td>내야수(우투우타)</td><td>공주중동초-공주중-공주고                              </td><td>12000만원</td><td>0.727</td></tr>\n",
              "\t<tr><td>234</td><td>이진영</td><td>2003</td><td>SK  </td><td>0.171</td><td>13</td><td>41</td><td>3</td><td> 7</td><td>1</td><td>⋯</td><td>1</td><td>0.268</td><td>0.209</td><td>0</td><td>185cm/90kg </td><td>1980년 06월 15일</td><td>외야수(좌투좌타)</td><td>군산초-군산남중-군산상고-쌍방울-SK-LG                 </td><td>10000만원</td><td>0.477</td></tr>\n",
              "\t<tr><td>238</td><td>이택근</td><td>2003</td><td>현대</td><td>0.192</td><td>12</td><td>26</td><td>3</td><td> 5</td><td>1</td><td>⋯</td><td>0</td><td>0.231</td><td>0.276</td><td>1</td><td>183cm/89kg </td><td>1980년 07월 10일</td><td>외야수(우투우타)</td><td>배정초-대천중-경남상고-고려대-현대-우리-히어로즈-LG   </td><td>25000만원</td><td>0.507</td></tr>\n",
              "\t<tr><td>269</td><td>정상호</td><td>2003</td><td>SK  </td><td>0.150</td><td>12</td><td>20</td><td>1</td><td> 3</td><td>0</td><td>⋯</td><td>1</td><td>0.150</td><td>0.227</td><td>2</td><td>187cm/100kg</td><td>1982년 12월 24일</td><td>포수(우투우타)  </td><td>석천초-동인천중-동산고-SK-상무-SK                     </td><td>45000만원</td><td>0.377</td></tr>\n",
              "\t<tr><td>270</td><td>정성훈</td><td>2003</td><td>현대</td><td>0.068</td><td>13</td><td>44</td><td>2</td><td> 3</td><td>1</td><td>⋯</td><td>1</td><td>0.091</td><td>0.146</td><td>2</td><td>182cm/83kg </td><td>1980년 06월 27일</td><td>내야수(우투우타)</td><td>송정동초-무등중-광주제일고-해태-KIA-현대-우리-LG      </td><td>15000만원</td><td>0.237</td></tr>\n",
              "\t<tr><td>⋮</td><td>⋮</td><td>⋮</td><td>⋮</td><td>⋮</td><td>⋮</td><td>⋮</td><td>⋮</td><td>⋮</td><td>⋮</td><td>⋱</td><td>⋮</td><td>⋮</td><td>⋮</td><td>⋮</td><td>⋮</td><td>⋮</td><td>⋮</td><td>⋮</td><td>⋮</td><td>⋮</td></tr>\n",
              "\t<tr><td>282</td><td>정훈  </td><td>2018</td><td>롯데</td><td>0.167</td><td>  5</td><td>  6</td><td> 1</td><td> 1</td><td>0</td><td>⋯</td><td>0</td><td>0.167</td><td>0.500</td><td>0</td><td>180cm/85kg </td><td>1987년 07월 18일</td><td>내야수(우투우타)</td><td>양덕초-마산동중-용마고                                        </td><td>          </td><td>0.667</td></tr>\n",
              "\t<tr><td>286</td><td>조수행</td><td>2018</td><td>두산</td><td>0.279</td><td>119</td><td>183</td><td>35</td><td>51</td><td>6</td><td>⋯</td><td>4</td><td>0.372</td><td>0.311</td><td>1</td><td>178cm/73kg </td><td>1993년 08월 30일</td><td>외야수(우투좌타)</td><td>노암초-경포중-강릉고-건국대                                   </td><td>14000만원 </td><td>0.683</td></tr>\n",
              "\t<tr><td>292</td><td>조홍석</td><td>2018</td><td>롯데</td><td>0.000</td><td>  3</td><td>  1</td><td> 2</td><td> 0</td><td>0</td><td>⋯</td><td>0</td><td>0.000</td><td>0.500</td><td>0</td><td>175cm/78kg </td><td>1990년 02월 23일</td><td>외야수(우투좌타)</td><td>광주화정초-영남중-배명고-원광대                               </td><td>7000만원  </td><td>0.500</td></tr>\n",
              "\t<tr><td>293</td><td>주효상</td><td>2018</td><td>넥센</td><td>0.375</td><td>  5</td><td>  8</td><td> 1</td><td> 3</td><td>2</td><td>⋯</td><td>1</td><td>0.625</td><td>0.375</td><td>0</td><td>182cm/85kg </td><td>1997년 11월 11일</td><td>포수(우투좌타)  </td><td>역북초-강남중-서울고                                          </td><td>20000만원 </td><td>1.000</td></tr>\n",
              "\t<tr><td>294</td><td>지석훈</td><td>2018</td><td>NC  </td><td>0.000</td><td>  3</td><td>  6</td><td> 0</td><td> 0</td><td>0</td><td>⋯</td><td>0</td><td>0.000</td><td>0.000</td><td>0</td><td>181cm/74kg </td><td>1984년 03월 17일</td><td>내야수(우투우타)</td><td>가동초-휘문중-휘문고-현대-우리-상무-넥센                      </td><td>25000만원 </td><td>0.000</td></tr>\n",
              "\t<tr><td>295</td><td>지성준</td><td>2018</td><td>한화</td><td>0.125</td><td>  4</td><td>  8</td><td> 1</td><td> 1</td><td>0</td><td>⋯</td><td>1</td><td>0.125</td><td>0.125</td><td>0</td><td>180cm/92kg </td><td>1994년 04월 10일</td><td>포수(우투우타)  </td><td>청주우암초-청주중-청주고                                      </td><td>          </td><td>0.250</td></tr>\n",
              "\t<tr><td>300</td><td>채은성</td><td>2018</td><td>LG  </td><td>0.357</td><td>  7</td><td> 28</td><td> 5</td><td>10</td><td>0</td><td>⋯</td><td>1</td><td>0.643</td><td>0.379</td><td>0</td><td>186cm/92kg </td><td>1990년 02월 06일</td><td>외야수(우투우타)</td><td>순천북초-순천이수중-효천고                                    </td><td>          </td><td>1.022</td></tr>\n",
              "\t<tr><td>301</td><td>채태인</td><td>2018</td><td>롯데</td><td>0.286</td><td>  4</td><td>  7</td><td> 2</td><td> 2</td><td>0</td><td>⋯</td><td>0</td><td>0.286</td><td>0.400</td><td>0</td><td>187cm/94kg </td><td>1982년 10월 11일</td><td>내야수(좌투좌타)</td><td>대신초-대동중-부산상고-삼성-넥센                              </td><td>10000만원 </td><td>0.686</td></tr>\n",
              "\t<tr><td>302</td><td>초이스</td><td>2018</td><td>넥센</td><td>0.278</td><td>  6</td><td> 18</td><td> 4</td><td> 5</td><td>1</td><td>⋯</td><td>0</td><td>0.667</td><td>0.381</td><td>0</td><td>183cm/98kg </td><td>1989년 11월 10일</td><td>외야수(우투우타)</td><td>미국 Texas at Arlington(대)                                   </td><td>          </td><td>1.048</td></tr>\n",
              "\t<tr><td>307</td><td>최승준</td><td>2018</td><td>SK  </td><td>0.273</td><td>  6</td><td> 11</td><td> 1</td><td> 3</td><td>0</td><td>⋯</td><td>0</td><td>0.273</td><td>0.500</td><td>0</td><td>188cm/88kg </td><td>1988년 01월 11일</td><td>내야수(우투우타)</td><td>인천서림초-동산중-동산고-LG                                   </td><td>5000만원  </td><td>0.773</td></tr>\n",
              "\t<tr><td>308</td><td>최영진</td><td>2018</td><td>삼성</td><td>0.429</td><td>  6</td><td> 14</td><td> 1</td><td> 6</td><td>1</td><td>⋯</td><td>0</td><td>0.500</td><td>0.400</td><td>0</td><td>185cm/87kg </td><td>1988년 05월 10일</td><td>내야수(우투우타)</td><td>영랑초-설악중-속초상고-한일장신대-LG-두산                     </td><td>          </td><td>0.900</td></tr>\n",
              "\t<tr><td>310</td><td>최원준</td><td>2018</td><td>KIA </td><td>0.167</td><td>  3</td><td>  6</td><td> 1</td><td> 1</td><td>0</td><td>⋯</td><td>0</td><td>0.167</td><td>0.167</td><td>0</td><td>178cm/85kg </td><td>1997년 03월 23일</td><td>내야수(우투좌타)</td><td>연현초-서울경원중-서울고                                      </td><td>15000만원 </td><td>0.334</td></tr>\n",
              "\t<tr><td>311</td><td>최윤석</td><td>2018</td><td>한화</td><td>0.000</td><td>  2</td><td>  1</td><td> 0</td><td> 0</td><td>0</td><td>⋯</td><td>0</td><td>0.000</td><td>0.500</td><td>0</td><td>175cm/75kg </td><td>1987년 03월 28일</td><td>내야수(우투우타)</td><td>화곡초-덕수중-성남고-홍익대-SK-한화-경찰                      </td><td>6000만원  </td><td>0.500</td></tr>\n",
              "\t<tr><td>312</td><td>최재훈</td><td>2018</td><td>한화</td><td>0.200</td><td>  5</td><td> 10</td><td> 0</td><td> 2</td><td>0</td><td>⋯</td><td>0</td><td>0.200</td><td>0.200</td><td>1</td><td>178cm/76kg </td><td>1989년 08월 27일</td><td>포수(우투우타)  </td><td>화곡초-덕수중-덕수고-(방송통신대)-두산-경찰-두산              </td><td>          </td><td>0.400</td></tr>\n",
              "\t<tr><td>313</td><td>최정  </td><td>2018</td><td>SK  </td><td>0.125</td><td>  6</td><td> 16</td><td> 3</td><td> 2</td><td>0</td><td>⋯</td><td>0</td><td>0.125</td><td>0.333</td><td>2</td><td>180cm/90kg </td><td>1987년 02월 28일</td><td>내야수(우투우타)</td><td>대일초-평촌중-유신고                                          </td><td>30000만원 </td><td>0.458</td></tr>\n",
              "\t<tr><td>315</td><td>최주환</td><td>2018</td><td>두산</td><td>0.583</td><td>  6</td><td> 12</td><td> 4</td><td> 7</td><td>1</td><td>⋯</td><td>0</td><td>0.917</td><td>0.643</td><td>0</td><td>178cm/73kg </td><td>1988년 02월 28일</td><td>내야수(우투좌타)</td><td>학강초-광주동성중-광주동성고-두산-상무                        </td><td>6000만원  </td><td>1.560</td></tr>\n",
              "\t<tr><td>316</td><td>최준석</td><td>2018</td><td>NC  </td><td>0.400</td><td>  5</td><td>  5</td><td> 0</td><td> 2</td><td>0</td><td>⋯</td><td>0</td><td>0.400</td><td>0.500</td><td>0</td><td>187cm/130kg</td><td>1983년 02월 15일</td><td>내야수(우투우타)</td><td>칠성초-포철중-포철공고-(영남사이버대)-롯데-두산-롯데          </td><td>3000만원  </td><td>0.900</td></tr>\n",
              "\t<tr><td>317</td><td>최진행</td><td>2018</td><td>한화</td><td>0.105</td><td>  6</td><td> 19</td><td> 1</td><td> 2</td><td>0</td><td>⋯</td><td>0</td><td>0.105</td><td>0.227</td><td>1</td><td>188cm/100kg</td><td>1985년 08월 17일</td><td>외야수(우투우타)</td><td>서울동원초-청량중-덕수정보고-(우송대)-한화-경찰               </td><td>10000만원 </td><td>0.332</td></tr>\n",
              "\t<tr><td>318</td><td>최항  </td><td>2018</td><td>SK  </td><td>0.111</td><td>  6</td><td>  9</td><td> 3</td><td> 1</td><td>0</td><td>⋯</td><td>0</td><td>0.444</td><td>0.250</td><td>0</td><td>183cm/88kg </td><td>1994년 01월 03일</td><td>내야수(우투좌타)</td><td>대일초-매송중-유신고                                          </td><td>          </td><td>0.694</td></tr>\n",
              "\t<tr><td>319</td><td>최형우</td><td>2018</td><td>KIA </td><td>0.500</td><td>  4</td><td> 14</td><td> 3</td><td> 7</td><td>1</td><td>⋯</td><td>0</td><td>1.000</td><td>0.500</td><td>0</td><td>180cm/106kg</td><td>1983년 12월 16일</td><td>외야수(우투좌타)</td><td>진북초-전주동중-전주고-삼성-경찰-삼성                         </td><td>5000만원  </td><td>1.500</td></tr>\n",
              "\t<tr><td>324</td><td>하주석</td><td>2018</td><td>한화</td><td>0.222</td><td>  6</td><td> 18</td><td> 3</td><td> 4</td><td>0</td><td>⋯</td><td>0</td><td>0.556</td><td>0.300</td><td>2</td><td>184cm/84kg </td><td>1994년 02월 25일</td><td>내야수(우투좌타)</td><td>강남초-덕수중-신일고-한화-상무                                </td><td>30000만원 </td><td>0.856</td></tr>\n",
              "\t<tr><td>326</td><td>한동민</td><td>2018</td><td>SK  </td><td>0.316</td><td>  6</td><td> 19</td><td> 2</td><td> 6</td><td>2</td><td>⋯</td><td>1</td><td>0.579</td><td>0.350</td><td>0</td><td>190cm/95kg </td><td>1989년 08월 09일</td><td>외야수(우투좌타)</td><td>중앙초(해운대리틀)-대천중-경남고-경성대-SK-상무               </td><td>3000만원  </td><td>0.929</td></tr>\n",
              "\t<tr><td>327</td><td>한동희</td><td>2018</td><td>롯데</td><td>0.375</td><td>  5</td><td> 16</td><td> 4</td><td> 6</td><td>2</td><td>⋯</td><td>0</td><td>0.500</td><td>0.375</td><td>0</td><td>181cm/99kg </td><td>1999년 06월 01일</td><td>내야수(우투우타)</td><td>대연초-경남중-경남고                                          </td><td>18000만원 </td><td>0.875</td></tr>\n",
              "\t<tr><td>329</td><td>한승택</td><td>2018</td><td>KIA </td><td>0.000</td><td>  4</td><td>  1</td><td> 0</td><td> 0</td><td>0</td><td>⋯</td><td>0</td><td>0.000</td><td>0.667</td><td>0</td><td>174cm/83kg </td><td>1994년 06월 21일</td><td>포수(우투우타)  </td><td>잠전초(남양주리틀)-잠신중-덕수고-한화-경찰                    </td><td>9000만원  </td><td>0.667</td></tr>\n",
              "\t<tr><td>331</td><td>허경민</td><td>2018</td><td>두산</td><td>0.600</td><td>  6</td><td> 15</td><td> 3</td><td> 9</td><td>3</td><td>⋯</td><td>0</td><td>0.800</td><td>0.684</td><td>0</td><td>176cm/69kg </td><td>1990년 08월 26일</td><td>내야수(우투우타)</td><td>송정동초-충장중-광주제일고-두산-경찰                          </td><td>13000만원 </td><td>1.484</td></tr>\n",
              "\t<tr><td>332</td><td>허도환</td><td>2018</td><td>SK  </td><td>0.000</td><td>  4</td><td>  4</td><td> 0</td><td> 0</td><td>0</td><td>⋯</td><td>1</td><td>0.000</td><td>0.000</td><td>0</td><td>176cm/87kg </td><td>1984년 07월 31일</td><td>포수(우투우타)  </td><td>서울학동초-이수중-서울고-단국대-두산-넥센-한화                </td><td>          </td><td>0.000</td></tr>\n",
              "\t<tr><td>334</td><td>호잉  </td><td>2018</td><td>한화</td><td>0.250</td><td>  6</td><td> 16</td><td> 3</td><td> 4</td><td>0</td><td>⋯</td><td>0</td><td>0.688</td><td>0.278</td><td>0</td><td>190cm/92kg </td><td>1989년 05월 18일</td><td>외야수(우투좌타)</td><td>미국 Fort Loramie(고)-미국 Toledo(대)                         </td><td>300000달러</td><td>0.966</td></tr>\n",
              "\t<tr><td>337</td><td>홍재호</td><td>2018</td><td>KIA </td><td>0.333</td><td>  1</td><td>  3</td><td> 0</td><td> 1</td><td>0</td><td>⋯</td><td>0</td><td>0.333</td><td>0.333</td><td>0</td><td>180cm/79kg </td><td>1987년 05월 10일</td><td>내야수(우투우타)</td><td>부산대연초-대천중-부산고-고려대-KIA-경찰                      </td><td>4000만원  </td><td>0.666</td></tr>\n",
              "\t<tr><td>341</td><td>황윤호</td><td>2018</td><td>KIA </td><td>0.000</td><td>  5</td><td>  2</td><td> 1</td><td> 0</td><td>0</td><td>⋯</td><td>0</td><td>0.000</td><td>0.000</td><td>0</td><td>177cm/78kg </td><td>1993년 09월 22일</td><td>내야수(우투우타)</td><td>수주초-신월중-장충고-NC-경찰-NC                               </td><td>3000만원  </td><td>0.000</td></tr>\n",
              "\t<tr><td>342</td><td>황재균</td><td>2018</td><td>KT  </td><td>0.250</td><td>  6</td><td> 16</td><td> 3</td><td> 4</td><td>1</td><td>⋯</td><td>0</td><td>0.500</td><td>0.333</td><td>3</td><td>183cm/96kg </td><td>1987년 07월 28일</td><td>내야수(우투우타)</td><td>사당초-이수중-경기고-현대-우리-히어로즈-넥센-롯데-샌프란시스코</td><td>6000만원  </td><td>0.833</td></tr>\n",
              "</tbody>\n",
              "</table>\n"
            ]
          },
          "metadata": {
            "tags": []
          }
        }
      ]
    },
    {
      "cell_type": "code",
      "metadata": {
        "id": "8B6y0BiTgLuq",
        "colab_type": "code",
        "colab": {
          "base_uri": "https://localhost:8080/",
          "height": 323
        },
        "outputId": "842610b7-4d50-4a43-a548-0e90bdcfc003"
      },
      "source": [
        "# year가 1순위, team이 2순위(내림차순)로 정렬이 진행된다. \n",
        "DF %>% arrange(year, desc(team)) %>% show() # year는 ascending(오름차순), team은 descending(내림차순)"
      ],
      "execution_count": 45,
      "outputs": [
        {
          "output_type": "stream",
          "text": [
            "\u001b[90m# A tibble: 1,393 x 29\u001b[39m\n",
            "   batter_id batter_name  year team  avg       G    AB     R     H  `2B`  `3B`\n",
            "       \u001b[3m\u001b[90m<int>\u001b[39m\u001b[23m \u001b[3m\u001b[90m<chr>\u001b[39m\u001b[23m       \u001b[3m\u001b[90m<int>\u001b[39m\u001b[23m \u001b[3m\u001b[90m<chr>\u001b[39m\u001b[23m \u001b[3m\u001b[90m<chr>\u001b[39m\u001b[23m \u001b[3m\u001b[90m<int>\u001b[39m\u001b[23m \u001b[3m\u001b[90m<int>\u001b[39m\u001b[23m \u001b[3m\u001b[90m<int>\u001b[39m\u001b[23m \u001b[3m\u001b[90m<int>\u001b[39m\u001b[23m \u001b[3m\u001b[90m<int>\u001b[39m\u001b[23m \u001b[3m\u001b[90m<int>\u001b[39m\u001b[23m\n",
            "\u001b[90m 1\u001b[39m        67 김태균       \u001b[4m2\u001b[24m002 한화  0.235    11    34     7     8     5     0\n",
            "\u001b[90m 2\u001b[39m       207 이범호       \u001b[4m2\u001b[24m002 한화  0.167     7     6     2     1     1     0\n",
            "\u001b[90m 3\u001b[39m       131 박한이       \u001b[4m2\u001b[24m002 삼성  0.319    11    47     7    15     3     0\n",
            "\u001b[90m 4\u001b[39m       283 조동찬       \u001b[4m2\u001b[24m002 삼성  0.000     4     1     0     0     0     0\n",
            "\u001b[90m 5\u001b[39m       319 최형우       \u001b[4m2\u001b[24m002 삼성  0.000     5     5     1     0     0     0\n",
            "\u001b[90m 6\u001b[39m        62 김주찬       \u001b[4m2\u001b[24m002 롯데  0.107     9    28     2     3     0     0\n",
            "\u001b[90m 7\u001b[39m       109 박기혁       \u001b[4m2\u001b[24m002 롯데  0.000     8     5     1     0     0     0\n",
            "\u001b[90m 8\u001b[39m       202 이대호       \u001b[4m2\u001b[24m002 롯데  0.359    11    39     4    14     3     0\n",
            "\u001b[90m 9\u001b[39m       234 이진영       \u001b[4m2\u001b[24m002 SK    0.297    11    37     5    11     2     0\n",
            "\u001b[90m10\u001b[39m       269 정상호       \u001b[4m2\u001b[24m002 SK    0.158    13    19     3     3     1     0\n",
            "\u001b[90m# … with 1,383 more rows, and 18 more variables: HR \u001b[3m\u001b[90m<int>\u001b[90m\u001b[23m, TB \u001b[3m\u001b[90m<int>\u001b[90m\u001b[23m, RBI \u001b[3m\u001b[90m<int>\u001b[90m\u001b[23m,\u001b[39m\n",
            "\u001b[90m#   SB \u001b[3m\u001b[90m<int>\u001b[90m\u001b[23m, CS \u001b[3m\u001b[90m<int>\u001b[90m\u001b[23m, BB \u001b[3m\u001b[90m<int>\u001b[90m\u001b[23m, HBP \u001b[3m\u001b[90m<int>\u001b[90m\u001b[23m, SO \u001b[3m\u001b[90m<int>\u001b[90m\u001b[23m, GDP \u001b[3m\u001b[90m<int>\u001b[90m\u001b[23m, SLG \u001b[3m\u001b[90m<dbl>\u001b[90m\u001b[23m,\u001b[39m\n",
            "\u001b[90m#   OBP \u001b[3m\u001b[90m<dbl>\u001b[90m\u001b[23m, E \u001b[3m\u001b[90m<int>\u001b[90m\u001b[23m, `height/weight` \u001b[3m\u001b[90m<chr>\u001b[90m\u001b[23m, year_born \u001b[3m\u001b[90m<chr>\u001b[90m\u001b[23m, position \u001b[3m\u001b[90m<chr>\u001b[90m\u001b[23m,\u001b[39m\n",
            "\u001b[90m#   career \u001b[3m\u001b[90m<chr>\u001b[90m\u001b[23m, starting_salary \u001b[3m\u001b[90m<chr>\u001b[90m\u001b[23m, OPS \u001b[3m\u001b[90m<dbl>\u001b[90m\u001b[23m\u001b[39m\n"
          ],
          "name": "stdout"
        }
      ]
    },
    {
      "cell_type": "code",
      "metadata": {
        "id": "dr8uYrOsgTuG",
        "colab_type": "code",
        "colab": {
          "base_uri": "https://localhost:8080/",
          "height": 323
        },
        "outputId": "2d2e1e86-6a67-4729-f1b2-9df9179cfc74"
      },
      "source": [
        "DF %>% arrange(team, desc(avg)) %>% show() "
      ],
      "execution_count": 46,
      "outputs": [
        {
          "output_type": "stream",
          "text": [
            "\u001b[90m# A tibble: 1,393 x 29\u001b[39m\n",
            "   batter_id batter_name  year team  avg       G    AB     R     H  `2B`  `3B`\n",
            "       \u001b[3m\u001b[90m<int>\u001b[39m\u001b[23m \u001b[3m\u001b[90m<chr>\u001b[39m\u001b[23m       \u001b[3m\u001b[90m<int>\u001b[39m\u001b[23m \u001b[3m\u001b[90m<chr>\u001b[39m\u001b[23m \u001b[3m\u001b[90m<chr>\u001b[39m\u001b[23m \u001b[3m\u001b[90m<int>\u001b[39m\u001b[23m \u001b[3m\u001b[90m<int>\u001b[39m\u001b[23m \u001b[3m\u001b[90m<int>\u001b[39m\u001b[23m \u001b[3m\u001b[90m<int>\u001b[39m\u001b[23m \u001b[3m\u001b[90m<int>\u001b[39m\u001b[23m \u001b[3m\u001b[90m<int>\u001b[39m\u001b[23m\n",
            "\u001b[90m 1\u001b[39m       145 서동욱       \u001b[4m2\u001b[24m004 KIA   1.000     1     1     1     1     0     0\n",
            "\u001b[90m 2\u001b[39m       217 이용규       \u001b[4m2\u001b[24m009 KIA   1.000     1     2     0     2     0     0\n",
            "\u001b[90m 3\u001b[39m        12 강한울       \u001b[4m2\u001b[24m015 KIA   0.600     3    10     2     6     0     1\n",
            "\u001b[90m 4\u001b[39m       139 백용환       \u001b[4m2\u001b[24m018 KIA   0.600     3     5     1     3     1     0\n",
            "\u001b[90m 5\u001b[39m       243 이호신       \u001b[4m2\u001b[24m009 KIA   0.500     9     6     1     3     0     0\n",
            "\u001b[90m 6\u001b[39m       163 신종길       \u001b[4m2\u001b[24m017 KIA   0.500     1     2     1     1     0     0\n",
            "\u001b[90m 7\u001b[39m       169 안치홍       \u001b[4m2\u001b[24m017 KIA   0.500     4    10     1     5     1     0\n",
            "\u001b[90m 8\u001b[39m       232 이준호       \u001b[4m2\u001b[24m013 KIA   0.500     6     8     2     4     1     0\n",
            "\u001b[90m 9\u001b[39m       319 최형우       \u001b[4m2\u001b[24m018 KIA   0.500     4    14     3     7     1     0\n",
            "\u001b[90m10\u001b[39m       160 신범수       \u001b[4m2\u001b[24m017 KIA   0.471     9    17     2     8     2     0\n",
            "\u001b[90m# … with 1,383 more rows, and 18 more variables: HR \u001b[3m\u001b[90m<int>\u001b[90m\u001b[23m, TB \u001b[3m\u001b[90m<int>\u001b[90m\u001b[23m, RBI \u001b[3m\u001b[90m<int>\u001b[90m\u001b[23m,\u001b[39m\n",
            "\u001b[90m#   SB \u001b[3m\u001b[90m<int>\u001b[90m\u001b[23m, CS \u001b[3m\u001b[90m<int>\u001b[90m\u001b[23m, BB \u001b[3m\u001b[90m<int>\u001b[90m\u001b[23m, HBP \u001b[3m\u001b[90m<int>\u001b[90m\u001b[23m, SO \u001b[3m\u001b[90m<int>\u001b[90m\u001b[23m, GDP \u001b[3m\u001b[90m<int>\u001b[90m\u001b[23m, SLG \u001b[3m\u001b[90m<dbl>\u001b[90m\u001b[23m,\u001b[39m\n",
            "\u001b[90m#   OBP \u001b[3m\u001b[90m<dbl>\u001b[90m\u001b[23m, E \u001b[3m\u001b[90m<int>\u001b[90m\u001b[23m, `height/weight` \u001b[3m\u001b[90m<chr>\u001b[90m\u001b[23m, year_born \u001b[3m\u001b[90m<chr>\u001b[90m\u001b[23m, position \u001b[3m\u001b[90m<chr>\u001b[90m\u001b[23m,\u001b[39m\n",
            "\u001b[90m#   career \u001b[3m\u001b[90m<chr>\u001b[90m\u001b[23m, starting_salary \u001b[3m\u001b[90m<chr>\u001b[90m\u001b[23m, OPS \u001b[3m\u001b[90m<dbl>\u001b[90m\u001b[23m\u001b[39m\n"
          ],
          "name": "stdout"
        }
      ]
    },
    {
      "cell_type": "markdown",
      "metadata": {
        "id": "_Sfd58Hlivpr",
        "colab_type": "text"
      },
      "source": [
        "* ``rename`` \n",
        " 1. 특정 열의 이름 변경\n",
        " 2. rename(new_name = old_name) "
      ]
    },
    {
      "cell_type": "code",
      "metadata": {
        "id": "rBwBB0ks4LYC",
        "colab_type": "code",
        "colab": {
          "base_uri": "https://localhost:8080/",
          "height": 323
        },
        "outputId": "19a41603-a930-4bf6-8dc9-f20b588e6e89"
      },
      "source": [
        "\n",
        "DF %>% show()"
      ],
      "execution_count": 47,
      "outputs": [
        {
          "output_type": "stream",
          "text": [
            "\u001b[90m# A tibble: 1,393 x 29\u001b[39m\n",
            "   batter_id batter_name  year team  avg       G    AB     R     H  `2B`  `3B`\n",
            "       \u001b[3m\u001b[90m<int>\u001b[39m\u001b[23m \u001b[3m\u001b[90m<chr>\u001b[39m\u001b[23m       \u001b[3m\u001b[90m<int>\u001b[39m\u001b[23m \u001b[3m\u001b[90m<chr>\u001b[39m\u001b[23m \u001b[3m\u001b[90m<chr>\u001b[39m\u001b[23m \u001b[3m\u001b[90m<int>\u001b[39m\u001b[23m \u001b[3m\u001b[90m<int>\u001b[39m\u001b[23m \u001b[3m\u001b[90m<int>\u001b[39m\u001b[23m \u001b[3m\u001b[90m<int>\u001b[39m\u001b[23m \u001b[3m\u001b[90m<int>\u001b[39m\u001b[23m \u001b[3m\u001b[90m<int>\u001b[39m\u001b[23m\n",
            "\u001b[90m 1\u001b[39m         0 가르시아     \u001b[4m2\u001b[24m018 LG    0.350     7    20     1     7     1     0\n",
            "\u001b[90m 2\u001b[39m         1 강경학       \u001b[4m2\u001b[24m011 한화  0.000     4     2     2     0     0     0\n",
            "\u001b[90m 3\u001b[39m         1 강경학       \u001b[4m2\u001b[24m014 한화  -         4     0     2     0     0     0\n",
            "\u001b[90m 4\u001b[39m         1 강경학       \u001b[4m2\u001b[24m015 한화  0.130    10    23     3     3     0     0\n",
            "\u001b[90m 5\u001b[39m         1 강경학       \u001b[4m2\u001b[24m016 한화  0.188    14    32     4     6     1     1\n",
            "\u001b[90m 6\u001b[39m         1 강경학       \u001b[4m2\u001b[24m017 한화  0.222    11    36    10     8     0     0\n",
            "\u001b[90m 7\u001b[39m         2 강구성       \u001b[4m2\u001b[24m013 NC    0.000     3     4     0     0     0     0\n",
            "\u001b[90m 8\u001b[39m         2 강구성       \u001b[4m2\u001b[24m016 NC    0.000     3     1     0     0     0     0\n",
            "\u001b[90m 9\u001b[39m         2 강구성       \u001b[4m2\u001b[24m017 NC    1.000     2     1     0     1     0     0\n",
            "\u001b[90m10\u001b[39m        69 김태완       \u001b[4m2\u001b[24m006 한화  0.200    10    15     0     3     0     0\n",
            "\u001b[90m# … with 1,383 more rows, and 18 more variables: HR \u001b[3m\u001b[90m<int>\u001b[90m\u001b[23m, TB \u001b[3m\u001b[90m<int>\u001b[90m\u001b[23m, RBI \u001b[3m\u001b[90m<int>\u001b[90m\u001b[23m,\u001b[39m\n",
            "\u001b[90m#   SB \u001b[3m\u001b[90m<int>\u001b[90m\u001b[23m, CS \u001b[3m\u001b[90m<int>\u001b[90m\u001b[23m, BB \u001b[3m\u001b[90m<int>\u001b[90m\u001b[23m, HBP \u001b[3m\u001b[90m<int>\u001b[90m\u001b[23m, SO \u001b[3m\u001b[90m<int>\u001b[90m\u001b[23m, GDP \u001b[3m\u001b[90m<int>\u001b[90m\u001b[23m, SLG \u001b[3m\u001b[90m<dbl>\u001b[90m\u001b[23m,\u001b[39m\n",
            "\u001b[90m#   OBP \u001b[3m\u001b[90m<dbl>\u001b[90m\u001b[23m, E \u001b[3m\u001b[90m<int>\u001b[90m\u001b[23m, `height/weight` \u001b[3m\u001b[90m<chr>\u001b[90m\u001b[23m, year_born \u001b[3m\u001b[90m<chr>\u001b[90m\u001b[23m, position \u001b[3m\u001b[90m<chr>\u001b[90m\u001b[23m,\u001b[39m\n",
            "\u001b[90m#   career \u001b[3m\u001b[90m<chr>\u001b[90m\u001b[23m, starting_salary \u001b[3m\u001b[90m<chr>\u001b[90m\u001b[23m, OPS \u001b[3m\u001b[90m<dbl>\u001b[90m\u001b[23m\u001b[39m\n"
          ],
          "name": "stdout"
        }
      ]
    },
    {
      "cell_type": "code",
      "metadata": {
        "id": "jbWLhtvr4Lcw",
        "colab_type": "code",
        "colab": {
          "base_uri": "https://localhost:8080/",
          "height": 323
        },
        "outputId": "207f5844-c1f1-444c-e4d3-1452d60148a6"
      },
      "source": [
        "# 특정열의 이름을 바꿔준다. \n",
        "# batter_id의 이름을 타자_고유_ID로 바꿔준다.\n",
        "\n",
        "DF %>% rename(타자_고유_ID = batter_id, 타자_이름 = batter_name, 년도 = year) %>% show()"
      ],
      "execution_count": 48,
      "outputs": [
        {
          "output_type": "stream",
          "text": [
            "\u001b[90m# A tibble: 1,393 x 29\u001b[39m\n",
            "   타자_고유_ID 타자_이름  년도 team  avg       G    AB     R     H  `2B`  `3B`\n",
            "          \u001b[3m\u001b[90m<int>\u001b[39m\u001b[23m \u001b[3m\u001b[90m<chr>\u001b[39m\u001b[23m     \u001b[3m\u001b[90m<int>\u001b[39m\u001b[23m \u001b[3m\u001b[90m<chr>\u001b[39m\u001b[23m \u001b[3m\u001b[90m<chr>\u001b[39m\u001b[23m \u001b[3m\u001b[90m<int>\u001b[39m\u001b[23m \u001b[3m\u001b[90m<int>\u001b[39m\u001b[23m \u001b[3m\u001b[90m<int>\u001b[39m\u001b[23m \u001b[3m\u001b[90m<int>\u001b[39m\u001b[23m \u001b[3m\u001b[90m<int>\u001b[39m\u001b[23m \u001b[3m\u001b[90m<int>\u001b[39m\u001b[23m\n",
            "\u001b[90m 1\u001b[39m            0 가르시아   \u001b[4m2\u001b[24m018 LG    0.350     7    20     1     7     1     0\n",
            "\u001b[90m 2\u001b[39m            1 강경학     \u001b[4m2\u001b[24m011 한화  0.000     4     2     2     0     0     0\n",
            "\u001b[90m 3\u001b[39m            1 강경학     \u001b[4m2\u001b[24m014 한화  -         4     0     2     0     0     0\n",
            "\u001b[90m 4\u001b[39m            1 강경학     \u001b[4m2\u001b[24m015 한화  0.130    10    23     3     3     0     0\n",
            "\u001b[90m 5\u001b[39m            1 강경학     \u001b[4m2\u001b[24m016 한화  0.188    14    32     4     6     1     1\n",
            "\u001b[90m 6\u001b[39m            1 강경학     \u001b[4m2\u001b[24m017 한화  0.222    11    36    10     8     0     0\n",
            "\u001b[90m 7\u001b[39m            2 강구성     \u001b[4m2\u001b[24m013 NC    0.000     3     4     0     0     0     0\n",
            "\u001b[90m 8\u001b[39m            2 강구성     \u001b[4m2\u001b[24m016 NC    0.000     3     1     0     0     0     0\n",
            "\u001b[90m 9\u001b[39m            2 강구성     \u001b[4m2\u001b[24m017 NC    1.000     2     1     0     1     0     0\n",
            "\u001b[90m10\u001b[39m           69 김태완     \u001b[4m2\u001b[24m006 한화  0.200    10    15     0     3     0     0\n",
            "\u001b[90m# … with 1,383 more rows, and 18 more variables: HR \u001b[3m\u001b[90m<int>\u001b[90m\u001b[23m, TB \u001b[3m\u001b[90m<int>\u001b[90m\u001b[23m, RBI \u001b[3m\u001b[90m<int>\u001b[90m\u001b[23m,\u001b[39m\n",
            "\u001b[90m#   SB \u001b[3m\u001b[90m<int>\u001b[90m\u001b[23m, CS \u001b[3m\u001b[90m<int>\u001b[90m\u001b[23m, BB \u001b[3m\u001b[90m<int>\u001b[90m\u001b[23m, HBP \u001b[3m\u001b[90m<int>\u001b[90m\u001b[23m, SO \u001b[3m\u001b[90m<int>\u001b[90m\u001b[23m, GDP \u001b[3m\u001b[90m<int>\u001b[90m\u001b[23m, SLG \u001b[3m\u001b[90m<dbl>\u001b[90m\u001b[23m,\u001b[39m\n",
            "\u001b[90m#   OBP \u001b[3m\u001b[90m<dbl>\u001b[90m\u001b[23m, E \u001b[3m\u001b[90m<int>\u001b[90m\u001b[23m, `height/weight` \u001b[3m\u001b[90m<chr>\u001b[90m\u001b[23m, year_born \u001b[3m\u001b[90m<chr>\u001b[90m\u001b[23m, position \u001b[3m\u001b[90m<chr>\u001b[90m\u001b[23m,\u001b[39m\n",
            "\u001b[90m#   career \u001b[3m\u001b[90m<chr>\u001b[90m\u001b[23m, starting_salary \u001b[3m\u001b[90m<chr>\u001b[90m\u001b[23m, OPS \u001b[3m\u001b[90m<dbl>\u001b[90m\u001b[23m\u001b[39m\n"
          ],
          "name": "stdout"
        }
      ]
    },
    {
      "cell_type": "markdown",
      "metadata": {
        "id": "aUEqYldE4OBB",
        "colab_type": "text"
      },
      "source": [
        "* ``mutate / transmute``\n",
        " 1. mutate : 기존 dataframe에서 기존 열 변형 또는 새로운 열 생성\n",
        " 2. transmute : 기존 dataframe에서 기존 열 변형 또는 새로운 열을 생성하고, 해당 열 제외하고 모두 제거\n",
        " 3. mutate(새로운 열 = 기존 열의 조합한 수식, ...)"
      ]
    },
    {
      "cell_type": "code",
      "metadata": {
        "id": "qgZfPrlS4QDl",
        "colab_type": "code",
        "colab": {
          "base_uri": "https://localhost:8080/",
          "height": 323
        },
        "outputId": "48e9aa72-42b8-4bbe-e4f5-9884a405fa92"
      },
      "source": [
        "DF %>% show()"
      ],
      "execution_count": 49,
      "outputs": [
        {
          "output_type": "stream",
          "text": [
            "\u001b[90m# A tibble: 1,393 x 29\u001b[39m\n",
            "   batter_id batter_name  year team  avg       G    AB     R     H  `2B`  `3B`\n",
            "       \u001b[3m\u001b[90m<int>\u001b[39m\u001b[23m \u001b[3m\u001b[90m<chr>\u001b[39m\u001b[23m       \u001b[3m\u001b[90m<int>\u001b[39m\u001b[23m \u001b[3m\u001b[90m<chr>\u001b[39m\u001b[23m \u001b[3m\u001b[90m<chr>\u001b[39m\u001b[23m \u001b[3m\u001b[90m<int>\u001b[39m\u001b[23m \u001b[3m\u001b[90m<int>\u001b[39m\u001b[23m \u001b[3m\u001b[90m<int>\u001b[39m\u001b[23m \u001b[3m\u001b[90m<int>\u001b[39m\u001b[23m \u001b[3m\u001b[90m<int>\u001b[39m\u001b[23m \u001b[3m\u001b[90m<int>\u001b[39m\u001b[23m\n",
            "\u001b[90m 1\u001b[39m         0 가르시아     \u001b[4m2\u001b[24m018 LG    0.350     7    20     1     7     1     0\n",
            "\u001b[90m 2\u001b[39m         1 강경학       \u001b[4m2\u001b[24m011 한화  0.000     4     2     2     0     0     0\n",
            "\u001b[90m 3\u001b[39m         1 강경학       \u001b[4m2\u001b[24m014 한화  -         4     0     2     0     0     0\n",
            "\u001b[90m 4\u001b[39m         1 강경학       \u001b[4m2\u001b[24m015 한화  0.130    10    23     3     3     0     0\n",
            "\u001b[90m 5\u001b[39m         1 강경학       \u001b[4m2\u001b[24m016 한화  0.188    14    32     4     6     1     1\n",
            "\u001b[90m 6\u001b[39m         1 강경학       \u001b[4m2\u001b[24m017 한화  0.222    11    36    10     8     0     0\n",
            "\u001b[90m 7\u001b[39m         2 강구성       \u001b[4m2\u001b[24m013 NC    0.000     3     4     0     0     0     0\n",
            "\u001b[90m 8\u001b[39m         2 강구성       \u001b[4m2\u001b[24m016 NC    0.000     3     1     0     0     0     0\n",
            "\u001b[90m 9\u001b[39m         2 강구성       \u001b[4m2\u001b[24m017 NC    1.000     2     1     0     1     0     0\n",
            "\u001b[90m10\u001b[39m        69 김태완       \u001b[4m2\u001b[24m006 한화  0.200    10    15     0     3     0     0\n",
            "\u001b[90m# … with 1,383 more rows, and 18 more variables: HR \u001b[3m\u001b[90m<int>\u001b[90m\u001b[23m, TB \u001b[3m\u001b[90m<int>\u001b[90m\u001b[23m, RBI \u001b[3m\u001b[90m<int>\u001b[90m\u001b[23m,\u001b[39m\n",
            "\u001b[90m#   SB \u001b[3m\u001b[90m<int>\u001b[90m\u001b[23m, CS \u001b[3m\u001b[90m<int>\u001b[90m\u001b[23m, BB \u001b[3m\u001b[90m<int>\u001b[90m\u001b[23m, HBP \u001b[3m\u001b[90m<int>\u001b[90m\u001b[23m, SO \u001b[3m\u001b[90m<int>\u001b[90m\u001b[23m, GDP \u001b[3m\u001b[90m<int>\u001b[90m\u001b[23m, SLG \u001b[3m\u001b[90m<dbl>\u001b[90m\u001b[23m,\u001b[39m\n",
            "\u001b[90m#   OBP \u001b[3m\u001b[90m<dbl>\u001b[90m\u001b[23m, E \u001b[3m\u001b[90m<int>\u001b[90m\u001b[23m, `height/weight` \u001b[3m\u001b[90m<chr>\u001b[90m\u001b[23m, year_born \u001b[3m\u001b[90m<chr>\u001b[90m\u001b[23m, position \u001b[3m\u001b[90m<chr>\u001b[90m\u001b[23m,\u001b[39m\n",
            "\u001b[90m#   career \u001b[3m\u001b[90m<chr>\u001b[90m\u001b[23m, starting_salary \u001b[3m\u001b[90m<chr>\u001b[90m\u001b[23m, OPS \u001b[3m\u001b[90m<dbl>\u001b[90m\u001b[23m\u001b[39m\n"
          ],
          "name": "stdout"
        }
      ]
    },
    {
      "cell_type": "code",
      "metadata": {
        "id": "W-_fUJa7OQUR",
        "colab_type": "code",
        "colab": {
          "base_uri": "https://localhost:8080/",
          "height": 323
        },
        "outputId": "53b57072-78bc-4503-c695-580ba33c38b7"
      },
      "source": [
        "# mutate = 기존 열 또는 새로운 열을 생성,변형하게 해준다. \n",
        "# batter_id 의 값에다가 각각 100을 더해준 열이 생성된다. \n",
        "DF %>% mutate(batter_id = batter_id + 100) %>% show() # 기존 열의 변형"
      ],
      "execution_count": 50,
      "outputs": [
        {
          "output_type": "stream",
          "text": [
            "\u001b[90m# A tibble: 1,393 x 29\u001b[39m\n",
            "   batter_id batter_name  year team  avg       G    AB     R     H  `2B`  `3B`\n",
            "       \u001b[3m\u001b[90m<dbl>\u001b[39m\u001b[23m \u001b[3m\u001b[90m<chr>\u001b[39m\u001b[23m       \u001b[3m\u001b[90m<int>\u001b[39m\u001b[23m \u001b[3m\u001b[90m<chr>\u001b[39m\u001b[23m \u001b[3m\u001b[90m<chr>\u001b[39m\u001b[23m \u001b[3m\u001b[90m<int>\u001b[39m\u001b[23m \u001b[3m\u001b[90m<int>\u001b[39m\u001b[23m \u001b[3m\u001b[90m<int>\u001b[39m\u001b[23m \u001b[3m\u001b[90m<int>\u001b[39m\u001b[23m \u001b[3m\u001b[90m<int>\u001b[39m\u001b[23m \u001b[3m\u001b[90m<int>\u001b[39m\u001b[23m\n",
            "\u001b[90m 1\u001b[39m       100 가르시아     \u001b[4m2\u001b[24m018 LG    0.350     7    20     1     7     1     0\n",
            "\u001b[90m 2\u001b[39m       101 강경학       \u001b[4m2\u001b[24m011 한화  0.000     4     2     2     0     0     0\n",
            "\u001b[90m 3\u001b[39m       101 강경학       \u001b[4m2\u001b[24m014 한화  -         4     0     2     0     0     0\n",
            "\u001b[90m 4\u001b[39m       101 강경학       \u001b[4m2\u001b[24m015 한화  0.130    10    23     3     3     0     0\n",
            "\u001b[90m 5\u001b[39m       101 강경학       \u001b[4m2\u001b[24m016 한화  0.188    14    32     4     6     1     1\n",
            "\u001b[90m 6\u001b[39m       101 강경학       \u001b[4m2\u001b[24m017 한화  0.222    11    36    10     8     0     0\n",
            "\u001b[90m 7\u001b[39m       102 강구성       \u001b[4m2\u001b[24m013 NC    0.000     3     4     0     0     0     0\n",
            "\u001b[90m 8\u001b[39m       102 강구성       \u001b[4m2\u001b[24m016 NC    0.000     3     1     0     0     0     0\n",
            "\u001b[90m 9\u001b[39m       102 강구성       \u001b[4m2\u001b[24m017 NC    1.000     2     1     0     1     0     0\n",
            "\u001b[90m10\u001b[39m       169 김태완       \u001b[4m2\u001b[24m006 한화  0.200    10    15     0     3     0     0\n",
            "\u001b[90m# … with 1,383 more rows, and 18 more variables: HR \u001b[3m\u001b[90m<int>\u001b[90m\u001b[23m, TB \u001b[3m\u001b[90m<int>\u001b[90m\u001b[23m, RBI \u001b[3m\u001b[90m<int>\u001b[90m\u001b[23m,\u001b[39m\n",
            "\u001b[90m#   SB \u001b[3m\u001b[90m<int>\u001b[90m\u001b[23m, CS \u001b[3m\u001b[90m<int>\u001b[90m\u001b[23m, BB \u001b[3m\u001b[90m<int>\u001b[90m\u001b[23m, HBP \u001b[3m\u001b[90m<int>\u001b[90m\u001b[23m, SO \u001b[3m\u001b[90m<int>\u001b[90m\u001b[23m, GDP \u001b[3m\u001b[90m<int>\u001b[90m\u001b[23m, SLG \u001b[3m\u001b[90m<dbl>\u001b[90m\u001b[23m,\u001b[39m\n",
            "\u001b[90m#   OBP \u001b[3m\u001b[90m<dbl>\u001b[90m\u001b[23m, E \u001b[3m\u001b[90m<int>\u001b[90m\u001b[23m, `height/weight` \u001b[3m\u001b[90m<chr>\u001b[90m\u001b[23m, year_born \u001b[3m\u001b[90m<chr>\u001b[90m\u001b[23m, position \u001b[3m\u001b[90m<chr>\u001b[90m\u001b[23m,\u001b[39m\n",
            "\u001b[90m#   career \u001b[3m\u001b[90m<chr>\u001b[90m\u001b[23m, starting_salary \u001b[3m\u001b[90m<chr>\u001b[90m\u001b[23m, OPS \u001b[3m\u001b[90m<dbl>\u001b[90m\u001b[23m\u001b[39m\n"
          ],
          "name": "stdout"
        }
      ]
    },
    {
      "cell_type": "code",
      "metadata": {
        "id": "GsRGMgIdOkGq",
        "colab_type": "code",
        "colab": {
          "base_uri": "https://localhost:8080/",
          "height": 629
        },
        "outputId": "794e8d9c-e459-405c-f618-475a83a87e33"
      },
      "source": [
        "# paste = \"_\"를 기준으로 batter_id과 batter_name을 합쳐준다. \n",
        "# 합친것중 batter_name을 제거한다. \n",
        "DF %>% mutate(batter_id = paste(batter_id, batter_name, sep = \"_\")) %>% select(-batter_name)%>% show() # 기존 열의 변형 2\n",
        "# DF %>% mutate(batter_id = paste(batter_id, batter_name, sep = \"_\")) %>% show() # 기존 열의 변형 2"
      ],
      "execution_count": 67,
      "outputs": [
        {
          "output_type": "stream",
          "text": [
            "\u001b[90m# A tibble: 1,393 x 28\u001b[39m\n",
            "   batter_id  year team  avg       G    AB     R     H  `2B`  `3B`    HR    TB\n",
            "   \u001b[3m\u001b[90m<chr>\u001b[39m\u001b[23m     \u001b[3m\u001b[90m<int>\u001b[39m\u001b[23m \u001b[3m\u001b[90m<chr>\u001b[39m\u001b[23m \u001b[3m\u001b[90m<chr>\u001b[39m\u001b[23m \u001b[3m\u001b[90m<int>\u001b[39m\u001b[23m \u001b[3m\u001b[90m<int>\u001b[39m\u001b[23m \u001b[3m\u001b[90m<int>\u001b[39m\u001b[23m \u001b[3m\u001b[90m<int>\u001b[39m\u001b[23m \u001b[3m\u001b[90m<int>\u001b[39m\u001b[23m \u001b[3m\u001b[90m<int>\u001b[39m\u001b[23m \u001b[3m\u001b[90m<int>\u001b[39m\u001b[23m \u001b[3m\u001b[90m<int>\u001b[39m\u001b[23m\n",
            "\u001b[90m 1\u001b[39m 0_가르시아…  \u001b[4m2\u001b[24m018 LG    0.350     7    20     1     7     1     0     1    11\n",
            "\u001b[90m 2\u001b[39m 1_강경학   \u001b[4m2\u001b[24m011 한화  0.000     4     2     2     0     0     0     0     0\n",
            "\u001b[90m 3\u001b[39m 1_강경학   \u001b[4m2\u001b[24m014 한화  -         4     0     2     0     0     0     0     0\n",
            "\u001b[90m 4\u001b[39m 1_강경학   \u001b[4m2\u001b[24m015 한화  0.130    10    23     3     3     0     0     0     3\n",
            "\u001b[90m 5\u001b[39m 1_강경학   \u001b[4m2\u001b[24m016 한화  0.188    14    32     4     6     1     1     0     9\n",
            "\u001b[90m 6\u001b[39m 1_강경학   \u001b[4m2\u001b[24m017 한화  0.222    11    36    10     8     0     0     2    14\n",
            "\u001b[90m 7\u001b[39m 2_강구성   \u001b[4m2\u001b[24m013 NC    0.000     3     4     0     0     0     0     0     0\n",
            "\u001b[90m 8\u001b[39m 2_강구성   \u001b[4m2\u001b[24m016 NC    0.000     3     1     0     0     0     0     0     0\n",
            "\u001b[90m 9\u001b[39m 2_강구성   \u001b[4m2\u001b[24m017 NC    1.000     2     1     0     1     0     0     0     1\n",
            "\u001b[90m10\u001b[39m 69_김태완  \u001b[4m2\u001b[24m006 한화  0.200    10    15     0     3     0     0     0     3\n",
            "\u001b[90m# … with 1,383 more rows, and 16 more variables: RBI \u001b[3m\u001b[90m<int>\u001b[90m\u001b[23m, SB \u001b[3m\u001b[90m<int>\u001b[90m\u001b[23m, CS \u001b[3m\u001b[90m<int>\u001b[90m\u001b[23m,\u001b[39m\n",
            "\u001b[90m#   BB \u001b[3m\u001b[90m<int>\u001b[90m\u001b[23m, HBP \u001b[3m\u001b[90m<int>\u001b[90m\u001b[23m, SO \u001b[3m\u001b[90m<int>\u001b[90m\u001b[23m, GDP \u001b[3m\u001b[90m<int>\u001b[90m\u001b[23m, SLG \u001b[3m\u001b[90m<dbl>\u001b[90m\u001b[23m, OBP \u001b[3m\u001b[90m<dbl>\u001b[90m\u001b[23m, E \u001b[3m\u001b[90m<int>\u001b[90m\u001b[23m,\u001b[39m\n",
            "\u001b[90m#   `height/weight` \u001b[3m\u001b[90m<chr>\u001b[90m\u001b[23m, year_born \u001b[3m\u001b[90m<chr>\u001b[90m\u001b[23m, position \u001b[3m\u001b[90m<chr>\u001b[90m\u001b[23m, career \u001b[3m\u001b[90m<chr>\u001b[90m\u001b[23m,\u001b[39m\n",
            "\u001b[90m#   starting_salary \u001b[3m\u001b[90m<chr>\u001b[90m\u001b[23m, OPS \u001b[3m\u001b[90m<dbl>\u001b[90m\u001b[23m\u001b[39m\n",
            "\u001b[90m# A tibble: 1,393 x 29\u001b[39m\n",
            "   batter_id batter_name  year team  avg       G    AB     R     H  `2B`  `3B`\n",
            "   \u001b[3m\u001b[90m<chr>\u001b[39m\u001b[23m     \u001b[3m\u001b[90m<chr>\u001b[39m\u001b[23m       \u001b[3m\u001b[90m<int>\u001b[39m\u001b[23m \u001b[3m\u001b[90m<chr>\u001b[39m\u001b[23m \u001b[3m\u001b[90m<chr>\u001b[39m\u001b[23m \u001b[3m\u001b[90m<int>\u001b[39m\u001b[23m \u001b[3m\u001b[90m<int>\u001b[39m\u001b[23m \u001b[3m\u001b[90m<int>\u001b[39m\u001b[23m \u001b[3m\u001b[90m<int>\u001b[39m\u001b[23m \u001b[3m\u001b[90m<int>\u001b[39m\u001b[23m \u001b[3m\u001b[90m<int>\u001b[39m\u001b[23m\n",
            "\u001b[90m 1\u001b[39m 0_가르시아… 가르시아     \u001b[4m2\u001b[24m018 LG    0.350     7    20     1     7     1     0\n",
            "\u001b[90m 2\u001b[39m 1_강경학  강경학       \u001b[4m2\u001b[24m011 한화  0.000     4     2     2     0     0     0\n",
            "\u001b[90m 3\u001b[39m 1_강경학  강경학       \u001b[4m2\u001b[24m014 한화  -         4     0     2     0     0     0\n",
            "\u001b[90m 4\u001b[39m 1_강경학  강경학       \u001b[4m2\u001b[24m015 한화  0.130    10    23     3     3     0     0\n",
            "\u001b[90m 5\u001b[39m 1_강경학  강경학       \u001b[4m2\u001b[24m016 한화  0.188    14    32     4     6     1     1\n",
            "\u001b[90m 6\u001b[39m 1_강경학  강경학       \u001b[4m2\u001b[24m017 한화  0.222    11    36    10     8     0     0\n",
            "\u001b[90m 7\u001b[39m 2_강구성  강구성       \u001b[4m2\u001b[24m013 NC    0.000     3     4     0     0     0     0\n",
            "\u001b[90m 8\u001b[39m 2_강구성  강구성       \u001b[4m2\u001b[24m016 NC    0.000     3     1     0     0     0     0\n",
            "\u001b[90m 9\u001b[39m 2_강구성  강구성       \u001b[4m2\u001b[24m017 NC    1.000     2     1     0     1     0     0\n",
            "\u001b[90m10\u001b[39m 69_김태완 김태완       \u001b[4m2\u001b[24m006 한화  0.200    10    15     0     3     0     0\n",
            "\u001b[90m# … with 1,383 more rows, and 18 more variables: HR \u001b[3m\u001b[90m<int>\u001b[90m\u001b[23m, TB \u001b[3m\u001b[90m<int>\u001b[90m\u001b[23m, RBI \u001b[3m\u001b[90m<int>\u001b[90m\u001b[23m,\u001b[39m\n",
            "\u001b[90m#   SB \u001b[3m\u001b[90m<int>\u001b[90m\u001b[23m, CS \u001b[3m\u001b[90m<int>\u001b[90m\u001b[23m, BB \u001b[3m\u001b[90m<int>\u001b[90m\u001b[23m, HBP \u001b[3m\u001b[90m<int>\u001b[90m\u001b[23m, SO \u001b[3m\u001b[90m<int>\u001b[90m\u001b[23m, GDP \u001b[3m\u001b[90m<int>\u001b[90m\u001b[23m, SLG \u001b[3m\u001b[90m<dbl>\u001b[90m\u001b[23m,\u001b[39m\n",
            "\u001b[90m#   OBP \u001b[3m\u001b[90m<dbl>\u001b[90m\u001b[23m, E \u001b[3m\u001b[90m<int>\u001b[90m\u001b[23m, `height/weight` \u001b[3m\u001b[90m<chr>\u001b[90m\u001b[23m, year_born \u001b[3m\u001b[90m<chr>\u001b[90m\u001b[23m, position \u001b[3m\u001b[90m<chr>\u001b[90m\u001b[23m,\u001b[39m\n",
            "\u001b[90m#   career \u001b[3m\u001b[90m<chr>\u001b[90m\u001b[23m, starting_salary \u001b[3m\u001b[90m<chr>\u001b[90m\u001b[23m, OPS \u001b[3m\u001b[90m<dbl>\u001b[90m\u001b[23m\u001b[39m\n"
          ],
          "name": "stdout"
        }
      ]
    },
    {
      "cell_type": "code",
      "metadata": {
        "id": "V4eTejGa4QIm",
        "colab_type": "code",
        "colab": {
          "base_uri": "https://localhost:8080/",
          "height": 1000
        },
        "outputId": "bec53b2f-dded-4210-c30e-3a8e732c0881"
      },
      "source": [
        "# mutate를 이용해서 새로운 열인 G_R을 생성한다. \n",
        "DF %>% mutate(G_R = R / G) # 경기 당(G) 득점(R), 추가되는 열은 끝으로 이동"
      ],
      "execution_count": 52,
      "outputs": [
        {
          "output_type": "display_data",
          "data": {
            "text/plain": [
              "     batter_id batter_name year team     avg   G  AB R  H  2B ⋯ SLG   OBP   E\n",
              "1     0        가르시아    2018 LG       0.350  7 20  1  7 1  ⋯ 0.550 0.409 1\n",
              "2     1        강경학      2011 한화     0.000  4  2  2  0 0  ⋯ 0.000 0.500 0\n",
              "3     1        강경학      2014 한화     -      4  0  2  0 0  ⋯    NA    NA 0\n",
              "4     1        강경학      2015 한화     0.130 10 23  3  3 0  ⋯ 0.130 0.286 2\n",
              "5     1        강경학      2016 한화     0.188 14 32  4  6 1  ⋯ 0.281 0.212 0\n",
              "6     1        강경학      2017 한화     0.222 11 36 10  8 0  ⋯ 0.389 0.282 1\n",
              "7     2        강구성      2013 NC       0.000  3  4  0  0 0  ⋯ 0.000 0.000 0\n",
              "8     2        강구성      2016 NC       0.000  3  1  0  0 0  ⋯ 0.000 0.500 0\n",
              "9     2        강구성      2017 NC       1.000  2  1  0  1 0  ⋯ 1.000 1.000 0\n",
              "10   69        김태완      2006 한화     0.200 10 15  0  3 0  ⋯ 0.200 0.278 0\n",
              "11   69        김태완      2007 한화     0.318  8 22  4  7 3  ⋯ 0.864 0.423 0\n",
              "12   69        김태완      2008 한화     0.375 10 24  3  9 1  ⋯ 0.542 0.444 0\n",
              "13   69        김태완      2009 한화     0.320 10 25  5  8 3  ⋯ 0.560 0.452 1\n",
              "14   69        김태완      2010 한화     0.400  2  5  2  2 0  ⋯ 0.800 0.400 1\n",
              "15   69        김태완      2013 한화     0.250  9 28  3  7 0  ⋯ 0.250 0.417 0\n",
              "16   69        김태완      2014 한화     0.125 10 16  1  2 0  ⋯ 0.125 0.263 0\n",
              "17   69        김태완      2016 한화     0.000  3  3  0  0 0  ⋯ 0.000 0.250 0\n",
              "18   69        김태완      2017 넥센     0.370 12 27  2 10 1  ⋯ 0.519 0.364 1\n",
              "19   69        김태완      2018 넥센     0.375  5  8  2  3 1  ⋯ 0.875 0.500 0\n",
              "20    3        강민국      2014 NC       0.000  2  1  0  0 0  ⋯ 0.000 0.000 0\n",
              "21    3        강민국      2015 NC       0.100  9 10  2  1 1  ⋯ 0.200 0.100 0\n",
              "22    3        강민국      2016 NC       0.316 16 19  2  6 2  ⋯ 0.526 0.381 0\n",
              "23    4        강민호      2005 롯데     0.250 11 20  2  5 4  ⋯ 0.450 0.250 0\n",
              "24    4        강민호      2006 롯데     0.381  9 21  6  8 1  ⋯ 0.810 0.391 0\n",
              "25    4        강민호      2007 롯데     0.136 10 22  2  3 0  ⋯ 0.136 0.174 0\n",
              "26    4        강민호      2008 롯데     0.200  5 10  0  2 1  ⋯ 0.300 0.273 0\n",
              "27    4        강민호      2009 롯데     0.167  2  6  0  1 0  ⋯ 0.167 0.167 0\n",
              "28    4        강민호      2010 롯데     0.261 10 23  8  6 1  ⋯ 0.826 0.414 0\n",
              "29    4        강민호      2011 롯데     0.353 13 34  4 12 3  ⋯ 0.618 0.400 0\n",
              "30    4        강민호      2012 롯데     0.273  5 11  2  3 0  ⋯ 0.273 0.273 0\n",
              "⋮    ⋮         ⋮           ⋮    ⋮        ⋮     ⋮  ⋮  ⋮  ⋮  ⋮  ⋱ ⋮     ⋮     ⋮\n",
              "1364 331       허경민      2017 두산     0.250 11 32 4   8 0  ⋯ 0.438 0.314 0\n",
              "1365 331       허경민      2018 두산     0.600  6 15 3   9 3  ⋯ 0.800 0.684 0\n",
              "1366 332       허도환      2012 넥센     0.200  9 15 0   3 0  ⋯ 0.200 0.294 0\n",
              "1367 332       허도환      2013 넥센     0.000  4  8 0   0 0  ⋯ 0.000 0.000 0\n",
              "1368 332       허도환      2014 넥센     0.150 12 20 2   3 0  ⋯ 0.300 0.227 2\n",
              "1369 332       허도환      2016 한화     0.250  8 12 2   3 2  ⋯ 0.417 0.333 0\n",
              "1370 332       허도환      2017 한화     0.375  7  8 1   3 2  ⋯ 0.625 0.375 1\n",
              "1371 332       허도환      2018 SK       0.000  4  4 0   0 0  ⋯ 0.000 0.000 0\n",
              "1372 334       호잉        2018 한화     0.250  6 16 3   4 0  ⋯ 0.688 0.278 0\n",
              "1373 337       홍재호      2011 KIA      0.111  8  9 1   1 0  ⋯ 0.111 0.111 0\n",
              "1374 337       홍재호      2012 KIA      0.250 12 24 3   6 0  ⋯ 0.375 0.308 0\n",
              "1375 337       홍재호      2013 KIA      0.438 11 16 5   7 1  ⋯ 0.625 0.500 1\n",
              "1376 337       홍재호      2017 KIA      0.231 11 13 3   3 0  ⋯ 0.385 0.286 0\n",
              "1377 337       홍재호      2018 KIA      0.333  1  3 0   1 0  ⋯ 0.333 0.333 0\n",
              "1378 338       홍창기      2016 LG       0.200  5  5 0   1 1  ⋯ 0.400 0.429 1\n",
              "1379 341       황윤호      2015 NC       -      2  0 0   0 0  ⋯    NA    NA 0\n",
              "1380 341       황윤호      2016 NC       0.000  2  1 0   0 0  ⋯ 0.000 0.000 1\n",
              "1381 341       황윤호      2017 NC       0.000  8  3 2   0 0  ⋯ 0.000 0.000 0\n",
              "1382 341       황윤호      2018 KIA      0.000  5  2 1   0 0  ⋯ 0.000 0.000 0\n",
              "1383 342       황재균      2008 우리     0.179 11 28 0   5 1  ⋯ 0.214 0.179 2\n",
              "1384 342       황재균      2009 히어로즈 0.194 11 31 4   6 2  ⋯ 0.258 0.242 1\n",
              "1385 342       황재균      2010 롯데     0.174 12 46 4   8 1  ⋯ 0.304 0.224 2\n",
              "1386 342       황재균      2011 롯데     0.152 13 33 2   5 1  ⋯ 0.242 0.222 3\n",
              "1387 342       황재균      2012 롯데     0.154 12 26 2   4 2  ⋯ 0.346 0.258 1\n",
              "1388 342       황재균      2013 롯데     0.200 10 30 2   6 0  ⋯ 0.300 0.306 3\n",
              "1389 342       황재균      2014 롯데     0.407 10 27 3  11 2  ⋯ 0.593 0.448 1\n",
              "1390 342       황재균      2015 롯데     0.333 11 30 8  10 3  ⋯ 0.433 0.389 0\n",
              "1391 342       황재균      2016 롯데     0.310 16 42 8  13 3  ⋯ 0.429 0.370 1\n",
              "1392 342       황재균      2018 KT       0.250  6 16 3   4 1  ⋯ 0.500 0.333 3\n",
              "1393 344       황진수      2014 롯데     0.000  1  1 1   0 0  ⋯ 0.000 0.000 0\n",
              "     height/weight year_born        position        \n",
              "1    177cm/93kg    1985년 04월 12일 내야수(우투우타)\n",
              "2    180cm/72kg    1992년 08월 11일 내야수(우투좌타)\n",
              "3    180cm/72kg    1992년 08월 11일 내야수(우투좌타)\n",
              "4    180cm/72kg    1992년 08월 11일 내야수(우투좌타)\n",
              "5    180cm/72kg    1992년 08월 11일 내야수(우투좌타)\n",
              "6    180cm/72kg    1992년 08월 11일 내야수(우투좌타)\n",
              "7    180cm/82kg    1993년 06월 09일 외야수(우투좌타)\n",
              "8    180cm/82kg    1993년 06월 09일 외야수(우투좌타)\n",
              "9    180cm/82kg    1993년 06월 09일 외야수(우투좌타)\n",
              "10   189cm/105kg   1984년 01월 27일 내야수(우투우타)\n",
              "11   189cm/105kg   1984년 01월 27일 내야수(우투우타)\n",
              "12   189cm/105kg   1984년 01월 27일 내야수(우투우타)\n",
              "13   189cm/105kg   1984년 01월 27일 내야수(우투우타)\n",
              "14   189cm/105kg   1984년 01월 27일 내야수(우투우타)\n",
              "15   189cm/105kg   1984년 01월 27일 내야수(우투우타)\n",
              "16   189cm/105kg   1984년 01월 27일 내야수(우투우타)\n",
              "17   189cm/105kg   1984년 01월 27일 내야수(우투우타)\n",
              "18   189cm/105kg   1984년 01월 27일 내야수(우투우타)\n",
              "19   189cm/105kg   1984년 01월 27일 내야수(우투우타)\n",
              "20   176cm/80kg    1992년 01월 10일 내야수(우투우타)\n",
              "21   176cm/80kg    1992년 01월 10일 내야수(우투우타)\n",
              "22   176cm/80kg    1992년 01월 10일 내야수(우투우타)\n",
              "23   185cm/100kg   1985년 08월 18일 포수(우투우타)  \n",
              "24   185cm/100kg   1985년 08월 18일 포수(우투우타)  \n",
              "25   185cm/100kg   1985년 08월 18일 포수(우투우타)  \n",
              "26   185cm/100kg   1985년 08월 18일 포수(우투우타)  \n",
              "27   185cm/100kg   1985년 08월 18일 포수(우투우타)  \n",
              "28   185cm/100kg   1985년 08월 18일 포수(우투우타)  \n",
              "29   185cm/100kg   1985년 08월 18일 포수(우투우타)  \n",
              "30   185cm/100kg   1985년 08월 18일 포수(우투우타)  \n",
              "⋮    ⋮             ⋮                ⋮               \n",
              "1364 176cm/69kg    1990년 08월 26일 내야수(우투우타)\n",
              "1365 176cm/69kg    1990년 08월 26일 내야수(우투우타)\n",
              "1366 176cm/87kg    1984년 07월 31일 포수(우투우타)  \n",
              "1367 176cm/87kg    1984년 07월 31일 포수(우투우타)  \n",
              "1368 176cm/87kg    1984년 07월 31일 포수(우투우타)  \n",
              "1369 176cm/87kg    1984년 07월 31일 포수(우투우타)  \n",
              "1370 176cm/87kg    1984년 07월 31일 포수(우투우타)  \n",
              "1371 176cm/87kg    1984년 07월 31일 포수(우투우타)  \n",
              "1372 190cm/92kg    1989년 05월 18일 외야수(우투좌타)\n",
              "1373 180cm/79kg    1987년 05월 10일 내야수(우투우타)\n",
              "1374 180cm/79kg    1987년 05월 10일 내야수(우투우타)\n",
              "1375 180cm/79kg    1987년 05월 10일 내야수(우투우타)\n",
              "1376 180cm/79kg    1987년 05월 10일 내야수(우투우타)\n",
              "1377 180cm/79kg    1987년 05월 10일 내야수(우투우타)\n",
              "1378 189cm/94kg    1993년 11월 21일 외야수(우투좌타)\n",
              "1379 177cm/78kg    1993년 09월 22일 내야수(우투우타)\n",
              "1380 177cm/78kg    1993년 09월 22일 내야수(우투우타)\n",
              "1381 177cm/78kg    1993년 09월 22일 내야수(우투우타)\n",
              "1382 177cm/78kg    1993년 09월 22일 내야수(우투우타)\n",
              "1383 183cm/96kg    1987년 07월 28일 내야수(우투우타)\n",
              "1384 183cm/96kg    1987년 07월 28일 내야수(우투우타)\n",
              "1385 183cm/96kg    1987년 07월 28일 내야수(우투우타)\n",
              "1386 183cm/96kg    1987년 07월 28일 내야수(우투우타)\n",
              "1387 183cm/96kg    1987년 07월 28일 내야수(우투우타)\n",
              "1388 183cm/96kg    1987년 07월 28일 내야수(우투우타)\n",
              "1389 183cm/96kg    1987년 07월 28일 내야수(우투우타)\n",
              "1390 183cm/96kg    1987년 07월 28일 내야수(우투우타)\n",
              "1391 183cm/96kg    1987년 07월 28일 내야수(우투우타)\n",
              "1392 183cm/96kg    1987년 07월 28일 내야수(우투우타)\n",
              "1393 181cm/82kg    1989년 02월 15일 내야수(우투양타)\n",
              "     career                                                        \n",
              "1    쿠바 Ciego de Avila Maximo Gomez Baez(대)                     \n",
              "2    광주대성초-광주동성중-광주동성고                              \n",
              "3    광주대성초-광주동성중-광주동성고                              \n",
              "4    광주대성초-광주동성중-광주동성고                              \n",
              "5    광주대성초-광주동성중-광주동성고                              \n",
              "6    광주대성초-광주동성중-광주동성고                              \n",
              "7    관산초-부천중-야탑고-NC-상무                                  \n",
              "8    관산초-부천중-야탑고-NC-상무                                  \n",
              "9    관산초-부천중-야탑고-NC-상무                                  \n",
              "10   양목초-신월중-중앙고-성균관대-한화                            \n",
              "11   양목초-신월중-중앙고-성균관대-한화                            \n",
              "12   양목초-신월중-중앙고-성균관대-한화                            \n",
              "13   양목초-신월중-중앙고-성균관대-한화                            \n",
              "14   양목초-신월중-중앙고-성균관대-한화                            \n",
              "15   양목초-신월중-중앙고-성균관대-한화                            \n",
              "16   양목초-신월중-중앙고-성균관대-한화                            \n",
              "17   양목초-신월중-중앙고-성균관대-한화                            \n",
              "18   양목초-신월중-중앙고-성균관대-한화                            \n",
              "19   양목초-신월중-중앙고-성균관대-한화                            \n",
              "20   송정동초-충장중-광주제일고-동국대-NC-상무                     \n",
              "21   송정동초-충장중-광주제일고-동국대-NC-상무                     \n",
              "22   송정동초-충장중-광주제일고-동국대-NC-상무                     \n",
              "23   제주신광초-포철중-포철공고-(국제디지털대)-롯데                \n",
              "24   제주신광초-포철중-포철공고-(국제디지털대)-롯데                \n",
              "25   제주신광초-포철중-포철공고-(국제디지털대)-롯데                \n",
              "26   제주신광초-포철중-포철공고-(국제디지털대)-롯데                \n",
              "27   제주신광초-포철중-포철공고-(국제디지털대)-롯데                \n",
              "28   제주신광초-포철중-포철공고-(국제디지털대)-롯데                \n",
              "29   제주신광초-포철중-포철공고-(국제디지털대)-롯데                \n",
              "30   제주신광초-포철중-포철공고-(국제디지털대)-롯데                \n",
              "⋮    ⋮                                                             \n",
              "1364 송정동초-충장중-광주제일고-두산-경찰                          \n",
              "1365 송정동초-충장중-광주제일고-두산-경찰                          \n",
              "1366 서울학동초-이수중-서울고-단국대-두산-넥센-한화                \n",
              "1367 서울학동초-이수중-서울고-단국대-두산-넥센-한화                \n",
              "1368 서울학동초-이수중-서울고-단국대-두산-넥센-한화                \n",
              "1369 서울학동초-이수중-서울고-단국대-두산-넥센-한화                \n",
              "1370 서울학동초-이수중-서울고-단국대-두산-넥센-한화                \n",
              "1371 서울학동초-이수중-서울고-단국대-두산-넥센-한화                \n",
              "1372 미국 Fort Loramie(고)-미국 Toledo(대)                         \n",
              "1373 부산대연초-대천중-부산고-고려대-KIA-경찰                      \n",
              "1374 부산대연초-대천중-부산고-고려대-KIA-경찰                      \n",
              "1375 부산대연초-대천중-부산고-고려대-KIA-경찰                      \n",
              "1376 부산대연초-대천중-부산고-고려대-KIA-경찰                      \n",
              "1377 부산대연초-대천중-부산고-고려대-KIA-경찰                      \n",
              "1378 대일초-매송중-안산공고-건국대-LG-경찰                         \n",
              "1379 수주초-신월중-장충고-NC-경찰-NC                               \n",
              "1380 수주초-신월중-장충고-NC-경찰-NC                               \n",
              "1381 수주초-신월중-장충고-NC-경찰-NC                               \n",
              "1382 수주초-신월중-장충고-NC-경찰-NC                               \n",
              "1383 사당초-이수중-경기고-현대-우리-히어로즈-넥센-롯데-샌프란시스코\n",
              "1384 사당초-이수중-경기고-현대-우리-히어로즈-넥센-롯데-샌프란시스코\n",
              "1385 사당초-이수중-경기고-현대-우리-히어로즈-넥센-롯데-샌프란시스코\n",
              "1386 사당초-이수중-경기고-현대-우리-히어로즈-넥센-롯데-샌프란시스코\n",
              "1387 사당초-이수중-경기고-현대-우리-히어로즈-넥센-롯데-샌프란시스코\n",
              "1388 사당초-이수중-경기고-현대-우리-히어로즈-넥센-롯데-샌프란시스코\n",
              "1389 사당초-이수중-경기고-현대-우리-히어로즈-넥센-롯데-샌프란시스코\n",
              "1390 사당초-이수중-경기고-현대-우리-히어로즈-넥센-롯데-샌프란시스코\n",
              "1391 사당초-이수중-경기고-현대-우리-히어로즈-넥센-롯데-샌프란시스코\n",
              "1392 사당초-이수중-경기고-현대-우리-히어로즈-넥센-롯데-샌프란시스코\n",
              "1393 석천초-대헌중-공주고                                          \n",
              "     starting_salary OPS   G_R      \n",
              "1                    0.959 0.1428571\n",
              "2    10000만원       0.500 0.5000000\n",
              "3    10000만원          NA 0.5000000\n",
              "4    10000만원       0.416 0.3000000\n",
              "5    10000만원       0.493 0.2857143\n",
              "6    10000만원       0.671 0.9090909\n",
              "7    9000만원        0.000 0.0000000\n",
              "8    9000만원        0.500 0.0000000\n",
              "9    9000만원        2.000 0.0000000\n",
              "10   11000만원       0.478 0.0000000\n",
              "11   11000만원       1.287 0.5000000\n",
              "12   11000만원       0.986 0.3000000\n",
              "13   11000만원       1.012 0.5000000\n",
              "14   11000만원       1.200 1.0000000\n",
              "15   11000만원       0.667 0.3333333\n",
              "16   11000만원       0.388 0.1000000\n",
              "17   11000만원       0.250 0.0000000\n",
              "18   11000만원       0.883 0.1666667\n",
              "19   11000만원       1.375 0.4000000\n",
              "20   20000만원       0.000 0.0000000\n",
              "21   20000만원       0.300 0.2222222\n",
              "22   20000만원       0.907 0.1250000\n",
              "23   9000만원        0.700 0.1818182\n",
              "24   9000만원        1.201 0.6666667\n",
              "25   9000만원        0.310 0.2000000\n",
              "26   9000만원        0.573 0.0000000\n",
              "27   9000만원        0.334 0.0000000\n",
              "28   9000만원        1.240 0.8000000\n",
              "29   9000만원        1.018 0.3076923\n",
              "30   9000만원        0.546 0.4000000\n",
              "⋮    ⋮               ⋮     ⋮        \n",
              "1364 13000만원       0.752 0.3636364\n",
              "1365 13000만원       1.484 0.5000000\n",
              "1366                 0.494 0.0000000\n",
              "1367                 0.000 0.0000000\n",
              "1368                 0.527 0.1666667\n",
              "1369                 0.750 0.2500000\n",
              "1370                 1.000 0.1428571\n",
              "1371                 0.000 0.0000000\n",
              "1372 300000달러      0.966 0.5000000\n",
              "1373 4000만원        0.222 0.1250000\n",
              "1374 4000만원        0.683 0.2500000\n",
              "1375 4000만원        1.125 0.4545455\n",
              "1376 4000만원        0.671 0.2727273\n",
              "1377 4000만원        0.666 0.0000000\n",
              "1378 8000만원        0.829 0.0000000\n",
              "1379 3000만원           NA 0.0000000\n",
              "1380 3000만원        0.000 0.0000000\n",
              "1381 3000만원        0.000 0.2500000\n",
              "1382 3000만원        0.000 0.2000000\n",
              "1383 6000만원        0.393 0.0000000\n",
              "1384 6000만원        0.500 0.3636364\n",
              "1385 6000만원        0.528 0.3333333\n",
              "1386 6000만원        0.464 0.1538462\n",
              "1387 6000만원        0.604 0.1666667\n",
              "1388 6000만원        0.606 0.2000000\n",
              "1389 6000만원        1.041 0.3000000\n",
              "1390 6000만원        0.822 0.7272727\n",
              "1391 6000만원        0.799 0.5000000\n",
              "1392 6000만원        0.833 0.5000000\n",
              "1393 4000만원        0.000 1.0000000"
            ],
            "text/latex": "A tibble: 1393 × 30\n\\begin{tabular}{lllllllllllllllllllll}\n batter\\_id & batter\\_name & year & team & avg & G & AB & R & H & 2B & ⋯ & SLG & OBP & E & height/weight & year\\_born & position & career & starting\\_salary & OPS & G\\_R\\\\\n <int> & <chr> & <int> & <chr> & <chr> & <int> & <int> & <int> & <int> & <int> & ⋯ & <dbl> & <dbl> & <int> & <chr> & <chr> & <chr> & <chr> & <chr> & <dbl> & <dbl>\\\\\n\\hline\n\t  0 & 가르시아 & 2018 & LG   & 0.350 &  7 & 20 &  1 &  7 & 1 & ⋯ & 0.550 & 0.409 & 1 & 177cm/93kg  & 1985년 04월 12일 & 내야수(우투우타) & 쿠바 Ciego de Avila Maximo Gomez Baez(대)      &           & 0.959 & 0.1428571\\\\\n\t  1 & 강경학   & 2011 & 한화 & 0.000 &  4 &  2 &  2 &  0 & 0 & ⋯ & 0.000 & 0.500 & 0 & 180cm/72kg  & 1992년 08월 11일 & 내야수(우투좌타) & 광주대성초-광주동성중-광주동성고               & 10000만원 & 0.500 & 0.5000000\\\\\n\t  1 & 강경학   & 2014 & 한화 & -     &  4 &  0 &  2 &  0 & 0 & ⋯ &    NA &    NA & 0 & 180cm/72kg  & 1992년 08월 11일 & 내야수(우투좌타) & 광주대성초-광주동성중-광주동성고               & 10000만원 &    NA & 0.5000000\\\\\n\t  1 & 강경학   & 2015 & 한화 & 0.130 & 10 & 23 &  3 &  3 & 0 & ⋯ & 0.130 & 0.286 & 2 & 180cm/72kg  & 1992년 08월 11일 & 내야수(우투좌타) & 광주대성초-광주동성중-광주동성고               & 10000만원 & 0.416 & 0.3000000\\\\\n\t  1 & 강경학   & 2016 & 한화 & 0.188 & 14 & 32 &  4 &  6 & 1 & ⋯ & 0.281 & 0.212 & 0 & 180cm/72kg  & 1992년 08월 11일 & 내야수(우투좌타) & 광주대성초-광주동성중-광주동성고               & 10000만원 & 0.493 & 0.2857143\\\\\n\t  1 & 강경학   & 2017 & 한화 & 0.222 & 11 & 36 & 10 &  8 & 0 & ⋯ & 0.389 & 0.282 & 1 & 180cm/72kg  & 1992년 08월 11일 & 내야수(우투좌타) & 광주대성초-광주동성중-광주동성고               & 10000만원 & 0.671 & 0.9090909\\\\\n\t  2 & 강구성   & 2013 & NC   & 0.000 &  3 &  4 &  0 &  0 & 0 & ⋯ & 0.000 & 0.000 & 0 & 180cm/82kg  & 1993년 06월 09일 & 외야수(우투좌타) & 관산초-부천중-야탑고-NC-상무                   & 9000만원  & 0.000 & 0.0000000\\\\\n\t  2 & 강구성   & 2016 & NC   & 0.000 &  3 &  1 &  0 &  0 & 0 & ⋯ & 0.000 & 0.500 & 0 & 180cm/82kg  & 1993년 06월 09일 & 외야수(우투좌타) & 관산초-부천중-야탑고-NC-상무                   & 9000만원  & 0.500 & 0.0000000\\\\\n\t  2 & 강구성   & 2017 & NC   & 1.000 &  2 &  1 &  0 &  1 & 0 & ⋯ & 1.000 & 1.000 & 0 & 180cm/82kg  & 1993년 06월 09일 & 외야수(우투좌타) & 관산초-부천중-야탑고-NC-상무                   & 9000만원  & 2.000 & 0.0000000\\\\\n\t 69 & 김태완   & 2006 & 한화 & 0.200 & 10 & 15 &  0 &  3 & 0 & ⋯ & 0.200 & 0.278 & 0 & 189cm/105kg & 1984년 01월 27일 & 내야수(우투우타) & 양목초-신월중-중앙고-성균관대-한화             & 11000만원 & 0.478 & 0.0000000\\\\\n\t 69 & 김태완   & 2007 & 한화 & 0.318 &  8 & 22 &  4 &  7 & 3 & ⋯ & 0.864 & 0.423 & 0 & 189cm/105kg & 1984년 01월 27일 & 내야수(우투우타) & 양목초-신월중-중앙고-성균관대-한화             & 11000만원 & 1.287 & 0.5000000\\\\\n\t 69 & 김태완   & 2008 & 한화 & 0.375 & 10 & 24 &  3 &  9 & 1 & ⋯ & 0.542 & 0.444 & 0 & 189cm/105kg & 1984년 01월 27일 & 내야수(우투우타) & 양목초-신월중-중앙고-성균관대-한화             & 11000만원 & 0.986 & 0.3000000\\\\\n\t 69 & 김태완   & 2009 & 한화 & 0.320 & 10 & 25 &  5 &  8 & 3 & ⋯ & 0.560 & 0.452 & 1 & 189cm/105kg & 1984년 01월 27일 & 내야수(우투우타) & 양목초-신월중-중앙고-성균관대-한화             & 11000만원 & 1.012 & 0.5000000\\\\\n\t 69 & 김태완   & 2010 & 한화 & 0.400 &  2 &  5 &  2 &  2 & 0 & ⋯ & 0.800 & 0.400 & 1 & 189cm/105kg & 1984년 01월 27일 & 내야수(우투우타) & 양목초-신월중-중앙고-성균관대-한화             & 11000만원 & 1.200 & 1.0000000\\\\\n\t 69 & 김태완   & 2013 & 한화 & 0.250 &  9 & 28 &  3 &  7 & 0 & ⋯ & 0.250 & 0.417 & 0 & 189cm/105kg & 1984년 01월 27일 & 내야수(우투우타) & 양목초-신월중-중앙고-성균관대-한화             & 11000만원 & 0.667 & 0.3333333\\\\\n\t 69 & 김태완   & 2014 & 한화 & 0.125 & 10 & 16 &  1 &  2 & 0 & ⋯ & 0.125 & 0.263 & 0 & 189cm/105kg & 1984년 01월 27일 & 내야수(우투우타) & 양목초-신월중-중앙고-성균관대-한화             & 11000만원 & 0.388 & 0.1000000\\\\\n\t 69 & 김태완   & 2016 & 한화 & 0.000 &  3 &  3 &  0 &  0 & 0 & ⋯ & 0.000 & 0.250 & 0 & 189cm/105kg & 1984년 01월 27일 & 내야수(우투우타) & 양목초-신월중-중앙고-성균관대-한화             & 11000만원 & 0.250 & 0.0000000\\\\\n\t 69 & 김태완   & 2017 & 넥센 & 0.370 & 12 & 27 &  2 & 10 & 1 & ⋯ & 0.519 & 0.364 & 1 & 189cm/105kg & 1984년 01월 27일 & 내야수(우투우타) & 양목초-신월중-중앙고-성균관대-한화             & 11000만원 & 0.883 & 0.1666667\\\\\n\t 69 & 김태완   & 2018 & 넥센 & 0.375 &  5 &  8 &  2 &  3 & 1 & ⋯ & 0.875 & 0.500 & 0 & 189cm/105kg & 1984년 01월 27일 & 내야수(우투우타) & 양목초-신월중-중앙고-성균관대-한화             & 11000만원 & 1.375 & 0.4000000\\\\\n\t  3 & 강민국   & 2014 & NC   & 0.000 &  2 &  1 &  0 &  0 & 0 & ⋯ & 0.000 & 0.000 & 0 & 176cm/80kg  & 1992년 01월 10일 & 내야수(우투우타) & 송정동초-충장중-광주제일고-동국대-NC-상무      & 20000만원 & 0.000 & 0.0000000\\\\\n\t  3 & 강민국   & 2015 & NC   & 0.100 &  9 & 10 &  2 &  1 & 1 & ⋯ & 0.200 & 0.100 & 0 & 176cm/80kg  & 1992년 01월 10일 & 내야수(우투우타) & 송정동초-충장중-광주제일고-동국대-NC-상무      & 20000만원 & 0.300 & 0.2222222\\\\\n\t  3 & 강민국   & 2016 & NC   & 0.316 & 16 & 19 &  2 &  6 & 2 & ⋯ & 0.526 & 0.381 & 0 & 176cm/80kg  & 1992년 01월 10일 & 내야수(우투우타) & 송정동초-충장중-광주제일고-동국대-NC-상무      & 20000만원 & 0.907 & 0.1250000\\\\\n\t  4 & 강민호   & 2005 & 롯데 & 0.250 & 11 & 20 &  2 &  5 & 4 & ⋯ & 0.450 & 0.250 & 0 & 185cm/100kg & 1985년 08월 18일 & 포수(우투우타)   & 제주신광초-포철중-포철공고-(국제디지털대)-롯데 & 9000만원  & 0.700 & 0.1818182\\\\\n\t  4 & 강민호   & 2006 & 롯데 & 0.381 &  9 & 21 &  6 &  8 & 1 & ⋯ & 0.810 & 0.391 & 0 & 185cm/100kg & 1985년 08월 18일 & 포수(우투우타)   & 제주신광초-포철중-포철공고-(국제디지털대)-롯데 & 9000만원  & 1.201 & 0.6666667\\\\\n\t  4 & 강민호   & 2007 & 롯데 & 0.136 & 10 & 22 &  2 &  3 & 0 & ⋯ & 0.136 & 0.174 & 0 & 185cm/100kg & 1985년 08월 18일 & 포수(우투우타)   & 제주신광초-포철중-포철공고-(국제디지털대)-롯데 & 9000만원  & 0.310 & 0.2000000\\\\\n\t  4 & 강민호   & 2008 & 롯데 & 0.200 &  5 & 10 &  0 &  2 & 1 & ⋯ & 0.300 & 0.273 & 0 & 185cm/100kg & 1985년 08월 18일 & 포수(우투우타)   & 제주신광초-포철중-포철공고-(국제디지털대)-롯데 & 9000만원  & 0.573 & 0.0000000\\\\\n\t  4 & 강민호   & 2009 & 롯데 & 0.167 &  2 &  6 &  0 &  1 & 0 & ⋯ & 0.167 & 0.167 & 0 & 185cm/100kg & 1985년 08월 18일 & 포수(우투우타)   & 제주신광초-포철중-포철공고-(국제디지털대)-롯데 & 9000만원  & 0.334 & 0.0000000\\\\\n\t  4 & 강민호   & 2010 & 롯데 & 0.261 & 10 & 23 &  8 &  6 & 1 & ⋯ & 0.826 & 0.414 & 0 & 185cm/100kg & 1985년 08월 18일 & 포수(우투우타)   & 제주신광초-포철중-포철공고-(국제디지털대)-롯데 & 9000만원  & 1.240 & 0.8000000\\\\\n\t  4 & 강민호   & 2011 & 롯데 & 0.353 & 13 & 34 &  4 & 12 & 3 & ⋯ & 0.618 & 0.400 & 0 & 185cm/100kg & 1985년 08월 18일 & 포수(우투우타)   & 제주신광초-포철중-포철공고-(국제디지털대)-롯데 & 9000만원  & 1.018 & 0.3076923\\\\\n\t  4 & 강민호   & 2012 & 롯데 & 0.273 &  5 & 11 &  2 &  3 & 0 & ⋯ & 0.273 & 0.273 & 0 & 185cm/100kg & 1985년 08월 18일 & 포수(우투우타)   & 제주신광초-포철중-포철공고-(국제디지털대)-롯데 & 9000만원  & 0.546 & 0.4000000\\\\\n\t ⋮ & ⋮ & ⋮ & ⋮ & ⋮ & ⋮ & ⋮ & ⋮ & ⋮ & ⋮ & ⋱ & ⋮ & ⋮ & ⋮ & ⋮ & ⋮ & ⋮ & ⋮ & ⋮ & ⋮ & ⋮\\\\\n\t 331 & 허경민 & 2017 & 두산     & 0.250 & 11 & 32 & 4 &  8 & 0 & ⋯ & 0.438 & 0.314 & 0 & 176cm/69kg & 1990년 08월 26일 & 내야수(우투우타) & 송정동초-충장중-광주제일고-두산-경찰                           & 13000만원  & 0.752 & 0.3636364\\\\\n\t 331 & 허경민 & 2018 & 두산     & 0.600 &  6 & 15 & 3 &  9 & 3 & ⋯ & 0.800 & 0.684 & 0 & 176cm/69kg & 1990년 08월 26일 & 내야수(우투우타) & 송정동초-충장중-광주제일고-두산-경찰                           & 13000만원  & 1.484 & 0.5000000\\\\\n\t 332 & 허도환 & 2012 & 넥센     & 0.200 &  9 & 15 & 0 &  3 & 0 & ⋯ & 0.200 & 0.294 & 0 & 176cm/87kg & 1984년 07월 31일 & 포수(우투우타)   & 서울학동초-이수중-서울고-단국대-두산-넥센-한화                 &            & 0.494 & 0.0000000\\\\\n\t 332 & 허도환 & 2013 & 넥센     & 0.000 &  4 &  8 & 0 &  0 & 0 & ⋯ & 0.000 & 0.000 & 0 & 176cm/87kg & 1984년 07월 31일 & 포수(우투우타)   & 서울학동초-이수중-서울고-단국대-두산-넥센-한화                 &            & 0.000 & 0.0000000\\\\\n\t 332 & 허도환 & 2014 & 넥센     & 0.150 & 12 & 20 & 2 &  3 & 0 & ⋯ & 0.300 & 0.227 & 2 & 176cm/87kg & 1984년 07월 31일 & 포수(우투우타)   & 서울학동초-이수중-서울고-단국대-두산-넥센-한화                 &            & 0.527 & 0.1666667\\\\\n\t 332 & 허도환 & 2016 & 한화     & 0.250 &  8 & 12 & 2 &  3 & 2 & ⋯ & 0.417 & 0.333 & 0 & 176cm/87kg & 1984년 07월 31일 & 포수(우투우타)   & 서울학동초-이수중-서울고-단국대-두산-넥센-한화                 &            & 0.750 & 0.2500000\\\\\n\t 332 & 허도환 & 2017 & 한화     & 0.375 &  7 &  8 & 1 &  3 & 2 & ⋯ & 0.625 & 0.375 & 1 & 176cm/87kg & 1984년 07월 31일 & 포수(우투우타)   & 서울학동초-이수중-서울고-단국대-두산-넥센-한화                 &            & 1.000 & 0.1428571\\\\\n\t 332 & 허도환 & 2018 & SK       & 0.000 &  4 &  4 & 0 &  0 & 0 & ⋯ & 0.000 & 0.000 & 0 & 176cm/87kg & 1984년 07월 31일 & 포수(우투우타)   & 서울학동초-이수중-서울고-단국대-두산-넥센-한화                 &            & 0.000 & 0.0000000\\\\\n\t 334 & 호잉   & 2018 & 한화     & 0.250 &  6 & 16 & 3 &  4 & 0 & ⋯ & 0.688 & 0.278 & 0 & 190cm/92kg & 1989년 05월 18일 & 외야수(우투좌타) & 미국 Fort Loramie(고)-미국 Toledo(대)                          & 300000달러 & 0.966 & 0.5000000\\\\\n\t 337 & 홍재호 & 2011 & KIA      & 0.111 &  8 &  9 & 1 &  1 & 0 & ⋯ & 0.111 & 0.111 & 0 & 180cm/79kg & 1987년 05월 10일 & 내야수(우투우타) & 부산대연초-대천중-부산고-고려대-KIA-경찰                       & 4000만원   & 0.222 & 0.1250000\\\\\n\t 337 & 홍재호 & 2012 & KIA      & 0.250 & 12 & 24 & 3 &  6 & 0 & ⋯ & 0.375 & 0.308 & 0 & 180cm/79kg & 1987년 05월 10일 & 내야수(우투우타) & 부산대연초-대천중-부산고-고려대-KIA-경찰                       & 4000만원   & 0.683 & 0.2500000\\\\\n\t 337 & 홍재호 & 2013 & KIA      & 0.438 & 11 & 16 & 5 &  7 & 1 & ⋯ & 0.625 & 0.500 & 1 & 180cm/79kg & 1987년 05월 10일 & 내야수(우투우타) & 부산대연초-대천중-부산고-고려대-KIA-경찰                       & 4000만원   & 1.125 & 0.4545455\\\\\n\t 337 & 홍재호 & 2017 & KIA      & 0.231 & 11 & 13 & 3 &  3 & 0 & ⋯ & 0.385 & 0.286 & 0 & 180cm/79kg & 1987년 05월 10일 & 내야수(우투우타) & 부산대연초-대천중-부산고-고려대-KIA-경찰                       & 4000만원   & 0.671 & 0.2727273\\\\\n\t 337 & 홍재호 & 2018 & KIA      & 0.333 &  1 &  3 & 0 &  1 & 0 & ⋯ & 0.333 & 0.333 & 0 & 180cm/79kg & 1987년 05월 10일 & 내야수(우투우타) & 부산대연초-대천중-부산고-고려대-KIA-경찰                       & 4000만원   & 0.666 & 0.0000000\\\\\n\t 338 & 홍창기 & 2016 & LG       & 0.200 &  5 &  5 & 0 &  1 & 1 & ⋯ & 0.400 & 0.429 & 1 & 189cm/94kg & 1993년 11월 21일 & 외야수(우투좌타) & 대일초-매송중-안산공고-건국대-LG-경찰                          & 8000만원   & 0.829 & 0.0000000\\\\\n\t 341 & 황윤호 & 2015 & NC       & -     &  2 &  0 & 0 &  0 & 0 & ⋯ &    NA &    NA & 0 & 177cm/78kg & 1993년 09월 22일 & 내야수(우투우타) & 수주초-신월중-장충고-NC-경찰-NC                                & 3000만원   &    NA & 0.0000000\\\\\n\t 341 & 황윤호 & 2016 & NC       & 0.000 &  2 &  1 & 0 &  0 & 0 & ⋯ & 0.000 & 0.000 & 1 & 177cm/78kg & 1993년 09월 22일 & 내야수(우투우타) & 수주초-신월중-장충고-NC-경찰-NC                                & 3000만원   & 0.000 & 0.0000000\\\\\n\t 341 & 황윤호 & 2017 & NC       & 0.000 &  8 &  3 & 2 &  0 & 0 & ⋯ & 0.000 & 0.000 & 0 & 177cm/78kg & 1993년 09월 22일 & 내야수(우투우타) & 수주초-신월중-장충고-NC-경찰-NC                                & 3000만원   & 0.000 & 0.2500000\\\\\n\t 341 & 황윤호 & 2018 & KIA      & 0.000 &  5 &  2 & 1 &  0 & 0 & ⋯ & 0.000 & 0.000 & 0 & 177cm/78kg & 1993년 09월 22일 & 내야수(우투우타) & 수주초-신월중-장충고-NC-경찰-NC                                & 3000만원   & 0.000 & 0.2000000\\\\\n\t 342 & 황재균 & 2008 & 우리     & 0.179 & 11 & 28 & 0 &  5 & 1 & ⋯ & 0.214 & 0.179 & 2 & 183cm/96kg & 1987년 07월 28일 & 내야수(우투우타) & 사당초-이수중-경기고-현대-우리-히어로즈-넥센-롯데-샌프란시스코 & 6000만원   & 0.393 & 0.0000000\\\\\n\t 342 & 황재균 & 2009 & 히어로즈 & 0.194 & 11 & 31 & 4 &  6 & 2 & ⋯ & 0.258 & 0.242 & 1 & 183cm/96kg & 1987년 07월 28일 & 내야수(우투우타) & 사당초-이수중-경기고-현대-우리-히어로즈-넥센-롯데-샌프란시스코 & 6000만원   & 0.500 & 0.3636364\\\\\n\t 342 & 황재균 & 2010 & 롯데     & 0.174 & 12 & 46 & 4 &  8 & 1 & ⋯ & 0.304 & 0.224 & 2 & 183cm/96kg & 1987년 07월 28일 & 내야수(우투우타) & 사당초-이수중-경기고-현대-우리-히어로즈-넥센-롯데-샌프란시스코 & 6000만원   & 0.528 & 0.3333333\\\\\n\t 342 & 황재균 & 2011 & 롯데     & 0.152 & 13 & 33 & 2 &  5 & 1 & ⋯ & 0.242 & 0.222 & 3 & 183cm/96kg & 1987년 07월 28일 & 내야수(우투우타) & 사당초-이수중-경기고-현대-우리-히어로즈-넥센-롯데-샌프란시스코 & 6000만원   & 0.464 & 0.1538462\\\\\n\t 342 & 황재균 & 2012 & 롯데     & 0.154 & 12 & 26 & 2 &  4 & 2 & ⋯ & 0.346 & 0.258 & 1 & 183cm/96kg & 1987년 07월 28일 & 내야수(우투우타) & 사당초-이수중-경기고-현대-우리-히어로즈-넥센-롯데-샌프란시스코 & 6000만원   & 0.604 & 0.1666667\\\\\n\t 342 & 황재균 & 2013 & 롯데     & 0.200 & 10 & 30 & 2 &  6 & 0 & ⋯ & 0.300 & 0.306 & 3 & 183cm/96kg & 1987년 07월 28일 & 내야수(우투우타) & 사당초-이수중-경기고-현대-우리-히어로즈-넥센-롯데-샌프란시스코 & 6000만원   & 0.606 & 0.2000000\\\\\n\t 342 & 황재균 & 2014 & 롯데     & 0.407 & 10 & 27 & 3 & 11 & 2 & ⋯ & 0.593 & 0.448 & 1 & 183cm/96kg & 1987년 07월 28일 & 내야수(우투우타) & 사당초-이수중-경기고-현대-우리-히어로즈-넥센-롯데-샌프란시스코 & 6000만원   & 1.041 & 0.3000000\\\\\n\t 342 & 황재균 & 2015 & 롯데     & 0.333 & 11 & 30 & 8 & 10 & 3 & ⋯ & 0.433 & 0.389 & 0 & 183cm/96kg & 1987년 07월 28일 & 내야수(우투우타) & 사당초-이수중-경기고-현대-우리-히어로즈-넥센-롯데-샌프란시스코 & 6000만원   & 0.822 & 0.7272727\\\\\n\t 342 & 황재균 & 2016 & 롯데     & 0.310 & 16 & 42 & 8 & 13 & 3 & ⋯ & 0.429 & 0.370 & 1 & 183cm/96kg & 1987년 07월 28일 & 내야수(우투우타) & 사당초-이수중-경기고-현대-우리-히어로즈-넥센-롯데-샌프란시스코 & 6000만원   & 0.799 & 0.5000000\\\\\n\t 342 & 황재균 & 2018 & KT       & 0.250 &  6 & 16 & 3 &  4 & 1 & ⋯ & 0.500 & 0.333 & 3 & 183cm/96kg & 1987년 07월 28일 & 내야수(우투우타) & 사당초-이수중-경기고-현대-우리-히어로즈-넥센-롯데-샌프란시스코 & 6000만원   & 0.833 & 0.5000000\\\\\n\t 344 & 황진수 & 2014 & 롯데     & 0.000 &  1 &  1 & 1 &  0 & 0 & ⋯ & 0.000 & 0.000 & 0 & 181cm/82kg & 1989년 02월 15일 & 내야수(우투양타) & 석천초-대헌중-공주고                                           & 4000만원   & 0.000 & 1.0000000\\\\\n\\end{tabular}\n",
            "text/markdown": "\nA tibble: 1393 × 30\n\n| batter_id &lt;int&gt; | batter_name &lt;chr&gt; | year &lt;int&gt; | team &lt;chr&gt; | avg &lt;chr&gt; | G &lt;int&gt; | AB &lt;int&gt; | R &lt;int&gt; | H &lt;int&gt; | 2B &lt;int&gt; | ⋯ ⋯ | SLG &lt;dbl&gt; | OBP &lt;dbl&gt; | E &lt;int&gt; | height/weight &lt;chr&gt; | year_born &lt;chr&gt; | position &lt;chr&gt; | career &lt;chr&gt; | starting_salary &lt;chr&gt; | OPS &lt;dbl&gt; | G_R &lt;dbl&gt; |\n|---|---|---|---|---|---|---|---|---|---|---|---|---|---|---|---|---|---|---|---|---|\n|  0 | 가르시아 | 2018 | LG   | 0.350 |  7 | 20 |  1 |  7 | 1 | ⋯ | 0.550 | 0.409 | 1 | 177cm/93kg  | 1985년 04월 12일 | 내야수(우투우타) | 쿠바 Ciego de Avila Maximo Gomez Baez(대)      | <!----> | 0.959 | 0.1428571 |\n|  1 | 강경학   | 2011 | 한화 | 0.000 |  4 |  2 |  2 |  0 | 0 | ⋯ | 0.000 | 0.500 | 0 | 180cm/72kg  | 1992년 08월 11일 | 내야수(우투좌타) | 광주대성초-광주동성중-광주동성고               | 10000만원 | 0.500 | 0.5000000 |\n|  1 | 강경학   | 2014 | 한화 | -     |  4 |  0 |  2 |  0 | 0 | ⋯ |    NA |    NA | 0 | 180cm/72kg  | 1992년 08월 11일 | 내야수(우투좌타) | 광주대성초-광주동성중-광주동성고               | 10000만원 |    NA | 0.5000000 |\n|  1 | 강경학   | 2015 | 한화 | 0.130 | 10 | 23 |  3 |  3 | 0 | ⋯ | 0.130 | 0.286 | 2 | 180cm/72kg  | 1992년 08월 11일 | 내야수(우투좌타) | 광주대성초-광주동성중-광주동성고               | 10000만원 | 0.416 | 0.3000000 |\n|  1 | 강경학   | 2016 | 한화 | 0.188 | 14 | 32 |  4 |  6 | 1 | ⋯ | 0.281 | 0.212 | 0 | 180cm/72kg  | 1992년 08월 11일 | 내야수(우투좌타) | 광주대성초-광주동성중-광주동성고               | 10000만원 | 0.493 | 0.2857143 |\n|  1 | 강경학   | 2017 | 한화 | 0.222 | 11 | 36 | 10 |  8 | 0 | ⋯ | 0.389 | 0.282 | 1 | 180cm/72kg  | 1992년 08월 11일 | 내야수(우투좌타) | 광주대성초-광주동성중-광주동성고               | 10000만원 | 0.671 | 0.9090909 |\n|  2 | 강구성   | 2013 | NC   | 0.000 |  3 |  4 |  0 |  0 | 0 | ⋯ | 0.000 | 0.000 | 0 | 180cm/82kg  | 1993년 06월 09일 | 외야수(우투좌타) | 관산초-부천중-야탑고-NC-상무                   | 9000만원  | 0.000 | 0.0000000 |\n|  2 | 강구성   | 2016 | NC   | 0.000 |  3 |  1 |  0 |  0 | 0 | ⋯ | 0.000 | 0.500 | 0 | 180cm/82kg  | 1993년 06월 09일 | 외야수(우투좌타) | 관산초-부천중-야탑고-NC-상무                   | 9000만원  | 0.500 | 0.0000000 |\n|  2 | 강구성   | 2017 | NC   | 1.000 |  2 |  1 |  0 |  1 | 0 | ⋯ | 1.000 | 1.000 | 0 | 180cm/82kg  | 1993년 06월 09일 | 외야수(우투좌타) | 관산초-부천중-야탑고-NC-상무                   | 9000만원  | 2.000 | 0.0000000 |\n| 69 | 김태완   | 2006 | 한화 | 0.200 | 10 | 15 |  0 |  3 | 0 | ⋯ | 0.200 | 0.278 | 0 | 189cm/105kg | 1984년 01월 27일 | 내야수(우투우타) | 양목초-신월중-중앙고-성균관대-한화             | 11000만원 | 0.478 | 0.0000000 |\n| 69 | 김태완   | 2007 | 한화 | 0.318 |  8 | 22 |  4 |  7 | 3 | ⋯ | 0.864 | 0.423 | 0 | 189cm/105kg | 1984년 01월 27일 | 내야수(우투우타) | 양목초-신월중-중앙고-성균관대-한화             | 11000만원 | 1.287 | 0.5000000 |\n| 69 | 김태완   | 2008 | 한화 | 0.375 | 10 | 24 |  3 |  9 | 1 | ⋯ | 0.542 | 0.444 | 0 | 189cm/105kg | 1984년 01월 27일 | 내야수(우투우타) | 양목초-신월중-중앙고-성균관대-한화             | 11000만원 | 0.986 | 0.3000000 |\n| 69 | 김태완   | 2009 | 한화 | 0.320 | 10 | 25 |  5 |  8 | 3 | ⋯ | 0.560 | 0.452 | 1 | 189cm/105kg | 1984년 01월 27일 | 내야수(우투우타) | 양목초-신월중-중앙고-성균관대-한화             | 11000만원 | 1.012 | 0.5000000 |\n| 69 | 김태완   | 2010 | 한화 | 0.400 |  2 |  5 |  2 |  2 | 0 | ⋯ | 0.800 | 0.400 | 1 | 189cm/105kg | 1984년 01월 27일 | 내야수(우투우타) | 양목초-신월중-중앙고-성균관대-한화             | 11000만원 | 1.200 | 1.0000000 |\n| 69 | 김태완   | 2013 | 한화 | 0.250 |  9 | 28 |  3 |  7 | 0 | ⋯ | 0.250 | 0.417 | 0 | 189cm/105kg | 1984년 01월 27일 | 내야수(우투우타) | 양목초-신월중-중앙고-성균관대-한화             | 11000만원 | 0.667 | 0.3333333 |\n| 69 | 김태완   | 2014 | 한화 | 0.125 | 10 | 16 |  1 |  2 | 0 | ⋯ | 0.125 | 0.263 | 0 | 189cm/105kg | 1984년 01월 27일 | 내야수(우투우타) | 양목초-신월중-중앙고-성균관대-한화             | 11000만원 | 0.388 | 0.1000000 |\n| 69 | 김태완   | 2016 | 한화 | 0.000 |  3 |  3 |  0 |  0 | 0 | ⋯ | 0.000 | 0.250 | 0 | 189cm/105kg | 1984년 01월 27일 | 내야수(우투우타) | 양목초-신월중-중앙고-성균관대-한화             | 11000만원 | 0.250 | 0.0000000 |\n| 69 | 김태완   | 2017 | 넥센 | 0.370 | 12 | 27 |  2 | 10 | 1 | ⋯ | 0.519 | 0.364 | 1 | 189cm/105kg | 1984년 01월 27일 | 내야수(우투우타) | 양목초-신월중-중앙고-성균관대-한화             | 11000만원 | 0.883 | 0.1666667 |\n| 69 | 김태완   | 2018 | 넥센 | 0.375 |  5 |  8 |  2 |  3 | 1 | ⋯ | 0.875 | 0.500 | 0 | 189cm/105kg | 1984년 01월 27일 | 내야수(우투우타) | 양목초-신월중-중앙고-성균관대-한화             | 11000만원 | 1.375 | 0.4000000 |\n|  3 | 강민국   | 2014 | NC   | 0.000 |  2 |  1 |  0 |  0 | 0 | ⋯ | 0.000 | 0.000 | 0 | 176cm/80kg  | 1992년 01월 10일 | 내야수(우투우타) | 송정동초-충장중-광주제일고-동국대-NC-상무      | 20000만원 | 0.000 | 0.0000000 |\n|  3 | 강민국   | 2015 | NC   | 0.100 |  9 | 10 |  2 |  1 | 1 | ⋯ | 0.200 | 0.100 | 0 | 176cm/80kg  | 1992년 01월 10일 | 내야수(우투우타) | 송정동초-충장중-광주제일고-동국대-NC-상무      | 20000만원 | 0.300 | 0.2222222 |\n|  3 | 강민국   | 2016 | NC   | 0.316 | 16 | 19 |  2 |  6 | 2 | ⋯ | 0.526 | 0.381 | 0 | 176cm/80kg  | 1992년 01월 10일 | 내야수(우투우타) | 송정동초-충장중-광주제일고-동국대-NC-상무      | 20000만원 | 0.907 | 0.1250000 |\n|  4 | 강민호   | 2005 | 롯데 | 0.250 | 11 | 20 |  2 |  5 | 4 | ⋯ | 0.450 | 0.250 | 0 | 185cm/100kg | 1985년 08월 18일 | 포수(우투우타)   | 제주신광초-포철중-포철공고-(국제디지털대)-롯데 | 9000만원  | 0.700 | 0.1818182 |\n|  4 | 강민호   | 2006 | 롯데 | 0.381 |  9 | 21 |  6 |  8 | 1 | ⋯ | 0.810 | 0.391 | 0 | 185cm/100kg | 1985년 08월 18일 | 포수(우투우타)   | 제주신광초-포철중-포철공고-(국제디지털대)-롯데 | 9000만원  | 1.201 | 0.6666667 |\n|  4 | 강민호   | 2007 | 롯데 | 0.136 | 10 | 22 |  2 |  3 | 0 | ⋯ | 0.136 | 0.174 | 0 | 185cm/100kg | 1985년 08월 18일 | 포수(우투우타)   | 제주신광초-포철중-포철공고-(국제디지털대)-롯데 | 9000만원  | 0.310 | 0.2000000 |\n|  4 | 강민호   | 2008 | 롯데 | 0.200 |  5 | 10 |  0 |  2 | 1 | ⋯ | 0.300 | 0.273 | 0 | 185cm/100kg | 1985년 08월 18일 | 포수(우투우타)   | 제주신광초-포철중-포철공고-(국제디지털대)-롯데 | 9000만원  | 0.573 | 0.0000000 |\n|  4 | 강민호   | 2009 | 롯데 | 0.167 |  2 |  6 |  0 |  1 | 0 | ⋯ | 0.167 | 0.167 | 0 | 185cm/100kg | 1985년 08월 18일 | 포수(우투우타)   | 제주신광초-포철중-포철공고-(국제디지털대)-롯데 | 9000만원  | 0.334 | 0.0000000 |\n|  4 | 강민호   | 2010 | 롯데 | 0.261 | 10 | 23 |  8 |  6 | 1 | ⋯ | 0.826 | 0.414 | 0 | 185cm/100kg | 1985년 08월 18일 | 포수(우투우타)   | 제주신광초-포철중-포철공고-(국제디지털대)-롯데 | 9000만원  | 1.240 | 0.8000000 |\n|  4 | 강민호   | 2011 | 롯데 | 0.353 | 13 | 34 |  4 | 12 | 3 | ⋯ | 0.618 | 0.400 | 0 | 185cm/100kg | 1985년 08월 18일 | 포수(우투우타)   | 제주신광초-포철중-포철공고-(국제디지털대)-롯데 | 9000만원  | 1.018 | 0.3076923 |\n|  4 | 강민호   | 2012 | 롯데 | 0.273 |  5 | 11 |  2 |  3 | 0 | ⋯ | 0.273 | 0.273 | 0 | 185cm/100kg | 1985년 08월 18일 | 포수(우투우타)   | 제주신광초-포철중-포철공고-(국제디지털대)-롯데 | 9000만원  | 0.546 | 0.4000000 |\n| ⋮ | ⋮ | ⋮ | ⋮ | ⋮ | ⋮ | ⋮ | ⋮ | ⋮ | ⋮ | ⋱ | ⋮ | ⋮ | ⋮ | ⋮ | ⋮ | ⋮ | ⋮ | ⋮ | ⋮ | ⋮ |\n| 331 | 허경민 | 2017 | 두산     | 0.250 | 11 | 32 | 4 |  8 | 0 | ⋯ | 0.438 | 0.314 | 0 | 176cm/69kg | 1990년 08월 26일 | 내야수(우투우타) | 송정동초-충장중-광주제일고-두산-경찰                           | 13000만원  | 0.752 | 0.3636364 |\n| 331 | 허경민 | 2018 | 두산     | 0.600 |  6 | 15 | 3 |  9 | 3 | ⋯ | 0.800 | 0.684 | 0 | 176cm/69kg | 1990년 08월 26일 | 내야수(우투우타) | 송정동초-충장중-광주제일고-두산-경찰                           | 13000만원  | 1.484 | 0.5000000 |\n| 332 | 허도환 | 2012 | 넥센     | 0.200 |  9 | 15 | 0 |  3 | 0 | ⋯ | 0.200 | 0.294 | 0 | 176cm/87kg | 1984년 07월 31일 | 포수(우투우타)   | 서울학동초-이수중-서울고-단국대-두산-넥센-한화                 | <!----> | 0.494 | 0.0000000 |\n| 332 | 허도환 | 2013 | 넥센     | 0.000 |  4 |  8 | 0 |  0 | 0 | ⋯ | 0.000 | 0.000 | 0 | 176cm/87kg | 1984년 07월 31일 | 포수(우투우타)   | 서울학동초-이수중-서울고-단국대-두산-넥센-한화                 | <!----> | 0.000 | 0.0000000 |\n| 332 | 허도환 | 2014 | 넥센     | 0.150 | 12 | 20 | 2 |  3 | 0 | ⋯ | 0.300 | 0.227 | 2 | 176cm/87kg | 1984년 07월 31일 | 포수(우투우타)   | 서울학동초-이수중-서울고-단국대-두산-넥센-한화                 | <!----> | 0.527 | 0.1666667 |\n| 332 | 허도환 | 2016 | 한화     | 0.250 |  8 | 12 | 2 |  3 | 2 | ⋯ | 0.417 | 0.333 | 0 | 176cm/87kg | 1984년 07월 31일 | 포수(우투우타)   | 서울학동초-이수중-서울고-단국대-두산-넥센-한화                 | <!----> | 0.750 | 0.2500000 |\n| 332 | 허도환 | 2017 | 한화     | 0.375 |  7 |  8 | 1 |  3 | 2 | ⋯ | 0.625 | 0.375 | 1 | 176cm/87kg | 1984년 07월 31일 | 포수(우투우타)   | 서울학동초-이수중-서울고-단국대-두산-넥센-한화                 | <!----> | 1.000 | 0.1428571 |\n| 332 | 허도환 | 2018 | SK       | 0.000 |  4 |  4 | 0 |  0 | 0 | ⋯ | 0.000 | 0.000 | 0 | 176cm/87kg | 1984년 07월 31일 | 포수(우투우타)   | 서울학동초-이수중-서울고-단국대-두산-넥센-한화                 | <!----> | 0.000 | 0.0000000 |\n| 334 | 호잉   | 2018 | 한화     | 0.250 |  6 | 16 | 3 |  4 | 0 | ⋯ | 0.688 | 0.278 | 0 | 190cm/92kg | 1989년 05월 18일 | 외야수(우투좌타) | 미국 Fort Loramie(고)-미국 Toledo(대)                          | 300000달러 | 0.966 | 0.5000000 |\n| 337 | 홍재호 | 2011 | KIA      | 0.111 |  8 |  9 | 1 |  1 | 0 | ⋯ | 0.111 | 0.111 | 0 | 180cm/79kg | 1987년 05월 10일 | 내야수(우투우타) | 부산대연초-대천중-부산고-고려대-KIA-경찰                       | 4000만원   | 0.222 | 0.1250000 |\n| 337 | 홍재호 | 2012 | KIA      | 0.250 | 12 | 24 | 3 |  6 | 0 | ⋯ | 0.375 | 0.308 | 0 | 180cm/79kg | 1987년 05월 10일 | 내야수(우투우타) | 부산대연초-대천중-부산고-고려대-KIA-경찰                       | 4000만원   | 0.683 | 0.2500000 |\n| 337 | 홍재호 | 2013 | KIA      | 0.438 | 11 | 16 | 5 |  7 | 1 | ⋯ | 0.625 | 0.500 | 1 | 180cm/79kg | 1987년 05월 10일 | 내야수(우투우타) | 부산대연초-대천중-부산고-고려대-KIA-경찰                       | 4000만원   | 1.125 | 0.4545455 |\n| 337 | 홍재호 | 2017 | KIA      | 0.231 | 11 | 13 | 3 |  3 | 0 | ⋯ | 0.385 | 0.286 | 0 | 180cm/79kg | 1987년 05월 10일 | 내야수(우투우타) | 부산대연초-대천중-부산고-고려대-KIA-경찰                       | 4000만원   | 0.671 | 0.2727273 |\n| 337 | 홍재호 | 2018 | KIA      | 0.333 |  1 |  3 | 0 |  1 | 0 | ⋯ | 0.333 | 0.333 | 0 | 180cm/79kg | 1987년 05월 10일 | 내야수(우투우타) | 부산대연초-대천중-부산고-고려대-KIA-경찰                       | 4000만원   | 0.666 | 0.0000000 |\n| 338 | 홍창기 | 2016 | LG       | 0.200 |  5 |  5 | 0 |  1 | 1 | ⋯ | 0.400 | 0.429 | 1 | 189cm/94kg | 1993년 11월 21일 | 외야수(우투좌타) | 대일초-매송중-안산공고-건국대-LG-경찰                          | 8000만원   | 0.829 | 0.0000000 |\n| 341 | 황윤호 | 2015 | NC       | -     |  2 |  0 | 0 |  0 | 0 | ⋯ |    NA |    NA | 0 | 177cm/78kg | 1993년 09월 22일 | 내야수(우투우타) | 수주초-신월중-장충고-NC-경찰-NC                                | 3000만원   |    NA | 0.0000000 |\n| 341 | 황윤호 | 2016 | NC       | 0.000 |  2 |  1 | 0 |  0 | 0 | ⋯ | 0.000 | 0.000 | 1 | 177cm/78kg | 1993년 09월 22일 | 내야수(우투우타) | 수주초-신월중-장충고-NC-경찰-NC                                | 3000만원   | 0.000 | 0.0000000 |\n| 341 | 황윤호 | 2017 | NC       | 0.000 |  8 |  3 | 2 |  0 | 0 | ⋯ | 0.000 | 0.000 | 0 | 177cm/78kg | 1993년 09월 22일 | 내야수(우투우타) | 수주초-신월중-장충고-NC-경찰-NC                                | 3000만원   | 0.000 | 0.2500000 |\n| 341 | 황윤호 | 2018 | KIA      | 0.000 |  5 |  2 | 1 |  0 | 0 | ⋯ | 0.000 | 0.000 | 0 | 177cm/78kg | 1993년 09월 22일 | 내야수(우투우타) | 수주초-신월중-장충고-NC-경찰-NC                                | 3000만원   | 0.000 | 0.2000000 |\n| 342 | 황재균 | 2008 | 우리     | 0.179 | 11 | 28 | 0 |  5 | 1 | ⋯ | 0.214 | 0.179 | 2 | 183cm/96kg | 1987년 07월 28일 | 내야수(우투우타) | 사당초-이수중-경기고-현대-우리-히어로즈-넥센-롯데-샌프란시스코 | 6000만원   | 0.393 | 0.0000000 |\n| 342 | 황재균 | 2009 | 히어로즈 | 0.194 | 11 | 31 | 4 |  6 | 2 | ⋯ | 0.258 | 0.242 | 1 | 183cm/96kg | 1987년 07월 28일 | 내야수(우투우타) | 사당초-이수중-경기고-현대-우리-히어로즈-넥센-롯데-샌프란시스코 | 6000만원   | 0.500 | 0.3636364 |\n| 342 | 황재균 | 2010 | 롯데     | 0.174 | 12 | 46 | 4 |  8 | 1 | ⋯ | 0.304 | 0.224 | 2 | 183cm/96kg | 1987년 07월 28일 | 내야수(우투우타) | 사당초-이수중-경기고-현대-우리-히어로즈-넥센-롯데-샌프란시스코 | 6000만원   | 0.528 | 0.3333333 |\n| 342 | 황재균 | 2011 | 롯데     | 0.152 | 13 | 33 | 2 |  5 | 1 | ⋯ | 0.242 | 0.222 | 3 | 183cm/96kg | 1987년 07월 28일 | 내야수(우투우타) | 사당초-이수중-경기고-현대-우리-히어로즈-넥센-롯데-샌프란시스코 | 6000만원   | 0.464 | 0.1538462 |\n| 342 | 황재균 | 2012 | 롯데     | 0.154 | 12 | 26 | 2 |  4 | 2 | ⋯ | 0.346 | 0.258 | 1 | 183cm/96kg | 1987년 07월 28일 | 내야수(우투우타) | 사당초-이수중-경기고-현대-우리-히어로즈-넥센-롯데-샌프란시스코 | 6000만원   | 0.604 | 0.1666667 |\n| 342 | 황재균 | 2013 | 롯데     | 0.200 | 10 | 30 | 2 |  6 | 0 | ⋯ | 0.300 | 0.306 | 3 | 183cm/96kg | 1987년 07월 28일 | 내야수(우투우타) | 사당초-이수중-경기고-현대-우리-히어로즈-넥센-롯데-샌프란시스코 | 6000만원   | 0.606 | 0.2000000 |\n| 342 | 황재균 | 2014 | 롯데     | 0.407 | 10 | 27 | 3 | 11 | 2 | ⋯ | 0.593 | 0.448 | 1 | 183cm/96kg | 1987년 07월 28일 | 내야수(우투우타) | 사당초-이수중-경기고-현대-우리-히어로즈-넥센-롯데-샌프란시스코 | 6000만원   | 1.041 | 0.3000000 |\n| 342 | 황재균 | 2015 | 롯데     | 0.333 | 11 | 30 | 8 | 10 | 3 | ⋯ | 0.433 | 0.389 | 0 | 183cm/96kg | 1987년 07월 28일 | 내야수(우투우타) | 사당초-이수중-경기고-현대-우리-히어로즈-넥센-롯데-샌프란시스코 | 6000만원   | 0.822 | 0.7272727 |\n| 342 | 황재균 | 2016 | 롯데     | 0.310 | 16 | 42 | 8 | 13 | 3 | ⋯ | 0.429 | 0.370 | 1 | 183cm/96kg | 1987년 07월 28일 | 내야수(우투우타) | 사당초-이수중-경기고-현대-우리-히어로즈-넥센-롯데-샌프란시스코 | 6000만원   | 0.799 | 0.5000000 |\n| 342 | 황재균 | 2018 | KT       | 0.250 |  6 | 16 | 3 |  4 | 1 | ⋯ | 0.500 | 0.333 | 3 | 183cm/96kg | 1987년 07월 28일 | 내야수(우투우타) | 사당초-이수중-경기고-현대-우리-히어로즈-넥센-롯데-샌프란시스코 | 6000만원   | 0.833 | 0.5000000 |\n| 344 | 황진수 | 2014 | 롯데     | 0.000 |  1 |  1 | 1 |  0 | 0 | ⋯ | 0.000 | 0.000 | 0 | 181cm/82kg | 1989년 02월 15일 | 내야수(우투양타) | 석천초-대헌중-공주고                                           | 4000만원   | 0.000 | 1.0000000 |\n\n",
            "text/html": [
              "<table>\n",
              "<caption>A tibble: 1393 × 30</caption>\n",
              "<thead>\n",
              "\t<tr><th scope=col>batter_id</th><th scope=col>batter_name</th><th scope=col>year</th><th scope=col>team</th><th scope=col>avg</th><th scope=col>G</th><th scope=col>AB</th><th scope=col>R</th><th scope=col>H</th><th scope=col>2B</th><th scope=col>⋯</th><th scope=col>SLG</th><th scope=col>OBP</th><th scope=col>E</th><th scope=col>height/weight</th><th scope=col>year_born</th><th scope=col>position</th><th scope=col>career</th><th scope=col>starting_salary</th><th scope=col>OPS</th><th scope=col>G_R</th></tr>\n",
              "\t<tr><th scope=col>&lt;int&gt;</th><th scope=col>&lt;chr&gt;</th><th scope=col>&lt;int&gt;</th><th scope=col>&lt;chr&gt;</th><th scope=col>&lt;chr&gt;</th><th scope=col>&lt;int&gt;</th><th scope=col>&lt;int&gt;</th><th scope=col>&lt;int&gt;</th><th scope=col>&lt;int&gt;</th><th scope=col>&lt;int&gt;</th><th scope=col>⋯</th><th scope=col>&lt;dbl&gt;</th><th scope=col>&lt;dbl&gt;</th><th scope=col>&lt;int&gt;</th><th scope=col>&lt;chr&gt;</th><th scope=col>&lt;chr&gt;</th><th scope=col>&lt;chr&gt;</th><th scope=col>&lt;chr&gt;</th><th scope=col>&lt;chr&gt;</th><th scope=col>&lt;dbl&gt;</th><th scope=col>&lt;dbl&gt;</th></tr>\n",
              "</thead>\n",
              "<tbody>\n",
              "\t<tr><td> 0</td><td>가르시아</td><td>2018</td><td>LG  </td><td>0.350</td><td> 7</td><td>20</td><td> 1</td><td> 7</td><td>1</td><td>⋯</td><td>0.550</td><td>0.409</td><td>1</td><td>177cm/93kg </td><td>1985년 04월 12일</td><td>내야수(우투우타)</td><td>쿠바 Ciego de Avila Maximo Gomez Baez(대)     </td><td>         </td><td>0.959</td><td>0.1428571</td></tr>\n",
              "\t<tr><td> 1</td><td>강경학  </td><td>2011</td><td>한화</td><td>0.000</td><td> 4</td><td> 2</td><td> 2</td><td> 0</td><td>0</td><td>⋯</td><td>0.000</td><td>0.500</td><td>0</td><td>180cm/72kg </td><td>1992년 08월 11일</td><td>내야수(우투좌타)</td><td>광주대성초-광주동성중-광주동성고              </td><td>10000만원</td><td>0.500</td><td>0.5000000</td></tr>\n",
              "\t<tr><td> 1</td><td>강경학  </td><td>2014</td><td>한화</td><td>-    </td><td> 4</td><td> 0</td><td> 2</td><td> 0</td><td>0</td><td>⋯</td><td>   NA</td><td>   NA</td><td>0</td><td>180cm/72kg </td><td>1992년 08월 11일</td><td>내야수(우투좌타)</td><td>광주대성초-광주동성중-광주동성고              </td><td>10000만원</td><td>   NA</td><td>0.5000000</td></tr>\n",
              "\t<tr><td> 1</td><td>강경학  </td><td>2015</td><td>한화</td><td>0.130</td><td>10</td><td>23</td><td> 3</td><td> 3</td><td>0</td><td>⋯</td><td>0.130</td><td>0.286</td><td>2</td><td>180cm/72kg </td><td>1992년 08월 11일</td><td>내야수(우투좌타)</td><td>광주대성초-광주동성중-광주동성고              </td><td>10000만원</td><td>0.416</td><td>0.3000000</td></tr>\n",
              "\t<tr><td> 1</td><td>강경학  </td><td>2016</td><td>한화</td><td>0.188</td><td>14</td><td>32</td><td> 4</td><td> 6</td><td>1</td><td>⋯</td><td>0.281</td><td>0.212</td><td>0</td><td>180cm/72kg </td><td>1992년 08월 11일</td><td>내야수(우투좌타)</td><td>광주대성초-광주동성중-광주동성고              </td><td>10000만원</td><td>0.493</td><td>0.2857143</td></tr>\n",
              "\t<tr><td> 1</td><td>강경학  </td><td>2017</td><td>한화</td><td>0.222</td><td>11</td><td>36</td><td>10</td><td> 8</td><td>0</td><td>⋯</td><td>0.389</td><td>0.282</td><td>1</td><td>180cm/72kg </td><td>1992년 08월 11일</td><td>내야수(우투좌타)</td><td>광주대성초-광주동성중-광주동성고              </td><td>10000만원</td><td>0.671</td><td>0.9090909</td></tr>\n",
              "\t<tr><td> 2</td><td>강구성  </td><td>2013</td><td>NC  </td><td>0.000</td><td> 3</td><td> 4</td><td> 0</td><td> 0</td><td>0</td><td>⋯</td><td>0.000</td><td>0.000</td><td>0</td><td>180cm/82kg </td><td>1993년 06월 09일</td><td>외야수(우투좌타)</td><td>관산초-부천중-야탑고-NC-상무                  </td><td>9000만원 </td><td>0.000</td><td>0.0000000</td></tr>\n",
              "\t<tr><td> 2</td><td>강구성  </td><td>2016</td><td>NC  </td><td>0.000</td><td> 3</td><td> 1</td><td> 0</td><td> 0</td><td>0</td><td>⋯</td><td>0.000</td><td>0.500</td><td>0</td><td>180cm/82kg </td><td>1993년 06월 09일</td><td>외야수(우투좌타)</td><td>관산초-부천중-야탑고-NC-상무                  </td><td>9000만원 </td><td>0.500</td><td>0.0000000</td></tr>\n",
              "\t<tr><td> 2</td><td>강구성  </td><td>2017</td><td>NC  </td><td>1.000</td><td> 2</td><td> 1</td><td> 0</td><td> 1</td><td>0</td><td>⋯</td><td>1.000</td><td>1.000</td><td>0</td><td>180cm/82kg </td><td>1993년 06월 09일</td><td>외야수(우투좌타)</td><td>관산초-부천중-야탑고-NC-상무                  </td><td>9000만원 </td><td>2.000</td><td>0.0000000</td></tr>\n",
              "\t<tr><td>69</td><td>김태완  </td><td>2006</td><td>한화</td><td>0.200</td><td>10</td><td>15</td><td> 0</td><td> 3</td><td>0</td><td>⋯</td><td>0.200</td><td>0.278</td><td>0</td><td>189cm/105kg</td><td>1984년 01월 27일</td><td>내야수(우투우타)</td><td>양목초-신월중-중앙고-성균관대-한화            </td><td>11000만원</td><td>0.478</td><td>0.0000000</td></tr>\n",
              "\t<tr><td>69</td><td>김태완  </td><td>2007</td><td>한화</td><td>0.318</td><td> 8</td><td>22</td><td> 4</td><td> 7</td><td>3</td><td>⋯</td><td>0.864</td><td>0.423</td><td>0</td><td>189cm/105kg</td><td>1984년 01월 27일</td><td>내야수(우투우타)</td><td>양목초-신월중-중앙고-성균관대-한화            </td><td>11000만원</td><td>1.287</td><td>0.5000000</td></tr>\n",
              "\t<tr><td>69</td><td>김태완  </td><td>2008</td><td>한화</td><td>0.375</td><td>10</td><td>24</td><td> 3</td><td> 9</td><td>1</td><td>⋯</td><td>0.542</td><td>0.444</td><td>0</td><td>189cm/105kg</td><td>1984년 01월 27일</td><td>내야수(우투우타)</td><td>양목초-신월중-중앙고-성균관대-한화            </td><td>11000만원</td><td>0.986</td><td>0.3000000</td></tr>\n",
              "\t<tr><td>69</td><td>김태완  </td><td>2009</td><td>한화</td><td>0.320</td><td>10</td><td>25</td><td> 5</td><td> 8</td><td>3</td><td>⋯</td><td>0.560</td><td>0.452</td><td>1</td><td>189cm/105kg</td><td>1984년 01월 27일</td><td>내야수(우투우타)</td><td>양목초-신월중-중앙고-성균관대-한화            </td><td>11000만원</td><td>1.012</td><td>0.5000000</td></tr>\n",
              "\t<tr><td>69</td><td>김태완  </td><td>2010</td><td>한화</td><td>0.400</td><td> 2</td><td> 5</td><td> 2</td><td> 2</td><td>0</td><td>⋯</td><td>0.800</td><td>0.400</td><td>1</td><td>189cm/105kg</td><td>1984년 01월 27일</td><td>내야수(우투우타)</td><td>양목초-신월중-중앙고-성균관대-한화            </td><td>11000만원</td><td>1.200</td><td>1.0000000</td></tr>\n",
              "\t<tr><td>69</td><td>김태완  </td><td>2013</td><td>한화</td><td>0.250</td><td> 9</td><td>28</td><td> 3</td><td> 7</td><td>0</td><td>⋯</td><td>0.250</td><td>0.417</td><td>0</td><td>189cm/105kg</td><td>1984년 01월 27일</td><td>내야수(우투우타)</td><td>양목초-신월중-중앙고-성균관대-한화            </td><td>11000만원</td><td>0.667</td><td>0.3333333</td></tr>\n",
              "\t<tr><td>69</td><td>김태완  </td><td>2014</td><td>한화</td><td>0.125</td><td>10</td><td>16</td><td> 1</td><td> 2</td><td>0</td><td>⋯</td><td>0.125</td><td>0.263</td><td>0</td><td>189cm/105kg</td><td>1984년 01월 27일</td><td>내야수(우투우타)</td><td>양목초-신월중-중앙고-성균관대-한화            </td><td>11000만원</td><td>0.388</td><td>0.1000000</td></tr>\n",
              "\t<tr><td>69</td><td>김태완  </td><td>2016</td><td>한화</td><td>0.000</td><td> 3</td><td> 3</td><td> 0</td><td> 0</td><td>0</td><td>⋯</td><td>0.000</td><td>0.250</td><td>0</td><td>189cm/105kg</td><td>1984년 01월 27일</td><td>내야수(우투우타)</td><td>양목초-신월중-중앙고-성균관대-한화            </td><td>11000만원</td><td>0.250</td><td>0.0000000</td></tr>\n",
              "\t<tr><td>69</td><td>김태완  </td><td>2017</td><td>넥센</td><td>0.370</td><td>12</td><td>27</td><td> 2</td><td>10</td><td>1</td><td>⋯</td><td>0.519</td><td>0.364</td><td>1</td><td>189cm/105kg</td><td>1984년 01월 27일</td><td>내야수(우투우타)</td><td>양목초-신월중-중앙고-성균관대-한화            </td><td>11000만원</td><td>0.883</td><td>0.1666667</td></tr>\n",
              "\t<tr><td>69</td><td>김태완  </td><td>2018</td><td>넥센</td><td>0.375</td><td> 5</td><td> 8</td><td> 2</td><td> 3</td><td>1</td><td>⋯</td><td>0.875</td><td>0.500</td><td>0</td><td>189cm/105kg</td><td>1984년 01월 27일</td><td>내야수(우투우타)</td><td>양목초-신월중-중앙고-성균관대-한화            </td><td>11000만원</td><td>1.375</td><td>0.4000000</td></tr>\n",
              "\t<tr><td> 3</td><td>강민국  </td><td>2014</td><td>NC  </td><td>0.000</td><td> 2</td><td> 1</td><td> 0</td><td> 0</td><td>0</td><td>⋯</td><td>0.000</td><td>0.000</td><td>0</td><td>176cm/80kg </td><td>1992년 01월 10일</td><td>내야수(우투우타)</td><td>송정동초-충장중-광주제일고-동국대-NC-상무     </td><td>20000만원</td><td>0.000</td><td>0.0000000</td></tr>\n",
              "\t<tr><td> 3</td><td>강민국  </td><td>2015</td><td>NC  </td><td>0.100</td><td> 9</td><td>10</td><td> 2</td><td> 1</td><td>1</td><td>⋯</td><td>0.200</td><td>0.100</td><td>0</td><td>176cm/80kg </td><td>1992년 01월 10일</td><td>내야수(우투우타)</td><td>송정동초-충장중-광주제일고-동국대-NC-상무     </td><td>20000만원</td><td>0.300</td><td>0.2222222</td></tr>\n",
              "\t<tr><td> 3</td><td>강민국  </td><td>2016</td><td>NC  </td><td>0.316</td><td>16</td><td>19</td><td> 2</td><td> 6</td><td>2</td><td>⋯</td><td>0.526</td><td>0.381</td><td>0</td><td>176cm/80kg </td><td>1992년 01월 10일</td><td>내야수(우투우타)</td><td>송정동초-충장중-광주제일고-동국대-NC-상무     </td><td>20000만원</td><td>0.907</td><td>0.1250000</td></tr>\n",
              "\t<tr><td> 4</td><td>강민호  </td><td>2005</td><td>롯데</td><td>0.250</td><td>11</td><td>20</td><td> 2</td><td> 5</td><td>4</td><td>⋯</td><td>0.450</td><td>0.250</td><td>0</td><td>185cm/100kg</td><td>1985년 08월 18일</td><td>포수(우투우타)  </td><td>제주신광초-포철중-포철공고-(국제디지털대)-롯데</td><td>9000만원 </td><td>0.700</td><td>0.1818182</td></tr>\n",
              "\t<tr><td> 4</td><td>강민호  </td><td>2006</td><td>롯데</td><td>0.381</td><td> 9</td><td>21</td><td> 6</td><td> 8</td><td>1</td><td>⋯</td><td>0.810</td><td>0.391</td><td>0</td><td>185cm/100kg</td><td>1985년 08월 18일</td><td>포수(우투우타)  </td><td>제주신광초-포철중-포철공고-(국제디지털대)-롯데</td><td>9000만원 </td><td>1.201</td><td>0.6666667</td></tr>\n",
              "\t<tr><td> 4</td><td>강민호  </td><td>2007</td><td>롯데</td><td>0.136</td><td>10</td><td>22</td><td> 2</td><td> 3</td><td>0</td><td>⋯</td><td>0.136</td><td>0.174</td><td>0</td><td>185cm/100kg</td><td>1985년 08월 18일</td><td>포수(우투우타)  </td><td>제주신광초-포철중-포철공고-(국제디지털대)-롯데</td><td>9000만원 </td><td>0.310</td><td>0.2000000</td></tr>\n",
              "\t<tr><td> 4</td><td>강민호  </td><td>2008</td><td>롯데</td><td>0.200</td><td> 5</td><td>10</td><td> 0</td><td> 2</td><td>1</td><td>⋯</td><td>0.300</td><td>0.273</td><td>0</td><td>185cm/100kg</td><td>1985년 08월 18일</td><td>포수(우투우타)  </td><td>제주신광초-포철중-포철공고-(국제디지털대)-롯데</td><td>9000만원 </td><td>0.573</td><td>0.0000000</td></tr>\n",
              "\t<tr><td> 4</td><td>강민호  </td><td>2009</td><td>롯데</td><td>0.167</td><td> 2</td><td> 6</td><td> 0</td><td> 1</td><td>0</td><td>⋯</td><td>0.167</td><td>0.167</td><td>0</td><td>185cm/100kg</td><td>1985년 08월 18일</td><td>포수(우투우타)  </td><td>제주신광초-포철중-포철공고-(국제디지털대)-롯데</td><td>9000만원 </td><td>0.334</td><td>0.0000000</td></tr>\n",
              "\t<tr><td> 4</td><td>강민호  </td><td>2010</td><td>롯데</td><td>0.261</td><td>10</td><td>23</td><td> 8</td><td> 6</td><td>1</td><td>⋯</td><td>0.826</td><td>0.414</td><td>0</td><td>185cm/100kg</td><td>1985년 08월 18일</td><td>포수(우투우타)  </td><td>제주신광초-포철중-포철공고-(국제디지털대)-롯데</td><td>9000만원 </td><td>1.240</td><td>0.8000000</td></tr>\n",
              "\t<tr><td> 4</td><td>강민호  </td><td>2011</td><td>롯데</td><td>0.353</td><td>13</td><td>34</td><td> 4</td><td>12</td><td>3</td><td>⋯</td><td>0.618</td><td>0.400</td><td>0</td><td>185cm/100kg</td><td>1985년 08월 18일</td><td>포수(우투우타)  </td><td>제주신광초-포철중-포철공고-(국제디지털대)-롯데</td><td>9000만원 </td><td>1.018</td><td>0.3076923</td></tr>\n",
              "\t<tr><td> 4</td><td>강민호  </td><td>2012</td><td>롯데</td><td>0.273</td><td> 5</td><td>11</td><td> 2</td><td> 3</td><td>0</td><td>⋯</td><td>0.273</td><td>0.273</td><td>0</td><td>185cm/100kg</td><td>1985년 08월 18일</td><td>포수(우투우타)  </td><td>제주신광초-포철중-포철공고-(국제디지털대)-롯데</td><td>9000만원 </td><td>0.546</td><td>0.4000000</td></tr>\n",
              "\t<tr><td>⋮</td><td>⋮</td><td>⋮</td><td>⋮</td><td>⋮</td><td>⋮</td><td>⋮</td><td>⋮</td><td>⋮</td><td>⋮</td><td>⋱</td><td>⋮</td><td>⋮</td><td>⋮</td><td>⋮</td><td>⋮</td><td>⋮</td><td>⋮</td><td>⋮</td><td>⋮</td><td>⋮</td></tr>\n",
              "\t<tr><td>331</td><td>허경민</td><td>2017</td><td>두산    </td><td>0.250</td><td>11</td><td>32</td><td>4</td><td> 8</td><td>0</td><td>⋯</td><td>0.438</td><td>0.314</td><td>0</td><td>176cm/69kg</td><td>1990년 08월 26일</td><td>내야수(우투우타)</td><td>송정동초-충장중-광주제일고-두산-경찰                          </td><td>13000만원 </td><td>0.752</td><td>0.3636364</td></tr>\n",
              "\t<tr><td>331</td><td>허경민</td><td>2018</td><td>두산    </td><td>0.600</td><td> 6</td><td>15</td><td>3</td><td> 9</td><td>3</td><td>⋯</td><td>0.800</td><td>0.684</td><td>0</td><td>176cm/69kg</td><td>1990년 08월 26일</td><td>내야수(우투우타)</td><td>송정동초-충장중-광주제일고-두산-경찰                          </td><td>13000만원 </td><td>1.484</td><td>0.5000000</td></tr>\n",
              "\t<tr><td>332</td><td>허도환</td><td>2012</td><td>넥센    </td><td>0.200</td><td> 9</td><td>15</td><td>0</td><td> 3</td><td>0</td><td>⋯</td><td>0.200</td><td>0.294</td><td>0</td><td>176cm/87kg</td><td>1984년 07월 31일</td><td>포수(우투우타)  </td><td>서울학동초-이수중-서울고-단국대-두산-넥센-한화                </td><td>          </td><td>0.494</td><td>0.0000000</td></tr>\n",
              "\t<tr><td>332</td><td>허도환</td><td>2013</td><td>넥센    </td><td>0.000</td><td> 4</td><td> 8</td><td>0</td><td> 0</td><td>0</td><td>⋯</td><td>0.000</td><td>0.000</td><td>0</td><td>176cm/87kg</td><td>1984년 07월 31일</td><td>포수(우투우타)  </td><td>서울학동초-이수중-서울고-단국대-두산-넥센-한화                </td><td>          </td><td>0.000</td><td>0.0000000</td></tr>\n",
              "\t<tr><td>332</td><td>허도환</td><td>2014</td><td>넥센    </td><td>0.150</td><td>12</td><td>20</td><td>2</td><td> 3</td><td>0</td><td>⋯</td><td>0.300</td><td>0.227</td><td>2</td><td>176cm/87kg</td><td>1984년 07월 31일</td><td>포수(우투우타)  </td><td>서울학동초-이수중-서울고-단국대-두산-넥센-한화                </td><td>          </td><td>0.527</td><td>0.1666667</td></tr>\n",
              "\t<tr><td>332</td><td>허도환</td><td>2016</td><td>한화    </td><td>0.250</td><td> 8</td><td>12</td><td>2</td><td> 3</td><td>2</td><td>⋯</td><td>0.417</td><td>0.333</td><td>0</td><td>176cm/87kg</td><td>1984년 07월 31일</td><td>포수(우투우타)  </td><td>서울학동초-이수중-서울고-단국대-두산-넥센-한화                </td><td>          </td><td>0.750</td><td>0.2500000</td></tr>\n",
              "\t<tr><td>332</td><td>허도환</td><td>2017</td><td>한화    </td><td>0.375</td><td> 7</td><td> 8</td><td>1</td><td> 3</td><td>2</td><td>⋯</td><td>0.625</td><td>0.375</td><td>1</td><td>176cm/87kg</td><td>1984년 07월 31일</td><td>포수(우투우타)  </td><td>서울학동초-이수중-서울고-단국대-두산-넥센-한화                </td><td>          </td><td>1.000</td><td>0.1428571</td></tr>\n",
              "\t<tr><td>332</td><td>허도환</td><td>2018</td><td>SK      </td><td>0.000</td><td> 4</td><td> 4</td><td>0</td><td> 0</td><td>0</td><td>⋯</td><td>0.000</td><td>0.000</td><td>0</td><td>176cm/87kg</td><td>1984년 07월 31일</td><td>포수(우투우타)  </td><td>서울학동초-이수중-서울고-단국대-두산-넥센-한화                </td><td>          </td><td>0.000</td><td>0.0000000</td></tr>\n",
              "\t<tr><td>334</td><td>호잉  </td><td>2018</td><td>한화    </td><td>0.250</td><td> 6</td><td>16</td><td>3</td><td> 4</td><td>0</td><td>⋯</td><td>0.688</td><td>0.278</td><td>0</td><td>190cm/92kg</td><td>1989년 05월 18일</td><td>외야수(우투좌타)</td><td>미국 Fort Loramie(고)-미국 Toledo(대)                         </td><td>300000달러</td><td>0.966</td><td>0.5000000</td></tr>\n",
              "\t<tr><td>337</td><td>홍재호</td><td>2011</td><td>KIA     </td><td>0.111</td><td> 8</td><td> 9</td><td>1</td><td> 1</td><td>0</td><td>⋯</td><td>0.111</td><td>0.111</td><td>0</td><td>180cm/79kg</td><td>1987년 05월 10일</td><td>내야수(우투우타)</td><td>부산대연초-대천중-부산고-고려대-KIA-경찰                      </td><td>4000만원  </td><td>0.222</td><td>0.1250000</td></tr>\n",
              "\t<tr><td>337</td><td>홍재호</td><td>2012</td><td>KIA     </td><td>0.250</td><td>12</td><td>24</td><td>3</td><td> 6</td><td>0</td><td>⋯</td><td>0.375</td><td>0.308</td><td>0</td><td>180cm/79kg</td><td>1987년 05월 10일</td><td>내야수(우투우타)</td><td>부산대연초-대천중-부산고-고려대-KIA-경찰                      </td><td>4000만원  </td><td>0.683</td><td>0.2500000</td></tr>\n",
              "\t<tr><td>337</td><td>홍재호</td><td>2013</td><td>KIA     </td><td>0.438</td><td>11</td><td>16</td><td>5</td><td> 7</td><td>1</td><td>⋯</td><td>0.625</td><td>0.500</td><td>1</td><td>180cm/79kg</td><td>1987년 05월 10일</td><td>내야수(우투우타)</td><td>부산대연초-대천중-부산고-고려대-KIA-경찰                      </td><td>4000만원  </td><td>1.125</td><td>0.4545455</td></tr>\n",
              "\t<tr><td>337</td><td>홍재호</td><td>2017</td><td>KIA     </td><td>0.231</td><td>11</td><td>13</td><td>3</td><td> 3</td><td>0</td><td>⋯</td><td>0.385</td><td>0.286</td><td>0</td><td>180cm/79kg</td><td>1987년 05월 10일</td><td>내야수(우투우타)</td><td>부산대연초-대천중-부산고-고려대-KIA-경찰                      </td><td>4000만원  </td><td>0.671</td><td>0.2727273</td></tr>\n",
              "\t<tr><td>337</td><td>홍재호</td><td>2018</td><td>KIA     </td><td>0.333</td><td> 1</td><td> 3</td><td>0</td><td> 1</td><td>0</td><td>⋯</td><td>0.333</td><td>0.333</td><td>0</td><td>180cm/79kg</td><td>1987년 05월 10일</td><td>내야수(우투우타)</td><td>부산대연초-대천중-부산고-고려대-KIA-경찰                      </td><td>4000만원  </td><td>0.666</td><td>0.0000000</td></tr>\n",
              "\t<tr><td>338</td><td>홍창기</td><td>2016</td><td>LG      </td><td>0.200</td><td> 5</td><td> 5</td><td>0</td><td> 1</td><td>1</td><td>⋯</td><td>0.400</td><td>0.429</td><td>1</td><td>189cm/94kg</td><td>1993년 11월 21일</td><td>외야수(우투좌타)</td><td>대일초-매송중-안산공고-건국대-LG-경찰                         </td><td>8000만원  </td><td>0.829</td><td>0.0000000</td></tr>\n",
              "\t<tr><td>341</td><td>황윤호</td><td>2015</td><td>NC      </td><td>-    </td><td> 2</td><td> 0</td><td>0</td><td> 0</td><td>0</td><td>⋯</td><td>   NA</td><td>   NA</td><td>0</td><td>177cm/78kg</td><td>1993년 09월 22일</td><td>내야수(우투우타)</td><td>수주초-신월중-장충고-NC-경찰-NC                               </td><td>3000만원  </td><td>   NA</td><td>0.0000000</td></tr>\n",
              "\t<tr><td>341</td><td>황윤호</td><td>2016</td><td>NC      </td><td>0.000</td><td> 2</td><td> 1</td><td>0</td><td> 0</td><td>0</td><td>⋯</td><td>0.000</td><td>0.000</td><td>1</td><td>177cm/78kg</td><td>1993년 09월 22일</td><td>내야수(우투우타)</td><td>수주초-신월중-장충고-NC-경찰-NC                               </td><td>3000만원  </td><td>0.000</td><td>0.0000000</td></tr>\n",
              "\t<tr><td>341</td><td>황윤호</td><td>2017</td><td>NC      </td><td>0.000</td><td> 8</td><td> 3</td><td>2</td><td> 0</td><td>0</td><td>⋯</td><td>0.000</td><td>0.000</td><td>0</td><td>177cm/78kg</td><td>1993년 09월 22일</td><td>내야수(우투우타)</td><td>수주초-신월중-장충고-NC-경찰-NC                               </td><td>3000만원  </td><td>0.000</td><td>0.2500000</td></tr>\n",
              "\t<tr><td>341</td><td>황윤호</td><td>2018</td><td>KIA     </td><td>0.000</td><td> 5</td><td> 2</td><td>1</td><td> 0</td><td>0</td><td>⋯</td><td>0.000</td><td>0.000</td><td>0</td><td>177cm/78kg</td><td>1993년 09월 22일</td><td>내야수(우투우타)</td><td>수주초-신월중-장충고-NC-경찰-NC                               </td><td>3000만원  </td><td>0.000</td><td>0.2000000</td></tr>\n",
              "\t<tr><td>342</td><td>황재균</td><td>2008</td><td>우리    </td><td>0.179</td><td>11</td><td>28</td><td>0</td><td> 5</td><td>1</td><td>⋯</td><td>0.214</td><td>0.179</td><td>2</td><td>183cm/96kg</td><td>1987년 07월 28일</td><td>내야수(우투우타)</td><td>사당초-이수중-경기고-현대-우리-히어로즈-넥센-롯데-샌프란시스코</td><td>6000만원  </td><td>0.393</td><td>0.0000000</td></tr>\n",
              "\t<tr><td>342</td><td>황재균</td><td>2009</td><td>히어로즈</td><td>0.194</td><td>11</td><td>31</td><td>4</td><td> 6</td><td>2</td><td>⋯</td><td>0.258</td><td>0.242</td><td>1</td><td>183cm/96kg</td><td>1987년 07월 28일</td><td>내야수(우투우타)</td><td>사당초-이수중-경기고-현대-우리-히어로즈-넥센-롯데-샌프란시스코</td><td>6000만원  </td><td>0.500</td><td>0.3636364</td></tr>\n",
              "\t<tr><td>342</td><td>황재균</td><td>2010</td><td>롯데    </td><td>0.174</td><td>12</td><td>46</td><td>4</td><td> 8</td><td>1</td><td>⋯</td><td>0.304</td><td>0.224</td><td>2</td><td>183cm/96kg</td><td>1987년 07월 28일</td><td>내야수(우투우타)</td><td>사당초-이수중-경기고-현대-우리-히어로즈-넥센-롯데-샌프란시스코</td><td>6000만원  </td><td>0.528</td><td>0.3333333</td></tr>\n",
              "\t<tr><td>342</td><td>황재균</td><td>2011</td><td>롯데    </td><td>0.152</td><td>13</td><td>33</td><td>2</td><td> 5</td><td>1</td><td>⋯</td><td>0.242</td><td>0.222</td><td>3</td><td>183cm/96kg</td><td>1987년 07월 28일</td><td>내야수(우투우타)</td><td>사당초-이수중-경기고-현대-우리-히어로즈-넥센-롯데-샌프란시스코</td><td>6000만원  </td><td>0.464</td><td>0.1538462</td></tr>\n",
              "\t<tr><td>342</td><td>황재균</td><td>2012</td><td>롯데    </td><td>0.154</td><td>12</td><td>26</td><td>2</td><td> 4</td><td>2</td><td>⋯</td><td>0.346</td><td>0.258</td><td>1</td><td>183cm/96kg</td><td>1987년 07월 28일</td><td>내야수(우투우타)</td><td>사당초-이수중-경기고-현대-우리-히어로즈-넥센-롯데-샌프란시스코</td><td>6000만원  </td><td>0.604</td><td>0.1666667</td></tr>\n",
              "\t<tr><td>342</td><td>황재균</td><td>2013</td><td>롯데    </td><td>0.200</td><td>10</td><td>30</td><td>2</td><td> 6</td><td>0</td><td>⋯</td><td>0.300</td><td>0.306</td><td>3</td><td>183cm/96kg</td><td>1987년 07월 28일</td><td>내야수(우투우타)</td><td>사당초-이수중-경기고-현대-우리-히어로즈-넥센-롯데-샌프란시스코</td><td>6000만원  </td><td>0.606</td><td>0.2000000</td></tr>\n",
              "\t<tr><td>342</td><td>황재균</td><td>2014</td><td>롯데    </td><td>0.407</td><td>10</td><td>27</td><td>3</td><td>11</td><td>2</td><td>⋯</td><td>0.593</td><td>0.448</td><td>1</td><td>183cm/96kg</td><td>1987년 07월 28일</td><td>내야수(우투우타)</td><td>사당초-이수중-경기고-현대-우리-히어로즈-넥센-롯데-샌프란시스코</td><td>6000만원  </td><td>1.041</td><td>0.3000000</td></tr>\n",
              "\t<tr><td>342</td><td>황재균</td><td>2015</td><td>롯데    </td><td>0.333</td><td>11</td><td>30</td><td>8</td><td>10</td><td>3</td><td>⋯</td><td>0.433</td><td>0.389</td><td>0</td><td>183cm/96kg</td><td>1987년 07월 28일</td><td>내야수(우투우타)</td><td>사당초-이수중-경기고-현대-우리-히어로즈-넥센-롯데-샌프란시스코</td><td>6000만원  </td><td>0.822</td><td>0.7272727</td></tr>\n",
              "\t<tr><td>342</td><td>황재균</td><td>2016</td><td>롯데    </td><td>0.310</td><td>16</td><td>42</td><td>8</td><td>13</td><td>3</td><td>⋯</td><td>0.429</td><td>0.370</td><td>1</td><td>183cm/96kg</td><td>1987년 07월 28일</td><td>내야수(우투우타)</td><td>사당초-이수중-경기고-현대-우리-히어로즈-넥센-롯데-샌프란시스코</td><td>6000만원  </td><td>0.799</td><td>0.5000000</td></tr>\n",
              "\t<tr><td>342</td><td>황재균</td><td>2018</td><td>KT      </td><td>0.250</td><td> 6</td><td>16</td><td>3</td><td> 4</td><td>1</td><td>⋯</td><td>0.500</td><td>0.333</td><td>3</td><td>183cm/96kg</td><td>1987년 07월 28일</td><td>내야수(우투우타)</td><td>사당초-이수중-경기고-현대-우리-히어로즈-넥센-롯데-샌프란시스코</td><td>6000만원  </td><td>0.833</td><td>0.5000000</td></tr>\n",
              "\t<tr><td>344</td><td>황진수</td><td>2014</td><td>롯데    </td><td>0.000</td><td> 1</td><td> 1</td><td>1</td><td> 0</td><td>0</td><td>⋯</td><td>0.000</td><td>0.000</td><td>0</td><td>181cm/82kg</td><td>1989년 02월 15일</td><td>내야수(우투양타)</td><td>석천초-대헌중-공주고                                          </td><td>4000만원  </td><td>0.000</td><td>1.0000000</td></tr>\n",
              "</tbody>\n",
              "</table>\n"
            ]
          },
          "metadata": {
            "tags": []
          }
        }
      ]
    },
    {
      "cell_type": "code",
      "metadata": {
        "id": "K7RndEF_4QNv",
        "colab_type": "code",
        "colab": {}
      },
      "source": [
        ""
      ],
      "execution_count": 53,
      "outputs": []
    },
    {
      "cell_type": "code",
      "metadata": {
        "id": "D0q2RPwh4QTv",
        "colab_type": "code",
        "colab": {
          "base_uri": "https://localhost:8080/",
          "height": 269
        },
        "outputId": "c395c751-1fe0-4872-8032-a0ebe32f6348"
      },
      "source": [
        "# mutate와 쓰임은 동일하다\n",
        "# 차이점 = transmute는 원하는 결과만 남기고 나머지를 삭제한다.  \n",
        "DF %>% transmute(batter_id = paste(batter_id, batter_name, sep = \"_\")) %>% show() # transmute"
      ],
      "execution_count": 54,
      "outputs": [
        {
          "output_type": "stream",
          "text": [
            "\u001b[90m# A tibble: 1,393 x 1\u001b[39m\n",
            "   batter_id \n",
            "   \u001b[3m\u001b[90m<chr>\u001b[39m\u001b[23m     \n",
            "\u001b[90m 1\u001b[39m 0_가르시아\n",
            "\u001b[90m 2\u001b[39m 1_강경학  \n",
            "\u001b[90m 3\u001b[39m 1_강경학  \n",
            "\u001b[90m 4\u001b[39m 1_강경학  \n",
            "\u001b[90m 5\u001b[39m 1_강경학  \n",
            "\u001b[90m 6\u001b[39m 1_강경학  \n",
            "\u001b[90m 7\u001b[39m 2_강구성  \n",
            "\u001b[90m 8\u001b[39m 2_강구성  \n",
            "\u001b[90m 9\u001b[39m 2_강구성  \n",
            "\u001b[90m10\u001b[39m 69_김태완 \n",
            "\u001b[90m# … with 1,383 more rows\u001b[39m\n"
          ],
          "name": "stdout"
        }
      ]
    },
    {
      "cell_type": "markdown",
      "metadata": {
        "id": "RS8kxu2E6YOv",
        "colab_type": "text"
      },
      "source": [
        "* ``sample_frac, sample_n``\n",
        "\n",
        "**<arguments!>**\n",
        " 1. ``size`` For sample_n(), the number of rows to select. For sample_frac(), the fraction of rows to select. If tbl is grouped, size applies to each group.\n",
        " 2. ``replace`` Sample with or without replacement?"
      ]
    },
    {
      "cell_type": "code",
      "metadata": {
        "id": "Ru2qiyZJPqIc",
        "colab_type": "code",
        "colab": {
          "base_uri": "https://localhost:8080/",
          "height": 161
        },
        "outputId": "7d15d93f-1964-4d75-c25c-4143bcdd2096"
      },
      "source": [
        "# sample_n = 무작위로 데이터를 추출한다.\n",
        "# sample_n(date.frame, 뽑을갯수, 복원(비복원)추출)\n",
        "# replace = F -> 비복원추출 -> 중복되지 않는 값을 뽑는다.\n",
        "\n",
        "train_set <- sample_n(DF, 1, replace = F) # sample_n\n",
        "train_set %>% show()"
      ],
      "execution_count": 68,
      "outputs": [
        {
          "output_type": "stream",
          "text": [
            "\u001b[90m# A tibble: 1 x 29\u001b[39m\n",
            "  batter_id batter_name  year team  avg       G    AB     R     H  `2B`  `3B`\n",
            "      \u001b[3m\u001b[90m<int>\u001b[39m\u001b[23m \u001b[3m\u001b[90m<chr>\u001b[39m\u001b[23m       \u001b[3m\u001b[90m<int>\u001b[39m\u001b[23m \u001b[3m\u001b[90m<chr>\u001b[39m\u001b[23m \u001b[3m\u001b[90m<chr>\u001b[39m\u001b[23m \u001b[3m\u001b[90m<int>\u001b[39m\u001b[23m \u001b[3m\u001b[90m<int>\u001b[39m\u001b[23m \u001b[3m\u001b[90m<int>\u001b[39m\u001b[23m \u001b[3m\u001b[90m<int>\u001b[39m\u001b[23m \u001b[3m\u001b[90m<int>\u001b[39m\u001b[23m \u001b[3m\u001b[90m<int>\u001b[39m\u001b[23m\n",
            "\u001b[90m1\u001b[39m       200 이대수       \u001b[4m2\u001b[24m006 SK    0.348    11    23     6     8     0     0\n",
            "\u001b[90m# … with 18 more variables: HR \u001b[3m\u001b[90m<int>\u001b[90m\u001b[23m, TB \u001b[3m\u001b[90m<int>\u001b[90m\u001b[23m, RBI \u001b[3m\u001b[90m<int>\u001b[90m\u001b[23m, SB \u001b[3m\u001b[90m<int>\u001b[90m\u001b[23m, CS \u001b[3m\u001b[90m<int>\u001b[90m\u001b[23m,\u001b[39m\n",
            "\u001b[90m#   BB \u001b[3m\u001b[90m<int>\u001b[90m\u001b[23m, HBP \u001b[3m\u001b[90m<int>\u001b[90m\u001b[23m, SO \u001b[3m\u001b[90m<int>\u001b[90m\u001b[23m, GDP \u001b[3m\u001b[90m<int>\u001b[90m\u001b[23m, SLG \u001b[3m\u001b[90m<dbl>\u001b[90m\u001b[23m, OBP \u001b[3m\u001b[90m<dbl>\u001b[90m\u001b[23m, E \u001b[3m\u001b[90m<int>\u001b[90m\u001b[23m,\u001b[39m\n",
            "\u001b[90m#   `height/weight` \u001b[3m\u001b[90m<chr>\u001b[90m\u001b[23m, year_born \u001b[3m\u001b[90m<chr>\u001b[90m\u001b[23m, position \u001b[3m\u001b[90m<chr>\u001b[90m\u001b[23m, career \u001b[3m\u001b[90m<chr>\u001b[90m\u001b[23m,\u001b[39m\n",
            "\u001b[90m#   starting_salary \u001b[3m\u001b[90m<chr>\u001b[90m\u001b[23m, OPS \u001b[3m\u001b[90m<dbl>\u001b[90m\u001b[23m\u001b[39m\n"
          ],
          "name": "stdout"
        }
      ]
    },
    {
      "cell_type": "code",
      "metadata": {
        "id": "JDkGjEvrPzla",
        "colab_type": "code",
        "colab": {
          "base_uri": "https://localhost:8080/",
          "height": 323
        },
        "outputId": "4f06971c-2fd3-4044-a5b6-69dc3cbc4103"
      },
      "source": [
        "# 무작위로 DF에서 34개의 데이터를 뽑는다.\n",
        "train_set <- sample_n(DF, 34, replace = F) # sample_n\n",
        "train_set %>% show()"
      ],
      "execution_count": 69,
      "outputs": [
        {
          "output_type": "stream",
          "text": [
            "\u001b[90m# A tibble: 34 x 29\u001b[39m\n",
            "   batter_id batter_name  year team  avg       G    AB     R     H  `2B`  `3B`\n",
            "       \u001b[3m\u001b[90m<int>\u001b[39m\u001b[23m \u001b[3m\u001b[90m<chr>\u001b[39m\u001b[23m       \u001b[3m\u001b[90m<int>\u001b[39m\u001b[23m \u001b[3m\u001b[90m<chr>\u001b[39m\u001b[23m \u001b[3m\u001b[90m<chr>\u001b[39m\u001b[23m \u001b[3m\u001b[90m<int>\u001b[39m\u001b[23m \u001b[3m\u001b[90m<int>\u001b[39m\u001b[23m \u001b[3m\u001b[90m<int>\u001b[39m\u001b[23m \u001b[3m\u001b[90m<int>\u001b[39m\u001b[23m \u001b[3m\u001b[90m<int>\u001b[39m\u001b[23m \u001b[3m\u001b[90m<int>\u001b[39m\u001b[23m\n",
            "\u001b[90m 1\u001b[39m        73 김현수       \u001b[4m2\u001b[24m008 두산  0.235    10    34     4     8     2     0\n",
            "\u001b[90m 2\u001b[39m       172 양성우       \u001b[4m2\u001b[24m018 한화  0.333     6    12     2     4     0     0\n",
            "\u001b[90m 3\u001b[39m        62 김주찬       \u001b[4m2\u001b[24m017 KIA   0.174     8    23     0     4     0     0\n",
            "\u001b[90m 4\u001b[39m       294 지석훈       \u001b[4m2\u001b[24m007 현대  0.222    11    18     2     4     1     0\n",
            "\u001b[90m 5\u001b[39m       100 문규현       \u001b[4m2\u001b[24m011 롯데  0.231    10    13     3     3     1     0\n",
            "\u001b[90m 6\u001b[39m       109 박기혁       \u001b[4m2\u001b[24m010 롯데  0.520    10    25     5    13     4     1\n",
            "\u001b[90m 7\u001b[39m        20 국해성       \u001b[4m2\u001b[24m015 두산  0.200    11    20     6     4     1     0\n",
            "\u001b[90m 8\u001b[39m        57 김재호       \u001b[4m2\u001b[24m005 두산  0.048    13    21     2     1     0     0\n",
            "\u001b[90m 9\u001b[39m       131 박한이       \u001b[4m2\u001b[24m011 삼성  0.192    10    26     3     5     1     0\n",
            "\u001b[90m10\u001b[39m       180 오재일       \u001b[4m2\u001b[24m011 넥센  0.333     8    12     1     4     2     0\n",
            "\u001b[90m# … with 24 more rows, and 18 more variables: HR \u001b[3m\u001b[90m<int>\u001b[90m\u001b[23m, TB \u001b[3m\u001b[90m<int>\u001b[90m\u001b[23m, RBI \u001b[3m\u001b[90m<int>\u001b[90m\u001b[23m,\u001b[39m\n",
            "\u001b[90m#   SB \u001b[3m\u001b[90m<int>\u001b[90m\u001b[23m, CS \u001b[3m\u001b[90m<int>\u001b[90m\u001b[23m, BB \u001b[3m\u001b[90m<int>\u001b[90m\u001b[23m, HBP \u001b[3m\u001b[90m<int>\u001b[90m\u001b[23m, SO \u001b[3m\u001b[90m<int>\u001b[90m\u001b[23m, GDP \u001b[3m\u001b[90m<int>\u001b[90m\u001b[23m, SLG \u001b[3m\u001b[90m<dbl>\u001b[90m\u001b[23m,\u001b[39m\n",
            "\u001b[90m#   OBP \u001b[3m\u001b[90m<dbl>\u001b[90m\u001b[23m, E \u001b[3m\u001b[90m<int>\u001b[90m\u001b[23m, `height/weight` \u001b[3m\u001b[90m<chr>\u001b[90m\u001b[23m, year_born \u001b[3m\u001b[90m<chr>\u001b[90m\u001b[23m, position \u001b[3m\u001b[90m<chr>\u001b[90m\u001b[23m,\u001b[39m\n",
            "\u001b[90m#   career \u001b[3m\u001b[90m<chr>\u001b[90m\u001b[23m, starting_salary \u001b[3m\u001b[90m<chr>\u001b[90m\u001b[23m, OPS \u001b[3m\u001b[90m<dbl>\u001b[90m\u001b[23m\u001b[39m\n"
          ],
          "name": "stdout"
        }
      ]
    },
    {
      "cell_type": "code",
      "metadata": {
        "id": "raPA_g-lb1cW",
        "colab_type": "code",
        "colab": {}
      },
      "source": [
        ""
      ],
      "execution_count": 57,
      "outputs": []
    },
    {
      "cell_type": "code",
      "metadata": {
        "id": "y-EGngSP7D3B",
        "colab_type": "code",
        "colab": {
          "base_uri": "https://localhost:8080/",
          "height": 323
        },
        "outputId": "0059ca53-8f4c-444e-b934-75bd532f7c4d"
      },
      "source": [
        "# sample_frac = 무작위로 퍼샌트만큼 데이터를 뽑는다. 0 ~ 1까지\n",
        "# 0.7 = 70% 의 데이터를 뽑는다. \n",
        "train_set <- sample_frac(DF, 0.7, replace = F) # sample_frac\n",
        "train_set %>% show()"
      ],
      "execution_count": 58,
      "outputs": [
        {
          "output_type": "stream",
          "text": [
            "\u001b[90m# A tibble: 975 x 29\u001b[39m\n",
            "   batter_id batter_name  year team  avg       G    AB     R     H  `2B`  `3B`\n",
            "       \u001b[3m\u001b[90m<int>\u001b[39m\u001b[23m \u001b[3m\u001b[90m<chr>\u001b[39m\u001b[23m       \u001b[3m\u001b[90m<int>\u001b[39m\u001b[23m \u001b[3m\u001b[90m<chr>\u001b[39m\u001b[23m \u001b[3m\u001b[90m<chr>\u001b[39m\u001b[23m \u001b[3m\u001b[90m<int>\u001b[39m\u001b[23m \u001b[3m\u001b[90m<int>\u001b[39m\u001b[23m \u001b[3m\u001b[90m<int>\u001b[39m\u001b[23m \u001b[3m\u001b[90m<int>\u001b[39m\u001b[23m \u001b[3m\u001b[90m<int>\u001b[39m\u001b[23m \u001b[3m\u001b[90m<int>\u001b[39m\u001b[23m\n",
            "\u001b[90m 1\u001b[39m       124 박정음       \u001b[4m2\u001b[24m016 넥센  0.148    15    27     6     4     0     0\n",
            "\u001b[90m 2\u001b[39m       211 이성열       \u001b[4m2\u001b[24m011 두산  0.200    12    35     1     7     1     0\n",
            "\u001b[90m 3\u001b[39m       144 서건창       \u001b[4m2\u001b[24m016 넥센  0.244    15    45     8    11     7     1\n",
            "\u001b[90m 4\u001b[39m       337 홍재호       \u001b[4m2\u001b[24m011 KIA   0.111     8     9     1     1     0     0\n",
            "\u001b[90m 5\u001b[39m       251 장민석       \u001b[4m2\u001b[24m013 넥센  0.280    11    25     2     7     1     1\n",
            "\u001b[90m 6\u001b[39m       216 이영욱       \u001b[4m2\u001b[24m015 삼성  0.143     9     7     3     1     0     0\n",
            "\u001b[90m 7\u001b[39m       252 장성우       \u001b[4m2\u001b[24m008 롯데  0.333     3     6     1     2     2     0\n",
            "\u001b[90m 8\u001b[39m       313 최정         \u001b[4m2\u001b[24m016 SK    0.240    10    25     2     6     1     0\n",
            "\u001b[90m 9\u001b[39m       311 최윤석       \u001b[4m2\u001b[24m012 SK    0.208    13    24     6     5     0     1\n",
            "\u001b[90m10\u001b[39m       174 양의지       \u001b[4m2\u001b[24m011 두산  0.222    11    27     1     6     3     0\n",
            "\u001b[90m# … with 965 more rows, and 18 more variables: HR \u001b[3m\u001b[90m<int>\u001b[90m\u001b[23m, TB \u001b[3m\u001b[90m<int>\u001b[90m\u001b[23m, RBI \u001b[3m\u001b[90m<int>\u001b[90m\u001b[23m,\u001b[39m\n",
            "\u001b[90m#   SB \u001b[3m\u001b[90m<int>\u001b[90m\u001b[23m, CS \u001b[3m\u001b[90m<int>\u001b[90m\u001b[23m, BB \u001b[3m\u001b[90m<int>\u001b[90m\u001b[23m, HBP \u001b[3m\u001b[90m<int>\u001b[90m\u001b[23m, SO \u001b[3m\u001b[90m<int>\u001b[90m\u001b[23m, GDP \u001b[3m\u001b[90m<int>\u001b[90m\u001b[23m, SLG \u001b[3m\u001b[90m<dbl>\u001b[90m\u001b[23m,\u001b[39m\n",
            "\u001b[90m#   OBP \u001b[3m\u001b[90m<dbl>\u001b[90m\u001b[23m, E \u001b[3m\u001b[90m<int>\u001b[90m\u001b[23m, `height/weight` \u001b[3m\u001b[90m<chr>\u001b[90m\u001b[23m, year_born \u001b[3m\u001b[90m<chr>\u001b[90m\u001b[23m, position \u001b[3m\u001b[90m<chr>\u001b[90m\u001b[23m,\u001b[39m\n",
            "\u001b[90m#   career \u001b[3m\u001b[90m<chr>\u001b[90m\u001b[23m, starting_salary \u001b[3m\u001b[90m<chr>\u001b[90m\u001b[23m, OPS \u001b[3m\u001b[90m<dbl>\u001b[90m\u001b[23m\u001b[39m\n"
          ],
          "name": "stdout"
        }
      ]
    },
    {
      "cell_type": "code",
      "metadata": {
        "id": "kW3sUyT_P5dE",
        "colab_type": "code",
        "colab": {
          "base_uri": "https://localhost:8080/",
          "height": 323
        },
        "outputId": "1d68f7a9-aeef-4688-b243-966b62888b26"
      },
      "source": [
        "# 모든 데이터를 무작위로 뽑는다 \n",
        "train_set <- sample_frac(DF, 1, replace = F) # sample_frac\n",
        "train_set %>% show()"
      ],
      "execution_count": 59,
      "outputs": [
        {
          "output_type": "stream",
          "text": [
            "\u001b[90m# A tibble: 1,393 x 29\u001b[39m\n",
            "   batter_id batter_name  year team  avg       G    AB     R     H  `2B`  `3B`\n",
            "       \u001b[3m\u001b[90m<int>\u001b[39m\u001b[23m \u001b[3m\u001b[90m<chr>\u001b[39m\u001b[23m       \u001b[3m\u001b[90m<int>\u001b[39m\u001b[23m \u001b[3m\u001b[90m<chr>\u001b[39m\u001b[23m \u001b[3m\u001b[90m<chr>\u001b[39m\u001b[23m \u001b[3m\u001b[90m<int>\u001b[39m\u001b[23m \u001b[3m\u001b[90m<int>\u001b[39m\u001b[23m \u001b[3m\u001b[90m<int>\u001b[39m\u001b[23m \u001b[3m\u001b[90m<int>\u001b[39m\u001b[23m \u001b[3m\u001b[90m<int>\u001b[39m\u001b[23m \u001b[3m\u001b[90m<int>\u001b[39m\u001b[23m\n",
            "\u001b[90m 1\u001b[39m        72 김헌곤       \u001b[4m2\u001b[24m014 삼성  0.143     7     7     1     1     1     0\n",
            "\u001b[90m 2\u001b[39m       145 서동욱       \u001b[4m2\u001b[24m011 LG    0.175    13    40     6     7     1     0\n",
            "\u001b[90m 3\u001b[39m       151 손주인       \u001b[4m2\u001b[24m010 삼성  0.125    13    16     5     2     0     0\n",
            "\u001b[90m 4\u001b[39m       243 이호신       \u001b[4m2\u001b[24m007 KIA   0.333    10     3     1     1     0     0\n",
            "\u001b[90m 5\u001b[39m       283 조동찬       \u001b[4m2\u001b[24m013 삼성  0.182    10    33     1     6     1     0\n",
            "\u001b[90m 6\u001b[39m        46 김성훈       \u001b[4m2\u001b[24m018 삼성  0.091     5    11     0     1     0     0\n",
            "\u001b[90m 7\u001b[39m       313 최정         \u001b[4m2\u001b[24m006 SK    0.067    11    15     2     1     0     0\n",
            "\u001b[90m 8\u001b[39m       294 지석훈       \u001b[4m2\u001b[24m015 NC    0.133     9    15     1     2     0     0\n",
            "\u001b[90m 9\u001b[39m        31 김동욱       \u001b[4m2\u001b[24m008 삼성  -         1     0     0     0     0     0\n",
            "\u001b[90m10\u001b[39m       318 최항         \u001b[4m2\u001b[24m017 SK    0.500     2     2     0     1     0     0\n",
            "\u001b[90m# … with 1,383 more rows, and 18 more variables: HR \u001b[3m\u001b[90m<int>\u001b[90m\u001b[23m, TB \u001b[3m\u001b[90m<int>\u001b[90m\u001b[23m, RBI \u001b[3m\u001b[90m<int>\u001b[90m\u001b[23m,\u001b[39m\n",
            "\u001b[90m#   SB \u001b[3m\u001b[90m<int>\u001b[90m\u001b[23m, CS \u001b[3m\u001b[90m<int>\u001b[90m\u001b[23m, BB \u001b[3m\u001b[90m<int>\u001b[90m\u001b[23m, HBP \u001b[3m\u001b[90m<int>\u001b[90m\u001b[23m, SO \u001b[3m\u001b[90m<int>\u001b[90m\u001b[23m, GDP \u001b[3m\u001b[90m<int>\u001b[90m\u001b[23m, SLG \u001b[3m\u001b[90m<dbl>\u001b[90m\u001b[23m,\u001b[39m\n",
            "\u001b[90m#   OBP \u001b[3m\u001b[90m<dbl>\u001b[90m\u001b[23m, E \u001b[3m\u001b[90m<int>\u001b[90m\u001b[23m, `height/weight` \u001b[3m\u001b[90m<chr>\u001b[90m\u001b[23m, year_born \u001b[3m\u001b[90m<chr>\u001b[90m\u001b[23m, position \u001b[3m\u001b[90m<chr>\u001b[90m\u001b[23m,\u001b[39m\n",
            "\u001b[90m#   career \u001b[3m\u001b[90m<chr>\u001b[90m\u001b[23m, starting_salary \u001b[3m\u001b[90m<chr>\u001b[90m\u001b[23m, OPS \u001b[3m\u001b[90m<dbl>\u001b[90m\u001b[23m\u001b[39m\n"
          ],
          "name": "stdout"
        }
      ]
    },
    {
      "cell_type": "code",
      "metadata": {
        "id": "Y4MtZkpIb3C6",
        "colab_type": "code",
        "colab": {}
      },
      "source": [
        ""
      ],
      "execution_count": 60,
      "outputs": []
    },
    {
      "cell_type": "code",
      "metadata": {
        "id": "8LNkc80O8Gp7",
        "colab_type": "code",
        "colab": {
          "base_uri": "https://localhost:8080/",
          "height": 323
        },
        "outputId": "356d5c19-44a1-40a9-c865-a54d100565d7"
      },
      "source": [
        "# setdiff와 sample_frac을 이용한 training/test set 생성\n",
        "# 나중에 머신러닝에서 필요함.\n",
        "# train_set에 70%의 데이터를 넣어준다.\n",
        "# replace는 꼭 F를 줘서 비복원추출로 해야한다. \n",
        "\n",
        "train_set <- sample_frac(DF, 0.7, replace = F) \n",
        "train_set %>% show()"
      ],
      "execution_count": 61,
      "outputs": [
        {
          "output_type": "stream",
          "text": [
            "\u001b[90m# A tibble: 975 x 29\u001b[39m\n",
            "   batter_id batter_name  year team  avg       G    AB     R     H  `2B`  `3B`\n",
            "       \u001b[3m\u001b[90m<int>\u001b[39m\u001b[23m \u001b[3m\u001b[90m<chr>\u001b[39m\u001b[23m       \u001b[3m\u001b[90m<int>\u001b[39m\u001b[23m \u001b[3m\u001b[90m<chr>\u001b[39m\u001b[23m \u001b[3m\u001b[90m<chr>\u001b[39m\u001b[23m \u001b[3m\u001b[90m<int>\u001b[39m\u001b[23m \u001b[3m\u001b[90m<int>\u001b[39m\u001b[23m \u001b[3m\u001b[90m<int>\u001b[39m\u001b[23m \u001b[3m\u001b[90m<int>\u001b[39m\u001b[23m \u001b[3m\u001b[90m<int>\u001b[39m\u001b[23m \u001b[3m\u001b[90m<int>\u001b[39m\u001b[23m\n",
            "\u001b[90m 1\u001b[39m       249 임종혁       \u001b[4m2\u001b[24m015 롯데  -         1     0     0     0     0     0\n",
            "\u001b[90m 2\u001b[39m       295 지성준       \u001b[4m2\u001b[24m018 한화  0.125     4     8     1     1     0     0\n",
            "\u001b[90m 3\u001b[39m       201 이대형       \u001b[4m2\u001b[24m007 LG    0.214    11    28     5     6     1     0\n",
            "\u001b[90m 4\u001b[39m       117 박승욱       \u001b[4m2\u001b[24m018 SK    0.455     6    11     4     5     1     0\n",
            "\u001b[90m 5\u001b[39m       201 이대형       \u001b[4m2\u001b[24m016 KT    0.325    13    40     5    13     2     0\n",
            "\u001b[90m 6\u001b[39m       332 허도환       \u001b[4m2\u001b[24m016 한화  0.250     8    12     2     3     2     0\n",
            "\u001b[90m 7\u001b[39m       195 윤수강       \u001b[4m2\u001b[24m018 NC    -         3     0     0     0     0     0\n",
            "\u001b[90m 8\u001b[39m        69 김태완       \u001b[4m2\u001b[24m017 넥센  0.370    12    27     2    10     1     0\n",
            "\u001b[90m 9\u001b[39m       139 백용환       \u001b[4m2\u001b[24m014 KIA   0.267    11    15     2     4     1     2\n",
            "\u001b[90m10\u001b[39m        56 김재현       \u001b[4m2\u001b[24m014 삼성  0.333    10     3     1     1     0     0\n",
            "\u001b[90m# … with 965 more rows, and 18 more variables: HR \u001b[3m\u001b[90m<int>\u001b[90m\u001b[23m, TB \u001b[3m\u001b[90m<int>\u001b[90m\u001b[23m, RBI \u001b[3m\u001b[90m<int>\u001b[90m\u001b[23m,\u001b[39m\n",
            "\u001b[90m#   SB \u001b[3m\u001b[90m<int>\u001b[90m\u001b[23m, CS \u001b[3m\u001b[90m<int>\u001b[90m\u001b[23m, BB \u001b[3m\u001b[90m<int>\u001b[90m\u001b[23m, HBP \u001b[3m\u001b[90m<int>\u001b[90m\u001b[23m, SO \u001b[3m\u001b[90m<int>\u001b[90m\u001b[23m, GDP \u001b[3m\u001b[90m<int>\u001b[90m\u001b[23m, SLG \u001b[3m\u001b[90m<dbl>\u001b[90m\u001b[23m,\u001b[39m\n",
            "\u001b[90m#   OBP \u001b[3m\u001b[90m<dbl>\u001b[90m\u001b[23m, E \u001b[3m\u001b[90m<int>\u001b[90m\u001b[23m, `height/weight` \u001b[3m\u001b[90m<chr>\u001b[90m\u001b[23m, year_born \u001b[3m\u001b[90m<chr>\u001b[90m\u001b[23m, position \u001b[3m\u001b[90m<chr>\u001b[90m\u001b[23m,\u001b[39m\n",
            "\u001b[90m#   career \u001b[3m\u001b[90m<chr>\u001b[90m\u001b[23m, starting_salary \u001b[3m\u001b[90m<chr>\u001b[90m\u001b[23m, OPS \u001b[3m\u001b[90m<dbl>\u001b[90m\u001b[23m\u001b[39m\n"
          ],
          "name": "stdout"
        }
      ]
    },
    {
      "cell_type": "code",
      "metadata": {
        "id": "Qs9aic1jQG3H",
        "colab_type": "code",
        "colab": {
          "base_uri": "https://localhost:8080/",
          "height": 323
        },
        "outputId": "881842dc-4c5a-4a67-abf1-602891170499"
      },
      "source": [
        "# test_set에는 setdiff를 이용해서 \n",
        "# DF(원본 데이터) 에서 train_set을 뺀 나머지를 넣어준다. \n",
        "\n",
        "test_set <- setdiff(DF, train_set)\n",
        "test_set %>% show()"
      ],
      "execution_count": 70,
      "outputs": [
        {
          "output_type": "stream",
          "text": [
            "\u001b[90m# A tibble: 1,359 x 29\u001b[39m\n",
            "   batter_id batter_name  year team  avg       G    AB     R     H  `2B`  `3B`\n",
            "       \u001b[3m\u001b[90m<int>\u001b[39m\u001b[23m \u001b[3m\u001b[90m<chr>\u001b[39m\u001b[23m       \u001b[3m\u001b[90m<int>\u001b[39m\u001b[23m \u001b[3m\u001b[90m<chr>\u001b[39m\u001b[23m \u001b[3m\u001b[90m<chr>\u001b[39m\u001b[23m \u001b[3m\u001b[90m<int>\u001b[39m\u001b[23m \u001b[3m\u001b[90m<int>\u001b[39m\u001b[23m \u001b[3m\u001b[90m<int>\u001b[39m\u001b[23m \u001b[3m\u001b[90m<int>\u001b[39m\u001b[23m \u001b[3m\u001b[90m<int>\u001b[39m\u001b[23m \u001b[3m\u001b[90m<int>\u001b[39m\u001b[23m\n",
            "\u001b[90m 1\u001b[39m         0 가르시아     \u001b[4m2\u001b[24m018 LG    0.350     7    20     1     7     1     0\n",
            "\u001b[90m 2\u001b[39m         1 강경학       \u001b[4m2\u001b[24m011 한화  0.000     4     2     2     0     0     0\n",
            "\u001b[90m 3\u001b[39m         1 강경학       \u001b[4m2\u001b[24m014 한화  -         4     0     2     0     0     0\n",
            "\u001b[90m 4\u001b[39m         1 강경학       \u001b[4m2\u001b[24m015 한화  0.130    10    23     3     3     0     0\n",
            "\u001b[90m 5\u001b[39m         1 강경학       \u001b[4m2\u001b[24m016 한화  0.188    14    32     4     6     1     1\n",
            "\u001b[90m 6\u001b[39m         1 강경학       \u001b[4m2\u001b[24m017 한화  0.222    11    36    10     8     0     0\n",
            "\u001b[90m 7\u001b[39m         2 강구성       \u001b[4m2\u001b[24m013 NC    0.000     3     4     0     0     0     0\n",
            "\u001b[90m 8\u001b[39m         2 강구성       \u001b[4m2\u001b[24m016 NC    0.000     3     1     0     0     0     0\n",
            "\u001b[90m 9\u001b[39m         2 강구성       \u001b[4m2\u001b[24m017 NC    1.000     2     1     0     1     0     0\n",
            "\u001b[90m10\u001b[39m        69 김태완       \u001b[4m2\u001b[24m006 한화  0.200    10    15     0     3     0     0\n",
            "\u001b[90m# … with 1,349 more rows, and 18 more variables: HR \u001b[3m\u001b[90m<int>\u001b[90m\u001b[23m, TB \u001b[3m\u001b[90m<int>\u001b[90m\u001b[23m, RBI \u001b[3m\u001b[90m<int>\u001b[90m\u001b[23m,\u001b[39m\n",
            "\u001b[90m#   SB \u001b[3m\u001b[90m<int>\u001b[90m\u001b[23m, CS \u001b[3m\u001b[90m<int>\u001b[90m\u001b[23m, BB \u001b[3m\u001b[90m<int>\u001b[90m\u001b[23m, HBP \u001b[3m\u001b[90m<int>\u001b[90m\u001b[23m, SO \u001b[3m\u001b[90m<int>\u001b[90m\u001b[23m, GDP \u001b[3m\u001b[90m<int>\u001b[90m\u001b[23m, SLG \u001b[3m\u001b[90m<dbl>\u001b[90m\u001b[23m,\u001b[39m\n",
            "\u001b[90m#   OBP \u001b[3m\u001b[90m<dbl>\u001b[90m\u001b[23m, E \u001b[3m\u001b[90m<int>\u001b[90m\u001b[23m, `height/weight` \u001b[3m\u001b[90m<chr>\u001b[90m\u001b[23m, year_born \u001b[3m\u001b[90m<chr>\u001b[90m\u001b[23m, position \u001b[3m\u001b[90m<chr>\u001b[90m\u001b[23m,\u001b[39m\n",
            "\u001b[90m#   career \u001b[3m\u001b[90m<chr>\u001b[90m\u001b[23m, starting_salary \u001b[3m\u001b[90m<chr>\u001b[90m\u001b[23m, OPS \u001b[3m\u001b[90m<dbl>\u001b[90m\u001b[23m\u001b[39m\n"
          ],
          "name": "stdout"
        }
      ]
    },
    {
      "cell_type": "code",
      "metadata": {
        "id": "Yhz6_wzqfIm0",
        "colab_type": "code",
        "colab": {}
      },
      "source": [
        ""
      ],
      "execution_count": 63,
      "outputs": []
    },
    {
      "cell_type": "markdown",
      "metadata": {
        "id": "tw2HO6szheNQ",
        "colab_type": "text"
      },
      "source": [
        "# **<4주차 과제 - 100점>**\n",
        "\n",
        "### **(1) 각각의 문제 바로 아래에 답을 작성 후, lab4.ipynb 파일을 한림SmartLEAD에 제출할 것**\n",
        "### **(2) 제출 데드라인 : 2020.9.21(월요일) ~ 2020.9.27(일요일) 23:59 까지**\n",
        "### **(3) 부정행위 적발 시, 원본(보여준 사람)과 복사본(베낀 사람) 모두 0점 처리**\n",
        "### **(4) !!해당 문제의 코드와 출력 결과를 반드시 기록할 것(둘 중 하나라도 없으면 해당 문제 0점처리)!!**\n",
        "\n",
        "\n",
        "- - -\n"
      ]
    },
    {
      "cell_type": "markdown",
      "metadata": {
        "id": "QvJeTokHhogT",
        "colab_type": "text"
      },
      "source": [
        "## 1. 다음의 코드를 ``%>%``를 이용하여 동일한 결과가 출력되도록 작성하시오 ( https://gomguard.tistory.com/243 참고) **(20 점)**\n",
        "\n",
        "```\n",
        "summarise(group_by(mutate(filter(select(iris, Sepal.Length, Species), Sepal.Length >= 5), Petal.Length = 1), Species), n())\n",
        "\n",
        "\n",
        "## 출력 예시\n",
        "\n",
        "A tibble: 3 × 2\n",
        "Species\tn()\n",
        " <fct>\t<int>\n",
        "setosa\t30\n",
        "versicolor\t49\n",
        "virginica\t49\n",
        "```\n",
        "\n"
      ]
    },
    {
      "cell_type": "code",
      "metadata": {
        "id": "wnSGhrEkhjGk",
        "colab_type": "code",
        "colab": {
          "base_uri": "https://localhost:8080/",
          "height": 269
        },
        "outputId": "3128ff35-14a0-4201-a4f2-0f032d470bbc"
      },
      "source": [
        "## 답안 작성\n",
        "# 1. iris 데이터에서 Sepal.length와 Species 열을 추출\n",
        "# 2. 추출한 열 중 Sepal.Length가 5보다 큰 값을 filter 한다.\n",
        "# 3. 새로운 열을 만드는데, patal.Length가 1인 데이터를 가지고 만들어 진다. \n",
        "# 4. patal.Length가 1인 데이터, Species 를 그룹한다. \n",
        "# 5. 그룹한 것을 n함수를 이용해 계산한다. \n",
        "\n",
        "str(iris)\n",
        "iris %>% select(\"Sepal.Length\",\"Species\") %>% filter(Sepal.Length >= 5) %>% mutate(Petal.Length = 1) %>% group_by(Species) %>% summarise(n()) %>% show()\n"
      ],
      "execution_count": 78,
      "outputs": [
        {
          "output_type": "stream",
          "text": [
            "'data.frame':\t150 obs. of  5 variables:\n",
            " $ Sepal.Length: num  5.1 4.9 4.7 4.6 5 5.4 4.6 5 4.4 4.9 ...\n",
            " $ Sepal.Width : num  3.5 3 3.2 3.1 3.6 3.9 3.4 3.4 2.9 3.1 ...\n",
            " $ Petal.Length: num  1.4 1.4 1.3 1.5 1.4 1.7 1.4 1.5 1.4 1.5 ...\n",
            " $ Petal.Width : num  0.2 0.2 0.2 0.2 0.2 0.4 0.3 0.2 0.2 0.1 ...\n",
            " $ Species     : Factor w/ 3 levels \"setosa\",\"versicolor\",..: 1 1 1 1 1 1 1 1 1 1 ...\n"
          ],
          "name": "stdout"
        },
        {
          "output_type": "stream",
          "text": [
            "`summarise()` ungrouping output (override with `.groups` argument)\n",
            "\n"
          ],
          "name": "stderr"
        },
        {
          "output_type": "stream",
          "text": [
            "\u001b[90m# A tibble: 3 x 2\u001b[39m\n",
            "  Species    `n()`\n",
            "  \u001b[3m\u001b[90m<fct>\u001b[39m\u001b[23m      \u001b[3m\u001b[90m<int>\u001b[39m\u001b[23m\n",
            "\u001b[90m1\u001b[39m setosa        30\n",
            "\u001b[90m2\u001b[39m versicolor    49\n",
            "\u001b[90m3\u001b[39m virginica     49\n"
          ],
          "name": "stdout"
        }
      ]
    },
    {
      "cell_type": "markdown",
      "metadata": {
        "id": "rV6esnV6k_O7",
        "colab_type": "text"
      },
      "source": [
        "## 2. 주어진 조건을 이용해여 DF에서 새로운 데이터 프레임을 추출하시오(60 점, 문제당 20점)\n",
        "\n",
        "* dplyr 함수 사용(select, filter, groupby, summarise)\n",
        "\n",
        " (1) DF에서 문자형(chr) 열을 제외한 모든 열(column) - select\n",
        "\n",
        " (2) DF에서 team이 \"두산\" 또는 \"한화\"이고 G가 10 이상인 모든 행(row) - filter\n",
        "\n",
        " (3) DF에서 team 별(key) SLG, OPB의 평균과 R의 합 - group_by, summarise\n",
        "\n",
        "\n"
      ]
    },
    {
      "cell_type": "code",
      "metadata": {
        "id": "zUOjP5eooFzF",
        "colab_type": "code",
        "colab": {}
      },
      "source": [
        "# 사용 데이터\n",
        "DF <- fread(\"ftp://210.115.229.94/2020_datascience/6th_data/Pre_Season_Batter.csv\", header = T, encoding = \"UTF-8\") %>%\n",
        "  as_tibble()"
      ],
      "execution_count": 79,
      "outputs": []
    },
    {
      "cell_type": "code",
      "metadata": {
        "id": "T9Doa4ExowOT",
        "colab_type": "code",
        "colab": {
          "base_uri": "https://localhost:8080/",
          "height": 323
        },
        "outputId": "e53a8eeb-1de3-4179-e436-14b7cbf461eb"
      },
      "source": [
        "DF %>% show()"
      ],
      "execution_count": 80,
      "outputs": [
        {
          "output_type": "stream",
          "text": [
            "\u001b[90m# A tibble: 1,393 x 29\u001b[39m\n",
            "   batter_id batter_name  year team  avg       G    AB     R     H  `2B`  `3B`\n",
            "       \u001b[3m\u001b[90m<int>\u001b[39m\u001b[23m \u001b[3m\u001b[90m<chr>\u001b[39m\u001b[23m       \u001b[3m\u001b[90m<int>\u001b[39m\u001b[23m \u001b[3m\u001b[90m<chr>\u001b[39m\u001b[23m \u001b[3m\u001b[90m<chr>\u001b[39m\u001b[23m \u001b[3m\u001b[90m<int>\u001b[39m\u001b[23m \u001b[3m\u001b[90m<int>\u001b[39m\u001b[23m \u001b[3m\u001b[90m<int>\u001b[39m\u001b[23m \u001b[3m\u001b[90m<int>\u001b[39m\u001b[23m \u001b[3m\u001b[90m<int>\u001b[39m\u001b[23m \u001b[3m\u001b[90m<int>\u001b[39m\u001b[23m\n",
            "\u001b[90m 1\u001b[39m         0 가르시아     \u001b[4m2\u001b[24m018 LG    0.350     7    20     1     7     1     0\n",
            "\u001b[90m 2\u001b[39m         1 강경학       \u001b[4m2\u001b[24m011 한화  0.000     4     2     2     0     0     0\n",
            "\u001b[90m 3\u001b[39m         1 강경학       \u001b[4m2\u001b[24m014 한화  -         4     0     2     0     0     0\n",
            "\u001b[90m 4\u001b[39m         1 강경학       \u001b[4m2\u001b[24m015 한화  0.130    10    23     3     3     0     0\n",
            "\u001b[90m 5\u001b[39m         1 강경학       \u001b[4m2\u001b[24m016 한화  0.188    14    32     4     6     1     1\n",
            "\u001b[90m 6\u001b[39m         1 강경학       \u001b[4m2\u001b[24m017 한화  0.222    11    36    10     8     0     0\n",
            "\u001b[90m 7\u001b[39m         2 강구성       \u001b[4m2\u001b[24m013 NC    0.000     3     4     0     0     0     0\n",
            "\u001b[90m 8\u001b[39m         2 강구성       \u001b[4m2\u001b[24m016 NC    0.000     3     1     0     0     0     0\n",
            "\u001b[90m 9\u001b[39m         2 강구성       \u001b[4m2\u001b[24m017 NC    1.000     2     1     0     1     0     0\n",
            "\u001b[90m10\u001b[39m        69 김태완       \u001b[4m2\u001b[24m006 한화  0.200    10    15     0     3     0     0\n",
            "\u001b[90m# … with 1,383 more rows, and 18 more variables: HR \u001b[3m\u001b[90m<int>\u001b[90m\u001b[23m, TB \u001b[3m\u001b[90m<int>\u001b[90m\u001b[23m, RBI \u001b[3m\u001b[90m<int>\u001b[90m\u001b[23m,\u001b[39m\n",
            "\u001b[90m#   SB \u001b[3m\u001b[90m<int>\u001b[90m\u001b[23m, CS \u001b[3m\u001b[90m<int>\u001b[90m\u001b[23m, BB \u001b[3m\u001b[90m<int>\u001b[90m\u001b[23m, HBP \u001b[3m\u001b[90m<int>\u001b[90m\u001b[23m, SO \u001b[3m\u001b[90m<int>\u001b[90m\u001b[23m, GDP \u001b[3m\u001b[90m<int>\u001b[90m\u001b[23m, SLG \u001b[3m\u001b[90m<dbl>\u001b[90m\u001b[23m,\u001b[39m\n",
            "\u001b[90m#   OBP \u001b[3m\u001b[90m<dbl>\u001b[90m\u001b[23m, E \u001b[3m\u001b[90m<int>\u001b[90m\u001b[23m, `height/weight` \u001b[3m\u001b[90m<chr>\u001b[90m\u001b[23m, year_born \u001b[3m\u001b[90m<chr>\u001b[90m\u001b[23m, position \u001b[3m\u001b[90m<chr>\u001b[90m\u001b[23m,\u001b[39m\n",
            "\u001b[90m#   career \u001b[3m\u001b[90m<chr>\u001b[90m\u001b[23m, starting_salary \u001b[3m\u001b[90m<chr>\u001b[90m\u001b[23m, OPS \u001b[3m\u001b[90m<dbl>\u001b[90m\u001b[23m\u001b[39m\n"
          ],
          "name": "stdout"
        }
      ]
    },
    {
      "cell_type": "markdown",
      "metadata": {
        "id": "8-0JZTpDoOyS",
        "colab_type": "text"
      },
      "source": [
        "### (1) DF에서 문자형(chr) 열을 제외한 모든 열(column) - select\n",
        "\n",
        "* 참고 : https://wikidocs.net/33942"
      ]
    },
    {
      "cell_type": "code",
      "metadata": {
        "id": "eqWtpXJ9oST2",
        "colab_type": "code",
        "colab": {
          "base_uri": "https://localhost:8080/",
          "height": 1000
        },
        "outputId": "549dc902-4381-4fb0-a70b-beab52b40820"
      },
      "source": [
        "## 답안 작성\n",
        "#\n",
        "DF %>% select(-team,-batter_name,-'height/weight', -year_born, -position, -career, -starting_salary)\n",
        "# DF %>% select_if(is.integer, is.double)"
      ],
      "execution_count": 93,
      "outputs": [
        {
          "output_type": "display_data",
          "data": {
            "text/plain": [
              "     batter_id year avg   G  AB R  H  2B 3B HR ⋯ SB CS BB HBP SO GDP SLG  \n",
              "1     0        2018 0.350  7 20  1  7 1  0  1  ⋯ 0  0  2  0    3 1   0.550\n",
              "2     1        2011 0.000  4  2  2  0 0  0  0  ⋯ 0  1  0  2    1 0   0.000\n",
              "3     1        2014 -      4  0  2  0 0  0  0  ⋯ 0  0  0  0    0 0      NA\n",
              "4     1        2015 0.130 10 23  3  3 0  0  0  ⋯ 3  0  4  1    9 0   0.130\n",
              "5     1        2016 0.188 14 32  4  6 1  1  0  ⋯ 1  2  0  1   10 0   0.281\n",
              "6     1        2017 0.222 11 36 10  8 0  0  2  ⋯ 0  0  3  0   10 0   0.389\n",
              "7     2        2013 0.000  3  4  0  0 0  0  0  ⋯ 0  0  0  0    0 1   0.000\n",
              "8     2        2016 0.000  3  1  0  0 0  0  0  ⋯ 1  0  1  0    0 1   0.000\n",
              "9     2        2017 1.000  2  1  0  1 0  0  0  ⋯ 0  0  0  0    0 0   1.000\n",
              "10   69        2006 0.200 10 15  0  3 0  0  0  ⋯ 0  0  1  1    5 1   0.200\n",
              "11   69        2007 0.318  8 22  4  7 3  0  3  ⋯ 0  0  4  0    4 0   0.864\n",
              "12   69        2008 0.375 10 24  3  9 1  0  1  ⋯ 0  0  2  1    2 2   0.542\n",
              "13   69        2009 0.320 10 25  5  8 3  0  1  ⋯ 0  0  6  0    2 1   0.560\n",
              "14   69        2010 0.400  2  5  2  2 0  1  0  ⋯ 0  0  0  0    1 0   0.800\n",
              "15   69        2013 0.250  9 28  3  7 0  0  0  ⋯ 0  0  7  1    5 1   0.250\n",
              "16   69        2014 0.125 10 16  1  2 0  0  0  ⋯ 0  0  3  0    4 0   0.125\n",
              "17   69        2016 0.000  3  3  0  0 0  0  0  ⋯ 0  0  1  0    1 1   0.000\n",
              "18   69        2017 0.370 12 27  2 10 1  0  1  ⋯ 0  0  2  0    8 1   0.519\n",
              "19   69        2018 0.375  5  8  2  3 1  0  1  ⋯ 0  0  2  0    3 0   0.875\n",
              "20    3        2014 0.000  2  1  0  0 0  0  0  ⋯ 0  0  0  0    1 0   0.000\n",
              "21    3        2015 0.100  9 10  2  1 1  0  0  ⋯ 0  0  0  0    4 0   0.200\n",
              "22    3        2016 0.316 16 19  2  6 2  1  0  ⋯ 0  0  2  0    4 0   0.526\n",
              "23    4        2005 0.250 11 20  2  5 4  0  0  ⋯ 0  1  0  0    6 0   0.450\n",
              "24    4        2006 0.381  9 21  6  8 1  1  2  ⋯ 0  0  1  0    5 1   0.810\n",
              "25    4        2007 0.136 10 22  2  3 0  0  0  ⋯ 0  0  0  1    6 1   0.136\n",
              "26    4        2008 0.200  5 10  0  2 1  0  0  ⋯ 0  0  0  1    2 0   0.300\n",
              "27    4        2009 0.167  2  6  0  1 0  0  0  ⋯ 0  0  0  0    1 0   0.167\n",
              "28    4        2010 0.261 10 23  8  6 1  0  4  ⋯ 0  0  5  1    3 0   0.826\n",
              "29    4        2011 0.353 13 34  4 12 3  0  2  ⋯ 0  0  4  0    6 3   0.618\n",
              "30    4        2012 0.273  5 11  2  3 0  0  0  ⋯ 0  1  0  0    2 0   0.273\n",
              "⋮    ⋮         ⋮    ⋮     ⋮  ⋮  ⋮  ⋮  ⋮  ⋮  ⋮  ⋱ ⋮  ⋮  ⋮  ⋮   ⋮  ⋮   ⋮    \n",
              "1364 331       2017 0.250 11 32 4   8 0  0  2  ⋯ 1  0  2  1   2  2   0.438\n",
              "1365 331       2018 0.600  6 15 3   9 3  0  0  ⋯ 1  0  4  0   0  0   0.800\n",
              "1366 332       2012 0.200  9 15 0   3 0  0  0  ⋯ 0  0  0  2   5  0   0.200\n",
              "1367 332       2013 0.000  4  8 0   0 0  0  0  ⋯ 0  0  0  0   3  0   0.000\n",
              "1368 332       2014 0.150 12 20 2   3 0  0  1  ⋯ 0  0  2  0   4  2   0.300\n",
              "1369 332       2016 0.250  8 12 2   3 2  0  0  ⋯ 0  0  1  1   2  1   0.417\n",
              "1370 332       2017 0.375  7  8 1   3 2  0  0  ⋯ 0  0  0  0   2  0   0.625\n",
              "1371 332       2018 0.000  4  4 0   0 0  0  0  ⋯ 0  0  0  0   1  1   0.000\n",
              "1372 334       2018 0.250  6 16 3   4 0  2  1  ⋯ 0  0  1  0   0  0   0.688\n",
              "1373 337       2011 0.111  8  9 1   1 0  0  0  ⋯ 0  0  0  0   0  0   0.111\n",
              "1374 337       2012 0.250 12 24 3   6 0  0  1  ⋯ 1  0  2  0   4  0   0.375\n",
              "1375 337       2013 0.438 11 16 5   7 1  1  0  ⋯ 0  0  2  0   1  1   0.625\n",
              "1376 337       2017 0.231 11 13 3   3 0  1  0  ⋯ 0  0  1  0   2  0   0.385\n",
              "1377 337       2018 0.333  1  3 0   1 0  0  0  ⋯ 0  0  0  0   0  0   0.333\n",
              "1378 338       2016 0.200  5  5 0   1 1  0  0  ⋯ 1  0  2  0   1  0   0.400\n",
              "1379 341       2015 -      2  0 0   0 0  0  0  ⋯ 0  0  0  0   0  0      NA\n",
              "1380 341       2016 0.000  2  1 0   0 0  0  0  ⋯ 0  0  0  0   0  0   0.000\n",
              "1381 341       2017 0.000  8  3 2   0 0  0  0  ⋯ 0  0  0  0   0  0   0.000\n",
              "1382 341       2018 0.000  5  2 1   0 0  0  0  ⋯ 0  0  0  0   0  0   0.000\n",
              "1383 342       2008 0.179 11 28 0   5 1  0  0  ⋯ 1  1  0  0   4  0   0.214\n",
              "1384 342       2009 0.194 11 31 4   6 2  0  0  ⋯ 1  1  2  0   5  0   0.258\n",
              "1385 342       2010 0.174 12 46 4   8 1  1  1  ⋯ 2  0  3  0   9  2   0.304\n",
              "1386 342       2011 0.152 13 33 2   5 1  1  0  ⋯ 2  1  3  0   9  1   0.242\n",
              "1387 342       2012 0.154 12 26 2   4 2  0  1  ⋯ 0  0  3  1   4  0   0.346\n",
              "1388 342       2013 0.200 10 30 2   6 0  0  1  ⋯ 2  1  3  2   2  1   0.300\n",
              "1389 342       2014 0.407 10 27 3  11 2  0  1  ⋯ 1  0  2  0   5  0   0.593\n",
              "1390 342       2015 0.333 11 30 8  10 3  0  0  ⋯ 0  0  4  0   3  0   0.433\n",
              "1391 342       2016 0.310 16 42 8  13 3  1  0  ⋯ 3  1  4  0   4  0   0.429\n",
              "1392 342       2018 0.250  6 16 3   4 1  0  1  ⋯ 0  0  2  0   6  0   0.500\n",
              "1393 344       2014 0.000  1  1 1   0 0  0  0  ⋯ 0  0  0  0   1  0   0.000\n",
              "     OBP   E OPS  \n",
              "1    0.409 1 0.959\n",
              "2    0.500 0 0.500\n",
              "3       NA 0    NA\n",
              "4    0.286 2 0.416\n",
              "5    0.212 0 0.493\n",
              "6    0.282 1 0.671\n",
              "7    0.000 0 0.000\n",
              "8    0.500 0 0.500\n",
              "9    1.000 0 2.000\n",
              "10   0.278 0 0.478\n",
              "11   0.423 0 1.287\n",
              "12   0.444 0 0.986\n",
              "13   0.452 1 1.012\n",
              "14   0.400 1 1.200\n",
              "15   0.417 0 0.667\n",
              "16   0.263 0 0.388\n",
              "17   0.250 0 0.250\n",
              "18   0.364 1 0.883\n",
              "19   0.500 0 1.375\n",
              "20   0.000 0 0.000\n",
              "21   0.100 0 0.300\n",
              "22   0.381 0 0.907\n",
              "23   0.250 0 0.700\n",
              "24   0.391 0 1.201\n",
              "25   0.174 0 0.310\n",
              "26   0.273 0 0.573\n",
              "27   0.167 0 0.334\n",
              "28   0.414 0 1.240\n",
              "29   0.400 0 1.018\n",
              "30   0.273 0 0.546\n",
              "⋮    ⋮     ⋮ ⋮    \n",
              "1364 0.314 0 0.752\n",
              "1365 0.684 0 1.484\n",
              "1366 0.294 0 0.494\n",
              "1367 0.000 0 0.000\n",
              "1368 0.227 2 0.527\n",
              "1369 0.333 0 0.750\n",
              "1370 0.375 1 1.000\n",
              "1371 0.000 0 0.000\n",
              "1372 0.278 0 0.966\n",
              "1373 0.111 0 0.222\n",
              "1374 0.308 0 0.683\n",
              "1375 0.500 1 1.125\n",
              "1376 0.286 0 0.671\n",
              "1377 0.333 0 0.666\n",
              "1378 0.429 1 0.829\n",
              "1379    NA 0    NA\n",
              "1380 0.000 1 0.000\n",
              "1381 0.000 0 0.000\n",
              "1382 0.000 0 0.000\n",
              "1383 0.179 2 0.393\n",
              "1384 0.242 1 0.500\n",
              "1385 0.224 2 0.528\n",
              "1386 0.222 3 0.464\n",
              "1387 0.258 1 0.604\n",
              "1388 0.306 3 0.606\n",
              "1389 0.448 1 1.041\n",
              "1390 0.389 0 0.822\n",
              "1391 0.370 1 0.799\n",
              "1392 0.333 3 0.833\n",
              "1393 0.000 0 0.000"
            ],
            "text/latex": "A tibble: 1393 × 22\n\\begin{tabular}{lllllllllllllllllllll}\n batter\\_id & year & avg & G & AB & R & H & 2B & 3B & HR & ⋯ & SB & CS & BB & HBP & SO & GDP & SLG & OBP & E & OPS\\\\\n <int> & <int> & <chr> & <int> & <int> & <int> & <int> & <int> & <int> & <int> & ⋯ & <int> & <int> & <int> & <int> & <int> & <int> & <dbl> & <dbl> & <int> & <dbl>\\\\\n\\hline\n\t  0 & 2018 & 0.350 &  7 & 20 &  1 &  7 & 1 & 0 & 1 & ⋯ & 0 & 0 & 2 & 0 &  3 & 1 & 0.550 & 0.409 & 1 & 0.959\\\\\n\t  1 & 2011 & 0.000 &  4 &  2 &  2 &  0 & 0 & 0 & 0 & ⋯ & 0 & 1 & 0 & 2 &  1 & 0 & 0.000 & 0.500 & 0 & 0.500\\\\\n\t  1 & 2014 & -     &  4 &  0 &  2 &  0 & 0 & 0 & 0 & ⋯ & 0 & 0 & 0 & 0 &  0 & 0 &    NA &    NA & 0 &    NA\\\\\n\t  1 & 2015 & 0.130 & 10 & 23 &  3 &  3 & 0 & 0 & 0 & ⋯ & 3 & 0 & 4 & 1 &  9 & 0 & 0.130 & 0.286 & 2 & 0.416\\\\\n\t  1 & 2016 & 0.188 & 14 & 32 &  4 &  6 & 1 & 1 & 0 & ⋯ & 1 & 2 & 0 & 1 & 10 & 0 & 0.281 & 0.212 & 0 & 0.493\\\\\n\t  1 & 2017 & 0.222 & 11 & 36 & 10 &  8 & 0 & 0 & 2 & ⋯ & 0 & 0 & 3 & 0 & 10 & 0 & 0.389 & 0.282 & 1 & 0.671\\\\\n\t  2 & 2013 & 0.000 &  3 &  4 &  0 &  0 & 0 & 0 & 0 & ⋯ & 0 & 0 & 0 & 0 &  0 & 1 & 0.000 & 0.000 & 0 & 0.000\\\\\n\t  2 & 2016 & 0.000 &  3 &  1 &  0 &  0 & 0 & 0 & 0 & ⋯ & 1 & 0 & 1 & 0 &  0 & 1 & 0.000 & 0.500 & 0 & 0.500\\\\\n\t  2 & 2017 & 1.000 &  2 &  1 &  0 &  1 & 0 & 0 & 0 & ⋯ & 0 & 0 & 0 & 0 &  0 & 0 & 1.000 & 1.000 & 0 & 2.000\\\\\n\t 69 & 2006 & 0.200 & 10 & 15 &  0 &  3 & 0 & 0 & 0 & ⋯ & 0 & 0 & 1 & 1 &  5 & 1 & 0.200 & 0.278 & 0 & 0.478\\\\\n\t 69 & 2007 & 0.318 &  8 & 22 &  4 &  7 & 3 & 0 & 3 & ⋯ & 0 & 0 & 4 & 0 &  4 & 0 & 0.864 & 0.423 & 0 & 1.287\\\\\n\t 69 & 2008 & 0.375 & 10 & 24 &  3 &  9 & 1 & 0 & 1 & ⋯ & 0 & 0 & 2 & 1 &  2 & 2 & 0.542 & 0.444 & 0 & 0.986\\\\\n\t 69 & 2009 & 0.320 & 10 & 25 &  5 &  8 & 3 & 0 & 1 & ⋯ & 0 & 0 & 6 & 0 &  2 & 1 & 0.560 & 0.452 & 1 & 1.012\\\\\n\t 69 & 2010 & 0.400 &  2 &  5 &  2 &  2 & 0 & 1 & 0 & ⋯ & 0 & 0 & 0 & 0 &  1 & 0 & 0.800 & 0.400 & 1 & 1.200\\\\\n\t 69 & 2013 & 0.250 &  9 & 28 &  3 &  7 & 0 & 0 & 0 & ⋯ & 0 & 0 & 7 & 1 &  5 & 1 & 0.250 & 0.417 & 0 & 0.667\\\\\n\t 69 & 2014 & 0.125 & 10 & 16 &  1 &  2 & 0 & 0 & 0 & ⋯ & 0 & 0 & 3 & 0 &  4 & 0 & 0.125 & 0.263 & 0 & 0.388\\\\\n\t 69 & 2016 & 0.000 &  3 &  3 &  0 &  0 & 0 & 0 & 0 & ⋯ & 0 & 0 & 1 & 0 &  1 & 1 & 0.000 & 0.250 & 0 & 0.250\\\\\n\t 69 & 2017 & 0.370 & 12 & 27 &  2 & 10 & 1 & 0 & 1 & ⋯ & 0 & 0 & 2 & 0 &  8 & 1 & 0.519 & 0.364 & 1 & 0.883\\\\\n\t 69 & 2018 & 0.375 &  5 &  8 &  2 &  3 & 1 & 0 & 1 & ⋯ & 0 & 0 & 2 & 0 &  3 & 0 & 0.875 & 0.500 & 0 & 1.375\\\\\n\t  3 & 2014 & 0.000 &  2 &  1 &  0 &  0 & 0 & 0 & 0 & ⋯ & 0 & 0 & 0 & 0 &  1 & 0 & 0.000 & 0.000 & 0 & 0.000\\\\\n\t  3 & 2015 & 0.100 &  9 & 10 &  2 &  1 & 1 & 0 & 0 & ⋯ & 0 & 0 & 0 & 0 &  4 & 0 & 0.200 & 0.100 & 0 & 0.300\\\\\n\t  3 & 2016 & 0.316 & 16 & 19 &  2 &  6 & 2 & 1 & 0 & ⋯ & 0 & 0 & 2 & 0 &  4 & 0 & 0.526 & 0.381 & 0 & 0.907\\\\\n\t  4 & 2005 & 0.250 & 11 & 20 &  2 &  5 & 4 & 0 & 0 & ⋯ & 0 & 1 & 0 & 0 &  6 & 0 & 0.450 & 0.250 & 0 & 0.700\\\\\n\t  4 & 2006 & 0.381 &  9 & 21 &  6 &  8 & 1 & 1 & 2 & ⋯ & 0 & 0 & 1 & 0 &  5 & 1 & 0.810 & 0.391 & 0 & 1.201\\\\\n\t  4 & 2007 & 0.136 & 10 & 22 &  2 &  3 & 0 & 0 & 0 & ⋯ & 0 & 0 & 0 & 1 &  6 & 1 & 0.136 & 0.174 & 0 & 0.310\\\\\n\t  4 & 2008 & 0.200 &  5 & 10 &  0 &  2 & 1 & 0 & 0 & ⋯ & 0 & 0 & 0 & 1 &  2 & 0 & 0.300 & 0.273 & 0 & 0.573\\\\\n\t  4 & 2009 & 0.167 &  2 &  6 &  0 &  1 & 0 & 0 & 0 & ⋯ & 0 & 0 & 0 & 0 &  1 & 0 & 0.167 & 0.167 & 0 & 0.334\\\\\n\t  4 & 2010 & 0.261 & 10 & 23 &  8 &  6 & 1 & 0 & 4 & ⋯ & 0 & 0 & 5 & 1 &  3 & 0 & 0.826 & 0.414 & 0 & 1.240\\\\\n\t  4 & 2011 & 0.353 & 13 & 34 &  4 & 12 & 3 & 0 & 2 & ⋯ & 0 & 0 & 4 & 0 &  6 & 3 & 0.618 & 0.400 & 0 & 1.018\\\\\n\t  4 & 2012 & 0.273 &  5 & 11 &  2 &  3 & 0 & 0 & 0 & ⋯ & 0 & 1 & 0 & 0 &  2 & 0 & 0.273 & 0.273 & 0 & 0.546\\\\\n\t ⋮ & ⋮ & ⋮ & ⋮ & ⋮ & ⋮ & ⋮ & ⋮ & ⋮ & ⋮ & ⋱ & ⋮ & ⋮ & ⋮ & ⋮ & ⋮ & ⋮ & ⋮ & ⋮ & ⋮ & ⋮\\\\\n\t 331 & 2017 & 0.250 & 11 & 32 & 4 &  8 & 0 & 0 & 2 & ⋯ & 1 & 0 & 2 & 1 & 2 & 2 & 0.438 & 0.314 & 0 & 0.752\\\\\n\t 331 & 2018 & 0.600 &  6 & 15 & 3 &  9 & 3 & 0 & 0 & ⋯ & 1 & 0 & 4 & 0 & 0 & 0 & 0.800 & 0.684 & 0 & 1.484\\\\\n\t 332 & 2012 & 0.200 &  9 & 15 & 0 &  3 & 0 & 0 & 0 & ⋯ & 0 & 0 & 0 & 2 & 5 & 0 & 0.200 & 0.294 & 0 & 0.494\\\\\n\t 332 & 2013 & 0.000 &  4 &  8 & 0 &  0 & 0 & 0 & 0 & ⋯ & 0 & 0 & 0 & 0 & 3 & 0 & 0.000 & 0.000 & 0 & 0.000\\\\\n\t 332 & 2014 & 0.150 & 12 & 20 & 2 &  3 & 0 & 0 & 1 & ⋯ & 0 & 0 & 2 & 0 & 4 & 2 & 0.300 & 0.227 & 2 & 0.527\\\\\n\t 332 & 2016 & 0.250 &  8 & 12 & 2 &  3 & 2 & 0 & 0 & ⋯ & 0 & 0 & 1 & 1 & 2 & 1 & 0.417 & 0.333 & 0 & 0.750\\\\\n\t 332 & 2017 & 0.375 &  7 &  8 & 1 &  3 & 2 & 0 & 0 & ⋯ & 0 & 0 & 0 & 0 & 2 & 0 & 0.625 & 0.375 & 1 & 1.000\\\\\n\t 332 & 2018 & 0.000 &  4 &  4 & 0 &  0 & 0 & 0 & 0 & ⋯ & 0 & 0 & 0 & 0 & 1 & 1 & 0.000 & 0.000 & 0 & 0.000\\\\\n\t 334 & 2018 & 0.250 &  6 & 16 & 3 &  4 & 0 & 2 & 1 & ⋯ & 0 & 0 & 1 & 0 & 0 & 0 & 0.688 & 0.278 & 0 & 0.966\\\\\n\t 337 & 2011 & 0.111 &  8 &  9 & 1 &  1 & 0 & 0 & 0 & ⋯ & 0 & 0 & 0 & 0 & 0 & 0 & 0.111 & 0.111 & 0 & 0.222\\\\\n\t 337 & 2012 & 0.250 & 12 & 24 & 3 &  6 & 0 & 0 & 1 & ⋯ & 1 & 0 & 2 & 0 & 4 & 0 & 0.375 & 0.308 & 0 & 0.683\\\\\n\t 337 & 2013 & 0.438 & 11 & 16 & 5 &  7 & 1 & 1 & 0 & ⋯ & 0 & 0 & 2 & 0 & 1 & 1 & 0.625 & 0.500 & 1 & 1.125\\\\\n\t 337 & 2017 & 0.231 & 11 & 13 & 3 &  3 & 0 & 1 & 0 & ⋯ & 0 & 0 & 1 & 0 & 2 & 0 & 0.385 & 0.286 & 0 & 0.671\\\\\n\t 337 & 2018 & 0.333 &  1 &  3 & 0 &  1 & 0 & 0 & 0 & ⋯ & 0 & 0 & 0 & 0 & 0 & 0 & 0.333 & 0.333 & 0 & 0.666\\\\\n\t 338 & 2016 & 0.200 &  5 &  5 & 0 &  1 & 1 & 0 & 0 & ⋯ & 1 & 0 & 2 & 0 & 1 & 0 & 0.400 & 0.429 & 1 & 0.829\\\\\n\t 341 & 2015 & -     &  2 &  0 & 0 &  0 & 0 & 0 & 0 & ⋯ & 0 & 0 & 0 & 0 & 0 & 0 &    NA &    NA & 0 &    NA\\\\\n\t 341 & 2016 & 0.000 &  2 &  1 & 0 &  0 & 0 & 0 & 0 & ⋯ & 0 & 0 & 0 & 0 & 0 & 0 & 0.000 & 0.000 & 1 & 0.000\\\\\n\t 341 & 2017 & 0.000 &  8 &  3 & 2 &  0 & 0 & 0 & 0 & ⋯ & 0 & 0 & 0 & 0 & 0 & 0 & 0.000 & 0.000 & 0 & 0.000\\\\\n\t 341 & 2018 & 0.000 &  5 &  2 & 1 &  0 & 0 & 0 & 0 & ⋯ & 0 & 0 & 0 & 0 & 0 & 0 & 0.000 & 0.000 & 0 & 0.000\\\\\n\t 342 & 2008 & 0.179 & 11 & 28 & 0 &  5 & 1 & 0 & 0 & ⋯ & 1 & 1 & 0 & 0 & 4 & 0 & 0.214 & 0.179 & 2 & 0.393\\\\\n\t 342 & 2009 & 0.194 & 11 & 31 & 4 &  6 & 2 & 0 & 0 & ⋯ & 1 & 1 & 2 & 0 & 5 & 0 & 0.258 & 0.242 & 1 & 0.500\\\\\n\t 342 & 2010 & 0.174 & 12 & 46 & 4 &  8 & 1 & 1 & 1 & ⋯ & 2 & 0 & 3 & 0 & 9 & 2 & 0.304 & 0.224 & 2 & 0.528\\\\\n\t 342 & 2011 & 0.152 & 13 & 33 & 2 &  5 & 1 & 1 & 0 & ⋯ & 2 & 1 & 3 & 0 & 9 & 1 & 0.242 & 0.222 & 3 & 0.464\\\\\n\t 342 & 2012 & 0.154 & 12 & 26 & 2 &  4 & 2 & 0 & 1 & ⋯ & 0 & 0 & 3 & 1 & 4 & 0 & 0.346 & 0.258 & 1 & 0.604\\\\\n\t 342 & 2013 & 0.200 & 10 & 30 & 2 &  6 & 0 & 0 & 1 & ⋯ & 2 & 1 & 3 & 2 & 2 & 1 & 0.300 & 0.306 & 3 & 0.606\\\\\n\t 342 & 2014 & 0.407 & 10 & 27 & 3 & 11 & 2 & 0 & 1 & ⋯ & 1 & 0 & 2 & 0 & 5 & 0 & 0.593 & 0.448 & 1 & 1.041\\\\\n\t 342 & 2015 & 0.333 & 11 & 30 & 8 & 10 & 3 & 0 & 0 & ⋯ & 0 & 0 & 4 & 0 & 3 & 0 & 0.433 & 0.389 & 0 & 0.822\\\\\n\t 342 & 2016 & 0.310 & 16 & 42 & 8 & 13 & 3 & 1 & 0 & ⋯ & 3 & 1 & 4 & 0 & 4 & 0 & 0.429 & 0.370 & 1 & 0.799\\\\\n\t 342 & 2018 & 0.250 &  6 & 16 & 3 &  4 & 1 & 0 & 1 & ⋯ & 0 & 0 & 2 & 0 & 6 & 0 & 0.500 & 0.333 & 3 & 0.833\\\\\n\t 344 & 2014 & 0.000 &  1 &  1 & 1 &  0 & 0 & 0 & 0 & ⋯ & 0 & 0 & 0 & 0 & 1 & 0 & 0.000 & 0.000 & 0 & 0.000\\\\\n\\end{tabular}\n",
            "text/markdown": "\nA tibble: 1393 × 22\n\n| batter_id &lt;int&gt; | year &lt;int&gt; | avg &lt;chr&gt; | G &lt;int&gt; | AB &lt;int&gt; | R &lt;int&gt; | H &lt;int&gt; | 2B &lt;int&gt; | 3B &lt;int&gt; | HR &lt;int&gt; | ⋯ ⋯ | SB &lt;int&gt; | CS &lt;int&gt; | BB &lt;int&gt; | HBP &lt;int&gt; | SO &lt;int&gt; | GDP &lt;int&gt; | SLG &lt;dbl&gt; | OBP &lt;dbl&gt; | E &lt;int&gt; | OPS &lt;dbl&gt; |\n|---|---|---|---|---|---|---|---|---|---|---|---|---|---|---|---|---|---|---|---|---|\n|  0 | 2018 | 0.350 |  7 | 20 |  1 |  7 | 1 | 0 | 1 | ⋯ | 0 | 0 | 2 | 0 |  3 | 1 | 0.550 | 0.409 | 1 | 0.959 |\n|  1 | 2011 | 0.000 |  4 |  2 |  2 |  0 | 0 | 0 | 0 | ⋯ | 0 | 1 | 0 | 2 |  1 | 0 | 0.000 | 0.500 | 0 | 0.500 |\n|  1 | 2014 | -     |  4 |  0 |  2 |  0 | 0 | 0 | 0 | ⋯ | 0 | 0 | 0 | 0 |  0 | 0 |    NA |    NA | 0 |    NA |\n|  1 | 2015 | 0.130 | 10 | 23 |  3 |  3 | 0 | 0 | 0 | ⋯ | 3 | 0 | 4 | 1 |  9 | 0 | 0.130 | 0.286 | 2 | 0.416 |\n|  1 | 2016 | 0.188 | 14 | 32 |  4 |  6 | 1 | 1 | 0 | ⋯ | 1 | 2 | 0 | 1 | 10 | 0 | 0.281 | 0.212 | 0 | 0.493 |\n|  1 | 2017 | 0.222 | 11 | 36 | 10 |  8 | 0 | 0 | 2 | ⋯ | 0 | 0 | 3 | 0 | 10 | 0 | 0.389 | 0.282 | 1 | 0.671 |\n|  2 | 2013 | 0.000 |  3 |  4 |  0 |  0 | 0 | 0 | 0 | ⋯ | 0 | 0 | 0 | 0 |  0 | 1 | 0.000 | 0.000 | 0 | 0.000 |\n|  2 | 2016 | 0.000 |  3 |  1 |  0 |  0 | 0 | 0 | 0 | ⋯ | 1 | 0 | 1 | 0 |  0 | 1 | 0.000 | 0.500 | 0 | 0.500 |\n|  2 | 2017 | 1.000 |  2 |  1 |  0 |  1 | 0 | 0 | 0 | ⋯ | 0 | 0 | 0 | 0 |  0 | 0 | 1.000 | 1.000 | 0 | 2.000 |\n| 69 | 2006 | 0.200 | 10 | 15 |  0 |  3 | 0 | 0 | 0 | ⋯ | 0 | 0 | 1 | 1 |  5 | 1 | 0.200 | 0.278 | 0 | 0.478 |\n| 69 | 2007 | 0.318 |  8 | 22 |  4 |  7 | 3 | 0 | 3 | ⋯ | 0 | 0 | 4 | 0 |  4 | 0 | 0.864 | 0.423 | 0 | 1.287 |\n| 69 | 2008 | 0.375 | 10 | 24 |  3 |  9 | 1 | 0 | 1 | ⋯ | 0 | 0 | 2 | 1 |  2 | 2 | 0.542 | 0.444 | 0 | 0.986 |\n| 69 | 2009 | 0.320 | 10 | 25 |  5 |  8 | 3 | 0 | 1 | ⋯ | 0 | 0 | 6 | 0 |  2 | 1 | 0.560 | 0.452 | 1 | 1.012 |\n| 69 | 2010 | 0.400 |  2 |  5 |  2 |  2 | 0 | 1 | 0 | ⋯ | 0 | 0 | 0 | 0 |  1 | 0 | 0.800 | 0.400 | 1 | 1.200 |\n| 69 | 2013 | 0.250 |  9 | 28 |  3 |  7 | 0 | 0 | 0 | ⋯ | 0 | 0 | 7 | 1 |  5 | 1 | 0.250 | 0.417 | 0 | 0.667 |\n| 69 | 2014 | 0.125 | 10 | 16 |  1 |  2 | 0 | 0 | 0 | ⋯ | 0 | 0 | 3 | 0 |  4 | 0 | 0.125 | 0.263 | 0 | 0.388 |\n| 69 | 2016 | 0.000 |  3 |  3 |  0 |  0 | 0 | 0 | 0 | ⋯ | 0 | 0 | 1 | 0 |  1 | 1 | 0.000 | 0.250 | 0 | 0.250 |\n| 69 | 2017 | 0.370 | 12 | 27 |  2 | 10 | 1 | 0 | 1 | ⋯ | 0 | 0 | 2 | 0 |  8 | 1 | 0.519 | 0.364 | 1 | 0.883 |\n| 69 | 2018 | 0.375 |  5 |  8 |  2 |  3 | 1 | 0 | 1 | ⋯ | 0 | 0 | 2 | 0 |  3 | 0 | 0.875 | 0.500 | 0 | 1.375 |\n|  3 | 2014 | 0.000 |  2 |  1 |  0 |  0 | 0 | 0 | 0 | ⋯ | 0 | 0 | 0 | 0 |  1 | 0 | 0.000 | 0.000 | 0 | 0.000 |\n|  3 | 2015 | 0.100 |  9 | 10 |  2 |  1 | 1 | 0 | 0 | ⋯ | 0 | 0 | 0 | 0 |  4 | 0 | 0.200 | 0.100 | 0 | 0.300 |\n|  3 | 2016 | 0.316 | 16 | 19 |  2 |  6 | 2 | 1 | 0 | ⋯ | 0 | 0 | 2 | 0 |  4 | 0 | 0.526 | 0.381 | 0 | 0.907 |\n|  4 | 2005 | 0.250 | 11 | 20 |  2 |  5 | 4 | 0 | 0 | ⋯ | 0 | 1 | 0 | 0 |  6 | 0 | 0.450 | 0.250 | 0 | 0.700 |\n|  4 | 2006 | 0.381 |  9 | 21 |  6 |  8 | 1 | 1 | 2 | ⋯ | 0 | 0 | 1 | 0 |  5 | 1 | 0.810 | 0.391 | 0 | 1.201 |\n|  4 | 2007 | 0.136 | 10 | 22 |  2 |  3 | 0 | 0 | 0 | ⋯ | 0 | 0 | 0 | 1 |  6 | 1 | 0.136 | 0.174 | 0 | 0.310 |\n|  4 | 2008 | 0.200 |  5 | 10 |  0 |  2 | 1 | 0 | 0 | ⋯ | 0 | 0 | 0 | 1 |  2 | 0 | 0.300 | 0.273 | 0 | 0.573 |\n|  4 | 2009 | 0.167 |  2 |  6 |  0 |  1 | 0 | 0 | 0 | ⋯ | 0 | 0 | 0 | 0 |  1 | 0 | 0.167 | 0.167 | 0 | 0.334 |\n|  4 | 2010 | 0.261 | 10 | 23 |  8 |  6 | 1 | 0 | 4 | ⋯ | 0 | 0 | 5 | 1 |  3 | 0 | 0.826 | 0.414 | 0 | 1.240 |\n|  4 | 2011 | 0.353 | 13 | 34 |  4 | 12 | 3 | 0 | 2 | ⋯ | 0 | 0 | 4 | 0 |  6 | 3 | 0.618 | 0.400 | 0 | 1.018 |\n|  4 | 2012 | 0.273 |  5 | 11 |  2 |  3 | 0 | 0 | 0 | ⋯ | 0 | 1 | 0 | 0 |  2 | 0 | 0.273 | 0.273 | 0 | 0.546 |\n| ⋮ | ⋮ | ⋮ | ⋮ | ⋮ | ⋮ | ⋮ | ⋮ | ⋮ | ⋮ | ⋱ | ⋮ | ⋮ | ⋮ | ⋮ | ⋮ | ⋮ | ⋮ | ⋮ | ⋮ | ⋮ |\n| 331 | 2017 | 0.250 | 11 | 32 | 4 |  8 | 0 | 0 | 2 | ⋯ | 1 | 0 | 2 | 1 | 2 | 2 | 0.438 | 0.314 | 0 | 0.752 |\n| 331 | 2018 | 0.600 |  6 | 15 | 3 |  9 | 3 | 0 | 0 | ⋯ | 1 | 0 | 4 | 0 | 0 | 0 | 0.800 | 0.684 | 0 | 1.484 |\n| 332 | 2012 | 0.200 |  9 | 15 | 0 |  3 | 0 | 0 | 0 | ⋯ | 0 | 0 | 0 | 2 | 5 | 0 | 0.200 | 0.294 | 0 | 0.494 |\n| 332 | 2013 | 0.000 |  4 |  8 | 0 |  0 | 0 | 0 | 0 | ⋯ | 0 | 0 | 0 | 0 | 3 | 0 | 0.000 | 0.000 | 0 | 0.000 |\n| 332 | 2014 | 0.150 | 12 | 20 | 2 |  3 | 0 | 0 | 1 | ⋯ | 0 | 0 | 2 | 0 | 4 | 2 | 0.300 | 0.227 | 2 | 0.527 |\n| 332 | 2016 | 0.250 |  8 | 12 | 2 |  3 | 2 | 0 | 0 | ⋯ | 0 | 0 | 1 | 1 | 2 | 1 | 0.417 | 0.333 | 0 | 0.750 |\n| 332 | 2017 | 0.375 |  7 |  8 | 1 |  3 | 2 | 0 | 0 | ⋯ | 0 | 0 | 0 | 0 | 2 | 0 | 0.625 | 0.375 | 1 | 1.000 |\n| 332 | 2018 | 0.000 |  4 |  4 | 0 |  0 | 0 | 0 | 0 | ⋯ | 0 | 0 | 0 | 0 | 1 | 1 | 0.000 | 0.000 | 0 | 0.000 |\n| 334 | 2018 | 0.250 |  6 | 16 | 3 |  4 | 0 | 2 | 1 | ⋯ | 0 | 0 | 1 | 0 | 0 | 0 | 0.688 | 0.278 | 0 | 0.966 |\n| 337 | 2011 | 0.111 |  8 |  9 | 1 |  1 | 0 | 0 | 0 | ⋯ | 0 | 0 | 0 | 0 | 0 | 0 | 0.111 | 0.111 | 0 | 0.222 |\n| 337 | 2012 | 0.250 | 12 | 24 | 3 |  6 | 0 | 0 | 1 | ⋯ | 1 | 0 | 2 | 0 | 4 | 0 | 0.375 | 0.308 | 0 | 0.683 |\n| 337 | 2013 | 0.438 | 11 | 16 | 5 |  7 | 1 | 1 | 0 | ⋯ | 0 | 0 | 2 | 0 | 1 | 1 | 0.625 | 0.500 | 1 | 1.125 |\n| 337 | 2017 | 0.231 | 11 | 13 | 3 |  3 | 0 | 1 | 0 | ⋯ | 0 | 0 | 1 | 0 | 2 | 0 | 0.385 | 0.286 | 0 | 0.671 |\n| 337 | 2018 | 0.333 |  1 |  3 | 0 |  1 | 0 | 0 | 0 | ⋯ | 0 | 0 | 0 | 0 | 0 | 0 | 0.333 | 0.333 | 0 | 0.666 |\n| 338 | 2016 | 0.200 |  5 |  5 | 0 |  1 | 1 | 0 | 0 | ⋯ | 1 | 0 | 2 | 0 | 1 | 0 | 0.400 | 0.429 | 1 | 0.829 |\n| 341 | 2015 | -     |  2 |  0 | 0 |  0 | 0 | 0 | 0 | ⋯ | 0 | 0 | 0 | 0 | 0 | 0 |    NA |    NA | 0 |    NA |\n| 341 | 2016 | 0.000 |  2 |  1 | 0 |  0 | 0 | 0 | 0 | ⋯ | 0 | 0 | 0 | 0 | 0 | 0 | 0.000 | 0.000 | 1 | 0.000 |\n| 341 | 2017 | 0.000 |  8 |  3 | 2 |  0 | 0 | 0 | 0 | ⋯ | 0 | 0 | 0 | 0 | 0 | 0 | 0.000 | 0.000 | 0 | 0.000 |\n| 341 | 2018 | 0.000 |  5 |  2 | 1 |  0 | 0 | 0 | 0 | ⋯ | 0 | 0 | 0 | 0 | 0 | 0 | 0.000 | 0.000 | 0 | 0.000 |\n| 342 | 2008 | 0.179 | 11 | 28 | 0 |  5 | 1 | 0 | 0 | ⋯ | 1 | 1 | 0 | 0 | 4 | 0 | 0.214 | 0.179 | 2 | 0.393 |\n| 342 | 2009 | 0.194 | 11 | 31 | 4 |  6 | 2 | 0 | 0 | ⋯ | 1 | 1 | 2 | 0 | 5 | 0 | 0.258 | 0.242 | 1 | 0.500 |\n| 342 | 2010 | 0.174 | 12 | 46 | 4 |  8 | 1 | 1 | 1 | ⋯ | 2 | 0 | 3 | 0 | 9 | 2 | 0.304 | 0.224 | 2 | 0.528 |\n| 342 | 2011 | 0.152 | 13 | 33 | 2 |  5 | 1 | 1 | 0 | ⋯ | 2 | 1 | 3 | 0 | 9 | 1 | 0.242 | 0.222 | 3 | 0.464 |\n| 342 | 2012 | 0.154 | 12 | 26 | 2 |  4 | 2 | 0 | 1 | ⋯ | 0 | 0 | 3 | 1 | 4 | 0 | 0.346 | 0.258 | 1 | 0.604 |\n| 342 | 2013 | 0.200 | 10 | 30 | 2 |  6 | 0 | 0 | 1 | ⋯ | 2 | 1 | 3 | 2 | 2 | 1 | 0.300 | 0.306 | 3 | 0.606 |\n| 342 | 2014 | 0.407 | 10 | 27 | 3 | 11 | 2 | 0 | 1 | ⋯ | 1 | 0 | 2 | 0 | 5 | 0 | 0.593 | 0.448 | 1 | 1.041 |\n| 342 | 2015 | 0.333 | 11 | 30 | 8 | 10 | 3 | 0 | 0 | ⋯ | 0 | 0 | 4 | 0 | 3 | 0 | 0.433 | 0.389 | 0 | 0.822 |\n| 342 | 2016 | 0.310 | 16 | 42 | 8 | 13 | 3 | 1 | 0 | ⋯ | 3 | 1 | 4 | 0 | 4 | 0 | 0.429 | 0.370 | 1 | 0.799 |\n| 342 | 2018 | 0.250 |  6 | 16 | 3 |  4 | 1 | 0 | 1 | ⋯ | 0 | 0 | 2 | 0 | 6 | 0 | 0.500 | 0.333 | 3 | 0.833 |\n| 344 | 2014 | 0.000 |  1 |  1 | 1 |  0 | 0 | 0 | 0 | ⋯ | 0 | 0 | 0 | 0 | 1 | 0 | 0.000 | 0.000 | 0 | 0.000 |\n\n",
            "text/html": [
              "<table>\n",
              "<caption>A tibble: 1393 × 22</caption>\n",
              "<thead>\n",
              "\t<tr><th scope=col>batter_id</th><th scope=col>year</th><th scope=col>avg</th><th scope=col>G</th><th scope=col>AB</th><th scope=col>R</th><th scope=col>H</th><th scope=col>2B</th><th scope=col>3B</th><th scope=col>HR</th><th scope=col>⋯</th><th scope=col>SB</th><th scope=col>CS</th><th scope=col>BB</th><th scope=col>HBP</th><th scope=col>SO</th><th scope=col>GDP</th><th scope=col>SLG</th><th scope=col>OBP</th><th scope=col>E</th><th scope=col>OPS</th></tr>\n",
              "\t<tr><th scope=col>&lt;int&gt;</th><th scope=col>&lt;int&gt;</th><th scope=col>&lt;chr&gt;</th><th scope=col>&lt;int&gt;</th><th scope=col>&lt;int&gt;</th><th scope=col>&lt;int&gt;</th><th scope=col>&lt;int&gt;</th><th scope=col>&lt;int&gt;</th><th scope=col>&lt;int&gt;</th><th scope=col>&lt;int&gt;</th><th scope=col>⋯</th><th scope=col>&lt;int&gt;</th><th scope=col>&lt;int&gt;</th><th scope=col>&lt;int&gt;</th><th scope=col>&lt;int&gt;</th><th scope=col>&lt;int&gt;</th><th scope=col>&lt;int&gt;</th><th scope=col>&lt;dbl&gt;</th><th scope=col>&lt;dbl&gt;</th><th scope=col>&lt;int&gt;</th><th scope=col>&lt;dbl&gt;</th></tr>\n",
              "</thead>\n",
              "<tbody>\n",
              "\t<tr><td> 0</td><td>2018</td><td>0.350</td><td> 7</td><td>20</td><td> 1</td><td> 7</td><td>1</td><td>0</td><td>1</td><td>⋯</td><td>0</td><td>0</td><td>2</td><td>0</td><td> 3</td><td>1</td><td>0.550</td><td>0.409</td><td>1</td><td>0.959</td></tr>\n",
              "\t<tr><td> 1</td><td>2011</td><td>0.000</td><td> 4</td><td> 2</td><td> 2</td><td> 0</td><td>0</td><td>0</td><td>0</td><td>⋯</td><td>0</td><td>1</td><td>0</td><td>2</td><td> 1</td><td>0</td><td>0.000</td><td>0.500</td><td>0</td><td>0.500</td></tr>\n",
              "\t<tr><td> 1</td><td>2014</td><td>-    </td><td> 4</td><td> 0</td><td> 2</td><td> 0</td><td>0</td><td>0</td><td>0</td><td>⋯</td><td>0</td><td>0</td><td>0</td><td>0</td><td> 0</td><td>0</td><td>   NA</td><td>   NA</td><td>0</td><td>   NA</td></tr>\n",
              "\t<tr><td> 1</td><td>2015</td><td>0.130</td><td>10</td><td>23</td><td> 3</td><td> 3</td><td>0</td><td>0</td><td>0</td><td>⋯</td><td>3</td><td>0</td><td>4</td><td>1</td><td> 9</td><td>0</td><td>0.130</td><td>0.286</td><td>2</td><td>0.416</td></tr>\n",
              "\t<tr><td> 1</td><td>2016</td><td>0.188</td><td>14</td><td>32</td><td> 4</td><td> 6</td><td>1</td><td>1</td><td>0</td><td>⋯</td><td>1</td><td>2</td><td>0</td><td>1</td><td>10</td><td>0</td><td>0.281</td><td>0.212</td><td>0</td><td>0.493</td></tr>\n",
              "\t<tr><td> 1</td><td>2017</td><td>0.222</td><td>11</td><td>36</td><td>10</td><td> 8</td><td>0</td><td>0</td><td>2</td><td>⋯</td><td>0</td><td>0</td><td>3</td><td>0</td><td>10</td><td>0</td><td>0.389</td><td>0.282</td><td>1</td><td>0.671</td></tr>\n",
              "\t<tr><td> 2</td><td>2013</td><td>0.000</td><td> 3</td><td> 4</td><td> 0</td><td> 0</td><td>0</td><td>0</td><td>0</td><td>⋯</td><td>0</td><td>0</td><td>0</td><td>0</td><td> 0</td><td>1</td><td>0.000</td><td>0.000</td><td>0</td><td>0.000</td></tr>\n",
              "\t<tr><td> 2</td><td>2016</td><td>0.000</td><td> 3</td><td> 1</td><td> 0</td><td> 0</td><td>0</td><td>0</td><td>0</td><td>⋯</td><td>1</td><td>0</td><td>1</td><td>0</td><td> 0</td><td>1</td><td>0.000</td><td>0.500</td><td>0</td><td>0.500</td></tr>\n",
              "\t<tr><td> 2</td><td>2017</td><td>1.000</td><td> 2</td><td> 1</td><td> 0</td><td> 1</td><td>0</td><td>0</td><td>0</td><td>⋯</td><td>0</td><td>0</td><td>0</td><td>0</td><td> 0</td><td>0</td><td>1.000</td><td>1.000</td><td>0</td><td>2.000</td></tr>\n",
              "\t<tr><td>69</td><td>2006</td><td>0.200</td><td>10</td><td>15</td><td> 0</td><td> 3</td><td>0</td><td>0</td><td>0</td><td>⋯</td><td>0</td><td>0</td><td>1</td><td>1</td><td> 5</td><td>1</td><td>0.200</td><td>0.278</td><td>0</td><td>0.478</td></tr>\n",
              "\t<tr><td>69</td><td>2007</td><td>0.318</td><td> 8</td><td>22</td><td> 4</td><td> 7</td><td>3</td><td>0</td><td>3</td><td>⋯</td><td>0</td><td>0</td><td>4</td><td>0</td><td> 4</td><td>0</td><td>0.864</td><td>0.423</td><td>0</td><td>1.287</td></tr>\n",
              "\t<tr><td>69</td><td>2008</td><td>0.375</td><td>10</td><td>24</td><td> 3</td><td> 9</td><td>1</td><td>0</td><td>1</td><td>⋯</td><td>0</td><td>0</td><td>2</td><td>1</td><td> 2</td><td>2</td><td>0.542</td><td>0.444</td><td>0</td><td>0.986</td></tr>\n",
              "\t<tr><td>69</td><td>2009</td><td>0.320</td><td>10</td><td>25</td><td> 5</td><td> 8</td><td>3</td><td>0</td><td>1</td><td>⋯</td><td>0</td><td>0</td><td>6</td><td>0</td><td> 2</td><td>1</td><td>0.560</td><td>0.452</td><td>1</td><td>1.012</td></tr>\n",
              "\t<tr><td>69</td><td>2010</td><td>0.400</td><td> 2</td><td> 5</td><td> 2</td><td> 2</td><td>0</td><td>1</td><td>0</td><td>⋯</td><td>0</td><td>0</td><td>0</td><td>0</td><td> 1</td><td>0</td><td>0.800</td><td>0.400</td><td>1</td><td>1.200</td></tr>\n",
              "\t<tr><td>69</td><td>2013</td><td>0.250</td><td> 9</td><td>28</td><td> 3</td><td> 7</td><td>0</td><td>0</td><td>0</td><td>⋯</td><td>0</td><td>0</td><td>7</td><td>1</td><td> 5</td><td>1</td><td>0.250</td><td>0.417</td><td>0</td><td>0.667</td></tr>\n",
              "\t<tr><td>69</td><td>2014</td><td>0.125</td><td>10</td><td>16</td><td> 1</td><td> 2</td><td>0</td><td>0</td><td>0</td><td>⋯</td><td>0</td><td>0</td><td>3</td><td>0</td><td> 4</td><td>0</td><td>0.125</td><td>0.263</td><td>0</td><td>0.388</td></tr>\n",
              "\t<tr><td>69</td><td>2016</td><td>0.000</td><td> 3</td><td> 3</td><td> 0</td><td> 0</td><td>0</td><td>0</td><td>0</td><td>⋯</td><td>0</td><td>0</td><td>1</td><td>0</td><td> 1</td><td>1</td><td>0.000</td><td>0.250</td><td>0</td><td>0.250</td></tr>\n",
              "\t<tr><td>69</td><td>2017</td><td>0.370</td><td>12</td><td>27</td><td> 2</td><td>10</td><td>1</td><td>0</td><td>1</td><td>⋯</td><td>0</td><td>0</td><td>2</td><td>0</td><td> 8</td><td>1</td><td>0.519</td><td>0.364</td><td>1</td><td>0.883</td></tr>\n",
              "\t<tr><td>69</td><td>2018</td><td>0.375</td><td> 5</td><td> 8</td><td> 2</td><td> 3</td><td>1</td><td>0</td><td>1</td><td>⋯</td><td>0</td><td>0</td><td>2</td><td>0</td><td> 3</td><td>0</td><td>0.875</td><td>0.500</td><td>0</td><td>1.375</td></tr>\n",
              "\t<tr><td> 3</td><td>2014</td><td>0.000</td><td> 2</td><td> 1</td><td> 0</td><td> 0</td><td>0</td><td>0</td><td>0</td><td>⋯</td><td>0</td><td>0</td><td>0</td><td>0</td><td> 1</td><td>0</td><td>0.000</td><td>0.000</td><td>0</td><td>0.000</td></tr>\n",
              "\t<tr><td> 3</td><td>2015</td><td>0.100</td><td> 9</td><td>10</td><td> 2</td><td> 1</td><td>1</td><td>0</td><td>0</td><td>⋯</td><td>0</td><td>0</td><td>0</td><td>0</td><td> 4</td><td>0</td><td>0.200</td><td>0.100</td><td>0</td><td>0.300</td></tr>\n",
              "\t<tr><td> 3</td><td>2016</td><td>0.316</td><td>16</td><td>19</td><td> 2</td><td> 6</td><td>2</td><td>1</td><td>0</td><td>⋯</td><td>0</td><td>0</td><td>2</td><td>0</td><td> 4</td><td>0</td><td>0.526</td><td>0.381</td><td>0</td><td>0.907</td></tr>\n",
              "\t<tr><td> 4</td><td>2005</td><td>0.250</td><td>11</td><td>20</td><td> 2</td><td> 5</td><td>4</td><td>0</td><td>0</td><td>⋯</td><td>0</td><td>1</td><td>0</td><td>0</td><td> 6</td><td>0</td><td>0.450</td><td>0.250</td><td>0</td><td>0.700</td></tr>\n",
              "\t<tr><td> 4</td><td>2006</td><td>0.381</td><td> 9</td><td>21</td><td> 6</td><td> 8</td><td>1</td><td>1</td><td>2</td><td>⋯</td><td>0</td><td>0</td><td>1</td><td>0</td><td> 5</td><td>1</td><td>0.810</td><td>0.391</td><td>0</td><td>1.201</td></tr>\n",
              "\t<tr><td> 4</td><td>2007</td><td>0.136</td><td>10</td><td>22</td><td> 2</td><td> 3</td><td>0</td><td>0</td><td>0</td><td>⋯</td><td>0</td><td>0</td><td>0</td><td>1</td><td> 6</td><td>1</td><td>0.136</td><td>0.174</td><td>0</td><td>0.310</td></tr>\n",
              "\t<tr><td> 4</td><td>2008</td><td>0.200</td><td> 5</td><td>10</td><td> 0</td><td> 2</td><td>1</td><td>0</td><td>0</td><td>⋯</td><td>0</td><td>0</td><td>0</td><td>1</td><td> 2</td><td>0</td><td>0.300</td><td>0.273</td><td>0</td><td>0.573</td></tr>\n",
              "\t<tr><td> 4</td><td>2009</td><td>0.167</td><td> 2</td><td> 6</td><td> 0</td><td> 1</td><td>0</td><td>0</td><td>0</td><td>⋯</td><td>0</td><td>0</td><td>0</td><td>0</td><td> 1</td><td>0</td><td>0.167</td><td>0.167</td><td>0</td><td>0.334</td></tr>\n",
              "\t<tr><td> 4</td><td>2010</td><td>0.261</td><td>10</td><td>23</td><td> 8</td><td> 6</td><td>1</td><td>0</td><td>4</td><td>⋯</td><td>0</td><td>0</td><td>5</td><td>1</td><td> 3</td><td>0</td><td>0.826</td><td>0.414</td><td>0</td><td>1.240</td></tr>\n",
              "\t<tr><td> 4</td><td>2011</td><td>0.353</td><td>13</td><td>34</td><td> 4</td><td>12</td><td>3</td><td>0</td><td>2</td><td>⋯</td><td>0</td><td>0</td><td>4</td><td>0</td><td> 6</td><td>3</td><td>0.618</td><td>0.400</td><td>0</td><td>1.018</td></tr>\n",
              "\t<tr><td> 4</td><td>2012</td><td>0.273</td><td> 5</td><td>11</td><td> 2</td><td> 3</td><td>0</td><td>0</td><td>0</td><td>⋯</td><td>0</td><td>1</td><td>0</td><td>0</td><td> 2</td><td>0</td><td>0.273</td><td>0.273</td><td>0</td><td>0.546</td></tr>\n",
              "\t<tr><td>⋮</td><td>⋮</td><td>⋮</td><td>⋮</td><td>⋮</td><td>⋮</td><td>⋮</td><td>⋮</td><td>⋮</td><td>⋮</td><td>⋱</td><td>⋮</td><td>⋮</td><td>⋮</td><td>⋮</td><td>⋮</td><td>⋮</td><td>⋮</td><td>⋮</td><td>⋮</td><td>⋮</td></tr>\n",
              "\t<tr><td>331</td><td>2017</td><td>0.250</td><td>11</td><td>32</td><td>4</td><td> 8</td><td>0</td><td>0</td><td>2</td><td>⋯</td><td>1</td><td>0</td><td>2</td><td>1</td><td>2</td><td>2</td><td>0.438</td><td>0.314</td><td>0</td><td>0.752</td></tr>\n",
              "\t<tr><td>331</td><td>2018</td><td>0.600</td><td> 6</td><td>15</td><td>3</td><td> 9</td><td>3</td><td>0</td><td>0</td><td>⋯</td><td>1</td><td>0</td><td>4</td><td>0</td><td>0</td><td>0</td><td>0.800</td><td>0.684</td><td>0</td><td>1.484</td></tr>\n",
              "\t<tr><td>332</td><td>2012</td><td>0.200</td><td> 9</td><td>15</td><td>0</td><td> 3</td><td>0</td><td>0</td><td>0</td><td>⋯</td><td>0</td><td>0</td><td>0</td><td>2</td><td>5</td><td>0</td><td>0.200</td><td>0.294</td><td>0</td><td>0.494</td></tr>\n",
              "\t<tr><td>332</td><td>2013</td><td>0.000</td><td> 4</td><td> 8</td><td>0</td><td> 0</td><td>0</td><td>0</td><td>0</td><td>⋯</td><td>0</td><td>0</td><td>0</td><td>0</td><td>3</td><td>0</td><td>0.000</td><td>0.000</td><td>0</td><td>0.000</td></tr>\n",
              "\t<tr><td>332</td><td>2014</td><td>0.150</td><td>12</td><td>20</td><td>2</td><td> 3</td><td>0</td><td>0</td><td>1</td><td>⋯</td><td>0</td><td>0</td><td>2</td><td>0</td><td>4</td><td>2</td><td>0.300</td><td>0.227</td><td>2</td><td>0.527</td></tr>\n",
              "\t<tr><td>332</td><td>2016</td><td>0.250</td><td> 8</td><td>12</td><td>2</td><td> 3</td><td>2</td><td>0</td><td>0</td><td>⋯</td><td>0</td><td>0</td><td>1</td><td>1</td><td>2</td><td>1</td><td>0.417</td><td>0.333</td><td>0</td><td>0.750</td></tr>\n",
              "\t<tr><td>332</td><td>2017</td><td>0.375</td><td> 7</td><td> 8</td><td>1</td><td> 3</td><td>2</td><td>0</td><td>0</td><td>⋯</td><td>0</td><td>0</td><td>0</td><td>0</td><td>2</td><td>0</td><td>0.625</td><td>0.375</td><td>1</td><td>1.000</td></tr>\n",
              "\t<tr><td>332</td><td>2018</td><td>0.000</td><td> 4</td><td> 4</td><td>0</td><td> 0</td><td>0</td><td>0</td><td>0</td><td>⋯</td><td>0</td><td>0</td><td>0</td><td>0</td><td>1</td><td>1</td><td>0.000</td><td>0.000</td><td>0</td><td>0.000</td></tr>\n",
              "\t<tr><td>334</td><td>2018</td><td>0.250</td><td> 6</td><td>16</td><td>3</td><td> 4</td><td>0</td><td>2</td><td>1</td><td>⋯</td><td>0</td><td>0</td><td>1</td><td>0</td><td>0</td><td>0</td><td>0.688</td><td>0.278</td><td>0</td><td>0.966</td></tr>\n",
              "\t<tr><td>337</td><td>2011</td><td>0.111</td><td> 8</td><td> 9</td><td>1</td><td> 1</td><td>0</td><td>0</td><td>0</td><td>⋯</td><td>0</td><td>0</td><td>0</td><td>0</td><td>0</td><td>0</td><td>0.111</td><td>0.111</td><td>0</td><td>0.222</td></tr>\n",
              "\t<tr><td>337</td><td>2012</td><td>0.250</td><td>12</td><td>24</td><td>3</td><td> 6</td><td>0</td><td>0</td><td>1</td><td>⋯</td><td>1</td><td>0</td><td>2</td><td>0</td><td>4</td><td>0</td><td>0.375</td><td>0.308</td><td>0</td><td>0.683</td></tr>\n",
              "\t<tr><td>337</td><td>2013</td><td>0.438</td><td>11</td><td>16</td><td>5</td><td> 7</td><td>1</td><td>1</td><td>0</td><td>⋯</td><td>0</td><td>0</td><td>2</td><td>0</td><td>1</td><td>1</td><td>0.625</td><td>0.500</td><td>1</td><td>1.125</td></tr>\n",
              "\t<tr><td>337</td><td>2017</td><td>0.231</td><td>11</td><td>13</td><td>3</td><td> 3</td><td>0</td><td>1</td><td>0</td><td>⋯</td><td>0</td><td>0</td><td>1</td><td>0</td><td>2</td><td>0</td><td>0.385</td><td>0.286</td><td>0</td><td>0.671</td></tr>\n",
              "\t<tr><td>337</td><td>2018</td><td>0.333</td><td> 1</td><td> 3</td><td>0</td><td> 1</td><td>0</td><td>0</td><td>0</td><td>⋯</td><td>0</td><td>0</td><td>0</td><td>0</td><td>0</td><td>0</td><td>0.333</td><td>0.333</td><td>0</td><td>0.666</td></tr>\n",
              "\t<tr><td>338</td><td>2016</td><td>0.200</td><td> 5</td><td> 5</td><td>0</td><td> 1</td><td>1</td><td>0</td><td>0</td><td>⋯</td><td>1</td><td>0</td><td>2</td><td>0</td><td>1</td><td>0</td><td>0.400</td><td>0.429</td><td>1</td><td>0.829</td></tr>\n",
              "\t<tr><td>341</td><td>2015</td><td>-    </td><td> 2</td><td> 0</td><td>0</td><td> 0</td><td>0</td><td>0</td><td>0</td><td>⋯</td><td>0</td><td>0</td><td>0</td><td>0</td><td>0</td><td>0</td><td>   NA</td><td>   NA</td><td>0</td><td>   NA</td></tr>\n",
              "\t<tr><td>341</td><td>2016</td><td>0.000</td><td> 2</td><td> 1</td><td>0</td><td> 0</td><td>0</td><td>0</td><td>0</td><td>⋯</td><td>0</td><td>0</td><td>0</td><td>0</td><td>0</td><td>0</td><td>0.000</td><td>0.000</td><td>1</td><td>0.000</td></tr>\n",
              "\t<tr><td>341</td><td>2017</td><td>0.000</td><td> 8</td><td> 3</td><td>2</td><td> 0</td><td>0</td><td>0</td><td>0</td><td>⋯</td><td>0</td><td>0</td><td>0</td><td>0</td><td>0</td><td>0</td><td>0.000</td><td>0.000</td><td>0</td><td>0.000</td></tr>\n",
              "\t<tr><td>341</td><td>2018</td><td>0.000</td><td> 5</td><td> 2</td><td>1</td><td> 0</td><td>0</td><td>0</td><td>0</td><td>⋯</td><td>0</td><td>0</td><td>0</td><td>0</td><td>0</td><td>0</td><td>0.000</td><td>0.000</td><td>0</td><td>0.000</td></tr>\n",
              "\t<tr><td>342</td><td>2008</td><td>0.179</td><td>11</td><td>28</td><td>0</td><td> 5</td><td>1</td><td>0</td><td>0</td><td>⋯</td><td>1</td><td>1</td><td>0</td><td>0</td><td>4</td><td>0</td><td>0.214</td><td>0.179</td><td>2</td><td>0.393</td></tr>\n",
              "\t<tr><td>342</td><td>2009</td><td>0.194</td><td>11</td><td>31</td><td>4</td><td> 6</td><td>2</td><td>0</td><td>0</td><td>⋯</td><td>1</td><td>1</td><td>2</td><td>0</td><td>5</td><td>0</td><td>0.258</td><td>0.242</td><td>1</td><td>0.500</td></tr>\n",
              "\t<tr><td>342</td><td>2010</td><td>0.174</td><td>12</td><td>46</td><td>4</td><td> 8</td><td>1</td><td>1</td><td>1</td><td>⋯</td><td>2</td><td>0</td><td>3</td><td>0</td><td>9</td><td>2</td><td>0.304</td><td>0.224</td><td>2</td><td>0.528</td></tr>\n",
              "\t<tr><td>342</td><td>2011</td><td>0.152</td><td>13</td><td>33</td><td>2</td><td> 5</td><td>1</td><td>1</td><td>0</td><td>⋯</td><td>2</td><td>1</td><td>3</td><td>0</td><td>9</td><td>1</td><td>0.242</td><td>0.222</td><td>3</td><td>0.464</td></tr>\n",
              "\t<tr><td>342</td><td>2012</td><td>0.154</td><td>12</td><td>26</td><td>2</td><td> 4</td><td>2</td><td>0</td><td>1</td><td>⋯</td><td>0</td><td>0</td><td>3</td><td>1</td><td>4</td><td>0</td><td>0.346</td><td>0.258</td><td>1</td><td>0.604</td></tr>\n",
              "\t<tr><td>342</td><td>2013</td><td>0.200</td><td>10</td><td>30</td><td>2</td><td> 6</td><td>0</td><td>0</td><td>1</td><td>⋯</td><td>2</td><td>1</td><td>3</td><td>2</td><td>2</td><td>1</td><td>0.300</td><td>0.306</td><td>3</td><td>0.606</td></tr>\n",
              "\t<tr><td>342</td><td>2014</td><td>0.407</td><td>10</td><td>27</td><td>3</td><td>11</td><td>2</td><td>0</td><td>1</td><td>⋯</td><td>1</td><td>0</td><td>2</td><td>0</td><td>5</td><td>0</td><td>0.593</td><td>0.448</td><td>1</td><td>1.041</td></tr>\n",
              "\t<tr><td>342</td><td>2015</td><td>0.333</td><td>11</td><td>30</td><td>8</td><td>10</td><td>3</td><td>0</td><td>0</td><td>⋯</td><td>0</td><td>0</td><td>4</td><td>0</td><td>3</td><td>0</td><td>0.433</td><td>0.389</td><td>0</td><td>0.822</td></tr>\n",
              "\t<tr><td>342</td><td>2016</td><td>0.310</td><td>16</td><td>42</td><td>8</td><td>13</td><td>3</td><td>1</td><td>0</td><td>⋯</td><td>3</td><td>1</td><td>4</td><td>0</td><td>4</td><td>0</td><td>0.429</td><td>0.370</td><td>1</td><td>0.799</td></tr>\n",
              "\t<tr><td>342</td><td>2018</td><td>0.250</td><td> 6</td><td>16</td><td>3</td><td> 4</td><td>1</td><td>0</td><td>1</td><td>⋯</td><td>0</td><td>0</td><td>2</td><td>0</td><td>6</td><td>0</td><td>0.500</td><td>0.333</td><td>3</td><td>0.833</td></tr>\n",
              "\t<tr><td>344</td><td>2014</td><td>0.000</td><td> 1</td><td> 1</td><td>1</td><td> 0</td><td>0</td><td>0</td><td>0</td><td>⋯</td><td>0</td><td>0</td><td>0</td><td>0</td><td>1</td><td>0</td><td>0.000</td><td>0.000</td><td>0</td><td>0.000</td></tr>\n",
              "</tbody>\n",
              "</table>\n"
            ]
          },
          "metadata": {
            "tags": []
          }
        }
      ]
    },
    {
      "cell_type": "markdown",
      "metadata": {
        "id": "eJjFdm5ipcVq",
        "colab_type": "text"
      },
      "source": [
        "### (2) DF에서 team이 \"두산\" 또는 \"한화\"이고 G가 10 이상인 모든 행(row) - filter\n"
      ]
    },
    {
      "cell_type": "code",
      "metadata": {
        "id": "-pbOl13rpkPx",
        "colab_type": "code",
        "colab": {
          "base_uri": "https://localhost:8080/",
          "height": 323
        },
        "outputId": "9ba1003d-a4d1-42e3-a426-77b2df1c6128"
      },
      "source": [
        "## 답안 작성\n",
        "#\n",
        "DF %>% filter(.,team == \"두산\" | team == \"한화\" & G >= 10) %>% show()"
      ],
      "execution_count": 105,
      "outputs": [
        {
          "output_type": "stream",
          "text": [
            "\u001b[90m# A tibble: 238 x 29\u001b[39m\n",
            "   batter_id batter_name  year team  avg       G    AB     R     H  `2B`  `3B`\n",
            "       \u001b[3m\u001b[90m<int>\u001b[39m\u001b[23m \u001b[3m\u001b[90m<chr>\u001b[39m\u001b[23m       \u001b[3m\u001b[90m<int>\u001b[39m\u001b[23m \u001b[3m\u001b[90m<chr>\u001b[39m\u001b[23m \u001b[3m\u001b[90m<chr>\u001b[39m\u001b[23m \u001b[3m\u001b[90m<int>\u001b[39m\u001b[23m \u001b[3m\u001b[90m<int>\u001b[39m\u001b[23m \u001b[3m\u001b[90m<int>\u001b[39m\u001b[23m \u001b[3m\u001b[90m<int>\u001b[39m\u001b[23m \u001b[3m\u001b[90m<int>\u001b[39m\u001b[23m \u001b[3m\u001b[90m<int>\u001b[39m\u001b[23m\n",
            "\u001b[90m 1\u001b[39m         1 강경학       \u001b[4m2\u001b[24m015 한화  0.130    10    23     3     3     0     0\n",
            "\u001b[90m 2\u001b[39m         1 강경학       \u001b[4m2\u001b[24m016 한화  0.188    14    32     4     6     1     1\n",
            "\u001b[90m 3\u001b[39m         1 강경학       \u001b[4m2\u001b[24m017 한화  0.222    11    36    10     8     0     0\n",
            "\u001b[90m 4\u001b[39m        69 김태완       \u001b[4m2\u001b[24m006 한화  0.200    10    15     0     3     0     0\n",
            "\u001b[90m 5\u001b[39m        69 김태완       \u001b[4m2\u001b[24m008 한화  0.375    10    24     3     9     1     0\n",
            "\u001b[90m 6\u001b[39m        69 김태완       \u001b[4m2\u001b[24m009 한화  0.320    10    25     5     8     3     0\n",
            "\u001b[90m 7\u001b[39m        69 김태완       \u001b[4m2\u001b[24m014 한화  0.125    10    16     1     2     0     0\n",
            "\u001b[90m 8\u001b[39m         8 강상원       \u001b[4m2\u001b[24m017 한화  0.000    10     1     4     0     0     0\n",
            "\u001b[90m 9\u001b[39m       162 신성현       \u001b[4m2\u001b[24m016 한화  0.286    14    35     6    10     1     0\n",
            "\u001b[90m10\u001b[39m       162 신성현       \u001b[4m2\u001b[24m017 두산  0.324    10    34     7    11     2     0\n",
            "\u001b[90m# … with 228 more rows, and 18 more variables: HR \u001b[3m\u001b[90m<int>\u001b[90m\u001b[23m, TB \u001b[3m\u001b[90m<int>\u001b[90m\u001b[23m, RBI \u001b[3m\u001b[90m<int>\u001b[90m\u001b[23m,\u001b[39m\n",
            "\u001b[90m#   SB \u001b[3m\u001b[90m<int>\u001b[90m\u001b[23m, CS \u001b[3m\u001b[90m<int>\u001b[90m\u001b[23m, BB \u001b[3m\u001b[90m<int>\u001b[90m\u001b[23m, HBP \u001b[3m\u001b[90m<int>\u001b[90m\u001b[23m, SO \u001b[3m\u001b[90m<int>\u001b[90m\u001b[23m, GDP \u001b[3m\u001b[90m<int>\u001b[90m\u001b[23m, SLG \u001b[3m\u001b[90m<dbl>\u001b[90m\u001b[23m,\u001b[39m\n",
            "\u001b[90m#   OBP \u001b[3m\u001b[90m<dbl>\u001b[90m\u001b[23m, E \u001b[3m\u001b[90m<int>\u001b[90m\u001b[23m, `height/weight` \u001b[3m\u001b[90m<chr>\u001b[90m\u001b[23m, year_born \u001b[3m\u001b[90m<chr>\u001b[90m\u001b[23m, position \u001b[3m\u001b[90m<chr>\u001b[90m\u001b[23m,\u001b[39m\n",
            "\u001b[90m#   career \u001b[3m\u001b[90m<chr>\u001b[90m\u001b[23m, starting_salary \u001b[3m\u001b[90m<chr>\u001b[90m\u001b[23m, OPS \u001b[3m\u001b[90m<dbl>\u001b[90m\u001b[23m\u001b[39m\n"
          ],
          "name": "stdout"
        }
      ]
    },
    {
      "cell_type": "markdown",
      "metadata": {
        "id": "3N698QH8psAU",
        "colab_type": "text"
      },
      "source": [
        "### (3) DF에서 team 별(key) SLG, OBP의 평균과 R의 합 - group_by, summarise\n",
        "\n",
        "* **NA 발생시 해당 문제 0점.**\n",
        "* 출력 예시와 동일해야 함.\n",
        "* 새로 생성되는 열의 이름을 자유롭게 설정.\n",
        "\n",
        "```\n",
        "# 출력예시\n",
        "A tibble: 13 × 4\n",
        "team\tSLG_mean\tOBP_mean\tR_sum\n",
        "<chr>\t<dbl>\t<dbl>\t<int>\n",
        "KIA\t0.4068168\t0.3579771\t321\n",
        "KT\t0.3732105\t0.3196491\t143\n",
        "LG\t0.3497235\t0.3211813\t500\n",
        "NC\t0.4006190\t0.3121882\t195\n",
        "SK\t0.3501159\t0.3052866\t426\n",
        "넥센\t0.3833929\t0.3228750\t315\n",
        "두산\t0.3319891\t0.3102688\t601\n",
        "롯데\t0.3784125\t0.3217500\t424\n",
        "삼성\t0.3452260\t0.3073151\t416\n",
        "우리\t0.2081667\t0.1941667\t10\n",
        "한화\t0.3503465\t0.3193858\t335\n",
        "현대\t0.2971111\t0.2705000\t42\n",
        "히어로즈\t0.2530000\t0.2894000\t5\n",
        "```\n"
      ]
    },
    {
      "cell_type": "code",
      "metadata": {
        "id": "PS-EnXoZnnTz",
        "colab_type": "code",
        "colab": {
          "base_uri": "https://localhost:8080/",
          "height": 387
        },
        "outputId": "c51ed883-66e6-4f37-8652-3270acc08e1a"
      },
      "source": [
        "## 답안 작성\n",
        "##\n",
        "# str(DF)\n",
        "# table(is.na(DF))\n",
        "# table(is.na(DF$SLG))\n",
        "# table(is.na(DF$OBP))\n",
        "# DFt = DF\n",
        "# DFt\n",
        "\n",
        "DF %>% group_by(team) %>% summarise(SLG_mean = mean(SLG, na.rm = T), OBP_mean = mean(OBP, na.rm = T), R_sum = sum(R,na.rm = T))"
      ],
      "execution_count": 125,
      "outputs": [
        {
          "output_type": "stream",
          "text": [
            "`summarise()` ungrouping output (override with `.groups` argument)\n",
            "\n"
          ],
          "name": "stderr"
        },
        {
          "output_type": "display_data",
          "data": {
            "text/plain": [
              "   team     SLG_mean  OBP_mean  R_sum\n",
              "1  KIA      0.4068168 0.3579771 321  \n",
              "2  KT       0.3732105 0.3196491 143  \n",
              "3  LG       0.3497235 0.3211813 500  \n",
              "4  NC       0.4006190 0.3121882 195  \n",
              "5  SK       0.3501159 0.3052866 426  \n",
              "6  넥센     0.3833929 0.3228750 315  \n",
              "7  두산     0.3319891 0.3102688 601  \n",
              "8  롯데     0.3784125 0.3217500 424  \n",
              "9  삼성     0.3452260 0.3073151 416  \n",
              "10 우리     0.2081667 0.1941667  10  \n",
              "11 한화     0.3503465 0.3193858 335  \n",
              "12 현대     0.2971111 0.2705000  42  \n",
              "13 히어로즈 0.2530000 0.2894000   5  "
            ],
            "text/latex": "A tibble: 13 × 4\n\\begin{tabular}{llll}\n team & SLG\\_mean & OBP\\_mean & R\\_sum\\\\\n <chr> & <dbl> & <dbl> & <int>\\\\\n\\hline\n\t KIA      & 0.4068168 & 0.3579771 & 321\\\\\n\t KT       & 0.3732105 & 0.3196491 & 143\\\\\n\t LG       & 0.3497235 & 0.3211813 & 500\\\\\n\t NC       & 0.4006190 & 0.3121882 & 195\\\\\n\t SK       & 0.3501159 & 0.3052866 & 426\\\\\n\t 넥센     & 0.3833929 & 0.3228750 & 315\\\\\n\t 두산     & 0.3319891 & 0.3102688 & 601\\\\\n\t 롯데     & 0.3784125 & 0.3217500 & 424\\\\\n\t 삼성     & 0.3452260 & 0.3073151 & 416\\\\\n\t 우리     & 0.2081667 & 0.1941667 &  10\\\\\n\t 한화     & 0.3503465 & 0.3193858 & 335\\\\\n\t 현대     & 0.2971111 & 0.2705000 &  42\\\\\n\t 히어로즈 & 0.2530000 & 0.2894000 &   5\\\\\n\\end{tabular}\n",
            "text/markdown": "\nA tibble: 13 × 4\n\n| team &lt;chr&gt; | SLG_mean &lt;dbl&gt; | OBP_mean &lt;dbl&gt; | R_sum &lt;int&gt; |\n|---|---|---|---|\n| KIA      | 0.4068168 | 0.3579771 | 321 |\n| KT       | 0.3732105 | 0.3196491 | 143 |\n| LG       | 0.3497235 | 0.3211813 | 500 |\n| NC       | 0.4006190 | 0.3121882 | 195 |\n| SK       | 0.3501159 | 0.3052866 | 426 |\n| 넥센     | 0.3833929 | 0.3228750 | 315 |\n| 두산     | 0.3319891 | 0.3102688 | 601 |\n| 롯데     | 0.3784125 | 0.3217500 | 424 |\n| 삼성     | 0.3452260 | 0.3073151 | 416 |\n| 우리     | 0.2081667 | 0.1941667 |  10 |\n| 한화     | 0.3503465 | 0.3193858 | 335 |\n| 현대     | 0.2971111 | 0.2705000 |  42 |\n| 히어로즈 | 0.2530000 | 0.2894000 |   5 |\n\n",
            "text/html": [
              "<table>\n",
              "<caption>A tibble: 13 × 4</caption>\n",
              "<thead>\n",
              "\t<tr><th scope=col>team</th><th scope=col>SLG_mean</th><th scope=col>OBP_mean</th><th scope=col>R_sum</th></tr>\n",
              "\t<tr><th scope=col>&lt;chr&gt;</th><th scope=col>&lt;dbl&gt;</th><th scope=col>&lt;dbl&gt;</th><th scope=col>&lt;int&gt;</th></tr>\n",
              "</thead>\n",
              "<tbody>\n",
              "\t<tr><td>KIA     </td><td>0.4068168</td><td>0.3579771</td><td>321</td></tr>\n",
              "\t<tr><td>KT      </td><td>0.3732105</td><td>0.3196491</td><td>143</td></tr>\n",
              "\t<tr><td>LG      </td><td>0.3497235</td><td>0.3211813</td><td>500</td></tr>\n",
              "\t<tr><td>NC      </td><td>0.4006190</td><td>0.3121882</td><td>195</td></tr>\n",
              "\t<tr><td>SK      </td><td>0.3501159</td><td>0.3052866</td><td>426</td></tr>\n",
              "\t<tr><td>넥센    </td><td>0.3833929</td><td>0.3228750</td><td>315</td></tr>\n",
              "\t<tr><td>두산    </td><td>0.3319891</td><td>0.3102688</td><td>601</td></tr>\n",
              "\t<tr><td>롯데    </td><td>0.3784125</td><td>0.3217500</td><td>424</td></tr>\n",
              "\t<tr><td>삼성    </td><td>0.3452260</td><td>0.3073151</td><td>416</td></tr>\n",
              "\t<tr><td>우리    </td><td>0.2081667</td><td>0.1941667</td><td> 10</td></tr>\n",
              "\t<tr><td>한화    </td><td>0.3503465</td><td>0.3193858</td><td>335</td></tr>\n",
              "\t<tr><td>현대    </td><td>0.2971111</td><td>0.2705000</td><td> 42</td></tr>\n",
              "\t<tr><td>히어로즈</td><td>0.2530000</td><td>0.2894000</td><td>  5</td></tr>\n",
              "</tbody>\n",
              "</table>\n"
            ]
          },
          "metadata": {
            "tags": []
          }
        }
      ]
    },
    {
      "cell_type": "markdown",
      "metadata": {
        "id": "pJf7pOXfq07E",
        "colab_type": "text"
      },
      "source": [
        "## 3. Train / Test / Validation 데이터 생성하기 - setdiff, sample_frac 사용 (20점)\n",
        "\n",
        "DF를 Train / Test / Validation 데이터로 6:2:2의 비율로 분할하고자한다.\n",
        "\n",
        "* 비복원 추출(replace = F) 사용\n",
        "* nrow()를 이용하여 분할된 데이터의 행의 개수를 파악할 수 있음\n",
        "\n",
        "```\n",
        "# 출력 예시\n",
        "nrow(train_set) + nrow(test_set) + nrow(validation_set)\n",
        "1393\n",
        "```\n"
      ]
    },
    {
      "cell_type": "code",
      "metadata": {
        "id": "O1NBKZ5lrOaS",
        "colab_type": "code",
        "colab": {
          "base_uri": "https://localhost:8080/",
          "height": 34
        },
        "outputId": "bd7285c6-dc3f-49f9-b012-1e782e2b31dc"
      },
      "source": [
        "# 사용 데이터\n",
        "DF <- fread(\"ftp://210.115.229.94/2020_datascience/6th_data/Pre_Season_Batter.csv\", header = T, encoding = \"UTF-8\") %>%\n",
        "  as_tibble()\n",
        "\n",
        "nrow(DF) # DF의 행의 개수"
      ],
      "execution_count": 127,
      "outputs": [
        {
          "output_type": "display_data",
          "data": {
            "text/plain": [
              "[1] 1393"
            ],
            "text/latex": "1393",
            "text/markdown": "1393",
            "text/html": [
              "1393"
            ]
          },
          "metadata": {
            "tags": []
          }
        }
      ]
    },
    {
      "cell_type": "code",
      "metadata": {
        "id": "llk0VN4JrlmL",
        "colab_type": "code",
        "colab": {}
      },
      "source": [
        "## 답안 작성\n",
        "#\n",
        "train_set <- sample_frac(DF, 0.6 , replace = F)\n",
        "temp <- setdiff(DF , train_set)\n",
        "#temp는 DF에서 rain_set을 뺀 데이터들의 집합임. \n",
        "#따라서 temp는 100퍼센트에서 시작, test와 validation을 같은비율로 나눠야 하기 때문에 0.5를 해야 한다\n",
        "\n",
        "test_set <- sample_frac(temp, 0.5, replace = F)# temp에 50퍼는 test로, 다른 50퍼는 validation으로 저장된다. \n",
        "validation_set <- setdiff(temp, test_set)\n"
      ],
      "execution_count": 132,
      "outputs": []
    },
    {
      "cell_type": "code",
      "metadata": {
        "id": "w2wqhqVIsnRF",
        "colab_type": "code",
        "colab": {
          "base_uri": "https://localhost:8080/",
          "height": 34
        },
        "outputId": "f4c78e40-7a90-44b1-e300-2e38080d548c"
      },
      "source": [
        "nrow(train_set) + nrow(test_set) + nrow(validation_set)"
      ],
      "execution_count": 133,
      "outputs": [
        {
          "output_type": "display_data",
          "data": {
            "text/plain": [
              "[1] 1393"
            ],
            "text/latex": "1393",
            "text/markdown": "1393",
            "text/html": [
              "1393"
            ]
          },
          "metadata": {
            "tags": []
          }
        }
      ]
    }
  ]
}