{
  "nbformat": 4,
  "nbformat_minor": 0,
  "metadata": {
    "colab": {
      "name": "Bigdata_Lab_10.ipynb",
      "provenance": [],
      "collapsed_sections": [
        "bvjPzcZroydM"
      ]
    },
    "kernelspec": {
      "name": "ir",
      "display_name": "R"
    }
  },
  "cells": [
    {
      "cell_type": "markdown",
      "metadata": {
        "id": "NqwIc2xhQqLu"
      },
      "source": [
        "# **빅데이터 개론 Lab 10 - 로지스틱 회귀분석**\n",
        "\n",
        "참고자료 : https://www.notion.so/TA-2689a38b5289413a82671d3956fea103\n",
        "\n",
        "- - -\n",
        "\n",
        "\n"
      ]
    },
    {
      "cell_type": "markdown",
      "metadata": {
        "id": "bvjPzcZroydM"
      },
      "source": [
        "### **<로지스틱 회귀분석>**\n",
        "\n",
        "<img src=\"https://mblogthumb-phinf.pstatic.net/MjAyMDAzMTNfMjUg/MDAxNTg0MDgwNjAzNDQ4.stg44EjmKsUiCbav6P4HPZpzQocCNcN3L6DUwQBC5lgg.25bRo94dsEGXtmZ-Z0CtQhXKlTVkkz3E5VPaq0oNvXog.PNG.y4769/%EC%8A%AC%EB%9D%BC%EC%9D%B4%EB%93%9C4.PNG?type=w800\" width=\"600\" height=\"300\">\n",
        "\n",
        "\n",
        "<br>\n",
        "\n",
        "### **<독립변수(설명변수)와 종속변수(반응변수)의 관계>**\n",
        "\n",
        "<img src=\"https://mblogthumb-phinf.pstatic.net/MjAyMDAzMTNfMTc3/MDAxNTg0MDgwNjAzNDQy.lXx6Ca-LIa0kaeCULOE9wWqUQsZt1KzSOZDKsRpwbREg._lAOicl-kDpLz4SYa9_37_rYCtUNhL_IYFOMYz4v-Hgg.PNG.y4769/%EC%8A%AC%EB%9D%BC%EC%9D%B4%EB%93%9C6.PNG?type=w800\" width=\"600\" height=\"300\">\n",
        "\n",
        "  1. 선형 회귀분석이 말 그대로 독립변수와 종속변수 사이의 선형적 관계를 그래프로 나타낸 것이라면, 로지스틱 회귀분석은 선형이 아닌 \"S\" 곡선의 특성을 나타낸다.\n",
        "\n",
        "  2. 로지스틱 회귀분석의 곡선에서 종속변수의 확률이 0.5보다 크면 어떤 사건이 일어난다고 보고, 0.5보다 작으면 어떤 사건이 일어나지 않을 것이라고 확률적으로 예측해볼 수 있다.\n",
        "\n",
        "\n",
        "\n",
        "\n",
        "```\n",
        "glm(formula, data, family = \"binomial\") \n",
        "# binomial 옵션은 반응변수가 두 가지의 값(이항)만 가진다고 glm에게 알려줌\n",
        "```\n"
      ]
    },
    {
      "cell_type": "code",
      "metadata": {
        "id": "zL-ERaX7ihe6",
        "outputId": "4f5bd1eb-2e15-454d-a293-53f5cf4c4c6f",
        "colab": {
          "base_uri": "https://localhost:8080/"
        }
      },
      "source": [
        "install.packages(c(\"tidyverse\", \"data.table\", \"caret\", \"e1071\"))\n",
        "library(tidyverse)\n",
        "library(data.table)\n",
        "options(repr.plot.width=10, repr.plot.height=10)"
      ],
      "execution_count": null,
      "outputs": [
        {
          "output_type": "stream",
          "text": [
            "Installing packages into ‘/usr/local/lib/R/site-library’\n",
            "(as ‘lib’ is unspecified)\n",
            "\n",
            "also installing the dependencies ‘numDeriv’, ‘SQUAREM’, ‘lava’, ‘prodlim’, ‘iterators’, ‘gower’, ‘ipred’, ‘timeDate’, ‘foreach’, ‘plyr’, ‘ModelMetrics’, ‘reshape2’, ‘recipes’, ‘pROC’\n",
            "\n",
            "\n",
            "── \u001b[1mAttaching packages\u001b[22m ─────────────────────────────────────── tidyverse 1.3.0 ──\n",
            "\n",
            "\u001b[32m✔\u001b[39m \u001b[34mggplot2\u001b[39m 3.3.2     \u001b[32m✔\u001b[39m \u001b[34mpurrr  \u001b[39m 0.3.4\n",
            "\u001b[32m✔\u001b[39m \u001b[34mtibble \u001b[39m 3.0.4     \u001b[32m✔\u001b[39m \u001b[34mdplyr  \u001b[39m 1.0.2\n",
            "\u001b[32m✔\u001b[39m \u001b[34mtidyr  \u001b[39m 1.1.2     \u001b[32m✔\u001b[39m \u001b[34mstringr\u001b[39m 1.4.0\n",
            "\u001b[32m✔\u001b[39m \u001b[34mreadr  \u001b[39m 1.4.0     \u001b[32m✔\u001b[39m \u001b[34mforcats\u001b[39m 0.5.0\n",
            "\n",
            "── \u001b[1mConflicts\u001b[22m ────────────────────────────────────────── tidyverse_conflicts() ──\n",
            "\u001b[31m✖\u001b[39m \u001b[34mdplyr\u001b[39m::\u001b[32mfilter()\u001b[39m masks \u001b[34mstats\u001b[39m::filter()\n",
            "\u001b[31m✖\u001b[39m \u001b[34mdplyr\u001b[39m::\u001b[32mlag()\u001b[39m    masks \u001b[34mstats\u001b[39m::lag()\n",
            "\n",
            "\n",
            "Attaching package: ‘data.table’\n",
            "\n",
            "\n",
            "The following objects are masked from ‘package:dplyr’:\n",
            "\n",
            "    between, first, last\n",
            "\n",
            "\n",
            "The following object is masked from ‘package:purrr’:\n",
            "\n",
            "    transpose\n",
            "\n",
            "\n"
          ],
          "name": "stderr"
        }
      ]
    },
    {
      "cell_type": "markdown",
      "metadata": {
        "id": "Bid1xhS0r9OH"
      },
      "source": [
        "#### **A. 예제 1**\n",
        "\n",
        "---\n"
      ]
    },
    {
      "cell_type": "markdown",
      "metadata": {
        "id": "7NjIVZzqc1N5"
      },
      "source": [
        "1. **HR(Human Resource, 인사관리)_연습데이터([링크](https://www.dropbox.com/sh/xx1w2syi768kfu0/AACZgxgo1fcxyDMgv9U-iTz8a?dl=0))**\n",
        "\n",
        "* 변수 설명\n",
        "\n",
        "```\n",
        "satisfaction_level : 직무 만족도\n",
        "last_evaluation : 마지막 평가점수\n",
        "number_project : 진행 프로젝트 수\n",
        "average_monthly_hours : 월평균 근무시간\n",
        "time_spend_company : 근속년수\n",
        "work_accident : 사건사고 여부(0: 없음, 1: 있음, 범주형)\n",
        "left : 이직 여부(0: 잔류, 1: 이직, 범주형)\n",
        "promotion_last_5years: 최근 5년간 승진여부(0: 승진 x, 1: 승진, 범주형)\n",
        "sales : 부서(범주형)\n",
        "salary : 임금 수준(범주형)\n",
        "```\n"
      ]
    },
    {
      "cell_type": "code",
      "metadata": {
        "id": "M0LVsaGdcbDm"
      },
      "source": [
        "# 자신의 깃허브에서 자료를 읽어온다.\n",
        "hr_DF <- fread(\"https://raw.githubusercontent.com/Jin0331/TA/master/data/HR_comma_sep.csv\", sep = \",\") %>% as_tibble()"
      ],
      "execution_count": null,
      "outputs": []
    },
    {
      "cell_type": "code",
      "metadata": {
        "id": "DROEyYyPUj1C",
        "outputId": "87bec914-3107-4512-c531-afab4440abba",
        "colab": {
          "base_uri": "https://localhost:8080/"
        }
      },
      "source": [
        "hr_DF %>% str()"
      ],
      "execution_count": null,
      "outputs": [
        {
          "output_type": "stream",
          "text": [
            "tibble [14,999 × 10] (S3: tbl_df/tbl/data.frame)\n",
            " $ satisfaction_level   : num [1:14999] 0.38 0.8 0.11 0.72 0.37 0.41 0.1 0.92 0.89 0.42 ...\n",
            " $ last_evaluation      : num [1:14999] 0.53 0.86 0.88 0.87 0.52 0.5 0.77 0.85 1 0.53 ...\n",
            " $ number_project       : int [1:14999] 2 5 7 5 2 2 6 5 5 2 ...\n",
            " $ average_montly_hours : int [1:14999] 157 262 272 223 159 153 247 259 224 142 ...\n",
            " $ time_spend_company   : int [1:14999] 3 6 4 5 3 3 4 5 5 3 ...\n",
            " $ Work_accident        : int [1:14999] 0 0 0 0 0 0 0 0 0 0 ...\n",
            " $ left                 : int [1:14999] 1 1 1 1 1 1 1 1 1 1 ...\n",
            " $ promotion_last_5years: int [1:14999] 0 0 0 0 0 0 0 0 0 0 ...\n",
            " $ sales                : chr [1:14999] \"sales\" \"sales\" \"sales\" \"sales\" ...\n",
            " $ salary               : chr [1:14999] \"low\" \"medium\" \"medium\" \"low\" ...\n",
            " - attr(*, \".internal.selfref\")=<externalptr> \n"
          ],
          "name": "stdout"
        }
      ]
    },
    {
      "cell_type": "code",
      "metadata": {
        "id": "NSJx9ofMv1Ba",
        "outputId": "126c330b-7dad-4924-c674-258c8faeddb4",
        "colab": {
          "base_uri": "https://localhost:8080/",
          "height": 395
        }
      },
      "source": [
        "hr_DF %>% summary()"
      ],
      "execution_count": null,
      "outputs": [
        {
          "output_type": "display_data",
          "data": {
            "text/plain": [
              " satisfaction_level last_evaluation  number_project  average_montly_hours\n",
              " Min.   :0.0900     Min.   :0.3600   Min.   :2.000   Min.   : 96.0       \n",
              " 1st Qu.:0.4400     1st Qu.:0.5600   1st Qu.:3.000   1st Qu.:156.0       \n",
              " Median :0.6400     Median :0.7200   Median :4.000   Median :200.0       \n",
              " Mean   :0.6128     Mean   :0.7161   Mean   :3.803   Mean   :201.1       \n",
              " 3rd Qu.:0.8200     3rd Qu.:0.8700   3rd Qu.:5.000   3rd Qu.:245.0       \n",
              " Max.   :1.0000     Max.   :1.0000   Max.   :7.000   Max.   :310.0       \n",
              " time_spend_company Work_accident         left        promotion_last_5years\n",
              " Min.   : 2.000     Min.   :0.0000   Min.   :0.0000   Min.   :0.00000      \n",
              " 1st Qu.: 3.000     1st Qu.:0.0000   1st Qu.:0.0000   1st Qu.:0.00000      \n",
              " Median : 3.000     Median :0.0000   Median :0.0000   Median :0.00000      \n",
              " Mean   : 3.498     Mean   :0.1446   Mean   :0.2381   Mean   :0.02127      \n",
              " 3rd Qu.: 4.000     3rd Qu.:0.0000   3rd Qu.:0.0000   3rd Qu.:0.00000      \n",
              " Max.   :10.000     Max.   :1.0000   Max.   :1.0000   Max.   :1.00000      \n",
              "    sales              salary         \n",
              " Length:14999       Length:14999      \n",
              " Class :character   Class :character  \n",
              " Mode  :character   Mode  :character  \n",
              "                                      \n",
              "                                      \n",
              "                                      "
            ]
          },
          "metadata": {
            "tags": []
          }
        }
      ]
    },
    {
      "cell_type": "markdown",
      "metadata": {
        "id": "TSSxKvv8k4fP"
      },
      "source": [
        "* 범주형 변수 확인"
      ]
    },
    {
      "cell_type": "code",
      "metadata": {
        "id": "cGQoIIMqkcUt",
        "outputId": "0cce127c-e2c4-4898-e199-915138ff9f3b",
        "colab": {
          "base_uri": "https://localhost:8080/",
          "height": 34
        }
      },
      "source": [
        "# unique를 사용하여 salary가 char형인지 확인한다.\n",
        "# 범주형으로 바꿔준다. -> 밑에 값들도 char형인 것을 알 수 있다. -> 더미변수로 바꿔준다.\n",
        "# 더미변수는 범주형 변수를 연속형 변수로 변환한 것인데, 정확히 따지자면 연속형 변수\"스럽게\" 만든 것이다.\n",
        "\n",
        "\n",
        "hr_DF$sales %>% unique() # 범주형~"
      ],
      "execution_count": null,
      "outputs": [
        {
          "output_type": "display_data",
          "data": {
            "text/plain": [
              " [1] \"sales\"       \"accounting\"  \"hr\"          \"technical\"   \"support\"    \n",
              " [6] \"management\"  \"IT\"          \"product_mng\" \"marketing\"   \"RandD\"      "
            ],
            "text/latex": "\\begin{enumerate*}\n\\item 'sales'\n\\item 'accounting'\n\\item 'hr'\n\\item 'technical'\n\\item 'support'\n\\item 'management'\n\\item 'IT'\n\\item 'product\\_mng'\n\\item 'marketing'\n\\item 'RandD'\n\\end{enumerate*}\n",
            "text/markdown": "1. 'sales'\n2. 'accounting'\n3. 'hr'\n4. 'technical'\n5. 'support'\n6. 'management'\n7. 'IT'\n8. 'product_mng'\n9. 'marketing'\n10. 'RandD'\n\n\n",
            "text/html": [
              "<style>\n",
              ".list-inline {list-style: none; margin:0; padding: 0}\n",
              ".list-inline>li {display: inline-block}\n",
              ".list-inline>li:not(:last-child)::after {content: \"\\00b7\"; padding: 0 .5ex}\n",
              "</style>\n",
              "<ol class=list-inline><li>'sales'</li><li>'accounting'</li><li>'hr'</li><li>'technical'</li><li>'support'</li><li>'management'</li><li>'IT'</li><li>'product_mng'</li><li>'marketing'</li><li>'RandD'</li></ol>\n"
            ]
          },
          "metadata": {
            "tags": []
          }
        }
      ]
    },
    {
      "cell_type": "code",
      "metadata": {
        "id": "PFpOLqmTkzxo",
        "outputId": "034de5e0-c792-4f39-9932-d9ea42e4c585",
        "colab": {
          "base_uri": "https://localhost:8080/",
          "height": 34
        }
      },
      "source": [
        "hr_DF$salary %>% unique()"
      ],
      "execution_count": null,
      "outputs": [
        {
          "output_type": "display_data",
          "data": {
            "text/plain": [
              "[1] \"low\"    \"medium\" \"high\"  "
            ],
            "text/latex": "\\begin{enumerate*}\n\\item 'low'\n\\item 'medium'\n\\item 'high'\n\\end{enumerate*}\n",
            "text/markdown": "1. 'low'\n2. 'medium'\n3. 'high'\n\n\n",
            "text/html": [
              "<style>\n",
              ".list-inline {list-style: none; margin:0; padding: 0}\n",
              ".list-inline>li {display: inline-block}\n",
              ".list-inline>li:not(:last-child)::after {content: \"\\00b7\"; padding: 0 .5ex}\n",
              "</style>\n",
              "<ol class=list-inline><li>'low'</li><li>'medium'</li><li>'high'</li></ol>\n"
            ]
          },
          "metadata": {
            "tags": []
          }
        }
      ]
    },
    {
      "cell_type": "code",
      "metadata": {
        "id": "YsxyhuWYlEoQ",
        "outputId": "48217062-9e4e-4e28-cd88-5dca6f91deef",
        "colab": {
          "base_uri": "https://localhost:8080/",
          "height": 34
        }
      },
      "source": [
        "hr_DF$Work_accident %>% unique()"
      ],
      "execution_count": null,
      "outputs": [
        {
          "output_type": "display_data",
          "data": {
            "text/plain": [
              "[1] 0 1"
            ],
            "text/latex": "\\begin{enumerate*}\n\\item 0\n\\item 1\n\\end{enumerate*}\n",
            "text/markdown": "1. 0\n2. 1\n\n\n",
            "text/html": [
              "<style>\n",
              ".list-inline {list-style: none; margin:0; padding: 0}\n",
              ".list-inline>li {display: inline-block}\n",
              ".list-inline>li:not(:last-child)::after {content: \"\\00b7\"; padding: 0 .5ex}\n",
              "</style>\n",
              "<ol class=list-inline><li>0</li><li>1</li></ol>\n"
            ]
          },
          "metadata": {
            "tags": []
          }
        }
      ]
    },
    {
      "cell_type": "code",
      "metadata": {
        "id": "8WXLnVpNlNTT",
        "outputId": "bd66bc18-a215-4d68-8e6b-6bbc562a4309",
        "colab": {
          "base_uri": "https://localhost:8080/",
          "height": 34
        }
      },
      "source": [
        "hr_DF$left %>% unique()"
      ],
      "execution_count": null,
      "outputs": [
        {
          "output_type": "display_data",
          "data": {
            "text/plain": [
              "[1] 1 0"
            ],
            "text/latex": "\\begin{enumerate*}\n\\item 1\n\\item 0\n\\end{enumerate*}\n",
            "text/markdown": "1. 1\n2. 0\n\n\n",
            "text/html": [
              "<style>\n",
              ".list-inline {list-style: none; margin:0; padding: 0}\n",
              ".list-inline>li {display: inline-block}\n",
              ".list-inline>li:not(:last-child)::after {content: \"\\00b7\"; padding: 0 .5ex}\n",
              "</style>\n",
              "<ol class=list-inline><li>1</li><li>0</li></ol>\n"
            ]
          },
          "metadata": {
            "tags": []
          }
        }
      ]
    },
    {
      "cell_type": "code",
      "metadata": {
        "id": "4dCZbI5XlR1y",
        "outputId": "0a0a8d7c-ea48-4849-d20e-639d6c80d95d",
        "colab": {
          "base_uri": "https://localhost:8080/",
          "height": 34
        }
      },
      "source": [
        "hr_DF$promotion_last_5years %>% unique()"
      ],
      "execution_count": null,
      "outputs": [
        {
          "output_type": "display_data",
          "data": {
            "text/plain": [
              "[1] 0 1"
            ],
            "text/latex": "\\begin{enumerate*}\n\\item 0\n\\item 1\n\\end{enumerate*}\n",
            "text/markdown": "1. 0\n2. 1\n\n\n",
            "text/html": [
              "<style>\n",
              ".list-inline {list-style: none; margin:0; padding: 0}\n",
              ".list-inline>li {display: inline-block}\n",
              ".list-inline>li:not(:last-child)::after {content: \"\\00b7\"; padding: 0 .5ex}\n",
              "</style>\n",
              "<ol class=list-inline><li>0</li><li>1</li></ol>\n"
            ]
          },
          "metadata": {
            "tags": []
          }
        }
      ]
    },
    {
      "cell_type": "markdown",
      "metadata": {
        "id": "S-bSCMrklzuc"
      },
      "source": [
        "* mutate를 이용한 데이터 타입 변경(int or chr ---> factor)"
      ]
    },
    {
      "cell_type": "code",
      "metadata": {
        "id": "CnhUVUaLlzL5",
        "outputId": "de52eed5-a388-48f0-d4b9-86cb8cd7644f",
        "colab": {
          "base_uri": "https://localhost:8080/"
        }
      },
      "source": [
        "# 데이터 타입을 범주형에서 facter로 바꿔준다. \n",
        "# 값을 넘겨줄때는 꼭 벡터형식(c())으로 넘겨줘야 한다. \n",
        "# char형이 facter로 바뀐것을 볼 수 있다.\n",
        "\n",
        "hr_DF <- hr_DF %>% mutate_at(`.vars` = c(\"sales\", \"salary\", \"Work_accident\", \"left\", \"promotion_last_5years\"), `.funs` = as.factor)\n",
        "hr_DF %>% str()"
      ],
      "execution_count": null,
      "outputs": [
        {
          "output_type": "stream",
          "text": [
            "tibble [14,999 × 10] (S3: tbl_df/tbl/data.frame)\n",
            " $ satisfaction_level   : num [1:14999] 0.38 0.8 0.11 0.72 0.37 0.41 0.1 0.92 0.89 0.42 ...\n",
            " $ last_evaluation      : num [1:14999] 0.53 0.86 0.88 0.87 0.52 0.5 0.77 0.85 1 0.53 ...\n",
            " $ number_project       : int [1:14999] 2 5 7 5 2 2 6 5 5 2 ...\n",
            " $ average_montly_hours : int [1:14999] 157 262 272 223 159 153 247 259 224 142 ...\n",
            " $ time_spend_company   : int [1:14999] 3 6 4 5 3 3 4 5 5 3 ...\n",
            " $ Work_accident        : Factor w/ 2 levels \"0\",\"1\": 1 1 1 1 1 1 1 1 1 1 ...\n",
            " $ left                 : Factor w/ 2 levels \"0\",\"1\": 2 2 2 2 2 2 2 2 2 2 ...\n",
            " $ promotion_last_5years: Factor w/ 2 levels \"0\",\"1\": 1 1 1 1 1 1 1 1 1 1 ...\n",
            " $ sales                : Factor w/ 10 levels \"accounting\",\"hr\",..: 8 8 8 8 8 8 8 8 8 8 ...\n",
            " $ salary               : Factor w/ 3 levels \"high\",\"low\",\"medium\": 2 3 3 2 2 2 2 2 2 2 ...\n",
            " - attr(*, \".internal.selfref\")=<externalptr> \n"
          ],
          "name": "stdout"
        }
      ]
    },
    {
      "cell_type": "markdown",
      "metadata": {
        "id": "-0KBnrAtsHJI"
      },
      "source": [
        "* **train-test split**"
      ]
    },
    {
      "cell_type": "code",
      "metadata": {
        "id": "V-MB6B_IsOiM",
        "outputId": "378f667c-4131-4833-d341-fee813219ccb",
        "colab": {
          "base_uri": "https://localhost:8080/",
          "height": 919
        }
      },
      "source": [
        "# train set, test set 데이터로 나눠준다.\n",
        "# caret 패키지의 createDataPartition를 이용해 데이터를 나눠준다.\n",
        "\n",
        "library(caret) \n",
        "set.seed(31)\n",
        "\n",
        "index <- createDataPartition(y = hr_DF$left, p = 0.7, list = FALSE) # y에 반응변수인 left(이직여부)값을 넣어준다. \n",
        "head(index, 30)# train set 데이터 보기 "
      ],
      "execution_count": null,
      "outputs": [
        {
          "output_type": "stream",
          "text": [
            "Loading required package: lattice\n",
            "\n",
            "\n",
            "Attaching package: ‘caret’\n",
            "\n",
            "\n",
            "The following object is masked from ‘package:purrr’:\n",
            "\n",
            "    lift\n",
            "\n",
            "\n"
          ],
          "name": "stderr"
        },
        {
          "output_type": "display_data",
          "data": {
            "text/plain": [
              "      Resample1\n",
              " [1,]  1       \n",
              " [2,]  2       \n",
              " [3,]  3       \n",
              " [4,] 10       \n",
              " [5,] 11       \n",
              " [6,] 13       \n",
              " [7,] 14       \n",
              " [8,] 15       \n",
              " [9,] 17       \n",
              "[10,] 18       \n",
              "[11,] 19       \n",
              "[12,] 20       \n",
              "[13,] 21       \n",
              "[14,] 23       \n",
              "[15,] 24       \n",
              "[16,] 25       \n",
              "[17,] 26       \n",
              "[18,] 27       \n",
              "[19,] 28       \n",
              "[20,] 29       \n",
              "[21,] 30       \n",
              "[22,] 31       \n",
              "[23,] 33       \n",
              "[24,] 34       \n",
              "[25,] 35       \n",
              "[26,] 36       \n",
              "[27,] 37       \n",
              "[28,] 38       \n",
              "[29,] 41       \n",
              "[30,] 42       "
            ],
            "text/latex": "A matrix: 30 × 1 of type int\n\\begin{tabular}{l}\n Resample1\\\\\n\\hline\n\t  1\\\\\n\t  2\\\\\n\t  3\\\\\n\t 10\\\\\n\t 11\\\\\n\t 13\\\\\n\t 14\\\\\n\t 15\\\\\n\t 17\\\\\n\t 18\\\\\n\t 19\\\\\n\t 20\\\\\n\t 21\\\\\n\t 23\\\\\n\t 24\\\\\n\t 25\\\\\n\t 26\\\\\n\t 27\\\\\n\t 28\\\\\n\t 29\\\\\n\t 30\\\\\n\t 31\\\\\n\t 33\\\\\n\t 34\\\\\n\t 35\\\\\n\t 36\\\\\n\t 37\\\\\n\t 38\\\\\n\t 41\\\\\n\t 42\\\\\n\\end{tabular}\n",
            "text/markdown": "\nA matrix: 30 × 1 of type int\n\n| Resample1 |\n|---|\n|  1 |\n|  2 |\n|  3 |\n| 10 |\n| 11 |\n| 13 |\n| 14 |\n| 15 |\n| 17 |\n| 18 |\n| 19 |\n| 20 |\n| 21 |\n| 23 |\n| 24 |\n| 25 |\n| 26 |\n| 27 |\n| 28 |\n| 29 |\n| 30 |\n| 31 |\n| 33 |\n| 34 |\n| 35 |\n| 36 |\n| 37 |\n| 38 |\n| 41 |\n| 42 |\n\n",
            "text/html": [
              "<table>\n",
              "<caption>A matrix: 30 × 1 of type int</caption>\n",
              "<thead>\n",
              "\t<tr><th scope=col>Resample1</th></tr>\n",
              "</thead>\n",
              "<tbody>\n",
              "\t<tr><td> 1</td></tr>\n",
              "\t<tr><td> 2</td></tr>\n",
              "\t<tr><td> 3</td></tr>\n",
              "\t<tr><td>10</td></tr>\n",
              "\t<tr><td>11</td></tr>\n",
              "\t<tr><td>13</td></tr>\n",
              "\t<tr><td>14</td></tr>\n",
              "\t<tr><td>15</td></tr>\n",
              "\t<tr><td>17</td></tr>\n",
              "\t<tr><td>18</td></tr>\n",
              "\t<tr><td>19</td></tr>\n",
              "\t<tr><td>20</td></tr>\n",
              "\t<tr><td>21</td></tr>\n",
              "\t<tr><td>23</td></tr>\n",
              "\t<tr><td>24</td></tr>\n",
              "\t<tr><td>25</td></tr>\n",
              "\t<tr><td>26</td></tr>\n",
              "\t<tr><td>27</td></tr>\n",
              "\t<tr><td>28</td></tr>\n",
              "\t<tr><td>29</td></tr>\n",
              "\t<tr><td>30</td></tr>\n",
              "\t<tr><td>31</td></tr>\n",
              "\t<tr><td>33</td></tr>\n",
              "\t<tr><td>34</td></tr>\n",
              "\t<tr><td>35</td></tr>\n",
              "\t<tr><td>36</td></tr>\n",
              "\t<tr><td>37</td></tr>\n",
              "\t<tr><td>38</td></tr>\n",
              "\t<tr><td>41</td></tr>\n",
              "\t<tr><td>42</td></tr>\n",
              "</tbody>\n",
              "</table>\n"
            ]
          },
          "metadata": {
            "tags": []
          }
        }
      ]
    },
    {
      "cell_type": "code",
      "metadata": {
        "id": "HJHG3dZntVUo",
        "outputId": "9e636214-7990-488b-d1c0-22d5d8be0da5",
        "colab": {
          "base_uri": "https://localhost:8080/"
        }
      },
      "source": [
        "# train 과 test 데이터에 뭐가 들어있는지 본다. \n",
        "train <- hr_DF[index, ]# 70%의 데이터가 들어감\n",
        "test <- hr_DF[-index, ]# 30%의 데이터가 들어감\n",
        "\n",
        "train %>% show()\n",
        "test %>% show()"
      ],
      "execution_count": null,
      "outputs": [
        {
          "output_type": "stream",
          "text": [
            "Warning message:\n",
            "“The `i` argument of ``[`()` can't be a matrix as of tibble 3.0.0.\n",
            "Convert to a vector.\n",
            "\u001b[90mThis warning is displayed once every 8 hours.\u001b[39m\n",
            "\u001b[90mCall `lifecycle::last_warnings()` to see where this warning was generated.\u001b[39m”\n"
          ],
          "name": "stderr"
        },
        {
          "output_type": "stream",
          "text": [
            "\u001b[90m# A tibble: 10,500 x 10\u001b[39m\n",
            "   satisfaction_le… last_evaluation number_project average_montly_…\n",
            "              \u001b[3m\u001b[90m<dbl>\u001b[39m\u001b[23m           \u001b[3m\u001b[90m<dbl>\u001b[39m\u001b[23m          \u001b[3m\u001b[90m<int>\u001b[39m\u001b[23m            \u001b[3m\u001b[90m<int>\u001b[39m\u001b[23m\n",
            "\u001b[90m 1\u001b[39m             0.38            0.53              2              157\n",
            "\u001b[90m 2\u001b[39m             0.8             0.86              5              262\n",
            "\u001b[90m 3\u001b[39m             0.11            0.88              7              272\n",
            "\u001b[90m 4\u001b[39m             0.42            0.53              2              142\n",
            "\u001b[90m 5\u001b[39m             0.45            0.54              2              135\n",
            "\u001b[90m 6\u001b[39m             0.84            0.92              4              234\n",
            "\u001b[90m 7\u001b[39m             0.41            0.55              2              148\n",
            "\u001b[90m 8\u001b[39m             0.36            0.56              2              137\n",
            "\u001b[90m 9\u001b[39m             0.45            0.47              2              160\n",
            "\u001b[90m10\u001b[39m             0.78            0.99              4              255\n",
            "\u001b[90m# … with 10,490 more rows, and 6 more variables: time_spend_company \u001b[3m\u001b[90m<int>\u001b[90m\u001b[23m,\u001b[39m\n",
            "\u001b[90m#   Work_accident \u001b[3m\u001b[90m<fct>\u001b[90m\u001b[23m, left \u001b[3m\u001b[90m<fct>\u001b[90m\u001b[23m, promotion_last_5years \u001b[3m\u001b[90m<fct>\u001b[90m\u001b[23m, sales \u001b[3m\u001b[90m<fct>\u001b[90m\u001b[23m,\u001b[39m\n",
            "\u001b[90m#   salary \u001b[3m\u001b[90m<fct>\u001b[90m\u001b[23m\u001b[39m\n",
            "\u001b[90m# A tibble: 4,499 x 10\u001b[39m\n",
            "   satisfaction_le… last_evaluation number_project average_montly_…\n",
            "              \u001b[3m\u001b[90m<dbl>\u001b[39m\u001b[23m           \u001b[3m\u001b[90m<dbl>\u001b[39m\u001b[23m          \u001b[3m\u001b[90m<int>\u001b[39m\u001b[23m            \u001b[3m\u001b[90m<int>\u001b[39m\u001b[23m\n",
            "\u001b[90m 1\u001b[39m             0.72           0.87               5              223\n",
            "\u001b[90m 2\u001b[39m             0.37           0.52               2              159\n",
            "\u001b[90m 3\u001b[39m             0.41           0.5                2              153\n",
            "\u001b[90m 4\u001b[39m             0.1            0.77               6              247\n",
            "\u001b[90m 5\u001b[39m             0.92           0.85               5              259\n",
            "\u001b[90m 6\u001b[39m             0.89           1                  5              224\n",
            "\u001b[90m 7\u001b[39m             0.11           0.81               6              305\n",
            "\u001b[90m 8\u001b[39m             0.38           0.54               2              143\n",
            "\u001b[90m 9\u001b[39m             0.38           0.55               2              147\n",
            "\u001b[90m10\u001b[39m             0.45           0.570              2              134\n",
            "\u001b[90m# … with 4,489 more rows, and 6 more variables: time_spend_company \u001b[3m\u001b[90m<int>\u001b[90m\u001b[23m,\u001b[39m\n",
            "\u001b[90m#   Work_accident \u001b[3m\u001b[90m<fct>\u001b[90m\u001b[23m, left \u001b[3m\u001b[90m<fct>\u001b[90m\u001b[23m, promotion_last_5years \u001b[3m\u001b[90m<fct>\u001b[90m\u001b[23m, sales \u001b[3m\u001b[90m<fct>\u001b[90m\u001b[23m,\u001b[39m\n",
            "\u001b[90m#   salary \u001b[3m\u001b[90m<fct>\u001b[90m\u001b[23m\u001b[39m\n"
          ],
          "name": "stdout"
        }
      ]
    },
    {
      "cell_type": "markdown",
      "metadata": {
        "id": "ciEOgrkNrH73"
      },
      "source": [
        "* **train set을 이용한 glm 모델 생성**"
      ]
    },
    {
      "cell_type": "code",
      "metadata": {
        "id": "j7FJFHFCdr4X",
        "outputId": "585f19a6-0f5d-421b-d494-ea5ec15ff884",
        "colab": {
          "base_uri": "https://localhost:8080/",
          "height": 719
        }
      },
      "source": [
        "# 로지스틱 회귀 이용하기 위해 glm함수 이용한다.\n",
        "# glm(formula(반응변수와 설명변수), data, family='binomial'(변수가 범주형 이라는 것을 알려주는것))\n",
        "\n",
        "m <- glm(left ~ ., data = train, family = \"binomial\")# 반응변수 = left , 설명변수 = 반응변수 제외한 모든변수\n",
        "summary(m)"
      ],
      "execution_count": null,
      "outputs": [
        {
          "output_type": "display_data",
          "data": {
            "text/plain": [
              "\n",
              "Call:\n",
              "glm(formula = left ~ ., family = \"binomial\", data = train)\n",
              "\n",
              "Deviance Residuals: \n",
              "    Min       1Q   Median       3Q      Max  \n",
              "-2.2035  -0.6677  -0.4059  -0.1184   3.0579  \n",
              "\n",
              "Coefficients:\n",
              "                         Estimate Std. Error z value Pr(>|z|)    \n",
              "(Intercept)            -1.5464001  0.2273690  -6.801 1.04e-11 ***\n",
              "satisfaction_level     -4.0225402  0.1162796 -34.594  < 2e-16 ***\n",
              "last_evaluation         0.8681242  0.1783553   4.867 1.13e-06 ***\n",
              "number_project         -0.3479601  0.0257245 -13.526  < 2e-16 ***\n",
              "average_montly_hours    0.0050275  0.0006191   8.120 4.65e-16 ***\n",
              "time_spend_company      0.2701369  0.0183922  14.688  < 2e-16 ***\n",
              "Work_accident1         -1.5366742  0.1049083 -14.648  < 2e-16 ***\n",
              "promotion_last_5years1 -1.4566851  0.3135596  -4.646 3.39e-06 ***\n",
              "saleshr                 0.1779171  0.1545426   1.151   0.2496    \n",
              "salesIT                -0.2022059  0.1422503  -1.421   0.1552    \n",
              "salesmanagement        -0.4062356  0.1873302  -2.169   0.0301 *  \n",
              "salesmarketing         -0.1182597  0.1558713  -0.759   0.4480    \n",
              "salesproduct_mng       -0.2242341  0.1522441  -1.473   0.1408    \n",
              "salesRandD             -0.6706413  0.1709754  -3.922 8.77e-05 ***\n",
              "salessales             -0.1595052  0.1195678  -1.334   0.1822    \n",
              "salessupport           -0.0377623  0.1276346  -0.296   0.7673    \n",
              "salestechnical         -0.0126186  0.1247642  -0.101   0.9194    \n",
              "salarylow               1.9493126  0.1516900  12.851  < 2e-16 ***\n",
              "salarymedium            1.4088661  0.1526109   9.232  < 2e-16 ***\n",
              "---\n",
              "Signif. codes:  0 ‘***’ 0.001 ‘**’ 0.01 ‘*’ 0.05 ‘.’ 0.1 ‘ ’ 1\n",
              "\n",
              "(Dispersion parameter for binomial family taken to be 1)\n",
              "\n",
              "    Null deviance: 11526.4  on 10499  degrees of freedom\n",
              "Residual deviance:  9058.4  on 10481  degrees of freedom\n",
              "AIC: 9096.4\n",
              "\n",
              "Number of Fisher Scoring iterations: 5\n"
            ]
          },
          "metadata": {
            "tags": []
          }
        }
      ]
    },
    {
      "cell_type": "markdown",
      "metadata": {
        "id": "SLy66QB_sMDa"
      },
      "source": [
        "* feature selection"
      ]
    },
    {
      "cell_type": "code",
      "metadata": {
        "id": "J4PTwoj4sLmV",
        "outputId": "e6cb11fc-73b9-4217-dcdf-8876c948b649",
        "colab": {
          "base_uri": "https://localhost:8080/"
        }
      },
      "source": [
        "# 모든 변수 포함해서 모델 만들고 불필요한 변수를 제거해 나가는 방법\n",
        "# 변수를 제거하기 위해서 -> 관련없는 변수 제거하기 위해 사용\n",
        "# 결과적으로 잘 삭제가 안됨. -> 직접 제거해야 줘야함\n",
        "\n",
        "m2 <- step(m, direction = \"backward\")"
      ],
      "execution_count": null,
      "outputs": [
        {
          "output_type": "stream",
          "text": [
            "Start:  AIC=9096.4\n",
            "left ~ satisfaction_level + last_evaluation + number_project + \n",
            "    average_montly_hours + time_spend_company + Work_accident + \n",
            "    promotion_last_5years + sales + salary\n",
            "\n",
            "                        Df Deviance     AIC\n",
            "<none>                       9058.4  9096.4\n",
            "- sales                  9   9096.4  9116.4\n",
            "- last_evaluation        1   9082.2  9118.2\n",
            "- promotion_last_5years  1   9087.5  9123.5\n",
            "- average_montly_hours   1   9125.3  9161.3\n",
            "- number_project         1   9251.0  9287.0\n",
            "- time_spend_company     1   9269.6  9305.6\n",
            "- salary                 2   9339.4  9373.4\n",
            "- Work_accident          1   9341.5  9377.5\n",
            "- satisfaction_level     1  10509.7 10545.7\n"
          ],
          "name": "stdout"
        }
      ]
    },
    {
      "cell_type": "code",
      "metadata": {
        "id": "33AkYswAsq5F",
        "outputId": "a0c4f7c4-ebec-4392-e834-ada6d8000afa",
        "colab": {
          "base_uri": "https://localhost:8080/",
          "height": 773
        }
      },
      "source": [
        "# 제거가 잘 안되는것을 알 수 있다. -> sales 가 더미변수로 변하면서 유의한 변수들이 많기때문에 제거가 안됨\n",
        "# 더미변수는 범주형 변수를 연속형 변수로 변환한 것인데, 정확히 따지자면 연속형 변수\"스럽게\" 만든 것이다.\n",
        "\n",
        "summary(m2)"
      ],
      "execution_count": null,
      "outputs": [
        {
          "output_type": "display_data",
          "data": {
            "text/plain": [
              "\n",
              "Call:\n",
              "glm(formula = left ~ satisfaction_level + last_evaluation + number_project + \n",
              "    average_montly_hours + time_spend_company + Work_accident + \n",
              "    promotion_last_5years + sales + salary, family = \"binomial\", \n",
              "    data = train)\n",
              "\n",
              "Deviance Residuals: \n",
              "    Min       1Q   Median       3Q      Max  \n",
              "-2.2035  -0.6677  -0.4059  -0.1184   3.0579  \n",
              "\n",
              "Coefficients:\n",
              "                         Estimate Std. Error z value Pr(>|z|)    \n",
              "(Intercept)            -1.5464001  0.2273690  -6.801 1.04e-11 ***\n",
              "satisfaction_level     -4.0225402  0.1162796 -34.594  < 2e-16 ***\n",
              "last_evaluation         0.8681242  0.1783553   4.867 1.13e-06 ***\n",
              "number_project         -0.3479601  0.0257245 -13.526  < 2e-16 ***\n",
              "average_montly_hours    0.0050275  0.0006191   8.120 4.65e-16 ***\n",
              "time_spend_company      0.2701369  0.0183922  14.688  < 2e-16 ***\n",
              "Work_accident1         -1.5366742  0.1049083 -14.648  < 2e-16 ***\n",
              "promotion_last_5years1 -1.4566851  0.3135596  -4.646 3.39e-06 ***\n",
              "saleshr                 0.1779171  0.1545426   1.151   0.2496    \n",
              "salesIT                -0.2022059  0.1422503  -1.421   0.1552    \n",
              "salesmanagement        -0.4062356  0.1873302  -2.169   0.0301 *  \n",
              "salesmarketing         -0.1182597  0.1558713  -0.759   0.4480    \n",
              "salesproduct_mng       -0.2242341  0.1522441  -1.473   0.1408    \n",
              "salesRandD             -0.6706413  0.1709754  -3.922 8.77e-05 ***\n",
              "salessales             -0.1595052  0.1195678  -1.334   0.1822    \n",
              "salessupport           -0.0377623  0.1276346  -0.296   0.7673    \n",
              "salestechnical         -0.0126186  0.1247642  -0.101   0.9194    \n",
              "salarylow               1.9493126  0.1516900  12.851  < 2e-16 ***\n",
              "salarymedium            1.4088661  0.1526109   9.232  < 2e-16 ***\n",
              "---\n",
              "Signif. codes:  0 ‘***’ 0.001 ‘**’ 0.01 ‘*’ 0.05 ‘.’ 0.1 ‘ ’ 1\n",
              "\n",
              "(Dispersion parameter for binomial family taken to be 1)\n",
              "\n",
              "    Null deviance: 11526.4  on 10499  degrees of freedom\n",
              "Residual deviance:  9058.4  on 10481  degrees of freedom\n",
              "AIC: 9096.4\n",
              "\n",
              "Number of Fisher Scoring iterations: 5\n"
            ]
          },
          "metadata": {
            "tags": []
          }
        }
      ]
    },
    {
      "cell_type": "markdown",
      "metadata": {
        "id": "WYQwDgyJRfN8"
      },
      "source": [
        "* sales 제거"
      ]
    },
    {
      "cell_type": "code",
      "metadata": {
        "id": "sNNFGp3HRh8l",
        "outputId": "76fe52ae-e2ba-4ca9-81a9-ef771ef0bc36",
        "colab": {
          "base_uri": "https://localhost:8080/",
          "height": 593
        }
      },
      "source": [
        "# 직접 sales를 제거해준다.\n",
        "\n",
        "m3 <- update(m2, .~. -sales)\n",
        "summary(m3)"
      ],
      "execution_count": null,
      "outputs": [
        {
          "output_type": "display_data",
          "data": {
            "text/plain": [
              "\n",
              "Call:\n",
              "glm(formula = left ~ satisfaction_level + last_evaluation + number_project + \n",
              "    average_montly_hours + time_spend_company + Work_accident + \n",
              "    promotion_last_5years + salary, family = \"binomial\", data = train)\n",
              "\n",
              "Deviance Residuals: \n",
              "    Min       1Q   Median       3Q      Max  \n",
              "-2.2084  -0.6694  -0.4100  -0.1211   3.0621  \n",
              "\n",
              "Coefficients:\n",
              "                         Estimate Std. Error z value Pr(>|z|)    \n",
              "(Intercept)            -1.6826399  0.2023574  -8.315  < 2e-16 ***\n",
              "satisfaction_level     -4.0259065  0.1159466 -34.722  < 2e-16 ***\n",
              "last_evaluation         0.8689329  0.1778063   4.887 1.02e-06 ***\n",
              "number_project         -0.3493405  0.0256506 -13.619  < 2e-16 ***\n",
              "average_montly_hours    0.0050289  0.0006171   8.149 3.67e-16 ***\n",
              "time_spend_company      0.2655487  0.0182185  14.576  < 2e-16 ***\n",
              "Work_accident1         -1.5430347  0.1047866 -14.725  < 2e-16 ***\n",
              "promotion_last_5years1 -1.4959479  0.3113894  -4.804 1.55e-06 ***\n",
              "salarylow               1.9868484  0.1501964  13.228  < 2e-16 ***\n",
              "salarymedium            1.4483163  0.1512553   9.575  < 2e-16 ***\n",
              "---\n",
              "Signif. codes:  0 ‘***’ 0.001 ‘**’ 0.01 ‘*’ 0.05 ‘.’ 0.1 ‘ ’ 1\n",
              "\n",
              "(Dispersion parameter for binomial family taken to be 1)\n",
              "\n",
              "    Null deviance: 11526.4  on 10499  degrees of freedom\n",
              "Residual deviance:  9096.4  on 10490  degrees of freedom\n",
              "AIC: 9116.4\n",
              "\n",
              "Number of Fisher Scoring iterations: 5\n"
            ]
          },
          "metadata": {
            "tags": []
          }
        }
      ]
    },
    {
      "cell_type": "markdown",
      "metadata": {
        "id": "fbbSbvVlrydd"
      },
      "source": [
        "* **예측**"
      ]
    },
    {
      "cell_type": "code",
      "metadata": {
        "id": "FtVJ2ezqrowr",
        "outputId": "542ab300-4e96-4d77-a561-269fe5c9835e",
        "colab": {
          "base_uri": "https://localhost:8080/"
        }
      },
      "source": [
        "test %>% show()"
      ],
      "execution_count": null,
      "outputs": [
        {
          "output_type": "stream",
          "text": [
            "\u001b[90m# A tibble: 4,499 x 10\u001b[39m\n",
            "   satisfaction_le… last_evaluation number_project average_montly_…\n",
            "              \u001b[3m\u001b[90m<dbl>\u001b[39m\u001b[23m           \u001b[3m\u001b[90m<dbl>\u001b[39m\u001b[23m          \u001b[3m\u001b[90m<int>\u001b[39m\u001b[23m            \u001b[3m\u001b[90m<int>\u001b[39m\u001b[23m\n",
            "\u001b[90m 1\u001b[39m             0.72           0.87               5              223\n",
            "\u001b[90m 2\u001b[39m             0.37           0.52               2              159\n",
            "\u001b[90m 3\u001b[39m             0.41           0.5                2              153\n",
            "\u001b[90m 4\u001b[39m             0.1            0.77               6              247\n",
            "\u001b[90m 5\u001b[39m             0.92           0.85               5              259\n",
            "\u001b[90m 6\u001b[39m             0.89           1                  5              224\n",
            "\u001b[90m 7\u001b[39m             0.11           0.81               6              305\n",
            "\u001b[90m 8\u001b[39m             0.38           0.54               2              143\n",
            "\u001b[90m 9\u001b[39m             0.38           0.55               2              147\n",
            "\u001b[90m10\u001b[39m             0.45           0.570              2              134\n",
            "\u001b[90m# … with 4,489 more rows, and 6 more variables: time_spend_company \u001b[3m\u001b[90m<int>\u001b[90m\u001b[23m,\u001b[39m\n",
            "\u001b[90m#   Work_accident \u001b[3m\u001b[90m<fct>\u001b[90m\u001b[23m, left \u001b[3m\u001b[90m<fct>\u001b[90m\u001b[23m, promotion_last_5years \u001b[3m\u001b[90m<fct>\u001b[90m\u001b[23m, sales \u001b[3m\u001b[90m<fct>\u001b[90m\u001b[23m,\u001b[39m\n",
            "\u001b[90m#   salary \u001b[3m\u001b[90m<fct>\u001b[90m\u001b[23m\u001b[39m\n"
          ],
          "name": "stdout"
        }
      ]
    },
    {
      "cell_type": "code",
      "metadata": {
        "id": "-d4UoeSOuiK7",
        "outputId": "7f1d23fb-7224-4f67-9504-29dd9a2a7061",
        "colab": {
          "base_uri": "https://localhost:8080/"
        }
      },
      "source": [
        "# test set을 이용해 모델을 예측해본다.\n",
        "# 확률값으로 보기 위해서는 로지스틱회귀인 type을 response로 해줘야함 -> 안쓰면 그냥 숫자로 나옴.\n",
        "\n",
        "predict_value <- predict(m3, test, type = \"response\") %>% tibble(predict_value = .)\n",
        "predict_value %>% show()"
      ],
      "execution_count": null,
      "outputs": [
        {
          "output_type": "stream",
          "text": [
            "\u001b[90m# A tibble: 4,499 x 1\u001b[39m\n",
            "   predict_value\n",
            "           \u001b[3m\u001b[90m<dbl>\u001b[39m\u001b[23m\n",
            "\u001b[90m 1\u001b[39m         0.243\n",
            "\u001b[90m 2\u001b[39m         0.541\n",
            "\u001b[90m 3\u001b[39m         0.489\n",
            "\u001b[90m 4\u001b[39m         0.685\n",
            "\u001b[90m 5\u001b[39m         0.145\n",
            "\u001b[90m 6\u001b[39m         0.154\n",
            "\u001b[90m 7\u001b[39m         0.744\n",
            "\u001b[90m 8\u001b[39m         0.515\n",
            "\u001b[90m 9\u001b[39m         0.522\n",
            "\u001b[90m10\u001b[39m         0.440\n",
            "\u001b[90m# … with 4,489 more rows\u001b[39m\n"
          ],
          "name": "stdout"
        }
      ]
    },
    {
      "cell_type": "code",
      "metadata": {
        "id": "JuWZiiMiaYmw",
        "outputId": "b909cf3a-b73f-42db-f646-4213dc10dabd",
        "colab": {
          "base_uri": "https://localhost:8080/"
        }
      },
      "source": [
        "# 진짜값과 예측값 비교하기 위해서\n",
        "# 0.243확률로 이직할 것이다. \n",
        "predict_check <- test %>% select(left) %>% dplyr::bind_cols(., predict_value) \n",
        "predict_check %>% show()"
      ],
      "execution_count": null,
      "outputs": [
        {
          "output_type": "stream",
          "text": [
            "\u001b[90m# A tibble: 4,499 x 2\u001b[39m\n",
            "   left  predict_value\n",
            "   \u001b[3m\u001b[90m<fct>\u001b[39m\u001b[23m         \u001b[3m\u001b[90m<dbl>\u001b[39m\u001b[23m\n",
            "\u001b[90m 1\u001b[39m 1             0.243\n",
            "\u001b[90m 2\u001b[39m 1             0.541\n",
            "\u001b[90m 3\u001b[39m 1             0.489\n",
            "\u001b[90m 4\u001b[39m 1             0.685\n",
            "\u001b[90m 5\u001b[39m 1             0.145\n",
            "\u001b[90m 6\u001b[39m 1             0.154\n",
            "\u001b[90m 7\u001b[39m 1             0.744\n",
            "\u001b[90m 8\u001b[39m 1             0.515\n",
            "\u001b[90m 9\u001b[39m 1             0.522\n",
            "\u001b[90m10\u001b[39m 1             0.440\n",
            "\u001b[90m# … with 4,489 more rows\u001b[39m\n"
          ],
          "name": "stdout"
        }
      ]
    },
    {
      "cell_type": "markdown",
      "metadata": {
        "id": "J94_GWyUa07t"
      },
      "source": [
        "* cut-off value 설정\n",
        " - predict_value > 0.5, left 1(이직)\n",
        " - predict_value <= 0.5, left 0(이직 하지 않음)"
      ]
    },
    {
      "cell_type": "code",
      "metadata": {
        "id": "QrI8w69PbEmG",
        "outputId": "5ad05115-623d-49c4-fe61-e3d3614c0b06",
        "colab": {
          "base_uri": "https://localhost:8080/"
        }
      },
      "source": [
        "# 0.5 이상의 값이 나오면 이직한것(1) 으로 예측한다.\n",
        "# 진짜값은 left = 1(이직함) 인데 예측확률로 본 결과 0.5보다 작아 이직안함(0) 으로 변경된 값은 틀린 예측이다.\n",
        "# cut-off-value = 확률로 나눠서 그 결과가 0.5보다 크면 1, 작으면 0으로 바꿔주는 역할을 함\n",
        "# 적절한 cut_off_value를 설정해야 한다. -> 결과에 엄청난 영향을 미치기 때문에\n",
        "\n",
        "predict_cutoff <- predict_check %>% mutate(predict_value_cutoff = as.factor(ifelse(predict_value > 0.5, 1, 0)))\n",
        "predict_cutoff %>% show()"
      ],
      "execution_count": null,
      "outputs": [
        {
          "output_type": "stream",
          "text": [
            "\u001b[90m# A tibble: 4,499 x 3\u001b[39m\n",
            "   left  predict_value predict_value_cutoff\n",
            "   \u001b[3m\u001b[90m<fct>\u001b[39m\u001b[23m         \u001b[3m\u001b[90m<dbl>\u001b[39m\u001b[23m \u001b[3m\u001b[90m<fct>\u001b[39m\u001b[23m               \n",
            "\u001b[90m 1\u001b[39m 1             0.243 0                   \n",
            "\u001b[90m 2\u001b[39m 1             0.541 1                   \n",
            "\u001b[90m 3\u001b[39m 1             0.489 0                   \n",
            "\u001b[90m 4\u001b[39m 1             0.685 1                   \n",
            "\u001b[90m 5\u001b[39m 1             0.145 0                   \n",
            "\u001b[90m 6\u001b[39m 1             0.154 0                   \n",
            "\u001b[90m 7\u001b[39m 1             0.744 1                   \n",
            "\u001b[90m 8\u001b[39m 1             0.515 1                   \n",
            "\u001b[90m 9\u001b[39m 1             0.522 1                   \n",
            "\u001b[90m10\u001b[39m 1             0.440 0                   \n",
            "\u001b[90m# … with 4,489 more rows\u001b[39m\n"
          ],
          "name": "stdout"
        }
      ]
    },
    {
      "cell_type": "markdown",
      "metadata": {
        "id": "PMn8vY5LbnhB"
      },
      "source": [
        "* Confusion Matrix(실제값과 모델에 의한 분류값을 비교하는 테이블)\n",
        "\n",
        "![png](https://github.com/Jin0331/TA/blob/master/image/confusion_m.png?raw=true)\n",
        "\n",
        "https://yamalab.tistory.com/50"
      ]
    },
    {
      "cell_type": "code",
      "metadata": {
        "id": "HBEngM7DcmMb",
        "outputId": "a2f5b168-26ae-4141-b7fb-760d831c1117",
        "colab": {
          "base_uri": "https://localhost:8080/",
          "height": 503
        }
      },
      "source": [
        "# 교차검증을 이용하면 테이블형태로 보여주기 때문에 더 쉽게 구분할수 있다. -> 예측한 값이 얼마나 맞고 틀렸는지 알 수 있다.\n",
        "# 대각선이 맞은 값\n",
        "# Accuracy = 78% 이기때문에 이 모델은 정확하다고 할 수 있다.\n",
        "\n",
        "caret::confusionMatrix(predict_cutoff$left, predict_cutoff$predict_value_cutoff)"
      ],
      "execution_count": null,
      "outputs": [
        {
          "output_type": "display_data",
          "data": {
            "text/plain": [
              "Confusion Matrix and Statistics\n",
              "\n",
              "          Reference\n",
              "Prediction    0    1\n",
              "         0 3169  259\n",
              "         1  691  380\n",
              "                                          \n",
              "               Accuracy : 0.7888          \n",
              "                 95% CI : (0.7766, 0.8007)\n",
              "    No Information Rate : 0.858           \n",
              "    P-Value [Acc > NIR] : 1               \n",
              "                                          \n",
              "                  Kappa : 0.3242          \n",
              "                                          \n",
              " Mcnemar's Test P-Value : <2e-16          \n",
              "                                          \n",
              "            Sensitivity : 0.8210          \n",
              "            Specificity : 0.5947          \n",
              "         Pos Pred Value : 0.9244          \n",
              "         Neg Pred Value : 0.3548          \n",
              "             Prevalence : 0.8580          \n",
              "         Detection Rate : 0.7044          \n",
              "   Detection Prevalence : 0.7619          \n",
              "      Balanced Accuracy : 0.7078          \n",
              "                                          \n",
              "       'Positive' Class : 0               \n",
              "                                          "
            ]
          },
          "metadata": {
            "tags": []
          }
        }
      ]
    },
    {
      "cell_type": "markdown",
      "metadata": {
        "id": "vskPz6Jjdikc"
      },
      "source": [
        "* ROC curve와 AUC\n",
        " - 여기서 하나 주의할 점은, 위에서 cut-off value를 0.5로 하여 분류했다는 것. 이 cut-off value가 중요한 이유는 그 값에 따라 분류가 천차만별이기 때문에, 모든 cut-off value를 고려하여 결과값의 변화를 살펴봐야하는데, 그 방법을 ROC curve라고 한다.\n",
        "\n",
        "![png](https://github.com/Jin0331/TA/blob/master/image/AUC.png?raw=true)"
      ]
    },
    {
      "cell_type": "code",
      "metadata": {
        "id": "SS0KPedCf_8c",
        "outputId": "52e33c4e-1b6e-49c9-f926-c32735d4833d",
        "colab": {
          "base_uri": "https://localhost:8080/"
        }
      },
      "source": [
        "# ROC 커브를 이용해서 모델의 효율성을 평가한다. -> Cut_off_value를 잘 설정하기 위해서 \n",
        "# x축 = 특이도. y = 민감도\n",
        "#\n",
        "install.packages(\"pROC\")"
      ],
      "execution_count": null,
      "outputs": [
        {
          "output_type": "stream",
          "text": [
            "Installing package into ‘/usr/local/lib/R/site-library’\n",
            "(as ‘lib’ is unspecified)\n",
            "\n"
          ],
          "name": "stderr"
        }
      ]
    },
    {
      "cell_type": "code",
      "metadata": {
        "id": "waJE1Ef0f73Q",
        "outputId": "33d66ba6-487a-416a-e4f0-6cd38250b603",
        "colab": {
          "base_uri": "https://localhost:8080/"
        }
      },
      "source": [
        "# ROC 커브 그리는 패키지\n",
        "\n",
        "library(\"pROC\")"
      ],
      "execution_count": null,
      "outputs": [
        {
          "output_type": "stream",
          "text": [
            "Type 'citation(\"pROC\")' for a citation.\n",
            "\n",
            "\n",
            "Attaching package: ‘pROC’\n",
            "\n",
            "\n",
            "The following objects are masked from ‘package:stats’:\n",
            "\n",
            "    cov, smooth, var\n",
            "\n",
            "\n"
          ],
          "name": "stderr"
        }
      ]
    },
    {
      "cell_type": "code",
      "metadata": {
        "id": "_xiwOUyediGK",
        "outputId": "640abfd6-8c0f-4d1f-e9a0-2dbaaee12ab6",
        "colab": {
          "base_uri": "https://localhost:8080/",
          "height": 689
        }
      },
      "source": [
        "# ROC 커브를 그린다. \n",
        "# x = 특이도,  y =  민감도\n",
        "# AUC = x축과 ROC커브 사이의 면적으로, 1에 가까울수록 효율적인 모델이다. \n",
        "\n",
        "\n",
        "\n",
        "roc_c <- roc(predict_cutoff$left, predict_cutoff$predict_value) # 실제정답과 glm 예측된 확률을 값으로 넘겨준다.\n",
        "plot.roc(roc_c,   \n",
        "        col=\"royalblue\",  \n",
        "        print.auc=TRUE, # AUC 보기위해서\n",
        "        max.auc.polygon=TRUE,   \n",
        "        print.thres=TRUE, print.thres.pch=19, print.thres.col = \"red\",#가장 좋은 cut_off_value 출력해라 -> 0.301이 가장좋은 cut_off_value\n",
        "        auc.polygon=TRUE, auc.polygon.col=\"#D1F2EB\")"
      ],
      "execution_count": null,
      "outputs": [
        {
          "output_type": "stream",
          "text": [
            "Setting levels: control = 0, case = 1\n",
            "\n",
            "Setting direction: controls < cases\n",
            "\n"
          ],
          "name": "stderr"
        },
        {
          "output_type": "display_data",
          "data": {
            "image/png": "[encoded data removed]",
            "text/plain": [
              "plot without title"
            ]
          },
          "metadata": {
            "tags": [],
            "image/png": {
              "width": 600,
              "height": 600
            }
          }
        }
      ]
    },
    {
      "cell_type": "code",
      "metadata": {
        "id": "Fcp6COzugWEr",
        "outputId": "e2465091-7dec-4dfd-b5ea-fe02d25ef671",
        "colab": {
          "base_uri": "https://localhost:8080/",
          "height": 133
        }
      },
      "source": [
        "# 최적의 cut_off_value 를 출력하게 도와주는 함수\n",
        "\n",
        "pROC::coords(roc_c, \"best\", ret = \"threshold\", transpose = F)"
      ],
      "execution_count": null,
      "outputs": [
        {
          "output_type": "display_data",
          "data": {
            "text/plain": [
              "  threshold\n",
              "1 0.3010093"
            ],
            "text/latex": "A data.frame: 1 × 1\n\\begin{tabular}{l}\n threshold\\\\\n <dbl>\\\\\n\\hline\n\t 0.3010093\\\\\n\\end{tabular}\n",
            "text/markdown": "\nA data.frame: 1 × 1\n\n| threshold &lt;dbl&gt; |\n|---|\n| 0.3010093 |\n\n",
            "text/html": [
              "<table>\n",
              "<caption>A data.frame: 1 × 1</caption>\n",
              "<thead>\n",
              "\t<tr><th scope=col>threshold</th></tr>\n",
              "\t<tr><th scope=col>&lt;dbl&gt;</th></tr>\n",
              "</thead>\n",
              "<tbody>\n",
              "\t<tr><td>0.3010093</td></tr>\n",
              "</tbody>\n",
              "</table>\n"
            ]
          },
          "metadata": {
            "tags": []
          }
        }
      ]
    },
    {
      "cell_type": "markdown",
      "metadata": {
        "id": "2olqZo3cjbKE"
      },
      "source": [
        "* sales를 제거하지 않은 m2 모델과 비교"
      ]
    },
    {
      "cell_type": "code",
      "metadata": {
        "id": "zE5nqcvQjaB4",
        "outputId": "48a7c753-7bad-426e-d837-0028f334db4d",
        "colab": {
          "base_uri": "https://localhost:8080/"
        }
      },
      "source": [
        "predict_value_m2 <- predict(m2, test, type = \"response\") %>% tibble(predict_value = .)\n",
        "predict_check_m2 <- test %>% select(left) %>% dplyr::bind_cols(., predict_value_m2) \n",
        "roc_c_m2 <- roc(predict_check_m2$left, predict_check_m2$predict_value)"
      ],
      "execution_count": null,
      "outputs": [
        {
          "output_type": "stream",
          "text": [
            "Setting levels: control = 0, case = 1\n",
            "\n",
            "Setting direction: controls < cases\n",
            "\n"
          ],
          "name": "stderr"
        }
      ]
    },
    {
      "cell_type": "code",
      "metadata": {
        "id": "8-TA84sRj3Hv",
        "outputId": "1cc206a2-0c78-47b5-8101-6f07b22fe11a",
        "colab": {
          "base_uri": "https://localhost:8080/",
          "height": 617
        }
      },
      "source": [
        "# sales를 제거하지 않은 자료와 sales를 제거한 자료를 비교해서 ROC커브 그리기\n",
        "# 거의 차이가 없다.\n",
        "\n",
        "plot.roc(roc_c,   \n",
        "         col = \"red\",   \n",
        "         print.auc=T, \n",
        "         max.auc.polygon=T,   \n",
        "         print.thres=T, print.thres.pch=19, print.thres.col = \"red\", \n",
        "         auc.polygon=T, auc.polygon.col=\"#D1F2EB\")  \n",
        "\n",
        "plot.roc(roc_c_m2,   \n",
        "         add=T,   # 기본 그래프에 추가할 수 있도록 설정\n",
        "         col=\"blue\",  \n",
        "         print.auc=T, print.auc.adj=c(1.11,1.2),\n",
        "         print.thres=T, print.thres.pch=19, print.thres.col = \"blue\")\n",
        "         \n",
        "legend(\"bottomright\", legend=c(\"m3(-sales)\", \"m2\"), col=c(\"red\", \"blue\"), lwd = 2)  "
      ],
      "execution_count": null,
      "outputs": [
        {
          "output_type": "display_data",
          "data": {
            "image/png": "[encoded data removed]",
            "text/plain": [
              "plot without title"
            ]
          },
          "metadata": {
            "tags": [],
            "image/png": {
              "width": 600,
              "height": 600
            }
          }
        }
      ]
    },
    {
      "cell_type": "markdown",
      "metadata": {
        "id": "XUaaa7ISStc_"
      },
      "source": [
        "- - -\n",
        "\n",
        "#### **B. 예제 2**"
      ]
    },
    {
      "cell_type": "markdown",
      "metadata": {
        "id": "mK3ksBrkxgc_"
      },
      "source": [
        "* https://www.kaggle.com/c/titanic/data\n",
        "\n",
        "**<kaggle의 타이타닉 data>**\n",
        "\n",
        "  * survived : 생존=1, 죽음=0\n",
        "  * pclass : 승객 등급. 1등급=1, 2등급=2, 3등급=3\n",
        "  * sibsp : 함께 탑승한 형제 또는 배우자 수\n",
        "  * parch : 함께 탑승한 부모 또는 자녀 수\n",
        "  * ticket : 티켓 번호\n",
        "  * cabin : 선실 번호\n",
        "  * embarked : 탑승장소 S=Southhampton, C=Cherbourg, Q=Queenstown"
      ]
    },
    {
      "cell_type": "code",
      "metadata": {
        "id": "nWoKtbMKrJ_O",
        "cellView": "both"
      },
      "source": [
        "\n",
        "# kaggle에서 자료 가져오기\n",
        "# kaggle = 사람들이 데이터로 경쟁하는 곳\n",
        "\n",
        "DF <- fread(\"https://raw.githubusercontent.com/Jin0331/TA/master/data/titanic/train.csv\") %>%\n",
        " as_tibble()"
      ],
      "execution_count": null,
      "outputs": []
    },
    {
      "cell_type": "code",
      "metadata": {
        "id": "FoUcmHWIxf8A",
        "cellView": "both",
        "outputId": "0a0a8e33-9b1a-4326-9f4a-535eb2602bab",
        "colab": {
          "base_uri": "https://localhost:8080/"
        }
      },
      "source": [
        "\n",
        "str(DF)"
      ],
      "execution_count": null,
      "outputs": [
        {
          "output_type": "stream",
          "text": [
            "tibble [891 × 12] (S3: tbl_df/tbl/data.frame)\n",
            " $ PassengerId: int [1:891] 1 2 3 4 5 6 7 8 9 10 ...\n",
            " $ Survived   : int [1:891] 0 1 1 1 0 0 0 0 1 1 ...\n",
            " $ Pclass     : int [1:891] 3 1 3 1 3 3 1 3 3 2 ...\n",
            " $ Name       : chr [1:891] \"Braund, Mr. Owen Harris\" \"Cumings, Mrs. John Bradley (Florence Briggs Thayer)\" \"Heikkinen, Miss. Laina\" \"Futrelle, Mrs. Jacques Heath (Lily May Peel)\" ...\n",
            " $ Sex        : chr [1:891] \"male\" \"female\" \"female\" \"female\" ...\n",
            " $ Age        : num [1:891] 22 38 26 35 35 NA 54 2 27 14 ...\n",
            " $ SibSp      : int [1:891] 1 1 0 1 0 0 0 3 0 1 ...\n",
            " $ Parch      : int [1:891] 0 0 0 0 0 0 0 1 2 0 ...\n",
            " $ Ticket     : chr [1:891] \"A/5 21171\" \"PC 17599\" \"STON/O2. 3101282\" \"113803\" ...\n",
            " $ Fare       : num [1:891] 7.25 71.28 7.92 53.1 8.05 ...\n",
            " $ Cabin      : chr [1:891] \"\" \"C85\" \"\" \"C123\" ...\n",
            " $ Embarked   : chr [1:891] \"S\" \"C\" \"S\" \"S\" ...\n",
            " - attr(*, \".internal.selfref\")=<externalptr> \n"
          ],
          "name": "stdout"
        }
      ]
    },
    {
      "cell_type": "code",
      "metadata": {
        "id": "cY1odydB16zG",
        "cellView": "both",
        "outputId": "b69da5f2-1661-4b8f-fbd4-dd7a76db371b",
        "colab": {
          "base_uri": "https://localhost:8080/",
          "height": 449
        }
      },
      "source": [
        "\n",
        "DF %>% summary()"
      ],
      "execution_count": null,
      "outputs": [
        {
          "output_type": "display_data",
          "data": {
            "text/plain": [
              "  PassengerId       Survived          Pclass          Name          \n",
              " Min.   :  1.0   Min.   :0.0000   Min.   :1.000   Length:891        \n",
              " 1st Qu.:223.5   1st Qu.:0.0000   1st Qu.:2.000   Class :character  \n",
              " Median :446.0   Median :0.0000   Median :3.000   Mode  :character  \n",
              " Mean   :446.0   Mean   :0.3838   Mean   :2.309                     \n",
              " 3rd Qu.:668.5   3rd Qu.:1.0000   3rd Qu.:3.000                     \n",
              " Max.   :891.0   Max.   :1.0000   Max.   :3.000                     \n",
              "                                                                    \n",
              "     Sex                 Age            SibSp           Parch       \n",
              " Length:891         Min.   : 0.42   Min.   :0.000   Min.   :0.0000  \n",
              " Class :character   1st Qu.:20.12   1st Qu.:0.000   1st Qu.:0.0000  \n",
              " Mode  :character   Median :28.00   Median :0.000   Median :0.0000  \n",
              "                    Mean   :29.70   Mean   :0.523   Mean   :0.3816  \n",
              "                    3rd Qu.:38.00   3rd Qu.:1.000   3rd Qu.:0.0000  \n",
              "                    Max.   :80.00   Max.   :8.000   Max.   :6.0000  \n",
              "                    NA's   :177                                     \n",
              "    Ticket               Fare           Cabin             Embarked        \n",
              " Length:891         Min.   :  0.00   Length:891         Length:891        \n",
              " Class :character   1st Qu.:  7.91   Class :character   Class :character  \n",
              " Mode  :character   Median : 14.45   Mode  :character   Mode  :character  \n",
              "                    Mean   : 32.20                                        \n",
              "                    3rd Qu.: 31.00                                        \n",
              "                    Max.   :512.33                                        \n",
              "                                                                          "
            ]
          },
          "metadata": {
            "tags": []
          }
        }
      ]
    },
    {
      "cell_type": "markdown",
      "metadata": {
        "id": "hg-bZnUDozhW"
      },
      "source": [
        "* 범주형 변수 확인"
      ]
    },
    {
      "cell_type": "code",
      "metadata": {
        "id": "i7VgPnfmpX1L",
        "cellView": "both",
        "outputId": "145198ae-9514-41e5-ed90-6f907e4e8613",
        "colab": {
          "base_uri": "https://localhost:8080/",
          "height": 34
        }
      },
      "source": [
        "# unique로 범주형 변수 찾기\n",
        "\n",
        "DF$Survived %>% unique()"
      ],
      "execution_count": null,
      "outputs": [
        {
          "output_type": "display_data",
          "data": {
            "text/plain": [
              "[1] 0 1"
            ],
            "text/latex": "\\begin{enumerate*}\n\\item 0\n\\item 1\n\\end{enumerate*}\n",
            "text/markdown": "1. 0\n2. 1\n\n\n",
            "text/html": [
              "<style>\n",
              ".list-inline {list-style: none; margin:0; padding: 0}\n",
              ".list-inline>li {display: inline-block}\n",
              ".list-inline>li:not(:last-child)::after {content: \"\\00b7\"; padding: 0 .5ex}\n",
              "</style>\n",
              "<ol class=list-inline><li>0</li><li>1</li></ol>\n"
            ]
          },
          "metadata": {
            "tags": []
          }
        }
      ]
    },
    {
      "cell_type": "code",
      "metadata": {
        "id": "_FWo2ChPpIez",
        "cellView": "both",
        "outputId": "0f29d2f1-034c-4721-8a10-a1cffb36d01e",
        "colab": {
          "base_uri": "https://localhost:8080/",
          "height": 34
        }
      },
      "source": [
        "\n",
        "DF$Pclass %>% unique()"
      ],
      "execution_count": null,
      "outputs": [
        {
          "output_type": "display_data",
          "data": {
            "text/plain": [
              "[1] 3 1 2"
            ],
            "text/latex": "\\begin{enumerate*}\n\\item 3\n\\item 1\n\\item 2\n\\end{enumerate*}\n",
            "text/markdown": "1. 3\n2. 1\n3. 2\n\n\n",
            "text/html": [
              "<style>\n",
              ".list-inline {list-style: none; margin:0; padding: 0}\n",
              ".list-inline>li {display: inline-block}\n",
              ".list-inline>li:not(:last-child)::after {content: \"\\00b7\"; padding: 0 .5ex}\n",
              "</style>\n",
              "<ol class=list-inline><li>3</li><li>1</li><li>2</li></ol>\n"
            ]
          },
          "metadata": {
            "tags": []
          }
        }
      ]
    },
    {
      "cell_type": "code",
      "metadata": {
        "id": "GstNJw_Soybd",
        "cellView": "both",
        "outputId": "61fb3792-b1ff-4527-d0ac-3e1e238f7c98",
        "colab": {
          "base_uri": "https://localhost:8080/",
          "height": 34
        }
      },
      "source": [
        "\n",
        "DF$Sex %>% unique()"
      ],
      "execution_count": null,
      "outputs": [
        {
          "output_type": "display_data",
          "data": {
            "text/plain": [
              "[1] \"male\"   \"female\""
            ],
            "text/latex": "\\begin{enumerate*}\n\\item 'male'\n\\item 'female'\n\\end{enumerate*}\n",
            "text/markdown": "1. 'male'\n2. 'female'\n\n\n",
            "text/html": [
              "<style>\n",
              ".list-inline {list-style: none; margin:0; padding: 0}\n",
              ".list-inline>li {display: inline-block}\n",
              ".list-inline>li:not(:last-child)::after {content: \"\\00b7\"; padding: 0 .5ex}\n",
              "</style>\n",
              "<ol class=list-inline><li>'male'</li><li>'female'</li></ol>\n"
            ]
          },
          "metadata": {
            "tags": []
          }
        }
      ]
    },
    {
      "cell_type": "code",
      "metadata": {
        "id": "pBhJRwiOo-HA",
        "cellView": "both",
        "outputId": "8d174b61-dd61-4b59-ea1b-f2d97c3d290d",
        "colab": {
          "base_uri": "https://localhost:8080/",
          "height": 561
        }
      },
      "source": [
        "\n",
        "DF$Ticket %>% unique()"
      ],
      "execution_count": null,
      "outputs": [
        {
          "output_type": "display_data",
          "data": {
            "text/plain": [
              "  [1] \"A/5 21171\"          \"PC 17599\"           \"STON/O2. 3101282\"  \n",
              "  [4] \"113803\"             \"373450\"             \"330877\"            \n",
              "  [7] \"17463\"              \"349909\"             \"347742\"            \n",
              " [10] \"237736\"             \"PP 9549\"            \"113783\"            \n",
              " [13] \"A/5. 2151\"          \"347082\"             \"350406\"            \n",
              " [16] \"248706\"             \"382652\"             \"244373\"            \n",
              " [19] \"345763\"             \"2649\"               \"239865\"            \n",
              " [22] \"248698\"             \"330923\"             \"113788\"            \n",
              " [25] \"347077\"             \"2631\"               \"19950\"             \n",
              " [28] \"330959\"             \"349216\"             \"PC 17601\"          \n",
              " [31] \"PC 17569\"           \"335677\"             \"C.A. 24579\"        \n",
              " [34] \"PC 17604\"           \"113789\"             \"2677\"              \n",
              " [37] \"A./5. 2152\"         \"345764\"             \"2651\"              \n",
              " [40] \"7546\"               \"11668\"              \"349253\"            \n",
              " [43] \"SC/Paris 2123\"      \"330958\"             \"S.C./A.4. 23567\"   \n",
              " [46] \"370371\"             \"14311\"              \"2662\"              \n",
              " [49] \"349237\"             \"3101295\"            \"A/4. 39886\"        \n",
              " [52] \"PC 17572\"           \"2926\"               \"113509\"            \n",
              " [55] \"19947\"              \"C.A. 31026\"         \"2697\"              \n",
              " [58] \"C.A. 34651\"         \"CA 2144\"            \"2669\"              \n",
              " [61] \"113572\"             \"36973\"              \"347088\"            \n",
              " [64] \"PC 17605\"           \"2661\"               \"C.A. 29395\"        \n",
              " [67] \"S.P. 3464\"          \"3101281\"            \"315151\"            \n",
              " [70] \"C.A. 33111\"         \"S.O.C. 14879\"       \"2680\"              \n",
              " [73] \"1601\"               \"348123\"             \"349208\"            \n",
              " [76] \"374746\"             \"248738\"             \"364516\"            \n",
              " [79] \"345767\"             \"345779\"             \"330932\"            \n",
              " [82] \"113059\"             \"SO/C 14885\"         \"3101278\"           \n",
              " [85] \"W./C. 6608\"         \"SOTON/OQ 392086\"    \"343275\"            \n",
              " [88] \"343276\"             \"347466\"             \"W.E.P. 5734\"       \n",
              " [91] \"C.A. 2315\"          \"364500\"             \"374910\"            \n",
              " [94] \"PC 17754\"           \"PC 17759\"           \"231919\"            \n",
              " [97] \"244367\"             \"349245\"             \"349215\"            \n",
              "[100] \"35281\"              \"7540\"               \"3101276\"           \n",
              "[103] \"349207\"             \"343120\"             \"312991\"            \n",
              "[106] \"349249\"             \"371110\"             \"110465\"            \n",
              "[109] \"2665\"               \"324669\"             \"4136\"              \n",
              "[112] \"2627\"               \"STON/O 2. 3101294\"  \"370369\"            \n",
              "[115] \"PC 17558\"           \"A4. 54510\"          \"27267\"             \n",
              "[118] \"370372\"             \"C 17369\"            \"2668\"              \n",
              "[121] \"347061\"             \"349241\"             \"SOTON/O.Q. 3101307\"\n",
              "[124] \"A/5. 3337\"          \"228414\"             \"C.A. 29178\"        \n",
              "[127] \"SC/PARIS 2133\"      \"11752\"              \"7534\"              \n",
              "[130] \"PC 17593\"           \"2678\"               \"347081\"            \n",
              "[133] \"STON/O2. 3101279\"   \"365222\"             \"231945\"            \n",
              "[136] \"C.A. 33112\"         \"350043\"             \"230080\"            \n",
              "[139] \"244310\"             \"S.O.P. 1166\"        \"113776\"            \n",
              "[142] \"A.5. 11206\"         \"A/5. 851\"           \"Fa 265302\"         \n",
              "[145] \"PC 17597\"           \"35851\"              \"SOTON/OQ 392090\"   \n",
              "[148] \"315037\"             \"CA. 2343\"           \"371362\"            \n",
              "[151] \"C.A. 33595\"         \"347068\"             \"315093\"            \n",
              "[154] \"363291\"             \"113505\"             \"PC 17318\"          \n",
              "[157] \"111240\"             \"STON/O 2. 3101280\"  \"17764\"             \n",
              "[160] \"350404\"             \"4133\"               \"PC 17595\"          \n",
              "[163] \"250653\"             \"LINE\"               \"SC/PARIS 2131\"     \n",
              "[166] \"230136\"             \"315153\"             \"113767\"            \n",
              "[169] \"370365\"             \"111428\"             \"364849\"            \n",
              "[172] \"349247\"             \"234604\"             \"28424\"             \n",
              "[175] \"350046\"             \"PC 17610\"           \"368703\"            \n",
              "[178] \"4579\"               \"370370\"             \"248747\"            \n",
              "[181] \"345770\"             \"3101264\"            \"2628\"              \n",
              "[184] \"A/5 3540\"           \"347054\"             \"2699\"              \n",
              "[187] \"367231\"             \"112277\"             \"SOTON/O.Q. 3101311\"\n",
              "[190] \"F.C.C. 13528\"       \"A/5 21174\"          \"250646\"            \n",
              "[193] \"367229\"             \"35273\"              \"STON/O2. 3101283\"  \n",
              "[196] \"243847\"             \"11813\"              \"W/C 14208\"         \n",
              "[199] \"SOTON/OQ 392089\"    \"220367\"             \"21440\"             \n",
              "[202] \"349234\"             \"19943\"              \"PP 4348\"           \n",
              "[205] \"SW/PP 751\"          \"A/5 21173\"          \"236171\"            \n",
              "[208] \"347067\"             \"237442\"             \"C.A. 29566\"        \n",
              "[211] \"W./C. 6609\"         \"26707\"              \"C.A. 31921\"        \n",
              "[214] \"28665\"              \"SCO/W 1585\"         \"367230\"            \n",
              "[217] \"W./C. 14263\"        \"STON/O 2. 3101275\"  \"2694\"              \n",
              "[220] \"19928\"              \"347071\"             \"250649\"            \n",
              "[223] \"11751\"              \"244252\"             \"362316\"            \n",
              "[226] \"113514\"             \"A/5. 3336\"          \"370129\"            \n",
              "[229] \"2650\"               \"PC 17585\"           \"110152\"            \n",
              "[232] \"PC 17755\"           \"230433\"             \"384461\"            \n",
              "[235] \"110413\"             \"112059\"             \"382649\"            \n",
              "[238] \"C.A. 17248\"         \"347083\"             \"PC 17582\"          \n",
              "[241] \"PC 17760\"           \"113798\"             \"250644\"            \n",
              "[244] \"PC 17596\"           \"370375\"             \"13502\"             \n",
              "[247] \"347073\"             \"239853\"             \"C.A. 2673\"         \n",
              "[250] \"336439\"             \"347464\"             \"345778\"            \n",
              "[253] \"A/5. 10482\"         \"113056\"             \"349239\"            \n",
              "[256] \"345774\"             \"349206\"             \"237798\"            \n",
              "[259] \"370373\"             \"19877\"              \"11967\"             \n",
              "[262] \"SC/Paris 2163\"      \"349236\"             \"349233\"            \n",
              "[265] \"PC 17612\"           \"2693\"               \"113781\"            \n",
              "[268] \"19988\"              \"9234\"               \"367226\"            \n",
              "[271] \"226593\"             \"A/5 2466\"           \"17421\"             \n",
              "[274] \"PC 17758\"           \"P/PP 3381\"          \"PC 17485\"          \n",
              "[277] \"11767\"              \"PC 17608\"           \"250651\"            \n",
              "[280] \"349243\"             \"F.C.C. 13529\"       \"347470\"            \n",
              "[283] \"29011\"              \"36928\"              \"16966\"             \n",
              "[286] \"A/5 21172\"          \"349219\"             \"234818\"            \n",
              "[289] \"345364\"             \"28551\"              \"111361\"            \n",
              "[292] \"113043\"             \"PC 17611\"           \"349225\"            \n",
              "[295] \"7598\"               \"113784\"             \"248740\"            \n",
              "[298] \"244361\"             \"229236\"             \"248733\"            \n",
              "[301] \"31418\"              \"386525\"             \"C.A. 37671\"        \n",
              "[304] \"315088\"             \"7267\"               \"113510\"            \n",
              "[307] \"2695\"               \"2647\"               \"345783\"            \n",
              "[310] \"237671\"             \"330931\"             \"330980\"            \n",
              "[313] \"SC/PARIS 2167\"      \"2691\"               \"SOTON/O.Q. 3101310\"\n",
              "[316] \"C 7076\"             \"110813\"             \"2626\"              \n",
              "[319] \"14313\"              \"PC 17477\"           \"11765\"             \n",
              "[322] \"3101267\"            \"323951\"             \"C 7077\"            \n",
              "[325] \"113503\"             \"2648\"               \"347069\"            \n",
              "[328] \"PC 17757\"           \"2653\"               \"STON/O 2. 3101293\" \n",
              "[331] \"349227\"             \"27849\"              \"367655\"            \n",
              "[334] \"SC 1748\"            \"113760\"             \"350034\"            \n",
              "[337] \"3101277\"            \"350052\"             \"350407\"            \n",
              "[340] \"28403\"              \"244278\"             \"240929\"            \n",
              "[343] \"STON/O 2. 3101289\"  \"341826\"             \"4137\"              \n",
              "[346] \"315096\"             \"28664\"              \"347064\"            \n",
              "[349] \"29106\"              \"312992\"             \"349222\"            \n",
              "[352] \"394140\"             \"STON/O 2. 3101269\"  \"343095\"            \n",
              "[355] \"28220\"              \"250652\"             \"28228\"             \n",
              "[358] \"345773\"             \"349254\"             \"A/5. 13032\"        \n",
              "[361] \"315082\"             \"347080\"             \"A/4. 34244\"        \n",
              "[364] \"2003\"               \"250655\"             \"364851\"            \n",
              "[367] \"SOTON/O.Q. 392078\"  \"110564\"             \"376564\"            \n",
              "[370] \"SC/AH 3085\"         \"STON/O 2. 3101274\"  \"13507\"             \n",
              "[373] \"C.A. 18723\"         \"345769\"             \"347076\"            \n",
              "[376] \"230434\"             \"65306\"              \"33638\"             \n",
              "[379] \"113794\"             \"2666\"               \"113786\"            \n",
              "[382] \"65303\"              \"113051\"             \"17453\"             \n",
              "[385] \"A/5 2817\"           \"349240\"             \"13509\"             \n",
              "[388] \"17464\"              \"F.C.C. 13531\"       \"371060\"            \n",
              "[391] \"19952\"              \"364506\"             \"111320\"            \n",
              "[394] \"234360\"             \"A/S 2816\"           \"SOTON/O.Q. 3101306\"\n",
              "[397] \"113792\"             \"36209\"              \"323592\"            \n",
              "[400] \"315089\"             \"SC/AH Basle 541\"    \"7553\"              \n",
              "[403] \"31027\"              \"3460\"               \"350060\"            \n",
              "[406] \"3101298\"            \"239854\"             \"A/5 3594\"          \n",
              "[409] \"4134\"               \"11771\"              \"A.5. 18509\"        \n",
              "[412] \"65304\"              \"SOTON/OQ 3101317\"   \"113787\"            \n",
              "[415] \"PC 17609\"           \"A/4 45380\"          \"36947\"             \n",
              "[418] \"C.A. 6212\"          \"350035\"             \"315086\"            \n",
              "[421] \"364846\"             \"330909\"             \"4135\"              \n",
              "[424] \"26360\"              \"111427\"             \"C 4001\"            \n",
              "[427] \"382651\"             \"SOTON/OQ 3101316\"   \"PC 17473\"          \n",
              "[430] \"PC 17603\"           \"349209\"             \"36967\"             \n",
              "[433] \"C.A. 34260\"         \"226875\"             \"349242\"            \n",
              "[436] \"12749\"              \"349252\"             \"2624\"              \n",
              "[439] \"2700\"               \"367232\"             \"W./C. 14258\"       \n",
              "[442] \"PC 17483\"           \"3101296\"            \"29104\"             \n",
              "[445] \"2641\"               \"2690\"               \"315084\"            \n",
              "[448] \"113050\"             \"PC 17761\"           \"364498\"            \n",
              "[451] \"13568\"              \"WE/P 5735\"          \"2908\"              \n",
              "[454] \"693\"                \"SC/PARIS 2146\"      \"244358\"            \n",
              "[457] \"330979\"             \"2620\"               \"347085\"            \n",
              "[460] \"113807\"             \"11755\"              \"345572\"            \n",
              "[463] \"372622\"             \"349251\"             \"218629\"            \n",
              "[466] \"SOTON/OQ 392082\"    \"SOTON/O.Q. 392087\"  \"A/4 48871\"         \n",
              "[469] \"349205\"             \"2686\"               \"350417\"            \n",
              "[472] \"S.W./PP 752\"        \"11769\"              \"PC 17474\"          \n",
              "[475] \"14312\"              \"A/4. 20589\"         \"358585\"            \n",
              "[478] \"243880\"             \"2689\"               \"STON/O 2. 3101286\" \n",
              "[481] \"237789\"             \"13049\"              \"3411\"              \n",
              "[484] \"237565\"             \"13567\"              \"14973\"             \n",
              "[487] \"A./5. 3235\"         \"STON/O 2. 3101273\"  \"A/5 3902\"          \n",
              "[490] \"364848\"             \"SC/AH 29037\"        \"248727\"            \n",
              "[493] \"2664\"               \"349214\"             \"113796\"            \n",
              "[496] \"364511\"             \"111426\"             \"349910\"            \n",
              "[499] \"349246\"             \"113804\"             \"SOTON/O.Q. 3101305\"\n",
              "[502] \"370377\"             \"364512\"             \"220845\"            \n",
              "[505] \"31028\"              \"2659\"               \"11753\"             \n",
              "[508] \"350029\"             \"54636\"              \"36963\"             \n",
              "[511] \"219533\"             \"349224\"             \"334912\"            \n",
              "[514] \"27042\"              \"347743\"             \"13214\"             \n",
              "[517] \"112052\"             \"237668\"             \"STON/O 2. 3101292\" \n",
              "[520] \"350050\"             \"349231\"             \"13213\"             \n",
              "[523] \"S.O./P.P. 751\"      \"CA. 2314\"           \"349221\"            \n",
              "[526] \"8475\"               \"330919\"             \"365226\"            \n",
              "[529] \"349223\"             \"29751\"              \"2623\"              \n",
              "[532] \"5727\"               \"349210\"             \"STON/O 2. 3101285\" \n",
              "[535] \"234686\"             \"312993\"             \"A/5 3536\"          \n",
              "[538] \"19996\"              \"29750\"              \"F.C. 12750\"        \n",
              "[541] \"C.A. 24580\"         \"244270\"             \"239856\"            \n",
              "[544] \"349912\"             \"342826\"             \"4138\"              \n",
              "[547] \"330935\"             \"6563\"               \"349228\"            \n",
              "[550] \"350036\"             \"24160\"              \"17474\"             \n",
              "[553] \"349256\"             \"2672\"               \"113800\"            \n",
              "[556] \"248731\"             \"363592\"             \"35852\"             \n",
              "[559] \"348121\"             \"PC 17475\"           \"36864\"             \n",
              "[562] \"350025\"             \"223596\"             \"PC 17476\"          \n",
              "[565] \"PC 17482\"           \"113028\"             \"7545\"              \n",
              "[568] \"250647\"             \"348124\"             \"34218\"             \n",
              "[571] \"36568\"              \"347062\"             \"350048\"            \n",
              "[574] \"12233\"              \"250643\"             \"113806\"            \n",
              "[577] \"315094\"             \"36866\"              \"236853\"            \n",
              "[580] \"STON/O2. 3101271\"   \"239855\"             \"28425\"             \n",
              "[583] \"233639\"             \"349201\"             \"349218\"            \n",
              "[586] \"16988\"              \"376566\"             \"STON/O 2. 3101288\" \n",
              "[589] \"250648\"             \"113773\"             \"335097\"            \n",
              "[592] \"29103\"              \"392096\"             \"345780\"            \n",
              "[595] \"349204\"             \"350042\"             \"29108\"             \n",
              "[598] \"363294\"             \"SOTON/O2 3101272\"   \"2663\"              \n",
              "[601] \"347074\"             \"112379\"             \"364850\"            \n",
              "[604] \"8471\"               \"345781\"             \"350047\"            \n",
              "[607] \"S.O./P.P. 3\"        \"2674\"               \"29105\"             \n",
              "[610] \"347078\"             \"383121\"             \"36865\"             \n",
              "[613] \"2687\"               \"113501\"             \"W./C. 6607\"        \n",
              "[616] \"SOTON/O.Q. 3101312\" \"374887\"             \"3101265\"           \n",
              "[619] \"12460\"              \"PC 17600\"           \"349203\"            \n",
              "[622] \"28213\"              \"17465\"              \"349244\"            \n",
              "[625] \"2685\"               \"2625\"               \"347089\"            \n",
              "[628] \"347063\"             \"112050\"             \"347087\"            \n",
              "[631] \"248723\"             \"3474\"               \"28206\"             \n",
              "[634] \"364499\"             \"112058\"             \"STON/O2. 3101290\"  \n",
              "[637] \"S.C./PARIS 2079\"    \"C 7075\"             \"315098\"            \n",
              "[640] \"19972\"              \"368323\"             \"367228\"            \n",
              "[643] \"2671\"               \"347468\"             \"2223\"              \n",
              "[646] \"PC 17756\"           \"315097\"             \"392092\"            \n",
              "[649] \"11774\"              \"SOTON/O2 3101287\"   \"2683\"              \n",
              "[652] \"315090\"             \"C.A. 5547\"          \"349213\"            \n",
              "[655] \"347060\"             \"PC 17592\"           \"392091\"            \n",
              "[658] \"113055\"             \"2629\"               \"350026\"            \n",
              "[661] \"28134\"              \"17466\"              \"233866\"            \n",
              "[664] \"236852\"             \"SC/PARIS 2149\"      \"PC 17590\"          \n",
              "[667] \"345777\"             \"349248\"             \"695\"               \n",
              "[670] \"345765\"             \"2667\"               \"349212\"            \n",
              "[673] \"349217\"             \"349257\"             \"7552\"              \n",
              "[676] \"C.A./SOTON 34068\"   \"SOTON/OQ 392076\"    \"211536\"            \n",
              "[679] \"112053\"             \"111369\"             \"370376\"            "
            ],
            "text/latex": "\\begin{enumerate*}\n\\item 'A/5 21171'\n\\item 'PC 17599'\n\\item 'STON/O2. 3101282'\n\\item '113803'\n\\item '373450'\n\\item '330877'\n\\item '17463'\n\\item '349909'\n\\item '347742'\n\\item '237736'\n\\item 'PP 9549'\n\\item '113783'\n\\item 'A/5. 2151'\n\\item '347082'\n\\item '350406'\n\\item '248706'\n\\item '382652'\n\\item '244373'\n\\item '345763'\n\\item '2649'\n\\item '239865'\n\\item '248698'\n\\item '330923'\n\\item '113788'\n\\item '347077'\n\\item '2631'\n\\item '19950'\n\\item '330959'\n\\item '349216'\n\\item 'PC 17601'\n\\item 'PC 17569'\n\\item '335677'\n\\item 'C.A. 24579'\n\\item 'PC 17604'\n\\item '113789'\n\\item '2677'\n\\item 'A./5. 2152'\n\\item '345764'\n\\item '2651'\n\\item '7546'\n\\item '11668'\n\\item '349253'\n\\item 'SC/Paris 2123'\n\\item '330958'\n\\item 'S.C./A.4. 23567'\n\\item '370371'\n\\item '14311'\n\\item '2662'\n\\item '349237'\n\\item '3101295'\n\\item 'A/4. 39886'\n\\item 'PC 17572'\n\\item '2926'\n\\item '113509'\n\\item '19947'\n\\item 'C.A. 31026'\n\\item '2697'\n\\item 'C.A. 34651'\n\\item 'CA 2144'\n\\item '2669'\n\\item '113572'\n\\item '36973'\n\\item '347088'\n\\item 'PC 17605'\n\\item '2661'\n\\item 'C.A. 29395'\n\\item 'S.P. 3464'\n\\item '3101281'\n\\item '315151'\n\\item 'C.A. 33111'\n\\item 'S.O.C. 14879'\n\\item '2680'\n\\item '1601'\n\\item '348123'\n\\item '349208'\n\\item '374746'\n\\item '248738'\n\\item '364516'\n\\item '345767'\n\\item '345779'\n\\item '330932'\n\\item '113059'\n\\item 'SO/C 14885'\n\\item '3101278'\n\\item 'W./C. 6608'\n\\item 'SOTON/OQ 392086'\n\\item '343275'\n\\item '343276'\n\\item '347466'\n\\item 'W.E.P. 5734'\n\\item 'C.A. 2315'\n\\item '364500'\n\\item '374910'\n\\item 'PC 17754'\n\\item 'PC 17759'\n\\item '231919'\n\\item '244367'\n\\item '349245'\n\\item '349215'\n\\item '35281'\n\\item '7540'\n\\item '3101276'\n\\item '349207'\n\\item '343120'\n\\item '312991'\n\\item '349249'\n\\item '371110'\n\\item '110465'\n\\item '2665'\n\\item '324669'\n\\item '4136'\n\\item '2627'\n\\item 'STON/O 2. 3101294'\n\\item '370369'\n\\item 'PC 17558'\n\\item 'A4. 54510'\n\\item '27267'\n\\item '370372'\n\\item 'C 17369'\n\\item '2668'\n\\item '347061'\n\\item '349241'\n\\item 'SOTON/O.Q. 3101307'\n\\item 'A/5. 3337'\n\\item '228414'\n\\item 'C.A. 29178'\n\\item 'SC/PARIS 2133'\n\\item '11752'\n\\item '7534'\n\\item 'PC 17593'\n\\item '2678'\n\\item '347081'\n\\item 'STON/O2. 3101279'\n\\item '365222'\n\\item '231945'\n\\item 'C.A. 33112'\n\\item '350043'\n\\item '230080'\n\\item '244310'\n\\item 'S.O.P. 1166'\n\\item '113776'\n\\item 'A.5. 11206'\n\\item 'A/5. 851'\n\\item 'Fa 265302'\n\\item 'PC 17597'\n\\item '35851'\n\\item 'SOTON/OQ 392090'\n\\item '315037'\n\\item 'CA. 2343'\n\\item '371362'\n\\item 'C.A. 33595'\n\\item '347068'\n\\item '315093'\n\\item '363291'\n\\item '113505'\n\\item 'PC 17318'\n\\item '111240'\n\\item 'STON/O 2. 3101280'\n\\item '17764'\n\\item '350404'\n\\item '4133'\n\\item 'PC 17595'\n\\item '250653'\n\\item 'LINE'\n\\item 'SC/PARIS 2131'\n\\item '230136'\n\\item '315153'\n\\item '113767'\n\\item '370365'\n\\item '111428'\n\\item '364849'\n\\item '349247'\n\\item '234604'\n\\item '28424'\n\\item '350046'\n\\item 'PC 17610'\n\\item '368703'\n\\item '4579'\n\\item '370370'\n\\item '248747'\n\\item '345770'\n\\item '3101264'\n\\item '2628'\n\\item 'A/5 3540'\n\\item '347054'\n\\item '2699'\n\\item '367231'\n\\item '112277'\n\\item 'SOTON/O.Q. 3101311'\n\\item 'F.C.C. 13528'\n\\item 'A/5 21174'\n\\item '250646'\n\\item '367229'\n\\item '35273'\n\\item 'STON/O2. 3101283'\n\\item '243847'\n\\item '11813'\n\\item 'W/C 14208'\n\\item 'SOTON/OQ 392089'\n\\item '220367'\n\\item ⋯\n\\item '13049'\n\\item '3411'\n\\item '237565'\n\\item '13567'\n\\item '14973'\n\\item 'A./5. 3235'\n\\item 'STON/O 2. 3101273'\n\\item 'A/5 3902'\n\\item '364848'\n\\item 'SC/AH 29037'\n\\item '248727'\n\\item '2664'\n\\item '349214'\n\\item '113796'\n\\item '364511'\n\\item '111426'\n\\item '349910'\n\\item '349246'\n\\item '113804'\n\\item 'SOTON/O.Q. 3101305'\n\\item '370377'\n\\item '364512'\n\\item '220845'\n\\item '31028'\n\\item '2659'\n\\item '11753'\n\\item '350029'\n\\item '54636'\n\\item '36963'\n\\item '219533'\n\\item '349224'\n\\item '334912'\n\\item '27042'\n\\item '347743'\n\\item '13214'\n\\item '112052'\n\\item '237668'\n\\item 'STON/O 2. 3101292'\n\\item '350050'\n\\item '349231'\n\\item '13213'\n\\item 'S.O./P.P. 751'\n\\item 'CA. 2314'\n\\item '349221'\n\\item '8475'\n\\item '330919'\n\\item '365226'\n\\item '349223'\n\\item '29751'\n\\item '2623'\n\\item '5727'\n\\item '349210'\n\\item 'STON/O 2. 3101285'\n\\item '234686'\n\\item '312993'\n\\item 'A/5 3536'\n\\item '19996'\n\\item '29750'\n\\item 'F.C. 12750'\n\\item 'C.A. 24580'\n\\item '244270'\n\\item '239856'\n\\item '349912'\n\\item '342826'\n\\item '4138'\n\\item '330935'\n\\item '6563'\n\\item '349228'\n\\item '350036'\n\\item '24160'\n\\item '17474'\n\\item '349256'\n\\item '2672'\n\\item '113800'\n\\item '248731'\n\\item '363592'\n\\item '35852'\n\\item '348121'\n\\item 'PC 17475'\n\\item '36864'\n\\item '350025'\n\\item '223596'\n\\item 'PC 17476'\n\\item 'PC 17482'\n\\item '113028'\n\\item '7545'\n\\item '250647'\n\\item '348124'\n\\item '34218'\n\\item '36568'\n\\item '347062'\n\\item '350048'\n\\item '12233'\n\\item '250643'\n\\item '113806'\n\\item '315094'\n\\item '36866'\n\\item '236853'\n\\item 'STON/O2. 3101271'\n\\item '239855'\n\\item '28425'\n\\item '233639'\n\\item '349201'\n\\item '349218'\n\\item '16988'\n\\item '376566'\n\\item 'STON/O 2. 3101288'\n\\item '250648'\n\\item '113773'\n\\item '335097'\n\\item '29103'\n\\item '392096'\n\\item '345780'\n\\item '349204'\n\\item '350042'\n\\item '29108'\n\\item '363294'\n\\item 'SOTON/O2 3101272'\n\\item '2663'\n\\item '347074'\n\\item '112379'\n\\item '364850'\n\\item '8471'\n\\item '345781'\n\\item '350047'\n\\item 'S.O./P.P. 3'\n\\item '2674'\n\\item '29105'\n\\item '347078'\n\\item '383121'\n\\item '36865'\n\\item '2687'\n\\item '113501'\n\\item 'W./C. 6607'\n\\item 'SOTON/O.Q. 3101312'\n\\item '374887'\n\\item '3101265'\n\\item '12460'\n\\item 'PC 17600'\n\\item '349203'\n\\item '28213'\n\\item '17465'\n\\item '349244'\n\\item '2685'\n\\item '2625'\n\\item '347089'\n\\item '347063'\n\\item '112050'\n\\item '347087'\n\\item '248723'\n\\item '3474'\n\\item '28206'\n\\item '364499'\n\\item '112058'\n\\item 'STON/O2. 3101290'\n\\item 'S.C./PARIS 2079'\n\\item 'C 7075'\n\\item '315098'\n\\item '19972'\n\\item '368323'\n\\item '367228'\n\\item '2671'\n\\item '347468'\n\\item '2223'\n\\item 'PC 17756'\n\\item '315097'\n\\item '392092'\n\\item '11774'\n\\item 'SOTON/O2 3101287'\n\\item '2683'\n\\item '315090'\n\\item 'C.A. 5547'\n\\item '349213'\n\\item '347060'\n\\item 'PC 17592'\n\\item '392091'\n\\item '113055'\n\\item '2629'\n\\item '350026'\n\\item '28134'\n\\item '17466'\n\\item '233866'\n\\item '236852'\n\\item 'SC/PARIS 2149'\n\\item 'PC 17590'\n\\item '345777'\n\\item '349248'\n\\item '695'\n\\item '345765'\n\\item '2667'\n\\item '349212'\n\\item '349217'\n\\item '349257'\n\\item '7552'\n\\item 'C.A./SOTON 34068'\n\\item 'SOTON/OQ 392076'\n\\item '211536'\n\\item '112053'\n\\item '111369'\n\\item '370376'\n\\end{enumerate*}\n",
            "text/markdown": "1. 'A/5 21171'\n2. 'PC 17599'\n3. 'STON/O2. 3101282'\n4. '113803'\n5. '373450'\n6. '330877'\n7. '17463'\n8. '349909'\n9. '347742'\n10. '237736'\n11. 'PP 9549'\n12. '113783'\n13. 'A/5. 2151'\n14. '347082'\n15. '350406'\n16. '248706'\n17. '382652'\n18. '244373'\n19. '345763'\n20. '2649'\n21. '239865'\n22. '248698'\n23. '330923'\n24. '113788'\n25. '347077'\n26. '2631'\n27. '19950'\n28. '330959'\n29. '349216'\n30. 'PC 17601'\n31. 'PC 17569'\n32. '335677'\n33. 'C.A. 24579'\n34. 'PC 17604'\n35. '113789'\n36. '2677'\n37. 'A./5. 2152'\n38. '345764'\n39. '2651'\n40. '7546'\n41. '11668'\n42. '349253'\n43. 'SC/Paris 2123'\n44. '330958'\n45. 'S.C./A.4. 23567'\n46. '370371'\n47. '14311'\n48. '2662'\n49. '349237'\n50. '3101295'\n51. 'A/4. 39886'\n52. 'PC 17572'\n53. '2926'\n54. '113509'\n55. '19947'\n56. 'C.A. 31026'\n57. '2697'\n58. 'C.A. 34651'\n59. 'CA 2144'\n60. '2669'\n61. '113572'\n62. '36973'\n63. '347088'\n64. 'PC 17605'\n65. '2661'\n66. 'C.A. 29395'\n67. 'S.P. 3464'\n68. '3101281'\n69. '315151'\n70. 'C.A. 33111'\n71. 'S.O.C. 14879'\n72. '2680'\n73. '1601'\n74. '348123'\n75. '349208'\n76. '374746'\n77. '248738'\n78. '364516'\n79. '345767'\n80. '345779'\n81. '330932'\n82. '113059'\n83. 'SO/C 14885'\n84. '3101278'\n85. 'W./C. 6608'\n86. 'SOTON/OQ 392086'\n87. '343275'\n88. '343276'\n89. '347466'\n90. 'W.E.P. 5734'\n91. 'C.A. 2315'\n92. '364500'\n93. '374910'\n94. 'PC 17754'\n95. 'PC 17759'\n96. '231919'\n97. '244367'\n98. '349245'\n99. '349215'\n100. '35281'\n101. '7540'\n102. '3101276'\n103. '349207'\n104. '343120'\n105. '312991'\n106. '349249'\n107. '371110'\n108. '110465'\n109. '2665'\n110. '324669'\n111. '4136'\n112. '2627'\n113. 'STON/O 2. 3101294'\n114. '370369'\n115. 'PC 17558'\n116. 'A4. 54510'\n117. '27267'\n118. '370372'\n119. 'C 17369'\n120. '2668'\n121. '347061'\n122. '349241'\n123. 'SOTON/O.Q. 3101307'\n124. 'A/5. 3337'\n125. '228414'\n126. 'C.A. 29178'\n127. 'SC/PARIS 2133'\n128. '11752'\n129. '7534'\n130. 'PC 17593'\n131. '2678'\n132. '347081'\n133. 'STON/O2. 3101279'\n134. '365222'\n135. '231945'\n136. 'C.A. 33112'\n137. '350043'\n138. '230080'\n139. '244310'\n140. 'S.O.P. 1166'\n141. '113776'\n142. 'A.5. 11206'\n143. 'A/5. 851'\n144. 'Fa 265302'\n145. 'PC 17597'\n146. '35851'\n147. 'SOTON/OQ 392090'\n148. '315037'\n149. 'CA. 2343'\n150. '371362'\n151. 'C.A. 33595'\n152. '347068'\n153. '315093'\n154. '363291'\n155. '113505'\n156. 'PC 17318'\n157. '111240'\n158. 'STON/O 2. 3101280'\n159. '17764'\n160. '350404'\n161. '4133'\n162. 'PC 17595'\n163. '250653'\n164. 'LINE'\n165. 'SC/PARIS 2131'\n166. '230136'\n167. '315153'\n168. '113767'\n169. '370365'\n170. '111428'\n171. '364849'\n172. '349247'\n173. '234604'\n174. '28424'\n175. '350046'\n176. 'PC 17610'\n177. '368703'\n178. '4579'\n179. '370370'\n180. '248747'\n181. '345770'\n182. '3101264'\n183. '2628'\n184. 'A/5 3540'\n185. '347054'\n186. '2699'\n187. '367231'\n188. '112277'\n189. 'SOTON/O.Q. 3101311'\n190. 'F.C.C. 13528'\n191. 'A/5 21174'\n192. '250646'\n193. '367229'\n194. '35273'\n195. 'STON/O2. 3101283'\n196. '243847'\n197. '11813'\n198. 'W/C 14208'\n199. 'SOTON/OQ 392089'\n200. '220367'\n201. ⋯\n202. '13049'\n203. '3411'\n204. '237565'\n205. '13567'\n206. '14973'\n207. 'A./5. 3235'\n208. 'STON/O 2. 3101273'\n209. 'A/5 3902'\n210. '364848'\n211. 'SC/AH 29037'\n212. '248727'\n213. '2664'\n214. '349214'\n215. '113796'\n216. '364511'\n217. '111426'\n218. '349910'\n219. '349246'\n220. '113804'\n221. 'SOTON/O.Q. 3101305'\n222. '370377'\n223. '364512'\n224. '220845'\n225. '31028'\n226. '2659'\n227. '11753'\n228. '350029'\n229. '54636'\n230. '36963'\n231. '219533'\n232. '349224'\n233. '334912'\n234. '27042'\n235. '347743'\n236. '13214'\n237. '112052'\n238. '237668'\n239. 'STON/O 2. 3101292'\n240. '350050'\n241. '349231'\n242. '13213'\n243. 'S.O./P.P. 751'\n244. 'CA. 2314'\n245. '349221'\n246. '8475'\n247. '330919'\n248. '365226'\n249. '349223'\n250. '29751'\n251. '2623'\n252. '5727'\n253. '349210'\n254. 'STON/O 2. 3101285'\n255. '234686'\n256. '312993'\n257. 'A/5 3536'\n258. '19996'\n259. '29750'\n260. 'F.C. 12750'\n261. 'C.A. 24580'\n262. '244270'\n263. '239856'\n264. '349912'\n265. '342826'\n266. '4138'\n267. '330935'\n268. '6563'\n269. '349228'\n270. '350036'\n271. '24160'\n272. '17474'\n273. '349256'\n274. '2672'\n275. '113800'\n276. '248731'\n277. '363592'\n278. '35852'\n279. '348121'\n280. 'PC 17475'\n281. '36864'\n282. '350025'\n283. '223596'\n284. 'PC 17476'\n285. 'PC 17482'\n286. '113028'\n287. '7545'\n288. '250647'\n289. '348124'\n290. '34218'\n291. '36568'\n292. '347062'\n293. '350048'\n294. '12233'\n295. '250643'\n296. '113806'\n297. '315094'\n298. '36866'\n299. '236853'\n300. 'STON/O2. 3101271'\n301. '239855'\n302. '28425'\n303. '233639'\n304. '349201'\n305. '349218'\n306. '16988'\n307. '376566'\n308. 'STON/O 2. 3101288'\n309. '250648'\n310. '113773'\n311. '335097'\n312. '29103'\n313. '392096'\n314. '345780'\n315. '349204'\n316. '350042'\n317. '29108'\n318. '363294'\n319. 'SOTON/O2 3101272'\n320. '2663'\n321. '347074'\n322. '112379'\n323. '364850'\n324. '8471'\n325. '345781'\n326. '350047'\n327. 'S.O./P.P. 3'\n328. '2674'\n329. '29105'\n330. '347078'\n331. '383121'\n332. '36865'\n333. '2687'\n334. '113501'\n335. 'W./C. 6607'\n336. 'SOTON/O.Q. 3101312'\n337. '374887'\n338. '3101265'\n339. '12460'\n340. 'PC 17600'\n341. '349203'\n342. '28213'\n343. '17465'\n344. '349244'\n345. '2685'\n346. '2625'\n347. '347089'\n348. '347063'\n349. '112050'\n350. '347087'\n351. '248723'\n352. '3474'\n353. '28206'\n354. '364499'\n355. '112058'\n356. 'STON/O2. 3101290'\n357. 'S.C./PARIS 2079'\n358. 'C 7075'\n359. '315098'\n360. '19972'\n361. '368323'\n362. '367228'\n363. '2671'\n364. '347468'\n365. '2223'\n366. 'PC 17756'\n367. '315097'\n368. '392092'\n369. '11774'\n370. 'SOTON/O2 3101287'\n371. '2683'\n372. '315090'\n373. 'C.A. 5547'\n374. '349213'\n375. '347060'\n376. 'PC 17592'\n377. '392091'\n378. '113055'\n379. '2629'\n380. '350026'\n381. '28134'\n382. '17466'\n383. '233866'\n384. '236852'\n385. 'SC/PARIS 2149'\n386. 'PC 17590'\n387. '345777'\n388. '349248'\n389. '695'\n390. '345765'\n391. '2667'\n392. '349212'\n393. '349217'\n394. '349257'\n395. '7552'\n396. 'C.A./SOTON 34068'\n397. 'SOTON/OQ 392076'\n398. '211536'\n399. '112053'\n400. '111369'\n401. '370376'\n\n\n",
            "text/html": [
              "<style>\n",
              ".list-inline {list-style: none; margin:0; padding: 0}\n",
              ".list-inline>li {display: inline-block}\n",
              ".list-inline>li:not(:last-child)::after {content: \"\\00b7\"; padding: 0 .5ex}\n",
              "</style>\n",
              "<ol class=list-inline><li>'A/5 21171'</li><li>'PC 17599'</li><li>'STON/O2. 3101282'</li><li>'113803'</li><li>'373450'</li><li>'330877'</li><li>'17463'</li><li>'349909'</li><li>'347742'</li><li>'237736'</li><li>'PP 9549'</li><li>'113783'</li><li>'A/5. 2151'</li><li>'347082'</li><li>'350406'</li><li>'248706'</li><li>'382652'</li><li>'244373'</li><li>'345763'</li><li>'2649'</li><li>'239865'</li><li>'248698'</li><li>'330923'</li><li>'113788'</li><li>'347077'</li><li>'2631'</li><li>'19950'</li><li>'330959'</li><li>'349216'</li><li>'PC 17601'</li><li>'PC 17569'</li><li>'335677'</li><li>'C.A. 24579'</li><li>'PC 17604'</li><li>'113789'</li><li>'2677'</li><li>'A./5. 2152'</li><li>'345764'</li><li>'2651'</li><li>'7546'</li><li>'11668'</li><li>'349253'</li><li>'SC/Paris 2123'</li><li>'330958'</li><li>'S.C./A.4. 23567'</li><li>'370371'</li><li>'14311'</li><li>'2662'</li><li>'349237'</li><li>'3101295'</li><li>'A/4. 39886'</li><li>'PC 17572'</li><li>'2926'</li><li>'113509'</li><li>'19947'</li><li>'C.A. 31026'</li><li>'2697'</li><li>'C.A. 34651'</li><li>'CA 2144'</li><li>'2669'</li><li>'113572'</li><li>'36973'</li><li>'347088'</li><li>'PC 17605'</li><li>'2661'</li><li>'C.A. 29395'</li><li>'S.P. 3464'</li><li>'3101281'</li><li>'315151'</li><li>'C.A. 33111'</li><li>'S.O.C. 14879'</li><li>'2680'</li><li>'1601'</li><li>'348123'</li><li>'349208'</li><li>'374746'</li><li>'248738'</li><li>'364516'</li><li>'345767'</li><li>'345779'</li><li>'330932'</li><li>'113059'</li><li>'SO/C 14885'</li><li>'3101278'</li><li>'W./C. 6608'</li><li>'SOTON/OQ 392086'</li><li>'343275'</li><li>'343276'</li><li>'347466'</li><li>'W.E.P. 5734'</li><li>'C.A. 2315'</li><li>'364500'</li><li>'374910'</li><li>'PC 17754'</li><li>'PC 17759'</li><li>'231919'</li><li>'244367'</li><li>'349245'</li><li>'349215'</li><li>'35281'</li><li>'7540'</li><li>'3101276'</li><li>'349207'</li><li>'343120'</li><li>'312991'</li><li>'349249'</li><li>'371110'</li><li>'110465'</li><li>'2665'</li><li>'324669'</li><li>'4136'</li><li>'2627'</li><li>'STON/O 2. 3101294'</li><li>'370369'</li><li>'PC 17558'</li><li>'A4. 54510'</li><li>'27267'</li><li>'370372'</li><li>'C 17369'</li><li>'2668'</li><li>'347061'</li><li>'349241'</li><li>'SOTON/O.Q. 3101307'</li><li>'A/5. 3337'</li><li>'228414'</li><li>'C.A. 29178'</li><li>'SC/PARIS 2133'</li><li>'11752'</li><li>'7534'</li><li>'PC 17593'</li><li>'2678'</li><li>'347081'</li><li>'STON/O2. 3101279'</li><li>'365222'</li><li>'231945'</li><li>'C.A. 33112'</li><li>'350043'</li><li>'230080'</li><li>'244310'</li><li>'S.O.P. 1166'</li><li>'113776'</li><li>'A.5. 11206'</li><li>'A/5. 851'</li><li>'Fa 265302'</li><li>'PC 17597'</li><li>'35851'</li><li>'SOTON/OQ 392090'</li><li>'315037'</li><li>'CA. 2343'</li><li>'371362'</li><li>'C.A. 33595'</li><li>'347068'</li><li>'315093'</li><li>'363291'</li><li>'113505'</li><li>'PC 17318'</li><li>'111240'</li><li>'STON/O 2. 3101280'</li><li>'17764'</li><li>'350404'</li><li>'4133'</li><li>'PC 17595'</li><li>'250653'</li><li>'LINE'</li><li>'SC/PARIS 2131'</li><li>'230136'</li><li>'315153'</li><li>'113767'</li><li>'370365'</li><li>'111428'</li><li>'364849'</li><li>'349247'</li><li>'234604'</li><li>'28424'</li><li>'350046'</li><li>'PC 17610'</li><li>'368703'</li><li>'4579'</li><li>'370370'</li><li>'248747'</li><li>'345770'</li><li>'3101264'</li><li>'2628'</li><li>'A/5 3540'</li><li>'347054'</li><li>'2699'</li><li>'367231'</li><li>'112277'</li><li>'SOTON/O.Q. 3101311'</li><li>'F.C.C. 13528'</li><li>'A/5 21174'</li><li>'250646'</li><li>'367229'</li><li>'35273'</li><li>'STON/O2. 3101283'</li><li>'243847'</li><li>'11813'</li><li>'W/C 14208'</li><li>'SOTON/OQ 392089'</li><li>'220367'</li><li>⋯</li><li>'13049'</li><li>'3411'</li><li>'237565'</li><li>'13567'</li><li>'14973'</li><li>'A./5. 3235'</li><li>'STON/O 2. 3101273'</li><li>'A/5 3902'</li><li>'364848'</li><li>'SC/AH 29037'</li><li>'248727'</li><li>'2664'</li><li>'349214'</li><li>'113796'</li><li>'364511'</li><li>'111426'</li><li>'349910'</li><li>'349246'</li><li>'113804'</li><li>'SOTON/O.Q. 3101305'</li><li>'370377'</li><li>'364512'</li><li>'220845'</li><li>'31028'</li><li>'2659'</li><li>'11753'</li><li>'350029'</li><li>'54636'</li><li>'36963'</li><li>'219533'</li><li>'349224'</li><li>'334912'</li><li>'27042'</li><li>'347743'</li><li>'13214'</li><li>'112052'</li><li>'237668'</li><li>'STON/O 2. 3101292'</li><li>'350050'</li><li>'349231'</li><li>'13213'</li><li>'S.O./P.P. 751'</li><li>'CA. 2314'</li><li>'349221'</li><li>'8475'</li><li>'330919'</li><li>'365226'</li><li>'349223'</li><li>'29751'</li><li>'2623'</li><li>'5727'</li><li>'349210'</li><li>'STON/O 2. 3101285'</li><li>'234686'</li><li>'312993'</li><li>'A/5 3536'</li><li>'19996'</li><li>'29750'</li><li>'F.C. 12750'</li><li>'C.A. 24580'</li><li>'244270'</li><li>'239856'</li><li>'349912'</li><li>'342826'</li><li>'4138'</li><li>'330935'</li><li>'6563'</li><li>'349228'</li><li>'350036'</li><li>'24160'</li><li>'17474'</li><li>'349256'</li><li>'2672'</li><li>'113800'</li><li>'248731'</li><li>'363592'</li><li>'35852'</li><li>'348121'</li><li>'PC 17475'</li><li>'36864'</li><li>'350025'</li><li>'223596'</li><li>'PC 17476'</li><li>'PC 17482'</li><li>'113028'</li><li>'7545'</li><li>'250647'</li><li>'348124'</li><li>'34218'</li><li>'36568'</li><li>'347062'</li><li>'350048'</li><li>'12233'</li><li>'250643'</li><li>'113806'</li><li>'315094'</li><li>'36866'</li><li>'236853'</li><li>'STON/O2. 3101271'</li><li>'239855'</li><li>'28425'</li><li>'233639'</li><li>'349201'</li><li>'349218'</li><li>'16988'</li><li>'376566'</li><li>'STON/O 2. 3101288'</li><li>'250648'</li><li>'113773'</li><li>'335097'</li><li>'29103'</li><li>'392096'</li><li>'345780'</li><li>'349204'</li><li>'350042'</li><li>'29108'</li><li>'363294'</li><li>'SOTON/O2 3101272'</li><li>'2663'</li><li>'347074'</li><li>'112379'</li><li>'364850'</li><li>'8471'</li><li>'345781'</li><li>'350047'</li><li>'S.O./P.P. 3'</li><li>'2674'</li><li>'29105'</li><li>'347078'</li><li>'383121'</li><li>'36865'</li><li>'2687'</li><li>'113501'</li><li>'W./C. 6607'</li><li>'SOTON/O.Q. 3101312'</li><li>'374887'</li><li>'3101265'</li><li>'12460'</li><li>'PC 17600'</li><li>'349203'</li><li>'28213'</li><li>'17465'</li><li>'349244'</li><li>'2685'</li><li>'2625'</li><li>'347089'</li><li>'347063'</li><li>'112050'</li><li>'347087'</li><li>'248723'</li><li>'3474'</li><li>'28206'</li><li>'364499'</li><li>'112058'</li><li>'STON/O2. 3101290'</li><li>'S.C./PARIS 2079'</li><li>'C 7075'</li><li>'315098'</li><li>'19972'</li><li>'368323'</li><li>'367228'</li><li>'2671'</li><li>'347468'</li><li>'2223'</li><li>'PC 17756'</li><li>'315097'</li><li>'392092'</li><li>'11774'</li><li>'SOTON/O2 3101287'</li><li>'2683'</li><li>'315090'</li><li>'C.A. 5547'</li><li>'349213'</li><li>'347060'</li><li>'PC 17592'</li><li>'392091'</li><li>'113055'</li><li>'2629'</li><li>'350026'</li><li>'28134'</li><li>'17466'</li><li>'233866'</li><li>'236852'</li><li>'SC/PARIS 2149'</li><li>'PC 17590'</li><li>'345777'</li><li>'349248'</li><li>'695'</li><li>'345765'</li><li>'2667'</li><li>'349212'</li><li>'349217'</li><li>'349257'</li><li>'7552'</li><li>'C.A./SOTON 34068'</li><li>'SOTON/OQ 392076'</li><li>'211536'</li><li>'112053'</li><li>'111369'</li><li>'370376'</li></ol>\n"
            ]
          },
          "metadata": {
            "tags": []
          }
        }
      ]
    },
    {
      "cell_type": "code",
      "metadata": {
        "id": "gTws_XTvpC7R",
        "cellView": "both",
        "outputId": "523d869d-f56e-442c-c5bd-aaf8a68a5977",
        "colab": {
          "base_uri": "https://localhost:8080/",
          "height": 34
        }
      },
      "source": [
        "\n",
        "DF$Embarked %>% unique()"
      ],
      "execution_count": null,
      "outputs": [
        {
          "output_type": "display_data",
          "data": {
            "text/plain": [
              "[1] \"S\" \"C\" \"Q\" \"\" "
            ],
            "text/latex": "\\begin{enumerate*}\n\\item 'S'\n\\item 'C'\n\\item 'Q'\n\\item ''\n\\end{enumerate*}\n",
            "text/markdown": "1. 'S'\n2. 'C'\n3. 'Q'\n4. ''\n\n\n",
            "text/html": [
              "<style>\n",
              ".list-inline {list-style: none; margin:0; padding: 0}\n",
              ".list-inline>li {display: inline-block}\n",
              ".list-inline>li:not(:last-child)::after {content: \"\\00b7\"; padding: 0 .5ex}\n",
              "</style>\n",
              "<ol class=list-inline><li>'S'</li><li>'C'</li><li>'Q'</li><li>''</li></ol>\n"
            ]
          },
          "metadata": {
            "tags": []
          }
        }
      ]
    },
    {
      "cell_type": "code",
      "metadata": {
        "id": "D440rnZU2JSb",
        "cellView": "both",
        "outputId": "f2913423-9d3b-4892-bcde-e9b74d18de35",
        "colab": {
          "base_uri": "https://localhost:8080/",
          "height": 305
        }
      },
      "source": [
        "# 범주형 데이터를 facter로 바꿔줌 -> 더미변수 생성\n",
        "# age 에서 결측치가 나타난다.\n",
        "\n",
        "DF <- DF %>% \n",
        " select(-PassengerId, -Name, -Cabin, -Ticket) %>% mutate_at(c(\"Survived\",\"Sex\",\"Embarked\"), factor)\n",
        "summary(DF)"
      ],
      "execution_count": null,
      "outputs": [
        {
          "output_type": "display_data",
          "data": {
            "text/plain": [
              " Survived     Pclass          Sex           Age            SibSp      \n",
              " 0:549    Min.   :1.000   female:314   Min.   : 0.42   Min.   :0.000  \n",
              " 1:342    1st Qu.:2.000   male  :577   1st Qu.:20.12   1st Qu.:0.000  \n",
              "          Median :3.000                Median :28.00   Median :0.000  \n",
              "          Mean   :2.309                Mean   :29.70   Mean   :0.523  \n",
              "          3rd Qu.:3.000                3rd Qu.:38.00   3rd Qu.:1.000  \n",
              "          Max.   :3.000                Max.   :80.00   Max.   :8.000  \n",
              "                                       NA's   :177                    \n",
              "     Parch             Fare        Embarked\n",
              " Min.   :0.0000   Min.   :  0.00    :  2   \n",
              " 1st Qu.:0.0000   1st Qu.:  7.91   C:168   \n",
              " Median :0.0000   Median : 14.45   Q: 77   \n",
              " Mean   :0.3816   Mean   : 32.20   S:644   \n",
              " 3rd Qu.:0.0000   3rd Qu.: 31.00           \n",
              " Max.   :6.0000   Max.   :512.33           \n",
              "                                           "
            ]
          },
          "metadata": {
            "tags": []
          }
        }
      ]
    },
    {
      "cell_type": "markdown",
      "metadata": {
        "id": "ntcsCge-tBt-"
      },
      "source": [
        "* Hmisc::impute을 이용한 NA 값 대체(평균, 중앙값, 특정 숫자)\n",
        "\n",
        "* https://m.blog.naver.com/PostView.nhn?blogId=tjdudwo93&logNo=221142961499&proxyReferer=https:%2F%2Fwww.google.com%2F"
      ]
    },
    {
      "cell_type": "code",
      "metadata": {
        "id": "P6QTZq24vNGz",
        "cellView": "both",
        "outputId": "15bd3183-d3de-4e3a-b1b2-0d8c2756c424",
        "colab": {
          "base_uri": "https://localhost:8080/"
        }
      },
      "source": [
        "# 결측치를 평균 , 중앙값 으로 대체한다.\n",
        "install.packages(\"Hmisc\")\n",
        "\n",
        "library(Hmisc)\n",
        "DF$Age <- impute(DF$Age, median)# 중앙값을 이용한다.\n"
      ],
      "execution_count": null,
      "outputs": [
        {
          "output_type": "stream",
          "text": [
            "Installing package into ‘/usr/local/lib/R/site-library’\n",
            "(as ‘lib’ is unspecified)\n",
            "\n",
            "also installing the dependencies ‘png’, ‘jpeg’, ‘checkmate’, ‘Formula’, ‘latticeExtra’, ‘gridExtra’, ‘htmlTable’, ‘viridis’\n",
            "\n",
            "\n",
            "Loading required package: survival\n",
            "\n",
            "\n",
            "Attaching package: ‘survival’\n",
            "\n",
            "\n",
            "The following object is masked from ‘package:caret’:\n",
            "\n",
            "    cluster\n",
            "\n",
            "\n",
            "Loading required package: Formula\n",
            "\n",
            "\n",
            "Attaching package: ‘Hmisc’\n",
            "\n",
            "\n",
            "The following objects are masked from ‘package:dplyr’:\n",
            "\n",
            "    src, summarize\n",
            "\n",
            "\n",
            "The following objects are masked from ‘package:base’:\n",
            "\n",
            "    format.pval, units\n",
            "\n",
            "\n"
          ],
          "name": "stderr"
        }
      ]
    },
    {
      "cell_type": "code",
      "metadata": {
        "id": "4VYjGpBq0dbo",
        "cellView": "both",
        "outputId": "9aa33885-d194-473c-cc8d-b35a49bd3e43",
        "colab": {
          "base_uri": "https://localhost:8080/",
          "height": 323
        }
      },
      "source": [
        "# 결측치가 제거된것을 알 수 있다.\n",
        "\n",
        "DF %>% summary()"
      ],
      "execution_count": null,
      "outputs": [
        {
          "output_type": "stream",
          "text": [
            "\n",
            " 177 values imputed to 28 \n",
            "\n"
          ],
          "name": "stdout"
        },
        {
          "output_type": "display_data",
          "data": {
            "text/plain": [
              " Survived     Pclass          Sex           Age            SibSp      \n",
              " 0:549    Min.   :1.000   female:314   Min.   : 0.42   Min.   :0.000  \n",
              " 1:342    1st Qu.:2.000   male  :577   1st Qu.:22.00   1st Qu.:0.000  \n",
              "          Median :3.000                Median :28.00   Median :0.000  \n",
              "          Mean   :2.309                Mean   :29.36   Mean   :0.523  \n",
              "          3rd Qu.:3.000                3rd Qu.:35.00   3rd Qu.:1.000  \n",
              "          Max.   :3.000                Max.   :80.00   Max.   :8.000  \n",
              "     Parch             Fare        Embarked\n",
              " Min.   :0.0000   Min.   :  0.00    :  2   \n",
              " 1st Qu.:0.0000   1st Qu.:  7.91   C:168   \n",
              " Median :0.0000   Median : 14.45   Q: 77   \n",
              " Mean   :0.3816   Mean   : 32.20   S:644   \n",
              " 3rd Qu.:0.0000   3rd Qu.: 31.00           \n",
              " Max.   :6.0000   Max.   :512.33           "
            ]
          },
          "metadata": {
            "tags": []
          }
        }
      ]
    },
    {
      "cell_type": "markdown",
      "metadata": {
        "id": "Ve4djNW74KeC"
      },
      "source": [
        "* train / test 분리"
      ]
    },
    {
      "cell_type": "code",
      "metadata": {
        "id": "TAZz5tMa4NWo",
        "cellView": "both",
        "outputId": "d5d6b24c-ee82-4ae8-f1ed-7405aaa9f7eb",
        "colab": {
          "base_uri": "https://localhost:8080/"
        }
      },
      "source": [
        "# train set 과 test set으로 분리한다.\n",
        "# createDataPartition 함수를 사용하여 데이터를 분리시켜준다.\n",
        "index <- createDataPartition(y = DF$Survived, p = 0.7, list = FALSE)\n",
        "train <- DF[index, ]\n",
        "test <- DF[-index, ]\n",
        "\n",
        "train %>% show()\n",
        "test %>% show()"
      ],
      "execution_count": null,
      "outputs": [
        {
          "output_type": "stream",
          "text": [
            "\u001b[90m# A tibble: 625 x 8\u001b[39m\n",
            "   Survived Pclass Sex      Age SibSp Parch  Fare Embarked\n",
            "   \u001b[3m\u001b[90m<fct>\u001b[39m\u001b[23m     \u001b[3m\u001b[90m<int>\u001b[39m\u001b[23m \u001b[3m\u001b[90m<fct>\u001b[39m\u001b[23m  \u001b[3m\u001b[90m<dbl>\u001b[39m\u001b[23m \u001b[3m\u001b[90m<int>\u001b[39m\u001b[23m \u001b[3m\u001b[90m<int>\u001b[39m\u001b[23m \u001b[3m\u001b[90m<dbl>\u001b[39m\u001b[23m \u001b[3m\u001b[90m<fct>\u001b[39m\u001b[23m   \n",
            "\u001b[90m 1\u001b[39m 0             3 male      22     1     0  7.25 S       \n",
            "\u001b[90m 2\u001b[39m 1             1 female    38     1     0 71.3  C       \n",
            "\u001b[90m 3\u001b[39m 1             1 female    35     1     0 53.1  S       \n",
            "\u001b[90m 4\u001b[39m 0             3 male      35     0     0  8.05 S       \n",
            "\u001b[90m 5\u001b[39m 0             1 male      54     0     0 51.9  S       \n",
            "\u001b[90m 6\u001b[39m 1             3 female    27     0     2 11.1  S       \n",
            "\u001b[90m 7\u001b[39m 1             2 female    14     1     0 30.1  C       \n",
            "\u001b[90m 8\u001b[39m 1             3 female     4     1     1 16.7  S       \n",
            "\u001b[90m 9\u001b[39m 1             1 female    58     0     0 26.6  S       \n",
            "\u001b[90m10\u001b[39m 0             3 male      20     0     0  8.05 S       \n",
            "\u001b[90m# … with 615 more rows\u001b[39m\n",
            "\u001b[90m# A tibble: 266 x 8\u001b[39m\n",
            "   Survived Pclass Sex    Age      SibSp Parch  Fare Embarked\n",
            "   \u001b[3m\u001b[90m<fct>\u001b[39m\u001b[23m     \u001b[3m\u001b[90m<int>\u001b[39m\u001b[23m \u001b[3m\u001b[90m<fct>\u001b[39m\u001b[23m  \u001b[3m\u001b[90m<impute>\u001b[39m\u001b[23m \u001b[3m\u001b[90m<int>\u001b[39m\u001b[23m \u001b[3m\u001b[90m<int>\u001b[39m\u001b[23m \u001b[3m\u001b[90m<dbl>\u001b[39m\u001b[23m \u001b[3m\u001b[90m<fct>\u001b[39m\u001b[23m   \n",
            "\u001b[90m 1\u001b[39m 1             3 female 26           0     0  7.92 S       \n",
            "\u001b[90m 2\u001b[39m 0             3 male   28           0     0  8.46 Q       \n",
            "\u001b[90m 3\u001b[39m 0             3 male    2           3     1 21.1  S       \n",
            "\u001b[90m 4\u001b[39m 1             2 female 55           0     0 16    S       \n",
            "\u001b[90m 5\u001b[39m 1             2 male   28           0     0 13    S       \n",
            "\u001b[90m 6\u001b[39m 0             3 female 31           1     0 18    S       \n",
            "\u001b[90m 7\u001b[39m 0             2 male   35           0     0 26    S       \n",
            "\u001b[90m 8\u001b[39m 1             3 female 15           0     0  8.03 Q       \n",
            "\u001b[90m 9\u001b[39m 1             1 male   28           0     0 35.5  S       \n",
            "\u001b[90m10\u001b[39m 1             3 female 28           0     0  7.75 Q       \n",
            "\u001b[90m# … with 256 more rows\u001b[39m\n"
          ],
          "name": "stdout"
        }
      ]
    },
    {
      "cell_type": "markdown",
      "metadata": {
        "id": "MuMWArUy_sAw"
      },
      "source": [
        "* **train을 이용한 glm 모델 생성**"
      ]
    },
    {
      "cell_type": "code",
      "metadata": {
        "id": "mDJZEgS7dox6",
        "cellView": "both",
        "outputId": "594281df-0dc2-4276-d8db-49798c329d97",
        "colab": {
          "base_uri": "https://localhost:8080/",
          "height": 557
        }
      },
      "source": [
        "# 로지스틱 회귀로 모델을 생성한다. -> 종속변수가 이진일경우 사용함\n",
        "\n",
        "m <- glm(Survived ~ ., data = train, family = \"binomial\")\n",
        "summary(m)"
      ],
      "execution_count": null,
      "outputs": [
        {
          "output_type": "display_data",
          "data": {
            "text/plain": [
              "\n",
              "Call:\n",
              "glm(formula = Survived ~ ., family = \"binomial\", data = train)\n",
              "\n",
              "Deviance Residuals: \n",
              "    Min       1Q   Median       3Q      Max  \n",
              "-1.8771  -0.5612  -0.3947   0.5644   2.4712  \n",
              "\n",
              "Coefficients:\n",
              "              Estimate Std. Error z value Pr(>|z|)    \n",
              "(Intercept)  16.987632 535.411710   0.032   0.9747    \n",
              "Pclass       -1.182623   0.177511  -6.662 2.70e-11 ***\n",
              "Sexmale      -2.872845   0.257504 -11.157  < 2e-16 ***\n",
              "Age          -0.040595   0.009634  -4.214 2.51e-05 ***\n",
              "SibSp        -0.335380   0.130902  -2.562   0.0104 *  \n",
              "Parch        -0.151976   0.140028  -1.085   0.2778    \n",
              "Fare          0.003475   0.003143   1.106   0.2689    \n",
              "EmbarkedC   -11.226504 535.411343  -0.021   0.9833    \n",
              "EmbarkedQ   -11.629703 535.411422  -0.022   0.9827    \n",
              "EmbarkedS   -11.773222 535.411321  -0.022   0.9825    \n",
              "---\n",
              "Signif. codes:  0 ‘***’ 0.001 ‘**’ 0.01 ‘*’ 0.05 ‘.’ 0.1 ‘ ’ 1\n",
              "\n",
              "(Dispersion parameter for binomial family taken to be 1)\n",
              "\n",
              "    Null deviance: 832.49  on 624  degrees of freedom\n",
              "Residual deviance: 530.23  on 615  degrees of freedom\n",
              "AIC: 550.23\n",
              "\n",
              "Number of Fisher Scoring iterations: 12\n"
            ]
          },
          "metadata": {
            "tags": []
          }
        }
      ]
    },
    {
      "cell_type": "markdown",
      "metadata": {
        "id": "FoMfyYOVAY6N"
      },
      "source": [
        "* **유의하지 않은 설명변수 제거(step 이용)**"
      ]
    },
    {
      "cell_type": "code",
      "metadata": {
        "id": "p3jddsqV_5SU",
        "cellView": "both",
        "outputId": "909899e5-01f3-4b24-d8c3-b5fe6d64012c",
        "colab": {
          "base_uri": "https://localhost:8080/"
        }
      },
      "source": [
        "# 설명변수를 제거해준다. -> z-value  결과 안좋은 것들 제거하기\n",
        "# 유의하지 않은 변수들을 제거해준다.\n",
        "\n",
        "m2 <- step(m, direction = \"backward\")"
      ],
      "execution_count": null,
      "outputs": [
        {
          "output_type": "stream",
          "text": [
            "Start:  AIC=550.23\n",
            "Survived ~ Pclass + Sex + Age + SibSp + Parch + Fare + Embarked\n",
            "\n",
            "           Df Deviance    AIC\n",
            "- Embarked  3   534.24 548.24\n",
            "- Parch     1   531.45 549.45\n",
            "- Fare      1   531.70 549.70\n",
            "<none>          530.23 550.23\n",
            "- SibSp     1   537.91 555.91\n",
            "- Age       1   549.41 567.41\n",
            "- Pclass    1   574.71 592.71\n",
            "- Sex       1   693.49 711.49\n",
            "\n",
            "Step:  AIC=548.24\n",
            "Survived ~ Pclass + Sex + Age + SibSp + Parch + Fare\n",
            "\n",
            "         Df Deviance    AIC\n",
            "- Parch   1   535.68 547.68\n",
            "<none>        534.24 548.24\n",
            "- Fare    1   536.67 548.67\n",
            "- SibSp   1   543.51 555.51\n",
            "- Age     1   553.62 565.62\n",
            "- Pclass  1   582.95 594.95\n",
            "- Sex     1   707.70 719.70\n",
            "\n",
            "Step:  AIC=547.68\n",
            "Survived ~ Pclass + Sex + Age + SibSp + Fare\n",
            "\n",
            "         Df Deviance    AIC\n",
            "- Fare    1   537.46 547.46\n",
            "<none>        535.68 547.68\n",
            "- SibSp   1   548.06 558.06\n",
            "- Age     1   555.12 565.12\n",
            "- Pclass  1   589.01 599.01\n",
            "- Sex     1   710.98 720.98\n",
            "\n",
            "Step:  AIC=547.46\n",
            "Survived ~ Pclass + Sex + Age + SibSp\n",
            "\n",
            "         Df Deviance    AIC\n",
            "<none>        537.46 547.46\n",
            "- SibSp   1   548.42 556.42\n",
            "- Age     1   557.36 565.36\n",
            "- Pclass  1   634.53 642.53\n",
            "- Sex     1   716.90 724.90\n"
          ],
          "name": "stdout"
        }
      ]
    },
    {
      "cell_type": "code",
      "metadata": {
        "id": "zR94jZITANvk",
        "cellView": "both",
        "outputId": "79f7aed1-508a-469e-b865-a1be31afceac",
        "colab": {
          "base_uri": "https://localhost:8080/",
          "height": 485
        }
      },
      "source": [
        "# 유의하지 않은 변수들이 제거된것을 알 수 있다.\n",
        "\n",
        "summary(m2)"
      ],
      "execution_count": null,
      "outputs": [
        {
          "output_type": "display_data",
          "data": {
            "text/plain": [
              "\n",
              "Call:\n",
              "glm(formula = Survived ~ Pclass + Sex + Age + SibSp, family = \"binomial\", \n",
              "    data = train)\n",
              "\n",
              "Deviance Residuals: \n",
              "    Min       1Q   Median       3Q      Max  \n",
              "-1.9065  -0.5586  -0.3870   0.5658   2.4546  \n",
              "\n",
              "Coefficients:\n",
              "             Estimate Std. Error z value Pr(>|z|)    \n",
              "(Intercept)  5.728172   0.595353   9.621  < 2e-16 ***\n",
              "Pclass      -1.335457   0.149011  -8.962  < 2e-16 ***\n",
              "Sexmale     -2.847343   0.242839 -11.725  < 2e-16 ***\n",
              "Age         -0.040814   0.009521  -4.287 1.81e-05 ***\n",
              "SibSp       -0.370124   0.123264  -3.003  0.00268 ** \n",
              "---\n",
              "Signif. codes:  0 ‘***’ 0.001 ‘**’ 0.01 ‘*’ 0.05 ‘.’ 0.1 ‘ ’ 1\n",
              "\n",
              "(Dispersion parameter for binomial family taken to be 1)\n",
              "\n",
              "    Null deviance: 832.49  on 624  degrees of freedom\n",
              "Residual deviance: 537.46  on 620  degrees of freedom\n",
              "AIC: 547.46\n",
              "\n",
              "Number of Fisher Scoring iterations: 5\n"
            ]
          },
          "metadata": {
            "tags": []
          }
        }
      ]
    },
    {
      "cell_type": "markdown",
      "metadata": {
        "id": "ka8h1I5pBDge"
      },
      "source": [
        "* **test를 이용한 예측**"
      ]
    },
    {
      "cell_type": "code",
      "metadata": {
        "id": "-AQJbi-nAuoq",
        "cellView": "both",
        "outputId": "796cb51d-0d0e-4e11-cf5f-6f31aeaef776",
        "colab": {
          "base_uri": "https://localhost:8080/"
        }
      },
      "source": [
        "# test를 이용해서 예측한다.\n",
        "# type을 response로 설정해 줌으로써 확률로 값이 나온다.\n",
        "\n",
        "predict_value <- predict(m2, test, type = \"response\") %>% tibble(predict_value = .)\n",
        "predict_check <- test %>% select(Survived) %>% dplyr::bind_cols(., predict_value) \n",
        "predict_check %>% show()"
      ],
      "execution_count": null,
      "outputs": [
        {
          "output_type": "stream",
          "text": [
            "\u001b[90m# A tibble: 266 x 2\u001b[39m\n",
            "   Survived predict_value\n",
            "   \u001b[3m\u001b[90m<fct>\u001b[39m\u001b[23m            \u001b[3m\u001b[90m<dbl>\u001b[39m\u001b[23m\n",
            "\u001b[90m 1\u001b[39m 1               0.659 \n",
            "\u001b[90m 2\u001b[39m 0               0.093\u001b[4m8\u001b[24m\n",
            "\u001b[90m 3\u001b[39m 0               0.089\u001b[4m7\u001b[24m\n",
            "\u001b[90m 4\u001b[39m 1               0.693 \n",
            "\u001b[90m 5\u001b[39m 1               0.282 \n",
            "\u001b[90m 6\u001b[39m 0               0.522 \n",
            "\u001b[90m 7\u001b[39m 0               0.228 \n",
            "\u001b[90m 8\u001b[39m 1               0.752 \n",
            "\u001b[90m 9\u001b[39m 1               0.599 \n",
            "\u001b[90m10\u001b[39m 1               0.641 \n",
            "\u001b[90m# … with 256 more rows\u001b[39m\n"
          ],
          "name": "stdout"
        }
      ]
    },
    {
      "cell_type": "code",
      "metadata": {
        "id": "6wfRgqPTr3tt",
        "cellView": "both",
        "outputId": "32147bfc-d7fa-40e6-8aea-08905677286b",
        "colab": {
          "base_uri": "https://localhost:8080/",
          "height": 689
        }
      },
      "source": [
        "# 정답과 예측값을 넣어줘서 ROC 커브를 그려준다.\n",
        "\n",
        "roc <- roc(predict_check$Survived, predict_check$predict_value)\n",
        "plot.roc(roc,   \n",
        "        col=\"royalblue\",  \n",
        "        print.auc=TRUE, \n",
        "        max.auc.polygon=TRUE,   \n",
        "        print.thres=TRUE, print.thres.pch=19, print.thres.col = \"red\",\n",
        "        auc.polygon=TRUE, auc.polygon.col=\"#D1F2EB\")"
      ],
      "execution_count": null,
      "outputs": [
        {
          "output_type": "stream",
          "text": [
            "Setting levels: control = 0, case = 1\n",
            "\n",
            "Setting direction: controls < cases\n",
            "\n"
          ],
          "name": "stderr"
        },
        {
          "output_type": "display_data",
          "data": {
            "image/png": "[encoded data removed]",
            "text/plain": [
              "plot without title"
            ]
          },
          "metadata": {
            "tags": [],
            "image/png": {
              "width": 600,
              "height": 600
            }
          }
        }
      ]
    },
    {
      "cell_type": "code",
      "metadata": {
        "id": "MrZQ9XGC5b7B",
        "cellView": "both",
        "outputId": "a2d0e3ab-e3cd-40d1-f5f8-c5ea51a693d4",
        "colab": {
          "base_uri": "https://localhost:8080/",
          "height": 133
        }
      },
      "source": [
        "# 가장좋은 cut_off_value 값을 찾아준다\n",
        "pROC::coords(roc, \"best\", ret = \"threshold\", transpose = F)"
      ],
      "execution_count": null,
      "outputs": [
        {
          "output_type": "display_data",
          "data": {
            "text/plain": [
              "  threshold\n",
              "1 0.6393213"
            ],
            "text/latex": "A data.frame: 1 × 1\n\\begin{tabular}{l}\n threshold\\\\\n <dbl>\\\\\n\\hline\n\t 0.6393213\\\\\n\\end{tabular}\n",
            "text/markdown": "\nA data.frame: 1 × 1\n\n| threshold &lt;dbl&gt; |\n|---|\n| 0.6393213 |\n\n",
            "text/html": [
              "<table>\n",
              "<caption>A data.frame: 1 × 1</caption>\n",
              "<thead>\n",
              "\t<tr><th scope=col>threshold</th></tr>\n",
              "\t<tr><th scope=col>&lt;dbl&gt;</th></tr>\n",
              "</thead>\n",
              "<tbody>\n",
              "\t<tr><td>0.6393213</td></tr>\n",
              "</tbody>\n",
              "</table>\n"
            ]
          },
          "metadata": {
            "tags": []
          }
        }
      ]
    },
    {
      "cell_type": "markdown",
      "metadata": {
        "id": "vHdOojum5ttT"
      },
      "source": [
        "* 생성한 모델을 이용하여 kaggle에 제출해보기 ㅎ"
      ]
    },
    {
      "cell_type": "code",
      "metadata": {
        "id": "DPOdsGeF5hc_",
        "cellView": "both",
        "outputId": "cbd3861e-a359-4f1d-f890-3a610429f0f8",
        "colab": {
          "base_uri": "https://localhost:8080/",
          "height": 449
        }
      },
      "source": [
        "# 데이터 가져오기\n",
        "\n",
        "test_kaggle <- fread(\"https://raw.githubusercontent.com/Jin0331/TA/master/data/titanic/test.csv\", sep = \",\") %>% as_tibble()\n",
        "test_kaggle %>% summary()"
      ],
      "execution_count": null,
      "outputs": [
        {
          "output_type": "display_data",
          "data": {
            "text/plain": [
              "  PassengerId         Pclass          Name               Sex           \n",
              " Min.   : 892.0   Min.   :1.000   Length:418         Length:418        \n",
              " 1st Qu.: 996.2   1st Qu.:1.000   Class :character   Class :character  \n",
              " Median :1100.5   Median :3.000   Mode  :character   Mode  :character  \n",
              " Mean   :1100.5   Mean   :2.266                                        \n",
              " 3rd Qu.:1204.8   3rd Qu.:3.000                                        \n",
              " Max.   :1309.0   Max.   :3.000                                        \n",
              "                                                                       \n",
              "      Age            SibSp            Parch           Ticket         \n",
              " Min.   : 0.17   Min.   :0.0000   Min.   :0.0000   Length:418        \n",
              " 1st Qu.:21.00   1st Qu.:0.0000   1st Qu.:0.0000   Class :character  \n",
              " Median :27.00   Median :0.0000   Median :0.0000   Mode  :character  \n",
              " Mean   :30.27   Mean   :0.4474   Mean   :0.3923                     \n",
              " 3rd Qu.:39.00   3rd Qu.:1.0000   3rd Qu.:0.0000                     \n",
              " Max.   :76.00   Max.   :8.0000   Max.   :9.0000                     \n",
              " NA's   :86                                                          \n",
              "      Fare            Cabin             Embarked        \n",
              " Min.   :  0.000   Length:418         Length:418        \n",
              " 1st Qu.:  7.896   Class :character   Class :character  \n",
              " Median : 14.454   Mode  :character   Mode  :character  \n",
              " Mean   : 35.627                                        \n",
              " 3rd Qu.: 31.500                                        \n",
              " Max.   :512.329                                        \n",
              " NA's   :1                                              "
            ]
          },
          "metadata": {
            "tags": []
          }
        }
      ]
    },
    {
      "cell_type": "markdown",
      "metadata": {
        "id": "QVF_LY_m6Z2G"
      },
      "source": [
        "* NA 값 추정(median)"
      ]
    },
    {
      "cell_type": "code",
      "metadata": {
        "id": "D_R839Dq5_x3",
        "cellView": "both",
        "outputId": "86fcc708-4ab4-44d9-a19c-33b3c6c561fc",
        "colab": {
          "base_uri": "https://localhost:8080/",
          "height": 503
        }
      },
      "source": [
        "\n",
        "test_kaggle$Age <- impute(test_kaggle$Age, median)# 결측치를 중앙값으로 대체\n",
        "test_kaggle %>% summary()"
      ],
      "execution_count": null,
      "outputs": [
        {
          "output_type": "stream",
          "text": [
            "\n",
            " 86 values imputed to 27 \n",
            "\n"
          ],
          "name": "stdout"
        },
        {
          "output_type": "display_data",
          "data": {
            "text/plain": [
              "  PassengerId         Pclass          Name               Sex           \n",
              " Min.   : 892.0   Min.   :1.000   Length:418         Length:418        \n",
              " 1st Qu.: 996.2   1st Qu.:1.000   Class :character   Class :character  \n",
              " Median :1100.5   Median :3.000   Mode  :character   Mode  :character  \n",
              " Mean   :1100.5   Mean   :2.266                                        \n",
              " 3rd Qu.:1204.8   3rd Qu.:3.000                                        \n",
              " Max.   :1309.0   Max.   :3.000                                        \n",
              "                                                                       \n",
              "      Age            SibSp            Parch           Ticket         \n",
              " Min.   : 0.17   Min.   :0.0000   Min.   :0.0000   Length:418        \n",
              " 1st Qu.:23.00   1st Qu.:0.0000   1st Qu.:0.0000   Class :character  \n",
              " Median :27.00   Median :0.0000   Median :0.0000   Mode  :character  \n",
              " Mean   :29.60   Mean   :0.4474   Mean   :0.3923                     \n",
              " 3rd Qu.:35.75   3rd Qu.:1.0000   3rd Qu.:0.0000                     \n",
              " Max.   :76.00   Max.   :8.0000   Max.   :9.0000                     \n",
              "                                                                     \n",
              "      Fare            Cabin             Embarked        \n",
              " Min.   :  0.000   Length:418         Length:418        \n",
              " 1st Qu.:  7.896   Class :character   Class :character  \n",
              " Median : 14.454   Mode  :character   Mode  :character  \n",
              " Mean   : 35.627                                        \n",
              " 3rd Qu.: 31.500                                        \n",
              " Max.   :512.329                                        \n",
              " NA's   :1                                              "
            ]
          },
          "metadata": {
            "tags": []
          }
        }
      ]
    },
    {
      "cell_type": "markdown",
      "metadata": {
        "id": "7Zg-lDK96c87"
      },
      "source": [
        "* 범주형 변수"
      ]
    },
    {
      "cell_type": "code",
      "metadata": {
        "id": "DsOkG9zS6Lbn",
        "cellView": "both",
        "outputId": "2f149ed1-a430-47a9-dc2a-ad947bcfd9e8",
        "colab": {
          "base_uri": "https://localhost:8080/",
          "height": 359
        }
      },
      "source": [
        "# 범주형 변수로 바꿔준다.\n",
        "\n",
        "test_kaggle <- test_kaggle %>% \n",
        " select(-Name, -Cabin, -Ticket) %>% mutate_at(c(\"Sex\",\"Embarked\"), factor)\n",
        "summary(test_kaggle)"
      ],
      "execution_count": null,
      "outputs": [
        {
          "output_type": "stream",
          "text": [
            "\n",
            " 86 values imputed to 27 \n",
            "\n"
          ],
          "name": "stdout"
        },
        {
          "output_type": "display_data",
          "data": {
            "text/plain": [
              "  PassengerId         Pclass          Sex           Age            SibSp       \n",
              " Min.   : 892.0   Min.   :1.000   female:152   Min.   : 0.17   Min.   :0.0000  \n",
              " 1st Qu.: 996.2   1st Qu.:1.000   male  :266   1st Qu.:23.00   1st Qu.:0.0000  \n",
              " Median :1100.5   Median :3.000                Median :27.00   Median :0.0000  \n",
              " Mean   :1100.5   Mean   :2.266                Mean   :29.60   Mean   :0.4474  \n",
              " 3rd Qu.:1204.8   3rd Qu.:3.000                3rd Qu.:35.75   3rd Qu.:1.0000  \n",
              " Max.   :1309.0   Max.   :3.000                Max.   :76.00   Max.   :8.0000  \n",
              "                                                                               \n",
              "     Parch             Fare         Embarked\n",
              " Min.   :0.0000   Min.   :  0.000   C:102   \n",
              " 1st Qu.:0.0000   1st Qu.:  7.896   Q: 46   \n",
              " Median :0.0000   Median : 14.454   S:270   \n",
              " Mean   :0.3923   Mean   : 35.627           \n",
              " 3rd Qu.:0.0000   3rd Qu.: 31.500           \n",
              " Max.   :9.0000   Max.   :512.329           \n",
              "                  NA's   :1                 "
            ]
          },
          "metadata": {
            "tags": []
          }
        }
      ]
    },
    {
      "cell_type": "markdown",
      "metadata": {
        "id": "edngjPnL68t_"
      },
      "source": [
        "* 예측"
      ]
    },
    {
      "cell_type": "code",
      "metadata": {
        "id": "CT6XoDZj6hvO",
        "cellView": "both"
      },
      "source": [
        "\n",
        "predict_value <- predict(m2, test_kaggle, type = \"response\") %>% tibble(Survived = .)\n",
        "predict_cutoff <- test_kaggle %>% select(PassengerId) %>% dplyr::bind_cols(., predict_value) %>%\n",
        " mutate(Survived = ifelse(Survived >= 0.4169107, 1, 0))# cut_off_value를 최적으로 바꿔준다. 모델 만들때마다 계속 변경됨"
      ],
      "execution_count": null,
      "outputs": []
    },
    {
      "cell_type": "code",
      "metadata": {
        "id": "uHAGIYHb7D4O",
        "cellView": "both",
        "outputId": "09c22bd8-5857-4e3c-8e6b-b9e6567de46b",
        "colab": {
          "base_uri": "https://localhost:8080/"
        }
      },
      "source": [
        "\n",
        "predict_cutoff %>% show()"
      ],
      "execution_count": null,
      "outputs": [
        {
          "output_type": "stream",
          "text": [
            "\u001b[90m# A tibble: 418 x 2\u001b[39m\n",
            "   PassengerId Survived\n",
            "         \u001b[3m\u001b[90m<int>\u001b[39m\u001b[23m    \u001b[3m\u001b[90m<dbl>\u001b[39m\u001b[23m\n",
            "\u001b[90m 1\u001b[39m         892        0\n",
            "\u001b[90m 2\u001b[39m         893        0\n",
            "\u001b[90m 3\u001b[39m         894        0\n",
            "\u001b[90m 4\u001b[39m         895        0\n",
            "\u001b[90m 5\u001b[39m         896        1\n",
            "\u001b[90m 6\u001b[39m         897        0\n",
            "\u001b[90m 7\u001b[39m         898        1\n",
            "\u001b[90m 8\u001b[39m         899        0\n",
            "\u001b[90m 9\u001b[39m         900        1\n",
            "\u001b[90m10\u001b[39m         901        0\n",
            "\u001b[90m# … with 408 more rows\u001b[39m\n"
          ],
          "name": "stdout"
        }
      ]
    },
    {
      "cell_type": "code",
      "metadata": {
        "id": "1otSG2CI7sji",
        "cellView": "both",
        "outputId": "191ba63a-719b-41b6-ed62-454dd539aaa1",
        "colab": {
          "base_uri": "https://localhost:8080/"
        }
      },
      "source": [
        "# 데이터 생성 ->  kaggle에 제출하기 위해서 \n",
        "\n",
        "predict_cutoff %>% write_csv(path = \"submission.csv\")"
      ],
      "execution_count": null,
      "outputs": [
        {
          "output_type": "stream",
          "text": [
            "Warning message:\n",
            "“The `path` argument of `write_csv()` is deprecated as of readr 1.4.0.\n",
            "Please use the `file` argument instead.\n",
            "\u001b[90mThis warning is displayed once every 8 hours.\u001b[39m\n",
            "\u001b[90mCall `lifecycle::last_warnings()` to see where this warning was generated.\u001b[39m”\n"
          ],
          "name": "stderr"
        }
      ]
    }
  ]
}