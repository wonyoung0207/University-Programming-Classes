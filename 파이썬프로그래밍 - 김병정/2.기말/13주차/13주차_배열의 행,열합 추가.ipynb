{
  "nbformat": 4,
  "nbformat_minor": 0,
  "metadata": {
    "colab": {
      "name": "Untitled29.ipynb",
      "provenance": []
    },
    "kernelspec": {
      "name": "python3",
      "display_name": "Python 3"
    }
  },
  "cells": [
    {
      "cell_type": "markdown",
      "metadata": {
        "id": "ZdZ1EQsBI9xt"
      },
      "source": [
        "# 2차원 배열의 리스트값 입력받고, 행과 열의 합을 구한 후, 행과 열을 추가하는 프로그램 작성"
      ]
    },
    {
      "cell_type": "code",
      "metadata": {
        "id": "mTEGNf8wEZPn"
      },
      "source": [
        "import numpy as np\n"
      ],
      "execution_count": 1,
      "outputs": []
    },
    {
      "cell_type": "code",
      "metadata": {
        "colab": {
          "base_uri": "https://localhost:8080/"
        },
        "id": "qHLLY0mJEgPT",
        "outputId": "f5ac2f0f-899b-4c09-df3b-c9623efc2667"
      },
      "source": [
        "row,col = 3,4\n",
        "li = [[i+1 + j*col for i in range(col)] for j in range(row)]\n",
        "print(li)"
      ],
      "execution_count": 10,
      "outputs": [
        {
          "output_type": "stream",
          "text": [
            "[[1, 2, 3, 4], [5, 6, 7, 8], [9, 10, 11, 12]]\n"
          ],
          "name": "stdout"
        }
      ]
    },
    {
      "cell_type": "markdown",
      "metadata": {
        "id": "paRkMJVFHqUs"
      },
      "source": [
        ""
      ]
    },
    {
      "cell_type": "code",
      "metadata": {
        "colab": {
          "base_uri": "https://localhost:8080/"
        },
        "id": "qWeUeW4rE5SI",
        "outputId": "293b430b-08f2-4f8c-d37a-05ce51f6257e"
      },
      "source": [
        "np1 = np.array(li)\n",
        "print(np1)"
      ],
      "execution_count": 25,
      "outputs": [
        {
          "output_type": "stream",
          "text": [
            "[[ 1  2  3  4]\n",
            " [ 5  6  7  8]\n",
            " [ 9 10 11 12]]\n"
          ],
          "name": "stdout"
        }
      ]
    },
    {
      "cell_type": "code",
      "metadata": {
        "colab": {
          "base_uri": "https://localhost:8080/"
        },
        "id": "7X4dcSBAIbGV",
        "outputId": "da188bda-ac7e-41e4-9896-5966c79cace2"
      },
      "source": [
        "col_sum = np.sum(np1, axis=0)## 3행만 남음\n",
        "print(col_sum)\n",
        "print()\n",
        "\n",
        "np1 = np.row_stack((np1,col_sum))\n",
        "print(np1)\n"
      ],
      "execution_count": 26,
      "outputs": [
        {
          "output_type": "stream",
          "text": [
            "[15 18 21 24]\n",
            "\n",
            "[[ 1  2  3  4]\n",
            " [ 5  6  7  8]\n",
            " [ 9 10 11 12]\n",
            " [15 18 21 24]]\n"
          ],
          "name": "stdout"
        }
      ]
    },
    {
      "cell_type": "code",
      "metadata": {
        "colab": {
          "base_uri": "https://localhost:8080/"
        },
        "id": "KG1YOU2xHGdE",
        "outputId": "d7ae8ab8-cc54-43b7-ffd6-e2b299eff79f"
      },
      "source": [
        "row_sum = np.sum(np1, axis=1)#4열만 남음\n",
        "print(row_sum)\n",
        "print()\n",
        "\n",
        "np1 = np.column_stack((np1,row_sum))\n",
        "print(np1)\n"
      ],
      "execution_count": 27,
      "outputs": [
        {
          "output_type": "stream",
          "text": [
            "[10 26 42 78]\n",
            "\n",
            "[[ 1  2  3  4 10]\n",
            " [ 5  6  7  8 26]\n",
            " [ 9 10 11 12 42]\n",
            " [15 18 21 24 78]]\n"
          ],
          "name": "stdout"
        }
      ]
    },
    {
      "cell_type": "code",
      "metadata": {
        "id": "a8N6UC1MHGaj"
      },
      "source": [
        "# 채워넣는 다른 방법\n",
        "# print(\"행 : \",np1.shape[0])\n",
        "# print(\"열 : \",np1.shape[1])\n",
        "\n",
        "np1 = np.array(li)\n",
        "np2 = np.zeros((np1.shape[0]+1, np1.shape[1]+1))#  np.shape[0] 하면 row의 길이 나옴\n",
        "\n"
      ],
      "execution_count": 42,
      "outputs": []
    },
    {
      "cell_type": "code",
      "metadata": {
        "colab": {
          "base_uri": "https://localhost:8080/"
        },
        "id": "CKp8v7-MHGXk",
        "outputId": "4acc722a-f654-44de-b739-41aad98d7294"
      },
      "source": [
        "np2[:-1, :-1] = np1\n",
        "print(np2)\n",
        "print()\n",
        "\n",
        "np2[-1,:] = np.sum(np2,axis=0)\n",
        "np2[:,-1] = np.sum(np2,axis=1)\n",
        "print(np2)"
      ],
      "execution_count": 44,
      "outputs": [
        {
          "output_type": "stream",
          "text": [
            "[[ 1.  2.  3.  4.  0.]\n",
            " [ 5.  6.  7.  8.  0.]\n",
            " [ 9. 10. 11. 12.  0.]\n",
            " [ 0.  0.  0.  0.  0.]]\n",
            "\n",
            "[[ 1.  2.  3.  4. 10.]\n",
            " [ 5.  6.  7.  8. 26.]\n",
            " [ 9. 10. 11. 12. 42.]\n",
            " [15. 18. 21. 24. 78.]]\n"
          ],
          "name": "stdout"
        }
      ]
    },
    {
      "cell_type": "code",
      "metadata": {
        "colab": {
          "base_uri": "https://localhost:8080/",
          "height": 187
        },
        "id": "oL_cPr-lHGP5",
        "outputId": "5142fd5c-fc05-4085-8680-f827376a5739"
      },
      "source": [
        "np1 = np.array(li)\n",
        "np2 = np.zeros(np1.shape[0]+1, np1.shape[1]+1)\n"
      ],
      "execution_count": 43,
      "outputs": [
        {
          "output_type": "error",
          "ename": "TypeError",
          "evalue": "ignored",
          "traceback": [
            "\u001b[0;31m---------------------------------------------------------------------------\u001b[0m",
            "\u001b[0;31mTypeError\u001b[0m                                 Traceback (most recent call last)",
            "\u001b[0;32m<ipython-input-43-7dc1a792b9a6>\u001b[0m in \u001b[0;36m<module>\u001b[0;34m()\u001b[0m\n\u001b[1;32m      1\u001b[0m \u001b[0mnp1\u001b[0m \u001b[0;34m=\u001b[0m \u001b[0mnp\u001b[0m\u001b[0;34m.\u001b[0m\u001b[0marray\u001b[0m\u001b[0;34m(\u001b[0m\u001b[0mli\u001b[0m\u001b[0;34m)\u001b[0m\u001b[0;34m\u001b[0m\u001b[0;34m\u001b[0m\u001b[0m\n\u001b[0;32m----> 2\u001b[0;31m \u001b[0mnp2\u001b[0m \u001b[0;34m=\u001b[0m \u001b[0mnp\u001b[0m\u001b[0;34m.\u001b[0m\u001b[0mzeros\u001b[0m\u001b[0;34m(\u001b[0m\u001b[0mnp1\u001b[0m\u001b[0;34m.\u001b[0m\u001b[0mshape\u001b[0m\u001b[0;34m[\u001b[0m\u001b[0;36m0\u001b[0m\u001b[0;34m]\u001b[0m\u001b[0;34m+\u001b[0m\u001b[0;36m1\u001b[0m\u001b[0;34m,\u001b[0m \u001b[0mnp1\u001b[0m\u001b[0;34m.\u001b[0m\u001b[0mshape\u001b[0m\u001b[0;34m[\u001b[0m\u001b[0;36m1\u001b[0m\u001b[0;34m]\u001b[0m\u001b[0;34m+\u001b[0m\u001b[0;36m1\u001b[0m\u001b[0;34m)\u001b[0m\u001b[0;34m\u001b[0m\u001b[0;34m\u001b[0m\u001b[0m\n\u001b[0m",
            "\u001b[0;31mTypeError\u001b[0m: data type not understood"
          ]
        }
      ]
    },
    {
      "cell_type": "code",
      "metadata": {
        "colab": {
          "base_uri": "https://localhost:8080/"
        },
        "id": "En_m9O7qFBD8",
        "outputId": "c6ab6600-c1d9-4c14-ca4a-03397d38d005"
      },
      "source": [
        "\n"
      ],
      "execution_count": 8,
      "outputs": [
        {
          "output_type": "stream",
          "text": [
            "행 :  4\n",
            "열 :  3\n"
          ],
          "name": "stdout"
        }
      ]
    }
  ]
}