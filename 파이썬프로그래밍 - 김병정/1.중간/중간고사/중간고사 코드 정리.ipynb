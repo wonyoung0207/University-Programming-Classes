{
  "nbformat": 4,
  "nbformat_minor": 0,
  "metadata": {
    "colab": {
      "name": "중간고사 코드 정리.ipynb",
      "provenance": [],
      "collapsed_sections": []
    },
    "kernelspec": {
      "name": "python3",
      "display_name": "Python 3"
    },
    "accelerator": "GPU"
  },
  "cells": [
    {
      "cell_type": "code",
      "metadata": {
        "id": "XVy7hJmsKNLr"
      },
      "source": [
        "a = \"Fe\"\n",
        "k = a.upper()\n",
        "print(k)\n",
        "if((k[0] >= '0' and k[0] <= '9') \\\n",
        "    or (k[0] >= 'A' and k[0] <= 'F')) \\\n",
        "    and \\\n",
        "    ((k[1] >= '0' and k[1] <= '9') \\\n",
        "    or (k[1] >= 'A' and k[1] <= 'F')) :\n",
        "      print(int(a,16))\n",
        "else:\n",
        "  print(\"16진수가 아닙니다.\")bb\n"
      ],
      "execution_count": null,
      "outputs": []
    },
    {
      "cell_type": "code",
      "metadata": {
        "id": "uYV9yjheLlZ7",
        "colab": {
          "base_uri": "https://localhost:8080/",
          "height": 35
        },
        "outputId": "cb108958-f9a6-4c48-9fcd-2d2c97690317"
      },
      "source": [
        "aaa = 3\n",
        "print(~aaa)"
      ],
      "execution_count": null,
      "outputs": [
        {
          "output_type": "stream",
          "text": [
            "-4\n"
          ],
          "name": "stdout"
        }
      ]
    },
    {
      "cell_type": "code",
      "metadata": {
        "id": "dPbPpgLoMoXr",
        "colab": {
          "base_uri": "https://localhost:8080/",
          "height": 35
        },
        "outputId": "bff3e3b8-20d1-4f9c-c166-209a06b768a3"
      },
      "source": [
        "print(not aaa)"
      ],
      "execution_count": null,
      "outputs": [
        {
          "output_type": "stream",
          "text": [
            "False\n"
          ],
          "name": "stdout"
        }
      ]
    },
    {
      "cell_type": "code",
      "metadata": {
        "id": "drKfQZSaMrNT",
        "colab": {
          "base_uri": "https://localhost:8080/",
          "height": 107
        },
        "outputId": "be723bf3-8294-46e3-fa98-7881478520d6"
      },
      "source": [
        "import random\n",
        "import math\n",
        "\n",
        "var = []\n",
        "for i in range(5):\n",
        "  a = random.randrange(1,11)\n",
        "  var.append(a)\n",
        "print(var)\n",
        "\n",
        "total =0\n",
        "\n",
        "for i in var:\n",
        "  total += i\n",
        "print(\"총합 : \" ,total)\n",
        "\n",
        "\n",
        "avg = total/ len(var)\n",
        "print('평균 : ' ,avg )\n",
        "\n",
        "for i in var:\n",
        "  total += (i-avg)**2\n",
        "varience = total/len(var)#분산\n",
        "print(\"분산 : \" , varience)\n",
        "std2 = math.sqrt(varience)#표준편차\n",
        "print(\"표준편차 : \", std2)"
      ],
      "execution_count": null,
      "outputs": [
        {
          "output_type": "stream",
          "text": [
            "[5, 4, 9, 3, 3]\n",
            "총합 :  24\n",
            "평균 :  4.8\n",
            "분산 :  9.760000000000002\n",
            "표준편차 :  3.124099870362662\n"
          ],
          "name": "stdout"
        }
      ]
    },
    {
      "cell_type": "code",
      "metadata": {
        "id": "oV41nc6az2ui",
        "colab": {
          "base_uri": "https://localhost:8080/",
          "height": 53
        },
        "outputId": "44fadc5f-bf76-47fd-f871-252698339c3e"
      },
      "source": [
        "a = \"10*3+2\"\n",
        "print(a,\"=\", eval(a))\n",
        "print(type(eval(a)))\n"
      ],
      "execution_count": null,
      "outputs": [
        {
          "output_type": "stream",
          "text": [
            "10*3+2 = 32\n",
            "<class 'int'>\n"
          ],
          "name": "stdout"
        }
      ]
    },
    {
      "cell_type": "code",
      "metadata": {
        "id": "2xgsV4UFz5Lx",
        "colab": {
          "base_uri": "https://localhost:8080/",
          "height": 53
        },
        "outputId": "562b87b0-3b61-4c04-f14c-8dbcfab88170"
      },
      "source": [
        "print(a+\"=\"+ str(eval(a)))\n",
        "print(format(eval(a),\"b\"))"
      ],
      "execution_count": null,
      "outputs": [
        {
          "output_type": "stream",
          "text": [
            "10*3+2=32\n",
            "100000\n"
          ],
          "name": "stdout"
        }
      ]
    },
    {
      "cell_type": "code",
      "metadata": {
        "id": "MqZA3K__z88g",
        "colab": {
          "base_uri": "https://localhost:8080/",
          "height": 35
        },
        "outputId": "d8c0cdeb-fb16-4769-9d79-0f7be3a42cd2"
      },
      "source": [
        "a='11'\n",
        "print(format(int(a),'x'))"
      ],
      "execution_count": null,
      "outputs": [
        {
          "output_type": "stream",
          "text": [
            "b\n"
          ],
          "name": "stdout"
        }
      ]
    },
    {
      "cell_type": "code",
      "metadata": {
        "id": "wt_iUHovz-vZ",
        "colab": {
          "base_uri": "https://localhost:8080/",
          "height": 107
        },
        "outputId": "22664be4-688f-4f7c-98c6-f6b4fc906e88"
      },
      "source": [
        "a='64'#각자리 비트로 바꾸면 0110 0100 -> 숫자로 바꾸면 64+32+4 = 100\n",
        "print(int(a,16))\n",
        "a='32'#각자리 비트로 바꾸면 0011 0010 -> 숫자로 바꾸면 32+16+2= 50\n",
        "print(int(a,16))\n",
        "a='34'\n",
        "print(int(a,16))\n",
        "a='12'\n",
        "print(int(a,16))\n",
        "a='0111'# 2진수는 0과 1만 존재한다. \n",
        "print(int(a,2))\n"
      ],
      "execution_count": null,
      "outputs": [
        {
          "output_type": "stream",
          "text": [
            "100\n",
            "50\n",
            "52\n",
            "18\n",
            "7\n"
          ],
          "name": "stdout"
        }
      ]
    },
    {
      "cell_type": "code",
      "metadata": {
        "id": "Imb3DkJy0A0x",
        "colab": {
          "base_uri": "https://localhost:8080/",
          "height": 89
        },
        "outputId": "74f19e41-9b62-4940-f04e-91afc0aa8ffd"
      },
      "source": [
        "print(format(6,'b'))#bin형은 0과1만 존재 -> 0110\n",
        "\n",
        "a=9\n",
        "print(format(a,'b'))#bin형은 0과1만존재 -> 1 0001\n",
        "\n",
        "a=15\n",
        "print(format(a,'x'))#16진수로, 숫자를 16으로 나눠줌 \n",
        "\n",
        "a=18\n",
        "print(format(a,'x'))#16진수로, 숫자를 16으로 나눠줌 "
      ],
      "execution_count": null,
      "outputs": [
        {
          "output_type": "stream",
          "text": [
            "110\n",
            "1001\n",
            "f\n",
            "12\n"
          ],
          "name": "stdout"
        }
      ]
    },
    {
      "cell_type": "code",
      "metadata": {
        "id": "75pXyLnAAQ_r",
        "colab": {
          "base_uri": "https://localhost:8080/",
          "height": 161
        },
        "outputId": "7ae8fc78-0ad5-4a29-df04-6b29ac9d1917"
      },
      "source": [
        "print(bin(int(\"%d\" % 11,10)))\n",
        "print(bin(int(\"%d\" % 11,2)))\n",
        "print(int(\"%d\" % 11,8))\n",
        "print(bin(int(\"%d\" % 11,8)))\n",
        "print(format(int(\"%d\" % 65),'b'))# 64 + 1 = 65\n",
        "print(format(int(\"%d\" % 65),'x'))# 4*16 + 1 = 65\n",
        "print(format(int(\"%d\" % 65),'b').zfill(8))\n",
        "print(format(int(\"%d\" % 65),'x').zfill(8))"
      ],
      "execution_count": null,
      "outputs": [
        {
          "output_type": "stream",
          "text": [
            "0b1011\n",
            "0b11\n",
            "9\n",
            "0b1001\n",
            "1000001\n",
            "41\n",
            "01000001\n",
            "00000041\n"
          ],
          "name": "stdout"
        }
      ]
    },
    {
      "cell_type": "code",
      "metadata": {
        "id": "leSZP0zxIofs"
      },
      "source": [
        "# 비트연산자 = &,\t|, ^(xor), ~, <<, >>\n",
        "# 논리연산자 = and, or, not\n"
      ],
      "execution_count": null,
      "outputs": []
    }
  ]
}