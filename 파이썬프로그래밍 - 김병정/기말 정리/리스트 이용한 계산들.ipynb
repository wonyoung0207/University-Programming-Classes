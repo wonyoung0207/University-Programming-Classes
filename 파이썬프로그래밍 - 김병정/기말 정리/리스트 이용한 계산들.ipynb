{
  "nbformat": 4,
  "nbformat_minor": 0,
  "metadata": {
    "colab": {
      "name": "리스트 이용한 계산들.ipynb",
      "provenance": [],
      "collapsed_sections": []
    },
    "kernelspec": {
      "name": "python3",
      "display_name": "Python 3"
    }
  },
  "cells": [
    {
      "cell_type": "markdown",
      "metadata": {
        "id": "Eu7FkLPJCUnk"
      },
      "source": [
        "#문제1\n",
        "리스트 [1,2,3,4,5]을 정의하고 각 원소에 곱하기 3을 수행한 새로운 리스트를 만드시오. 결과)[3,6,9,12,15]\n",
        "\n",
        "step1 : index이용\n",
        "\n",
        "step2 : 내장함수 이용\n",
        "\n",
        "step3 : 함수화\n",
        "\n",
        "step4 : List Comprehenseion\n",
        "\n",
        "step5 : 데이터타입 변환(numpy모듈)\n",
        "\n",
        "step6 : Map & Filter (Map 크기변화 x, Filter 크기변화 o)\n",
        "\n"
      ]
    },
    {
      "cell_type": "markdown",
      "metadata": {
        "id": "tXuAb4kVH_iJ"
      },
      "source": [
        ""
      ]
    },
    {
      "cell_type": "markdown",
      "metadata": {
        "id": "83vPhygwHt2O"
      },
      "source": [
        "abs ( 절댓값 )\r\n",
        "\r\n",
        "divmod ( 나누기 )\r\n",
        "\r\n",
        "enumerate -> 순서가 있는 자료형 ( 리스트 , 튜플 , 문자열 ) 을 입력받아 인덱스 값을 포함하는 enumerate 객체를 돌려준다.\r\n",
        "\r\n",
        "eval\r\n",
        "\r\n",
        "filter -> 결과를 true 또는 false로 반환하며, true의 원소만 가진 리스트 생성 \r\n",
        "\r\n",
        "map -> 원소를 받아 함수 수행 후 , 결과값을 반환. 새로운 리스트 생성\r\n",
        "\r\n",
        "max ( 최대값 )\r\n",
        "\r\n",
        "min ( 최소값 )\r\n",
        "\r\n",
        "pow ( 제곱 )\r\n",
        "\r\n",
        "round ( 반올림 )\r\n",
        "\r\n",
        "zip ( 동일한 개수로 묶어줌 )\r\n",
        "\r\n",
        "all -> 모두 참이면 True, 거짓이 하나라도 있으면 False를 돌려\r\n",
        "\r\n",
        "any ->  all(x)의 반대\r\n",
        "\r\n",
        "chr\r\n",
        "\r\n",
        "dir -> 객체가 자체적으로 가지고 있는 변수나 함수를 보여 준다\r\n",
        "\r\n",
        "hex -> 정수값을 16진수로 변환하여 돌려줌 \r\n",
        "\r\n",
        "oct -> 정수를 8진수 문자열로 바꿔주는 함수 \r\n",
        "\r\n",
        "input -> 사용자 입력 받는 함수 \r\n",
        "\r\n",
        "int -> 문자나 실수를 입력받아 정수로 돌려준다. \r\n",
        "\r\n",
        "isinstance\r\n",
        "\r\n",
        "len\r\n",
        "\r\n",
        "list -> 반복가능한 자료형을 입력받아 리스트로 만들어 돌려주는 함수 \r\n",
        "\r\n",
        "range -> 입력받은 숫자에 해당하는 범위 값을 반복 가능한 객체로 만듬 \r\n",
        "\r\n",
        "round -> 반올림 해주는 함수 \r\n",
        "\r\n",
        "sorted -> 정렬한 후 그 결과를 리스트로 돌려줌\r\n",
        "\r\n",
        "str -> 문자열로 바꾸어 돌려줌\r\n",
        "\r\n",
        "sum -> 모든 요소의 합을 돌려줌 \r\n",
        "\r\n",
        "tuple -> >>> tuple(\"abc\")  -> ('a', 'b', 'c')\r\n",
        "\r\n",
        "\r\n",
        "\r\n"
      ]
    },
    {
      "cell_type": "code",
      "metadata": {
        "id": "49cf_WphNs21"
      },
      "source": [
        "import numpy as np\n"
      ],
      "execution_count": 2,
      "outputs": []
    },
    {
      "cell_type": "markdown",
      "metadata": {
        "id": "XqzOXONNSVSK"
      },
      "source": [
        "> 디버깅 : 메모리의 변화를 관찰하는 작업"
      ]
    },
    {
      "cell_type": "code",
      "metadata": {
        "id": "HMy1Dve186l-",
        "colab": {
          "base_uri": "https://localhost:8080/"
        },
        "outputId": "54612e8d-6761-418f-b5bd-3483a1f3c551"
      },
      "source": [
        "# step 1\n",
        "li = [1,2,3,4,5]\n",
        "li_a = list(range(len(li)))\n",
        "li_b = [0,0,0,0,0]\n",
        "cnt =0\n",
        "\n",
        "for i in range(5):\n",
        "  li_a[i] = (li[i]*3)\n",
        "\n",
        "for i in li:\n",
        "  li_b[cnt] = (i*3)\n",
        "  cnt = cnt + 1\n",
        "\n",
        "print(li_a)\n",
        "print(li_b)"
      ],
      "execution_count": null,
      "outputs": [
        {
          "output_type": "stream",
          "text": [
            "[3, 6, 9, 12, 15]\n",
            "[3, 6, 9, 12, 15]\n"
          ],
          "name": "stdout"
        }
      ]
    },
    {
      "cell_type": "code",
      "metadata": {
        "id": "kXjUAJFgTNYW",
        "colab": {
          "base_uri": "https://localhost:8080/"
        },
        "outputId": "392ec099-5148-4542-e687-4d45a44f0750"
      },
      "source": [
        "# step 1의 다른방법 (인덱스 이용)\n",
        "li = [1,2,3,4,5]\n",
        "li_a = list(range(len(li)))# malloc c언어 -> 메모리를 확보한다. \n",
        "\n",
        "for i,k in enumerate(li):# enumerate : 인덱스 위치와 값을  가져온다. (2개의 값을 돌려준다)\n",
        "  # print(\"i= \", i) # 인덱스 위치 \n",
        "  # print(\"k= \", k) # 해당 인덱스 값 \n",
        "  li_a[i] = li[i]*3 # vectorization\n",
        "  # print(i,k)\n",
        "print(li_a)"
      ],
      "execution_count": null,
      "outputs": [
        {
          "output_type": "stream",
          "text": [
            "[3, 6, 9, 12, 15]\n"
          ],
          "name": "stdout"
        }
      ]
    },
    {
      "cell_type": "code",
      "metadata": {
        "id": "MvtyVIyOQCf2",
        "colab": {
          "base_uri": "https://localhost:8080/"
        },
        "outputId": "9ab1dfb9-9e19-447f-959d-ce726be186f4"
      },
      "source": [
        "# step 2 (내장함수 이용)\n",
        "li = [1,2,3,4,5]\n",
        "li_a = []\n",
        "\n",
        "for i in range(5):\n",
        "  li_a.append(li[i]*3)\n",
        "\n",
        "print(li_a)"
      ],
      "execution_count": null,
      "outputs": [
        {
          "output_type": "stream",
          "text": [
            "[3, 6, 9, 12, 15]\n"
          ],
          "name": "stdout"
        }
      ]
    },
    {
      "cell_type": "code",
      "metadata": {
        "id": "ieWtxPRmN-ir",
        "colab": {
          "base_uri": "https://localhost:8080/"
        },
        "outputId": "6e472cda-7757-4e2a-9e6d-5482b38b23b1"
      },
      "source": [
        "# step 3 (함수화)\n",
        "li = [1,2,3,4,5]\n",
        "li_a = [0,0,0,0,0]\n",
        "\n",
        "\n",
        "def mul(li):\n",
        "  for i in range(5):\n",
        "    li_a[i] = (li[i]*3)\n",
        "  return li_a\n",
        "  \n",
        "print(mul(li))"
      ],
      "execution_count": null,
      "outputs": [
        {
          "output_type": "stream",
          "text": [
            "[3, 6, 9, 12, 15]\n"
          ],
          "name": "stdout"
        }
      ]
    },
    {
      "cell_type": "code",
      "metadata": {
        "colab": {
          "base_uri": "https://localhost:8080/"
        },
        "id": "6LCWz8JOYXxJ",
        "outputId": "15f0982b-9131-4852-d810-2c3717b74317"
      },
      "source": [
        "# step 4 (List Compregension)\r\n",
        "# 리스트 컴프리헨션은 쉽게 말해 ‘리스트를 쉽게, 짧게 한 줄로 만들 수 있는 파이썬의 문법’이다\r\n",
        "# 장점\r\n",
        "# 코드가 간결하다.\r\n",
        "# 데이터베이스를 조회하여 리스트를 만들 때 많이 사용되므로, 새로운 배열을 만들때 특히 유용하다.\r\n",
        "# 반복문을 활용하여 새로운 배열을 만드는것 보다 처리속도가 빠르다.\r\n",
        "#단점 :복잡한 표현이 작성될 수록 가독성이 떨어진다.\r\n",
        "\r\n",
        "li = [i for i in range(1,6)]\r\n",
        "print(li)\r\n",
        "\r\n",
        "li_a = []\r\n",
        "li_a = [ i*3 for i in li]\r\n",
        "print(li_a)"
      ],
      "execution_count": null,
      "outputs": [
        {
          "output_type": "stream",
          "text": [
            "[1, 2, 3, 4, 5]\n",
            "[3, 6, 9, 12, 15]\n"
          ],
          "name": "stdout"
        }
      ]
    },
    {
      "cell_type": "code",
      "metadata": {
        "id": "BDOOZbpNNXul",
        "colab": {
          "base_uri": "https://localhost:8080/"
        },
        "outputId": "59017388-fdde-4ac8-bf5d-7c48dca5d264"
      },
      "source": [
        "# step 5 (numpy로 데이터 타입변환  )\n",
        "# numpy의 특징은 다음과 같습니다.\n",
        "# 일반 List에 비해 빠르고, 메모리를 효율적으로 사용한다.\n",
        "# 반복문 없이 데이터 배열에 대한 처리를 지원하여 빠르고 편리하다.\n",
        "# 선형대수와 관련된 다양한 기능을 제공한다.\n",
        "# C, C++, 포트란 등의 언어와 통합이 가능하다.\n",
        "\n",
        "li = [1,2,3,4,5]\n",
        "li_a = []\n",
        "li_a = np.array(li)\n",
        "print(li_a*3)\n",
        "\n",
        "li_b = np.array(li)\n",
        "li_b = li_b % 2 == 0\n",
        "print(li_b)"
      ],
      "execution_count": 8,
      "outputs": [
        {
          "output_type": "stream",
          "text": [
            "[ 3  6  9 12 15]\n",
            "[False  True False  True False]\n"
          ],
          "name": "stdout"
        }
      ]
    },
    {
      "cell_type": "code",
      "metadata": {
        "colab": {
          "base_uri": "https://localhost:8080/"
        },
        "id": "bRuh6tNKZWvd",
        "outputId": "f5b927eb-9d19-4466-a93d-36e1b6c95701"
      },
      "source": [
        "# step 6 (Map & Filter)\r\n",
        "\r\n",
        "# Map\r\n",
        "# map은 리스트의 요소를 지정된 함수로 처리해주는 함수입니다(map은 원본 리스트를 변경하지 않고 새 리스트를 생성)\r\n",
        "# 여러 개의 데이터를 한 번에 다른 형태로 변환하기 위해서 사용된다. \r\n",
        "# 더 간단하고 메모리도 절약할 수 있는 iterator를 결과로 받을 수 있습니다.\r\n",
        "\r\n",
        "# list(map(함수, 리스트))\r\n",
        "# tuple(map(함수, 튜플))\r\n",
        "\r\n",
        "def li_mul(num):\r\n",
        "  return num * 3\r\n",
        "\r\n",
        "\r\n",
        "li = [1,2,3,4,5]\r\n",
        "li_a = []\r\n",
        "\r\n",
        "# 꼭 list,tuple 형태로 map 사용해야함 \r\n",
        "li_a = list(map(li_mul,li)) # 함수와 함께 사용 -> 반복적으로 함수 적용 후 결과 누적 \r\n",
        "# li_a = list(map(lambda x: x*3, li)) # 같은 결과임 \r\n",
        "\r\n",
        "print(li_a)\r\n",
        "\r\n",
        "\r\n",
        "\r\n",
        "# Filter\r\n",
        "# 함수의 조건에 일치하는 값만 반환하고 싶을 때 사용\r\n",
        "# filter함수는 특정 조건으로 걸러서 걸러진 요소들로 iterator객체를 만들어서 리턴해줍니다\r\n",
        "# map함수와 사용 방법은 동일하나, 함수의 결과가 참인지 거짓인지에 따라, 해당 요소를 포함할지를 결정합니다.\r\n",
        "# 결과가 true 인 것만 여과한다. \r\n",
        "\r\n",
        "\r\n",
        "def li_mul_filter(num): # 결과를 true false로만 리턴함 \r\n",
        "  # return True if num > 3 else False # 3이상의 숫자만 여과함 -> 결과 4,5 출력\r\n",
        "  return True if type(num) == int or type(num) == float else False\r\n",
        "\r\n",
        "li_a = []\r\n",
        "li_a = list(filter(li_mul_filter,li)) #True 와 False 로 값이 출력된다.\r\n",
        "li_a = np.array(li_a)\r\n",
        "\r\n",
        "# li_a = list(filter(lambda x: x < 3, li)) # 3 이하의 값만 리턴\r\n",
        "\r\n",
        "print(li_a*3)\r\n"
      ],
      "execution_count": null,
      "outputs": [
        {
          "output_type": "stream",
          "text": [
            "[3, 6, 9, 12, 15]\n",
            "[ 3  6  9 12 15]\n"
          ],
          "name": "stdout"
        }
      ]
    },
    {
      "cell_type": "markdown",
      "metadata": {
        "id": "FOewebFUDogH"
      },
      "source": [
        "# 문제2\n",
        "리스트[1,2,3,4,5]을 정의하고 각 원소에 곱하기 3을 수행한 새로운 리스트를 만드시오. 단, 계산 결과가 짝수이면 0으로 치환해서 새로운 리스트를 만드시오\n",
        "\n",
        "결과) [3,0,9,15]\n"
      ]
    },
    {
      "cell_type": "code",
      "metadata": {
        "id": "TnvtFUg__0Hp",
        "colab": {
          "base_uri": "https://localhost:8080/"
        },
        "outputId": "82e33ec4-75c5-483b-87f1-dc11fab98660"
      },
      "source": [
        "# step1 (index 이용)\n",
        "\n",
        "li = [1,2,3,4,5]\n",
        "li_a = []\n",
        "cnt = 0\n",
        "\n",
        "for i in range(0,5):\n",
        "  li_a.append(li[i]*3)\n",
        "\n",
        "for i in li_a:\n",
        "  if i % 2 == 0:\n",
        "    li_a[cnt] = 0\n",
        "  cnt = cnt + 1\n",
        "\n",
        "print(li_a)"
      ],
      "execution_count": null,
      "outputs": [
        {
          "output_type": "stream",
          "text": [
            "[3, 0, 9, 0, 15]\n"
          ],
          "name": "stdout"
        }
      ]
    },
    {
      "cell_type": "code",
      "metadata": {
        "colab": {
          "base_uri": "https://localhost:8080/"
        },
        "id": "oueVxHmDo42f",
        "outputId": "23bcfab6-2882-4931-ba4e-4cf2681eb69c"
      },
      "source": [
        "# step2 (내장함수 이용 )\r\n",
        "# insert는 원하는 위치에 값 넣기, append는 맨 끝에 값 넣기 \r\n",
        "# remove : 지정한 값을 지워준다. \r\n",
        "\r\n",
        "li = [3,6,9,12,15]\r\n",
        "li_a = li.copy()\r\n",
        "\r\n",
        "for i in range(5):\r\n",
        "  if li[i] % 2 == 0:\r\n",
        "    li_a.remove(li[i])\r\n",
        "    li_a.insert(i,0)\r\n",
        "\r\n",
        "print(li_a)\r\n",
        "\r\n",
        "  "
      ],
      "execution_count": null,
      "outputs": [
        {
          "output_type": "stream",
          "text": [
            "[3, 0, 9, 0, 15]\n"
          ],
          "name": "stdout"
        }
      ]
    },
    {
      "cell_type": "code",
      "metadata": {
        "colab": {
          "base_uri": "https://localhost:8080/"
        },
        "id": "UhCXVFHVo40Z",
        "outputId": "5c3b7922-0efb-4a60-cb22-ecb4e3c1056a"
      },
      "source": [
        "# step3 (함수화)\r\n",
        "li = [3,6,9,12,15]\r\n",
        "li_a = li.copy()\r\n",
        "\r\n",
        "def change_num(li):\r\n",
        "  for i in range(len(li)):\r\n",
        "    if li_a[i] % 2 == 0:\r\n",
        "      li_a[i] = 0\r\n",
        "  return li_a\r\n",
        "\r\n",
        "\r\n",
        "print(change_num(li_a))\r\n"
      ],
      "execution_count": null,
      "outputs": [
        {
          "output_type": "stream",
          "text": [
            "[3, 0, 9, 0, 15]\n"
          ],
          "name": "stdout"
        }
      ]
    },
    {
      "cell_type": "code",
      "metadata": {
        "colab": {
          "base_uri": "https://localhost:8080/"
        },
        "id": "yCYfunsao4ul",
        "outputId": "f8b51c0a-9cb3-4e5d-b3dd-60a92ca767b6"
      },
      "source": [
        "# step4 (List Comprehension)\r\n",
        "li = [3,6,9,12,15]\r\n",
        "li_a = li.copy()\r\n",
        "\r\n",
        "li_idx = [i for i in range(5) if li_a[i] % 2  == 0] # 짝수인 인덱스를 저장하는 배열\r\n",
        "print(li_idx)#짝수 인덱스를 가짐 \r\n",
        "\r\n",
        "for i in range(5):\r\n",
        "  for j in li_idx:\r\n",
        "    if i == j:# 짝수 인덱스와 같은 인덱스라면 0을 넣어줌\r\n",
        "      li_a[i] = 0\r\n",
        "\r\n",
        "print(li_a)\r\n",
        "  \r\n"
      ],
      "execution_count": null,
      "outputs": [
        {
          "output_type": "stream",
          "text": [
            "[1, 3]\n",
            "[3, 0, 9, 0, 15]\n"
          ],
          "name": "stdout"
        }
      ]
    },
    {
      "cell_type": "code",
      "metadata": {
        "colab": {
          "base_uri": "https://localhost:8080/"
        },
        "id": "P4aDODDHGN6m",
        "outputId": "cf681986-1d8e-4ce4-c424-ccbbf95246cb"
      },
      "source": [
        "# step5 (numpy로 데이터타입변환)\r\n",
        "li = [3,6,9,12,15]\r\n",
        "li_a = li.copy()\r\n",
        "\r\n",
        "npa = np.array(li_a)\r\n",
        "print(npa)\r\n",
        "\r\n",
        "a = (npa%2 == 0)\r\n",
        "print(a)\r\n",
        "npa[a] = 0\r\n",
        "print(npa)\r\n",
        "\r\n",
        "# for i in range(len(npa)):\r\n",
        "#   if npa[i] % 2==0:\r\n",
        "#     npa[i] = 0\r\n",
        "\r\n",
        "# print(npa)"
      ],
      "execution_count": null,
      "outputs": [
        {
          "output_type": "stream",
          "text": [
            "[ 3  6  9 12 15]\n",
            "[False  True False  True False]\n",
            "[ 3  0  9  0 15]\n"
          ],
          "name": "stdout"
        }
      ]
    },
    {
      "cell_type": "code",
      "metadata": {
        "colab": {
          "base_uri": "https://localhost:8080/"
        },
        "id": "fnBF-slZJYx9",
        "outputId": "87068ca5-5800-41c9-ae92-0e1333f26c7a"
      },
      "source": [
        "# step6 (Map & Filter)\r\n",
        "li = [3,6,9,12,15]\r\n",
        "li_a = li.copy()\r\n",
        "\r\n",
        "# Map\r\n",
        "def change_num(num):\r\n",
        "  if num % 2 == 0:\r\n",
        "    return 0\r\n",
        "  return num\r\n",
        "\r\n",
        "li_a = list(map(change_num,li_a))\r\n",
        "print(li_a)\r\n",
        "print()\r\n",
        "\r\n",
        "\r\n",
        "# Filter\r\n",
        "li = [3,6,9,12,15]\r\n",
        "li_a = li.copy()\r\n",
        "li_filter = []\r\n",
        "\r\n",
        "def filter_num(num):\r\n",
        "\r\n",
        "  if num % 2 == 0:\r\n",
        "    li_filter.append(0)\r\n",
        "    return False\r\n",
        "    \r\n",
        "  li_filter.append(num)\r\n",
        "  return True\r\n",
        "\r\n",
        "li_a = list(filter(filter_num,li_a))\r\n",
        "print(li_a)\r\n",
        "print(li_filter)\r\n",
        "\r\n",
        "# li_a = list(filter(filter_num,li_a))\r\n",
        "# print(li_filter)"
      ],
      "execution_count": null,
      "outputs": [
        {
          "output_type": "stream",
          "text": [
            "[3, 0, 9, 0, 15]\n",
            "\n",
            "[3, 9, 15]\n",
            "[3, 0, 9, 0, 15]\n"
          ],
          "name": "stdout"
        }
      ]
    },
    {
      "cell_type": "code",
      "metadata": {
        "id": "KBlG-AllLf7C"
      },
      "source": [
        ""
      ],
      "execution_count": null,
      "outputs": []
    }
  ]
}