{
  "nbformat": 4,
  "nbformat_minor": 0,
  "metadata": {
    "colab": {
      "name": "파이썬기초정리.ipynb",
      "provenance": [],
      "collapsed_sections": []
    },
    "kernelspec": {
      "name": "python3",
      "display_name": "Python 3"
    }
  },
  "cells": [
    {
      "cell_type": "code",
      "metadata": {
        "id": "grY-glbfrQX0"
      },
      "source": [
        "import numpy as np\r\n",
        "import math"
      ],
      "execution_count": 2,
      "outputs": []
    },
    {
      "cell_type": "markdown",
      "metadata": {
        "id": "lJaXgnvQvuIL"
      },
      "source": [
        "# 9주차"
      ]
    },
    {
      "cell_type": "code",
      "metadata": {
        "colab": {
          "base_uri": "https://localhost:8080/"
        },
        "id": "dIFTYz8NrVar",
        "outputId": "c26484e8-cc31-4140-d127-68a7ae94fbd5"
      },
      "source": [
        "# 동전 나누기 \r\n",
        "\r\n",
        "def calcoin(money):\r\n",
        "  c500 = money // 500\r\n",
        "  c100 = (money-(c500*500)) // 100\r\n",
        "  c50 = (money-(c500*500)-(c100*100)) // 50\r\n",
        "  return c500,c100,c50\r\n",
        "\r\n",
        "# print(calcoin(7850))# 500*15 = 7500, 100*3=300, 50*1 = 50\r\n",
        "\r\n",
        "print(\"500원: %d, 100원: %d, 50원: %d\" % calcoin(7850))# 500*15 = 7500, 100*3=300, 50*1 = 50\r\n"
      ],
      "execution_count": null,
      "outputs": [
        {
          "output_type": "stream",
          "text": [
            "500원: 15, 100원: 3, 50원: 1\n"
          ],
          "name": "stdout"
        }
      ]
    },
    {
      "cell_type": "code",
      "metadata": {
        "colab": {
          "base_uri": "https://localhost:8080/"
        },
        "id": "eZQ7NM43syoM",
        "outputId": "f6e616d9-c469-42ce-a3ea-a1e511cd6d9d"
      },
      "source": [
        "# 극좌표계(polor:각도와 반지름으로 구함 )와 직각좌표계(cart:x,y로출력)\r\n",
        "# 극좌표계 각 40도, 반지름 10의 값을 직각좌표계로 출력\r\n",
        "# 디그리(각도)를 라디안으로 바꾸는 것 \r\n",
        "# 360' = 2*pi\r\n",
        "# math.degrees(2 * pi) = 360'\r\n",
        "# math.radians(360') = 2 * pi\r\n",
        "# 라디안 = (디그리 / 180) * pi\r\n",
        "\r\n",
        "def polor2cart(var):\r\n",
        "  x = math.cos(math.radians(var[0])) * var[1]\r\n",
        "  y = math.sin(math.radians(var[0])) * var[1]\r\n",
        "  return x,y\r\n",
        "\r\n",
        "pcl = (40,10)\r\n",
        "print(polor2cart(pcl))\r\n",
        "\r\n",
        "print(\"디그리(40')를 라디안으로 변경 : \",math.radians(40))\r\n",
        "print(\"라디안(0.6981317007977318) 을 디그리로 변경 : \",math.degrees(0.6981317007977318))\r\n",
        "\r\n",
        "\r\n",
        "# 앞의 수행을 딕셔너리를 이용해서 넘겨주기 \r\n",
        "# 딕셔너리 = { 'key': value } 의 구조로 순서가 없다. \r\n",
        "\r\n",
        "def polor2cart2(var):\r\n",
        "  x = math.cos(math.radians(var['theta'])) * var['r']\r\n",
        "  y = math.sin(math.radians(var['theta'])) * var['r']\r\n",
        "  return x,y\r\n",
        "\r\n",
        "pcl = {'theta':40, 'r':10}\r\n",
        "print(polor2cart2(pcl))"
      ],
      "execution_count": null,
      "outputs": [
        {
          "output_type": "stream",
          "text": [
            "(7.66044443118978, 6.4278760968653925)\n",
            "디그리(40')를 라디안으로 변경 :  0.6981317007977318\n",
            "라디안(0.6981317007977318) 을 디그리로 변경 :  40.0\n",
            "(7.66044443118978, 6.4278760968653925)\n"
          ],
          "name": "stdout"
        }
      ]
    },
    {
      "cell_type": "code",
      "metadata": {
        "colab": {
          "base_uri": "https://localhost:8080/"
        },
        "id": "GMEi24oSsymM",
        "outputId": "05b39e56-d1ca-4bab-a153-8feecb46bc6a"
      },
      "source": [
        "# 원기둥 표면적 넓이 구하기 \r\n",
        "\r\n",
        "def calcylinderArea(rr,hh):\r\n",
        "  ca = math.pi * math.pow(rr,2)# 원의 넓이\r\n",
        "  cr = 2 * math.pi * rr#원의 둘래\r\n",
        "  ra = cr * hh#사각형 넓이\r\n",
        "  return (2*ca+ra)\r\n",
        "\r\n",
        "print(\"원의 표면적: \",calcylinderArea(2,4))"
      ],
      "execution_count": null,
      "outputs": [
        {
          "output_type": "stream",
          "text": [
            "원의 표면적:  75.39822368615503\n"
          ],
          "name": "stdout"
        }
      ]
    },
    {
      "cell_type": "markdown",
      "metadata": {
        "id": "6x3Dac9Bvrsw"
      },
      "source": [
        "# 10주차 (행렬시작)"
      ]
    },
    {
      "cell_type": "code",
      "metadata": {
        "colab": {
          "base_uri": "https://localhost:8080/"
        },
        "id": "uCj_Ufmxsyjr",
        "outputId": "96546498-a241-405d-c70c-63a39682c4e3"
      },
      "source": [
        "# 행렬\r\n",
        "lta = [[1,2,3],[4,5,6]] #2행 2열\r\n",
        "ltb = [[7],[8],[9]]\r\n",
        "print(\"***리스트 형태***\")\r\n",
        "print(lta)\r\n",
        "print(ltb)\r\n",
        "print()\r\n",
        "\r\n",
        "npa = np.array(lta)\r\n",
        "npb = np.array(ltb)\r\n",
        "print(\"***numpy형태***\")\r\n",
        "print(npa)\r\n",
        "print(npb)\r\n",
        "\r\n"
      ],
      "execution_count": null,
      "outputs": [
        {
          "output_type": "stream",
          "text": [
            "***리스트 형태***\n",
            "[[1, 2, 3], [4, 5, 6]]\n",
            "[[7], [8], [9]]\n",
            "\n",
            "***numpy형태***\n",
            "[[1 2 3]\n",
            " [4 5 6]]\n",
            "[[7]\n",
            " [8]\n",
            " [9]]\n"
          ],
          "name": "stdout"
        }
      ]
    },
    {
      "cell_type": "code",
      "metadata": {
        "colab": {
          "base_uri": "https://localhost:8080/"
        },
        "id": "OPaeMVq5wt1G",
        "outputId": "9fe2338a-d673-4fdb-ee11-cf4e01add975"
      },
      "source": [
        "# 리스트 안의 type 구분하기 \r\n",
        "\r\n",
        "def isNumber(v):\r\n",
        "  if type(v) == int or type(v) == float:\r\n",
        "    return True\r\n",
        "  elif type(v) == list or type(v) == tuple: #형태가 리스트나 튜플이면 하나씩 꺼내서 type을 확인하는데, 그 확인값이 리스트 형태로 li에 들어감 \r\n",
        "    li = [isNumber(i) for i in v]\r\n",
        "    return True if all(li) else False\r\n",
        "  else:\r\n",
        "    return False #문자열일 경우 \r\n",
        "\r\n",
        "print(isNumber([1,2]))\r\n",
        "print(isNumber([1,2,'a']))"
      ],
      "execution_count": null,
      "outputs": [
        {
          "output_type": "stream",
          "text": [
            "True\n",
            "False\n"
          ],
          "name": "stdout"
        }
      ]
    },
    {
      "cell_type": "code",
      "metadata": {
        "colab": {
          "base_uri": "https://localhost:8080/"
        },
        "id": "Oo_QPEk7wteU",
        "outputId": "c5a15c55-b4f5-4824-bb0e-73fe35d66667"
      },
      "source": [
        "# 리스트에 들어있는 값이 모두 같은지 비교 \r\n",
        "\r\n",
        "def ltall(lt):\r\n",
        "  lt2 = lt.copy()\r\n",
        "  lt.pop(0) # 첫번째 원소 지움\r\n",
        "  lt2.pop() # 마지막 원소 지움\r\n",
        "  return lt == lt2\r\n",
        "lt = [1,1,2,1,1]\r\n",
        "print(\"앞뒤로 제거 후 비교 : \",ltall(lt))\r\n",
        "\r\n",
        "# 좌우 반전 후 비교하기. \r\n",
        "#가운데를 기점으로 반전되기 때문에 홀수일 경우 lt에 들어있는 아무 수를 추가해서 짝수 만듬\r\n",
        "\r\n",
        "def ltall2(lt):\r\n",
        "  if len(lt) % 2 != 0:\r\n",
        "    lt.append(lt[0])\r\n",
        "    # lt.insert(0,lt[0])#0번째 인덱스에 lt[0]의 값을 넣어준다. \r\n",
        "  lt2 = lt.copy()\r\n",
        "  lt2.reverse()\r\n",
        "  return lt == lt2\r\n",
        "\r\n",
        "lt = [1,1,2,1,1]\r\n",
        "print(\"좌우 반전 후 비교: \",ltall2(lt))\r\n"
      ],
      "execution_count": null,
      "outputs": [
        {
          "output_type": "stream",
          "text": [
            "앞뒤로 제거 후 비교 :  False\n",
            "좌우 반전 후 비교:  False\n"
          ],
          "name": "stdout"
        }
      ]
    },
    {
      "cell_type": "code",
      "metadata": {
        "colab": {
          "base_uri": "https://localhost:8080/"
        },
        "id": "N-gqjRkawtVK",
        "outputId": "de58947a-6966-4348-820b-935bbcf4207e"
      },
      "source": [
        "# 리스트 모양(행과 열)을 출력하는 함수\r\n",
        "\r\n",
        "def lt_shape(lt):\r\n",
        "  row = len(lt)\r\n",
        "  col_in_row = [len(lt[i]) for i in range(row)]#각 행별 길이가 저장됨\r\n",
        "  if ltall2(col_in_row): #결과가 true 이면 실행 \r\n",
        "    col = col_in_row[0]\r\n",
        "  return row,col\r\n",
        "\r\n",
        "lt = [[1,2,3],[4,5,6]] # 2행 3열 \r\n",
        "print(lt_shape(lt))"
      ],
      "execution_count": null,
      "outputs": [
        {
          "output_type": "stream",
          "text": [
            "(2, 3)\n"
          ],
          "name": "stdout"
        }
      ]
    },
    {
      "cell_type": "markdown",
      "metadata": {
        "id": "Bcq9kQGiCdgO"
      },
      "source": [
        "# 11주차 (전치행렬)\r\n"
      ]
    },
    {
      "cell_type": "code",
      "metadata": {
        "colab": {
          "base_uri": "https://localhost:8080/"
        },
        "id": "xBERFjef7efv",
        "outputId": "2d128991-b22e-43de-8d50-5cae71696475"
      },
      "source": [
        "# 전치행렬 만들기 \r\n",
        "\r\n",
        "def lt_trans(lt):\r\n",
        "  row,col = lt_shape(lt)\r\n",
        "  lt_a = []\r\n",
        "  for i in range(col):\r\n",
        "    temp = []\r\n",
        "    for j in range(row):\r\n",
        "      temp.append(lt[j][i])\r\n",
        "    lt_a.append(temp)\r\n",
        "  return lt_a\r\n",
        "\r\n",
        "lt = [[1,2,3],[4,5,6]] # 2행 3열 \r\n",
        "lt_transform = np.array(lt_trans(lt))\r\n",
        "print(lt_transform) # 3행 2열로 변경 \r\n",
        "\r\n",
        "# print(np.array(lt_trans(lt_transform))) #다시 해주면 2행 3열로 전환 "
      ],
      "execution_count": null,
      "outputs": [
        {
          "output_type": "stream",
          "text": [
            "[[1 4]\n",
            " [2 5]\n",
            " [3 6]]\n"
          ],
          "name": "stdout"
        }
      ]
    },
    {
      "cell_type": "code",
      "metadata": {
        "colab": {
          "base_uri": "https://localhost:8080/"
        },
        "id": "QpnEjTiz7edj",
        "outputId": "a6cf503d-3195-4aed-d646-272a4d8093d2"
      },
      "source": [
        "# 내적 구하기  -> 내적하기 위해서는 숫자여야 하며, 열과 행이 일치해야 한다. \r\n",
        "\r\n",
        "def lt_mul(lta,ltb): # 두 리스트를 곱해주는 함수 \r\n",
        "  print(\"mul에 들어오는 리스트 : \",lta,ltb)\r\n",
        "  lt3 = [lta[i] * ltb[i] for i in range(len(lta))]\r\n",
        "  return lt3\r\n",
        "\r\n",
        "\r\n",
        "def lt_dot(lta,ltb):\r\n",
        "  if not isNumber(lta) or not isNumber(ltb):\r\n",
        "    print(\"잘못된 리스트 형태입니다. 리스트를 다시 입력하세요 \")\r\n",
        "    return False\r\n",
        "  if lt_shape(lta)[1] != lt_shape(ltb)[0]: #리스트 주고 행,열을 리스트 형태로 반환받아, 앞에는 열만 뒤에는 행만 추출해서 비교 \r\n",
        "    print(\"두 리스트의 열과 행이 다릅니다. 동일하게 설정하세요. \")\r\n",
        "    return False\r\n",
        "  # 내적시작\r\n",
        "  ltc = []\r\n",
        "  for i in lta:\r\n",
        "    temp = []\r\n",
        "    for j in lt_trans(ltb):\r\n",
        "      temp.append(sum(lt_mul(i,j))) # 곱한값을 더해줌 \r\n",
        "    ltc.append(temp)\r\n",
        "  return ltc\r\n",
        "\r\n",
        "\r\n",
        "lta = [[1,2],[3,4]] # 2행 2열\r\n",
        "ltb = [[5],[6]] # 2행 1열\r\n",
        "\r\n",
        "a_1 = lt_shape(lta) # 2행 2열이 리스트 형태로 나온다/\r\n",
        "a_2 = lt_shape(lta)[1] #리스트 형태중 열만 추출 \r\n",
        "print(\"lt_shape이 반환하는 형태 : \",a_1)\r\n",
        "print(\"lt_shape의 1번째 인덱스 추출 : \",a_2)\r\n",
        "\r\n",
        "print(\"내적수행: \",lt_dot(lta,ltb))"
      ],
      "execution_count": null,
      "outputs": [
        {
          "output_type": "stream",
          "text": [
            "lt_shape이 반환하는 형태 :  (2, 2)\n",
            "lt_shape의 1번째 인덱스 추출 :  2\n",
            "mul에 들어오는 리스트 :  [1, 2] [5, 6]\n",
            "mul에 들어오는 리스트 :  [3, 4] [5, 6]\n",
            "내적수행:  [[17], [39]]\n"
          ],
          "name": "stdout"
        }
      ]
    },
    {
      "cell_type": "code",
      "metadata": {
        "colab": {
          "base_uri": "https://localhost:8080/"
        },
        "id": "H2YIloYO7ebb",
        "outputId": "e7066f42-17a9-41ed-ee01-38e3eee206ae"
      },
      "source": [
        "# 2차행렬 가운데 0으로 만드는 문제 \r\n",
        "\r\n",
        "row, col = 3,4\r\n",
        "\r\n",
        "li = [[((i+1) + (j*col)) for i in range(col)] for j in range(row)] # 반복문 이용해서 숫자 만들기 \r\n",
        "npa = np.array(li)\r\n",
        "npa_copy = npa.copy()\r\n",
        "print(npa)\r\n",
        "print()\r\n",
        "\r\n",
        "# 1. 슬라이싱 이용\r\n",
        "npa_copy = npa.copy()\r\n",
        "npa_copy[1:-1,1:-1] = 0\r\n",
        "print(npa_copy)\r\n",
        "print(\"###################\")\r\n",
        "print()\r\n",
        "\r\n",
        "\r\n",
        "# 2. 인덱스 ones 이용\r\n",
        "npa_copy = npa.copy()\r\n",
        "idx = np.ones(shape=(row,col),dtype=bool)\r\n",
        "print(idx)\r\n",
        "print()\r\n",
        "\r\n",
        "idx[0,:] = False\r\n",
        "idx[:,0] = False\r\n",
        "idx[:,-1] = False\r\n",
        "idx[-1,:] = False\r\n",
        "print(idx)\r\n",
        "print()\r\n",
        "\r\n",
        "npa_copy[idx] = 0\r\n",
        "print(npa_copy)\r\n",
        "print(\"###################\")\r\n",
        "print()\r\n",
        "\r\n",
        "# 3. 인덱스 zeros 이용\r\n",
        "npa_copy = npa.copy()\r\n",
        "idx = np.zeros(shape=(3,4),dtype=bool)\r\n",
        "print(idx)\r\n",
        "print()\r\n",
        "\r\n",
        "idx[1:-1,1:-1] = True\r\n",
        "print(idx)\r\n",
        "print()\r\n",
        "\r\n",
        "npa_copy[idx] = 0\r\n",
        "print(npa_copy)"
      ],
      "execution_count": 4,
      "outputs": [
        {
          "output_type": "stream",
          "text": [
            "[[ 1  2  3  4]\n",
            " [ 5  6  7  8]\n",
            " [ 9 10 11 12]]\n",
            "\n",
            "[[ 1  2  3  4]\n",
            " [ 5  0  0  8]\n",
            " [ 9 10 11 12]]\n",
            "###################\n",
            "\n",
            "[[ True  True  True  True]\n",
            " [ True  True  True  True]\n",
            " [ True  True  True  True]]\n",
            "\n",
            "[[False False False False]\n",
            " [False  True  True False]\n",
            " [False False False False]]\n",
            "\n",
            "[[ 1  2  3  4]\n",
            " [ 5  0  0  8]\n",
            " [ 9 10 11 12]]\n",
            "###################\n",
            "\n",
            "[[False False False False]\n",
            " [False False False False]\n",
            " [False False False False]]\n",
            "\n",
            "[[False False False False]\n",
            " [False  True  True False]\n",
            " [False False False False]]\n",
            "\n",
            "[[ 1  2  3  4]\n",
            " [ 5  0  0  8]\n",
            " [ 9 10 11 12]]\n"
          ],
          "name": "stdout"
        }
      ]
    },
    {
      "cell_type": "code",
      "metadata": {
        "colab": {
          "base_uri": "https://localhost:8080/"
        },
        "id": "ejtsYMU3GHIa",
        "outputId": "a4d45e90-d4b9-47ed-c48d-684120cd8f69"
      },
      "source": [
        "# i = 행에 속해있는 값을 만드는것\r\n",
        "# j = 다음행이 어떤값을 가지게 할 지 만드는 것 \r\n",
        "li = [[((i+1) + (j*col)) for i in range(col)] for j in range(row)] # 반복문 이용해서 숫자 만들기 \r\n",
        "print(li)\r\n"
      ],
      "execution_count": 5,
      "outputs": [
        {
          "output_type": "stream",
          "text": [
            "[[1, 2, 3, 4], [5, 6, 7, 8], [9, 10, 11, 12]]\n"
          ],
          "name": "stdout"
        }
      ]
    },
    {
      "cell_type": "markdown",
      "metadata": {
        "id": "qGrUfKqDHrm0"
      },
      "source": [
        "# 12주차\r\n"
      ]
    },
    {
      "cell_type": "code",
      "metadata": {
        "colab": {
          "base_uri": "https://localhost:8080/"
        },
        "id": "wqhX222I7eZQ",
        "outputId": "c9bf9698-32b5-4d8c-b451-48c089ac2caa"
      },
      "source": [
        "# 2차원 리스트 입력받아 상하좌우와 테두리에 행과 열을 추가하는 리스트 만들기 (numpy사용)\r\n",
        "row,col = 3,4\r\n",
        "li = [[(i+1 + j*col) for i in range(col)] for j in range(row)]\r\n",
        "np1 = np.array(li)\r\n",
        "np1_copy = np1.copy()\r\n",
        "print(np1)\r\n",
        "print(np1.shape[0])\r\n",
        "print(np1.shape[1])\r\n",
        "print(np1.shape)\r\n",
        "print()\r\n",
        "# 1.부분 복사 방법\r\n",
        "\r\n",
        "np2 = np.zeros(shape=(np1.shape[0]+2 , np1.shape[1]+2))\r\n",
        "print(np2)\r\n",
        "print()\r\n",
        "\r\n",
        "np2[1:-1,1:-1] = np1\r\n",
        "print(np2)\r\n",
        "print()\r\n",
        "\r\n",
        "np2[0,:] = np2[1]\r\n",
        "np2[-1,:] = np2[-2]\r\n",
        "print(np2)\r\n",
        "print()\r\n",
        "\r\n",
        "np2[:,0] = np2[:,1]\r\n",
        "np2[:,-1] = np2[:,-2]\r\n",
        "print(np2)\r\n",
        "print(\"###############\")\r\n",
        "print()\r\n",
        "\r\n",
        "\r\n",
        "# 2.행렬 결합방법 \r\n",
        "np1_copy = np1.copy()\r\n",
        "print(np1_copy)\r\n",
        "print()\r\n",
        "\r\n",
        "np1_copy = np.column_stack((np1_copy[:,0],np1_copy)) # 좌측 붙이기 \r\n",
        "np1_copy = np.column_stack((np1_copy,np1_copy[:,-1]))# 우측붙이기 -> 순서 중요\r\n",
        "print(np1_copy)\r\n",
        "print()\r\n",
        "\r\n",
        "np1_copy = np.row_stack((np1_copy[0,:],np1_copy))\r\n",
        "np1_copy = np.row_stack((np1_copy,np1_copy[-1,:]))\r\n",
        "print(np1_copy)\r\n",
        "\r\n"
      ],
      "execution_count": null,
      "outputs": [
        {
          "output_type": "stream",
          "text": [
            "[[ 1  2  3  4]\n",
            " [ 5  6  7  8]\n",
            " [ 9 10 11 12]]\n",
            "3\n",
            "4\n",
            "(3, 4)\n",
            "\n",
            "[[0. 0. 0. 0. 0. 0.]\n",
            " [0. 0. 0. 0. 0. 0.]\n",
            " [0. 0. 0. 0. 0. 0.]\n",
            " [0. 0. 0. 0. 0. 0.]\n",
            " [0. 0. 0. 0. 0. 0.]]\n",
            "\n",
            "[[ 0.  0.  0.  0.  0.  0.]\n",
            " [ 0.  1.  2.  3.  4.  0.]\n",
            " [ 0.  5.  6.  7.  8.  0.]\n",
            " [ 0.  9. 10. 11. 12.  0.]\n",
            " [ 0.  0.  0.  0.  0.  0.]]\n",
            "\n",
            "[[ 0.  1.  2.  3.  4.  0.]\n",
            " [ 0.  1.  2.  3.  4.  0.]\n",
            " [ 0.  5.  6.  7.  8.  0.]\n",
            " [ 0.  9. 10. 11. 12.  0.]\n",
            " [ 0.  9. 10. 11. 12.  0.]]\n",
            "\n",
            "[[ 1.  1.  2.  3.  4.  4.]\n",
            " [ 1.  1.  2.  3.  4.  4.]\n",
            " [ 5.  5.  6.  7.  8.  8.]\n",
            " [ 9.  9. 10. 11. 12. 12.]\n",
            " [ 9.  9. 10. 11. 12. 12.]]\n",
            "###############\n",
            "\n",
            "[[ 1  2  3  4]\n",
            " [ 5  6  7  8]\n",
            " [ 9 10 11 12]]\n",
            "\n",
            "[[ 1  1  2  3  4  4]\n",
            " [ 5  5  6  7  8  8]\n",
            " [ 9  9 10 11 12 12]]\n",
            "\n",
            "[[ 1  1  2  3  4  4]\n",
            " [ 1  1  2  3  4  4]\n",
            " [ 5  5  6  7  8  8]\n",
            " [ 9  9 10 11 12 12]\n",
            " [ 9  9 10 11 12 12]]\n"
          ],
          "name": "stdout"
        }
      ]
    },
    {
      "cell_type": "code",
      "metadata": {
        "colab": {
          "base_uri": "https://localhost:8080/"
        },
        "id": "mN6Ygy4TLrHd",
        "outputId": "1c5377b2-9177-4ea5-c8aa-6bec131573dc"
      },
      "source": [
        "# 2차원 행렬 입력받고 시계방향으로의 값을 가지는 리스트 만들기 , 최종적으로 리스트 합 구하기 \r\n",
        "\r\n",
        "# 1. extend 이용\r\n",
        "# extend = 리스트 형태 벗기고, 일차원의 리스트로 숫자들만 가져옴 (숫자쌓기 유리)\r\n",
        "# append = 리스트 형태로 가져와서 차수도 같아짐 \r\n",
        "\r\n",
        "row,col = 3,4\r\n",
        "li = [[(i+1 + j*col) for i in range(col)] for j in range(row)]\r\n",
        "np1 = np.array(li)\r\n",
        "np1_copy = np1.copy()\r\n",
        "print(np1)\r\n",
        "print()\r\n",
        "\r\n",
        "\r\n",
        "lt2 = []\r\n",
        "lt2.extend(np1[0])#1,2,3,4 가져옴\r\n",
        "print(lt2)\r\n",
        "lt2.extend(np1[1:-1,-1]) # 8가져옴\r\n",
        "print(lt2)\r\n",
        "lt2.extend(np1[-1,::-1]) # 거꾸로해서 12,11,10,9로 값 가져옴\r\n",
        "print(lt2)\r\n",
        "lt2.extend(np1[1:-1,0]) # 5 가져옴\r\n",
        "print(lt2)\r\n",
        "\r\n",
        "# 2. append 이용\r\n",
        "\r\n",
        "temp = np.array([]) # numpy의 array형태 \r\n",
        "lt2 = [] #리스트 형태\r\n",
        "print(type(temp))\r\n",
        "print(type(lt2))\r\n",
        "\r\n",
        "\r\n",
        "temp = np.append(temp,np1[0])#1,2,3,4 가져옴\r\n",
        "print(temp)\r\n",
        "temp = np.append(temp,np1[1:-1,-1]) # 8가져옴\r\n",
        "print(temp)\r\n",
        "temp = np.append(temp,np1[-1,::-1]) # 12,11,10,9 가져옴\r\n",
        "print(temp)\r\n",
        "temp = np.append(temp,np1[1:-1,0]) # 5가져옴\r\n",
        "print(temp)\r\n",
        "\r\n",
        "print(sum(temp))\r\n",
        "print()\r\n",
        "\r\n",
        "# numpy.array 의 형태는 append 자체적으로 사용 못함. 사용하기 위해서는 위의 방법을 이용해야함. \r\n",
        "# temp가 list 형태였다면 lt2.append 사용 가능했을것임 -> 하지만 append 형태로 가져오게 되면 차수도 가져오기 때문에 숫자 결합 이상해짐 \r\n",
        "lt2.append(np1[0])\r\n",
        "print(lt2)\r\n",
        "lt2.append(np1[1:-1,-1])\r\n",
        "print(lt2)"
      ],
      "execution_count": null,
      "outputs": [
        {
          "output_type": "stream",
          "text": [
            "[[ 1  2  3  4]\n",
            " [ 5  6  7  8]\n",
            " [ 9 10 11 12]]\n",
            "\n",
            "[1, 2, 3, 4]\n",
            "[1, 2, 3, 4, 8]\n",
            "[1, 2, 3, 4, 8, 12, 11, 10, 9]\n",
            "[1, 2, 3, 4, 8, 12, 11, 10, 9, 5]\n",
            "<class 'numpy.ndarray'>\n",
            "<class 'list'>\n",
            "[1. 2. 3. 4.]\n",
            "[1. 2. 3. 4. 8.]\n",
            "[ 1.  2.  3.  4.  8. 12. 11. 10.  9.]\n",
            "[ 1.  2.  3.  4.  8. 12. 11. 10.  9.  5.]\n",
            "65.0\n",
            "\n",
            "[array([1, 2, 3, 4])]\n",
            "[array([1, 2, 3, 4]), array([8])]\n"
          ],
          "name": "stdout"
        }
      ]
    },
    {
      "cell_type": "markdown",
      "metadata": {
        "id": "gVVD0QB0SIKq"
      },
      "source": [
        "# 13주차\r\n"
      ]
    },
    {
      "cell_type": "code",
      "metadata": {
        "colab": {
          "base_uri": "https://localhost:8080/"
        },
        "id": "ci5By3ywSJ_I",
        "outputId": "daff1189-d36f-4088-dc9c-71936772c967"
      },
      "source": [
        "# 2차원 배열의 리스트 값 입력받고, 행과 열의 합을 구한 후 , 행과 열을 추가하는 프로그램 작성\r\n",
        "\r\n",
        "row,col = 3,4\r\n",
        "li = [[(i+1 + j*col) for i in range(col)] for j in range(row)]\r\n",
        "np1 = np.array(li)\r\n",
        "print(np1)\r\n",
        "\r\n",
        "print(\"행의 합 출력: \",sum(np1)) # 내장함수 이용\r\n",
        "print(\"전체 합 출력: \",np.sum(np1)) # 외장함수 이용해서 전체합 구하기\r\n",
        "print(\"행과 열 지정후 합 출력: \", np.sum(np1,axis=0)) # 외장함수 이용해 행의 합 구하기 \r\n",
        "print()\r\n",
        "\r\n",
        "# 1. 행,열별로 합 구하기 \r\n",
        "col_sum = np.sum(np1,axis=1)\r\n",
        "print(col_sum)\r\n",
        "print()\r\n",
        "\r\n",
        "np1 = np.column_stack((np1,col_sum)) # 이중괄호 조심하기\r\n",
        "print(np1)\r\n",
        "print()\r\n",
        "\r\n",
        "row_sum = np.sum(np1,axis=0)\r\n",
        "print(row_sum)\r\n",
        "print()\r\n",
        "\r\n",
        "np1 = np.row_stack((np1,row_sum))\r\n",
        "print(np1)\r\n",
        "print()\r\n",
        "print(\"####################\")\r\n",
        "\r\n",
        "# 2. 행렬 만들고 추가하기 (복사 이용)\\\r\n",
        "np1 = np.array(li)\r\n",
        "np2 = np.zeros(shape=(4,5)) # 행렬의 합이 들어가야 하기 때문에 1행1열 늘려줌 \r\n",
        "print(np2)\r\n",
        "print()\r\n",
        "\r\n",
        "np2[0:-1,0:-1] = np1\r\n",
        "print(np2)\r\n",
        "print()\r\n",
        "\r\n",
        "np2[:,-1] = np.sum(np2,axis=1)\r\n",
        "np2[-1,:] = np.sum(np2,axis=0)\r\n",
        "print(np2)"
      ],
      "execution_count": null,
      "outputs": [
        {
          "output_type": "stream",
          "text": [
            "[[ 1  2  3  4]\n",
            " [ 5  6  7  8]\n",
            " [ 9 10 11 12]]\n",
            "행의 합 출력:  [15 18 21 24]\n",
            "전체 합 출력:  78\n",
            "행과 열 지정후 합 출력:  [15 18 21 24]\n",
            "\n",
            "[10 26 42]\n",
            "\n",
            "[[ 1  2  3  4 10]\n",
            " [ 5  6  7  8 26]\n",
            " [ 9 10 11 12 42]]\n",
            "\n",
            "[15 18 21 24 78]\n",
            "\n",
            "[[ 1  2  3  4 10]\n",
            " [ 5  6  7  8 26]\n",
            " [ 9 10 11 12 42]\n",
            " [15 18 21 24 78]]\n",
            "\n",
            "####################\n",
            "[[0. 0. 0. 0. 0.]\n",
            " [0. 0. 0. 0. 0.]\n",
            " [0. 0. 0. 0. 0.]\n",
            " [0. 0. 0. 0. 0.]]\n",
            "\n",
            "[[ 1.  2.  3.  4.  0.]\n",
            " [ 5.  6.  7.  8.  0.]\n",
            " [ 9. 10. 11. 12.  0.]\n",
            " [ 0.  0.  0.  0.  0.]]\n",
            "\n",
            "[[ 1.  2.  3.  4. 10.]\n",
            " [ 5.  6.  7.  8. 26.]\n",
            " [ 9. 10. 11. 12. 42.]\n",
            " [15. 18. 21. 24. 78.]]\n"
          ],
          "name": "stdout"
        }
      ]
    },
    {
      "cell_type": "code",
      "metadata": {
        "id": "cMIha3lDSKRa"
      },
      "source": [
        "\r\n"
      ],
      "execution_count": null,
      "outputs": []
    },
    {
      "cell_type": "code",
      "metadata": {
        "id": "ku1LuoIrSKG7"
      },
      "source": [
        ""
      ],
      "execution_count": null,
      "outputs": []
    },
    {
      "cell_type": "code",
      "metadata": {
        "id": "PjWmFeYdSKEX"
      },
      "source": [
        ""
      ],
      "execution_count": null,
      "outputs": []
    }
  ]
}