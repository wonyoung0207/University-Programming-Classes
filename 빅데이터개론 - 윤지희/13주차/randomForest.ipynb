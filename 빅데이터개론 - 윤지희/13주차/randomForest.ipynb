{
  "nbformat": 4,
  "nbformat_minor": 0,
  "metadata": {
    "colab": {
      "name": "Bigdata_Lab_13.ipynb",
      "provenance": [],
      "collapsed_sections": [
        "9cchVL5v_E7X",
        "K81v1t7oIdrz",
        "bvjPzcZroydM",
        "C0Wty8CYu_l_"
      ]
    },
    "kernelspec": {
      "name": "ir",
      "display_name": "R"
    }
  },
  "cells": [
    {
      "cell_type": "markdown",
      "metadata": {
        "id": "NqwIc2xhQqLu"
      },
      "source": [
        "# **빅데이터 개론 Lab 13 - 랜덤 포레스트(Random Forests)**\n",
        "\n",
        "참고자료 : https://www.notion.so/TA-2689a38b5289413a82671d3956fea103\n",
        "\n",
        "- - -\n",
        "\n",
        "\n"
      ]
    },
    {
      "cell_type": "markdown",
      "metadata": {
        "id": "9cchVL5v_E7X"
      },
      "source": [
        "### **<앙상블 모델 (Ensemble model)>**\n",
        "\n",
        "  * 앙상블(ensemble) 모델은 여러 개의 분류 모델에 의한 결과를 종합하여 분류의 정확도를 높이는 방법이다.\n",
        "  * 여러 개의 모델을 합쳐 일반화 성능 향상 : 대중의 지혜(Wisdom of Crowd)\n",
        "  * 표본추출법으로 원래 데이터에서 여러 개의 훈련용 데이터 집합을 만들어 각각의 데이터 집합에서 하나의 분류기를 만들어 앙상블 하는 방법이다. \n",
        "  * 새로운 자료에 대해 각 분류기의 예측값들의 가중 투표(weighted vote) 등을 통해 분류를 수행한다.\n",
        "\n",
        "<br>\n",
        "\n",
        "<p align=\"center\"><img src=\"https://github.com/Jin0331/TA/blob/master/image/ensemble_1.png?raw=true\" width=\"425\"/> <img src=\"https://github.com/Jin0331/TA/blob/master/image/ensemble_2.png?raw=true\" width=\"425\"/></p>\n",
        "\n",
        "\n",
        "* **개별 모형과 비교한 앙상블 모델의 장점**\n",
        "  * 치우침이 있는 여러 모형의 평균을 취하면, 어느 쪽에도 치우치지 않는 결과(평균)를 얻게 된다.\n",
        "  * 분산을 감소시킨다: 한 개 모형으로부터의 단일 의견보다 여러 모형의 의견을 결합하면 변동이 작아진다.\n",
        "  * 과적합의 가능성을 줄여준다: 각 모형으로부터 예측을 결합하면 과적합의 여지가 줄어든다.\n",
        "\n",
        "* **앙상블 방법**\n",
        "\n",
        "  * **배깅 (bagging) : 중복을 허용하는 샘플링**\n",
        "  * **부스팅(boosting) : 이전 예측기의 오차를 보완해서 샘플링**\n",
        "  * ~~페이스팅(pasting) : 중복을 허용하지 않는 샘플링~~\n",
        "  * ~~스태킹(stacking) : 앙상블 결과 위에 예측을 위한 모델 추가~~"
      ]
    },
    {
      "cell_type": "code",
      "metadata": {
        "id": "UaSMHuq0DHaE",
        "colab": {
          "base_uri": "https://localhost:8080/"
        },
        "outputId": "8ebf02f2-6b2e-4738-dfcc-1303570ab53b"
      },
      "source": [
        "install.packages(c(\"tidyverse\", \"caret\", \"e1071\", \"ipred\",\"randomForest\"))"
      ],
      "execution_count": 1,
      "outputs": [
        {
          "output_type": "stream",
          "text": [
            "Installing packages into ‘/usr/local/lib/R/site-library’\n",
            "(as ‘lib’ is unspecified)\n",
            "\n",
            "also installing the dependencies ‘numDeriv’, ‘SQUAREM’, ‘iterators’, ‘data.table’, ‘gower’, ‘timeDate’, ‘lava’, ‘foreach’, ‘plyr’, ‘ModelMetrics’, ‘reshape2’, ‘recipes’, ‘pROC’, ‘prodlim’\n",
            "\n",
            "\n"
          ],
          "name": "stderr"
        }
      ]
    },
    {
      "cell_type": "markdown",
      "metadata": {
        "id": "K81v1t7oIdrz"
      },
      "source": [
        "### **앙상블 모델과 비교하기 위한 Decision Tree 생성 - Heart Disease Data이용** \n",
        "\n",
        "https://archive.ics.uci.edu/ml/datasets/heart+disease\n",
        "\n",
        "* 변수 설명\n",
        "\n",
        "```\n",
        "Age : age in years\n",
        "Sex: sex (1 = male; 0 = female) # Factor\n",
        "ChestPain : (typical angina, atypical angina, non-anginal pain, asymptomatic # Factor\n",
        "RestBP(혈압) : resting blood pressure\n",
        "Chol(콜레스테롤 수치) : serum cholestoral in mg/dl\n",
        "Fbs(혈당) : (fasting blood sugar > 120 mg/dl) (1 = true; 0 = false) # Factor\n",
        "Restecg(심전도) : (0 = normal, 1 = having ST-T wave abnormality, 2 =  showing probable or definite left ventricular hypertrophy by Estes' criteria) # Factor\n",
        "MaxHR : maximum heart rate achieved\n",
        "ExAng(협심증?): exercise induced angina (1 = yes; 0 = no) # Factor\n",
        "Oldpeak = ST depression induced by exercise relative to rest\n",
        "Slope: the slope of the peak exercise ST segment(1 = upsloping, 2 = flat, 3 = downsloping) # Factor\n",
        "Ca: number of major vessels (0-3) colored by flourosopy # Factor\n",
        "Thal: 3 = normal; 6 = fixed defect; 7 = reversable defect # Factor\n",
        "\n",
        "# the predicted attribute(반응변수)\n",
        "\n",
        "AHD : diagnosis of heart disease (angiographic disease status)(0 = < 50% diameter narrowing, 1 =  > 50% diameter narrowing)\n",
        "\n",
        "# http://archive.ics.uci.edu/ml/datasets/heart+Disease\n",
        "```\n"
      ]
    },
    {
      "cell_type": "code",
      "metadata": {
        "id": "9aXaw7nNIdr0",
        "colab": {
          "base_uri": "https://localhost:8080/"
        },
        "outputId": "399d87dd-62fd-48f5-eb33-9fe22360d95b"
      },
      "source": [
        "library(tidyverse)\n",
        "heart_df <- read_csv(\"https://raw.githubusercontent.com/Jin0331/TA/master/data/heart/Heart.csv\") \n",
        "str(heart_df)"
      ],
      "execution_count": 2,
      "outputs": [
        {
          "output_type": "stream",
          "text": [
            "── \u001b[1mAttaching packages\u001b[22m ─────────────────────────────────────── tidyverse 1.3.0 ──\n",
            "\n",
            "\u001b[32m✔\u001b[39m \u001b[34mggplot2\u001b[39m 3.3.2     \u001b[32m✔\u001b[39m \u001b[34mpurrr  \u001b[39m 0.3.4\n",
            "\u001b[32m✔\u001b[39m \u001b[34mtibble \u001b[39m 3.0.4     \u001b[32m✔\u001b[39m \u001b[34mdplyr  \u001b[39m 1.0.2\n",
            "\u001b[32m✔\u001b[39m \u001b[34mtidyr  \u001b[39m 1.1.2     \u001b[32m✔\u001b[39m \u001b[34mstringr\u001b[39m 1.4.0\n",
            "\u001b[32m✔\u001b[39m \u001b[34mreadr  \u001b[39m 1.4.0     \u001b[32m✔\u001b[39m \u001b[34mforcats\u001b[39m 0.5.0\n",
            "\n",
            "── \u001b[1mConflicts\u001b[22m ────────────────────────────────────────── tidyverse_conflicts() ──\n",
            "\u001b[31m✖\u001b[39m \u001b[34mdplyr\u001b[39m::\u001b[32mfilter()\u001b[39m masks \u001b[34mstats\u001b[39m::filter()\n",
            "\u001b[31m✖\u001b[39m \u001b[34mdplyr\u001b[39m::\u001b[32mlag()\u001b[39m    masks \u001b[34mstats\u001b[39m::lag()\n",
            "\n",
            "Warning message:\n",
            "“Missing column names filled in: 'X1' [1]”\n",
            "\n",
            "\u001b[36m──\u001b[39m \u001b[1m\u001b[1mColumn specification\u001b[1m\u001b[22m \u001b[36m────────────────────────────────────────────────────────\u001b[39m\n",
            "cols(\n",
            "  X1 = \u001b[32mcol_double()\u001b[39m,\n",
            "  Age = \u001b[32mcol_double()\u001b[39m,\n",
            "  Sex = \u001b[32mcol_double()\u001b[39m,\n",
            "  ChestPain = \u001b[31mcol_character()\u001b[39m,\n",
            "  RestBP = \u001b[32mcol_double()\u001b[39m,\n",
            "  Chol = \u001b[32mcol_double()\u001b[39m,\n",
            "  Fbs = \u001b[32mcol_double()\u001b[39m,\n",
            "  RestECG = \u001b[32mcol_double()\u001b[39m,\n",
            "  MaxHR = \u001b[32mcol_double()\u001b[39m,\n",
            "  ExAng = \u001b[32mcol_double()\u001b[39m,\n",
            "  Oldpeak = \u001b[32mcol_double()\u001b[39m,\n",
            "  Slope = \u001b[32mcol_double()\u001b[39m,\n",
            "  Ca = \u001b[32mcol_double()\u001b[39m,\n",
            "  Thal = \u001b[31mcol_character()\u001b[39m,\n",
            "  AHD = \u001b[31mcol_character()\u001b[39m\n",
            ")\n",
            "\n",
            "\n"
          ],
          "name": "stderr"
        },
        {
          "output_type": "stream",
          "text": [
            "tibble [303 × 15] (S3: spec_tbl_df/tbl_df/tbl/data.frame)\n",
            " $ X1       : num [1:303] 1 2 3 4 5 6 7 8 9 10 ...\n",
            " $ Age      : num [1:303] 63 67 67 37 41 56 62 57 63 53 ...\n",
            " $ Sex      : num [1:303] 1 1 1 1 0 1 0 0 1 1 ...\n",
            " $ ChestPain: chr [1:303] \"typical\" \"asymptomatic\" \"asymptomatic\" \"nonanginal\" ...\n",
            " $ RestBP   : num [1:303] 145 160 120 130 130 120 140 120 130 140 ...\n",
            " $ Chol     : num [1:303] 233 286 229 250 204 236 268 354 254 203 ...\n",
            " $ Fbs      : num [1:303] 1 0 0 0 0 0 0 0 0 1 ...\n",
            " $ RestECG  : num [1:303] 2 2 2 0 2 0 2 0 2 2 ...\n",
            " $ MaxHR    : num [1:303] 150 108 129 187 172 178 160 163 147 155 ...\n",
            " $ ExAng    : num [1:303] 0 1 1 0 0 0 0 1 0 1 ...\n",
            " $ Oldpeak  : num [1:303] 2.3 1.5 2.6 3.5 1.4 0.8 3.6 0.6 1.4 3.1 ...\n",
            " $ Slope    : num [1:303] 3 2 2 3 1 1 3 1 2 3 ...\n",
            " $ Ca       : num [1:303] 0 3 2 0 0 0 2 0 1 0 ...\n",
            " $ Thal     : chr [1:303] \"fixed\" \"normal\" \"reversable\" \"normal\" ...\n",
            " $ AHD      : chr [1:303] \"No\" \"Yes\" \"Yes\" \"No\" ...\n",
            " - attr(*, \"spec\")=\n",
            "  .. cols(\n",
            "  ..   X1 = \u001b[32mcol_double()\u001b[39m,\n",
            "  ..   Age = \u001b[32mcol_double()\u001b[39m,\n",
            "  ..   Sex = \u001b[32mcol_double()\u001b[39m,\n",
            "  ..   ChestPain = \u001b[31mcol_character()\u001b[39m,\n",
            "  ..   RestBP = \u001b[32mcol_double()\u001b[39m,\n",
            "  ..   Chol = \u001b[32mcol_double()\u001b[39m,\n",
            "  ..   Fbs = \u001b[32mcol_double()\u001b[39m,\n",
            "  ..   RestECG = \u001b[32mcol_double()\u001b[39m,\n",
            "  ..   MaxHR = \u001b[32mcol_double()\u001b[39m,\n",
            "  ..   ExAng = \u001b[32mcol_double()\u001b[39m,\n",
            "  ..   Oldpeak = \u001b[32mcol_double()\u001b[39m,\n",
            "  ..   Slope = \u001b[32mcol_double()\u001b[39m,\n",
            "  ..   Ca = \u001b[32mcol_double()\u001b[39m,\n",
            "  ..   Thal = \u001b[31mcol_character()\u001b[39m,\n",
            "  ..   AHD = \u001b[31mcol_character()\u001b[39m\n",
            "  .. )\n"
          ],
          "name": "stdout"
        }
      ]
    },
    {
      "cell_type": "markdown",
      "metadata": {
        "id": "iZwISFuUIdr1"
      },
      "source": [
        "* mutate를 이용한 데이터 타입 변경(int or chr ---> factor)"
      ]
    },
    {
      "cell_type": "code",
      "metadata": {
        "id": "dT59jV8VIdr1",
        "colab": {
          "base_uri": "https://localhost:8080/"
        },
        "outputId": "4037a8ba-918f-451a-ec9f-fe3d49190a10"
      },
      "source": [
        "heart_df <- heart_df %>% \n",
        " mutate_at(`.vars` = c(\"Sex\", \"ChestPain\", \"Fbs\", \"RestECG\", \"ExAng\", \"Slope\", \"Ca\", \"Thal\", \"AHD\"), `.funs` = as.factor)\n",
        "heart_df %>% str()"
      ],
      "execution_count": 3,
      "outputs": [
        {
          "output_type": "stream",
          "text": [
            "tibble [303 × 15] (S3: spec_tbl_df/tbl_df/tbl/data.frame)\n",
            " $ X1       : num [1:303] 1 2 3 4 5 6 7 8 9 10 ...\n",
            " $ Age      : num [1:303] 63 67 67 37 41 56 62 57 63 53 ...\n",
            " $ Sex      : Factor w/ 2 levels \"0\",\"1\": 2 2 2 2 1 2 1 1 2 2 ...\n",
            " $ ChestPain: Factor w/ 4 levels \"asymptomatic\",..: 4 1 1 2 3 3 1 1 1 1 ...\n",
            " $ RestBP   : num [1:303] 145 160 120 130 130 120 140 120 130 140 ...\n",
            " $ Chol     : num [1:303] 233 286 229 250 204 236 268 354 254 203 ...\n",
            " $ Fbs      : Factor w/ 2 levels \"0\",\"1\": 2 1 1 1 1 1 1 1 1 2 ...\n",
            " $ RestECG  : Factor w/ 3 levels \"0\",\"1\",\"2\": 3 3 3 1 3 1 3 1 3 3 ...\n",
            " $ MaxHR    : num [1:303] 150 108 129 187 172 178 160 163 147 155 ...\n",
            " $ ExAng    : Factor w/ 2 levels \"0\",\"1\": 1 2 2 1 1 1 1 2 1 2 ...\n",
            " $ Oldpeak  : num [1:303] 2.3 1.5 2.6 3.5 1.4 0.8 3.6 0.6 1.4 3.1 ...\n",
            " $ Slope    : Factor w/ 3 levels \"1\",\"2\",\"3\": 3 2 2 3 1 1 3 1 2 3 ...\n",
            " $ Ca       : Factor w/ 4 levels \"0\",\"1\",\"2\",\"3\": 1 4 3 1 1 1 3 1 2 1 ...\n",
            " $ Thal     : Factor w/ 3 levels \"fixed\",\"normal\",..: 1 2 3 2 2 2 2 2 3 3 ...\n",
            " $ AHD      : Factor w/ 2 levels \"No\",\"Yes\": 1 2 2 1 1 1 2 1 2 2 ...\n",
            " - attr(*, \"spec\")=\n",
            "  .. cols(\n",
            "  ..   X1 = \u001b[32mcol_double()\u001b[39m,\n",
            "  ..   Age = \u001b[32mcol_double()\u001b[39m,\n",
            "  ..   Sex = \u001b[32mcol_double()\u001b[39m,\n",
            "  ..   ChestPain = \u001b[31mcol_character()\u001b[39m,\n",
            "  ..   RestBP = \u001b[32mcol_double()\u001b[39m,\n",
            "  ..   Chol = \u001b[32mcol_double()\u001b[39m,\n",
            "  ..   Fbs = \u001b[32mcol_double()\u001b[39m,\n",
            "  ..   RestECG = \u001b[32mcol_double()\u001b[39m,\n",
            "  ..   MaxHR = \u001b[32mcol_double()\u001b[39m,\n",
            "  ..   ExAng = \u001b[32mcol_double()\u001b[39m,\n",
            "  ..   Oldpeak = \u001b[32mcol_double()\u001b[39m,\n",
            "  ..   Slope = \u001b[32mcol_double()\u001b[39m,\n",
            "  ..   Ca = \u001b[32mcol_double()\u001b[39m,\n",
            "  ..   Thal = \u001b[31mcol_character()\u001b[39m,\n",
            "  ..   AHD = \u001b[31mcol_character()\u001b[39m\n",
            "  .. )\n"
          ],
          "name": "stdout"
        }
      ]
    },
    {
      "cell_type": "markdown",
      "metadata": {
        "id": "inoN3LSVIdr1"
      },
      "source": [
        "* **train-test split**"
      ]
    },
    {
      "cell_type": "code",
      "metadata": {
        "id": "eapZTUmGIdr1",
        "colab": {
          "base_uri": "https://localhost:8080/"
        },
        "outputId": "cb7b55ae-ebc6-43bd-a1e6-105a188ebc5f"
      },
      "source": [
        "library(caret) \n",
        "set.seed(31)\n",
        "index <- createDataPartition(y = heart_df$AHD, p = 0.7, list = FALSE) \n",
        "train <- heart_df[index, ]\n",
        "test <- heart_df[-index, ]"
      ],
      "execution_count": 4,
      "outputs": [
        {
          "output_type": "stream",
          "text": [
            "Loading required package: lattice\n",
            "\n",
            "\n",
            "Attaching package: ‘caret’\n",
            "\n",
            "\n",
            "The following object is masked from ‘package:purrr’:\n",
            "\n",
            "    lift\n",
            "\n",
            "\n",
            "Warning message:\n",
            "“The `i` argument of ``[`()` can't be a matrix as of tibble 3.0.0.\n",
            "Convert to a vector.\n",
            "\u001b[90mThis warning is displayed once every 8 hours.\u001b[39m\n",
            "\u001b[90mCall `lifecycle::last_warnings()` to see where this warning was generated.\u001b[39m”\n"
          ],
          "name": "stderr"
        }
      ]
    },
    {
      "cell_type": "markdown",
      "metadata": {
        "id": "wU5hwku7Kq78"
      },
      "source": [
        "* Decision Tree Model 생성"
      ]
    },
    {
      "cell_type": "code",
      "metadata": {
        "id": "UJTkREfWIdr1"
      },
      "source": [
        "library(rpart)\n",
        "AHD_detection <- rpart(formula = AHD ~ ., data = train, method = \"class\")"
      ],
      "execution_count": 5,
      "outputs": []
    },
    {
      "cell_type": "markdown",
      "metadata": {
        "id": "2OX6QrugIdr2"
      },
      "source": [
        "  - xerror(cross validation error)가 최소가 되는 CP를 선택"
      ]
    },
    {
      "cell_type": "code",
      "metadata": {
        "id": "5xQYYNYBIdr2"
      },
      "source": [
        "min_xerror_cp <- AHD_detection$cptable %>% as_tibble() %>%\n",
        "  filter(xerror == min(xerror)) %>% pull(CP)"
      ],
      "execution_count": 6,
      "outputs": []
    },
    {
      "cell_type": "code",
      "metadata": {
        "id": "Uwo8RXuQIdr2",
        "colab": {
          "base_uri": "https://localhost:8080/",
          "height": 33
        },
        "outputId": "3693c512-1ee4-438e-a0bd-464007325002"
      },
      "source": [
        "min_xerror_cp"
      ],
      "execution_count": 7,
      "outputs": [
        {
          "output_type": "display_data",
          "data": {
            "text/plain": [
              "[1] 0.01020408"
            ],
            "text/latex": "0.0102040816326531",
            "text/markdown": "0.0102040816326531",
            "text/html": [
              "0.0102040816326531"
            ]
          },
          "metadata": {
            "tags": []
          }
        }
      ]
    },
    {
      "cell_type": "markdown",
      "metadata": {
        "id": "IUH5T8l1Idr2"
      },
      "source": [
        "* prune"
      ]
    },
    {
      "cell_type": "code",
      "metadata": {
        "id": "SCeiSnb7Idr2"
      },
      "source": [
        "AHD_detection_pr <- rpart::prune(AHD_detection, cp = min_xerror_cp)"
      ],
      "execution_count": 8,
      "outputs": []
    },
    {
      "cell_type": "markdown",
      "metadata": {
        "id": "6J9VmChkIdr2"
      },
      "source": [
        "* **test를 이용한 예측 및 평가**"
      ]
    },
    {
      "cell_type": "code",
      "metadata": {
        "id": "OV9fcvx6Idr3",
        "colab": {
          "base_uri": "https://localhost:8080/"
        },
        "outputId": "73d9dee5-0d42-48dd-c6bd-9ea23ca0d9d6"
      },
      "source": [
        "test %>% show()"
      ],
      "execution_count": 9,
      "outputs": [
        {
          "output_type": "stream",
          "text": [
            "\u001b[90m# A tibble: 90 x 15\u001b[39m\n",
            "      X1   Age Sex   ChestPain RestBP  Chol Fbs   RestECG MaxHR ExAng Oldpeak\n",
            "   \u001b[3m\u001b[90m<dbl>\u001b[39m\u001b[23m \u001b[3m\u001b[90m<dbl>\u001b[39m\u001b[23m \u001b[3m\u001b[90m<fct>\u001b[39m\u001b[23m \u001b[3m\u001b[90m<fct>\u001b[39m\u001b[23m      \u001b[3m\u001b[90m<dbl>\u001b[39m\u001b[23m \u001b[3m\u001b[90m<dbl>\u001b[39m\u001b[23m \u001b[3m\u001b[90m<fct>\u001b[39m\u001b[23m \u001b[3m\u001b[90m<fct>\u001b[39m\u001b[23m   \u001b[3m\u001b[90m<dbl>\u001b[39m\u001b[23m \u001b[3m\u001b[90m<fct>\u001b[39m\u001b[23m   \u001b[3m\u001b[90m<dbl>\u001b[39m\u001b[23m\n",
            "\u001b[90m 1\u001b[39m     1    63 1     typical      145   233 1     2         150 0         2.3\n",
            "\u001b[90m 2\u001b[39m     8    57 0     asymptom…    120   354 0     0         163 1         0.6\n",
            "\u001b[90m 3\u001b[39m    10    53 1     asymptom…    140   203 1     2         155 1         3.1\n",
            "\u001b[90m 4\u001b[39m    13    56 1     nonangin…    130   256 1     2         142 1         0.6\n",
            "\u001b[90m 5\u001b[39m    17    48 1     nontypic…    110   229 0     0         168 0         1  \n",
            "\u001b[90m 6\u001b[39m    18    54 1     asymptom…    140   239 0     0         160 0         1.2\n",
            "\u001b[90m 7\u001b[39m    19    48 0     nonangin…    130   275 0     0         139 0         0.2\n",
            "\u001b[90m 8\u001b[39m    37    43 1     asymptom…    120   177 0     2         120 1         2.5\n",
            "\u001b[90m 9\u001b[39m    38    57 1     asymptom…    150   276 0     2         112 1         0.6\n",
            "\u001b[90m10\u001b[39m    41    65 0     asymptom…    150   225 0     2         114 0         1  \n",
            "\u001b[90m# … with 80 more rows, and 4 more variables: Slope \u001b[3m\u001b[90m<fct>\u001b[90m\u001b[23m, Ca \u001b[3m\u001b[90m<fct>\u001b[90m\u001b[23m, Thal \u001b[3m\u001b[90m<fct>\u001b[90m\u001b[23m,\u001b[39m\n",
            "\u001b[90m#   AHD \u001b[3m\u001b[90m<fct>\u001b[90m\u001b[23m\u001b[39m\n"
          ],
          "name": "stdout"
        }
      ]
    },
    {
      "cell_type": "code",
      "metadata": {
        "id": "LpPKhXxMIdr3"
      },
      "source": [
        "predict_value <- predict(AHD_detection_pr, test, type = \"class\") %>% \n",
        " tibble(predict_value = .)\n",
        "predict_check <- test %>% select(AHD) %>% dplyr::bind_cols(., predict_value) "
      ],
      "execution_count": 10,
      "outputs": []
    },
    {
      "cell_type": "code",
      "metadata": {
        "id": "wirrRAbA_XsT"
      },
      "source": [
        "#https://stackoverflow.com/questions/23891140/r-how-to-visualize-confusion-matrix-using-the-caret-package\n",
        "\n",
        "draw_confusion_matrix <- function(cm) {\n",
        "\n",
        "  total <- sum(cm$table)\n",
        "  res <- as.numeric(cm$table)\n",
        "\n",
        "  # Generate color gradients. Palettes come from RColorBrewer.\n",
        "  greenPalette <- c(\"#F7FCF5\",\"#E5F5E0\",\"#C7E9C0\",\"#A1D99B\",\"#74C476\",\"#41AB5D\",\"#238B45\",\"#006D2C\",\"#00441B\")\n",
        "  redPalette <- c(\"#FFF5F0\",\"#FEE0D2\",\"#FCBBA1\",\"#FC9272\",\"#FB6A4A\",\"#EF3B2C\",\"#CB181D\",\"#A50F15\",\"#67000D\")\n",
        "  getColor <- function (greenOrRed = \"green\", amount = 0) {\n",
        "    if (amount == 0)\n",
        "      return(\"#FFFFFF\")\n",
        "    palette <- greenPalette\n",
        "    if (greenOrRed == \"red\")\n",
        "      palette <- redPalette\n",
        "    colorRampPalette(palette)(100)[10 + ceiling(90 * amount / total)]\n",
        "  }\n",
        "\n",
        "  # set the basic layout\n",
        "  layout(matrix(c(1,1,2)))\n",
        "  par(mar=c(2,2,2,2))\n",
        "  plot(c(100, 345), c(300, 450), type = \"n\", xlab=\"\", ylab=\"\", xaxt='n', yaxt='n')\n",
        "  title('CONFUSION MATRIX', cex.main=2)\n",
        "\n",
        "  # create the matrix \n",
        "  classes = colnames(cm$table)\n",
        "  rect(150, 430, 240, 370, col=getColor(\"green\", res[1]))\n",
        "  text(195, 435, classes[1], cex=1.2)\n",
        "  rect(250, 430, 340, 370, col=getColor(\"red\", res[3]))\n",
        "  text(295, 435, classes[2], cex=1.2)\n",
        "  text(125, 370, 'Predicted', cex=1.3, srt=90, font=2)\n",
        "  text(245, 450, 'Actual', cex=1.3, font=2)\n",
        "  rect(150, 305, 240, 365, col=getColor(\"red\", res[2]))\n",
        "  rect(250, 305, 340, 365, col=getColor(\"green\", res[4]))\n",
        "  text(140, 400, classes[1], cex=1.2, srt=90)\n",
        "  text(140, 335, classes[2], cex=1.2, srt=90)\n",
        "\n",
        "  # add in the cm results\n",
        "  text(195, 400, res[1], cex=1.6, font=2, col='white')\n",
        "  text(195, 335, res[2], cex=1.6, font=2, col='white')\n",
        "  text(295, 400, res[3], cex=1.6, font=2, col='white')\n",
        "  text(295, 335, res[4], cex=1.6, font=2, col='white')\n",
        "\n",
        "  # add in the specifics \n",
        "  plot(c(100, 0), c(100, 0), type = \"n\", xlab=\"\", ylab=\"\", main = \"DETAILS\", xaxt='n', yaxt='n')\n",
        "  text(10, 85, names(cm$byClass[1]), cex=1.2, font=2)\n",
        "  text(10, 70, round(as.numeric(cm$byClass[1]), 3), cex=1.2)\n",
        "  text(30, 85, names(cm$byClass[2]), cex=1.2, font=2)\n",
        "  text(30, 70, round(as.numeric(cm$byClass[2]), 3), cex=1.2)\n",
        "  text(50, 85, names(cm$byClass[5]), cex=1.2, font=2)\n",
        "  text(50, 70, round(as.numeric(cm$byClass[5]), 3), cex=1.2)\n",
        "  text(70, 85, names(cm$byClass[6]), cex=1.2, font=2)\n",
        "  text(70, 70, round(as.numeric(cm$byClass[6]), 3), cex=1.2)\n",
        "  text(90, 85, names(cm$byClass[7]), cex=1.2, font=2)\n",
        "  text(90, 70, round(as.numeric(cm$byClass[7]), 3), cex=1.2)\n",
        "\n",
        "  # add in the accuracy information \n",
        "  text(30, 35, names(cm$overall[1]), cex=1.5, font=2)\n",
        "  text(30, 20, round(as.numeric(cm$overall[1]), 3), cex=1.4)\n",
        "  text(70, 35, names(cm$overall[2]), cex=1.5, font=2)\n",
        "  text(70, 20, round(as.numeric(cm$overall[2]), 3), cex=1.4)\n",
        "}"
      ],
      "execution_count": 13,
      "outputs": []
    },
    {
      "cell_type": "code",
      "metadata": {
        "id": "RuxlQe0cIdr3",
        "colab": {
          "base_uri": "https://localhost:8080/",
          "height": 436
        },
        "outputId": "c4a2a8ce-5f49-4743-8de4-b7ee5282f5c6"
      },
      "source": [
        "cm <- caret::confusionMatrix(predict_value$predict_value, test$AHD)\n",
        "draw_confusion_matrix(cm)"
      ],
      "execution_count": 14,
      "outputs": [
        {
          "output_type": "display_data",
          "data": {
            "image/png": "[encoded data removed]",
            "text/plain": [
              "Plot with title “DETAILS”"
            ]
          },
          "metadata": {
            "tags": [],
            "image/png": {
              "width": 420,
              "height": 420
            }
          }
        }
      ]
    },
    {
      "cell_type": "markdown",
      "metadata": {
        "id": "XZewIYwGDIlO"
      },
      "source": [
        "#### **배깅(Bagging)**\n",
        "\n",
        "* 배깅(bagging) : ``중복``을 허용하는 샘플링. Bootstrap Aggregation의 줄임말\n",
        "  * *통계학에서는 중복을 허용하는 샘플링을 부트스트래핑(bootstrapping)이라고 함*\n",
        "\n",
        "* 배깅은 중복 추출 방법을 사용하기 때문에 같은 데이터가 한 데이터셋에  여러 번 추출될 수도 있고, 어떤 데이터는 추출되지 않을 수도 있다.\n",
        "\n",
        "* 데이터가 충분히 큰 경우, 각 데이터가 하나의 붓스트랩 표본에서 제외될 확률은 36.78%이다\n",
        "\n",
        "<br>\n",
        "\n",
        "<p align=\"center\"><img src=\"https://img1.daumcdn.net/thumb/R1280x0/?scode=mtistory2&fname=https%3A%2F%2Fblog.kakaocdn.net%2Fdn%2FbTZVqu%2Fbtqw4oKck4I%2FKbO0ih5GDB5qP2HNtUsGa0%2Fimg.png\" width=\"600\"/> \n",
        "\n",
        "<p align=\"center\"><img src=\"https://img1.daumcdn.net/thumb/R1280x0/?scode=mtistory2&fname=https%3A%2F%2Fblog.kakaocdn.net%2Fdn%2FReb8Q%2Fbtqw5gkMnjn%2FaWVHsgQihxY7wmaNEN8Ay0%2Fimg.jpg\" width=\"600\"/> "
      ]
    },
    {
      "cell_type": "markdown",
      "metadata": {
        "id": "JxP_dT8TOhBP"
      },
      "source": [
        "* bagging\n",
        "\n",
        "<p align=\"center\"><img src=\"https://github.com/Jin0331/TA/blob/master/image/bagging.png?raw=true\" width=\"600\"/></p>\n"
      ]
    },
    {
      "cell_type": "code",
      "metadata": {
        "id": "wBIFMVWfGg86"
      },
      "source": [
        "library(ipred)"
      ],
      "execution_count": 15,
      "outputs": []
    },
    {
      "cell_type": "code",
      "metadata": {
        "id": "Wu-ixZsPGysE"
      },
      "source": [
        "# nbagg -> dicision tree를 몇개나 만들지 정함\n",
        "\n",
        "set.seed(66)\n",
        "AHD_bagging <- ipred::bagging(AHD ~ ., data = train, nbagg = 100)"
      ],
      "execution_count": 16,
      "outputs": []
    },
    {
      "cell_type": "code",
      "metadata": {
        "id": "WA5E_aRLbxCO"
      },
      "source": [
        "predict_value <- predict(AHD_bagging, test, type = \"class\") %>% \n",
        " tibble(predict_value = .)\n",
        "predict_check <- test %>% select(AHD) %>% dplyr::bind_cols(., predict_value) "
      ],
      "execution_count": 17,
      "outputs": []
    },
    {
      "cell_type": "code",
      "metadata": {
        "id": "9hleaP3Mb1NT",
        "colab": {
          "base_uri": "https://localhost:8080/",
          "height": 437
        },
        "outputId": "f3ced35c-43d4-48c5-b478-177ac4565daa"
      },
      "source": [
        "cm <- caret::confusionMatrix(predict_value$predict_value, test$AHD)\n",
        "draw_confusion_matrix(cm)"
      ],
      "execution_count": 18,
      "outputs": [
        {
          "output_type": "display_data",
          "data": {
            "image/png": "[encoded data removed]",
            "text/plain": [
              "Plot with title “DETAILS”"
            ]
          },
          "metadata": {
            "tags": [],
            "image/png": {
              "width": 420,
              "height": 420
            }
          }
        }
      ]
    },
    {
      "cell_type": "markdown",
      "metadata": {
        "id": "EoSbz05HVrE9"
      },
      "source": [
        "#### **부스팅(Boosting)**\n",
        "\n",
        "* 부스팅(Boosting) : 약한 학습기를 여러 개 연결해서 강한 학습기를 만드는 앙상블 방법\n",
        "   * 앞 모델을 보완해 나가도록 모델을 학습하여 연결해 나감\n",
        "   * AdaBoost (Adpative Boosting), Gradient Boosting 이 있음\n",
        "\n",
        "<br>\n",
        "\n",
        "<p align=\"center\"><img src=\"https://github.com/Jin0331/TA/blob/master/image/boosting.png?raw=true\" width=\"450\"/></p>"
      ]
    },
    {
      "cell_type": "code",
      "metadata": {
        "id": "2OLVWOSvVqK3",
        "colab": {
          "base_uri": "https://localhost:8080/"
        },
        "outputId": "fd7cd68c-b283-4075-ff0b-fbc76dcb46ba"
      },
      "source": [
        "install.packages(\"adabag\")\n",
        "library(adabag)"
      ],
      "execution_count": 19,
      "outputs": [
        {
          "output_type": "stream",
          "text": [
            "Installing package into ‘/usr/local/lib/R/site-library’\n",
            "(as ‘lib’ is unspecified)\n",
            "\n",
            "also installing the dependency ‘doParallel’\n",
            "\n",
            "\n",
            "Loading required package: foreach\n",
            "\n",
            "\n",
            "Attaching package: ‘foreach’\n",
            "\n",
            "\n",
            "The following objects are masked from ‘package:purrr’:\n",
            "\n",
            "    accumulate, when\n",
            "\n",
            "\n",
            "Loading required package: doParallel\n",
            "\n",
            "Loading required package: iterators\n",
            "\n",
            "Loading required package: parallel\n",
            "\n",
            "\n",
            "Attaching package: ‘adabag’\n",
            "\n",
            "\n",
            "The following object is masked from ‘package:ipred’:\n",
            "\n",
            "    bagging\n",
            "\n",
            "\n"
          ],
          "name": "stderr"
        }
      ]
    },
    {
      "cell_type": "code",
      "metadata": {
        "id": "-Pd8CKgPdLQi"
      },
      "source": [
        "# Facotr 변수 존재하면 적용 안 되는 듯..\n",
        "# # 계속 무한루프 돔\n",
        "\n",
        "# AHD_boost <- adabag::boosting(AHD ~ ., data = train)"
      ],
      "execution_count": 21,
      "outputs": []
    },
    {
      "cell_type": "markdown",
      "metadata": {
        "id": "bvjPzcZroydM"
      },
      "source": [
        "### **<랜덤 포레스트(Random Forests)>**\n",
        "\n",
        "* 랜덤포레스트(random forest)는 배깅에 랜덤과정(설명변수)을 추가한 방법이다.\n",
        "* 원래 트레이닝  자료로부터 붓스트랩 샘플을 추출하고, 각 붓스트랩 샘플에 대해 트리를 형성해 나가는 과정은 배깅과 유사하나, 각 노드마다 모든 예측변수 안에서 최적의 분할(split)을 선택하는 방법 대신 예측변수들을 임의로 추출하고, 추출된 변수 내에서 최적의 분할을 만들어 나가는 방법을 사용한다.\n",
        "* 새로운 자료에 대한 예측은 분류(classification)의 경우는 다수결(majority votes)로, 회귀(regression)의 경우에는 평균을 취하는 방법을 사용한다.\n",
        "\n",
        "<br>\n",
        "\n",
        "<p align=\"center\"><img src=\"https://github.com/Jin0331/TA/blob/master/image/random_forests.jpg?raw=true\" width=\"550\"></p>\n"
      ]
    },
    {
      "cell_type": "markdown",
      "metadata": {
        "id": "CewG_Xwi_NRv"
      },
      "source": [
        "* __배깅과 랜덤 포레스트의 차이?__\n",
        "  * 배깅의 일종. 배깅과 다른 점은, ``'설명변수'도 무작위로 선택``. 즉, 설명변수를 무작위로 선택함으로써, 트리의 다양성을 확보하여 모형간의 상관관계를 줄이고자 하는 것\n",
        "\n"
      ]
    },
    {
      "cell_type": "code",
      "metadata": {
        "id": "QIW_-DMjGx20",
        "colab": {
          "base_uri": "https://localhost:8080/"
        },
        "outputId": "f61c2b21-cf98-4cb4-be11-f71891685dd6"
      },
      "source": [
        "#install.packages(\"randomForest\")\n",
        "library(randomForest)"
      ],
      "execution_count": 22,
      "outputs": [
        {
          "output_type": "stream",
          "text": [
            "randomForest 4.6-14\n",
            "\n",
            "Type rfNews() to see new features/changes/bug fixes.\n",
            "\n",
            "\n",
            "Attaching package: ‘randomForest’\n",
            "\n",
            "\n",
            "The following object is masked from ‘package:dplyr’:\n",
            "\n",
            "    combine\n",
            "\n",
            "\n",
            "The following object is masked from ‘package:ggplot2’:\n",
            "\n",
            "    margin\n",
            "\n",
            "\n"
          ],
          "name": "stderr"
        }
      ]
    },
    {
      "cell_type": "code",
      "metadata": {
        "id": "M2YGTVsbgEqM",
        "colab": {
          "base_uri": "https://localhost:8080/",
          "height": 395
        },
        "outputId": "4414f153-169c-4c36-f823-27de3ae24001"
      },
      "source": [
        "# 랜던포레스트 사용시 NA값이 있으면 안된다. \n",
        "\n",
        "summary(train)"
      ],
      "execution_count": 23,
      "outputs": [
        {
          "output_type": "display_data",
          "data": {
            "text/plain": [
              "       X1             Age        Sex            ChestPain       RestBP     \n",
              " Min.   :  2.0   Min.   :34.00   0: 72   asymptomatic:101   Min.   :100.0  \n",
              " 1st Qu.: 79.0   1st Qu.:48.00   1:141   nonanginal  : 56   1st Qu.:120.0  \n",
              " Median :157.0   Median :56.00           nontypical  : 38   Median :130.0  \n",
              " Mean   :154.9   Mean   :55.04           typical     : 18   Mean   :132.8  \n",
              " 3rd Qu.:232.0   3rd Qu.:62.00                              3rd Qu.:140.0  \n",
              " Max.   :303.0   Max.   :77.00                              Max.   :200.0  \n",
              "      Chol       Fbs     RestECG     MaxHR       ExAng      Oldpeak     \n",
              " Min.   :141.0   0:184   0:113   Min.   : 71.0   0:144   Min.   :0.000  \n",
              " 1st Qu.:212.0   1: 29   1:  4   1st Qu.:133.0   1: 69   1st Qu.:0.000  \n",
              " Median :242.0           2: 96   Median :155.0           Median :0.800  \n",
              " Mean   :246.9                   Mean   :149.9           Mean   :1.053  \n",
              " 3rd Qu.:274.0                   3rd Qu.:168.0           3rd Qu.:1.600  \n",
              " Max.   :564.0                   Max.   :195.0           Max.   :5.600  \n",
              " Slope      Ca              Thal      AHD     \n",
              " 1: 97   0   :128   fixed     : 12   No :115  \n",
              " 2:105   1   : 44   normal    :123   Yes: 98  \n",
              " 3: 11   2   : 29   reversable: 77            \n",
              "         3   :  8   NA's      :  1            \n",
              "         NA's:  4                             \n",
              "                                              "
            ]
          },
          "metadata": {
            "tags": []
          }
        }
      ]
    },
    {
      "cell_type": "code",
      "metadata": {
        "id": "jIFo8_2rf0In",
        "colab": {
          "base_uri": "https://localhost:8080/",
          "height": 233
        },
        "outputId": "cadd6877-85f9-4649-ec43-b9db8037c00a"
      },
      "source": [
        "# 랜덤포레스트 안의 기능인 na.action = na.omit 으로 결측치를 제거해준다. \n",
        "# importance -> 중요도를 파악할 수 있는 기능\n",
        "#  mtry = 7, ntree = 1000 = 하이퍼파라미터 -> 성능을 높임\n",
        "# mtry = 7 -> 모델 하나 만들때 몇개의 특성을 이용할지 결정\n",
        "# ntree => 1000개의 decision tree를 만든다. \n",
        "# OOB estimate of  error rate: 18.75%  -> 사용하지 않은 데이터로 test해봤을때 18%정도 오류값이 나왔다. \n",
        "\n",
        "\n",
        "AHD_RF <- randomForest(AHD ~ . -X1, data = train, na.action = na.omit, importance = T, mtry = 7, ntree = 1000)\n",
        "AHD_RF"
      ],
      "execution_count": 24,
      "outputs": [
        {
          "output_type": "display_data",
          "data": {
            "text/plain": [
              "\n",
              "Call:\n",
              " randomForest(formula = AHD ~ . - X1, data = train, importance = T,      mtry = 7, ntree = 1000, na.action = na.omit) \n",
              "               Type of random forest: classification\n",
              "                     Number of trees: 1000\n",
              "No. of variables tried at each split: 7\n",
              "\n",
              "        OOB estimate of  error rate: 18.75%\n",
              "Confusion matrix:\n",
              "    No Yes class.error\n",
              "No  95  16   0.1441441\n",
              "Yes 23  74   0.2371134"
            ]
          },
          "metadata": {
            "tags": []
          }
        }
      ]
    },
    {
      "cell_type": "markdown",
      "metadata": {
        "id": "mFecNzYxk8ID"
      },
      "source": [
        "* mtry 골드 스탠다드(gold standard) : sqrt(설명변수 개수)"
      ]
    },
    {
      "cell_type": "code",
      "metadata": {
        "id": "MKz56-W5kP9p",
        "colab": {
          "base_uri": "https://localhost:8080/",
          "height": 34
        },
        "outputId": "c68a0b62-ef55-4bf6-d5f7-c0446767620c"
      },
      "source": [
        "# sqrt= 루트를 씌우는 함수 \n",
        "# 반응변수와 사용되지않을 변수인 X1과 AHD를 뺀 자료들의 갯수를\n",
        "# 루트 씌우고 floor해서 소수점 날림\n",
        "# 가장 적합한 mtry를 찾을 수 있음\n",
        "\n",
        "\n",
        "mtry_sqrt <- train %>% select(-X1, -AHD) %>% colnames() %>%\n",
        " length() %>% sqrt() %>% floor()\n",
        "\n",
        "mtry_sqrt"
      ],
      "execution_count": 25,
      "outputs": [
        {
          "output_type": "display_data",
          "data": {
            "text/plain": [
              "[1] 3"
            ],
            "text/latex": "3",
            "text/markdown": "3",
            "text/html": [
              "3"
            ]
          },
          "metadata": {
            "tags": []
          }
        }
      ]
    },
    {
      "cell_type": "code",
      "metadata": {
        "id": "nkFN9PFgkz2I",
        "colab": {
          "base_uri": "https://localhost:8080/",
          "height": 233
        },
        "outputId": "694f3af8-f46e-4ac7-9fd2-b21a143053c7"
      },
      "source": [
        "# mtry 바꿨더니 성능이 향상된것을 볼 수 있다. \n",
        "\n",
        "set.seed(52)\n",
        "AHD_RF <- randomForest(AHD ~ . -X1, data = train, na.action = na.omit, importance = T, mtry = mtry_sqrt, ntree = 1000)\n",
        "AHD_RF"
      ],
      "execution_count": 26,
      "outputs": [
        {
          "output_type": "display_data",
          "data": {
            "text/plain": [
              "\n",
              "Call:\n",
              " randomForest(formula = AHD ~ . - X1, data = train, importance = T,      mtry = mtry_sqrt, ntree = 1000, na.action = na.omit) \n",
              "               Type of random forest: classification\n",
              "                     Number of trees: 1000\n",
              "No. of variables tried at each split: 3\n",
              "\n",
              "        OOB estimate of  error rate: 17.79%\n",
              "Confusion matrix:\n",
              "    No Yes class.error\n",
              "No  98  13   0.1171171\n",
              "Yes 24  73   0.2474227"
            ]
          },
          "metadata": {
            "tags": []
          }
        }
      ]
    },
    {
      "cell_type": "code",
      "metadata": {
        "id": "mztcWYuFgelj",
        "colab": {
          "base_uri": "https://localhost:8080/",
          "height": 437
        },
        "outputId": "7aa0f255-02fa-4070-d3b8-35f8000612e9"
      },
      "source": [
        "# 중요도를 파악할 수 있는 함수 \n",
        "# ca와 chestPain이 중요한 변수인것을 알 수 있다. \n",
        "\n",
        "varImpPlot(AHD_RF, type=2, pch=19, col=1, cex=1, main=\"\")"
      ],
      "execution_count": 27,
      "outputs": [
        {
          "output_type": "display_data",
          "data": {
            "image/png": "[encoded data removed]",
            "text/plain": [
              "Plot with title “”"
            ]
          },
          "metadata": {
            "tags": [],
            "image/png": {
              "width": 420,
              "height": 420
            }
          }
        }
      ]
    },
    {
      "cell_type": "code",
      "metadata": {
        "id": "8Noy6MkTiWv2",
        "colab": {
          "base_uri": "https://localhost:8080/",
          "height": 437
        },
        "outputId": "55e46453-929a-48f6-cece-987b7dc2bf05"
      },
      "source": [
        "# 트리갯수가 증가함에 따라 오차의 변화를 볼 수 있다.  \n",
        "# yes(초록색) -> AHD가 맞다고 한 자료는  트리가 증가할수록 오차가 올라가는 것을 볼 수 있다. \n",
        "# no(pink) -> AHD가 아니라고 한 자료는 트리가 증가할수록 오차가 감소하는 것을 볼 수 있다. \n",
        "\n",
        "\n",
        "plot(AHD_RF)\n",
        "legend(x = 750, y = 0.34, c(\"no\", \"yes\", \"mean\"), col = c(\"pink\", \"green\", \"black\"), pch = c(1,1,1), cex = 1.3)"
      ],
      "execution_count": 58,
      "outputs": [
        {
          "output_type": "display_data",
          "data": {
            "image/png": "[encoded data removed]",
            "text/plain": [
              "Plot with title “AHD_RF”"
            ]
          },
          "metadata": {
            "tags": [],
            "image/png": {
              "width": 420,
              "height": 420
            }
          }
        }
      ]
    },
    {
      "cell_type": "markdown",
      "metadata": {
        "id": "d5gLBdXDwmFH"
      },
      "source": [
        "* 예측 및 평가"
      ]
    },
    {
      "cell_type": "code",
      "metadata": {
        "id": "zQ7mkC0SwniK"
      },
      "source": [
        "predict_value <- predict(AHD_RF, test, type = \"class\") %>% \n",
        " tibble(predict_value = .)\n",
        "predict_check <- test %>% select(AHD) %>% dplyr::bind_cols(., predict_value) "
      ],
      "execution_count": 29,
      "outputs": []
    },
    {
      "cell_type": "code",
      "metadata": {
        "id": "ioP1QfViwpvn",
        "colab": {
          "base_uri": "https://localhost:8080/",
          "height": 437
        },
        "outputId": "cd12bea7-1074-474e-bae5-e92a6fe4769b"
      },
      "source": [
        "cm <- caret::confusionMatrix(predict_value$predict_value, test$AHD)\n",
        "draw_confusion_matrix(cm)"
      ],
      "execution_count": 30,
      "outputs": [
        {
          "output_type": "display_data",
          "data": {
            "image/png": "[encoded data removed]",
            "text/plain": [
              "Plot with title “DETAILS”"
            ]
          },
          "metadata": {
            "tags": [],
            "image/png": {
              "width": 420,
              "height": 420
            }
          }
        }
      ]
    },
    {
      "cell_type": "markdown",
      "metadata": {
        "id": "XUaaa7ISStc_"
      },
      "source": [
        "- - -\n",
        "\n",
        "#### **B. titanic**"
      ]
    },
    {
      "cell_type": "markdown",
      "metadata": {
        "id": "mK3ksBrkxgc_"
      },
      "source": [
        "* https://www.kaggle.com/c/titanic/data\n",
        "\n",
        "**<kaggle의 타이타닉 data>**\n",
        "\n",
        "  * survived : 생존=1, 죽음=0\n",
        "  * pclass : 승객 등급. 1등급=1, 2등급=2, 3등급=3\n",
        "  * sibsp : 함께 탑승한 형제 또는 배우자 수\n",
        "  * parch : 함께 탑승한 부모 또는 자녀 수\n",
        "  * ticket : 티켓 번호\n",
        "  * cabin : 선실 번호\n",
        "  * embarked : 탑승장소 S=Southhampton, C=Cherbourg, Q=Queenstown"
      ]
    },
    {
      "cell_type": "code",
      "metadata": {
        "id": "nWoKtbMKrJ_O",
        "cellView": "both",
        "colab": {
          "base_uri": "https://localhost:8080/"
        },
        "outputId": "bbd363b9-756f-423f-c4c2-8bed368bd923"
      },
      "source": [
        "train <- read_csv(\"https://raw.githubusercontent.com/Jin0331/TA/master/data/titanic/train.csv\")"
      ],
      "execution_count": 31,
      "outputs": [
        {
          "output_type": "stream",
          "text": [
            "\n",
            "\u001b[36m──\u001b[39m \u001b[1m\u001b[1mColumn specification\u001b[1m\u001b[22m \u001b[36m────────────────────────────────────────────────────────\u001b[39m\n",
            "cols(\n",
            "  PassengerId = \u001b[32mcol_double()\u001b[39m,\n",
            "  Survived = \u001b[32mcol_double()\u001b[39m,\n",
            "  Pclass = \u001b[32mcol_double()\u001b[39m,\n",
            "  Name = \u001b[31mcol_character()\u001b[39m,\n",
            "  Sex = \u001b[31mcol_character()\u001b[39m,\n",
            "  Age = \u001b[32mcol_double()\u001b[39m,\n",
            "  SibSp = \u001b[32mcol_double()\u001b[39m,\n",
            "  Parch = \u001b[32mcol_double()\u001b[39m,\n",
            "  Ticket = \u001b[31mcol_character()\u001b[39m,\n",
            "  Fare = \u001b[32mcol_double()\u001b[39m,\n",
            "  Cabin = \u001b[31mcol_character()\u001b[39m,\n",
            "  Embarked = \u001b[31mcol_character()\u001b[39m\n",
            ")\n",
            "\n",
            "\n"
          ],
          "name": "stderr"
        }
      ]
    },
    {
      "cell_type": "code",
      "metadata": {
        "id": "FoUcmHWIxf8A",
        "cellView": "both",
        "colab": {
          "base_uri": "https://localhost:8080/"
        },
        "outputId": "06f55f00-2366-4681-dcb2-88ea7bf3f8e7"
      },
      "source": [
        "str(train)"
      ],
      "execution_count": 32,
      "outputs": [
        {
          "output_type": "stream",
          "text": [
            "tibble [891 × 12] (S3: spec_tbl_df/tbl_df/tbl/data.frame)\n",
            " $ PassengerId: num [1:891] 1 2 3 4 5 6 7 8 9 10 ...\n",
            " $ Survived   : num [1:891] 0 1 1 1 0 0 0 0 1 1 ...\n",
            " $ Pclass     : num [1:891] 3 1 3 1 3 3 1 3 3 2 ...\n",
            " $ Name       : chr [1:891] \"Braund, Mr. Owen Harris\" \"Cumings, Mrs. John Bradley (Florence Briggs Thayer)\" \"Heikkinen, Miss. Laina\" \"Futrelle, Mrs. Jacques Heath (Lily May Peel)\" ...\n",
            " $ Sex        : chr [1:891] \"male\" \"female\" \"female\" \"female\" ...\n",
            " $ Age        : num [1:891] 22 38 26 35 35 NA 54 2 27 14 ...\n",
            " $ SibSp      : num [1:891] 1 1 0 1 0 0 0 3 0 1 ...\n",
            " $ Parch      : num [1:891] 0 0 0 0 0 0 0 1 2 0 ...\n",
            " $ Ticket     : chr [1:891] \"A/5 21171\" \"PC 17599\" \"STON/O2. 3101282\" \"113803\" ...\n",
            " $ Fare       : num [1:891] 7.25 71.28 7.92 53.1 8.05 ...\n",
            " $ Cabin      : chr [1:891] NA \"C85\" NA \"C123\" ...\n",
            " $ Embarked   : chr [1:891] \"S\" \"C\" \"S\" \"S\" ...\n",
            " - attr(*, \"spec\")=\n",
            "  .. cols(\n",
            "  ..   PassengerId = \u001b[32mcol_double()\u001b[39m,\n",
            "  ..   Survived = \u001b[32mcol_double()\u001b[39m,\n",
            "  ..   Pclass = \u001b[32mcol_double()\u001b[39m,\n",
            "  ..   Name = \u001b[31mcol_character()\u001b[39m,\n",
            "  ..   Sex = \u001b[31mcol_character()\u001b[39m,\n",
            "  ..   Age = \u001b[32mcol_double()\u001b[39m,\n",
            "  ..   SibSp = \u001b[32mcol_double()\u001b[39m,\n",
            "  ..   Parch = \u001b[32mcol_double()\u001b[39m,\n",
            "  ..   Ticket = \u001b[31mcol_character()\u001b[39m,\n",
            "  ..   Fare = \u001b[32mcol_double()\u001b[39m,\n",
            "  ..   Cabin = \u001b[31mcol_character()\u001b[39m,\n",
            "  ..   Embarked = \u001b[31mcol_character()\u001b[39m\n",
            "  .. )\n"
          ],
          "name": "stdout"
        }
      ]
    },
    {
      "cell_type": "code",
      "metadata": {
        "id": "cY1odydB16zG",
        "cellView": "both",
        "colab": {
          "base_uri": "https://localhost:8080/",
          "height": 449
        },
        "outputId": "05de9583-cecd-40a8-e7f8-f014240d30bf"
      },
      "source": [
        "train %>% summary()"
      ],
      "execution_count": 33,
      "outputs": [
        {
          "output_type": "display_data",
          "data": {
            "text/plain": [
              "  PassengerId       Survived          Pclass          Name          \n",
              " Min.   :  1.0   Min.   :0.0000   Min.   :1.000   Length:891        \n",
              " 1st Qu.:223.5   1st Qu.:0.0000   1st Qu.:2.000   Class :character  \n",
              " Median :446.0   Median :0.0000   Median :3.000   Mode  :character  \n",
              " Mean   :446.0   Mean   :0.3838   Mean   :2.309                     \n",
              " 3rd Qu.:668.5   3rd Qu.:1.0000   3rd Qu.:3.000                     \n",
              " Max.   :891.0   Max.   :1.0000   Max.   :3.000                     \n",
              "                                                                    \n",
              "     Sex                 Age            SibSp           Parch       \n",
              " Length:891         Min.   : 0.42   Min.   :0.000   Min.   :0.0000  \n",
              " Class :character   1st Qu.:20.12   1st Qu.:0.000   1st Qu.:0.0000  \n",
              " Mode  :character   Median :28.00   Median :0.000   Median :0.0000  \n",
              "                    Mean   :29.70   Mean   :0.523   Mean   :0.3816  \n",
              "                    3rd Qu.:38.00   3rd Qu.:1.000   3rd Qu.:0.0000  \n",
              "                    Max.   :80.00   Max.   :8.000   Max.   :6.0000  \n",
              "                    NA's   :177                                     \n",
              "    Ticket               Fare           Cabin             Embarked        \n",
              " Length:891         Min.   :  0.00   Length:891         Length:891        \n",
              " Class :character   1st Qu.:  7.91   Class :character   Class :character  \n",
              " Mode  :character   Median : 14.45   Mode  :character   Mode  :character  \n",
              "                    Mean   : 32.20                                        \n",
              "                    3rd Qu.: 31.00                                        \n",
              "                    Max.   :512.33                                        \n",
              "                                                                          "
            ]
          },
          "metadata": {
            "tags": []
          }
        }
      ]
    },
    {
      "cell_type": "markdown",
      "metadata": {
        "id": "hg-bZnUDozhW"
      },
      "source": [
        "* 범주형 변수 확인"
      ]
    },
    {
      "cell_type": "code",
      "metadata": {
        "id": "D440rnZU2JSb",
        "cellView": "both",
        "colab": {
          "base_uri": "https://localhost:8080/",
          "height": 305
        },
        "outputId": "2e4cbc78-9acd-4b91-8635-27b306443dee"
      },
      "source": [
        "train <- train %>% \n",
        " select(-PassengerId, -Name, -Cabin, -Ticket) %>% mutate_at(c(\"Survived\",\"Sex\",\"Embarked\", \"Pclass\"), factor)\n",
        "summary(train)"
      ],
      "execution_count": 34,
      "outputs": [
        {
          "output_type": "display_data",
          "data": {
            "text/plain": [
              " Survived Pclass      Sex           Age            SibSp           Parch       \n",
              " 0:549    1:216   female:314   Min.   : 0.42   Min.   :0.000   Min.   :0.0000  \n",
              " 1:342    2:184   male  :577   1st Qu.:20.12   1st Qu.:0.000   1st Qu.:0.0000  \n",
              "          3:491                Median :28.00   Median :0.000   Median :0.0000  \n",
              "                               Mean   :29.70   Mean   :0.523   Mean   :0.3816  \n",
              "                               3rd Qu.:38.00   3rd Qu.:1.000   3rd Qu.:0.0000  \n",
              "                               Max.   :80.00   Max.   :8.000   Max.   :6.0000  \n",
              "                               NA's   :177                                     \n",
              "      Fare        Embarked  \n",
              " Min.   :  0.00   C   :168  \n",
              " 1st Qu.:  7.91   Q   : 77  \n",
              " Median : 14.45   S   :644  \n",
              " Mean   : 32.20   NA's:  2  \n",
              " 3rd Qu.: 31.00             \n",
              " Max.   :512.33             \n",
              "                            "
            ]
          },
          "metadata": {
            "tags": []
          }
        }
      ]
    },
    {
      "cell_type": "markdown",
      "metadata": {
        "id": "ntcsCge-tBt-"
      },
      "source": [
        "* Hmisc::impute을 이용한 NA 값 대체(평균, 중앙값, 특정 숫자)\n",
        "\n",
        "* https://m.blog.naver.com/PostView.nhn?blogId=tjdudwo93&logNo=221142961499&proxyReferer=https:%2F%2Fwww.google.com%2F"
      ]
    },
    {
      "cell_type": "code",
      "metadata": {
        "id": "rQa6PCWisH1y",
        "colab": {
          "base_uri": "https://localhost:8080/"
        },
        "outputId": "42a27b3e-a19a-4fa5-d92d-6872a2913613"
      },
      "source": [
        "# Hmisc를 이용해서 NA값 대체함 -> 수치형 데이터에서만 사용가능 \n",
        "\n",
        "install.packages(\"Hmisc\")"
      ],
      "execution_count": 35,
      "outputs": [
        {
          "output_type": "stream",
          "text": [
            "Installing package into ‘/usr/local/lib/R/site-library’\n",
            "(as ‘lib’ is unspecified)\n",
            "\n",
            "also installing the dependencies ‘png’, ‘jpeg’, ‘checkmate’, ‘Formula’, ‘latticeExtra’, ‘gridExtra’, ‘htmlTable’, ‘viridis’\n",
            "\n",
            "\n"
          ],
          "name": "stderr"
        }
      ]
    },
    {
      "cell_type": "code",
      "metadata": {
        "id": "P6QTZq24vNGz",
        "colab": {
          "base_uri": "https://localhost:8080/"
        },
        "outputId": "77da3717-6c59-46a9-972e-882371d4f313"
      },
      "source": [
        "# 결측치를 중간값으로 대채한다. \n",
        "\n",
        "library(Hmisc)\n",
        "train$Age <- impute(train$Age, median)"
      ],
      "execution_count": 36,
      "outputs": [
        {
          "output_type": "stream",
          "text": [
            "Loading required package: survival\n",
            "\n",
            "\n",
            "Attaching package: ‘survival’\n",
            "\n",
            "\n",
            "The following object is masked from ‘package:caret’:\n",
            "\n",
            "    cluster\n",
            "\n",
            "\n",
            "Loading required package: Formula\n",
            "\n",
            "\n",
            "Attaching package: ‘Hmisc’\n",
            "\n",
            "\n",
            "The following objects are masked from ‘package:dplyr’:\n",
            "\n",
            "    src, summarize\n",
            "\n",
            "\n",
            "The following objects are masked from ‘package:base’:\n",
            "\n",
            "    format.pval, units\n",
            "\n",
            "\n"
          ],
          "name": "stderr"
        }
      ]
    },
    {
      "cell_type": "code",
      "metadata": {
        "id": "4VYjGpBq0dbo",
        "colab": {
          "base_uri": "https://localhost:8080/",
          "height": 323
        },
        "outputId": "88ef8e75-4078-4891-fbf3-877ad5d682e5"
      },
      "source": [
        "# age 결측치 제거함 \n",
        "# 아직 Embarked에 결측치가 있음 -> 수치형데이터가 아니기 때문에 삭제함 \n",
        "\n",
        "train %>% summary()"
      ],
      "execution_count": 37,
      "outputs": [
        {
          "output_type": "stream",
          "text": [
            "\n",
            " 177 values imputed to 28 \n",
            "\n"
          ],
          "name": "stdout"
        },
        {
          "output_type": "display_data",
          "data": {
            "text/plain": [
              " Survived Pclass      Sex           Age            SibSp           Parch       \n",
              " 0:549    1:216   female:314   Min.   : 0.42   Min.   :0.000   Min.   :0.0000  \n",
              " 1:342    2:184   male  :577   1st Qu.:22.00   1st Qu.:0.000   1st Qu.:0.0000  \n",
              "          3:491                Median :28.00   Median :0.000   Median :0.0000  \n",
              "                               Mean   :29.36   Mean   :0.523   Mean   :0.3816  \n",
              "                               3rd Qu.:35.00   3rd Qu.:1.000   3rd Qu.:0.0000  \n",
              "                               Max.   :80.00   Max.   :8.000   Max.   :6.0000  \n",
              "      Fare        Embarked  \n",
              " Min.   :  0.00   C   :168  \n",
              " 1st Qu.:  7.91   Q   : 77  \n",
              " Median : 14.45   S   :644  \n",
              " Mean   : 32.20   NA's:  2  \n",
              " 3rd Qu.: 31.00             \n",
              " Max.   :512.33             "
            ]
          },
          "metadata": {
            "tags": []
          }
        }
      ]
    },
    {
      "cell_type": "code",
      "metadata": {
        "id": "tivXsaif3NS6"
      },
      "source": [
        "# 남은 결측치 제거 \n",
        "\n",
        "train <- train %>% na.omit()"
      ],
      "execution_count": 38,
      "outputs": []
    },
    {
      "cell_type": "code",
      "metadata": {
        "id": "t08Gixc-ESqw",
        "colab": {
          "base_uri": "https://localhost:8080/",
          "height": 323
        },
        "outputId": "c78ea66c-8bd5-46a5-d5dc-5c43aad9ea40"
      },
      "source": [
        "train %>% summary()"
      ],
      "execution_count": 39,
      "outputs": [
        {
          "output_type": "stream",
          "text": [
            "\n",
            " 177 values imputed to 28 \n",
            "\n"
          ],
          "name": "stdout"
        },
        {
          "output_type": "display_data",
          "data": {
            "text/plain": [
              " Survived Pclass      Sex           Age            SibSp       \n",
              " 0:549    1:214   female:312   Min.   : 0.42   Min.   :0.0000  \n",
              " 1:340    2:184   male  :577   1st Qu.:22.00   1st Qu.:0.0000  \n",
              "          3:491                Median :28.00   Median :0.0000  \n",
              "                               Mean   :29.32   Mean   :0.5242  \n",
              "                               3rd Qu.:35.00   3rd Qu.:1.0000  \n",
              "                               Max.   :80.00   Max.   :8.0000  \n",
              "     Parch             Fare         Embarked\n",
              " Min.   :0.0000   Min.   :  0.000   C:168   \n",
              " 1st Qu.:0.0000   1st Qu.:  7.896   Q: 77   \n",
              " Median :0.0000   Median : 14.454   S:644   \n",
              " Mean   :0.3825   Mean   : 32.097           \n",
              " 3rd Qu.:0.0000   3rd Qu.: 31.000           \n",
              " Max.   :6.0000   Max.   :512.329           "
            ]
          },
          "metadata": {
            "tags": []
          }
        }
      ]
    },
    {
      "cell_type": "markdown",
      "metadata": {
        "id": "MuMWArUy_sAw"
      },
      "source": [
        "* **train을 이용한 Random Forests 모델 생성**"
      ]
    },
    {
      "cell_type": "code",
      "metadata": {
        "id": "mDJZEgS7dox6",
        "colab": {
          "base_uri": "https://localhost:8080/",
          "height": 34
        },
        "outputId": "bcd3ae69-1c9f-4441-b1b8-d023effb7c90"
      },
      "source": [
        "# 가장 적합한 mtry 갯수 설정\n",
        "# mtry는 모델 만들때 몇개의 특징을 사용할 것인지를 결정 하는 것\n",
        "# 2가지 특징으로 분류하는게 가장 성능 좋을것이다. \n",
        "\n",
        "mtry_sqrt <- train %>% select(-Survived) %>% colnames() %>%\n",
        " length() %>% sqrt() %>% floor()\n",
        "mtry_sqrt"
      ],
      "execution_count": 40,
      "outputs": [
        {
          "output_type": "display_data",
          "data": {
            "text/plain": [
              "[1] 2"
            ],
            "text/latex": "2",
            "text/markdown": "2",
            "text/html": [
              "2"
            ]
          },
          "metadata": {
            "tags": []
          }
        }
      ]
    },
    {
      "cell_type": "code",
      "metadata": {
        "id": "vdTlp-6A09aR",
        "colab": {
          "base_uri": "https://localhost:8080/",
          "height": 233
        },
        "outputId": "d6e7f8c9-3cdc-45c3-98f3-f140dd7081d9"
      },
      "source": [
        "# set.seed(29)\n",
        "# OOB estimate of  error rate: 16.2% -> 83% 정도의 정확도를 가진다. \n",
        "\n",
        "model <- randomForest(Survived ~ ., data = train,importance = T, mtry = mtry_sqrt, ntree = 1000)\n",
        "model"
      ],
      "execution_count": 41,
      "outputs": [
        {
          "output_type": "display_data",
          "data": {
            "text/plain": [
              "\n",
              "Call:\n",
              " randomForest(formula = Survived ~ ., data = train, importance = T,      mtry = mtry_sqrt, ntree = 1000) \n",
              "               Type of random forest: classification\n",
              "                     Number of trees: 1000\n",
              "No. of variables tried at each split: 2\n",
              "\n",
              "        OOB estimate of  error rate: 16.2%\n",
              "Confusion matrix:\n",
              "    0   1 class.error\n",
              "0 508  41  0.07468124\n",
              "1 103 237  0.30294118"
            ]
          },
          "metadata": {
            "tags": []
          }
        }
      ]
    },
    {
      "cell_type": "markdown",
      "metadata": {
        "id": "wkNyAWeo2A0Q"
      },
      "source": [
        "* caret과 e1071 패키지를 이용한 grid search\n",
        "\n",
        "https://www.guru99.com/r-random-forest-tutorial.html"
      ]
    },
    {
      "cell_type": "markdown",
      "metadata": {
        "id": "f09w71hX2ft7"
      },
      "source": [
        "* Default setting : K-fold cross validation is controlled by the trainControl() function\n",
        "\n",
        "```\n",
        "trainControl(method = \"cv\", number = n, search =\"grid\")\n",
        "arguments\n",
        "- method = \"cv\": The method used to resample the dataset. \n",
        "- number = n: Number of folders to create\n",
        "- search = \"grid\": Use the search grid method. For randomized method, use \"grid\"\n",
        "Note: You can refer to the vignette to see the other arguments of the function.\n",
        "```"
      ]
    },
    {
      "cell_type": "code",
      "metadata": {
        "id": "rvcgVxHm2HhT"
      },
      "source": [
        "# 최적의 파라미터(mtry, ntree등)를 구하기 위해 e1071패키지를 사용 \n",
        "# \n",
        "# Define the control\n",
        "trControl <- trainControl(method = \"cv\", number = 10, search = \"grid\")"
      ],
      "execution_count": 42,
      "outputs": []
    },
    {
      "cell_type": "markdown",
      "metadata": {
        "id": "cGUuDQFc20eN"
      },
      "source": [
        "* Default setting:he build the model with the default values\n",
        "  * parameter를 따로 지정하지 않는다면, default로 mtry에 대한 grid search"
      ]
    },
    {
      "cell_type": "code",
      "metadata": {
        "id": "VMwBRCzn27e5",
        "colab": {
          "base_uri": "https://localhost:8080/"
        },
        "outputId": "a48198eb-9551-4477-f000-19b0a7fd7623"
      },
      "source": [
        "# Run the model\n",
        "rf_default <- train(Survived~., data = train, method = \"rf\", metric = \"Accuracy\", trControl = trControl)\n",
        "# Print the results\n",
        "print(rf_default)"
      ],
      "execution_count": 43,
      "outputs": [
        {
          "output_type": "stream",
          "text": [
            "Random Forest \n",
            "\n",
            "889 samples\n",
            "  7 predictor\n",
            "  2 classes: '0', '1' \n",
            "\n",
            "No pre-processing\n",
            "Resampling: Cross-Validated (10 fold) \n",
            "Summary of sample sizes: 800, 800, 800, 800, 801, 800, ... \n",
            "Resampling results across tuning parameters:\n",
            "\n",
            "  mtry  Accuracy   Kappa    \n",
            "  2     0.8256767  0.6126264\n",
            "  5     0.8301456  0.6352850\n",
            "  9     0.8155388  0.6062727\n",
            "\n",
            "Accuracy was used to select the optimal model using the largest value.\n",
            "The final value used for the model was mtry = 5.\n"
          ],
          "name": "stdout"
        }
      ]
    },
    {
      "cell_type": "markdown",
      "metadata": {
        "id": "Ju7kgVu43lH1"
      },
      "source": [
        "* Search best mtry"
      ]
    },
    {
      "cell_type": "code",
      "metadata": {
        "id": "AY4F6FH13kC1",
        "colab": {
          "base_uri": "https://localhost:8080/"
        },
        "outputId": "94ea3c6e-3763-49a1-bda9-d00798ac70ec"
      },
      "source": [
        "tuneGrid <- expand.grid(.mtry = c(2: 6)) # 변수개수 7개. \n",
        "rf_mtry <- train(Survived~.,\n",
        "    data = train, method = \"rf\",\n",
        "    metric = \"Accuracy\", tuneGrid = tuneGrid,\n",
        "    trControl = trControl, importance = T, ntree = 1000)\n",
        "print(rf_mtry)"
      ],
      "execution_count": 44,
      "outputs": [
        {
          "output_type": "stream",
          "text": [
            "Random Forest \n",
            "\n",
            "889 samples\n",
            "  7 predictor\n",
            "  2 classes: '0', '1' \n",
            "\n",
            "No pre-processing\n",
            "Resampling: Cross-Validated (10 fold) \n",
            "Summary of sample sizes: 800, 800, 800, 800, 800, 801, ... \n",
            "Resampling results across tuning parameters:\n",
            "\n",
            "  mtry  Accuracy   Kappa    \n",
            "  2     0.8244510  0.6081952\n",
            "  3     0.8300562  0.6269993\n",
            "  4     0.8413304  0.6559073\n",
            "  5     0.8345633  0.6431610\n",
            "  6     0.8267109  0.6290006\n",
            "\n",
            "Accuracy was used to select the optimal model using the largest value.\n",
            "The final value used for the model was mtry = 4.\n"
          ],
          "name": "stdout"
        }
      ]
    },
    {
      "cell_type": "code",
      "metadata": {
        "id": "WzjKfdty4Wkz",
        "colab": {
          "base_uri": "https://localhost:8080/",
          "height": 34
        },
        "outputId": "e96b0167-77cd-4483-8dbe-cde29b3f043c"
      },
      "source": [
        "# 최적의 mtry가 4인것을 알 수 있다. \n",
        "\n",
        "best_mtry <- rf_mtry$bestTune$mtry\n",
        "best_mtry"
      ],
      "execution_count": 45,
      "outputs": [
        {
          "output_type": "display_data",
          "data": {
            "text/plain": [
              "[1] 4"
            ],
            "text/latex": "4",
            "text/markdown": "4",
            "text/html": [
              "4"
            ]
          },
          "metadata": {
            "tags": []
          }
        }
      ]
    },
    {
      "cell_type": "markdown",
      "metadata": {
        "id": "g5Bmb97V4bqV"
      },
      "source": [
        "* best ntree"
      ]
    },
    {
      "cell_type": "code",
      "metadata": {
        "id": "nQlWEzBd4eBS",
        "colab": {
          "base_uri": "https://localhost:8080/",
          "height": 629
        },
        "outputId": "b3ceddc7-02ba-4daf-913b-698214dff40e"
      },
      "source": [
        "# ntree를 바꿔가면서 최적의 ntree를 찾아본다. \n",
        "# 300에서 결과가 가장좋은것을 볼 수 있다. \n",
        "\n",
        "tuneGrid <- expand.grid(.mtry = best_mtry)\n",
        "store_maxtrees <- list()\n",
        "for (ntree in c(250, 300, 350, 400, 450, 500, 550, 600, 800, 1000, 2000)) {\n",
        "    set.seed(51)\n",
        "    rf_maxtrees <- train(Survived~.,\n",
        "        data = train,\n",
        "        method = \"rf\",\n",
        "        metric = \"Accuracy\",\n",
        "        tuneGrid = tuneGrid,\n",
        "        trControl = trControl,\n",
        "        importance = T,\n",
        "        ntree = ntree)\n",
        "    key <- toString(ntree)\n",
        "    store_maxtrees[[key]] <- rf_maxtrees\n",
        "}\n",
        "results_tree <- resamples(store_maxtrees)\n",
        "summary(results_tree)"
      ],
      "execution_count": 46,
      "outputs": [
        {
          "output_type": "display_data",
          "data": {
            "text/plain": [
              "\n",
              "Call:\n",
              "summary.resamples(object = results_tree)\n",
              "\n",
              "Models: 250, 300, 350, 400, 450, 500, 550, 600, 800, 1000, 2000 \n",
              "Number of resamples: 10 \n",
              "\n",
              "Accuracy \n",
              "         Min.   1st Qu.    Median      Mean   3rd Qu.      Max. NA's\n",
              "250  0.741573 0.7837079 0.8426966 0.8347421 0.8735955 0.9204545    0\n",
              "300  0.741573 0.7921348 0.8258427 0.8347549 0.8735955 0.9318182    0\n",
              "350  0.741573 0.7865169 0.8314607 0.8324949 0.8651685 0.9204545    0\n",
              "400  0.741573 0.7865169 0.8314607 0.8336185 0.8735955 0.9204545    0\n",
              "450  0.741573 0.7865169 0.8370787 0.8336185 0.8735955 0.9204545    0\n",
              "500  0.752809 0.7865169 0.8314607 0.8336185 0.8735955 0.9204545    0\n",
              "550  0.752809 0.7865169 0.8426966 0.8369893 0.8735955 0.9204545    0\n",
              "600  0.752809 0.7865169 0.8370787 0.8336185 0.8651685 0.9204545    0\n",
              "800  0.752809 0.7865169 0.8370787 0.8336185 0.8651685 0.9204545    0\n",
              "1000 0.752809 0.7865169 0.8258427 0.8313713 0.8651685 0.9204545    0\n",
              "2000 0.752809 0.7865169 0.8370787 0.8336185 0.8651685 0.9204545    0\n",
              "\n",
              "Kappa \n",
              "          Min.   1st Qu.    Median      Mean   3rd Qu.      Max. NA's\n",
              "250  0.4495832 0.5265454 0.6611368 0.6400400 0.7258043 0.8313253    0\n",
              "300  0.4495832 0.5470426 0.6281157 0.6412813 0.7258043 0.8562092    0\n",
              "350  0.4495832 0.5320974 0.6389941 0.6355526 0.7103658 0.8313253    0\n",
              "400  0.4495832 0.5320974 0.6389941 0.6378322 0.7258043 0.8313253    0\n",
              "450  0.4495832 0.5187534 0.6501341 0.6378964 0.7258043 0.8313253    0\n",
              "500  0.4705246 0.5187534 0.6389941 0.6377625 0.7258043 0.8313253    0\n",
              "550  0.4705246 0.5320974 0.6611368 0.6443549 0.7258043 0.8313253    0\n",
              "600  0.4705246 0.5209909 0.6457527 0.6373901 0.7095171 0.8313253    0\n",
              "800  0.4705246 0.5220720 0.6457527 0.6378225 0.7095171 0.8313253    0\n",
              "1000 0.4705246 0.5187534 0.6301419 0.6333729 0.7095171 0.8313253    0\n",
              "2000 0.4705246 0.5220720 0.6481311 0.6382982 0.7095171 0.8313253    0\n"
            ]
          },
          "metadata": {
            "tags": []
          }
        }
      ]
    },
    {
      "cell_type": "markdown",
      "metadata": {
        "id": "39EkCDAz6zlb"
      },
      "source": [
        "best parameter\n",
        "* mtry = 4\n",
        "* ntree = 300"
      ]
    },
    {
      "cell_type": "code",
      "metadata": {
        "id": "-ZPvNrYu6x3P",
        "colab": {
          "base_uri": "https://localhost:8080/",
          "height": 233
        },
        "outputId": "4032d27c-9ddd-4c99-d327-1d708f0ebe69"
      },
      "source": [
        "# greed 로 구한 최적의 mtry와 ntree를 사용해서 모델을 구성한다. \n",
        "\n",
        "set.seed(8)\n",
        "model_grid <- randomForest(Survived ~ ., data = train, importance = T, mtry = 4, ntree = 300)\n",
        "model_grid"
      ],
      "execution_count": 47,
      "outputs": [
        {
          "output_type": "display_data",
          "data": {
            "text/plain": [
              "\n",
              "Call:\n",
              " randomForest(formula = Survived ~ ., data = train, importance = T,      mtry = 4, ntree = 300) \n",
              "               Type of random forest: classification\n",
              "                     Number of trees: 300\n",
              "No. of variables tried at each split: 4\n",
              "\n",
              "        OOB estimate of  error rate: 16.09%\n",
              "Confusion matrix:\n",
              "    0   1 class.error\n",
              "0 490  59   0.1074681\n",
              "1  84 256   0.2470588"
            ]
          },
          "metadata": {
            "tags": []
          }
        }
      ]
    },
    {
      "cell_type": "code",
      "metadata": {
        "id": "KnGUo72c1RlJ",
        "colab": {
          "base_uri": "https://localhost:8080/",
          "height": 437
        },
        "outputId": "d292307f-15d5-4d8c-dd8b-153d20694653"
      },
      "source": [
        "# 트리가 증가할수록 (자식노드로 내려갈수록) 에러가 감소하는것을 볼 수 있다. \n",
        "\n",
        "plot(model_grid)\n",
        "legend(x = 200, y = 0.35, c(\"Survived:yes(1)\", \"Survived:no(0)\", \"mean\"), col = c(\"green\", \"pink\", \"black\"), pch = c(1,1,1), cex = 1.3)"
      ],
      "execution_count": 48,
      "outputs": [
        {
          "output_type": "display_data",
          "data": {
            "image/png": "[encoded data removed]",
            "text/plain": [
              "Plot with title “model_grid”"
            ]
          },
          "metadata": {
            "tags": [],
            "image/png": {
              "width": 420,
              "height": 420
            }
          }
        }
      ]
    },
    {
      "cell_type": "markdown",
      "metadata": {
        "id": "vHdOojum5ttT"
      },
      "source": [
        "* 생성한 2개의 Decision Tree 모델을 이용하여 kaggle에 제출 및 평가받기"
      ]
    },
    {
      "cell_type": "code",
      "metadata": {
        "id": "DPOdsGeF5hc_",
        "colab": {
          "base_uri": "https://localhost:8080/",
          "height": 775
        },
        "outputId": "bd5fbde4-a885-4fbe-be57-5e76e7333d70"
      },
      "source": [
        "# 만든 모델로 성능평가를 하기 위해 test 데이터도 전처리를 해줘야함 \n",
        "\n",
        "test <- read_csv(\"https://raw.githubusercontent.com/Jin0331/TA/master/data/titanic/test.csv\")\n",
        "test %>% summary()"
      ],
      "execution_count": 49,
      "outputs": [
        {
          "output_type": "stream",
          "text": [
            "\n",
            "\u001b[36m──\u001b[39m \u001b[1m\u001b[1mColumn specification\u001b[1m\u001b[22m \u001b[36m────────────────────────────────────────────────────────\u001b[39m\n",
            "cols(\n",
            "  PassengerId = \u001b[32mcol_double()\u001b[39m,\n",
            "  Pclass = \u001b[32mcol_double()\u001b[39m,\n",
            "  Name = \u001b[31mcol_character()\u001b[39m,\n",
            "  Sex = \u001b[31mcol_character()\u001b[39m,\n",
            "  Age = \u001b[32mcol_double()\u001b[39m,\n",
            "  SibSp = \u001b[32mcol_double()\u001b[39m,\n",
            "  Parch = \u001b[32mcol_double()\u001b[39m,\n",
            "  Ticket = \u001b[31mcol_character()\u001b[39m,\n",
            "  Fare = \u001b[32mcol_double()\u001b[39m,\n",
            "  Cabin = \u001b[31mcol_character()\u001b[39m,\n",
            "  Embarked = \u001b[31mcol_character()\u001b[39m\n",
            ")\n",
            "\n",
            "\n"
          ],
          "name": "stderr"
        },
        {
          "output_type": "display_data",
          "data": {
            "text/plain": [
              "  PassengerId         Pclass          Name               Sex           \n",
              " Min.   : 892.0   Min.   :1.000   Length:418         Length:418        \n",
              " 1st Qu.: 996.2   1st Qu.:1.000   Class :character   Class :character  \n",
              " Median :1100.5   Median :3.000   Mode  :character   Mode  :character  \n",
              " Mean   :1100.5   Mean   :2.266                                        \n",
              " 3rd Qu.:1204.8   3rd Qu.:3.000                                        \n",
              " Max.   :1309.0   Max.   :3.000                                        \n",
              "                                                                       \n",
              "      Age            SibSp            Parch           Ticket         \n",
              " Min.   : 0.17   Min.   :0.0000   Min.   :0.0000   Length:418        \n",
              " 1st Qu.:21.00   1st Qu.:0.0000   1st Qu.:0.0000   Class :character  \n",
              " Median :27.00   Median :0.0000   Median :0.0000   Mode  :character  \n",
              " Mean   :30.27   Mean   :0.4474   Mean   :0.3923                     \n",
              " 3rd Qu.:39.00   3rd Qu.:1.0000   3rd Qu.:0.0000                     \n",
              " Max.   :76.00   Max.   :8.0000   Max.   :9.0000                     \n",
              " NA's   :86                                                          \n",
              "      Fare            Cabin             Embarked        \n",
              " Min.   :  0.000   Length:418         Length:418        \n",
              " 1st Qu.:  7.896   Class :character   Class :character  \n",
              " Median : 14.454   Mode  :character   Mode  :character  \n",
              " Mean   : 35.627                                        \n",
              " 3rd Qu.: 31.500                                        \n",
              " Max.   :512.329                                        \n",
              " NA's   :1                                              "
            ]
          },
          "metadata": {
            "tags": []
          }
        }
      ]
    },
    {
      "cell_type": "markdown",
      "metadata": {
        "id": "QVF_LY_m6Z2G"
      },
      "source": [
        "* NA 값 추정(median)"
      ]
    },
    {
      "cell_type": "code",
      "metadata": {
        "id": "D_R839Dq5_x3",
        "colab": {
          "base_uri": "https://localhost:8080/",
          "height": 503
        },
        "outputId": "d1ca0eb7-904a-484c-91c0-98cfe8706e8b"
      },
      "source": [
        "test$Age <- impute(test$Age, median)\n",
        "test$Fare <- impute(test$Age, median)\n",
        "test %>% summary()"
      ],
      "execution_count": 50,
      "outputs": [
        {
          "output_type": "stream",
          "text": [
            "\n",
            " 86 values imputed to 27 \n",
            "\n",
            "\n",
            " 86 values imputed to 27 \n",
            "\n"
          ],
          "name": "stdout"
        },
        {
          "output_type": "display_data",
          "data": {
            "text/plain": [
              "  PassengerId         Pclass          Name               Sex           \n",
              " Min.   : 892.0   Min.   :1.000   Length:418         Length:418        \n",
              " 1st Qu.: 996.2   1st Qu.:1.000   Class :character   Class :character  \n",
              " Median :1100.5   Median :3.000   Mode  :character   Mode  :character  \n",
              " Mean   :1100.5   Mean   :2.266                                        \n",
              " 3rd Qu.:1204.8   3rd Qu.:3.000                                        \n",
              " Max.   :1309.0   Max.   :3.000                                        \n",
              "      Age            SibSp            Parch           Ticket         \n",
              " Min.   : 0.17   Min.   :0.0000   Min.   :0.0000   Length:418        \n",
              " 1st Qu.:23.00   1st Qu.:0.0000   1st Qu.:0.0000   Class :character  \n",
              " Median :27.00   Median :0.0000   Median :0.0000   Mode  :character  \n",
              " Mean   :29.60   Mean   :0.4474   Mean   :0.3923                     \n",
              " 3rd Qu.:35.75   3rd Qu.:1.0000   3rd Qu.:0.0000                     \n",
              " Max.   :76.00   Max.   :8.0000   Max.   :9.0000                     \n",
              "      Fare          Cabin             Embarked        \n",
              " Min.   : 0.17   Length:418         Length:418        \n",
              " 1st Qu.:23.00   Class :character   Class :character  \n",
              " Median :27.00   Mode  :character   Mode  :character  \n",
              " Mean   :29.60                                        \n",
              " 3rd Qu.:35.75                                        \n",
              " Max.   :76.00                                        "
            ]
          },
          "metadata": {
            "tags": []
          }
        }
      ]
    },
    {
      "cell_type": "markdown",
      "metadata": {
        "id": "7Zg-lDK96c87"
      },
      "source": [
        "* 범주형 변수"
      ]
    },
    {
      "cell_type": "code",
      "metadata": {
        "id": "DsOkG9zS6Lbn",
        "colab": {
          "base_uri": "https://localhost:8080/",
          "height": 377
        },
        "outputId": "4c5870c0-4787-4935-d51e-cc2596642802"
      },
      "source": [
        "test <- test %>% \n",
        " select(-Name, -Cabin, -Ticket) %>% mutate_at(c(\"Sex\",\"Embarked\", \"Pclass\"), factor)\n",
        "summary(test)"
      ],
      "execution_count": 51,
      "outputs": [
        {
          "output_type": "stream",
          "text": [
            "\n",
            " 86 values imputed to 27 \n",
            "\n",
            "\n",
            " 86 values imputed to 27 \n",
            "\n"
          ],
          "name": "stdout"
        },
        {
          "output_type": "display_data",
          "data": {
            "text/plain": [
              "  PassengerId     Pclass      Sex           Age            SibSp       \n",
              " Min.   : 892.0   1:107   female:152   Min.   : 0.17   Min.   :0.0000  \n",
              " 1st Qu.: 996.2   2: 93   male  :266   1st Qu.:23.00   1st Qu.:0.0000  \n",
              " Median :1100.5   3:218                Median :27.00   Median :0.0000  \n",
              " Mean   :1100.5                        Mean   :29.60   Mean   :0.4474  \n",
              " 3rd Qu.:1204.8                        3rd Qu.:35.75   3rd Qu.:1.0000  \n",
              " Max.   :1309.0                        Max.   :76.00   Max.   :8.0000  \n",
              "     Parch             Fare       Embarked\n",
              " Min.   :0.0000   Min.   : 0.17   C:102   \n",
              " 1st Qu.:0.0000   1st Qu.:23.00   Q: 46   \n",
              " Median :0.0000   Median :27.00   S:270   \n",
              " Mean   :0.3923   Mean   :29.60           \n",
              " 3rd Qu.:0.0000   3rd Qu.:35.75           \n",
              " Max.   :9.0000   Max.   :76.00           "
            ]
          },
          "metadata": {
            "tags": []
          }
        }
      ]
    },
    {
      "cell_type": "markdown",
      "metadata": {
        "id": "edngjPnL68t_"
      },
      "source": [
        "* 예측(model, model_grid 모델)"
      ]
    },
    {
      "cell_type": "code",
      "metadata": {
        "id": "CT6XoDZj6hvO"
      },
      "source": [
        "# model\n",
        "predict_value <- predict(model, test, type = \"class\") %>% tibble(Survived = .)\n",
        "submission1 <- test %>% select(PassengerId) %>% dplyr::bind_cols(., predict_value)\n",
        "\n",
        "# model_grid\n",
        "predict_value <- predict(model_grid, test, type = \"class\") %>% tibble(Survived = .)\n",
        "submission2 <- test %>% select(PassengerId) %>% dplyr::bind_cols(., predict_value)"
      ],
      "execution_count": 52,
      "outputs": []
    },
    {
      "cell_type": "code",
      "metadata": {
        "id": "XUr0DLPPwBiu",
        "colab": {
          "base_uri": "https://localhost:8080/",
          "height": 498
        },
        "outputId": "a36ddc3a-f393-4da4-9e79-ed018c6fe979"
      },
      "source": [
        "submission1 %>% head(20)"
      ],
      "execution_count": 53,
      "outputs": [
        {
          "output_type": "display_data",
          "data": {
            "text/plain": [
              "   PassengerId Survived\n",
              "1  892         0       \n",
              "2  893         0       \n",
              "3  894         0       \n",
              "4  895         0       \n",
              "5  896         0       \n",
              "6  897         0       \n",
              "7  898         1       \n",
              "8  899         0       \n",
              "9  900         1       \n",
              "10 901         0       \n",
              "11 902         0       \n",
              "12 903         0       \n",
              "13 904         1       \n",
              "14 905         0       \n",
              "15 906         1       \n",
              "16 907         1       \n",
              "17 908         0       \n",
              "18 909         0       \n",
              "19 910         0       \n",
              "20 911         0       "
            ],
            "text/latex": "A tibble: 20 × 2\n\\begin{tabular}{ll}\n PassengerId & Survived\\\\\n <dbl> & <fct>\\\\\n\\hline\n\t 892 & 0\\\\\n\t 893 & 0\\\\\n\t 894 & 0\\\\\n\t 895 & 0\\\\\n\t 896 & 0\\\\\n\t 897 & 0\\\\\n\t 898 & 1\\\\\n\t 899 & 0\\\\\n\t 900 & 1\\\\\n\t 901 & 0\\\\\n\t 902 & 0\\\\\n\t 903 & 0\\\\\n\t 904 & 1\\\\\n\t 905 & 0\\\\\n\t 906 & 1\\\\\n\t 907 & 1\\\\\n\t 908 & 0\\\\\n\t 909 & 0\\\\\n\t 910 & 0\\\\\n\t 911 & 0\\\\\n\\end{tabular}\n",
            "text/markdown": "\nA tibble: 20 × 2\n\n| PassengerId &lt;dbl&gt; | Survived &lt;fct&gt; |\n|---|---|\n| 892 | 0 |\n| 893 | 0 |\n| 894 | 0 |\n| 895 | 0 |\n| 896 | 0 |\n| 897 | 0 |\n| 898 | 1 |\n| 899 | 0 |\n| 900 | 1 |\n| 901 | 0 |\n| 902 | 0 |\n| 903 | 0 |\n| 904 | 1 |\n| 905 | 0 |\n| 906 | 1 |\n| 907 | 1 |\n| 908 | 0 |\n| 909 | 0 |\n| 910 | 0 |\n| 911 | 0 |\n\n",
            "text/html": [
              "<table>\n",
              "<caption>A tibble: 20 × 2</caption>\n",
              "<thead>\n",
              "\t<tr><th scope=col>PassengerId</th><th scope=col>Survived</th></tr>\n",
              "\t<tr><th scope=col>&lt;dbl&gt;</th><th scope=col>&lt;fct&gt;</th></tr>\n",
              "</thead>\n",
              "<tbody>\n",
              "\t<tr><td>892</td><td>0</td></tr>\n",
              "\t<tr><td>893</td><td>0</td></tr>\n",
              "\t<tr><td>894</td><td>0</td></tr>\n",
              "\t<tr><td>895</td><td>0</td></tr>\n",
              "\t<tr><td>896</td><td>0</td></tr>\n",
              "\t<tr><td>897</td><td>0</td></tr>\n",
              "\t<tr><td>898</td><td>1</td></tr>\n",
              "\t<tr><td>899</td><td>0</td></tr>\n",
              "\t<tr><td>900</td><td>1</td></tr>\n",
              "\t<tr><td>901</td><td>0</td></tr>\n",
              "\t<tr><td>902</td><td>0</td></tr>\n",
              "\t<tr><td>903</td><td>0</td></tr>\n",
              "\t<tr><td>904</td><td>1</td></tr>\n",
              "\t<tr><td>905</td><td>0</td></tr>\n",
              "\t<tr><td>906</td><td>1</td></tr>\n",
              "\t<tr><td>907</td><td>1</td></tr>\n",
              "\t<tr><td>908</td><td>0</td></tr>\n",
              "\t<tr><td>909</td><td>0</td></tr>\n",
              "\t<tr><td>910</td><td>0</td></tr>\n",
              "\t<tr><td>911</td><td>0</td></tr>\n",
              "</tbody>\n",
              "</table>\n"
            ]
          },
          "metadata": {
            "tags": []
          }
        }
      ]
    },
    {
      "cell_type": "code",
      "metadata": {
        "id": "I1J-epsgu6AQ",
        "colab": {
          "base_uri": "https://localhost:8080/",
          "height": 498
        },
        "outputId": "c8b5980a-e347-4318-91ad-17ad6196638b"
      },
      "source": [
        "submission2 %>% head(20)"
      ],
      "execution_count": 54,
      "outputs": [
        {
          "output_type": "display_data",
          "data": {
            "text/plain": [
              "   PassengerId Survived\n",
              "1  892         0       \n",
              "2  893         0       \n",
              "3  894         0       \n",
              "4  895         0       \n",
              "5  896         0       \n",
              "6  897         0       \n",
              "7  898         0       \n",
              "8  899         0       \n",
              "9  900         1       \n",
              "10 901         0       \n",
              "11 902         0       \n",
              "12 903         0       \n",
              "13 904         1       \n",
              "14 905         0       \n",
              "15 906         1       \n",
              "16 907         1       \n",
              "17 908         0       \n",
              "18 909         0       \n",
              "19 910         0       \n",
              "20 911         0       "
            ],
            "text/latex": "A tibble: 20 × 2\n\\begin{tabular}{ll}\n PassengerId & Survived\\\\\n <dbl> & <fct>\\\\\n\\hline\n\t 892 & 0\\\\\n\t 893 & 0\\\\\n\t 894 & 0\\\\\n\t 895 & 0\\\\\n\t 896 & 0\\\\\n\t 897 & 0\\\\\n\t 898 & 0\\\\\n\t 899 & 0\\\\\n\t 900 & 1\\\\\n\t 901 & 0\\\\\n\t 902 & 0\\\\\n\t 903 & 0\\\\\n\t 904 & 1\\\\\n\t 905 & 0\\\\\n\t 906 & 1\\\\\n\t 907 & 1\\\\\n\t 908 & 0\\\\\n\t 909 & 0\\\\\n\t 910 & 0\\\\\n\t 911 & 0\\\\\n\\end{tabular}\n",
            "text/markdown": "\nA tibble: 20 × 2\n\n| PassengerId &lt;dbl&gt; | Survived &lt;fct&gt; |\n|---|---|\n| 892 | 0 |\n| 893 | 0 |\n| 894 | 0 |\n| 895 | 0 |\n| 896 | 0 |\n| 897 | 0 |\n| 898 | 0 |\n| 899 | 0 |\n| 900 | 1 |\n| 901 | 0 |\n| 902 | 0 |\n| 903 | 0 |\n| 904 | 1 |\n| 905 | 0 |\n| 906 | 1 |\n| 907 | 1 |\n| 908 | 0 |\n| 909 | 0 |\n| 910 | 0 |\n| 911 | 0 |\n\n",
            "text/html": [
              "<table>\n",
              "<caption>A tibble: 20 × 2</caption>\n",
              "<thead>\n",
              "\t<tr><th scope=col>PassengerId</th><th scope=col>Survived</th></tr>\n",
              "\t<tr><th scope=col>&lt;dbl&gt;</th><th scope=col>&lt;fct&gt;</th></tr>\n",
              "</thead>\n",
              "<tbody>\n",
              "\t<tr><td>892</td><td>0</td></tr>\n",
              "\t<tr><td>893</td><td>0</td></tr>\n",
              "\t<tr><td>894</td><td>0</td></tr>\n",
              "\t<tr><td>895</td><td>0</td></tr>\n",
              "\t<tr><td>896</td><td>0</td></tr>\n",
              "\t<tr><td>897</td><td>0</td></tr>\n",
              "\t<tr><td>898</td><td>0</td></tr>\n",
              "\t<tr><td>899</td><td>0</td></tr>\n",
              "\t<tr><td>900</td><td>1</td></tr>\n",
              "\t<tr><td>901</td><td>0</td></tr>\n",
              "\t<tr><td>902</td><td>0</td></tr>\n",
              "\t<tr><td>903</td><td>0</td></tr>\n",
              "\t<tr><td>904</td><td>1</td></tr>\n",
              "\t<tr><td>905</td><td>0</td></tr>\n",
              "\t<tr><td>906</td><td>1</td></tr>\n",
              "\t<tr><td>907</td><td>1</td></tr>\n",
              "\t<tr><td>908</td><td>0</td></tr>\n",
              "\t<tr><td>909</td><td>0</td></tr>\n",
              "\t<tr><td>910</td><td>0</td></tr>\n",
              "\t<tr><td>911</td><td>0</td></tr>\n",
              "</tbody>\n",
              "</table>\n"
            ]
          },
          "metadata": {
            "tags": []
          }
        }
      ]
    },
    {
      "cell_type": "code",
      "metadata": {
        "id": "1otSG2CI7sji",
        "colab": {
          "base_uri": "https://localhost:8080/"
        },
        "outputId": "743e494f-22fb-4971-adfc-1ef8c1cfb510"
      },
      "source": [
        " # write\n",
        " submission1 %>% write_csv(path = \"submission1.csv\")\n",
        " submission2 %>% write_csv(path = \"submission2_grid.csv\")"
      ],
      "execution_count": 55,
      "outputs": [
        {
          "output_type": "stream",
          "text": [
            "Warning message:\n",
            "“The `path` argument of `write_csv()` is deprecated as of readr 1.4.0.\n",
            "Please use the `file` argument instead.\n",
            "\u001b[90mThis warning is displayed once every 8 hours.\u001b[39m\n",
            "\u001b[90mCall `lifecycle::last_warnings()` to see where this warning was generated.\u001b[39m”\n"
          ],
          "name": "stderr"
        }
      ]
    },
    {
      "cell_type": "code",
      "metadata": {
        "id": "ZO5g3AdP8gtz"
      },
      "source": [
        "model_bagg <- ipred::bagging(Survived ~ ., data = train, nbagg = 200)"
      ],
      "execution_count": 56,
      "outputs": []
    },
    {
      "cell_type": "code",
      "metadata": {
        "id": "8KCMGYKl8pGa"
      },
      "source": [
        "#@title\n",
        "predict_value <- predict(model_bagg, test, type = \"class\") %>% tibble(Survived = .)\n",
        "submission1 <- test %>% select(PassengerId) %>% dplyr::bind_cols(., predict_value) %>%\n",
        " write_csv(path = \"submission3_bagging.csv\")"
      ],
      "execution_count": 57,
      "outputs": []
    },
    {
      "cell_type": "markdown",
      "metadata": {
        "id": "C0Wty8CYu_l_"
      },
      "source": [
        "### Confusion Matrix plot code"
      ]
    },
    {
      "cell_type": "code",
      "metadata": {
        "id": "8qQti-1UkTLM"
      },
      "source": [
        "#https://stackoverflow.com/questions/23891140/r-how-to-visualize-confusion-matrix-using-the-caret-package\n",
        "\n",
        "draw_confusion_matrix <- function(cm) {\n",
        "\n",
        "  total <- sum(cm$table)\n",
        "  res <- as.numeric(cm$table)\n",
        "\n",
        "  # Generate color gradients. Palettes come from RColorBrewer.\n",
        "  greenPalette <- c(\"#F7FCF5\",\"#E5F5E0\",\"#C7E9C0\",\"#A1D99B\",\"#74C476\",\"#41AB5D\",\"#238B45\",\"#006D2C\",\"#00441B\")\n",
        "  redPalette <- c(\"#FFF5F0\",\"#FEE0D2\",\"#FCBBA1\",\"#FC9272\",\"#FB6A4A\",\"#EF3B2C\",\"#CB181D\",\"#A50F15\",\"#67000D\")\n",
        "  getColor <- function (greenOrRed = \"green\", amount = 0) {\n",
        "    if (amount == 0)\n",
        "      return(\"#FFFFFF\")\n",
        "    palette <- greenPalette\n",
        "    if (greenOrRed == \"red\")\n",
        "      palette <- redPalette\n",
        "    colorRampPalette(palette)(100)[10 + ceiling(90 * amount / total)]\n",
        "  }\n",
        "\n",
        "  # set the basic layout\n",
        "  layout(matrix(c(1,1,2)))\n",
        "  par(mar=c(2,2,2,2))\n",
        "  plot(c(100, 345), c(300, 450), type = \"n\", xlab=\"\", ylab=\"\", xaxt='n', yaxt='n')\n",
        "  title('CONFUSION MATRIX', cex.main=2)\n",
        "\n",
        "  # create the matrix \n",
        "  classes = colnames(cm$table)\n",
        "  rect(150, 430, 240, 370, col=getColor(\"green\", res[1]))\n",
        "  text(195, 435, classes[1], cex=1.2)\n",
        "  rect(250, 430, 340, 370, col=getColor(\"red\", res[3]))\n",
        "  text(295, 435, classes[2], cex=1.2)\n",
        "  text(125, 370, 'Predicted', cex=1.3, srt=90, font=2)\n",
        "  text(245, 450, 'Actual', cex=1.3, font=2)\n",
        "  rect(150, 305, 240, 365, col=getColor(\"red\", res[2]))\n",
        "  rect(250, 305, 340, 365, col=getColor(\"green\", res[4]))\n",
        "  text(140, 400, classes[1], cex=1.2, srt=90)\n",
        "  text(140, 335, classes[2], cex=1.2, srt=90)\n",
        "\n",
        "  # add in the cm results\n",
        "  text(195, 400, res[1], cex=1.6, font=2, col='white')\n",
        "  text(195, 335, res[2], cex=1.6, font=2, col='white')\n",
        "  text(295, 400, res[3], cex=1.6, font=2, col='white')\n",
        "  text(295, 335, res[4], cex=1.6, font=2, col='white')\n",
        "\n",
        "  # add in the specifics \n",
        "  plot(c(100, 0), c(100, 0), type = \"n\", xlab=\"\", ylab=\"\", main = \"DETAILS\", xaxt='n', yaxt='n')\n",
        "  text(10, 85, names(cm$byClass[1]), cex=1.2, font=2)\n",
        "  text(10, 70, round(as.numeric(cm$byClass[1]), 3), cex=1.2)\n",
        "  text(30, 85, names(cm$byClass[2]), cex=1.2, font=2)\n",
        "  text(30, 70, round(as.numeric(cm$byClass[2]), 3), cex=1.2)\n",
        "  text(50, 85, names(cm$byClass[5]), cex=1.2, font=2)\n",
        "  text(50, 70, round(as.numeric(cm$byClass[5]), 3), cex=1.2)\n",
        "  text(70, 85, names(cm$byClass[6]), cex=1.2, font=2)\n",
        "  text(70, 70, round(as.numeric(cm$byClass[6]), 3), cex=1.2)\n",
        "  text(90, 85, names(cm$byClass[7]), cex=1.2, font=2)\n",
        "  text(90, 70, round(as.numeric(cm$byClass[7]), 3), cex=1.2)\n",
        "\n",
        "  # add in the accuracy information \n",
        "  text(30, 35, names(cm$overall[1]), cex=1.5, font=2)\n",
        "  text(30, 20, round(as.numeric(cm$overall[1]), 3), cex=1.4)\n",
        "  text(70, 35, names(cm$overall[2]), cex=1.5, font=2)\n",
        "  text(70, 20, round(as.numeric(cm$overall[2]), 3), cex=1.4)\n",
        "}"
      ],
      "execution_count": 12,
      "outputs": []
    },
    {
      "cell_type": "code",
      "metadata": {
        "id": "WT0LSBoqo2mW"
      },
      "source": [
        ""
      ],
      "execution_count": null,
      "outputs": []
    }
  ]
}