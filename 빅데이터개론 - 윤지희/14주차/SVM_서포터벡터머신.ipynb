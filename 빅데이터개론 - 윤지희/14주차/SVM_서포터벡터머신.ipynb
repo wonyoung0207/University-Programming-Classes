{
  "nbformat": 4,
  "nbformat_minor": 0,
  "metadata": {
    "colab": {
      "name": "Bigdata_Lab_14.ipynb",
      "provenance": [],
      "collapsed_sections": [
        "9cchVL5v_E7X",
        "K81v1t7oIdrz",
        "ePhIDG_Ig0u3",
        "XUaaa7ISStc_",
        "C0Wty8CYu_l_"
      ]
    },
    "kernelspec": {
      "name": "ir",
      "display_name": "R"
    }
  },
  "cells": [
    {
      "cell_type": "markdown",
      "metadata": {
        "id": "NqwIc2xhQqLu"
      },
      "source": [
        "# **빅데이터 개론 Lab 14 - Support Vector Machine(SVM)**\n",
        "\n",
        "참고자료 : https://www.notion.so/TA-2689a38b5289413a82671d3956fea103\n",
        "\n",
        "- - -\n",
        "\n",
        "\n"
      ]
    },
    {
      "cell_type": "markdown",
      "metadata": {
        "id": "9cchVL5v_E7X"
      },
      "source": [
        "### **Support Vector Machine(SVM)**\n",
        "\n",
        "* 분류와 회귀를 수행 가능하며, 딥러닝이 나온 이후에도 여전히 활발히 사용되고 있는 머신 러닝 알고리즘이다. \n",
        "* 분류를 위한 결정 경계 (Decision Boundary) 를  정의하는 모델이다.\n",
        "* 직관적으로 자료를 클래스별로 가장 잘 분리하는 결정 경계는 가장 가까운 훈련용 자료까지의 거리(이를 마진(margin)이라 함)가 가장 큰 경우이며, 마진이 가장 큰 결정 경계를 분류기(classifier)로 사용할 때, 새로운 자료에 대한 오류율이 가장 낮아진다.\n",
        "즉, 최대 마진을 가지는 선형분류별에 기초하며, 속성들 간의 의존성은 고려하지 않는 방법이다.\n",
        "* 서포트 벡터들은 두 클래스 사이의 경계에 위치한 데이터 포인트들을 말한다. 이 데이터들이 결정경계를 지지(support)하고 있다고 말할 수 있으므로 서포트 벡터라고 부른다. \n",
        "\n",
        "<br>\n",
        "\n",
        "<p align=\"center\"><img src=\"https://github.com/Jin0331/TA/blob/master/image/svm1.png?raw=true\" width=\"425\"/> </p>\n",
        "\n",
        "<br>\n",
        "\n",
        "* 선형분류 뿐 아니라, 커널 트릭(kernel trick)이라 불리는 다차원 공간상으로의 맵핑(mapping) 기법을 사용하여 비선형분류도 효율적으로 수행한다.\n",
        "\n",
        "<br>\n",
        "\n",
        "<p align=\"center\"><img src=\"https://github.com/Jin0331/TA/blob/master/image/svm2.png?raw=true\" width=\"425\"/> <img src=\"https://github.com/Jin0331/TA/blob/master/image/svm3.png?raw=true\" width=\"425\"/> </p>\n"
      ]
    },
    {
      "cell_type": "markdown",
      "metadata": {
        "id": "m-NaW1Eu25SP"
      },
      "source": [
        "* 커널 트릭 (Kernel Trick)\n",
        "\n",
        "<br>\n",
        "\n",
        "<p align=\"center\"><img src=\"https://github.com/Jin0331/TA/blob/master/image/k_1.png?raw=true\" width=\"300\"/> <img src=\"https://github.com/Jin0331/TA/blob/master/image/k_2.png?raw=true\" width=\"425\"/> </p>\n",
        "\n",
        "<br>\n",
        "\n",
        "* SVM을 수행하는 R 패키지에는 {e1071}, {kernlab}, {klaR}, {svmpath}, {shogun} 등이 있다.\n",
        "이 가운데 {e1071} 패키지가 R에서 가장 먼저 소개되었으며 가장 직관적"
      ]
    },
    {
      "cell_type": "markdown",
      "metadata": {
        "id": "K81v1t7oIdrz"
      },
      "source": [
        "### **SVM 예시**\n"
      ]
    },
    {
      "cell_type": "code",
      "metadata": {
        "id": "UaSMHuq0DHaE",
        "colab": {
          "base_uri": "https://localhost:8080/"
        },
        "outputId": "a9231c43-9813-46d1-89b5-defe0fa1fef4"
      },
      "source": [
        "install.packages(c(\"tidyverse\", \"caret\", \"e1071\"))"
      ],
      "execution_count": 11,
      "outputs": [
        {
          "output_type": "stream",
          "text": [
            "Installing packages into ‘/usr/local/lib/R/site-library’\n",
            "(as ‘lib’ is unspecified)\n",
            "\n"
          ],
          "name": "stderr"
        }
      ]
    },
    {
      "cell_type": "markdown",
      "metadata": {
        "id": "ePhIDG_Ig0u3"
      },
      "source": [
        "- - -\n",
        "\n",
        "#### **A. Heart Disease**"
      ]
    },
    {
      "cell_type": "markdown",
      "metadata": {
        "id": "_2D4G5HIhNzj"
      },
      "source": [
        "* https://archive.ics.uci.edu/ml/datasets/heart+disease\n",
        "\n",
        "* 변수 설명\n",
        "\n",
        "```\n",
        "Age : age in years\n",
        "Sex: sex (1 = male; 0 = female) # Factor\n",
        "ChestPain : (typical angina, atypical angina, non-anginal pain, asymptomatic # Factor\n",
        "RestBP(혈압) : resting blood pressure\n",
        "Chol(콜레스테롤 수치) : serum cholestoral in mg/dl\n",
        "Fbs(혈당) : (fasting blood sugar > 120 mg/dl) (1 = true; 0 = false) # Factor\n",
        "Restecg(심전도) : (0 = normal, 1 = having ST-T wave abnormality, 2 =  showing probable or definite left ventricular hypertrophy by Estes' criteria) # Factor\n",
        "MaxHR : maximum heart rate achieved\n",
        "ExAng(협심증?): exercise induced angina (1 = yes; 0 = no) # Factor\n",
        "Oldpeak = ST depression induced by exercise relative to rest\n",
        "Slope: the slope of the peak exercise ST segment(1 = upsloping, 2 = flat, 3 = downsloping) # Factor\n",
        "Ca: number of major vessels (0-3) colored by flourosopy # Factor\n",
        "Thal: 3 = normal; 6 = fixed defect; 7 = reversable defect # Factor\n",
        "\n",
        "# the predicted attribute(반응변수)\n",
        "\n",
        "AHD : diagnosis of heart disease (angiographic disease status)(0 = < 50% diameter narrowing, 1 =  > 50% diameter narrowing)\n",
        "\n",
        "# http://archive.ics.uci.edu/ml/datasets/heart+Disease\n",
        "```"
      ]
    },
    {
      "cell_type": "code",
      "metadata": {
        "id": "9aXaw7nNIdr0",
        "colab": {
          "base_uri": "https://localhost:8080/"
        },
        "outputId": "d8117a3d-f76d-4d49-a8c0-9532a42fe38e"
      },
      "source": [
        "library(tidyverse)\n",
        "heart_df <- read_csv(\"https://raw.githubusercontent.com/Jin0331/TA/master/data/heart/Heart.csv\") \n",
        "str(heart_df)"
      ],
      "execution_count": 2,
      "outputs": [
        {
          "output_type": "stream",
          "text": [
            "── \u001b[1mAttaching packages\u001b[22m ─────────────────────────────────────── tidyverse 1.3.0 ──\n",
            "\n",
            "\u001b[32m✔\u001b[39m \u001b[34mggplot2\u001b[39m 3.3.2     \u001b[32m✔\u001b[39m \u001b[34mpurrr  \u001b[39m 0.3.4\n",
            "\u001b[32m✔\u001b[39m \u001b[34mtibble \u001b[39m 3.0.4     \u001b[32m✔\u001b[39m \u001b[34mdplyr  \u001b[39m 1.0.2\n",
            "\u001b[32m✔\u001b[39m \u001b[34mtidyr  \u001b[39m 1.1.2     \u001b[32m✔\u001b[39m \u001b[34mstringr\u001b[39m 1.4.0\n",
            "\u001b[32m✔\u001b[39m \u001b[34mreadr  \u001b[39m 1.4.0     \u001b[32m✔\u001b[39m \u001b[34mforcats\u001b[39m 0.5.0\n",
            "\n",
            "── \u001b[1mConflicts\u001b[22m ────────────────────────────────────────── tidyverse_conflicts() ──\n",
            "\u001b[31m✖\u001b[39m \u001b[34mdplyr\u001b[39m::\u001b[32mfilter()\u001b[39m masks \u001b[34mstats\u001b[39m::filter()\n",
            "\u001b[31m✖\u001b[39m \u001b[34mdplyr\u001b[39m::\u001b[32mlag()\u001b[39m    masks \u001b[34mstats\u001b[39m::lag()\n",
            "\n",
            "Warning message:\n",
            "“Missing column names filled in: 'X1' [1]”\n",
            "\n",
            "\u001b[36m──\u001b[39m \u001b[1m\u001b[1mColumn specification\u001b[1m\u001b[22m \u001b[36m────────────────────────────────────────────────────────\u001b[39m\n",
            "cols(\n",
            "  X1 = \u001b[32mcol_double()\u001b[39m,\n",
            "  Age = \u001b[32mcol_double()\u001b[39m,\n",
            "  Sex = \u001b[32mcol_double()\u001b[39m,\n",
            "  ChestPain = \u001b[31mcol_character()\u001b[39m,\n",
            "  RestBP = \u001b[32mcol_double()\u001b[39m,\n",
            "  Chol = \u001b[32mcol_double()\u001b[39m,\n",
            "  Fbs = \u001b[32mcol_double()\u001b[39m,\n",
            "  RestECG = \u001b[32mcol_double()\u001b[39m,\n",
            "  MaxHR = \u001b[32mcol_double()\u001b[39m,\n",
            "  ExAng = \u001b[32mcol_double()\u001b[39m,\n",
            "  Oldpeak = \u001b[32mcol_double()\u001b[39m,\n",
            "  Slope = \u001b[32mcol_double()\u001b[39m,\n",
            "  Ca = \u001b[32mcol_double()\u001b[39m,\n",
            "  Thal = \u001b[31mcol_character()\u001b[39m,\n",
            "  AHD = \u001b[31mcol_character()\u001b[39m\n",
            ")\n",
            "\n",
            "\n"
          ],
          "name": "stderr"
        },
        {
          "output_type": "stream",
          "text": [
            "tibble [303 × 15] (S3: spec_tbl_df/tbl_df/tbl/data.frame)\n",
            " $ X1       : num [1:303] 1 2 3 4 5 6 7 8 9 10 ...\n",
            " $ Age      : num [1:303] 63 67 67 37 41 56 62 57 63 53 ...\n",
            " $ Sex      : num [1:303] 1 1 1 1 0 1 0 0 1 1 ...\n",
            " $ ChestPain: chr [1:303] \"typical\" \"asymptomatic\" \"asymptomatic\" \"nonanginal\" ...\n",
            " $ RestBP   : num [1:303] 145 160 120 130 130 120 140 120 130 140 ...\n",
            " $ Chol     : num [1:303] 233 286 229 250 204 236 268 354 254 203 ...\n",
            " $ Fbs      : num [1:303] 1 0 0 0 0 0 0 0 0 1 ...\n",
            " $ RestECG  : num [1:303] 2 2 2 0 2 0 2 0 2 2 ...\n",
            " $ MaxHR    : num [1:303] 150 108 129 187 172 178 160 163 147 155 ...\n",
            " $ ExAng    : num [1:303] 0 1 1 0 0 0 0 1 0 1 ...\n",
            " $ Oldpeak  : num [1:303] 2.3 1.5 2.6 3.5 1.4 0.8 3.6 0.6 1.4 3.1 ...\n",
            " $ Slope    : num [1:303] 3 2 2 3 1 1 3 1 2 3 ...\n",
            " $ Ca       : num [1:303] 0 3 2 0 0 0 2 0 1 0 ...\n",
            " $ Thal     : chr [1:303] \"fixed\" \"normal\" \"reversable\" \"normal\" ...\n",
            " $ AHD      : chr [1:303] \"No\" \"Yes\" \"Yes\" \"No\" ...\n",
            " - attr(*, \"spec\")=\n",
            "  .. cols(\n",
            "  ..   X1 = \u001b[32mcol_double()\u001b[39m,\n",
            "  ..   Age = \u001b[32mcol_double()\u001b[39m,\n",
            "  ..   Sex = \u001b[32mcol_double()\u001b[39m,\n",
            "  ..   ChestPain = \u001b[31mcol_character()\u001b[39m,\n",
            "  ..   RestBP = \u001b[32mcol_double()\u001b[39m,\n",
            "  ..   Chol = \u001b[32mcol_double()\u001b[39m,\n",
            "  ..   Fbs = \u001b[32mcol_double()\u001b[39m,\n",
            "  ..   RestECG = \u001b[32mcol_double()\u001b[39m,\n",
            "  ..   MaxHR = \u001b[32mcol_double()\u001b[39m,\n",
            "  ..   ExAng = \u001b[32mcol_double()\u001b[39m,\n",
            "  ..   Oldpeak = \u001b[32mcol_double()\u001b[39m,\n",
            "  ..   Slope = \u001b[32mcol_double()\u001b[39m,\n",
            "  ..   Ca = \u001b[32mcol_double()\u001b[39m,\n",
            "  ..   Thal = \u001b[31mcol_character()\u001b[39m,\n",
            "  ..   AHD = \u001b[31mcol_character()\u001b[39m\n",
            "  .. )\n"
          ],
          "name": "stdout"
        }
      ]
    },
    {
      "cell_type": "markdown",
      "metadata": {
        "id": "iZwISFuUIdr1"
      },
      "source": [
        "* mutate를 이용한 데이터 타입 변경(int or chr ---> factor)"
      ]
    },
    {
      "cell_type": "code",
      "metadata": {
        "id": "dT59jV8VIdr1",
        "colab": {
          "base_uri": "https://localhost:8080/"
        },
        "outputId": "3f9ddd37-6ae3-4d73-d507-ad96c3745941"
      },
      "source": [
        "# Facter형으로 변경해줌 \n",
        "\n",
        "heart_df <- heart_df %>% \n",
        " mutate_at(`.vars` = c(\"Sex\", \"ChestPain\", \"Fbs\", \"RestECG\", \"ExAng\", \"Slope\", \"Ca\", \"Thal\", \"AHD\"), `.funs` = as.factor)\n",
        "heart_df %>% str()"
      ],
      "execution_count": 3,
      "outputs": [
        {
          "output_type": "stream",
          "text": [
            "tibble [303 × 15] (S3: spec_tbl_df/tbl_df/tbl/data.frame)\n",
            " $ X1       : num [1:303] 1 2 3 4 5 6 7 8 9 10 ...\n",
            " $ Age      : num [1:303] 63 67 67 37 41 56 62 57 63 53 ...\n",
            " $ Sex      : Factor w/ 2 levels \"0\",\"1\": 2 2 2 2 1 2 1 1 2 2 ...\n",
            " $ ChestPain: Factor w/ 4 levels \"asymptomatic\",..: 4 1 1 2 3 3 1 1 1 1 ...\n",
            " $ RestBP   : num [1:303] 145 160 120 130 130 120 140 120 130 140 ...\n",
            " $ Chol     : num [1:303] 233 286 229 250 204 236 268 354 254 203 ...\n",
            " $ Fbs      : Factor w/ 2 levels \"0\",\"1\": 2 1 1 1 1 1 1 1 1 2 ...\n",
            " $ RestECG  : Factor w/ 3 levels \"0\",\"1\",\"2\": 3 3 3 1 3 1 3 1 3 3 ...\n",
            " $ MaxHR    : num [1:303] 150 108 129 187 172 178 160 163 147 155 ...\n",
            " $ ExAng    : Factor w/ 2 levels \"0\",\"1\": 1 2 2 1 1 1 1 2 1 2 ...\n",
            " $ Oldpeak  : num [1:303] 2.3 1.5 2.6 3.5 1.4 0.8 3.6 0.6 1.4 3.1 ...\n",
            " $ Slope    : Factor w/ 3 levels \"1\",\"2\",\"3\": 3 2 2 3 1 1 3 1 2 3 ...\n",
            " $ Ca       : Factor w/ 4 levels \"0\",\"1\",\"2\",\"3\": 1 4 3 1 1 1 3 1 2 1 ...\n",
            " $ Thal     : Factor w/ 3 levels \"fixed\",\"normal\",..: 1 2 3 2 2 2 2 2 3 3 ...\n",
            " $ AHD      : Factor w/ 2 levels \"No\",\"Yes\": 1 2 2 1 1 1 2 1 2 2 ...\n",
            " - attr(*, \"spec\")=\n",
            "  .. cols(\n",
            "  ..   X1 = \u001b[32mcol_double()\u001b[39m,\n",
            "  ..   Age = \u001b[32mcol_double()\u001b[39m,\n",
            "  ..   Sex = \u001b[32mcol_double()\u001b[39m,\n",
            "  ..   ChestPain = \u001b[31mcol_character()\u001b[39m,\n",
            "  ..   RestBP = \u001b[32mcol_double()\u001b[39m,\n",
            "  ..   Chol = \u001b[32mcol_double()\u001b[39m,\n",
            "  ..   Fbs = \u001b[32mcol_double()\u001b[39m,\n",
            "  ..   RestECG = \u001b[32mcol_double()\u001b[39m,\n",
            "  ..   MaxHR = \u001b[32mcol_double()\u001b[39m,\n",
            "  ..   ExAng = \u001b[32mcol_double()\u001b[39m,\n",
            "  ..   Oldpeak = \u001b[32mcol_double()\u001b[39m,\n",
            "  ..   Slope = \u001b[32mcol_double()\u001b[39m,\n",
            "  ..   Ca = \u001b[32mcol_double()\u001b[39m,\n",
            "  ..   Thal = \u001b[31mcol_character()\u001b[39m,\n",
            "  ..   AHD = \u001b[31mcol_character()\u001b[39m\n",
            "  .. )\n"
          ],
          "name": "stdout"
        }
      ]
    },
    {
      "cell_type": "code",
      "metadata": {
        "id": "CX2WjPSDGh69",
        "colab": {
          "base_uri": "https://localhost:8080/",
          "height": 390
        },
        "outputId": "04bbfc85-6f44-414a-fc1d-ca6527dac65d"
      },
      "source": [
        "summary(heart_df)"
      ],
      "execution_count": 4,
      "outputs": [
        {
          "output_type": "display_data",
          "data": {
            "text/plain": [
              "       X1             Age        Sex            ChestPain       RestBP     \n",
              " Min.   :  1.0   Min.   :29.00   0: 97   asymptomatic:144   Min.   : 94.0  \n",
              " 1st Qu.: 76.5   1st Qu.:48.00   1:206   nonanginal  : 86   1st Qu.:120.0  \n",
              " Median :152.0   Median :56.00           nontypical  : 50   Median :130.0  \n",
              " Mean   :152.0   Mean   :54.44           typical     : 23   Mean   :131.7  \n",
              " 3rd Qu.:227.5   3rd Qu.:61.00                              3rd Qu.:140.0  \n",
              " Max.   :303.0   Max.   :77.00                              Max.   :200.0  \n",
              "      Chol       Fbs     RestECG     MaxHR       ExAng      Oldpeak     Slope  \n",
              " Min.   :126.0   0:258   0:151   Min.   : 71.0   0:204   Min.   :0.00   1:142  \n",
              " 1st Qu.:211.0   1: 45   1:  4   1st Qu.:133.5   1: 99   1st Qu.:0.00   2:140  \n",
              " Median :241.0           2:148   Median :153.0           Median :0.80   3: 21  \n",
              " Mean   :246.7                   Mean   :149.6           Mean   :1.04          \n",
              " 3rd Qu.:275.0                   3rd Qu.:166.0           3rd Qu.:1.60          \n",
              " Max.   :564.0                   Max.   :202.0           Max.   :6.20          \n",
              "    Ca              Thal      AHD     \n",
              " 0   :176   fixed     : 18   No :164  \n",
              " 1   : 65   normal    :166   Yes:139  \n",
              " 2   : 38   reversable:117            \n",
              " 3   : 20   NA's      :  2            \n",
              " NA's:  4                             \n",
              "                                      "
            ]
          },
          "metadata": {
            "tags": []
          }
        }
      ]
    },
    {
      "cell_type": "code",
      "metadata": {
        "id": "YxAXeXQ-GqqR"
      },
      "source": [
        "# 그냥 지울때는 조심해야함, 평균으로 바꿔주는것이 좋음 \n",
        "\n",
        "heart_df <- heart_df %>% na.omit()"
      ],
      "execution_count": 5,
      "outputs": []
    },
    {
      "cell_type": "code",
      "metadata": {
        "id": "1K4MW-xcGtr3",
        "colab": {
          "base_uri": "https://localhost:8080/",
          "height": 390
        },
        "outputId": "b229b226-7d9b-4732-d147-0e911bf1bcc3"
      },
      "source": [
        "summary(heart_df)"
      ],
      "execution_count": 6,
      "outputs": [
        {
          "output_type": "display_data",
          "data": {
            "text/plain": [
              "       X1             Age        Sex            ChestPain       RestBP     \n",
              " Min.   :  1.0   Min.   :29.00   0: 96   asymptomatic:142   Min.   : 94.0  \n",
              " 1st Qu.: 75.0   1st Qu.:48.00   1:201   nonanginal  : 83   1st Qu.:120.0  \n",
              " Median :150.0   Median :56.00           nontypical  : 49   Median :130.0  \n",
              " Mean   :150.7   Mean   :54.54           typical     : 23   Mean   :131.7  \n",
              " 3rd Qu.:226.0   3rd Qu.:61.00                              3rd Qu.:140.0  \n",
              " Max.   :302.0   Max.   :77.00                              Max.   :200.0  \n",
              "      Chol       Fbs     RestECG     MaxHR       ExAng      Oldpeak     \n",
              " Min.   :126.0   0:254   0:147   Min.   : 71.0   0:200   Min.   :0.000  \n",
              " 1st Qu.:211.0   1: 43   1:  4   1st Qu.:133.0   1: 97   1st Qu.:0.000  \n",
              " Median :243.0           2:146   Median :153.0           Median :0.800  \n",
              " Mean   :247.4                   Mean   :149.6           Mean   :1.056  \n",
              " 3rd Qu.:276.0                   3rd Qu.:166.0           3rd Qu.:1.600  \n",
              " Max.   :564.0                   Max.   :202.0           Max.   :6.200  \n",
              " Slope   Ca              Thal      AHD     \n",
              " 1:139   0:174   fixed     : 18   No :160  \n",
              " 2:137   1: 65   normal    :164   Yes:137  \n",
              " 3: 21   2: 38   reversable:115            \n",
              "         3: 20                             \n",
              "                                           \n",
              "                                           "
            ]
          },
          "metadata": {
            "tags": []
          }
        }
      ]
    },
    {
      "cell_type": "markdown",
      "metadata": {
        "id": "inoN3LSVIdr1"
      },
      "source": [
        "* **train-test split**"
      ]
    },
    {
      "cell_type": "code",
      "metadata": {
        "id": "eapZTUmGIdr1",
        "colab": {
          "base_uri": "https://localhost:8080/"
        },
        "outputId": "e2e055b9-1a93-425a-fc90-f00c000bf976"
      },
      "source": [
        "# y 에 반응변수를 넣어주고, p에는 데이터의 퍼센트를 넣어준다. \n",
        "\n",
        "library(caret) \n",
        "set.seed(51)\n",
        "index <- createDataPartition(y = heart_df$AHD, p = 0.7, list = FALSE) \n",
        "train <- heart_df[index, ]# 70% 데이터\n",
        "test <- heart_df[-index, ]# 30% 데이터"
      ],
      "execution_count": 7,
      "outputs": [
        {
          "output_type": "stream",
          "text": [
            "Loading required package: lattice\n",
            "\n",
            "\n",
            "Attaching package: ‘caret’\n",
            "\n",
            "\n",
            "The following object is masked from ‘package:purrr’:\n",
            "\n",
            "    lift\n",
            "\n",
            "\n",
            "Warning message:\n",
            "“The `i` argument of ``[`()` can't be a matrix as of tibble 3.0.0.\n",
            "Convert to a vector.\n",
            "\u001b[90mThis warning is displayed once every 8 hours.\u001b[39m\n",
            "\u001b[90mCall `lifecycle::last_warnings()` to see where this warning was generated.\u001b[39m”\n"
          ],
          "name": "stderr"
        }
      ]
    },
    {
      "cell_type": "markdown",
      "metadata": {
        "id": "43ATDZnE5prM"
      },
      "source": [
        "* e1071 package - svm\n",
        "\n",
        "```\n",
        "* type : svm()의 수행 방법(분류, 회귀 또는 novelty detection)을 정한다. 반응변수() 가 범주형인지\n",
        "의 여부에 따라 정해지며, 디폴트는 C-classification 또는 eps-regression 이다. \n",
        "* kernel : 훈련과 예측에 사용되는 커널로, \"radial\" 옵션은 가우시안 RBF를 의미한다. 실제 문제에서 커\n",
        "널의 선택이 결과의 정확도에 큰 영향을 주지는 않는다\n",
        "* gamma : 선형을 제외한 모든 커널에 요구되는 모수로, 디폴트는 1/(데이터 차원) 이다.\n",
        "* cost : 제약 위배의 비용으로, 디폴트는 1 이다. 얼마나 오류를 허용할 것인지 결정\n",
        "```"
      ]
    },
    {
      "cell_type": "code",
      "metadata": {
        "id": "UJTkREfWIdr1",
        "colab": {
          "base_uri": "https://localhost:8080/",
          "height": 390
        },
        "outputId": "3130a9b2-1330-489f-f3b7-f9e89528806e"
      },
      "source": [
        "# summarary를 통해 서포터 벡터의 갯수를 파악할 수 있다. \n",
        "# C와 gamma를 설정하고 안하고로 2개의 모델을 만들어줌 \n",
        "# rbf\n",
        "library(e1071) \n",
        "svm_AHD <- svm(formula = AHD ~ ., data = train, type = \"C-classification\", kernel = \"radial\")\n",
        "summary(svm_AHD)"
      ],
      "execution_count": 14,
      "outputs": [
        {
          "output_type": "display_data",
          "data": {
            "text/plain": [
              "\n",
              "Call:\n",
              "svm(formula = AHD ~ ., data = train, type = \"C-classification\", kernel = \"radial\")\n",
              "\n",
              "\n",
              "Parameters:\n",
              "   SVM-Type:  C-classification \n",
              " SVM-Kernel:  radial \n",
              "       cost:  1 \n",
              "\n",
              "Number of Support Vectors:  121\n",
              "\n",
              " ( 60 61 )\n",
              "\n",
              "\n",
              "Number of Classes:  2 \n",
              "\n",
              "Levels: \n",
              " No Yes\n",
              "\n",
              "\n"
            ]
          },
          "metadata": {
            "tags": []
          }
        }
      ]
    },
    {
      "cell_type": "code",
      "metadata": {
        "id": "3MzJN01OEATR",
        "colab": {
          "base_uri": "https://localhost:8080/",
          "height": 407
        },
        "outputId": "c11b8471-73bc-45df-9783-4784fcfa7f65"
      },
      "source": [
        "# 서포터 벡터의 갯수가 줄어든것을 볼 수 있다. \n",
        "# C값과 gamma를 설정해 주었다.  -> 위에는 디폴트로 지정함 \n",
        "# rbf parameter\n",
        "svm_AHD2 <- svm(formula = AHD ~ ., data = train, type = \"C-classification\", kernel = \"radial\",\n",
        "               cost = 1000, gamma = 0.1)\n",
        "summary(svm_AHD2)"
      ],
      "execution_count": 15,
      "outputs": [
        {
          "output_type": "display_data",
          "data": {
            "text/plain": [
              "\n",
              "Call:\n",
              "svm(formula = AHD ~ ., data = train, type = \"C-classification\", kernel = \"radial\", \n",
              "    cost = 1000, gamma = 0.1)\n",
              "\n",
              "\n",
              "Parameters:\n",
              "   SVM-Type:  C-classification \n",
              " SVM-Kernel:  radial \n",
              "       cost:  1000 \n",
              "\n",
              "Number of Support Vectors:  119\n",
              "\n",
              " ( 61 58 )\n",
              "\n",
              "\n",
              "Number of Classes:  2 \n",
              "\n",
              "Levels: \n",
              " No Yes\n",
              "\n",
              "\n"
            ]
          },
          "metadata": {
            "tags": []
          }
        }
      ]
    },
    {
      "cell_type": "markdown",
      "metadata": {
        "id": "9llCds3HFE7L"
      },
      "source": [
        "* test를 이용한 예측 및 평가(svm_AHD, svm_AHD2)"
      ]
    },
    {
      "cell_type": "code",
      "metadata": {
        "id": "4MlC9io7GZPR",
        "colab": {
          "base_uri": "https://localhost:8080/"
        },
        "outputId": "f973e9d1-57b5-4ff9-a4b2-87804b0c094c"
      },
      "source": [
        "# test 셋을 이용해 성능평가 \n",
        "\n",
        "test %>% show()"
      ],
      "execution_count": 16,
      "outputs": [
        {
          "output_type": "stream",
          "text": [
            "\u001b[90m# A tibble: 89 x 15\u001b[39m\n",
            "      X1   Age Sex   ChestPain RestBP  Chol Fbs   RestECG MaxHR ExAng Oldpeak\n",
            "   \u001b[3m\u001b[90m<dbl>\u001b[39m\u001b[23m \u001b[3m\u001b[90m<dbl>\u001b[39m\u001b[23m \u001b[3m\u001b[90m<fct>\u001b[39m\u001b[23m \u001b[3m\u001b[90m<fct>\u001b[39m\u001b[23m      \u001b[3m\u001b[90m<dbl>\u001b[39m\u001b[23m \u001b[3m\u001b[90m<dbl>\u001b[39m\u001b[23m \u001b[3m\u001b[90m<fct>\u001b[39m\u001b[23m \u001b[3m\u001b[90m<fct>\u001b[39m\u001b[23m   \u001b[3m\u001b[90m<dbl>\u001b[39m\u001b[23m \u001b[3m\u001b[90m<fct>\u001b[39m\u001b[23m   \u001b[3m\u001b[90m<dbl>\u001b[39m\u001b[23m\n",
            "\u001b[90m 1\u001b[39m    10    53 1     asymptom…    140   203 1     2         155 1         3.1\n",
            "\u001b[90m 2\u001b[39m    11    57 1     asymptom…    140   192 0     0         148 0         0.4\n",
            "\u001b[90m 3\u001b[39m    12    56 0     nontypic…    140   294 0     2         153 0         1.3\n",
            "\u001b[90m 4\u001b[39m    14    44 1     nontypic…    120   263 0     0         173 0         0  \n",
            "\u001b[90m 5\u001b[39m    21    64 1     typical      110   211 0     2         144 1         1.8\n",
            "\u001b[90m 6\u001b[39m    22    58 0     typical      150   283 1     2         162 0         1  \n",
            "\u001b[90m 7\u001b[39m    26    50 0     nonangin…    120   219 0     0         158 0         1.6\n",
            "\u001b[90m 8\u001b[39m    39    55 1     asymptom…    132   353 0     0         132 1         1.2\n",
            "\u001b[90m 9\u001b[39m    40    61 1     nonangin…    150   243 1     0         137 1         1  \n",
            "\u001b[90m10\u001b[39m    44    59 1     nonangin…    150   212 1     0         157 0         1.6\n",
            "\u001b[90m# … with 79 more rows, and 4 more variables: Slope \u001b[3m\u001b[90m<fct>\u001b[90m\u001b[23m, Ca \u001b[3m\u001b[90m<fct>\u001b[90m\u001b[23m, Thal \u001b[3m\u001b[90m<fct>\u001b[90m\u001b[23m,\u001b[39m\n",
            "\u001b[90m#   AHD \u001b[3m\u001b[90m<fct>\u001b[90m\u001b[23m\u001b[39m\n"
          ],
          "name": "stdout"
        }
      ]
    },
    {
      "cell_type": "markdown",
      "metadata": {
        "id": "DMGBbrpHHRir"
      },
      "source": [
        "* svm_AHD"
      ]
    },
    {
      "cell_type": "code",
      "metadata": {
        "id": "McY3sO1XEMdJ",
        "colab": {
          "base_uri": "https://localhost:8080/"
        },
        "outputId": "c6516002-876c-4948-e754-8b62b969a2cb"
      },
      "source": [
        "# 모델과 test만 넣어주면 예측이 가능하다. \n",
        "predict_value <- predict(svm_AHD, test) %>% \n",
        " tibble(predict_value = .)\n",
        "predict_check <- test %>% select(AHD) %>% dplyr::bind_cols(., predict_value) \n",
        "predict_check %>% show()"
      ],
      "execution_count": 17,
      "outputs": [
        {
          "output_type": "stream",
          "text": [
            "\u001b[90m# A tibble: 89 x 2\u001b[39m\n",
            "   AHD   predict_value\n",
            "   \u001b[3m\u001b[90m<fct>\u001b[39m\u001b[23m \u001b[3m\u001b[90m<fct>\u001b[39m\u001b[23m        \n",
            "\u001b[90m 1\u001b[39m Yes   Yes          \n",
            "\u001b[90m 2\u001b[39m No    No           \n",
            "\u001b[90m 3\u001b[39m No    No           \n",
            "\u001b[90m 4\u001b[39m No    No           \n",
            "\u001b[90m 5\u001b[39m No    Yes          \n",
            "\u001b[90m 6\u001b[39m No    No           \n",
            "\u001b[90m 7\u001b[39m No    No           \n",
            "\u001b[90m 8\u001b[39m Yes   Yes          \n",
            "\u001b[90m 9\u001b[39m No    No           \n",
            "\u001b[90m10\u001b[39m No    No           \n",
            "\u001b[90m# … with 79 more rows\u001b[39m\n"
          ],
          "name": "stdout"
        }
      ]
    },
    {
      "cell_type": "code",
      "metadata": {
        "id": "s7IY5oatrU7W"
      },
      "source": [
        "# confusion matrix 함수 이쁘게 출력하게 도와주는 함수 \n",
        "\n",
        "#https://stackoverflow.com/questions/23891140/r-how-to-visualize-confusion-matrix-using-the-caret-package\n",
        "draw_confusion_matrix <- function(cm) {\n",
        "\n",
        "  total <- sum(cm$table)\n",
        "  res <- as.numeric(cm$table)\n",
        "\n",
        "  # Generate color gradients. Palettes come from RColorBrewer.\n",
        "  greenPalette <- c(\"#F7FCF5\",\"#E5F5E0\",\"#C7E9C0\",\"#A1D99B\",\"#74C476\",\"#41AB5D\",\"#238B45\",\"#006D2C\",\"#00441B\")\n",
        "  redPalette <- c(\"#FFF5F0\",\"#FEE0D2\",\"#FCBBA1\",\"#FC9272\",\"#FB6A4A\",\"#EF3B2C\",\"#CB181D\",\"#A50F15\",\"#67000D\")\n",
        "  getColor <- function (greenOrRed = \"green\", amount = 0) {\n",
        "    if (amount == 0)\n",
        "      return(\"#FFFFFF\")\n",
        "    palette <- greenPalette\n",
        "    if (greenOrRed == \"red\")\n",
        "      palette <- redPalette\n",
        "    colorRampPalette(palette)(100)[10 + ceiling(90 * amount / total)]\n",
        "  }\n",
        "\n",
        "  # set the basic layout\n",
        "  layout(matrix(c(1,1,2)))\n",
        "  par(mar=c(2,2,2,2))\n",
        "  plot(c(100, 345), c(300, 450), type = \"n\", xlab=\"\", ylab=\"\", xaxt='n', yaxt='n')\n",
        "  title('CONFUSION MATRIX', cex.main=2)\n",
        "\n",
        "  # create the matrix \n",
        "  classes = colnames(cm$table)\n",
        "  rect(150, 430, 240, 370, col=getColor(\"green\", res[1]))\n",
        "  text(195, 435, classes[1], cex=1.2)\n",
        "  rect(250, 430, 340, 370, col=getColor(\"red\", res[3]))\n",
        "  text(295, 435, classes[2], cex=1.2)\n",
        "  text(125, 370, 'Predicted', cex=1.3, srt=90, font=2)\n",
        "  text(245, 450, 'Actual', cex=1.3, font=2)\n",
        "  rect(150, 305, 240, 365, col=getColor(\"red\", res[2]))\n",
        "  rect(250, 305, 340, 365, col=getColor(\"green\", res[4]))\n",
        "  text(140, 400, classes[1], cex=1.2, srt=90)\n",
        "  text(140, 335, classes[2], cex=1.2, srt=90)\n",
        "\n",
        "  # add in the cm results\n",
        "  text(195, 400, res[1], cex=1.6, font=2, col='white')\n",
        "  text(195, 335, res[2], cex=1.6, font=2, col='white')\n",
        "  text(295, 400, res[3], cex=1.6, font=2, col='white')\n",
        "  text(295, 335, res[4], cex=1.6, font=2, col='white')\n",
        "\n",
        "  # add in the specifics \n",
        "  plot(c(100, 0), c(100, 0), type = \"n\", xlab=\"\", ylab=\"\", main = \"DETAILS\", xaxt='n', yaxt='n')\n",
        "  text(10, 85, names(cm$byClass[1]), cex=1.2, font=2)\n",
        "  text(10, 70, round(as.numeric(cm$byClass[1]), 3), cex=1.2)\n",
        "  text(30, 85, names(cm$byClass[2]), cex=1.2, font=2)\n",
        "  text(30, 70, round(as.numeric(cm$byClass[2]), 3), cex=1.2)\n",
        "  text(50, 85, names(cm$byClass[5]), cex=1.2, font=2)\n",
        "  text(50, 70, round(as.numeric(cm$byClass[5]), 3), cex=1.2)\n",
        "  text(70, 85, names(cm$byClass[6]), cex=1.2, font=2)\n",
        "  text(70, 70, round(as.numeric(cm$byClass[6]), 3), cex=1.2)\n",
        "  text(90, 85, names(cm$byClass[7]), cex=1.2, font=2)\n",
        "  text(90, 70, round(as.numeric(cm$byClass[7]), 3), cex=1.2)\n",
        "\n",
        "  # add in the accuracy information \n",
        "  text(30, 35, names(cm$overall[1]), cex=1.5, font=2)\n",
        "  text(30, 20, round(as.numeric(cm$overall[1]), 3), cex=1.4)\n",
        "  text(70, 35, names(cm$overall[2]), cex=1.5, font=2)\n",
        "  text(70, 20, round(as.numeric(cm$overall[2]), 3), cex=1.4)\n",
        "}"
      ],
      "execution_count": null,
      "outputs": []
    },
    {
      "cell_type": "code",
      "metadata": {
        "id": "RuxlQe0cIdr3",
        "colab": {
          "base_uri": "https://localhost:8080/",
          "height": 436
        },
        "outputId": "aafeb62a-f667-41e7-f6c8-5de0399fda2a"
      },
      "source": [
        "# 디폴트로 생성한 모델의 오차행렬\n",
        "\n",
        "cm <- caret::confusionMatrix(predict_value$predict_value, test$AHD)\n",
        "draw_confusion_matrix(cm)"
      ],
      "execution_count": 20,
      "outputs": [
        {
          "output_type": "display_data",
          "data": {
            "image/png": "[encoded data removed]",
            "text/plain": [
              "Plot with title “DETAILS”"
            ]
          },
          "metadata": {
            "tags": [],
            "image/png": {
              "width": 420,
              "height": 420
            }
          }
        }
      ]
    },
    {
      "cell_type": "markdown",
      "metadata": {
        "id": "Px2fp_KjHWKA"
      },
      "source": [
        "* svm_AHD2"
      ]
    },
    {
      "cell_type": "code",
      "metadata": {
        "id": "EWuZG8ZcHVsW",
        "colab": {
          "base_uri": "https://localhost:8080/"
        },
        "outputId": "7dd3972b-d390-4db2-9ec4-459fff55fe1c"
      },
      "source": [
        "# AHD1과는 다른 \n",
        "# C값과 gamma값을 조정한 모델 -> 앞의 디폴트 모델보다 성능이 좋지 않은것을 볼 수 있다. \n",
        "\n",
        "predict_value <- predict(svm_AHD2, test) %>% \n",
        " tibble(predict_value = .)\n",
        "predict_check <- test %>% select(AHD) %>% dplyr::bind_cols(., predict_value) \n",
        "predict_check %>% show()"
      ],
      "execution_count": 21,
      "outputs": [
        {
          "output_type": "stream",
          "text": [
            "\u001b[90m# A tibble: 89 x 2\u001b[39m\n",
            "   AHD   predict_value\n",
            "   \u001b[3m\u001b[90m<fct>\u001b[39m\u001b[23m \u001b[3m\u001b[90m<fct>\u001b[39m\u001b[23m        \n",
            "\u001b[90m 1\u001b[39m Yes   Yes          \n",
            "\u001b[90m 2\u001b[39m No    No           \n",
            "\u001b[90m 3\u001b[39m No    No           \n",
            "\u001b[90m 4\u001b[39m No    No           \n",
            "\u001b[90m 5\u001b[39m No    No           \n",
            "\u001b[90m 6\u001b[39m No    No           \n",
            "\u001b[90m 7\u001b[39m No    No           \n",
            "\u001b[90m 8\u001b[39m Yes   Yes          \n",
            "\u001b[90m 9\u001b[39m No    Yes          \n",
            "\u001b[90m10\u001b[39m No    No           \n",
            "\u001b[90m# … with 79 more rows\u001b[39m\n"
          ],
          "name": "stdout"
        }
      ]
    },
    {
      "cell_type": "code",
      "metadata": {
        "id": "eGYwkY3xHVsX",
        "colab": {
          "base_uri": "https://localhost:8080/",
          "height": 436
        },
        "outputId": "49e492f3-a574-4222-f691-32cc6ea3b145"
      },
      "source": [
        "# \n",
        "\n",
        "cm <- caret::confusionMatrix(predict_value$predict_value, test$AHD)\n",
        "draw_confusion_matrix(cm)"
      ],
      "execution_count": 22,
      "outputs": [
        {
          "output_type": "display_data",
          "data": {
            "image/png": "[encoded data removed]",
            "text/plain": [
              "Plot with title “DETAILS”"
            ]
          },
          "metadata": {
            "tags": [],
            "image/png": {
              "width": 420,
              "height": 420
            }
          }
        }
      ]
    },
    {
      "cell_type": "markdown",
      "metadata": {
        "id": "9yK2ooZYHqWD"
      },
      "source": [
        "* tune()\n",
        "  * gamma 범위 : 1e-08 ~ 10\n",
        "  * cost 범위 : 1 ~ 30\n",
        "  * 총 10 * 30 = 300개의 조합"
      ]
    },
    {
      "cell_type": "code",
      "metadata": {
        "id": "zQ7mkC0SwniK"
      },
      "source": [
        "# tune 함수를 통해 가장좋은 gamma와 cost를 찾을 수 있다.  -> 그리드 서치로 찾아줌 \n",
        "# 찾고자 하는 범위를 넣어준다.\n",
        "# 10에 -8승부터 10의 -1승까지를 gamma의 범위로 정한다. \n",
        "# 시간이 많이 걸림  -> 범위 늘릴수록 좋은 파라미터 찾을수 있지만 시간이 많이걸림 \n",
        "set.seed(51)\n",
        "tuned <- tune.svm(AHD ~ ., data = train, gamma = 10^(-8:1), cost = 1:30)"
      ],
      "execution_count": 23,
      "outputs": []
    },
    {
      "cell_type": "code",
      "metadata": {
        "id": "oGqTW2PlIo22",
        "colab": {
          "base_uri": "https://localhost:8080/",
          "height": 1000
        },
        "outputId": "83238d86-40c7-46e9-c620-8b21b86229e3"
      },
      "source": [
        "tune_summary <- summary(tuned)\n",
        "tune_summary"
      ],
      "execution_count": 24,
      "outputs": [
        {
          "output_type": "display_data",
          "data": {
            "text/plain": [
              "\n",
              "Parameter tuning of ‘svm’:\n",
              "\n",
              "- sampling method: 10-fold cross validation \n",
              "\n",
              "- best parameters:\n",
              " gamma cost\n",
              " 0.001   16\n",
              "\n",
              "- best performance: 0.1783333 \n",
              "\n",
              "- Detailed performance results:\n",
              "    gamma cost     error dispersion\n",
              "1   1e-08    1 0.4614286 0.07035167\n",
              "2   1e-07    1 0.4614286 0.07035167\n",
              "3   1e-06    1 0.4614286 0.07035167\n",
              "4   1e-05    1 0.4614286 0.07035167\n",
              "5   1e-04    1 0.4614286 0.07035167\n",
              "6   1e-03    1 0.4371429 0.07342192\n",
              "7   1e-02    1 0.2021429 0.07776522\n",
              "8   1e-01    1 0.2019048 0.07728871\n",
              "9   1e+00    1 0.4278571 0.08180419\n",
              "10  1e+01    1 0.4614286 0.07035167\n",
              "11  1e-08    2 0.4614286 0.07035167\n",
              "12  1e-07    2 0.4614286 0.07035167\n",
              "13  1e-06    2 0.4614286 0.07035167\n",
              "14  1e-05    2 0.4614286 0.07035167\n",
              "15  1e-04    2 0.4614286 0.07035167\n",
              "16  1e-03    2 0.2252381 0.08265560\n",
              "17  1e-02    2 0.1830952 0.06420679\n",
              "18  1e-01    2 0.2261905 0.06487579\n",
              "19  1e+00    2 0.4088095 0.11363378\n",
              "20  1e+01    2 0.4614286 0.07035167\n",
              "21  1e-08    3 0.4614286 0.07035167\n",
              "22  1e-07    3 0.4614286 0.07035167\n",
              "23  1e-06    3 0.4614286 0.07035167\n",
              "24  1e-05    3 0.4614286 0.07035167\n",
              "25  1e-04    3 0.4614286 0.07035167\n",
              "26  1e-03    3 0.2159524 0.07428207\n",
              "27  1e-02    3 0.1880952 0.08141016\n",
              "28  1e-01    3 0.2211905 0.09097918\n",
              "29  1e+00    3 0.4088095 0.11363378\n",
              "30  1e+01    3 0.4614286 0.07035167\n",
              "31  1e-08    4 0.4614286 0.07035167\n",
              "32  1e-07    4 0.4614286 0.07035167\n",
              "33  1e-06    4 0.4614286 0.07035167\n",
              "34  1e-05    4 0.4614286 0.07035167\n",
              "35  1e-04    4 0.4614286 0.07035167\n",
              "36  1e-03    4 0.1969048 0.07200867\n",
              "37  1e-02    4 0.1976190 0.08110008\n",
              "38  1e-01    4 0.2257143 0.09839221\n",
              "39  1e+00    4 0.4088095 0.11363378\n",
              "40  1e+01    4 0.4614286 0.07035167\n",
              "41  1e-08    5 0.4614286 0.07035167\n",
              "42  1e-07    5 0.4614286 0.07035167\n",
              "43  1e-06    5 0.4614286 0.07035167\n",
              "44  1e-05    5 0.4614286 0.07035167\n",
              "45  1e-04    5 0.4614286 0.07035167\n",
              "46  1e-03    5 0.2019048 0.07395701\n",
              "47  1e-02    5 0.1976190 0.08110008\n",
              "48  1e-01    5 0.2302381 0.09145977\n",
              "49  1e+00    5 0.4088095 0.11363378\n",
              "50  1e+01    5 0.4614286 0.07035167\n",
              "51  1e-08    6 0.4614286 0.07035167\n",
              "52  1e-07    6 0.4614286 0.07035167\n",
              "53  1e-06    6 0.4614286 0.07035167\n",
              "54  1e-05    6 0.4614286 0.07035167\n",
              "55  1e-04    6 0.4614286 0.07035167\n",
              "56  1e-03    6 0.2116667 0.06471491\n",
              "57  1e-02    6 0.1976190 0.08110008\n",
              "58  1e-01    6 0.2400000 0.09266905\n",
              "59  1e+00    6 0.4088095 0.11363378\n",
              "60  1e+01    6 0.4614286 0.07035167\n",
              "61  1e-08    7 0.4614286 0.07035167\n",
              "62  1e-07    7 0.4614286 0.07035167\n",
              "63  1e-06    7 0.4614286 0.07035167\n",
              "64  1e-05    7 0.4614286 0.07035167\n",
              "65  1e-04    7 0.4614286 0.07035167\n",
              "66  1e-03    7 0.2069048 0.07171416\n",
              "67  1e-02    7 0.1976190 0.08110008\n",
              "68  1e-01    7 0.2400000 0.07689653\n",
              "69  1e+00    7 0.4088095 0.11363378\n",
              "70  1e+01    7 0.4614286 0.07035167\n",
              "71  1e-08    8 0.4614286 0.07035167\n",
              "72  1e-07    8 0.4614286 0.07035167\n",
              "73  1e-06    8 0.4614286 0.07035167\n",
              "74  1e-05    8 0.4614286 0.07035167\n",
              "75  1e-04    8 0.4614286 0.07035167\n",
              "76  1e-03    8 0.1973810 0.07998528\n",
              "77  1e-02    8 0.2023810 0.08795570\n",
              "78  1e-01    8 0.2447619 0.06788197\n",
              "79  1e+00    8 0.4088095 0.11363378\n",
              "80  1e+01    8 0.4614286 0.07035167\n",
              "81  1e-08    9 0.4614286 0.07035167\n",
              "82  1e-07    9 0.4614286 0.07035167\n",
              "83  1e-06    9 0.4614286 0.07035167\n",
              "84  1e-05    9 0.4614286 0.07035167\n",
              "85  1e-04    9 0.4519048 0.06350000\n",
              "86  1e-03    9 0.1973810 0.07998528\n",
              "87  1e-02    9 0.2021429 0.07776522\n",
              "88  1e-01    9 0.2397619 0.08903085\n",
              "89  1e+00    9 0.4088095 0.11363378\n",
              "90  1e+01    9 0.4614286 0.07035167\n",
              "91  1e-08   10 0.4614286 0.07035167\n",
              "92  1e-07   10 0.4614286 0.07035167\n",
              "93  1e-06   10 0.4614286 0.07035167\n",
              "94  1e-05   10 0.4614286 0.07035167\n",
              "95  1e-04   10 0.4321429 0.07780409\n",
              "96  1e-03   10 0.1926190 0.07542982\n",
              "97  1e-02   10 0.2023810 0.08171135\n",
              "98  1e-01   10 0.2495238 0.08624761\n",
              "99  1e+00   10 0.4088095 0.11363378\n",
              "100 1e+01   10 0.4614286 0.07035167\n",
              "101 1e-08   11 0.4614286 0.07035167\n",
              "102 1e-07   11 0.4614286 0.07035167\n",
              "103 1e-06   11 0.4614286 0.07035167\n",
              "104 1e-05   11 0.4614286 0.07035167\n",
              "105 1e-04   11 0.4223810 0.07657969\n",
              "106 1e-03   11 0.1926190 0.07542982\n",
              "107 1e-02   11 0.2071429 0.07920619\n",
              "108 1e-01   11 0.2495238 0.08624761\n",
              "109 1e+00   11 0.4088095 0.11363378\n",
              "110 1e+01   11 0.4614286 0.07035167\n",
              "111 1e-08   12 0.4614286 0.07035167\n",
              "112 1e-07   12 0.4614286 0.07035167\n",
              "113 1e-06   12 0.4614286 0.07035167\n",
              "114 1e-05   12 0.4614286 0.07035167\n",
              "115 1e-04   12 0.3690476 0.09457441\n",
              "116 1e-03   12 0.1973810 0.06989942\n",
              "117 1e-02   12 0.2071429 0.07920619\n",
              "118 1e-01   12 0.2447619 0.08533721\n",
              "119 1e+00   12 0.4088095 0.11363378\n",
              "120 1e+01   12 0.4614286 0.07035167\n",
              "121 1e-08   13 0.4614286 0.07035167\n",
              "122 1e-07   13 0.4614286 0.07035167\n",
              "123 1e-06   13 0.4614286 0.07035167\n",
              "124 1e-05   13 0.4614286 0.07035167\n",
              "125 1e-04   13 0.2876190 0.09072508\n",
              "126 1e-03   13 0.1926190 0.06842402\n",
              "127 1e-02   13 0.2071429 0.07920619\n",
              "128 1e-01   13 0.2495238 0.08912101\n",
              "129 1e+00   13 0.4088095 0.11363378\n",
              "130 1e+01   13 0.4614286 0.07035167\n",
              "131 1e-08   14 0.4614286 0.07035167\n",
              "132 1e-07   14 0.4614286 0.07035167\n",
              "133 1e-06   14 0.4614286 0.07035167\n",
              "134 1e-05   14 0.4614286 0.07035167\n",
              "135 1e-04   14 0.2785714 0.07629787\n",
              "136 1e-03   14 0.1926190 0.06842402\n",
              "137 1e-02   14 0.2071429 0.07920619\n",
              "138 1e-01   14 0.2495238 0.08912101\n",
              "139 1e+00   14 0.4088095 0.11363378\n",
              "140 1e+01   14 0.4614286 0.07035167\n",
              "141 1e-08   15 0.4614286 0.07035167\n",
              "142 1e-07   15 0.4614286 0.07035167\n",
              "143 1e-06   15 0.4614286 0.07035167\n",
              "144 1e-05   15 0.4614286 0.07035167\n",
              "145 1e-04   15 0.2785714 0.04789602\n",
              "146 1e-03   15 0.1830952 0.06420679\n",
              "147 1e-02   15 0.2071429 0.07920619\n",
              "148 1e-01   15 0.2545238 0.08081571\n",
              "149 1e+00   15 0.4088095 0.11363378\n",
              "150 1e+01   15 0.4614286 0.07035167\n",
              "151 1e-08   16 0.4614286 0.07035167\n",
              "152 1e-07   16 0.4614286 0.07035167\n",
              "153 1e-06   16 0.4614286 0.07035167\n",
              "154 1e-05   16 0.4614286 0.07035167\n",
              "155 1e-04   16 0.2735714 0.06573853\n",
              "156 1e-03   16 0.1783333 0.06535414\n",
              "157 1e-02   16 0.1926190 0.08486090\n",
              "158 1e-01   16 0.2545238 0.08081571\n",
              "159 1e+00   16 0.4088095 0.11363378\n",
              "160 1e+01   16 0.4614286 0.07035167\n",
              "161 1e-08   17 0.4614286 0.07035167\n",
              "162 1e-07   17 0.4614286 0.07035167\n",
              "163 1e-06   17 0.4614286 0.07035167\n",
              "164 1e-05   17 0.4614286 0.07035167\n",
              "165 1e-04   17 0.2638095 0.07706018\n",
              "166 1e-03   17 0.1783333 0.06535414\n",
              "167 1e-02   17 0.1926190 0.08486090\n",
              "168 1e-01   17 0.2545238 0.08081571\n",
              "169 1e+00   17 0.4088095 0.11363378\n",
              "170 1e+01   17 0.4614286 0.07035167\n",
              "171 1e-08   18 0.4614286 0.07035167\n",
              "172 1e-07   18 0.4614286 0.07035167\n",
              "173 1e-06   18 0.4614286 0.07035167\n",
              "174 1e-05   18 0.4614286 0.07035167\n",
              "175 1e-04   18 0.2395238 0.08222774\n",
              "176 1e-03   18 0.1783333 0.06535414\n",
              "177 1e-02   18 0.1926190 0.08486090\n",
              "178 1e-01   18 0.2595238 0.08536082\n",
              "179 1e+00   18 0.4088095 0.11363378\n",
              "180 1e+01   18 0.4614286 0.07035167\n",
              "181 1e-08   19 0.4614286 0.07035167\n",
              "182 1e-07   19 0.4614286 0.07035167\n",
              "183 1e-06   19 0.4614286 0.07035167\n",
              "184 1e-05   19 0.4614286 0.07035167\n",
              "185 1e-04   19 0.2347619 0.08061867\n",
              "186 1e-03   19 0.1783333 0.06535414\n",
              "187 1e-02   19 0.2069048 0.07514536\n",
              "188 1e-01   19 0.2595238 0.08536082\n",
              "189 1e+00   19 0.4088095 0.11363378\n",
              "190 1e+01   19 0.4614286 0.07035167\n",
              "191 1e-08   20 0.4614286 0.07035167\n",
              "192 1e-07   20 0.4614286 0.07035167\n",
              "193 1e-06   20 0.4614286 0.07035167\n",
              "194 1e-05   20 0.4614286 0.07035167\n",
              "195 1e-04   20 0.2252381 0.07631603\n",
              "196 1e-03   20 0.1783333 0.06535414\n",
              "197 1e-02   20 0.2069048 0.07514536\n",
              "198 1e-01   20 0.2595238 0.08536082\n",
              "199 1e+00   20 0.4088095 0.11363378\n",
              "200 1e+01   20 0.4614286 0.07035167\n",
              "201 1e-08   21 0.4614286 0.07035167\n",
              "202 1e-07   21 0.4614286 0.07035167\n",
              "203 1e-06   21 0.4614286 0.07035167\n",
              "204 1e-05   21 0.4614286 0.07035167\n",
              "205 1e-04   21 0.2252381 0.07631603\n",
              "206 1e-03   21 0.1783333 0.06535414\n",
              "207 1e-02   21 0.2021429 0.08094032\n",
              "208 1e-01   21 0.2642857 0.08536082\n",
              "209 1e+00   21 0.4088095 0.11363378\n",
              "210 1e+01   21 0.4614286 0.07035167\n",
              "211 1e-08   22 0.4614286 0.07035167\n",
              "212 1e-07   22 0.4614286 0.07035167\n",
              "213 1e-06   22 0.4614286 0.07035167\n",
              "214 1e-05   22 0.4614286 0.07035167\n",
              "215 1e-04   22 0.2252381 0.07631603\n",
              "216 1e-03   22 0.1783333 0.06535414\n",
              "217 1e-02   22 0.2021429 0.08094032\n",
              "218 1e-01   22 0.2642857 0.08536082\n",
              "219 1e+00   22 0.4088095 0.11363378\n",
              "220 1e+01   22 0.4614286 0.07035167\n",
              "221 1e-08   23 0.4614286 0.07035167\n",
              "222 1e-07   23 0.4614286 0.07035167\n",
              "223 1e-06   23 0.4614286 0.07035167\n",
              "224 1e-05   23 0.4614286 0.07035167\n",
              "225 1e-04   23 0.2252381 0.07631603\n",
              "226 1e-03   23 0.1783333 0.06535414\n",
              "227 1e-02   23 0.2069048 0.07842659\n",
              "228 1e-01   23 0.2642857 0.08536082\n",
              "229 1e+00   23 0.4088095 0.11363378\n",
              "230 1e+01   23 0.4614286 0.07035167\n",
              "231 1e-08   24 0.4614286 0.07035167\n",
              "232 1e-07   24 0.4614286 0.07035167\n",
              "233 1e-06   24 0.4614286 0.07035167\n",
              "234 1e-05   24 0.4614286 0.07035167\n",
              "235 1e-04   24 0.2157143 0.08641104\n",
              "236 1e-03   24 0.1830952 0.07506149\n",
              "237 1e-02   24 0.2021429 0.08094032\n",
              "238 1e-01   24 0.2642857 0.08536082\n",
              "239 1e+00   24 0.4088095 0.11363378\n",
              "240 1e+01   24 0.4614286 0.07035167\n",
              "241 1e-08   25 0.4614286 0.07035167\n",
              "242 1e-07   25 0.4614286 0.07035167\n",
              "243 1e-06   25 0.4614286 0.07035167\n",
              "244 1e-05   25 0.4614286 0.07035167\n",
              "245 1e-04   25 0.2157143 0.08641104\n",
              "246 1e-03   25 0.1830952 0.07506149\n",
              "247 1e-02   25 0.2021429 0.08094032\n",
              "248 1e-01   25 0.2642857 0.08536082\n",
              "249 1e+00   25 0.4088095 0.11363378\n",
              "250 1e+01   25 0.4614286 0.07035167\n",
              "251 1e-08   26 0.4614286 0.07035167\n",
              "252 1e-07   26 0.4614286 0.07035167\n",
              "253 1e-06   26 0.4614286 0.07035167\n",
              "254 1e-05   26 0.4614286 0.07035167\n",
              "255 1e-04   26 0.2109524 0.08635271\n",
              "256 1e-03   26 0.1830952 0.07506149\n",
              "257 1e-02   26 0.2021429 0.08094032\n",
              "258 1e-01   26 0.2642857 0.08536082\n",
              "259 1e+00   26 0.4088095 0.11363378\n",
              "260 1e+01   26 0.4614286 0.07035167\n",
              "261 1e-08   27 0.4614286 0.07035167\n",
              "262 1e-07   27 0.4614286 0.07035167\n",
              "263 1e-06   27 0.4614286 0.07035167\n",
              "264 1e-05   27 0.4614286 0.07035167\n",
              "265 1e-04   27 0.2109524 0.08635271\n",
              "266 1e-03   27 0.1830952 0.07506149\n",
              "267 1e-02   27 0.2069048 0.07842659\n",
              "268 1e-01   27 0.2642857 0.08536082\n",
              "269 1e+00   27 0.4088095 0.11363378\n",
              "270 1e+01   27 0.4614286 0.07035167\n",
              "271 1e-08   28 0.4614286 0.07035167\n",
              "272 1e-07   28 0.4614286 0.07035167\n",
              "273 1e-06   28 0.4614286 0.07035167\n",
              "274 1e-05   28 0.4614286 0.07035167\n",
              "275 1e-04   28 0.2109524 0.08635271\n",
              "276 1e-03   28 0.1830952 0.07506149\n",
              "277 1e-02   28 0.2116667 0.07549659\n",
              "278 1e-01   28 0.2642857 0.08536082\n",
              "279 1e+00   28 0.4088095 0.11363378\n",
              "280 1e+01   28 0.4614286 0.07035167\n",
              "281 1e-08   29 0.4614286 0.07035167\n",
              "282 1e-07   29 0.4614286 0.07035167\n",
              "283 1e-06   29 0.4614286 0.07035167\n",
              "284 1e-05   29 0.4614286 0.07035167\n",
              "285 1e-04   29 0.2159524 0.08384236\n",
              "286 1e-03   29 0.1880952 0.08141016\n",
              "287 1e-02   29 0.2116667 0.07549659\n",
              "288 1e-01   29 0.2642857 0.08536082\n",
              "289 1e+00   29 0.4088095 0.11363378\n",
              "290 1e+01   29 0.4614286 0.07035167\n",
              "291 1e-08   30 0.4614286 0.07035167\n",
              "292 1e-07   30 0.4614286 0.07035167\n",
              "293 1e-06   30 0.4614286 0.07035167\n",
              "294 1e-05   30 0.4614286 0.07035167\n",
              "295 1e-04   30 0.2111905 0.07075565\n",
              "296 1e-03   30 0.1880952 0.08141016\n",
              "297 1e-02   30 0.2066667 0.07797028\n",
              "298 1e-01   30 0.2642857 0.08536082\n",
              "299 1e+00   30 0.4088095 0.11363378\n",
              "300 1e+01   30 0.4614286 0.07035167\n"
            ]
          },
          "metadata": {
            "tags": []
          }
        }
      ]
    },
    {
      "cell_type": "code",
      "metadata": {
        "id": "8OFcVr5nJK-0",
        "colab": {
          "base_uri": "https://localhost:8080/",
          "height": 104
        },
        "outputId": "23330de5-c845-4828-a111-ea65751ada43"
      },
      "source": [
        "# 가징좋은 파라미터를 저장해준다. \n",
        "\n",
        "best_parameter <- tune_summary$best.parameters\n",
        "best_parameter # best_parameter[1,1] == gamma / best_parameter[1,2] == cost"
      ],
      "execution_count": 25,
      "outputs": [
        {
          "output_type": "display_data",
          "data": {
            "text/plain": [
              "    gamma cost\n",
              "156 0.001 16  "
            ],
            "text/latex": "A data.frame: 1 × 2\n\\begin{tabular}{r|ll}\n  & gamma & cost\\\\\n  & <dbl> & <int>\\\\\n\\hline\n\t156 & 0.001 & 16\\\\\n\\end{tabular}\n",
            "text/markdown": "\nA data.frame: 1 × 2\n\n| <!--/--> | gamma &lt;dbl&gt; | cost &lt;int&gt; |\n|---|---|---|\n| 156 | 0.001 | 16 |\n\n",
            "text/html": [
              "<table>\n",
              "<caption>A data.frame: 1 × 2</caption>\n",
              "<thead>\n",
              "\t<tr><th></th><th scope=col>gamma</th><th scope=col>cost</th></tr>\n",
              "\t<tr><th></th><th scope=col>&lt;dbl&gt;</th><th scope=col>&lt;int&gt;</th></tr>\n",
              "</thead>\n",
              "<tbody>\n",
              "\t<tr><th scope=row>156</th><td>0.001</td><td>16</td></tr>\n",
              "</tbody>\n",
              "</table>\n"
            ]
          },
          "metadata": {
            "tags": []
          }
        }
      ]
    },
    {
      "cell_type": "code",
      "metadata": {
        "id": "4VO3FHdWJ0yf"
      },
      "source": [
        "# 가장 좋은 파라미터로 모델을 학습시켜준다. \n",
        "\n",
        "svm_AHD_tune <- svm(AHD ~ ., data = train, type = \"C-classification\", kernel = \"radial\",\n",
        " gamma = best_parameter[1,1], cost = best_parameter[1,2])"
      ],
      "execution_count": 26,
      "outputs": []
    },
    {
      "cell_type": "code",
      "metadata": {
        "id": "vf5Kg-I5KZXS",
        "colab": {
          "base_uri": "https://localhost:8080/",
          "height": 407
        },
        "outputId": "7b5b817f-67b3-47f2-8f70-f65d6a6368b4"
      },
      "source": [
        "summary(svm_AHD_tune)"
      ],
      "execution_count": 27,
      "outputs": [
        {
          "output_type": "display_data",
          "data": {
            "text/plain": [
              "\n",
              "Call:\n",
              "svm(formula = AHD ~ ., data = train, type = \"C-classification\", kernel = \"radial\", \n",
              "    gamma = best_parameter[1, 1], cost = best_parameter[1, 2])\n",
              "\n",
              "\n",
              "Parameters:\n",
              "   SVM-Type:  C-classification \n",
              " SVM-Kernel:  radial \n",
              "       cost:  16 \n",
              "\n",
              "Number of Support Vectors:  128\n",
              "\n",
              " ( 64 64 )\n",
              "\n",
              "\n",
              "Number of Classes:  2 \n",
              "\n",
              "Levels: \n",
              " No Yes\n",
              "\n",
              "\n"
            ]
          },
          "metadata": {
            "tags": []
          }
        }
      ]
    },
    {
      "cell_type": "code",
      "metadata": {
        "id": "hp5Efm-GKVos",
        "colab": {
          "base_uri": "https://localhost:8080/"
        },
        "outputId": "b128eb77-dd45-4e48-d3d7-0ddf8e626bbd"
      },
      "source": [
        "predict_value <- predict(svm_AHD_tune, test) %>% \n",
        " tibble(predict_value = .)\n",
        "predict_check <- test %>% select(AHD) %>% dplyr::bind_cols(., predict_value) \n",
        "predict_check %>% show()"
      ],
      "execution_count": 28,
      "outputs": [
        {
          "output_type": "stream",
          "text": [
            "\u001b[90m# A tibble: 89 x 2\u001b[39m\n",
            "   AHD   predict_value\n",
            "   \u001b[3m\u001b[90m<fct>\u001b[39m\u001b[23m \u001b[3m\u001b[90m<fct>\u001b[39m\u001b[23m        \n",
            "\u001b[90m 1\u001b[39m Yes   Yes          \n",
            "\u001b[90m 2\u001b[39m No    No           \n",
            "\u001b[90m 3\u001b[39m No    No           \n",
            "\u001b[90m 4\u001b[39m No    No           \n",
            "\u001b[90m 5\u001b[39m No    Yes          \n",
            "\u001b[90m 6\u001b[39m No    No           \n",
            "\u001b[90m 7\u001b[39m No    No           \n",
            "\u001b[90m 8\u001b[39m Yes   Yes          \n",
            "\u001b[90m 9\u001b[39m No    No           \n",
            "\u001b[90m10\u001b[39m No    No           \n",
            "\u001b[90m# … with 79 more rows\u001b[39m\n"
          ],
          "name": "stdout"
        }
      ]
    },
    {
      "cell_type": "code",
      "metadata": {
        "id": "ioP1QfViwpvn",
        "colab": {
          "base_uri": "https://localhost:8080/",
          "height": 436
        },
        "outputId": "c9acdcae-6ca4-4383-e0b3-6011c6b59b0f"
      },
      "source": [
        "# 디폴트보다 성능이 조금 향상된것을 볼 수 있다.\n",
        "# 성능 더 높이려면 tune의 범위를 늘려주면 된다. \n",
        "\n",
        "cm <- caret::confusionMatrix(predict_value$predict_value, test$AHD)\n",
        "draw_confusion_matrix(cm)"
      ],
      "execution_count": 29,
      "outputs": [
        {
          "output_type": "display_data",
          "data": {
            "image/png": "[encoded data removed]",
            "text/plain": [
              "Plot with title “DETAILS”"
            ]
          },
          "metadata": {
            "tags": [],
            "image/png": {
              "width": 420,
              "height": 420
            }
          }
        }
      ]
    },
    {
      "cell_type": "markdown",
      "metadata": {
        "id": "XUaaa7ISStc_"
      },
      "source": [
        "- - -\n",
        "\n",
        "#### **B. titanic**"
      ]
    },
    {
      "cell_type": "markdown",
      "metadata": {
        "id": "mK3ksBrkxgc_"
      },
      "source": [
        "* https://www.kaggle.com/c/titanic/data\n",
        "\n",
        "**<kaggle의 타이타닉 data>**\n",
        "\n",
        "  * survived : 생존=1, 죽음=0\n",
        "  * pclass : 승객 등급. 1등급=1, 2등급=2, 3등급=3\n",
        "  * sibsp : 함께 탑승한 형제 또는 배우자 수\n",
        "  * parch : 함께 탑승한 부모 또는 자녀 수\n",
        "  * ticket : 티켓 번호\n",
        "  * cabin : 선실 번호\n",
        "  * embarked : 탑승장소 S=Southhampton, C=Cherbourg, Q=Queenstown"
      ]
    },
    {
      "cell_type": "code",
      "metadata": {
        "id": "nWoKtbMKrJ_O",
        "cellView": "both",
        "colab": {
          "base_uri": "https://localhost:8080/"
        },
        "outputId": "715b6305-7350-45e4-9609-e37bb8c989bd"
      },
      "source": [
        "train <- read_csv(\"https://raw.githubusercontent.com/Jin0331/TA/master/data/titanic/train.csv\")"
      ],
      "execution_count": 30,
      "outputs": [
        {
          "output_type": "stream",
          "text": [
            "\n",
            "\u001b[36m──\u001b[39m \u001b[1m\u001b[1mColumn specification\u001b[1m\u001b[22m \u001b[36m────────────────────────────────────────────────────────\u001b[39m\n",
            "cols(\n",
            "  PassengerId = \u001b[32mcol_double()\u001b[39m,\n",
            "  Survived = \u001b[32mcol_double()\u001b[39m,\n",
            "  Pclass = \u001b[32mcol_double()\u001b[39m,\n",
            "  Name = \u001b[31mcol_character()\u001b[39m,\n",
            "  Sex = \u001b[31mcol_character()\u001b[39m,\n",
            "  Age = \u001b[32mcol_double()\u001b[39m,\n",
            "  SibSp = \u001b[32mcol_double()\u001b[39m,\n",
            "  Parch = \u001b[32mcol_double()\u001b[39m,\n",
            "  Ticket = \u001b[31mcol_character()\u001b[39m,\n",
            "  Fare = \u001b[32mcol_double()\u001b[39m,\n",
            "  Cabin = \u001b[31mcol_character()\u001b[39m,\n",
            "  Embarked = \u001b[31mcol_character()\u001b[39m\n",
            ")\n",
            "\n",
            "\n"
          ],
          "name": "stderr"
        }
      ]
    },
    {
      "cell_type": "code",
      "metadata": {
        "id": "FoUcmHWIxf8A",
        "cellView": "both",
        "colab": {
          "base_uri": "https://localhost:8080/"
        },
        "outputId": "4faf264e-f6d3-44c4-b7b7-1516742323e6"
      },
      "source": [
        "str(train)"
      ],
      "execution_count": 31,
      "outputs": [
        {
          "output_type": "stream",
          "text": [
            "tibble [891 × 12] (S3: spec_tbl_df/tbl_df/tbl/data.frame)\n",
            " $ PassengerId: num [1:891] 1 2 3 4 5 6 7 8 9 10 ...\n",
            " $ Survived   : num [1:891] 0 1 1 1 0 0 0 0 1 1 ...\n",
            " $ Pclass     : num [1:891] 3 1 3 1 3 3 1 3 3 2 ...\n",
            " $ Name       : chr [1:891] \"Braund, Mr. Owen Harris\" \"Cumings, Mrs. John Bradley (Florence Briggs Thayer)\" \"Heikkinen, Miss. Laina\" \"Futrelle, Mrs. Jacques Heath (Lily May Peel)\" ...\n",
            " $ Sex        : chr [1:891] \"male\" \"female\" \"female\" \"female\" ...\n",
            " $ Age        : num [1:891] 22 38 26 35 35 NA 54 2 27 14 ...\n",
            " $ SibSp      : num [1:891] 1 1 0 1 0 0 0 3 0 1 ...\n",
            " $ Parch      : num [1:891] 0 0 0 0 0 0 0 1 2 0 ...\n",
            " $ Ticket     : chr [1:891] \"A/5 21171\" \"PC 17599\" \"STON/O2. 3101282\" \"113803\" ...\n",
            " $ Fare       : num [1:891] 7.25 71.28 7.92 53.1 8.05 ...\n",
            " $ Cabin      : chr [1:891] NA \"C85\" NA \"C123\" ...\n",
            " $ Embarked   : chr [1:891] \"S\" \"C\" \"S\" \"S\" ...\n",
            " - attr(*, \"spec\")=\n",
            "  .. cols(\n",
            "  ..   PassengerId = \u001b[32mcol_double()\u001b[39m,\n",
            "  ..   Survived = \u001b[32mcol_double()\u001b[39m,\n",
            "  ..   Pclass = \u001b[32mcol_double()\u001b[39m,\n",
            "  ..   Name = \u001b[31mcol_character()\u001b[39m,\n",
            "  ..   Sex = \u001b[31mcol_character()\u001b[39m,\n",
            "  ..   Age = \u001b[32mcol_double()\u001b[39m,\n",
            "  ..   SibSp = \u001b[32mcol_double()\u001b[39m,\n",
            "  ..   Parch = \u001b[32mcol_double()\u001b[39m,\n",
            "  ..   Ticket = \u001b[31mcol_character()\u001b[39m,\n",
            "  ..   Fare = \u001b[32mcol_double()\u001b[39m,\n",
            "  ..   Cabin = \u001b[31mcol_character()\u001b[39m,\n",
            "  ..   Embarked = \u001b[31mcol_character()\u001b[39m\n",
            "  .. )\n"
          ],
          "name": "stdout"
        }
      ]
    },
    {
      "cell_type": "code",
      "metadata": {
        "id": "cY1odydB16zG",
        "cellView": "both",
        "colab": {
          "base_uri": "https://localhost:8080/",
          "height": 443
        },
        "outputId": "a3244be8-cf33-461c-f12e-de09d8e0b628"
      },
      "source": [
        "train %>% summary()"
      ],
      "execution_count": 32,
      "outputs": [
        {
          "output_type": "display_data",
          "data": {
            "text/plain": [
              "  PassengerId       Survived          Pclass          Name          \n",
              " Min.   :  1.0   Min.   :0.0000   Min.   :1.000   Length:891        \n",
              " 1st Qu.:223.5   1st Qu.:0.0000   1st Qu.:2.000   Class :character  \n",
              " Median :446.0   Median :0.0000   Median :3.000   Mode  :character  \n",
              " Mean   :446.0   Mean   :0.3838   Mean   :2.309                     \n",
              " 3rd Qu.:668.5   3rd Qu.:1.0000   3rd Qu.:3.000                     \n",
              " Max.   :891.0   Max.   :1.0000   Max.   :3.000                     \n",
              "                                                                    \n",
              "     Sex                 Age            SibSp           Parch       \n",
              " Length:891         Min.   : 0.42   Min.   :0.000   Min.   :0.0000  \n",
              " Class :character   1st Qu.:20.12   1st Qu.:0.000   1st Qu.:0.0000  \n",
              " Mode  :character   Median :28.00   Median :0.000   Median :0.0000  \n",
              "                    Mean   :29.70   Mean   :0.523   Mean   :0.3816  \n",
              "                    3rd Qu.:38.00   3rd Qu.:1.000   3rd Qu.:0.0000  \n",
              "                    Max.   :80.00   Max.   :8.000   Max.   :6.0000  \n",
              "                    NA's   :177                                     \n",
              "    Ticket               Fare           Cabin             Embarked        \n",
              " Length:891         Min.   :  0.00   Length:891         Length:891        \n",
              " Class :character   1st Qu.:  7.91   Class :character   Class :character  \n",
              " Mode  :character   Median : 14.45   Mode  :character   Mode  :character  \n",
              "                    Mean   : 32.20                                        \n",
              "                    3rd Qu.: 31.00                                        \n",
              "                    Max.   :512.33                                        \n",
              "                                                                          "
            ]
          },
          "metadata": {
            "tags": []
          }
        }
      ]
    },
    {
      "cell_type": "markdown",
      "metadata": {
        "id": "hg-bZnUDozhW"
      },
      "source": [
        "* 범주형 변수 확인"
      ]
    },
    {
      "cell_type": "code",
      "metadata": {
        "id": "D440rnZU2JSb",
        "cellView": "both",
        "colab": {
          "base_uri": "https://localhost:8080/",
          "height": 301
        },
        "outputId": "8ae609ba-6494-4aae-ea3b-eb9db5a547ba"
      },
      "source": [
        "train <- train %>% \n",
        " select(-PassengerId, -Name, -Cabin, -Ticket) %>% mutate_at(c(\"Survived\",\"Sex\",\"Embarked\", \"Pclass\"), factor)\n",
        "summary(train)"
      ],
      "execution_count": 33,
      "outputs": [
        {
          "output_type": "display_data",
          "data": {
            "text/plain": [
              " Survived Pclass      Sex           Age            SibSp           Parch       \n",
              " 0:549    1:216   female:314   Min.   : 0.42   Min.   :0.000   Min.   :0.0000  \n",
              " 1:342    2:184   male  :577   1st Qu.:20.12   1st Qu.:0.000   1st Qu.:0.0000  \n",
              "          3:491                Median :28.00   Median :0.000   Median :0.0000  \n",
              "                               Mean   :29.70   Mean   :0.523   Mean   :0.3816  \n",
              "                               3rd Qu.:38.00   3rd Qu.:1.000   3rd Qu.:0.0000  \n",
              "                               Max.   :80.00   Max.   :8.000   Max.   :6.0000  \n",
              "                               NA's   :177                                     \n",
              "      Fare        Embarked  \n",
              " Min.   :  0.00   C   :168  \n",
              " 1st Qu.:  7.91   Q   : 77  \n",
              " Median : 14.45   S   :644  \n",
              " Mean   : 32.20   NA's:  2  \n",
              " 3rd Qu.: 31.00             \n",
              " Max.   :512.33             \n",
              "                            "
            ]
          },
          "metadata": {
            "tags": []
          }
        }
      ]
    },
    {
      "cell_type": "markdown",
      "metadata": {
        "id": "ntcsCge-tBt-"
      },
      "source": [
        "* Hmisc::impute을 이용한 NA 값 대체(평균, 중앙값, 특정 숫자)\n",
        "\n",
        "* https://m.blog.naver.com/PostView.nhn?blogId=tjdudwo93&logNo=221142961499&proxyReferer=https:%2F%2Fwww.google.com%2F"
      ]
    },
    {
      "cell_type": "code",
      "metadata": {
        "id": "rQa6PCWisH1y",
        "colab": {
          "base_uri": "https://localhost:8080/"
        },
        "outputId": "4f27487c-54fc-471c-8e7e-53b07d12ae90"
      },
      "source": [
        "install.packages(\"Hmisc\")"
      ],
      "execution_count": 34,
      "outputs": [
        {
          "output_type": "stream",
          "text": [
            "Installing package into ‘/usr/local/lib/R/site-library’\n",
            "(as ‘lib’ is unspecified)\n",
            "\n",
            "also installing the dependencies ‘png’, ‘jpeg’, ‘checkmate’, ‘Formula’, ‘latticeExtra’, ‘gridExtra’, ‘htmlTable’, ‘viridis’\n",
            "\n",
            "\n"
          ],
          "name": "stderr"
        }
      ]
    },
    {
      "cell_type": "code",
      "metadata": {
        "id": "P6QTZq24vNGz",
        "colab": {
          "base_uri": "https://localhost:8080/"
        },
        "outputId": "94979b6f-bed8-4474-9585-c97f4067615f"
      },
      "source": [
        "# NA의 값을 중앙값으로 채워주는 방법\n",
        "\n",
        "library(Hmisc)\n",
        "train$Age <- impute(train$Age, median)"
      ],
      "execution_count": 35,
      "outputs": [
        {
          "output_type": "stream",
          "text": [
            "Loading required package: survival\n",
            "\n",
            "\n",
            "Attaching package: ‘survival’\n",
            "\n",
            "\n",
            "The following object is masked from ‘package:caret’:\n",
            "\n",
            "    cluster\n",
            "\n",
            "\n",
            "Loading required package: Formula\n",
            "\n",
            "\n",
            "Attaching package: ‘Hmisc’\n",
            "\n",
            "\n",
            "The following object is masked from ‘package:e1071’:\n",
            "\n",
            "    impute\n",
            "\n",
            "\n",
            "The following objects are masked from ‘package:dplyr’:\n",
            "\n",
            "    src, summarize\n",
            "\n",
            "\n",
            "The following objects are masked from ‘package:base’:\n",
            "\n",
            "    format.pval, units\n",
            "\n",
            "\n"
          ],
          "name": "stderr"
        }
      ]
    },
    {
      "cell_type": "code",
      "metadata": {
        "id": "4VYjGpBq0dbo",
        "colab": {
          "base_uri": "https://localhost:8080/",
          "height": 318
        },
        "outputId": "a4690b0f-3c5c-49a7-a42b-ccc495ed7560"
      },
      "source": [
        "train %>% summary()"
      ],
      "execution_count": 36,
      "outputs": [
        {
          "output_type": "stream",
          "text": [
            "\n",
            " 177 values imputed to 28 \n",
            "\n"
          ],
          "name": "stdout"
        },
        {
          "output_type": "display_data",
          "data": {
            "text/plain": [
              " Survived Pclass      Sex           Age            SibSp           Parch       \n",
              " 0:549    1:216   female:314   Min.   : 0.42   Min.   :0.000   Min.   :0.0000  \n",
              " 1:342    2:184   male  :577   1st Qu.:22.00   1st Qu.:0.000   1st Qu.:0.0000  \n",
              "          3:491                Median :28.00   Median :0.000   Median :0.0000  \n",
              "                               Mean   :29.36   Mean   :0.523   Mean   :0.3816  \n",
              "                               3rd Qu.:35.00   3rd Qu.:1.000   3rd Qu.:0.0000  \n",
              "                               Max.   :80.00   Max.   :8.000   Max.   :6.0000  \n",
              "      Fare        Embarked  \n",
              " Min.   :  0.00   C   :168  \n",
              " 1st Qu.:  7.91   Q   : 77  \n",
              " Median : 14.45   S   :644  \n",
              " Mean   : 32.20   NA's:  2  \n",
              " 3rd Qu.: 31.00             \n",
              " Max.   :512.33             "
            ]
          },
          "metadata": {
            "tags": []
          }
        }
      ]
    },
    {
      "cell_type": "code",
      "metadata": {
        "id": "tivXsaif3NS6"
      },
      "source": [
        "# NA의 값을 지워주는 방법\n",
        "\n",
        "train <- train %>% na.omit()"
      ],
      "execution_count": 37,
      "outputs": []
    },
    {
      "cell_type": "code",
      "metadata": {
        "id": "t08Gixc-ESqw",
        "colab": {
          "base_uri": "https://localhost:8080/",
          "height": 318
        },
        "outputId": "c53bbc78-0ad0-483a-e05a-ad2e1e90f694"
      },
      "source": [
        "train %>% summary()"
      ],
      "execution_count": 38,
      "outputs": [
        {
          "output_type": "stream",
          "text": [
            "\n",
            " 177 values imputed to 28 \n",
            "\n"
          ],
          "name": "stdout"
        },
        {
          "output_type": "display_data",
          "data": {
            "text/plain": [
              " Survived Pclass      Sex           Age            SibSp       \n",
              " 0:549    1:214   female:312   Min.   : 0.42   Min.   :0.0000  \n",
              " 1:340    2:184   male  :577   1st Qu.:22.00   1st Qu.:0.0000  \n",
              "          3:491                Median :28.00   Median :0.0000  \n",
              "                               Mean   :29.32   Mean   :0.5242  \n",
              "                               3rd Qu.:35.00   3rd Qu.:1.0000  \n",
              "                               Max.   :80.00   Max.   :8.0000  \n",
              "     Parch             Fare         Embarked\n",
              " Min.   :0.0000   Min.   :  0.000   C:168   \n",
              " 1st Qu.:0.0000   1st Qu.:  7.896   Q: 77   \n",
              " Median :0.0000   Median : 14.454   S:644   \n",
              " Mean   :0.3825   Mean   : 32.097           \n",
              " 3rd Qu.:0.0000   3rd Qu.: 31.000           \n",
              " Max.   :6.0000   Max.   :512.329           "
            ]
          },
          "metadata": {
            "tags": []
          }
        }
      ]
    },
    {
      "cell_type": "markdown",
      "metadata": {
        "id": "MuMWArUy_sAw"
      },
      "source": [
        "* **train을 이용한 SVM 모델 생성**"
      ]
    },
    {
      "cell_type": "code",
      "metadata": {
        "id": "82IfwdofFAq0",
        "colab": {
          "base_uri": "https://localhost:8080/",
          "height": 1000
        },
        "outputId": "0c4944d3-b312-4703-b040-4baca0235ef9"
      },
      "source": [
        "# 시간 오래걸림 \n",
        "\n",
        "tuned <- tune.svm(Survived ~ ., data = train, gamma = 10^(-8:1), cost = 1:30)\n",
        "tune_summary <- summary(tuned)\n",
        "tune_summary"
      ],
      "execution_count": 39,
      "outputs": [
        {
          "output_type": "display_data",
          "data": {
            "text/plain": [
              "\n",
              "Parameter tuning of ‘svm’:\n",
              "\n",
              "- sampling method: 10-fold cross validation \n",
              "\n",
              "- best parameters:\n",
              " gamma cost\n",
              "   0.1   18\n",
              "\n",
              "- best performance: 0.1698544 \n",
              "\n",
              "- Detailed performance results:\n",
              "    gamma cost     error dispersion\n",
              "1   1e-08    1 0.3823927 0.05254166\n",
              "2   1e-07    1 0.3823927 0.05254166\n",
              "3   1e-06    1 0.3823927 0.05254166\n",
              "4   1e-05    1 0.3823927 0.05254166\n",
              "5   1e-04    1 0.3823927 0.05254166\n",
              "6   1e-03    1 0.3745276 0.04091898\n",
              "7   1e-02    1 0.2104188 0.04154736\n",
              "8   1e-01    1 0.1766471 0.03212404\n",
              "9   1e+00    1 0.1945735 0.03618490\n",
              "10  1e+01    1 0.2799923 0.05944108\n",
              "11  1e-08    2 0.3823927 0.05254166\n",
              "12  1e-07    2 0.3823927 0.05254166\n",
              "13  1e-06    2 0.3823927 0.05254166\n",
              "14  1e-05    2 0.3823927 0.05254166\n",
              "15  1e-04    2 0.3823927 0.05254166\n",
              "16  1e-03    2 0.3149515 0.03076434\n",
              "17  1e-02    2 0.2025536 0.04091487\n",
              "18  1e-01    2 0.1721527 0.03172258\n",
              "19  1e+00    2 0.2035368 0.05181724\n",
              "20  1e+01    2 0.2788560 0.06020880\n",
              "21  1e-08    3 0.3823927 0.05254166\n",
              "22  1e-07    3 0.3823927 0.05254166\n",
              "23  1e-06    3 0.3823927 0.05254166\n",
              "24  1e-05    3 0.3823927 0.05254166\n",
              "25  1e-04    3 0.3823927 0.05254166\n",
              "26  1e-03    3 0.2643514 0.05307787\n",
              "27  1e-02    3 0.2036772 0.04173722\n",
              "28  1e-01    3 0.1743999 0.03670666\n",
              "29  1e+00    3 0.2102911 0.04863542\n",
              "30  1e+01    3 0.2855848 0.06603674\n",
              "31  1e-08    4 0.3823927 0.05254166\n",
              "32  1e-07    4 0.3823927 0.05254166\n",
              "33  1e-06    4 0.3823927 0.05254166\n",
              "34  1e-05    4 0.3823927 0.05254166\n",
              "35  1e-04    4 0.3812692 0.05132155\n",
              "36  1e-03    4 0.2204801 0.03565502\n",
              "37  1e-02    4 0.2036772 0.04173722\n",
              "38  1e-01    4 0.1788943 0.03787785\n",
              "39  1e+00    4 0.2080312 0.05147526\n",
              "40  1e+01    4 0.2855848 0.07134617\n",
              "41  1e-08    5 0.3823927 0.05254166\n",
              "42  1e-07    5 0.3823927 0.05254166\n",
              "43  1e-06    5 0.3823927 0.05254166\n",
              "44  1e-05    5 0.3823927 0.05254166\n",
              "45  1e-04    5 0.3790220 0.04812406\n",
              "46  1e-03    5 0.2025281 0.03783629\n",
              "47  1e-02    5 0.2014300 0.04372476\n",
              "48  1e-01    5 0.1777707 0.03946360\n",
              "49  1e+00    5 0.2091547 0.05145761\n",
              "50  1e+01    5 0.2878320 0.06832640\n",
              "51  1e-08    6 0.3823927 0.05254166\n",
              "52  1e-07    6 0.3823927 0.05254166\n",
              "53  1e-06    6 0.3823927 0.05254166\n",
              "54  1e-05    6 0.3823927 0.05254166\n",
              "55  1e-04    6 0.3767748 0.05075312\n",
              "56  1e-03    6 0.2092952 0.03917617\n",
              "57  1e-02    6 0.2025536 0.04259461\n",
              "58  1e-01    6 0.1777707 0.03493878\n",
              "59  1e+00    6 0.2091547 0.05007605\n",
              "60  1e+01    6 0.2855720 0.07034776\n",
              "61  1e-08    7 0.3823927 0.05254166\n",
              "62  1e-07    7 0.3823927 0.05254166\n",
              "63  1e-06    7 0.3823927 0.05254166\n",
              "64  1e-05    7 0.3823927 0.05254166\n",
              "65  1e-04    7 0.3745276 0.04987938\n",
              "66  1e-03    7 0.2149132 0.04027561\n",
              "67  1e-02    7 0.2014300 0.04175555\n",
              "68  1e-01    7 0.1766471 0.03298581\n",
              "69  1e+00    7 0.2046604 0.04588333\n",
              "70  1e+01    7 0.2855720 0.07034776\n",
              "71  1e-08    8 0.3823927 0.05254166\n",
              "72  1e-07    8 0.3823927 0.05254166\n",
              "73  1e-06    8 0.3823927 0.05254166\n",
              "74  1e-05    8 0.3823927 0.05254166\n",
              "75  1e-04    8 0.3711568 0.04578816\n",
              "76  1e-03    8 0.2149132 0.03885751\n",
              "77  1e-02    8 0.1980592 0.04067730\n",
              "78  1e-01    8 0.1721527 0.03344460\n",
              "79  1e+00    8 0.2069076 0.04569046\n",
              "80  1e+01    8 0.2855720 0.07034776\n",
              "81  1e-08    9 0.3823927 0.05254166\n",
              "82  1e-07    9 0.3823927 0.05254166\n",
              "83  1e-06    9 0.3823927 0.05254166\n",
              "84  1e-05    9 0.3823927 0.05254166\n",
              "85  1e-04    9 0.3711568 0.04093573\n",
              "86  1e-03    9 0.2160368 0.04003903\n",
              "87  1e-02    9 0.1980592 0.04067730\n",
              "88  1e-01    9 0.1721399 0.03248774\n",
              "89  1e+00    9 0.2057967 0.04347710\n",
              "90  1e+01    9 0.2855720 0.07250800\n",
              "91  1e-08   10 0.3823927 0.05254166\n",
              "92  1e-07   10 0.3823927 0.05254166\n",
              "93  1e-06   10 0.3823927 0.05254166\n",
              "94  1e-05   10 0.3823927 0.05254166\n",
              "95  1e-04   10 0.3745276 0.04091898\n",
              "96  1e-03   10 0.2160368 0.04073369\n",
              "97  1e-02   10 0.1946757 0.04018868\n",
              "98  1e-01   10 0.1732635 0.02984558\n",
              "99  1e+00   10 0.2057967 0.03977003\n",
              "100 1e+01   10 0.2833121 0.07434387\n",
              "101 1e-08   11 0.3823927 0.05254166\n",
              "102 1e-07   11 0.3823927 0.05254166\n",
              "103 1e-06   11 0.3823927 0.05254166\n",
              "104 1e-05   11 0.3823927 0.05254166\n",
              "105 1e-04   11 0.3700332 0.04006393\n",
              "106 1e-03   11 0.2171604 0.04081032\n",
              "107 1e-02   11 0.1946757 0.04018868\n",
              "108 1e-01   11 0.1698927 0.03394094\n",
              "109 1e+00   11 0.2080439 0.04155295\n",
              "110 1e+01   11 0.2833121 0.07434387\n",
              "111 1e-08   12 0.3823927 0.05254166\n",
              "112 1e-07   12 0.3823927 0.05254166\n",
              "113 1e-06   12 0.3823927 0.05254166\n",
              "114 1e-05   12 0.3823927 0.05254166\n",
              "115 1e-04   12 0.3632916 0.03631660\n",
              "116 1e-03   12 0.2171604 0.04081032\n",
              "117 1e-02   12 0.1946757 0.04053622\n",
              "118 1e-01   12 0.1721527 0.03547979\n",
              "119 1e+00   12 0.2091675 0.03873448\n",
              "120 1e+01   12 0.2833248 0.07126536\n",
              "121 1e-08   13 0.3823927 0.05254166\n",
              "122 1e-07   13 0.3823927 0.05254166\n",
              "123 1e-06   13 0.3823927 0.05254166\n",
              "124 1e-05   13 0.3823927 0.05254166\n",
              "125 1e-04   13 0.3576736 0.03925485\n",
              "126 1e-03   13 0.2160368 0.04003903\n",
              "127 1e-02   13 0.1946757 0.04053622\n",
              "128 1e-01   13 0.1698927 0.03352510\n",
              "129 1e+00   13 0.2091675 0.04153069\n",
              "130 1e+01   13 0.2822012 0.07000750\n",
              "131 1e-08   14 0.3823927 0.05254166\n",
              "132 1e-07   14 0.3823927 0.05254166\n",
              "133 1e-06   14 0.3823927 0.05254166\n",
              "134 1e-05   14 0.3823927 0.05254166\n",
              "135 1e-04   14 0.3419433 0.03699628\n",
              "136 1e-03   14 0.2149132 0.04164546\n",
              "137 1e-02   14 0.1957993 0.03988171\n",
              "138 1e-01   14 0.1743871 0.03622720\n",
              "139 1e+00   14 0.2102911 0.04147462\n",
              "140 1e+01   14 0.2822012 0.07000750\n",
              "141 1e-08   15 0.3823927 0.05254166\n",
              "142 1e-07   15 0.3823927 0.05254166\n",
              "143 1e-06   15 0.3823927 0.05254166\n",
              "144 1e-05   15 0.3823927 0.05254166\n",
              "145 1e-04   15 0.3340781 0.03467938\n",
              "146 1e-03   15 0.2149132 0.04164546\n",
              "147 1e-02   15 0.1946757 0.04053622\n",
              "148 1e-01   15 0.1710036 0.03398328\n",
              "149 1e+00   15 0.2102911 0.04147462\n",
              "150 1e+01   15 0.2822012 0.07000750\n",
              "151 1e-08   16 0.3823927 0.05254166\n",
              "152 1e-07   16 0.3823927 0.05254166\n",
              "153 1e-06   16 0.3823927 0.05254166\n",
              "154 1e-05   16 0.3823927 0.05254166\n",
              "155 1e-04   16 0.3329545 0.03594380\n",
              "156 1e-03   16 0.2137896 0.04250470\n",
              "157 1e-02   16 0.1946757 0.04053622\n",
              "158 1e-01   16 0.1721272 0.03366423\n",
              "159 1e+00   16 0.2114147 0.04172216\n",
              "160 1e+01   16 0.2810776 0.07209351\n",
              "161 1e-08   17 0.3823927 0.05254166\n",
              "162 1e-07   17 0.3823927 0.05254166\n",
              "163 1e-06   17 0.3823927 0.05254166\n",
              "164 1e-05   17 0.3823927 0.05254166\n",
              "165 1e-04   17 0.3261874 0.03490537\n",
              "166 1e-03   17 0.2137896 0.04250470\n",
              "167 1e-02   17 0.1957993 0.03988171\n",
              "168 1e-01   17 0.1698672 0.03291984\n",
              "169 1e+00   17 0.2114147 0.04172216\n",
              "170 1e+01   17 0.2810776 0.07363364\n",
              "171 1e-08   18 0.3823927 0.05254166\n",
              "172 1e-07   18 0.3823927 0.05254166\n",
              "173 1e-06   18 0.3823927 0.05254166\n",
              "174 1e-05   18 0.3823927 0.05254166\n",
              "175 1e-04   18 0.3228166 0.03575583\n",
              "176 1e-03   18 0.2137896 0.04250470\n",
              "177 1e-02   18 0.1969229 0.04024021\n",
              "178 1e-01   18 0.1698544 0.03241206\n",
              "179 1e+00   18 0.2114147 0.04172216\n",
              "180 1e+01   18 0.2810776 0.07363364\n",
              "181 1e-08   19 0.3823927 0.05254166\n",
              "182 1e-07   19 0.3823927 0.05254166\n",
              "183 1e-06   19 0.3823927 0.05254166\n",
              "184 1e-05   19 0.3823927 0.05254166\n",
              "185 1e-04   19 0.3183223 0.03164450\n",
              "186 1e-03   19 0.2137896 0.04250470\n",
              "187 1e-02   19 0.1969229 0.04024021\n",
              "188 1e-01   19 0.1709780 0.03255584\n",
              "189 1e+00   19 0.2114147 0.04172216\n",
              "190 1e+01   19 0.2810776 0.07363364\n",
              "191 1e-08   20 0.3823927 0.05254166\n",
              "192 1e-07   20 0.3823927 0.05254166\n",
              "193 1e-06   20 0.3823927 0.05254166\n",
              "194 1e-05   20 0.3823927 0.05254166\n",
              "195 1e-04   20 0.3149515 0.03076434\n",
              "196 1e-03   20 0.2137896 0.04250470\n",
              "197 1e-02   20 0.1935521 0.04080392\n",
              "198 1e-01   20 0.1709780 0.03255584\n",
              "199 1e+00   20 0.2136619 0.04310077\n",
              "200 1e+01   20 0.2822012 0.07237201\n",
              "201 1e-08   21 0.3823927 0.05254166\n",
              "202 1e-07   21 0.3823927 0.05254166\n",
              "203 1e-06   21 0.3823927 0.05254166\n",
              "204 1e-05   21 0.3823927 0.05254166\n",
              "205 1e-04   21 0.3104316 0.03328814\n",
              "206 1e-03   21 0.2137896 0.04250470\n",
              "207 1e-02   21 0.1935521 0.04080392\n",
              "208 1e-01   21 0.1743488 0.03141509\n",
              "209 1e+00   21 0.2147855 0.04158822\n",
              "210 1e+01   21 0.2810776 0.07401367\n",
              "211 1e-08   22 0.3823927 0.05254166\n",
              "212 1e-07   22 0.3823927 0.05254166\n",
              "213 1e-06   22 0.3823927 0.05254166\n",
              "214 1e-05   22 0.3823927 0.05254166\n",
              "215 1e-04   22 0.3059244 0.03348270\n",
              "216 1e-03   22 0.2137896 0.04250470\n",
              "217 1e-02   22 0.1913049 0.03877767\n",
              "218 1e-01   22 0.1765960 0.03040117\n",
              "219 1e+00   22 0.2147855 0.04225742\n",
              "220 1e+01   22 0.2799540 0.07522914\n",
              "221 1e-08   23 0.3823927 0.05254166\n",
              "222 1e-07   23 0.3823927 0.05254166\n",
              "223 1e-06   23 0.3823927 0.05254166\n",
              "224 1e-05   23 0.3823927 0.05254166\n",
              "225 1e-04   23 0.2980592 0.03457140\n",
              "226 1e-03   23 0.2137896 0.04250470\n",
              "227 1e-02   23 0.1901813 0.03930802\n",
              "228 1e-01   23 0.1810904 0.03276911\n",
              "229 1e+00   23 0.2159091 0.04170076\n",
              "230 1e+01   23 0.2822012 0.07295116\n",
              "231 1e-08   24 0.3823927 0.05254166\n",
              "232 1e-07   24 0.3823927 0.05254166\n",
              "233 1e-06   24 0.3823927 0.05254166\n",
              "234 1e-05   24 0.3823927 0.05254166\n",
              "235 1e-04   24 0.2935649 0.03549595\n",
              "236 1e-03   24 0.2137896 0.04250470\n",
              "237 1e-02   24 0.1890577 0.03836025\n",
              "238 1e-01   24 0.1810904 0.03276911\n",
              "239 1e+00   24 0.2159091 0.04493886\n",
              "240 1e+01   24 0.2822012 0.07390634\n",
              "241 1e-08   25 0.3823927 0.05254166\n",
              "242 1e-07   25 0.3823927 0.05254166\n",
              "243 1e-06   25 0.3823927 0.05254166\n",
              "244 1e-05   25 0.3823927 0.05254166\n",
              "245 1e-04   25 0.2924413 0.03492919\n",
              "246 1e-03   25 0.2137896 0.04250470\n",
              "247 1e-02   25 0.1890577 0.03836025\n",
              "248 1e-01   25 0.1822140 0.03291132\n",
              "249 1e+00   25 0.2170327 0.04469915\n",
              "250 1e+01   25 0.2810776 0.07363364\n",
              "251 1e-08   26 0.3823927 0.05254166\n",
              "252 1e-07   26 0.3823927 0.05254166\n",
              "253 1e-06   26 0.3823927 0.05254166\n",
              "254 1e-05   26 0.3823927 0.05254166\n",
              "255 1e-04   26 0.2879597 0.03894622\n",
              "256 1e-03   26 0.2137896 0.04250470\n",
              "257 1e-02   26 0.1890577 0.03836025\n",
              "258 1e-01   26 0.1855848 0.03553413\n",
              "259 1e+00   26 0.2170327 0.04563089\n",
              "260 1e+01   26 0.2822012 0.07466168\n",
              "261 1e-08   27 0.3823927 0.05254166\n",
              "262 1e-07   27 0.3823927 0.05254166\n",
              "263 1e-06   27 0.3823927 0.05254166\n",
              "264 1e-05   27 0.3823927 0.05254166\n",
              "265 1e-04   27 0.2834653 0.04671284\n",
              "266 1e-03   27 0.2137896 0.04250470\n",
              "267 1e-02   27 0.1879213 0.03608090\n",
              "268 1e-01   27 0.1855848 0.03553413\n",
              "269 1e+00   27 0.2192799 0.04894384\n",
              "270 1e+01   27 0.2844484 0.07514264\n",
              "271 1e-08   28 0.3823927 0.05254166\n",
              "272 1e-07   28 0.3823927 0.05254166\n",
              "273 1e-06   28 0.3823927 0.05254166\n",
              "274 1e-05   28 0.3823927 0.05254166\n",
              "275 1e-04   28 0.2800945 0.04752711\n",
              "276 1e-03   28 0.2137896 0.04250470\n",
              "277 1e-02   28 0.1879213 0.03608090\n",
              "278 1e-01   28 0.1855848 0.03553413\n",
              "279 1e+00   28 0.2192799 0.04894384\n",
              "280 1e+01   28 0.2844484 0.07514264\n",
              "281 1e-08   29 0.3823927 0.05254166\n",
              "282 1e-07   29 0.3823927 0.05254166\n",
              "283 1e-06   29 0.3823927 0.05254166\n",
              "284 1e-05   29 0.3823927 0.05254166\n",
              "285 1e-04   29 0.2722165 0.04876943\n",
              "286 1e-03   29 0.2137896 0.04250470\n",
              "287 1e-02   29 0.1879213 0.03608090\n",
              "288 1e-01   29 0.1867084 0.03511038\n",
              "289 1e+00   29 0.2192799 0.04894384\n",
              "290 1e+01   29 0.2844484 0.07514264\n",
              "291 1e-08   30 0.3823927 0.05254166\n",
              "292 1e-07   30 0.3823927 0.05254166\n",
              "293 1e-06   30 0.3823927 0.05254166\n",
              "294 1e-05   30 0.3823927 0.05254166\n",
              "295 1e-04   30 0.2665986 0.05584552\n",
              "296 1e-03   30 0.2137896 0.04250470\n",
              "297 1e-02   30 0.1879213 0.03608090\n",
              "298 1e-01   30 0.1867084 0.03511038\n",
              "299 1e+00   30 0.2192799 0.04894384\n",
              "300 1e+01   30 0.2855720 0.07535405\n"
            ]
          },
          "metadata": {
            "tags": []
          }
        }
      ]
    },
    {
      "cell_type": "code",
      "metadata": {
        "id": "UjfFVD30_l2j",
        "colab": {
          "base_uri": "https://localhost:8080/",
          "height": 461
        },
        "outputId": "2a00d21d-813d-496d-e1ae-fb7ecb928cad"
      },
      "source": [
        "# Linear은 파라미터로 gamma를 사용하지 않는다. \n",
        "\n",
        "tuned_l <- tune.svm(Survived ~ ., data = train, cost = 8^(-10:1), kernel = \"linear\")\n",
        "tune_summary_l <- summary(tuned_l)\n",
        "tune_summary_l"
      ],
      "execution_count": 40,
      "outputs": [
        {
          "output_type": "display_data",
          "data": {
            "text/plain": [
              "\n",
              "Parameter tuning of ‘svm’:\n",
              "\n",
              "- sampling method: 10-fold cross validation \n",
              "\n",
              "- best parameters:\n",
              "     cost\n",
              " 0.015625\n",
              "\n",
              "- best performance: 0.2125255 \n",
              "\n",
              "- Detailed performance results:\n",
              "           cost     error dispersion\n",
              "1  9.313226e-10 0.3824949 0.05688469\n",
              "2  7.450581e-09 0.3824949 0.05688469\n",
              "3  5.960464e-08 0.3824949 0.05688469\n",
              "4  4.768372e-07 0.3824949 0.05688469\n",
              "5  3.814697e-06 0.3824949 0.05688469\n",
              "6  3.051758e-05 0.3824949 0.05688469\n",
              "7  2.441406e-04 0.3824949 0.05688469\n",
              "8  1.953125e-03 0.3712206 0.04691481\n",
              "9  1.562500e-02 0.2125255 0.06815826\n",
              "10 1.250000e-01 0.2136747 0.06515805\n",
              "11 1.000000e+00 0.2136747 0.06515805\n",
              "12 8.000000e+00 0.2125511 0.06504321\n"
            ]
          },
          "metadata": {
            "tags": []
          }
        }
      ]
    },
    {
      "cell_type": "code",
      "metadata": {
        "id": "OAufIF2CSBMj",
        "colab": {
          "base_uri": "https://localhost:8080/",
          "height": 104
        },
        "outputId": "c039e120-8cbb-492b-fa48-5872c00ec462"
      },
      "source": [
        "best_parameter <- tune_summary$best.parameters\n",
        "best_parameter # best_parameter[1,1] == gamma / best_parameter[1,2] == cost"
      ],
      "execution_count": 41,
      "outputs": [
        {
          "output_type": "display_data",
          "data": {
            "text/plain": [
              "    gamma cost\n",
              "178 0.1   18  "
            ],
            "text/latex": "A data.frame: 1 × 2\n\\begin{tabular}{r|ll}\n  & gamma & cost\\\\\n  & <dbl> & <int>\\\\\n\\hline\n\t178 & 0.1 & 18\\\\\n\\end{tabular}\n",
            "text/markdown": "\nA data.frame: 1 × 2\n\n| <!--/--> | gamma &lt;dbl&gt; | cost &lt;int&gt; |\n|---|---|---|\n| 178 | 0.1 | 18 |\n\n",
            "text/html": [
              "<table>\n",
              "<caption>A data.frame: 1 × 2</caption>\n",
              "<thead>\n",
              "\t<tr><th></th><th scope=col>gamma</th><th scope=col>cost</th></tr>\n",
              "\t<tr><th></th><th scope=col>&lt;dbl&gt;</th><th scope=col>&lt;int&gt;</th></tr>\n",
              "</thead>\n",
              "<tbody>\n",
              "\t<tr><th scope=row>178</th><td>0.1</td><td>18</td></tr>\n",
              "</tbody>\n",
              "</table>\n"
            ]
          },
          "metadata": {
            "tags": []
          }
        }
      ]
    },
    {
      "cell_type": "code",
      "metadata": {
        "id": "-Mbr45Zc_nV0",
        "colab": {
          "base_uri": "https://localhost:8080/",
          "height": 121
        },
        "outputId": "bd705235-aeb1-4078-c1b8-ec64088c57b0"
      },
      "source": [
        "best_parameter_l <- tune_summary_l$best.parameters\n",
        "best_parameter_l # best_parameter[1,1] == cost"
      ],
      "execution_count": 42,
      "outputs": [
        {
          "output_type": "display_data",
          "data": {
            "text/plain": [
              "  cost    \n",
              "9 0.015625"
            ],
            "text/latex": "A data.frame: 1 × 1\n\\begin{tabular}{r|l}\n  & cost\\\\\n  & <dbl>\\\\\n\\hline\n\t9 & 0.015625\\\\\n\\end{tabular}\n",
            "text/markdown": "\nA data.frame: 1 × 1\n\n| <!--/--> | cost &lt;dbl&gt; |\n|---|---|\n| 9 | 0.015625 |\n\n",
            "text/html": [
              "<table>\n",
              "<caption>A data.frame: 1 × 1</caption>\n",
              "<thead>\n",
              "\t<tr><th></th><th scope=col>cost</th></tr>\n",
              "\t<tr><th></th><th scope=col>&lt;dbl&gt;</th></tr>\n",
              "</thead>\n",
              "<tbody>\n",
              "\t<tr><th scope=row>9</th><td>0.015625</td></tr>\n",
              "</tbody>\n",
              "</table>\n"
            ]
          },
          "metadata": {
            "tags": []
          }
        }
      ]
    },
    {
      "cell_type": "code",
      "metadata": {
        "id": "6imrPWxySEx5"
      },
      "source": [
        "svm_tune <- svm(Survived ~ ., data = train, type = \"C-classification\", kernel = \"radial\",\n",
        " gamma = best_parameter[1,1], cost = best_parameter[1,2])"
      ],
      "execution_count": 43,
      "outputs": []
    },
    {
      "cell_type": "code",
      "metadata": {
        "id": "t7bznSgV_KCI"
      },
      "source": [
        "svm_linear <- svm(Survived ~ ., data = train, type = \"C-classification\", kernel = \"linear\",\n",
        " cost = best_parameter[1,1])"
      ],
      "execution_count": 44,
      "outputs": []
    },
    {
      "cell_type": "markdown",
      "metadata": {
        "id": "vHdOojum5ttT"
      },
      "source": [
        "* 생성한 2개의 SVM 모델을 이용하여 kaggle에 제출 및 평가받기"
      ]
    },
    {
      "cell_type": "code",
      "metadata": {
        "id": "DPOdsGeF5hc_",
        "colab": {
          "base_uri": "https://localhost:8080/",
          "height": 765
        },
        "outputId": "5c1a33d9-48a6-4c3e-b4c3-e1e979a80481"
      },
      "source": [
        "# 캐글을 이용해 모델을 제출 및 평가한다. \n",
        "\n",
        "test <- read_csv(\"https://raw.githubusercontent.com/Jin0331/TA/master/data/titanic/test.csv\")\n",
        "test %>% summary()"
      ],
      "execution_count": 45,
      "outputs": [
        {
          "output_type": "stream",
          "text": [
            "\n",
            "\u001b[36m──\u001b[39m \u001b[1m\u001b[1mColumn specification\u001b[1m\u001b[22m \u001b[36m────────────────────────────────────────────────────────\u001b[39m\n",
            "cols(\n",
            "  PassengerId = \u001b[32mcol_double()\u001b[39m,\n",
            "  Pclass = \u001b[32mcol_double()\u001b[39m,\n",
            "  Name = \u001b[31mcol_character()\u001b[39m,\n",
            "  Sex = \u001b[31mcol_character()\u001b[39m,\n",
            "  Age = \u001b[32mcol_double()\u001b[39m,\n",
            "  SibSp = \u001b[32mcol_double()\u001b[39m,\n",
            "  Parch = \u001b[32mcol_double()\u001b[39m,\n",
            "  Ticket = \u001b[31mcol_character()\u001b[39m,\n",
            "  Fare = \u001b[32mcol_double()\u001b[39m,\n",
            "  Cabin = \u001b[31mcol_character()\u001b[39m,\n",
            "  Embarked = \u001b[31mcol_character()\u001b[39m\n",
            ")\n",
            "\n",
            "\n"
          ],
          "name": "stderr"
        },
        {
          "output_type": "display_data",
          "data": {
            "text/plain": [
              "  PassengerId         Pclass          Name               Sex           \n",
              " Min.   : 892.0   Min.   :1.000   Length:418         Length:418        \n",
              " 1st Qu.: 996.2   1st Qu.:1.000   Class :character   Class :character  \n",
              " Median :1100.5   Median :3.000   Mode  :character   Mode  :character  \n",
              " Mean   :1100.5   Mean   :2.266                                        \n",
              " 3rd Qu.:1204.8   3rd Qu.:3.000                                        \n",
              " Max.   :1309.0   Max.   :3.000                                        \n",
              "                                                                       \n",
              "      Age            SibSp            Parch           Ticket         \n",
              " Min.   : 0.17   Min.   :0.0000   Min.   :0.0000   Length:418        \n",
              " 1st Qu.:21.00   1st Qu.:0.0000   1st Qu.:0.0000   Class :character  \n",
              " Median :27.00   Median :0.0000   Median :0.0000   Mode  :character  \n",
              " Mean   :30.27   Mean   :0.4474   Mean   :0.3923                     \n",
              " 3rd Qu.:39.00   3rd Qu.:1.0000   3rd Qu.:0.0000                     \n",
              " Max.   :76.00   Max.   :8.0000   Max.   :9.0000                     \n",
              " NA's   :86                                                          \n",
              "      Fare            Cabin             Embarked        \n",
              " Min.   :  0.000   Length:418         Length:418        \n",
              " 1st Qu.:  7.896   Class :character   Class :character  \n",
              " Median : 14.454   Mode  :character   Mode  :character  \n",
              " Mean   : 35.627                                        \n",
              " 3rd Qu.: 31.500                                        \n",
              " Max.   :512.329                                        \n",
              " NA's   :1                                              "
            ]
          },
          "metadata": {
            "tags": []
          }
        }
      ]
    },
    {
      "cell_type": "markdown",
      "metadata": {
        "id": "QVF_LY_m6Z2G"
      },
      "source": [
        "* NA 값 추정(median)"
      ]
    },
    {
      "cell_type": "code",
      "metadata": {
        "id": "D_R839Dq5_x3",
        "colab": {
          "base_uri": "https://localhost:8080/",
          "height": 496
        },
        "outputId": "c3cd918a-e60a-49e8-dc76-0abf28df3369"
      },
      "source": [
        "# NA값을 중앙값으로 대체해준다. \n",
        "library(Hmisc)\n",
        "test$Age <- impute(test$Age, median)\n",
        "test$Fare <- impute(test$Age, median)\n",
        "test %>% summary()"
      ],
      "execution_count": 46,
      "outputs": [
        {
          "output_type": "stream",
          "text": [
            "\n",
            " 86 values imputed to 27 \n",
            "\n",
            "\n",
            " 86 values imputed to 27 \n",
            "\n"
          ],
          "name": "stdout"
        },
        {
          "output_type": "display_data",
          "data": {
            "text/plain": [
              "  PassengerId         Pclass          Name               Sex           \n",
              " Min.   : 892.0   Min.   :1.000   Length:418         Length:418        \n",
              " 1st Qu.: 996.2   1st Qu.:1.000   Class :character   Class :character  \n",
              " Median :1100.5   Median :3.000   Mode  :character   Mode  :character  \n",
              " Mean   :1100.5   Mean   :2.266                                        \n",
              " 3rd Qu.:1204.8   3rd Qu.:3.000                                        \n",
              " Max.   :1309.0   Max.   :3.000                                        \n",
              "      Age            SibSp            Parch           Ticket         \n",
              " Min.   : 0.17   Min.   :0.0000   Min.   :0.0000   Length:418        \n",
              " 1st Qu.:23.00   1st Qu.:0.0000   1st Qu.:0.0000   Class :character  \n",
              " Median :27.00   Median :0.0000   Median :0.0000   Mode  :character  \n",
              " Mean   :29.60   Mean   :0.4474   Mean   :0.3923                     \n",
              " 3rd Qu.:35.75   3rd Qu.:1.0000   3rd Qu.:0.0000                     \n",
              " Max.   :76.00   Max.   :8.0000   Max.   :9.0000                     \n",
              "      Fare          Cabin             Embarked        \n",
              " Min.   : 0.17   Length:418         Length:418        \n",
              " 1st Qu.:23.00   Class :character   Class :character  \n",
              " Median :27.00   Mode  :character   Mode  :character  \n",
              " Mean   :29.60                                        \n",
              " 3rd Qu.:35.75                                        \n",
              " Max.   :76.00                                        "
            ]
          },
          "metadata": {
            "tags": []
          }
        }
      ]
    },
    {
      "cell_type": "markdown",
      "metadata": {
        "id": "7Zg-lDK96c87"
      },
      "source": [
        "* 범주형 변수"
      ]
    },
    {
      "cell_type": "code",
      "metadata": {
        "id": "DsOkG9zS6Lbn",
        "colab": {
          "base_uri": "https://localhost:8080/",
          "height": 372
        },
        "outputId": "ce21c425-3661-4d9b-f0f2-7d546da6f70f"
      },
      "source": [
        "test <- test %>% \n",
        " select(-Name, -Cabin, -Ticket) %>% mutate_at(c(\"Sex\",\"Embarked\", \"Pclass\"), factor)\n",
        "summary(test)"
      ],
      "execution_count": 47,
      "outputs": [
        {
          "output_type": "stream",
          "text": [
            "\n",
            " 86 values imputed to 27 \n",
            "\n",
            "\n",
            " 86 values imputed to 27 \n",
            "\n"
          ],
          "name": "stdout"
        },
        {
          "output_type": "display_data",
          "data": {
            "text/plain": [
              "  PassengerId     Pclass      Sex           Age            SibSp       \n",
              " Min.   : 892.0   1:107   female:152   Min.   : 0.17   Min.   :0.0000  \n",
              " 1st Qu.: 996.2   2: 93   male  :266   1st Qu.:23.00   1st Qu.:0.0000  \n",
              " Median :1100.5   3:218                Median :27.00   Median :0.0000  \n",
              " Mean   :1100.5                        Mean   :29.60   Mean   :0.4474  \n",
              " 3rd Qu.:1204.8                        3rd Qu.:35.75   3rd Qu.:1.0000  \n",
              " Max.   :1309.0                        Max.   :76.00   Max.   :8.0000  \n",
              "     Parch             Fare       Embarked\n",
              " Min.   :0.0000   Min.   : 0.17   C:102   \n",
              " 1st Qu.:0.0000   1st Qu.:23.00   Q: 46   \n",
              " Median :0.0000   Median :27.00   S:270   \n",
              " Mean   :0.3923   Mean   :29.60           \n",
              " 3rd Qu.:0.0000   3rd Qu.:35.75           \n",
              " Max.   :9.0000   Max.   :76.00           "
            ]
          },
          "metadata": {
            "tags": []
          }
        }
      ]
    },
    {
      "cell_type": "markdown",
      "metadata": {
        "id": "edngjPnL68t_"
      },
      "source": [
        "* 예측(model_grid 모델, model_linear)"
      ]
    },
    {
      "cell_type": "code",
      "metadata": {
        "id": "CT6XoDZj6hvO",
        "colab": {
          "base_uri": "https://localhost:8080/"
        },
        "outputId": "e2bc5eee-723e-4e2e-d07b-f5a6673e7789"
      },
      "source": [
        "# model\n",
        "predict_value <- predict(svm_tune, test) %>% tibble(Survived = .)\n",
        "submission1 <- test %>% select(PassengerId) %>% dplyr::bind_cols(., predict_value) %>% \n",
        " write_csv(path = \"submission1.csv\")\n",
        "\n",
        " # model\n",
        "predict_value <- predict(svm_linear, test) %>% tibble(Survived = .)\n",
        "submission1 <- test %>% select(PassengerId) %>% dplyr::bind_cols(., predict_value) %>%\n",
        "  write_csv(path = \"submission2.csv\")"
      ],
      "execution_count": 48,
      "outputs": [
        {
          "output_type": "stream",
          "text": [
            "Warning message:\n",
            "“The `path` argument of `write_csv()` is deprecated as of readr 1.4.0.\n",
            "Please use the `file` argument instead.\n",
            "\u001b[90mThis warning is displayed once every 8 hours.\u001b[39m\n",
            "\u001b[90mCall `lifecycle::last_warnings()` to see where this warning was generated.\u001b[39m”\n"
          ],
          "name": "stderr"
        }
      ]
    },
    {
      "cell_type": "markdown",
      "metadata": {
        "id": "uZipWtJK8sDV"
      },
      "source": [
        "* https://rpubs.com/mohammedkb/Titanic"
      ]
    },
    {
      "cell_type": "markdown",
      "metadata": {
        "id": "C0Wty8CYu_l_"
      },
      "source": [
        "### Confusion Matrix plot code"
      ]
    },
    {
      "cell_type": "code",
      "metadata": {
        "id": "8qQti-1UkTLM"
      },
      "source": [
        "#https://stackoverflow.com/questions/23891140/r-how-to-visualize-confusion-matrix-using-the-caret-package\n",
        "\n",
        "draw_confusion_matrix <- function(cm) {\n",
        "\n",
        "  total <- sum(cm$table)\n",
        "  res <- as.numeric(cm$table)\n",
        "\n",
        "  # Generate color gradients. Palettes come from RColorBrewer.\n",
        "  greenPalette <- c(\"#F7FCF5\",\"#E5F5E0\",\"#C7E9C0\",\"#A1D99B\",\"#74C476\",\"#41AB5D\",\"#238B45\",\"#006D2C\",\"#00441B\")\n",
        "  redPalette <- c(\"#FFF5F0\",\"#FEE0D2\",\"#FCBBA1\",\"#FC9272\",\"#FB6A4A\",\"#EF3B2C\",\"#CB181D\",\"#A50F15\",\"#67000D\")\n",
        "  getColor <- function (greenOrRed = \"green\", amount = 0) {\n",
        "    if (amount == 0)\n",
        "      return(\"#FFFFFF\")\n",
        "    palette <- greenPalette\n",
        "    if (greenOrRed == \"red\")\n",
        "      palette <- redPalette\n",
        "    colorRampPalette(palette)(100)[10 + ceiling(90 * amount / total)]\n",
        "  }\n",
        "\n",
        "  # set the basic layout\n",
        "  layout(matrix(c(1,1,2)))\n",
        "  par(mar=c(2,2,2,2))\n",
        "  plot(c(100, 345), c(300, 450), type = \"n\", xlab=\"\", ylab=\"\", xaxt='n', yaxt='n')\n",
        "  title('CONFUSION MATRIX', cex.main=2)\n",
        "\n",
        "  # create the matrix \n",
        "  classes = colnames(cm$table)\n",
        "  rect(150, 430, 240, 370, col=getColor(\"green\", res[1]))\n",
        "  text(195, 435, classes[1], cex=1.2)\n",
        "  rect(250, 430, 340, 370, col=getColor(\"red\", res[3]))\n",
        "  text(295, 435, classes[2], cex=1.2)\n",
        "  text(125, 370, 'Predicted', cex=1.3, srt=90, font=2)\n",
        "  text(245, 450, 'Actual', cex=1.3, font=2)\n",
        "  rect(150, 305, 240, 365, col=getColor(\"red\", res[2]))\n",
        "  rect(250, 305, 340, 365, col=getColor(\"green\", res[4]))\n",
        "  text(140, 400, classes[1], cex=1.2, srt=90)\n",
        "  text(140, 335, classes[2], cex=1.2, srt=90)\n",
        "\n",
        "  # add in the cm results\n",
        "  text(195, 400, res[1], cex=1.6, font=2, col='white')\n",
        "  text(195, 335, res[2], cex=1.6, font=2, col='white')\n",
        "  text(295, 400, res[3], cex=1.6, font=2, col='white')\n",
        "  text(295, 335, res[4], cex=1.6, font=2, col='white')\n",
        "\n",
        "  # add in the specifics \n",
        "  plot(c(100, 0), c(100, 0), type = \"n\", xlab=\"\", ylab=\"\", main = \"DETAILS\", xaxt='n', yaxt='n')\n",
        "  text(10, 85, names(cm$byClass[1]), cex=1.2, font=2)\n",
        "  text(10, 70, round(as.numeric(cm$byClass[1]), 3), cex=1.2)\n",
        "  text(30, 85, names(cm$byClass[2]), cex=1.2, font=2)\n",
        "  text(30, 70, round(as.numeric(cm$byClass[2]), 3), cex=1.2)\n",
        "  text(50, 85, names(cm$byClass[5]), cex=1.2, font=2)\n",
        "  text(50, 70, round(as.numeric(cm$byClass[5]), 3), cex=1.2)\n",
        "  text(70, 85, names(cm$byClass[6]), cex=1.2, font=2)\n",
        "  text(70, 70, round(as.numeric(cm$byClass[6]), 3), cex=1.2)\n",
        "  text(90, 85, names(cm$byClass[7]), cex=1.2, font=2)\n",
        "  text(90, 70, round(as.numeric(cm$byClass[7]), 3), cex=1.2)\n",
        "\n",
        "  # add in the accuracy information \n",
        "  text(30, 35, names(cm$overall[1]), cex=1.5, font=2)\n",
        "  text(30, 20, round(as.numeric(cm$overall[1]), 3), cex=1.4)\n",
        "  text(70, 35, names(cm$overall[2]), cex=1.5, font=2)\n",
        "  text(70, 20, round(as.numeric(cm$overall[2]), 3), cex=1.4)\n",
        "}"
      ],
      "execution_count": 19,
      "outputs": []
    },
    {
      "cell_type": "code",
      "metadata": {
        "id": "WT0LSBoqo2mW"
      },
      "source": [
        ""
      ],
      "execution_count": null,
      "outputs": []
    }
  ]
}