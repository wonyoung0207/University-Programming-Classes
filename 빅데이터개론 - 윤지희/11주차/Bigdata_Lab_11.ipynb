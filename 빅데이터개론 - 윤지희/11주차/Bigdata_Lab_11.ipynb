{
  "nbformat": 4,
  "nbformat_minor": 0,
  "metadata": {
    "colab": {
      "name": "Bigdata_Lab_11.ipynb",
      "provenance": [],
      "collapsed_sections": []
    },
    "kernelspec": {
      "display_name": "R",
      "name": "ir"
    }
  },
  "cells": [
    {
      "cell_type": "markdown",
      "metadata": {
        "id": "NqwIc2xhQqLu"
      },
      "source": [
        "# **빅데이터 개론 Lab 11 - 교차분석, 데이터베이스 연동**\n",
        "\n",
        "참고자료 : https://www.notion.so/TA-2689a38b5289413a82671d3956fea103\n",
        "\n",
        "- - -\n",
        "\n",
        "\n"
      ]
    },
    {
      "cell_type": "markdown",
      "metadata": {
        "id": "kY2B7MApvE-w"
      },
      "source": [
        "### **<교차분석>**\n",
        "\n",
        "* 두 범주형 변수 간에 연관관계(association)가 있는지의 여부를 판단하고자 하는 경우 교차표를 작성하여 변수들 간의 관계를 분석한다.\n",
        "\n",
        " - 이를 교차분석 혹은 χ2(chi-square) 검정(test)이라고 한다. 교차분석은 두 변수의 빈도표를 교차 시킨다는 의미로 해석되며, 교차분석에 사용되는 검정 통계량이 ``χ2 -분포를 따르므로 χ2 - 검정``으로 부른다.\n",
        "\n",
        " - 교차표(cross tabulation), 분할표(contingency table): 각 범주형 변수에 대한 빈도표를 행과 열로 결합시켜 놓은 형태이다. 일반적으로 행에는 설명(독립)변수에 해당 하는 변수를 할당하고, 열에는 반응(종속)변수를 할당한다. \n"
      ]
    },
    {
      "cell_type": "code",
      "metadata": {
        "id": "_UOM2LM4BcfH",
        "outputId": "e9029ed5-6902-45f4-9b2d-a6369367ac47",
        "colab": {
          "base_uri": "https://localhost:8080/"
        }
      },
      "source": [
        "install.packages(c(\"tidyverse\", \"data.table\", \"gmodels\"))\n",
        "library(tidyverse)\n",
        "library(data.table)\n",
        "library(gmodels)\n",
        "options(repr.plot.width=13, repr.plot.height=13)"
      ],
      "execution_count": null,
      "outputs": [
        {
          "output_type": "stream",
          "text": [
            "Installing packages into ‘/usr/local/lib/R/site-library’\n",
            "(as ‘lib’ is unspecified)\n",
            "\n",
            "also installing the dependencies ‘gtools’, ‘gdata’\n",
            "\n",
            "\n",
            "── \u001b[1mAttaching packages\u001b[22m ─────────────────────────────────────── tidyverse 1.3.0 ──\n",
            "\n",
            "\u001b[32m✔\u001b[39m \u001b[34mggplot2\u001b[39m 3.3.2     \u001b[32m✔\u001b[39m \u001b[34mpurrr  \u001b[39m 0.3.4\n",
            "\u001b[32m✔\u001b[39m \u001b[34mtibble \u001b[39m 3.0.4     \u001b[32m✔\u001b[39m \u001b[34mdplyr  \u001b[39m 1.0.2\n",
            "\u001b[32m✔\u001b[39m \u001b[34mtidyr  \u001b[39m 1.1.2     \u001b[32m✔\u001b[39m \u001b[34mstringr\u001b[39m 1.4.0\n",
            "\u001b[32m✔\u001b[39m \u001b[34mreadr  \u001b[39m 1.4.0     \u001b[32m✔\u001b[39m \u001b[34mforcats\u001b[39m 0.5.0\n",
            "\n",
            "── \u001b[1mConflicts\u001b[22m ────────────────────────────────────────── tidyverse_conflicts() ──\n",
            "\u001b[31m✖\u001b[39m \u001b[34mdplyr\u001b[39m::\u001b[32mfilter()\u001b[39m masks \u001b[34mstats\u001b[39m::filter()\n",
            "\u001b[31m✖\u001b[39m \u001b[34mdplyr\u001b[39m::\u001b[32mlag()\u001b[39m    masks \u001b[34mstats\u001b[39m::lag()\n",
            "\n",
            "\n",
            "Attaching package: ‘data.table’\n",
            "\n",
            "\n",
            "The following objects are masked from ‘package:dplyr’:\n",
            "\n",
            "    between, first, last\n",
            "\n",
            "\n",
            "The following object is masked from ‘package:purrr’:\n",
            "\n",
            "    transpose\n",
            "\n",
            "\n"
          ],
          "name": "stderr"
        }
      ]
    },
    {
      "cell_type": "markdown",
      "metadata": {
        "id": "tiAN-wIRwuJ9"
      },
      "source": [
        "#### **A. 예제 1**\n",
        "\n",
        "---\n"
      ]
    },
    {
      "cell_type": "markdown",
      "metadata": {
        "id": "7NjIVZzqc1N5"
      },
      "source": [
        "1. **HR(Human Resource, 인사관리)_연습데이터([링크](https://www.dropbox.com/sh/xx1w2syi768kfu0/AACZgxgo1fcxyDMgv9U-iTz8a?dl=0))**\n",
        "\n",
        "* 변수 설명\n",
        "\n",
        "```\n",
        "satisfaction_level : 직무 만족도\n",
        "last_evaluation : 마지막 평가점수\n",
        "number_project : 진행 프로젝트 수\n",
        "average_monthly_hours : 월평균 근무시간\n",
        "time_spend_company : 근속년수\n",
        "work_accident : 사건사고 여부(0: 없음, 1: 있음, 범주형)\n",
        "left : 이직 여부(0: 잔류, 1: 이직, 범주형)\n",
        "promotion_last_5years: 최근 5년간 승진여부(0: 승진 x, 1: 승진, 범주형)\n",
        "sales : 부서(범주형)\n",
        "salary : 임금 수준(범주형)\n",
        "```\n"
      ]
    },
    {
      "cell_type": "code",
      "metadata": {
        "id": "M0LVsaGdcbDm"
      },
      "source": [
        "hr_DF <- fread(\"https://raw.githubusercontent.com/Jin0331/TA/master/data/HR_comma_sep.csv\", sep = \",\") %>% as_tibble()"
      ],
      "execution_count": null,
      "outputs": []
    },
    {
      "cell_type": "code",
      "metadata": {
        "id": "DROEyYyPUj1C",
        "outputId": "aca72b53-5e55-48dd-fea1-f3e4dec38539",
        "colab": {
          "base_uri": "https://localhost:8080/"
        }
      },
      "source": [
        "hr_DF %>% str()"
      ],
      "execution_count": null,
      "outputs": [
        {
          "output_type": "stream",
          "text": [
            "tibble [14,999 × 10] (S3: tbl_df/tbl/data.frame)\n",
            " $ satisfaction_level   : num [1:14999] 0.38 0.8 0.11 0.72 0.37 0.41 0.1 0.92 0.89 0.42 ...\n",
            " $ last_evaluation      : num [1:14999] 0.53 0.86 0.88 0.87 0.52 0.5 0.77 0.85 1 0.53 ...\n",
            " $ number_project       : int [1:14999] 2 5 7 5 2 2 6 5 5 2 ...\n",
            " $ average_montly_hours : int [1:14999] 157 262 272 223 159 153 247 259 224 142 ...\n",
            " $ time_spend_company   : int [1:14999] 3 6 4 5 3 3 4 5 5 3 ...\n",
            " $ Work_accident        : int [1:14999] 0 0 0 0 0 0 0 0 0 0 ...\n",
            " $ left                 : int [1:14999] 1 1 1 1 1 1 1 1 1 1 ...\n",
            " $ promotion_last_5years: int [1:14999] 0 0 0 0 0 0 0 0 0 0 ...\n",
            " $ sales                : chr [1:14999] \"sales\" \"sales\" \"sales\" \"sales\" ...\n",
            " $ salary               : chr [1:14999] \"low\" \"medium\" \"medium\" \"low\" ...\n",
            " - attr(*, \".internal.selfref\")=<externalptr> \n"
          ],
          "name": "stdout"
        }
      ]
    },
    {
      "cell_type": "code",
      "metadata": {
        "id": "NSJx9ofMv1Ba",
        "outputId": "cc745e24-6fb5-4dd5-f3b4-7ce853cc381a",
        "colab": {
          "base_uri": "https://localhost:8080/",
          "height": 395
        }
      },
      "source": [
        "hr_DF %>% summary()"
      ],
      "execution_count": null,
      "outputs": [
        {
          "output_type": "display_data",
          "data": {
            "text/plain": [
              " satisfaction_level last_evaluation  number_project  average_montly_hours\n",
              " Min.   :0.0900     Min.   :0.3600   Min.   :2.000   Min.   : 96.0       \n",
              " 1st Qu.:0.4400     1st Qu.:0.5600   1st Qu.:3.000   1st Qu.:156.0       \n",
              " Median :0.6400     Median :0.7200   Median :4.000   Median :200.0       \n",
              " Mean   :0.6128     Mean   :0.7161   Mean   :3.803   Mean   :201.1       \n",
              " 3rd Qu.:0.8200     3rd Qu.:0.8700   3rd Qu.:5.000   3rd Qu.:245.0       \n",
              " Max.   :1.0000     Max.   :1.0000   Max.   :7.000   Max.   :310.0       \n",
              " time_spend_company Work_accident         left        promotion_last_5years\n",
              " Min.   : 2.000     Min.   :0.0000   Min.   :0.0000   Min.   :0.00000      \n",
              " 1st Qu.: 3.000     1st Qu.:0.0000   1st Qu.:0.0000   1st Qu.:0.00000      \n",
              " Median : 3.000     Median :0.0000   Median :0.0000   Median :0.00000      \n",
              " Mean   : 3.498     Mean   :0.1446   Mean   :0.2381   Mean   :0.02127      \n",
              " 3rd Qu.: 4.000     3rd Qu.:0.0000   3rd Qu.:0.0000   3rd Qu.:0.00000      \n",
              " Max.   :10.000     Max.   :1.0000   Max.   :1.0000   Max.   :1.00000      \n",
              "    sales              salary         \n",
              " Length:14999       Length:14999      \n",
              " Class :character   Class :character  \n",
              " Mode  :character   Mode  :character  \n",
              "                                      \n",
              "                                      \n",
              "                                      "
            ]
          },
          "metadata": {
            "tags": []
          }
        }
      ]
    },
    {
      "cell_type": "markdown",
      "metadata": {
        "id": "TSSxKvv8k4fP"
      },
      "source": [
        "* 범주형 변수 확인"
      ]
    },
    {
      "cell_type": "code",
      "metadata": {
        "id": "cGQoIIMqkcUt",
        "outputId": "02c51354-f53a-46f9-c6b7-73c0d30ded95",
        "colab": {
          "base_uri": "https://localhost:8080/",
          "height": 34
        }
      },
      "source": [
        "hr_DF$sales %>% unique()"
      ],
      "execution_count": null,
      "outputs": [
        {
          "output_type": "display_data",
          "data": {
            "text/html": [
              "<style>\n",
              ".list-inline {list-style: none; margin:0; padding: 0}\n",
              ".list-inline>li {display: inline-block}\n",
              ".list-inline>li:not(:last-child)::after {content: \"\\00b7\"; padding: 0 .5ex}\n",
              "</style>\n",
              "<ol class=list-inline><li>'sales'</li><li>'accounting'</li><li>'hr'</li><li>'technical'</li><li>'support'</li><li>'management'</li><li>'IT'</li><li>'product_mng'</li><li>'marketing'</li><li>'RandD'</li></ol>\n"
            ],
            "text/latex": "\\begin{enumerate*}\n\\item 'sales'\n\\item 'accounting'\n\\item 'hr'\n\\item 'technical'\n\\item 'support'\n\\item 'management'\n\\item 'IT'\n\\item 'product\\_mng'\n\\item 'marketing'\n\\item 'RandD'\n\\end{enumerate*}\n",
            "text/markdown": "1. 'sales'\n2. 'accounting'\n3. 'hr'\n4. 'technical'\n5. 'support'\n6. 'management'\n7. 'IT'\n8. 'product_mng'\n9. 'marketing'\n10. 'RandD'\n\n\n",
            "text/plain": [
              " [1] \"sales\"       \"accounting\"  \"hr\"          \"technical\"   \"support\"    \n",
              " [6] \"management\"  \"IT\"          \"product_mng\" \"marketing\"   \"RandD\"      "
            ]
          },
          "metadata": {
            "tags": []
          }
        }
      ]
    },
    {
      "cell_type": "code",
      "metadata": {
        "id": "PFpOLqmTkzxo",
        "outputId": "3d86fc9e-9013-43df-cc8e-bd5bc8f967f2",
        "colab": {
          "base_uri": "https://localhost:8080/",
          "height": 34
        }
      },
      "source": [
        "hr_DF$salary %>% unique()"
      ],
      "execution_count": null,
      "outputs": [
        {
          "output_type": "display_data",
          "data": {
            "text/html": [
              "<style>\n",
              ".list-inline {list-style: none; margin:0; padding: 0}\n",
              ".list-inline>li {display: inline-block}\n",
              ".list-inline>li:not(:last-child)::after {content: \"\\00b7\"; padding: 0 .5ex}\n",
              "</style>\n",
              "<ol class=list-inline><li>'low'</li><li>'medium'</li><li>'high'</li></ol>\n"
            ],
            "text/latex": "\\begin{enumerate*}\n\\item 'low'\n\\item 'medium'\n\\item 'high'\n\\end{enumerate*}\n",
            "text/markdown": "1. 'low'\n2. 'medium'\n3. 'high'\n\n\n",
            "text/plain": [
              "[1] \"low\"    \"medium\" \"high\"  "
            ]
          },
          "metadata": {
            "tags": []
          }
        }
      ]
    },
    {
      "cell_type": "code",
      "metadata": {
        "id": "YsxyhuWYlEoQ",
        "outputId": "3a431f0f-57d8-4913-bdca-5fd2aa1fbecc",
        "colab": {
          "base_uri": "https://localhost:8080/",
          "height": 34
        }
      },
      "source": [
        "hr_DF$Work_accident %>% unique()"
      ],
      "execution_count": null,
      "outputs": [
        {
          "output_type": "display_data",
          "data": {
            "text/html": [
              "<style>\n",
              ".list-inline {list-style: none; margin:0; padding: 0}\n",
              ".list-inline>li {display: inline-block}\n",
              ".list-inline>li:not(:last-child)::after {content: \"\\00b7\"; padding: 0 .5ex}\n",
              "</style>\n",
              "<ol class=list-inline><li>0</li><li>1</li></ol>\n"
            ],
            "text/latex": "\\begin{enumerate*}\n\\item 0\n\\item 1\n\\end{enumerate*}\n",
            "text/markdown": "1. 0\n2. 1\n\n\n",
            "text/plain": [
              "[1] 0 1"
            ]
          },
          "metadata": {
            "tags": []
          }
        }
      ]
    },
    {
      "cell_type": "code",
      "metadata": {
        "id": "8WXLnVpNlNTT",
        "outputId": "8e1b85f2-7a2c-4baf-d712-fec7b65ffd10",
        "colab": {
          "base_uri": "https://localhost:8080/",
          "height": 34
        }
      },
      "source": [
        "hr_DF$left %>% unique()"
      ],
      "execution_count": null,
      "outputs": [
        {
          "output_type": "display_data",
          "data": {
            "text/html": [
              "<style>\n",
              ".list-inline {list-style: none; margin:0; padding: 0}\n",
              ".list-inline>li {display: inline-block}\n",
              ".list-inline>li:not(:last-child)::after {content: \"\\00b7\"; padding: 0 .5ex}\n",
              "</style>\n",
              "<ol class=list-inline><li>1</li><li>0</li></ol>\n"
            ],
            "text/latex": "\\begin{enumerate*}\n\\item 1\n\\item 0\n\\end{enumerate*}\n",
            "text/markdown": "1. 1\n2. 0\n\n\n",
            "text/plain": [
              "[1] 1 0"
            ]
          },
          "metadata": {
            "tags": []
          }
        }
      ]
    },
    {
      "cell_type": "code",
      "metadata": {
        "id": "4dCZbI5XlR1y",
        "outputId": "6f47ef35-a511-495f-c1fa-7c3f430e2cc6",
        "colab": {
          "base_uri": "https://localhost:8080/",
          "height": 34
        }
      },
      "source": [
        "hr_DF$promotion_last_5years %>% unique()"
      ],
      "execution_count": null,
      "outputs": [
        {
          "output_type": "display_data",
          "data": {
            "text/html": [
              "<style>\n",
              ".list-inline {list-style: none; margin:0; padding: 0}\n",
              ".list-inline>li {display: inline-block}\n",
              ".list-inline>li:not(:last-child)::after {content: \"\\00b7\"; padding: 0 .5ex}\n",
              "</style>\n",
              "<ol class=list-inline><li>0</li><li>1</li></ol>\n"
            ],
            "text/latex": "\\begin{enumerate*}\n\\item 0\n\\item 1\n\\end{enumerate*}\n",
            "text/markdown": "1. 0\n2. 1\n\n\n",
            "text/plain": [
              "[1] 0 1"
            ]
          },
          "metadata": {
            "tags": []
          }
        }
      ]
    },
    {
      "cell_type": "markdown",
      "metadata": {
        "id": "S-bSCMrklzuc"
      },
      "source": [
        "* mutate를 이용한 데이터 타입 변경(int or chr ---> factor)"
      ]
    },
    {
      "cell_type": "code",
      "metadata": {
        "id": "CnhUVUaLlzL5",
        "outputId": "3933c73e-376f-41a7-8ff8-762c5b816ce1",
        "colab": {
          "base_uri": "https://localhost:8080/"
        }
      },
      "source": [
        "## mutate_at을 이용해 한번에 여러 행값을 넘겨준 후, facter형으로 바꿔준다. \n",
        "## levels = 몇개의 종류가 있는지 알려줌 => ex) sales는 총 10가지 종류가 있는데, 그것을 다 범주형으로 바꿔줬다.\n",
        "\n",
        "hr_DF <- hr_DF %>% mutate_at(`.vars` = c(\"sales\", \"salary\", \"Work_accident\", \"left\", \"promotion_last_5years\"), `.funs` = as.factor)\n",
        "hr_DF %>% str()"
      ],
      "execution_count": null,
      "outputs": [
        {
          "output_type": "stream",
          "text": [
            "tibble [14,999 × 10] (S3: tbl_df/tbl/data.frame)\n",
            " $ satisfaction_level   : num [1:14999] 0.38 0.8 0.11 0.72 0.37 0.41 0.1 0.92 0.89 0.42 ...\n",
            " $ last_evaluation      : num [1:14999] 0.53 0.86 0.88 0.87 0.52 0.5 0.77 0.85 1 0.53 ...\n",
            " $ number_project       : int [1:14999] 2 5 7 5 2 2 6 5 5 2 ...\n",
            " $ average_montly_hours : int [1:14999] 157 262 272 223 159 153 247 259 224 142 ...\n",
            " $ time_spend_company   : int [1:14999] 3 6 4 5 3 3 4 5 5 3 ...\n",
            " $ Work_accident        : Factor w/ 2 levels \"0\",\"1\": 1 1 1 1 1 1 1 1 1 1 ...\n",
            " $ left                 : Factor w/ 2 levels \"0\",\"1\": 2 2 2 2 2 2 2 2 2 2 ...\n",
            " $ promotion_last_5years: Factor w/ 2 levels \"0\",\"1\": 1 1 1 1 1 1 1 1 1 1 ...\n",
            " $ sales                : Factor w/ 10 levels \"accounting\",\"hr\",..: 8 8 8 8 8 8 8 8 8 8 ...\n",
            " $ salary               : Factor w/ 3 levels \"high\",\"low\",\"medium\": 2 3 3 2 2 2 2 2 2 2 ...\n",
            " - attr(*, \".internal.selfref\")=<externalptr> \n"
          ],
          "name": "stdout"
        }
      ]
    },
    {
      "cell_type": "markdown",
      "metadata": {
        "id": "fbe9EK_axqeu"
      },
      "source": [
        "* left(이직여부)와 salary(연봉수준)의 연관성 검사"
      ]
    },
    {
      "cell_type": "code",
      "metadata": {
        "id": "HgWD4GCLwtcy",
        "outputId": "59f69f63-48f2-42d8-af25-b6c845b87ba7",
        "colab": {
          "base_uri": "https://localhost:8080/"
        }
      },
      "source": [
        "# 이직여부와 연봉수준의 연관성을 검사한다. \n",
        "# 교차표로 보여준다.\n",
        "# cell contents => 자료에 어떤것을 표시했는지 나타내줌 \n",
        "# 1.N = 관측값, 2. Expected= 기대값, 3.Chi-square= 카이제곱 검정\n",
        "# Chi^2 =  381.225  -> 카이제곱    \n",
        "# d.f. =  2  -> 자유도 => (행의갯수-1) * (열의갯수-1)\n",
        "# p =  1.652087e-83   -> p-value값( 낮은 수치인것을 볼 수 있다. -> 귀무가설 기각 -> 관계가 존재한다.)\n",
        "# e = 자연로그 -> 2.7xxx 로 생각하면 됨\n",
        "\n",
        "\n",
        "gmodels::CrossTable(hr_DF$left, hr_DF$salary, \n",
        "                    chisq = T, # 카이제곱 검정\n",
        "                    expected = T, # 기대값(E) 표시\n",
        "                    prop.r = F, prop.c = F) # 각 셀의 비율표시(F)-> 볼필요 없음"
      ],
      "execution_count": null,
      "outputs": [
        {
          "output_type": "stream",
          "text": [
            "\n",
            " \n",
            "   Cell Contents\n",
            "|-------------------------|\n",
            "|                       N |\n",
            "|              Expected N |\n",
            "| Chi-square contribution |\n",
            "|         N / Table Total |\n",
            "|-------------------------|\n",
            "\n",
            " \n",
            "Total Observations in Table:  14999 \n",
            "\n",
            " \n",
            "             | hr_DF$salary \n",
            "  hr_DF$left |      high |       low |    medium | Row Total | \n",
            "-------------|-----------|-----------|-----------|-----------|\n",
            "           0 |      1155 |      5144 |      5129 |     11428 | \n",
            "             |   942.492 |  5574.188 |  4911.320 |           | \n",
            "             |    47.915 |    33.200 |     9.648 |           | \n",
            "             |     0.077 |     0.343 |     0.342 |           | \n",
            "-------------|-----------|-----------|-----------|-----------|\n",
            "           1 |        82 |      2172 |      1317 |      3571 | \n",
            "             |   294.508 |  1741.812 |  1534.680 |           | \n",
            "             |   153.339 |   106.247 |    30.876 |           | \n",
            "             |     0.005 |     0.145 |     0.088 |           | \n",
            "-------------|-----------|-----------|-----------|-----------|\n",
            "Column Total |      1237 |      7316 |      6446 |     14999 | \n",
            "-------------|-----------|-----------|-----------|-----------|\n",
            "\n",
            " \n",
            "Statistics for All Table Factors\n",
            "\n",
            "\n",
            "Pearson's Chi-squared test \n",
            "------------------------------------------------------------\n",
            "Chi^2 =  381.225     d.f. =  2     p =  1.652087e-83 \n",
            "\n",
            "\n",
            " \n"
          ],
          "name": "stdout"
        }
      ]
    },
    {
      "cell_type": "markdown",
      "metadata": {
        "id": "LSb2-mSLzFYh"
      },
      "source": [
        "* left(이직여부)와 promotion_last_5years(5년간 승진여부)의 연관성 검사"
      ]
    },
    {
      "cell_type": "code",
      "metadata": {
        "id": "373EJNxYzLJQ",
        "outputId": "410e3723-7cbc-478a-9fbd-6dae49182f69",
        "colab": {
          "base_uri": "https://localhost:8080/"
        }
      },
      "source": [
        "# 이직여부와 승진여부를 교차검증한다. \n",
        "# p =  3.813123e-14  => 낮은수치임 -> 귀무가설 기각 (관련이 있다.)\n",
        "\n",
        "gmodels::CrossTable(hr_DF$left, hr_DF$promotion_last_5years, \n",
        "                    chisq = T, # 카이제곱 검정\n",
        "                    expected = T, # 기대값(E) 표시\n",
        "                    prop.r = F, prop.c = F) # 각 셀의 비율표시(F)"
      ],
      "execution_count": null,
      "outputs": [
        {
          "output_type": "stream",
          "text": [
            "\n",
            " \n",
            "   Cell Contents\n",
            "|-------------------------|\n",
            "|                       N |\n",
            "|              Expected N |\n",
            "| Chi-square contribution |\n",
            "|         N / Table Total |\n",
            "|-------------------------|\n",
            "\n",
            " \n",
            "Total Observations in Table:  14999 \n",
            "\n",
            " \n",
            "             | hr_DF$promotion_last_5years \n",
            "  hr_DF$left |         0 |         1 | Row Total | \n",
            "-------------|-----------|-----------|-----------|\n",
            "           0 |     11128 |       300 |     11428 | \n",
            "             | 11184.948 |   243.052 |           | \n",
            "             |     0.290 |    13.343 |           | \n",
            "             |     0.742 |     0.020 |           | \n",
            "-------------|-----------|-----------|-----------|\n",
            "           1 |      3552 |        19 |      3571 | \n",
            "             |  3495.052 |    75.948 |           | \n",
            "             |     0.928 |    42.702 |           | \n",
            "             |     0.237 |     0.001 |           | \n",
            "-------------|-----------|-----------|-----------|\n",
            "Column Total |     14680 |       319 |     14999 | \n",
            "-------------|-----------|-----------|-----------|\n",
            "\n",
            " \n",
            "Statistics for All Table Factors\n",
            "\n",
            "\n",
            "Pearson's Chi-squared test \n",
            "------------------------------------------------------------\n",
            "Chi^2 =  57.26273     d.f. =  1     p =  3.813123e-14 \n",
            "\n",
            "Pearson's Chi-squared test with Yates' continuity correction \n",
            "------------------------------------------------------------\n",
            "Chi^2 =  56.26163     d.f. =  1     p =  6.344155e-14 \n",
            "\n",
            " \n"
          ],
          "name": "stdout"
        }
      ]
    },
    {
      "cell_type": "markdown",
      "metadata": {
        "id": "xyATkQ9pzY7d"
      },
      "source": [
        "* left(이직여부)와 Work_accident(사건사고 여부)의 연관성 검사"
      ]
    },
    {
      "cell_type": "code",
      "metadata": {
        "id": "Dp7LykEvzfI4",
        "outputId": "b1748d43-5d62-433d-a80a-df27e551f36d",
        "colab": {
          "base_uri": "https://localhost:8080/"
        }
      },
      "source": [
        "gmodels::CrossTable(hr_DF$left, hr_DF$Work_accident, \n",
        "                    chisq = T, # 카이제곱 검정\n",
        "                    expected = T, # 기대값(E) 표시\n",
        "                    prop.r = F, prop.c = F) # 각 셀의 비율표시(F)"
      ],
      "execution_count": null,
      "outputs": [
        {
          "output_type": "stream",
          "text": [
            "\n",
            " \n",
            "   Cell Contents\n",
            "|-------------------------|\n",
            "|                       N |\n",
            "|              Expected N |\n",
            "| Chi-square contribution |\n",
            "|         N / Table Total |\n",
            "|-------------------------|\n",
            "\n",
            " \n",
            "Total Observations in Table:  14999 \n",
            "\n",
            " \n",
            "             | hr_DF$Work_accident \n",
            "  hr_DF$left |         0 |         1 | Row Total | \n",
            "-------------|-----------|-----------|-----------|\n",
            "           0 |      9428 |      2000 |     11428 | \n",
            "             |  9775.401 |  1652.599 |           | \n",
            "             |    12.346 |    73.029 |           | \n",
            "             |     0.629 |     0.133 |           | \n",
            "-------------|-----------|-----------|-----------|\n",
            "           1 |      3402 |       169 |      3571 | \n",
            "             |  3054.599 |   516.401 |           | \n",
            "             |    39.510 |   233.709 |           | \n",
            "             |     0.227 |     0.011 |           | \n",
            "-------------|-----------|-----------|-----------|\n",
            "Column Total |     12830 |      2169 |     14999 | \n",
            "-------------|-----------|-----------|-----------|\n",
            "\n",
            " \n",
            "Statistics for All Table Factors\n",
            "\n",
            "\n",
            "Pearson's Chi-squared test \n",
            "------------------------------------------------------------\n",
            "Chi^2 =  358.5938     d.f. =  1     p =  5.698673e-80 \n",
            "\n",
            "Pearson's Chi-squared test with Yates' continuity correction \n",
            "------------------------------------------------------------\n",
            "Chi^2 =  357.5624     d.f. =  1     p =  9.55824e-80 \n",
            "\n",
            " \n"
          ],
          "name": "stdout"
        }
      ]
    },
    {
      "cell_type": "markdown",
      "metadata": {
        "id": "s3Lq2-rtz0Zs"
      },
      "source": [
        "* left(이직여부)와 sales(부서)의 연관성 검사"
      ]
    },
    {
      "cell_type": "code",
      "metadata": {
        "id": "1Jf7hputz37F",
        "outputId": "b82b996a-943a-424f-8453-3c52b6055c54",
        "colab": {
          "base_uri": "https://localhost:8080/"
        }
      },
      "source": [
        "gmodels::CrossTable(hr_DF$left, hr_DF$sales, \n",
        "                    chisq = T, # 카이제곱 검정\n",
        "                    expected = T, # 기대값(E) 표시\n",
        "                    prop.r = F, prop.c = F) # 각 셀의 비율표시(F)"
      ],
      "execution_count": null,
      "outputs": [
        {
          "output_type": "stream",
          "text": [
            "\n",
            " \n",
            "   Cell Contents\n",
            "|-------------------------|\n",
            "|                       N |\n",
            "|              Expected N |\n",
            "| Chi-square contribution |\n",
            "|         N / Table Total |\n",
            "|-------------------------|\n",
            "\n",
            " \n",
            "Total Observations in Table:  14999 \n",
            "\n",
            " \n",
            "             | hr_DF$sales \n",
            "  hr_DF$left |  accounting |          hr |          IT |  management |   marketing | product_mng |       RandD |       sales |     support |   technical |   Row Total | \n",
            "-------------|-------------|-------------|-------------|-------------|-------------|-------------|-------------|-------------|-------------|-------------|-------------|\n",
            "           0 |         563 |         524 |         954 |         539 |         655 |         704 |         666 |        3126 |        1674 |        2023 |       11428 | \n",
            "             |     584.391 |     563.057 |     934.873 |     480.008 |     653.725 |     687.250 |     599.629 |    3154.338 |    1698.314 |    2072.415 |             | \n",
            "             |       0.783 |       2.709 |       0.391 |       7.250 |       0.002 |       0.408 |       7.346 |       0.255 |       0.348 |       1.178 |             | \n",
            "             |       0.038 |       0.035 |       0.064 |       0.036 |       0.044 |       0.047 |       0.044 |       0.208 |       0.112 |       0.135 |             | \n",
            "-------------|-------------|-------------|-------------|-------------|-------------|-------------|-------------|-------------|-------------|-------------|-------------|\n",
            "           1 |         204 |         215 |         273 |          91 |         203 |         198 |         121 |        1014 |         555 |         697 |        3571 | \n",
            "             |     182.609 |     175.943 |     292.127 |     149.992 |     204.275 |     214.750 |     187.371 |     985.662 |     530.686 |     647.585 |             | \n",
            "             |       2.506 |       8.670 |       1.252 |      23.202 |       0.008 |       1.307 |      23.510 |       0.815 |       1.114 |       3.771 |             | \n",
            "             |       0.014 |       0.014 |       0.018 |       0.006 |       0.014 |       0.013 |       0.008 |       0.068 |       0.037 |       0.046 |             | \n",
            "-------------|-------------|-------------|-------------|-------------|-------------|-------------|-------------|-------------|-------------|-------------|-------------|\n",
            "Column Total |         767 |         739 |        1227 |         630 |         858 |         902 |         787 |        4140 |        2229 |        2720 |       14999 | \n",
            "-------------|-------------|-------------|-------------|-------------|-------------|-------------|-------------|-------------|-------------|-------------|-------------|\n",
            "\n",
            " \n",
            "Statistics for All Table Factors\n",
            "\n",
            "\n",
            "Pearson's Chi-squared test \n",
            "------------------------------------------------------------\n",
            "Chi^2 =  86.82547     d.f. =  9     p =  7.04213e-15 \n",
            "\n",
            "\n",
            " \n"
          ],
          "name": "stdout"
        }
      ]
    },
    {
      "cell_type": "markdown",
      "metadata": {
        "id": "-OPTbmkK2Ndh"
      },
      "source": [
        "* promotion_last_5years(5년간 승진여부)와 Work_accident(사건사고 여부)의 연관성 검사"
      ]
    },
    {
      "cell_type": "code",
      "metadata": {
        "id": "KzORMCvN2S9H",
        "outputId": "bff74ef7-98d3-4a01-d85f-99dc5316080b",
        "colab": {
          "base_uri": "https://localhost:8080/"
        }
      },
      "source": [
        "gmodels::CrossTable(hr_DF$promotion_last_5years, hr_DF$Work_accident, \n",
        "                    chisq = T, # 카이제곱 검정\n",
        "                    expected = T, # 기대값(E) 표시\n",
        "                    prop.r = F, prop.c = F) # 각 셀의 비율표시(F)"
      ],
      "execution_count": null,
      "outputs": [
        {
          "output_type": "stream",
          "text": [
            "\n",
            " \n",
            "   Cell Contents\n",
            "|-------------------------|\n",
            "|                       N |\n",
            "|              Expected N |\n",
            "| Chi-square contribution |\n",
            "|         N / Table Total |\n",
            "|-------------------------|\n",
            "\n",
            " \n",
            "Total Observations in Table:  14999 \n",
            "\n",
            " \n",
            "                            | hr_DF$Work_accident \n",
            "hr_DF$promotion_last_5years |         0 |         1 | Row Total | \n",
            "----------------------------|-----------|-----------|-----------|\n",
            "                          0 |     12587 |      2093 |     14680 | \n",
            "                            | 12557.130 |  2122.870 |           | \n",
            "                            |     0.071 |     0.420 |           | \n",
            "                            |     0.839 |     0.140 |           | \n",
            "----------------------------|-----------|-----------|-----------|\n",
            "                          1 |       243 |        76 |       319 | \n",
            "                            |   272.870 |    46.130 |           | \n",
            "                            |     3.270 |    19.341 |           | \n",
            "                            |     0.016 |     0.005 |           | \n",
            "----------------------------|-----------|-----------|-----------|\n",
            "               Column Total |     12830 |      2169 |     14999 | \n",
            "----------------------------|-----------|-----------|-----------|\n",
            "\n",
            " \n",
            "Statistics for All Table Factors\n",
            "\n",
            "\n",
            "Pearson's Chi-squared test \n",
            "------------------------------------------------------------\n",
            "Chi^2 =  23.10152     d.f. =  1     p =  1.53669e-06 \n",
            "\n",
            "Pearson's Chi-squared test with Yates' continuity correction \n",
            "------------------------------------------------------------\n",
            "Chi^2 =  22.33458     d.f. =  1     p =  2.290447e-06 \n",
            "\n",
            " \n"
          ],
          "name": "stdout"
        }
      ]
    },
    {
      "cell_type": "markdown",
      "metadata": {
        "id": "EWCuw3ax18hL"
      },
      "source": [
        "* Work_accident(사건사고 여부)와 sales(부서)의 연관성 검사"
      ]
    },
    {
      "cell_type": "code",
      "metadata": {
        "id": "TikC3FsG2Bvh",
        "outputId": "ae598c4a-952f-4e00-9484-530c61b9ba5e",
        "colab": {
          "base_uri": "https://localhost:8080/"
        }
      },
      "source": [
        "gmodels::CrossTable(hr_DF$Work_accident, hr_DF$sales, \n",
        "                    chisq = T, # 카이제곱 검정\n",
        "                    expected = T, # 기대값(E) 표시\n",
        "                    prop.r = F, prop.c = F) # 각 셀의 비율표시(F)"
      ],
      "execution_count": null,
      "outputs": [
        {
          "output_type": "stream",
          "text": [
            "\n",
            " \n",
            "   Cell Contents\n",
            "|-------------------------|\n",
            "|                       N |\n",
            "|              Expected N |\n",
            "| Chi-square contribution |\n",
            "|         N / Table Total |\n",
            "|-------------------------|\n",
            "\n",
            " \n",
            "Total Observations in Table:  14999 \n",
            "\n",
            " \n",
            "                    | hr_DF$sales \n",
            "hr_DF$Work_accident |  accounting |          hr |          IT |  management |   marketing | product_mng |       RandD |       sales |     support |   technical |   Row Total | \n",
            "--------------------|-------------|-------------|-------------|-------------|-------------|-------------|-------------|-------------|-------------|-------------|-------------|\n",
            "                  0 |         671 |         650 |        1063 |         527 |         720 |         770 |         653 |        3553 |        1884 |        2339 |       12830 | \n",
            "                    |     656.084 |     632.133 |    1049.564 |     538.896 |     733.925 |     771.562 |     673.192 |    3541.316 |    1906.665 |    2326.662 |             | \n",
            "                    |       0.339 |       0.505 |       0.172 |       0.263 |       0.264 |       0.003 |       0.606 |       0.039 |       0.269 |       0.065 |             | \n",
            "                    |       0.045 |       0.043 |       0.071 |       0.035 |       0.048 |       0.051 |       0.044 |       0.237 |       0.126 |       0.156 |             | \n",
            "--------------------|-------------|-------------|-------------|-------------|-------------|-------------|-------------|-------------|-------------|-------------|-------------|\n",
            "                  1 |          96 |          89 |         164 |         103 |         138 |         132 |         134 |         587 |         345 |         381 |        2169 | \n",
            "                    |     110.916 |     106.867 |     177.436 |      91.104 |     124.075 |     130.438 |     113.808 |     598.684 |     322.335 |     393.338 |             | \n",
            "                    |       2.006 |       2.987 |       1.017 |       1.553 |       1.563 |       0.019 |       3.583 |       0.228 |       1.594 |       0.387 |             | \n",
            "                    |       0.006 |       0.006 |       0.011 |       0.007 |       0.009 |       0.009 |       0.009 |       0.039 |       0.023 |       0.025 |             | \n",
            "--------------------|-------------|-------------|-------------|-------------|-------------|-------------|-------------|-------------|-------------|-------------|-------------|\n",
            "       Column Total |         767 |         739 |        1227 |         630 |         858 |         902 |         787 |        4140 |        2229 |        2720 |       14999 | \n",
            "--------------------|-------------|-------------|-------------|-------------|-------------|-------------|-------------|-------------|-------------|-------------|-------------|\n",
            "\n",
            " \n",
            "Statistics for All Table Factors\n",
            "\n",
            "\n",
            "Pearson's Chi-squared test \n",
            "------------------------------------------------------------\n",
            "Chi^2 =  17.46149     d.f. =  9     p =  0.04196082 \n",
            "\n",
            "\n",
            " \n"
          ],
          "name": "stdout"
        }
      ]
    },
    {
      "cell_type": "markdown",
      "metadata": {
        "id": "IRh6yJRY2boN"
      },
      "source": [
        "* salary(연봉)과 sales(부서)의 연관성 검사\n"
      ]
    },
    {
      "cell_type": "code",
      "metadata": {
        "id": "1ChT1LGU2ge5",
        "outputId": "5d19edbf-ffda-4303-b0d5-8f2ee51709be",
        "colab": {
          "base_uri": "https://localhost:8080/"
        }
      },
      "source": [
        "gmodels::CrossTable(hr_DF$salary, hr_DF$sales, \n",
        "                    chisq = T, # 카이제곱 검정\n",
        "                    expected = T, # 기대값(E) 표시\n",
        "                    prop.r = F, prop.c = F) # 각 셀의 비율표시(F)"
      ],
      "execution_count": null,
      "outputs": [
        {
          "output_type": "stream",
          "text": [
            "\n",
            " \n",
            "   Cell Contents\n",
            "|-------------------------|\n",
            "|                       N |\n",
            "|              Expected N |\n",
            "| Chi-square contribution |\n",
            "|         N / Table Total |\n",
            "|-------------------------|\n",
            "\n",
            " \n",
            "Total Observations in Table:  14999 \n",
            "\n",
            " \n",
            "             | hr_DF$sales \n",
            "hr_DF$salary |  accounting |          hr |          IT |  management |   marketing | product_mng |       RandD |       sales |     support |   technical |   Row Total | \n",
            "-------------|-------------|-------------|-------------|-------------|-------------|-------------|-------------|-------------|-------------|-------------|-------------|\n",
            "        high |          74 |          45 |          83 |         225 |          80 |          68 |          51 |         269 |         141 |         201 |        1237 | \n",
            "             |      63.256 |      60.947 |     101.193 |      51.957 |      70.761 |      74.390 |      64.906 |     341.435 |     183.830 |     224.324 |             | \n",
            "             |       1.825 |       4.173 |       3.271 |     576.312 |       1.206 |       0.549 |       2.979 |      15.367 |       9.979 |       2.425 |             | \n",
            "             |       0.005 |       0.003 |       0.006 |       0.015 |       0.005 |       0.005 |       0.003 |       0.018 |       0.009 |       0.013 |             | \n",
            "-------------|-------------|-------------|-------------|-------------|-------------|-------------|-------------|-------------|-------------|-------------|-------------|\n",
            "         low |         358 |         335 |         609 |         180 |         402 |         451 |         364 |        2099 |        1146 |        1372 |        7316 | \n",
            "             |     374.116 |     360.459 |     598.489 |     307.292 |     418.503 |     439.965 |     383.872 |    2019.351 |    1087.230 |    1326.723 |             | \n",
            "             |       0.694 |       1.798 |       0.185 |      52.729 |       0.651 |       0.277 |       1.029 |       3.142 |       3.177 |       1.545 |             | \n",
            "             |       0.024 |       0.022 |       0.041 |       0.012 |       0.027 |       0.030 |       0.024 |       0.140 |       0.076 |       0.091 |             | \n",
            "-------------|-------------|-------------|-------------|-------------|-------------|-------------|-------------|-------------|-------------|-------------|-------------|\n",
            "      medium |         335 |         359 |         535 |         225 |         376 |         383 |         372 |        1772 |         942 |        1147 |        6446 | \n",
            "             |     329.627 |     317.594 |     527.318 |     270.750 |     368.736 |     387.645 |     338.223 |    1779.215 |     957.939 |    1168.953 |             | \n",
            "             |       0.088 |       5.398 |       0.112 |       7.731 |       0.143 |       0.056 |       3.373 |       0.029 |       0.265 |       0.412 |             | \n",
            "             |       0.022 |       0.024 |       0.036 |       0.015 |       0.025 |       0.026 |       0.025 |       0.118 |       0.063 |       0.076 |             | \n",
            "-------------|-------------|-------------|-------------|-------------|-------------|-------------|-------------|-------------|-------------|-------------|-------------|\n",
            "Column Total |         767 |         739 |        1227 |         630 |         858 |         902 |         787 |        4140 |        2229 |        2720 |       14999 | \n",
            "-------------|-------------|-------------|-------------|-------------|-------------|-------------|-------------|-------------|-------------|-------------|-------------|\n",
            "\n",
            " \n",
            "Statistics for All Table Factors\n",
            "\n",
            "\n",
            "Pearson's Chi-squared test \n",
            "------------------------------------------------------------\n",
            "Chi^2 =  700.9193     d.f. =  18     p =  3.621445e-137 \n",
            "\n",
            "\n",
            " \n"
          ],
          "name": "stdout"
        }
      ]
    },
    {
      "cell_type": "markdown",
      "metadata": {
        "id": "ql4dltKU0PQT"
      },
      "source": [
        "#### **B. 예제 2**\n",
        "\n",
        "---\n"
      ]
    },
    {
      "cell_type": "markdown",
      "metadata": {
        "id": "zcYMe7wV0W-H"
      },
      "source": [
        "* https://www.kaggle.com/c/titanic/data\n",
        "\n",
        "**<kaggle의 타이타닉 data>**\n",
        "\n",
        "  * survived : 생존=1, 죽음=0\n",
        "  * pclass : 승객 등급. 1등급=1, 2등급=2, 3등급=3\n",
        "  * sibsp : 함께 탑승한 형제 또는 배우자 수\n",
        "  * parch : 함께 탑승한 부모 또는 자녀 수\n",
        "  * ticket : 티켓 번호\n",
        "  * cabin : 선실 번호\n",
        "  * embarked : 탑승장소 S=Southhampton, C=Cherbourg, Q=Queenstown"
      ]
    },
    {
      "cell_type": "code",
      "metadata": {
        "cellView": "both",
        "id": "nWoKtbMKrJ_O"
      },
      "source": [
        "DF <- fread(\"https://raw.githubusercontent.com/Jin0331/TA/master/data/titanic/train.csv\") %>%\n",
        " as_tibble()"
      ],
      "execution_count": null,
      "outputs": []
    },
    {
      "cell_type": "code",
      "metadata": {
        "cellView": "both",
        "id": "FoUcmHWIxf8A",
        "outputId": "9c6a35f0-925c-4c76-c3b3-25412e8bc1a6",
        "colab": {
          "base_uri": "https://localhost:8080/"
        }
      },
      "source": [
        "str(DF)"
      ],
      "execution_count": null,
      "outputs": [
        {
          "output_type": "stream",
          "text": [
            "tibble [891 × 12] (S3: tbl_df/tbl/data.frame)\n",
            " $ PassengerId: int [1:891] 1 2 3 4 5 6 7 8 9 10 ...\n",
            " $ Survived   : int [1:891] 0 1 1 1 0 0 0 0 1 1 ...\n",
            " $ Pclass     : int [1:891] 3 1 3 1 3 3 1 3 3 2 ...\n",
            " $ Name       : chr [1:891] \"Braund, Mr. Owen Harris\" \"Cumings, Mrs. John Bradley (Florence Briggs Thayer)\" \"Heikkinen, Miss. Laina\" \"Futrelle, Mrs. Jacques Heath (Lily May Peel)\" ...\n",
            " $ Sex        : chr [1:891] \"male\" \"female\" \"female\" \"female\" ...\n",
            " $ Age        : num [1:891] 22 38 26 35 35 NA 54 2 27 14 ...\n",
            " $ SibSp      : int [1:891] 1 1 0 1 0 0 0 3 0 1 ...\n",
            " $ Parch      : int [1:891] 0 0 0 0 0 0 0 1 2 0 ...\n",
            " $ Ticket     : chr [1:891] \"A/5 21171\" \"PC 17599\" \"STON/O2. 3101282\" \"113803\" ...\n",
            " $ Fare       : num [1:891] 7.25 71.28 7.92 53.1 8.05 ...\n",
            " $ Cabin      : chr [1:891] \"\" \"C85\" \"\" \"C123\" ...\n",
            " $ Embarked   : chr [1:891] \"S\" \"C\" \"S\" \"S\" ...\n",
            " - attr(*, \".internal.selfref\")=<externalptr> \n"
          ],
          "name": "stdout"
        }
      ]
    },
    {
      "cell_type": "code",
      "metadata": {
        "cellView": "both",
        "id": "cY1odydB16zG",
        "outputId": "63bd8c3f-71f2-4b21-b466-74442ea92807",
        "colab": {
          "base_uri": "https://localhost:8080/",
          "height": 449
        }
      },
      "source": [
        "DF %>% summary()"
      ],
      "execution_count": null,
      "outputs": [
        {
          "output_type": "display_data",
          "data": {
            "text/plain": [
              "  PassengerId       Survived          Pclass          Name          \n",
              " Min.   :  1.0   Min.   :0.0000   Min.   :1.000   Length:891        \n",
              " 1st Qu.:223.5   1st Qu.:0.0000   1st Qu.:2.000   Class :character  \n",
              " Median :446.0   Median :0.0000   Median :3.000   Mode  :character  \n",
              " Mean   :446.0   Mean   :0.3838   Mean   :2.309                     \n",
              " 3rd Qu.:668.5   3rd Qu.:1.0000   3rd Qu.:3.000                     \n",
              " Max.   :891.0   Max.   :1.0000   Max.   :3.000                     \n",
              "                                                                    \n",
              "     Sex                 Age            SibSp           Parch       \n",
              " Length:891         Min.   : 0.42   Min.   :0.000   Min.   :0.0000  \n",
              " Class :character   1st Qu.:20.12   1st Qu.:0.000   1st Qu.:0.0000  \n",
              " Mode  :character   Median :28.00   Median :0.000   Median :0.0000  \n",
              "                    Mean   :29.70   Mean   :0.523   Mean   :0.3816  \n",
              "                    3rd Qu.:38.00   3rd Qu.:1.000   3rd Qu.:0.0000  \n",
              "                    Max.   :80.00   Max.   :8.000   Max.   :6.0000  \n",
              "                    NA's   :177                                     \n",
              "    Ticket               Fare           Cabin             Embarked        \n",
              " Length:891         Min.   :  0.00   Length:891         Length:891        \n",
              " Class :character   1st Qu.:  7.91   Class :character   Class :character  \n",
              " Mode  :character   Median : 14.45   Mode  :character   Mode  :character  \n",
              "                    Mean   : 32.20                                        \n",
              "                    3rd Qu.: 31.00                                        \n",
              "                    Max.   :512.33                                        \n",
              "                                                                          "
            ]
          },
          "metadata": {
            "tags": []
          }
        }
      ]
    },
    {
      "cell_type": "markdown",
      "metadata": {
        "id": "hg-bZnUDozhW"
      },
      "source": [
        "* 범주형 변수 확인"
      ]
    },
    {
      "cell_type": "code",
      "metadata": {
        "cellView": "both",
        "id": "i7VgPnfmpX1L",
        "outputId": "66b5362d-3901-469a-ffae-d4f765519688",
        "colab": {
          "base_uri": "https://localhost:8080/",
          "height": 34
        }
      },
      "source": [
        "DF$Survived %>% unique()"
      ],
      "execution_count": null,
      "outputs": [
        {
          "output_type": "display_data",
          "data": {
            "text/html": [
              "<style>\n",
              ".list-inline {list-style: none; margin:0; padding: 0}\n",
              ".list-inline>li {display: inline-block}\n",
              ".list-inline>li:not(:last-child)::after {content: \"\\00b7\"; padding: 0 .5ex}\n",
              "</style>\n",
              "<ol class=list-inline><li>0</li><li>1</li></ol>\n"
            ],
            "text/latex": "\\begin{enumerate*}\n\\item 0\n\\item 1\n\\end{enumerate*}\n",
            "text/markdown": "1. 0\n2. 1\n\n\n",
            "text/plain": [
              "[1] 0 1"
            ]
          },
          "metadata": {
            "tags": []
          }
        }
      ]
    },
    {
      "cell_type": "code",
      "metadata": {
        "cellView": "both",
        "id": "_FWo2ChPpIez",
        "outputId": "3ae3812d-960a-4ecc-bcbb-708f265ba652",
        "colab": {
          "base_uri": "https://localhost:8080/",
          "height": 34
        }
      },
      "source": [
        "DF$Pclass %>% unique()"
      ],
      "execution_count": null,
      "outputs": [
        {
          "output_type": "display_data",
          "data": {
            "text/html": [
              "<style>\n",
              ".list-inline {list-style: none; margin:0; padding: 0}\n",
              ".list-inline>li {display: inline-block}\n",
              ".list-inline>li:not(:last-child)::after {content: \"\\00b7\"; padding: 0 .5ex}\n",
              "</style>\n",
              "<ol class=list-inline><li>3</li><li>1</li><li>2</li></ol>\n"
            ],
            "text/latex": "\\begin{enumerate*}\n\\item 3\n\\item 1\n\\item 2\n\\end{enumerate*}\n",
            "text/markdown": "1. 3\n2. 1\n3. 2\n\n\n",
            "text/plain": [
              "[1] 3 1 2"
            ]
          },
          "metadata": {
            "tags": []
          }
        }
      ]
    },
    {
      "cell_type": "code",
      "metadata": {
        "cellView": "both",
        "id": "GstNJw_Soybd",
        "outputId": "4cf611db-46a0-4af7-ccf0-d5d50b1da18b",
        "colab": {
          "base_uri": "https://localhost:8080/",
          "height": 34
        }
      },
      "source": [
        "DF$Sex %>% unique()"
      ],
      "execution_count": null,
      "outputs": [
        {
          "output_type": "display_data",
          "data": {
            "text/html": [
              "<style>\n",
              ".list-inline {list-style: none; margin:0; padding: 0}\n",
              ".list-inline>li {display: inline-block}\n",
              ".list-inline>li:not(:last-child)::after {content: \"\\00b7\"; padding: 0 .5ex}\n",
              "</style>\n",
              "<ol class=list-inline><li>'male'</li><li>'female'</li></ol>\n"
            ],
            "text/latex": "\\begin{enumerate*}\n\\item 'male'\n\\item 'female'\n\\end{enumerate*}\n",
            "text/markdown": "1. 'male'\n2. 'female'\n\n\n",
            "text/plain": [
              "[1] \"male\"   \"female\""
            ]
          },
          "metadata": {
            "tags": []
          }
        }
      ]
    },
    {
      "cell_type": "code",
      "metadata": {
        "cellView": "both",
        "id": "pBhJRwiOo-HA",
        "outputId": "4520decb-3833-46bb-c881-5eea7dd47445",
        "colab": {
          "base_uri": "https://localhost:8080/",
          "height": 595
        }
      },
      "source": [
        "DF$Ticket %>% unique()"
      ],
      "execution_count": null,
      "outputs": [
        {
          "output_type": "display_data",
          "data": {
            "text/html": [
              "<style>\n",
              ".list-inline {list-style: none; margin:0; padding: 0}\n",
              ".list-inline>li {display: inline-block}\n",
              ".list-inline>li:not(:last-child)::after {content: \"\\00b7\"; padding: 0 .5ex}\n",
              "</style>\n",
              "<ol class=list-inline><li>'A/5 21171'</li><li>'PC 17599'</li><li>'STON/O2. 3101282'</li><li>'113803'</li><li>'373450'</li><li>'330877'</li><li>'17463'</li><li>'349909'</li><li>'347742'</li><li>'237736'</li><li>'PP 9549'</li><li>'113783'</li><li>'A/5. 2151'</li><li>'347082'</li><li>'350406'</li><li>'248706'</li><li>'382652'</li><li>'244373'</li><li>'345763'</li><li>'2649'</li><li>'239865'</li><li>'248698'</li><li>'330923'</li><li>'113788'</li><li>'347077'</li><li>'2631'</li><li>'19950'</li><li>'330959'</li><li>'349216'</li><li>'PC 17601'</li><li>'PC 17569'</li><li>'335677'</li><li>'C.A. 24579'</li><li>'PC 17604'</li><li>'113789'</li><li>'2677'</li><li>'A./5. 2152'</li><li>'345764'</li><li>'2651'</li><li>'7546'</li><li>'11668'</li><li>'349253'</li><li>'SC/Paris 2123'</li><li>'330958'</li><li>'S.C./A.4. 23567'</li><li>'370371'</li><li>'14311'</li><li>'2662'</li><li>'349237'</li><li>'3101295'</li><li>'A/4. 39886'</li><li>'PC 17572'</li><li>'2926'</li><li>'113509'</li><li>'19947'</li><li>'C.A. 31026'</li><li>'2697'</li><li>'C.A. 34651'</li><li>'CA 2144'</li><li>'2669'</li><li>'113572'</li><li>'36973'</li><li>'347088'</li><li>'PC 17605'</li><li>'2661'</li><li>'C.A. 29395'</li><li>'S.P. 3464'</li><li>'3101281'</li><li>'315151'</li><li>'C.A. 33111'</li><li>'S.O.C. 14879'</li><li>'2680'</li><li>'1601'</li><li>'348123'</li><li>'349208'</li><li>'374746'</li><li>'248738'</li><li>'364516'</li><li>'345767'</li><li>'345779'</li><li>'330932'</li><li>'113059'</li><li>'SO/C 14885'</li><li>'3101278'</li><li>'W./C. 6608'</li><li>'SOTON/OQ 392086'</li><li>'343275'</li><li>'343276'</li><li>'347466'</li><li>'W.E.P. 5734'</li><li>'C.A. 2315'</li><li>'364500'</li><li>'374910'</li><li>'PC 17754'</li><li>'PC 17759'</li><li>'231919'</li><li>'244367'</li><li>'349245'</li><li>'349215'</li><li>'35281'</li><li>'7540'</li><li>'3101276'</li><li>'349207'</li><li>'343120'</li><li>'312991'</li><li>'349249'</li><li>'371110'</li><li>'110465'</li><li>'2665'</li><li>'324669'</li><li>'4136'</li><li>'2627'</li><li>'STON/O 2. 3101294'</li><li>'370369'</li><li>'PC 17558'</li><li>'A4. 54510'</li><li>'27267'</li><li>'370372'</li><li>'C 17369'</li><li>'2668'</li><li>'347061'</li><li>'349241'</li><li>'SOTON/O.Q. 3101307'</li><li>'A/5. 3337'</li><li>'228414'</li><li>'C.A. 29178'</li><li>'SC/PARIS 2133'</li><li>'11752'</li><li>'7534'</li><li>'PC 17593'</li><li>'2678'</li><li>'347081'</li><li>'STON/O2. 3101279'</li><li>'365222'</li><li>'231945'</li><li>'C.A. 33112'</li><li>'350043'</li><li>'230080'</li><li>'244310'</li><li>'S.O.P. 1166'</li><li>'113776'</li><li>'A.5. 11206'</li><li>'A/5. 851'</li><li>'Fa 265302'</li><li>'PC 17597'</li><li>'35851'</li><li>'SOTON/OQ 392090'</li><li>'315037'</li><li>'CA. 2343'</li><li>'371362'</li><li>'C.A. 33595'</li><li>'347068'</li><li>'315093'</li><li>'363291'</li><li>'113505'</li><li>'PC 17318'</li><li>'111240'</li><li>'STON/O 2. 3101280'</li><li>'17764'</li><li>'350404'</li><li>'4133'</li><li>'PC 17595'</li><li>'250653'</li><li>'LINE'</li><li>'SC/PARIS 2131'</li><li>'230136'</li><li>'315153'</li><li>'113767'</li><li>'370365'</li><li>'111428'</li><li>'364849'</li><li>'349247'</li><li>'234604'</li><li>'28424'</li><li>'350046'</li><li>'PC 17610'</li><li>'368703'</li><li>'4579'</li><li>'370370'</li><li>'248747'</li><li>'345770'</li><li>'3101264'</li><li>'2628'</li><li>'A/5 3540'</li><li>'347054'</li><li>'2699'</li><li>'367231'</li><li>'112277'</li><li>'SOTON/O.Q. 3101311'</li><li>'F.C.C. 13528'</li><li>'A/5 21174'</li><li>'250646'</li><li>'367229'</li><li>'35273'</li><li>'STON/O2. 3101283'</li><li>'243847'</li><li>'11813'</li><li>'W/C 14208'</li><li>'SOTON/OQ 392089'</li><li>'220367'</li><li>⋯</li><li>'13049'</li><li>'3411'</li><li>'237565'</li><li>'13567'</li><li>'14973'</li><li>'A./5. 3235'</li><li>'STON/O 2. 3101273'</li><li>'A/5 3902'</li><li>'364848'</li><li>'SC/AH 29037'</li><li>'248727'</li><li>'2664'</li><li>'349214'</li><li>'113796'</li><li>'364511'</li><li>'111426'</li><li>'349910'</li><li>'349246'</li><li>'113804'</li><li>'SOTON/O.Q. 3101305'</li><li>'370377'</li><li>'364512'</li><li>'220845'</li><li>'31028'</li><li>'2659'</li><li>'11753'</li><li>'350029'</li><li>'54636'</li><li>'36963'</li><li>'219533'</li><li>'349224'</li><li>'334912'</li><li>'27042'</li><li>'347743'</li><li>'13214'</li><li>'112052'</li><li>'237668'</li><li>'STON/O 2. 3101292'</li><li>'350050'</li><li>'349231'</li><li>'13213'</li><li>'S.O./P.P. 751'</li><li>'CA. 2314'</li><li>'349221'</li><li>'8475'</li><li>'330919'</li><li>'365226'</li><li>'349223'</li><li>'29751'</li><li>'2623'</li><li>'5727'</li><li>'349210'</li><li>'STON/O 2. 3101285'</li><li>'234686'</li><li>'312993'</li><li>'A/5 3536'</li><li>'19996'</li><li>'29750'</li><li>'F.C. 12750'</li><li>'C.A. 24580'</li><li>'244270'</li><li>'239856'</li><li>'349912'</li><li>'342826'</li><li>'4138'</li><li>'330935'</li><li>'6563'</li><li>'349228'</li><li>'350036'</li><li>'24160'</li><li>'17474'</li><li>'349256'</li><li>'2672'</li><li>'113800'</li><li>'248731'</li><li>'363592'</li><li>'35852'</li><li>'348121'</li><li>'PC 17475'</li><li>'36864'</li><li>'350025'</li><li>'223596'</li><li>'PC 17476'</li><li>'PC 17482'</li><li>'113028'</li><li>'7545'</li><li>'250647'</li><li>'348124'</li><li>'34218'</li><li>'36568'</li><li>'347062'</li><li>'350048'</li><li>'12233'</li><li>'250643'</li><li>'113806'</li><li>'315094'</li><li>'36866'</li><li>'236853'</li><li>'STON/O2. 3101271'</li><li>'239855'</li><li>'28425'</li><li>'233639'</li><li>'349201'</li><li>'349218'</li><li>'16988'</li><li>'376566'</li><li>'STON/O 2. 3101288'</li><li>'250648'</li><li>'113773'</li><li>'335097'</li><li>'29103'</li><li>'392096'</li><li>'345780'</li><li>'349204'</li><li>'350042'</li><li>'29108'</li><li>'363294'</li><li>'SOTON/O2 3101272'</li><li>'2663'</li><li>'347074'</li><li>'112379'</li><li>'364850'</li><li>'8471'</li><li>'345781'</li><li>'350047'</li><li>'S.O./P.P. 3'</li><li>'2674'</li><li>'29105'</li><li>'347078'</li><li>'383121'</li><li>'36865'</li><li>'2687'</li><li>'113501'</li><li>'W./C. 6607'</li><li>'SOTON/O.Q. 3101312'</li><li>'374887'</li><li>'3101265'</li><li>'12460'</li><li>'PC 17600'</li><li>'349203'</li><li>'28213'</li><li>'17465'</li><li>'349244'</li><li>'2685'</li><li>'2625'</li><li>'347089'</li><li>'347063'</li><li>'112050'</li><li>'347087'</li><li>'248723'</li><li>'3474'</li><li>'28206'</li><li>'364499'</li><li>'112058'</li><li>'STON/O2. 3101290'</li><li>'S.C./PARIS 2079'</li><li>'C 7075'</li><li>'315098'</li><li>'19972'</li><li>'368323'</li><li>'367228'</li><li>'2671'</li><li>'347468'</li><li>'2223'</li><li>'PC 17756'</li><li>'315097'</li><li>'392092'</li><li>'11774'</li><li>'SOTON/O2 3101287'</li><li>'2683'</li><li>'315090'</li><li>'C.A. 5547'</li><li>'349213'</li><li>'347060'</li><li>'PC 17592'</li><li>'392091'</li><li>'113055'</li><li>'2629'</li><li>'350026'</li><li>'28134'</li><li>'17466'</li><li>'233866'</li><li>'236852'</li><li>'SC/PARIS 2149'</li><li>'PC 17590'</li><li>'345777'</li><li>'349248'</li><li>'695'</li><li>'345765'</li><li>'2667'</li><li>'349212'</li><li>'349217'</li><li>'349257'</li><li>'7552'</li><li>'C.A./SOTON 34068'</li><li>'SOTON/OQ 392076'</li><li>'211536'</li><li>'112053'</li><li>'111369'</li><li>'370376'</li></ol>\n"
            ],
            "text/latex": "\\begin{enumerate*}\n\\item 'A/5 21171'\n\\item 'PC 17599'\n\\item 'STON/O2. 3101282'\n\\item '113803'\n\\item '373450'\n\\item '330877'\n\\item '17463'\n\\item '349909'\n\\item '347742'\n\\item '237736'\n\\item 'PP 9549'\n\\item '113783'\n\\item 'A/5. 2151'\n\\item '347082'\n\\item '350406'\n\\item '248706'\n\\item '382652'\n\\item '244373'\n\\item '345763'\n\\item '2649'\n\\item '239865'\n\\item '248698'\n\\item '330923'\n\\item '113788'\n\\item '347077'\n\\item '2631'\n\\item '19950'\n\\item '330959'\n\\item '349216'\n\\item 'PC 17601'\n\\item 'PC 17569'\n\\item '335677'\n\\item 'C.A. 24579'\n\\item 'PC 17604'\n\\item '113789'\n\\item '2677'\n\\item 'A./5. 2152'\n\\item '345764'\n\\item '2651'\n\\item '7546'\n\\item '11668'\n\\item '349253'\n\\item 'SC/Paris 2123'\n\\item '330958'\n\\item 'S.C./A.4. 23567'\n\\item '370371'\n\\item '14311'\n\\item '2662'\n\\item '349237'\n\\item '3101295'\n\\item 'A/4. 39886'\n\\item 'PC 17572'\n\\item '2926'\n\\item '113509'\n\\item '19947'\n\\item 'C.A. 31026'\n\\item '2697'\n\\item 'C.A. 34651'\n\\item 'CA 2144'\n\\item '2669'\n\\item '113572'\n\\item '36973'\n\\item '347088'\n\\item 'PC 17605'\n\\item '2661'\n\\item 'C.A. 29395'\n\\item 'S.P. 3464'\n\\item '3101281'\n\\item '315151'\n\\item 'C.A. 33111'\n\\item 'S.O.C. 14879'\n\\item '2680'\n\\item '1601'\n\\item '348123'\n\\item '349208'\n\\item '374746'\n\\item '248738'\n\\item '364516'\n\\item '345767'\n\\item '345779'\n\\item '330932'\n\\item '113059'\n\\item 'SO/C 14885'\n\\item '3101278'\n\\item 'W./C. 6608'\n\\item 'SOTON/OQ 392086'\n\\item '343275'\n\\item '343276'\n\\item '347466'\n\\item 'W.E.P. 5734'\n\\item 'C.A. 2315'\n\\item '364500'\n\\item '374910'\n\\item 'PC 17754'\n\\item 'PC 17759'\n\\item '231919'\n\\item '244367'\n\\item '349245'\n\\item '349215'\n\\item '35281'\n\\item '7540'\n\\item '3101276'\n\\item '349207'\n\\item '343120'\n\\item '312991'\n\\item '349249'\n\\item '371110'\n\\item '110465'\n\\item '2665'\n\\item '324669'\n\\item '4136'\n\\item '2627'\n\\item 'STON/O 2. 3101294'\n\\item '370369'\n\\item 'PC 17558'\n\\item 'A4. 54510'\n\\item '27267'\n\\item '370372'\n\\item 'C 17369'\n\\item '2668'\n\\item '347061'\n\\item '349241'\n\\item 'SOTON/O.Q. 3101307'\n\\item 'A/5. 3337'\n\\item '228414'\n\\item 'C.A. 29178'\n\\item 'SC/PARIS 2133'\n\\item '11752'\n\\item '7534'\n\\item 'PC 17593'\n\\item '2678'\n\\item '347081'\n\\item 'STON/O2. 3101279'\n\\item '365222'\n\\item '231945'\n\\item 'C.A. 33112'\n\\item '350043'\n\\item '230080'\n\\item '244310'\n\\item 'S.O.P. 1166'\n\\item '113776'\n\\item 'A.5. 11206'\n\\item 'A/5. 851'\n\\item 'Fa 265302'\n\\item 'PC 17597'\n\\item '35851'\n\\item 'SOTON/OQ 392090'\n\\item '315037'\n\\item 'CA. 2343'\n\\item '371362'\n\\item 'C.A. 33595'\n\\item '347068'\n\\item '315093'\n\\item '363291'\n\\item '113505'\n\\item 'PC 17318'\n\\item '111240'\n\\item 'STON/O 2. 3101280'\n\\item '17764'\n\\item '350404'\n\\item '4133'\n\\item 'PC 17595'\n\\item '250653'\n\\item 'LINE'\n\\item 'SC/PARIS 2131'\n\\item '230136'\n\\item '315153'\n\\item '113767'\n\\item '370365'\n\\item '111428'\n\\item '364849'\n\\item '349247'\n\\item '234604'\n\\item '28424'\n\\item '350046'\n\\item 'PC 17610'\n\\item '368703'\n\\item '4579'\n\\item '370370'\n\\item '248747'\n\\item '345770'\n\\item '3101264'\n\\item '2628'\n\\item 'A/5 3540'\n\\item '347054'\n\\item '2699'\n\\item '367231'\n\\item '112277'\n\\item 'SOTON/O.Q. 3101311'\n\\item 'F.C.C. 13528'\n\\item 'A/5 21174'\n\\item '250646'\n\\item '367229'\n\\item '35273'\n\\item 'STON/O2. 3101283'\n\\item '243847'\n\\item '11813'\n\\item 'W/C 14208'\n\\item 'SOTON/OQ 392089'\n\\item '220367'\n\\item ⋯\n\\item '13049'\n\\item '3411'\n\\item '237565'\n\\item '13567'\n\\item '14973'\n\\item 'A./5. 3235'\n\\item 'STON/O 2. 3101273'\n\\item 'A/5 3902'\n\\item '364848'\n\\item 'SC/AH 29037'\n\\item '248727'\n\\item '2664'\n\\item '349214'\n\\item '113796'\n\\item '364511'\n\\item '111426'\n\\item '349910'\n\\item '349246'\n\\item '113804'\n\\item 'SOTON/O.Q. 3101305'\n\\item '370377'\n\\item '364512'\n\\item '220845'\n\\item '31028'\n\\item '2659'\n\\item '11753'\n\\item '350029'\n\\item '54636'\n\\item '36963'\n\\item '219533'\n\\item '349224'\n\\item '334912'\n\\item '27042'\n\\item '347743'\n\\item '13214'\n\\item '112052'\n\\item '237668'\n\\item 'STON/O 2. 3101292'\n\\item '350050'\n\\item '349231'\n\\item '13213'\n\\item 'S.O./P.P. 751'\n\\item 'CA. 2314'\n\\item '349221'\n\\item '8475'\n\\item '330919'\n\\item '365226'\n\\item '349223'\n\\item '29751'\n\\item '2623'\n\\item '5727'\n\\item '349210'\n\\item 'STON/O 2. 3101285'\n\\item '234686'\n\\item '312993'\n\\item 'A/5 3536'\n\\item '19996'\n\\item '29750'\n\\item 'F.C. 12750'\n\\item 'C.A. 24580'\n\\item '244270'\n\\item '239856'\n\\item '349912'\n\\item '342826'\n\\item '4138'\n\\item '330935'\n\\item '6563'\n\\item '349228'\n\\item '350036'\n\\item '24160'\n\\item '17474'\n\\item '349256'\n\\item '2672'\n\\item '113800'\n\\item '248731'\n\\item '363592'\n\\item '35852'\n\\item '348121'\n\\item 'PC 17475'\n\\item '36864'\n\\item '350025'\n\\item '223596'\n\\item 'PC 17476'\n\\item 'PC 17482'\n\\item '113028'\n\\item '7545'\n\\item '250647'\n\\item '348124'\n\\item '34218'\n\\item '36568'\n\\item '347062'\n\\item '350048'\n\\item '12233'\n\\item '250643'\n\\item '113806'\n\\item '315094'\n\\item '36866'\n\\item '236853'\n\\item 'STON/O2. 3101271'\n\\item '239855'\n\\item '28425'\n\\item '233639'\n\\item '349201'\n\\item '349218'\n\\item '16988'\n\\item '376566'\n\\item 'STON/O 2. 3101288'\n\\item '250648'\n\\item '113773'\n\\item '335097'\n\\item '29103'\n\\item '392096'\n\\item '345780'\n\\item '349204'\n\\item '350042'\n\\item '29108'\n\\item '363294'\n\\item 'SOTON/O2 3101272'\n\\item '2663'\n\\item '347074'\n\\item '112379'\n\\item '364850'\n\\item '8471'\n\\item '345781'\n\\item '350047'\n\\item 'S.O./P.P. 3'\n\\item '2674'\n\\item '29105'\n\\item '347078'\n\\item '383121'\n\\item '36865'\n\\item '2687'\n\\item '113501'\n\\item 'W./C. 6607'\n\\item 'SOTON/O.Q. 3101312'\n\\item '374887'\n\\item '3101265'\n\\item '12460'\n\\item 'PC 17600'\n\\item '349203'\n\\item '28213'\n\\item '17465'\n\\item '349244'\n\\item '2685'\n\\item '2625'\n\\item '347089'\n\\item '347063'\n\\item '112050'\n\\item '347087'\n\\item '248723'\n\\item '3474'\n\\item '28206'\n\\item '364499'\n\\item '112058'\n\\item 'STON/O2. 3101290'\n\\item 'S.C./PARIS 2079'\n\\item 'C 7075'\n\\item '315098'\n\\item '19972'\n\\item '368323'\n\\item '367228'\n\\item '2671'\n\\item '347468'\n\\item '2223'\n\\item 'PC 17756'\n\\item '315097'\n\\item '392092'\n\\item '11774'\n\\item 'SOTON/O2 3101287'\n\\item '2683'\n\\item '315090'\n\\item 'C.A. 5547'\n\\item '349213'\n\\item '347060'\n\\item 'PC 17592'\n\\item '392091'\n\\item '113055'\n\\item '2629'\n\\item '350026'\n\\item '28134'\n\\item '17466'\n\\item '233866'\n\\item '236852'\n\\item 'SC/PARIS 2149'\n\\item 'PC 17590'\n\\item '345777'\n\\item '349248'\n\\item '695'\n\\item '345765'\n\\item '2667'\n\\item '349212'\n\\item '349217'\n\\item '349257'\n\\item '7552'\n\\item 'C.A./SOTON 34068'\n\\item 'SOTON/OQ 392076'\n\\item '211536'\n\\item '112053'\n\\item '111369'\n\\item '370376'\n\\end{enumerate*}\n",
            "text/markdown": "1. 'A/5 21171'\n2. 'PC 17599'\n3. 'STON/O2. 3101282'\n4. '113803'\n5. '373450'\n6. '330877'\n7. '17463'\n8. '349909'\n9. '347742'\n10. '237736'\n11. 'PP 9549'\n12. '113783'\n13. 'A/5. 2151'\n14. '347082'\n15. '350406'\n16. '248706'\n17. '382652'\n18. '244373'\n19. '345763'\n20. '2649'\n21. '239865'\n22. '248698'\n23. '330923'\n24. '113788'\n25. '347077'\n26. '2631'\n27. '19950'\n28. '330959'\n29. '349216'\n30. 'PC 17601'\n31. 'PC 17569'\n32. '335677'\n33. 'C.A. 24579'\n34. 'PC 17604'\n35. '113789'\n36. '2677'\n37. 'A./5. 2152'\n38. '345764'\n39. '2651'\n40. '7546'\n41. '11668'\n42. '349253'\n43. 'SC/Paris 2123'\n44. '330958'\n45. 'S.C./A.4. 23567'\n46. '370371'\n47. '14311'\n48. '2662'\n49. '349237'\n50. '3101295'\n51. 'A/4. 39886'\n52. 'PC 17572'\n53. '2926'\n54. '113509'\n55. '19947'\n56. 'C.A. 31026'\n57. '2697'\n58. 'C.A. 34651'\n59. 'CA 2144'\n60. '2669'\n61. '113572'\n62. '36973'\n63. '347088'\n64. 'PC 17605'\n65. '2661'\n66. 'C.A. 29395'\n67. 'S.P. 3464'\n68. '3101281'\n69. '315151'\n70. 'C.A. 33111'\n71. 'S.O.C. 14879'\n72. '2680'\n73. '1601'\n74. '348123'\n75. '349208'\n76. '374746'\n77. '248738'\n78. '364516'\n79. '345767'\n80. '345779'\n81. '330932'\n82. '113059'\n83. 'SO/C 14885'\n84. '3101278'\n85. 'W./C. 6608'\n86. 'SOTON/OQ 392086'\n87. '343275'\n88. '343276'\n89. '347466'\n90. 'W.E.P. 5734'\n91. 'C.A. 2315'\n92. '364500'\n93. '374910'\n94. 'PC 17754'\n95. 'PC 17759'\n96. '231919'\n97. '244367'\n98. '349245'\n99. '349215'\n100. '35281'\n101. '7540'\n102. '3101276'\n103. '349207'\n104. '343120'\n105. '312991'\n106. '349249'\n107. '371110'\n108. '110465'\n109. '2665'\n110. '324669'\n111. '4136'\n112. '2627'\n113. 'STON/O 2. 3101294'\n114. '370369'\n115. 'PC 17558'\n116. 'A4. 54510'\n117. '27267'\n118. '370372'\n119. 'C 17369'\n120. '2668'\n121. '347061'\n122. '349241'\n123. 'SOTON/O.Q. 3101307'\n124. 'A/5. 3337'\n125. '228414'\n126. 'C.A. 29178'\n127. 'SC/PARIS 2133'\n128. '11752'\n129. '7534'\n130. 'PC 17593'\n131. '2678'\n132. '347081'\n133. 'STON/O2. 3101279'\n134. '365222'\n135. '231945'\n136. 'C.A. 33112'\n137. '350043'\n138. '230080'\n139. '244310'\n140. 'S.O.P. 1166'\n141. '113776'\n142. 'A.5. 11206'\n143. 'A/5. 851'\n144. 'Fa 265302'\n145. 'PC 17597'\n146. '35851'\n147. 'SOTON/OQ 392090'\n148. '315037'\n149. 'CA. 2343'\n150. '371362'\n151. 'C.A. 33595'\n152. '347068'\n153. '315093'\n154. '363291'\n155. '113505'\n156. 'PC 17318'\n157. '111240'\n158. 'STON/O 2. 3101280'\n159. '17764'\n160. '350404'\n161. '4133'\n162. 'PC 17595'\n163. '250653'\n164. 'LINE'\n165. 'SC/PARIS 2131'\n166. '230136'\n167. '315153'\n168. '113767'\n169. '370365'\n170. '111428'\n171. '364849'\n172. '349247'\n173. '234604'\n174. '28424'\n175. '350046'\n176. 'PC 17610'\n177. '368703'\n178. '4579'\n179. '370370'\n180. '248747'\n181. '345770'\n182. '3101264'\n183. '2628'\n184. 'A/5 3540'\n185. '347054'\n186. '2699'\n187. '367231'\n188. '112277'\n189. 'SOTON/O.Q. 3101311'\n190. 'F.C.C. 13528'\n191. 'A/5 21174'\n192. '250646'\n193. '367229'\n194. '35273'\n195. 'STON/O2. 3101283'\n196. '243847'\n197. '11813'\n198. 'W/C 14208'\n199. 'SOTON/OQ 392089'\n200. '220367'\n201. ⋯\n202. '13049'\n203. '3411'\n204. '237565'\n205. '13567'\n206. '14973'\n207. 'A./5. 3235'\n208. 'STON/O 2. 3101273'\n209. 'A/5 3902'\n210. '364848'\n211. 'SC/AH 29037'\n212. '248727'\n213. '2664'\n214. '349214'\n215. '113796'\n216. '364511'\n217. '111426'\n218. '349910'\n219. '349246'\n220. '113804'\n221. 'SOTON/O.Q. 3101305'\n222. '370377'\n223. '364512'\n224. '220845'\n225. '31028'\n226. '2659'\n227. '11753'\n228. '350029'\n229. '54636'\n230. '36963'\n231. '219533'\n232. '349224'\n233. '334912'\n234. '27042'\n235. '347743'\n236. '13214'\n237. '112052'\n238. '237668'\n239. 'STON/O 2. 3101292'\n240. '350050'\n241. '349231'\n242. '13213'\n243. 'S.O./P.P. 751'\n244. 'CA. 2314'\n245. '349221'\n246. '8475'\n247. '330919'\n248. '365226'\n249. '349223'\n250. '29751'\n251. '2623'\n252. '5727'\n253. '349210'\n254. 'STON/O 2. 3101285'\n255. '234686'\n256. '312993'\n257. 'A/5 3536'\n258. '19996'\n259. '29750'\n260. 'F.C. 12750'\n261. 'C.A. 24580'\n262. '244270'\n263. '239856'\n264. '349912'\n265. '342826'\n266. '4138'\n267. '330935'\n268. '6563'\n269. '349228'\n270. '350036'\n271. '24160'\n272. '17474'\n273. '349256'\n274. '2672'\n275. '113800'\n276. '248731'\n277. '363592'\n278. '35852'\n279. '348121'\n280. 'PC 17475'\n281. '36864'\n282. '350025'\n283. '223596'\n284. 'PC 17476'\n285. 'PC 17482'\n286. '113028'\n287. '7545'\n288. '250647'\n289. '348124'\n290. '34218'\n291. '36568'\n292. '347062'\n293. '350048'\n294. '12233'\n295. '250643'\n296. '113806'\n297. '315094'\n298. '36866'\n299. '236853'\n300. 'STON/O2. 3101271'\n301. '239855'\n302. '28425'\n303. '233639'\n304. '349201'\n305. '349218'\n306. '16988'\n307. '376566'\n308. 'STON/O 2. 3101288'\n309. '250648'\n310. '113773'\n311. '335097'\n312. '29103'\n313. '392096'\n314. '345780'\n315. '349204'\n316. '350042'\n317. '29108'\n318. '363294'\n319. 'SOTON/O2 3101272'\n320. '2663'\n321. '347074'\n322. '112379'\n323. '364850'\n324. '8471'\n325. '345781'\n326. '350047'\n327. 'S.O./P.P. 3'\n328. '2674'\n329. '29105'\n330. '347078'\n331. '383121'\n332. '36865'\n333. '2687'\n334. '113501'\n335. 'W./C. 6607'\n336. 'SOTON/O.Q. 3101312'\n337. '374887'\n338. '3101265'\n339. '12460'\n340. 'PC 17600'\n341. '349203'\n342. '28213'\n343. '17465'\n344. '349244'\n345. '2685'\n346. '2625'\n347. '347089'\n348. '347063'\n349. '112050'\n350. '347087'\n351. '248723'\n352. '3474'\n353. '28206'\n354. '364499'\n355. '112058'\n356. 'STON/O2. 3101290'\n357. 'S.C./PARIS 2079'\n358. 'C 7075'\n359. '315098'\n360. '19972'\n361. '368323'\n362. '367228'\n363. '2671'\n364. '347468'\n365. '2223'\n366. 'PC 17756'\n367. '315097'\n368. '392092'\n369. '11774'\n370. 'SOTON/O2 3101287'\n371. '2683'\n372. '315090'\n373. 'C.A. 5547'\n374. '349213'\n375. '347060'\n376. 'PC 17592'\n377. '392091'\n378. '113055'\n379. '2629'\n380. '350026'\n381. '28134'\n382. '17466'\n383. '233866'\n384. '236852'\n385. 'SC/PARIS 2149'\n386. 'PC 17590'\n387. '345777'\n388. '349248'\n389. '695'\n390. '345765'\n391. '2667'\n392. '349212'\n393. '349217'\n394. '349257'\n395. '7552'\n396. 'C.A./SOTON 34068'\n397. 'SOTON/OQ 392076'\n398. '211536'\n399. '112053'\n400. '111369'\n401. '370376'\n\n\n",
            "text/plain": [
              "  [1] \"A/5 21171\"          \"PC 17599\"           \"STON/O2. 3101282\"  \n",
              "  [4] \"113803\"             \"373450\"             \"330877\"            \n",
              "  [7] \"17463\"              \"349909\"             \"347742\"            \n",
              " [10] \"237736\"             \"PP 9549\"            \"113783\"            \n",
              " [13] \"A/5. 2151\"          \"347082\"             \"350406\"            \n",
              " [16] \"248706\"             \"382652\"             \"244373\"            \n",
              " [19] \"345763\"             \"2649\"               \"239865\"            \n",
              " [22] \"248698\"             \"330923\"             \"113788\"            \n",
              " [25] \"347077\"             \"2631\"               \"19950\"             \n",
              " [28] \"330959\"             \"349216\"             \"PC 17601\"          \n",
              " [31] \"PC 17569\"           \"335677\"             \"C.A. 24579\"        \n",
              " [34] \"PC 17604\"           \"113789\"             \"2677\"              \n",
              " [37] \"A./5. 2152\"         \"345764\"             \"2651\"              \n",
              " [40] \"7546\"               \"11668\"              \"349253\"            \n",
              " [43] \"SC/Paris 2123\"      \"330958\"             \"S.C./A.4. 23567\"   \n",
              " [46] \"370371\"             \"14311\"              \"2662\"              \n",
              " [49] \"349237\"             \"3101295\"            \"A/4. 39886\"        \n",
              " [52] \"PC 17572\"           \"2926\"               \"113509\"            \n",
              " [55] \"19947\"              \"C.A. 31026\"         \"2697\"              \n",
              " [58] \"C.A. 34651\"         \"CA 2144\"            \"2669\"              \n",
              " [61] \"113572\"             \"36973\"              \"347088\"            \n",
              " [64] \"PC 17605\"           \"2661\"               \"C.A. 29395\"        \n",
              " [67] \"S.P. 3464\"          \"3101281\"            \"315151\"            \n",
              " [70] \"C.A. 33111\"         \"S.O.C. 14879\"       \"2680\"              \n",
              " [73] \"1601\"               \"348123\"             \"349208\"            \n",
              " [76] \"374746\"             \"248738\"             \"364516\"            \n",
              " [79] \"345767\"             \"345779\"             \"330932\"            \n",
              " [82] \"113059\"             \"SO/C 14885\"         \"3101278\"           \n",
              " [85] \"W./C. 6608\"         \"SOTON/OQ 392086\"    \"343275\"            \n",
              " [88] \"343276\"             \"347466\"             \"W.E.P. 5734\"       \n",
              " [91] \"C.A. 2315\"          \"364500\"             \"374910\"            \n",
              " [94] \"PC 17754\"           \"PC 17759\"           \"231919\"            \n",
              " [97] \"244367\"             \"349245\"             \"349215\"            \n",
              "[100] \"35281\"              \"7540\"               \"3101276\"           \n",
              "[103] \"349207\"             \"343120\"             \"312991\"            \n",
              "[106] \"349249\"             \"371110\"             \"110465\"            \n",
              "[109] \"2665\"               \"324669\"             \"4136\"              \n",
              "[112] \"2627\"               \"STON/O 2. 3101294\"  \"370369\"            \n",
              "[115] \"PC 17558\"           \"A4. 54510\"          \"27267\"             \n",
              "[118] \"370372\"             \"C 17369\"            \"2668\"              \n",
              "[121] \"347061\"             \"349241\"             \"SOTON/O.Q. 3101307\"\n",
              "[124] \"A/5. 3337\"          \"228414\"             \"C.A. 29178\"        \n",
              "[127] \"SC/PARIS 2133\"      \"11752\"              \"7534\"              \n",
              "[130] \"PC 17593\"           \"2678\"               \"347081\"            \n",
              "[133] \"STON/O2. 3101279\"   \"365222\"             \"231945\"            \n",
              "[136] \"C.A. 33112\"         \"350043\"             \"230080\"            \n",
              "[139] \"244310\"             \"S.O.P. 1166\"        \"113776\"            \n",
              "[142] \"A.5. 11206\"         \"A/5. 851\"           \"Fa 265302\"         \n",
              "[145] \"PC 17597\"           \"35851\"              \"SOTON/OQ 392090\"   \n",
              "[148] \"315037\"             \"CA. 2343\"           \"371362\"            \n",
              "[151] \"C.A. 33595\"         \"347068\"             \"315093\"            \n",
              "[154] \"363291\"             \"113505\"             \"PC 17318\"          \n",
              "[157] \"111240\"             \"STON/O 2. 3101280\"  \"17764\"             \n",
              "[160] \"350404\"             \"4133\"               \"PC 17595\"          \n",
              "[163] \"250653\"             \"LINE\"               \"SC/PARIS 2131\"     \n",
              "[166] \"230136\"             \"315153\"             \"113767\"            \n",
              "[169] \"370365\"             \"111428\"             \"364849\"            \n",
              "[172] \"349247\"             \"234604\"             \"28424\"             \n",
              "[175] \"350046\"             \"PC 17610\"           \"368703\"            \n",
              "[178] \"4579\"               \"370370\"             \"248747\"            \n",
              "[181] \"345770\"             \"3101264\"            \"2628\"              \n",
              "[184] \"A/5 3540\"           \"347054\"             \"2699\"              \n",
              "[187] \"367231\"             \"112277\"             \"SOTON/O.Q. 3101311\"\n",
              "[190] \"F.C.C. 13528\"       \"A/5 21174\"          \"250646\"            \n",
              "[193] \"367229\"             \"35273\"              \"STON/O2. 3101283\"  \n",
              "[196] \"243847\"             \"11813\"              \"W/C 14208\"         \n",
              "[199] \"SOTON/OQ 392089\"    \"220367\"             \"21440\"             \n",
              "[202] \"349234\"             \"19943\"              \"PP 4348\"           \n",
              "[205] \"SW/PP 751\"          \"A/5 21173\"          \"236171\"            \n",
              "[208] \"347067\"             \"237442\"             \"C.A. 29566\"        \n",
              "[211] \"W./C. 6609\"         \"26707\"              \"C.A. 31921\"        \n",
              "[214] \"28665\"              \"SCO/W 1585\"         \"367230\"            \n",
              "[217] \"W./C. 14263\"        \"STON/O 2. 3101275\"  \"2694\"              \n",
              "[220] \"19928\"              \"347071\"             \"250649\"            \n",
              "[223] \"11751\"              \"244252\"             \"362316\"            \n",
              "[226] \"113514\"             \"A/5. 3336\"          \"370129\"            \n",
              "[229] \"2650\"               \"PC 17585\"           \"110152\"            \n",
              "[232] \"PC 17755\"           \"230433\"             \"384461\"            \n",
              "[235] \"110413\"             \"112059\"             \"382649\"            \n",
              "[238] \"C.A. 17248\"         \"347083\"             \"PC 17582\"          \n",
              "[241] \"PC 17760\"           \"113798\"             \"250644\"            \n",
              "[244] \"PC 17596\"           \"370375\"             \"13502\"             \n",
              "[247] \"347073\"             \"239853\"             \"C.A. 2673\"         \n",
              "[250] \"336439\"             \"347464\"             \"345778\"            \n",
              "[253] \"A/5. 10482\"         \"113056\"             \"349239\"            \n",
              "[256] \"345774\"             \"349206\"             \"237798\"            \n",
              "[259] \"370373\"             \"19877\"              \"11967\"             \n",
              "[262] \"SC/Paris 2163\"      \"349236\"             \"349233\"            \n",
              "[265] \"PC 17612\"           \"2693\"               \"113781\"            \n",
              "[268] \"19988\"              \"9234\"               \"367226\"            \n",
              "[271] \"226593\"             \"A/5 2466\"           \"17421\"             \n",
              "[274] \"PC 17758\"           \"P/PP 3381\"          \"PC 17485\"          \n",
              "[277] \"11767\"              \"PC 17608\"           \"250651\"            \n",
              "[280] \"349243\"             \"F.C.C. 13529\"       \"347470\"            \n",
              "[283] \"29011\"              \"36928\"              \"16966\"             \n",
              "[286] \"A/5 21172\"          \"349219\"             \"234818\"            \n",
              "[289] \"345364\"             \"28551\"              \"111361\"            \n",
              "[292] \"113043\"             \"PC 17611\"           \"349225\"            \n",
              "[295] \"7598\"               \"113784\"             \"248740\"            \n",
              "[298] \"244361\"             \"229236\"             \"248733\"            \n",
              "[301] \"31418\"              \"386525\"             \"C.A. 37671\"        \n",
              "[304] \"315088\"             \"7267\"               \"113510\"            \n",
              "[307] \"2695\"               \"2647\"               \"345783\"            \n",
              "[310] \"237671\"             \"330931\"             \"330980\"            \n",
              "[313] \"SC/PARIS 2167\"      \"2691\"               \"SOTON/O.Q. 3101310\"\n",
              "[316] \"C 7076\"             \"110813\"             \"2626\"              \n",
              "[319] \"14313\"              \"PC 17477\"           \"11765\"             \n",
              "[322] \"3101267\"            \"323951\"             \"C 7077\"            \n",
              "[325] \"113503\"             \"2648\"               \"347069\"            \n",
              "[328] \"PC 17757\"           \"2653\"               \"STON/O 2. 3101293\" \n",
              "[331] \"349227\"             \"27849\"              \"367655\"            \n",
              "[334] \"SC 1748\"            \"113760\"             \"350034\"            \n",
              "[337] \"3101277\"            \"350052\"             \"350407\"            \n",
              "[340] \"28403\"              \"244278\"             \"240929\"            \n",
              "[343] \"STON/O 2. 3101289\"  \"341826\"             \"4137\"              \n",
              "[346] \"315096\"             \"28664\"              \"347064\"            \n",
              "[349] \"29106\"              \"312992\"             \"349222\"            \n",
              "[352] \"394140\"             \"STON/O 2. 3101269\"  \"343095\"            \n",
              "[355] \"28220\"              \"250652\"             \"28228\"             \n",
              "[358] \"345773\"             \"349254\"             \"A/5. 13032\"        \n",
              "[361] \"315082\"             \"347080\"             \"A/4. 34244\"        \n",
              "[364] \"2003\"               \"250655\"             \"364851\"            \n",
              "[367] \"SOTON/O.Q. 392078\"  \"110564\"             \"376564\"            \n",
              "[370] \"SC/AH 3085\"         \"STON/O 2. 3101274\"  \"13507\"             \n",
              "[373] \"C.A. 18723\"         \"345769\"             \"347076\"            \n",
              "[376] \"230434\"             \"65306\"              \"33638\"             \n",
              "[379] \"113794\"             \"2666\"               \"113786\"            \n",
              "[382] \"65303\"              \"113051\"             \"17453\"             \n",
              "[385] \"A/5 2817\"           \"349240\"             \"13509\"             \n",
              "[388] \"17464\"              \"F.C.C. 13531\"       \"371060\"            \n",
              "[391] \"19952\"              \"364506\"             \"111320\"            \n",
              "[394] \"234360\"             \"A/S 2816\"           \"SOTON/O.Q. 3101306\"\n",
              "[397] \"113792\"             \"36209\"              \"323592\"            \n",
              "[400] \"315089\"             \"SC/AH Basle 541\"    \"7553\"              \n",
              "[403] \"31027\"              \"3460\"               \"350060\"            \n",
              "[406] \"3101298\"            \"239854\"             \"A/5 3594\"          \n",
              "[409] \"4134\"               \"11771\"              \"A.5. 18509\"        \n",
              "[412] \"65304\"              \"SOTON/OQ 3101317\"   \"113787\"            \n",
              "[415] \"PC 17609\"           \"A/4 45380\"          \"36947\"             \n",
              "[418] \"C.A. 6212\"          \"350035\"             \"315086\"            \n",
              "[421] \"364846\"             \"330909\"             \"4135\"              \n",
              "[424] \"26360\"              \"111427\"             \"C 4001\"            \n",
              "[427] \"382651\"             \"SOTON/OQ 3101316\"   \"PC 17473\"          \n",
              "[430] \"PC 17603\"           \"349209\"             \"36967\"             \n",
              "[433] \"C.A. 34260\"         \"226875\"             \"349242\"            \n",
              "[436] \"12749\"              \"349252\"             \"2624\"              \n",
              "[439] \"2700\"               \"367232\"             \"W./C. 14258\"       \n",
              "[442] \"PC 17483\"           \"3101296\"            \"29104\"             \n",
              "[445] \"2641\"               \"2690\"               \"315084\"            \n",
              "[448] \"113050\"             \"PC 17761\"           \"364498\"            \n",
              "[451] \"13568\"              \"WE/P 5735\"          \"2908\"              \n",
              "[454] \"693\"                \"SC/PARIS 2146\"      \"244358\"            \n",
              "[457] \"330979\"             \"2620\"               \"347085\"            \n",
              "[460] \"113807\"             \"11755\"              \"345572\"            \n",
              "[463] \"372622\"             \"349251\"             \"218629\"            \n",
              "[466] \"SOTON/OQ 392082\"    \"SOTON/O.Q. 392087\"  \"A/4 48871\"         \n",
              "[469] \"349205\"             \"2686\"               \"350417\"            \n",
              "[472] \"S.W./PP 752\"        \"11769\"              \"PC 17474\"          \n",
              "[475] \"14312\"              \"A/4. 20589\"         \"358585\"            \n",
              "[478] \"243880\"             \"2689\"               \"STON/O 2. 3101286\" \n",
              "[481] \"237789\"             \"13049\"              \"3411\"              \n",
              "[484] \"237565\"             \"13567\"              \"14973\"             \n",
              "[487] \"A./5. 3235\"         \"STON/O 2. 3101273\"  \"A/5 3902\"          \n",
              "[490] \"364848\"             \"SC/AH 29037\"        \"248727\"            \n",
              "[493] \"2664\"               \"349214\"             \"113796\"            \n",
              "[496] \"364511\"             \"111426\"             \"349910\"            \n",
              "[499] \"349246\"             \"113804\"             \"SOTON/O.Q. 3101305\"\n",
              "[502] \"370377\"             \"364512\"             \"220845\"            \n",
              "[505] \"31028\"              \"2659\"               \"11753\"             \n",
              "[508] \"350029\"             \"54636\"              \"36963\"             \n",
              "[511] \"219533\"             \"349224\"             \"334912\"            \n",
              "[514] \"27042\"              \"347743\"             \"13214\"             \n",
              "[517] \"112052\"             \"237668\"             \"STON/O 2. 3101292\" \n",
              "[520] \"350050\"             \"349231\"             \"13213\"             \n",
              "[523] \"S.O./P.P. 751\"      \"CA. 2314\"           \"349221\"            \n",
              "[526] \"8475\"               \"330919\"             \"365226\"            \n",
              "[529] \"349223\"             \"29751\"              \"2623\"              \n",
              "[532] \"5727\"               \"349210\"             \"STON/O 2. 3101285\" \n",
              "[535] \"234686\"             \"312993\"             \"A/5 3536\"          \n",
              "[538] \"19996\"              \"29750\"              \"F.C. 12750\"        \n",
              "[541] \"C.A. 24580\"         \"244270\"             \"239856\"            \n",
              "[544] \"349912\"             \"342826\"             \"4138\"              \n",
              "[547] \"330935\"             \"6563\"               \"349228\"            \n",
              "[550] \"350036\"             \"24160\"              \"17474\"             \n",
              "[553] \"349256\"             \"2672\"               \"113800\"            \n",
              "[556] \"248731\"             \"363592\"             \"35852\"             \n",
              "[559] \"348121\"             \"PC 17475\"           \"36864\"             \n",
              "[562] \"350025\"             \"223596\"             \"PC 17476\"          \n",
              "[565] \"PC 17482\"           \"113028\"             \"7545\"              \n",
              "[568] \"250647\"             \"348124\"             \"34218\"             \n",
              "[571] \"36568\"              \"347062\"             \"350048\"            \n",
              "[574] \"12233\"              \"250643\"             \"113806\"            \n",
              "[577] \"315094\"             \"36866\"              \"236853\"            \n",
              "[580] \"STON/O2. 3101271\"   \"239855\"             \"28425\"             \n",
              "[583] \"233639\"             \"349201\"             \"349218\"            \n",
              "[586] \"16988\"              \"376566\"             \"STON/O 2. 3101288\" \n",
              "[589] \"250648\"             \"113773\"             \"335097\"            \n",
              "[592] \"29103\"              \"392096\"             \"345780\"            \n",
              "[595] \"349204\"             \"350042\"             \"29108\"             \n",
              "[598] \"363294\"             \"SOTON/O2 3101272\"   \"2663\"              \n",
              "[601] \"347074\"             \"112379\"             \"364850\"            \n",
              "[604] \"8471\"               \"345781\"             \"350047\"            \n",
              "[607] \"S.O./P.P. 3\"        \"2674\"               \"29105\"             \n",
              "[610] \"347078\"             \"383121\"             \"36865\"             \n",
              "[613] \"2687\"               \"113501\"             \"W./C. 6607\"        \n",
              "[616] \"SOTON/O.Q. 3101312\" \"374887\"             \"3101265\"           \n",
              "[619] \"12460\"              \"PC 17600\"           \"349203\"            \n",
              "[622] \"28213\"              \"17465\"              \"349244\"            \n",
              "[625] \"2685\"               \"2625\"               \"347089\"            \n",
              "[628] \"347063\"             \"112050\"             \"347087\"            \n",
              "[631] \"248723\"             \"3474\"               \"28206\"             \n",
              "[634] \"364499\"             \"112058\"             \"STON/O2. 3101290\"  \n",
              "[637] \"S.C./PARIS 2079\"    \"C 7075\"             \"315098\"            \n",
              "[640] \"19972\"              \"368323\"             \"367228\"            \n",
              "[643] \"2671\"               \"347468\"             \"2223\"              \n",
              "[646] \"PC 17756\"           \"315097\"             \"392092\"            \n",
              "[649] \"11774\"              \"SOTON/O2 3101287\"   \"2683\"              \n",
              "[652] \"315090\"             \"C.A. 5547\"          \"349213\"            \n",
              "[655] \"347060\"             \"PC 17592\"           \"392091\"            \n",
              "[658] \"113055\"             \"2629\"               \"350026\"            \n",
              "[661] \"28134\"              \"17466\"              \"233866\"            \n",
              "[664] \"236852\"             \"SC/PARIS 2149\"      \"PC 17590\"          \n",
              "[667] \"345777\"             \"349248\"             \"695\"               \n",
              "[670] \"345765\"             \"2667\"               \"349212\"            \n",
              "[673] \"349217\"             \"349257\"             \"7552\"              \n",
              "[676] \"C.A./SOTON 34068\"   \"SOTON/OQ 392076\"    \"211536\"            \n",
              "[679] \"112053\"             \"111369\"             \"370376\"            "
            ]
          },
          "metadata": {
            "tags": []
          }
        }
      ]
    },
    {
      "cell_type": "code",
      "metadata": {
        "cellView": "both",
        "id": "gTws_XTvpC7R",
        "outputId": "5aa24dd1-cbeb-45ad-e74d-184fc99e2199",
        "colab": {
          "base_uri": "https://localhost:8080/",
          "height": 34
        }
      },
      "source": [
        "DF$Embarked %>% unique()"
      ],
      "execution_count": null,
      "outputs": [
        {
          "output_type": "display_data",
          "data": {
            "text/html": [
              "<style>\n",
              ".list-inline {list-style: none; margin:0; padding: 0}\n",
              ".list-inline>li {display: inline-block}\n",
              ".list-inline>li:not(:last-child)::after {content: \"\\00b7\"; padding: 0 .5ex}\n",
              "</style>\n",
              "<ol class=list-inline><li>'S'</li><li>'C'</li><li>'Q'</li><li>''</li></ol>\n"
            ],
            "text/latex": "\\begin{enumerate*}\n\\item 'S'\n\\item 'C'\n\\item 'Q'\n\\item ''\n\\end{enumerate*}\n",
            "text/markdown": "1. 'S'\n2. 'C'\n3. 'Q'\n4. ''\n\n\n",
            "text/plain": [
              "[1] \"S\" \"C\" \"Q\" \"\" "
            ]
          },
          "metadata": {
            "tags": []
          }
        }
      ]
    },
    {
      "cell_type": "code",
      "metadata": {
        "cellView": "both",
        "id": "D440rnZU2JSb",
        "outputId": "17798059-d9ad-461b-9bc0-83a9aa5f5a48",
        "colab": {
          "base_uri": "https://localhost:8080/"
        }
      },
      "source": [
        "DF <- DF %>% \n",
        " select(-PassengerId, -Name, -Cabin, -Ticket) %>% mutate_at(c(\"Pclass\",\"Survived\",\"Sex\",\"Embarked\"), factor)\n",
        "str(DF)"
      ],
      "execution_count": null,
      "outputs": [
        {
          "output_type": "stream",
          "text": [
            "tibble [891 × 8] (S3: tbl_df/tbl/data.frame)\n",
            " $ Survived: Factor w/ 2 levels \"0\",\"1\": 1 2 2 2 1 1 1 1 2 2 ...\n",
            " $ Pclass  : Factor w/ 3 levels \"1\",\"2\",\"3\": 3 1 3 1 3 3 1 3 3 2 ...\n",
            " $ Sex     : Factor w/ 2 levels \"female\",\"male\": 2 1 1 1 2 2 2 2 1 1 ...\n",
            " $ Age     : num [1:891] 22 38 26 35 35 NA 54 2 27 14 ...\n",
            " $ SibSp   : int [1:891] 1 1 0 1 0 0 0 3 0 1 ...\n",
            " $ Parch   : int [1:891] 0 0 0 0 0 0 0 1 2 0 ...\n",
            " $ Fare    : num [1:891] 7.25 71.28 7.92 53.1 8.05 ...\n",
            " $ Embarked: Factor w/ 4 levels \"\",\"C\",\"Q\",\"S\": 4 2 4 4 4 3 4 4 4 2 ...\n",
            " - attr(*, \".internal.selfref\")=<externalptr> \n"
          ],
          "name": "stdout"
        }
      ]
    },
    {
      "cell_type": "markdown",
      "metadata": {
        "id": "MjC7WbOe0xG4"
      },
      "source": [
        "* Survived(생존여부)와 Pclass(승객 등급)의 연관관계 조사"
      ]
    },
    {
      "cell_type": "code",
      "metadata": {
        "id": "LErL0B190TuP",
        "outputId": "87098169-9ec7-408b-9755-2eee89fb7a28",
        "colab": {
          "base_uri": "https://localhost:8080/"
        }
      },
      "source": [
        "gmodels::CrossTable(DF$Survived, DF$Pclass, \n",
        "                    chisq = T, # 카이제곱 검정\n",
        "                    expected = T, # 기대값(E) 표시\n",
        "                    prop.r = F, prop.c = F) # 각 셀의 비율표시(F)"
      ],
      "execution_count": null,
      "outputs": [
        {
          "output_type": "stream",
          "text": [
            "\n",
            " \n",
            "   Cell Contents\n",
            "|-------------------------|\n",
            "|                       N |\n",
            "|              Expected N |\n",
            "| Chi-square contribution |\n",
            "|         N / Table Total |\n",
            "|-------------------------|\n",
            "\n",
            " \n",
            "Total Observations in Table:  891 \n",
            "\n",
            " \n",
            "             | DF$Pclass \n",
            " DF$Survived |         1 |         2 |         3 | Row Total | \n",
            "-------------|-----------|-----------|-----------|-----------|\n",
            "           0 |        80 |        97 |       372 |       549 | \n",
            "             |   133.091 |   113.374 |   302.535 |           | \n",
            "             |    21.178 |     2.365 |    15.950 |           | \n",
            "             |     0.090 |     0.109 |     0.418 |           | \n",
            "-------------|-----------|-----------|-----------|-----------|\n",
            "           1 |       136 |        87 |       119 |       342 | \n",
            "             |    82.909 |    70.626 |   188.465 |           | \n",
            "             |    33.997 |     3.796 |    25.603 |           | \n",
            "             |     0.153 |     0.098 |     0.134 |           | \n",
            "-------------|-----------|-----------|-----------|-----------|\n",
            "Column Total |       216 |       184 |       491 |       891 | \n",
            "-------------|-----------|-----------|-----------|-----------|\n",
            "\n",
            " \n",
            "Statistics for All Table Factors\n",
            "\n",
            "\n",
            "Pearson's Chi-squared test \n",
            "------------------------------------------------------------\n",
            "Chi^2 =  102.889     d.f. =  2     p =  4.549252e-23 \n",
            "\n",
            "\n",
            " \n"
          ],
          "name": "stdout"
        }
      ]
    },
    {
      "cell_type": "markdown",
      "metadata": {
        "id": "ypxg04OC1agi"
      },
      "source": [
        "* Survived(생존여부)와 Sex(성별)의 연관관계 조사"
      ]
    },
    {
      "cell_type": "code",
      "metadata": {
        "id": "WTw8noit1agl",
        "outputId": "c7259436-5711-4cdc-f1d6-8d8585879dc9",
        "colab": {
          "base_uri": "https://localhost:8080/"
        }
      },
      "source": [
        "gmodels::CrossTable(DF$Survived, DF$Sex, \n",
        "                    chisq = T, # 카이제곱 검정\n",
        "                    expected = T, # 기대값(E) 표시\n",
        "                    prop.r = F, prop.c = F) # 각 셀의 비율표시(F)"
      ],
      "execution_count": null,
      "outputs": [
        {
          "output_type": "stream",
          "text": [
            "\n",
            " \n",
            "   Cell Contents\n",
            "|-------------------------|\n",
            "|                       N |\n",
            "|              Expected N |\n",
            "| Chi-square contribution |\n",
            "|         N / Table Total |\n",
            "|-------------------------|\n",
            "\n",
            " \n",
            "Total Observations in Table:  891 \n",
            "\n",
            " \n",
            "             | DF$Sex \n",
            " DF$Survived |    female |      male | Row Total | \n",
            "-------------|-----------|-----------|-----------|\n",
            "           0 |        81 |       468 |       549 | \n",
            "             |   193.475 |   355.525 |           | \n",
            "             |    65.386 |    35.583 |           | \n",
            "             |     0.091 |     0.525 |           | \n",
            "-------------|-----------|-----------|-----------|\n",
            "           1 |       233 |       109 |       342 | \n",
            "             |   120.525 |   221.475 |           | \n",
            "             |   104.962 |    57.120 |           | \n",
            "             |     0.262 |     0.122 |           | \n",
            "-------------|-----------|-----------|-----------|\n",
            "Column Total |       314 |       577 |       891 | \n",
            "-------------|-----------|-----------|-----------|\n",
            "\n",
            " \n",
            "Statistics for All Table Factors\n",
            "\n",
            "\n",
            "Pearson's Chi-squared test \n",
            "------------------------------------------------------------\n",
            "Chi^2 =  263.0506     d.f. =  1     p =  3.711748e-59 \n",
            "\n",
            "Pearson's Chi-squared test with Yates' continuity correction \n",
            "------------------------------------------------------------\n",
            "Chi^2 =  260.717     d.f. =  1     p =  1.197357e-58 \n",
            "\n",
            " \n"
          ],
          "name": "stdout"
        }
      ]
    },
    {
      "cell_type": "markdown",
      "metadata": {
        "id": "WQloCvwi1htx"
      },
      "source": [
        "* Survived(생존여부)와 Embarked(탑승 장소)의 연관관계 조사"
      ]
    },
    {
      "cell_type": "code",
      "metadata": {
        "id": "Sygip05I1htz",
        "outputId": "f1ba40d4-bd90-411b-9c9a-5fcc745babeb",
        "colab": {
          "base_uri": "https://localhost:8080/"
        }
      },
      "source": [
        "gmodels::CrossTable(DF$Survived, DF$Embarked, \n",
        "                    chisq = T, # 카이제곱 검정\n",
        "                    expected = T, # 기대값(E) 표시\n",
        "                    prop.r = F, prop.c = F) # 각 셀의 비율표시(F)"
      ],
      "execution_count": null,
      "outputs": [
        {
          "output_type": "stream",
          "text": [
            "Warning message in chisq.test(t, correct = FALSE, ...):\n",
            "“Chi-squared approximation may be incorrect”\n"
          ],
          "name": "stderr"
        },
        {
          "output_type": "stream",
          "text": [
            "\n",
            " \n",
            "   Cell Contents\n",
            "|-------------------------|\n",
            "|                       N |\n",
            "|              Expected N |\n",
            "| Chi-square contribution |\n",
            "|         N / Table Total |\n",
            "|-------------------------|\n",
            "\n",
            " \n",
            "Total Observations in Table:  891 \n",
            "\n",
            " \n",
            "             | DF$Embarked \n",
            " DF$Survived |           |         C |         Q |         S | Row Total | \n",
            "-------------|-----------|-----------|-----------|-----------|-----------|\n",
            "           0 |         0 |        75 |        47 |       427 |       549 | \n",
            "             |     1.232 |   103.515 |    47.444 |   396.808 |           | \n",
            "             |     1.232 |     7.855 |     0.004 |     2.297 |           | \n",
            "             |     0.000 |     0.084 |     0.053 |     0.479 |           | \n",
            "-------------|-----------|-----------|-----------|-----------|-----------|\n",
            "           1 |         2 |        93 |        30 |       217 |       342 | \n",
            "             |     0.768 |    64.485 |    29.556 |   247.192 |           | \n",
            "             |     1.978 |    12.609 |     0.007 |     3.688 |           | \n",
            "             |     0.002 |     0.104 |     0.034 |     0.244 |           | \n",
            "-------------|-----------|-----------|-----------|-----------|-----------|\n",
            "Column Total |         2 |       168 |        77 |       644 |       891 | \n",
            "-------------|-----------|-----------|-----------|-----------|-----------|\n",
            "\n",
            " \n",
            "Statistics for All Table Factors\n",
            "\n",
            "\n",
            "Pearson's Chi-squared test \n",
            "------------------------------------------------------------\n",
            "Chi^2 =  29.67061     d.f. =  3     p =  1.618719e-06 \n",
            "\n",
            "\n",
            " \n"
          ],
          "name": "stdout"
        }
      ]
    },
    {
      "cell_type": "markdown",
      "metadata": {
        "id": "fC0qCb4x2qGT"
      },
      "source": [
        "* Pclass(승객 등급)과 Sex(성별)의 연관관계 조사"
      ]
    },
    {
      "cell_type": "code",
      "metadata": {
        "id": "nKoE1Gd-2vVQ",
        "outputId": "24c52b2d-4ee4-45fc-d14d-33b5c30fef27",
        "colab": {
          "base_uri": "https://localhost:8080/"
        }
      },
      "source": [
        "gmodels::CrossTable(DF$Pclass, DF$Sex, \n",
        "                    chisq = T, # 카이제곱 검정\n",
        "                    expected = T, # 기대값(E) 표시\n",
        "                    prop.r = F, prop.c = F) # 각 셀의 비율표시(F)"
      ],
      "execution_count": null,
      "outputs": [
        {
          "output_type": "stream",
          "text": [
            "\n",
            " \n",
            "   Cell Contents\n",
            "|-------------------------|\n",
            "|                       N |\n",
            "|              Expected N |\n",
            "| Chi-square contribution |\n",
            "|         N / Table Total |\n",
            "|-------------------------|\n",
            "\n",
            " \n",
            "Total Observations in Table:  891 \n",
            "\n",
            " \n",
            "             | DF$Sex \n",
            "   DF$Pclass |    female |      male | Row Total | \n",
            "-------------|-----------|-----------|-----------|\n",
            "           1 |        94 |       122 |       216 | \n",
            "             |    76.121 |   139.879 |           | \n",
            "             |     4.199 |     2.285 |           | \n",
            "             |     0.105 |     0.137 |           | \n",
            "-------------|-----------|-----------|-----------|\n",
            "           2 |        76 |       108 |       184 | \n",
            "             |    64.844 |   119.156 |           | \n",
            "             |     1.919 |     1.044 |           | \n",
            "             |     0.085 |     0.121 |           | \n",
            "-------------|-----------|-----------|-----------|\n",
            "           3 |       144 |       347 |       491 | \n",
            "             |   173.035 |   317.965 |           | \n",
            "             |     4.872 |     2.651 |           | \n",
            "             |     0.162 |     0.389 |           | \n",
            "-------------|-----------|-----------|-----------|\n",
            "Column Total |       314 |       577 |       891 | \n",
            "-------------|-----------|-----------|-----------|\n",
            "\n",
            " \n",
            "Statistics for All Table Factors\n",
            "\n",
            "\n",
            "Pearson's Chi-squared test \n",
            "------------------------------------------------------------\n",
            "Chi^2 =  16.9715     d.f. =  2     p =  0.0002063886 \n",
            "\n",
            "\n",
            " \n"
          ],
          "name": "stdout"
        }
      ]
    },
    {
      "cell_type": "markdown",
      "metadata": {
        "id": "dzUDWt0N2qLy"
      },
      "source": [
        "* Sex(성별)과 Embarked(탑승 장소)의 연관관계 조사"
      ]
    },
    {
      "cell_type": "code",
      "metadata": {
        "id": "nWMAVvlS3D2F",
        "outputId": "77963152-8921-4423-a300-237ccd56f7f8",
        "colab": {
          "base_uri": "https://localhost:8080/"
        }
      },
      "source": [
        "gmodels::CrossTable(DF$Sex, DF$Embarked, \n",
        "                    chisq = T, # 카이제곱 검정\n",
        "                    expected = T, # 기대값(E) 표시\n",
        "                    prop.r = F, prop.c = F) # 각 셀의 비율표시(F)"
      ],
      "execution_count": null,
      "outputs": [
        {
          "output_type": "stream",
          "text": [
            "Warning message in chisq.test(t, correct = FALSE, ...):\n",
            "“Chi-squared approximation may be incorrect”\n"
          ],
          "name": "stderr"
        },
        {
          "output_type": "stream",
          "text": [
            "\n",
            " \n",
            "   Cell Contents\n",
            "|-------------------------|\n",
            "|                       N |\n",
            "|              Expected N |\n",
            "| Chi-square contribution |\n",
            "|         N / Table Total |\n",
            "|-------------------------|\n",
            "\n",
            " \n",
            "Total Observations in Table:  891 \n",
            "\n",
            " \n",
            "             | DF$Embarked \n",
            "      DF$Sex |           |         C |         Q |         S | Row Total | \n",
            "-------------|-----------|-----------|-----------|-----------|-----------|\n",
            "      female |         2 |        73 |        36 |       203 |       314 | \n",
            "             |     0.705 |    59.205 |    27.136 |   226.954 |           | \n",
            "             |     2.380 |     3.214 |     2.896 |     2.528 |           | \n",
            "             |     0.002 |     0.082 |     0.040 |     0.228 |           | \n",
            "-------------|-----------|-----------|-----------|-----------|-----------|\n",
            "        male |         0 |        95 |        41 |       441 |       577 | \n",
            "             |     1.295 |   108.795 |    49.864 |   417.046 |           | \n",
            "             |     1.295 |     1.749 |     1.576 |     1.376 |           | \n",
            "             |     0.000 |     0.107 |     0.046 |     0.495 |           | \n",
            "-------------|-----------|-----------|-----------|-----------|-----------|\n",
            "Column Total |         2 |       168 |        77 |       644 |       891 | \n",
            "-------------|-----------|-----------|-----------|-----------|-----------|\n",
            "\n",
            " \n",
            "Statistics for All Table Factors\n",
            "\n",
            "\n",
            "Pearson's Chi-squared test \n",
            "------------------------------------------------------------\n",
            "Chi^2 =  17.01377     d.f. =  3     p =  0.0007021496 \n",
            "\n",
            "\n",
            " \n"
          ],
          "name": "stdout"
        }
      ]
    },
    {
      "cell_type": "code",
      "metadata": {
        "id": "mt4AsNXfZykX"
      },
      "source": [
        ""
      ],
      "execution_count": null,
      "outputs": []
    },
    {
      "cell_type": "markdown",
      "metadata": {
        "id": "-RQN7M1OBb52"
      },
      "source": [
        "### **<데이터베이스 연동>**\n",
        "\n",
        "* 데이터베이스란?\n",
        "  - 데이터베이스는 체계화된 데이터의 모임이다. 즉, 작성된 목록으로서 여러 응용시스템들의 통합된 정보들을 저장하여 운영할 수 있는 공용데이터들의 묶음이다. 여러 사람들이 공유하고 사용할 목적으로 통합 관리되는 정보의 집합이다. 논리적으로 연관된 하나 이상의 자료의 모음으로 그 내용을 고도로 구조화함으로써 검색과 갱신의 효율화를 꾀한 것이다. 즉, 몇 개의 자료 파일을 조직적으로 통합하여 자료 항목의 중복을 없애고 자료를 구조화하여 기억시켜 놓은 자료의 집합체라고 할 수 있다.\n",
        "\n",
        "출처: https://neos518.tistory.com/122 [As I've always been]\n",
        "\n"
      ]
    },
    {
      "cell_type": "code",
      "metadata": {
        "cellView": "both",
        "id": "zL-ERaX7ihe6"
      },
      "source": [
        "#install.packages(\"tidyverse\")\n",
        "library(tidyverse)"
      ],
      "execution_count": null,
      "outputs": []
    },
    {
      "cell_type": "markdown",
      "metadata": {
        "id": "Bid1xhS0r9OH"
      },
      "source": [
        "#### **A. SQLite**\n",
        "\n",
        "https://ehdvudee.tistory.com/23\n",
        "\n",
        "---\n"
      ]
    },
    {
      "cell_type": "code",
      "metadata": {
        "cellView": "both",
        "id": "DQ1nMZ6wwrOJ",
        "outputId": "5f20e75b-407f-41dd-f370-1f0c0a59976b",
        "colab": {
          "base_uri": "https://localhost:8080/"
        }
      },
      "source": [
        "## 두가지 패키지를 설치함으로써 데이터베이스를 사용할수 있다.\n",
        "\n",
        "install.packages(c(\"DBI\", \"RSQLite\"))"
      ],
      "execution_count": null,
      "outputs": [
        {
          "output_type": "stream",
          "text": [
            "Installing packages into ‘/usr/local/lib/R/site-library’\n",
            "(as ‘lib’ is unspecified)\n",
            "\n",
            "also installing the dependencies ‘bit’, ‘bit64’, ‘plogr’\n",
            "\n",
            "\n"
          ],
          "name": "stderr"
        }
      ]
    },
    {
      "cell_type": "code",
      "metadata": {
        "cellView": "both",
        "id": "1M9IJu9cwwWS"
      },
      "source": [
        "library(DBI)\n",
        "library(RSQLite)"
      ],
      "execution_count": null,
      "outputs": []
    },
    {
      "cell_type": "markdown",
      "metadata": {
        "id": "4f0K1D28yYcq"
      },
      "source": [
        "* connection 생성"
      ]
    },
    {
      "cell_type": "code",
      "metadata": {
        "cellView": "both",
        "id": "kDZ9t2ZQxxZy",
        "outputId": "a3ca1425-3c7d-4adf-93a0-73d949e97a5a",
        "colab": {
          "base_uri": "https://localhost:8080/",
          "height": 298
        }
      },
      "source": [
        "# 현재 폴더가 없기 때문에 오류남\n",
        "\n",
        "con <- RSQLite::dbConnect(drv = SQLite(), dbname = \"/sqlite/height_weight.sqlite\")"
      ],
      "execution_count": null,
      "outputs": [
        {
          "output_type": "error",
          "ename": "ERROR",
          "evalue": "ignored",
          "traceback": [
            "Error: Could not connect to database:\nunable to open database file\nTraceback:\n",
            "1. RSQLite::dbConnect(drv = SQLite(), dbname = \"/sqlite/height_weight.sqlite\")",
            "2. RSQLite::dbConnect(drv = SQLite(), dbname = \"/sqlite/height_weight.sqlite\")",
            "3. .local(drv, ...)",
            "4. new(\"SQLiteConnection\", ptr = connection_connect(dbname, loadable.extensions, \n .     flags, vfs), dbname = dbname, flags = flags, vfs = vfs, loadable.extensions = loadable.extensions, \n .     ref = new.env(parent = emptyenv()), bigint = bigint)",
            "5. initialize(value, ...)",
            "6. initialize(value, ...)",
            "7. connection_connect(dbname, loadable.extensions, flags, vfs)"
          ]
        }
      ]
    },
    {
      "cell_type": "code",
      "metadata": {
        "cellView": "both",
        "id": "rZuMncRZfHS7",
        "outputId": "928df02b-0828-42b0-b206-c31b667f4dc4",
        "colab": {
          "base_uri": "https://localhost:8080/",
          "height": 34
        }
      },
      "source": [
        "# 현재 디렉토리\n",
        "# 현재 저장되는 공간 -> content 밑에 squlite 폴더 생성\n",
        "\n",
        "getwd()"
      ],
      "execution_count": null,
      "outputs": [
        {
          "output_type": "display_data",
          "data": {
            "text/html": [
              "'/content'"
            ],
            "text/latex": "'/content'",
            "text/markdown": "'/content'",
            "text/plain": [
              "[1] \"/content\""
            ]
          },
          "metadata": {
            "tags": []
          }
        }
      ]
    },
    {
      "cell_type": "code",
      "metadata": {
        "cellView": "both",
        "id": "--hzOjZxfNml"
      },
      "source": [
        "# 위에처럼 파일 만들어도 되고, dir을 이용해서 폴더 만들어줘도 된다.\n",
        "# 워킹디렉토리에 폴더 생성\n",
        "\n",
        "dir.create(\"sqlite\")"
      ],
      "execution_count": null,
      "outputs": []
    },
    {
      "cell_type": "code",
      "metadata": {
        "cellView": "both",
        "id": "Fg2ajI0SfShn",
        "outputId": "014d97df-5880-4a29-fe59-f94650553722",
        "colab": {
          "base_uri": "https://localhost:8080/",
          "height": 51
        }
      },
      "source": [
        "# 어떤 폴더가 있는지 보여줌\n",
        "\n",
        "list.dirs()"
      ],
      "execution_count": null,
      "outputs": [
        {
          "output_type": "display_data",
          "data": {
            "text/html": [
              "<style>\n",
              ".list-inline {list-style: none; margin:0; padding: 0}\n",
              ".list-inline>li {display: inline-block}\n",
              ".list-inline>li:not(:last-child)::after {content: \"\\00b7\"; padding: 0 .5ex}\n",
              "</style>\n",
              "<ol class=list-inline><li>'.'</li><li>'./.config'</li><li>'./.config/configurations'</li><li>'./.config/logs'</li><li>'./.config/logs/2020.11.06'</li><li>'./.ipynb_checkpoints'</li><li>'./sample_data'</li><li>'./sqlite'</li><li>'./squlit'</li></ol>\n"
            ],
            "text/latex": "\\begin{enumerate*}\n\\item '.'\n\\item './.config'\n\\item './.config/configurations'\n\\item './.config/logs'\n\\item './.config/logs/2020.11.06'\n\\item './.ipynb\\_checkpoints'\n\\item './sample\\_data'\n\\item './sqlite'\n\\item './squlit'\n\\end{enumerate*}\n",
            "text/markdown": "1. '.'\n2. './.config'\n3. './.config/configurations'\n4. './.config/logs'\n5. './.config/logs/2020.11.06'\n6. './.ipynb_checkpoints'\n7. './sample_data'\n8. './sqlite'\n9. './squlit'\n\n\n",
            "text/plain": [
              "[1] \".\"                         \"./.config\"                \n",
              "[3] \"./.config/configurations\"  \"./.config/logs\"           \n",
              "[5] \"./.config/logs/2020.11.06\" \"./.ipynb_checkpoints\"     \n",
              "[7] \"./sample_data\"             \"./sqlite\"                 \n",
              "[9] \"./squlit\"                 "
            ]
          },
          "metadata": {
            "tags": []
          }
        }
      ]
    },
    {
      "cell_type": "code",
      "metadata": {
        "cellView": "both",
        "id": "auDWMq-mfAV-"
      },
      "source": [
        "# sqlite 폴더가 없음. 따라서 생성\n",
        "# sqlite밑에 (height_weight)파일을 생성\n",
        "# 이 한줄로 R에서 데이터베이스를 사용할 수 있게되는거임. -> 파일을 생성해야함\n",
        "\n",
        "con <- RSQLite::dbConnect(drv = RSQLite::SQLite(), dbname = \"sqlite/height_weight.sqlite\")"
      ],
      "execution_count": null,
      "outputs": []
    },
    {
      "cell_type": "code",
      "metadata": {
        "cellView": "both",
        "id": "RfFAHAKiqEE5"
      },
      "source": [
        "# RSQLite::dbDisconnect(con) # connection 끊기"
      ],
      "execution_count": null,
      "outputs": []
    },
    {
      "cell_type": "code",
      "metadata": {
        "cellView": "both",
        "id": "qlJx2Nuex5dm",
        "outputId": "a8bd9efa-712e-46f3-ad1d-bbda7c579790",
        "colab": {
          "base_uri": "https://localhost:8080/",
          "height": 34
        }
      },
      "source": [
        "\n",
        "list.files(\"sqlite/\")"
      ],
      "execution_count": null,
      "outputs": [
        {
          "output_type": "display_data",
          "data": {
            "text/html": [
              "<style>\n",
              ".list-inline {list-style: none; margin:0; padding: 0}\n",
              ".list-inline>li {display: inline-block}\n",
              ".list-inline>li:not(:last-child)::after {content: \"\\00b7\"; padding: 0 .5ex}\n",
              "</style>\n",
              "<ol class=list-inline><li>'height_weight.sqlite'</li><li>'seoul_bike.sqlite'</li></ol>\n"
            ],
            "text/latex": "\\begin{enumerate*}\n\\item 'height\\_weight.sqlite'\n\\item 'seoul\\_bike.sqlite'\n\\end{enumerate*}\n",
            "text/markdown": "1. 'height_weight.sqlite'\n2. 'seoul_bike.sqlite'\n\n\n",
            "text/plain": [
              "[1] \"height_weight.sqlite\" \"seoul_bike.sqlite\"   "
            ]
          },
          "metadata": {
            "tags": []
          }
        }
      ]
    },
    {
      "cell_type": "code",
      "metadata": {
        "cellView": "both",
        "id": "PRH_T3gAgUQt",
        "outputId": "0836ec8f-9aa9-409e-e05f-b452d02c9317",
        "colab": {
          "base_uri": "https://localhost:8080/",
          "height": 215
        }
      },
      "source": [
        "dbGetInfo(dbObj = con)"
      ],
      "execution_count": null,
      "outputs": [
        {
          "output_type": "display_data",
          "data": {
            "text/html": [
              "<dl>\n",
              "\t<dt>$db.version</dt>\n",
              "\t\t<dd>'3.33.0'</dd>\n",
              "\t<dt>$dbname</dt>\n",
              "\t\t<dd>'sqlite/height_weight.sqlite'</dd>\n",
              "\t<dt>$username</dt>\n",
              "\t\t<dd>&lt;NA&gt;</dd>\n",
              "\t<dt>$host</dt>\n",
              "\t\t<dd>&lt;NA&gt;</dd>\n",
              "\t<dt>$port</dt>\n",
              "\t\t<dd>&lt;NA&gt;</dd>\n",
              "</dl>\n"
            ],
            "text/latex": "\\begin{description}\n\\item[\\$db.version] '3.33.0'\n\\item[\\$dbname] 'sqlite/height\\_weight.sqlite'\n\\item[\\$username] <NA>\n\\item[\\$host] <NA>\n\\item[\\$port] <NA>\n\\end{description}\n",
            "text/markdown": "$db.version\n:   '3.33.0'\n$dbname\n:   'sqlite/height_weight.sqlite'\n$username\n:   &lt;NA&gt;\n$host\n:   &lt;NA&gt;\n$port\n:   &lt;NA&gt;\n\n\n",
            "text/plain": [
              "$db.version\n",
              "[1] \"3.33.0\"\n",
              "\n",
              "$dbname\n",
              "[1] \"sqlite/height_weight.sqlite\"\n",
              "\n",
              "$username\n",
              "[1] NA\n",
              "\n",
              "$host\n",
              "[1] NA\n",
              "\n",
              "$port\n",
              "[1] NA\n"
            ]
          },
          "metadata": {
            "tags": []
          }
        }
      ]
    },
    {
      "cell_type": "markdown",
      "metadata": {
        "id": "M4OBrw8hjNqL"
      },
      "source": [
        "* 테이블 생성하기\n",
        "\n",
        "```\n",
        "ID : 사람의 고유한 ID(primary key), integer\n",
        "HEIGHT : 키(cm), numeric\n",
        "WEIGHT : 몸무게(kg), numeric\n",
        "\n",
        "### PRIMARY KEY ??? --> https://jins-dev.tistory.com/entry/RDB-MySQL-%EC%97%90%EC%84%9C%EC%9D%98-Primary-Key-%EB%9E%80\n",
        "```\n",
        "\n"
      ]
    },
    {
      "cell_type": "code",
      "metadata": {
        "id": "cCuAJ_Ag8gJu",
        "outputId": "08965357-bb90-4d10-c9e9-7f643f463d7a",
        "colab": {
          "base_uri": "https://localhost:8080/",
          "height": 17
        }
      },
      "source": [
        "# 테이블이 있는지 확인 -> 아무 테이블도 없는것으로 나옴\n",
        "\n",
        "dbListTables(con)"
      ],
      "execution_count": null,
      "outputs": [
        {
          "output_type": "display_data",
          "data": {
            "text/html": [
              ""
            ],
            "text/latex": "",
            "text/markdown": "",
            "text/plain": [
              "character(0)"
            ]
          },
          "metadata": {
            "tags": []
          }
        }
      ]
    },
    {
      "cell_type": "markdown",
      "metadata": {
        "id": "Kyrys-Autdn_"
      },
      "source": [
        "- ``dbSendQuery``는 DB에 쿼리를 보낼 때 사용. 단, 데이터를 가지고 오지는 못함. \n",
        "\n",
        "- 또한, ``dbSendQuery``의 경우 ``dbClearResult`` 함수를 이용하여 보낸 쿼리의 처리결과를 제거해주어야 함"
      ]
    },
    {
      "cell_type": "code",
      "metadata": {
        "cellView": "both",
        "id": "k10jnqO4leIz"
      },
      "source": [
        "# 테이블 생성\n",
        "# dbSendQuery함수를 이용해 DB에 쿼리를 보낸다. -> 댠, 데이터를 가지고 오지는 못한다.\n",
        "# 따라서 쿼리만 보낼 수 있다.\n",
        "\n",
        "table_query <- dbSendQuery(conn = con, \n",
        "                           statement = \"CREATE TABLE HW_table(\n",
        "                                          ID INTEGER PRIMARY KEY,\n",
        "                                          HEIGHT NUMERIC,\n",
        "                                          WEIGHT NUMERIC)\")"
      ],
      "execution_count": null,
      "outputs": []
    },
    {
      "cell_type": "code",
      "metadata": {
        "cellView": "both",
        "id": "Lxi7Tij8lf8u"
      },
      "source": [
        "# 쿼리의 결과를 제거해줘야함\n",
        "\n",
        "dbClearResult(table_query)"
      ],
      "execution_count": null,
      "outputs": []
    },
    {
      "cell_type": "markdown",
      "metadata": {
        "id": "xJ2fCMEAtxpa"
      },
      "source": [
        "* 생성된 table 확인"
      ]
    },
    {
      "cell_type": "code",
      "metadata": {
        "id": "puCWb8Vq9uoH",
        "outputId": "3eaafd49-576b-4795-d2bb-b3d762b59050",
        "colab": {
          "base_uri": "https://localhost:8080/",
          "height": 34
        }
      },
      "source": [
        "# 테이블이 만들어진것을 확인할 수 잇다.\n",
        "\n",
        "dbListTables(con)"
      ],
      "execution_count": null,
      "outputs": [
        {
          "output_type": "display_data",
          "data": {
            "text/html": [
              "'HW_table'"
            ],
            "text/latex": "'HW\\_table'",
            "text/markdown": "'HW_table'",
            "text/plain": [
              "[1] \"HW_table\""
            ]
          },
          "metadata": {
            "tags": []
          }
        }
      ]
    },
    {
      "cell_type": "code",
      "metadata": {
        "cellView": "both",
        "id": "C7-vBzyotXHz",
        "outputId": "0bfa1e99-c483-4575-f950-e023bd9fc4f7",
        "colab": {
          "base_uri": "https://localhost:8080/",
          "height": 34
        }
      },
      "source": [
        "# 테이블 이름을 주면 있는지 없는지 파악할 수 있다.\n",
        "\n",
        "\n",
        "dbExistsTable(con, \"HW_table\") # False 일 경우, 생성이 안 된 것."
      ],
      "execution_count": null,
      "outputs": [
        {
          "output_type": "display_data",
          "data": {
            "text/html": [
              "TRUE"
            ],
            "text/latex": "TRUE",
            "text/markdown": "TRUE",
            "text/plain": [
              "[1] TRUE"
            ]
          },
          "metadata": {
            "tags": []
          }
        }
      ]
    },
    {
      "cell_type": "code",
      "metadata": {
        "cellView": "both",
        "id": "IdNAzycpgh7s",
        "outputId": "f1a70f41-a862-4cec-d3ab-a6169e550457",
        "colab": {
          "base_uri": "https://localhost:8080/",
          "height": 34
        }
      },
      "source": [
        "dbListFields(con, \"HW_table\")"
      ],
      "execution_count": null,
      "outputs": [
        {
          "output_type": "display_data",
          "data": {
            "text/html": [
              "<style>\n",
              ".list-inline {list-style: none; margin:0; padding: 0}\n",
              ".list-inline>li {display: inline-block}\n",
              ".list-inline>li:not(:last-child)::after {content: \"\\00b7\"; padding: 0 .5ex}\n",
              "</style>\n",
              "<ol class=list-inline><li>'ID'</li><li>'HEIGHT'</li><li>'WEIGHT'</li></ol>\n"
            ],
            "text/latex": "\\begin{enumerate*}\n\\item 'ID'\n\\item 'HEIGHT'\n\\item 'WEIGHT'\n\\end{enumerate*}\n",
            "text/markdown": "1. 'ID'\n2. 'HEIGHT'\n3. 'WEIGHT'\n\n\n",
            "text/plain": [
              "[1] \"ID\"     \"HEIGHT\" \"WEIGHT\""
            ]
          },
          "metadata": {
            "tags": []
          }
        }
      ]
    },
    {
      "cell_type": "markdown",
      "metadata": {
        "id": "PghM_SC8fldn"
      },
      "source": [
        "* 생성된 `HW_table`에 데이터 넣기 - 한번에 1행(row)"
      ]
    },
    {
      "cell_type": "code",
      "metadata": {
        "cellView": "both",
        "id": "3U0mSVY6g1uN"
      },
      "source": [
        "# dbSendQuery = 한번에 1개 행씩 넣어주는 방법\n",
        "# dbSendQuery은 한번에 1개행만 넣을 수 있다.\n",
        "\n",
        "row_add_query  <- dbSendQuery(con, \n",
        "                                  \"INSERT INTO HW_table (ID, HEIGHT, WEIGHT) VALUES (1, 183, 85)\")\n",
        "dbClearResult(row_add_query)#"
      ],
      "execution_count": null,
      "outputs": []
    },
    {
      "cell_type": "code",
      "metadata": {
        "cellView": "both",
        "id": "XL1dAB-GhwTM"
      },
      "source": [
        "# error 오류남\n",
        "\n",
        "# ID값이 중복되서 들어가서 -> primary key라서\n",
        "\n",
        "# row_add_query  <- dbSendQuery(con, \n",
        "#                                   \"INSERT INTO HW_table (ID, HEIGHT, WEIGHT) VALUES (1, 182, 67)\")\n",
        "# dbClearResult(row_add_query)"
      ],
      "execution_count": null,
      "outputs": []
    },
    {
      "cell_type": "code",
      "metadata": {
        "cellView": "both",
        "id": "4ewwWAvIh1zs"
      },
      "source": [
        "row_add_query  <- dbSendQuery(con, \n",
        "                                  \"INSERT INTO HW_table (ID, HEIGHT, WEIGHT) VALUES (2, 170, 68)\")\n",
        "dbClearResult(row_add_query)"
      ],
      "execution_count": null,
      "outputs": []
    },
    {
      "cell_type": "code",
      "metadata": {
        "cellView": "both",
        "id": "yGBQdEqpiNcf"
      },
      "source": [
        "row_add_query  <- dbSendQuery(con, \n",
        "                                  \"INSERT INTO HW_table (ID, HEIGHT, WEIGHT) VALUES (3, 165, 65)\")\n",
        "dbClearResult(row_add_query)"
      ],
      "execution_count": null,
      "outputs": []
    },
    {
      "cell_type": "code",
      "metadata": {
        "cellView": "both",
        "id": "tg8dhEjtikgr"
      },
      "source": [
        "row_add_query  <- dbSendQuery(con, \n",
        "                                  \"INSERT INTO HW_table (ID, HEIGHT, WEIGHT) VALUES (5, 165, 65)\")\n",
        "dbClearResult(row_add_query)"
      ],
      "execution_count": null,
      "outputs": []
    },
    {
      "cell_type": "markdown",
      "metadata": {
        "id": "kvh-5m81iDWz"
      },
      "source": [
        "* 테이블에서 데이터 가져오기"
      ]
    },
    {
      "cell_type": "code",
      "metadata": {
        "cellView": "both",
        "id": "u5_c2SIviApX",
        "outputId": "68126410-fa4a-489d-ef8b-193c391846c6",
        "colab": {
          "base_uri": "https://localhost:8080/",
          "height": 162
        }
      },
      "source": [
        "# dbGetQuery = 테이블에서 데이터를 가져올 수 있다.\n",
        "# 데이터 프레임의 형태로 반환됨\n",
        "\n",
        "\n",
        "dbGetQuery(con, \"SELECT * FROM HW_table\")"
      ],
      "execution_count": null,
      "outputs": [
        {
          "output_type": "display_data",
          "data": {
            "text/html": [
              "<table>\n",
              "<caption>A data.frame: 4 × 3</caption>\n",
              "<thead>\n",
              "\t<tr><th scope=col>ID</th><th scope=col>HEIGHT</th><th scope=col>WEIGHT</th></tr>\n",
              "\t<tr><th scope=col>&lt;int&gt;</th><th scope=col>&lt;int&gt;</th><th scope=col>&lt;int&gt;</th></tr>\n",
              "</thead>\n",
              "<tbody>\n",
              "\t<tr><td>1</td><td>183</td><td>85</td></tr>\n",
              "\t<tr><td>2</td><td>170</td><td>68</td></tr>\n",
              "\t<tr><td>3</td><td>165</td><td>65</td></tr>\n",
              "\t<tr><td>5</td><td>165</td><td>65</td></tr>\n",
              "</tbody>\n",
              "</table>\n"
            ],
            "text/latex": "A data.frame: 4 × 3\n\\begin{tabular}{lll}\n ID & HEIGHT & WEIGHT\\\\\n <int> & <int> & <int>\\\\\n\\hline\n\t 1 & 183 & 85\\\\\n\t 2 & 170 & 68\\\\\n\t 3 & 165 & 65\\\\\n\t 5 & 165 & 65\\\\\n\\end{tabular}\n",
            "text/markdown": "\nA data.frame: 4 × 3\n\n| ID &lt;int&gt; | HEIGHT &lt;int&gt; | WEIGHT &lt;int&gt; |\n|---|---|---|\n| 1 | 183 | 85 |\n| 2 | 170 | 68 |\n| 3 | 165 | 65 |\n| 5 | 165 | 65 |\n\n",
            "text/plain": [
              "  ID HEIGHT WEIGHT\n",
              "1 1  183    85    \n",
              "2 2  170    68    \n",
              "3 3  165    65    \n",
              "4 5  165    65    "
            ]
          },
          "metadata": {
            "tags": []
          }
        }
      ]
    },
    {
      "cell_type": "code",
      "metadata": {
        "cellView": "both",
        "id": "ZiZsAOmhjbOR",
        "outputId": "166b49f3-9981-4bea-c223-252dad464cbf",
        "colab": {
          "base_uri": "https://localhost:8080/"
        }
      },
      "source": [
        "# 데이터 베이스로부터 받아온 정보들을 DF에다가 저장\n",
        "\n",
        "\n",
        "DF <- dbGetQuery(con, \"SELECT * FROM HW_table\")\n",
        "DF %>% str()"
      ],
      "execution_count": null,
      "outputs": [
        {
          "output_type": "stream",
          "text": [
            "'data.frame':\t4 obs. of  3 variables:\n",
            " $ ID    : int  1 2 3 5\n",
            " $ HEIGHT: int  183 170 165 165\n",
            " $ WEIGHT: int  85 68 65 65\n"
          ],
          "name": "stdout"
        }
      ]
    },
    {
      "cell_type": "code",
      "metadata": {
        "cellView": "both",
        "id": "D4KKhccUkUXq",
        "outputId": "e565248a-8c27-4127-8fe6-6ce7be4c6535",
        "colab": {
          "base_uri": "https://localhost:8080/",
          "height": 341
        }
      },
      "source": [
        "# lm=회귀분석 \n",
        "\n",
        "lm(HEIGHT ~ WEIGHT, data = DF) %>% summary()"
      ],
      "execution_count": null,
      "outputs": [
        {
          "output_type": "display_data",
          "data": {
            "text/plain": [
              "\n",
              "Call:\n",
              "lm(formula = HEIGHT ~ WEIGHT, data = DF)\n",
              "\n",
              "Residuals:\n",
              "      1       2       3       4 \n",
              "-0.2493  1.6621 -0.7064 -0.7064 \n",
              "\n",
              "Coefficients:\n",
              "             Estimate Std. Error t value Pr(>|t|)   \n",
              "(Intercept) 108.69196    5.92035   18.36  0.00295 **\n",
              "WEIGHT        0.87715    0.08311   10.55  0.00886 **\n",
              "---\n",
              "Signif. codes:  0 '***' 0.001 '**' 0.01 '*' 0.05 '.' 0.1 ' ' 1\n",
              "\n",
              "Residual standard error: 1.383 on 2 degrees of freedom\n",
              "Multiple R-squared:  0.9824,\tAdjusted R-squared:  0.9735 \n",
              "F-statistic: 111.4 on 1 and 2 DF,  p-value: 0.008858\n"
            ]
          },
          "metadata": {
            "tags": []
          }
        }
      ]
    },
    {
      "cell_type": "code",
      "metadata": {
        "cellView": "both",
        "id": "xNqyxsMEizli",
        "outputId": "b1448eae-4eaa-4ad9-873c-22e694bac7e4",
        "colab": {
          "base_uri": "https://localhost:8080/",
          "height": 179
        }
      },
      "source": [
        "dbGetQuery(con, \"SELECT ID, HEIGHT FROM HW_table\")"
      ],
      "execution_count": null,
      "outputs": [
        {
          "output_type": "display_data",
          "data": {
            "text/html": [
              "<table>\n",
              "<caption>A data.frame: 4 × 2</caption>\n",
              "<thead>\n",
              "\t<tr><th scope=col>ID</th><th scope=col>HEIGHT</th></tr>\n",
              "\t<tr><th scope=col>&lt;int&gt;</th><th scope=col>&lt;int&gt;</th></tr>\n",
              "</thead>\n",
              "<tbody>\n",
              "\t<tr><td>1</td><td>183</td></tr>\n",
              "\t<tr><td>2</td><td>170</td></tr>\n",
              "\t<tr><td>3</td><td>165</td></tr>\n",
              "\t<tr><td>5</td><td>165</td></tr>\n",
              "</tbody>\n",
              "</table>\n"
            ],
            "text/latex": "A data.frame: 4 × 2\n\\begin{tabular}{ll}\n ID & HEIGHT\\\\\n <int> & <int>\\\\\n\\hline\n\t 1 & 183\\\\\n\t 2 & 170\\\\\n\t 3 & 165\\\\\n\t 5 & 165\\\\\n\\end{tabular}\n",
            "text/markdown": "\nA data.frame: 4 × 2\n\n| ID &lt;int&gt; | HEIGHT &lt;int&gt; |\n|---|---|\n| 1 | 183 |\n| 2 | 170 |\n| 3 | 165 |\n| 5 | 165 |\n\n",
            "text/plain": [
              "  ID HEIGHT\n",
              "1 1  183   \n",
              "2 2  170   \n",
              "3 3  165   \n",
              "4 5  165   "
            ]
          },
          "metadata": {
            "tags": []
          }
        }
      ]
    },
    {
      "cell_type": "code",
      "metadata": {
        "cellView": "both",
        "id": "0VJAI6PCkdKW",
        "outputId": "ee65fb3d-7a52-4674-f7a0-d848bf318991",
        "colab": {
          "base_uri": "https://localhost:8080/",
          "height": 99
        }
      },
      "source": [
        "# 조건을 걸어서 가져옴\n",
        "\n",
        "dbGetQuery(con, \"SELECT * FROM HW_table WHERE HEIGHT >= 180\")"
      ],
      "execution_count": null,
      "outputs": [
        {
          "output_type": "display_data",
          "data": {
            "text/html": [
              "<table>\n",
              "<caption>A data.frame: 1 × 3</caption>\n",
              "<thead>\n",
              "\t<tr><th scope=col>ID</th><th scope=col>HEIGHT</th><th scope=col>WEIGHT</th></tr>\n",
              "\t<tr><th scope=col>&lt;int&gt;</th><th scope=col>&lt;int&gt;</th><th scope=col>&lt;int&gt;</th></tr>\n",
              "</thead>\n",
              "<tbody>\n",
              "\t<tr><td>1</td><td>183</td><td>85</td></tr>\n",
              "</tbody>\n",
              "</table>\n"
            ],
            "text/latex": "A data.frame: 1 × 3\n\\begin{tabular}{lll}\n ID & HEIGHT & WEIGHT\\\\\n <int> & <int> & <int>\\\\\n\\hline\n\t 1 & 183 & 85\\\\\n\\end{tabular}\n",
            "text/markdown": "\nA data.frame: 1 × 3\n\n| ID &lt;int&gt; | HEIGHT &lt;int&gt; | WEIGHT &lt;int&gt; |\n|---|---|---|\n| 1 | 183 | 85 |\n\n",
            "text/plain": [
              "  ID HEIGHT WEIGHT\n",
              "1 1  183    85    "
            ]
          },
          "metadata": {
            "tags": []
          }
        }
      ]
    },
    {
      "cell_type": "code",
      "metadata": {
        "cellView": "both",
        "id": "_aYPZvalkkFB",
        "outputId": "962d3975-4283-4cf9-dfc6-0f31dbffa35f",
        "colab": {
          "base_uri": "https://localhost:8080/",
          "height": 120
        }
      },
      "source": [
        "dbGetQuery(con, \"SELECT * FROM HW_table WHERE HEIGHT >= 180 or WEIGHT >= 68\")"
      ],
      "execution_count": null,
      "outputs": [
        {
          "output_type": "display_data",
          "data": {
            "text/html": [
              "<table>\n",
              "<caption>A data.frame: 2 × 3</caption>\n",
              "<thead>\n",
              "\t<tr><th scope=col>ID</th><th scope=col>HEIGHT</th><th scope=col>WEIGHT</th></tr>\n",
              "\t<tr><th scope=col>&lt;int&gt;</th><th scope=col>&lt;int&gt;</th><th scope=col>&lt;int&gt;</th></tr>\n",
              "</thead>\n",
              "<tbody>\n",
              "\t<tr><td>1</td><td>183</td><td>85</td></tr>\n",
              "\t<tr><td>2</td><td>170</td><td>68</td></tr>\n",
              "</tbody>\n",
              "</table>\n"
            ],
            "text/latex": "A data.frame: 2 × 3\n\\begin{tabular}{lll}\n ID & HEIGHT & WEIGHT\\\\\n <int> & <int> & <int>\\\\\n\\hline\n\t 1 & 183 & 85\\\\\n\t 2 & 170 & 68\\\\\n\\end{tabular}\n",
            "text/markdown": "\nA data.frame: 2 × 3\n\n| ID &lt;int&gt; | HEIGHT &lt;int&gt; | WEIGHT &lt;int&gt; |\n|---|---|---|\n| 1 | 183 | 85 |\n| 2 | 170 | 68 |\n\n",
            "text/plain": [
              "  ID HEIGHT WEIGHT\n",
              "1 1  183    85    \n",
              "2 2  170    68    "
            ]
          },
          "metadata": {
            "tags": []
          }
        }
      ]
    },
    {
      "cell_type": "markdown",
      "metadata": {
        "id": "kkQWwU4JT_13"
      },
      "source": [
        "* 생성된 `HW_table`에 데이터 넣기 - 한번에 여러행"
      ]
    },
    {
      "cell_type": "code",
      "metadata": {
        "cellView": "both",
        "id": "-QntpVOtlnZ2",
        "outputId": "f23043ec-e929-46a8-92c5-48b094a4867b",
        "colab": {
          "base_uri": "https://localhost:8080/"
        }
      },
      "source": [
        "# dbSendQuery는 데이터를 넣는데 오래걸리기 때문에 한번에 넣어주는 방법이 필요\n",
        "# 한번에 넣어주는 방법시작\n",
        "# R에서 DF를 만들고, DB 테이블에 한번에 저장\n",
        "# 복원추출로 500개의 데이터를 뽑아서 height와 weight 에 넣어줌\n",
        "\n",
        "temp <- tibble(height = sample(150:210, 500, replace = T), weight = sample(45:120, 500, replace = T)) # 복원 추출(중복 허용)\n",
        "temp %>% show()"
      ],
      "execution_count": null,
      "outputs": [
        {
          "output_type": "stream",
          "text": [
            "\u001b[90m# A tibble: 500 x 2\u001b[39m\n",
            "   height weight\n",
            "    \u001b[3m\u001b[90m<int>\u001b[39m\u001b[23m  \u001b[3m\u001b[90m<int>\u001b[39m\u001b[23m\n",
            "\u001b[90m 1\u001b[39m    195    103\n",
            "\u001b[90m 2\u001b[39m    204     46\n",
            "\u001b[90m 3\u001b[39m    184     80\n",
            "\u001b[90m 4\u001b[39m    164     85\n",
            "\u001b[90m 5\u001b[39m    178     45\n",
            "\u001b[90m 6\u001b[39m    163     47\n",
            "\u001b[90m 7\u001b[39m    168    116\n",
            "\u001b[90m 8\u001b[39m    153     91\n",
            "\u001b[90m 9\u001b[39m    200    101\n",
            "\u001b[90m10\u001b[39m    158     75\n",
            "\u001b[90m# ... with 490 more rows\u001b[39m\n"
          ],
          "name": "stdout"
        }
      ]
    },
    {
      "cell_type": "code",
      "metadata": {
        "cellView": "both",
        "id": "vwfr1uqSmHPU"
      },
      "source": [
        "# 해당 Table의 column 명과 동일해야 함. error(에러남)\n",
        "\n",
        "\n",
        "# dbWriteTable(con, \"HW_table\", temp, row.names = F, append = T)"
      ],
      "execution_count": null,
      "outputs": []
    },
    {
      "cell_type": "code",
      "metadata": {
        "cellView": "both",
        "id": "-4IpnQt6mUvr",
        "outputId": "552052ff-8178-4215-b5c5-82d3d0bf840d",
        "colab": {
          "base_uri": "https://localhost:8080/"
        }
      },
      "source": [
        "# append = 우리가 사용하고 있는 테이블의 데이터에 추가적으로 데이터를 넣어준다.\n",
        "#  row.names = F => T해주게 되면 우리가 만든 행보다 더 만들어질 수 있기 때문에 원치않는 정보가 들어갈 수있음.\n",
        "# 데이터베이스에 만든 colume명과 DF의 열 이름이 동일해야 한다.\n",
        "\n",
        "temp <- tibble(HEIGHT = sample(150:210, 500, replace = T), WEIGHT = sample(45:120, 500, replace = T)) # 복원 추출(중복 허용)\n",
        "temp %>% show()"
      ],
      "execution_count": null,
      "outputs": [
        {
          "output_type": "stream",
          "text": [
            "\u001b[90m# A tibble: 500 x 2\u001b[39m\n",
            "   HEIGHT WEIGHT\n",
            "    \u001b[3m\u001b[90m<int>\u001b[39m\u001b[23m  \u001b[3m\u001b[90m<int>\u001b[39m\u001b[23m\n",
            "\u001b[90m 1\u001b[39m    157     85\n",
            "\u001b[90m 2\u001b[39m    195     97\n",
            "\u001b[90m 3\u001b[39m    189     81\n",
            "\u001b[90m 4\u001b[39m    195    106\n",
            "\u001b[90m 5\u001b[39m    182    103\n",
            "\u001b[90m 6\u001b[39m    173     87\n",
            "\u001b[90m 7\u001b[39m    175     71\n",
            "\u001b[90m 8\u001b[39m    173     49\n",
            "\u001b[90m 9\u001b[39m    161     50\n",
            "\u001b[90m10\u001b[39m    168     55\n",
            "\u001b[90m# ... with 490 more rows\u001b[39m\n"
          ],
          "name": "stdout"
        }
      ]
    },
    {
      "cell_type": "code",
      "metadata": {
        "cellView": "both",
        "id": "WYSQn7PnmgI3"
      },
      "source": [
        "# 해당 Table의 column 명과 동일해야 함.\n",
        "dbWriteTable(con, \"HW_table\", temp, row.names = F, append = T)"
      ],
      "execution_count": null,
      "outputs": []
    },
    {
      "cell_type": "code",
      "metadata": {
        "cellView": "both",
        "id": "HM4wQtibmkF_",
        "outputId": "7ba3f632-4cf3-4087-9ad3-f37d7e26d5a2",
        "colab": {
          "base_uri": "https://localhost:8080/",
          "height": 1000
        }
      },
      "source": [
        "# !!!!!중요!!!!!!\n",
        "# ID의 경우 PRIMARY KEY이므로 자동적으로 중복되지 않은 값이 채워짐.\n",
        "# 데이터를 넣어줄 때 ID는 넣어주지 않았다. -> primary key라서 알아서 값이 채워진다.\n",
        "\n",
        "\n",
        "dbGetQuery(con, \"SELECT * FROM HW_table\")"
      ],
      "execution_count": null,
      "outputs": [
        {
          "output_type": "display_data",
          "data": {
            "text/html": [
              "<table>\n",
              "<caption>A data.frame: 1504 × 3</caption>\n",
              "<thead>\n",
              "\t<tr><th scope=col>ID</th><th scope=col>HEIGHT</th><th scope=col>WEIGHT</th></tr>\n",
              "\t<tr><th scope=col>&lt;int&gt;</th><th scope=col>&lt;int&gt;</th><th scope=col>&lt;int&gt;</th></tr>\n",
              "</thead>\n",
              "<tbody>\n",
              "\t<tr><td> 1</td><td>183</td><td> 85</td></tr>\n",
              "\t<tr><td> 2</td><td>170</td><td> 68</td></tr>\n",
              "\t<tr><td> 3</td><td>165</td><td> 65</td></tr>\n",
              "\t<tr><td> 5</td><td>165</td><td> 65</td></tr>\n",
              "\t<tr><td> 6</td><td>209</td><td> 64</td></tr>\n",
              "\t<tr><td> 7</td><td>187</td><td> 97</td></tr>\n",
              "\t<tr><td> 8</td><td>183</td><td>107</td></tr>\n",
              "\t<tr><td> 9</td><td>206</td><td> 61</td></tr>\n",
              "\t<tr><td>10</td><td>197</td><td>104</td></tr>\n",
              "\t<tr><td>11</td><td>156</td><td> 55</td></tr>\n",
              "\t<tr><td>12</td><td>157</td><td> 97</td></tr>\n",
              "\t<tr><td>13</td><td>182</td><td> 93</td></tr>\n",
              "\t<tr><td>14</td><td>174</td><td> 80</td></tr>\n",
              "\t<tr><td>15</td><td>188</td><td> 74</td></tr>\n",
              "\t<tr><td>16</td><td>189</td><td> 63</td></tr>\n",
              "\t<tr><td>17</td><td>187</td><td> 54</td></tr>\n",
              "\t<tr><td>18</td><td>176</td><td> 62</td></tr>\n",
              "\t<tr><td>19</td><td>180</td><td> 57</td></tr>\n",
              "\t<tr><td>20</td><td>189</td><td>106</td></tr>\n",
              "\t<tr><td>21</td><td>196</td><td> 85</td></tr>\n",
              "\t<tr><td>22</td><td>186</td><td> 98</td></tr>\n",
              "\t<tr><td>23</td><td>161</td><td> 69</td></tr>\n",
              "\t<tr><td>24</td><td>198</td><td>109</td></tr>\n",
              "\t<tr><td>25</td><td>168</td><td> 63</td></tr>\n",
              "\t<tr><td>26</td><td>165</td><td> 96</td></tr>\n",
              "\t<tr><td>27</td><td>207</td><td> 93</td></tr>\n",
              "\t<tr><td>28</td><td>169</td><td> 68</td></tr>\n",
              "\t<tr><td>29</td><td>188</td><td> 69</td></tr>\n",
              "\t<tr><td>30</td><td>198</td><td> 84</td></tr>\n",
              "\t<tr><td>31</td><td>207</td><td>102</td></tr>\n",
              "\t<tr><td>⋮</td><td>⋮</td><td>⋮</td></tr>\n",
              "\t<tr><td>1476</td><td>152</td><td> 50</td></tr>\n",
              "\t<tr><td>1477</td><td>207</td><td> 88</td></tr>\n",
              "\t<tr><td>1478</td><td>186</td><td> 50</td></tr>\n",
              "\t<tr><td>1479</td><td>168</td><td>120</td></tr>\n",
              "\t<tr><td>1480</td><td>167</td><td>101</td></tr>\n",
              "\t<tr><td>1481</td><td>191</td><td> 82</td></tr>\n",
              "\t<tr><td>1482</td><td>207</td><td>110</td></tr>\n",
              "\t<tr><td>1483</td><td>154</td><td>118</td></tr>\n",
              "\t<tr><td>1484</td><td>172</td><td> 72</td></tr>\n",
              "\t<tr><td>1485</td><td>189</td><td> 79</td></tr>\n",
              "\t<tr><td>1486</td><td>184</td><td> 63</td></tr>\n",
              "\t<tr><td>1487</td><td>165</td><td>120</td></tr>\n",
              "\t<tr><td>1488</td><td>158</td><td>111</td></tr>\n",
              "\t<tr><td>1489</td><td>191</td><td>120</td></tr>\n",
              "\t<tr><td>1490</td><td>162</td><td> 79</td></tr>\n",
              "\t<tr><td>1491</td><td>160</td><td> 98</td></tr>\n",
              "\t<tr><td>1492</td><td>195</td><td> 98</td></tr>\n",
              "\t<tr><td>1493</td><td>151</td><td>120</td></tr>\n",
              "\t<tr><td>1494</td><td>158</td><td>108</td></tr>\n",
              "\t<tr><td>1495</td><td>162</td><td> 98</td></tr>\n",
              "\t<tr><td>1496</td><td>157</td><td> 87</td></tr>\n",
              "\t<tr><td>1497</td><td>210</td><td>100</td></tr>\n",
              "\t<tr><td>1498</td><td>151</td><td>111</td></tr>\n",
              "\t<tr><td>1499</td><td>208</td><td>104</td></tr>\n",
              "\t<tr><td>1500</td><td>165</td><td> 67</td></tr>\n",
              "\t<tr><td>1501</td><td>185</td><td>112</td></tr>\n",
              "\t<tr><td>1502</td><td>172</td><td>108</td></tr>\n",
              "\t<tr><td>1503</td><td>150</td><td>120</td></tr>\n",
              "\t<tr><td>1504</td><td>170</td><td> 63</td></tr>\n",
              "\t<tr><td>1505</td><td>157</td><td> 98</td></tr>\n",
              "</tbody>\n",
              "</table>\n"
            ],
            "text/latex": "A data.frame: 1504 × 3\n\\begin{tabular}{lll}\n ID & HEIGHT & WEIGHT\\\\\n <int> & <int> & <int>\\\\\n\\hline\n\t  1 & 183 &  85\\\\\n\t  2 & 170 &  68\\\\\n\t  3 & 165 &  65\\\\\n\t  5 & 165 &  65\\\\\n\t  6 & 209 &  64\\\\\n\t  7 & 187 &  97\\\\\n\t  8 & 183 & 107\\\\\n\t  9 & 206 &  61\\\\\n\t 10 & 197 & 104\\\\\n\t 11 & 156 &  55\\\\\n\t 12 & 157 &  97\\\\\n\t 13 & 182 &  93\\\\\n\t 14 & 174 &  80\\\\\n\t 15 & 188 &  74\\\\\n\t 16 & 189 &  63\\\\\n\t 17 & 187 &  54\\\\\n\t 18 & 176 &  62\\\\\n\t 19 & 180 &  57\\\\\n\t 20 & 189 & 106\\\\\n\t 21 & 196 &  85\\\\\n\t 22 & 186 &  98\\\\\n\t 23 & 161 &  69\\\\\n\t 24 & 198 & 109\\\\\n\t 25 & 168 &  63\\\\\n\t 26 & 165 &  96\\\\\n\t 27 & 207 &  93\\\\\n\t 28 & 169 &  68\\\\\n\t 29 & 188 &  69\\\\\n\t 30 & 198 &  84\\\\\n\t 31 & 207 & 102\\\\\n\t ⋮ & ⋮ & ⋮\\\\\n\t 1476 & 152 &  50\\\\\n\t 1477 & 207 &  88\\\\\n\t 1478 & 186 &  50\\\\\n\t 1479 & 168 & 120\\\\\n\t 1480 & 167 & 101\\\\\n\t 1481 & 191 &  82\\\\\n\t 1482 & 207 & 110\\\\\n\t 1483 & 154 & 118\\\\\n\t 1484 & 172 &  72\\\\\n\t 1485 & 189 &  79\\\\\n\t 1486 & 184 &  63\\\\\n\t 1487 & 165 & 120\\\\\n\t 1488 & 158 & 111\\\\\n\t 1489 & 191 & 120\\\\\n\t 1490 & 162 &  79\\\\\n\t 1491 & 160 &  98\\\\\n\t 1492 & 195 &  98\\\\\n\t 1493 & 151 & 120\\\\\n\t 1494 & 158 & 108\\\\\n\t 1495 & 162 &  98\\\\\n\t 1496 & 157 &  87\\\\\n\t 1497 & 210 & 100\\\\\n\t 1498 & 151 & 111\\\\\n\t 1499 & 208 & 104\\\\\n\t 1500 & 165 &  67\\\\\n\t 1501 & 185 & 112\\\\\n\t 1502 & 172 & 108\\\\\n\t 1503 & 150 & 120\\\\\n\t 1504 & 170 &  63\\\\\n\t 1505 & 157 &  98\\\\\n\\end{tabular}\n",
            "text/markdown": "\nA data.frame: 1504 × 3\n\n| ID &lt;int&gt; | HEIGHT &lt;int&gt; | WEIGHT &lt;int&gt; |\n|---|---|---|\n|  1 | 183 |  85 |\n|  2 | 170 |  68 |\n|  3 | 165 |  65 |\n|  5 | 165 |  65 |\n|  6 | 209 |  64 |\n|  7 | 187 |  97 |\n|  8 | 183 | 107 |\n|  9 | 206 |  61 |\n| 10 | 197 | 104 |\n| 11 | 156 |  55 |\n| 12 | 157 |  97 |\n| 13 | 182 |  93 |\n| 14 | 174 |  80 |\n| 15 | 188 |  74 |\n| 16 | 189 |  63 |\n| 17 | 187 |  54 |\n| 18 | 176 |  62 |\n| 19 | 180 |  57 |\n| 20 | 189 | 106 |\n| 21 | 196 |  85 |\n| 22 | 186 |  98 |\n| 23 | 161 |  69 |\n| 24 | 198 | 109 |\n| 25 | 168 |  63 |\n| 26 | 165 |  96 |\n| 27 | 207 |  93 |\n| 28 | 169 |  68 |\n| 29 | 188 |  69 |\n| 30 | 198 |  84 |\n| 31 | 207 | 102 |\n| ⋮ | ⋮ | ⋮ |\n| 1476 | 152 |  50 |\n| 1477 | 207 |  88 |\n| 1478 | 186 |  50 |\n| 1479 | 168 | 120 |\n| 1480 | 167 | 101 |\n| 1481 | 191 |  82 |\n| 1482 | 207 | 110 |\n| 1483 | 154 | 118 |\n| 1484 | 172 |  72 |\n| 1485 | 189 |  79 |\n| 1486 | 184 |  63 |\n| 1487 | 165 | 120 |\n| 1488 | 158 | 111 |\n| 1489 | 191 | 120 |\n| 1490 | 162 |  79 |\n| 1491 | 160 |  98 |\n| 1492 | 195 |  98 |\n| 1493 | 151 | 120 |\n| 1494 | 158 | 108 |\n| 1495 | 162 |  98 |\n| 1496 | 157 |  87 |\n| 1497 | 210 | 100 |\n| 1498 | 151 | 111 |\n| 1499 | 208 | 104 |\n| 1500 | 165 |  67 |\n| 1501 | 185 | 112 |\n| 1502 | 172 | 108 |\n| 1503 | 150 | 120 |\n| 1504 | 170 |  63 |\n| 1505 | 157 |  98 |\n\n",
            "text/plain": [
              "       ID     HEIGHT WEIGHT\n",
              "1       1     183     85   \n",
              "2       2     170     68   \n",
              "3       3     165     65   \n",
              "4       5     165     65   \n",
              "5       6     209     64   \n",
              "6       7     187     97   \n",
              "7       8     183    107   \n",
              "8       9     206     61   \n",
              "9      10     197    104   \n",
              "10     11     156     55   \n",
              "11     12     157     97   \n",
              "12     13     182     93   \n",
              "13     14     174     80   \n",
              "14     15     188     74   \n",
              "15     16     189     63   \n",
              "16     17     187     54   \n",
              "17     18     176     62   \n",
              "18     19     180     57   \n",
              "19     20     189    106   \n",
              "20     21     196     85   \n",
              "21     22     186     98   \n",
              "22     23     161     69   \n",
              "23     24     198    109   \n",
              "24     25     168     63   \n",
              "25     26     165     96   \n",
              "26     27     207     93   \n",
              "27     28     169     68   \n",
              "28     29     188     69   \n",
              "29     30     198     84   \n",
              "30     31     207    102   \n",
              "<U+22EE> <U+22EE> <U+22EE> <U+22EE>\n",
              "1475   1476   152     50   \n",
              "1476   1477   207     88   \n",
              "1477   1478   186     50   \n",
              "1478   1479   168    120   \n",
              "1479   1480   167    101   \n",
              "1480   1481   191     82   \n",
              "1481   1482   207    110   \n",
              "1482   1483   154    118   \n",
              "1483   1484   172     72   \n",
              "1484   1485   189     79   \n",
              "1485   1486   184     63   \n",
              "1486   1487   165    120   \n",
              "1487   1488   158    111   \n",
              "1488   1489   191    120   \n",
              "1489   1490   162     79   \n",
              "1490   1491   160     98   \n",
              "1491   1492   195     98   \n",
              "1492   1493   151    120   \n",
              "1493   1494   158    108   \n",
              "1494   1495   162     98   \n",
              "1495   1496   157     87   \n",
              "1496   1497   210    100   \n",
              "1497   1498   151    111   \n",
              "1498   1499   208    104   \n",
              "1499   1500   165     67   \n",
              "1500   1501   185    112   \n",
              "1501   1502   172    108   \n",
              "1502   1503   150    120   \n",
              "1503   1504   170     63   \n",
              "1504   1505   157     98   "
            ]
          },
          "metadata": {
            "tags": []
          }
        }
      ]
    },
    {
      "cell_type": "markdown",
      "metadata": {
        "id": "Dykj2YgmotpE"
      },
      "source": [
        "* 테이블에 있는 데이터 삭제하기(DELETE FROM ~ WHERE)"
      ]
    },
    {
      "cell_type": "code",
      "metadata": {
        "cellView": "both",
        "id": "vjoKEwqCowcL"
      },
      "source": [
        "# 테이블에 있는 데이터 삭제\n",
        "\n",
        "query <- dbSendQuery(con, \"DELETE FROM HW_table WHERE HEIGHT >= 200\")\n",
        "dbClearResult(query)"
      ],
      "execution_count": null,
      "outputs": []
    },
    {
      "cell_type": "code",
      "metadata": {
        "cellView": "both",
        "id": "WEH7v_o-pyqx",
        "outputId": "1669110f-2e41-475c-fe43-318cfb1e097a",
        "colab": {
          "base_uri": "https://localhost:8080/",
          "height": 78
        }
      },
      "source": [
        "# 삭제가 되었기 때문에 존재하지 않는다고 나온다.\n",
        "\n",
        "dbGetQuery(con, \"SELECT * FROM HW_table WHERE HEIGHT >= 200\")"
      ],
      "execution_count": null,
      "outputs": [
        {
          "output_type": "display_data",
          "data": {
            "text/html": [
              "<table>\n",
              "<caption>A data.frame: 0 × 3</caption>\n",
              "<thead>\n",
              "\t<tr><th scope=col>ID</th><th scope=col>HEIGHT</th><th scope=col>WEIGHT</th></tr>\n",
              "\t<tr><th scope=col>&lt;int&gt;</th><th scope=col>&lt;dbl&gt;</th><th scope=col>&lt;dbl&gt;</th></tr>\n",
              "</thead>\n",
              "<tbody>\n",
              "</tbody>\n",
              "</table>\n"
            ],
            "text/latex": "A data.frame: 0 × 3\n\\begin{tabular}{lll}\n ID & HEIGHT & WEIGHT\\\\\n <int> & <dbl> & <dbl>\\\\\n\\hline\n\\end{tabular}\n",
            "text/markdown": "\nA data.frame: 0 × 3\n\n| ID &lt;int&gt; | HEIGHT &lt;dbl&gt; | WEIGHT &lt;dbl&gt; |\n|---|---|---|\n\n",
            "text/plain": [
              "     ID HEIGHT WEIGHT"
            ]
          },
          "metadata": {
            "tags": []
          }
        }
      ]
    },
    {
      "cell_type": "code",
      "metadata": {
        "cellView": "both",
        "id": "84IonW1BqLMs"
      },
      "source": [
        "# 전체 데이터 삭제(table 삭제가 아님!!)\n",
        "# 테이블에 속한 데이터를 모두다 삭제 -> 값만 지워지고 구조는 남아있음\n",
        "# 구조까지 지우고 싶으면 drop table하면됨\n",
        "\n",
        "query <- dbSendQuery(con, \"DELETE FROM HW_table\")\n",
        "dbClearResult(query)"
      ],
      "execution_count": null,
      "outputs": []
    },
    {
      "cell_type": "code",
      "metadata": {
        "cellView": "both",
        "id": "q1sXD7ggqRZb",
        "outputId": "209d5443-a9ae-41a8-ceda-be866604bb25",
        "colab": {
          "base_uri": "https://localhost:8080/",
          "height": 78
        }
      },
      "source": [
        "dbGetQuery(con, \"SELECT * FROM HW_table\")"
      ],
      "execution_count": null,
      "outputs": [
        {
          "output_type": "display_data",
          "data": {
            "text/html": [
              "<table>\n",
              "<caption>A data.frame: 0 × 3</caption>\n",
              "<thead>\n",
              "\t<tr><th scope=col>ID</th><th scope=col>HEIGHT</th><th scope=col>WEIGHT</th></tr>\n",
              "\t<tr><th scope=col>&lt;int&gt;</th><th scope=col>&lt;dbl&gt;</th><th scope=col>&lt;dbl&gt;</th></tr>\n",
              "</thead>\n",
              "<tbody>\n",
              "</tbody>\n",
              "</table>\n"
            ],
            "text/latex": "A data.frame: 0 × 3\n\\begin{tabular}{lll}\n ID & HEIGHT & WEIGHT\\\\\n <int> & <dbl> & <dbl>\\\\\n\\hline\n\\end{tabular}\n",
            "text/markdown": "\nA data.frame: 0 × 3\n\n| ID &lt;int&gt; | HEIGHT &lt;dbl&gt; | WEIGHT &lt;dbl&gt; |\n|---|---|---|\n\n",
            "text/plain": [
              "     ID HEIGHT WEIGHT"
            ]
          },
          "metadata": {
            "tags": []
          }
        }
      ]
    },
    {
      "cell_type": "markdown",
      "metadata": {
        "id": "SsA41uj3T_4p"
      },
      "source": [
        "* table 삭제(DROP TABLE)"
      ]
    },
    {
      "cell_type": "code",
      "metadata": {
        "cellView": "both",
        "id": "kEq0xtcGqhEe"
      },
      "source": [
        "query <- dbSendQuery(con, \"DROP TABLE HW_table\")\n",
        "dbClearResult(query)"
      ],
      "execution_count": null,
      "outputs": []
    },
    {
      "cell_type": "code",
      "metadata": {
        "cellView": "both",
        "id": "CgoN4-uCqqLk"
      },
      "source": [
        "# 에러가 뜬다. 테이블이 완전히 삭제되었기 때문에\n",
        "\n",
        "# dbGetQuery(con, \"SELECT * FROM HW_table\")"
      ],
      "execution_count": null,
      "outputs": []
    },
    {
      "cell_type": "code",
      "metadata": {
        "cellView": "both",
        "id": "ItPgXlxzqxoQ",
        "outputId": "72d1e105-91a2-4cad-8cfe-297aa4b0c874",
        "colab": {
          "base_uri": "https://localhost:8080/",
          "height": 17
        }
      },
      "source": [
        "dbListTables(con, \"HW_table\")"
      ],
      "execution_count": null,
      "outputs": [
        {
          "output_type": "display_data",
          "data": {
            "text/html": [
              ""
            ],
            "text/latex": "",
            "text/markdown": "",
            "text/plain": [
              "character(0)"
            ]
          },
          "metadata": {
            "tags": []
          }
        }
      ]
    },
    {
      "cell_type": "code",
      "metadata": {
        "cellView": "both",
        "id": "a0wMSh7QqsQd",
        "outputId": "01b7d3e0-7822-47ab-889c-6dfcc670709b",
        "colab": {
          "base_uri": "https://localhost:8080/",
          "height": 34
        }
      },
      "source": [
        "# 존재하지 않기 때문에 false리턴한다.\n",
        "\n",
        "dbExistsTable(con, \"HW_table\")"
      ],
      "execution_count": null,
      "outputs": [
        {
          "output_type": "display_data",
          "data": {
            "text/html": [
              "FALSE"
            ],
            "text/latex": "FALSE",
            "text/markdown": "FALSE",
            "text/plain": [
              "[1] FALSE"
            ]
          },
          "metadata": {
            "tags": []
          }
        }
      ]
    },
    {
      "cell_type": "markdown",
      "metadata": {
        "id": "DqUurFNArHen"
      },
      "source": [
        "* connection 종료"
      ]
    },
    {
      "cell_type": "code",
      "metadata": {
        "cellView": "both",
        "id": "gWBrFYMrrJFQ"
      },
      "source": [
        "# DB 끝내는 방법 -> 데이터베이스를 사용할 수 없게됨\n",
        "\n",
        "dbDisconnect(con)"
      ],
      "execution_count": null,
      "outputs": []
    },
    {
      "cell_type": "markdown",
      "metadata": {
        "id": "0yTasUiQrMdb"
      },
      "source": [
        "* SQLite의 이식성(!?)"
      ]
    },
    {
      "cell_type": "code",
      "metadata": {
        "cellView": "both",
        "id": "cI-nBm8YxV2F",
        "outputId": "509fe560-6633-4a8d-a81e-e098fafdacd3",
        "colab": {
          "base_uri": "https://localhost:8080/",
          "height": 339
        }
      },
      "source": [
        "# Lab 9 참고\n",
        "#https://archive.ics.uci.edu/ml/datasets.php?format=&task=reg&att=&area=&numAtt=&numIns=&type=&sort=dateDown&view=table\n",
        "#https://datascience.stackexchange.com/questions/8922/removing-strings-after-a-certain-character-in-a-given-text\n",
        "#https://stackoverflow.com/questions/5992082/how-to-remove-all-whitespace-from-a-string\n",
        "\n",
        "Sys.setlocale('LC_ALL','C') # 이부분 무시해도 됨.\n",
        "DF <- fread(\"https://raw.githubusercontent.com/Jin0331/TA/master/data/SeoulBikeData.csv\", sep = \",\", stringsAsFactors = F) %>%\n",
        " as_tibble()\n",
        "\n",
        "colnames(DF) <- colnames(DF) %>% lapply(X = ., FUN = function(value){\n",
        "  stringr::str_remove(string = value, pattern = \"\\\\(.*\") %>%\n",
        "  stringr::str_replace_all(string = ., pattern = \"[[:space:]]\", replace = \"_\")\n",
        "}) %>% unlist()\n",
        "\n",
        "DF %>% str()"
      ],
      "execution_count": null,
      "outputs": [
        {
          "output_type": "display_data",
          "data": {
            "text/html": [
              "'LC_CTYPE=C;LC_NUMERIC=C;LC_TIME=C;LC_COLLATE=C;LC_MONETARY=C;LC_MESSAGES=en_US.UTF-8;LC_PAPER=en_US.UTF-8;LC_NAME=C;LC_ADDRESS=C;LC_TELEPHONE=C;LC_MEASUREMENT=en_US.UTF-8;LC_IDENTIFICATION=C'"
            ],
            "text/latex": "'LC\\_CTYPE=C;LC\\_NUMERIC=C;LC\\_TIME=C;LC\\_COLLATE=C;LC\\_MONETARY=C;LC\\_MESSAGES=en\\_US.UTF-8;LC\\_PAPER=en\\_US.UTF-8;LC\\_NAME=C;LC\\_ADDRESS=C;LC\\_TELEPHONE=C;LC\\_MEASUREMENT=en\\_US.UTF-8;LC\\_IDENTIFICATION=C'",
            "text/markdown": "'LC_CTYPE=C;LC_NUMERIC=C;LC_TIME=C;LC_COLLATE=C;LC_MONETARY=C;LC_MESSAGES=en_US.UTF-8;LC_PAPER=en_US.UTF-8;LC_NAME=C;LC_ADDRESS=C;LC_TELEPHONE=C;LC_MEASUREMENT=en_US.UTF-8;LC_IDENTIFICATION=C'",
            "text/plain": [
              "[1] \"LC_CTYPE=C;LC_NUMERIC=C;LC_TIME=C;LC_COLLATE=C;LC_MONETARY=C;LC_MESSAGES=en_US.UTF-8;LC_PAPER=en_US.UTF-8;LC_NAME=C;LC_ADDRESS=C;LC_TELEPHONE=C;LC_MEASUREMENT=en_US.UTF-8;LC_IDENTIFICATION=C\""
            ]
          },
          "metadata": {
            "tags": []
          }
        },
        {
          "output_type": "stream",
          "text": [
            "tibble [8,760 x 14] (S3: tbl_df/tbl/data.frame)\n",
            " $ Date                 : chr [1:8760] \"01/12/2017\" \"01/12/2017\" \"01/12/2017\" \"01/12/2017\" ...\n",
            " $ Rented_Bike_Count    : int [1:8760] 254 204 173 107 78 100 181 460 930 490 ...\n",
            " $ Hour                 : int [1:8760] 0 1 2 3 4 5 6 7 8 9 ...\n",
            " $ Temperature          : num [1:8760] -5.2 -5.5 -6 -6.2 -6 -6.4 -6.6 -7.4 -7.6 -6.5 ...\n",
            " $ Humidity             : int [1:8760] 37 38 39 40 36 37 35 38 37 27 ...\n",
            " $ Wind_speed_          : num [1:8760] 2.2 0.8 1 0.9 2.3 1.5 1.3 0.9 1.1 0.5 ...\n",
            " $ Visibility_          : int [1:8760] 2000 2000 2000 2000 2000 2000 2000 2000 2000 1928 ...\n",
            " $ Dew_point_temperature: num [1:8760] -17.6 -17.6 -17.7 -17.6 -18.6 -18.7 -19.5 -19.3 -19.8 -22.4 ...\n",
            " $ Solar_Radiation_     : num [1:8760] 0 0 0 0 0 0 0 0 0.01 0.23 ...\n",
            " $ Rainfall             : num [1:8760] 0 0 0 0 0 0 0 0 0 0 ...\n",
            " $ Snowfall_            : num [1:8760] 0 0 0 0 0 0 0 0 0 0 ...\n",
            " $ Seasons              : chr [1:8760] \"Winter\" \"Winter\" \"Winter\" \"Winter\" ...\n",
            " $ Holiday              : chr [1:8760] \"No Holiday\" \"No Holiday\" \"No Holiday\" \"No Holiday\" ...\n",
            " $ Functioning_Day      : chr [1:8760] \"Yes\" \"Yes\" \"Yes\" \"Yes\" ...\n",
            " - attr(*, \".internal.selfref\")=<externalptr> \n"
          ],
          "name": "stdout"
        }
      ]
    },
    {
      "cell_type": "code",
      "metadata": {
        "cellView": "both",
        "id": "ut98V6emrPKE"
      },
      "source": [
        "# 테이블을 만든다 -> content에 sqlite폴더가 만들어져 있어야함.\n",
        "\n",
        "con <- RSQLite::dbConnect(drv = RSQLite::SQLite(), dbname = \"sqlite/seoul_bike.sqlite\")"
      ],
      "execution_count": null,
      "outputs": []
    },
    {
      "cell_type": "code",
      "metadata": {
        "cellView": "both",
        "id": "vii5WN8_xlkS"
      },
      "source": [
        "# DF에 저장되어있는 값을 테이블에 넣어준다.\n",
        "\n",
        "dbWriteTable(con, \"seoul_bike\", DF, row.names = F, append = F)"
      ],
      "execution_count": null,
      "outputs": []
    },
    {
      "cell_type": "code",
      "metadata": {
        "cellView": "both",
        "id": "tEADnh_wyj5C",
        "outputId": "2667e609-fa1f-4d33-a693-a92bc6c8fdd0",
        "colab": {
          "base_uri": "https://localhost:8080/",
          "height": 34
        }
      },
      "source": [
        "#테이블 확인\n",
        "\n",
        "dbListTables(con)"
      ],
      "execution_count": null,
      "outputs": [
        {
          "output_type": "display_data",
          "data": {
            "text/html": [
              "'seoul_bike'"
            ],
            "text/latex": "'seoul\\_bike'",
            "text/markdown": "'seoul_bike'",
            "text/plain": [
              "[1] \"seoul_bike\""
            ]
          },
          "metadata": {
            "tags": []
          }
        }
      ]
    },
    {
      "cell_type": "code",
      "metadata": {
        "cellView": "both",
        "id": "SEeee-o7y3Qm",
        "outputId": "89f38059-33b5-45fa-c22f-59804957cf41",
        "colab": {
          "base_uri": "https://localhost:8080/",
          "height": 51
        }
      },
      "source": [
        "# 필드 확인\n",
        "dbListFields(con, \"seoul_bike\")"
      ],
      "execution_count": null,
      "outputs": [
        {
          "output_type": "display_data",
          "data": {
            "text/html": [
              "<style>\n",
              ".list-inline {list-style: none; margin:0; padding: 0}\n",
              ".list-inline>li {display: inline-block}\n",
              ".list-inline>li:not(:last-child)::after {content: \"\\00b7\"; padding: 0 .5ex}\n",
              "</style>\n",
              "<ol class=list-inline><li>'Date'</li><li>'Rented_Bike_Count'</li><li>'Hour'</li><li>'Temperature'</li><li>'Humidity'</li><li>'Wind_speed_'</li><li>'Visibility_'</li><li>'Dew_point_temperature'</li><li>'Solar_Radiation_'</li><li>'Rainfall'</li><li>'Snowfall_'</li><li>'Seasons'</li><li>'Holiday'</li><li>'Functioning_Day'</li></ol>\n"
            ],
            "text/latex": "\\begin{enumerate*}\n\\item 'Date'\n\\item 'Rented\\_Bike\\_Count'\n\\item 'Hour'\n\\item 'Temperature'\n\\item 'Humidity'\n\\item 'Wind\\_speed\\_'\n\\item 'Visibility\\_'\n\\item 'Dew\\_point\\_temperature'\n\\item 'Solar\\_Radiation\\_'\n\\item 'Rainfall'\n\\item 'Snowfall\\_'\n\\item 'Seasons'\n\\item 'Holiday'\n\\item 'Functioning\\_Day'\n\\end{enumerate*}\n",
            "text/markdown": "1. 'Date'\n2. 'Rented_Bike_Count'\n3. 'Hour'\n4. 'Temperature'\n5. 'Humidity'\n6. 'Wind_speed_'\n7. 'Visibility_'\n8. 'Dew_point_temperature'\n9. 'Solar_Radiation_'\n10. 'Rainfall'\n11. 'Snowfall_'\n12. 'Seasons'\n13. 'Holiday'\n14. 'Functioning_Day'\n\n\n",
            "text/plain": [
              " [1] \"Date\"                  \"Rented_Bike_Count\"     \"Hour\"                 \n",
              " [4] \"Temperature\"           \"Humidity\"              \"Wind_speed_\"          \n",
              " [7] \"Visibility_\"           \"Dew_point_temperature\" \"Solar_Radiation_\"     \n",
              "[10] \"Rainfall\"              \"Snowfall_\"             \"Seasons\"              \n",
              "[13] \"Holiday\"               \"Functioning_Day\"      "
            ]
          },
          "metadata": {
            "tags": []
          }
        }
      ]
    },
    {
      "cell_type": "code",
      "metadata": {
        "cellView": "both",
        "id": "IjUS72LKy8vC",
        "outputId": "13367e63-e9ba-483f-8d99-1c55c938c1c7",
        "colab": {
          "base_uri": "https://localhost:8080/"
        }
      },
      "source": [
        "dbGetQuery(con, \"SELECT * FROM seoul_bike\") %>%\n",
        " as_tibble() %>% str()"
      ],
      "execution_count": null,
      "outputs": [
        {
          "output_type": "stream",
          "text": [
            "tibble [8,760 x 14] (S3: tbl_df/tbl/data.frame)\n",
            " $ Date                 : chr [1:8760] \"01/12/2017\" \"01/12/2017\" \"01/12/2017\" \"01/12/2017\" ...\n",
            " $ Rented_Bike_Count    : int [1:8760] 254 204 173 107 78 100 181 460 930 490 ...\n",
            " $ Hour                 : int [1:8760] 0 1 2 3 4 5 6 7 8 9 ...\n",
            " $ Temperature          : num [1:8760] -5.2 -5.5 -6 -6.2 -6 -6.4 -6.6 -7.4 -7.6 -6.5 ...\n",
            " $ Humidity             : int [1:8760] 37 38 39 40 36 37 35 38 37 27 ...\n",
            " $ Wind_speed_          : num [1:8760] 2.2 0.8 1 0.9 2.3 1.5 1.3 0.9 1.1 0.5 ...\n",
            " $ Visibility_          : int [1:8760] 2000 2000 2000 2000 2000 2000 2000 2000 2000 1928 ...\n",
            " $ Dew_point_temperature: num [1:8760] -17.6 -17.6 -17.7 -17.6 -18.6 -18.7 -19.5 -19.3 -19.8 -22.4 ...\n",
            " $ Solar_Radiation_     : num [1:8760] 0 0 0 0 0 0 0 0 0.01 0.23 ...\n",
            " $ Rainfall             : num [1:8760] 0 0 0 0 0 0 0 0 0 0 ...\n",
            " $ Snowfall_            : num [1:8760] 0 0 0 0 0 0 0 0 0 0 ...\n",
            " $ Seasons              : chr [1:8760] \"Winter\" \"Winter\" \"Winter\" \"Winter\" ...\n",
            " $ Holiday              : chr [1:8760] \"No Holiday\" \"No Holiday\" \"No Holiday\" \"No Holiday\" ...\n",
            " $ Functioning_Day      : chr [1:8760] \"Yes\" \"Yes\" \"Yes\" \"Yes\" ...\n"
          ],
          "name": "stdout"
        }
      ]
    },
    {
      "cell_type": "code",
      "metadata": {
        "id": "hOztdhcrNKBN"
      },
      "source": [
        "dbDisconnect(con)"
      ],
      "execution_count": null,
      "outputs": []
    },
    {
      "cell_type": "markdown",
      "metadata": {
        "id": "vukkkBeNT_-M"
      },
      "source": [
        "#### **B. dbplyr**\n",
        "\n",
        "https://dbplyr.tidyverse.org/index.html\n",
        "\n",
        "https://dbplyr.tidyverse.org/articles/sql-translation.html\n",
        "\n",
        "```\n",
        "dbplyr is the database backend for dplyr. \n",
        "It allows you to use remote database tables as if they are in-memory data frames by automatically converting dplyr code into SQL.\n",
        "```\n",
        "\n",
        "---\n"
      ]
    },
    {
      "cell_type": "code",
      "metadata": {
        "cellView": "both",
        "id": "zzQj8tzc5CNB"
      },
      "source": [
        "# dbplyr을 사용해서 데이터베이스를 R언어로 사용할 수 있다.\n",
        "# 폴더 생성 -> DB 이용할 수 있게함\n",
        "\n",
        "con <- RSQLite::dbConnect(drv = RSQLite::SQLite(), dbname = \"sqlite/seoul_bike.sqlite\")"
      ],
      "execution_count": null,
      "outputs": []
    },
    {
      "cell_type": "markdown",
      "metadata": {
        "id": "yIS4qS7V5V6B"
      },
      "source": [
        "* copy_to를 local 데이터를 database에 복제"
      ]
    },
    {
      "cell_type": "code",
      "metadata": {
        "id": "DeeYLB22QOyx",
        "outputId": "276470bf-0fcd-482d-b717-54c5621a408f",
        "colab": {
          "base_uri": "https://localhost:8080/",
          "height": 34
        }
      },
      "source": [
        "dbListTables(con)"
      ],
      "execution_count": null,
      "outputs": [
        {
          "output_type": "display_data",
          "data": {
            "text/html": [
              "<style>\n",
              ".list-inline {list-style: none; margin:0; padding: 0}\n",
              ".list-inline>li {display: inline-block}\n",
              ".list-inline>li:not(:last-child)::after {content: \"\\00b7\"; padding: 0 .5ex}\n",
              "</style>\n",
              "<ol class=list-inline><li>'iris'</li><li>'seoul_bike'</li><li>'sqlite_stat1'</li><li>'sqlite_stat4'</li></ol>\n"
            ],
            "text/latex": "\\begin{enumerate*}\n\\item 'iris'\n\\item 'seoul\\_bike'\n\\item 'sqlite\\_stat1'\n\\item 'sqlite\\_stat4'\n\\end{enumerate*}\n",
            "text/markdown": "1. 'iris'\n2. 'seoul_bike'\n3. 'sqlite_stat1'\n4. 'sqlite_stat4'\n\n\n",
            "text/plain": [
              "[1] \"iris\"         \"seoul_bike\"   \"sqlite_stat1\" \"sqlite_stat4\""
            ]
          },
          "metadata": {
            "tags": []
          }
        }
      ]
    },
    {
      "cell_type": "code",
      "metadata": {
        "cellView": "both",
        "id": "E9yWlcWe5FmN"
      },
      "source": [
        "# dplyr을 이용해 데이터베이스에 iris 데이터를 넣어줄 수 잇다.\n",
        "# local 데이터를 데이터베이스에 복제함\n",
        "# iris 테이블이 생성된것을 볼 수 있다.\n",
        "\n",
        "dplyr::copy_to(con, iris)"
      ],
      "execution_count": null,
      "outputs": []
    },
    {
      "cell_type": "code",
      "metadata": {
        "cellView": "both",
        "id": "daGzdaiF5y6h",
        "outputId": "48d90dfa-2240-4d6f-e4cb-70efaf627d70",
        "colab": {
          "base_uri": "https://localhost:8080/",
          "height": 34
        }
      },
      "source": [
        "dbListTables(con)"
      ],
      "execution_count": null,
      "outputs": [
        {
          "output_type": "display_data",
          "data": {
            "text/html": [
              "<style>\n",
              ".list-inline {list-style: none; margin:0; padding: 0}\n",
              ".list-inline>li {display: inline-block}\n",
              ".list-inline>li:not(:last-child)::after {content: \"\\00b7\"; padding: 0 .5ex}\n",
              "</style>\n",
              "<ol class=list-inline><li>'iris'</li><li>'seoul_bike'</li><li>'sqlite_stat1'</li><li>'sqlite_stat4'</li></ol>\n"
            ],
            "text/latex": "\\begin{enumerate*}\n\\item 'iris'\n\\item 'seoul\\_bike'\n\\item 'sqlite\\_stat1'\n\\item 'sqlite\\_stat4'\n\\end{enumerate*}\n",
            "text/markdown": "1. 'iris'\n2. 'seoul_bike'\n3. 'sqlite_stat1'\n4. 'sqlite_stat4'\n\n\n",
            "text/plain": [
              "[1] \"iris\"         \"seoul_bike\"   \"sqlite_stat1\" \"sqlite_stat4\""
            ]
          },
          "metadata": {
            "tags": []
          }
        }
      ]
    },
    {
      "cell_type": "markdown",
      "metadata": {
        "id": "kUMe0_gGq5LN"
      },
      "source": [
        "* tbl을 이용한 database의 table 사용(dataframe)"
      ]
    },
    {
      "cell_type": "code",
      "metadata": {
        "cellView": "both",
        "id": "5kYyUNlF6J6L",
        "outputId": "4f550e3c-f4de-4eba-87d7-d6e7a9fb1eeb",
        "colab": {
          "base_uri": "https://localhost:8080/",
          "height": 287
        }
      },
      "source": [
        "# tbl함수를 이용하면 데이터베이스에 있는 데이터를 DF에서 사용하는 것처럼 사용할 수 있다.\n",
        "# Database: sqlite 3.33.0 [/content/sqlite/seoul_bike.sqlite] -> 데이터베이스에서 온것을 알 수 있다.\n",
        "\n",
        "iris_2 <- tbl(con, \"iris\")#데이터베이스에 있는 테이블명\n",
        "iris_2"
      ],
      "execution_count": null,
      "outputs": [
        {
          "output_type": "display_data",
          "data": {
            "text/plain": [
              "\u001b[90m# Source:   table<iris> [?? x 5]\u001b[39m\n",
              "\u001b[90m# Database: sqlite 3.33.0 [/content/sqlite/seoul_bike.sqlite]\u001b[39m\n",
              "   Sepal.Length Sepal.Width Petal.Length Petal.Width Species\n",
              "          \u001b[3m\u001b[90m<dbl>\u001b[39m\u001b[23m       \u001b[3m\u001b[90m<dbl>\u001b[39m\u001b[23m        \u001b[3m\u001b[90m<dbl>\u001b[39m\u001b[23m       \u001b[3m\u001b[90m<dbl>\u001b[39m\u001b[23m \u001b[3m\u001b[90m<chr>\u001b[39m\u001b[23m  \n",
              "\u001b[90m 1\u001b[39m          5.1         3.5          1.4         0.2 setosa \n",
              "\u001b[90m 2\u001b[39m          4.9         3            1.4         0.2 setosa \n",
              "\u001b[90m 3\u001b[39m          4.7         3.2          1.3         0.2 setosa \n",
              "\u001b[90m 4\u001b[39m          4.6         3.1          1.5         0.2 setosa \n",
              "\u001b[90m 5\u001b[39m          5           3.6          1.4         0.2 setosa \n",
              "\u001b[90m 6\u001b[39m          5.4         3.9          1.7         0.4 setosa \n",
              "\u001b[90m 7\u001b[39m          4.6         3.4          1.4         0.3 setosa \n",
              "\u001b[90m 8\u001b[39m          5           3.4          1.5         0.2 setosa \n",
              "\u001b[90m 9\u001b[39m          4.4         2.9          1.4         0.2 setosa \n",
              "\u001b[90m10\u001b[39m          4.9         3.1          1.5         0.1 setosa \n",
              "\u001b[90m# ... with more rows\u001b[39m"
            ]
          },
          "metadata": {
            "tags": []
          }
        }
      ]
    },
    {
      "cell_type": "code",
      "metadata": {
        "id": "5vv2jAECQm5t",
        "outputId": "93be4dba-15d7-4fd5-e581-21d662674a28",
        "colab": {
          "base_uri": "https://localhost:8080/"
        }
      },
      "source": [
        "iris %>% show()"
      ],
      "execution_count": null,
      "outputs": [
        {
          "output_type": "stream",
          "text": [
            "    Sepal.Length Sepal.Width Petal.Length Petal.Width    Species\n",
            "1            5.1         3.5          1.4         0.2     setosa\n",
            "2            4.9         3.0          1.4         0.2     setosa\n",
            "3            4.7         3.2          1.3         0.2     setosa\n",
            "4            4.6         3.1          1.5         0.2     setosa\n",
            "5            5.0         3.6          1.4         0.2     setosa\n",
            "6            5.4         3.9          1.7         0.4     setosa\n",
            "7            4.6         3.4          1.4         0.3     setosa\n",
            "8            5.0         3.4          1.5         0.2     setosa\n",
            "9            4.4         2.9          1.4         0.2     setosa\n",
            "10           4.9         3.1          1.5         0.1     setosa\n",
            "11           5.4         3.7          1.5         0.2     setosa\n",
            "12           4.8         3.4          1.6         0.2     setosa\n",
            "13           4.8         3.0          1.4         0.1     setosa\n",
            "14           4.3         3.0          1.1         0.1     setosa\n",
            "15           5.8         4.0          1.2         0.2     setosa\n",
            "16           5.7         4.4          1.5         0.4     setosa\n",
            "17           5.4         3.9          1.3         0.4     setosa\n",
            "18           5.1         3.5          1.4         0.3     setosa\n",
            "19           5.7         3.8          1.7         0.3     setosa\n",
            "20           5.1         3.8          1.5         0.3     setosa\n",
            "21           5.4         3.4          1.7         0.2     setosa\n",
            "22           5.1         3.7          1.5         0.4     setosa\n",
            "23           4.6         3.6          1.0         0.2     setosa\n",
            "24           5.1         3.3          1.7         0.5     setosa\n",
            "25           4.8         3.4          1.9         0.2     setosa\n",
            "26           5.0         3.0          1.6         0.2     setosa\n",
            "27           5.0         3.4          1.6         0.4     setosa\n",
            "28           5.2         3.5          1.5         0.2     setosa\n",
            "29           5.2         3.4          1.4         0.2     setosa\n",
            "30           4.7         3.2          1.6         0.2     setosa\n",
            "31           4.8         3.1          1.6         0.2     setosa\n",
            "32           5.4         3.4          1.5         0.4     setosa\n",
            "33           5.2         4.1          1.5         0.1     setosa\n",
            "34           5.5         4.2          1.4         0.2     setosa\n",
            "35           4.9         3.1          1.5         0.2     setosa\n",
            "36           5.0         3.2          1.2         0.2     setosa\n",
            "37           5.5         3.5          1.3         0.2     setosa\n",
            "38           4.9         3.6          1.4         0.1     setosa\n",
            "39           4.4         3.0          1.3         0.2     setosa\n",
            "40           5.1         3.4          1.5         0.2     setosa\n",
            "41           5.0         3.5          1.3         0.3     setosa\n",
            "42           4.5         2.3          1.3         0.3     setosa\n",
            "43           4.4         3.2          1.3         0.2     setosa\n",
            "44           5.0         3.5          1.6         0.6     setosa\n",
            "45           5.1         3.8          1.9         0.4     setosa\n",
            "46           4.8         3.0          1.4         0.3     setosa\n",
            "47           5.1         3.8          1.6         0.2     setosa\n",
            "48           4.6         3.2          1.4         0.2     setosa\n",
            "49           5.3         3.7          1.5         0.2     setosa\n",
            "50           5.0         3.3          1.4         0.2     setosa\n",
            "51           7.0         3.2          4.7         1.4 versicolor\n",
            "52           6.4         3.2          4.5         1.5 versicolor\n",
            "53           6.9         3.1          4.9         1.5 versicolor\n",
            "54           5.5         2.3          4.0         1.3 versicolor\n",
            "55           6.5         2.8          4.6         1.5 versicolor\n",
            "56           5.7         2.8          4.5         1.3 versicolor\n",
            "57           6.3         3.3          4.7         1.6 versicolor\n",
            "58           4.9         2.4          3.3         1.0 versicolor\n",
            "59           6.6         2.9          4.6         1.3 versicolor\n",
            "60           5.2         2.7          3.9         1.4 versicolor\n",
            "61           5.0         2.0          3.5         1.0 versicolor\n",
            "62           5.9         3.0          4.2         1.5 versicolor\n",
            "63           6.0         2.2          4.0         1.0 versicolor\n",
            "64           6.1         2.9          4.7         1.4 versicolor\n",
            "65           5.6         2.9          3.6         1.3 versicolor\n",
            "66           6.7         3.1          4.4         1.4 versicolor\n",
            "67           5.6         3.0          4.5         1.5 versicolor\n",
            "68           5.8         2.7          4.1         1.0 versicolor\n",
            "69           6.2         2.2          4.5         1.5 versicolor\n",
            "70           5.6         2.5          3.9         1.1 versicolor\n",
            "71           5.9         3.2          4.8         1.8 versicolor\n",
            "72           6.1         2.8          4.0         1.3 versicolor\n",
            "73           6.3         2.5          4.9         1.5 versicolor\n",
            "74           6.1         2.8          4.7         1.2 versicolor\n",
            "75           6.4         2.9          4.3         1.3 versicolor\n",
            "76           6.6         3.0          4.4         1.4 versicolor\n",
            "77           6.8         2.8          4.8         1.4 versicolor\n",
            "78           6.7         3.0          5.0         1.7 versicolor\n",
            "79           6.0         2.9          4.5         1.5 versicolor\n",
            "80           5.7         2.6          3.5         1.0 versicolor\n",
            "81           5.5         2.4          3.8         1.1 versicolor\n",
            "82           5.5         2.4          3.7         1.0 versicolor\n",
            "83           5.8         2.7          3.9         1.2 versicolor\n",
            "84           6.0         2.7          5.1         1.6 versicolor\n",
            "85           5.4         3.0          4.5         1.5 versicolor\n",
            "86           6.0         3.4          4.5         1.6 versicolor\n",
            "87           6.7         3.1          4.7         1.5 versicolor\n",
            "88           6.3         2.3          4.4         1.3 versicolor\n",
            "89           5.6         3.0          4.1         1.3 versicolor\n",
            "90           5.5         2.5          4.0         1.3 versicolor\n",
            "91           5.5         2.6          4.4         1.2 versicolor\n",
            "92           6.1         3.0          4.6         1.4 versicolor\n",
            "93           5.8         2.6          4.0         1.2 versicolor\n",
            "94           5.0         2.3          3.3         1.0 versicolor\n",
            "95           5.6         2.7          4.2         1.3 versicolor\n",
            "96           5.7         3.0          4.2         1.2 versicolor\n",
            "97           5.7         2.9          4.2         1.3 versicolor\n",
            "98           6.2         2.9          4.3         1.3 versicolor\n",
            "99           5.1         2.5          3.0         1.1 versicolor\n",
            "100          5.7         2.8          4.1         1.3 versicolor\n",
            "101          6.3         3.3          6.0         2.5  virginica\n",
            "102          5.8         2.7          5.1         1.9  virginica\n",
            "103          7.1         3.0          5.9         2.1  virginica\n",
            "104          6.3         2.9          5.6         1.8  virginica\n",
            "105          6.5         3.0          5.8         2.2  virginica\n",
            "106          7.6         3.0          6.6         2.1  virginica\n",
            "107          4.9         2.5          4.5         1.7  virginica\n",
            "108          7.3         2.9          6.3         1.8  virginica\n",
            "109          6.7         2.5          5.8         1.8  virginica\n",
            "110          7.2         3.6          6.1         2.5  virginica\n",
            "111          6.5         3.2          5.1         2.0  virginica\n",
            "112          6.4         2.7          5.3         1.9  virginica\n",
            "113          6.8         3.0          5.5         2.1  virginica\n",
            "114          5.7         2.5          5.0         2.0  virginica\n",
            "115          5.8         2.8          5.1         2.4  virginica\n",
            "116          6.4         3.2          5.3         2.3  virginica\n",
            "117          6.5         3.0          5.5         1.8  virginica\n",
            "118          7.7         3.8          6.7         2.2  virginica\n",
            "119          7.7         2.6          6.9         2.3  virginica\n",
            "120          6.0         2.2          5.0         1.5  virginica\n",
            "121          6.9         3.2          5.7         2.3  virginica\n",
            "122          5.6         2.8          4.9         2.0  virginica\n",
            "123          7.7         2.8          6.7         2.0  virginica\n",
            "124          6.3         2.7          4.9         1.8  virginica\n",
            "125          6.7         3.3          5.7         2.1  virginica\n",
            "126          7.2         3.2          6.0         1.8  virginica\n",
            "127          6.2         2.8          4.8         1.8  virginica\n",
            "128          6.1         3.0          4.9         1.8  virginica\n",
            "129          6.4         2.8          5.6         2.1  virginica\n",
            "130          7.2         3.0          5.8         1.6  virginica\n",
            "131          7.4         2.8          6.1         1.9  virginica\n",
            "132          7.9         3.8          6.4         2.0  virginica\n",
            "133          6.4         2.8          5.6         2.2  virginica\n",
            "134          6.3         2.8          5.1         1.5  virginica\n",
            "135          6.1         2.6          5.6         1.4  virginica\n",
            "136          7.7         3.0          6.1         2.3  virginica\n",
            "137          6.3         3.4          5.6         2.4  virginica\n",
            "138          6.4         3.1          5.5         1.8  virginica\n",
            "139          6.0         3.0          4.8         1.8  virginica\n",
            "140          6.9         3.1          5.4         2.1  virginica\n",
            "141          6.7         3.1          5.6         2.4  virginica\n",
            "142          6.9         3.1          5.1         2.3  virginica\n",
            "143          5.8         2.7          5.1         1.9  virginica\n",
            "144          6.8         3.2          5.9         2.3  virginica\n",
            "145          6.7         3.3          5.7         2.5  virginica\n",
            "146          6.7         3.0          5.2         2.3  virginica\n",
            "147          6.3         2.5          5.0         1.9  virginica\n",
            "148          6.5         3.0          5.2         2.0  virginica\n",
            "149          6.2         3.4          5.4         2.3  virginica\n",
            "150          5.9         3.0          5.1         1.8  virginica\n"
          ],
          "name": "stdout"
        }
      ]
    },
    {
      "cell_type": "code",
      "metadata": {
        "cellView": "both",
        "id": "fOQIU7zU6bxX",
        "outputId": "6bb923d7-9fc2-41ec-da36-8dae7be45163",
        "colab": {
          "base_uri": "https://localhost:8080/",
          "height": 323
        }
      },
      "source": [
        "seoul_bike_2 <- tbl(con, \"seoul_bike\")\n",
        "seoul_bike_2"
      ],
      "execution_count": null,
      "outputs": [
        {
          "output_type": "display_data",
          "data": {
            "text/plain": [
              "\u001b[90m# Source:   table<seoul_bike> [?? x 14]\u001b[39m\n",
              "\u001b[90m# Database: sqlite 3.33.0 [/content/sqlite/seoul_bike.sqlite]\u001b[39m\n",
              "   Date  Rented_Bike_Cou~  Hour Temperature Humidity Wind_speed_ Visibility_\n",
              "   \u001b[3m\u001b[90m<chr>\u001b[39m\u001b[23m            \u001b[3m\u001b[90m<int>\u001b[39m\u001b[23m \u001b[3m\u001b[90m<int>\u001b[39m\u001b[23m       \u001b[3m\u001b[90m<dbl>\u001b[39m\u001b[23m    \u001b[3m\u001b[90m<int>\u001b[39m\u001b[23m       \u001b[3m\u001b[90m<dbl>\u001b[39m\u001b[23m       \u001b[3m\u001b[90m<int>\u001b[39m\u001b[23m\n",
              "\u001b[90m 1\u001b[39m 01/1~              254     0        -\u001b[31m5\u001b[39m\u001b[31m.\u001b[39m\u001b[31m2\u001b[39m       37         2.2        \u001b[4m2\u001b[24m000\n",
              "\u001b[90m 2\u001b[39m 01/1~              204     1        -\u001b[31m5\u001b[39m\u001b[31m.\u001b[39m\u001b[31m5\u001b[39m       38         0.8        \u001b[4m2\u001b[24m000\n",
              "\u001b[90m 3\u001b[39m 01/1~              173     2        -\u001b[31m6\u001b[39m         39         1          \u001b[4m2\u001b[24m000\n",
              "\u001b[90m 4\u001b[39m 01/1~              107     3        -\u001b[31m6\u001b[39m\u001b[31m.\u001b[39m\u001b[31m2\u001b[39m       40         0.9        \u001b[4m2\u001b[24m000\n",
              "\u001b[90m 5\u001b[39m 01/1~               78     4        -\u001b[31m6\u001b[39m         36         2.3        \u001b[4m2\u001b[24m000\n",
              "\u001b[90m 6\u001b[39m 01/1~              100     5        -\u001b[31m6\u001b[39m\u001b[31m.\u001b[39m\u001b[31m4\u001b[39m       37         1.5        \u001b[4m2\u001b[24m000\n",
              "\u001b[90m 7\u001b[39m 01/1~              181     6        -\u001b[31m6\u001b[39m\u001b[31m.\u001b[39m\u001b[31m6\u001b[39m       35         1.3        \u001b[4m2\u001b[24m000\n",
              "\u001b[90m 8\u001b[39m 01/1~              460     7        -\u001b[31m7\u001b[39m\u001b[31m.\u001b[39m\u001b[31m4\u001b[39m       38         0.9        \u001b[4m2\u001b[24m000\n",
              "\u001b[90m 9\u001b[39m 01/1~              930     8        -\u001b[31m7\u001b[39m\u001b[31m.\u001b[39m\u001b[31m6\u001b[39m       37         1.1        \u001b[4m2\u001b[24m000\n",
              "\u001b[90m10\u001b[39m 01/1~              490     9        -\u001b[31m6\u001b[39m\u001b[31m.\u001b[39m\u001b[31m5\u001b[39m       27         0.5        \u001b[4m1\u001b[24m928\n",
              "\u001b[90m# ... with more rows, and 7 more variables: Dew_point_temperature \u001b[3m\u001b[90m<dbl>\u001b[90m\u001b[23m,\u001b[39m\n",
              "\u001b[90m#   Solar_Radiation_ \u001b[3m\u001b[90m<dbl>\u001b[90m\u001b[23m, Rainfall \u001b[3m\u001b[90m<dbl>\u001b[90m\u001b[23m, Snowfall_ \u001b[3m\u001b[90m<dbl>\u001b[90m\u001b[23m, Seasons \u001b[3m\u001b[90m<chr>\u001b[90m\u001b[23m,\u001b[39m\n",
              "\u001b[90m#   Holiday \u001b[3m\u001b[90m<chr>\u001b[90m\u001b[23m, Functioning_Day \u001b[3m\u001b[90m<chr>\u001b[90m\u001b[23m\u001b[39m"
            ]
          },
          "metadata": {
            "tags": []
          }
        }
      ]
    },
    {
      "cell_type": "markdown",
      "metadata": {
        "id": "DHzoKUVMybOX"
      },
      "source": [
        "* dplyr 문법을 이용한 SQL 번역"
      ]
    },
    {
      "cell_type": "code",
      "metadata": {
        "cellView": "both",
        "id": "FxA-a1YN7-H5",
        "outputId": "0e54bd1d-3985-4992-d171-8b350cc6841e",
        "colab": {
          "base_uri": "https://localhost:8080/",
          "height": 287
        }
      },
      "source": [
        "# 데이터베이스에 있는 값들을 R언어로 사용할 수 있다.\n",
        "# dplyr 에서 자동으로 SQL 언어로 번역해서 일을 처리해줌\n",
        "# 하지만 collect()를 써주지 않는다면 실제 데이터가 되지않고, 출력만 해주게 된다 -> 실제 데이터는 변경되지 않음\n",
        "\n",
        "seoul_bike_2 %>% select(Date, Hour)"
      ],
      "execution_count": null,
      "outputs": [
        {
          "output_type": "display_data",
          "data": {
            "text/plain": [
              "\u001b[90m# Source:   lazy query [?? x 2]\u001b[39m\n",
              "\u001b[90m# Database: sqlite 3.33.0 [/content/sqlite/seoul_bike.sqlite]\u001b[39m\n",
              "   Date        Hour\n",
              "   \u001b[3m\u001b[90m<chr>\u001b[39m\u001b[23m      \u001b[3m\u001b[90m<int>\u001b[39m\u001b[23m\n",
              "\u001b[90m 1\u001b[39m 01/12/2017     0\n",
              "\u001b[90m 2\u001b[39m 01/12/2017     1\n",
              "\u001b[90m 3\u001b[39m 01/12/2017     2\n",
              "\u001b[90m 4\u001b[39m 01/12/2017     3\n",
              "\u001b[90m 5\u001b[39m 01/12/2017     4\n",
              "\u001b[90m 6\u001b[39m 01/12/2017     5\n",
              "\u001b[90m 7\u001b[39m 01/12/2017     6\n",
              "\u001b[90m 8\u001b[39m 01/12/2017     7\n",
              "\u001b[90m 9\u001b[39m 01/12/2017     8\n",
              "\u001b[90m10\u001b[39m 01/12/2017     9\n",
              "\u001b[90m# ... with more rows\u001b[39m"
            ]
          },
          "metadata": {
            "tags": []
          }
        }
      ]
    },
    {
      "cell_type": "code",
      "metadata": {
        "cellView": "both",
        "id": "_DEjqRmC-XKw",
        "outputId": "37f7bf22-bd6b-4c6a-b598-ad8cd2713607",
        "colab": {
          "base_uri": "https://localhost:8080/",
          "height": 323
        }
      },
      "source": [
        "seoul_bike_2 %>% filter(Humidity >= 40)"
      ],
      "execution_count": null,
      "outputs": [
        {
          "output_type": "display_data",
          "data": {
            "text/plain": [
              "\u001b[90m# Source:   lazy query [?? x 14]\u001b[39m\n",
              "\u001b[90m# Database: sqlite 3.33.0 [/content/sqlite/seoul_bike.sqlite]\u001b[39m\n",
              "   Date  Rented_Bike_Cou~  Hour Temperature Humidity Wind_speed_ Visibility_\n",
              "   \u001b[3m\u001b[90m<chr>\u001b[39m\u001b[23m            \u001b[3m\u001b[90m<int>\u001b[39m\u001b[23m \u001b[3m\u001b[90m<int>\u001b[39m\u001b[23m       \u001b[3m\u001b[90m<dbl>\u001b[39m\u001b[23m    \u001b[3m\u001b[90m<int>\u001b[39m\u001b[23m       \u001b[3m\u001b[90m<dbl>\u001b[39m\u001b[23m       \u001b[3m\u001b[90m<int>\u001b[39m\u001b[23m\n",
              "\u001b[90m 1\u001b[39m 01/1~              107     3        -\u001b[31m6\u001b[39m\u001b[31m.\u001b[39m\u001b[31m2\u001b[39m       40         0.9        \u001b[4m2\u001b[24m000\n",
              "\u001b[90m 2\u001b[39m 01/1~              484    16         1.2       54         4.2         793\n",
              "\u001b[90m 3\u001b[39m 01/1~              555    17         0.8       58         1.6        \u001b[4m2\u001b[24m000\n",
              "\u001b[90m 4\u001b[39m 01/1~              862    18         0.6       66         1.4        \u001b[4m2\u001b[24m000\n",
              "\u001b[90m 5\u001b[39m 01/1~              600    19         0         77         1.7        \u001b[4m2\u001b[24m000\n",
              "\u001b[90m 6\u001b[39m 01/1~              426    20        -\u001b[31m0\u001b[39m\u001b[31m.\u001b[39m\u001b[31m3\u001b[39m       79         1.5        \u001b[4m1\u001b[24m913\n",
              "\u001b[90m 7\u001b[39m 01/1~              405    21        -\u001b[31m0\u001b[39m\u001b[31m.\u001b[39m\u001b[31m8\u001b[39m       81         0.8        \u001b[4m1\u001b[24m687\n",
              "\u001b[90m 8\u001b[39m 01/1~              398    22        -\u001b[31m0\u001b[39m\u001b[31m.\u001b[39m\u001b[31m9\u001b[39m       83         1.5        \u001b[4m1\u001b[24m380\n",
              "\u001b[90m 9\u001b[39m 01/1~              323    23        -\u001b[31m1\u001b[39m\u001b[31m.\u001b[39m\u001b[31m3\u001b[39m       84         1          \u001b[4m1\u001b[24m265\n",
              "\u001b[90m10\u001b[39m 02/1~              328     0        -\u001b[31m1\u001b[39m\u001b[31m.\u001b[39m\u001b[31m8\u001b[39m       87         1.1         994\n",
              "\u001b[90m# ... with more rows, and 7 more variables: Dew_point_temperature \u001b[3m\u001b[90m<dbl>\u001b[90m\u001b[23m,\u001b[39m\n",
              "\u001b[90m#   Solar_Radiation_ \u001b[3m\u001b[90m<dbl>\u001b[90m\u001b[23m, Rainfall \u001b[3m\u001b[90m<dbl>\u001b[90m\u001b[23m, Snowfall_ \u001b[3m\u001b[90m<dbl>\u001b[90m\u001b[23m, Seasons \u001b[3m\u001b[90m<chr>\u001b[90m\u001b[23m,\u001b[39m\n",
              "\u001b[90m#   Holiday \u001b[3m\u001b[90m<chr>\u001b[90m\u001b[23m, Functioning_Day \u001b[3m\u001b[90m<chr>\u001b[90m\u001b[23m\u001b[39m"
            ]
          },
          "metadata": {
            "tags": []
          }
        }
      ]
    },
    {
      "cell_type": "code",
      "metadata": {
        "cellView": "both",
        "id": "36TdQeqb_GjO",
        "outputId": "2f734779-7897-44f4-d1d0-a838d753e04b",
        "colab": {
          "base_uri": "https://localhost:8080/",
          "height": 287
        }
      },
      "source": [
        "seoul_bike_2 %>% group_by(Date) %>% summarise(daily_humidity = mean(Humidity, na.rm = T))"
      ],
      "execution_count": null,
      "outputs": [
        {
          "output_type": "display_data",
          "data": {
            "text/plain": [
              "\u001b[90m# Source:   lazy query [?? x 2]\u001b[39m\n",
              "\u001b[90m# Database: sqlite 3.33.0 [/content/sqlite/seoul_bike.sqlite]\u001b[39m\n",
              "   Date       daily_humidity\n",
              "   \u001b[3m\u001b[90m<chr>\u001b[39m\u001b[23m               \u001b[3m\u001b[90m<dbl>\u001b[39m\u001b[23m\n",
              "\u001b[90m 1\u001b[39m 01/01/2018           39.3\n",
              "\u001b[90m 2\u001b[39m 01/02/2018           44  \n",
              "\u001b[90m 3\u001b[39m 01/03/2018           64.2\n",
              "\u001b[90m 4\u001b[39m 01/04/2018           68.9\n",
              "\u001b[90m 5\u001b[39m 01/05/2018           72.8\n",
              "\u001b[90m 6\u001b[39m 01/06/2018           50.1\n",
              "\u001b[90m 7\u001b[39m 01/07/2018           93.5\n",
              "\u001b[90m 8\u001b[39m 01/08/2018           55.8\n",
              "\u001b[90m 9\u001b[39m 01/09/2018           61.2\n",
              "\u001b[90m10\u001b[39m 01/10/2018           54.2\n",
              "\u001b[90m# ... with more rows\u001b[39m"
            ]
          },
          "metadata": {
            "tags": []
          }
        }
      ]
    },
    {
      "cell_type": "markdown",
      "metadata": {
        "id": "AHWmQ9m__bCG"
      },
      "source": [
        "* Show Query"
      ]
    },
    {
      "cell_type": "code",
      "metadata": {
        "cellView": "both",
        "id": "yki9_VXk_coj"
      },
      "source": [
        "daily_h <- seoul_bike_2 %>% filter(Humidity >= 40) %>% \n",
        " group_by(Date) %>% summarise(daily_humidity = mean(Humidity, na.rm = T))"
      ],
      "execution_count": null,
      "outputs": []
    },
    {
      "cell_type": "code",
      "metadata": {
        "cellView": "both",
        "id": "jQFi322H_hdN",
        "outputId": "675a1cc6-86e8-426c-a935-259c01d8042c",
        "colab": {
          "base_uri": "https://localhost:8080/"
        }
      },
      "source": [
        "# R언어가 SQL문인 쿼리으로 바뀐것을 볼 수 있다.\n",
        "\n",
        "show_query(daily_h)"
      ],
      "execution_count": null,
      "outputs": [
        {
          "output_type": "stream",
          "text": [
            "<SQL>\n",
            "SELECT `Date`, AVG(`Humidity`) AS `daily_humidity`\n",
            "FROM `seoul_bike`\n",
            "WHERE (`Humidity` >= 40.0)\n",
            "GROUP BY `Date`\n"
          ],
          "name": "stdout"
        }
      ]
    },
    {
      "cell_type": "code",
      "metadata": {
        "cellView": "both",
        "id": "MP_J1kde_mJn",
        "outputId": "247fe073-c6fe-40d2-d5ef-5af5b9a92220",
        "colab": {
          "base_uri": "https://localhost:8080/"
        }
      },
      "source": [
        "explain(daily_h)"
      ],
      "execution_count": null,
      "outputs": [
        {
          "output_type": "stream",
          "text": [
            "<SQL>\n",
            "SELECT `Date`, AVG(`Humidity`) AS `daily_humidity`\n",
            "FROM `seoul_bike`\n",
            "WHERE (`Humidity` >= 40.0)\n",
            "GROUP BY `Date`\n",
            "\n",
            "<PLAN>\n",
            "  id parent notused                       detail\n",
            "1  6      0       0        SCAN TABLE seoul_bike\n",
            "2 10      0       0 USE TEMP B-TREE FOR GROUP BY\n"
          ],
          "name": "stdout"
        }
      ]
    },
    {
      "cell_type": "markdown",
      "metadata": {
        "id": "QjLgsfXxq5VC"
      },
      "source": [
        "* Collect Data\n",
        "\n",
        "```\n",
        "Now, some interesting facts. When working with databases, dplyr never pulls data into R unless you explicitly ask for it. \n",
        "In the previous example, dplyr will not do anything until you ask for the mileages data. \n",
        "\n",
        "It generates the SQL and only pulls down a few rows when you try to print mileages. So how do we pull all the data and store it for further analysis? \n",
        "collect() will pull all the data and store it in a tibble and you can use it for any further analysis.\n",
        "```"
      ]
    },
    {
      "cell_type": "code",
      "metadata": {
        "cellView": "both",
        "id": "C3Ml1LEy_2rP",
        "outputId": "25314839-f38d-4217-d9b7-c0a571e07b56",
        "colab": {
          "base_uri": "https://localhost:8080/"
        }
      },
      "source": [
        "# collect()를 써주지 않는다면 실제 데이터에 영향을 줄 수 없다.\n",
        "\n",
        "\n",
        "daily_h %>% collect() %>% show()"
      ],
      "execution_count": null,
      "outputs": [
        {
          "output_type": "stream",
          "text": [
            "\u001b[90m# A tibble: 361 x 2\u001b[39m\n",
            "   Date       daily_humidity\n",
            "   \u001b[3m\u001b[90m<chr>\u001b[39m\u001b[23m               \u001b[3m\u001b[90m<dbl>\u001b[39m\u001b[23m\n",
            "\u001b[90m 1\u001b[39m 01/01/2018           47.6\n",
            "\u001b[90m 2\u001b[39m 01/02/2018           54.9\n",
            "\u001b[90m 3\u001b[39m 01/03/2018           71.7\n",
            "\u001b[90m 4\u001b[39m 01/04/2018           68.9\n",
            "\u001b[90m 5\u001b[39m 01/05/2018           72.8\n",
            "\u001b[90m 6\u001b[39m 01/06/2018           60.9\n",
            "\u001b[90m 7\u001b[39m 01/07/2018           93.5\n",
            "\u001b[90m 8\u001b[39m 01/08/2018           60.4\n",
            "\u001b[90m 9\u001b[39m 01/09/2018           61.2\n",
            "\u001b[90m10\u001b[39m 01/10/2018           55.0\n",
            "\u001b[90m# ... with 351 more rows\u001b[39m\n"
          ],
          "name": "stdout"
        }
      ]
    },
    {
      "cell_type": "markdown",
      "metadata": {
        "id": "IhC4KXi0q5Od"
      },
      "source": [
        "#### **C. Google Cloud Platform(GCP)를 이용한 DB 서버 생성 및 이용**\n",
        "\n",
        "https://blog-rogan.tistory.com/entry/Cloud-Platform%EC%9D%B4%EB%9E%80\n",
        "\n",
        "https://cloud.google.com/free/docs/gcp-free-tier?hl=ko\n",
        "\n",
        "---\n"
      ]
    },
    {
      "cell_type": "code",
      "metadata": {
        "cellView": "both",
        "id": "alkHyaaMUAiO"
      },
      "source": [
        "\n",
        "system(\"sudo apt-get install libmysql++-dev\")"
      ],
      "execution_count": null,
      "outputs": []
    },
    {
      "cell_type": "code",
      "metadata": {
        "cellView": "both",
        "id": "Y-I1VdE-t2YP",
        "outputId": "47950da5-bba5-4cb1-a2e7-037a2bdc4581",
        "colab": {
          "base_uri": "https://localhost:8080/"
        }
      },
      "source": [
        "install.packages(\"RMariaDB\")"
      ],
      "execution_count": null,
      "outputs": [
        {
          "output_type": "stream",
          "text": [
            "Installing package into '/usr/local/lib/R/site-library'\n",
            "(as 'lib' is unspecified)\n",
            "\n"
          ],
          "name": "stderr"
        }
      ]
    },
    {
      "cell_type": "code",
      "metadata": {
        "cellView": "both",
        "id": "4YwKe5w4GIB0"
      },
      "source": [
        "#dbDisconnect(con)"
      ],
      "execution_count": null,
      "outputs": []
    },
    {
      "cell_type": "code",
      "metadata": {
        "cellView": "both",
        "id": "ay93vA9AUSA1"
      },
      "source": [
        "con <- dbConnect(RMariaDB::MariaDB(), user = \"root\", password = \"spark123!\",\n",
        "                          host = \"34.123.12.131\", dbname = \"test\")"
      ],
      "execution_count": null,
      "outputs": []
    },
    {
      "cell_type": "markdown",
      "metadata": {
        "id": "oQ0bDP7DmHu6"
      },
      "source": [
        "* 예제 데이터"
      ]
    },
    {
      "cell_type": "code",
      "metadata": {
        "cellView": "both",
        "id": "hZLbxSMFGf6j"
      },
      "source": [
        "#install.packages(\"nycflights13\")\n",
        "nycflights13::flights %>% str()"
      ],
      "execution_count": null,
      "outputs": []
    },
    {
      "cell_type": "code",
      "metadata": {
        "cellView": "both",
        "id": "8sNmdtxuF_DD"
      },
      "source": [
        "copy_to(con, nycflights13::flights, \"flights\")"
      ],
      "execution_count": null,
      "outputs": []
    },
    {
      "cell_type": "markdown",
      "metadata": {
        "id": "qr_B5QGkmcRE"
      },
      "source": [
        "* 예제 데이터"
      ]
    },
    {
      "cell_type": "code",
      "metadata": {
        "cellView": "both",
        "id": "WINDR-radZ_3"
      },
      "source": [
        "Sys.setlocale('LC_ALL','C') # 이부분 무시해도 됨.\n",
        "DF <- fread(\"https://raw.githubusercontent.com/Jin0331/TA/master/data/SeoulBikeData.csv\", sep = \",\", stringsAsFactors = F) %>%\n",
        " as_tibble()\n",
        "\n",
        "colnames(DF) <- colnames(DF) %>% lapply(X = ., FUN = function(value){\n",
        "  stringr::str_remove(string = value, pattern = \"\\\\(.*\") %>%\n",
        "  stringr::str_replace_all(string = ., pattern = \"[[:space:]]\", replace = \"_\")\n",
        "}) %>% unlist()"
      ],
      "execution_count": null,
      "outputs": []
    },
    {
      "cell_type": "code",
      "metadata": {
        "id": "r2_0fzDaURqt"
      },
      "source": [
        "copy_to(con, DF, \"seoul_bike\")"
      ],
      "execution_count": null,
      "outputs": []
    },
    {
      "cell_type": "markdown",
      "metadata": {
        "id": "8yM6EzpZZ1-l"
      },
      "source": [
        "- - -\n",
        "\n",
        "## **실습 과제 <11주차 과제 - 100점>**\n",
        "\n",
        "### **(1) 아래의 조건에 맞는 ```학번_이름.sqlite 파일```을 생성한 후, 한림SmartLEAD에 제출할 것(ex.D20514_이진우.sqlite)**\n",
        "### **(2) 제출 데드라인 : 2020.11.9(월요일) ~ 2020.11.15(일요일) 23:59 까지**\n",
        "\n",
        "\n",
        "- - -\n"
      ]
    },
    {
      "cell_type": "markdown",
      "metadata": {
        "id": "tmf-hIy_c2Vq"
      },
      "source": [
        "### **1. SQLite를 이용하여 학번_이름.sqlite 데이터베이스를 생성**\n",
        "\n",
        "### **2. dbplyr를 이용하여 학번_이름(영어)인 테이블 생성 (ex. D20514_jinoo)**\n",
        "\n",
        "```\n",
        "<테이블의 구조>\n",
        "\n",
        "ID : 자신의 학번\n",
        "GRADE : 자신의 학년\n",
        "NAME : 자신의 이름\n",
        "RESIDENCE : 자신의 거주 지역\n",
        "```\n",
        "\n",
        "\n",
        "### **3. dbplyr를 이용하여 각 열에 맞는 데이터 삽입(1행만)**\n",
        "\n"
      ]
    },
    {
      "cell_type": "markdown",
      "metadata": {
        "id": "47qdZ9lfdxb4"
      },
      "source": [
        "* 예시 코드"
      ]
    },
    {
      "cell_type": "code",
      "metadata": {
        "id": "G51lijGbZ6cq",
        "outputId": "9ee5acc7-5540-4885-ccb9-c2a766101451",
        "colab": {
          "base_uri": "https://localhost:8080/"
        }
      },
      "source": [
        "install.packages(c(\"DBI\", \"RSQLite\", \"tidyverse\", \"dbplyr\"))\n",
        "library(DBI)\n",
        "library(RSQLite)\n",
        "library(tidyverse)\n",
        "library(dbplyr)"
      ],
      "execution_count": 14,
      "outputs": [
        {
          "output_type": "stream",
          "text": [
            "Installing packages into ‘/usr/local/lib/R/site-library’\n",
            "(as ‘lib’ is unspecified)\n",
            "\n"
          ],
          "name": "stderr"
        }
      ]
    },
    {
      "cell_type": "code",
      "metadata": {
        "id": "DngSCJ47ecem",
        "outputId": "141e9260-302e-4aa1-c2fb-1389b5434ad6",
        "colab": {
          "base_uri": "https://localhost:8080/",
          "height": 51
        }
      },
      "source": [
        "# test 폴더 생성\n",
        "\n",
        "getwd()\n",
        "dir.create(\"test\")#dir함수 사용해서 폴더 생성\n",
        "list.dirs()# 무슨 폴더 있는지 알려줌"
      ],
      "execution_count": 15,
      "outputs": [
        {
          "output_type": "display_data",
          "data": {
            "text/plain": [
              "[1] \"/content\""
            ],
            "text/latex": "'/content'",
            "text/markdown": "'/content'",
            "text/html": [
              "'/content'"
            ]
          },
          "metadata": {
            "tags": []
          }
        },
        {
          "output_type": "display_data",
          "data": {
            "text/plain": [
              "[1] \".\"                         \"./.config\"                \n",
              "[3] \"./.config/configurations\"  \"./.config/logs\"           \n",
              "[5] \"./.config/logs/2020.11.06\" \"./.ipynb_checkpoints\"     \n",
              "[7] \"./sample_data\"             \"./test\"                   "
            ],
            "text/latex": "\\begin{enumerate*}\n\\item '.'\n\\item './.config'\n\\item './.config/configurations'\n\\item './.config/logs'\n\\item './.config/logs/2020.11.06'\n\\item './.ipynb\\_checkpoints'\n\\item './sample\\_data'\n\\item './test'\n\\end{enumerate*}\n",
            "text/markdown": "1. '.'\n2. './.config'\n3. './.config/configurations'\n4. './.config/logs'\n5. './.config/logs/2020.11.06'\n6. './.ipynb_checkpoints'\n7. './sample_data'\n8. './test'\n\n\n",
            "text/html": [
              "<style>\n",
              ".list-inline {list-style: none; margin:0; padding: 0}\n",
              ".list-inline>li {display: inline-block}\n",
              ".list-inline>li:not(:last-child)::after {content: \"\\00b7\"; padding: 0 .5ex}\n",
              "</style>\n",
              "<ol class=list-inline><li>'.'</li><li>'./.config'</li><li>'./.config/configurations'</li><li>'./.config/logs'</li><li>'./.config/logs/2020.11.06'</li><li>'./.ipynb_checkpoints'</li><li>'./sample_data'</li><li>'./test'</li></ol>\n"
            ]
          },
          "metadata": {
            "tags": []
          }
        }
      ]
    },
    {
      "cell_type": "code",
      "metadata": {
        "id": "a_7AjrddeNaO"
      },
      "source": [
        "# 데이터베이스 만들기 위해서 실행\n",
        "# 2015513_wonyoungAhn으로 데이터베이스파일이 만들어진다. \n",
        "\n",
        "con <- RSQLite::dbConnect(drv = RSQLite::SQLite(), dbname = \"test/20155137_wonyoungAhn.sqlite\") # 자신의 이름과 학번으로 설정할 것"
      ],
      "execution_count": 16,
      "outputs": []
    },
    {
      "cell_type": "markdown",
      "metadata": {
        "id": "u0FjSSGQfyrs"
      },
      "source": [
        "* local dataframe 생성"
      ]
    },
    {
      "cell_type": "code",
      "metadata": {
        "id": "JJe83vhFezAO",
        "outputId": "7d3c6b2f-c079-4b0f-e7c8-e83bba98dfd1",
        "colab": {
          "base_uri": "https://localhost:8080/"
        }
      },
      "source": [
        "# 데이터를 넣어주기 위해서 DF를 생성\n",
        "# 데이터 만들어주는곳\n",
        "\n",
        "DF <- tibble(ID = c(\"20155137\"), GRADE = c(\"3\"), NAME = c(\"wonyougAhn\"), RESIDENCE = c(\"Seoul Dongjak\"))\n",
        "DF %>% show()"
      ],
      "execution_count": 17,
      "outputs": [
        {
          "output_type": "stream",
          "text": [
            "\u001b[90m# A tibble: 1 x 4\u001b[39m\n",
            "  ID       GRADE NAME       RESIDENCE    \n",
            "  \u001b[3m\u001b[90m<chr>\u001b[39m\u001b[23m    \u001b[3m\u001b[90m<chr>\u001b[39m\u001b[23m \u001b[3m\u001b[90m<chr>\u001b[39m\u001b[23m      \u001b[3m\u001b[90m<chr>\u001b[39m\u001b[23m        \n",
            "\u001b[90m1\u001b[39m 20155137 3     wonyougAhn Seoul Dongjak\n"
          ],
          "name": "stdout"
        }
      ]
    },
    {
      "cell_type": "markdown",
      "metadata": {
        "id": "lDjMcNvbf041"
      },
      "source": [
        "* copy_to를 이용하여 local dataframe을 SQLite의 테이블로 생성"
      ]
    },
    {
      "cell_type": "code",
      "metadata": {
        "id": "1FXiv7S7etW1"
      },
      "source": [
        "# 생성한 데이터를 dyplyr을 이용해 데이터베이스에 DF형태로 데이터를 한번에 넣어준다.\n",
        "\n",
        "dplyr::copy_to(con, DF, \"20155137_wonyoungAhn\", temporary = F) # connection, 생성한 dataframe, 테이블 명, 일시적인 테이블 해제"
      ],
      "execution_count": 18,
      "outputs": []
    },
    {
      "cell_type": "markdown",
      "metadata": {
        "id": "ufHzPzRWf-hj"
      },
      "source": [
        "* 생성한 테이블 확인"
      ]
    },
    {
      "cell_type": "code",
      "metadata": {
        "id": "1vapKRvTfwte",
        "outputId": "751b1f7c-d825-41c3-9367-79e6431fd3b8",
        "colab": {
          "base_uri": "https://localhost:8080/",
          "height": 34
        }
      },
      "source": [
        "# 테이블이 만들어진것을 확인\n",
        "\n",
        "dbListTables(con)"
      ],
      "execution_count": 19,
      "outputs": [
        {
          "output_type": "display_data",
          "data": {
            "text/plain": [
              "[1] \"20155137_wonyoungAhn\" \"sqlite_stat1\"         \"sqlite_stat4\"        "
            ],
            "text/latex": "\\begin{enumerate*}\n\\item '20155137\\_wonyoungAhn'\n\\item 'sqlite\\_stat1'\n\\item 'sqlite\\_stat4'\n\\end{enumerate*}\n",
            "text/markdown": "1. '20155137_wonyoungAhn'\n2. 'sqlite_stat1'\n3. 'sqlite_stat4'\n\n\n",
            "text/html": [
              "<style>\n",
              ".list-inline {list-style: none; margin:0; padding: 0}\n",
              ".list-inline>li {display: inline-block}\n",
              ".list-inline>li:not(:last-child)::after {content: \"\\00b7\"; padding: 0 .5ex}\n",
              "</style>\n",
              "<ol class=list-inline><li>'20155137_wonyoungAhn'</li><li>'sqlite_stat1'</li><li>'sqlite_stat4'</li></ol>\n"
            ]
          },
          "metadata": {
            "tags": []
          }
        }
      ]
    },
    {
      "cell_type": "code",
      "metadata": {
        "id": "MT8aziLkgCXr",
        "outputId": "ae33a05f-ffc5-4453-d2b0-2a6f66000a4c",
        "colab": {
          "base_uri": "https://localhost:8080/"
        }
      },
      "source": [
        "# tbl함수를 이용하면 데이터베이스에 있는 데이터를 DF에서 사용하는 것처럼 사용할 수 있다.\n",
        "tbl(con, \"20155137_wonyoungAhn\") %>% collect() %>% show()"
      ],
      "execution_count": 24,
      "outputs": [
        {
          "output_type": "stream",
          "text": [
            "\u001b[90m# A tibble: 1 x 4\u001b[39m\n",
            "  ID       GRADE NAME       RESIDENCE    \n",
            "  \u001b[3m\u001b[90m<chr>\u001b[39m\u001b[23m    \u001b[3m\u001b[90m<chr>\u001b[39m\u001b[23m \u001b[3m\u001b[90m<chr>\u001b[39m\u001b[23m      \u001b[3m\u001b[90m<chr>\u001b[39m\u001b[23m        \n",
            "\u001b[90m1\u001b[39m 20155137 3     wonyougAhn Seoul Dongjak\n"
          ],
          "name": "stdout"
        }
      ]
    },
    {
      "cell_type": "code",
      "metadata": {
        "id": "G5Pd8UiW-NVg"
      },
      "source": [
        "# 데이터 모두다 삭제하지만 구조는 남겨둠\n",
        "\n",
        "query <- dbSendQuery(con, \"DELETE FROM [20155137_wonyoungAhn]\")\n",
        "dbClearResult(query)"
      ],
      "execution_count": 25,
      "outputs": []
    },
    {
      "cell_type": "code",
      "metadata": {
        "id": "BOkjg4pPSSYx",
        "outputId": "5d6041bf-c4da-4832-ef81-5e23939c06ab",
        "colab": {
          "base_uri": "https://localhost:8080/",
          "height": 78
        }
      },
      "source": [
        "# 데이터가 모두 삭제된것을 확인할 수 있다.\n",
        "\n",
        "dbGetQuery(con, \"SELECT * FROM [20155137_wonyoungAhn]\")"
      ],
      "execution_count": 27,
      "outputs": [
        {
          "output_type": "display_data",
          "data": {
            "text/plain": [
              "     ID GRADE NAME RESIDENCE"
            ],
            "text/latex": "A data.frame: 0 × 4\n\\begin{tabular}{llll}\n ID & GRADE & NAME & RESIDENCE\\\\\n <chr> & <chr> & <chr> & <chr>\\\\\n\\hline\n\\end{tabular}\n",
            "text/markdown": "\nA data.frame: 0 × 4\n\n| ID &lt;chr&gt; | GRADE &lt;chr&gt; | NAME &lt;chr&gt; | RESIDENCE &lt;chr&gt; |\n|---|---|---|---|\n\n",
            "text/html": [
              "<table>\n",
              "<caption>A data.frame: 0 × 4</caption>\n",
              "<thead>\n",
              "\t<tr><th scope=col>ID</th><th scope=col>GRADE</th><th scope=col>NAME</th><th scope=col>RESIDENCE</th></tr>\n",
              "\t<tr><th scope=col>&lt;chr&gt;</th><th scope=col>&lt;chr&gt;</th><th scope=col>&lt;chr&gt;</th><th scope=col>&lt;chr&gt;</th></tr>\n",
              "</thead>\n",
              "<tbody>\n",
              "</tbody>\n",
              "</table>\n"
            ]
          },
          "metadata": {
            "tags": []
          }
        }
      ]
    },
    {
      "cell_type": "code",
      "metadata": {
        "id": "RN4ckzz3gIYK"
      },
      "source": [
        "dbDisconnect(con)"
      ],
      "execution_count": null,
      "outputs": []
    },
    {
      "cell_type": "code",
      "metadata": {
        "id": "gsBIURpcgLgb"
      },
      "source": [
        ""
      ],
      "execution_count": null,
      "outputs": []
    }
  ]
}