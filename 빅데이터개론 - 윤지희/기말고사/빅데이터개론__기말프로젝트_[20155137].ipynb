{
  "nbformat": 4,
  "nbformat_minor": 0,
  "metadata": {
    "colab": {
      "name": "빅데이터개론__기말프로젝트_[학번].ipynb",
      "provenance": [],
      "collapsed_sections": [
        "bvjPzcZroydM"
      ],
      "toc_visible": true
    },
    "kernelspec": {
      "name": "ir",
      "display_name": "R"
    }
  },
  "cells": [
    {
      "cell_type": "markdown",
      "metadata": {
        "id": "qX8s200pOoQ1"
      },
      "source": [
        "# __빅데이터개론 기말프로젝트__\n",
        "\n",
        "* InClass Prediction Competition 주소 :\n",
        "  https://www.kaggle.com/t/b0dad38443624414a46ce6df520a26bc\n",
        "\n",
        "\n",
        "1. 기간 : 2020년 11월 30일[월요일] ~ 12월 16일[수요일] - 기간 외 제출 받지않음.\n",
        "2. 개인 프로젝트(팀별 프로젝트 아님!!) - copy & paste 발견시 0점 처리\n",
        "3. 주어진 데이터에 대한 분류 모델 생성 및 성능평가(kaggle submissions)\n",
        "  * Logistic Regression, Decision Trees, Random Forests, Support Vector Machine\n",
        "  * 4개의 분류 모델을 사용하여 Train set으로 학습, Test set으로 예측/분류를 진행하여 Kaggle에 submissions\n",
        "  * 4개의 분류 모델을 모두 사용해야 하며, 자신이 작업했던 내용을 Jupyter notebook(Jupyter, Google Colab) 또는 Rcript에 저장할 것.\n",
        "  * 또한, 모든 작업을 진행할 때는 필요한 부분에 주석을 반드시 작성할 것*(주석 미기입시 0점 처리)*\n",
        "\n",
        "```\n",
        "# Random Forest 또는 SVM predict에서 에러가 발생할 때 아래의 코드 사용\n",
        "# https://stackoverflow.com/questions/24829674/r-random-forest-error-type-of-predictors-in-new-data-do-not-match\n",
        "common <- intersect(names(train), names(test)) \n",
        "for (p in common) { \n",
        "  if (class(train[[p]]) == \"factor\") { \n",
        "    levels(test[[p]]) <- levels(train[[p]]) \n",
        "  } \n",
        "}\n",
        "```\n",
        "\n",
        "\n"
      ]
    },
    {
      "cell_type": "markdown",
      "metadata": {
        "id": "dHuQDA_zh4Pf"
      },
      "source": [
        "# Confusion Matrix"
      ]
    },
    {
      "cell_type": "code",
      "metadata": {
        "id": "JbMXZLdah76M"
      },
      "source": [
        "#https://stackoverflow.com/questions/23891140/r-how-to-visualize-confusion-matrix-using-the-caret-package\n",
        "# 그냥 깔끔하게 볼 수 있는 confusion matrix 함수임\n",
        "\n",
        "draw_confusion_matrix <- function(cm) {\n",
        "\n",
        "  total <- sum(cm$table)\n",
        "  res <- as.numeric(cm$table)\n",
        "\n",
        "  # Generate color gradients. Palettes come from RColorBrewer.\n",
        "  greenPalette <- c(\"#F7FCF5\",\"#E5F5E0\",\"#C7E9C0\",\"#A1D99B\",\"#74C476\",\"#41AB5D\",\"#238B45\",\"#006D2C\",\"#00441B\")\n",
        "  redPalette <- c(\"#FFF5F0\",\"#FEE0D2\",\"#FCBBA1\",\"#FC9272\",\"#FB6A4A\",\"#EF3B2C\",\"#CB181D\",\"#A50F15\",\"#67000D\")\n",
        "  getColor <- function (greenOrRed = \"green\", amount = 0) {\n",
        "    if (amount == 0)\n",
        "      return(\"#FFFFFF\")\n",
        "    palette <- greenPalette\n",
        "    if (greenOrRed == \"red\")\n",
        "      palette <- redPalette\n",
        "    colorRampPalette(palette)(100)[10 + ceiling(90 * amount / total)]\n",
        "  }\n",
        "\n",
        "  # set the basic layout\n",
        "  layout(matrix(c(1,1,2)))\n",
        "  par(mar=c(2,2,2,2))\n",
        "  plot(c(100, 345), c(300, 450), type = \"n\", xlab=\"\", ylab=\"\", xaxt='n', yaxt='n')\n",
        "  title('CONFUSION MATRIX', cex.main=2)\n",
        "\n",
        "  # create the matrix \n",
        "  classes = colnames(cm$table)\n",
        "  rect(150, 430, 240, 370, col=getColor(\"green\", res[1]))\n",
        "  text(195, 435, classes[1], cex=1.2)\n",
        "  rect(250, 430, 340, 370, col=getColor(\"red\", res[3]))\n",
        "  text(295, 435, classes[2], cex=1.2)\n",
        "  text(125, 370, 'Predicted', cex=1.3, srt=90, font=2)\n",
        "  text(245, 450, 'Actual', cex=1.3, font=2)\n",
        "  rect(150, 305, 240, 365, col=getColor(\"red\", res[2]))\n",
        "  rect(250, 305, 340, 365, col=getColor(\"green\", res[4]))\n",
        "  text(140, 400, classes[1], cex=1.2, srt=90)\n",
        "  text(140, 335, classes[2], cex=1.2, srt=90)\n",
        "\n",
        "  # add in the cm results\n",
        "  text(195, 400, res[1], cex=1.6, font=2, col='white')\n",
        "  text(195, 335, res[2], cex=1.6, font=2, col='white')\n",
        "  text(295, 400, res[3], cex=1.6, font=2, col='white')\n",
        "  text(295, 335, res[4], cex=1.6, font=2, col='white')\n",
        "\n",
        "  # add in the specifics \n",
        "  plot(c(100, 0), c(100, 0), type = \"n\", xlab=\"\", ylab=\"\", main = \"DETAILS\", xaxt='n', yaxt='n')\n",
        "  text(10, 85, names(cm$byClass[1]), cex=1.2, font=2)\n",
        "  text(10, 70, round(as.numeric(cm$byClass[1]), 3), cex=1.2)\n",
        "  text(30, 85, names(cm$byClass[2]), cex=1.2, font=2)\n",
        "  text(30, 70, round(as.numeric(cm$byClass[2]), 3), cex=1.2)\n",
        "  text(50, 85, names(cm$byClass[5]), cex=1.2, font=2)\n",
        "  text(50, 70, round(as.numeric(cm$byClass[5]), 3), cex=1.2)\n",
        "  text(70, 85, names(cm$byClass[6]), cex=1.2, font=2)\n",
        "  text(70, 70, round(as.numeric(cm$byClass[6]), 3), cex=1.2)\n",
        "  text(90, 85, names(cm$byClass[7]), cex=1.2, font=2)\n",
        "  text(90, 70, round(as.numeric(cm$byClass[7]), 3), cex=1.2)\n",
        "\n",
        "  # add in the accuracy information \n",
        "  text(30, 35, names(cm$overall[1]), cex=1.5, font=2)\n",
        "  text(30, 20, round(as.numeric(cm$overall[1]), 3), cex=1.4)\n",
        "  text(70, 35, names(cm$overall[2]), cex=1.5, font=2)\n",
        "  text(70, 20, round(as.numeric(cm$overall[2]), 3), cex=1.4)\n",
        "}"
      ],
      "execution_count": 1,
      "outputs": []
    },
    {
      "cell_type": "markdown",
      "metadata": {
        "id": "0iA50axZWHt7"
      },
      "source": [
        "# 데이터 불러오기\n"
      ]
    },
    {
      "cell_type": "markdown",
      "metadata": {
        "id": "OMEA_w0GgwPc"
      },
      "source": [
        "\n",
        "Attribute Information:\n",
        "\n",
        "Input variables:\n",
        "1 - age (numeric)\n",
        "2 - job : type of job (categorical: 'admin.','blue-collar','entrepreneur','housemaid','management','retired','self-employed','services','student','technician','unemployed','unknown')\n",
        "3 - marital : marital status (categorical: 'divorced','married','single','unknown'; note: 'divorced' means divorced or widowed)\n",
        "4 - education (categorical: 'basic.4y','basic.6y','basic.9y','high.school','illiterate','professional.course','university.degree','unknown')\n",
        "5 - default: has credit in default? (categorical: 'no','yes','unknown')\n",
        "6 - housing: has housing loan? (categorical: 'no','yes','unknown')\n",
        "7 - loan: has personal loan? (categorical: 'no','yes','unknown')\n",
        "# related with the last contact of the current campaign:\n",
        "8 - contact: contact communication type (categorical: 'cellular','telephone')\n",
        "9 - month: last contact month of year (categorical: 'jan', 'feb', 'mar', ..., 'nov', 'dec')\n",
        "10 - day_of_week: last contact day of the week (categorical: 'mon','tue','wed','thu','fri')\n",
        "11 - duration: last contact duration, in seconds (numeric). \n",
        "# other attributes:\n",
        "12 - campaign: number of contacts performed during this campaign and for this client (numeric, includes last contact)\n",
        "13 - pdays: number of days that passed by after the client was last contacted from a previous campaign (numeric; 999 means client was not previously contacted)\n",
        "14 - previous: number of contacts performed before this campaign and for this client (numeric)\n",
        "15 - poutcome: outcome of the previous marketing campaign (categorical: 'failure','nonexistent','success')\n",
        "# social and economic context attributes\n",
        "16 - emp.var.rate: employment variation rate - quarterly indicator (numeric)\n",
        "17 - cons.price.idx: consumer price index - monthly indicator (numeric)\n",
        "18 - cons.conf.idx: consumer confidence index - monthly indicator (numeric)\n",
        "19 - euribor3m: euribor 3 month rate - daily indicator (numeric)\n",
        "20 - nr.employed: number of employees - quarterly indicator (numeric)\n",
        "\n",
        "Output variable (desired target):\n",
        "21 - termDeposit - has the client subscribed a term deposit? (binary: 'yes','no')"
      ]
    },
    {
      "cell_type": "code",
      "metadata": {
        "colab": {
          "base_uri": "https://localhost:8080/"
        },
        "id": "nsgw4BgtPnNh",
        "outputId": "39d9e6d9-a6b4-497c-c679-f7b28f18240f"
      },
      "source": [
        "install.packages(c(\"tidyverse\", \"data.table\",\"caret\", \"e1071\", \"rpart\"))\n",
        "library(tidyverse)\n",
        "library(data.table)\n",
        "library(caret)\n",
        "library(rpart)\n",
        "library(e1071)\n",
        "\n",
        "options(repr.plot.width=10, repr.plot.height=10)"
      ],
      "execution_count": 2,
      "outputs": [
        {
          "output_type": "stream",
          "text": [
            "Installing packages into ‘/usr/local/lib/R/site-library’\n",
            "(as ‘lib’ is unspecified)\n",
            "\n",
            "also installing the dependencies ‘numDeriv’, ‘SQUAREM’, ‘lava’, ‘prodlim’, ‘iterators’, ‘gower’, ‘ipred’, ‘timeDate’, ‘foreach’, ‘plyr’, ‘ModelMetrics’, ‘reshape2’, ‘recipes’, ‘pROC’\n",
            "\n",
            "\n",
            "── \u001b[1mAttaching packages\u001b[22m ─────────────────────────────────────── tidyverse 1.3.0 ──\n",
            "\n",
            "\u001b[32m✔\u001b[39m \u001b[34mggplot2\u001b[39m 3.3.2     \u001b[32m✔\u001b[39m \u001b[34mpurrr  \u001b[39m 0.3.4\n",
            "\u001b[32m✔\u001b[39m \u001b[34mtibble \u001b[39m 3.0.4     \u001b[32m✔\u001b[39m \u001b[34mdplyr  \u001b[39m 1.0.2\n",
            "\u001b[32m✔\u001b[39m \u001b[34mtidyr  \u001b[39m 1.1.2     \u001b[32m✔\u001b[39m \u001b[34mstringr\u001b[39m 1.4.0\n",
            "\u001b[32m✔\u001b[39m \u001b[34mreadr  \u001b[39m 1.4.0     \u001b[32m✔\u001b[39m \u001b[34mforcats\u001b[39m 0.5.0\n",
            "\n",
            "── \u001b[1mConflicts\u001b[22m ────────────────────────────────────────── tidyverse_conflicts() ──\n",
            "\u001b[31m✖\u001b[39m \u001b[34mdplyr\u001b[39m::\u001b[32mfilter()\u001b[39m masks \u001b[34mstats\u001b[39m::filter()\n",
            "\u001b[31m✖\u001b[39m \u001b[34mdplyr\u001b[39m::\u001b[32mlag()\u001b[39m    masks \u001b[34mstats\u001b[39m::lag()\n",
            "\n",
            "\n",
            "Attaching package: ‘data.table’\n",
            "\n",
            "\n",
            "The following objects are masked from ‘package:dplyr’:\n",
            "\n",
            "    between, first, last\n",
            "\n",
            "\n",
            "The following object is masked from ‘package:purrr’:\n",
            "\n",
            "    transpose\n",
            "\n",
            "\n",
            "Loading required package: lattice\n",
            "\n",
            "\n",
            "Attaching package: ‘caret’\n",
            "\n",
            "\n",
            "The following object is masked from ‘package:purrr’:\n",
            "\n",
            "    lift\n",
            "\n",
            "\n"
          ],
          "name": "stderr"
        }
      ]
    },
    {
      "cell_type": "markdown",
      "metadata": {
        "id": "5yad4QKZOnV7"
      },
      "source": [
        ""
      ]
    },
    {
      "cell_type": "code",
      "metadata": {
        "colab": {
          "base_uri": "https://localhost:8080/",
          "height": 480
        },
        "id": "g6ZKgDVAPMau",
        "outputId": "db5ec697-7d2a-4150-dd20-b553e6f06233"
      },
      "source": [
        "\n",
        "DF_train <- read_csv(\"/content/Train.csv\") \n",
        "str(DF_Train)"
      ],
      "execution_count": 4,
      "outputs": [
        {
          "output_type": "stream",
          "text": [
            "\n",
            "\u001b[36m──\u001b[39m \u001b[1m\u001b[1mColumn specification\u001b[1m\u001b[22m \u001b[36m────────────────────────────────────────────────────────\u001b[39m\n",
            "cols(\n",
            "  .default = col_character(),\n",
            "  age = \u001b[32mcol_double()\u001b[39m,\n",
            "  duration = \u001b[32mcol_double()\u001b[39m,\n",
            "  campaign = \u001b[32mcol_double()\u001b[39m,\n",
            "  pdays = \u001b[32mcol_double()\u001b[39m,\n",
            "  previous = \u001b[32mcol_double()\u001b[39m,\n",
            "  emp.var.rate = \u001b[32mcol_double()\u001b[39m,\n",
            "  cons.price.idx = \u001b[32mcol_double()\u001b[39m,\n",
            "  cons.conf.idx = \u001b[32mcol_double()\u001b[39m,\n",
            "  euribor3m = \u001b[32mcol_double()\u001b[39m,\n",
            "  nr.employed = \u001b[32mcol_double()\u001b[39m\n",
            ")\n",
            "\u001b[36mℹ\u001b[39m Use \u001b[30m\u001b[47m\u001b[30m\u001b[47m`spec()`\u001b[47m\u001b[30m\u001b[49m\u001b[39m for the full column specifications.\n",
            "\n",
            "\n"
          ],
          "name": "stderr"
        },
        {
          "output_type": "error",
          "ename": "ERROR",
          "evalue": "ignored",
          "traceback": [
            "Error in str(DF_Train): object 'DF_Train' not found\nTraceback:\n",
            "1. str(DF_Train)"
          ]
        }
      ]
    },
    {
      "cell_type": "code",
      "metadata": {
        "colab": {
          "base_uri": "https://localhost:8080/"
        },
        "id": "Fbdpz7pBPMYj",
        "outputId": "481c8f74-404a-4df5-bbe5-a5e99bef6e6c"
      },
      "source": [
        "\n",
        "DF_test <- read_csv(\"/content/Test.csv\") \n",
        "# str(DF_test)"
      ],
      "execution_count": 5,
      "outputs": [
        {
          "output_type": "stream",
          "text": [
            "\n",
            "\u001b[36m──\u001b[39m \u001b[1m\u001b[1mColumn specification\u001b[1m\u001b[22m \u001b[36m────────────────────────────────────────────────────────\u001b[39m\n",
            "cols(\n",
            "  .default = col_character(),\n",
            "  age = \u001b[32mcol_double()\u001b[39m,\n",
            "  duration = \u001b[32mcol_double()\u001b[39m,\n",
            "  campaign = \u001b[32mcol_double()\u001b[39m,\n",
            "  pdays = \u001b[32mcol_double()\u001b[39m,\n",
            "  previous = \u001b[32mcol_double()\u001b[39m,\n",
            "  emp.var.rate = \u001b[32mcol_double()\u001b[39m,\n",
            "  cons.price.idx = \u001b[32mcol_double()\u001b[39m,\n",
            "  cons.conf.idx = \u001b[32mcol_double()\u001b[39m,\n",
            "  euribor3m = \u001b[32mcol_double()\u001b[39m,\n",
            "  nr.employed = \u001b[32mcol_double()\u001b[39m\n",
            ")\n",
            "\u001b[36mℹ\u001b[39m Use \u001b[30m\u001b[47m\u001b[30m\u001b[47m`spec()`\u001b[47m\u001b[30m\u001b[49m\u001b[39m for the full column specifications.\n",
            "\n",
            "\n"
          ],
          "name": "stderr"
        }
      ]
    },
    {
      "cell_type": "markdown",
      "metadata": {
        "id": "EPvGHF7giGrV"
      },
      "source": [
        "![데이터에대한사진.PNG](data:image/png;base64,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)"
      ]
    },
    {
      "cell_type": "code",
      "metadata": {
        "colab": {
          "base_uri": "https://localhost:8080/",
          "height": 773
        },
        "id": "KKr-nl5WZc23",
        "outputId": "2e756fc6-348d-4a00-8594-9276abd98b01"
      },
      "source": [
        "# 결측치가 없는것을 알 수 있다. \n",
        "###### 결측치 있었을 경우 쉽게 처리하는 2가지 방법 ######\n",
        "# 1번째 -> Hmisc 패키지 이용\n",
        "# install.packages(\"Hmisc\")\n",
        "# library(Hmisc)\n",
        "# 해당필드 <- impute(결측치 없애고 싶은 필드, median)\n",
        "\n",
        "# # 2번째 -> na.omit\n",
        "# DF <- DF %>% na.omit()\n",
        "\n",
        "summary(DF_train)"
      ],
      "execution_count": 6,
      "outputs": [
        {
          "output_type": "display_data",
          "data": {
            "text/plain": [
              "      ID                 age           job              marital         \n",
              " Length:10098       Min.   :17.0   Length:10098       Length:10098      \n",
              " Class :character   1st Qu.:32.0   Class :character   Class :character  \n",
              " Mode  :character   Median :38.0   Mode  :character   Mode  :character  \n",
              "                    Mean   :40.3                                        \n",
              "                    3rd Qu.:48.0                                        \n",
              "                    Max.   :98.0                                        \n",
              "  education           default            housing              loan          \n",
              " Length:10098       Length:10098       Length:10098       Length:10098      \n",
              " Class :character   Class :character   Class :character   Class :character  \n",
              " Mode  :character   Mode  :character   Mode  :character   Mode  :character  \n",
              "                                                                            \n",
              "                                                                            \n",
              "                                                                            \n",
              "   contact             month           day_of_week           duration     \n",
              " Length:10098       Length:10098       Length:10098       Min.   :   3.0  \n",
              " Class :character   Class :character   Class :character   1st Qu.: 130.0  \n",
              " Mode  :character   Mode  :character   Mode  :character   Median : 243.0  \n",
              "                                                          Mean   : 356.1  \n",
              "                                                          3rd Qu.: 472.8  \n",
              "                                                          Max.   :4199.0  \n",
              "    campaign          pdays          previous        poutcome        \n",
              " Min.   : 1.000   Min.   :  0.0   Min.   :0.0000   Length:10098      \n",
              " 1st Qu.: 1.000   1st Qu.:999.0   1st Qu.:0.0000   Class :character  \n",
              " Median : 2.000   Median :999.0   Median :0.0000   Mode  :character  \n",
              " Mean   : 2.397   Mean   :906.1   Mean   :0.2802                     \n",
              " 3rd Qu.: 3.000   3rd Qu.:999.0   3rd Qu.:0.0000                     \n",
              " Max.   :42.000   Max.   :999.0   Max.   :6.0000                     \n",
              "  emp.var.rate     cons.price.idx  cons.conf.idx      euribor3m    \n",
              " Min.   :-3.4000   Min.   :92.20   Min.   :-50.80   Min.   :0.634  \n",
              " 1st Qu.:-1.8000   1st Qu.:92.96   1st Qu.:-42.70   1st Qu.:1.260  \n",
              " Median :-0.1000   Median :93.44   Median :-41.80   Median :4.120  \n",
              " Mean   :-0.3717   Mean   :93.50   Mean   :-40.27   Mean   :3.104  \n",
              " 3rd Qu.: 1.4000   3rd Qu.:93.99   3rd Qu.:-36.40   3rd Qu.:4.960  \n",
              " Max.   : 1.4000   Max.   :94.77   Max.   :-26.90   Max.   :5.045  \n",
              "  nr.employed   termDeposit       \n",
              " Min.   :4964   Length:10098      \n",
              " 1st Qu.:5099   Class :character  \n",
              " Median :5191   Mode  :character  \n",
              " Mean   :5142                     \n",
              " 3rd Qu.:5228                     \n",
              " Max.   :5228                     "
            ]
          },
          "metadata": {
            "tags": []
          }
        }
      ]
    },
    {
      "cell_type": "code",
      "metadata": {
        "colab": {
          "base_uri": "https://localhost:8080/",
          "height": 1000
        },
        "id": "mN7FrTEKfJdH",
        "outputId": "7311b44e-4eb5-460f-b1f0-e60c343e2301"
      },
      "source": [
        "# Char형인것을 Factor형으로 변환 \n",
        "# ID, job, marital, education, default, housing, loan, contact, \n",
        "# month, day_of_week, poutcome, termDeposit\n",
        "# ID열 제외 -> 컬럼갯수 안맞아서 \n",
        "\n",
        "DF_train_f <- DF_train %>% select(-ID) %>%mutate_at(c(\"job\",\"marital\", \"education\", \"default\",\"housing\" ,\"loan\",\n",
        "            \"contact\",\"month\",\"day_of_week\",\"poutcome\",\"termDeposit\"), factor)\n",
        "summary(DF_train_f)\n",
        "str(DF_train_f)"
      ],
      "execution_count": 7,
      "outputs": [
        {
          "output_type": "display_data",
          "data": {
            "text/plain": [
              "      age                job           marital                   education   \n",
              " Min.   :17.0   admin.     :2676   divorced:1076   university.degree  :3184  \n",
              " 1st Qu.:32.0   blue-collar:1973   married :5910   high.school        :2271  \n",
              " Median :38.0   technician :1612   single  :3090   basic.9y           :1373  \n",
              " Mean   :40.3   services   : 863   unknown :  22   professional.course:1315  \n",
              " 3rd Qu.:48.0   management : 723                   basic.4y           : 978  \n",
              " Max.   :98.0   retired    : 618                   basic.6y           : 509  \n",
              "                (Other)    :1633                   (Other)            : 468  \n",
              "    default        housing          loan           contact         month     \n",
              " no     :8391   no     :4520   no     :8326   cellular :7083   may    :2899  \n",
              " unknown:1706   unknown: 252   unknown: 252   telephone:3015   jul    :1601  \n",
              " yes    :   1   yes    :5326   yes    :1520                    aug    :1487  \n",
              "                                                               jun    :1290  \n",
              "                                                               nov    : 978  \n",
              "                                                               apr    : 833  \n",
              "                                                               (Other):1010  \n",
              " day_of_week    duration         campaign          pdays          previous     \n",
              " fri:1919    Min.   :   3.0   Min.   : 1.000   Min.   :  0.0   Min.   :0.0000  \n",
              " mon:2026    1st Qu.: 130.0   1st Qu.: 1.000   1st Qu.:999.0   1st Qu.:0.0000  \n",
              " thu:2115    Median : 243.0   Median : 2.000   Median :999.0   Median :0.0000  \n",
              " tue:1978    Mean   : 356.1   Mean   : 2.397   Mean   :906.1   Mean   :0.2802  \n",
              " wed:2060    3rd Qu.: 472.8   3rd Qu.: 3.000   3rd Qu.:999.0   3rd Qu.:0.0000  \n",
              "             Max.   :4199.0   Max.   :42.000   Max.   :999.0   Max.   :6.0000  \n",
              "                                                                               \n",
              "        poutcome     emp.var.rate     cons.price.idx  cons.conf.idx   \n",
              " failure    :1130   Min.   :-3.4000   Min.   :92.20   Min.   :-50.80  \n",
              " nonexistent:8104   1st Qu.:-1.8000   1st Qu.:92.96   1st Qu.:-42.70  \n",
              " success    : 864   Median :-0.1000   Median :93.44   Median :-41.80  \n",
              "                    Mean   :-0.3717   Mean   :93.50   Mean   :-40.27  \n",
              "                    3rd Qu.: 1.4000   3rd Qu.:93.99   3rd Qu.:-36.40  \n",
              "                    Max.   : 1.4000   Max.   :94.77   Max.   :-26.90  \n",
              "                                                                      \n",
              "   euribor3m      nr.employed   termDeposit\n",
              " Min.   :0.634   Min.   :4964   no :5922   \n",
              " 1st Qu.:1.260   1st Qu.:5099   yes:4176   \n",
              " Median :4.120   Median :5191              \n",
              " Mean   :3.104   Mean   :5142              \n",
              " 3rd Qu.:4.960   3rd Qu.:5228              \n",
              " Max.   :5.045   Max.   :5228              \n",
              "                                           "
            ]
          },
          "metadata": {
            "tags": []
          }
        },
        {
          "output_type": "stream",
          "text": [
            "tibble [10,098 × 21] (S3: tbl_df/tbl/data.frame)\n",
            " $ age           : num [1:10098] 41 57 34 54 49 73 40 34 56 41 ...\n",
            " $ job           : Factor w/ 12 levels \"admin.\",\"blue-collar\",..: 10 6 10 5 2 6 10 3 3 5 ...\n",
            " $ marital       : Factor w/ 4 levels \"divorced\",\"married\",..: 3 3 2 2 2 2 2 2 2 2 ...\n",
            " $ education     : Factor w/ 8 levels \"basic.4y\",\"basic.6y\",..: 7 4 6 7 1 8 6 7 7 7 ...\n",
            " $ default       : Factor w/ 3 levels \"no\",\"unknown\",..: 1 1 2 1 2 1 2 2 1 1 ...\n",
            " $ housing       : Factor w/ 3 levels \"no\",\"unknown\",..: 1 1 3 1 1 3 1 3 3 3 ...\n",
            " $ loan          : Factor w/ 3 levels \"no\",\"unknown\",..: 1 1 1 1 1 1 1 1 1 1 ...\n",
            " $ contact       : Factor w/ 2 levels \"cellular\",\"telephone\": 1 2 1 1 2 2 2 1 1 2 ...\n",
            " $ month         : Factor w/ 10 levels \"apr\",\"aug\",\"dec\",..: 8 5 4 8 7 6 5 8 1 7 ...\n",
            " $ day_of_week   : Factor w/ 5 levels \"fri\",\"mon\",\"thu\",..: 1 1 5 2 2 2 2 2 3 5 ...\n",
            " $ duration      : num [1:10098] 903 74 75 59 252 ...\n",
            " $ campaign      : num [1:10098] 3 3 5 1 1 1 1 2 1 7 ...\n",
            " $ pdays         : num [1:10098] 999 999 999 999 999 999 999 999 999 999 ...\n",
            " $ previous      : num [1:10098] 1 0 0 0 0 0 0 0 0 0 ...\n",
            " $ poutcome      : Factor w/ 3 levels \"failure\",\"nonexistent\",..: 1 2 2 2 2 2 2 2 2 2 ...\n",
            " $ emp.var.rate  : num [1:10098] -0.1 1.4 1.4 -0.1 1.1 -1.8 1.4 -0.1 -1.8 1.1 ...\n",
            " $ cons.price.idx: num [1:10098] 93.2 94.5 93.9 93.2 94 ...\n",
            " $ cons.conf.idx : num [1:10098] -42 -41.8 -42.7 -42 -36.4 -34.8 -41.8 -42 -47.1 -36.4 ...\n",
            " $ euribor3m     : num [1:10098] 4.02 4.96 4.96 4.19 4.86 ...\n",
            " $ nr.employed   : num [1:10098] 5196 5228 5228 5196 5191 ...\n",
            " $ termDeposit   : Factor w/ 2 levels \"no\",\"yes\": 1 1 1 1 1 2 1 2 2 1 ...\n"
          ],
          "name": "stdout"
        }
      ]
    },
    {
      "cell_type": "code",
      "metadata": {
        "colab": {
          "base_uri": "https://localhost:8080/",
          "height": 773
        },
        "id": "cfdnFflztjaA",
        "outputId": "6f89289d-7afc-4fe5-a3aa-dd9b9d547339"
      },
      "source": [
        "summary(DF_test)"
      ],
      "execution_count": 8,
      "outputs": [
        {
          "output_type": "display_data",
          "data": {
            "text/plain": [
              "      ID                 age            job              marital         \n",
              " Length:1121        Min.   :18.00   Length:1121        Length:1121       \n",
              " Class :character   1st Qu.:32.00   Class :character   Class :character  \n",
              " Mode  :character   Median :38.00   Mode  :character   Mode  :character  \n",
              "                    Mean   :40.48                                        \n",
              "                    3rd Qu.:48.00                                        \n",
              "                    Max.   :98.00                                        \n",
              "  education           default            housing              loan          \n",
              " Length:1121        Length:1121        Length:1121        Length:1121       \n",
              " Class :character   Class :character   Class :character   Class :character  \n",
              " Mode  :character   Mode  :character   Mode  :character   Mode  :character  \n",
              "                                                                            \n",
              "                                                                            \n",
              "                                                                            \n",
              "   contact             month           day_of_week           duration     \n",
              " Length:1121        Length:1121        Length:1121        Min.   :   4.0  \n",
              " Class :character   Class :character   Class :character   1st Qu.: 133.0  \n",
              " Mode  :character   Mode  :character   Mode  :character   Median : 245.0  \n",
              "                                                          Mean   : 382.1  \n",
              "                                                          3rd Qu.: 484.0  \n",
              "                                                          Max.   :2926.0  \n",
              "    campaign          pdays          previous       poutcome        \n",
              " Min.   : 1.000   Min.   :  0.0   Min.   :0.000   Length:1121       \n",
              " 1st Qu.: 1.000   1st Qu.:999.0   1st Qu.:0.000   Class :character  \n",
              " Median : 2.000   Median :999.0   Median :0.000   Mode  :character  \n",
              " Mean   : 2.324   Mean   :893.6   Mean   :0.289                     \n",
              " 3rd Qu.: 3.000   3rd Qu.:999.0   3rd Qu.:0.000                     \n",
              " Max.   :24.000   Max.   :999.0   Max.   :7.000                     \n",
              "  emp.var.rate     cons.price.idx  cons.conf.idx      euribor3m    \n",
              " Min.   :-3.4000   Min.   :92.20   Min.   :-50.80   Min.   :0.634  \n",
              " 1st Qu.:-1.8000   1st Qu.:92.89   1st Qu.:-42.70   1st Qu.:1.250  \n",
              " Median :-0.1000   Median :93.44   Median :-41.80   Median :4.076  \n",
              " Mean   :-0.4286   Mean   :93.49   Mean   :-40.15   Mean   :3.049  \n",
              " 3rd Qu.: 1.4000   3rd Qu.:93.99   3rd Qu.:-36.40   3rd Qu.:4.959  \n",
              " Max.   : 1.4000   Max.   :94.77   Max.   :-26.90   Max.   :5.000  \n",
              "  nr.employed  \n",
              " Min.   :4964  \n",
              " 1st Qu.:5076  \n",
              " Median :5191  \n",
              " Mean   :5140  \n",
              " 3rd Qu.:5228  \n",
              " Max.   :5228  "
            ]
          },
          "metadata": {
            "tags": []
          }
        }
      ]
    },
    {
      "cell_type": "code",
      "metadata": {
        "colab": {
          "base_uri": "https://localhost:8080/",
          "height": 1000
        },
        "id": "dhsovO14t1yL",
        "outputId": "5c22163b-3410-49c2-a124-ab26f244b3da"
      },
      "source": [
        "DF_test_f <- DF_test %>% select(-ID) %>%mutate_at(c(\"job\",\"marital\", \"education\", \"default\",\"housing\" ,\"loan\",\n",
        "            \"contact\",\"month\",\"day_of_week\",\"poutcome\"), factor)\n",
        "summary(DF_test_f)\n",
        "str(DF_test_f)"
      ],
      "execution_count": 9,
      "outputs": [
        {
          "output_type": "display_data",
          "data": {
            "text/plain": [
              "      age                 job          marital                  education  \n",
              " Min.   :18.00   admin.     :324   divorced:136   basic.4y           :117  \n",
              " 1st Qu.:32.00   blue-collar:239   married :657   basic.6y           : 54  \n",
              " Median :38.00   technician :186   single  :328   basic.9y           :119  \n",
              " Mean   :40.48   services   : 81                  high.school        :277  \n",
              " 3rd Qu.:48.00   management : 74                  professional.course:134  \n",
              " Max.   :98.00   retired    : 60                  university.degree  :369  \n",
              "                 (Other)    :157                  unknown            : 51  \n",
              "    default       housing         loan          contact        month    \n",
              " no     :945   no     :497   no     :949   cellular :786   may    :329  \n",
              " unknown:176   unknown: 18   unknown: 18   telephone:335   jul    :172  \n",
              "               yes    :606   yes    :154                   aug    :164  \n",
              "                                                           jun    :148  \n",
              "                                                           nov    :108  \n",
              "                                                           apr    : 76  \n",
              "                                                           (Other):124  \n",
              " day_of_week    duration         campaign          pdays          previous    \n",
              " fri:212     Min.   :   4.0   Min.   : 1.000   Min.   :  0.0   Min.   :0.000  \n",
              " mon:224     1st Qu.: 133.0   1st Qu.: 1.000   1st Qu.:999.0   1st Qu.:0.000  \n",
              " thu:244     Median : 245.0   Median : 2.000   Median :999.0   Median :0.000  \n",
              " tue:218     Mean   : 382.1   Mean   : 2.324   Mean   :893.6   Mean   :0.289  \n",
              " wed:223     3rd Qu.: 484.0   3rd Qu.: 3.000   3rd Qu.:999.0   3rd Qu.:0.000  \n",
              "             Max.   :2926.0   Max.   :24.000   Max.   :999.0   Max.   :7.000  \n",
              "                                                                              \n",
              "        poutcome    emp.var.rate     cons.price.idx  cons.conf.idx   \n",
              " failure    :117   Min.   :-3.4000   Min.   :92.20   Min.   :-50.80  \n",
              " nonexistent:892   1st Qu.:-1.8000   1st Qu.:92.89   1st Qu.:-42.70  \n",
              " success    :112   Median :-0.1000   Median :93.44   Median :-41.80  \n",
              "                   Mean   :-0.4286   Mean   :93.49   Mean   :-40.15  \n",
              "                   3rd Qu.: 1.4000   3rd Qu.:93.99   3rd Qu.:-36.40  \n",
              "                   Max.   : 1.4000   Max.   :94.77   Max.   :-26.90  \n",
              "                                                                     \n",
              "   euribor3m      nr.employed  \n",
              " Min.   :0.634   Min.   :4964  \n",
              " 1st Qu.:1.250   1st Qu.:5076  \n",
              " Median :4.076   Median :5191  \n",
              " Mean   :3.049   Mean   :5140  \n",
              " 3rd Qu.:4.959   3rd Qu.:5228  \n",
              " Max.   :5.000   Max.   :5228  \n",
              "                               "
            ]
          },
          "metadata": {
            "tags": []
          }
        },
        {
          "output_type": "stream",
          "text": [
            "tibble [1,121 × 20] (S3: tbl_df/tbl/data.frame)\n",
            " $ age           : num [1:1121] 35 36 38 33 36 50 29 35 28 45 ...\n",
            " $ job           : Factor w/ 12 levels \"admin.\",\"blue-collar\",..: 4 2 10 1 1 10 2 1 10 12 ...\n",
            " $ marital       : Factor w/ 3 levels \"divorced\",\"married\",..: 2 2 1 2 2 2 2 2 3 2 ...\n",
            " $ education     : Factor w/ 7 levels \"basic.4y\",\"basic.6y\",..: 1 7 4 4 2 3 3 4 5 7 ...\n",
            " $ default       : Factor w/ 2 levels \"no\",\"unknown\": 1 1 1 1 1 1 1 2 1 1 ...\n",
            " $ housing       : Factor w/ 3 levels \"no\",\"unknown\",..: 1 1 1 1 3 1 1 3 3 1 ...\n",
            " $ loan          : Factor w/ 3 levels \"no\",\"unknown\",..: 1 1 1 1 3 1 1 3 1 1 ...\n",
            " $ contact       : Factor w/ 2 levels \"cellular\",\"telephone\": 2 1 2 1 1 1 1 2 1 2 ...\n",
            " $ month         : Factor w/ 10 levels \"apr\",\"aug\",\"dec\",..: 7 1 1 2 8 8 7 7 2 5 ...\n",
            " $ day_of_week   : Factor w/ 5 levels \"fri\",\"mon\",\"thu\",..: 3 1 1 1 1 1 5 4 3 1 ...\n",
            " $ duration      : num [1:1121] 646 231 320 207 183 ...\n",
            " $ campaign      : num [1:1121] 3 2 3 3 1 1 1 1 3 4 ...\n",
            " $ pdays         : num [1:1121] 999 999 6 15 999 999 999 999 999 999 ...\n",
            " $ previous      : num [1:1121] 0 0 1 1 1 0 0 0 0 0 ...\n",
            " $ poutcome      : Factor w/ 3 levels \"failure\",\"nonexistent\",..: 2 2 3 3 1 2 2 2 2 2 ...\n",
            " $ emp.var.rate  : num [1:1121] 1.1 -1.8 -1.8 -2.9 -0.1 -0.1 -1.8 1.1 -2.9 1.4 ...\n",
            " $ cons.price.idx: num [1:1121] 94 93.1 93.1 92.2 93.2 ...\n",
            " $ cons.conf.idx : num [1:1121] -36.4 -47.1 -47.1 -31.4 -42 -42 -46.2 -36.4 -31.4 -41.8 ...\n",
            " $ euribor3m     : num [1:1121] 4.86 1.405 1.405 0.825 4.021 ...\n",
            " $ nr.employed   : num [1:1121] 5191 5099 5099 5076 5196 ...\n"
          ],
          "name": "stdout"
        }
      ]
    },
    {
      "cell_type": "code",
      "metadata": {
        "id": "jE6gj_IljcID"
      },
      "source": [
        "# # 상관계수 보기 위해서\n",
        "# install.packages(\"GGally\")\n",
        "# library(GGally)"
      ],
      "execution_count": 10,
      "outputs": []
    },
    {
      "cell_type": "markdown",
      "metadata": {
        "id": "vAnARRISOu9S"
      },
      "source": [
        "## 1. **Logistic Regression**\n"
      ]
    },
    {
      "cell_type": "code",
      "metadata": {
        "id": "z2NPrnYg_jzO"
      },
      "source": [
        "# ROC 커브를 이용해서 모델의 효율성을 평가한다. -> Cut_off_value를 잘 설정하기 위해서 \n",
        "\n",
        "\n",
        "install.packages(\"pROC\")\n",
        "library(\"pROC\")"
      ],
      "execution_count": null,
      "outputs": []
    },
    {
      "cell_type": "code",
      "metadata": {
        "id": "OiA9wztQPMWL"
      },
      "source": [
        "logistic_train = DF_train_f\n",
        "logistic_test = DF_test_f\n"
      ],
      "execution_count": 212,
      "outputs": []
    },
    {
      "cell_type": "markdown",
      "metadata": {
        "id": "7_GOEFGE7BAn"
      },
      "source": [
        " 상관계수보고 관련성 판단\n",
        "\n",
        " termDeposit과 연관이 낮은것(p_value와 별표보고 보고 판단)들 제거한것과 하지 않은것으로 비교해서 진행\n",
        "\n",
        " 상관계수가 '-' 나오면 연관이 적은것\n",
        "\n",
        " 상관관계 주의할점 : 특징에 대해 상관계수가 높게 나왔을 때 그 이유가 제 3의 특징 때문일 수 있다. -> 잠재변수 \n",
        "\n",
        " 편상관계수 이용\n"
      ]
    },
    {
      "cell_type": "code",
      "metadata": {
        "colab": {
          "base_uri": "https://localhost:8080/",
          "height": 1000
        },
        "id": "g8o1p-vaPMT_",
        "outputId": "ab198d88-5692-49d3-c7a2-5ffab957c324"
      },
      "source": [
        "# 제거할 것들 \n",
        "# day_of_weekmon, housing, nr.employed,marital,education,age,job\n",
        "\n",
        "logistic = glm(termDeposit~., logistic_train, family = \"binomial\")\n",
        "summary(logistic)\n"
      ],
      "execution_count": 213,
      "outputs": [
        {
          "output_type": "display_data",
          "data": {
            "text/plain": [
              "\n",
              "Call:\n",
              "glm(formula = termDeposit ~ ., family = \"binomial\", data = logistic_train)\n",
              "\n",
              "Deviance Residuals: \n",
              "    Min       1Q   Median       3Q      Max  \n",
              "-6.2649  -0.4022  -0.2102   0.4765   3.1189  \n",
              "\n",
              "Coefficients: (1 not defined because of singularities)\n",
              "                               Estimate Std. Error z value Pr(>|z|)    \n",
              "(Intercept)                  -2.464e+02  5.574e+01  -4.421 9.82e-06 ***\n",
              "age                          -4.107e-04  3.768e-03  -0.109 0.913191    \n",
              "jobblue-collar               -1.833e-01  1.195e-01  -1.534 0.124999    \n",
              "jobentrepreneur              -2.348e-01  1.887e-01  -1.244 0.213428    \n",
              "jobhousemaid                  3.824e-02  2.288e-01   0.167 0.867261    \n",
              "jobmanagement                -4.822e-02  1.297e-01  -0.372 0.710127    \n",
              "jobretired                    4.269e-01  1.699e-01   2.513 0.011964 *  \n",
              "jobself-employed             -2.404e-01  1.785e-01  -1.347 0.178048    \n",
              "jobservices                  -1.706e-01  1.301e-01  -1.311 0.189817    \n",
              "jobstudent                    1.521e-01  1.769e-01   0.860 0.389806    \n",
              "jobtechnician                -4.221e-02  1.094e-01  -0.386 0.699722    \n",
              "jobunemployed                 1.135e-01  1.962e-01   0.579 0.562839    \n",
              "jobunknown                   -1.856e-01  3.415e-01  -0.543 0.586931    \n",
              "maritalmarried                8.298e-02  1.046e-01   0.793 0.427696    \n",
              "maritalsingle                 2.079e-01  1.192e-01   1.744 0.081112 .  \n",
              "maritalunknown                4.947e-01  6.413e-01   0.771 0.440500    \n",
              "educationbasic.6y             8.755e-03  1.829e-01   0.048 0.961831    \n",
              "educationbasic.9y            -5.552e-02  1.454e-01  -0.382 0.702476    \n",
              "educationhigh.school         -6.440e-03  1.428e-01  -0.045 0.964020    \n",
              "educationilliterate           1.689e+00  1.133e+00   1.491 0.135922    \n",
              "educationprofessional.course  6.192e-02  1.566e-01   0.395 0.692575    \n",
              "educationuniversity.degree    2.559e-01  1.443e-01   1.773 0.076149 .  \n",
              "educationunknown              1.043e-01  1.895e-01   0.551 0.581974    \n",
              "defaultunknown               -4.164e-01  9.982e-02  -4.172 3.02e-05 ***\n",
              "defaultyes                   -8.078e+00  1.970e+02  -0.041 0.967285    \n",
              "housingunknown               -1.715e-01  2.082e-01  -0.824 0.409936    \n",
              "housingyes                    4.694e-02  6.347e-02   0.740 0.459577    \n",
              "loanunknown                          NA         NA      NA       NA    \n",
              "loanyes                      -4.019e-02  8.786e-02  -0.457 0.647357    \n",
              "contacttelephone             -5.014e-01  1.172e-01  -4.279 1.88e-05 ***\n",
              "monthaug                      1.130e+00  1.963e-01   5.755 8.66e-09 ***\n",
              "monthdec                     -1.966e-01  3.385e-01  -0.581 0.561380    \n",
              "monthjul                      1.790e-01  1.471e-01   1.217 0.223768    \n",
              "monthjun                     -8.251e-01  1.875e-01  -4.400 1.08e-05 ***\n",
              "monthmar                      2.188e+00  2.390e-01   9.152  < 2e-16 ***\n",
              "monthmay                     -7.351e-01  1.232e-01  -5.967 2.41e-09 ***\n",
              "monthnov                     -6.130e-01  1.828e-01  -3.354 0.000798 ***\n",
              "monthoct                      1.490e-01  2.324e-01   0.641 0.521442    \n",
              "monthsep                      5.458e-01  2.797e-01   1.951 0.051005 .  \n",
              "day_of_weekmon               -5.467e-02  9.991e-02  -0.547 0.584220    \n",
              "day_of_weekthu               -7.696e-02  9.913e-02  -0.776 0.437547    \n",
              "day_of_weektue                1.259e-01  1.014e-01   1.242 0.214268    \n",
              "day_of_weekwed                1.455e-01  1.000e-01   1.455 0.145774    \n",
              "duration                      6.460e-03  1.505e-04  42.910  < 2e-16 ***\n",
              "campaign                     -3.488e-02  1.690e-02  -2.064 0.039015 *  \n",
              "pdays                        -1.028e-03  3.837e-04  -2.680 0.007357 ** \n",
              "previous                     -2.478e-01  1.053e-01  -2.353 0.018640 *  \n",
              "poutcomenonexistent           9.890e-02  1.533e-01   0.645 0.518728    \n",
              "poutcomesuccess               1.026e+00  3.763e-01   2.726 0.006408 ** \n",
              "emp.var.rate                 -2.263e+00  2.095e-01 -10.801  < 2e-16 ***\n",
              "cons.price.idx                2.373e+00  3.702e-01   6.410 1.45e-10 ***\n",
              "cons.conf.idx                -5.655e-03  1.262e-02  -0.448 0.653998    \n",
              "euribor3m                     7.091e-01  2.020e-01   3.510 0.000448 ***\n",
              "nr.employed                   3.787e-03  4.567e-03   0.829 0.406985    \n",
              "---\n",
              "Signif. codes:  0 ‘***’ 0.001 ‘**’ 0.01 ‘*’ 0.05 ‘.’ 0.1 ‘ ’ 1\n",
              "\n",
              "(Dispersion parameter for binomial family taken to be 1)\n",
              "\n",
              "    Null deviance: 13695.4  on 10097  degrees of freedom\n",
              "Residual deviance:  6760.2  on 10045  degrees of freedom\n",
              "AIC: 6866.2\n",
              "\n",
              "Number of Fisher Scoring iterations: 10\n"
            ]
          },
          "metadata": {
            "tags": []
          }
        }
      ]
    },
    {
      "cell_type": "code",
      "metadata": {
        "colab": {
          "base_uri": "https://localhost:8080/",
          "height": 899
        },
        "id": "gxEqdelrWvUb",
        "outputId": "81f34015-e5cd-40a3-faae-073110a5da27"
      },
      "source": [
        "# 약한 특성들 제거 후 poutcome, previous, pdays도 삭제\n",
        "\n",
        "logistic_train_remove = logistic_train %>% select(-day_of_week,-housing,-loan,-nr.employed,-marital,-cons.conf.idx,-age,-job,)\n",
        "# logistic_train_remove = logistic_train %>% select(-day_of_week,-housing,-nr.employed,-education,-marital,-age,-job,-month)\n",
        "logistic_remove = glm(termDeposit~., logistic_train_remove, family = \"binomial\")\n",
        "summary(logistic_remove)\n"
      ],
      "execution_count": 214,
      "outputs": [
        {
          "output_type": "display_data",
          "data": {
            "text/plain": [
              "\n",
              "Call:\n",
              "glm(formula = termDeposit ~ ., family = \"binomial\", data = logistic_train_remove)\n",
              "\n",
              "Deviance Residuals: \n",
              "    Min       1Q   Median       3Q      Max  \n",
              "-6.2250  -0.4030  -0.2170   0.4788   3.0241  \n",
              "\n",
              "Coefficients:\n",
              "                               Estimate Std. Error z value Pr(>|z|)    \n",
              "(Intercept)                  -2.009e+02  1.626e+01 -12.352  < 2e-16 ***\n",
              "educationbasic.6y            -1.011e-01  1.762e-01  -0.574  0.56599    \n",
              "educationbasic.9y            -1.493e-01  1.359e-01  -1.099  0.27183    \n",
              "educationhigh.school         -4.022e-02  1.232e-01  -0.326  0.74410    \n",
              "educationilliterate           1.666e+00  1.106e+00   1.506  0.13203    \n",
              "educationprofessional.course  2.007e-02  1.358e-01   0.148  0.88253    \n",
              "educationuniversity.degree    2.238e-01  1.181e-01   1.895  0.05806 .  \n",
              "educationunknown              8.977e-02  1.782e-01   0.504  0.61440    \n",
              "defaultunknown               -4.504e-01  9.801e-02  -4.595 4.33e-06 ***\n",
              "defaultyes                   -8.093e+00  1.970e+02  -0.041  0.96722    \n",
              "contacttelephone             -5.177e-01  1.100e-01  -4.706 2.53e-06 ***\n",
              "monthaug                      9.992e-01  1.398e-01   7.148 8.79e-13 ***\n",
              "monthdec                     -3.435e-01  3.140e-01  -1.094  0.27406    \n",
              "monthjul                      1.633e-01  1.406e-01   1.161  0.24545    \n",
              "monthjun                     -7.414e-01  1.576e-01  -4.705 2.54e-06 ***\n",
              "monthmar                      2.126e+00  2.026e-01  10.496  < 2e-16 ***\n",
              "monthmay                     -7.959e-01  1.106e-01  -7.195 6.26e-13 ***\n",
              "monthnov                     -6.999e-01  1.599e-01  -4.375 1.21e-05 ***\n",
              "monthoct                      3.317e-02  1.977e-01   0.168  0.86675    \n",
              "monthsep                      3.151e-01  2.026e-01   1.555  0.11992    \n",
              "duration                      6.404e-03  1.487e-04  43.050  < 2e-16 ***\n",
              "campaign                     -3.637e-02  1.677e-02  -2.168  0.03012 *  \n",
              "pdays                        -9.736e-04  3.819e-04  -2.550  0.01078 *  \n",
              "previous                     -2.354e-01  1.052e-01  -2.238  0.02524 *  \n",
              "poutcomenonexistent           1.286e-01  1.528e-01   0.841  0.40022    \n",
              "poutcomesuccess               1.081e+00  3.747e-01   2.885  0.00391 ** \n",
              "emp.var.rate                 -2.118e+00  1.610e-01 -13.154  < 2e-16 ***\n",
              "cons.price.idx                2.097e+00  1.706e-01  12.290  < 2e-16 ***\n",
              "euribor3m                     7.824e-01  1.196e-01   6.541 6.10e-11 ***\n",
              "---\n",
              "Signif. codes:  0 ‘***’ 0.001 ‘**’ 0.01 ‘*’ 0.05 ‘.’ 0.1 ‘ ’ 1\n",
              "\n",
              "(Dispersion parameter for binomial family taken to be 1)\n",
              "\n",
              "    Null deviance: 13695.4  on 10097  degrees of freedom\n",
              "Residual deviance:  6800.1  on 10069  degrees of freedom\n",
              "AIC: 6858.1\n",
              "\n",
              "Number of Fisher Scoring iterations: 10\n"
            ]
          },
          "metadata": {
            "tags": []
          }
        }
      ]
    },
    {
      "cell_type": "code",
      "metadata": {
        "colab": {
          "base_uri": "https://localhost:8080/"
        },
        "id": "_vdhfFF5yDS-",
        "outputId": "7e6bee32-412c-4d30-9b0b-6662178c92bc"
      },
      "source": [
        "# logistic_test 에는 termDeposit 없기때문에 logistic_train을 이용해 모델을 예측해본다.\n",
        "# 확률값으로 보기 위해서는 로지스틱회귀인 type을 response로 해줘야함 -> 안쓰면 그냥 숫자로 나옴.\n",
        "# predict_value = 예측한 값 -> 몇 이상이 yes고 몇 이하가 no 인지 판단해줘야함 \n",
        "\n",
        "predict_value <- predict(logistic, logistic_train, type = \"response\") %>% tibble(predict_value = .)\n",
        "predict_value %>% show()\n",
        "\n",
        "##############################################################################\n",
        "\n",
        "# # 진짜값과 예측값 비교하기 위해서\n",
        "termDeposit_correct <- logistic_train %>% select(termDeposit)\n",
        "termDeposit_correct %>% show()"
      ],
      "execution_count": 215,
      "outputs": [
        {
          "output_type": "stream",
          "text": [
            "Warning message in predict.lm(object, newdata, se.fit, scale = 1, type = if (type == :\n",
            "“prediction from a rank-deficient fit may be misleading”\n"
          ],
          "name": "stderr"
        },
        {
          "output_type": "stream",
          "text": [
            "\u001b[90m# A tibble: 10,098 x 1\u001b[39m\n",
            "   predict_value\n",
            "           \u001b[3m\u001b[90m<dbl>\u001b[39m\u001b[23m\n",
            "\u001b[90m 1\u001b[39m        0.882 \n",
            "\u001b[90m 2\u001b[39m        0.042\u001b[4m6\u001b[24m\n",
            "\u001b[90m 3\u001b[39m        0.024\u001b[4m1\u001b[24m\n",
            "\u001b[90m 4\u001b[39m        0.043\u001b[4m4\u001b[24m\n",
            "\u001b[90m 5\u001b[39m        0.024\u001b[4m5\u001b[24m\n",
            "\u001b[90m 6\u001b[39m        0.988 \n",
            "\u001b[90m 7\u001b[39m        0.011\u001b[4m6\u001b[24m\n",
            "\u001b[90m 8\u001b[39m        1.00  \n",
            "\u001b[90m 9\u001b[39m        0.476 \n",
            "\u001b[90m10\u001b[39m        0.041\u001b[4m6\u001b[24m\n",
            "\u001b[90m# … with 10,088 more rows\u001b[39m\n",
            "\u001b[90m# A tibble: 10,098 x 1\u001b[39m\n",
            "   termDeposit\n",
            "   \u001b[3m\u001b[90m<fct>\u001b[39m\u001b[23m      \n",
            "\u001b[90m 1\u001b[39m no         \n",
            "\u001b[90m 2\u001b[39m no         \n",
            "\u001b[90m 3\u001b[39m no         \n",
            "\u001b[90m 4\u001b[39m no         \n",
            "\u001b[90m 5\u001b[39m no         \n",
            "\u001b[90m 6\u001b[39m yes        \n",
            "\u001b[90m 7\u001b[39m no         \n",
            "\u001b[90m 8\u001b[39m yes        \n",
            "\u001b[90m 9\u001b[39m yes        \n",
            "\u001b[90m10\u001b[39m no         \n",
            "\u001b[90m# … with 10,088 more rows\u001b[39m\n"
          ],
          "name": "stdout"
        }
      ]
    },
    {
      "cell_type": "code",
      "metadata": {
        "colab": {
          "base_uri": "https://localhost:8080/"
        },
        "id": "l3QxnrFDXSpv",
        "outputId": "d467872a-4edc-4f3c-8717-9138e4626911"
      },
      "source": [
        "predict_value2 <- predict(logistic_remove, logistic_train_remove, type = \"response\") %>% tibble(predict_value = .)\n",
        "predict_value2 %>% show()\n",
        "\n",
        "##############################################################################\n",
        "\n",
        "termDeposit_correct2 <- logistic_train_remove %>% select(termDeposit)\n",
        "termDeposit_correct2 %>% show()"
      ],
      "execution_count": 216,
      "outputs": [
        {
          "output_type": "stream",
          "text": [
            "\u001b[90m# A tibble: 10,098 x 1\u001b[39m\n",
            "   predict_value\n",
            "           \u001b[3m\u001b[90m<dbl>\u001b[39m\u001b[23m\n",
            "\u001b[90m 1\u001b[39m        0.868 \n",
            "\u001b[90m 2\u001b[39m        0.024\u001b[4m7\u001b[24m\n",
            "\u001b[90m 3\u001b[39m        0.020\u001b[4m8\u001b[24m\n",
            "\u001b[90m 4\u001b[39m        0.049\u001b[4m7\u001b[24m\n",
            "\u001b[90m 5\u001b[39m        0.033\u001b[4m6\u001b[24m\n",
            "\u001b[90m 6\u001b[39m        0.986 \n",
            "\u001b[90m 7\u001b[39m        0.012\u001b[4m1\u001b[24m\n",
            "\u001b[90m 8\u001b[39m        1.00  \n",
            "\u001b[90m 9\u001b[39m        0.550 \n",
            "\u001b[90m10\u001b[39m        0.039\u001b[4m0\u001b[24m\n",
            "\u001b[90m# … with 10,088 more rows\u001b[39m\n",
            "\u001b[90m# A tibble: 10,098 x 1\u001b[39m\n",
            "   termDeposit\n",
            "   \u001b[3m\u001b[90m<fct>\u001b[39m\u001b[23m      \n",
            "\u001b[90m 1\u001b[39m no         \n",
            "\u001b[90m 2\u001b[39m no         \n",
            "\u001b[90m 3\u001b[39m no         \n",
            "\u001b[90m 4\u001b[39m no         \n",
            "\u001b[90m 5\u001b[39m no         \n",
            "\u001b[90m 6\u001b[39m yes        \n",
            "\u001b[90m 7\u001b[39m no         \n",
            "\u001b[90m 8\u001b[39m yes        \n",
            "\u001b[90m 9\u001b[39m yes        \n",
            "\u001b[90m10\u001b[39m no         \n",
            "\u001b[90m# … with 10,088 more rows\u001b[39m\n"
          ],
          "name": "stdout"
        }
      ]
    },
    {
      "cell_type": "code",
      "metadata": {
        "colab": {
          "base_uri": "https://localhost:8080/"
        },
        "id": "RyDH_OgSPMRm",
        "outputId": "5cdf4372-9ac2-456f-c2d4-31712bc31950"
      },
      "source": [
        ""
      ],
      "execution_count": 67,
      "outputs": [
        {
          "output_type": "stream",
          "text": [
            "Installing package into ‘/usr/local/lib/R/site-library’\n",
            "(as ‘lib’ is unspecified)\n",
            "\n"
          ],
          "name": "stderr"
        }
      ]
    },
    {
      "cell_type": "code",
      "metadata": {
        "colab": {
          "base_uri": "https://localhost:8080/",
          "height": 761
        },
        "id": "e84R-Ju_PKnx",
        "outputId": "8530737a-1c89-4e41-ef67-6314ac33e55c"
      },
      "source": [
        "# ROC 커브를 그린다. \n",
        "# x = 특이도,  y =  민감도\n",
        "# AUC = x축과 ROC커브 사이의 면적으로, 1에 가까울수록 효율적인 모델이다. \n",
        "# 그냥 학습한게 1에 가깝기 때문에 그냥해도 효율적인 모델이다. \n",
        "# remove 한게 더 성능 안좋아짐 \n",
        "\n",
        "roc_c <- roc(termDeposit_correct$termDeposit, predict_value$predict_value) # 실제정답과 glm 예측된 확률을 값으로 넘겨준다.\n",
        "\n",
        "roc_c_remove <- roc(termDeposit_correct2$termDeposit, predict_value2$predict_value) # 실제정답과 glm 예측된 확률을 값으로 넘겨준다.\n",
        "\n",
        "\n",
        "plot.roc(roc_c,   \n",
        "         col = \"red\",   \n",
        "         print.auc=T, \n",
        "         max.auc.polygon=T,   \n",
        "         print.thres=T, print.thres.pch=19, print.thres.col = \"red\", \n",
        "         auc.polygon=T, auc.polygon.col=\"#D1F2EB\")  \n",
        "\n",
        "plot.roc(roc_c_remove,   \n",
        "         add=T,   # 기본 그래프에 추가할 수 있도록 설정\n",
        "         col=\"blue\",  \n",
        "         print.auc=T, print.auc.adj=c(1.11,1.2),\n",
        "         print.thres=T, print.thres.pch=19, print.thres.col = \"blue\")\n",
        "         \n",
        "legend(\"bottomright\", legend=c(\"logistic\", \"logistic_remove\"), col=c(\"red\", \"blue\"), lwd = 2)  "
      ],
      "execution_count": 217,
      "outputs": [
        {
          "output_type": "stream",
          "text": [
            "Setting levels: control = no, case = yes\n",
            "\n",
            "Setting direction: controls < cases\n",
            "\n",
            "Setting levels: control = no, case = yes\n",
            "\n",
            "Setting direction: controls < cases\n",
            "\n"
          ],
          "name": "stderr"
        },
        {
          "output_type": "display_data",
          "data": {
            "image/png": "[encoded data removed]",
            "text/plain": [
              "plot without title"
            ]
          },
          "metadata": {
            "tags": [],
            "image/png": {
              "width": 600,
              "height": 600
            }
          }
        }
      ]
    },
    {
      "cell_type": "code",
      "metadata": {
        "colab": {
          "base_uri": "https://localhost:8080/",
          "height": 133
        },
        "id": "GaUcMnaExuAn",
        "outputId": "728d1d3c-7e6c-4346-aef9-6aa2117872a5"
      },
      "source": [
        "# 최적의 cut_off_value 를 출력하게 도와주는 함수\n",
        "\n",
        "pROC::coords(roc_c, \"best\", ret = \"threshold\", transpose = F)"
      ],
      "execution_count": 218,
      "outputs": [
        {
          "output_type": "display_data",
          "data": {
            "text/plain": [
              "  threshold\n",
              "1 0.2941162"
            ],
            "text/latex": "A data.frame: 1 × 1\n\\begin{tabular}{l}\n threshold\\\\\n <dbl>\\\\\n\\hline\n\t 0.2941162\\\\\n\\end{tabular}\n",
            "text/markdown": "\nA data.frame: 1 × 1\n\n| threshold &lt;dbl&gt; |\n|---|\n| 0.2941162 |\n\n",
            "text/html": [
              "<table>\n",
              "<caption>A data.frame: 1 × 1</caption>\n",
              "<thead>\n",
              "\t<tr><th scope=col>threshold</th></tr>\n",
              "\t<tr><th scope=col>&lt;dbl&gt;</th></tr>\n",
              "</thead>\n",
              "<tbody>\n",
              "\t<tr><td>0.2941162</td></tr>\n",
              "</tbody>\n",
              "</table>\n"
            ]
          },
          "metadata": {
            "tags": []
          }
        }
      ]
    },
    {
      "cell_type": "code",
      "metadata": {
        "id": "OKsfbFTYxt97"
      },
      "source": [
        "# 전처리 더 진행해서 성능 높여봄\n"
      ],
      "execution_count": 19,
      "outputs": []
    },
    {
      "cell_type": "code",
      "metadata": {
        "colab": {
          "base_uri": "https://localhost:8080/"
        },
        "id": "UZiLAKtx_zbJ",
        "outputId": "a0bf0a70-cac2-4071-81c1-d4992b3354e3"
      },
      "source": [
        "predict_value2 = predict(logistic, logistic_test, type = \"response\") %>% tibble(termDeposit = .)\n",
        "predict_cutoff2 = DF_test %>% select(ID) %>% dplyr::bind_cols(., predict_value2) %>%\n",
        " mutate(termDeposit = ifelse(termDeposit >= 0.326, \"yes\", \"no\"))# cut_off_value를 최적으로 바꿔준다. 모델 만들때마다 계속 변경됨\n",
        " predict_cutoff2 %>% show()\n"
      ],
      "execution_count": 219,
      "outputs": [
        {
          "output_type": "stream",
          "text": [
            "Warning message in predict.lm(object, newdata, se.fit, scale = 1, type = if (type == :\n",
            "“prediction from a rank-deficient fit may be misleading”\n"
          ],
          "name": "stderr"
        },
        {
          "output_type": "stream",
          "text": [
            "\u001b[90m# A tibble: 1,121 x 2\u001b[39m\n",
            "   ID    termDeposit\n",
            "   \u001b[3m\u001b[90m<chr>\u001b[39m\u001b[23m \u001b[3m\u001b[90m<chr>\u001b[39m\u001b[23m      \n",
            "\u001b[90m 1\u001b[39m T1    yes        \n",
            "\u001b[90m 2\u001b[39m T2    yes        \n",
            "\u001b[90m 3\u001b[39m T3    yes        \n",
            "\u001b[90m 4\u001b[39m T4    yes        \n",
            "\u001b[90m 5\u001b[39m T5    no         \n",
            "\u001b[90m 6\u001b[39m T6    yes        \n",
            "\u001b[90m 7\u001b[39m T7    yes        \n",
            "\u001b[90m 8\u001b[39m T8    no         \n",
            "\u001b[90m 9\u001b[39m T9    yes        \n",
            "\u001b[90m10\u001b[39m T10   no         \n",
            "\u001b[90m# … with 1,111 more rows\u001b[39m\n"
          ],
          "name": "stdout"
        }
      ]
    },
    {
      "cell_type": "code",
      "metadata": {
        "colab": {
          "base_uri": "https://localhost:8080/"
        },
        "id": "YHF-JVp6QwoL",
        "outputId": "4371417a-3740-4574-9771-437437b89062"
      },
      "source": [
        "# predict_cutoff = subset(predict_cutoff,select=-result)\n",
        "\n",
        "\n",
        "predict_value = predict(logistic, logistic_test, type = \"response\") %>% tibble(termDeposit = .)\n",
        "predict_cutoff = DF_test %>% select(ID) %>% dplyr::bind_cols(., predict_value) %>%\n",
        " mutate(termDeposit = ifelse(termDeposit >= 0.2941162, \"yes\", \"no\"))# cut_off_value를 최적으로 바꿔준다. 모델 만들때마다 계속 변경됨\n",
        " predict_cutoff %>% show()\n",
        "\n",
        "## 오차행렬 보면 yes에대한 확률이 낮기떄문에 error 좀더 높여서 조정해줌\n",
        "# predict_value = predict(logistic, logistic_test, type = \"response\") %>% tibble(termDeposit = .)\n",
        "# predict_cutoff = DF_test %>% select(ID) %>% dplyr::bind_cols(., predict_value) %>%\n",
        "#  mutate(termDeposit = ifelse(termDeposit >= 0.4, \"yes\", \"no\"))# cut_off_value를 최적으로 바꿔준다. 모델 만들때마다 계속 변경됨\n",
        "#  predict_cutoff %>% show()\n"
      ],
      "execution_count": 242,
      "outputs": [
        {
          "output_type": "stream",
          "text": [
            "Warning message in predict.lm(object, newdata, se.fit, scale = 1, type = if (type == :\n",
            "“prediction from a rank-deficient fit may be misleading”\n"
          ],
          "name": "stderr"
        },
        {
          "output_type": "stream",
          "text": [
            "\u001b[90m# A tibble: 1,121 x 2\u001b[39m\n",
            "   ID    termDeposit\n",
            "   \u001b[3m\u001b[90m<chr>\u001b[39m\u001b[23m \u001b[3m\u001b[90m<chr>\u001b[39m\u001b[23m      \n",
            "\u001b[90m 1\u001b[39m T1    yes        \n",
            "\u001b[90m 2\u001b[39m T2    yes        \n",
            "\u001b[90m 3\u001b[39m T3    yes        \n",
            "\u001b[90m 4\u001b[39m T4    yes        \n",
            "\u001b[90m 5\u001b[39m T5    no         \n",
            "\u001b[90m 6\u001b[39m T6    yes        \n",
            "\u001b[90m 7\u001b[39m T7    yes        \n",
            "\u001b[90m 8\u001b[39m T8    no         \n",
            "\u001b[90m 9\u001b[39m T9    yes        \n",
            "\u001b[90m10\u001b[39m T10   no         \n",
            "\u001b[90m# … with 1,111 more rows\u001b[39m\n"
          ],
          "name": "stdout"
        }
      ]
    },
    {
      "cell_type": "code",
      "metadata": {
        "id": "_WCPLH_lSDUJ"
      },
      "source": [
        "predict_cutoff %>% write_csv(path = \"submission1.csv\")\n",
        "predict_cutoff2 %>% write_csv(path = \"submission1-1.csv\")"
      ],
      "execution_count": 243,
      "outputs": []
    },
    {
      "cell_type": "code",
      "metadata": {
        "colab": {
          "base_uri": "https://localhost:8080/",
          "height": 905
        },
        "id": "eGq53JCDiA5t",
        "outputId": "196f2b30-2646-4477-d7c7-6fcbc11be748"
      },
      "source": [
        "# confusion matrix를 이용하면 결과를 더 쉽게 볼 수있다.\n",
        "# 실제값과 예측값을 넣어줌\n",
        "\n",
        "# predict_value를 다시 만들어줌 \n",
        "predict_value <- predict(logistic, logistic_train, type = \"response\") %>% tibble(predict_value = .)\n",
        "predict_cutoff = predict_value  %>% mutate(termDeposit_result = ifelse(predict_value >= 0.35, \"yes\", \"no\"))\n",
        "\n",
        "# summary(logistic_train$termDeposit)\n",
        "# str(DF_train$termDeposit)\n",
        "\n",
        "#두개다 facter형으로 맞춰야지만 오차행렬 사용가능 \n",
        "predict_cutoff <- predict_cutoff %>% mutate_at(\"termDeposit_result\", factor)\n",
        "predict_cutoff %>% show()\n",
        "\n",
        "# facter형으로 바꾼 실제값과 예측값을 넣어줌 \n",
        "cm <- caret::confusionMatrix(predict_cutoff$termDeposit_result, logistic_train$termDeposit)\n",
        "draw_confusion_matrix(cm)"
      ],
      "execution_count": 241,
      "outputs": [
        {
          "output_type": "stream",
          "text": [
            "Warning message in predict.lm(object, newdata, se.fit, scale = 1, type = if (type == :\n",
            "“prediction from a rank-deficient fit may be misleading”\n"
          ],
          "name": "stderr"
        },
        {
          "output_type": "stream",
          "text": [
            "\u001b[90m# A tibble: 10,098 x 2\u001b[39m\n",
            "   predict_value termDeposit_result\n",
            "           \u001b[3m\u001b[90m<dbl>\u001b[39m\u001b[23m \u001b[3m\u001b[90m<fct>\u001b[39m\u001b[23m             \n",
            "\u001b[90m 1\u001b[39m        0.882  yes               \n",
            "\u001b[90m 2\u001b[39m        0.042\u001b[4m6\u001b[24m no                \n",
            "\u001b[90m 3\u001b[39m        0.024\u001b[4m1\u001b[24m no                \n",
            "\u001b[90m 4\u001b[39m        0.043\u001b[4m4\u001b[24m no                \n",
            "\u001b[90m 5\u001b[39m        0.024\u001b[4m5\u001b[24m no                \n",
            "\u001b[90m 6\u001b[39m        0.988  yes               \n",
            "\u001b[90m 7\u001b[39m        0.011\u001b[4m6\u001b[24m no                \n",
            "\u001b[90m 8\u001b[39m        1.00   yes               \n",
            "\u001b[90m 9\u001b[39m        0.476  yes               \n",
            "\u001b[90m10\u001b[39m        0.041\u001b[4m6\u001b[24m no                \n",
            "\u001b[90m# … with 10,088 more rows\u001b[39m\n"
          ],
          "name": "stdout"
        },
        {
          "output_type": "display_data",
          "data": {
            "image/png": "[encoded data removed]",
            "text/plain": [
              "Plot with title “DETAILS”"
            ]
          },
          "metadata": {
            "tags": [],
            "image/png": {
              "width": 600,
              "height": 600
            }
          }
        }
      ]
    },
    {
      "cell_type": "markdown",
      "metadata": {
        "id": "gA8CsXbtOwfj"
      },
      "source": [
        "## 2. **Decision Trees[Bagging]**"
      ]
    },
    {
      "cell_type": "markdown",
      "metadata": {
        "id": "swWORJhYUOiU"
      },
      "source": [
        "의사결정트리 특징\n",
        "<li> 화이트박스 모델로 해석이 쉬움\n",
        "<li> 데이터 전처리 필요 없음\n",
        "<li> 랜덤 포레스트와 그래디언트 부스팅 앙상블 학습기의 기본 학습기\n",
        "<li> 데이터 분포에 제한이 없어 복잡도가 큼 -> 과대적합\n",
        "\n",
        "의사결정트리 장점과 단점\n",
        "<li> 장점 : 쉽고 직관적이며 전처리 작업의 영향도가 적다\n",
        "<li> 단점 : 규칙을 추가할수록 모델이 복잡해저 과적합에 빠질 가능성이 크다. -> 튜닝이 필요 \n",
        "\n",
        "지니불순도와 MSE 를 낮추는 방향으로 나아간다. \n",
        "\n"
      ]
    },
    {
      "cell_type": "code",
      "metadata": {
        "colab": {
          "base_uri": "https://localhost:8080/"
        },
        "id": "fO8X1m7QdA6s",
        "outputId": "1bea2368-ea8d-44d2-f8ab-d2ae00e36c19"
      },
      "source": [
        "install.packages(c(\"rpart\"))\n",
        "library(rpart)"
      ],
      "execution_count": 23,
      "outputs": [
        {
          "output_type": "stream",
          "text": [
            "Installing package into ‘/usr/local/lib/R/site-library’\n",
            "(as ‘lib’ is unspecified)\n",
            "\n"
          ],
          "name": "stderr"
        }
      ]
    },
    {
      "cell_type": "code",
      "metadata": {
        "id": "39ySD8C7PNAs"
      },
      "source": [
        "decision_train = DF_train_f\n",
        "decision_test = DF_test_f\n"
      ],
      "execution_count": 24,
      "outputs": []
    },
    {
      "cell_type": "code",
      "metadata": {
        "colab": {
          "base_uri": "https://localhost:8080/",
          "height": 737
        },
        "id": "pXgdzh-fPM-d",
        "outputId": "080fc0f0-3303-4610-d6a1-f55467b669f9"
      },
      "source": [
        "summary(decision_train)"
      ],
      "execution_count": 25,
      "outputs": [
        {
          "output_type": "display_data",
          "data": {
            "text/plain": [
              "      age                job           marital                   education   \n",
              " Min.   :17.0   admin.     :2676   divorced:1076   university.degree  :3184  \n",
              " 1st Qu.:32.0   blue-collar:1973   married :5910   high.school        :2271  \n",
              " Median :38.0   technician :1612   single  :3090   basic.9y           :1373  \n",
              " Mean   :40.3   services   : 863   unknown :  22   professional.course:1315  \n",
              " 3rd Qu.:48.0   management : 723                   basic.4y           : 978  \n",
              " Max.   :98.0   retired    : 618                   basic.6y           : 509  \n",
              "                (Other)    :1633                   (Other)            : 468  \n",
              "    default        housing          loan           contact         month     \n",
              " no     :8391   no     :4520   no     :8326   cellular :7083   may    :2899  \n",
              " unknown:1706   unknown: 252   unknown: 252   telephone:3015   jul    :1601  \n",
              " yes    :   1   yes    :5326   yes    :1520                    aug    :1487  \n",
              "                                                               jun    :1290  \n",
              "                                                               nov    : 978  \n",
              "                                                               apr    : 833  \n",
              "                                                               (Other):1010  \n",
              " day_of_week    duration         campaign          pdays          previous     \n",
              " fri:1919    Min.   :   3.0   Min.   : 1.000   Min.   :  0.0   Min.   :0.0000  \n",
              " mon:2026    1st Qu.: 130.0   1st Qu.: 1.000   1st Qu.:999.0   1st Qu.:0.0000  \n",
              " thu:2115    Median : 243.0   Median : 2.000   Median :999.0   Median :0.0000  \n",
              " tue:1978    Mean   : 356.1   Mean   : 2.397   Mean   :906.1   Mean   :0.2802  \n",
              " wed:2060    3rd Qu.: 472.8   3rd Qu.: 3.000   3rd Qu.:999.0   3rd Qu.:0.0000  \n",
              "             Max.   :4199.0   Max.   :42.000   Max.   :999.0   Max.   :6.0000  \n",
              "                                                                               \n",
              "        poutcome     emp.var.rate     cons.price.idx  cons.conf.idx   \n",
              " failure    :1130   Min.   :-3.4000   Min.   :92.20   Min.   :-50.80  \n",
              " nonexistent:8104   1st Qu.:-1.8000   1st Qu.:92.96   1st Qu.:-42.70  \n",
              " success    : 864   Median :-0.1000   Median :93.44   Median :-41.80  \n",
              "                    Mean   :-0.3717   Mean   :93.50   Mean   :-40.27  \n",
              "                    3rd Qu.: 1.4000   3rd Qu.:93.99   3rd Qu.:-36.40  \n",
              "                    Max.   : 1.4000   Max.   :94.77   Max.   :-26.90  \n",
              "                                                                      \n",
              "   euribor3m      nr.employed   termDeposit\n",
              " Min.   :0.634   Min.   :4964   no :5922   \n",
              " 1st Qu.:1.260   1st Qu.:5099   yes:4176   \n",
              " Median :4.120   Median :5191              \n",
              " Mean   :3.104   Mean   :5142              \n",
              " 3rd Qu.:4.960   3rd Qu.:5228              \n",
              " Max.   :5.045   Max.   :5228              \n",
              "                                           "
            ]
          },
          "metadata": {
            "tags": []
          }
        }
      ]
    },
    {
      "cell_type": "code",
      "metadata": {
        "id": "jwjfRJSS06iE"
      },
      "source": [
        "# 연관성 낮은 변수들 제거 후 모델 학습 \n",
        "\n",
        "decision_train_remove = decision_train %>% select(-day_of_week,-housing,-loan,-marital,-age,-job,)\n",
        "# decision_train_remove = decision_train %>% select(-day_of_week,-housing,-loan,-nr.employed,-marital,-cons.conf.idx,-age,-job,)\n",
        "\n",
        "decision_remove <- rpart(formula = termDeposit ~ ., data = decision_train_remove, method = \"class\")\n",
        "summary(decision_train_remove)"
      ],
      "execution_count": null,
      "outputs": []
    },
    {
      "cell_type": "code",
      "metadata": {
        "colab": {
          "base_uri": "https://localhost:8080/"
        },
        "id": "o-gPDi-ZPM7r",
        "outputId": "c4acc7c7-ef3d-4075-86d2-5bf94db6cf09"
      },
      "source": [
        "# CP => 복잡도 => 분개횟수가 늘어날수록(노드가 내려갈 수 록) 복잡도는 줄어든다. -> 복잡도가 미세하게 줄어들면 나눌필요 없음\n",
        "# Variable importance => 어떤것이 반응변수에 영향을 많이 끼치는지 알 수 있다. -> duration이 제일 영향 많이 끼침\n",
        "# putcom, previous, pdays삭제해도됨\n",
        "# node Number 통해 몇개 자식노드가 만들어졌는지 파악할 수 있다 ->13개 만들어짐 \n",
        "decision <- rpart(formula = termDeposit ~ ., data = decision_train, method = \"class\")\n",
        "summary(decision)"
      ],
      "execution_count": 26,
      "outputs": [
        {
          "output_type": "stream",
          "text": [
            "Call:\n",
            "rpart(formula = termDeposit ~ ., data = decision_train, method = \"class\")\n",
            "  n= 10098 \n",
            "\n",
            "          CP nsplit rel error    xerror        xstd\n",
            "1 0.36135057      0 1.0000000 1.0000000 0.011850489\n",
            "2 0.13745211      1 0.6386494 0.6082375 0.010441001\n",
            "3 0.06297893      2 0.5011973 0.4755747 0.009564790\n",
            "4 0.01197318      4 0.3752395 0.3886494 0.008837938\n",
            "5 0.01000000      5 0.3632663 0.3675766 0.008639508\n",
            "\n",
            "Variable importance\n",
            "      duration    nr.employed      euribor3m   emp.var.rate cons.price.idx \n",
            "            27             19             17             12              9 \n",
            " cons.conf.idx          pdays       poutcome       previous \n",
            "             9              5              1              1 \n",
            "\n",
            "Node number 1: 10098 observations,    complexity param=0.3613506\n",
            "  predicted class=no   expected loss=0.4135472  P(node) =1\n",
            "    class counts:  5922  4176\n",
            "   probabilities: 0.586 0.414 \n",
            "  left son=2 (5783 obs) right son=3 (4315 obs)\n",
            "  Primary splits:\n",
            "      duration     < 287.5   to the left,  improve=1028.9590, (0 missing)\n",
            "      nr.employed  < 5087.65 to the right, improve=1013.4760, (0 missing)\n",
            "      euribor3m    < 1.265   to the right, improve= 885.2965, (0 missing)\n",
            "      emp.var.rate < -0.15   to the right, improve= 874.6410, (0 missing)\n",
            "      pdays        < 513     to the right, improve= 514.0225, (0 missing)\n",
            "  Surrogate splits:\n",
            "      nr.employed    < 5000.15 to the right, agree=0.579, adj=0.015, (0 split)\n",
            "      month          splits as  LLRLLLLLLL,  agree=0.575, adj=0.006, (0 split)\n",
            "      cons.price.idx < 94.533  to the left,  agree=0.574, adj=0.004, (0 split)\n",
            "      cons.conf.idx  < -50.4   to the right, agree=0.574, adj=0.003, (0 split)\n",
            "      euribor3m      < 0.7125  to the right, agree=0.574, adj=0.003, (0 split)\n",
            "\n",
            "Node number 2: 5783 observations,    complexity param=0.1374521\n",
            "  predicted class=no   expected loss=0.2185717  P(node) =0.5726877\n",
            "    class counts:  4519  1264\n",
            "   probabilities: 0.781 0.219 \n",
            "  left son=4 (4491 obs) right son=5 (1292 obs)\n",
            "  Primary splits:\n",
            "      nr.employed   < 5087.65 to the right, improve=843.7484, (0 missing)\n",
            "      euribor3m     < 1.2395  to the right, improve=702.0145, (0 missing)\n",
            "      emp.var.rate  < -0.15   to the right, improve=617.7096, (0 missing)\n",
            "      pdays         < 512.5   to the right, improve=434.3016, (0 missing)\n",
            "      cons.conf.idx < -35.45  to the left,  improve=418.3411, (0 missing)\n",
            "  Surrogate splits:\n",
            "      euribor3m      < 1.2395  to the right, agree=0.970, adj=0.865, (0 split)\n",
            "      emp.var.rate   < -2.35   to the right, agree=0.908, adj=0.587, (0 split)\n",
            "      cons.conf.idx  < -35.45  to the left,  agree=0.900, adj=0.551, (0 split)\n",
            "      cons.price.idx < 92.7345 to the right, agree=0.875, adj=0.440, (0 split)\n",
            "      pdays          < 512.5   to the right, agree=0.847, adj=0.316, (0 split)\n",
            "\n",
            "Node number 3: 4315 observations,    complexity param=0.06297893\n",
            "  predicted class=yes  expected loss=0.3251448  P(node) =0.4273123\n",
            "    class counts:  1403  2912\n",
            "   probabilities: 0.325 0.675 \n",
            "  left son=6 (2445 obs) right son=7 (1870 obs)\n",
            "  Primary splits:\n",
            "      euribor3m    < 1.4025  to the right, improve=182.5868, (0 missing)\n",
            "      duration     < 525.5   to the left,  improve=179.7579, (0 missing)\n",
            "      emp.var.rate < -0.6    to the right, improve=176.6635, (0 missing)\n",
            "      nr.employed  < 5145.05 to the right, improve=176.6635, (0 missing)\n",
            "      contact      splits as  RL,          improve=105.8124, (0 missing)\n",
            "  Surrogate splits:\n",
            "      emp.var.rate   < -0.6    to the right, agree=0.934, adj=0.848, (0 split)\n",
            "      nr.employed    < 5145.05 to the right, agree=0.934, adj=0.848, (0 split)\n",
            "      cons.price.idx < 93.019  to the right, agree=0.827, adj=0.601, (0 split)\n",
            "      previous       < 0.5     to the left,  agree=0.721, adj=0.356, (0 split)\n",
            "      poutcome       splits as  RLR,         agree=0.721, adj=0.356, (0 split)\n",
            "\n",
            "Node number 4: 4491 observations\n",
            "  predicted class=no   expected loss=0.07370296  P(node) =0.4447415\n",
            "    class counts:  4160   331\n",
            "   probabilities: 0.926 0.074 \n",
            "\n",
            "Node number 5: 1292 observations,    complexity param=0.01197318\n",
            "  predicted class=yes  expected loss=0.2778638  P(node) =0.1279461\n",
            "    class counts:   359   933\n",
            "   probabilities: 0.278 0.722 \n",
            "  left son=10 (352 obs) right son=11 (940 obs)\n",
            "  Primary splits:\n",
            "      duration < 138.5   to the left,  improve=83.15984, (0 missing)\n",
            "      pdays    < 13.5    to the right, improve=37.29313, (0 missing)\n",
            "      poutcome splits as  LLR,         improve=36.72788, (0 missing)\n",
            "      contact  splits as  RL,          improve=11.60744, (0 missing)\n",
            "      previous < 0.5     to the left,  improve=10.53986, (0 missing)\n",
            "  Surrogate splits:\n",
            "      education splits as  RRRRLRRR,    agree=0.729, adj=0.006, (0 split)\n",
            "      campaign  < 7.5     to the right, agree=0.728, adj=0.003, (0 split)\n",
            "\n",
            "Node number 6: 2445 observations,    complexity param=0.06297893\n",
            "  predicted class=yes  expected loss=0.4523517  P(node) =0.2421272\n",
            "    class counts:  1106  1339\n",
            "   probabilities: 0.452 0.548 \n",
            "  left son=12 (962 obs) right son=13 (1483 obs)\n",
            "  Primary splits:\n",
            "      duration       < 503.5   to the left,  improve=326.92870, (0 missing)\n",
            "      month          splits as  RR-RLRLRR-,  improve= 45.82839, (0 missing)\n",
            "      cons.price.idx < 93.956  to the right, improve= 45.82839, (0 missing)\n",
            "      contact        splits as  RL,          improve= 39.01129, (0 missing)\n",
            "      cons.conf.idx  < -41.9   to the right, improve= 22.05875, (0 missing)\n",
            "  Surrogate splits:\n",
            "      month          splits as  RR-RRLRRL-,  agree=0.616, adj=0.024, (0 split)\n",
            "      cons.price.idx < 92.959  to the left,  agree=0.615, adj=0.021, (0 split)\n",
            "      cons.conf.idx  < -48.55  to the left,  agree=0.615, adj=0.021, (0 split)\n",
            "      emp.var.rate   < -0.95   to the left,  agree=0.614, adj=0.020, (0 split)\n",
            "      euribor3m      < 2.916   to the left,  agree=0.614, adj=0.020, (0 split)\n",
            "\n",
            "Node number 7: 1870 observations\n",
            "  predicted class=yes  expected loss=0.1588235  P(node) =0.1851852\n",
            "    class counts:   297  1573\n",
            "   probabilities: 0.159 0.841 \n",
            "\n",
            "Node number 10: 352 observations\n",
            "  predicted class=no   expected loss=0.4289773  P(node) =0.03485839\n",
            "    class counts:   201   151\n",
            "   probabilities: 0.571 0.429 \n",
            "\n",
            "Node number 11: 940 observations\n",
            "  predicted class=yes  expected loss=0.1680851  P(node) =0.09308774\n",
            "    class counts:   158   782\n",
            "   probabilities: 0.168 0.832 \n",
            "\n",
            "Node number 12: 962 observations\n",
            "  predicted class=no   expected loss=0.2266112  P(node) =0.09526639\n",
            "    class counts:   744   218\n",
            "   probabilities: 0.773 0.227 \n",
            "\n",
            "Node number 13: 1483 observations\n",
            "  predicted class=yes  expected loss=0.2440998  P(node) =0.1468608\n",
            "    class counts:   362  1121\n",
            "   probabilities: 0.244 0.756 \n",
            "\n"
          ],
          "name": "stdout"
        }
      ]
    },
    {
      "cell_type": "code",
      "metadata": {
        "colab": {
          "base_uri": "https://localhost:8080/"
        },
        "id": "rR0UHhP3ocsi",
        "outputId": "14035621-9a26-41ea-f446-327d57c4e0a0"
      },
      "source": [
        "install.packages(c(\"rattle\", \"rpart.plot\"))\n",
        "library(rpart)\n",
        "library(rpart.plot)\n",
        "library(RColorBrewer)"
      ],
      "execution_count": 27,
      "outputs": [
        {
          "output_type": "stream",
          "text": [
            "Installing packages into ‘/usr/local/lib/R/site-library’\n",
            "(as ‘lib’ is unspecified)\n",
            "\n",
            "also installing the dependencies ‘bitops’, ‘XML’\n",
            "\n",
            "\n"
          ],
          "name": "stderr"
        }
      ]
    },
    {
      "cell_type": "code",
      "metadata": {
        "colab": {
          "base_uri": "https://localhost:8080/",
          "height": 617
        },
        "id": "p--DXX5wPM5O",
        "outputId": "123bdfd2-d743-4d83-f3e5-2a53ccf34e4c"
      },
      "source": [
        "\n",
        "\n",
        "plot(decision)\n",
        "text(decision)\n",
        "# fancyRpartPlot(decision)"
      ],
      "execution_count": 28,
      "outputs": [
        {
          "output_type": "display_data",
          "data": {
            "image/png": "[encoded data removed]",
            "text/plain": [
              "plot without title"
            ]
          },
          "metadata": {
            "tags": [],
            "image/png": {
              "width": 600,
              "height": 600
            }
          }
        }
      ]
    },
    {
      "cell_type": "code",
      "metadata": {
        "colab": {
          "base_uri": "https://localhost:8080/"
        },
        "id": "pBQYOw2OPLEi",
        "outputId": "b8bb6ebd-8cec-44fa-923e-c2ce9b3f5842"
      },
      "source": [
        "# 가지치기 => 필요없는 특성을 제거해준다. -> 복잡도 줄여주기 위해서 -> 과대적합 안되기 위해 \n",
        "# 가지치기는 CP와 xerror 만 있으면 된다. \n",
        "\n",
        "rpart::printcp(decision)"
      ],
      "execution_count": 29,
      "outputs": [
        {
          "output_type": "stream",
          "text": [
            "\n",
            "Classification tree:\n",
            "rpart(formula = termDeposit ~ ., data = decision_train, method = \"class\")\n",
            "\n",
            "Variables actually used in tree construction:\n",
            "[1] duration    euribor3m   nr.employed\n",
            "\n",
            "Root node error: 4176/10098 = 0.41355\n",
            "\n",
            "n= 10098 \n",
            "\n",
            "        CP nsplit rel error  xerror      xstd\n",
            "1 0.361351      0   1.00000 1.00000 0.0118505\n",
            "2 0.137452      1   0.63865 0.60824 0.0104410\n",
            "3 0.062979      2   0.50120 0.47557 0.0095648\n",
            "4 0.011973      4   0.37524 0.38865 0.0088379\n",
            "5 0.010000      5   0.36327 0.36758 0.0086395\n"
          ],
          "name": "stdout"
        }
      ]
    },
    {
      "cell_type": "code",
      "metadata": {
        "colab": {
          "base_uri": "https://localhost:8080/",
          "height": 617
        },
        "id": "Bjf8SmrrpoYV",
        "outputId": "8cdb8a81-94f9-4492-939c-53e9af1c8b9d"
      },
      "source": [
        "# xerror가 가장 낮은 CP를 고르면 됨\n",
        "# 0.011 정도에 있는것을 고를 수 있다. -> 이때 tree size는 6라는 것을 알 수 있다.\n",
        "\n",
        "plotcp(decision)"
      ],
      "execution_count": 30,
      "outputs": [
        {
          "output_type": "display_data",
          "data": {
            "image/png": "[encoded data removed]",
            "text/plain": [
              "plot without title"
            ]
          },
          "metadata": {
            "tags": [],
            "image/png": {
              "width": 600,
              "height": 600
            }
          }
        }
      ]
    },
    {
      "cell_type": "code",
      "metadata": {
        "colab": {
          "base_uri": "https://localhost:8080/",
          "height": 99
        },
        "id": "Y02aFz6Ip3U0",
        "outputId": "c3f39f2f-428b-400f-e4e4-de7f2134ac00"
      },
      "source": [
        "decision$cptable %>% as_tibble() %>%\n",
        "  filter(xerror == min(xerror))\n",
        "\n",
        "min_xerror_cp <- decision$cptable %>% as_tibble() %>%\n",
        "  filter(xerror == min(xerror)) %>% pull(CP)#pull을 통해 cp값만 빼온다. \n",
        "\n",
        "  # 최소되는 cp구함 \n",
        "decision_cp <- rpart::prune(decision, cp = min_xerror_cp)"
      ],
      "execution_count": 31,
      "outputs": [
        {
          "output_type": "display_data",
          "data": {
            "text/plain": [
              "  CP   nsplit rel error xerror    xstd       \n",
              "1 0.01 5      0.3632663 0.3675766 0.008639508"
            ],
            "text/latex": "A tibble: 1 × 5\n\\begin{tabular}{lllll}\n CP & nsplit & rel error & xerror & xstd\\\\\n <dbl> & <dbl> & <dbl> & <dbl> & <dbl>\\\\\n\\hline\n\t 0.01 & 5 & 0.3632663 & 0.3675766 & 0.008639508\\\\\n\\end{tabular}\n",
            "text/markdown": "\nA tibble: 1 × 5\n\n| CP &lt;dbl&gt; | nsplit &lt;dbl&gt; | rel error &lt;dbl&gt; | xerror &lt;dbl&gt; | xstd &lt;dbl&gt; |\n|---|---|---|---|---|\n| 0.01 | 5 | 0.3632663 | 0.3675766 | 0.008639508 |\n\n",
            "text/html": [
              "<table>\n",
              "<caption>A tibble: 1 × 5</caption>\n",
              "<thead>\n",
              "\t<tr><th scope=col>CP</th><th scope=col>nsplit</th><th scope=col>rel error</th><th scope=col>xerror</th><th scope=col>xstd</th></tr>\n",
              "\t<tr><th scope=col>&lt;dbl&gt;</th><th scope=col>&lt;dbl&gt;</th><th scope=col>&lt;dbl&gt;</th><th scope=col>&lt;dbl&gt;</th><th scope=col>&lt;dbl&gt;</th></tr>\n",
              "</thead>\n",
              "<tbody>\n",
              "\t<tr><td>0.01</td><td>5</td><td>0.3632663</td><td>0.3675766</td><td>0.008639508</td></tr>\n",
              "</tbody>\n",
              "</table>\n"
            ]
          },
          "metadata": {
            "tags": []
          }
        }
      ]
    },
    {
      "cell_type": "code",
      "metadata": {
        "colab": {
          "base_uri": "https://localhost:8080/"
        },
        "id": "sbaubpa0ryQB",
        "outputId": "3708c965-66df-493f-a316-81ff293850fe"
      },
      "source": [
        "# Cp 삭제 안한것\n",
        "\n",
        "predict_value2 <- predict(decision, decision_train, type = \"class\") %>% \n",
        " tibble(predict_value2 = .)# 예측값\n",
        "predict_value2 %>% show()\n",
        "\n",
        "real_value2 <- decision_train %>% select(termDeposit) %>% dplyr::bind_cols(., predict_value2) \n",
        "real_value2 %>% show()# 실제값\n"
      ],
      "execution_count": 38,
      "outputs": [
        {
          "output_type": "stream",
          "text": [
            "\u001b[90m# A tibble: 10,098 x 1\u001b[39m\n",
            "   predict_value2\n",
            "   \u001b[3m\u001b[90m<fct>\u001b[39m\u001b[23m         \n",
            "\u001b[90m 1\u001b[39m yes           \n",
            "\u001b[90m 2\u001b[39m no            \n",
            "\u001b[90m 3\u001b[39m no            \n",
            "\u001b[90m 4\u001b[39m no            \n",
            "\u001b[90m 5\u001b[39m no            \n",
            "\u001b[90m 6\u001b[39m yes           \n",
            "\u001b[90m 7\u001b[39m no            \n",
            "\u001b[90m 8\u001b[39m yes           \n",
            "\u001b[90m 9\u001b[39m no            \n",
            "\u001b[90m10\u001b[39m no            \n",
            "\u001b[90m# … with 10,088 more rows\u001b[39m\n",
            "\u001b[90m# A tibble: 10,098 x 2\u001b[39m\n",
            "   termDeposit predict_value2\n",
            "   \u001b[3m\u001b[90m<fct>\u001b[39m\u001b[23m       \u001b[3m\u001b[90m<fct>\u001b[39m\u001b[23m         \n",
            "\u001b[90m 1\u001b[39m no          yes           \n",
            "\u001b[90m 2\u001b[39m no          no            \n",
            "\u001b[90m 3\u001b[39m no          no            \n",
            "\u001b[90m 4\u001b[39m no          no            \n",
            "\u001b[90m 5\u001b[39m no          no            \n",
            "\u001b[90m 6\u001b[39m yes         yes           \n",
            "\u001b[90m 7\u001b[39m no          no            \n",
            "\u001b[90m 8\u001b[39m yes         yes           \n",
            "\u001b[90m 9\u001b[39m yes         no            \n",
            "\u001b[90m10\u001b[39m no          no            \n",
            "\u001b[90m# … with 10,088 more rows\u001b[39m\n"
          ],
          "name": "stdout"
        }
      ]
    },
    {
      "cell_type": "code",
      "metadata": {
        "colab": {
          "base_uri": "https://localhost:8080/"
        },
        "id": "4ON6FQiKqV2H",
        "outputId": "f4588211-4a62-413b-8a34-b0346deb03a3"
      },
      "source": [
        "# CP삭제한것 \n",
        "\n",
        "predict_value <- predict(decision_cp, decision_train, type = \"class\") %>% \n",
        " tibble(predict_value = .)# 예측값\n",
        "predict_value %>% show()\n",
        "\n",
        "real_value <- decision_train %>% select(termDeposit) %>% dplyr::bind_cols(., predict_value) \n",
        "real_value %>% show()# 실제값\n"
      ],
      "execution_count": 40,
      "outputs": [
        {
          "output_type": "stream",
          "text": [
            "\u001b[90m# A tibble: 10,098 x 1\u001b[39m\n",
            "   predict_value\n",
            "   \u001b[3m\u001b[90m<fct>\u001b[39m\u001b[23m        \n",
            "\u001b[90m 1\u001b[39m yes          \n",
            "\u001b[90m 2\u001b[39m no           \n",
            "\u001b[90m 3\u001b[39m no           \n",
            "\u001b[90m 4\u001b[39m no           \n",
            "\u001b[90m 5\u001b[39m no           \n",
            "\u001b[90m 6\u001b[39m yes          \n",
            "\u001b[90m 7\u001b[39m no           \n",
            "\u001b[90m 8\u001b[39m yes          \n",
            "\u001b[90m 9\u001b[39m no           \n",
            "\u001b[90m10\u001b[39m no           \n",
            "\u001b[90m# … with 10,088 more rows\u001b[39m\n",
            "\u001b[90m# A tibble: 10,098 x 2\u001b[39m\n",
            "   termDeposit predict_value\n",
            "   \u001b[3m\u001b[90m<fct>\u001b[39m\u001b[23m       \u001b[3m\u001b[90m<fct>\u001b[39m\u001b[23m        \n",
            "\u001b[90m 1\u001b[39m no          yes          \n",
            "\u001b[90m 2\u001b[39m no          no           \n",
            "\u001b[90m 3\u001b[39m no          no           \n",
            "\u001b[90m 4\u001b[39m no          no           \n",
            "\u001b[90m 5\u001b[39m no          no           \n",
            "\u001b[90m 6\u001b[39m yes         yes          \n",
            "\u001b[90m 7\u001b[39m no          no           \n",
            "\u001b[90m 8\u001b[39m yes         yes          \n",
            "\u001b[90m 9\u001b[39m yes         no           \n",
            "\u001b[90m10\u001b[39m no          no           \n",
            "\u001b[90m# … with 10,088 more rows\u001b[39m\n"
          ],
          "name": "stdout"
        }
      ]
    },
    {
      "cell_type": "code",
      "metadata": {
        "colab": {
          "base_uri": "https://localhost:8080/",
          "height": 617
        },
        "id": "81whgy-OsMyS",
        "outputId": "20d3a2fd-4430-4211-b867-e7a5c5ed24d9"
      },
      "source": [
        "# CP삭제안한거 \n",
        "\n",
        "cm <- caret::confusionMatrix(real_value2$predict_value2, real_value2$termDeposit)\n",
        "draw_confusion_matrix(cm)"
      ],
      "execution_count": 42,
      "outputs": [
        {
          "output_type": "display_data",
          "data": {
            "image/png": "[encoded data removed]",
            "text/plain": [
              "Plot with title “DETAILS”"
            ]
          },
          "metadata": {
            "tags": [],
            "image/png": {
              "width": 600,
              "height": 600
            }
          }
        }
      ]
    },
    {
      "cell_type": "code",
      "metadata": {
        "colab": {
          "base_uri": "https://localhost:8080/",
          "height": 617
        },
        "id": "iCJf_uKGrSTn",
        "outputId": "922c3f06-dfd0-4706-c216-31559e300919"
      },
      "source": [
        "# CP삭제한거 \n",
        "\n",
        "cm <- caret::confusionMatrix(real_value$predict_value, real_value$termDeposit)\n",
        "draw_confusion_matrix(cm)"
      ],
      "execution_count": 36,
      "outputs": [
        {
          "output_type": "display_data",
          "data": {
            "image/png": "[encoded data removed]",
            "text/plain": [
              "Plot with title “DETAILS”"
            ]
          },
          "metadata": {
            "tags": [],
            "image/png": {
              "width": 600,
              "height": 600
            }
          }
        }
      ]
    },
    {
      "cell_type": "code",
      "metadata": {
        "colab": {
          "base_uri": "https://localhost:8080/"
        },
        "id": "I1t921NisqAX",
        "outputId": "18f37aa0-60cc-47cd-b2c7-722b612af6d1"
      },
      "source": [
        "predict_value <- predict(decision_cp, decision_test, type = \"class\") %>% tibble(termDeposit = .)\n",
        "decision_result <- DF_test %>% select(ID) %>% dplyr::bind_cols(., predict_value) %>%\n",
        " mutate(termDeposit = ifelse(termDeposit == \"yes\", \"yes\", \"no\"))\n",
        "\n",
        "str(decision_result)\n",
        "# decision_result %>% head(10)"
      ],
      "execution_count": 44,
      "outputs": [
        {
          "output_type": "stream",
          "text": [
            "tibble [1,121 × 2] (S3: tbl_df/tbl/data.frame)\n",
            " $ ID         : chr [1:1121] \"T1\" \"T2\" \"T3\" \"T4\" ...\n",
            " $ termDeposit: chr [1:1121] \"yes\" \"no\" \"no\" \"yes\" ...\n"
          ],
          "name": "stdout"
        }
      ]
    },
    {
      "cell_type": "code",
      "metadata": {
        "id": "DDLCz6AnstlT"
      },
      "source": [
        " decision_result %>% write_csv(path = \"submission2.csv\")"
      ],
      "execution_count": 45,
      "outputs": []
    },
    {
      "cell_type": "markdown",
      "metadata": {
        "id": "7aPjhJ-SOwdt"
      },
      "source": [
        "## 3. **Random Forest**"
      ]
    },
    {
      "cell_type": "markdown",
      "metadata": {
        "id": "LVbvdOFCS-2o"
      },
      "source": [
        "앙상블 모델 : 여러개의 분류 모델에 의한 결과를 종합하여 분류의 정확도를 높인다. -> 일반화 성능 향상\n",
        "\n",
        "앙상블 장점\n",
        "  <li>분산감소\n",
        "  <li>오버피팅 가능성 감소\n",
        "  <li>여러 모델의 평균이기 때무에 일반화에 좋다. \n",
        "\n",
        "랜덤포레스트는 (배깅+결정트리) 라고 할 수 있다. \n",
        "\n",
        "\n"
      ]
    },
    {
      "cell_type": "code",
      "metadata": {
        "colab": {
          "base_uri": "https://localhost:8080/"
        },
        "id": "jyaFhOZrPNfa",
        "outputId": "f679076c-37d2-4e9e-aae5-33a1625f65d0"
      },
      "source": [
        "install.packages(\"randomForest\")\n",
        "library(randomForest)\n",
        "library(ipred)"
      ],
      "execution_count": 72,
      "outputs": [
        {
          "output_type": "stream",
          "text": [
            "Installing package into ‘/usr/local/lib/R/site-library’\n",
            "(as ‘lib’ is unspecified)\n",
            "\n",
            "randomForest 4.6-14\n",
            "\n",
            "Type rfNews() to see new features/changes/bug fixes.\n",
            "\n",
            "\n",
            "Attaching package: ‘randomForest’\n",
            "\n",
            "\n",
            "The following object is masked from ‘package:dplyr’:\n",
            "\n",
            "    combine\n",
            "\n",
            "\n",
            "The following object is masked from ‘package:ggplot2’:\n",
            "\n",
            "    margin\n",
            "\n",
            "\n"
          ],
          "name": "stderr"
        }
      ]
    },
    {
      "cell_type": "code",
      "metadata": {
        "id": "0A9Ou_7Dwllm"
      },
      "source": [
        "random_train = DF_train_f\n",
        "random_test = DF_test_f\n"
      ],
      "execution_count": 180,
      "outputs": []
    },
    {
      "cell_type": "code",
      "metadata": {
        "colab": {
          "base_uri": "https://localhost:8080/",
          "height": 34
        },
        "id": "GfyWFHVoPNcn",
        "outputId": "96b8c0fc-b8b1-4d02-de4f-e835e0404c83"
      },
      "source": [
        "# sqrt= 루트를 씌우는 함수 \n",
        "# 반응변수와 사용되지않을 변수인 X1과 AHD를 뺀 자료들의 갯수를\n",
        "# 루트 씌우고 floor해서 소수점 날림\n",
        "# 가장 적합한 mtry를 찾을 수 있음\n",
        "# 가장 적합한 mtry 갯수 설정\n",
        "# mtry는 모델 만들때 몇개의 특징을 사용할 것인지를 결정 하는 것\n",
        "\n",
        "\n",
        "mtry_sqrt <- random_train %>% select(-termDeposit) %>% colnames() %>%\n",
        " length() %>% sqrt() %>% floor()\n",
        "\n",
        "mtry_sqrt# 4가지 특징으로 분류하는게 가장 성능 좋을것이다. "
      ],
      "execution_count": 74,
      "outputs": [
        {
          "output_type": "display_data",
          "data": {
            "text/plain": [
              "[1] 4"
            ],
            "text/latex": "4",
            "text/markdown": "4",
            "text/html": [
              "4"
            ]
          },
          "metadata": {
            "tags": []
          }
        }
      ]
    },
    {
      "cell_type": "code",
      "metadata": {
        "colab": {
          "base_uri": "https://localhost:8080/",
          "height": 233
        },
        "id": "Xyg5wjwjzHdp",
        "outputId": "c9de0df8-9524-4e90-a540-aa9eb36d4c9b"
      },
      "source": [
        "# 낮은 연관을 가진 변수들 제거 후 모델 학습 \n",
        "# min_samples_split 규제 사용해보기 \n",
        "random_train_remove = random_train %>% select(-day_of_week,-housing,-loan,-nr.employed,-marital,-cons.conf.idx,-age,-job,)\n",
        "\n",
        "\n",
        "# random_remove = randomForest(termDeposit ~ ., data = random_train_remove, importance = T, mtry = 4, ntree = 1000)# oob = 12.49%\n",
        "# random_remove = randomForest(termDeposit ~ ., data = random_train_remove, importance = T, mtry = 4, ntree = 300)# oob = 12.44\n",
        "# random_remove = randomForest(termDeposit ~ ., data = random_train_remove, importance = T, mtry = 4, ntree = 1050)# oob = 12..45\n",
        "# random_remove = randomForest(termDeposit ~ ., data = random_train_remove, importance = T, mtry = 6, ntree = 1100)# oob = 12.75\n",
        "# random_remove = randomForest(termDeposit ~ ., data = random_train_remove, importance = T, mtry = 6, ntree = 1100, min_samples_split=50)# oob = 12.86\n",
        "\n",
        "# random_remove = randomForest(termDeposit ~ ., data = random_train_remove, importance = T, mtry = 4.5, ntree = 1100)# oob = 12.81\n",
        "# random_remove = randomForest(termDeposit ~ ., data = random_train_remove, importance = T, mtry = 3, ntree = 1100)# oob = 12.8\n",
        "# random_remove = randomForest(termDeposit ~ ., data = random_train_remove, importance = T, mtry = 4, ntree = 1100,min_samples_split=50)# oob = 12.97\n",
        "\n",
        "# random_remove = randomForest(termDeposit ~ ., data = random_train, importance = T, mtry = 4, ntree = 1000,min_samples_split=1000)# oob = 11.79\n",
        "\n",
        "random_remove = randomForest(termDeposit ~ ., data = random_train, importance = T, mtry = 4, ntree = 1000,min_samples_split=5000)# oob = 11.89\n",
        "random_remove\n"
      ],
      "execution_count": 211,
      "outputs": [
        {
          "output_type": "display_data",
          "data": {
            "text/plain": [
              "\n",
              "Call:\n",
              " randomForest(formula = termDeposit ~ ., data = random_train,      importance = T, mtry = 4, ntree = 1000, min_samples_split = 5000) \n",
              "               Type of random forest: classification\n",
              "                     Number of trees: 1000\n",
              "No. of variables tried at each split: 4\n",
              "\n",
              "        OOB estimate of  error rate: 11.89%\n",
              "Confusion matrix:\n",
              "      no  yes class.error\n",
              "no  5088  834  0.14083080\n",
              "yes  367 3809  0.08788314"
            ]
          },
          "metadata": {
            "tags": []
          }
        }
      ]
    },
    {
      "cell_type": "code",
      "metadata": {
        "colab": {
          "base_uri": "https://localhost:8080/",
          "height": 233
        },
        "id": "TP7i-9GLPNab",
        "outputId": "8f85c248-1ba7-4e59-931d-1bd2c690ebb2"
      },
      "source": [
        "# 모든 변수로 모델 학습 \n",
        "\n",
        "set.seed(52)\n",
        "random <- randomForest(termDeposit ~ ., data = random_train, importance = T, mtry = mtry_sqrt, ntree = 1000)\n",
        "random\n",
        "\n",
        "## defualt\n",
        "# random2 <- randomForest(termDeposit ~ ., data = random_train, importance = T, ntree = 1000)\n",
        "# random2\n"
      ],
      "execution_count": 76,
      "outputs": [
        {
          "output_type": "display_data",
          "data": {
            "text/plain": [
              "\n",
              "Call:\n",
              " randomForest(formula = termDeposit ~ ., data = random_train,      importance = T, mtry = mtry_sqrt, ntree = 1000) \n",
              "               Type of random forest: classification\n",
              "                     Number of trees: 1000\n",
              "No. of variables tried at each split: 4\n",
              "\n",
              "        OOB estimate of  error rate: 11.72%\n",
              "Confusion matrix:\n",
              "      no  yes class.error\n",
              "no  5095  827  0.13964877\n",
              "yes  356 3820  0.08524904"
            ]
          },
          "metadata": {
            "tags": []
          }
        }
      ]
    },
    {
      "cell_type": "code",
      "metadata": {
        "colab": {
          "base_uri": "https://localhost:8080/",
          "height": 617
        },
        "id": "HcTvs9yUA7Mh",
        "outputId": "32c0b2d2-f4fd-492e-e8b4-e92463c79539"
      },
      "source": [
        "# 특징 중요도 볼 수있다. duration이 가장좋음 \n",
        "varImpPlot(random, type=2, pch=19, col=1, cex=1, main=\"\")"
      ],
      "execution_count": 78,
      "outputs": [
        {
          "output_type": "display_data",
          "data": {
            "image/png": "[encoded data removed]",
            "text/plain": [
              "Plot with title “”"
            ]
          },
          "metadata": {
            "tags": [],
            "image/png": {
              "width": 600,
              "height": 600
            }
          }
        }
      ]
    },
    {
      "cell_type": "code",
      "metadata": {
        "id": "AmI3tiRWx4Uv"
      },
      "source": [
        "# 최적의 파라미터(mtry, ntree등)를 구하기 위해 e1071패키지를 사용 \n",
        "\n",
        "trControl <- trainControl(method = \"cv\", number = 10, search = \"grid\")\n"
      ],
      "execution_count": 87,
      "outputs": []
    },
    {
      "cell_type": "code",
      "metadata": {
        "id": "Na9_7satPLbS"
      },
      "source": [
        "# # 시간 오래걸림 \n",
        "# # train() 함수 이용해서 최적의 ntree를 찾아본다. \n",
        "\n",
        "# tuneGrid <- expand.grid(.mtry = 4)\n",
        "# store_maxtrees <- list()\n",
        "\n",
        "# for (ntree in c(250, 300, 350, 400, 450, 500, 550, 600, 800, 1000, 2000)) {\n",
        "#     set.seed(51)\n",
        "#     rf_maxtrees <- train(termDeposit~.,\n",
        "#         data = random_train,\n",
        "#         method = \"rf\",\n",
        "#         metric = \"Accuracy\",\n",
        "#         tuneGrid = tuneGrid,\n",
        "#         trControl = trControl,\n",
        "#         importance = T,\n",
        "#         ntree = ntree)\n",
        "#     key <- toString(ntree)\n",
        "#     store_maxtrees[[key]] <- rf_maxtrees\n",
        "# }\n",
        "# results_tree <- resamples(store_maxtrees)\n",
        "# summary(results_tree)"
      ],
      "execution_count": 92,
      "outputs": []
    },
    {
      "cell_type": "code",
      "metadata": {
        "id": "cF1ODpOHY95C"
      },
      "source": [
        "# results_tree <- resamples(store_maxtrees)\n",
        "# summary(results_tree)"
      ],
      "execution_count": null,
      "outputs": []
    },
    {
      "cell_type": "markdown",
      "metadata": {
        "id": "ntSon7Q8ZR_L"
      },
      "source": [
        "![캡처.PNG](data:image/png;base64,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)"
      ]
    },
    {
      "cell_type": "code",
      "metadata": {
        "colab": {
          "base_uri": "https://localhost:8080/",
          "height": 233
        },
        "id": "dZG4_PnkMKaU",
        "outputId": "27d5732b-e8a8-4496-c66e-e1b8a3ceef99"
      },
      "source": [
        "# OOB estimate of  error rate: 11.77%\n",
        "# min_samples_split 규제 사용해보기 \n",
        "random <- randomForest(termDeposit ~ ., data = random_train, importance = T, ntree = 1000)\n",
        "random"
      ],
      "execution_count": 94,
      "outputs": [
        {
          "output_type": "display_data",
          "data": {
            "text/plain": [
              "\n",
              "Call:\n",
              " randomForest(formula = termDeposit ~ ., data = random_train,      importance = T, ntree = 1000) \n",
              "               Type of random forest: classification\n",
              "                     Number of trees: 1000\n",
              "No. of variables tried at each split: 4\n",
              "\n",
              "        OOB estimate of  error rate: 11.77%\n",
              "Confusion matrix:\n",
              "      no  yes class.error\n",
              "no  5091  831  0.14032421\n",
              "yes  358 3818  0.08572797"
            ]
          },
          "metadata": {
            "tags": []
          }
        }
      ]
    },
    {
      "cell_type": "code",
      "metadata": {
        "colab": {
          "base_uri": "https://localhost:8080/",
          "height": 233
        },
        "id": "kgMod9EKLmel",
        "outputId": "20d812a0-2043-42e5-a98f-d1979ff40525"
      },
      "source": [
        "# OOB estimate of  error rate: 11.96%\n",
        "\n",
        "random_grid <- randomForest(termDeposit ~ ., data = random_train, importance = T, mtry = 4, ntree = 500)\n",
        "random_grid"
      ],
      "execution_count": 96,
      "outputs": [
        {
          "output_type": "display_data",
          "data": {
            "text/plain": [
              "\n",
              "Call:\n",
              " randomForest(formula = termDeposit ~ ., data = random_train,      importance = T, mtry = 4, ntree = 500) \n",
              "               Type of random forest: classification\n",
              "                     Number of trees: 500\n",
              "No. of variables tried at each split: 4\n",
              "\n",
              "        OOB estimate of  error rate: 11.96%\n",
              "Confusion matrix:\n",
              "      no  yes class.error\n",
              "no  5082  840  0.14184397\n",
              "yes  368 3808  0.08812261"
            ]
          },
          "metadata": {
            "tags": []
          }
        }
      ]
    },
    {
      "cell_type": "code",
      "metadata": {
        "id": "8xFeWi0ec-np"
      },
      "source": [
        "# common <- intersect(names(train), names(test)) \n",
        "# for (p in common) { \n",
        "#   if (class(train[[p]]) == \"factor\") { \n",
        "#     levels(test[[p]]) <- levels(train[[p]]) \n",
        "#   } \n",
        "# }\n",
        "\n",
        "common <- intersect(names(random_train), names(random_test)) \n",
        "for (p in common) { \n",
        "  if (class(random_train[[p]]) == \"factor\") { \n",
        "    levels(random_test[[p]]) <- levels(random_train[[p]]) \n",
        "  } \n",
        "}"
      ],
      "execution_count": 191,
      "outputs": []
    },
    {
      "cell_type": "code",
      "metadata": {
        "colab": {
          "base_uri": "https://localhost:8080/",
          "height": 559
        },
        "id": "lGprceT2LmZy",
        "outputId": "50ac3099-5ee5-432c-8110-f5e154831c55"
      },
      "source": [
        "# predict_value1 = predict(random, random_test , type = \"class\") %>% tibble(termDeposit = .)\n",
        "# predict_value1 %>% show()\n",
        "\n",
        "# random_result1 <- DF_test %>% select(ID) %>% dplyr::bind_cols(., predict_value1)\n",
        "# random_result1 %>% show()\n",
        "\n",
        "# model\n",
        "predict_value1 <- predict(random, random_test, type = \"class\") %>% tibble(termDeposit = .)\n",
        "random_result1 <- DF_test %>% select(ID) %>% dplyr::bind_cols(., predict_value1)\n",
        "random_result1 %>% head(10)\n",
        "\n",
        "# model_grid\n",
        "predict_value2 <- predict(random_grid, random_test, type = \"class\") %>% tibble(termDeposit = .)\n",
        "random_result2 <- DF_test %>% select(ID) %>% dplyr::bind_cols(., predict_value2)\n",
        "random_result2 %>% head(10)"
      ],
      "execution_count": 118,
      "outputs": [
        {
          "output_type": "display_data",
          "data": {
            "text/plain": [
              "   ID  termDeposit\n",
              "1  T1  no         \n",
              "2  T2  no         \n",
              "3  T3  yes        \n",
              "4  T4  yes        \n",
              "5  T5  no         \n",
              "6  T6  yes        \n",
              "7  T7  yes        \n",
              "8  T8  no         \n",
              "9  T9  no         \n",
              "10 T10 no         "
            ],
            "text/latex": "A tibble: 10 × 2\n\\begin{tabular}{ll}\n ID & termDeposit\\\\\n <chr> & <fct>\\\\\n\\hline\n\t T1  & no \\\\\n\t T2  & no \\\\\n\t T3  & yes\\\\\n\t T4  & yes\\\\\n\t T5  & no \\\\\n\t T6  & yes\\\\\n\t T7  & yes\\\\\n\t T8  & no \\\\\n\t T9  & no \\\\\n\t T10 & no \\\\\n\\end{tabular}\n",
            "text/markdown": "\nA tibble: 10 × 2\n\n| ID &lt;chr&gt; | termDeposit &lt;fct&gt; |\n|---|---|\n| T1  | no  |\n| T2  | no  |\n| T3  | yes |\n| T4  | yes |\n| T5  | no  |\n| T6  | yes |\n| T7  | yes |\n| T8  | no  |\n| T9  | no  |\n| T10 | no  |\n\n",
            "text/html": [
              "<table>\n",
              "<caption>A tibble: 10 × 2</caption>\n",
              "<thead>\n",
              "\t<tr><th scope=col>ID</th><th scope=col>termDeposit</th></tr>\n",
              "\t<tr><th scope=col>&lt;chr&gt;</th><th scope=col>&lt;fct&gt;</th></tr>\n",
              "</thead>\n",
              "<tbody>\n",
              "\t<tr><td>T1 </td><td>no </td></tr>\n",
              "\t<tr><td>T2 </td><td>no </td></tr>\n",
              "\t<tr><td>T3 </td><td>yes</td></tr>\n",
              "\t<tr><td>T4 </td><td>yes</td></tr>\n",
              "\t<tr><td>T5 </td><td>no </td></tr>\n",
              "\t<tr><td>T6 </td><td>yes</td></tr>\n",
              "\t<tr><td>T7 </td><td>yes</td></tr>\n",
              "\t<tr><td>T8 </td><td>no </td></tr>\n",
              "\t<tr><td>T9 </td><td>no </td></tr>\n",
              "\t<tr><td>T10</td><td>no </td></tr>\n",
              "</tbody>\n",
              "</table>\n"
            ]
          },
          "metadata": {
            "tags": []
          }
        },
        {
          "output_type": "display_data",
          "data": {
            "text/plain": [
              "   ID  termDeposit\n",
              "1  T1  no         \n",
              "2  T2  no         \n",
              "3  T3  yes        \n",
              "4  T4  yes        \n",
              "5  T5  no         \n",
              "6  T6  yes        \n",
              "7  T7  yes        \n",
              "8  T8  no         \n",
              "9  T9  no         \n",
              "10 T10 no         "
            ],
            "text/latex": "A tibble: 10 × 2\n\\begin{tabular}{ll}\n ID & termDeposit\\\\\n <chr> & <fct>\\\\\n\\hline\n\t T1  & no \\\\\n\t T2  & no \\\\\n\t T3  & yes\\\\\n\t T4  & yes\\\\\n\t T5  & no \\\\\n\t T6  & yes\\\\\n\t T7  & yes\\\\\n\t T8  & no \\\\\n\t T9  & no \\\\\n\t T10 & no \\\\\n\\end{tabular}\n",
            "text/markdown": "\nA tibble: 10 × 2\n\n| ID &lt;chr&gt; | termDeposit &lt;fct&gt; |\n|---|---|\n| T1  | no  |\n| T2  | no  |\n| T3  | yes |\n| T4  | yes |\n| T5  | no  |\n| T6  | yes |\n| T7  | yes |\n| T8  | no  |\n| T9  | no  |\n| T10 | no  |\n\n",
            "text/html": [
              "<table>\n",
              "<caption>A tibble: 10 × 2</caption>\n",
              "<thead>\n",
              "\t<tr><th scope=col>ID</th><th scope=col>termDeposit</th></tr>\n",
              "\t<tr><th scope=col>&lt;chr&gt;</th><th scope=col>&lt;fct&gt;</th></tr>\n",
              "</thead>\n",
              "<tbody>\n",
              "\t<tr><td>T1 </td><td>no </td></tr>\n",
              "\t<tr><td>T2 </td><td>no </td></tr>\n",
              "\t<tr><td>T3 </td><td>yes</td></tr>\n",
              "\t<tr><td>T4 </td><td>yes</td></tr>\n",
              "\t<tr><td>T5 </td><td>no </td></tr>\n",
              "\t<tr><td>T6 </td><td>yes</td></tr>\n",
              "\t<tr><td>T7 </td><td>yes</td></tr>\n",
              "\t<tr><td>T8 </td><td>no </td></tr>\n",
              "\t<tr><td>T9 </td><td>no </td></tr>\n",
              "\t<tr><td>T10</td><td>no </td></tr>\n",
              "</tbody>\n",
              "</table>\n"
            ]
          },
          "metadata": {
            "tags": []
          }
        }
      ]
    },
    {
      "cell_type": "code",
      "metadata": {
        "id": "YzvHX0HJLmVy"
      },
      "source": [
        " random_result1 %>% write_csv(path = \"submission_random1.csv\")\n",
        " random_result2 %>% write_csv(path = \"submission_random2.csv\")"
      ],
      "execution_count": 119,
      "outputs": []
    },
    {
      "cell_type": "code",
      "metadata": {
        "colab": {
          "base_uri": "https://localhost:8080/",
          "height": 1000
        },
        "id": "Qcgi3GxTLmSy",
        "outputId": "1aa14837-6e94-4bd1-a92c-230772815eaf"
      },
      "source": [
        "# 데이터형 char 로 맞춰주려고 다시 mutate 사용 \n",
        "# 과적합남 \n",
        "\n",
        "predict_end <- predict(random, random_train, type = \"class\") %>% \n",
        " tibble(predict_end = .)# 예측값\n",
        "predict_end %>% show()\n",
        "\n",
        "real_value <- random_train %>% select(termDeposit) %>% dplyr::bind_cols(., predict_end) \n",
        "real_value %>% show()# 실제값\n",
        "\n",
        "\n",
        "cm <- caret::confusionMatrix(real_value$predict_end, real_value$termDeposit)\n",
        "draw_confusion_matrix(cm)"
      ],
      "execution_count": 117,
      "outputs": [
        {
          "output_type": "stream",
          "text": [
            "\u001b[90m# A tibble: 10,098 x 1\u001b[39m\n",
            "   predict_end\n",
            "   \u001b[3m\u001b[90m<fct>\u001b[39m\u001b[23m      \n",
            "\u001b[90m 1\u001b[39m no         \n",
            "\u001b[90m 2\u001b[39m no         \n",
            "\u001b[90m 3\u001b[39m no         \n",
            "\u001b[90m 4\u001b[39m no         \n",
            "\u001b[90m 5\u001b[39m no         \n",
            "\u001b[90m 6\u001b[39m yes        \n",
            "\u001b[90m 7\u001b[39m no         \n",
            "\u001b[90m 8\u001b[39m yes        \n",
            "\u001b[90m 9\u001b[39m yes        \n",
            "\u001b[90m10\u001b[39m no         \n",
            "\u001b[90m# … with 10,088 more rows\u001b[39m\n",
            "\u001b[90m# A tibble: 10,098 x 2\u001b[39m\n",
            "   termDeposit predict_end\n",
            "   \u001b[3m\u001b[90m<fct>\u001b[39m\u001b[23m       \u001b[3m\u001b[90m<fct>\u001b[39m\u001b[23m      \n",
            "\u001b[90m 1\u001b[39m no          no         \n",
            "\u001b[90m 2\u001b[39m no          no         \n",
            "\u001b[90m 3\u001b[39m no          no         \n",
            "\u001b[90m 4\u001b[39m no          no         \n",
            "\u001b[90m 5\u001b[39m no          no         \n",
            "\u001b[90m 6\u001b[39m yes         yes        \n",
            "\u001b[90m 7\u001b[39m no          no         \n",
            "\u001b[90m 8\u001b[39m yes         yes        \n",
            "\u001b[90m 9\u001b[39m yes         yes        \n",
            "\u001b[90m10\u001b[39m no          no         \n",
            "\u001b[90m# … with 10,088 more rows\u001b[39m\n"
          ],
          "name": "stdout"
        },
        {
          "output_type": "display_data",
          "data": {
            "image/png": "[encoded data removed]",
            "text/plain": [
              "Plot with title “DETAILS”"
            ]
          },
          "metadata": {
            "tags": [],
            "image/png": {
              "width": 600,
              "height": 600
            }
          }
        }
      ]
    },
    {
      "cell_type": "code",
      "metadata": {
        "colab": {
          "base_uri": "https://localhost:8080/",
          "height": 233
        },
        "id": "q7PsW5b9h4cP",
        "outputId": "a65ed05e-1105-4d78-f7ad-98fe4fe70437"
      },
      "source": [
        "# random_ex <- randomForest(termDeposit ~ ., data = random_train, importance = T, mtry = 4, ntree = 2000)\n",
        "# random_ex # oob = 11.95"
      ],
      "execution_count": 120,
      "outputs": [
        {
          "output_type": "display_data",
          "data": {
            "text/plain": [
              "\n",
              "Call:\n",
              " randomForest(formula = termDeposit ~ ., data = random_train,      importance = T, mtry = 4, ntree = 2000) \n",
              "               Type of random forest: classification\n",
              "                     Number of trees: 2000\n",
              "No. of variables tried at each split: 4\n",
              "\n",
              "        OOB estimate of  error rate: 11.95%\n",
              "Confusion matrix:\n",
              "      no  yes class.error\n",
              "no  5086  836   0.1411685\n",
              "yes  371 3805   0.0888410"
            ]
          },
          "metadata": {
            "tags": []
          }
        }
      ]
    },
    {
      "cell_type": "code",
      "metadata": {
        "colab": {
          "base_uri": "https://localhost:8080/",
          "height": 233
        },
        "id": "1kQGVtD0h9Qd",
        "outputId": "5f0a6e36-1be0-48de-95e8-9c76bfc0f0c8"
      },
      "source": [
        "# random_ex1 <- randomForest(termDeposit ~ ., data = random_train, importance = T, mtry = 4, ntree = 1500)\n",
        "# random_ex1 # oob = 11.77\n",
        "# random_ex2 <- randomForest(termDeposit ~ ., data = random_train, importance = T, mtry = 4, ntree = 3000)\n",
        "# random_ex2 # oob = 11.78\n",
        "# random_ex3 <- randomForest(termDeposit ~ ., data = random_train, importance = T, mtry = 4, ntree = 700)\n",
        "# random_ex3 # oob = 11.81\n",
        "# random_ex4 <- randomForest(termDeposit ~ ., data = random_train, importance = T, mtry = 4, ntree = 1200)\n",
        "# random_ex4 # oob = 11.76\n",
        "# random_ex5 <- randomForest(termDeposit ~ ., data = random_train, importance = T, mtry = 4, ntree = 800)\n",
        "# random_ex5 # oob = 11.87\n",
        "# random_ex6 <- randomForest(termDeposit ~ ., data = random_train, importance = T, mtry = 4, ntree = 1300)\n",
        "# random_ex6 # oob = 11.8\n",
        "random_ex7 <- randomForest(termDeposit ~ ., data = random_train, importance = T, mtry = 4, ntree = 1100)\n",
        "random_ex7 # oob = 11.74\n",
        "# random_ex8 <- randomForest(termDeposit ~ ., data = random_train, importance = T, mtry = 4, ntree = 1050)\n",
        "# random_ex8 # oob = 11.8\n",
        "# random_ex9 <- randomForest(termDeposit ~ ., data = random_train, importance = T, mtry = 4, ntree = 300)\n",
        "# random_ex9 # oob = 11.94\n",
        "# random_ex10 <- randomForest(termDeposit ~ ., data = random_train, importance = T, mtry = 4, ntree = 300)\n",
        "# random_ex10 # oob = 11.8\n",
        "# random_ex11 <- randomForest(termDeposit ~ ., data = random_train, importance = T, mtry = 4, ntree = 350)\n",
        "# random_ex11 # oob = 12.09"
      ],
      "execution_count": 121,
      "outputs": [
        {
          "output_type": "display_data",
          "data": {
            "text/plain": [
              "\n",
              "Call:\n",
              " randomForest(formula = termDeposit ~ ., data = random_train,      importance = T, mtry = 4, ntree = 1500) \n",
              "               Type of random forest: classification\n",
              "                     Number of trees: 1500\n",
              "No. of variables tried at each split: 4\n",
              "\n",
              "        OOB estimate of  error rate: 11.77%\n",
              "Confusion matrix:\n",
              "      no  yes class.error\n",
              "no  5094  828  0.13981763\n",
              "yes  361 3815  0.08644636"
            ]
          },
          "metadata": {
            "tags": []
          }
        }
      ]
    },
    {
      "cell_type": "code",
      "metadata": {
        "colab": {
          "base_uri": "https://localhost:8080/",
          "height": 288
        },
        "id": "zZvtiqMzpDvV",
        "outputId": "5cbb2ddf-f915-4473-84ca-12aa63efdc94"
      },
      "source": [
        "# ntree=1100 으로 다시 모델링\n",
        "\n",
        "predict_value2 <- predict(random_remove, random_test, type = \"class\") %>% tibble(termDeposit = .)\n",
        "random_result2 <- DF_test %>% select(ID) %>% dplyr::bind_cols(., predict_value2)\n",
        "random_result2 %>% head(10)"
      ],
      "execution_count": 192,
      "outputs": [
        {
          "output_type": "display_data",
          "data": {
            "text/plain": [
              "   ID  termDeposit\n",
              "1  T1  no         \n",
              "2  T2  no         \n",
              "3  T3  yes        \n",
              "4  T4  yes        \n",
              "5  T5  no         \n",
              "6  T6  yes        \n",
              "7  T7  yes        \n",
              "8  T8  no         \n",
              "9  T9  no         \n",
              "10 T10 no         "
            ],
            "text/latex": "A tibble: 10 × 2\n\\begin{tabular}{ll}\n ID & termDeposit\\\\\n <chr> & <fct>\\\\\n\\hline\n\t T1  & no \\\\\n\t T2  & no \\\\\n\t T3  & yes\\\\\n\t T4  & yes\\\\\n\t T5  & no \\\\\n\t T6  & yes\\\\\n\t T7  & yes\\\\\n\t T8  & no \\\\\n\t T9  & no \\\\\n\t T10 & no \\\\\n\\end{tabular}\n",
            "text/markdown": "\nA tibble: 10 × 2\n\n| ID &lt;chr&gt; | termDeposit &lt;fct&gt; |\n|---|---|\n| T1  | no  |\n| T2  | no  |\n| T3  | yes |\n| T4  | yes |\n| T5  | no  |\n| T6  | yes |\n| T7  | yes |\n| T8  | no  |\n| T9  | no  |\n| T10 | no  |\n\n",
            "text/html": [
              "<table>\n",
              "<caption>A tibble: 10 × 2</caption>\n",
              "<thead>\n",
              "\t<tr><th scope=col>ID</th><th scope=col>termDeposit</th></tr>\n",
              "\t<tr><th scope=col>&lt;chr&gt;</th><th scope=col>&lt;fct&gt;</th></tr>\n",
              "</thead>\n",
              "<tbody>\n",
              "\t<tr><td>T1 </td><td>no </td></tr>\n",
              "\t<tr><td>T2 </td><td>no </td></tr>\n",
              "\t<tr><td>T3 </td><td>yes</td></tr>\n",
              "\t<tr><td>T4 </td><td>yes</td></tr>\n",
              "\t<tr><td>T5 </td><td>no </td></tr>\n",
              "\t<tr><td>T6 </td><td>yes</td></tr>\n",
              "\t<tr><td>T7 </td><td>yes</td></tr>\n",
              "\t<tr><td>T8 </td><td>no </td></tr>\n",
              "\t<tr><td>T9 </td><td>no </td></tr>\n",
              "\t<tr><td>T10</td><td>no </td></tr>\n",
              "</tbody>\n",
              "</table>\n"
            ]
          },
          "metadata": {
            "tags": []
          }
        }
      ]
    },
    {
      "cell_type": "code",
      "metadata": {
        "id": "wJL4ayskpN8t"
      },
      "source": [
        " random_result2 %>% write_csv(path = \"submission_random3.csv\")"
      ],
      "execution_count": 193,
      "outputs": []
    },
    {
      "cell_type": "markdown",
      "metadata": {
        "id": "6PmaXLukjgzs"
      },
      "source": [
        ""
      ]
    },
    {
      "cell_type": "markdown",
      "metadata": {
        "id": "SkW-ChgaOwbP"
      },
      "source": [
        "## 4. **Support Vector Machine**"
      ]
    },
    {
      "cell_type": "markdown",
      "metadata": {
        "id": "yUItpBUjRp4L"
      },
      "source": [
        "svm (서포트 벡터 머신)\n",
        "\n",
        "서포터 벡터 : 마진 안에있는 값\n",
        "\n",
        "분류를 위한 결정경계를 정의하는 모델로, 마진을 가장크게 가지는 서포트 벡터를 찾는것이 목표\n",
        "\n",
        "특성스케일에 영향 많이받아 정규화 해줘야함 -> svm에서 자체적으로 진행해줌 \n",
        "\n",
        "소프트마진 : 약간의 오분류를 허용하여 성능을 높인다. \n",
        "  <li>cost 증가 -> 마진 폭 좁아짐 -> 복잡도 증가\n",
        "  <li>cost 감소 -> 마진 폭 넓어짐  -> 복잡도 감소 \n",
        "\n",
        "커널트릭 종류 -> RBF 가장많이 사용 \n",
        "  <li>다항커널 (poly)\n",
        "  <li>가우시안커널( RBF) -> 디폴트\n",
        "  <li>sigmoid\n",
        "  <li>Linear\n",
        "\n",
        "gamma : 분산과 연관있는것으로, 간마가 커지면  분산 작아진다. -> 복잡도 증가(증가할수록 다차항이됨)\n",
        "\n",
        "적절한 cost와 gamma를 통해 마진을 가장크게 가지는 서포트 벡터를 찾아야 한다. \n",
        "\n",
        "\n",
        "\n",
        "  \n",
        "  "
      ]
    },
    {
      "cell_type": "code",
      "metadata": {
        "id": "HxWccznQOjmc"
      },
      "source": [
        "# 정규화 진행해 주는것이 좋다 . \n",
        "\n",
        "svm_train = DF_train_f\n",
        "svm_test = DF_test_f\n"
      ],
      "execution_count": 141,
      "outputs": []
    },
    {
      "cell_type": "code",
      "metadata": {
        "id": "rtKqTgOrQjMa"
      },
      "source": [
        "svm <- svm(formula = termDeposit ~ ., data = svm_train, type = \"C-classification\", kernel = \"radial\",\n",
        "               cost = 100, gamma = 0.1)\n"
      ],
      "execution_count": 143,
      "outputs": []
    },
    {
      "cell_type": "code",
      "metadata": {
        "id": "AUTTID4GOjox"
      },
      "source": [
        "# 오래걸림 \n",
        "# 가장 적합한 gamma와 cost를 구할 수 있다.\n",
        "\n",
        "# tuned <- tune.svm(termDeposit ~ ., data = svm_train, gamma = 10^(-6:1), cost = 1:100)# kernel= RBF 일때로 계산 \n",
        "# tune_summary <- summary(tuned)\n",
        "# tune_summary\n",
        "# best_parameter <- tune_summary$best.parameters\n",
        "# best_parameter # best_parameter[1,1] == gamma / best_parameter[1,2] == cost\n",
        "# svm_tune <- svm(termDeposit ~ ., data = svm_train, type = \"C-classification\", kernel = \"radial\",\n",
        "#  gamma = best_parameter[1,1], cost = best_parameter[1,2])"
      ],
      "execution_count": 144,
      "outputs": []
    },
    {
      "cell_type": "code",
      "metadata": {
        "id": "BRt6PdQ56Ql7"
      },
      "source": [
        "svm <- svm(formula = termDeposit ~ ., data = svm_train, type = \"C-classification\", kernel = \"radial\",\n",
        "               cost = 100, gamma = 0.1)\n",
        "svm"
      ],
      "execution_count": 146,
      "outputs": []
    },
    {
      "cell_type": "code",
      "metadata": {
        "colab": {
          "base_uri": "https://localhost:8080/",
          "height": 413
        },
        "id": "nwJR-haH6rk0",
        "outputId": "3862aece-0fb5-4e7b-9253-43006ee490bf"
      },
      "source": [
        "summary(svm)"
      ],
      "execution_count": 149,
      "outputs": [
        {
          "output_type": "display_data",
          "data": {
            "text/plain": [
              "\n",
              "Call:\n",
              "svm(formula = termDeposit ~ ., data = svm_train, type = \"C-classification\", \n",
              "    kernel = \"radial\", cost = 100, gamma = 0.1)\n",
              "\n",
              "\n",
              "Parameters:\n",
              "   SVM-Type:  C-classification \n",
              " SVM-Kernel:  radial \n",
              "       cost:  100 \n",
              "\n",
              "Number of Support Vectors:  3537\n",
              "\n",
              " ( 1549 1988 )\n",
              "\n",
              "\n",
              "Number of Classes:  2 \n",
              "\n",
              "Levels: \n",
              " no yes\n",
              "\n",
              "\n"
            ]
          },
          "metadata": {
            "tags": []
          }
        }
      ]
    },
    {
      "cell_type": "code",
      "metadata": {
        "id": "BiF1lJGa7VXT"
      },
      "source": [
        "# kaggle : 87.33%\n",
        "svm_tune <- svm(formula = termDeposit ~ ., data = svm_train, type = \"C-classification\", kernel = \"radial\",\n",
        "               cost = 100, gamma = 0.01)"
      ],
      "execution_count": null,
      "outputs": []
    },
    {
      "cell_type": "code",
      "metadata": {
        "id": "vGuBv9aD6b5n"
      },
      "source": [
        "# # kaggle : 86.52%\n",
        "# svm_tune <- svm(formula = termDeposit ~ ., data = svm_train, type = \"C-classification\", kernel = \"radial\",\n",
        "#                cost = 100, gamma = 0.001)\n",
        "# # kaggle : 87.33%\n",
        "# svm_tune <- svm(formula = termDeposit ~ ., data = svm_train, type = \"C-classification\", kernel = \"radial\",\n",
        "#                cost = 10, gamma = 0.01)\n",
        "# # kaggle : 87.24%\n",
        "# svm_tune <- svm(formula = termDeposit ~ ., d\n",
        "# ata = svm_train, type = \"C-classification\", kernel = \"radial\",\n",
        "#                cost = 50, gamma = 0.01)\n",
        "# # kaggle : 87.15%\n",
        "# svm_tune <- svm(formula = termDeposit ~ ., data = svm_train, type = \"C-classification\", kernel = \"radial\",\n",
        "#                cost = 5, gamma = 0.001)\n",
        "# # kaggle : 86.7%\n",
        "# svm_tune <- svm(formula = termDeposit ~ ., data = svm_train, type = \"C-classification\", kernel = \"radial\",\n",
        "#                cost = 15, gamma = 0.001)\n",
        "# # kaggle : 87.24%\n",
        "# svm_tune <- svm(formula = termDeposit ~ ., data = svm_train, type = \"C-classification\", kernel = \"radial\",\n",
        "#                cost = 20, gamma = 0.01)\n",
        "# # kaggle : 85.64%\n",
        "# svm_tune <- svm(formula = termDeposit ~ ., data = svm_train, type = \"C-classification\", kernel = \"radial\",\n",
        "#                cost = 1000, gamma = 0.01)                                                                           "
      ],
      "execution_count": 154,
      "outputs": []
    },
    {
      "cell_type": "markdown",
      "metadata": {
        "id": "p65htLob8npo"
      },
      "source": [
        ""
      ]
    },
    {
      "cell_type": "code",
      "metadata": {
        "id": "GqMbiQHCuhIj"
      },
      "source": [
        "\n",
        "common <- intersect(names(svm_train), names(svm_test)) \n",
        "for (p in common) { \n",
        "  if (class(svm_train[[p]]) == \"factor\") { \n",
        "    levels(svm_test[[p]]) <- levels(svm_train[[p]]) \n",
        "  } \n",
        "}"
      ],
      "execution_count": 147,
      "outputs": []
    },
    {
      "cell_type": "code",
      "metadata": {
        "colab": {
          "base_uri": "https://localhost:8080/",
          "height": 559
        },
        "id": "9mt89mmhQzZA",
        "outputId": "d9fb0eef-dc1a-4cb2-90bf-439dd8669865"
      },
      "source": [
        "\n",
        "# 기본 svm 저장 -> c=100, gammma=0.1\n",
        "predict_value1 <- predict(svm, svm_test) %>% tibble(termDeposit = .)\n",
        "submission1 <- DF_test %>% select(ID) %>% dplyr::bind_cols(., predict_value1)\n",
        "submission1 %>% head(10)\n",
        "\n",
        "# 가장 좋은 파라미터 저장 \n",
        "predict_value2 <- predict(svm_tune, svm_test) %>% tibble(termDeposit = .)\n",
        "submission2 <- DF_test %>% select(ID) %>% dplyr::bind_cols(., predict_value2)\n",
        "submission2 %>% head(10)"
      ],
      "execution_count": 178,
      "outputs": [
        {
          "output_type": "display_data",
          "data": {
            "text/plain": [
              "   ID  termDeposit\n",
              "1  T1  yes        \n",
              "2  T2  yes        \n",
              "3  T3  yes        \n",
              "4  T4  yes        \n",
              "5  T5  no         \n",
              "6  T6  no         \n",
              "7  T7  yes        \n",
              "8  T8  no         \n",
              "9  T9  no         \n",
              "10 T10 no         "
            ],
            "text/latex": "A tibble: 10 × 2\n\\begin{tabular}{ll}\n ID & termDeposit\\\\\n <chr> & <fct>\\\\\n\\hline\n\t T1  & yes\\\\\n\t T2  & yes\\\\\n\t T3  & yes\\\\\n\t T4  & yes\\\\\n\t T5  & no \\\\\n\t T6  & no \\\\\n\t T7  & yes\\\\\n\t T8  & no \\\\\n\t T9  & no \\\\\n\t T10 & no \\\\\n\\end{tabular}\n",
            "text/markdown": "\nA tibble: 10 × 2\n\n| ID &lt;chr&gt; | termDeposit &lt;fct&gt; |\n|---|---|\n| T1  | yes |\n| T2  | yes |\n| T3  | yes |\n| T4  | yes |\n| T5  | no  |\n| T6  | no  |\n| T7  | yes |\n| T8  | no  |\n| T9  | no  |\n| T10 | no  |\n\n",
            "text/html": [
              "<table>\n",
              "<caption>A tibble: 10 × 2</caption>\n",
              "<thead>\n",
              "\t<tr><th scope=col>ID</th><th scope=col>termDeposit</th></tr>\n",
              "\t<tr><th scope=col>&lt;chr&gt;</th><th scope=col>&lt;fct&gt;</th></tr>\n",
              "</thead>\n",
              "<tbody>\n",
              "\t<tr><td>T1 </td><td>yes</td></tr>\n",
              "\t<tr><td>T2 </td><td>yes</td></tr>\n",
              "\t<tr><td>T3 </td><td>yes</td></tr>\n",
              "\t<tr><td>T4 </td><td>yes</td></tr>\n",
              "\t<tr><td>T5 </td><td>no </td></tr>\n",
              "\t<tr><td>T6 </td><td>no </td></tr>\n",
              "\t<tr><td>T7 </td><td>yes</td></tr>\n",
              "\t<tr><td>T8 </td><td>no </td></tr>\n",
              "\t<tr><td>T9 </td><td>no </td></tr>\n",
              "\t<tr><td>T10</td><td>no </td></tr>\n",
              "</tbody>\n",
              "</table>\n"
            ]
          },
          "metadata": {
            "tags": []
          }
        },
        {
          "output_type": "display_data",
          "data": {
            "text/plain": [
              "   ID  termDeposit\n",
              "1  T1  no         \n",
              "2  T2  yes        \n",
              "3  T3  yes        \n",
              "4  T4  yes        \n",
              "5  T5  no         \n",
              "6  T6  no         \n",
              "7  T7  yes        \n",
              "8  T8  no         \n",
              "9  T9  yes        \n",
              "10 T10 no         "
            ],
            "text/latex": "A tibble: 10 × 2\n\\begin{tabular}{ll}\n ID & termDeposit\\\\\n <chr> & <fct>\\\\\n\\hline\n\t T1  & no \\\\\n\t T2  & yes\\\\\n\t T3  & yes\\\\\n\t T4  & yes\\\\\n\t T5  & no \\\\\n\t T6  & no \\\\\n\t T7  & yes\\\\\n\t T8  & no \\\\\n\t T9  & yes\\\\\n\t T10 & no \\\\\n\\end{tabular}\n",
            "text/markdown": "\nA tibble: 10 × 2\n\n| ID &lt;chr&gt; | termDeposit &lt;fct&gt; |\n|---|---|\n| T1  | no  |\n| T2  | yes |\n| T3  | yes |\n| T4  | yes |\n| T5  | no  |\n| T6  | no  |\n| T7  | yes |\n| T8  | no  |\n| T9  | yes |\n| T10 | no  |\n\n",
            "text/html": [
              "<table>\n",
              "<caption>A tibble: 10 × 2</caption>\n",
              "<thead>\n",
              "\t<tr><th scope=col>ID</th><th scope=col>termDeposit</th></tr>\n",
              "\t<tr><th scope=col>&lt;chr&gt;</th><th scope=col>&lt;fct&gt;</th></tr>\n",
              "</thead>\n",
              "<tbody>\n",
              "\t<tr><td>T1 </td><td>no </td></tr>\n",
              "\t<tr><td>T2 </td><td>yes</td></tr>\n",
              "\t<tr><td>T3 </td><td>yes</td></tr>\n",
              "\t<tr><td>T4 </td><td>yes</td></tr>\n",
              "\t<tr><td>T5 </td><td>no </td></tr>\n",
              "\t<tr><td>T6 </td><td>no </td></tr>\n",
              "\t<tr><td>T7 </td><td>yes</td></tr>\n",
              "\t<tr><td>T8 </td><td>no </td></tr>\n",
              "\t<tr><td>T9 </td><td>yes</td></tr>\n",
              "\t<tr><td>T10</td><td>no </td></tr>\n",
              "</tbody>\n",
              "</table>\n"
            ]
          },
          "metadata": {
            "tags": []
          }
        }
      ]
    },
    {
      "cell_type": "code",
      "metadata": {
        "id": "oVHU2UzxQzWB"
      },
      "source": [
        "submission1 %>% write_csv(path = \"submission_svm1.csv\")\n",
        "submission2 %>% write_csv(path = \"submission_svm2.csv\")\n"
      ],
      "execution_count": 179,
      "outputs": []
    },
    {
      "cell_type": "code",
      "metadata": {
        "id": "s3fc-spwQzS0"
      },
      "source": [
        ""
      ],
      "execution_count": null,
      "outputs": []
    }
  ]
}