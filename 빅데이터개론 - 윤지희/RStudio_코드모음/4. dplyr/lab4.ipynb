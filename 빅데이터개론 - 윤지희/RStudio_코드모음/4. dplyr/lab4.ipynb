{
  "nbformat": 4,
  "nbformat_minor": 0,
  "metadata": {
    "colab": {
      "name": "lab4.ipynb",
      "provenance": [],
      "collapsed_sections": [
        "nWc1OkJMOOpL",
        "-JT-e47Yu5nd",
        "QvJeTokHhogT",
        "rV6esnV6k_O7",
        "pJf7pOXfq07E"
      ]
    },
    "kernelspec": {
      "name": "ir",
      "display_name": "R"
    }
  },
  "cells": [
    {
      "cell_type": "markdown",
      "metadata": {
        "id": "NqwIc2xhQqLu",
        "colab_type": "text"
      },
      "source": [
        "# *빅데이터 개론 4주차 실습!*\n",
        "\n",
        "- - -\n",
        "\n",
        "## ``dpylr`` package"
      ]
    },
    {
      "cell_type": "markdown",
      "metadata": {
        "id": "nWc1OkJMOOpL",
        "colab_type": "text"
      },
      "source": [
        "##1. dplyr(``%>%, select, filter, groupby, summarize``)\n",
        "\n",
        "- - -\n",
        "\n",
        "dplyr 패키지는 Hadley Wickham가 작성한 데이터 처리에 특화된 R 패키지입니다. 이 분이 지금까지 작성한 유명한 R 패키지로는 ggplot2, plyr, reshape2등이 있으며 이미 많은 분들이 사용하고 있으리라 생각합니다.\n",
        "\n",
        "데이터 처리에 특화된 유용한 패키지로는 역시 Hadley Wickham이 만든 plyr이라는 패키지가 있었습니다. 그러나 ``plyr은 편리하긴 했지만 모든 함수가 R로 작성되어서 처리 속도가 느리다는 단점``이 있었습니다. 이에 반해 ``dplyr은 C++로 작성되어 불필요한 함수를 불러오지 않기 때문에 매우 빠른 처리 속도를 자랑``합니다.\n",
        "\n",
        "dplyr 패키지는 데이터 프레임을 처리하는 함수군으로 구성되어 있습니다. 하지만 그 밖에도 다음 형식의 데이터를 이용할 수 있습니다.\n",
        "\n",
        "* data.table : data.table 패키지와 사용\n",
        "* 각종 데이터베이스 : 현재 MySQL, PostgreSQL, SQLite, BigQuery를 지원\n",
        "* 데이터 큐브 : dplyr 패키지 내부에 실험적으로 내장됨"
      ]
    },
    {
      "cell_type": "code",
      "metadata": {
        "id": "9IJu91upOV_v",
        "colab_type": "code",
        "colab": {
          "base_uri": "https://localhost:8080/",
          "height": 459
        },
        "outputId": "af9271fa-fa5b-4f23-cee2-c203fdf53772"
      },
      "source": [
        "install.packages(\"data.table\")\n",
        "install.packages(\"tidyverse\")\n",
        "\n",
        "library(tidyverse) # or library(dplyr)\n",
        "library(data.table)"
      ],
      "execution_count": null,
      "outputs": [
        {
          "output_type": "stream",
          "text": [
            "Installing package into ‘/usr/local/lib/R/site-library’\n",
            "(as ‘lib’ is unspecified)\n",
            "\n",
            "\n",
            "Attaching package: ‘dplyr’\n",
            "\n",
            "\n",
            "The following objects are masked from ‘package:stats’:\n",
            "\n",
            "    filter, lag\n",
            "\n",
            "\n",
            "The following objects are masked from ‘package:base’:\n",
            "\n",
            "    intersect, setdiff, setequal, union\n",
            "\n",
            "\n",
            "\n",
            "Attaching package: ‘data.table’\n",
            "\n",
            "\n",
            "The following objects are masked from ‘package:dplyr’:\n",
            "\n",
            "    between, first, last\n",
            "\n",
            "\n"
          ],
          "name": "stderr"
        }
      ]
    },
    {
      "cell_type": "code",
      "metadata": {
        "id": "FQAGRujvYZD9",
        "colab_type": "code",
        "colab": {
          "base_uri": "https://localhost:8080/",
          "height": 306
        },
        "outputId": "dcbe9ccf-6d47-46f8-b619-78db32c02ea1"
      },
      "source": [
        "#https://gomguard.tistory.com/243\n",
        "DF <- fread(\"ftp://210.115.229.94/2020_datascience/6th_data/Pre_Season_Batter.csv\", header = T, encoding = \"UTF-8\") %>%\n",
        "  as_tibble()"
      ],
      "execution_count": null,
      "outputs": [
        {
          "output_type": "stream",
          "text": [
            "\u001b[90m# A tibble: 1,393 x 29\u001b[39m\n",
            "   batter_id batter_name  year team  avg       G    AB     R     H  `2B`  `3B`\n",
            "       \u001b[3m\u001b[90m<int>\u001b[39m\u001b[23m \u001b[3m\u001b[90m<chr>\u001b[39m\u001b[23m       \u001b[3m\u001b[90m<int>\u001b[39m\u001b[23m \u001b[3m\u001b[90m<chr>\u001b[39m\u001b[23m \u001b[3m\u001b[90m<chr>\u001b[39m\u001b[23m \u001b[3m\u001b[90m<int>\u001b[39m\u001b[23m \u001b[3m\u001b[90m<int>\u001b[39m\u001b[23m \u001b[3m\u001b[90m<int>\u001b[39m\u001b[23m \u001b[3m\u001b[90m<int>\u001b[39m\u001b[23m \u001b[3m\u001b[90m<int>\u001b[39m\u001b[23m \u001b[3m\u001b[90m<int>\u001b[39m\u001b[23m\n",
            "\u001b[90m 1\u001b[39m         0 가르시아     \u001b[4m2\u001b[24m018 LG    0.350     7    20     1     7     1     0\n",
            "\u001b[90m 2\u001b[39m         1 강경학       \u001b[4m2\u001b[24m011 한화  0.000     4     2     2     0     0     0\n",
            "\u001b[90m 3\u001b[39m         1 강경학       \u001b[4m2\u001b[24m014 한화  -         4     0     2     0     0     0\n",
            "\u001b[90m 4\u001b[39m         1 강경학       \u001b[4m2\u001b[24m015 한화  0.130    10    23     3     3     0     0\n",
            "\u001b[90m 5\u001b[39m         1 강경학       \u001b[4m2\u001b[24m016 한화  0.188    14    32     4     6     1     1\n",
            "\u001b[90m 6\u001b[39m         1 강경학       \u001b[4m2\u001b[24m017 한화  0.222    11    36    10     8     0     0\n",
            "\u001b[90m 7\u001b[39m         2 강구성       \u001b[4m2\u001b[24m013 NC    0.000     3     4     0     0     0     0\n",
            "\u001b[90m 8\u001b[39m         2 강구성       \u001b[4m2\u001b[24m016 NC    0.000     3     1     0     0     0     0\n",
            "\u001b[90m 9\u001b[39m         2 강구성       \u001b[4m2\u001b[24m017 NC    1.000     2     1     0     1     0     0\n",
            "\u001b[90m10\u001b[39m        69 김태완       \u001b[4m2\u001b[24m006 한화  0.200    10    15     0     3     0     0\n",
            "\u001b[90m# … with 1,383 more rows, and 18 more variables: HR \u001b[3m\u001b[90m<int>\u001b[90m\u001b[23m, TB \u001b[3m\u001b[90m<int>\u001b[90m\u001b[23m, RBI \u001b[3m\u001b[90m<int>\u001b[90m\u001b[23m,\u001b[39m\n",
            "\u001b[90m#   SB \u001b[3m\u001b[90m<int>\u001b[90m\u001b[23m, CS \u001b[3m\u001b[90m<int>\u001b[90m\u001b[23m, BB \u001b[3m\u001b[90m<int>\u001b[90m\u001b[23m, HBP \u001b[3m\u001b[90m<int>\u001b[90m\u001b[23m, SO \u001b[3m\u001b[90m<int>\u001b[90m\u001b[23m, GDP \u001b[3m\u001b[90m<int>\u001b[90m\u001b[23m, SLG \u001b[3m\u001b[90m<dbl>\u001b[90m\u001b[23m,\u001b[39m\n",
            "\u001b[90m#   OBP \u001b[3m\u001b[90m<dbl>\u001b[90m\u001b[23m, E \u001b[3m\u001b[90m<int>\u001b[90m\u001b[23m, `height/weight` \u001b[3m\u001b[90m<chr>\u001b[90m\u001b[23m, year_born \u001b[3m\u001b[90m<chr>\u001b[90m\u001b[23m, position \u001b[3m\u001b[90m<chr>\u001b[90m\u001b[23m,\u001b[39m\n",
            "\u001b[90m#   career \u001b[3m\u001b[90m<chr>\u001b[90m\u001b[23m, starting_salary \u001b[3m\u001b[90m<chr>\u001b[90m\u001b[23m, OPS \u001b[3m\u001b[90m<dbl>\u001b[90m\u001b[23m\u001b[39m\n"
          ],
          "name": "stdout"
        }
      ]
    },
    {
      "cell_type": "markdown",
      "metadata": {
        "id": "z1o0mV3dYWIO",
        "colab_type": "text"
      },
      "source": [
        "* select"
      ]
    },
    {
      "cell_type": "code",
      "metadata": {
        "id": "nEwNYt1IZNcq",
        "colab_type": "code",
        "colab": {
          "base_uri": "https://localhost:8080/",
          "height": 255
        },
        "outputId": "bf2a6a5b-d55f-409f-c952-2a8e2b444fad"
      },
      "source": [
        "# base R\n",
        "DF[, c(\"batter_name\", \"team\")] %>% show()"
      ],
      "execution_count": null,
      "outputs": [
        {
          "output_type": "stream",
          "text": [
            "\u001b[90m# A tibble: 1,393 x 2\u001b[39m\n",
            "   batter_name team \n",
            "   \u001b[3m\u001b[90m<chr>\u001b[39m\u001b[23m       \u001b[3m\u001b[90m<chr>\u001b[39m\u001b[23m\n",
            "\u001b[90m 1\u001b[39m 가르시아    LG   \n",
            "\u001b[90m 2\u001b[39m 강경학      한화 \n",
            "\u001b[90m 3\u001b[39m 강경학      한화 \n",
            "\u001b[90m 4\u001b[39m 강경학      한화 \n",
            "\u001b[90m 5\u001b[39m 강경학      한화 \n",
            "\u001b[90m 6\u001b[39m 강경학      한화 \n",
            "\u001b[90m 7\u001b[39m 강구성      NC   \n",
            "\u001b[90m 8\u001b[39m 강구성      NC   \n",
            "\u001b[90m 9\u001b[39m 강구성      NC   \n",
            "\u001b[90m10\u001b[39m 김태완      한화 \n",
            "\u001b[90m# … with 1,383 more rows\u001b[39m\n"
          ],
          "name": "stdout"
        }
      ]
    },
    {
      "cell_type": "code",
      "metadata": {
        "id": "1i7XycuFad7M",
        "colab_type": "code",
        "colab": {
          "base_uri": "https://localhost:8080/",
          "height": 255
        },
        "outputId": "41eebac0-b496-4f22-b346-194fb7e2a3a4"
      },
      "source": [
        "# dplyr\n",
        "DF %>% select(., batter_name, team) %>% show()"
      ],
      "execution_count": null,
      "outputs": [
        {
          "output_type": "stream",
          "text": [
            "\u001b[90m# A tibble: 1,393 x 2\u001b[39m\n",
            "   batter_name team \n",
            "   \u001b[3m\u001b[90m<chr>\u001b[39m\u001b[23m       \u001b[3m\u001b[90m<chr>\u001b[39m\u001b[23m\n",
            "\u001b[90m 1\u001b[39m 가르시아    LG   \n",
            "\u001b[90m 2\u001b[39m 강경학      한화 \n",
            "\u001b[90m 3\u001b[39m 강경학      한화 \n",
            "\u001b[90m 4\u001b[39m 강경학      한화 \n",
            "\u001b[90m 5\u001b[39m 강경학      한화 \n",
            "\u001b[90m 6\u001b[39m 강경학      한화 \n",
            "\u001b[90m 7\u001b[39m 강구성      NC   \n",
            "\u001b[90m 8\u001b[39m 강구성      NC   \n",
            "\u001b[90m 9\u001b[39m 강구성      NC   \n",
            "\u001b[90m10\u001b[39m 김태완      한화 \n",
            "\u001b[90m# … with 1,383 more rows\u001b[39m\n"
          ],
          "name": "stdout"
        }
      ]
    },
    {
      "cell_type": "code",
      "metadata": {
        "id": "qwAt20hJccRV",
        "colab_type": "code",
        "colab": {
          "base_uri": "https://localhost:8080/",
          "height": 306
        },
        "outputId": "396078b4-c9ed-441b-b932-785a62340d3d"
      },
      "source": [
        "DF %>% select(., -batter_name, -team) %>% show()"
      ],
      "execution_count": null,
      "outputs": [
        {
          "output_type": "stream",
          "text": [
            "\u001b[90m# A tibble: 1,393 x 27\u001b[39m\n",
            "   batter_id  year avg       G    AB     R     H  `2B`  `3B`    HR    TB   RBI\n",
            "       \u001b[3m\u001b[90m<int>\u001b[39m\u001b[23m \u001b[3m\u001b[90m<int>\u001b[39m\u001b[23m \u001b[3m\u001b[90m<chr>\u001b[39m\u001b[23m \u001b[3m\u001b[90m<int>\u001b[39m\u001b[23m \u001b[3m\u001b[90m<int>\u001b[39m\u001b[23m \u001b[3m\u001b[90m<int>\u001b[39m\u001b[23m \u001b[3m\u001b[90m<int>\u001b[39m\u001b[23m \u001b[3m\u001b[90m<int>\u001b[39m\u001b[23m \u001b[3m\u001b[90m<int>\u001b[39m\u001b[23m \u001b[3m\u001b[90m<int>\u001b[39m\u001b[23m \u001b[3m\u001b[90m<int>\u001b[39m\u001b[23m \u001b[3m\u001b[90m<int>\u001b[39m\u001b[23m\n",
            "\u001b[90m 1\u001b[39m         0  \u001b[4m2\u001b[24m018 0.350     7    20     1     7     1     0     1    11     5\n",
            "\u001b[90m 2\u001b[39m         1  \u001b[4m2\u001b[24m011 0.000     4     2     2     0     0     0     0     0     1\n",
            "\u001b[90m 3\u001b[39m         1  \u001b[4m2\u001b[24m014 -         4     0     2     0     0     0     0     0     0\n",
            "\u001b[90m 4\u001b[39m         1  \u001b[4m2\u001b[24m015 0.130    10    23     3     3     0     0     0     3     1\n",
            "\u001b[90m 5\u001b[39m         1  \u001b[4m2\u001b[24m016 0.188    14    32     4     6     1     1     0     9     2\n",
            "\u001b[90m 6\u001b[39m         1  \u001b[4m2\u001b[24m017 0.222    11    36    10     8     0     0     2    14     4\n",
            "\u001b[90m 7\u001b[39m         2  \u001b[4m2\u001b[24m013 0.000     3     4     0     0     0     0     0     0     0\n",
            "\u001b[90m 8\u001b[39m         2  \u001b[4m2\u001b[24m016 0.000     3     1     0     0     0     0     0     0     0\n",
            "\u001b[90m 9\u001b[39m         2  \u001b[4m2\u001b[24m017 1.000     2     1     0     1     0     0     0     1     0\n",
            "\u001b[90m10\u001b[39m        69  \u001b[4m2\u001b[24m006 0.200    10    15     0     3     0     0     0     3     3\n",
            "\u001b[90m# … with 1,383 more rows, and 15 more variables: SB \u001b[3m\u001b[90m<int>\u001b[90m\u001b[23m, CS \u001b[3m\u001b[90m<int>\u001b[90m\u001b[23m, BB \u001b[3m\u001b[90m<int>\u001b[90m\u001b[23m,\u001b[39m\n",
            "\u001b[90m#   HBP \u001b[3m\u001b[90m<int>\u001b[90m\u001b[23m, SO \u001b[3m\u001b[90m<int>\u001b[90m\u001b[23m, GDP \u001b[3m\u001b[90m<int>\u001b[90m\u001b[23m, SLG \u001b[3m\u001b[90m<dbl>\u001b[90m\u001b[23m, OBP \u001b[3m\u001b[90m<dbl>\u001b[90m\u001b[23m, E \u001b[3m\u001b[90m<int>\u001b[90m\u001b[23m,\u001b[39m\n",
            "\u001b[90m#   `height/weight` \u001b[3m\u001b[90m<chr>\u001b[90m\u001b[23m, year_born \u001b[3m\u001b[90m<chr>\u001b[90m\u001b[23m, position \u001b[3m\u001b[90m<chr>\u001b[90m\u001b[23m, career \u001b[3m\u001b[90m<chr>\u001b[90m\u001b[23m,\u001b[39m\n",
            "\u001b[90m#   starting_salary \u001b[3m\u001b[90m<chr>\u001b[90m\u001b[23m, OPS \u001b[3m\u001b[90m<dbl>\u001b[90m\u001b[23m\u001b[39m\n"
          ],
          "name": "stdout"
        }
      ]
    },
    {
      "cell_type": "code",
      "metadata": {
        "id": "F7NFRVs2amN2",
        "colab_type": "code",
        "colab": {
          "base_uri": "https://localhost:8080/",
          "height": 255
        },
        "outputId": "f8777e6f-dd64-4b00-d1d1-bf50cbd22a72"
      },
      "source": [
        "DF %>% select(., 이름 = batter_name, 팀 = team) %>% show()"
      ],
      "execution_count": null,
      "outputs": [
        {
          "output_type": "stream",
          "text": [
            "\u001b[90m# A tibble: 1,393 x 2\u001b[39m\n",
            "   이름     팀   \n",
            "   \u001b[3m\u001b[90m<chr>\u001b[39m\u001b[23m    \u001b[3m\u001b[90m<chr>\u001b[39m\u001b[23m\n",
            "\u001b[90m 1\u001b[39m 가르시아 LG   \n",
            "\u001b[90m 2\u001b[39m 강경학   한화 \n",
            "\u001b[90m 3\u001b[39m 강경학   한화 \n",
            "\u001b[90m 4\u001b[39m 강경학   한화 \n",
            "\u001b[90m 5\u001b[39m 강경학   한화 \n",
            "\u001b[90m 6\u001b[39m 강경학   한화 \n",
            "\u001b[90m 7\u001b[39m 강구성   NC   \n",
            "\u001b[90m 8\u001b[39m 강구성   NC   \n",
            "\u001b[90m 9\u001b[39m 강구성   NC   \n",
            "\u001b[90m10\u001b[39m 김태완   한화 \n",
            "\u001b[90m# … with 1,383 more rows\u001b[39m\n"
          ],
          "name": "stdout"
        }
      ]
    },
    {
      "cell_type": "markdown",
      "metadata": {
        "id": "crvXVsrMdRuJ",
        "colab_type": "text"
      },
      "source": [
        "* filter --> `Extract rows that meet logical\n",
        "criteria`"
      ]
    },
    {
      "cell_type": "code",
      "metadata": {
        "id": "CbueMBl7cFx4",
        "colab_type": "code",
        "colab": {
          "base_uri": "https://localhost:8080/",
          "height": 306
        },
        "outputId": "bb5b2655-1ec3-4c99-9e99-7b5ef6ea863d"
      },
      "source": [
        "# base R\n",
        "DF[DF$team == \"한화\", ] %>% show()"
      ],
      "execution_count": null,
      "outputs": [
        {
          "output_type": "stream",
          "text": [
            "\u001b[90m# A tibble: 131 x 29\u001b[39m\n",
            "   batter_id batter_name  year team  avg       G    AB     R     H  `2B`  `3B`\n",
            "       \u001b[3m\u001b[90m<int>\u001b[39m\u001b[23m \u001b[3m\u001b[90m<chr>\u001b[39m\u001b[23m       \u001b[3m\u001b[90m<int>\u001b[39m\u001b[23m \u001b[3m\u001b[90m<chr>\u001b[39m\u001b[23m \u001b[3m\u001b[90m<chr>\u001b[39m\u001b[23m \u001b[3m\u001b[90m<int>\u001b[39m\u001b[23m \u001b[3m\u001b[90m<int>\u001b[39m\u001b[23m \u001b[3m\u001b[90m<int>\u001b[39m\u001b[23m \u001b[3m\u001b[90m<int>\u001b[39m\u001b[23m \u001b[3m\u001b[90m<int>\u001b[39m\u001b[23m \u001b[3m\u001b[90m<int>\u001b[39m\u001b[23m\n",
            "\u001b[90m 1\u001b[39m         1 강경학       \u001b[4m2\u001b[24m011 한화  0.000     4     2     2     0     0     0\n",
            "\u001b[90m 2\u001b[39m         1 강경학       \u001b[4m2\u001b[24m014 한화  -         4     0     2     0     0     0\n",
            "\u001b[90m 3\u001b[39m         1 강경학       \u001b[4m2\u001b[24m015 한화  0.130    10    23     3     3     0     0\n",
            "\u001b[90m 4\u001b[39m         1 강경학       \u001b[4m2\u001b[24m016 한화  0.188    14    32     4     6     1     1\n",
            "\u001b[90m 5\u001b[39m         1 강경학       \u001b[4m2\u001b[24m017 한화  0.222    11    36    10     8     0     0\n",
            "\u001b[90m 6\u001b[39m        69 김태완       \u001b[4m2\u001b[24m006 한화  0.200    10    15     0     3     0     0\n",
            "\u001b[90m 7\u001b[39m        69 김태완       \u001b[4m2\u001b[24m007 한화  0.318     8    22     4     7     3     0\n",
            "\u001b[90m 8\u001b[39m        69 김태완       \u001b[4m2\u001b[24m008 한화  0.375    10    24     3     9     1     0\n",
            "\u001b[90m 9\u001b[39m        69 김태완       \u001b[4m2\u001b[24m009 한화  0.320    10    25     5     8     3     0\n",
            "\u001b[90m10\u001b[39m        69 김태완       \u001b[4m2\u001b[24m010 한화  0.400     2     5     2     2     0     1\n",
            "\u001b[90m# … with 121 more rows, and 18 more variables: HR \u001b[3m\u001b[90m<int>\u001b[90m\u001b[23m, TB \u001b[3m\u001b[90m<int>\u001b[90m\u001b[23m, RBI \u001b[3m\u001b[90m<int>\u001b[90m\u001b[23m,\u001b[39m\n",
            "\u001b[90m#   SB \u001b[3m\u001b[90m<int>\u001b[90m\u001b[23m, CS \u001b[3m\u001b[90m<int>\u001b[90m\u001b[23m, BB \u001b[3m\u001b[90m<int>\u001b[90m\u001b[23m, HBP \u001b[3m\u001b[90m<int>\u001b[90m\u001b[23m, SO \u001b[3m\u001b[90m<int>\u001b[90m\u001b[23m, GDP \u001b[3m\u001b[90m<int>\u001b[90m\u001b[23m, SLG \u001b[3m\u001b[90m<dbl>\u001b[90m\u001b[23m,\u001b[39m\n",
            "\u001b[90m#   OBP \u001b[3m\u001b[90m<dbl>\u001b[90m\u001b[23m, E \u001b[3m\u001b[90m<int>\u001b[90m\u001b[23m, `height/weight` \u001b[3m\u001b[90m<chr>\u001b[90m\u001b[23m, year_born \u001b[3m\u001b[90m<chr>\u001b[90m\u001b[23m, position \u001b[3m\u001b[90m<chr>\u001b[90m\u001b[23m,\u001b[39m\n",
            "\u001b[90m#   career \u001b[3m\u001b[90m<chr>\u001b[90m\u001b[23m, starting_salary \u001b[3m\u001b[90m<chr>\u001b[90m\u001b[23m, OPS \u001b[3m\u001b[90m<dbl>\u001b[90m\u001b[23m\u001b[39m\n"
          ],
          "name": "stdout"
        }
      ]
    },
    {
      "cell_type": "code",
      "metadata": {
        "id": "R2mAQ1NnkMmH",
        "colab_type": "code",
        "colab": {
          "base_uri": "https://localhost:8080/",
          "height": 306
        },
        "outputId": "9bd2fc13-52f3-4ca8-a8c3-c2ecc7f07b9c"
      },
      "source": [
        "# dplyr filter\n",
        "DF %>% filter(., team == \"한화\") %>% show()"
      ],
      "execution_count": null,
      "outputs": [
        {
          "output_type": "stream",
          "text": [
            "\u001b[90m# A tibble: 131 x 29\u001b[39m\n",
            "   batter_id batter_name  year team  avg       G    AB     R     H  `2B`  `3B`\n",
            "       \u001b[3m\u001b[90m<int>\u001b[39m\u001b[23m \u001b[3m\u001b[90m<chr>\u001b[39m\u001b[23m       \u001b[3m\u001b[90m<int>\u001b[39m\u001b[23m \u001b[3m\u001b[90m<chr>\u001b[39m\u001b[23m \u001b[3m\u001b[90m<chr>\u001b[39m\u001b[23m \u001b[3m\u001b[90m<int>\u001b[39m\u001b[23m \u001b[3m\u001b[90m<int>\u001b[39m\u001b[23m \u001b[3m\u001b[90m<int>\u001b[39m\u001b[23m \u001b[3m\u001b[90m<int>\u001b[39m\u001b[23m \u001b[3m\u001b[90m<int>\u001b[39m\u001b[23m \u001b[3m\u001b[90m<int>\u001b[39m\u001b[23m\n",
            "\u001b[90m 1\u001b[39m         1 강경학       \u001b[4m2\u001b[24m011 한화  0.000     4     2     2     0     0     0\n",
            "\u001b[90m 2\u001b[39m         1 강경학       \u001b[4m2\u001b[24m014 한화  -         4     0     2     0     0     0\n",
            "\u001b[90m 3\u001b[39m         1 강경학       \u001b[4m2\u001b[24m015 한화  0.130    10    23     3     3     0     0\n",
            "\u001b[90m 4\u001b[39m         1 강경학       \u001b[4m2\u001b[24m016 한화  0.188    14    32     4     6     1     1\n",
            "\u001b[90m 5\u001b[39m         1 강경학       \u001b[4m2\u001b[24m017 한화  0.222    11    36    10     8     0     0\n",
            "\u001b[90m 6\u001b[39m        69 김태완       \u001b[4m2\u001b[24m006 한화  0.200    10    15     0     3     0     0\n",
            "\u001b[90m 7\u001b[39m        69 김태완       \u001b[4m2\u001b[24m007 한화  0.318     8    22     4     7     3     0\n",
            "\u001b[90m 8\u001b[39m        69 김태완       \u001b[4m2\u001b[24m008 한화  0.375    10    24     3     9     1     0\n",
            "\u001b[90m 9\u001b[39m        69 김태완       \u001b[4m2\u001b[24m009 한화  0.320    10    25     5     8     3     0\n",
            "\u001b[90m10\u001b[39m        69 김태완       \u001b[4m2\u001b[24m010 한화  0.400     2     5     2     2     0     1\n",
            "\u001b[90m# … with 121 more rows, and 18 more variables: HR \u001b[3m\u001b[90m<int>\u001b[90m\u001b[23m, TB \u001b[3m\u001b[90m<int>\u001b[90m\u001b[23m, RBI \u001b[3m\u001b[90m<int>\u001b[90m\u001b[23m,\u001b[39m\n",
            "\u001b[90m#   SB \u001b[3m\u001b[90m<int>\u001b[90m\u001b[23m, CS \u001b[3m\u001b[90m<int>\u001b[90m\u001b[23m, BB \u001b[3m\u001b[90m<int>\u001b[90m\u001b[23m, HBP \u001b[3m\u001b[90m<int>\u001b[90m\u001b[23m, SO \u001b[3m\u001b[90m<int>\u001b[90m\u001b[23m, GDP \u001b[3m\u001b[90m<int>\u001b[90m\u001b[23m, SLG \u001b[3m\u001b[90m<dbl>\u001b[90m\u001b[23m,\u001b[39m\n",
            "\u001b[90m#   OBP \u001b[3m\u001b[90m<dbl>\u001b[90m\u001b[23m, E \u001b[3m\u001b[90m<int>\u001b[90m\u001b[23m, `height/weight` \u001b[3m\u001b[90m<chr>\u001b[90m\u001b[23m, year_born \u001b[3m\u001b[90m<chr>\u001b[90m\u001b[23m, position \u001b[3m\u001b[90m<chr>\u001b[90m\u001b[23m,\u001b[39m\n",
            "\u001b[90m#   career \u001b[3m\u001b[90m<chr>\u001b[90m\u001b[23m, starting_salary \u001b[3m\u001b[90m<chr>\u001b[90m\u001b[23m, OPS \u001b[3m\u001b[90m<dbl>\u001b[90m\u001b[23m\u001b[39m\n"
          ],
          "name": "stdout"
        }
      ]
    },
    {
      "cell_type": "code",
      "metadata": {
        "id": "AyPFNMeckWJw",
        "colab_type": "code",
        "colab": {}
      },
      "source": [
        ""
      ],
      "execution_count": null,
      "outputs": []
    },
    {
      "cell_type": "code",
      "metadata": {
        "id": "EyjxakwjegnA",
        "colab_type": "code",
        "colab": {
          "base_uri": "https://localhost:8080/",
          "height": 255
        },
        "outputId": "5ccf81e9-59cf-4a0b-deea-14fb3c7eabd1"
      },
      "source": [
        "# base R\n",
        "DF[DF$team == \"한화\" & DF$G >= 5, c(\"team\",\"batter_name\", \"G\", \"AB\")] %>% show()"
      ],
      "execution_count": null,
      "outputs": [
        {
          "output_type": "stream",
          "text": [
            "\u001b[90m# A tibble: 104 x 4\u001b[39m\n",
            "   team  batter_name     G    AB\n",
            "   \u001b[3m\u001b[90m<chr>\u001b[39m\u001b[23m \u001b[3m\u001b[90m<chr>\u001b[39m\u001b[23m       \u001b[3m\u001b[90m<int>\u001b[39m\u001b[23m \u001b[3m\u001b[90m<int>\u001b[39m\u001b[23m\n",
            "\u001b[90m 1\u001b[39m 한화  강경학         10    23\n",
            "\u001b[90m 2\u001b[39m 한화  강경학         14    32\n",
            "\u001b[90m 3\u001b[39m 한화  강경학         11    36\n",
            "\u001b[90m 4\u001b[39m 한화  김태완         10    15\n",
            "\u001b[90m 5\u001b[39m 한화  김태완          8    22\n",
            "\u001b[90m 6\u001b[39m 한화  김태완         10    24\n",
            "\u001b[90m 7\u001b[39m 한화  김태완         10    25\n",
            "\u001b[90m 8\u001b[39m 한화  김태완          9    28\n",
            "\u001b[90m 9\u001b[39m 한화  김태완         10    16\n",
            "\u001b[90m10\u001b[39m 한화  강상원          6     0\n",
            "\u001b[90m# … with 94 more rows\u001b[39m\n"
          ],
          "name": "stdout"
        }
      ]
    },
    {
      "cell_type": "code",
      "metadata": {
        "id": "nzfmJALdglbO",
        "colab_type": "code",
        "colab": {
          "base_uri": "https://localhost:8080/",
          "height": 255
        },
        "outputId": "e467e9f5-3d96-41f1-d475-d8d570e02790"
      },
      "source": [
        "DF %>% filter(., team == \"한화\" & G >=5) %>% \n",
        " select(., team, batter_name, G, AB) %>% show()"
      ],
      "execution_count": null,
      "outputs": [
        {
          "output_type": "stream",
          "text": [
            "\u001b[90m# A tibble: 104 x 4\u001b[39m\n",
            "   team  batter_name     G    AB\n",
            "   \u001b[3m\u001b[90m<chr>\u001b[39m\u001b[23m \u001b[3m\u001b[90m<chr>\u001b[39m\u001b[23m       \u001b[3m\u001b[90m<int>\u001b[39m\u001b[23m \u001b[3m\u001b[90m<int>\u001b[39m\u001b[23m\n",
            "\u001b[90m 1\u001b[39m 한화  강경학         10    23\n",
            "\u001b[90m 2\u001b[39m 한화  강경학         14    32\n",
            "\u001b[90m 3\u001b[39m 한화  강경학         11    36\n",
            "\u001b[90m 4\u001b[39m 한화  김태완         10    15\n",
            "\u001b[90m 5\u001b[39m 한화  김태완          8    22\n",
            "\u001b[90m 6\u001b[39m 한화  김태완         10    24\n",
            "\u001b[90m 7\u001b[39m 한화  김태완         10    25\n",
            "\u001b[90m 8\u001b[39m 한화  김태완          9    28\n",
            "\u001b[90m 9\u001b[39m 한화  김태완         10    16\n",
            "\u001b[90m10\u001b[39m 한화  강상원          6     0\n",
            "\u001b[90m# … with 94 more rows\u001b[39m\n"
          ],
          "name": "stdout"
        }
      ]
    },
    {
      "cell_type": "code",
      "metadata": {
        "id": "6JkH_jWKnsSt",
        "colab_type": "code",
        "colab": {}
      },
      "source": [
        ""
      ],
      "execution_count": null,
      "outputs": []
    },
    {
      "cell_type": "markdown",
      "metadata": {
        "id": "Uf3747YDxKbq",
        "colab_type": "text"
      },
      "source": [
        "\n",
        "* groupby, summarise\n",
        "\n",
        "``https://dplyr.tidyverse.org/reference/group_by.html``\n",
        "\n",
        "``https://datascienceschool.net/view-notebook/e288a67ff8f9425b8cd511c7078a7b1b/``\n",
        "\n",
        "![대체 텍스트](https://img1.daumcdn.net/thumb/R800x0/?scode=mtistory2&fname=https%3A%2F%2Ft1.daumcdn.net%2Fcfile%2Ftistory%2F9978503F5B8264490F))"
      ]
    },
    {
      "cell_type": "code",
      "metadata": {
        "id": "oERtM4qwxL9-",
        "colab_type": "code",
        "colab": {
          "base_uri": "https://localhost:8080/",
          "height": 323
        },
        "outputId": "01f6b892-97bc-471f-da0d-97eb2c251e98"
      },
      "source": [
        "DF %>% group_by(team) %>% show()"
      ],
      "execution_count": null,
      "outputs": [
        {
          "output_type": "stream",
          "text": [
            "\u001b[90m# A tibble: 1,393 x 29\u001b[39m\n",
            "\u001b[90m# Groups:   team [13]\u001b[39m\n",
            "   batter_id batter_name  year team  avg       G    AB     R     H  `2B`  `3B`\n",
            "       \u001b[3m\u001b[90m<int>\u001b[39m\u001b[23m \u001b[3m\u001b[90m<chr>\u001b[39m\u001b[23m       \u001b[3m\u001b[90m<int>\u001b[39m\u001b[23m \u001b[3m\u001b[90m<chr>\u001b[39m\u001b[23m \u001b[3m\u001b[90m<chr>\u001b[39m\u001b[23m \u001b[3m\u001b[90m<int>\u001b[39m\u001b[23m \u001b[3m\u001b[90m<int>\u001b[39m\u001b[23m \u001b[3m\u001b[90m<int>\u001b[39m\u001b[23m \u001b[3m\u001b[90m<int>\u001b[39m\u001b[23m \u001b[3m\u001b[90m<int>\u001b[39m\u001b[23m \u001b[3m\u001b[90m<int>\u001b[39m\u001b[23m\n",
            "\u001b[90m 1\u001b[39m         0 가르시아     \u001b[4m2\u001b[24m018 LG    0.350     7    20     1     7     1     0\n",
            "\u001b[90m 2\u001b[39m         1 강경학       \u001b[4m2\u001b[24m011 한화  0.000     4     2     2     0     0     0\n",
            "\u001b[90m 3\u001b[39m         1 강경학       \u001b[4m2\u001b[24m014 한화  -         4     0     2     0     0     0\n",
            "\u001b[90m 4\u001b[39m         1 강경학       \u001b[4m2\u001b[24m015 한화  0.130    10    23     3     3     0     0\n",
            "\u001b[90m 5\u001b[39m         1 강경학       \u001b[4m2\u001b[24m016 한화  0.188    14    32     4     6     1     1\n",
            "\u001b[90m 6\u001b[39m         1 강경학       \u001b[4m2\u001b[24m017 한화  0.222    11    36    10     8     0     0\n",
            "\u001b[90m 7\u001b[39m         2 강구성       \u001b[4m2\u001b[24m013 NC    0.000     3     4     0     0     0     0\n",
            "\u001b[90m 8\u001b[39m         2 강구성       \u001b[4m2\u001b[24m016 NC    0.000     3     1     0     0     0     0\n",
            "\u001b[90m 9\u001b[39m         2 강구성       \u001b[4m2\u001b[24m017 NC    1.000     2     1     0     1     0     0\n",
            "\u001b[90m10\u001b[39m        69 김태완       \u001b[4m2\u001b[24m006 한화  0.200    10    15     0     3     0     0\n",
            "\u001b[90m# … with 1,383 more rows, and 18 more variables: HR \u001b[3m\u001b[90m<int>\u001b[90m\u001b[23m, TB \u001b[3m\u001b[90m<int>\u001b[90m\u001b[23m, RBI \u001b[3m\u001b[90m<int>\u001b[90m\u001b[23m,\u001b[39m\n",
            "\u001b[90m#   SB \u001b[3m\u001b[90m<int>\u001b[90m\u001b[23m, CS \u001b[3m\u001b[90m<int>\u001b[90m\u001b[23m, BB \u001b[3m\u001b[90m<int>\u001b[90m\u001b[23m, HBP \u001b[3m\u001b[90m<int>\u001b[90m\u001b[23m, SO \u001b[3m\u001b[90m<int>\u001b[90m\u001b[23m, GDP \u001b[3m\u001b[90m<int>\u001b[90m\u001b[23m, SLG \u001b[3m\u001b[90m<dbl>\u001b[90m\u001b[23m,\u001b[39m\n",
            "\u001b[90m#   OBP \u001b[3m\u001b[90m<dbl>\u001b[90m\u001b[23m, E \u001b[3m\u001b[90m<int>\u001b[90m\u001b[23m, `height/weight` \u001b[3m\u001b[90m<chr>\u001b[90m\u001b[23m, year_born \u001b[3m\u001b[90m<chr>\u001b[90m\u001b[23m, position \u001b[3m\u001b[90m<chr>\u001b[90m\u001b[23m,\u001b[39m\n",
            "\u001b[90m#   career \u001b[3m\u001b[90m<chr>\u001b[90m\u001b[23m, starting_salary \u001b[3m\u001b[90m<chr>\u001b[90m\u001b[23m, OPS \u001b[3m\u001b[90m<dbl>\u001b[90m\u001b[23m\u001b[39m\n"
          ],
          "name": "stdout"
        }
      ]
    },
    {
      "cell_type": "code",
      "metadata": {
        "id": "BsT0gH8f0waO",
        "colab_type": "code",
        "colab": {
          "base_uri": "https://localhost:8080/",
          "height": 323
        },
        "outputId": "d5b2b720-bbde-44b8-9c29-35d5d8cbbbed"
      },
      "source": [
        "DF %>% group_by(team) %>% summarise(., G_AVG = mean(G), AB_A = mean(AB), R_SUM = sum(R)) %>% show()"
      ],
      "execution_count": null,
      "outputs": [
        {
          "output_type": "stream",
          "text": [
            "`summarise()` ungrouping output (override with `.groups` argument)\n",
            "\n"
          ],
          "name": "stderr"
        },
        {
          "output_type": "stream",
          "text": [
            "\u001b[90m# A tibble: 13 x 4\u001b[39m\n",
            "   team     G_AVG  AB_A R_SUM\n",
            "   \u001b[3m\u001b[90m<chr>\u001b[39m\u001b[23m    \u001b[3m\u001b[90m<dbl>\u001b[39m\u001b[23m \u001b[3m\u001b[90m<dbl>\u001b[39m\u001b[23m \u001b[3m\u001b[90m<int>\u001b[39m\u001b[23m\n",
            "\u001b[90m 1\u001b[39m KIA       7.87  16.8   321\n",
            "\u001b[90m 2\u001b[39m KT        7.63  16.3   143\n",
            "\u001b[90m 3\u001b[39m LG        8.74  20.3   500\n",
            "\u001b[90m 4\u001b[39m NC        8.49  17     195\n",
            "\u001b[90m 5\u001b[39m SK        8.37  19.9   426\n",
            "\u001b[90m 6\u001b[39m 넥센      9.10  19.0   315\n",
            "\u001b[90m 7\u001b[39m 두산     10.7   22.1   601\n",
            "\u001b[90m 8\u001b[39m 롯데      8.21  17.7   424\n",
            "\u001b[90m 9\u001b[39m 삼성      8.79  20.1   416\n",
            "\u001b[90m10\u001b[39m 우리      7.33  17.3    10\n",
            "\u001b[90m11\u001b[39m 한화      7.76  18.2   335\n",
            "\u001b[90m12\u001b[39m 현대     10.1   25.3    42\n",
            "\u001b[90m13\u001b[39m 히어로즈  8.2   15.6     5\n"
          ],
          "name": "stdout"
        }
      ]
    },
    {
      "cell_type": "code",
      "metadata": {
        "id": "ojEPWRVU3r8f",
        "colab_type": "code",
        "colab": {
          "base_uri": "https://localhost:8080/",
          "height": 1000
        },
        "outputId": "33e2667d-6c92-4fbe-e6df-06d80ef1a103"
      },
      "source": [
        "DF %>% group_by(team, batter_name) %>% summarise(., G_AVG = mean(G), AB_AVG = mean(AB), R_AVG = mean(R))"
      ],
      "execution_count": null,
      "outputs": [
        {
          "output_type": "stream",
          "text": [
            "`summarise()` regrouping output by 'team' (override with `.groups` argument)\n",
            "\n"
          ],
          "name": "stderr"
        },
        {
          "output_type": "display_data",
          "data": {
            "text/plain": [
              "    team     batter_name G_AVG     AB_AVG    R_AVG     \n",
              "1   KIA      강한울       7.500000 19.500000  3.5000000\n",
              "2   KIA      김민식       7.500000 12.000000  1.5000000\n",
              "3   KIA      김선빈      10.000000 22.333333  3.2222222\n",
              "4   KIA      김주찬       8.000000 19.000000  2.5000000\n",
              "5   KIA      김주형       7.727273 17.545455  1.9090909\n",
              "6   KIA      나지완       9.900000 27.700000  3.9000000\n",
              "7   KIA      노수광       2.500000  3.000000  0.0000000\n",
              "8   KIA      박준태      12.000000 18.500000  3.5000000\n",
              "9   KIA      백용환       6.600000 11.800000  1.4000000\n",
              "10  KIA      버나디나     6.500000 17.500000  3.5000000\n",
              "11  KIA      서동욱       6.333333 10.166667  1.5000000\n",
              "12  KIA      신범수       5.500000  9.500000  1.0000000\n",
              "13  KIA      신종길       8.833333 21.833333  4.0000000\n",
              "14  KIA      안치홍       8.375000 24.625000  2.7500000\n",
              "15  KIA      유민상       2.000000  3.000000  0.0000000\n",
              "16  KIA      유재신       5.000000  3.000000  2.0000000\n",
              "17  KIA      윤정우      12.500000 19.000000  4.0000000\n",
              "18  KIA      이대형      11.000000 28.000000 11.0000000\n",
              "19  KIA      이명기       7.500000 21.500000  2.5000000\n",
              "20  KIA      이범호       7.000000 15.500000  1.5000000\n",
              "21  KIA      이성우       7.571429  9.142857  1.2857143\n",
              "22  KIA      이영욱       5.000000  7.000000  3.0000000\n",
              "23  KIA      이용규       7.555556 24.888889  3.0000000\n",
              "24  KIA      이인행       9.000000 15.000000  1.0000000\n",
              "25  KIA      이준호       7.000000  7.750000  1.5000000\n",
              "26  KIA      이호신       9.200000  9.200000  2.2000000\n",
              "27  KIA      정성훈       8.500000 18.500000  3.5000000\n",
              "28  KIA      최원준       6.000000 13.000000  1.6666667\n",
              "29  KIA      최형우       5.500000 14.000000  3.0000000\n",
              "30  KIA      한승택       5.666667  6.000000  0.6666667\n",
              "⋮   ⋮        ⋮           ⋮         ⋮         ⋮         \n",
              "307 한화     오선진       7.000000 12.222222 1.3333333 \n",
              "308 한화     이대수       9.500000 24.500000 3.5000000 \n",
              "309 한화     이동훈       6.666667  4.000000 2.6666667 \n",
              "310 한화     이범호       9.625000 29.000000 4.7500000 \n",
              "311 한화     이성열       8.750000 20.250000 2.7500000 \n",
              "312 한화     이용규       7.500000 22.000000 4.0000000 \n",
              "313 한화     이준수       2.000000  0.500000 0.0000000 \n",
              "314 한화     장민석      12.000000 37.000000 6.0000000 \n",
              "315 한화     장진혁       3.000000  2.000000 0.0000000 \n",
              "316 한화     정경운       6.000000  7.000000 1.0000000 \n",
              "317 한화     정근우       9.000000 28.666667 3.0000000 \n",
              "318 한화     정범모       6.000000  8.000000 0.6666667 \n",
              "319 한화     지성준       8.000000 17.000000 2.0000000 \n",
              "320 한화     최윤석       5.333333  7.666667 1.0000000 \n",
              "321 한화     최재훈       8.000000 15.000000 3.0000000 \n",
              "322 한화     최진행       8.153846 22.230769 2.1538462 \n",
              "323 한화     하주석       6.200000 14.800000 1.8000000 \n",
              "324 한화     한승택      10.000000 15.000000 0.0000000 \n",
              "325 한화     허도환       7.500000 10.000000 1.5000000 \n",
              "326 한화     호잉         6.000000 16.000000 3.0000000 \n",
              "327 현대     유한준      11.000000 26.666667 2.0000000 \n",
              "328 현대     이택근      10.600000 24.400000 2.2000000 \n",
              "329 현대     정성훈      11.600000 38.000000 3.4000000 \n",
              "330 현대     조평호      10.000000 15.000000 0.0000000 \n",
              "331 현대     지석훈       6.750000 12.250000 2.0000000 \n",
              "332 히어로즈 오재일      12.000000 33.000000 1.0000000 \n",
              "333 히어로즈 유재신       8.000000  4.000000 0.0000000 \n",
              "334 히어로즈 이택근       1.000000  3.000000 0.0000000 \n",
              "335 히어로즈 장영석       9.000000  7.000000 0.0000000 \n",
              "336 히어로즈 황재균      11.000000 31.000000 4.0000000 "
            ],
            "text/latex": "A grouped\\_df: 336 × 5\n\\begin{tabular}{lllll}\n team & batter\\_name & G\\_AVG & AB\\_AVG & R\\_AVG\\\\\n <chr> & <chr> & <dbl> & <dbl> & <dbl>\\\\\n\\hline\n\t KIA & 강한울   &  7.500000 & 19.500000 &  3.5000000\\\\\n\t KIA & 김민식   &  7.500000 & 12.000000 &  1.5000000\\\\\n\t KIA & 김선빈   & 10.000000 & 22.333333 &  3.2222222\\\\\n\t KIA & 김주찬   &  8.000000 & 19.000000 &  2.5000000\\\\\n\t KIA & 김주형   &  7.727273 & 17.545455 &  1.9090909\\\\\n\t KIA & 나지완   &  9.900000 & 27.700000 &  3.9000000\\\\\n\t KIA & 노수광   &  2.500000 &  3.000000 &  0.0000000\\\\\n\t KIA & 박준태   & 12.000000 & 18.500000 &  3.5000000\\\\\n\t KIA & 백용환   &  6.600000 & 11.800000 &  1.4000000\\\\\n\t KIA & 버나디나 &  6.500000 & 17.500000 &  3.5000000\\\\\n\t KIA & 서동욱   &  6.333333 & 10.166667 &  1.5000000\\\\\n\t KIA & 신범수   &  5.500000 &  9.500000 &  1.0000000\\\\\n\t KIA & 신종길   &  8.833333 & 21.833333 &  4.0000000\\\\\n\t KIA & 안치홍   &  8.375000 & 24.625000 &  2.7500000\\\\\n\t KIA & 유민상   &  2.000000 &  3.000000 &  0.0000000\\\\\n\t KIA & 유재신   &  5.000000 &  3.000000 &  2.0000000\\\\\n\t KIA & 윤정우   & 12.500000 & 19.000000 &  4.0000000\\\\\n\t KIA & 이대형   & 11.000000 & 28.000000 & 11.0000000\\\\\n\t KIA & 이명기   &  7.500000 & 21.500000 &  2.5000000\\\\\n\t KIA & 이범호   &  7.000000 & 15.500000 &  1.5000000\\\\\n\t KIA & 이성우   &  7.571429 &  9.142857 &  1.2857143\\\\\n\t KIA & 이영욱   &  5.000000 &  7.000000 &  3.0000000\\\\\n\t KIA & 이용규   &  7.555556 & 24.888889 &  3.0000000\\\\\n\t KIA & 이인행   &  9.000000 & 15.000000 &  1.0000000\\\\\n\t KIA & 이준호   &  7.000000 &  7.750000 &  1.5000000\\\\\n\t KIA & 이호신   &  9.200000 &  9.200000 &  2.2000000\\\\\n\t KIA & 정성훈   &  8.500000 & 18.500000 &  3.5000000\\\\\n\t KIA & 최원준   &  6.000000 & 13.000000 &  1.6666667\\\\\n\t KIA & 최형우   &  5.500000 & 14.000000 &  3.0000000\\\\\n\t KIA & 한승택   &  5.666667 &  6.000000 &  0.6666667\\\\\n\t ⋮ & ⋮ & ⋮ & ⋮ & ⋮\\\\\n\t 한화     & 오선진 &  7.000000 & 12.222222 & 1.3333333\\\\\n\t 한화     & 이대수 &  9.500000 & 24.500000 & 3.5000000\\\\\n\t 한화     & 이동훈 &  6.666667 &  4.000000 & 2.6666667\\\\\n\t 한화     & 이범호 &  9.625000 & 29.000000 & 4.7500000\\\\\n\t 한화     & 이성열 &  8.750000 & 20.250000 & 2.7500000\\\\\n\t 한화     & 이용규 &  7.500000 & 22.000000 & 4.0000000\\\\\n\t 한화     & 이준수 &  2.000000 &  0.500000 & 0.0000000\\\\\n\t 한화     & 장민석 & 12.000000 & 37.000000 & 6.0000000\\\\\n\t 한화     & 장진혁 &  3.000000 &  2.000000 & 0.0000000\\\\\n\t 한화     & 정경운 &  6.000000 &  7.000000 & 1.0000000\\\\\n\t 한화     & 정근우 &  9.000000 & 28.666667 & 3.0000000\\\\\n\t 한화     & 정범모 &  6.000000 &  8.000000 & 0.6666667\\\\\n\t 한화     & 지성준 &  8.000000 & 17.000000 & 2.0000000\\\\\n\t 한화     & 최윤석 &  5.333333 &  7.666667 & 1.0000000\\\\\n\t 한화     & 최재훈 &  8.000000 & 15.000000 & 3.0000000\\\\\n\t 한화     & 최진행 &  8.153846 & 22.230769 & 2.1538462\\\\\n\t 한화     & 하주석 &  6.200000 & 14.800000 & 1.8000000\\\\\n\t 한화     & 한승택 & 10.000000 & 15.000000 & 0.0000000\\\\\n\t 한화     & 허도환 &  7.500000 & 10.000000 & 1.5000000\\\\\n\t 한화     & 호잉   &  6.000000 & 16.000000 & 3.0000000\\\\\n\t 현대     & 유한준 & 11.000000 & 26.666667 & 2.0000000\\\\\n\t 현대     & 이택근 & 10.600000 & 24.400000 & 2.2000000\\\\\n\t 현대     & 정성훈 & 11.600000 & 38.000000 & 3.4000000\\\\\n\t 현대     & 조평호 & 10.000000 & 15.000000 & 0.0000000\\\\\n\t 현대     & 지석훈 &  6.750000 & 12.250000 & 2.0000000\\\\\n\t 히어로즈 & 오재일 & 12.000000 & 33.000000 & 1.0000000\\\\\n\t 히어로즈 & 유재신 &  8.000000 &  4.000000 & 0.0000000\\\\\n\t 히어로즈 & 이택근 &  1.000000 &  3.000000 & 0.0000000\\\\\n\t 히어로즈 & 장영석 &  9.000000 &  7.000000 & 0.0000000\\\\\n\t 히어로즈 & 황재균 & 11.000000 & 31.000000 & 4.0000000\\\\\n\\end{tabular}\n",
            "text/markdown": "\nA grouped_df: 336 × 5\n\n| team &lt;chr&gt; | batter_name &lt;chr&gt; | G_AVG &lt;dbl&gt; | AB_AVG &lt;dbl&gt; | R_AVG &lt;dbl&gt; |\n|---|---|---|---|---|\n| KIA | 강한울   |  7.500000 | 19.500000 |  3.5000000 |\n| KIA | 김민식   |  7.500000 | 12.000000 |  1.5000000 |\n| KIA | 김선빈   | 10.000000 | 22.333333 |  3.2222222 |\n| KIA | 김주찬   |  8.000000 | 19.000000 |  2.5000000 |\n| KIA | 김주형   |  7.727273 | 17.545455 |  1.9090909 |\n| KIA | 나지완   |  9.900000 | 27.700000 |  3.9000000 |\n| KIA | 노수광   |  2.500000 |  3.000000 |  0.0000000 |\n| KIA | 박준태   | 12.000000 | 18.500000 |  3.5000000 |\n| KIA | 백용환   |  6.600000 | 11.800000 |  1.4000000 |\n| KIA | 버나디나 |  6.500000 | 17.500000 |  3.5000000 |\n| KIA | 서동욱   |  6.333333 | 10.166667 |  1.5000000 |\n| KIA | 신범수   |  5.500000 |  9.500000 |  1.0000000 |\n| KIA | 신종길   |  8.833333 | 21.833333 |  4.0000000 |\n| KIA | 안치홍   |  8.375000 | 24.625000 |  2.7500000 |\n| KIA | 유민상   |  2.000000 |  3.000000 |  0.0000000 |\n| KIA | 유재신   |  5.000000 |  3.000000 |  2.0000000 |\n| KIA | 윤정우   | 12.500000 | 19.000000 |  4.0000000 |\n| KIA | 이대형   | 11.000000 | 28.000000 | 11.0000000 |\n| KIA | 이명기   |  7.500000 | 21.500000 |  2.5000000 |\n| KIA | 이범호   |  7.000000 | 15.500000 |  1.5000000 |\n| KIA | 이성우   |  7.571429 |  9.142857 |  1.2857143 |\n| KIA | 이영욱   |  5.000000 |  7.000000 |  3.0000000 |\n| KIA | 이용규   |  7.555556 | 24.888889 |  3.0000000 |\n| KIA | 이인행   |  9.000000 | 15.000000 |  1.0000000 |\n| KIA | 이준호   |  7.000000 |  7.750000 |  1.5000000 |\n| KIA | 이호신   |  9.200000 |  9.200000 |  2.2000000 |\n| KIA | 정성훈   |  8.500000 | 18.500000 |  3.5000000 |\n| KIA | 최원준   |  6.000000 | 13.000000 |  1.6666667 |\n| KIA | 최형우   |  5.500000 | 14.000000 |  3.0000000 |\n| KIA | 한승택   |  5.666667 |  6.000000 |  0.6666667 |\n| ⋮ | ⋮ | ⋮ | ⋮ | ⋮ |\n| 한화     | 오선진 |  7.000000 | 12.222222 | 1.3333333 |\n| 한화     | 이대수 |  9.500000 | 24.500000 | 3.5000000 |\n| 한화     | 이동훈 |  6.666667 |  4.000000 | 2.6666667 |\n| 한화     | 이범호 |  9.625000 | 29.000000 | 4.7500000 |\n| 한화     | 이성열 |  8.750000 | 20.250000 | 2.7500000 |\n| 한화     | 이용규 |  7.500000 | 22.000000 | 4.0000000 |\n| 한화     | 이준수 |  2.000000 |  0.500000 | 0.0000000 |\n| 한화     | 장민석 | 12.000000 | 37.000000 | 6.0000000 |\n| 한화     | 장진혁 |  3.000000 |  2.000000 | 0.0000000 |\n| 한화     | 정경운 |  6.000000 |  7.000000 | 1.0000000 |\n| 한화     | 정근우 |  9.000000 | 28.666667 | 3.0000000 |\n| 한화     | 정범모 |  6.000000 |  8.000000 | 0.6666667 |\n| 한화     | 지성준 |  8.000000 | 17.000000 | 2.0000000 |\n| 한화     | 최윤석 |  5.333333 |  7.666667 | 1.0000000 |\n| 한화     | 최재훈 |  8.000000 | 15.000000 | 3.0000000 |\n| 한화     | 최진행 |  8.153846 | 22.230769 | 2.1538462 |\n| 한화     | 하주석 |  6.200000 | 14.800000 | 1.8000000 |\n| 한화     | 한승택 | 10.000000 | 15.000000 | 0.0000000 |\n| 한화     | 허도환 |  7.500000 | 10.000000 | 1.5000000 |\n| 한화     | 호잉   |  6.000000 | 16.000000 | 3.0000000 |\n| 현대     | 유한준 | 11.000000 | 26.666667 | 2.0000000 |\n| 현대     | 이택근 | 10.600000 | 24.400000 | 2.2000000 |\n| 현대     | 정성훈 | 11.600000 | 38.000000 | 3.4000000 |\n| 현대     | 조평호 | 10.000000 | 15.000000 | 0.0000000 |\n| 현대     | 지석훈 |  6.750000 | 12.250000 | 2.0000000 |\n| 히어로즈 | 오재일 | 12.000000 | 33.000000 | 1.0000000 |\n| 히어로즈 | 유재신 |  8.000000 |  4.000000 | 0.0000000 |\n| 히어로즈 | 이택근 |  1.000000 |  3.000000 | 0.0000000 |\n| 히어로즈 | 장영석 |  9.000000 |  7.000000 | 0.0000000 |\n| 히어로즈 | 황재균 | 11.000000 | 31.000000 | 4.0000000 |\n\n",
            "text/html": [
              "<table>\n",
              "<caption>A grouped_df: 336 × 5</caption>\n",
              "<thead>\n",
              "\t<tr><th scope=col>team</th><th scope=col>batter_name</th><th scope=col>G_AVG</th><th scope=col>AB_AVG</th><th scope=col>R_AVG</th></tr>\n",
              "\t<tr><th scope=col>&lt;chr&gt;</th><th scope=col>&lt;chr&gt;</th><th scope=col>&lt;dbl&gt;</th><th scope=col>&lt;dbl&gt;</th><th scope=col>&lt;dbl&gt;</th></tr>\n",
              "</thead>\n",
              "<tbody>\n",
              "\t<tr><td>KIA</td><td>강한울  </td><td> 7.500000</td><td>19.500000</td><td> 3.5000000</td></tr>\n",
              "\t<tr><td>KIA</td><td>김민식  </td><td> 7.500000</td><td>12.000000</td><td> 1.5000000</td></tr>\n",
              "\t<tr><td>KIA</td><td>김선빈  </td><td>10.000000</td><td>22.333333</td><td> 3.2222222</td></tr>\n",
              "\t<tr><td>KIA</td><td>김주찬  </td><td> 8.000000</td><td>19.000000</td><td> 2.5000000</td></tr>\n",
              "\t<tr><td>KIA</td><td>김주형  </td><td> 7.727273</td><td>17.545455</td><td> 1.9090909</td></tr>\n",
              "\t<tr><td>KIA</td><td>나지완  </td><td> 9.900000</td><td>27.700000</td><td> 3.9000000</td></tr>\n",
              "\t<tr><td>KIA</td><td>노수광  </td><td> 2.500000</td><td> 3.000000</td><td> 0.0000000</td></tr>\n",
              "\t<tr><td>KIA</td><td>박준태  </td><td>12.000000</td><td>18.500000</td><td> 3.5000000</td></tr>\n",
              "\t<tr><td>KIA</td><td>백용환  </td><td> 6.600000</td><td>11.800000</td><td> 1.4000000</td></tr>\n",
              "\t<tr><td>KIA</td><td>버나디나</td><td> 6.500000</td><td>17.500000</td><td> 3.5000000</td></tr>\n",
              "\t<tr><td>KIA</td><td>서동욱  </td><td> 6.333333</td><td>10.166667</td><td> 1.5000000</td></tr>\n",
              "\t<tr><td>KIA</td><td>신범수  </td><td> 5.500000</td><td> 9.500000</td><td> 1.0000000</td></tr>\n",
              "\t<tr><td>KIA</td><td>신종길  </td><td> 8.833333</td><td>21.833333</td><td> 4.0000000</td></tr>\n",
              "\t<tr><td>KIA</td><td>안치홍  </td><td> 8.375000</td><td>24.625000</td><td> 2.7500000</td></tr>\n",
              "\t<tr><td>KIA</td><td>유민상  </td><td> 2.000000</td><td> 3.000000</td><td> 0.0000000</td></tr>\n",
              "\t<tr><td>KIA</td><td>유재신  </td><td> 5.000000</td><td> 3.000000</td><td> 2.0000000</td></tr>\n",
              "\t<tr><td>KIA</td><td>윤정우  </td><td>12.500000</td><td>19.000000</td><td> 4.0000000</td></tr>\n",
              "\t<tr><td>KIA</td><td>이대형  </td><td>11.000000</td><td>28.000000</td><td>11.0000000</td></tr>\n",
              "\t<tr><td>KIA</td><td>이명기  </td><td> 7.500000</td><td>21.500000</td><td> 2.5000000</td></tr>\n",
              "\t<tr><td>KIA</td><td>이범호  </td><td> 7.000000</td><td>15.500000</td><td> 1.5000000</td></tr>\n",
              "\t<tr><td>KIA</td><td>이성우  </td><td> 7.571429</td><td> 9.142857</td><td> 1.2857143</td></tr>\n",
              "\t<tr><td>KIA</td><td>이영욱  </td><td> 5.000000</td><td> 7.000000</td><td> 3.0000000</td></tr>\n",
              "\t<tr><td>KIA</td><td>이용규  </td><td> 7.555556</td><td>24.888889</td><td> 3.0000000</td></tr>\n",
              "\t<tr><td>KIA</td><td>이인행  </td><td> 9.000000</td><td>15.000000</td><td> 1.0000000</td></tr>\n",
              "\t<tr><td>KIA</td><td>이준호  </td><td> 7.000000</td><td> 7.750000</td><td> 1.5000000</td></tr>\n",
              "\t<tr><td>KIA</td><td>이호신  </td><td> 9.200000</td><td> 9.200000</td><td> 2.2000000</td></tr>\n",
              "\t<tr><td>KIA</td><td>정성훈  </td><td> 8.500000</td><td>18.500000</td><td> 3.5000000</td></tr>\n",
              "\t<tr><td>KIA</td><td>최원준  </td><td> 6.000000</td><td>13.000000</td><td> 1.6666667</td></tr>\n",
              "\t<tr><td>KIA</td><td>최형우  </td><td> 5.500000</td><td>14.000000</td><td> 3.0000000</td></tr>\n",
              "\t<tr><td>KIA</td><td>한승택  </td><td> 5.666667</td><td> 6.000000</td><td> 0.6666667</td></tr>\n",
              "\t<tr><td>⋮</td><td>⋮</td><td>⋮</td><td>⋮</td><td>⋮</td></tr>\n",
              "\t<tr><td>한화    </td><td>오선진</td><td> 7.000000</td><td>12.222222</td><td>1.3333333</td></tr>\n",
              "\t<tr><td>한화    </td><td>이대수</td><td> 9.500000</td><td>24.500000</td><td>3.5000000</td></tr>\n",
              "\t<tr><td>한화    </td><td>이동훈</td><td> 6.666667</td><td> 4.000000</td><td>2.6666667</td></tr>\n",
              "\t<tr><td>한화    </td><td>이범호</td><td> 9.625000</td><td>29.000000</td><td>4.7500000</td></tr>\n",
              "\t<tr><td>한화    </td><td>이성열</td><td> 8.750000</td><td>20.250000</td><td>2.7500000</td></tr>\n",
              "\t<tr><td>한화    </td><td>이용규</td><td> 7.500000</td><td>22.000000</td><td>4.0000000</td></tr>\n",
              "\t<tr><td>한화    </td><td>이준수</td><td> 2.000000</td><td> 0.500000</td><td>0.0000000</td></tr>\n",
              "\t<tr><td>한화    </td><td>장민석</td><td>12.000000</td><td>37.000000</td><td>6.0000000</td></tr>\n",
              "\t<tr><td>한화    </td><td>장진혁</td><td> 3.000000</td><td> 2.000000</td><td>0.0000000</td></tr>\n",
              "\t<tr><td>한화    </td><td>정경운</td><td> 6.000000</td><td> 7.000000</td><td>1.0000000</td></tr>\n",
              "\t<tr><td>한화    </td><td>정근우</td><td> 9.000000</td><td>28.666667</td><td>3.0000000</td></tr>\n",
              "\t<tr><td>한화    </td><td>정범모</td><td> 6.000000</td><td> 8.000000</td><td>0.6666667</td></tr>\n",
              "\t<tr><td>한화    </td><td>지성준</td><td> 8.000000</td><td>17.000000</td><td>2.0000000</td></tr>\n",
              "\t<tr><td>한화    </td><td>최윤석</td><td> 5.333333</td><td> 7.666667</td><td>1.0000000</td></tr>\n",
              "\t<tr><td>한화    </td><td>최재훈</td><td> 8.000000</td><td>15.000000</td><td>3.0000000</td></tr>\n",
              "\t<tr><td>한화    </td><td>최진행</td><td> 8.153846</td><td>22.230769</td><td>2.1538462</td></tr>\n",
              "\t<tr><td>한화    </td><td>하주석</td><td> 6.200000</td><td>14.800000</td><td>1.8000000</td></tr>\n",
              "\t<tr><td>한화    </td><td>한승택</td><td>10.000000</td><td>15.000000</td><td>0.0000000</td></tr>\n",
              "\t<tr><td>한화    </td><td>허도환</td><td> 7.500000</td><td>10.000000</td><td>1.5000000</td></tr>\n",
              "\t<tr><td>한화    </td><td>호잉  </td><td> 6.000000</td><td>16.000000</td><td>3.0000000</td></tr>\n",
              "\t<tr><td>현대    </td><td>유한준</td><td>11.000000</td><td>26.666667</td><td>2.0000000</td></tr>\n",
              "\t<tr><td>현대    </td><td>이택근</td><td>10.600000</td><td>24.400000</td><td>2.2000000</td></tr>\n",
              "\t<tr><td>현대    </td><td>정성훈</td><td>11.600000</td><td>38.000000</td><td>3.4000000</td></tr>\n",
              "\t<tr><td>현대    </td><td>조평호</td><td>10.000000</td><td>15.000000</td><td>0.0000000</td></tr>\n",
              "\t<tr><td>현대    </td><td>지석훈</td><td> 6.750000</td><td>12.250000</td><td>2.0000000</td></tr>\n",
              "\t<tr><td>히어로즈</td><td>오재일</td><td>12.000000</td><td>33.000000</td><td>1.0000000</td></tr>\n",
              "\t<tr><td>히어로즈</td><td>유재신</td><td> 8.000000</td><td> 4.000000</td><td>0.0000000</td></tr>\n",
              "\t<tr><td>히어로즈</td><td>이택근</td><td> 1.000000</td><td> 3.000000</td><td>0.0000000</td></tr>\n",
              "\t<tr><td>히어로즈</td><td>장영석</td><td> 9.000000</td><td> 7.000000</td><td>0.0000000</td></tr>\n",
              "\t<tr><td>히어로즈</td><td>황재균</td><td>11.000000</td><td>31.000000</td><td>4.0000000</td></tr>\n",
              "</tbody>\n",
              "</table>\n"
            ]
          },
          "metadata": {
            "tags": []
          }
        }
      ]
    },
    {
      "cell_type": "markdown",
      "metadata": {
        "colab_type": "text",
        "id": "-JT-e47Yu5nd"
      },
      "source": [
        "##2. dplyr(``arrange,rename,mutate,sample_frac/n ``)"
      ]
    },
    {
      "cell_type": "markdown",
      "metadata": {
        "colab_type": "text",
        "id": "oqteJub_u5nz"
      },
      "source": [
        "* ``arrange``\n",
        "  1. 지정한 열을 기준으로 작은 값으로부터 큰 값의 순(오름차순)으로 데이터를 정렬.    역순 정렬(내림차순) ``desc()``"
      ]
    },
    {
      "cell_type": "code",
      "metadata": {
        "id": "ypYYIm2LVmhn",
        "colab_type": "code",
        "colab": {
          "base_uri": "https://localhost:8080/"
        },
        "outputId": "85420b3f-eafd-4947-e5b4-80a3c8dbc552"
      },
      "source": [
        "DF %>% show()"
      ],
      "execution_count": null,
      "outputs": [
        {
          "output_type": "stream",
          "text": [
            "\u001b[90m# A tibble: 1,393 x 29\u001b[39m\n",
            "   batter_id batter_name  year team  avg       G    AB     R     H  `2B`  `3B`\n",
            "       \u001b[3m\u001b[90m<int>\u001b[39m\u001b[23m \u001b[3m\u001b[90m<chr>\u001b[39m\u001b[23m       \u001b[3m\u001b[90m<int>\u001b[39m\u001b[23m \u001b[3m\u001b[90m<chr>\u001b[39m\u001b[23m \u001b[3m\u001b[90m<chr>\u001b[39m\u001b[23m \u001b[3m\u001b[90m<int>\u001b[39m\u001b[23m \u001b[3m\u001b[90m<int>\u001b[39m\u001b[23m \u001b[3m\u001b[90m<int>\u001b[39m\u001b[23m \u001b[3m\u001b[90m<int>\u001b[39m\u001b[23m \u001b[3m\u001b[90m<int>\u001b[39m\u001b[23m \u001b[3m\u001b[90m<int>\u001b[39m\u001b[23m\n",
            "\u001b[90m 1\u001b[39m         0 가르시아     \u001b[4m2\u001b[24m018 LG    0.350     7    20     1     7     1     0\n",
            "\u001b[90m 2\u001b[39m         1 강경학       \u001b[4m2\u001b[24m011 한화  0.000     4     2     2     0     0     0\n",
            "\u001b[90m 3\u001b[39m         1 강경학       \u001b[4m2\u001b[24m014 한화  -         4     0     2     0     0     0\n",
            "\u001b[90m 4\u001b[39m         1 강경학       \u001b[4m2\u001b[24m015 한화  0.130    10    23     3     3     0     0\n",
            "\u001b[90m 5\u001b[39m         1 강경학       \u001b[4m2\u001b[24m016 한화  0.188    14    32     4     6     1     1\n",
            "\u001b[90m 6\u001b[39m         1 강경학       \u001b[4m2\u001b[24m017 한화  0.222    11    36    10     8     0     0\n",
            "\u001b[90m 7\u001b[39m         2 강구성       \u001b[4m2\u001b[24m013 NC    0.000     3     4     0     0     0     0\n",
            "\u001b[90m 8\u001b[39m         2 강구성       \u001b[4m2\u001b[24m016 NC    0.000     3     1     0     0     0     0\n",
            "\u001b[90m 9\u001b[39m         2 강구성       \u001b[4m2\u001b[24m017 NC    1.000     2     1     0     1     0     0\n",
            "\u001b[90m10\u001b[39m        69 김태완       \u001b[4m2\u001b[24m006 한화  0.200    10    15     0     3     0     0\n",
            "\u001b[90m# … with 1,383 more rows, and 18 more variables: HR \u001b[3m\u001b[90m<int>\u001b[90m\u001b[23m, TB \u001b[3m\u001b[90m<int>\u001b[90m\u001b[23m, RBI \u001b[3m\u001b[90m<int>\u001b[90m\u001b[23m,\u001b[39m\n",
            "\u001b[90m#   SB \u001b[3m\u001b[90m<int>\u001b[90m\u001b[23m, CS \u001b[3m\u001b[90m<int>\u001b[90m\u001b[23m, BB \u001b[3m\u001b[90m<int>\u001b[90m\u001b[23m, HBP \u001b[3m\u001b[90m<int>\u001b[90m\u001b[23m, SO \u001b[3m\u001b[90m<int>\u001b[90m\u001b[23m, GDP \u001b[3m\u001b[90m<int>\u001b[90m\u001b[23m, SLG \u001b[3m\u001b[90m<dbl>\u001b[90m\u001b[23m,\u001b[39m\n",
            "\u001b[90m#   OBP \u001b[3m\u001b[90m<dbl>\u001b[90m\u001b[23m, E \u001b[3m\u001b[90m<int>\u001b[90m\u001b[23m, `height/weight` \u001b[3m\u001b[90m<chr>\u001b[90m\u001b[23m, year_born \u001b[3m\u001b[90m<chr>\u001b[90m\u001b[23m, position \u001b[3m\u001b[90m<chr>\u001b[90m\u001b[23m,\u001b[39m\n",
            "\u001b[90m#   career \u001b[3m\u001b[90m<chr>\u001b[90m\u001b[23m, starting_salary \u001b[3m\u001b[90m<chr>\u001b[90m\u001b[23m, OPS \u001b[3m\u001b[90m<dbl>\u001b[90m\u001b[23m\u001b[39m\n"
          ],
          "name": "stdout"
        }
      ]
    },
    {
      "cell_type": "code",
      "metadata": {
        "colab_type": "code",
        "id": "K6-38JE4u5n0",
        "colab": {}
      },
      "source": [
        "DF %>% arrange(year)"
      ],
      "execution_count": null,
      "outputs": []
    },
    {
      "cell_type": "code",
      "metadata": {
        "id": "8B6y0BiTgLuq",
        "colab_type": "code",
        "colab": {
          "base_uri": "https://localhost:8080/"
        },
        "outputId": "19198f2d-0293-4918-fa09-22f3fd5fc08a"
      },
      "source": [
        "DF %>% arrange(year, desc(team)) %>% show() # year는 ascending(오름차순), team은 descending(내림차순)"
      ],
      "execution_count": null,
      "outputs": [
        {
          "output_type": "stream",
          "text": [
            "\u001b[90m# A tibble: 1,393 x 29\u001b[39m\n",
            "   batter_id batter_name  year team  avg       G    AB     R     H  `2B`  `3B`\n",
            "       \u001b[3m\u001b[90m<int>\u001b[39m\u001b[23m \u001b[3m\u001b[90m<chr>\u001b[39m\u001b[23m       \u001b[3m\u001b[90m<int>\u001b[39m\u001b[23m \u001b[3m\u001b[90m<chr>\u001b[39m\u001b[23m \u001b[3m\u001b[90m<chr>\u001b[39m\u001b[23m \u001b[3m\u001b[90m<int>\u001b[39m\u001b[23m \u001b[3m\u001b[90m<int>\u001b[39m\u001b[23m \u001b[3m\u001b[90m<int>\u001b[39m\u001b[23m \u001b[3m\u001b[90m<int>\u001b[39m\u001b[23m \u001b[3m\u001b[90m<int>\u001b[39m\u001b[23m \u001b[3m\u001b[90m<int>\u001b[39m\u001b[23m\n",
            "\u001b[90m 1\u001b[39m        67 김태균       \u001b[4m2\u001b[24m002 한화  0.235    11    34     7     8     5     0\n",
            "\u001b[90m 2\u001b[39m       207 이범호       \u001b[4m2\u001b[24m002 한화  0.167     7     6     2     1     1     0\n",
            "\u001b[90m 3\u001b[39m       131 박한이       \u001b[4m2\u001b[24m002 삼성  0.319    11    47     7    15     3     0\n",
            "\u001b[90m 4\u001b[39m       283 조동찬       \u001b[4m2\u001b[24m002 삼성  0.000     4     1     0     0     0     0\n",
            "\u001b[90m 5\u001b[39m       319 최형우       \u001b[4m2\u001b[24m002 삼성  0.000     5     5     1     0     0     0\n",
            "\u001b[90m 6\u001b[39m        62 김주찬       \u001b[4m2\u001b[24m002 롯데  0.107     9    28     2     3     0     0\n",
            "\u001b[90m 7\u001b[39m       109 박기혁       \u001b[4m2\u001b[24m002 롯데  0.000     8     5     1     0     0     0\n",
            "\u001b[90m 8\u001b[39m       202 이대호       \u001b[4m2\u001b[24m002 롯데  0.359    11    39     4    14     3     0\n",
            "\u001b[90m 9\u001b[39m       234 이진영       \u001b[4m2\u001b[24m002 SK    0.297    11    37     5    11     2     0\n",
            "\u001b[90m10\u001b[39m       269 정상호       \u001b[4m2\u001b[24m002 SK    0.158    13    19     3     3     1     0\n",
            "\u001b[90m# … with 1,383 more rows, and 18 more variables: HR \u001b[3m\u001b[90m<int>\u001b[90m\u001b[23m, TB \u001b[3m\u001b[90m<int>\u001b[90m\u001b[23m, RBI \u001b[3m\u001b[90m<int>\u001b[90m\u001b[23m,\u001b[39m\n",
            "\u001b[90m#   SB \u001b[3m\u001b[90m<int>\u001b[90m\u001b[23m, CS \u001b[3m\u001b[90m<int>\u001b[90m\u001b[23m, BB \u001b[3m\u001b[90m<int>\u001b[90m\u001b[23m, HBP \u001b[3m\u001b[90m<int>\u001b[90m\u001b[23m, SO \u001b[3m\u001b[90m<int>\u001b[90m\u001b[23m, GDP \u001b[3m\u001b[90m<int>\u001b[90m\u001b[23m, SLG \u001b[3m\u001b[90m<dbl>\u001b[90m\u001b[23m,\u001b[39m\n",
            "\u001b[90m#   OBP \u001b[3m\u001b[90m<dbl>\u001b[90m\u001b[23m, E \u001b[3m\u001b[90m<int>\u001b[90m\u001b[23m, `height/weight` \u001b[3m\u001b[90m<chr>\u001b[90m\u001b[23m, year_born \u001b[3m\u001b[90m<chr>\u001b[90m\u001b[23m, position \u001b[3m\u001b[90m<chr>\u001b[90m\u001b[23m,\u001b[39m\n",
            "\u001b[90m#   career \u001b[3m\u001b[90m<chr>\u001b[90m\u001b[23m, starting_salary \u001b[3m\u001b[90m<chr>\u001b[90m\u001b[23m, OPS \u001b[3m\u001b[90m<dbl>\u001b[90m\u001b[23m\u001b[39m\n"
          ],
          "name": "stdout"
        }
      ]
    },
    {
      "cell_type": "code",
      "metadata": {
        "id": "dr8uYrOsgTuG",
        "colab_type": "code",
        "colab": {
          "base_uri": "https://localhost:8080/"
        },
        "outputId": "5491824d-dc0b-487b-d818-f11eaea888f6"
      },
      "source": [
        "DF %>% arrange(team, desc(avg)) %>% show() "
      ],
      "execution_count": null,
      "outputs": [
        {
          "output_type": "stream",
          "text": [
            "\u001b[90m# A tibble: 1,393 x 29\u001b[39m\n",
            "   batter_id batter_name  year team  avg       G    AB     R     H  `2B`  `3B`\n",
            "       \u001b[3m\u001b[90m<int>\u001b[39m\u001b[23m \u001b[3m\u001b[90m<chr>\u001b[39m\u001b[23m       \u001b[3m\u001b[90m<int>\u001b[39m\u001b[23m \u001b[3m\u001b[90m<chr>\u001b[39m\u001b[23m \u001b[3m\u001b[90m<chr>\u001b[39m\u001b[23m \u001b[3m\u001b[90m<int>\u001b[39m\u001b[23m \u001b[3m\u001b[90m<int>\u001b[39m\u001b[23m \u001b[3m\u001b[90m<int>\u001b[39m\u001b[23m \u001b[3m\u001b[90m<int>\u001b[39m\u001b[23m \u001b[3m\u001b[90m<int>\u001b[39m\u001b[23m \u001b[3m\u001b[90m<int>\u001b[39m\u001b[23m\n",
            "\u001b[90m 1\u001b[39m       145 서동욱       \u001b[4m2\u001b[24m004 KIA   1.000     1     1     1     1     0     0\n",
            "\u001b[90m 2\u001b[39m       217 이용규       \u001b[4m2\u001b[24m009 KIA   1.000     1     2     0     2     0     0\n",
            "\u001b[90m 3\u001b[39m        12 강한울       \u001b[4m2\u001b[24m015 KIA   0.600     3    10     2     6     0     1\n",
            "\u001b[90m 4\u001b[39m       139 백용환       \u001b[4m2\u001b[24m018 KIA   0.600     3     5     1     3     1     0\n",
            "\u001b[90m 5\u001b[39m       243 이호신       \u001b[4m2\u001b[24m009 KIA   0.500     9     6     1     3     0     0\n",
            "\u001b[90m 6\u001b[39m       163 신종길       \u001b[4m2\u001b[24m017 KIA   0.500     1     2     1     1     0     0\n",
            "\u001b[90m 7\u001b[39m       169 안치홍       \u001b[4m2\u001b[24m017 KIA   0.500     4    10     1     5     1     0\n",
            "\u001b[90m 8\u001b[39m       232 이준호       \u001b[4m2\u001b[24m013 KIA   0.500     6     8     2     4     1     0\n",
            "\u001b[90m 9\u001b[39m       319 최형우       \u001b[4m2\u001b[24m018 KIA   0.500     4    14     3     7     1     0\n",
            "\u001b[90m10\u001b[39m       160 신범수       \u001b[4m2\u001b[24m017 KIA   0.471     9    17     2     8     2     0\n",
            "\u001b[90m# … with 1,383 more rows, and 18 more variables: HR \u001b[3m\u001b[90m<int>\u001b[90m\u001b[23m, TB \u001b[3m\u001b[90m<int>\u001b[90m\u001b[23m, RBI \u001b[3m\u001b[90m<int>\u001b[90m\u001b[23m,\u001b[39m\n",
            "\u001b[90m#   SB \u001b[3m\u001b[90m<int>\u001b[90m\u001b[23m, CS \u001b[3m\u001b[90m<int>\u001b[90m\u001b[23m, BB \u001b[3m\u001b[90m<int>\u001b[90m\u001b[23m, HBP \u001b[3m\u001b[90m<int>\u001b[90m\u001b[23m, SO \u001b[3m\u001b[90m<int>\u001b[90m\u001b[23m, GDP \u001b[3m\u001b[90m<int>\u001b[90m\u001b[23m, SLG \u001b[3m\u001b[90m<dbl>\u001b[90m\u001b[23m,\u001b[39m\n",
            "\u001b[90m#   OBP \u001b[3m\u001b[90m<dbl>\u001b[90m\u001b[23m, E \u001b[3m\u001b[90m<int>\u001b[90m\u001b[23m, `height/weight` \u001b[3m\u001b[90m<chr>\u001b[90m\u001b[23m, year_born \u001b[3m\u001b[90m<chr>\u001b[90m\u001b[23m, position \u001b[3m\u001b[90m<chr>\u001b[90m\u001b[23m,\u001b[39m\n",
            "\u001b[90m#   career \u001b[3m\u001b[90m<chr>\u001b[90m\u001b[23m, starting_salary \u001b[3m\u001b[90m<chr>\u001b[90m\u001b[23m, OPS \u001b[3m\u001b[90m<dbl>\u001b[90m\u001b[23m\u001b[39m\n"
          ],
          "name": "stdout"
        }
      ]
    },
    {
      "cell_type": "markdown",
      "metadata": {
        "id": "_Sfd58Hlivpr",
        "colab_type": "text"
      },
      "source": [
        "* ``rename`` \n",
        " 1. 특정 열의 이름 변경\n",
        " 2. rename(new_name = old_name) "
      ]
    },
    {
      "cell_type": "code",
      "metadata": {
        "id": "rBwBB0ks4LYC",
        "colab_type": "code",
        "colab": {
          "base_uri": "https://localhost:8080/"
        },
        "outputId": "5d5cf45d-07e1-418d-f135-b15c8e76bdc6"
      },
      "source": [
        "DF %>% show()"
      ],
      "execution_count": null,
      "outputs": [
        {
          "output_type": "stream",
          "text": [
            "\u001b[90m# A tibble: 1,393 x 29\u001b[39m\n",
            "   batter_id batter_name  year team  avg       G    AB     R     H  `2B`  `3B`\n",
            "       \u001b[3m\u001b[90m<int>\u001b[39m\u001b[23m \u001b[3m\u001b[90m<chr>\u001b[39m\u001b[23m       \u001b[3m\u001b[90m<int>\u001b[39m\u001b[23m \u001b[3m\u001b[90m<chr>\u001b[39m\u001b[23m \u001b[3m\u001b[90m<chr>\u001b[39m\u001b[23m \u001b[3m\u001b[90m<int>\u001b[39m\u001b[23m \u001b[3m\u001b[90m<int>\u001b[39m\u001b[23m \u001b[3m\u001b[90m<int>\u001b[39m\u001b[23m \u001b[3m\u001b[90m<int>\u001b[39m\u001b[23m \u001b[3m\u001b[90m<int>\u001b[39m\u001b[23m \u001b[3m\u001b[90m<int>\u001b[39m\u001b[23m\n",
            "\u001b[90m 1\u001b[39m         0 가르시아     \u001b[4m2\u001b[24m018 LG    0.350     7    20     1     7     1     0\n",
            "\u001b[90m 2\u001b[39m         1 강경학       \u001b[4m2\u001b[24m011 한화  0.000     4     2     2     0     0     0\n",
            "\u001b[90m 3\u001b[39m         1 강경학       \u001b[4m2\u001b[24m014 한화  -         4     0     2     0     0     0\n",
            "\u001b[90m 4\u001b[39m         1 강경학       \u001b[4m2\u001b[24m015 한화  0.130    10    23     3     3     0     0\n",
            "\u001b[90m 5\u001b[39m         1 강경학       \u001b[4m2\u001b[24m016 한화  0.188    14    32     4     6     1     1\n",
            "\u001b[90m 6\u001b[39m         1 강경학       \u001b[4m2\u001b[24m017 한화  0.222    11    36    10     8     0     0\n",
            "\u001b[90m 7\u001b[39m         2 강구성       \u001b[4m2\u001b[24m013 NC    0.000     3     4     0     0     0     0\n",
            "\u001b[90m 8\u001b[39m         2 강구성       \u001b[4m2\u001b[24m016 NC    0.000     3     1     0     0     0     0\n",
            "\u001b[90m 9\u001b[39m         2 강구성       \u001b[4m2\u001b[24m017 NC    1.000     2     1     0     1     0     0\n",
            "\u001b[90m10\u001b[39m        69 김태완       \u001b[4m2\u001b[24m006 한화  0.200    10    15     0     3     0     0\n",
            "\u001b[90m# … with 1,383 more rows, and 18 more variables: HR \u001b[3m\u001b[90m<int>\u001b[90m\u001b[23m, TB \u001b[3m\u001b[90m<int>\u001b[90m\u001b[23m, RBI \u001b[3m\u001b[90m<int>\u001b[90m\u001b[23m,\u001b[39m\n",
            "\u001b[90m#   SB \u001b[3m\u001b[90m<int>\u001b[90m\u001b[23m, CS \u001b[3m\u001b[90m<int>\u001b[90m\u001b[23m, BB \u001b[3m\u001b[90m<int>\u001b[90m\u001b[23m, HBP \u001b[3m\u001b[90m<int>\u001b[90m\u001b[23m, SO \u001b[3m\u001b[90m<int>\u001b[90m\u001b[23m, GDP \u001b[3m\u001b[90m<int>\u001b[90m\u001b[23m, SLG \u001b[3m\u001b[90m<dbl>\u001b[90m\u001b[23m,\u001b[39m\n",
            "\u001b[90m#   OBP \u001b[3m\u001b[90m<dbl>\u001b[90m\u001b[23m, E \u001b[3m\u001b[90m<int>\u001b[90m\u001b[23m, `height/weight` \u001b[3m\u001b[90m<chr>\u001b[90m\u001b[23m, year_born \u001b[3m\u001b[90m<chr>\u001b[90m\u001b[23m, position \u001b[3m\u001b[90m<chr>\u001b[90m\u001b[23m,\u001b[39m\n",
            "\u001b[90m#   career \u001b[3m\u001b[90m<chr>\u001b[90m\u001b[23m, starting_salary \u001b[3m\u001b[90m<chr>\u001b[90m\u001b[23m, OPS \u001b[3m\u001b[90m<dbl>\u001b[90m\u001b[23m\u001b[39m\n"
          ],
          "name": "stdout"
        }
      ]
    },
    {
      "cell_type": "code",
      "metadata": {
        "id": "jbWLhtvr4Lcw",
        "colab_type": "code",
        "colab": {
          "base_uri": "https://localhost:8080/"
        },
        "outputId": "09646eb8-46e6-4eff-ac7a-1f2caaaf066a"
      },
      "source": [
        "DF %>% rename(타자_고유_ID = batter_id, 타자_이름 = batter_name, 년도 = year) %>% show()"
      ],
      "execution_count": null,
      "outputs": [
        {
          "output_type": "stream",
          "text": [
            "\u001b[90m# A tibble: 1,393 x 29\u001b[39m\n",
            "   타자_고유_ID 타자_이름  년도 team  avg       G    AB     R     H  `2B`  `3B`\n",
            "          \u001b[3m\u001b[90m<int>\u001b[39m\u001b[23m \u001b[3m\u001b[90m<chr>\u001b[39m\u001b[23m     \u001b[3m\u001b[90m<int>\u001b[39m\u001b[23m \u001b[3m\u001b[90m<chr>\u001b[39m\u001b[23m \u001b[3m\u001b[90m<chr>\u001b[39m\u001b[23m \u001b[3m\u001b[90m<int>\u001b[39m\u001b[23m \u001b[3m\u001b[90m<int>\u001b[39m\u001b[23m \u001b[3m\u001b[90m<int>\u001b[39m\u001b[23m \u001b[3m\u001b[90m<int>\u001b[39m\u001b[23m \u001b[3m\u001b[90m<int>\u001b[39m\u001b[23m \u001b[3m\u001b[90m<int>\u001b[39m\u001b[23m\n",
            "\u001b[90m 1\u001b[39m            0 가르시아   \u001b[4m2\u001b[24m018 LG    0.350     7    20     1     7     1     0\n",
            "\u001b[90m 2\u001b[39m            1 강경학     \u001b[4m2\u001b[24m011 한화  0.000     4     2     2     0     0     0\n",
            "\u001b[90m 3\u001b[39m            1 강경학     \u001b[4m2\u001b[24m014 한화  -         4     0     2     0     0     0\n",
            "\u001b[90m 4\u001b[39m            1 강경학     \u001b[4m2\u001b[24m015 한화  0.130    10    23     3     3     0     0\n",
            "\u001b[90m 5\u001b[39m            1 강경학     \u001b[4m2\u001b[24m016 한화  0.188    14    32     4     6     1     1\n",
            "\u001b[90m 6\u001b[39m            1 강경학     \u001b[4m2\u001b[24m017 한화  0.222    11    36    10     8     0     0\n",
            "\u001b[90m 7\u001b[39m            2 강구성     \u001b[4m2\u001b[24m013 NC    0.000     3     4     0     0     0     0\n",
            "\u001b[90m 8\u001b[39m            2 강구성     \u001b[4m2\u001b[24m016 NC    0.000     3     1     0     0     0     0\n",
            "\u001b[90m 9\u001b[39m            2 강구성     \u001b[4m2\u001b[24m017 NC    1.000     2     1     0     1     0     0\n",
            "\u001b[90m10\u001b[39m           69 김태완     \u001b[4m2\u001b[24m006 한화  0.200    10    15     0     3     0     0\n",
            "\u001b[90m# … with 1,383 more rows, and 18 more variables: HR \u001b[3m\u001b[90m<int>\u001b[90m\u001b[23m, TB \u001b[3m\u001b[90m<int>\u001b[90m\u001b[23m, RBI \u001b[3m\u001b[90m<int>\u001b[90m\u001b[23m,\u001b[39m\n",
            "\u001b[90m#   SB \u001b[3m\u001b[90m<int>\u001b[90m\u001b[23m, CS \u001b[3m\u001b[90m<int>\u001b[90m\u001b[23m, BB \u001b[3m\u001b[90m<int>\u001b[90m\u001b[23m, HBP \u001b[3m\u001b[90m<int>\u001b[90m\u001b[23m, SO \u001b[3m\u001b[90m<int>\u001b[90m\u001b[23m, GDP \u001b[3m\u001b[90m<int>\u001b[90m\u001b[23m, SLG \u001b[3m\u001b[90m<dbl>\u001b[90m\u001b[23m,\u001b[39m\n",
            "\u001b[90m#   OBP \u001b[3m\u001b[90m<dbl>\u001b[90m\u001b[23m, E \u001b[3m\u001b[90m<int>\u001b[90m\u001b[23m, `height/weight` \u001b[3m\u001b[90m<chr>\u001b[90m\u001b[23m, year_born \u001b[3m\u001b[90m<chr>\u001b[90m\u001b[23m, position \u001b[3m\u001b[90m<chr>\u001b[90m\u001b[23m,\u001b[39m\n",
            "\u001b[90m#   career \u001b[3m\u001b[90m<chr>\u001b[90m\u001b[23m, starting_salary \u001b[3m\u001b[90m<chr>\u001b[90m\u001b[23m, OPS \u001b[3m\u001b[90m<dbl>\u001b[90m\u001b[23m\u001b[39m\n"
          ],
          "name": "stdout"
        }
      ]
    },
    {
      "cell_type": "markdown",
      "metadata": {
        "id": "aUEqYldE4OBB",
        "colab_type": "text"
      },
      "source": [
        "* ``mutate / transmute``\n",
        " 1. mutate : 기존 dataframe에서 기존 열 변형 또는 새로운 열 생성\n",
        " 2. transmute : 기존 dataframe에서 기존 열 변형 또는 새로운 열을 생성하고, 해당 열 제외하고 모두 제거\n",
        " 3. mutate(새로운 열 = 기존 열의 조합한 수식, ...)"
      ]
    },
    {
      "cell_type": "code",
      "metadata": {
        "id": "qgZfPrlS4QDl",
        "colab_type": "code",
        "colab": {
          "base_uri": "https://localhost:8080/"
        },
        "outputId": "8b066261-d7d3-4a42-9e63-77739970dbb9"
      },
      "source": [
        "DF %>% show()"
      ],
      "execution_count": null,
      "outputs": [
        {
          "output_type": "stream",
          "text": [
            "\u001b[90m# A tibble: 1,393 x 29\u001b[39m\n",
            "   batter_id batter_name  year team  avg       G    AB     R     H  `2B`  `3B`\n",
            "       \u001b[3m\u001b[90m<int>\u001b[39m\u001b[23m \u001b[3m\u001b[90m<chr>\u001b[39m\u001b[23m       \u001b[3m\u001b[90m<int>\u001b[39m\u001b[23m \u001b[3m\u001b[90m<chr>\u001b[39m\u001b[23m \u001b[3m\u001b[90m<chr>\u001b[39m\u001b[23m \u001b[3m\u001b[90m<int>\u001b[39m\u001b[23m \u001b[3m\u001b[90m<int>\u001b[39m\u001b[23m \u001b[3m\u001b[90m<int>\u001b[39m\u001b[23m \u001b[3m\u001b[90m<int>\u001b[39m\u001b[23m \u001b[3m\u001b[90m<int>\u001b[39m\u001b[23m \u001b[3m\u001b[90m<int>\u001b[39m\u001b[23m\n",
            "\u001b[90m 1\u001b[39m         0 가르시아     \u001b[4m2\u001b[24m018 LG    0.350     7    20     1     7     1     0\n",
            "\u001b[90m 2\u001b[39m         1 강경학       \u001b[4m2\u001b[24m011 한화  0.000     4     2     2     0     0     0\n",
            "\u001b[90m 3\u001b[39m         1 강경학       \u001b[4m2\u001b[24m014 한화  -         4     0     2     0     0     0\n",
            "\u001b[90m 4\u001b[39m         1 강경학       \u001b[4m2\u001b[24m015 한화  0.130    10    23     3     3     0     0\n",
            "\u001b[90m 5\u001b[39m         1 강경학       \u001b[4m2\u001b[24m016 한화  0.188    14    32     4     6     1     1\n",
            "\u001b[90m 6\u001b[39m         1 강경학       \u001b[4m2\u001b[24m017 한화  0.222    11    36    10     8     0     0\n",
            "\u001b[90m 7\u001b[39m         2 강구성       \u001b[4m2\u001b[24m013 NC    0.000     3     4     0     0     0     0\n",
            "\u001b[90m 8\u001b[39m         2 강구성       \u001b[4m2\u001b[24m016 NC    0.000     3     1     0     0     0     0\n",
            "\u001b[90m 9\u001b[39m         2 강구성       \u001b[4m2\u001b[24m017 NC    1.000     2     1     0     1     0     0\n",
            "\u001b[90m10\u001b[39m        69 김태완       \u001b[4m2\u001b[24m006 한화  0.200    10    15     0     3     0     0\n",
            "\u001b[90m# … with 1,383 more rows, and 18 more variables: HR \u001b[3m\u001b[90m<int>\u001b[90m\u001b[23m, TB \u001b[3m\u001b[90m<int>\u001b[90m\u001b[23m, RBI \u001b[3m\u001b[90m<int>\u001b[90m\u001b[23m,\u001b[39m\n",
            "\u001b[90m#   SB \u001b[3m\u001b[90m<int>\u001b[90m\u001b[23m, CS \u001b[3m\u001b[90m<int>\u001b[90m\u001b[23m, BB \u001b[3m\u001b[90m<int>\u001b[90m\u001b[23m, HBP \u001b[3m\u001b[90m<int>\u001b[90m\u001b[23m, SO \u001b[3m\u001b[90m<int>\u001b[90m\u001b[23m, GDP \u001b[3m\u001b[90m<int>\u001b[90m\u001b[23m, SLG \u001b[3m\u001b[90m<dbl>\u001b[90m\u001b[23m,\u001b[39m\n",
            "\u001b[90m#   OBP \u001b[3m\u001b[90m<dbl>\u001b[90m\u001b[23m, E \u001b[3m\u001b[90m<int>\u001b[90m\u001b[23m, `height/weight` \u001b[3m\u001b[90m<chr>\u001b[90m\u001b[23m, year_born \u001b[3m\u001b[90m<chr>\u001b[90m\u001b[23m, position \u001b[3m\u001b[90m<chr>\u001b[90m\u001b[23m,\u001b[39m\n",
            "\u001b[90m#   career \u001b[3m\u001b[90m<chr>\u001b[90m\u001b[23m, starting_salary \u001b[3m\u001b[90m<chr>\u001b[90m\u001b[23m, OPS \u001b[3m\u001b[90m<dbl>\u001b[90m\u001b[23m\u001b[39m\n"
          ],
          "name": "stdout"
        }
      ]
    },
    {
      "cell_type": "code",
      "metadata": {
        "id": "W-_fUJa7OQUR",
        "colab_type": "code",
        "colab": {
          "base_uri": "https://localhost:8080/"
        },
        "outputId": "ff8704da-b570-45c0-de74-ebaee8398479"
      },
      "source": [
        "DF %>% mutate(batter_id = batter_id + 100) %>% show() # 기존 열의 변형"
      ],
      "execution_count": null,
      "outputs": [
        {
          "output_type": "stream",
          "text": [
            "\u001b[90m# A tibble: 1,393 x 29\u001b[39m\n",
            "   batter_id batter_name  year team  avg       G    AB     R     H  `2B`  `3B`\n",
            "       \u001b[3m\u001b[90m<dbl>\u001b[39m\u001b[23m \u001b[3m\u001b[90m<chr>\u001b[39m\u001b[23m       \u001b[3m\u001b[90m<int>\u001b[39m\u001b[23m \u001b[3m\u001b[90m<chr>\u001b[39m\u001b[23m \u001b[3m\u001b[90m<chr>\u001b[39m\u001b[23m \u001b[3m\u001b[90m<int>\u001b[39m\u001b[23m \u001b[3m\u001b[90m<int>\u001b[39m\u001b[23m \u001b[3m\u001b[90m<int>\u001b[39m\u001b[23m \u001b[3m\u001b[90m<int>\u001b[39m\u001b[23m \u001b[3m\u001b[90m<int>\u001b[39m\u001b[23m \u001b[3m\u001b[90m<int>\u001b[39m\u001b[23m\n",
            "\u001b[90m 1\u001b[39m       100 가르시아     \u001b[4m2\u001b[24m018 LG    0.350     7    20     1     7     1     0\n",
            "\u001b[90m 2\u001b[39m       101 강경학       \u001b[4m2\u001b[24m011 한화  0.000     4     2     2     0     0     0\n",
            "\u001b[90m 3\u001b[39m       101 강경학       \u001b[4m2\u001b[24m014 한화  -         4     0     2     0     0     0\n",
            "\u001b[90m 4\u001b[39m       101 강경학       \u001b[4m2\u001b[24m015 한화  0.130    10    23     3     3     0     0\n",
            "\u001b[90m 5\u001b[39m       101 강경학       \u001b[4m2\u001b[24m016 한화  0.188    14    32     4     6     1     1\n",
            "\u001b[90m 6\u001b[39m       101 강경학       \u001b[4m2\u001b[24m017 한화  0.222    11    36    10     8     0     0\n",
            "\u001b[90m 7\u001b[39m       102 강구성       \u001b[4m2\u001b[24m013 NC    0.000     3     4     0     0     0     0\n",
            "\u001b[90m 8\u001b[39m       102 강구성       \u001b[4m2\u001b[24m016 NC    0.000     3     1     0     0     0     0\n",
            "\u001b[90m 9\u001b[39m       102 강구성       \u001b[4m2\u001b[24m017 NC    1.000     2     1     0     1     0     0\n",
            "\u001b[90m10\u001b[39m       169 김태완       \u001b[4m2\u001b[24m006 한화  0.200    10    15     0     3     0     0\n",
            "\u001b[90m# … with 1,383 more rows, and 18 more variables: HR \u001b[3m\u001b[90m<int>\u001b[90m\u001b[23m, TB \u001b[3m\u001b[90m<int>\u001b[90m\u001b[23m, RBI \u001b[3m\u001b[90m<int>\u001b[90m\u001b[23m,\u001b[39m\n",
            "\u001b[90m#   SB \u001b[3m\u001b[90m<int>\u001b[90m\u001b[23m, CS \u001b[3m\u001b[90m<int>\u001b[90m\u001b[23m, BB \u001b[3m\u001b[90m<int>\u001b[90m\u001b[23m, HBP \u001b[3m\u001b[90m<int>\u001b[90m\u001b[23m, SO \u001b[3m\u001b[90m<int>\u001b[90m\u001b[23m, GDP \u001b[3m\u001b[90m<int>\u001b[90m\u001b[23m, SLG \u001b[3m\u001b[90m<dbl>\u001b[90m\u001b[23m,\u001b[39m\n",
            "\u001b[90m#   OBP \u001b[3m\u001b[90m<dbl>\u001b[90m\u001b[23m, E \u001b[3m\u001b[90m<int>\u001b[90m\u001b[23m, `height/weight` \u001b[3m\u001b[90m<chr>\u001b[90m\u001b[23m, year_born \u001b[3m\u001b[90m<chr>\u001b[90m\u001b[23m, position \u001b[3m\u001b[90m<chr>\u001b[90m\u001b[23m,\u001b[39m\n",
            "\u001b[90m#   career \u001b[3m\u001b[90m<chr>\u001b[90m\u001b[23m, starting_salary \u001b[3m\u001b[90m<chr>\u001b[90m\u001b[23m, OPS \u001b[3m\u001b[90m<dbl>\u001b[90m\u001b[23m\u001b[39m\n"
          ],
          "name": "stdout"
        }
      ]
    },
    {
      "cell_type": "code",
      "metadata": {
        "id": "GsRGMgIdOkGq",
        "colab_type": "code",
        "colab": {
          "base_uri": "https://localhost:8080/"
        },
        "outputId": "3ee586f9-9a6d-40ea-9703-4ec3fbeeac25"
      },
      "source": [
        "DF %>% mutate(batter_id = paste(batter_id, batter_name, sep = \"_\")) %>% select(-batter_name)%>% show() # 기존 열의 변형 2"
      ],
      "execution_count": null,
      "outputs": [
        {
          "output_type": "stream",
          "text": [
            "\u001b[90m# A tibble: 1,393 x 28\u001b[39m\n",
            "   batter_id  year team  avg       G    AB     R     H  `2B`  `3B`    HR    TB\n",
            "   \u001b[3m\u001b[90m<chr>\u001b[39m\u001b[23m     \u001b[3m\u001b[90m<int>\u001b[39m\u001b[23m \u001b[3m\u001b[90m<chr>\u001b[39m\u001b[23m \u001b[3m\u001b[90m<chr>\u001b[39m\u001b[23m \u001b[3m\u001b[90m<int>\u001b[39m\u001b[23m \u001b[3m\u001b[90m<int>\u001b[39m\u001b[23m \u001b[3m\u001b[90m<int>\u001b[39m\u001b[23m \u001b[3m\u001b[90m<int>\u001b[39m\u001b[23m \u001b[3m\u001b[90m<int>\u001b[39m\u001b[23m \u001b[3m\u001b[90m<int>\u001b[39m\u001b[23m \u001b[3m\u001b[90m<int>\u001b[39m\u001b[23m \u001b[3m\u001b[90m<int>\u001b[39m\u001b[23m\n",
            "\u001b[90m 1\u001b[39m 0_가르시아…  \u001b[4m2\u001b[24m018 LG    0.350     7    20     1     7     1     0     1    11\n",
            "\u001b[90m 2\u001b[39m 1_강경학   \u001b[4m2\u001b[24m011 한화  0.000     4     2     2     0     0     0     0     0\n",
            "\u001b[90m 3\u001b[39m 1_강경학   \u001b[4m2\u001b[24m014 한화  -         4     0     2     0     0     0     0     0\n",
            "\u001b[90m 4\u001b[39m 1_강경학   \u001b[4m2\u001b[24m015 한화  0.130    10    23     3     3     0     0     0     3\n",
            "\u001b[90m 5\u001b[39m 1_강경학   \u001b[4m2\u001b[24m016 한화  0.188    14    32     4     6     1     1     0     9\n",
            "\u001b[90m 6\u001b[39m 1_강경학   \u001b[4m2\u001b[24m017 한화  0.222    11    36    10     8     0     0     2    14\n",
            "\u001b[90m 7\u001b[39m 2_강구성   \u001b[4m2\u001b[24m013 NC    0.000     3     4     0     0     0     0     0     0\n",
            "\u001b[90m 8\u001b[39m 2_강구성   \u001b[4m2\u001b[24m016 NC    0.000     3     1     0     0     0     0     0     0\n",
            "\u001b[90m 9\u001b[39m 2_강구성   \u001b[4m2\u001b[24m017 NC    1.000     2     1     0     1     0     0     0     1\n",
            "\u001b[90m10\u001b[39m 69_김태완  \u001b[4m2\u001b[24m006 한화  0.200    10    15     0     3     0     0     0     3\n",
            "\u001b[90m# … with 1,383 more rows, and 16 more variables: RBI \u001b[3m\u001b[90m<int>\u001b[90m\u001b[23m, SB \u001b[3m\u001b[90m<int>\u001b[90m\u001b[23m, CS \u001b[3m\u001b[90m<int>\u001b[90m\u001b[23m,\u001b[39m\n",
            "\u001b[90m#   BB \u001b[3m\u001b[90m<int>\u001b[90m\u001b[23m, HBP \u001b[3m\u001b[90m<int>\u001b[90m\u001b[23m, SO \u001b[3m\u001b[90m<int>\u001b[90m\u001b[23m, GDP \u001b[3m\u001b[90m<int>\u001b[90m\u001b[23m, SLG \u001b[3m\u001b[90m<dbl>\u001b[90m\u001b[23m, OBP \u001b[3m\u001b[90m<dbl>\u001b[90m\u001b[23m, E \u001b[3m\u001b[90m<int>\u001b[90m\u001b[23m,\u001b[39m\n",
            "\u001b[90m#   `height/weight` \u001b[3m\u001b[90m<chr>\u001b[90m\u001b[23m, year_born \u001b[3m\u001b[90m<chr>\u001b[90m\u001b[23m, position \u001b[3m\u001b[90m<chr>\u001b[90m\u001b[23m, career \u001b[3m\u001b[90m<chr>\u001b[90m\u001b[23m,\u001b[39m\n",
            "\u001b[90m#   starting_salary \u001b[3m\u001b[90m<chr>\u001b[90m\u001b[23m, OPS \u001b[3m\u001b[90m<dbl>\u001b[90m\u001b[23m\u001b[39m\n"
          ],
          "name": "stdout"
        }
      ]
    },
    {
      "cell_type": "code",
      "metadata": {
        "id": "V4eTejGa4QIm",
        "colab_type": "code",
        "colab": {}
      },
      "source": [
        "DF %>% mutate(G_R = R / G) # 경기 당(G) 득점(R), 추가되는 열은 끝으로 이동"
      ],
      "execution_count": null,
      "outputs": []
    },
    {
      "cell_type": "code",
      "metadata": {
        "id": "K7RndEF_4QNv",
        "colab_type": "code",
        "colab": {}
      },
      "source": [
        ""
      ],
      "execution_count": null,
      "outputs": []
    },
    {
      "cell_type": "code",
      "metadata": {
        "id": "D0q2RPwh4QTv",
        "colab_type": "code",
        "colab": {
          "base_uri": "https://localhost:8080/"
        },
        "outputId": "623742b7-3e4e-4302-9a30-2f8736fd868e"
      },
      "source": [
        "DF %>% transmute(batter_id = paste(batter_id, batter_name, sep = \"_\")) %>% show() # transmute"
      ],
      "execution_count": null,
      "outputs": [
        {
          "output_type": "stream",
          "text": [
            "\u001b[90m# A tibble: 1,393 x 1\u001b[39m\n",
            "   batter_id \n",
            "   \u001b[3m\u001b[90m<chr>\u001b[39m\u001b[23m     \n",
            "\u001b[90m 1\u001b[39m 0_가르시아\n",
            "\u001b[90m 2\u001b[39m 1_강경학  \n",
            "\u001b[90m 3\u001b[39m 1_강경학  \n",
            "\u001b[90m 4\u001b[39m 1_강경학  \n",
            "\u001b[90m 5\u001b[39m 1_강경학  \n",
            "\u001b[90m 6\u001b[39m 1_강경학  \n",
            "\u001b[90m 7\u001b[39m 2_강구성  \n",
            "\u001b[90m 8\u001b[39m 2_강구성  \n",
            "\u001b[90m 9\u001b[39m 2_강구성  \n",
            "\u001b[90m10\u001b[39m 69_김태완 \n",
            "\u001b[90m# … with 1,383 more rows\u001b[39m\n"
          ],
          "name": "stdout"
        }
      ]
    },
    {
      "cell_type": "markdown",
      "metadata": {
        "id": "RS8kxu2E6YOv",
        "colab_type": "text"
      },
      "source": [
        "* ``sample_frac, sample_n``\n",
        "\n",
        "**<arguments!>**\n",
        " 1. ``size`` For sample_n(), the number of rows to select. For sample_frac(), the fraction of rows to select. If tbl is grouped, size applies to each group.\n",
        " 2. ``replace`` Sample with or without replacement?"
      ]
    },
    {
      "cell_type": "code",
      "metadata": {
        "id": "Ru2qiyZJPqIc",
        "colab_type": "code",
        "colab": {
          "base_uri": "https://localhost:8080/"
        },
        "outputId": "576149d1-a229-41d2-e902-146ba55fb6d6"
      },
      "source": [
        "train_set <- sample_n(DF, 1, replace = F) # sample_n\n",
        "train_set %>% show()"
      ],
      "execution_count": null,
      "outputs": [
        {
          "output_type": "stream",
          "text": [
            "\u001b[90m# A tibble: 1 x 29\u001b[39m\n",
            "  batter_id batter_name  year team  avg       G    AB     R     H  `2B`  `3B`\n",
            "      \u001b[3m\u001b[90m<int>\u001b[39m\u001b[23m \u001b[3m\u001b[90m<chr>\u001b[39m\u001b[23m       \u001b[3m\u001b[90m<int>\u001b[39m\u001b[23m \u001b[3m\u001b[90m<chr>\u001b[39m\u001b[23m \u001b[3m\u001b[90m<chr>\u001b[39m\u001b[23m \u001b[3m\u001b[90m<int>\u001b[39m\u001b[23m \u001b[3m\u001b[90m<int>\u001b[39m\u001b[23m \u001b[3m\u001b[90m<int>\u001b[39m\u001b[23m \u001b[3m\u001b[90m<int>\u001b[39m\u001b[23m \u001b[3m\u001b[90m<int>\u001b[39m\u001b[23m \u001b[3m\u001b[90m<int>\u001b[39m\u001b[23m\n",
            "\u001b[90m1\u001b[39m        71 김하성       \u001b[4m2\u001b[24m015 넥센  0.148    11    27     2     4     1     0\n",
            "\u001b[90m# … with 18 more variables: HR \u001b[3m\u001b[90m<int>\u001b[90m\u001b[23m, TB \u001b[3m\u001b[90m<int>\u001b[90m\u001b[23m, RBI \u001b[3m\u001b[90m<int>\u001b[90m\u001b[23m, SB \u001b[3m\u001b[90m<int>\u001b[90m\u001b[23m, CS \u001b[3m\u001b[90m<int>\u001b[90m\u001b[23m,\u001b[39m\n",
            "\u001b[90m#   BB \u001b[3m\u001b[90m<int>\u001b[90m\u001b[23m, HBP \u001b[3m\u001b[90m<int>\u001b[90m\u001b[23m, SO \u001b[3m\u001b[90m<int>\u001b[90m\u001b[23m, GDP \u001b[3m\u001b[90m<int>\u001b[90m\u001b[23m, SLG \u001b[3m\u001b[90m<dbl>\u001b[90m\u001b[23m, OBP \u001b[3m\u001b[90m<dbl>\u001b[90m\u001b[23m, E \u001b[3m\u001b[90m<int>\u001b[90m\u001b[23m,\u001b[39m\n",
            "\u001b[90m#   `height/weight` \u001b[3m\u001b[90m<chr>\u001b[90m\u001b[23m, year_born \u001b[3m\u001b[90m<chr>\u001b[90m\u001b[23m, position \u001b[3m\u001b[90m<chr>\u001b[90m\u001b[23m, career \u001b[3m\u001b[90m<chr>\u001b[90m\u001b[23m,\u001b[39m\n",
            "\u001b[90m#   starting_salary \u001b[3m\u001b[90m<chr>\u001b[90m\u001b[23m, OPS \u001b[3m\u001b[90m<dbl>\u001b[90m\u001b[23m\u001b[39m\n"
          ],
          "name": "stdout"
        }
      ]
    },
    {
      "cell_type": "code",
      "metadata": {
        "id": "JDkGjEvrPzla",
        "colab_type": "code",
        "colab": {
          "base_uri": "https://localhost:8080/"
        },
        "outputId": "4e80383c-a4aa-4e29-ee8e-285dd47d671c"
      },
      "source": [
        "train_set <- sample_n(DF, 34, replace = F) # sample_n\n",
        "train_set %>% show()"
      ],
      "execution_count": null,
      "outputs": [
        {
          "output_type": "stream",
          "text": [
            "\u001b[90m# A tibble: 34 x 29\u001b[39m\n",
            "   batter_id batter_name  year team  avg       G    AB     R     H  `2B`  `3B`\n",
            "       \u001b[3m\u001b[90m<int>\u001b[39m\u001b[23m \u001b[3m\u001b[90m<chr>\u001b[39m\u001b[23m       \u001b[3m\u001b[90m<int>\u001b[39m\u001b[23m \u001b[3m\u001b[90m<chr>\u001b[39m\u001b[23m \u001b[3m\u001b[90m<chr>\u001b[39m\u001b[23m \u001b[3m\u001b[90m<int>\u001b[39m\u001b[23m \u001b[3m\u001b[90m<int>\u001b[39m\u001b[23m \u001b[3m\u001b[90m<int>\u001b[39m\u001b[23m \u001b[3m\u001b[90m<int>\u001b[39m\u001b[23m \u001b[3m\u001b[90m<int>\u001b[39m\u001b[23m \u001b[3m\u001b[90m<int>\u001b[39m\u001b[23m\n",
            "\u001b[90m 1\u001b[39m        84 나지완       \u001b[4m2\u001b[24m016 KIA   0.296    13    27     5     8     1     0\n",
            "\u001b[90m 2\u001b[39m       111 박동원       \u001b[4m2\u001b[24m015 넥센  0.500     2     4     0     2     0     0\n",
            "\u001b[90m 3\u001b[39m       238 이택근       \u001b[4m2\u001b[24m003 현대  0.192    12    26     3     5     1     0\n",
            "\u001b[90m 4\u001b[39m       264 정근우       \u001b[4m2\u001b[24m014 한화  0.292     8    24     1     7     2     0\n",
            "\u001b[90m 5\u001b[39m       301 채태인       \u001b[4m2\u001b[24m014 삼성  0.111     7    18     1     2     1     0\n",
            "\u001b[90m 6\u001b[39m       178 오선진       \u001b[4m2\u001b[24m012 한화  0.000     7     5     0     0     0     0\n",
            "\u001b[90m 7\u001b[39m       103 민병헌       \u001b[4m2\u001b[24m006 두산  0.333     8     6     2     2     0     0\n",
            "\u001b[90m 8\u001b[39m       251 장민석       \u001b[4m2\u001b[24m011 넥센  0.200    12    25     2     5     0     1\n",
            "\u001b[90m 9\u001b[39m       252 장성우       \u001b[4m2\u001b[24m011 롯데  0.200    12    15     0     3     0     0\n",
            "\u001b[90m10\u001b[39m       117 박승욱       \u001b[4m2\u001b[24m018 SK    0.455     6    11     4     5     1     0\n",
            "\u001b[90m# … with 24 more rows, and 18 more variables: HR \u001b[3m\u001b[90m<int>\u001b[90m\u001b[23m, TB \u001b[3m\u001b[90m<int>\u001b[90m\u001b[23m, RBI \u001b[3m\u001b[90m<int>\u001b[90m\u001b[23m,\u001b[39m\n",
            "\u001b[90m#   SB \u001b[3m\u001b[90m<int>\u001b[90m\u001b[23m, CS \u001b[3m\u001b[90m<int>\u001b[90m\u001b[23m, BB \u001b[3m\u001b[90m<int>\u001b[90m\u001b[23m, HBP \u001b[3m\u001b[90m<int>\u001b[90m\u001b[23m, SO \u001b[3m\u001b[90m<int>\u001b[90m\u001b[23m, GDP \u001b[3m\u001b[90m<int>\u001b[90m\u001b[23m, SLG \u001b[3m\u001b[90m<dbl>\u001b[90m\u001b[23m,\u001b[39m\n",
            "\u001b[90m#   OBP \u001b[3m\u001b[90m<dbl>\u001b[90m\u001b[23m, E \u001b[3m\u001b[90m<int>\u001b[90m\u001b[23m, `height/weight` \u001b[3m\u001b[90m<chr>\u001b[90m\u001b[23m, year_born \u001b[3m\u001b[90m<chr>\u001b[90m\u001b[23m, position \u001b[3m\u001b[90m<chr>\u001b[90m\u001b[23m,\u001b[39m\n",
            "\u001b[90m#   career \u001b[3m\u001b[90m<chr>\u001b[90m\u001b[23m, starting_salary \u001b[3m\u001b[90m<chr>\u001b[90m\u001b[23m, OPS \u001b[3m\u001b[90m<dbl>\u001b[90m\u001b[23m\u001b[39m\n"
          ],
          "name": "stdout"
        }
      ]
    },
    {
      "cell_type": "code",
      "metadata": {
        "id": "raPA_g-lb1cW",
        "colab_type": "code",
        "colab": {}
      },
      "source": [
        ""
      ],
      "execution_count": null,
      "outputs": []
    },
    {
      "cell_type": "code",
      "metadata": {
        "id": "y-EGngSP7D3B",
        "colab_type": "code",
        "colab": {
          "base_uri": "https://localhost:8080/"
        },
        "outputId": "b0cb4e2d-0cf7-4bc0-db23-5fd7f6fb86e8"
      },
      "source": [
        "train_set <- sample_frac(DF, 0.7, replace = F) # sample_frac\n",
        "train_set %>% show()"
      ],
      "execution_count": null,
      "outputs": [
        {
          "output_type": "stream",
          "text": [
            "\u001b[90m# A tibble: 975 x 29\u001b[39m\n",
            "   batter_id batter_name  year team  avg       G    AB     R     H  `2B`  `3B`\n",
            "       \u001b[3m\u001b[90m<int>\u001b[39m\u001b[23m \u001b[3m\u001b[90m<chr>\u001b[39m\u001b[23m       \u001b[3m\u001b[90m<int>\u001b[39m\u001b[23m \u001b[3m\u001b[90m<chr>\u001b[39m\u001b[23m \u001b[3m\u001b[90m<chr>\u001b[39m\u001b[23m \u001b[3m\u001b[90m<int>\u001b[39m\u001b[23m \u001b[3m\u001b[90m<int>\u001b[39m\u001b[23m \u001b[3m\u001b[90m<int>\u001b[39m\u001b[23m \u001b[3m\u001b[90m<int>\u001b[39m\u001b[23m \u001b[3m\u001b[90m<int>\u001b[39m\u001b[23m \u001b[3m\u001b[90m<int>\u001b[39m\u001b[23m\n",
            "\u001b[90m 1\u001b[39m       103 민병헌       \u001b[4m2\u001b[24m006 두산  0.333     8     6     2     2     0     0\n",
            "\u001b[90m 2\u001b[39m        37 김민수       \u001b[4m2\u001b[24m014 한화  0.217    11    23     2     5     1     0\n",
            "\u001b[90m 3\u001b[39m       274 정의윤       \u001b[4m2\u001b[24m005 LG    0.235    13    34     1     8     1     0\n",
            "\u001b[90m 4\u001b[39m       310 최원준       \u001b[4m2\u001b[24m017 KIA   0.296    11    27     4     8     1     1\n",
            "\u001b[90m 5\u001b[39m        36 김민성       \u001b[4m2\u001b[24m010 넥센  0.150    10    20     1     3     0     0\n",
            "\u001b[90m 6\u001b[39m       265 정범모       \u001b[4m2\u001b[24m012 한화  0.353    11    17     3     6     1     0\n",
            "\u001b[90m 7\u001b[39m       319 최형우       \u001b[4m2\u001b[24m009 삼성  0.263     6    19     3     5     0     0\n",
            "\u001b[90m 8\u001b[39m       308 최영진       \u001b[4m2\u001b[24m016 두산  0.000     3     1     2     0     0     0\n",
            "\u001b[90m 9\u001b[39m       224 이재원       \u001b[4m2\u001b[24m007 SK    0.667     2     3     0     2     0     0\n",
            "\u001b[90m10\u001b[39m       130 박찬도       \u001b[4m2\u001b[24m014 삼성  0.200    10     5     3     1     0     0\n",
            "\u001b[90m# … with 965 more rows, and 18 more variables: HR \u001b[3m\u001b[90m<int>\u001b[90m\u001b[23m, TB \u001b[3m\u001b[90m<int>\u001b[90m\u001b[23m, RBI \u001b[3m\u001b[90m<int>\u001b[90m\u001b[23m,\u001b[39m\n",
            "\u001b[90m#   SB \u001b[3m\u001b[90m<int>\u001b[90m\u001b[23m, CS \u001b[3m\u001b[90m<int>\u001b[90m\u001b[23m, BB \u001b[3m\u001b[90m<int>\u001b[90m\u001b[23m, HBP \u001b[3m\u001b[90m<int>\u001b[90m\u001b[23m, SO \u001b[3m\u001b[90m<int>\u001b[90m\u001b[23m, GDP \u001b[3m\u001b[90m<int>\u001b[90m\u001b[23m, SLG \u001b[3m\u001b[90m<dbl>\u001b[90m\u001b[23m,\u001b[39m\n",
            "\u001b[90m#   OBP \u001b[3m\u001b[90m<dbl>\u001b[90m\u001b[23m, E \u001b[3m\u001b[90m<int>\u001b[90m\u001b[23m, `height/weight` \u001b[3m\u001b[90m<chr>\u001b[90m\u001b[23m, year_born \u001b[3m\u001b[90m<chr>\u001b[90m\u001b[23m, position \u001b[3m\u001b[90m<chr>\u001b[90m\u001b[23m,\u001b[39m\n",
            "\u001b[90m#   career \u001b[3m\u001b[90m<chr>\u001b[90m\u001b[23m, starting_salary \u001b[3m\u001b[90m<chr>\u001b[90m\u001b[23m, OPS \u001b[3m\u001b[90m<dbl>\u001b[90m\u001b[23m\u001b[39m\n"
          ],
          "name": "stdout"
        }
      ]
    },
    {
      "cell_type": "code",
      "metadata": {
        "id": "kW3sUyT_P5dE",
        "colab_type": "code",
        "colab": {
          "base_uri": "https://localhost:8080/"
        },
        "outputId": "af5cabc6-dd6f-41e8-e4b0-cc8daa61f9cd"
      },
      "source": [
        "train_set <- sample_frac(DF, 1, replace = F) # sample_frac\n",
        "train_set %>% show()"
      ],
      "execution_count": null,
      "outputs": [
        {
          "output_type": "stream",
          "text": [
            "\u001b[90m# A tibble: 1,393 x 29\u001b[39m\n",
            "   batter_id batter_name  year team  avg       G    AB     R     H  `2B`  `3B`\n",
            "       \u001b[3m\u001b[90m<int>\u001b[39m\u001b[23m \u001b[3m\u001b[90m<chr>\u001b[39m\u001b[23m       \u001b[3m\u001b[90m<int>\u001b[39m\u001b[23m \u001b[3m\u001b[90m<chr>\u001b[39m\u001b[23m \u001b[3m\u001b[90m<chr>\u001b[39m\u001b[23m \u001b[3m\u001b[90m<int>\u001b[39m\u001b[23m \u001b[3m\u001b[90m<int>\u001b[39m\u001b[23m \u001b[3m\u001b[90m<int>\u001b[39m\u001b[23m \u001b[3m\u001b[90m<int>\u001b[39m\u001b[23m \u001b[3m\u001b[90m<int>\u001b[39m\u001b[23m \u001b[3m\u001b[90m<int>\u001b[39m\u001b[23m\n",
            "\u001b[90m 1\u001b[39m       307 최승준       \u001b[4m2\u001b[24m014 LG    0.300     6    10     3     3     1     0\n",
            "\u001b[90m 2\u001b[39m       342 황재균       \u001b[4m2\u001b[24m012 롯데  0.154    12    26     2     4     2     0\n",
            "\u001b[90m 3\u001b[39m         5 강백호       \u001b[4m2\u001b[24m018 KT    0.333     6    18     2     6     1     0\n",
            "\u001b[90m 4\u001b[39m       252 장성우       \u001b[4m2\u001b[24m015 KT    0.200    11    20     1     4     2     0\n",
            "\u001b[90m 5\u001b[39m        85 남태혁       \u001b[4m2\u001b[24m017 KT    0.200     8    10     1     2     0     0\n",
            "\u001b[90m 6\u001b[39m       162 신성현       \u001b[4m2\u001b[24m016 한화  0.286    14    35     6    10     1     0\n",
            "\u001b[90m 7\u001b[39m        84 나지완       \u001b[4m2\u001b[24m017 KIA   0.211     9    19     4     4     1     0\n",
            "\u001b[90m 8\u001b[39m       112 박민우       \u001b[4m2\u001b[24m014 NC    0.292    11    24     8     7     1     1\n",
            "\u001b[90m 9\u001b[39m         4 강민호       \u001b[4m2\u001b[24m017 롯데  0.300    10    20     1     6     0     0\n",
            "\u001b[90m10\u001b[39m       123 박정권       \u001b[4m2\u001b[24m007 SK    0.150     9    20     1     3     1     0\n",
            "\u001b[90m# … with 1,383 more rows, and 18 more variables: HR \u001b[3m\u001b[90m<int>\u001b[90m\u001b[23m, TB \u001b[3m\u001b[90m<int>\u001b[90m\u001b[23m, RBI \u001b[3m\u001b[90m<int>\u001b[90m\u001b[23m,\u001b[39m\n",
            "\u001b[90m#   SB \u001b[3m\u001b[90m<int>\u001b[90m\u001b[23m, CS \u001b[3m\u001b[90m<int>\u001b[90m\u001b[23m, BB \u001b[3m\u001b[90m<int>\u001b[90m\u001b[23m, HBP \u001b[3m\u001b[90m<int>\u001b[90m\u001b[23m, SO \u001b[3m\u001b[90m<int>\u001b[90m\u001b[23m, GDP \u001b[3m\u001b[90m<int>\u001b[90m\u001b[23m, SLG \u001b[3m\u001b[90m<dbl>\u001b[90m\u001b[23m,\u001b[39m\n",
            "\u001b[90m#   OBP \u001b[3m\u001b[90m<dbl>\u001b[90m\u001b[23m, E \u001b[3m\u001b[90m<int>\u001b[90m\u001b[23m, `height/weight` \u001b[3m\u001b[90m<chr>\u001b[90m\u001b[23m, year_born \u001b[3m\u001b[90m<chr>\u001b[90m\u001b[23m, position \u001b[3m\u001b[90m<chr>\u001b[90m\u001b[23m,\u001b[39m\n",
            "\u001b[90m#   career \u001b[3m\u001b[90m<chr>\u001b[90m\u001b[23m, starting_salary \u001b[3m\u001b[90m<chr>\u001b[90m\u001b[23m, OPS \u001b[3m\u001b[90m<dbl>\u001b[90m\u001b[23m\u001b[39m\n"
          ],
          "name": "stdout"
        }
      ]
    },
    {
      "cell_type": "code",
      "metadata": {
        "id": "Y4MtZkpIb3C6",
        "colab_type": "code",
        "colab": {}
      },
      "source": [
        ""
      ],
      "execution_count": null,
      "outputs": []
    },
    {
      "cell_type": "code",
      "metadata": {
        "id": "8LNkc80O8Gp7",
        "colab_type": "code",
        "colab": {
          "base_uri": "https://localhost:8080/"
        },
        "outputId": "017bb469-1724-4cf8-837a-d083b271eef9"
      },
      "source": [
        "# setdiff와 sample_frac을 이용한 training/test set 생성\n",
        "train_set <- sample_frac(DF, 0.7, replace = F) \n",
        "train_set %>% show()"
      ],
      "execution_count": null,
      "outputs": [
        {
          "output_type": "stream",
          "text": [
            "\u001b[90m# A tibble: 975 x 29\u001b[39m\n",
            "   batter_id batter_name  year team  avg       G    AB     R     H  `2B`  `3B`\n",
            "       \u001b[3m\u001b[90m<int>\u001b[39m\u001b[23m \u001b[3m\u001b[90m<chr>\u001b[39m\u001b[23m       \u001b[3m\u001b[90m<int>\u001b[39m\u001b[23m \u001b[3m\u001b[90m<chr>\u001b[39m\u001b[23m \u001b[3m\u001b[90m<chr>\u001b[39m\u001b[23m \u001b[3m\u001b[90m<int>\u001b[39m\u001b[23m \u001b[3m\u001b[90m<int>\u001b[39m\u001b[23m \u001b[3m\u001b[90m<int>\u001b[39m\u001b[23m \u001b[3m\u001b[90m<int>\u001b[39m\u001b[23m \u001b[3m\u001b[90m<int>\u001b[39m\u001b[23m \u001b[3m\u001b[90m<int>\u001b[39m\u001b[23m\n",
            "\u001b[90m 1\u001b[39m        41 김상수       \u001b[4m2\u001b[24m009 삼성  0.348    13    46     8    16     1     1\n",
            "\u001b[90m 2\u001b[39m        69 김태완       \u001b[4m2\u001b[24m008 한화  0.375    10    24     3     9     1     0\n",
            "\u001b[90m 3\u001b[39m       238 이택근       \u001b[4m2\u001b[24m007 현대  0.194     9    36     4     7     0     0\n",
            "\u001b[90m 4\u001b[39m       264 정근우       \u001b[4m2\u001b[24m014 한화  0.292     8    24     1     7     2     0\n",
            "\u001b[90m 5\u001b[39m       207 이범호       \u001b[4m2\u001b[24m003 한화  0.297    13    37     7    11     2     1\n",
            "\u001b[90m 6\u001b[39m       148 손시헌       \u001b[4m2\u001b[24m015 NC    0.190    10    21     0     4     1     0\n",
            "\u001b[90m 7\u001b[39m        63 김주형       \u001b[4m2\u001b[24m014 KIA   0.353    12    34     2    12     5     0\n",
            "\u001b[90m 8\u001b[39m       148 손시헌       \u001b[4m2\u001b[24m012 두산  0.333    12    30     2    10     1     0\n",
            "\u001b[90m 9\u001b[39m       187 유강남       \u001b[4m2\u001b[24m012 LG    0.250    10    20     1     5     0     0\n",
            "\u001b[90m10\u001b[39m       201 이대형       \u001b[4m2\u001b[24m010 LG    0.275    11    40     7    11     2     1\n",
            "\u001b[90m# … with 965 more rows, and 18 more variables: HR \u001b[3m\u001b[90m<int>\u001b[90m\u001b[23m, TB \u001b[3m\u001b[90m<int>\u001b[90m\u001b[23m, RBI \u001b[3m\u001b[90m<int>\u001b[90m\u001b[23m,\u001b[39m\n",
            "\u001b[90m#   SB \u001b[3m\u001b[90m<int>\u001b[90m\u001b[23m, CS \u001b[3m\u001b[90m<int>\u001b[90m\u001b[23m, BB \u001b[3m\u001b[90m<int>\u001b[90m\u001b[23m, HBP \u001b[3m\u001b[90m<int>\u001b[90m\u001b[23m, SO \u001b[3m\u001b[90m<int>\u001b[90m\u001b[23m, GDP \u001b[3m\u001b[90m<int>\u001b[90m\u001b[23m, SLG \u001b[3m\u001b[90m<dbl>\u001b[90m\u001b[23m,\u001b[39m\n",
            "\u001b[90m#   OBP \u001b[3m\u001b[90m<dbl>\u001b[90m\u001b[23m, E \u001b[3m\u001b[90m<int>\u001b[90m\u001b[23m, `height/weight` \u001b[3m\u001b[90m<chr>\u001b[90m\u001b[23m, year_born \u001b[3m\u001b[90m<chr>\u001b[90m\u001b[23m, position \u001b[3m\u001b[90m<chr>\u001b[90m\u001b[23m,\u001b[39m\n",
            "\u001b[90m#   career \u001b[3m\u001b[90m<chr>\u001b[90m\u001b[23m, starting_salary \u001b[3m\u001b[90m<chr>\u001b[90m\u001b[23m, OPS \u001b[3m\u001b[90m<dbl>\u001b[90m\u001b[23m\u001b[39m\n"
          ],
          "name": "stdout"
        }
      ]
    },
    {
      "cell_type": "code",
      "metadata": {
        "id": "Qs9aic1jQG3H",
        "colab_type": "code",
        "colab": {
          "base_uri": "https://localhost:8080/"
        },
        "outputId": "6c465a0c-27fd-447c-ce01-6dc6a43f71a6"
      },
      "source": [
        "test_set <- setdiff(DF, train_set)\n",
        "test_set %>% show()"
      ],
      "execution_count": null,
      "outputs": [
        {
          "output_type": "stream",
          "text": [
            "\u001b[90m# A tibble: 418 x 29\u001b[39m\n",
            "   batter_id batter_name  year team  avg       G    AB     R     H  `2B`  `3B`\n",
            "       \u001b[3m\u001b[90m<int>\u001b[39m\u001b[23m \u001b[3m\u001b[90m<chr>\u001b[39m\u001b[23m       \u001b[3m\u001b[90m<int>\u001b[39m\u001b[23m \u001b[3m\u001b[90m<chr>\u001b[39m\u001b[23m \u001b[3m\u001b[90m<chr>\u001b[39m\u001b[23m \u001b[3m\u001b[90m<int>\u001b[39m\u001b[23m \u001b[3m\u001b[90m<int>\u001b[39m\u001b[23m \u001b[3m\u001b[90m<int>\u001b[39m\u001b[23m \u001b[3m\u001b[90m<int>\u001b[39m\u001b[23m \u001b[3m\u001b[90m<int>\u001b[39m\u001b[23m \u001b[3m\u001b[90m<int>\u001b[39m\u001b[23m\n",
            "\u001b[90m 1\u001b[39m        69 김태완       \u001b[4m2\u001b[24m007 한화  0.318     8    22     4     7     3     0\n",
            "\u001b[90m 2\u001b[39m        69 김태완       \u001b[4m2\u001b[24m013 한화  0.250     9    28     3     7     0     0\n",
            "\u001b[90m 3\u001b[39m        69 김태완       \u001b[4m2\u001b[24m018 넥센  0.375     5     8     2     3     1     0\n",
            "\u001b[90m 4\u001b[39m         3 강민국       \u001b[4m2\u001b[24m015 NC    0.100     9    10     2     1     1     0\n",
            "\u001b[90m 5\u001b[39m         4 강민호       \u001b[4m2\u001b[24m008 롯데  0.200     5    10     0     2     1     0\n",
            "\u001b[90m 6\u001b[39m         4 강민호       \u001b[4m2\u001b[24m010 롯데  0.261    10    23     8     6     1     0\n",
            "\u001b[90m 7\u001b[39m         4 강민호       \u001b[4m2\u001b[24m015 롯데  0.158    10    19     1     3     0     0\n",
            "\u001b[90m 8\u001b[39m         5 강백호       \u001b[4m2\u001b[24m018 KT    0.333     6    18     2     6     1     0\n",
            "\u001b[90m 9\u001b[39m         9 강승호       \u001b[4m2\u001b[24m013 LG    0.250     7    12     2     3     2     0\n",
            "\u001b[90m10\u001b[39m         9 강승호       \u001b[4m2\u001b[24m016 LG    0.250    13    32     1     8     0     2\n",
            "\u001b[90m# … with 408 more rows, and 18 more variables: HR \u001b[3m\u001b[90m<int>\u001b[90m\u001b[23m, TB \u001b[3m\u001b[90m<int>\u001b[90m\u001b[23m, RBI \u001b[3m\u001b[90m<int>\u001b[90m\u001b[23m,\u001b[39m\n",
            "\u001b[90m#   SB \u001b[3m\u001b[90m<int>\u001b[90m\u001b[23m, CS \u001b[3m\u001b[90m<int>\u001b[90m\u001b[23m, BB \u001b[3m\u001b[90m<int>\u001b[90m\u001b[23m, HBP \u001b[3m\u001b[90m<int>\u001b[90m\u001b[23m, SO \u001b[3m\u001b[90m<int>\u001b[90m\u001b[23m, GDP \u001b[3m\u001b[90m<int>\u001b[90m\u001b[23m, SLG \u001b[3m\u001b[90m<dbl>\u001b[90m\u001b[23m,\u001b[39m\n",
            "\u001b[90m#   OBP \u001b[3m\u001b[90m<dbl>\u001b[90m\u001b[23m, E \u001b[3m\u001b[90m<int>\u001b[90m\u001b[23m, `height/weight` \u001b[3m\u001b[90m<chr>\u001b[90m\u001b[23m, year_born \u001b[3m\u001b[90m<chr>\u001b[90m\u001b[23m, position \u001b[3m\u001b[90m<chr>\u001b[90m\u001b[23m,\u001b[39m\n",
            "\u001b[90m#   career \u001b[3m\u001b[90m<chr>\u001b[90m\u001b[23m, starting_salary \u001b[3m\u001b[90m<chr>\u001b[90m\u001b[23m, OPS \u001b[3m\u001b[90m<dbl>\u001b[90m\u001b[23m\u001b[39m\n"
          ],
          "name": "stdout"
        }
      ]
    },
    {
      "cell_type": "code",
      "metadata": {
        "id": "Yhz6_wzqfIm0",
        "colab_type": "code",
        "colab": {}
      },
      "source": [
        ""
      ],
      "execution_count": null,
      "outputs": []
    },
    {
      "cell_type": "markdown",
      "metadata": {
        "id": "tw2HO6szheNQ",
        "colab_type": "text"
      },
      "source": [
        "# **<4주차 과제 - 100점>**\n",
        "\n",
        "### **(1) 각각의 문제 바로 아래에 답을 작성 후, lab4.ipynb 파일을 한림SmartLEAD에 제출할 것**\n",
        "### **(2) 제출 데드라인 : 2020.9.21(월요일) ~ 2020.9.27(일요일) 23:59 까지**\n",
        "### **(3) 부정행위 적발 시, 원본(보여준 사람)과 복사본(베낀 사람) 모두 0점 처리**\n",
        "### **(4) !!해당 문제의 코드와 출력 결과를 반드시 기록할 것(둘 중 하나라도 없으면 해당 문제 0점처리)!!**\n",
        "\n",
        "\n",
        "- - -\n"
      ]
    },
    {
      "cell_type": "markdown",
      "metadata": {
        "id": "QvJeTokHhogT",
        "colab_type": "text"
      },
      "source": [
        "## 1. 다음의 코드를 ``%>%``를 이용하여 동일한 결과가 출력되도록 작성하시오 ( https://gomguard.tistory.com/243 참고) **(20 점)**\n",
        "\n",
        "```\n",
        "summarise(group_by(mutate(filter(select(iris, Sepal.Length, Species), Sepal.Length >= 5), Petal.Length = 1), Species), n())\n",
        "\n",
        "\n",
        "## 출력 예시\n",
        "\n",
        "A tibble: 3 × 2\n",
        "Species\tn()\n",
        " <fct>\t<int>\n",
        "setosa\t30\n",
        "versicolor\t49\n",
        "virginica\t49\n",
        "```\n",
        "\n"
      ]
    },
    {
      "cell_type": "code",
      "metadata": {
        "id": "wnSGhrEkhjGk",
        "colab_type": "code",
        "colab": {}
      },
      "source": [
        "## 답안 작성\n",
        "#\n",
        "iris %>% ???"
      ],
      "execution_count": null,
      "outputs": []
    },
    {
      "cell_type": "markdown",
      "metadata": {
        "id": "rV6esnV6k_O7",
        "colab_type": "text"
      },
      "source": [
        "## 2. 주어진 조건을 이용해여 DF에서 새로운 데이터 프레임을 추출하시오(60 점, 문제당 20점)\n",
        "\n",
        "* dplyr 함수 사용(select, filter, groupby, summarise)\n",
        "\n",
        " (1) DF에서 문자형(chr) 열을 제외한 모든 열(column) - select\n",
        "\n",
        " (2) DF에서 team이 \"두산\" 또는 \"한화\"이고 G가 10 이상인 모든 행(row) - filter\n",
        "\n",
        " (3) DF에서 team 별(key) SLG, OPB의 평균과 R의 합 - group_by, summarise\n",
        "\n",
        "\n"
      ]
    },
    {
      "cell_type": "code",
      "metadata": {
        "id": "zUOjP5eooFzF",
        "colab_type": "code",
        "colab": {}
      },
      "source": [
        "# 사용 데이터\n",
        "DF <- fread(\"ftp://210.115.229.94/2020_datascience/6th_data/Pre_Season_Batter.csv\", header = T, encoding = \"UTF-8\") %>%\n",
        "  as_tibble()"
      ],
      "execution_count": null,
      "outputs": []
    },
    {
      "cell_type": "code",
      "metadata": {
        "id": "T9Doa4ExowOT",
        "colab_type": "code",
        "colab": {
          "base_uri": "https://localhost:8080/",
          "height": 306
        },
        "outputId": "46f84b55-2bc1-4163-cdd5-ab2b9939d8f3"
      },
      "source": [
        "DF %>% show()"
      ],
      "execution_count": null,
      "outputs": [
        {
          "output_type": "stream",
          "text": [
            "\u001b[90m# A tibble: 1,393 x 29\u001b[39m\n",
            "   batter_id batter_name  year team  avg       G    AB     R     H  `2B`  `3B`\n",
            "       \u001b[3m\u001b[90m<int>\u001b[39m\u001b[23m \u001b[3m\u001b[90m<chr>\u001b[39m\u001b[23m       \u001b[3m\u001b[90m<int>\u001b[39m\u001b[23m \u001b[3m\u001b[90m<chr>\u001b[39m\u001b[23m \u001b[3m\u001b[90m<chr>\u001b[39m\u001b[23m \u001b[3m\u001b[90m<int>\u001b[39m\u001b[23m \u001b[3m\u001b[90m<int>\u001b[39m\u001b[23m \u001b[3m\u001b[90m<int>\u001b[39m\u001b[23m \u001b[3m\u001b[90m<int>\u001b[39m\u001b[23m \u001b[3m\u001b[90m<int>\u001b[39m\u001b[23m \u001b[3m\u001b[90m<int>\u001b[39m\u001b[23m\n",
            "\u001b[90m 1\u001b[39m         0 가르시아     \u001b[4m2\u001b[24m018 LG    0.350     7    20     1     7     1     0\n",
            "\u001b[90m 2\u001b[39m         1 강경학       \u001b[4m2\u001b[24m011 한화  0.000     4     2     2     0     0     0\n",
            "\u001b[90m 3\u001b[39m         1 강경학       \u001b[4m2\u001b[24m014 한화  -         4     0     2     0     0     0\n",
            "\u001b[90m 4\u001b[39m         1 강경학       \u001b[4m2\u001b[24m015 한화  0.130    10    23     3     3     0     0\n",
            "\u001b[90m 5\u001b[39m         1 강경학       \u001b[4m2\u001b[24m016 한화  0.188    14    32     4     6     1     1\n",
            "\u001b[90m 6\u001b[39m         1 강경학       \u001b[4m2\u001b[24m017 한화  0.222    11    36    10     8     0     0\n",
            "\u001b[90m 7\u001b[39m         2 강구성       \u001b[4m2\u001b[24m013 NC    0.000     3     4     0     0     0     0\n",
            "\u001b[90m 8\u001b[39m         2 강구성       \u001b[4m2\u001b[24m016 NC    0.000     3     1     0     0     0     0\n",
            "\u001b[90m 9\u001b[39m         2 강구성       \u001b[4m2\u001b[24m017 NC    1.000     2     1     0     1     0     0\n",
            "\u001b[90m10\u001b[39m        69 김태완       \u001b[4m2\u001b[24m006 한화  0.200    10    15     0     3     0     0\n",
            "\u001b[90m# … with 1,383 more rows, and 18 more variables: HR \u001b[3m\u001b[90m<int>\u001b[90m\u001b[23m, TB \u001b[3m\u001b[90m<int>\u001b[90m\u001b[23m, RBI \u001b[3m\u001b[90m<int>\u001b[90m\u001b[23m,\u001b[39m\n",
            "\u001b[90m#   SB \u001b[3m\u001b[90m<int>\u001b[90m\u001b[23m, CS \u001b[3m\u001b[90m<int>\u001b[90m\u001b[23m, BB \u001b[3m\u001b[90m<int>\u001b[90m\u001b[23m, HBP \u001b[3m\u001b[90m<int>\u001b[90m\u001b[23m, SO \u001b[3m\u001b[90m<int>\u001b[90m\u001b[23m, GDP \u001b[3m\u001b[90m<int>\u001b[90m\u001b[23m, SLG \u001b[3m\u001b[90m<dbl>\u001b[90m\u001b[23m,\u001b[39m\n",
            "\u001b[90m#   OBP \u001b[3m\u001b[90m<dbl>\u001b[90m\u001b[23m, E \u001b[3m\u001b[90m<int>\u001b[90m\u001b[23m, `height/weight` \u001b[3m\u001b[90m<chr>\u001b[90m\u001b[23m, year_born \u001b[3m\u001b[90m<chr>\u001b[90m\u001b[23m, position \u001b[3m\u001b[90m<chr>\u001b[90m\u001b[23m,\u001b[39m\n",
            "\u001b[90m#   career \u001b[3m\u001b[90m<chr>\u001b[90m\u001b[23m, starting_salary \u001b[3m\u001b[90m<chr>\u001b[90m\u001b[23m, OPS \u001b[3m\u001b[90m<dbl>\u001b[90m\u001b[23m\u001b[39m\n"
          ],
          "name": "stdout"
        }
      ]
    },
    {
      "cell_type": "markdown",
      "metadata": {
        "id": "8-0JZTpDoOyS",
        "colab_type": "text"
      },
      "source": [
        "### (1) DF에서 문자형(chr) 열을 제외한 모든 열(column) - select\n",
        "\n",
        "* 참고 : https://wikidocs.net/33942"
      ]
    },
    {
      "cell_type": "code",
      "metadata": {
        "id": "eqWtpXJ9oST2",
        "colab_type": "code",
        "colab": {}
      },
      "source": [
        "## 답안 작성\n",
        "#\n",
        "DF %>% select???"
      ],
      "execution_count": null,
      "outputs": []
    },
    {
      "cell_type": "markdown",
      "metadata": {
        "id": "eJjFdm5ipcVq",
        "colab_type": "text"
      },
      "source": [
        "### (2) DF에서 team이 \"두산\" 또는 \"한화\"이고 G가 10 이상인 모든 행(row) - filter\n"
      ]
    },
    {
      "cell_type": "code",
      "metadata": {
        "id": "-pbOl13rpkPx",
        "colab_type": "code",
        "colab": {}
      },
      "source": [
        "## 답안 작성\n",
        "#\n",
        "DF %>% filter???"
      ],
      "execution_count": null,
      "outputs": []
    },
    {
      "cell_type": "markdown",
      "metadata": {
        "id": "3N698QH8psAU",
        "colab_type": "text"
      },
      "source": [
        "### (3) DF에서 team 별(key) SLG, OBP의 평균과 R의 합 - group_by, summarise\n",
        "\n",
        "* **NA 발생시 해당 문제 0점.**\n",
        "* 출력 예시와 동일해야 함.\n",
        "* 새로 생성되는 열의 이름을 자유롭게 설정.\n",
        "\n",
        "```\n",
        "# 출력예시\n",
        "A tibble: 13 × 4\n",
        "team\tSLG_mean\tOBP_mean\tR_sum\n",
        "<chr>\t<dbl>\t<dbl>\t<int>\n",
        "KIA\t0.4068168\t0.3579771\t321\n",
        "KT\t0.3732105\t0.3196491\t143\n",
        "LG\t0.3497235\t0.3211813\t500\n",
        "NC\t0.4006190\t0.3121882\t195\n",
        "SK\t0.3501159\t0.3052866\t426\n",
        "넥센\t0.3833929\t0.3228750\t315\n",
        "두산\t0.3319891\t0.3102688\t601\n",
        "롯데\t0.3784125\t0.3217500\t424\n",
        "삼성\t0.3452260\t0.3073151\t416\n",
        "우리\t0.2081667\t0.1941667\t10\n",
        "한화\t0.3503465\t0.3193858\t335\n",
        "현대\t0.2971111\t0.2705000\t42\n",
        "히어로즈\t0.2530000\t0.2894000\t5\n",
        "```\n"
      ]
    },
    {
      "cell_type": "code",
      "metadata": {
        "id": "PS-EnXoZnnTz",
        "colab_type": "code",
        "colab": {}
      },
      "source": [
        "## 답안 작성\n",
        "##\n",
        "DF %>% group_by(?) %>% summarise(?)"
      ],
      "execution_count": null,
      "outputs": []
    },
    {
      "cell_type": "markdown",
      "metadata": {
        "id": "pJf7pOXfq07E",
        "colab_type": "text"
      },
      "source": [
        "## 3. Train / Test / Validation 데이터 생성하기 - setdiff, sample_frac 사용 (20점)\n",
        "\n",
        "DF를 Train / Test / Validation 데이터로 6:2:2의 비율로 분할하고자한다.\n",
        "\n",
        "* 비복원 추출(replace = F) 사용\n",
        "* nrow()를 이용하여 분할된 데이터의 행의 개수를 파악할 수 있음\n",
        "\n",
        "```\n",
        "# 출력 예시\n",
        "nrow(train_set) + nrow(test_set) + nrow(validation_set)\n",
        "1393\n",
        "```\n"
      ]
    },
    {
      "cell_type": "code",
      "metadata": {
        "id": "O1NBKZ5lrOaS",
        "colab_type": "code",
        "colab": {
          "base_uri": "https://localhost:8080/",
          "height": 0
        },
        "outputId": "5982e58e-adb1-4d46-9258-518d72141cc4"
      },
      "source": [
        "# 사용 데이터\n",
        "DF <- fread(\"ftp://210.115.229.94/2020_datascience/6th_data/Pre_Season_Batter.csv\", header = T, encoding = \"UTF-8\") %>%\n",
        "  as_tibble()\n",
        "\n",
        "nrow(DF) # DF의 행의 개수"
      ],
      "execution_count": 151,
      "outputs": [
        {
          "output_type": "display_data",
          "data": {
            "text/plain": [
              "[1] 1393"
            ],
            "text/latex": "1393",
            "text/markdown": "1393",
            "text/html": [
              "1393"
            ]
          },
          "metadata": {
            "tags": []
          }
        }
      ]
    },
    {
      "cell_type": "code",
      "metadata": {
        "id": "llk0VN4JrlmL",
        "colab_type": "code",
        "colab": {}
      },
      "source": [
        "## 답안 작성\n",
        "#\n",
        "train_set <- ?\n",
        "temp <- ?\n",
        "test_set <- ?\n",
        "validation_set <- ?"
      ],
      "execution_count": 149,
      "outputs": []
    },
    {
      "cell_type": "code",
      "metadata": {
        "id": "w2wqhqVIsnRF",
        "colab_type": "code",
        "colab": {
          "base_uri": "https://localhost:8080/",
          "height": 0
        },
        "outputId": "9253f98e-f57f-4737-c405-f14586e3e8e6"
      },
      "source": [
        "nrow(train_set) + nrow(test_set) + nrow(validation_set)"
      ],
      "execution_count": 150,
      "outputs": [
        {
          "output_type": "display_data",
          "data": {
            "text/plain": [
              "[1] 1393"
            ],
            "text/latex": "1393",
            "text/markdown": "1393",
            "text/html": [
              "1393"
            ]
          },
          "metadata": {
            "tags": []
          }
        }
      ]
    }
  ]
}