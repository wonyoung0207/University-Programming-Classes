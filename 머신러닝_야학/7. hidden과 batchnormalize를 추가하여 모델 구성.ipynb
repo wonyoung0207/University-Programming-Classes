{
  "nbformat": 4,
  "nbformat_minor": 0,
  "metadata": {
    "colab": {
      "name": "Untitled7.ipynb",
      "provenance": []
    },
    "kernelspec": {
      "name": "python3",
      "display_name": "Python 3"
    }
  },
  "cells": [
    {
      "cell_type": "code",
      "metadata": {
        "id": "OpyOcTjAGKy2",
        "colab_type": "code",
        "colab": {}
      },
      "source": [
        "#라이브러리 생성\n",
        "import tensorflow as tf\n",
        "import pandas as pd\n"
      ],
      "execution_count": 59,
      "outputs": []
    },
    {
      "cell_type": "code",
      "metadata": {
        "id": "tecAJeqEHuuA",
        "colab_type": "code",
        "colab": {
          "base_uri": "https://localhost:8080/",
          "height": 258
        },
        "outputId": "06e8ab19-738a-4c5b-ba94-4577383867c3"
      },
      "source": [
        "#과거 데이터 준비\n",
        "파일경로 = 'https://raw.githubusercontent.com/blackdew/tensorflow1/master/csv/boston.csv'\n",
        "보스턴 = pd.read_csv(파일경로)\n",
        "print(보스턴.columns)\n",
        "보스턴.head()\n"
      ],
      "execution_count": 60,
      "outputs": [
        {
          "output_type": "stream",
          "text": [
            "Index(['crim', 'zn', 'indus', 'chas', 'nox', 'rm', 'age', 'dis', 'rad', 'tax',\n",
            "       'ptratio', 'b', 'lstat', 'medv'],\n",
            "      dtype='object')\n"
          ],
          "name": "stdout"
        },
        {
          "output_type": "execute_result",
          "data": {
            "text/html": [
              "<div>\n",
              "<style scoped>\n",
              "    .dataframe tbody tr th:only-of-type {\n",
              "        vertical-align: middle;\n",
              "    }\n",
              "\n",
              "    .dataframe tbody tr th {\n",
              "        vertical-align: top;\n",
              "    }\n",
              "\n",
              "    .dataframe thead th {\n",
              "        text-align: right;\n",
              "    }\n",
              "</style>\n",
              "<table border=\"1\" class=\"dataframe\">\n",
              "  <thead>\n",
              "    <tr style=\"text-align: right;\">\n",
              "      <th></th>\n",
              "      <th>crim</th>\n",
              "      <th>zn</th>\n",
              "      <th>indus</th>\n",
              "      <th>chas</th>\n",
              "      <th>nox</th>\n",
              "      <th>rm</th>\n",
              "      <th>age</th>\n",
              "      <th>dis</th>\n",
              "      <th>rad</th>\n",
              "      <th>tax</th>\n",
              "      <th>ptratio</th>\n",
              "      <th>b</th>\n",
              "      <th>lstat</th>\n",
              "      <th>medv</th>\n",
              "    </tr>\n",
              "  </thead>\n",
              "  <tbody>\n",
              "    <tr>\n",
              "      <th>0</th>\n",
              "      <td>0.00632</td>\n",
              "      <td>18.0</td>\n",
              "      <td>2.31</td>\n",
              "      <td>0</td>\n",
              "      <td>0.538</td>\n",
              "      <td>6.575</td>\n",
              "      <td>65.2</td>\n",
              "      <td>4.0900</td>\n",
              "      <td>1</td>\n",
              "      <td>296</td>\n",
              "      <td>15.3</td>\n",
              "      <td>396.90</td>\n",
              "      <td>4.98</td>\n",
              "      <td>24.0</td>\n",
              "    </tr>\n",
              "    <tr>\n",
              "      <th>1</th>\n",
              "      <td>0.02731</td>\n",
              "      <td>0.0</td>\n",
              "      <td>7.07</td>\n",
              "      <td>0</td>\n",
              "      <td>0.469</td>\n",
              "      <td>6.421</td>\n",
              "      <td>78.9</td>\n",
              "      <td>4.9671</td>\n",
              "      <td>2</td>\n",
              "      <td>242</td>\n",
              "      <td>17.8</td>\n",
              "      <td>396.90</td>\n",
              "      <td>9.14</td>\n",
              "      <td>21.6</td>\n",
              "    </tr>\n",
              "    <tr>\n",
              "      <th>2</th>\n",
              "      <td>0.02729</td>\n",
              "      <td>0.0</td>\n",
              "      <td>7.07</td>\n",
              "      <td>0</td>\n",
              "      <td>0.469</td>\n",
              "      <td>7.185</td>\n",
              "      <td>61.1</td>\n",
              "      <td>4.9671</td>\n",
              "      <td>2</td>\n",
              "      <td>242</td>\n",
              "      <td>17.8</td>\n",
              "      <td>392.83</td>\n",
              "      <td>4.03</td>\n",
              "      <td>34.7</td>\n",
              "    </tr>\n",
              "    <tr>\n",
              "      <th>3</th>\n",
              "      <td>0.03237</td>\n",
              "      <td>0.0</td>\n",
              "      <td>2.18</td>\n",
              "      <td>0</td>\n",
              "      <td>0.458</td>\n",
              "      <td>6.998</td>\n",
              "      <td>45.8</td>\n",
              "      <td>6.0622</td>\n",
              "      <td>3</td>\n",
              "      <td>222</td>\n",
              "      <td>18.7</td>\n",
              "      <td>394.63</td>\n",
              "      <td>2.94</td>\n",
              "      <td>33.4</td>\n",
              "    </tr>\n",
              "    <tr>\n",
              "      <th>4</th>\n",
              "      <td>0.06905</td>\n",
              "      <td>0.0</td>\n",
              "      <td>2.18</td>\n",
              "      <td>0</td>\n",
              "      <td>0.458</td>\n",
              "      <td>7.147</td>\n",
              "      <td>54.2</td>\n",
              "      <td>6.0622</td>\n",
              "      <td>3</td>\n",
              "      <td>222</td>\n",
              "      <td>18.7</td>\n",
              "      <td>396.90</td>\n",
              "      <td>5.33</td>\n",
              "      <td>36.2</td>\n",
              "    </tr>\n",
              "  </tbody>\n",
              "</table>\n",
              "</div>"
            ],
            "text/plain": [
              "      crim    zn  indus  chas    nox  ...  tax  ptratio       b  lstat  medv\n",
              "0  0.00632  18.0   2.31     0  0.538  ...  296     15.3  396.90   4.98  24.0\n",
              "1  0.02731   0.0   7.07     0  0.469  ...  242     17.8  396.90   9.14  21.6\n",
              "2  0.02729   0.0   7.07     0  0.469  ...  242     17.8  392.83   4.03  34.7\n",
              "3  0.03237   0.0   2.18     0  0.458  ...  222     18.7  394.63   2.94  33.4\n",
              "4  0.06905   0.0   2.18     0  0.458  ...  222     18.7  396.90   5.33  36.2\n",
              "\n",
              "[5 rows x 14 columns]"
            ]
          },
          "metadata": {
            "tags": []
          },
          "execution_count": 60
        }
      ]
    },
    {
      "cell_type": "code",
      "metadata": {
        "id": "ScssMYtPH-a0",
        "colab_type": "code",
        "colab": {
          "base_uri": "https://localhost:8080/",
          "height": 35
        },
        "outputId": "56157918-1d8b-424f-ca15-e00f8dfac436"
      },
      "source": [
        "#종속변수, 독립변수 나누기\n",
        "\n",
        "종속 = 보스턴[['medv']]\n",
        "독립 = 보스턴[['crim', 'zn', 'indus', 'chas', 'nox', 'rm', 'age', 'dis', 'rad', 'tax',\n",
        "       'ptratio', 'b', 'lstat']]\n",
        "print(종속.shape,독립.shape)"
      ],
      "execution_count": 61,
      "outputs": [
        {
          "output_type": "stream",
          "text": [
            "(506, 1) (506, 13)\n"
          ],
          "name": "stdout"
        }
      ]
    },
    {
      "cell_type": "code",
      "metadata": {
        "id": "Ic4VS-nmIZXQ",
        "colab_type": "code",
        "colab": {}
      },
      "source": [
        "#모델 만들기\n",
        "\n",
        "x = tf.keras.layers.Input(shape=[13])\n",
        "#hidden layer 를 추가한다. \n",
        "h = tf.keras.layers.Dense(10,activation='swish')(x)\n",
        "#마지막 output값에 입력되는 것은 hidden layer 이다.\n",
        "y = tf.keras.layers.Dense(1)(h)\n",
        "\n",
        "model = tf.keras.models.Model(x,y)\n",
        "model.compile(loss='mse')\n"
      ],
      "execution_count": 62,
      "outputs": []
    },
    {
      "cell_type": "code",
      "metadata": {
        "id": "r9ewawGOUuKl",
        "colab_type": "code",
        "colab": {}
      },
      "source": [
        "#batchnormaization 을 이용해 모델을 만들어준다\n",
        "#성능이 훨씬 좋아진다.\n",
        "\n",
        "\n",
        "x = tf.keras.layers.Input(shape=[13])\n",
        "\n",
        "#hidden layer 를 추가한다. \n",
        "#batchnormalization 을 이용하여 모델을 구성\n",
        "h = tf.keras.layers.Dense(10)(x)\n",
        "h = tf.keras.layers.BatchNormalization()(h)\n",
        "h = tf.keras.layers.Activation('swish')(h)\n",
        "\n",
        "h = tf.keras.layers.Dense(10)(h)\n",
        "h = tf.keras.layers.BatchNormalization()(h)\n",
        "h = tf.keras.layers.Activation('swish')(h)\n",
        "\n",
        "h = tf.keras.layers.Dense(10)(h)\n",
        "h = tf.keras.layers.BatchNormalization()(h)\n",
        "h = tf.keras.layers.Activation('swish')(h)\n",
        "\n",
        "#마지막 output값에 입력되는 것은 hidden layer 이다.\n",
        "y = tf.keras.layers.Dense(1)(h)\n",
        "\n",
        "model = tf.keras.models.Model(x,y)\n",
        "model.compile(loss='mse')\n"
      ],
      "execution_count": 63,
      "outputs": []
    },
    {
      "cell_type": "code",
      "metadata": {
        "id": "cLxAltajJtrc",
        "colab_type": "code",
        "colab": {
          "base_uri": "https://localhost:8080/",
          "height": 557
        },
        "outputId": "34155c0b-ce5a-49f0-ac1b-6a684587af2d"
      },
      "source": [
        "#모델이 원하는 구조로로 만들어졌는지 확인하기\n",
        "#13개의 input과 하나의 bias가 hidden 10개로 만들어진다.\n",
        "#(13+1) * 10 = 140\n",
        "\n",
        "model.summary()"
      ],
      "execution_count": 64,
      "outputs": [
        {
          "output_type": "stream",
          "text": [
            "Model: \"functional_15\"\n",
            "_________________________________________________________________\n",
            "Layer (type)                 Output Shape              Param #   \n",
            "=================================================================\n",
            "input_10 (InputLayer)        [(None, 13)]              0         \n",
            "_________________________________________________________________\n",
            "dense_26 (Dense)             (None, 10)                140       \n",
            "_________________________________________________________________\n",
            "batch_normalization_6 (Batch (None, 10)                40        \n",
            "_________________________________________________________________\n",
            "activation_6 (Activation)    (None, 10)                0         \n",
            "_________________________________________________________________\n",
            "dense_27 (Dense)             (None, 10)                110       \n",
            "_________________________________________________________________\n",
            "batch_normalization_7 (Batch (None, 10)                40        \n",
            "_________________________________________________________________\n",
            "activation_7 (Activation)    (None, 10)                0         \n",
            "_________________________________________________________________\n",
            "dense_28 (Dense)             (None, 10)                110       \n",
            "_________________________________________________________________\n",
            "batch_normalization_8 (Batch (None, 10)                40        \n",
            "_________________________________________________________________\n",
            "activation_8 (Activation)    (None, 10)                0         \n",
            "_________________________________________________________________\n",
            "dense_29 (Dense)             (None, 1)                 11        \n",
            "=================================================================\n",
            "Total params: 491\n",
            "Trainable params: 431\n",
            "Non-trainable params: 60\n",
            "_________________________________________________________________\n"
          ],
          "name": "stdout"
        }
      ]
    },
    {
      "cell_type": "code",
      "metadata": {
        "id": "JSJc02REJwjp",
        "colab_type": "code",
        "colab": {
          "base_uri": "https://localhost:8080/",
          "height": 395
        },
        "outputId": "455795ea-3c55-40b6-9a3a-43511f212bb3"
      },
      "source": [
        "#모델을 학습시킨다.\n",
        "\n",
        "model.fit(독립,종속,epochs=100,verbose=0)\n",
        "model.fit(독립,종속,epochs=10)\n",
        "\n"
      ],
      "execution_count": 65,
      "outputs": [
        {
          "output_type": "stream",
          "text": [
            "Epoch 1/10\n",
            "16/16 [==============================] - 0s 2ms/step - loss: 28.1351\n",
            "Epoch 2/10\n",
            "16/16 [==============================] - 0s 1ms/step - loss: 21.5744\n",
            "Epoch 3/10\n",
            "16/16 [==============================] - 0s 1ms/step - loss: 22.7305\n",
            "Epoch 4/10\n",
            "16/16 [==============================] - 0s 1ms/step - loss: 19.0679\n",
            "Epoch 5/10\n",
            "16/16 [==============================] - 0s 1ms/step - loss: 22.7089\n",
            "Epoch 6/10\n",
            "16/16 [==============================] - 0s 1ms/step - loss: 21.1398\n",
            "Epoch 7/10\n",
            "16/16 [==============================] - 0s 1ms/step - loss: 24.7760\n",
            "Epoch 8/10\n",
            "16/16 [==============================] - 0s 1ms/step - loss: 22.8375\n",
            "Epoch 9/10\n",
            "16/16 [==============================] - 0s 2ms/step - loss: 20.7761\n",
            "Epoch 10/10\n",
            "16/16 [==============================] - 0s 1ms/step - loss: 20.7042\n"
          ],
          "name": "stdout"
        },
        {
          "output_type": "execute_result",
          "data": {
            "text/plain": [
              "<tensorflow.python.keras.callbacks.History at 0x7faa3aa8e5c0>"
            ]
          },
          "metadata": {
            "tags": []
          },
          "execution_count": 65
        }
      ]
    },
    {
      "cell_type": "code",
      "metadata": {
        "id": "0Hf6TCU0Kg1W",
        "colab_type": "code",
        "colab": {
          "base_uri": "https://localhost:8080/",
          "height": 253
        },
        "outputId": "b5d34db5-65a1-4fac-d9c0-ced3cdf78822"
      },
      "source": [
        "#모델을 이용해 독립값(원인)으로 종속(결과)값 구하기\n",
        "\n",
        "print(model.predict(독립[:5]))#0부터5까지 \n",
        "print(종속[:5])\n"
      ],
      "execution_count": 66,
      "outputs": [
        {
          "output_type": "stream",
          "text": [
            "WARNING:tensorflow:5 out of the last 12 calls to <function Model.make_predict_function.<locals>.predict_function at 0x7faa3aa9c950> triggered tf.function retracing. Tracing is expensive and the excessive number of tracings could be due to (1) creating @tf.function repeatedly in a loop, (2) passing tensors with different shapes, (3) passing Python objects instead of tensors. For (1), please define your @tf.function outside of the loop. For (2), @tf.function has experimental_relax_shapes=True option that relaxes argument shapes that can avoid unnecessary retracing. For (3), please refer to https://www.tensorflow.org/tutorials/customization/performance#python_or_tensor_args and https://www.tensorflow.org/api_docs/python/tf/function for  more details.\n",
            "[[26.716467]\n",
            " [20.646404]\n",
            " [26.510946]\n",
            " [29.014395]\n",
            " [25.84576 ]]\n",
            "   medv\n",
            "0  24.0\n",
            "1  21.6\n",
            "2  34.7\n",
            "3  33.4\n",
            "4  36.2\n"
          ],
          "name": "stdout"
        }
      ]
    },
    {
      "cell_type": "code",
      "metadata": {
        "id": "U9zaDmTKK3MF",
        "colab_type": "code",
        "colab": {
          "base_uri": "https://localhost:8080/",
          "height": 1000
        },
        "outputId": "55be7450-9480-44ed-a302-3aa5d0c6de6f"
      },
      "source": [
        "# 모델의 수식 확인\n",
        "print(model.get_weights())"
      ],
      "execution_count": 67,
      "outputs": [
        {
          "output_type": "stream",
          "text": [
            "[array([[-0.26379505,  0.28386906,  0.04725728,  0.11799081,  0.2368915 ,\n",
            "         0.07235741, -0.20175461,  0.04061565,  0.22403723,  0.2643932 ],\n",
            "       [ 0.31740594,  0.10884423,  0.02753879,  0.14652282,  0.00614315,\n",
            "        -0.09761841,  0.5268601 , -0.41744214, -0.21009919,  0.5106822 ],\n",
            "       [ 0.05357186,  0.70079535, -0.48226857,  0.16144586,  0.47423536,\n",
            "        -0.100793  , -0.45933628,  0.08639682, -0.20859773,  0.08005802],\n",
            "       [ 0.22421634, -0.03432721,  0.12767017, -0.9642347 ,  0.23059046,\n",
            "         0.7506756 , -0.00290061, -0.8719852 , -0.36160484, -0.00702212],\n",
            "       [ 0.07383252, -0.03678077, -0.99063337, -0.05497634,  0.37180114,\n",
            "        -0.15010609,  0.44148552,  0.6056538 ,  0.5582165 , -0.01559841],\n",
            "       [ 0.5704537 ,  0.57915294, -0.6274952 , -1.210094  ,  0.60325956,\n",
            "         0.93481976,  1.2548832 , -0.91796386, -0.49889562, -0.960766  ],\n",
            "       [ 0.49420825,  0.30021122,  0.3103409 ,  0.2685867 ,  0.5850859 ,\n",
            "        -0.396712  ,  0.12870012,  0.28694022, -0.02167881, -0.24731405],\n",
            "       [-0.6465143 , -0.60768783,  0.24346279,  0.5985637 ,  0.16295192,\n",
            "        -0.435775  , -0.586151  ,  0.3850025 ,  0.12856096,  0.18861488],\n",
            "       [ 0.04444509,  0.234106  ,  0.27704275, -0.05269314, -0.2874974 ,\n",
            "         0.0013858 ,  0.67158777, -0.45175818, -0.19076928, -0.35432816],\n",
            "       [-0.00591976,  0.3393699 ,  0.3210785 , -0.04297561, -0.10938629,\n",
            "        -0.22262852, -0.37275472,  0.4072498 ,  0.41858688, -0.47271767],\n",
            "       [-0.5324521 , -0.2710826 ,  0.48820183,  0.10557798, -0.6262745 ,\n",
            "        -0.16935161, -0.82372636,  0.8008577 ,  0.5776051 , -0.3076919 ],\n",
            "       [ 0.37746957,  0.14916119,  0.09943993,  0.2303246 , -0.41513285,\n",
            "         0.20478462, -0.22879168, -0.2781256 , -0.05296976, -0.26614964],\n",
            "       [-0.5531542 ,  0.06902561, -0.73461676,  0.89652586,  0.19643973,\n",
            "        -0.2212138 , -0.0645889 ,  0.46880746,  0.41333616,  0.05185372]],\n",
            "      dtype=float32), array([-0.00743308,  0.00509734,  0.01111794,  0.00981899, -0.01221015,\n",
            "       -0.00712885, -0.01516373,  0.0013807 , -0.00816204,  0.00012816],\n",
            "      dtype=float32), array([0.9998998 , 0.9920804 , 1.0521666 , 1.0958438 , 1.0138062 ,\n",
            "       0.8357304 , 1.0475296 , 0.7809335 , 0.96426463, 1.0836599 ],\n",
            "      dtype=float32), array([ 0.10359758, -0.00309098, -0.03619568,  0.48780498, -0.03681582,\n",
            "        0.12159014, -0.00458792, -0.13902572, -0.09460643,  0.11289833],\n",
            "      dtype=float32), array([ 155.89589,  220.42096,  185.50526,   93.50854, -152.43863,\n",
            "        -46.56961, -225.82764,   90.31599,  163.2199 , -311.05966],\n",
            "      dtype=float32), array([1254.9764 , 3875.8298 , 2736.8591 ,  477.74707, 1468.7178 ,\n",
            "       2997.727  , 3285.6511 , 7994.794  , 5716.294  , 6428.5864 ],\n",
            "      dtype=float32), array([[ 0.14465223, -0.03042225,  0.09821075,  0.1420123 , -0.15208033,\n",
            "        -0.5496139 ,  0.26383165,  0.37277263, -0.77909535,  0.12022339],\n",
            "       [-0.4220877 , -0.11307728,  0.5937732 , -0.34561008,  0.09729049,\n",
            "        -0.2530425 ,  0.24159256, -0.33358246,  0.22876783, -0.22209598],\n",
            "       [ 0.30662623, -0.36252972, -0.24866755,  0.38832554,  0.3647825 ,\n",
            "         0.45454568, -0.03177067, -0.25707522,  0.14223826,  0.5576356 ],\n",
            "       [ 0.42898583,  0.00439642,  0.13355865,  0.06394933, -0.4612656 ,\n",
            "        -0.24834518, -0.27718946, -0.05173068, -0.08216836, -0.5404104 ],\n",
            "       [-0.33762115,  0.62079823, -0.07020981, -0.35277268,  0.06924144,\n",
            "        -0.29002017,  0.01016968,  0.09454119, -0.03539934,  0.4068668 ],\n",
            "       [ 0.6129879 , -0.00995434, -0.1049153 , -0.47452012, -0.24924129,\n",
            "        -0.1286616 ,  0.30264428, -0.34145173, -0.39446265, -0.28967038],\n",
            "       [ 0.0117371 , -0.02618415,  0.1044939 , -0.20937891,  0.35854313,\n",
            "        -0.4772935 ,  0.3580813 , -0.4081315 ,  0.1801371 , -0.1601654 ],\n",
            "       [ 0.2567726 , -0.05057661,  0.28150702, -0.1386478 ,  0.1748164 ,\n",
            "         0.43332314, -0.01241447, -0.27464694,  0.426872  ,  0.07494868],\n",
            "       [ 0.01916398,  0.27717462,  0.47190386,  0.00258349,  0.3363619 ,\n",
            "         0.52477264, -0.23409778, -0.33064684,  0.25743908, -0.35072   ],\n",
            "       [-0.3810419 ,  0.05212872, -0.24856238, -0.64159137, -0.29473394,\n",
            "         0.43584868, -0.39930657,  0.22701031, -0.06404541, -0.24891314]],\n",
            "      dtype=float32), array([ 0.04762079, -0.04077085,  0.0107417 , -0.02434912,  0.02826802,\n",
            "       -0.00673916,  0.01451328, -0.01122945,  0.00682082,  0.02988136],\n",
            "      dtype=float32), array([0.8936239 , 1.0072601 , 1.202191  , 1.0848815 , 0.92406166,\n",
            "       0.8753322 , 1.0992675 , 1.2355478 , 0.9803426 , 0.8329797 ],\n",
            "      dtype=float32), array([ 0.12504414, -0.0560406 ,  0.17470849, -0.02014807,  0.04534227,\n",
            "        0.00146966,  0.30753627,  0.20307785, -0.04775668, -0.17200688],\n",
            "      dtype=float32), array([ 0.26061255,  0.02191486,  0.17589998, -0.36025614, -0.10867764,\n",
            "       -0.14806068, -0.03445068, -0.21872023, -0.1081993 , -0.26890886],\n",
            "      dtype=float32), array([0.14478777, 0.2942767 , 0.45287073, 0.32973754, 0.60617864,\n",
            "       0.51179934, 0.01792888, 0.2811697 , 0.57083386, 0.38180867],\n",
            "      dtype=float32), array([[ 0.5502221 , -0.16278915, -0.08211346,  0.03443878,  0.48675957,\n",
            "         0.26765832, -0.17912388,  0.6669247 , -0.2973991 , -0.3309285 ],\n",
            "       [ 0.44500548, -0.00175737,  0.24716438, -0.0613941 ,  0.2671172 ,\n",
            "        -0.10602839, -0.3555663 ,  0.4883513 , -0.28857914,  0.0132777 ],\n",
            "       [ 0.23812288, -0.4424859 , -0.524731  , -0.07855581,  0.08079404,\n",
            "        -1.0504211 , -0.17253575,  0.30190128, -0.31579986,  0.24301848],\n",
            "       [ 0.3017612 ,  0.17466141, -0.12725902, -0.19628249, -0.62863296,\n",
            "        -0.55681634, -0.35396978,  0.14830506,  0.08351583,  0.5426516 ],\n",
            "       [-0.485856  , -0.04267027, -0.65170443,  0.18117979, -0.42209452,\n",
            "        -0.3241099 , -0.42431247,  0.11209767,  0.18811321,  0.04708241],\n",
            "       [-0.11353619,  0.19895251,  0.02421492, -0.6335673 ,  0.00823773,\n",
            "        -0.17867064, -0.789053  , -0.30743152, -0.12888575,  0.13370012],\n",
            "       [ 0.01340849,  0.34710377,  0.2218274 ,  0.11394636, -0.62060773,\n",
            "         0.55155724,  0.15454681, -0.03366456,  0.1412384 ,  0.37689805],\n",
            "       [-0.49131733, -0.13665535,  0.19860986,  0.08329483, -0.10027605,\n",
            "         0.6082554 ,  0.14312994, -0.20005298, -0.2713833 , -0.3235842 ],\n",
            "       [ 0.34645993,  0.49289238,  0.0564772 , -0.7794925 ,  0.19623847,\n",
            "        -0.24496055, -0.5757924 ,  0.37202603,  0.02198358, -0.57402664],\n",
            "       [-0.21990487,  0.20748983, -0.58335274, -0.34164816, -0.08617376,\n",
            "        -0.05204388,  0.13198419, -0.03191517,  0.6146439 , -0.41584212]],\n",
            "      dtype=float32), array([ 0.00898172,  0.05741562,  0.02187525,  0.0233962 ,  0.00259186,\n",
            "       -0.05932225, -0.01142459,  0.00585672,  0.00956013, -0.01947418],\n",
            "      dtype=float32), array([-1.17827668e-08,  2.08358526e+00,  2.15160322e+00,  2.40561628e+00,\n",
            "        8.74549223e-05,  2.38501453e+00,  2.38497496e+00,  1.03913464e-08,\n",
            "        2.42427707e+00,  2.37386179e+00], dtype=float32), array([-1.2784646,  1.1098905,  1.1822834,  1.4380267, -1.2783996,\n",
            "        1.4248979,  1.4199975, -1.2784646,  1.4785   ,  1.4652826],\n",
            "      dtype=float32), array([ 0.09128407,  0.11120538, -0.16178042, -0.21728295, -0.31480196,\n",
            "       -0.18152887, -0.43952283,  0.3182381 , -0.18392576,  0.04182756],\n",
            "      dtype=float32), array([0.19741756, 0.11688732, 1.3397535 , 1.1870687 , 0.42715377,\n",
            "       4.2128515 , 2.0691211 , 0.45304132, 0.0948398 , 0.30746442],\n",
            "      dtype=float32), array([[-1.5555286],\n",
            "       [ 1.2081962],\n",
            "       [ 1.2353939],\n",
            "       [ 1.4884263],\n",
            "       [-1.6866691],\n",
            "       [ 1.8910583],\n",
            "       [ 2.024562 ],\n",
            "       [-1.3669052],\n",
            "       [ 1.4473046],\n",
            "       [ 2.1001837]], dtype=float32), array([1.4795444], dtype=float32)]\n"
          ],
          "name": "stdout"
        }
      ]
    },
    {
      "cell_type": "code",
      "metadata": {
        "id": "M-sV08R9K8sq",
        "colab_type": "code",
        "colab": {}
      },
      "source": [
        "#아이리스 품종 분류 -> 종속이 범주(이름)로 되어있어 원핫인코딩 필요\n",
        "\n",
        "파일경로 = 'https://raw.githubusercontent.com/blackdew/tensorflow1/master/csv/iris.csv'\n",
        "아이리스 = pd.read_csv(파일경로)\n"
      ],
      "execution_count": 68,
      "outputs": []
    },
    {
      "cell_type": "code",
      "metadata": {
        "id": "TMO94wWXLK-E",
        "colab_type": "code",
        "colab": {
          "base_uri": "https://localhost:8080/",
          "height": 258
        },
        "outputId": "53676742-1956-40cd-f1dc-ae41d351a4cd"
      },
      "source": [
        "#원핫인코딩을 이용해 종속값에 있는 이름을 숫자형으로 변환\n",
        "\n",
        "아이리스 = pd.get_dummies(아이리스)\n",
        "print(아이리스.columns)\n",
        "아이리스.head()\n"
      ],
      "execution_count": 69,
      "outputs": [
        {
          "output_type": "stream",
          "text": [
            "Index(['꽃잎길이', '꽃잎폭', '꽃받침길이', '꽃받침폭', '품종_setosa', '품종_versicolor',\n",
            "       '품종_virginica'],\n",
            "      dtype='object')\n"
          ],
          "name": "stdout"
        },
        {
          "output_type": "execute_result",
          "data": {
            "text/html": [
              "<div>\n",
              "<style scoped>\n",
              "    .dataframe tbody tr th:only-of-type {\n",
              "        vertical-align: middle;\n",
              "    }\n",
              "\n",
              "    .dataframe tbody tr th {\n",
              "        vertical-align: top;\n",
              "    }\n",
              "\n",
              "    .dataframe thead th {\n",
              "        text-align: right;\n",
              "    }\n",
              "</style>\n",
              "<table border=\"1\" class=\"dataframe\">\n",
              "  <thead>\n",
              "    <tr style=\"text-align: right;\">\n",
              "      <th></th>\n",
              "      <th>꽃잎길이</th>\n",
              "      <th>꽃잎폭</th>\n",
              "      <th>꽃받침길이</th>\n",
              "      <th>꽃받침폭</th>\n",
              "      <th>품종_setosa</th>\n",
              "      <th>품종_versicolor</th>\n",
              "      <th>품종_virginica</th>\n",
              "    </tr>\n",
              "  </thead>\n",
              "  <tbody>\n",
              "    <tr>\n",
              "      <th>0</th>\n",
              "      <td>5.1</td>\n",
              "      <td>3.5</td>\n",
              "      <td>1.4</td>\n",
              "      <td>0.2</td>\n",
              "      <td>1</td>\n",
              "      <td>0</td>\n",
              "      <td>0</td>\n",
              "    </tr>\n",
              "    <tr>\n",
              "      <th>1</th>\n",
              "      <td>4.9</td>\n",
              "      <td>3.0</td>\n",
              "      <td>1.4</td>\n",
              "      <td>0.2</td>\n",
              "      <td>1</td>\n",
              "      <td>0</td>\n",
              "      <td>0</td>\n",
              "    </tr>\n",
              "    <tr>\n",
              "      <th>2</th>\n",
              "      <td>4.7</td>\n",
              "      <td>3.2</td>\n",
              "      <td>1.3</td>\n",
              "      <td>0.2</td>\n",
              "      <td>1</td>\n",
              "      <td>0</td>\n",
              "      <td>0</td>\n",
              "    </tr>\n",
              "    <tr>\n",
              "      <th>3</th>\n",
              "      <td>4.6</td>\n",
              "      <td>3.1</td>\n",
              "      <td>1.5</td>\n",
              "      <td>0.2</td>\n",
              "      <td>1</td>\n",
              "      <td>0</td>\n",
              "      <td>0</td>\n",
              "    </tr>\n",
              "    <tr>\n",
              "      <th>4</th>\n",
              "      <td>5.0</td>\n",
              "      <td>3.6</td>\n",
              "      <td>1.4</td>\n",
              "      <td>0.2</td>\n",
              "      <td>1</td>\n",
              "      <td>0</td>\n",
              "      <td>0</td>\n",
              "    </tr>\n",
              "  </tbody>\n",
              "</table>\n",
              "</div>"
            ],
            "text/plain": [
              "   꽃잎길이  꽃잎폭  꽃받침길이  꽃받침폭  품종_setosa  품종_versicolor  품종_virginica\n",
              "0   5.1  3.5    1.4   0.2          1              0             0\n",
              "1   4.9  3.0    1.4   0.2          1              0             0\n",
              "2   4.7  3.2    1.3   0.2          1              0             0\n",
              "3   4.6  3.1    1.5   0.2          1              0             0\n",
              "4   5.0  3.6    1.4   0.2          1              0             0"
            ]
          },
          "metadata": {
            "tags": []
          },
          "execution_count": 69
        }
      ]
    },
    {
      "cell_type": "code",
      "metadata": {
        "id": "ePFGNBbLLUTf",
        "colab_type": "code",
        "colab": {
          "base_uri": "https://localhost:8080/",
          "height": 35
        },
        "outputId": "c2bc0c15-70e7-45db-e2e5-dec9974e2bb0"
      },
      "source": [
        "#종속변수, 독립변수 나눠주가\n",
        "\n",
        "독립 = 아이리스[['꽃잎길이', '꽃잎폭', '꽃받침길이', '꽃받침폭']]\n",
        "종속 = 아이리스[['품종_setosa', '품종_versicolor','품종_virginica']]\n",
        "\n",
        "print(독립.shape,종속.shape)"
      ],
      "execution_count": 70,
      "outputs": [
        {
          "output_type": "stream",
          "text": [
            "(150, 4) (150, 3)\n"
          ],
          "name": "stdout"
        }
      ]
    },
    {
      "cell_type": "code",
      "metadata": {
        "id": "e94i6E18LvF0",
        "colab_type": "code",
        "colab": {}
      },
      "source": [
        "#hidden layer를 포함한 모델 구조 설계\n",
        "#output에 꼭!! softmax적용시켜줘야함.\n",
        "\n",
        "x = tf.keras.layers.Input(shape = 4)\n",
        "h = tf.keras.layers.Dense(8,activation='swish')(x)\n",
        "h = tf.keras.layers.Dense(8,activation='swish')(h)\n",
        "h = tf.keras.layers.Dense(8,activation='swish')(h)\n",
        "y = tf.keras.layers.Dense(3,activation='softmax')(h)\n",
        "\n",
        "model = tf.keras.models.Model(x,y)\n",
        "#종속변수가 범주형이기 때문에 loss를 msc가 아닌 entropy 써주고, 정확도를 보기위해 accuracy를 설정해준다.\n",
        "model.compile(loss='categorical_crossentropy',metrics='accuracy')\n"
      ],
      "execution_count": 71,
      "outputs": []
    },
    {
      "cell_type": "code",
      "metadata": {
        "id": "pX4qjUGOWj1_",
        "colab_type": "code",
        "colab": {}
      },
      "source": [
        "#hidden layer를 포함한 모델 구조 설계\n",
        "#output에 꼭!! softmax적용시켜줘야함.\n",
        "\n",
        "x = tf.keras.layers.Input(shape = 4)\n",
        "\n",
        "h = tf.keras.layers.Dense(8)(x)\n",
        "h = tf.keras.layers.BatchNormalization()(h)\n",
        "h = tf.keras.layers.Activation('swish')(h)\n",
        "\n",
        "h = tf.keras.layers.Dense(8)(h)\n",
        "h = tf.keras.layers.BatchNormalization()(h)\n",
        "h = tf.keras.layers.Activation('swish')(h)\n",
        "\n",
        "h = tf.keras.layers.Dense(8)(h)\n",
        "h = tf.keras.layers.BatchNormalization()(h)\n",
        "h = tf.keras.layers.Activation('swish')(h)\n",
        "\n",
        "\n",
        "y = tf.keras.layers.Dense(3,activation='softmax')(h)\n",
        "\n",
        "model = tf.keras.models.Model(x,y)\n",
        "#종속변수가 범주형이기 때문에 loss를 msc가 아닌 entropy 써주고, 정확도를 보기위해 accuracy를 설정해준다.\n",
        "model.compile(loss='categorical_crossentropy',metrics='accuracy')\n"
      ],
      "execution_count": 72,
      "outputs": []
    },
    {
      "cell_type": "code",
      "metadata": {
        "id": "8W6LElJlNcne",
        "colab_type": "code",
        "colab": {
          "base_uri": "https://localhost:8080/",
          "height": 557
        },
        "outputId": "815cf112-85b6-4e73-acae-6b9d40214057"
      },
      "source": [
        "model.summary()"
      ],
      "execution_count": 73,
      "outputs": [
        {
          "output_type": "stream",
          "text": [
            "Model: \"functional_19\"\n",
            "_________________________________________________________________\n",
            "Layer (type)                 Output Shape              Param #   \n",
            "=================================================================\n",
            "input_12 (InputLayer)        [(None, 4)]               0         \n",
            "_________________________________________________________________\n",
            "dense_34 (Dense)             (None, 8)                 40        \n",
            "_________________________________________________________________\n",
            "batch_normalization_9 (Batch (None, 8)                 32        \n",
            "_________________________________________________________________\n",
            "activation_9 (Activation)    (None, 8)                 0         \n",
            "_________________________________________________________________\n",
            "dense_35 (Dense)             (None, 8)                 72        \n",
            "_________________________________________________________________\n",
            "batch_normalization_10 (Batc (None, 8)                 32        \n",
            "_________________________________________________________________\n",
            "activation_10 (Activation)   (None, 8)                 0         \n",
            "_________________________________________________________________\n",
            "dense_36 (Dense)             (None, 8)                 72        \n",
            "_________________________________________________________________\n",
            "batch_normalization_11 (Batc (None, 8)                 32        \n",
            "_________________________________________________________________\n",
            "activation_11 (Activation)   (None, 8)                 0         \n",
            "_________________________________________________________________\n",
            "dense_37 (Dense)             (None, 3)                 27        \n",
            "=================================================================\n",
            "Total params: 307\n",
            "Trainable params: 259\n",
            "Non-trainable params: 48\n",
            "_________________________________________________________________\n"
          ],
          "name": "stdout"
        }
      ]
    },
    {
      "cell_type": "code",
      "metadata": {
        "id": "ArC5ZcDoNGUC",
        "colab_type": "code",
        "colab": {
          "base_uri": "https://localhost:8080/",
          "height": 395
        },
        "outputId": "81359ff6-6831-4449-f0e0-9a4d2f96985b"
      },
      "source": [
        "#모델을 학습시킨다.\n",
        "\n",
        "model.fit(독립,종속,epochs=1000,verbose = 0)\n",
        "model.fit(독립,종속,epochs=10)\n"
      ],
      "execution_count": 74,
      "outputs": [
        {
          "output_type": "stream",
          "text": [
            "Epoch 1/10\n",
            "5/5 [==============================] - 0s 2ms/step - loss: 0.0535 - accuracy: 0.9733\n",
            "Epoch 2/10\n",
            "5/5 [==============================] - 0s 2ms/step - loss: 0.0345 - accuracy: 0.9800\n",
            "Epoch 3/10\n",
            "5/5 [==============================] - 0s 2ms/step - loss: 0.0537 - accuracy: 0.9800\n",
            "Epoch 4/10\n",
            "5/5 [==============================] - 0s 2ms/step - loss: 0.0322 - accuracy: 0.9867\n",
            "Epoch 5/10\n",
            "5/5 [==============================] - 0s 2ms/step - loss: 0.0388 - accuracy: 0.9867\n",
            "Epoch 6/10\n",
            "5/5 [==============================] - 0s 2ms/step - loss: 0.0287 - accuracy: 0.9933\n",
            "Epoch 7/10\n",
            "5/5 [==============================] - 0s 2ms/step - loss: 0.1095 - accuracy: 0.9533\n",
            "Epoch 8/10\n",
            "5/5 [==============================] - 0s 2ms/step - loss: 0.0660 - accuracy: 0.9667\n",
            "Epoch 9/10\n",
            "5/5 [==============================] - 0s 2ms/step - loss: 0.0288 - accuracy: 0.9933\n",
            "Epoch 10/10\n",
            "5/5 [==============================] - 0s 2ms/step - loss: 0.0785 - accuracy: 0.9733\n"
          ],
          "name": "stdout"
        },
        {
          "output_type": "execute_result",
          "data": {
            "text/plain": [
              "<tensorflow.python.keras.callbacks.History at 0x7faa39687ac8>"
            ]
          },
          "metadata": {
            "tags": []
          },
          "execution_count": 74
        }
      ]
    },
    {
      "cell_type": "code",
      "metadata": {
        "id": "IraFhPZoNTlz",
        "colab_type": "code",
        "colab": {
          "base_uri": "https://localhost:8080/",
          "height": 253
        },
        "outputId": "828c1522-f451-41f2-8ccb-2c14bd14277c"
      },
      "source": [
        "#모델을 이용해 학습잘 되었나 확인하기\n",
        "\n",
        "print(종속[:5])#나와야 하는 결과\n",
        "model.predict(독립[:5])\n"
      ],
      "execution_count": 75,
      "outputs": [
        {
          "output_type": "stream",
          "text": [
            "   품종_setosa  품종_versicolor  품종_virginica\n",
            "0          1              0             0\n",
            "1          1              0             0\n",
            "2          1              0             0\n",
            "3          1              0             0\n",
            "4          1              0             0\n",
            "WARNING:tensorflow:5 out of the last 11 calls to <function Model.make_predict_function.<locals>.predict_function at 0x7faa3968cd90> triggered tf.function retracing. Tracing is expensive and the excessive number of tracings could be due to (1) creating @tf.function repeatedly in a loop, (2) passing tensors with different shapes, (3) passing Python objects instead of tensors. For (1), please define your @tf.function outside of the loop. For (2), @tf.function has experimental_relax_shapes=True option that relaxes argument shapes that can avoid unnecessary retracing. For (3), please refer to https://www.tensorflow.org/tutorials/customization/performance#python_or_tensor_args and https://www.tensorflow.org/api_docs/python/tf/function for  more details.\n"
          ],
          "name": "stdout"
        },
        {
          "output_type": "execute_result",
          "data": {
            "text/plain": [
              "array([[9.9998689e-01, 1.2708630e-05, 3.3395079e-07],\n",
              "       [9.9964309e-01, 3.5655900e-04, 3.5542450e-07],\n",
              "       [9.9997103e-01, 2.8601436e-05, 3.2873021e-07],\n",
              "       [9.9990559e-01, 9.4087169e-05, 4.0902529e-07],\n",
              "       [9.9999690e-01, 2.4966241e-06, 6.2382696e-07]], dtype=float32)"
            ]
          },
          "metadata": {
            "tags": []
          },
          "execution_count": 75
        }
      ]
    },
    {
      "cell_type": "code",
      "metadata": {
        "id": "qZX-6TmjN7Ay",
        "colab_type": "code",
        "colab": {}
      },
      "source": [
        ""
      ],
      "execution_count": 47,
      "outputs": []
    }
  ]
}