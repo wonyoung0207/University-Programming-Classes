{
  "nbformat": 4,
  "nbformat_minor": 0,
  "metadata": {
    "colab": {
      "name": "Untitled4.ipynb",
      "provenance": []
    },
    "kernelspec": {
      "name": "python3",
      "display_name": "Python 3"
    }
  },
  "cells": [
    {
      "cell_type": "code",
      "metadata": {
        "id": "58OytJ3NsbFY",
        "colab_type": "code",
        "colab": {}
      },
      "source": [
        "#라이브러리 사용\n",
        "import pandas as pd\n",
        "import tensorflow as tf"
      ],
      "execution_count": 2,
      "outputs": []
    },
    {
      "cell_type": "code",
      "metadata": {
        "id": "aqjFOnV4sijt",
        "colab_type": "code",
        "colab": {
          "base_uri": "https://localhost:8080/",
          "height": 161
        },
        "outputId": "8ac69b0b-7847-4611-d16c-e09509c56011"
      },
      "source": [
        "#데이터 준비\n",
        "\n",
        "파일경로 = 'https://raw.githubusercontent.com/blackdew/tensorflow1/master/csv/lemonade.csv'\n",
        "데이터 = pd.read_csv(파일경로)\n",
        "print(데이터.shape)\n",
        "print(데이터.head)\n"
      ],
      "execution_count": 6,
      "outputs": [
        {
          "output_type": "stream",
          "text": [
            "(6, 2)\n",
            "<bound method NDFrame.head of    온도  판매량\n",
            "0  20   40\n",
            "1  21   42\n",
            "2  22   44\n",
            "3  23   46\n",
            "4  24   48\n",
            "5  25   50>\n"
          ],
          "name": "stdout"
        }
      ]
    },
    {
      "cell_type": "code",
      "metadata": {
        "id": "-EY9PmansyoE",
        "colab_type": "code",
        "colab": {
          "base_uri": "https://localhost:8080/",
          "height": 71
        },
        "outputId": "dbfabb35-68b9-4856-e0f9-de8ec9d8b707"
      },
      "source": [
        "#종속변수, 독립변수 나누기\n",
        "print(데이터.columns)\n",
        "\n",
        "독립 = 데이터[['온도']]\n",
        "print('독립 = ',독립.shape)\n",
        "\n",
        "종속 = 데이터[['판매량']]\n",
        "print('종속 = ',종속.shape)\n",
        "\n"
      ],
      "execution_count": 14,
      "outputs": [
        {
          "output_type": "stream",
          "text": [
            "Index(['온도', '판매량'], dtype='object')\n",
            "독립 =  (6, 1)\n",
            "종속 =  (6, 1)\n"
          ],
          "name": "stdout"
        }
      ]
    },
    {
      "cell_type": "code",
      "metadata": {
        "id": "L13uTdkXtyr3",
        "colab_type": "code",
        "colab": {}
      },
      "source": [
        "#모델 만들기\n",
        "\n",
        "#input값\n",
        "X = tf.keras.layers.Input(shape=[1])#독립변수 -> 온도\n",
        "\n",
        "#output값\n",
        "Y = tf.keras.layers.Dense(1)(X)#종속변수 -> 판매량\n",
        "model = tf.keras.models.Model(X,Y)\n",
        "model.compile(loss='mse')\n",
        "\n"
      ],
      "execution_count": 29,
      "outputs": []
    },
    {
      "cell_type": "code",
      "metadata": {
        "id": "k9qxbCujvLqg",
        "colab_type": "code",
        "colab": {
          "base_uri": "https://localhost:8080/",
          "height": 395
        },
        "outputId": "425c94da-321d-4285-9f63-1a1ae677b967"
      },
      "source": [
        "#모델을 학습시킨다.\n",
        "#loss => (예측-결과)^2 의 값으로, 예측이 결과와 맞는다면 0에 가까워진다.\n",
        "\n",
        "#모델을 학습시킬때 학습되는 loss들을 출력하지 않는다.\n",
        "model.fit(독립,종속,epochs=1000,verbose=0)\n",
        "\n",
        "#1000개 학습 후 loss보기 위해 10번더 학습시킨다. -> loss가 0에 가까울수록 학습이 잘된것.\n",
        "model.fit(독립,종속,epochs = 10)"
      ],
      "execution_count": 33,
      "outputs": [
        {
          "output_type": "stream",
          "text": [
            "Epoch 1/10\n",
            "1/1 [==============================] - 0s 1ms/step - loss: 4.6955e-04\n",
            "Epoch 2/10\n",
            "1/1 [==============================] - 0s 2ms/step - loss: 4.6933e-04\n",
            "Epoch 3/10\n",
            "1/1 [==============================] - 0s 1ms/step - loss: 4.6921e-04\n",
            "Epoch 4/10\n",
            "1/1 [==============================] - 0s 1ms/step - loss: 4.6896e-04\n",
            "Epoch 5/10\n",
            "1/1 [==============================] - 0s 1ms/step - loss: 4.6876e-04\n",
            "Epoch 6/10\n",
            "1/1 [==============================] - 0s 1ms/step - loss: 4.6848e-04\n",
            "Epoch 7/10\n",
            "1/1 [==============================] - 0s 1ms/step - loss: 4.6814e-04\n",
            "Epoch 8/10\n",
            "1/1 [==============================] - 0s 1ms/step - loss: 4.6777e-04\n",
            "Epoch 9/10\n",
            "1/1 [==============================] - 0s 1ms/step - loss: 4.6748e-04\n",
            "Epoch 10/10\n",
            "1/1 [==============================] - 0s 1ms/step - loss: 4.6710e-04\n"
          ],
          "name": "stdout"
        },
        {
          "output_type": "execute_result",
          "data": {
            "text/plain": [
              "<tensorflow.python.keras.callbacks.History at 0x7f8bfa5f5780>"
            ]
          },
          "metadata": {
            "tags": []
          },
          "execution_count": 33
        }
      ]
    },
    {
      "cell_type": "code",
      "metadata": {
        "id": "YumtZ3yVwghA",
        "colab_type": "code",
        "colab": {
          "base_uri": "https://localhost:8080/",
          "height": 143
        },
        "outputId": "0c050428-5655-4fd3-a8ea-60cd0680bf78"
      },
      "source": [
        "#모델을 이용한다.\n",
        "\n",
        "#독립의 값을 이용해 결과를 추측한다.\n",
        "print(model.predict(독립))\n",
        "\n",
        "#만약 임의로 독립의 값이 15일 경우의 결과가 나온다.\n",
        "print('15일경우의 결과값 = ',model.predict([[15]]))"
      ],
      "execution_count": 38,
      "outputs": [
        {
          "output_type": "stream",
          "text": [
            "[[40.038258]\n",
            " [42.028175]\n",
            " [44.018097]\n",
            " [46.00802 ]\n",
            " [47.99794 ]\n",
            " [49.98786 ]]\n",
            "15일경우의 결과값 =  [[30.08865]]\n"
          ],
          "name": "stdout"
        }
      ]
    }
  ]
}